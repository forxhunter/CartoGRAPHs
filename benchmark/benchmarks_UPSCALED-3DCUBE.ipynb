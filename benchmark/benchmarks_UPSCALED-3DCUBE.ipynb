{
 "cells": [
  {
   "cell_type": "markdown",
   "metadata": {},
   "source": [
    "# ===========================\n",
    "# Benchmarking - U P S C A L I N G - 3D CUBE \n",
    "# ==========================="
   ]
  },
  {
   "cell_type": "code",
   "execution_count": 1,
   "metadata": {},
   "outputs": [],
   "source": [
    "from benchmark_main import *"
   ]
  },
  {
   "cell_type": "markdown",
   "metadata": {},
   "source": [
    "_________\n",
    "# 3D - Cube Grid\n",
    "_________"
   ]
  },
  {
   "cell_type": "markdown",
   "metadata": {},
   "source": [
    "# FILE INPUT\n",
    "+ precalculated network distances "
   ]
  },
  {
   "cell_type": "code",
   "execution_count": 2,
   "metadata": {},
   "outputs": [
    {
     "name": "stdout",
     "output_type": "stream",
     "text": [
      "100 done\n",
      "500 done\n",
      "1000 done\n",
      "5000 done\n",
      "10k done\n",
      "20k done\n"
     ]
    }
   ],
   "source": [
    "organism = 'cube' \n",
    "feature = 'nx_fa_ig'\n",
    "\n",
    "b_file100 = open('netdist_precalc/dist_network_125_cube.pkl', \"rb\")\n",
    "dist_network100 = pickle.load(b_file100)\n",
    "print('100 done')\n",
    "\n",
    "b_file500 = open('netdist_precalc/dist_network_512_cube.pkl', \"rb\")\n",
    "dist_network500 = pickle.load(b_file500)\n",
    "print('500 done')\n",
    "\n",
    "b_file1k = open('netdist_precalc/dist_network_1000_cube.pkl', \"rb\")\n",
    "dist_network1k = pickle.load(b_file1k)\n",
    "print('1000 done')\n",
    "\n",
    "b_file5k = open('netdist_precalc/dist_network_5832_cube.pkl', \"rb\")\n",
    "dist_network5k = pickle.load(b_file5k)\n",
    "print('5000 done')\n",
    "\n",
    "#10k\n",
    "\n",
    "print('10k done')\n",
    "\n",
    "    \n",
    "b_file1_20k = open('netdist_precalc/dist_network_21952_cube_part1.pkl', \"rb\")\n",
    "part1_20k = pickle.load(b_file1_20k)\n",
    "\n",
    "b_file2_20k = open('netdist_precalc/dist_network_21952_cube_part2.pkl', \"rb\")\n",
    "part2_20k = pickle.load(b_file2_20k)\n",
    "\n",
    "b_file3_20k = open('netdist_precalc/dist_network_21952_cube_part3.pkl', \"rb\")\n",
    "part3_20k = pickle.load(b_file3_20k)\n",
    "\n",
    "b_file4_20k = open('netdist_precalc/dist_network_21952_cube_part4.pkl', \"rb\")\n",
    "part4_20k = pickle.load(b_file4_20k)\n",
    "\n",
    "dist_network20k = {\n",
    "    **part1_20k,\n",
    "    **part2_20k,\n",
    "    **part3_20k,\n",
    "    **part4_20k\n",
    "}\n",
    "print('20k done')"
   ]
  },
  {
   "cell_type": "markdown",
   "metadata": {},
   "source": [
    "# GLOBAL LAYOUT "
   ]
  },
  {
   "cell_type": "code",
   "execution_count": 24,
   "metadata": {
    "jupyter": {
     "source_hidden": true
    }
   },
   "outputs": [],
   "source": [
    "# 3D CUBE \n",
    "organism = 'cubegrid'\n",
    "\n",
    "feature = 'RWRvis'\n",
    "r = .9\n",
    "alpha = 1.0\n",
    "\n",
    "# parameters (post - testing)\n",
    "n_neighbors = 17 #8\n",
    "spread = 1 #1\n",
    "min_dist = 0.0 #0.0\n",
    "metric = 'cosine'\n",
    "lnr = 1\n",
    "nep = None"
   ]
  },
  {
   "cell_type": "code",
   "execution_count": 14,
   "metadata": {
    "collapsed": true,
    "jupyter": {
     "outputs_hidden": true,
     "source_hidden": true
    }
   },
   "outputs": [
    {
     "name": "stdout",
     "output_type": "stream",
     "text": [
      "RWR\n",
      "Execution Time: 00:00:01\n",
      "done layout distances prep\n",
      "calculate pearson correlation coefficient\n",
      "RWR corr coef:  0.9866953563945124\n"
     ]
    }
   ],
   "source": [
    "#########\n",
    "# 1 0 0 \n",
    "#########\n",
    "\n",
    "G = nx.grid_graph([5,5,5],periodic=False)\n",
    "\n",
    "print('RWR')\n",
    "start = time.time()\n",
    "posG_global = globallayout_3D(G,n_neighbors, spread, min_dist, metric)\n",
    "end = time.time()\n",
    "m,s = exec_time(start,end)\n",
    "\n",
    "pairs=list(dist_network100.keys())\n",
    "dist_global = pairwise_layout_distance_linalg(pairs,posG_global)\n",
    "\n",
    "r_global = pearson_corrcoef(dist_network100, dist_global)\n",
    "print('RWR corr coef: ',r_global)"
   ]
  },
  {
   "cell_type": "code",
   "execution_count": 15,
   "metadata": {
    "collapsed": true,
    "jupyter": {
     "outputs_hidden": true,
     "source_hidden": true
    }
   },
   "outputs": [
    {
     "name": "stdout",
     "output_type": "stream",
     "text": [
      "RWR\n",
      "Execution Time: 00:00:02\n",
      "done layout distances prep\n",
      "calculate pearson correlation coefficient\n",
      "RWR corr coef:  0.9975834865840914\n"
     ]
    }
   ],
   "source": [
    "#########\n",
    "# 5 0 0 \n",
    "#########\n",
    "\n",
    "G = nx.grid_graph([8,8,8],periodic=False)\n",
    "\n",
    "print('RWR')\n",
    "start = time.time()\n",
    "posG_global = globallayout_3D(G,n_neighbors, spread, min_dist, metric)\n",
    "end = time.time()\n",
    "m,s = exec_time(start,end)\n",
    "\n",
    "pairs=list(dist_network500.keys())\n",
    "dist_global = pairwise_layout_distance_linalg(pairs,posG_global)\n",
    "\n",
    "r_global = pearson_corrcoef(dist_network500, dist_global)\n",
    "print('RWR corr coef: ',r_global)"
   ]
  },
  {
   "cell_type": "code",
   "execution_count": 16,
   "metadata": {
    "collapsed": true,
    "jupyter": {
     "outputs_hidden": true,
     "source_hidden": true
    }
   },
   "outputs": [
    {
     "name": "stdout",
     "output_type": "stream",
     "text": [
      "RWR\n",
      "Execution Time: 00:00:12\n",
      "done layout distances prep\n",
      "calculate pearson correlation coefficient\n",
      "RWR corr coef:  0.9948800953317772\n"
     ]
    }
   ],
   "source": [
    "#########\n",
    "# 1 0 0 0 \n",
    "#########\n",
    "\n",
    "G = nx.grid_graph([10,10,10],periodic=False)\n",
    "\n",
    "print('RWR')\n",
    "start = time.time()\n",
    "posG_global = globallayout_3D(G,n_neighbors, spread, min_dist, metric)\n",
    "end = time.time()\n",
    "m,s = exec_time(start,end)\n",
    "\n",
    "pairs=list(dist_network1k.keys())\n",
    "dist_global = pairwise_layout_distance_linalg(pairs,posG_global)\n",
    "\n",
    "r_global = pearson_corrcoef(dist_network1k, dist_global)\n",
    "print('RWR corr coef: ',r_global)"
   ]
  },
  {
   "cell_type": "code",
   "execution_count": null,
   "metadata": {
    "jupyter": {
     "source_hidden": true
    }
   },
   "outputs": [],
   "source": [
    "#########\n",
    "# 5 0 0 0 \n",
    "#########\n",
    "\n",
    "G = nx.grid_graph([18,18,18],periodic=False)\n",
    "\n",
    "print('RWR')\n",
    "start = time.time()\n",
    "posG_global = globallayout_3D(G,n_neighbors, spread, min_dist, metric)\n",
    "end = time.time()\n",
    "m,s = exec_time(start,end)\n",
    "\n",
    "pairs=list(dist_network5k.keys())\n",
    "dist_global = pairwise_layout_distance_linalg(pairs,posG_global)\n",
    "\n",
    "r_global = pearson_corrcoef(dist_network5k, dist_global)\n",
    "print('RWR corr coef: ',r_global)"
   ]
  },
  {
   "cell_type": "code",
   "execution_count": 25,
   "metadata": {
    "collapsed": true,
    "jupyter": {
     "outputs_hidden": true,
     "source_hidden": true
    }
   },
   "outputs": [
    {
     "name": "stdout",
     "output_type": "stream",
     "text": [
      "RWR\n",
      "Execution Time: 00:06:41\n",
      "2572246\n",
      "1k done\n",
      "10k done\n",
      "50k done\n",
      "100k done\n",
      "500k done\n",
      "1mio done\n",
      "2mio done\n",
      "complete\n",
      "done layout distances prep\n",
      "calculate pearson correlation coefficient\n",
      "RWR corr coef:  0.9820154516597951\n"
     ]
    }
   ],
   "source": [
    "#########\n",
    "# 1 0 0 0 0 \n",
    "#########\n",
    "\n",
    "G = nx.grid_graph([22,22,22],periodic=False)\n",
    "\n",
    "print('RWR')\n",
    "start = time.time()\n",
    "posG_global = globallayout_3D(G,n_neighbors, spread, min_dist, metric)\n",
    "end = time.time()\n",
    "m,s = exec_time(start,end)\n",
    "\n",
    "pairs=list(dist_network10k.keys())\n",
    "dist_global = pairwise_layout_distance_linalg(pairs,posG_global)\n",
    "\n",
    "r_global = pearson_corrcoef(dist_network10k, dist_global)\n",
    "print('RWR corr coef: ',r_global)\n",
    "\n",
    "#0.982 (nn=22,sp=1,min=0)"
   ]
  },
  {
   "cell_type": "code",
   "execution_count": null,
   "metadata": {
    "jupyter": {
     "source_hidden": true
    }
   },
   "outputs": [],
   "source": [
    "#########\n",
    "# 2 0 0 0 0 \n",
    "#########\n",
    "\n",
    "G = nx.grid_graph([28,28,28],periodic=False)\n",
    "\n",
    "print('RWR')\n",
    "start = time.time()\n",
    "posG_global = globallayout_3D(G,n_neighbors, spread, min_dist, metric)\n",
    "end = time.time()\n",
    "m,s = exec_time(start,end)\n",
    "\n",
    "pairs=list(dist_network20k.keys())\n",
    "dist_global = pairwise_layout_distance_linalg(pairs,posG_global)\n",
    "\n",
    "r_global = pearson_corrcoef(dist_network20k, dist_global)\n",
    "print('RWR corr coef: ',r_global)"
   ]
  },
  {
   "cell_type": "code",
   "execution_count": 6,
   "metadata": {},
   "outputs": [],
   "source": [
    "# pearson correlation coefficient \n",
    "\n",
    "d_netsize_corr_global = {(5,5,5):0.991,\n",
    "                           (8,8,8):0.999,\n",
    "                           (10,10,10):0.994,\n",
    "                           (18,18,18):0.996,\n",
    "                            (22,22,22):0.982, \n",
    "                            (28,28,28):0.997\n",
    "                           }\n",
    "\n",
    "# time in seconds \n",
    "\n",
    "d_netsize_time = {\n",
    "                           (5,5,5):1,\n",
    "                           (8,8,8):3,\n",
    "                           (10,10,10):13,\n",
    "                           (18,18,18):57,\n",
    "                           (22,22,22):260, #6min 41s\n",
    "                           (28,28,28):991 #16min 30s\n",
    "                          }"
   ]
  },
  {
   "cell_type": "markdown",
   "metadata": {},
   "source": [
    "# FORCE-DIRECTED | NETWORKX\n",
    "+ using the spring-layout"
   ]
  },
  {
   "cell_type": "code",
   "execution_count": 27,
   "metadata": {
    "collapsed": true,
    "jupyter": {
     "outputs_hidden": true,
     "source_hidden": true
    }
   },
   "outputs": [
    {
     "name": "stdout",
     "output_type": "stream",
     "text": [
      "SPRING\n",
      "Execution Time: 00:00:02\n",
      "7750\n",
      "1k done\n",
      "complete\n",
      "done layout distances prep\n",
      "calculate pearson correlation coefficient\n",
      "SPRING corr coef:  0.9963234590739624\n"
     ]
    }
   ],
   "source": [
    "#########\n",
    "# 1 0 0 \n",
    "#########\n",
    "\n",
    "G = nx.grid_graph([5,5,5],periodic=False)\n",
    "\n",
    "print('SPRING')\n",
    "start = time.time()\n",
    "posG_spring = springlayout_3D(G,itr=2400)\n",
    "end = time.time()\n",
    "m,s = exec_time(start,end)\n",
    "\n",
    "pairs=list(dist_network100.keys())\n",
    "dist_spring = pairwise_layout_distance_linalg(pairs,posG_spring)\n",
    "\n",
    "r_spring = pearson_corrcoef(dist_network100, dist_spring)\n",
    "print('SPRING corr coef: ',r_spring)"
   ]
  },
  {
   "cell_type": "code",
   "execution_count": 30,
   "metadata": {
    "collapsed": true,
    "jupyter": {
     "outputs_hidden": true,
     "source_hidden": true
    }
   },
   "outputs": [
    {
     "name": "stdout",
     "output_type": "stream",
     "text": [
      "SPRING\n",
      "Execution Time: 00:00:03\n",
      "130816\n",
      "1k done\n",
      "10k done\n",
      "50k done\n",
      "100k done\n",
      "complete\n",
      "done layout distances prep\n",
      "calculate pearson correlation coefficient\n",
      "SPRING corr coef:  0.9907381176560325\n"
     ]
    }
   ],
   "source": [
    "#########\n",
    "# 5 0 0 \n",
    "#########\n",
    "\n",
    "G = nx.grid_graph([8,8,8],periodic=False)\n",
    "\n",
    "print('SPRING')\n",
    "start = time.time()\n",
    "posG_spring = springlayout_3D(G,itr=75)\n",
    "end = time.time()\n",
    "m,s = exec_time(start,end)\n",
    "\n",
    "pairs=list(dist_network500.keys())\n",
    "dist_spring = pairwise_layout_distance_linalg(pairs,posG_spring)\n",
    "\n",
    "r_spring = pearson_corrcoef(dist_network500, dist_spring)\n",
    "print('SPRING corr coef: ',r_spring)"
   ]
  },
  {
   "cell_type": "code",
   "execution_count": 15,
   "metadata": {
    "collapsed": true,
    "jupyter": {
     "outputs_hidden": true,
     "source_hidden": true
    }
   },
   "outputs": [
    {
     "name": "stdout",
     "output_type": "stream",
     "text": [
      "RWR\n",
      "Execution Time: 00:00:13\n",
      "prep layout distance\n",
      "prep network distance\n",
      "prep corr. coeff. data\n",
      "calculate corr. coeff.\n",
      "RWR corr coef:  0.9938767421225443\n",
      "\n",
      "\n",
      "SPRING\n",
      "Execution Time: 00:00:13\n",
      "prep layout distance\n",
      "prep network distance\n",
      "prep corr. coeff. data\n",
      "calculate corr. coeff.\n",
      "SPRING corr coef:  0.9864659797520252\n"
     ]
    }
   ],
   "source": [
    "#########\n",
    "# 1 0 0 0 \n",
    "#########\n",
    "\n",
    "G = nx.grid_graph([10,10,10],periodic=False)\n",
    "\n",
    "print('SPRING')\n",
    "start = time.time()\n",
    "posG_spring = springlayout_3D(G,itr=125)\n",
    "end = time.time()\n",
    "m,s = exec_time(start,end)\n",
    "\n",
    "pairs=list(dist_network1k.keys())\n",
    "dist_spring = pairwise_layout_distance_linalg(pairs,posG_spring)\n",
    "\n",
    "r_spring = pearson_corrcoef(dist_network1k, dist_spring)\n",
    "print('SPRING corr coef: ',r_spring)"
   ]
  },
  {
   "cell_type": "code",
   "execution_count": 5,
   "metadata": {
    "collapsed": true,
    "jupyter": {
     "outputs_hidden": true,
     "source_hidden": true
    }
   },
   "outputs": [
    {
     "name": "stdout",
     "output_type": "stream",
     "text": [
      "Runtime spring for Corr. Coeff. 0.99\n",
      "Execution Time: 00:00:44\n",
      "prep layout distance\n",
      "prep network distance\n",
      "prep corr. coeff. data\n",
      "calculate corr. coeff.\n",
      "SPRING corr coef:  0.9939791128279677\n"
     ]
    }
   ],
   "source": [
    "print('Runtime spring for Corr. Coeff. 0.99')\n",
    "\n",
    "G = nx.grid_graph([10,10,10],periodic=False)\n",
    "\n",
    "start = time.time()\n",
    "posG_spring = springlayout_3D(G,itr=400)\n",
    "end = time.time()\n",
    "m,s = exec_time(start,end)\n",
    "\n",
    "pairs=list(dist_network1k.keys())\n",
    "dist_spring = pairwise_layout_distance_linalg(pairs,posG_spring)\n",
    "\n",
    "r_spring = pearson_corrcoef(dist_network1k, dist_spring)\n",
    "print('SPRING corr coef: ',r_spring)"
   ]
  },
  {
   "cell_type": "code",
   "execution_count": 16,
   "metadata": {
    "collapsed": true,
    "jupyter": {
     "outputs_hidden": true,
     "source_hidden": true
    }
   },
   "outputs": [
    {
     "name": "stdout",
     "output_type": "stream",
     "text": [
      "RWR\n",
      "Execution Time: 00:00:57\n",
      "prep layout distance\n",
      "prep network distance\n",
      "prep corr. coeff. data\n",
      "calculate corr. coeff.\n",
      "RWR corr coef:  0.994673861934273\n",
      "\n",
      "\n",
      "SPRING\n",
      "Execution Time: 00:00:49\n",
      "prep layout distance\n",
      "prep network distance\n",
      "prep corr. coeff. data\n",
      "calculate corr. coeff.\n",
      "SPRING corr coef:  0.5204283449194765\n"
     ]
    }
   ],
   "source": [
    "#########\n",
    "# 5 0 0 0 \n",
    "#########\n",
    "\n",
    "G = nx.grid_graph([18,18,18],periodic=False)\n",
    "\n",
    "print('SPRING')\n",
    "start = time.time()\n",
    "posG_spring = springlayout_3D(G,itr=30)\n",
    "end = time.time()\n",
    "m,s = exec_time(start,end)\n",
    "\n",
    "pairs=list(dist_network5k.keys())\n",
    "dist_spring = pairwise_layout_distance_linalg(pairs,posG_spring)\n",
    "\n",
    "r_spring = pearson_corrcoef(dist_network5k, dist_spring)\n",
    "print('SPRING corr coef: ',r_spring)"
   ]
  },
  {
   "cell_type": "code",
   "execution_count": 3,
   "metadata": {
    "collapsed": true,
    "jupyter": {
     "outputs_hidden": true,
     "source_hidden": true
    }
   },
   "outputs": [
    {
     "name": "stdout",
     "output_type": "stream",
     "text": [
      "Runtime spring for Corr. Coeff. 0.99\n",
      "Execution Time: 01:00:00\n",
      "SPRING corr coef:  0.9961185385037217\n"
     ]
    }
   ],
   "source": [
    "print('Runtime spring for Corr. Coeff. 0.99')\n",
    "\n",
    "G = nx.grid_graph([18,18,18],periodic=False)\n",
    "\n",
    "start = time.time()\n",
    "posG_spring = springlayout_3D(G,itr=2000)\n",
    "end = time.time()\n",
    "m,s = exec_time(start,end)\n",
    "\n",
    "pairs=list(dist_network5k.keys())\n",
    "dist_spring = pairwise_layout_distance_linalg(pairs,posG_spring)\n",
    "\n",
    "r_spring = pearson_corrcoef(dist_network5k, dist_spring)\n",
    "print('SPRING corr coef: ',r_spring)"
   ]
  },
  {
   "cell_type": "code",
   "execution_count": 31,
   "metadata": {
    "collapsed": true,
    "jupyter": {
     "outputs_hidden": true,
     "source_hidden": true
    }
   },
   "outputs": [
    {
     "name": "stdout",
     "output_type": "stream",
     "text": [
      "SPRING\n",
      "Execution Time: 00:02:02\n",
      "2572246\n",
      "1k done\n",
      "10k done\n",
      "50k done\n",
      "100k done\n",
      "500k done\n",
      "1mio done\n",
      "2mio done\n",
      "complete\n",
      "done layout distances prep\n",
      "calculate pearson correlation coefficient\n",
      "RWR corr coef:  0.7446373920023724\n"
     ]
    }
   ],
   "source": [
    "#########\n",
    "# 1 0 0 0 0 \n",
    "#########\n",
    "\n",
    "G = nx.grid_graph([22,22,22],periodic=False)\n",
    "\n",
    "print('SPRING')\n",
    "start = time.time()\n",
    "posG_spring = springlayout_3D(G,itr=20)\n",
    "end = time.time()\n",
    "m,s = exec_time(start,end)\n",
    "\n",
    "pairs=list(dist_network10k.keys())\n",
    "dist_spring = pairwise_layout_distance_linalg(pairs,posG_spring)\n",
    "\n",
    "r_spring = pearson_corrcoef(dist_network10k, dist_spring)\n",
    "print('RWR corr coef: ',r_spring)"
   ]
  },
  {
   "cell_type": "code",
   "execution_count": null,
   "metadata": {
    "collapsed": true,
    "jupyter": {
     "outputs_hidden": true,
     "source_hidden": true
    }
   },
   "outputs": [
    {
     "name": "stdout",
     "output_type": "stream",
     "text": [
      "Runtime spring for Corr. Coeff. 0.98\n"
     ]
    }
   ],
   "source": [
    "print('Runtime spring for Corr. Coeff. 0.98')\n",
    "\n",
    "G = nx.grid_graph([22,22,22],periodic=False)\n",
    "\n",
    "start = time.time()\n",
    "posG_spring = springlayout_3D(G,itr=50000)\n",
    "end = time.time()\n",
    "m,s = exec_time(start,end)\n",
    "\n",
    "pairs=list(dist_network10k.keys())\n",
    "dist_spring = pairwise_layout_distance_linalg(pairs,posG_spring)\n",
    "\n",
    "r_spring = pearson_corrcoef(dist_network10k, dist_spring)\n",
    "print('SPRING corr coef: ',r_spring)\n",
    "\n",
    "# iter 50k >"
   ]
  },
  {
   "cell_type": "code",
   "execution_count": 7,
   "metadata": {
    "collapsed": true,
    "jupyter": {
     "outputs_hidden": true,
     "source_hidden": true
    }
   },
   "outputs": [
    {
     "name": "stdout",
     "output_type": "stream",
     "text": [
      "spring\n",
      "Execution Time: 00:16:11\n",
      "spring done\n"
     ]
    }
   ],
   "source": [
    "#########\n",
    "# 2 0 0 0 0 \n",
    "#########\n",
    "\n",
    "G = nx.grid_graph([28,28,28],periodic=False)\n",
    "\n",
    "print('spring')\n",
    "start = time.time()\n",
    "posG_spring = springlayout_3D(G,itr=45)\n",
    "end = time.time()\n",
    "m,s = exec_time(start,end)\n",
    "print('spring done')\n",
    "\n",
    "pairs=list(dist_network20k.keys())\n",
    "dist_spring = pairwise_layout_distance_linalg(pairs,posG_spring)\n",
    "\n",
    "r_spring = pearson_corrcoef(dist_network20k, dist_spring)\n",
    "print('SPRING corr coef: ',r_spring)"
   ]
  },
  {
   "cell_type": "markdown",
   "metadata": {},
   "source": [
    "#### CORR COEF / NETSIZE - saved values for diagram\n",
    "+ for equal running time"
   ]
  },
  {
   "cell_type": "code",
   "execution_count": 2,
   "metadata": {},
   "outputs": [],
   "source": [
    "# pearson correlation coefficient at run time of: d_netsize_time\n",
    "\n",
    "d_netsize_corr_nx = {(5,5,5):0.996,\n",
    "                           (8,8,8):0.990,\n",
    "                           (10,10,10):0.975,\n",
    "                           (18,18,18):0.870,\n",
    "                           (22,22,22):0.751,\n",
    "                           (28,28,28):0.504\n",
    "                           }\n",
    "\n",
    "# run time at pearson corr. coef. of: d_netsize_corr_global\n",
    "\n",
    "d_netsize_time_nx = {          (5,5,5):2,\n",
    "                               (8,8,8):3,\n",
    "                               (10,10,10):44,\n",
    "                               (18,18,18):3600,\n",
    "                               (22,22,22):10000, # run again \n",
    "                               (28,28,28):43200 #12h cut off\n",
    "                               }"
   ]
  },
  {
   "cell_type": "markdown",
   "metadata": {},
   "source": [
    "# FORCE-DIRECTED | iGRAPH\n",
    "+ https://igraph.org/python/doc/tutorial/visualisation.html\n",
    "+ https://towardsdatascience.com/newbies-guide-to-python-igraph-4e51689c35b4\n",
    "+ https://igraph.org/c/doc/igraph-Layout.html#igraph_layout_fruchterman_reingold_3d\n",
    "+ using the fruchterman-reingold layout"
   ]
  },
  {
   "cell_type": "code",
   "execution_count": 3,
   "metadata": {},
   "outputs": [],
   "source": [
    "import igraph as ig"
   ]
  },
  {
   "cell_type": "code",
   "execution_count": 93,
   "metadata": {
    "collapsed": true,
    "jupyter": {
     "outputs_hidden": true,
     "source_hidden": true
    }
   },
   "outputs": [
    {
     "name": "stdout",
     "output_type": "stream",
     "text": [
      "Run for 1 seconds\n",
      "SPRING - graph-tools\n",
      "Execution Time: 00:00:01\n",
      "done layout distances prep\n",
      "calculate pearson correlation coefficient\n",
      "SPRING corr coef:  0.9994528495123299\n"
     ]
    }
   ],
   "source": [
    "print('Run for', d_netsize_time[(5,5,5)],'seconds')\n",
    "\n",
    "#########\n",
    "# 1 0 0 \n",
    "#########\n",
    "\n",
    "nxG = nx.grid_graph([5,5,5],periodic=False)\n",
    "iG = ig.Graph.from_networkx(nxG)\n",
    "\n",
    "print('SPRING - igraph')\n",
    "start = time.time()\n",
    "posG  = iG.layout_fruchterman_reingold_3d(niter= 20000)\n",
    "posG_spring = dict(zip(nxG.nodes(),posG))\n",
    "end = time.time()\n",
    "m,s = exec_time(start,end)\n",
    "\n",
    "pairs=list(dist_network100.keys())\n",
    "dist_spring = pairwise_layout_distance_linalg(pairs,posG_spring)\n",
    "\n",
    "r_spring = pearson_corrcoef(dist_network100, dist_spring)\n",
    "print('SPRING corr coef: ',r_spring)"
   ]
  },
  {
   "cell_type": "code",
   "execution_count": 11,
   "metadata": {
    "collapsed": true,
    "jupyter": {
     "outputs_hidden": true,
     "source_hidden": true
    }
   },
   "outputs": [
    {
     "name": "stdout",
     "output_type": "stream",
     "text": [
      "Run for 3 seconds\n",
      "SPRING - igraph\n",
      "Execution Time: 00:00:03\n",
      "done layout distances prep\n",
      "calculate pearson correlation coefficient\n",
      "SPRING corr coef:  0.9937013120885301\n"
     ]
    }
   ],
   "source": [
    "print('Run for', d_netsize_time[(8,8,8)],'seconds')\n",
    "\n",
    "#########\n",
    "# 5 0 0 \n",
    "#########\n",
    "\n",
    "nxG = nx.grid_graph([8,8,8],periodic=False)\n",
    "iG = ig.Graph.from_networkx(nxG)\n",
    "\n",
    "print('SPRING - igraph')\n",
    "start = time.time()\n",
    "posG  = iG.layout_fruchterman_reingold_3d(niter= 4500)\n",
    "posG_spring = dict(zip(nxG.nodes(),posG))\n",
    "end = time.time()\n",
    "m,s = exec_time(start,end)\n",
    "\n",
    "pairs=list(dist_network500.keys())\n",
    "dist_spring = pairwise_layout_distance_linalg(pairs,posG_spring)\n",
    "\n",
    "r_spring = pearson_corrcoef(dist_network500, dist_spring)\n",
    "print('SPRING corr coef: ',r_spring)"
   ]
  },
  {
   "cell_type": "code",
   "execution_count": 13,
   "metadata": {
    "collapsed": true,
    "jupyter": {
     "outputs_hidden": true,
     "source_hidden": true
    }
   },
   "outputs": [
    {
     "name": "stdout",
     "output_type": "stream",
     "text": [
      "Run for 13 seconds\n",
      "SPRING - igraph\n",
      "Execution Time: 00:00:12\n",
      "done layout distances prep\n",
      "calculate pearson correlation coefficient\n",
      "SPRING corr coef:  0.992747356542491\n"
     ]
    }
   ],
   "source": [
    "print('Run for', d_netsize_time[(10,10,10)],'seconds')\n",
    "\n",
    "#########\n",
    "# 1 0 0 0 \n",
    "#########\n",
    "\n",
    "nxG = nx.grid_graph([10,10,10],periodic=False)\n",
    "iG = ig.Graph.from_networkx(nxG)\n",
    "\n",
    "print('SPRING - igraph')\n",
    "start = time.time()\n",
    "posG  = iG.layout_fruchterman_reingold_3d(niter= 4000)\n",
    "posG_spring = dict(zip(nxG.nodes(),posG))\n",
    "end = time.time()\n",
    "m,s = exec_time(start,end)\n",
    "\n",
    "pairs=list(dist_network1k.keys())\n",
    "dist_spring = pairwise_layout_distance_linalg(pairs,posG_spring)\n",
    "\n",
    "r_spring = pearson_corrcoef(dist_network1k, dist_spring)\n",
    "print('SPRING corr coef: ',r_spring)"
   ]
  },
  {
   "cell_type": "code",
   "execution_count": 16,
   "metadata": {
    "collapsed": true,
    "jupyter": {
     "outputs_hidden": true,
     "source_hidden": true
    }
   },
   "outputs": [
    {
     "name": "stdout",
     "output_type": "stream",
     "text": [
      "done layout distances prep\n",
      "calculate pearson correlation coefficient\n",
      "SPRING corr coef:  0.9711302547574523\n"
     ]
    }
   ],
   "source": [
    "print('Run for', d_netsize_time[(18,18,18)],'seconds')\n",
    "\n",
    "#########\n",
    "# 5 0 0 0 \n",
    "#########\n",
    "\n",
    "nxG = nx.grid_graph([18,18,18],periodic=False)\n",
    "iG = ig.Graph.from_networkx(nxG)\n",
    "\n",
    "print('SPRING - igraph')\n",
    "start = time.time()\n",
    "posG  = iG.layout_fruchterman_reingold_3d(niter=405)\n",
    "posG_spring = dict(zip(nxG.nodes(),posG))\n",
    "end = time.time()\n",
    "m,s = exec_time(start,end)\n",
    "\n",
    "pairs=list(dist_network5k.keys())\n",
    "dist_spring = pairwise_layout_distance_linalg(pairs,posG_spring)\n",
    "\n",
    "r_spring = pearson_corrcoef(dist_network5k, dist_spring)\n",
    "print('SPRING corr coef: ',r_spring)"
   ]
  },
  {
   "cell_type": "code",
   "execution_count": 21,
   "metadata": {
    "collapsed": true,
    "jupyter": {
     "outputs_hidden": true,
     "source_hidden": true
    }
   },
   "outputs": [
    {
     "name": "stdout",
     "output_type": "stream",
     "text": [
      "Run for pearson corr.: 0.996\n",
      "SPRING - igraph\n",
      "Execution Time: 01:31:10\n",
      "17003196\n",
      "1k done\n",
      "10k done\n",
      "50k done\n",
      "100k done\n",
      "500k done\n",
      "1mio done\n",
      "5mio done\n",
      "10mio done\n",
      "15mio done\n",
      "complete\n",
      "done layout distances prep\n",
      "calculate pearson correlation coefficient\n",
      "SPRING corr coef:  0.9911154856732096\n"
     ]
    }
   ],
   "source": [
    "############################\n",
    "\n",
    "# CORRELATION FACTOR MATCH \n",
    "\n",
    "############################\n",
    "\n",
    "print('Run for pearson corr.:', d_netsize_corr_global[(18,18,18)])\n",
    "\n",
    "nxG = nx.grid_graph([18,18,18],periodic=False)\n",
    "iG = ig.Graph.from_networkx(nxG)\n",
    "\n",
    "print('SPRING - igraph')\n",
    "start = time.time()\n",
    "posG  = iG.layout_fruchterman_reingold_3d(niter=40000)\n",
    "posG_spring = dict(zip(nxG.nodes(),posG))\n",
    "end = time.time()\n",
    "m,s = exec_time(start,end)\n",
    "\n",
    "pairs=list(dist_network5k.keys())\n",
    "dist_spring = pairwise_layout_distance_linalg(pairs,posG_spring)\n",
    "\n",
    "r_spring = pearson_corrcoef(dist_network5k, dist_spring)\n",
    "print('SPRING corr coef: ',r_spring)"
   ]
  },
  {
   "cell_type": "code",
   "execution_count": null,
   "metadata": {},
   "outputs": [],
   "source": [
    "print('Run for', d_netsize_time[(22,22,22)],'seconds')\n",
    "\n",
    "#########\n",
    "# 1 0 0 0 0 \n",
    "#########\n",
    "\n",
    "nxG = nx.grid_graph([22,22,22],periodic=False)\n",
    "iG = ig.Graph.from_networkx(nxG)\n",
    "\n",
    "print('SPRING - igraph')\n",
    "start = time.time()\n",
    "posG  = iG.layout_fruchterman_reingold_3d(niter=50)\n",
    "posG_spring = dict(zip(list(nxG.nodes()),posG))\n",
    "end = time.time()\n",
    "m,s = exec_time(start,end)\n",
    "\n",
    "pairs=list(dist_network10k.keys())\n",
    "dist_spring = pairwise_layout_distance_linalg(pairs,posG_spring)\n",
    "\n",
    "r_spring = pearson_corrcoef(dist_network10k, dist_spring)\n",
    "print('SPRING corr coef: ',r_spring)"
   ]
  },
  {
   "cell_type": "code",
   "execution_count": null,
   "metadata": {},
   "outputs": [],
   "source": [
    "############################\n",
    "\n",
    "# CORRELATION FACTOR MATCH \n",
    "\n",
    "############################\n",
    "\n",
    "print('Run for pearson corr.:', d_netsize_corr_global[(22,22,22)])\n",
    "\n",
    "nxG = nx.grid_graph([22,22,22],periodic=False)\n",
    "iG = ig.Graph.from_networkx(nxG)\n",
    "\n",
    "print('SPRING - igraph')\n",
    "start = time.time()\n",
    "posG  = iG.layout_fruchterman_reingold_3d(niter= 3000)\n",
    "posG_spring = dict(zip(nxG.nodes(),posG))\n",
    "end = time.time()\n",
    "m,s = exec_time(start,end)\n",
    "\n",
    "pairs=list(dist_network10k.keys())\n",
    "dist_spring = pairwise_layout_distance_linalg(pairs,posG_spring)\n",
    "\n",
    "r_spring = pearson_corrcoef(dist_network10k, dist_spring)\n",
    "print('SPRING corr coef: ',r_spring)"
   ]
  },
  {
   "cell_type": "code",
   "execution_count": null,
   "metadata": {},
   "outputs": [],
   "source": [
    "print('Run for', d_netsize_time[(28,28,28)],'seconds')\n",
    "\n",
    "#########\n",
    "# 2 0 0 0 0 \n",
    "#########\n",
    "\n",
    "nxG = nx.grid_graph([28,28,28],periodic=False)\n",
    "iG = ig.Graph.from_networkx(nxG)\n",
    "\n",
    "print('SPRING - igraph')\n",
    "start = time.time()\n",
    "posG  = iG.layout_fruchterman_reingold_3d(niter=480)\n",
    "posG_spring = dict(zip(nxG.nodes(),posG))\n",
    "end = time.time()\n",
    "m,s = exec_time(start,end)\n",
    "\n",
    "pairs=list(dist_network20k.keys())\n",
    "dist_spring = pairwise_layout_distance_linalg(pairs,posG_spring)\n",
    "\n",
    "r_spring = pearson_corrcoef(dist_network20k, dist_spring)\n",
    "print('SPRING corr coef: ',r_spring)"
   ]
  },
  {
   "cell_type": "code",
   "execution_count": null,
   "metadata": {},
   "outputs": [],
   "source": [
    "# pearson correlation coefficient at run time of: d_netsize_time\n",
    "\n",
    "d_netsize_corr_ig = {       (5,5,5): 0.998,  \n",
    "                            (8,8,8): 0.996,\n",
    "                            (10,10,10): 0.997,\n",
    "                            (18,18,18): 0.971,\n",
    "                            (22,22,22): ,\n",
    "                            (28,28,28): ,\n",
    "                           }\n",
    "\n",
    "# run time at pearson corr. coef. of: d_netsize_corr_global\n",
    "\n",
    "d_netsize_time_ig = {          (5,5,5): 1,\n",
    "                               (8,8,8): 3,\n",
    "                               (10,10,10): 13,\n",
    "                               (18,18,18): 9070, #1h 31min 10s #433, #7min13s\n",
    "                               (22,22,22): ,\n",
    "                               (28,28,28): ,\n",
    "                               }"
   ]
  },
  {
   "cell_type": "markdown",
   "metadata": {},
   "source": [
    "# DIAGRAMS\n",
    "+ comparing runtime and pearson corr. coeff. of global layout to three force-directed layout methods "
   ]
  },
  {
   "cell_type": "code",
   "execution_count": null,
   "metadata": {},
   "outputs": [],
   "source": [
    "########################################\n",
    "#\n",
    "# Network size vs. Correlation Factor \n",
    "# with same running time\n",
    "#\n",
    "########################################\n",
    "\n",
    "labelsize = 16 \n",
    "\n",
    "x_ig = list(d_netsize_time.keys())\n",
    "y_ig = list(d_netsize_corr_ig.values())\n",
    "\n",
    "x_nx = list(d_netsize_time.keys())\n",
    "y_nx = list(d_netsize_corr_nx.values())\n",
    "\n",
    "x_layout = list(d_netsize_time.keys())\n",
    "y_layout = list(d_netsize_corr_global.values())\n",
    "\n",
    "\n",
    "fig = plt.figure(figsize=(8,8), dpi=300)\n",
    "\n",
    "plt.xlabel(\"Network Size [# Nodes]\", fontsize=labelsize)\n",
    "plt.ylabel(\"Pearson Corr.Coeff.\", fontsize=labelsize)\n",
    "\n",
    "plt.plot(x_nx,y_nx, '--', c = 'skyblue', alpha = 0.8, linewidth=1)\n",
    "plt.scatter(x_nx,y_nx, c = 'skyblue', s = 30, alpha = 1.0)\n",
    "\n",
    "plt.plot(x_gt,y_ig, '--', c = 'royalblue', alpha = 0.8, linewidth=1)\n",
    "plt.scatter(x_gt,y_ig, c = 'royalblue', s = 30, alpha = 1.0)\n",
    "\n",
    "plt.plot(x_layout,y_layout, '--', c = 'orange', alpha = 0.8, linewidth=1)\n",
    "plt.scatter(x_layout,y_layout, c = 'orange', s = 30, alpha = 1.0)\n",
    "\n",
    "plt.grid(True, c='lightgrey', alpha=0.5)\n",
    "plt.suptitle('2D | Network Size vs. Corr. Factor | '+organism, fontsize=10)\n",
    "plt.ylim(ymin=0, ymax=1.05)\n",
    "\n",
    "fig.savefig('../output_plots/benchmark/upscaledNEW_2D_CorrNetsize_'+feature+'_'+organism+'.png')"
   ]
  },
  {
   "cell_type": "code",
   "execution_count": null,
   "metadata": {},
   "outputs": [],
   "source": []
  },
  {
   "cell_type": "code",
   "execution_count": null,
   "metadata": {},
   "outputs": [],
   "source": []
  },
  {
   "cell_type": "code",
   "execution_count": null,
   "metadata": {},
   "outputs": [],
   "source": []
  },
  {
   "cell_type": "code",
   "execution_count": null,
   "metadata": {},
   "outputs": [],
   "source": []
  },
  {
   "cell_type": "code",
   "execution_count": null,
   "metadata": {},
   "outputs": [],
   "source": []
  },
  {
   "cell_type": "code",
   "execution_count": null,
   "metadata": {},
   "outputs": [],
   "source": []
  },
  {
   "cell_type": "code",
   "execution_count": null,
   "metadata": {},
   "outputs": [],
   "source": []
  },
  {
   "cell_type": "markdown",
   "metadata": {},
   "source": [
    "# FORCE-DIRECTED | GRAPH-TOOL\n",
    "+https://graph-tool.skewed.de/static/doc/generation.html#graph_tool.generation.lattice\n",
    "+ using the ARF spring-block layout (attractive-repulsive force layout)"
   ]
  },
  {
   "cell_type": "code",
   "execution_count": 5,
   "metadata": {},
   "outputs": [],
   "source": [
    "# graph-tools\n",
    "import graph_tool as gt \n",
    "from graph_tool.all import *"
   ]
  },
  {
   "cell_type": "code",
   "execution_count": 53,
   "metadata": {
    "collapsed": true,
    "jupyter": {
     "outputs_hidden": true,
     "source_hidden": true
    }
   },
   "outputs": [
    {
     "name": "stdout",
     "output_type": "stream",
     "text": [
      "Run for 1 seconds\n",
      "SPRING - graph-tools\n",
      "Execution Time: 00:00:00\n",
      "done layout distances prep\n",
      "calculate pearson correlation coefficient\n",
      "SPRING corr coef:  0.9709303603135407\n"
     ]
    }
   ],
   "source": [
    "print('Run for', d_netsize_time[(5,5,5)],'seconds')\n",
    "\n",
    "#########\n",
    "# 1 0 0 \n",
    "#########\n",
    "\n",
    "G = lattice([5,5,5])\n",
    "nxG = nx.grid_graph([5,5,5],periodic=False)\n",
    "\n",
    "print('SPRING - graph-tools')\n",
    "start = time.time()\n",
    "#posG_spring = gt.sfdp_layout(G, cooling_step=0.95, epsilon=1e-2)\n",
    "posG = arf_layout(G, max_iter=50000,dim=3) \n",
    "posG_spring = dict(zip(nxG.nodes(),posG))\n",
    "end = time.time()\n",
    "m,s = exec_time(start,end)\n",
    "\n",
    "dist_spring = pairwise_layout_distance_3D(nxG,posG_spring,'nx')\n",
    "\n",
    "r_spring = pearson_corrcoef(dist_network100, dist_spring)\n",
    "print('SPRING corr coef: ',r_spring)"
   ]
  },
  {
   "cell_type": "code",
   "execution_count": 100,
   "metadata": {
    "collapsed": true,
    "jupyter": {
     "outputs_hidden": true,
     "source_hidden": true
    }
   },
   "outputs": [
    {
     "name": "stdout",
     "output_type": "stream",
     "text": [
      "Run for 3 seconds\n",
      "SPRING - graph-tools\n",
      "Execution Time: 00:00:02\n",
      "done layout distances prep\n",
      "calculate pearson correlation coefficient\n",
      "SPRING corr coef:  0.9985860095269702\n"
     ]
    }
   ],
   "source": [
    "print('Run for', d_netsize_time[(8,8,8)],'seconds')\n",
    "\n",
    "#########\n",
    "# 5 0 0 \n",
    "#########\n",
    "\n",
    "G = lattice([8,8,8])\n",
    "nxG = nx.grid_graph([8,8,8],periodic=False)\n",
    "\n",
    "print('SPRING - graph-tools')\n",
    "start = time.time()\n",
    "posG = arf_layout(G, max_iter=3000,dim=3)\n",
    "posG_spring = dict(zip(nxG.nodes(),posG))\n",
    "end = time.time()\n",
    "m,s = exec_time(start,end)\n",
    "\n",
    "dist_global = pairwise_layout_distance_3D(nxG,posG_spring,'nx')\n",
    "\n",
    "r_spring = pearson_corrcoef(dist_network500, dist_spring)\n",
    "print('SPRING corr coef: ',r_spring)"
   ]
  },
  {
   "cell_type": "code",
   "execution_count": 9,
   "metadata": {
    "collapsed": true,
    "jupyter": {
     "outputs_hidden": true,
     "source_hidden": true
    }
   },
   "outputs": [
    {
     "name": "stdout",
     "output_type": "stream",
     "text": [
      "Run for 13 seconds\n",
      "SPRING - graph-tools\n",
      "Execution Time: 00:00:14\n",
      "done layout distances prep\n",
      "calculate pearson correlation coefficient\n",
      "SPRING corr coef:  0.6518287083272504\n"
     ]
    }
   ],
   "source": [
    "print('Run for', d_netsize_time[(10,10,10)],'seconds')\n",
    "\n",
    "#########\n",
    "# 1 0 0 0 \n",
    "#########\n",
    "\n",
    "G = lattice([10,10,10])\n",
    "nxG = nx.grid_graph([10,10,10],periodic=False)\n",
    "\n",
    "print('SPRING - graph-tools')\n",
    "start = time.time()\n",
    "posG = arf_layout(G, max_iter=4500,dim=3)\n",
    "posG_spring = dict(zip(nxG.nodes(),posG))\n",
    "end = time.time()\n",
    "m,s = exec_time(start,end)\n",
    "\n",
    "dist_spring = pairwise_layout_distance_3D(nxG,posG_spring,'nx')\n",
    "\n",
    "r_spring = pearson_corrcoef(dist_network1k, dist_spring)\n",
    "print('SPRING corr coef: ',r_spring)"
   ]
  },
  {
   "cell_type": "code",
   "execution_count": 10,
   "metadata": {},
   "outputs": [],
   "source": [
    "def pairwise_layout_distance_3D(G,posG,mode='nx'):\n",
    "\n",
    "    dist_layout = {} \n",
    "    \n",
    "    if mode == 'gt': #graph-tool\n",
    "        for p1,p2 in it.combinations(G.vertices(),2):\n",
    "            dist_layout[(p1,p2)] = np.sqrt(round((posG[p1][0]-posG[p2][0])**2,2) + round((posG[p1][1]-posG[p2][1])**2,2) + round((posG[p1][2]-posG[p2][2])**2),2)\n",
    "        return dist_layout\n",
    "    \n",
    "    elif mode == 'nx': #networkx    \n",
    "        for p1,p2 in it.combinations(G.nodes(),2):\n",
    "            dist_layout[(p1,p2)] = np.sqrt(round((posG[p1][0]-posG[p2][0])**2,2) + round((posG[p1][1]-posG[p2][1])**2,2) + round((posG[p1][2]-posG[p2][2])**2),2)\n",
    "        return dist_layout"
   ]
  },
  {
   "cell_type": "code",
   "execution_count": 11,
   "metadata": {},
   "outputs": [
    {
     "name": "stdout",
     "output_type": "stream",
     "text": [
      "Run for 57 seconds\n",
      "SPRING - graph-tools\n",
      "Execution Time: 00:00:08\n"
     ]
    },
    {
     "ename": "OverflowError",
     "evalue": "(34, 'Result too large')",
     "output_type": "error",
     "traceback": [
      "\u001b[0;31m---------------------------------------------------------------------------\u001b[0m",
      "\u001b[0;31mOverflowError\u001b[0m                             Traceback (most recent call last)",
      "\u001b[0;32m<ipython-input-11-062fd96275b8>\u001b[0m in \u001b[0;36m<module>\u001b[0;34m\u001b[0m\n\u001b[1;32m     15\u001b[0m \u001b[0mm\u001b[0m\u001b[0;34m,\u001b[0m\u001b[0ms\u001b[0m \u001b[0;34m=\u001b[0m \u001b[0mexec_time\u001b[0m\u001b[0;34m(\u001b[0m\u001b[0mstart\u001b[0m\u001b[0;34m,\u001b[0m\u001b[0mend\u001b[0m\u001b[0;34m)\u001b[0m\u001b[0;34m\u001b[0m\u001b[0;34m\u001b[0m\u001b[0m\n\u001b[1;32m     16\u001b[0m \u001b[0;34m\u001b[0m\u001b[0m\n\u001b[0;32m---> 17\u001b[0;31m \u001b[0mdist_spring\u001b[0m \u001b[0;34m=\u001b[0m \u001b[0mpairwise_layout_distance_3D\u001b[0m\u001b[0;34m(\u001b[0m\u001b[0mnxG\u001b[0m\u001b[0;34m,\u001b[0m \u001b[0mposG_spring\u001b[0m\u001b[0;34m,\u001b[0m\u001b[0;34m'nx'\u001b[0m\u001b[0;34m)\u001b[0m\u001b[0;34m\u001b[0m\u001b[0;34m\u001b[0m\u001b[0m\n\u001b[0m\u001b[1;32m     18\u001b[0m \u001b[0;34m\u001b[0m\u001b[0m\n\u001b[1;32m     19\u001b[0m \u001b[0mr_spring\u001b[0m \u001b[0;34m=\u001b[0m \u001b[0mpearson_corrcoef\u001b[0m\u001b[0;34m(\u001b[0m\u001b[0mdist_network5k\u001b[0m\u001b[0;34m,\u001b[0m \u001b[0mdist_spring\u001b[0m\u001b[0;34m)\u001b[0m\u001b[0;34m\u001b[0m\u001b[0;34m\u001b[0m\u001b[0m\n",
      "\u001b[0;32m<ipython-input-10-534fbdc25c3f>\u001b[0m in \u001b[0;36mpairwise_layout_distance_3D\u001b[0;34m(G, posG, mode)\u001b[0m\n\u001b[1;32m     10\u001b[0m     \u001b[0;32melif\u001b[0m \u001b[0mmode\u001b[0m \u001b[0;34m==\u001b[0m \u001b[0;34m'nx'\u001b[0m\u001b[0;34m:\u001b[0m \u001b[0;31m#networkx\u001b[0m\u001b[0;34m\u001b[0m\u001b[0;34m\u001b[0m\u001b[0m\n\u001b[1;32m     11\u001b[0m         \u001b[0;32mfor\u001b[0m \u001b[0mp1\u001b[0m\u001b[0;34m,\u001b[0m\u001b[0mp2\u001b[0m \u001b[0;32min\u001b[0m \u001b[0mit\u001b[0m\u001b[0;34m.\u001b[0m\u001b[0mcombinations\u001b[0m\u001b[0;34m(\u001b[0m\u001b[0mG\u001b[0m\u001b[0;34m.\u001b[0m\u001b[0mnodes\u001b[0m\u001b[0;34m(\u001b[0m\u001b[0;34m)\u001b[0m\u001b[0;34m,\u001b[0m\u001b[0;36m2\u001b[0m\u001b[0;34m)\u001b[0m\u001b[0;34m:\u001b[0m\u001b[0;34m\u001b[0m\u001b[0;34m\u001b[0m\u001b[0m\n\u001b[0;32m---> 12\u001b[0;31m             \u001b[0mdist_layout\u001b[0m\u001b[0;34m[\u001b[0m\u001b[0;34m(\u001b[0m\u001b[0mp1\u001b[0m\u001b[0;34m,\u001b[0m\u001b[0mp2\u001b[0m\u001b[0;34m)\u001b[0m\u001b[0;34m]\u001b[0m \u001b[0;34m=\u001b[0m \u001b[0mnp\u001b[0m\u001b[0;34m.\u001b[0m\u001b[0msqrt\u001b[0m\u001b[0;34m(\u001b[0m\u001b[0mround\u001b[0m\u001b[0;34m(\u001b[0m\u001b[0;34m(\u001b[0m\u001b[0mposG\u001b[0m\u001b[0;34m[\u001b[0m\u001b[0mp1\u001b[0m\u001b[0;34m]\u001b[0m\u001b[0;34m[\u001b[0m\u001b[0;36m0\u001b[0m\u001b[0;34m]\u001b[0m\u001b[0;34m-\u001b[0m\u001b[0mposG\u001b[0m\u001b[0;34m[\u001b[0m\u001b[0mp2\u001b[0m\u001b[0;34m]\u001b[0m\u001b[0;34m[\u001b[0m\u001b[0;36m0\u001b[0m\u001b[0;34m]\u001b[0m\u001b[0;34m)\u001b[0m\u001b[0;34m**\u001b[0m\u001b[0;36m2\u001b[0m\u001b[0;34m,\u001b[0m\u001b[0;36m2\u001b[0m\u001b[0;34m)\u001b[0m \u001b[0;34m+\u001b[0m \u001b[0mround\u001b[0m\u001b[0;34m(\u001b[0m\u001b[0;34m(\u001b[0m\u001b[0mposG\u001b[0m\u001b[0;34m[\u001b[0m\u001b[0mp1\u001b[0m\u001b[0;34m]\u001b[0m\u001b[0;34m[\u001b[0m\u001b[0;36m1\u001b[0m\u001b[0;34m]\u001b[0m\u001b[0;34m-\u001b[0m\u001b[0mposG\u001b[0m\u001b[0;34m[\u001b[0m\u001b[0mp2\u001b[0m\u001b[0;34m]\u001b[0m\u001b[0;34m[\u001b[0m\u001b[0;36m1\u001b[0m\u001b[0;34m]\u001b[0m\u001b[0;34m)\u001b[0m\u001b[0;34m**\u001b[0m\u001b[0;36m2\u001b[0m\u001b[0;34m,\u001b[0m\u001b[0;36m2\u001b[0m\u001b[0;34m)\u001b[0m \u001b[0;34m+\u001b[0m \u001b[0mround\u001b[0m\u001b[0;34m(\u001b[0m\u001b[0;34m(\u001b[0m\u001b[0mposG\u001b[0m\u001b[0;34m[\u001b[0m\u001b[0mp1\u001b[0m\u001b[0;34m]\u001b[0m\u001b[0;34m[\u001b[0m\u001b[0;36m2\u001b[0m\u001b[0;34m]\u001b[0m\u001b[0;34m-\u001b[0m\u001b[0mposG\u001b[0m\u001b[0;34m[\u001b[0m\u001b[0mp2\u001b[0m\u001b[0;34m]\u001b[0m\u001b[0;34m[\u001b[0m\u001b[0;36m2\u001b[0m\u001b[0;34m]\u001b[0m\u001b[0;34m)\u001b[0m\u001b[0;34m**\u001b[0m\u001b[0;36m2\u001b[0m\u001b[0;34m)\u001b[0m\u001b[0;34m,\u001b[0m\u001b[0;36m2\u001b[0m\u001b[0;34m)\u001b[0m\u001b[0;34m\u001b[0m\u001b[0;34m\u001b[0m\u001b[0m\n\u001b[0m\u001b[1;32m     13\u001b[0m         \u001b[0;32mreturn\u001b[0m \u001b[0mdist_layout\u001b[0m\u001b[0;34m\u001b[0m\u001b[0;34m\u001b[0m\u001b[0m\n",
      "\u001b[0;31mOverflowError\u001b[0m: (34, 'Result too large')"
     ]
    }
   ],
   "source": [
    "print('Run for', d_netsize_time[(18,18,18)],'seconds')\n",
    "\n",
    "#########\n",
    "# 5 0 0 0 \n",
    "#########\n",
    "\n",
    "G = lattice([18,18,18])\n",
    "nxG = nx.grid_graph([18,18,18],periodic=False)\n",
    "\n",
    "print('SPRING - graph-tools')\n",
    "start = time.time()\n",
    "posG = arf_layout(G, max_iter=1000,dim=3)\n",
    "posG_spring = dict(zip(nxG.nodes(),posG))\n",
    "end = time.time()\n",
    "m,s = exec_time(start,end)\n",
    "\n",
    "dist_spring = pairwise_layout_distance_3D(nxG, posG_spring,'nx')\n",
    "\n",
    "r_spring = pearson_corrcoef(dist_network5k, dist_spring)\n",
    "print('SPRING corr coef: ',r_spring)"
   ]
  },
  {
   "cell_type": "code",
   "execution_count": null,
   "metadata": {},
   "outputs": [],
   "source": [
    "posG_spring_mod"
   ]
  },
  {
   "cell_type": "code",
   "execution_count": null,
   "metadata": {
    "jupyter": {
     "source_hidden": true
    }
   },
   "outputs": [],
   "source": [
    "############################\n",
    "\n",
    "# CORRELATION FACTOR MATCH \n",
    "\n",
    "############################\n",
    "\n",
    "print('Run for pearson corr.:', d_netsize_corr_global[(18,18,18)])\n",
    "\n",
    "G = lattice([18,18,18])\n",
    "nxG = nx.grid_graph([18,18,18],periodic=False)\n",
    "\n",
    "print('SPRING - graph-tools')\n",
    "start = time.time()\n",
    "posG = arf_layout(G, max_iter=100000,dim=3)\n",
    "posG_spring = dict(zip(nxG.nodes(),posG))\n",
    "end = time.time()\n",
    "m,s = exec_time(start,end)\n",
    "\n",
    "dist_spring = pairwise_layout_distance_3D(nxG, posG_spring,'nx')\n",
    "\n",
    "r_spring = pearson_corrcoef(dist_network5k, dist_spring)\n",
    "print('SPRING corr coef: ',r_spring)"
   ]
  },
  {
   "cell_type": "code",
   "execution_count": null,
   "metadata": {},
   "outputs": [],
   "source": [
    "print('Run for', d_netsize_time[(22,22,22)],'seconds')\n",
    "\n",
    "#########\n",
    "# 1 0 0 0 0 \n",
    "#########\n",
    "\n",
    "G = lattice([22,22,22])\n",
    "nxG = nx.grid_graph([22,22,22],periodic=False)\n",
    "\n",
    "print('SPRING - graph-tools')\n",
    "start = time.time()\n",
    "posG = arf_layout(G, max_iter=3000,dim=3)\n",
    "posG_spring = dict(zip(nxG.nodes(),posG))\n",
    "end = time.time()\n",
    "m,s = exec_time(start,end)\n",
    "\n",
    "dist_spring = pairwise_layout_distance_3D(nxG,posG_spring,'nx')\n",
    "\n",
    "r_spring = pearson_corrcoef(dist_network10k, dist_spring)\n",
    "print('SPRING corr coef: ',r_spring)"
   ]
  },
  {
   "cell_type": "code",
   "execution_count": null,
   "metadata": {
    "jupyter": {
     "source_hidden": true
    }
   },
   "outputs": [],
   "source": [
    "############################\n",
    "\n",
    "# CORRELATION FACTOR MATCH \n",
    "\n",
    "############################\n",
    "\n",
    "print('Run for pearson corr.:', d_netsize_corr_global[(22,22,22)])\n",
    "\n",
    "G = lattice([22,22,22])\n",
    "nxG = nx.grid_graph([22,22,22],periodic=False)\n",
    "\n",
    "print('SPRING - graph-tools')\n",
    "start = time.time()\n",
    "posG = arf_layout(G, max_iter=3000,dim=3)\n",
    "posG_spring = dict(zip(nxG.nodes(),posG))\n",
    "end = time.time()\n",
    "m,s = exec_time(start,end)\n",
    "\n",
    "dist_spring = pairwise_layout_distance_3D(nxG,posG_spring,'nx')\n",
    "\n",
    "r_spring = pearson_corrcoef(dist_network10k, dist_spring)\n",
    "print('SPRING corr coef: ',r_spring)"
   ]
  },
  {
   "cell_type": "code",
   "execution_count": null,
   "metadata": {},
   "outputs": [],
   "source": [
    "#########\n",
    "# 2 0 0 0 0 \n",
    "#########\n",
    "\n",
    "G = lattice([28,28,28])\n",
    "nxG = nx.grid_graph([28,28,28],periodic=False)\n",
    "\n",
    "print('SPRING - graph-tools')\n",
    "start = time.time()\n",
    "posG = arf_layout(G, max_iter=3000,dim=3)\n",
    "posG_spring = dict(zip(nxG.nodes(),posG))\n",
    "end = time.time()\n",
    "m,s = exec_time(start,end)\n",
    "\n",
    "dist_spring = pairwise_layout_distance_3D(nxG,posG_spring,'nx')\n",
    "\n",
    "r_spring = pearson_corrcoef(dist_network20k, dist_spring)\n",
    "print('SPRING corr coef: ',r_spring)"
   ]
  },
  {
   "cell_type": "code",
   "execution_count": null,
   "metadata": {
    "jupyter": {
     "source_hidden": true
    }
   },
   "outputs": [],
   "source": [
    "############################\n",
    "\n",
    "# CORRELATION FACTOR MATCH \n",
    "\n",
    "############################\n",
    "\n",
    "print('Run for pearson corr.:', d_netsize_corr_global[(28,28,28)])\n",
    "\n",
    "G = lattice([28,28,28])\n",
    "nxG = nx.grid_graph([28,28,28],periodic=False)\n",
    "\n",
    "print('SPRING - graph-tools')\n",
    "start = time.time()\n",
    "posG = arf_layout(G, max_iter=3000,dim=3)\n",
    "posG_spring = dict(zip(nxG.nodes(),posG))\n",
    "end = time.time()\n",
    "m,s = exec_time(start,end)\n",
    "\n",
    "dist_spring = pairwise_layout_distance_3D(nxG,posG_spring,'nx')\n",
    "\n",
    "r_spring = pearson_corrcoef(dist_network20k, dist_spring)\n",
    "print('SPRING corr coef: ',r_spring)"
   ]
  },
  {
   "cell_type": "markdown",
   "metadata": {},
   "source": [
    "#### CORR COEF / NETSIZE - saved values for diagram\n",
    "+ for equal running time"
   ]
  },
  {
   "cell_type": "code",
   "execution_count": null,
   "metadata": {},
   "outputs": [],
   "source": [
    "# pearson correlation coefficient at run time of: d_netsize_time\n",
    "\n",
    "d_netsize_corr_gt = {       (5,5,5):0.971,\n",
    "                            (8,8,8):0.998,\n",
    "                            (10,10,10):0.652,\n",
    "                            (18,18,18):\n",
    "                            (22,22,22):\n",
    "                            (28,28,28):\n",
    "                           }\n",
    "\n",
    "# run time at pearson corr. coef. of: d_netsize_corr_global\n",
    "\n",
    "d_netsize_time_gt = {          (5,5,5):1,\n",
    "                               (8,8,8):2,\n",
    "                               (10,10,10):12,\n",
    "                               (18,18,18):13,\n",
    "                               (22,22,22):\n",
    "                               (28,28,28):\n",
    "                               }"
   ]
  },
  {
   "cell_type": "code",
   "execution_count": null,
   "metadata": {},
   "outputs": [],
   "source": []
  }
 ],
 "metadata": {
  "kernelspec": {
   "display_name": "Python [conda env:miniconda3-myenv_clip2]",
   "language": "python",
   "name": "conda-env-miniconda3-myenv_clip2-py"
  },
  "language_info": {
   "codemirror_mode": {
    "name": "ipython",
    "version": 3
   },
   "file_extension": ".py",
   "mimetype": "text/x-python",
   "name": "python",
   "nbconvert_exporter": "python",
   "pygments_lexer": "ipython3",
   "version": "3.6.13"
  }
 },
 "nbformat": 4,
 "nbformat_minor": 4
}
