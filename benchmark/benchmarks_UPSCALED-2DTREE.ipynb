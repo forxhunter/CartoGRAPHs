{
 "cells": [
  {
   "cell_type": "markdown",
   "metadata": {},
   "source": [
    "# ===========================\n",
    "# Benchmarking - U P S C A L I N G - 2D CAYLEY TREE\n",
    "# ==========================="
   ]
  },
  {
   "cell_type": "markdown",
   "metadata": {},
   "source": [
    "---"
   ]
  },
  {
   "cell_type": "code",
   "execution_count": 1,
   "metadata": {},
   "outputs": [],
   "source": [
    "from benchmark_main import *"
   ]
  },
  {
   "cell_type": "markdown",
   "metadata": {},
   "source": [
    "_________\n",
    "# 2D - Cayley tree\n",
    "_________"
   ]
  },
  {
   "cell_type": "markdown",
   "metadata": {},
   "source": [
    "# FILE INPUT \n",
    "+ precalculated network distances "
   ]
  },
  {
   "cell_type": "code",
   "execution_count": 2,
   "metadata": {},
   "outputs": [],
   "source": [
    "organism = 'tree' \n",
    "net_sizes = [121,512,1093,5461,9841,19531]"
   ]
  },
  {
   "cell_type": "code",
   "execution_count": 3,
   "metadata": {},
   "outputs": [
    {
     "name": "stdout",
     "output_type": "stream",
     "text": [
      "100 done\n"
     ]
    }
   ],
   "source": [
    "b_file100 = open('netdist_precalc/dist_network_121_tree.pkl', \"rb\")\n",
    "dist_network100 = pickle.load(b_file100)\n",
    "print('100 done')"
   ]
  },
  {
   "cell_type": "code",
   "execution_count": 4,
   "metadata": {},
   "outputs": [
    {
     "name": "stdout",
     "output_type": "stream",
     "text": [
      "500 done\n",
      "1000 done\n",
      "5000 done\n"
     ]
    }
   ],
   "source": [
    "b_file500 = open('netdist_precalc/dist_network_511_tree.pkl', \"rb\")\n",
    "dist_network500 = pickle.load(b_file500)\n",
    "print('500 done')\n",
    "\n",
    "b_file1k = open('netdist_precalc/dist_network_1093_tree.pkl', \"rb\")\n",
    "dist_network1k = pickle.load(b_file1k)\n",
    "print('1000 done')\n",
    "\n",
    "b_file5k = open('netdist_precalc/dist_network_5461_tree.pkl', \"rb\")\n",
    "dist_network5k = pickle.load(b_file5k)\n",
    "print('5000 done')"
   ]
  },
  {
   "cell_type": "code",
   "execution_count": 12,
   "metadata": {},
   "outputs": [
    {
     "name": "stdout",
     "output_type": "stream",
     "text": [
      "10k done\n"
     ]
    }
   ],
   "source": [
    "b_file10k = open('netdist_precalc/dist_network_9841_tree.pkl', \"rb\")\n",
    "dist_network10k = pickle.load(b_file10k)\n",
    "print('10k done')"
   ]
  },
  {
   "cell_type": "code",
   "execution_count": 3,
   "metadata": {},
   "outputs": [
    {
     "name": "stdout",
     "output_type": "stream",
     "text": [
      "20k done\n"
     ]
    }
   ],
   "source": [
    "b_file20k = open('netdist_precalc/dist_network_19531_tree.pkl', \"rb\")\n",
    "dist_network20k = pickle.load(b_file20k)\n",
    "print('20k done')"
   ]
  },
  {
   "cell_type": "markdown",
   "metadata": {},
   "source": [
    "# GLOBAL LAYOUT"
   ]
  },
  {
   "cell_type": "code",
   "execution_count": 38,
   "metadata": {
    "jupyter": {
     "source_hidden": true
    }
   },
   "outputs": [],
   "source": [
    "# CAYLEY TREE \n",
    "organism = 'tree'\n",
    "\n",
    "feature = 'RWRvis'\n",
    "r = .9\n",
    "alpha = 1.0\n",
    "\n",
    "# parameter settings (post-testing)\n",
    "n_neighbors = 6 #6\n",
    "spread = 1.0 #1.0\n",
    "min_dist = 0.9\n",
    "metric = 'cosine'\n",
    "lnr = 1\n",
    "nep = None"
   ]
  },
  {
   "cell_type": "code",
   "execution_count": 39,
   "metadata": {
    "collapsed": true,
    "jupyter": {
     "outputs_hidden": true,
     "source_hidden": true
    }
   },
   "outputs": [
    {
     "name": "stdout",
     "output_type": "stream",
     "text": [
      "RWR\n",
      "Execution Time: 00:00:03\n",
      "7260\n",
      "1k done\n",
      "complete\n",
      "done layout distances prep\n",
      "calculate pearson correlation coefficient\n",
      "RWR corr coef:  0.9799772042805386\n"
     ]
    }
   ],
   "source": [
    "#########\n",
    "# 1 0 0 \n",
    "#########\n",
    "\n",
    "branch=3\n",
    "i=121\n",
    "G = nx.full_rary_tree(branch,i)\n",
    "\n",
    "print('RWR')\n",
    "start = time.time()\n",
    "posG_global = globallayout_2D(G,n_neighbors, spread, min_dist, metric)\n",
    "end = time.time()\n",
    "m,s = exec_time(start,end)\n",
    "\n",
    "pairs = list(dist_network100.keys())\n",
    "dist_global = pairwise_layout_distance_linalg(pairs,posG_global)\n",
    "\n",
    "r_global = pearson_corrcoef(dist_network100, dist_global)\n",
    "print('RWR corr coef: ',r_global)"
   ]
  },
  {
   "cell_type": "code",
   "execution_count": null,
   "metadata": {
    "jupyter": {
     "source_hidden": true
    }
   },
   "outputs": [],
   "source": [
    "#########\n",
    "# 5 0 0 \n",
    "#########\n",
    "\n",
    "branch=2\n",
    "i=511\n",
    "G = nx.full_rary_tree(branch,i)\n",
    "\n",
    "print('RWR')\n",
    "start = time.time()\n",
    "posG_global = globallayout_2D(G,n_neighbors, spread, min_dist, metric)\n",
    "end = time.time()\n",
    "m,s = exec_time(start,end)\n",
    "\n",
    "pairs = list(dist_network500.keys())\n",
    "dist_global = pairwise_layout_distance_linalg(pairs,posG_global)\n",
    "\n",
    "r_global = pearson_corrcoef(dist_network500, dist_global)\n",
    "print('RWR corr coef: ',r_global)"
   ]
  },
  {
   "cell_type": "code",
   "execution_count": null,
   "metadata": {
    "jupyter": {
     "source_hidden": true
    }
   },
   "outputs": [],
   "source": [
    "#########\n",
    "# 1 0 0 0 \n",
    "#########\n",
    "\n",
    "branch=3\n",
    "i=1093\n",
    "G = nx.full_rary_tree(branch,i)\n",
    "\n",
    "print('RWR')\n",
    "start = time.time()\n",
    "posG_global = globallayout_2D(G,n_neighbors, spread, min_dist, metric)\n",
    "end = time.time()\n",
    "m,s = exec_time(start,end)\n",
    "\n",
    "pairs = list(dist_network1k.keys())\n",
    "dist_global = pairwise_layout_distance_linalg(pairs,posG_global)\n",
    "\n",
    "r_global = pearson_corrcoef(dist_network1k, dist_global)\n",
    "print('RWR corr coef: ',r_global)"
   ]
  },
  {
   "cell_type": "code",
   "execution_count": null,
   "metadata": {
    "jupyter": {
     "source_hidden": true
    }
   },
   "outputs": [],
   "source": [
    "#########\n",
    "# 5 0 0 0 \n",
    "#########\n",
    "\n",
    "branch=4\n",
    "i=5461\n",
    "G = nx.full_rary_tree(branch,i)\n",
    "\n",
    "print('RWR')\n",
    "start = time.time()\n",
    "posG_global = globallayout_2D(G,n_neighbors, spread, min_dist, metric)\n",
    "end = time.time()\n",
    "m,s = exec_time(start,end)\n",
    "\n",
    "pairs = list(dist_network5k.keys())\n",
    "dist_global = pairwise_layout_distance_linalg(pairs,posG_global)\n",
    "\n",
    "r_global = pearson_corrcoef(dist_network5k, dist_global)\n",
    "print('RWR corr coef: ',r_global)"
   ]
  },
  {
   "cell_type": "code",
   "execution_count": null,
   "metadata": {
    "jupyter": {
     "source_hidden": true
    }
   },
   "outputs": [],
   "source": [
    "#########\n",
    "# 1 0 0 0 0\n",
    "#########\n",
    "\n",
    "branch=3\n",
    "i=9841\n",
    "G = nx.full_rary_tree(branch,i)\n",
    "\n",
    "print('RWR')\n",
    "start = time.time()\n",
    "posG_global = globallayout_2D(G,n_neighbors, spread, min_dist, metric)\n",
    "end = time.time()\n",
    "m,s = exec_time(start,end)\n",
    "\n",
    "pairs = list(dist_network10k.keys())\n",
    "dist_global = pairwise_layout_distance_linalg(pairs,posG_global)\n",
    "\n",
    "r_global = pearson_corrcoef(dist_network10k, dist_global)\n",
    "print('RWR corr coef: ',r_global)"
   ]
  },
  {
   "cell_type": "code",
   "execution_count": 5,
   "metadata": {
    "collapsed": true,
    "jupyter": {
     "outputs_hidden": true,
     "source_hidden": true
    }
   },
   "outputs": [
    {
     "name": "stdout",
     "output_type": "stream",
     "text": [
      "RWR\n",
      "Execution Time: 00:09:51\n"
     ]
    }
   ],
   "source": [
    "#########\n",
    "# 2 0 0 0 0\n",
    "#########\n",
    "\n",
    "branch=5\n",
    "i=19531\n",
    "G = nx.full_rary_tree(branch,i)\n",
    "\n",
    "print('RWR')\n",
    "start = time.time()\n",
    "posG_global = globallayout_2D(G,n_neighbors, spread, min_dist, metric)\n",
    "end = time.time()\n",
    "m,s = exec_time(start,end)\n",
    "\n",
    "pairs = list(dist_network20k.keys())\n",
    "dist_global = pairwise_layout_distance_linalg(pairs,posG_global)\n",
    "\n",
    "r_global = pearson_corrcoef(dist_network20k, dist_global)\n",
    "print('RWR corr coef: ',r_global)"
   ]
  },
  {
   "cell_type": "code",
   "execution_count": 7,
   "metadata": {},
   "outputs": [],
   "source": [
    "# pearson correlation coefficient \n",
    "\n",
    "d_netsize_corr_global = {121:0.980,\n",
    "                            511:0.992, \n",
    "                            1093:0.984,\n",
    "                            5461:0.980, \n",
    "                            9841:0.977,\n",
    "                            19531:0.952\n",
    "                        }\n",
    "\n",
    "# time in seconds \n",
    "\n",
    "d_netsize_time = {121:3, \n",
    "                    511:5, \n",
    "                    1093:6, \n",
    "                    5461:43,\n",
    "                    9841:76, #1min 16s \n",
    "                    19531:269, #4min 29s\n",
    "                    }"
   ]
  },
  {
   "cell_type": "markdown",
   "metadata": {},
   "source": [
    "# NODE2VEC "
   ]
  },
  {
   "cell_type": "code",
   "execution_count": 106,
   "metadata": {
    "jupyter": {
     "source_hidden": true
    }
   },
   "outputs": [],
   "source": [
    "# CAYLEY TREE \n",
    "organism = 'tree'\n",
    "\n",
    "feature = 'RWRvis'\n",
    "r = .9\n",
    "alpha = 1.0\n",
    "\n",
    "# parameter settings (post-testing)\n",
    "n_neighbors = 6 #6\n",
    "spread = 1.0 #1.0\n",
    "min_dist = 0.9\n",
    "metric = 'cosine'\n",
    "lnr = 1\n",
    "nep = None"
   ]
  },
  {
   "cell_type": "code",
   "execution_count": 10,
   "metadata": {
    "collapsed": true,
    "jupyter": {
     "outputs_hidden": true,
     "source_hidden": true
    }
   },
   "outputs": [
    {
     "name": "stdout",
     "output_type": "stream",
     "text": [
      "Node2Vec\n",
      "Execution Time: 00:00:26\n",
      "7260\n",
      "1k done\n",
      "complete\n",
      "done layout distances prep\n",
      "calculate pearson correlation coefficient\n",
      "RWR corr coef:  0.9850109425147078\n"
     ]
    }
   ],
   "source": [
    "#########\n",
    "# 1 0 0 \n",
    "#########\n",
    "\n",
    "branch=3\n",
    "i=121\n",
    "G = nx.full_rary_tree(branch,i)\n",
    "\n",
    "print('Node2Vec')\n",
    "start = time.time()\n",
    "posG_nodevec = layout_nodevec_umap(G,2,n_neighbors, spread, min_dist, metric)\n",
    "end = time.time()\n",
    "m,s = exec_time(start,end)\n",
    "\n",
    "pairs=list(dist_network100.keys())\n",
    "dist_nodevec = pairwise_layout_distance_linalg(pairs,posG_nodevec)\n",
    "\n",
    "r_global = pearson_corrcoef(dist_network100, dist_nodevec)\n",
    "print('RWR corr coef: ',r_global)"
   ]
  },
  {
   "cell_type": "code",
   "execution_count": 11,
   "metadata": {
    "collapsed": true,
    "jupyter": {
     "outputs_hidden": true,
     "source_hidden": true
    }
   },
   "outputs": [
    {
     "name": "stdout",
     "output_type": "stream",
     "text": [
      "Node2Vec\n",
      "Execution Time: 00:00:35\n",
      "130305\n",
      "1k done\n",
      "10k done\n",
      "50k done\n",
      "100k done\n",
      "complete\n",
      "done layout distances prep\n",
      "calculate pearson correlation coefficient\n",
      "RWR corr coef:  0.9906738836838238\n"
     ]
    }
   ],
   "source": [
    "#########\n",
    "# 5 0 0 \n",
    "#########\n",
    "\n",
    "branch=2\n",
    "i=511\n",
    "G = nx.full_rary_tree(branch,i)\n",
    "\n",
    "print('Node2Vec')\n",
    "start = time.time()\n",
    "posG_nodevec = layout_nodevec_umap(G,2,n_neighbors, spread, min_dist, metric)\n",
    "end = time.time()\n",
    "m,s = exec_time(start,end)\n",
    "\n",
    "pairs=list(dist_network500.keys())\n",
    "dist_nodevec = pairwise_layout_distance_linalg(pairs,posG_nodevec)\n",
    "\n",
    "r_global = pearson_corrcoef(dist_network500, dist_nodevec)\n",
    "print('RWR corr coef: ',r_global)"
   ]
  },
  {
   "cell_type": "code",
   "execution_count": 12,
   "metadata": {
    "collapsed": true,
    "jupyter": {
     "outputs_hidden": true,
     "source_hidden": true
    }
   },
   "outputs": [
    {
     "name": "stdout",
     "output_type": "stream",
     "text": [
      "Node2Vec\n",
      "Execution Time: 00:01:03\n",
      "596778\n",
      "1k done\n",
      "10k done\n",
      "50k done\n",
      "100k done\n",
      "500k done\n",
      "complete\n",
      "done layout distances prep\n",
      "calculate pearson correlation coefficient\n",
      "RWR corr coef:  0.99062621569497\n"
     ]
    }
   ],
   "source": [
    "#########\n",
    "# 1 0 0 0 \n",
    "#########\n",
    "\n",
    "branch=3\n",
    "i=1093\n",
    "G = nx.full_rary_tree(branch,i)\n",
    "\n",
    "print('Node2Vec')\n",
    "start = time.time()\n",
    "posG_nodevec = layout_nodevec_umap(G,2,n_neighbors, spread, min_dist, metric)\n",
    "end = time.time()\n",
    "m,s = exec_time(start,end)\n",
    "\n",
    "pairs=list(dist_network1k.keys())\n",
    "dist_nodevec = pairwise_layout_distance_linalg(pairs,posG_nodevec)\n",
    "\n",
    "r_global = pearson_corrcoef(dist_network1k, dist_nodevec)\n",
    "print('RWR corr coef: ',r_global)"
   ]
  },
  {
   "cell_type": "code",
   "execution_count": 13,
   "metadata": {
    "collapsed": true,
    "jupyter": {
     "outputs_hidden": true,
     "source_hidden": true
    }
   },
   "outputs": [
    {
     "name": "stdout",
     "output_type": "stream",
     "text": [
      "Node2Vec\n",
      "Execution Time: 00:05:33\n",
      "14908530\n",
      "1k done\n",
      "10k done\n",
      "50k done\n",
      "100k done\n",
      "500k done\n",
      "1mio done\n",
      "5mio done\n",
      "10mio done\n",
      "complete\n",
      "done layout distances prep\n",
      "calculate pearson correlation coefficient\n",
      "RWR corr coef:  0.909579123722556\n"
     ]
    }
   ],
   "source": [
    "#########\n",
    "# 5 0 0 0 \n",
    "#########\n",
    "\n",
    "branch=4\n",
    "i=5461\n",
    "G = nx.full_rary_tree(branch,i)\n",
    "\n",
    "print('Node2Vec')\n",
    "start = time.time()\n",
    "posG_nodevec = layout_nodevec_umap(G,2,n_neighbors, spread, min_dist, metric)\n",
    "end = time.time()\n",
    "m,s = exec_time(start,end)\n",
    "\n",
    "pairs=list(dist_network5k.keys())\n",
    "dist_nodevec = pairwise_layout_distance_linalg(pairs,posG_nodevec)\n",
    "\n",
    "r_global = pearson_corrcoef(dist_network5k, dist_nodevec)\n",
    "print('RWR corr coef: ',r_global)"
   ]
  },
  {
   "cell_type": "code",
   "execution_count": 7,
   "metadata": {
    "collapsed": true,
    "jupyter": {
     "outputs_hidden": true,
     "source_hidden": true
    }
   },
   "outputs": [
    {
     "name": "stdout",
     "output_type": "stream",
     "text": [
      "Node2Vec\n",
      "Execution Time: 00:04:56\n",
      "48417720\n",
      "1k done\n",
      "10k done\n",
      "50k done\n",
      "100k done\n",
      "500k done\n",
      "1mio done\n",
      "5mio done\n",
      "10mio done\n",
      "15mio done\n",
      "20mio done\n",
      "25mio done\n",
      "30mio done\n",
      "40mio done\n",
      "complete\n",
      "done layout distances prep\n",
      "calculate pearson correlation coefficient\n",
      "RWR corr coef:  0.9478335322886308\n"
     ]
    }
   ],
   "source": [
    "#########\n",
    "# 1 0 0 0 0 \n",
    "#########\n",
    "\n",
    "branch=3\n",
    "i=9841\n",
    "G = nx.full_rary_tree(branch,i)\n",
    "\n",
    "print('Node2Vec')\n",
    "start = time.time()\n",
    "posG_nodevec = layout_nodevec_umap(G,2,n_neighbors, spread, min_dist, metric)\n",
    "end = time.time()\n",
    "m,s = exec_time(start,end)\n",
    "\n",
    "pairs=list(dist_network10k.keys())\n",
    "dist_nodevec = pairwise_layout_distance_linalg(pairs,posG_nodevec)\n",
    "\n",
    "r_global = pearson_corrcoef(dist_network10k, dist_nodevec)\n",
    "print('RWR corr coef: ',r_global)"
   ]
  },
  {
   "cell_type": "code",
   "execution_count": 5,
   "metadata": {
    "collapsed": true,
    "jupyter": {
     "outputs_hidden": true,
     "source_hidden": true
    }
   },
   "outputs": [
    {
     "name": "stdout",
     "output_type": "stream",
     "text": [
      "Node2Vec\n",
      "Execution Time: 00:09:03\n"
     ]
    }
   ],
   "source": [
    "#########\n",
    "# 2 0 0 0 0 \n",
    "#########\n",
    "\n",
    "branch=5\n",
    "i=19531\n",
    "G = nx.full_rary_tree(branch,i)\n",
    "\n",
    "print('Node2Vec')\n",
    "start = time.time()\n",
    "posG_nodevec = layout_nodevec_umap(G,2,n_neighbors, spread, min_dist, metric)\n",
    "end = time.time()\n",
    "m,s = exec_time(start,end)"
   ]
  },
  {
   "cell_type": "markdown",
   "metadata": {},
   "source": [
    "----"
   ]
  },
  {
   "cell_type": "code",
   "execution_count": 43,
   "metadata": {
    "collapsed": true,
    "jupyter": {
     "outputs_hidden": true,
     "source_hidden": true
    }
   },
   "outputs": [
    {
     "data": {
      "text/plain": [
       "190720215"
      ]
     },
     "execution_count": 43,
     "metadata": {},
     "output_type": "execute_result"
    }
   ],
   "source": [
    "pairs=list(dist_network20k.keys())\n",
    "len(pairs)"
   ]
  },
  {
   "cell_type": "code",
   "execution_count": 79,
   "metadata": {
    "collapsed": true,
    "jupyter": {
     "outputs_hidden": true,
     "source_hidden": true
    }
   },
   "outputs": [
    {
     "data": {
      "text/plain": [
       "40000000"
      ]
     },
     "execution_count": 79,
     "metadata": {},
     "output_type": "execute_result"
    }
   ],
   "source": [
    "pairs_partone = pairs[:40000000]\n",
    "len(pairs_partone)"
   ]
  },
  {
   "cell_type": "code",
   "execution_count": 81,
   "metadata": {
    "collapsed": true,
    "jupyter": {
     "outputs_hidden": true,
     "source_hidden": true
    }
   },
   "outputs": [
    {
     "name": "stdout",
     "output_type": "stream",
     "text": [
      "40000000\n",
      "1k done\n",
      "10k done\n",
      "50k done\n",
      "100k done\n",
      "500k done\n",
      "1mio done\n",
      "5mio done\n",
      "10mio done\n",
      "15mio done\n",
      "20mio done\n",
      "25mio done\n",
      "30mio done\n",
      "40mio done\n"
     ]
    }
   ],
   "source": [
    "dist_nodevec_one = pairwise_layout_distance_linalg_parts(pairs_partone,posG_nodevec)"
   ]
  },
  {
   "cell_type": "code",
   "execution_count": 84,
   "metadata": {
    "jupyter": {
     "source_hidden": true
    }
   },
   "outputs": [],
   "source": [
    "with open('tree_distnodevec_one.pickle', 'wb') as handle:\n",
    "    pickle.dump(dist_nodevec_one, handle)"
   ]
  },
  {
   "cell_type": "code",
   "execution_count": 86,
   "metadata": {
    "jupyter": {
     "source_hidden": true
    }
   },
   "outputs": [],
   "source": [
    "del dist_nodevec_one"
   ]
  },
  {
   "cell_type": "code",
   "execution_count": 87,
   "metadata": {
    "collapsed": true,
    "jupyter": {
     "outputs_hidden": true,
     "source_hidden": true
    }
   },
   "outputs": [
    {
     "data": {
      "text/plain": [
       "40000000"
      ]
     },
     "execution_count": 87,
     "metadata": {},
     "output_type": "execute_result"
    }
   ],
   "source": [
    "pairs_parttwo = pairs[40000000:80000000]\n",
    "len(pairs_parttwo)"
   ]
  },
  {
   "cell_type": "code",
   "execution_count": 88,
   "metadata": {
    "collapsed": true,
    "jupyter": {
     "outputs_hidden": true,
     "source_hidden": true
    }
   },
   "outputs": [
    {
     "name": "stdout",
     "output_type": "stream",
     "text": [
      "40000000\n",
      "1k done\n",
      "10k done\n",
      "50k done\n",
      "100k done\n",
      "500k done\n",
      "1mio done\n",
      "5mio done\n",
      "10mio done\n",
      "15mio done\n",
      "20mio done\n",
      "25mio done\n",
      "30mio done\n",
      "40mio done\n"
     ]
    }
   ],
   "source": [
    "dist_nodevec_two = pairwise_layout_distance_linalg_parts(pairs_parttwo,posG_nodevec)"
   ]
  },
  {
   "cell_type": "code",
   "execution_count": 90,
   "metadata": {
    "jupyter": {
     "source_hidden": true
    }
   },
   "outputs": [],
   "source": [
    "with open('tree_distnodevec_two.pickle', 'wb') as handle:\n",
    "    pickle.dump(dist_nodevec_two, handle)"
   ]
  },
  {
   "cell_type": "code",
   "execution_count": 91,
   "metadata": {
    "jupyter": {
     "source_hidden": true
    }
   },
   "outputs": [],
   "source": [
    "del dist_nodevec_two"
   ]
  },
  {
   "cell_type": "code",
   "execution_count": 92,
   "metadata": {
    "collapsed": true,
    "jupyter": {
     "outputs_hidden": true,
     "source_hidden": true
    }
   },
   "outputs": [
    {
     "data": {
      "text/plain": [
       "40000000"
      ]
     },
     "execution_count": 92,
     "metadata": {},
     "output_type": "execute_result"
    }
   ],
   "source": [
    "pairs_partthree = pairs[80000000:120000000]\n",
    "len(pairs_partthree)"
   ]
  },
  {
   "cell_type": "code",
   "execution_count": 93,
   "metadata": {
    "collapsed": true,
    "jupyter": {
     "outputs_hidden": true,
     "source_hidden": true
    }
   },
   "outputs": [
    {
     "name": "stdout",
     "output_type": "stream",
     "text": [
      "40000000\n",
      "1k done\n",
      "10k done\n",
      "50k done\n",
      "100k done\n",
      "500k done\n",
      "1mio done\n",
      "5mio done\n",
      "10mio done\n",
      "15mio done\n",
      "20mio done\n",
      "25mio done\n",
      "30mio done\n",
      "40mio done\n"
     ]
    }
   ],
   "source": [
    "dist_nodevec_three = pairwise_layout_distance_linalg_parts(pairs_partthree,posG_nodevec)"
   ]
  },
  {
   "cell_type": "code",
   "execution_count": 94,
   "metadata": {
    "jupyter": {
     "source_hidden": true
    }
   },
   "outputs": [],
   "source": [
    "with open('tree_distnodevec_three.pickle', 'wb') as handle:\n",
    "    pickle.dump(dist_nodevec_three, handle)"
   ]
  },
  {
   "cell_type": "code",
   "execution_count": 95,
   "metadata": {
    "jupyter": {
     "source_hidden": true
    }
   },
   "outputs": [],
   "source": [
    "del dist_nodevec_three"
   ]
  },
  {
   "cell_type": "code",
   "execution_count": 96,
   "metadata": {
    "collapsed": true,
    "jupyter": {
     "outputs_hidden": true,
     "source_hidden": true
    }
   },
   "outputs": [
    {
     "data": {
      "text/plain": [
       "40000000"
      ]
     },
     "execution_count": 96,
     "metadata": {},
     "output_type": "execute_result"
    }
   ],
   "source": [
    "pairs_partfour = pairs[120000000:160000000]\n",
    "len(pairs_partfour)"
   ]
  },
  {
   "cell_type": "code",
   "execution_count": 97,
   "metadata": {
    "collapsed": true,
    "jupyter": {
     "outputs_hidden": true,
     "source_hidden": true
    }
   },
   "outputs": [
    {
     "name": "stdout",
     "output_type": "stream",
     "text": [
      "40000000\n",
      "1k done\n",
      "10k done\n",
      "50k done\n",
      "100k done\n",
      "500k done\n",
      "1mio done\n",
      "5mio done\n",
      "10mio done\n",
      "15mio done\n",
      "20mio done\n",
      "25mio done\n",
      "30mio done\n",
      "40mio done\n"
     ]
    }
   ],
   "source": [
    "dist_nodevec_four = pairwise_layout_distance_linalg_parts(pairs_partfour,posG_nodevec)"
   ]
  },
  {
   "cell_type": "code",
   "execution_count": 98,
   "metadata": {
    "jupyter": {
     "source_hidden": true
    }
   },
   "outputs": [],
   "source": [
    "with open('tree_distnodevec_four.pickle', 'wb') as handle:\n",
    "    pickle.dump(dist_nodevec_four, handle)"
   ]
  },
  {
   "cell_type": "code",
   "execution_count": 99,
   "metadata": {
    "jupyter": {
     "source_hidden": true
    }
   },
   "outputs": [],
   "source": [
    "del dist_nodevec_four"
   ]
  },
  {
   "cell_type": "code",
   "execution_count": 100,
   "metadata": {
    "collapsed": true,
    "jupyter": {
     "outputs_hidden": true,
     "source_hidden": true
    }
   },
   "outputs": [
    {
     "data": {
      "text/plain": [
       "30720215"
      ]
     },
     "execution_count": 100,
     "metadata": {},
     "output_type": "execute_result"
    }
   ],
   "source": [
    "pairs_partfive = pairs[160000000:]\n",
    "len(pairs_partfive)"
   ]
  },
  {
   "cell_type": "code",
   "execution_count": 101,
   "metadata": {
    "collapsed": true,
    "jupyter": {
     "outputs_hidden": true,
     "source_hidden": true
    }
   },
   "outputs": [
    {
     "name": "stdout",
     "output_type": "stream",
     "text": [
      "30720215\n",
      "1k done\n",
      "10k done\n",
      "50k done\n",
      "100k done\n",
      "500k done\n",
      "1mio done\n",
      "5mio done\n",
      "10mio done\n",
      "15mio done\n",
      "20mio done\n",
      "25mio done\n",
      "30mio done\n",
      "complete\n"
     ]
    }
   ],
   "source": [
    "dist_nodevec_five = pairwise_layout_distance_linalg_parts(pairs_partfive,posG_nodevec)"
   ]
  },
  {
   "cell_type": "code",
   "execution_count": 102,
   "metadata": {
    "jupyter": {
     "source_hidden": true
    }
   },
   "outputs": [],
   "source": [
    "with open('tree_distnodevec_five.pickle', 'wb') as handle:\n",
    "    pickle.dump(dist_nodevec_five, handle)"
   ]
  },
  {
   "cell_type": "code",
   "execution_count": 103,
   "metadata": {
    "jupyter": {
     "source_hidden": true
    }
   },
   "outputs": [],
   "source": [
    "del dist_nodevec_five"
   ]
  },
  {
   "cell_type": "code",
   "execution_count": 4,
   "metadata": {
    "jupyter": {
     "source_hidden": true
    }
   },
   "outputs": [],
   "source": [
    "with open('tree_distnodevec_one.pickle', 'rb') as handle:\n",
    "    one = pickle.load(handle)"
   ]
  },
  {
   "cell_type": "code",
   "execution_count": 5,
   "metadata": {
    "jupyter": {
     "source_hidden": true
    }
   },
   "outputs": [],
   "source": [
    "with open('tree_distnodevec_two.pickle', 'rb') as handle:\n",
    "    two = pickle.load(handle)"
   ]
  },
  {
   "cell_type": "code",
   "execution_count": 6,
   "metadata": {
    "jupyter": {
     "source_hidden": true
    }
   },
   "outputs": [],
   "source": [
    "with open('tree_distnodevec_three.pickle', 'rb') as handle:\n",
    "    three = pickle.load(handle)"
   ]
  },
  {
   "cell_type": "code",
   "execution_count": 7,
   "metadata": {
    "jupyter": {
     "source_hidden": true
    }
   },
   "outputs": [],
   "source": [
    "with open('tree_distnodevec_four.pickle', 'rb') as handle:\n",
    "    four = pickle.load(handle)"
   ]
  },
  {
   "cell_type": "code",
   "execution_count": 8,
   "metadata": {
    "jupyter": {
     "source_hidden": true
    }
   },
   "outputs": [],
   "source": [
    "with open('tree_distnodevec_five.pickle', 'rb') as handle:\n",
    "    five = pickle.load(handle)"
   ]
  },
  {
   "cell_type": "code",
   "execution_count": 9,
   "metadata": {
    "jupyter": {
     "source_hidden": true
    }
   },
   "outputs": [],
   "source": [
    "dist_nodevec = {**one,**two,**three,**four,**five}"
   ]
  },
  {
   "cell_type": "markdown",
   "metadata": {},
   "source": [
    "---"
   ]
  },
  {
   "cell_type": "code",
   "execution_count": 10,
   "metadata": {
    "jupyter": {
     "source_hidden": true
    }
   },
   "outputs": [
    {
     "name": "stdout",
     "output_type": "stream",
     "text": [
      "done layout distances prep\n",
      "calculate pearson correlation coefficient\n",
      "RWR corr coef:  0.8492882325169925\n"
     ]
    }
   ],
   "source": [
    "r_global = pearson_corrcoef(dist_network20k, dist_nodevec)\n",
    "print('RWR corr coef: ',r_global)"
   ]
  },
  {
   "cell_type": "code",
   "execution_count": null,
   "metadata": {},
   "outputs": [],
   "source": [
    "# pearson correlation coefficient \n",
    "\n",
    "d_netsize_corr_nodevec = {121:0.985,\n",
    "                            511:0.990, \n",
    "                            1093:0.991,\n",
    "                            5461:0.910,\n",
    "                            9841:0.948,\n",
    "                            19531:0.849,\n",
    "                        }\n",
    "\n",
    "# time in seconds \n",
    "\n",
    "d_netsize_time_nodevec = {121:26, \n",
    "                            511:35,\n",
    "                            1093:63, #1min 3s\n",
    "                            5461:333, #5min 33s\n",
    "                            9841:296, #4min 56s\n",
    "                            19531:4863, #9min 3s\n",
    "                    }"
   ]
  },
  {
   "cell_type": "markdown",
   "metadata": {},
   "source": [
    "# FORCE-DIRECTED | NETWORKX"
   ]
  },
  {
   "cell_type": "code",
   "execution_count": 9,
   "metadata": {
    "collapsed": true,
    "jupyter": {
     "outputs_hidden": true,
     "source_hidden": true
    }
   },
   "outputs": [
    {
     "name": "stdout",
     "output_type": "stream",
     "text": [
      "SPRING\n",
      "Execution Time: 00:00:00\n",
      "7260\n",
      "1k done\n",
      "complete\n",
      "done layout distances prep\n",
      "calculate pearson correlation coefficient\n",
      "SPRING corr coef:  0.9706883797335722\n"
     ]
    }
   ],
   "source": [
    "#########\n",
    "# 1 0 0 \n",
    "#########\n",
    "\n",
    "branch=3\n",
    "i=121\n",
    "G = nx.full_rary_tree(branch,i)\n",
    "\n",
    "print('SPRING')\n",
    "start = time.time()\n",
    "posG_spring = springlayout_2D(G,itr=900)\n",
    "end = time.time()\n",
    "m,s = exec_time(start,end)\n",
    "\n",
    "pairs = list(dist_network100.keys())\n",
    "dist_spring = pairwise_layout_distance_linalg(pairs,posG_spring)\n",
    "\n",
    "r_spring = pearson_corrcoef(dist_network100, dist_spring)\n",
    "print('SPRING corr coef: ',r_spring)"
   ]
  },
  {
   "cell_type": "code",
   "execution_count": null,
   "metadata": {
    "jupyter": {
     "source_hidden": true
    }
   },
   "outputs": [],
   "source": [
    "#########\n",
    "# 5 0 0 \n",
    "#########\n",
    "\n",
    "branch=2\n",
    "i=511\n",
    "G = nx.full_rary_tree(branch,i)\n",
    "\n",
    "print('SPRING')\n",
    "start = time.time()\n",
    "posG_spring = springlayout_2D(G,itr=150)\n",
    "end = time.time()\n",
    "m,s = exec_time(start,end)\n",
    "\n",
    "pairs = list(dist_network500.keys())\n",
    "dist_spring = pairwise_layout_distance_linalg(pairs,posG_spring)\n",
    "\n",
    "r_spring = pearson_corrcoef(dist_network500, dist_spring)\n",
    "print('SPRING corr coef: ',r_spring)"
   ]
  },
  {
   "cell_type": "code",
   "execution_count": 40,
   "metadata": {
    "collapsed": true,
    "jupyter": {
     "outputs_hidden": true,
     "source_hidden": true
    }
   },
   "outputs": [
    {
     "name": "stdout",
     "output_type": "stream",
     "text": [
      "RWR\n",
      "Execution Time: 00:00:04\n",
      "SPRING\n",
      "Execution Time: 00:00:05\n",
      "\n",
      "\n",
      "RWR corr coef:  0.9715794505342944\n",
      "SPRING corr coef:  0.9251005465535221\n"
     ]
    }
   ],
   "source": [
    "#########\n",
    "# 1 0 0 0 \n",
    "#########\n",
    "\n",
    "branch=3\n",
    "i=1093\n",
    "G = nx.full_rary_tree(branch,i)\n",
    "\n",
    "print('SPRING')\n",
    "start = time.time()\n",
    "posG_spring = springlayout_2D(G,itr=50)\n",
    "end = time.time()\n",
    "m,s = exec_time(start,end)\n",
    "\n",
    "pairs = list(dist_network1k.keys())\n",
    "dist_spring = pairwise_layout_distance_linalg(pairs,posG_spring)\n",
    "\n",
    "r_spring = pearson_corrcoef(dist_network1k, dist_spring)\n",
    "print('SPRING corr coef: ',r_spring)"
   ]
  },
  {
   "cell_type": "code",
   "execution_count": 30,
   "metadata": {
    "collapsed": true,
    "jupyter": {
     "outputs_hidden": true,
     "source_hidden": true
    }
   },
   "outputs": [
    {
     "name": "stdout",
     "output_type": "stream",
     "text": [
      "Runtime spring for Corr. Coeff. 0.97\n",
      "Execution Time: 00:00:16\n",
      "prep layout distance\n",
      "prep network distance\n",
      "prep corr. coeff. data\n",
      "calculate corr. coeff.\n",
      "SPRING corr coef:  0.9762090209941461\n"
     ]
    }
   ],
   "source": [
    "branch=3\n",
    "i=1093\n",
    "G = nx.full_rary_tree(branch,i)\n",
    "\n",
    "print('Runtime spring for Corr. Coeff. 0.97')\n",
    "\n",
    "start = time.time()\n",
    "posG_spring = springlayout_2D(G,itr=110)\n",
    "end = time.time()\n",
    "m,s = exec_time(start,end)\n",
    "\n",
    "dist_spring = pairwise_layout_distance_2D(G,posG_spring)\n",
    "dist_network = pairwise_network_distance(G)\n",
    "\n",
    "r_spring = pearson_corrcoef(dist_network1k, dist_spring)\n",
    "print('SPRING corr coef: ',r_spring)"
   ]
  },
  {
   "cell_type": "code",
   "execution_count": null,
   "metadata": {
    "jupyter": {
     "source_hidden": true
    }
   },
   "outputs": [],
   "source": [
    "#########\n",
    "# 5 0 0 0 \n",
    "#########\n",
    "\n",
    "branch=4\n",
    "i=5461\n",
    "G = nx.full_rary_tree(branch,i)\n",
    "\n",
    "print('SPRING')\n",
    "start = time.time()\n",
    "posG_spring = springlayout_2D(G,itr=10)\n",
    "end = time.time()\n",
    "m,s = exec_time(start,end)\n",
    "\n",
    "pairs = list(dist_network5k.keys())\n",
    "dist_spring = pairwise_layout_distance_linalg(pairs,posG_spring)\n",
    "\n",
    "r_spring = pearson_corrcoef(dist_network5k, dist_spring)\n",
    "print('SPRING corr coef: ',r_spring)"
   ]
  },
  {
   "cell_type": "code",
   "execution_count": 3,
   "metadata": {
    "collapsed": true,
    "jupyter": {
     "outputs_hidden": true,
     "source_hidden": true
    }
   },
   "outputs": [
    {
     "name": "stdout",
     "output_type": "stream",
     "text": [
      "Runtime spring for Corr. Coeff. 0.97\n",
      "Execution Time: 00:34:02\n",
      "SPRING corr coef:  0.9203227402838982\n"
     ]
    }
   ],
   "source": [
    "print('Runtime spring for Corr. Coeff. 0.97')\n",
    "\n",
    "branch=4\n",
    "i=5461\n",
    "G = nx.full_rary_tree(branch,i)\n",
    "\n",
    "start = time.time()\n",
    "posG_spring = springlayout_2D(G,itr=1000)\n",
    "end = time.time()\n",
    "m,s = exec_time(start,end)\n",
    "\n",
    "pairs = list(dist_network5k.keys())\n",
    "dist_spring = pairwise_layout_distance_linalg(pairs,posG_spring)\n",
    "\n",
    "r_spring = pearson_corrcoef(dist_network5k, dist_spring)\n",
    "print('SPRING corr coef: ',r_spring)"
   ]
  },
  {
   "cell_type": "code",
   "execution_count": null,
   "metadata": {
    "jupyter": {
     "source_hidden": true
    }
   },
   "outputs": [],
   "source": [
    "#########\n",
    "# 1 0 0 0 0 \n",
    "#########\n",
    "\n",
    "branch=3\n",
    "i=9841\n",
    "G = nx.full_rary_tree(branch,i)\n",
    "\n",
    "print('SPRING')\n",
    "start = time.time()\n",
    "posG_spring = springlayout_2D(G,itr=50)\n",
    "end = time.time()\n",
    "m,s = exec_time(start,end)\n",
    "\n",
    "pairs = list(dist_network10k.keys())\n",
    "dist_spring = pairwise_layout_distance_linalg(pairs,posG_spring)\n",
    "\n",
    "r_spring = pearson_corrcoef(dist_network10k, dist_spring)\n",
    "print('SPRING corr coef: ',r_spring)"
   ]
  },
  {
   "cell_type": "code",
   "execution_count": 3,
   "metadata": {
    "collapsed": true,
    "jupyter": {
     "outputs_hidden": true,
     "source_hidden": true
    }
   },
   "outputs": [
    {
     "name": "stdout",
     "output_type": "stream",
     "text": [
      "Runtime spring for Corr. Coeff. 0.98\n",
      "Execution Time: 08:10:34\n",
      "calculate corr. coeff.\n",
      "done layout distances prep\n",
      "calculate pearson correlation coefficient\n",
      "SPRING corr coef:  0.901154336176053\n"
     ]
    }
   ],
   "source": [
    "print('Runtime spring for Corr. Coeff. 0.98')\n",
    "\n",
    "branch=3\n",
    "i=9841\n",
    "G = nx.full_rary_tree(branch,i)\n",
    "\n",
    "start = time.time()\n",
    "posG_spring10k = springlayout_2D(G,itr=5000)\n",
    "end = time.time()\n",
    "m,s = exec_time(start,end)\n",
    "\n",
    "pairs = list(dist_network10k.keys())\n",
    "dist_spring = pairwise_layout_distance_linalg(pairs,posG_spring)\n",
    "\n",
    "print('calculate corr. coeff.')\n",
    "r_spring10k = pearson_corrcoef(dist_network10k, dist_spring10k)\n",
    "print('SPRING corr coef: ',r_spring10k)"
   ]
  },
  {
   "cell_type": "code",
   "execution_count": null,
   "metadata": {
    "jupyter": {
     "source_hidden": true
    }
   },
   "outputs": [],
   "source": [
    "#########\n",
    "# 2 0 0 0 0 \n",
    "#########\n",
    "\n",
    "branch=5\n",
    "i=19531\n",
    "G = nx.full_rary_tree(branch,i)\n",
    "\n",
    "print('SPRING')\n",
    "start = time.time()\n",
    "posG_spring = springlayout_2D(G,itr=15)\n",
    "end = time.time()\n",
    "m,s = exec_time(start,end)\n",
    "\n",
    "pairs = list(dist_network20k.keys())\n",
    "dist_spring = pairwise_layout_distance_linalg(pairs,posG_spring)\n",
    "\n",
    "r_spring = pearson_corrcoef(dist_network20k, dist_spring)\n",
    "print('SPRING corr coef: ',r_spring)"
   ]
  },
  {
   "cell_type": "code",
   "execution_count": 5,
   "metadata": {
    "collapsed": true,
    "jupyter": {
     "outputs_hidden": true,
     "source_hidden": true
    }
   },
   "outputs": [
    {
     "name": "stdout",
     "output_type": "stream",
     "text": [
      "Runtime spring for Corr. Coeff. 0.95\n",
      "Execution Time: 05:44:10\n",
      "calculate corr. coeff.\n",
      "done layout distances prep\n",
      "calculate pearson correlation coefficient\n",
      "SPRING corr coef:  0.8910250401932167\n"
     ]
    }
   ],
   "source": [
    "print('Runtime spring for Corr. Coeff. 0.95')\n",
    "\n",
    "branch=5\n",
    "i=19531\n",
    "G = nx.full_rary_tree(branch,i)\n",
    "\n",
    "start = time.time()\n",
    "posG_spring20k = springlayout_2D(G,itr=1000)\n",
    "end = time.time()\n",
    "m,s = exec_time(start,end)\n",
    "\n",
    "pairs = list(dist_network20k.keys())\n",
    "dist_spring = pairwise_layout_distance_linalg(pairs,posG_spring)\n",
    "\n",
    "print('calculate corr. coeff.')\n",
    "r_spring = pearson_corrcoef(dist_network20k, dist_spring20k)\n",
    "print('SPRING corr coef: ',r_spring)"
   ]
  },
  {
   "cell_type": "code",
   "execution_count": 13,
   "metadata": {},
   "outputs": [],
   "source": [
    "# pearson correlation coefficient at run time of: d_netsize_time\n",
    "\n",
    "d_netsize_corr_nx = {\n",
    "                            121:0.970, \n",
    "                            511:0.956, \n",
    "                            1093:0.925, \n",
    "                            5461:0.884,         \n",
    "                            9841:0.868,\n",
    "                            19531:0.809,\n",
    "                           }\n",
    "\n",
    "# run time at pearson corr. coef. of: d_netsize_corr_global\n",
    "\n",
    "d_netsize_time_nx = {\n",
    "                            121:7,\n",
    "                            511:14,\n",
    "                            1093:16,\n",
    "                            5461:12120, #3h 22min\n",
    "                            9841:43200, #12:50 > corr coeff. 0.9052620311187282 > itr = 9000 \n",
    "                            19531:43200 #12h cut off\n",
    "                           }"
   ]
  },
  {
   "cell_type": "markdown",
   "metadata": {},
   "source": [
    "# FORCE-DIRECTED | FORCEATLAS2"
   ]
  },
  {
   "cell_type": "code",
   "execution_count": 6,
   "metadata": {},
   "outputs": [],
   "source": [
    "from fa2 import ForceAtlas2"
   ]
  },
  {
   "cell_type": "code",
   "execution_count": 15,
   "metadata": {
    "collapsed": true,
    "jupyter": {
     "outputs_hidden": true,
     "source_hidden": true
    }
   },
   "outputs": [
    {
     "name": "stdout",
     "output_type": "stream",
     "text": [
      "Run for 3 seconds\n",
      "SPRING - forceAtlas2\n",
      "Execution Time: 00:00:02\n",
      "\n",
      "\n",
      "calulate distances\n",
      "7260\n",
      "1k done\n",
      "complete\n",
      "done layout distances prep\n",
      "calculate pearson correlation coefficient\n",
      "SPRING corr coef:  0.9799683942306886\n"
     ]
    }
   ],
   "source": [
    "print('Run for', d_netsize_time[121],'seconds')\n",
    "      \n",
    "#########\n",
    "# 1 0 0 \n",
    "#########\n",
    "\n",
    "branch=3\n",
    "i=121\n",
    "G = nx.full_rary_tree(branch,i)\n",
    "\n",
    "print('SPRING - forceAtlas2')\n",
    "start = time.time()\n",
    "forceatlas2 = ForceAtlas2(\n",
    "                        #outboundAttractionDistribution=False,#True,  # Dissuade hubs\n",
    "                        #jitterTolerance=1.0,  # Tolerance\n",
    "                        #barnesHutOptimize=False, #True,\n",
    "                        #barnesHutTheta=1.2,\n",
    "                        #strongGravityMode=False,\n",
    "                        #gravity=1.0,\n",
    "                        verbose=False)\n",
    "posG_spring = forceatlas2.forceatlas2_networkx_layout(G, pos=None, iterations=10000)\n",
    "\n",
    "posG_spring_norm = minmaxscaling_posG(G,posG_spring)\n",
    "\n",
    "end = time.time()\n",
    "m,s = exec_time(start,end)\n",
    "\n",
    "print('\\n')\n",
    "\n",
    "pairs = list(dist_network100.keys())\n",
    "print('calulate distances')\n",
    "dist_spring = pairwise_layout_distance_linalg(pairs,posG_spring_norm)\n",
    "\n",
    "r_spring = pearson_corrcoef(dist_network100, dist_spring)\n",
    "print('SPRING corr coef: ',r_spring)"
   ]
  },
  {
   "cell_type": "code",
   "execution_count": 19,
   "metadata": {
    "collapsed": true,
    "jupyter": {
     "outputs_hidden": true,
     "source_hidden": true
    }
   },
   "outputs": [
    {
     "name": "stdout",
     "output_type": "stream",
     "text": [
      "Run for 5 seconds\n",
      "SPRING - forceAtlas2\n",
      "Execution Time: 00:00:05\n",
      "\n",
      "\n",
      "calulate distances\n",
      "130305\n",
      "1k done\n",
      "10k done\n",
      "50k done\n",
      "100k done\n",
      "complete\n",
      "done layout distances prep\n",
      "calculate pearson correlation coefficient\n",
      "SPRING corr coef:  0.9805989107707016\n"
     ]
    }
   ],
   "source": [
    "print('Run for', d_netsize_time[511],'seconds')\n",
    "\n",
    "#########\n",
    "# 5 0 0 \n",
    "#########\n",
    "\n",
    "branch=2\n",
    "i=511\n",
    "G = nx.full_rary_tree(branch,i)\n",
    "                \n",
    "print('SPRING - forceAtlas2')\n",
    "start = time.time()\n",
    "forceatlas2 = ForceAtlas2(verbose=False)\n",
    "posG_spring = forceatlas2.forceatlas2_networkx_layout(G, pos=None, iterations=3200)\n",
    "\n",
    "posG_spring_norm = minmaxscaling_posG(G,posG_spring)\n",
    "\n",
    "end = time.time()\n",
    "m,s = exec_time(start,end)\n",
    "\n",
    "print('\\n')\n",
    "\n",
    "pairs = list(dist_network500.keys())\n",
    "print('calulate distances')\n",
    "dist_spring = pairwise_layout_distance_linalg(pairs,posG_spring_norm)\n",
    "\n",
    "r_spring = pearson_corrcoef(dist_network500, dist_spring)\n",
    "print('SPRING corr coef: ',r_spring)"
   ]
  },
  {
   "cell_type": "code",
   "execution_count": 41,
   "metadata": {
    "collapsed": true,
    "jupyter": {
     "outputs_hidden": true,
     "source_hidden": true
    }
   },
   "outputs": [
    {
     "name": "stdout",
     "output_type": "stream",
     "text": [
      "Run for pearson corr.: 0.992\n",
      "SPRING - forceAtlas2\n",
      "Execution Time: 00:16:27\n",
      "\n",
      "\n",
      "calulate distances\n",
      "130305\n",
      "1k done\n",
      "10k done\n",
      "50k done\n",
      "100k done\n",
      "complete\n",
      "done layout distances prep\n",
      "calculate pearson correlation coefficient\n",
      "SPRING corr coef:  0.9806858547191432\n"
     ]
    }
   ],
   "source": [
    "############################\n",
    "\n",
    "# CORRELATION FACTOR MATCH \n",
    "\n",
    "############################\n",
    "\n",
    "print('Run for pearson corr.:', d_netsize_corr_global[511])\n",
    "\n",
    "branch=2\n",
    "i=511\n",
    "G = nx.full_rary_tree(branch,i)\n",
    "\n",
    "print('SPRING - forceAtlas2')\n",
    "start = time.time()\n",
    "forceatlas2 = ForceAtlas2(verbose=False, barnesHutOptimize=True)\n",
    "posG_spring = forceatlas2.forceatlas2_networkx_layout(G, pos=None, iterations=600000)  \n",
    "\n",
    "posG_spring_norm = minmaxscaling_posG(G,posG_spring)\n",
    "\n",
    "end = time.time()\n",
    "m,s = exec_time(start,end)\n",
    "\n",
    "print('\\n')\n",
    "\n",
    "pairs = list(dist_network500.keys())\n",
    "print('calulate distances')\n",
    "dist_spring = pairwise_layout_distance_linalg(pairs,posG_spring_norm)\n",
    "\n",
    "r_spring = pearson_corrcoef(dist_network500, dist_spring)\n",
    "print('SPRING corr coef: ',r_spring)"
   ]
  },
  {
   "cell_type": "code",
   "execution_count": 33,
   "metadata": {
    "collapsed": true,
    "jupyter": {
     "outputs_hidden": true,
     "source_hidden": true
    }
   },
   "outputs": [
    {
     "name": "stdout",
     "output_type": "stream",
     "text": [
      "Run for 6 seconds\n",
      "SPRING - forceAtlas2\n",
      "Execution Time: 00:00:05\n",
      "\n",
      "\n",
      "calulate distances\n",
      "596778\n",
      "1k done\n",
      "10k done\n",
      "50k done\n",
      "100k done\n",
      "500k done\n",
      "complete\n",
      "done layout distances prep\n",
      "calculate pearson correlation coefficient\n",
      "SPRING corr coef:  0.9723835861585612\n"
     ]
    }
   ],
   "source": [
    "print('Run for', d_netsize_time[1093],'seconds')\n",
    "\n",
    "#########\n",
    "# 1 0 0 0 \n",
    "#########\n",
    "\n",
    "branch=3\n",
    "i=1093\n",
    "G = nx.full_rary_tree(branch,i)\n",
    "\n",
    "print('SPRING - forceAtlas2')\n",
    "start = time.time()\n",
    "forceatlas2 = ForceAtlas2(verbose=False)\n",
    "posG_spring = forceatlas2.forceatlas2_networkx_layout(G, pos=None, iterations=600)\n",
    "\n",
    "posG_spring_norm = minmaxscaling_posG(G,posG_spring)\n",
    "\n",
    "end = time.time()\n",
    "m,s = exec_time(start,end)\n",
    "\n",
    "print('\\n')\n",
    "\n",
    "pairs = list(dist_network1k.keys())\n",
    "print('calulate distances')\n",
    "dist_spring = pairwise_layout_distance_linalg(pairs,posG_spring_norm)\n",
    "\n",
    "r_spring = pearson_corrcoef(dist_network1k, dist_spring)\n",
    "print('SPRING corr coef: ',r_spring)"
   ]
  },
  {
   "cell_type": "code",
   "execution_count": null,
   "metadata": {
    "jupyter": {
     "source_hidden": true
    }
   },
   "outputs": [],
   "source": [
    "############################\n",
    "\n",
    "# CORRELATION FACTOR MATCH \n",
    "\n",
    "############################\n",
    "\n",
    "print('Run for pearson corr.:', d_netsize_corr_global[1093])\n",
    "\n",
    "branch=3\n",
    "i=1093\n",
    "G = nx.full_rary_tree(branch,i)\n",
    "\n",
    "print('SPRING - forceAtlas2')\n",
    "start = time.time()\n",
    "forceatlas2 = ForceAtlas2(verbose=False, barnesHutOptimize=True,\n",
    "                         scalingRatio=2.0, #2.0\n",
    "                         strongGravityMode=False, #False\n",
    "                         gravity=5.0 #1.0 \n",
    "                         )\n",
    "posG_spring = forceatlas2.forceatlas2_networkx_layout(G, pos=None, iterations=150000)  \n",
    "\n",
    "posG_spring_norm = minmaxscaling_posG(G,posG_spring)\n",
    "\n",
    "end = time.time()\n",
    "m,s = exec_time(start,end)\n",
    "\n",
    "print('\\n')\n",
    "\n",
    "pairs = list(dist_network1k.keys())\n",
    "print('calulate distances')\n",
    "dist_spring = pairwise_layout_distance_linalg(pairs,posG_spring_norm)\n",
    "\n",
    "r_spring = pearson_corrcoef(dist_network1k, dist_spring)\n",
    "print('SPRING corr coef: ',r_spring)\n",
    "\n",
    "# iter 12000 > 0.973 > 1min 9s\n",
    "# iter 24000 > 0.975 > 2min 6s\n",
    "# iter 80000 > 0.975 > 6min \n",
    "# iter 15k > 0.98 > 20min 48s"
   ]
  },
  {
   "cell_type": "code",
   "execution_count": 30,
   "metadata": {
    "collapsed": true,
    "jupyter": {
     "outputs_hidden": true,
     "source_hidden": true
    }
   },
   "outputs": [
    {
     "name": "stdout",
     "output_type": "stream",
     "text": [
      "Run for 43 seconds\n",
      "SPRING - forceAtlas2\n",
      "Execution Time: 00:00:44\n",
      "\n",
      "\n",
      "calulate distances\n",
      "14908530\n",
      "1k done\n",
      "10k done\n",
      "50k done\n",
      "100k done\n",
      "500k done\n",
      "1mio done\n",
      "5mio done\n",
      "10mio done\n",
      "complete\n",
      "done layout distances prep\n",
      "calculate pearson correlation coefficient\n",
      "SPRING corr coef:  0.957568549362974\n"
     ]
    }
   ],
   "source": [
    "print('Run for', d_netsize_time[5461],'seconds')\n",
    "\n",
    "#########\n",
    "# 5 0 0 0 \n",
    "#########\n",
    "\n",
    "branch=4\n",
    "i=5461\n",
    "G = nx.full_rary_tree(branch,i)\n",
    "\n",
    "print('SPRING - forceAtlas2')\n",
    "start = time.time()\n",
    "forceatlas2 = ForceAtlas2(verbose=False)\n",
    "posG_spring = forceatlas2.forceatlas2_networkx_layout(G, pos=None, iterations=450)\n",
    "\n",
    "posG_spring_norm = minmaxscaling_posG(G,posG_spring)\n",
    "\n",
    "end = time.time()\n",
    "m,s = exec_time(start,end)\n",
    "\n",
    "print('\\n')\n",
    "\n",
    "pairs = list(dist_network5k.keys())\n",
    "print('calulate distances')\n",
    "dist_spring = pairwise_layout_distance_linalg(pairs,posG_spring_norm)\n",
    "\n",
    "r_spring = pearson_corrcoef(dist_network5k, dist_spring)\n",
    "print('SPRING corr coef: ',r_spring)"
   ]
  },
  {
   "cell_type": "code",
   "execution_count": null,
   "metadata": {},
   "outputs": [
    {
     "name": "stdout",
     "output_type": "stream",
     "text": [
      "Run for pearson corr.: 0.98\n",
      "SPRING - forceAtlas2\n"
     ]
    }
   ],
   "source": [
    "############################\n",
    "\n",
    "# CORRELATION FACTOR MATCH \n",
    "\n",
    "############################\n",
    "\n",
    "print('Run for pearson corr.:', d_netsize_corr_global[5461])\n",
    "\n",
    "branch=4\n",
    "i=5461\n",
    "G = nx.full_rary_tree(branch,i)\n",
    "\n",
    "print('SPRING - forceAtlas2')\n",
    "start = time.time()\n",
    "forceatlas2 = ForceAtlas2(verbose=False ,  barnesHutOptimize=True,\n",
    "                          scalingRatio=2.0, #2.0\n",
    "                         strongGravityMode=False, #False\n",
    "                         gravity=5.0 #1.0 \n",
    "                         )\n",
    "posG_spring = forceatlas2.forceatlas2_networkx_layout(G, pos=None, iterations=150000)\n",
    "\n",
    "posG_spring_norm = minmaxscaling_posG(G,posG_spring)\n",
    "\n",
    "end = time.time()\n",
    "m,s = exec_time(start,end)\n",
    "\n",
    "print('\\n')\n",
    "\n",
    "pairs = list(dist_network5k.keys())\n",
    "print('calulate distances')\n",
    "dist_spring = pairwise_layout_distance_linalg(pairs,posG_spring_norm)\n",
    "\n",
    "r_spring = pearson_corrcoef(dist_network5k, dist_spring)\n",
    "print('SPRING corr coef: ',r_spring)\n",
    "\n",
    "# iter 500 > 0.952 > 24 s \n",
    "# iter 1000 > 0.920 > 47s\n",
    "# iter 150k > "
   ]
  },
  {
   "cell_type": "code",
   "execution_count": null,
   "metadata": {
    "jupyter": {
     "source_hidden": true
    }
   },
   "outputs": [],
   "source": [
    "print('Run for', d_netsize_time[9841],'seconds')\n",
    "\n",
    "#########\n",
    "# 1 0 0 0 0\n",
    "#########\n",
    "branch=3\n",
    "i=9841\n",
    "G = nx.full_rary_tree(branch,i)\n",
    "\n",
    "print('SPRING')\n",
    "start = time.time()\n",
    "forceatlas2 = ForceAtlas2(verbose=False)\n",
    "posG_spring = forceatlas2.forceatlas2_networkx_layout(G, pos=None, iterations=200)\n",
    "\n",
    "posG_spring_norm = minmaxscaling_posG(G,posG_spring)\n",
    "\n",
    "end = time.time()\n",
    "m,s = exec_time(start,end)\n",
    "\n",
    "print('\\n')\n",
    "\n",
    "pairs = list(dist_network10k.keys())\n",
    "print('calulate distances')\n",
    "dist_spring = pairwise_layout_distance_linalg(pairs,posG_spring_norm)\n",
    "\n",
    "r_spring = pearson_corrcoef(dist_network10k, dist_spring)\n",
    "print('SPRING corr coef: ',r_spring)"
   ]
  },
  {
   "cell_type": "code",
   "execution_count": null,
   "metadata": {},
   "outputs": [],
   "source": [
    "############################\n",
    "\n",
    "# CORRELATION FACTOR MATCH \n",
    "\n",
    "#####################z#######\n",
    "\n",
    "print('Run for pearson corr.:', d_netsize_corr_global[9841])\n",
    "\n",
    "branch=3\n",
    "i=9841\n",
    "G = nx.full_rary_tree(branch,i)\n",
    "\n",
    "print('SPRING - forceAtlas2')\n",
    "start = time.time()\n",
    "forceatlas2 = ForceAtlas2(verbose=False, barnesHutOptimize=True)\n",
    "posG_spring = forceatlas2.forceatlas2_networkx_layout(G, pos=None, iterations=20000)\n",
    "\n",
    "posG_spring_norm = minmaxscaling_posG(G,posG_spring)\n",
    "\n",
    "end = time.time()\n",
    "m,s = exec_time(start,end)\n",
    "\n",
    "print('\\n')\n",
    "\n",
    "pairs = list(dist_network10k.keys())\n",
    "print('calulate distances')\n",
    "dist_spring = pairwise_layout_distance_linalg(pairs,posG_spring_norm)\n",
    "\n",
    "r_spring = pearson_corrcoef(dist_network10k, dist_spring)\n",
    "print('SPRING corr coef: ',r_spring)\n",
    "\n",
    "# iter 5000 > 0.902 > 15min 54s  "
   ]
  },
  {
   "cell_type": "code",
   "execution_count": 101,
   "metadata": {
    "collapsed": true,
    "jupyter": {
     "outputs_hidden": true,
     "source_hidden": true
    }
   },
   "outputs": [
    {
     "name": "stdout",
     "output_type": "stream",
     "text": [
      "Run for 269 seconds\n",
      "SPRING - forceAtlas2\n",
      "Execution Time: 00:04:24\n"
     ]
    }
   ],
   "source": [
    "print('Run for', d_netsize_time[19531],'seconds')\n",
    "\n",
    "#########\n",
    "# 2 0 0 0 0\n",
    "#########\n",
    "\n",
    "branch=5\n",
    "i=19531\n",
    "G = nx.full_rary_tree(branch,i)\n",
    "\n",
    "print('SPRING - forceAtlas2')\n",
    "start = time.time()\n",
    "forceatlas2 = ForceAtlas2(verbose=False)\n",
    "posG_spring = forceatlas2.forceatlas2_networkx_layout(G, pos=None, iterations=950)\n",
    "\n",
    "posG_spring_norm = minmaxscaling_posG(posG_spring)\n",
    "\n",
    "end = time.time()\n",
    "m,s = exec_time(start,end)"
   ]
  },
  {
   "cell_type": "code",
   "execution_count": null,
   "metadata": {
    "collapsed": true,
    "jupyter": {
     "outputs_hidden": true,
     "source_hidden": true
    }
   },
   "outputs": [
    {
     "name": "stdout",
     "output_type": "stream",
     "text": [
      "190720215\n",
      "1k done\n",
      "10k done\n",
      "50k done\n",
      "100k done\n",
      "500k done\n",
      "1mio done\n",
      "5mio done\n",
      "10mio done\n",
      "15mio done\n",
      "20mio done\n",
      "25mio done\n",
      "30mio done\n",
      "40mio done\n"
     ]
    }
   ],
   "source": [
    "pairs = list(dist_network20k.keys())\n",
    "dist_spring = pairwise_layout_distance_linalg(pairs,posG_spring_norm)\n",
    "\n",
    "print('calculate pearson corr.coef.')\n",
    "r_spring = pearson_corrcoef(dist_network20k, dist_spring)\n",
    "print('SPRING corr coef: ',r_spring)"
   ]
  },
  {
   "cell_type": "code",
   "execution_count": null,
   "metadata": {
    "jupyter": {
     "source_hidden": true
    }
   },
   "outputs": [],
   "source": [
    "############################\n",
    "\n",
    "# CORRELATION FACTOR MATCH \n",
    "\n",
    "############################\n",
    "\n",
    "print('Run for pearson corr.:', d_netsize_corr_global[19531])\n",
    "\n",
    "branch=5\n",
    "i=19531\n",
    "G = nx.full_rary_tree(branch,i)\n",
    "\n",
    "print('SPRING - forceAtlas2')\n",
    "start = time.time()\n",
    "forceatlas2 = ForceAtlas2(verbose=False)\n",
    "posG_spring = forceatlas2.forceatlas2_networkx_layout(G, pos=None, iterations=10000)\n",
    "\n",
    "posG_spring_norm = minmaxscaling_posG(posG_spring)\n",
    "\n",
    "end = time.time()\n",
    "m,s = exec_time(start,end)\n",
    "\n",
    "print('\\n')\n",
    "\n",
    "pairs = list(dist_network20k.keys())\n",
    "print('calulate distances')\n",
    "dist_spring = pairwise_layout_distance_linalg(pairs,posG_spring_norm)\n",
    "\n",
    "r_spring = pearson_corrcoef(dist_network20k, dist_spring)\n",
    "print('SPRING corr coef: ',r_spring)"
   ]
  },
  {
   "cell_type": "code",
   "execution_count": 14,
   "metadata": {},
   "outputs": [],
   "source": [
    "# pearson correlation coefficient at run time of: d_netsize_time\n",
    "\n",
    "d_netsize_corr_fa = {\n",
    "                            121:0.980, \n",
    "                            511:0.978, \n",
    "                            1093:0.972,\n",
    "                            5461:0.958,\n",
    "                            9841:0.936,\n",
    "                            19531:0.864\n",
    "                           }"
   ]
  },
  {
   "cell_type": "code",
   "execution_count": null,
   "metadata": {},
   "outputs": [],
   "source": [
    "# run time at pearson corr. coef. of: d_netsize_corr_global\n",
    "\n",
    "d_netsize_time_fa = {\n",
    "                        121: 3, \n",
    "                        511: 5,\n",
    "                        1093: 1248, #20min 48s\n",
    "                        5461:\n",
    "                        9841: \n",
    "                        19531: 43200 # cutoff\n",
    "                           }"
   ]
  },
  {
   "cell_type": "markdown",
   "metadata": {},
   "source": [
    "# FORCE-DIRECTED | iGRAPH\n",
    "+ https://igraph.org/python/doc/tutorial/visualisation.html\n",
    "+ https://towardsdatascience.com/newbies-guide-to-python-igraph-4e51689c35b4\n",
    "+ https://igraph.org/c/doc/igraph-Layout.html#igraph_layout_fruchterman_reingold_3d\n",
    "+ using the fruchterman-reingold layout"
   ]
  },
  {
   "cell_type": "code",
   "execution_count": 14,
   "metadata": {},
   "outputs": [],
   "source": [
    "import igraph as ig"
   ]
  },
  {
   "cell_type": "code",
   "execution_count": 40,
   "metadata": {
    "collapsed": true,
    "jupyter": {
     "outputs_hidden": true,
     "source_hidden": true
    }
   },
   "outputs": [
    {
     "name": "stdout",
     "output_type": "stream",
     "text": [
      "Run for 3 seconds\n",
      "SPRING - igraph\n",
      "Execution Time: 00:00:03\n",
      "7260\n",
      "1k done\n",
      "complete\n",
      "done layout distances prep\n",
      "calculate pearson correlation coefficient\n",
      "SPRING corr coef:  0.9704270606828345\n"
     ]
    }
   ],
   "source": [
    "print('Run for', d_netsize_time[121],'seconds')\n",
    "\n",
    "#########\n",
    "# 1 0 0 \n",
    "#########\n",
    "\n",
    "branch=3\n",
    "i=121\n",
    "nxG = nx.full_rary_tree(branch,i)\n",
    "iG = ig.Graph.from_networkx(nxG)\n",
    "\n",
    "print('SPRING - igraph')\n",
    "start = time.time()\n",
    "posG  = iG.layout_fruchterman_reingold(niter= 80000)\n",
    "posG_spring = dict(zip(nxG.nodes(),posG))\n",
    "end = time.time()\n",
    "m,s = exec_time(start,end)\n",
    "\n",
    "pairs = list(dist_network100.keys())\n",
    "dist_spring = pairwise_layout_distance_linalg(pairs,posG_spring)\n",
    "\n",
    "r_spring = pearson_corrcoef(dist_network100, dist_spring)\n",
    "print('SPRING corr coef: ',r_spring)"
   ]
  },
  {
   "cell_type": "code",
   "execution_count": 24,
   "metadata": {},
   "outputs": [
    {
     "name": "stdout",
     "output_type": "stream",
     "text": [
      "Run for pearson corr.: 0.98\n",
      "SPRING - igraph\n",
      "Execution Time: 00:03:31\n",
      "7260\n",
      "1k done\n",
      "complete\n",
      "done layout distances prep\n",
      "calculate pearson correlation coefficient\n",
      "SPRING corr coef:  0.970554370396568\n"
     ]
    }
   ],
   "source": [
    "print('Run for pearson corr.:', d_netsize_corr_global[121])\n",
    "\n",
    "############################\n",
    "\n",
    "# CORRELATION FACTOR MATCH \n",
    "\n",
    "############################\n",
    "\n",
    "branch=3\n",
    "i=121\n",
    "nxG = nx.full_rary_tree(branch,i)\n",
    "iG = ig.Graph.from_networkx(nxG)\n",
    "\n",
    "print('SPRING - igraph')\n",
    "start = time.time()\n",
    "posG = iG.layout_fruchterman_reingold(niter=4500000)\n",
    "posG_spring = dict(zip(nxG.nodes(),posG))\n",
    "end = time.time()\n",
    "m,s = exec_time(start,end)\n",
    "\n",
    "pairs = list(dist_network100.keys())\n",
    "dist_spring = pairwise_layout_distance_linalg(pairs,posG_spring)\n",
    "\n",
    "r_spring = pearson_corrcoef(dist_network100, dist_spring)\n",
    "print('SPRING corr coef: ',r_spring)\n",
    "\n",
    "# iter 850k > 0.970 > 40s\n",
    "# iter 950k > 0.971 > 42s\n",
    "# iter 1250k > 0.971 > 61s\n",
    "# iter 4500k > 0.971 > 3min 31s"
   ]
  },
  {
   "cell_type": "code",
   "execution_count": 39,
   "metadata": {
    "collapsed": true,
    "jupyter": {
     "outputs_hidden": true,
     "source_hidden": true
    }
   },
   "outputs": [
    {
     "name": "stdout",
     "output_type": "stream",
     "text": [
      "Run for 5 seconds\n",
      "SPRING - igraph\n",
      "Execution Time: 00:00:05\n",
      "130305\n",
      "1k done\n",
      "10k done\n",
      "50k done\n",
      "100k done\n",
      "complete\n",
      "done layout distances prep\n",
      "calculate pearson correlation coefficient\n",
      "SPRING corr coef:  0.9684996499035615\n"
     ]
    }
   ],
   "source": [
    "print('Run for', d_netsize_time[511],'seconds')\n",
    "\n",
    "#########\n",
    "# 5 0 0 \n",
    "#########\n",
    "\n",
    "branch=2\n",
    "i=511\n",
    "nxG = nx.full_rary_tree(branch,i)\n",
    "iG = ig.Graph.from_networkx(nxG)\n",
    "\n",
    "print('SPRING - igraph')\n",
    "start = time.time()\n",
    "posG  = iG.layout_fruchterman_reingold(niter= 10000)\n",
    "posG_spring = dict(zip(nxG.nodes(),posG))\n",
    "end = time.time()\n",
    "m,s = exec_time(start,end)\n",
    "\n",
    "pairs = list(dist_network500.keys())\n",
    "dist_spring = pairwise_layout_distance_linalg(pairs,posG_spring)\n",
    "\n",
    "r_spring = pearson_corrcoef(dist_network500, dist_spring)\n",
    "print('SPRING corr coef: ',r_spring)"
   ]
  },
  {
   "cell_type": "code",
   "execution_count": null,
   "metadata": {},
   "outputs": [],
   "source": [
    "print('Run for pearson corr.:', d_netsize_corr_global[511])\n",
    "\n",
    "############################\n",
    "\n",
    "# CORRELATION FACTOR MATCH \n",
    "\n",
    "############################\n",
    "\n",
    "branch=2\n",
    "i=511\n",
    "nxG = nx.full_rary_tree(branch,i)\n",
    "iG = ig.Graph.from_networkx(nxG)\n",
    "\n",
    "print('SPRING - igraph')\n",
    "start = time.time()\n",
    "posG = iG.layout_fruchterman_reingold(niter= 50)\n",
    "posG_spring = dict(zip(nxG.nodes(),posG))\n",
    "end = time.time()\n",
    "m,s = exec_time(start,end)\n",
    "\n",
    "pairs = list(dist_network500.keys())\n",
    "dist_spring = pairwise_layout_distance_linalg(pairs,posG_spring)\n",
    "\n",
    "r_spring = pearson_corrcoef(dist_network500, dist_spring)\n",
    "print('SPRING corr coef: ',r_spring)\n",
    "\n",
    "# iter 35k > 0.962 > 28s\n",
    "# iter 135k > 0.963 > 1min 31s\n",
    "# iter 250k > 0.963 > 2min 42s \n",
    "# iter 50mio > "
   ]
  },
  {
   "cell_type": "code",
   "execution_count": 45,
   "metadata": {
    "collapsed": true,
    "jupyter": {
     "outputs_hidden": true,
     "source_hidden": true
    }
   },
   "outputs": [
    {
     "name": "stdout",
     "output_type": "stream",
     "text": [
      "Run for 6 seconds\n",
      "SPRING - igraph\n",
      "Execution Time: 00:00:06\n",
      "596778\n",
      "1k done\n",
      "10k done\n",
      "50k done\n",
      "100k done\n",
      "500k done\n",
      "complete\n",
      "done layout distances prep\n",
      "calculate pearson correlation coefficient\n",
      "SPRING corr coef:  0.9880712680876592\n"
     ]
    }
   ],
   "source": [
    "print('Run for', d_netsize_time[1093],'seconds')\n",
    "\n",
    "#########\n",
    "# 1 0 0 0 \n",
    "#########\n",
    "\n",
    "branch=3\n",
    "i=1093\n",
    "nxG = nx.full_rary_tree(branch,i)\n",
    "iG = ig.Graph.from_networkx(nxG)\n",
    "\n",
    "print('SPRING - igraph')\n",
    "start = time.time()\n",
    "posG  = iG.layout_fruchterman_reingold(niter=32000)\n",
    "posG_spring = dict(zip(nxG.nodes(),posG))\n",
    "end = time.time()\n",
    "m,s = exec_time(start,end)\n",
    "\n",
    "pairs = list(dist_network1k.keys())\n",
    "dist_spring = pairwise_layout_distance_linalg(pairs,posG_spring)\n",
    "\n",
    "r_spring = pearson_corrcoef(dist_network1k, dist_spring)\n",
    "print('SPRING corr coef: ',r_spring)"
   ]
  },
  {
   "cell_type": "code",
   "execution_count": null,
   "metadata": {},
   "outputs": [],
   "source": [
    "############################\n",
    "\n",
    "# CORRELATION FACTOR MATCH \n",
    "\n",
    "############################\n",
    "\n",
    "print('Run for pearson corr.:', d_netsize_corr_global[1093])\n",
    "\n",
    "branch=3\n",
    "i=1093\n",
    "nxG = nx.full_rary_tree(branch,i)\n",
    "iG = ig.Graph.from_networkx(nxG)\n",
    "\n",
    "print('SPRING - igraph')\n",
    "start = time.time()\n",
    "posG = iG.layout_fruchterman_reingold(niter= 15000)\n",
    "posG_spring = dict(zip(nxG.nodes(),posG))\n",
    "end = time.time()\n",
    "m,s = exec_time(start,end)\n",
    "\n",
    "pairs = list(dist_network1k.keys())\n",
    "dist_spring = pairwise_layout_distance_linalg(pairs,posG_spring)\n",
    "\n",
    "r_spring = pearson_corrcoef(dist_network1k, dist_spring)\n",
    "print('SPRING corr coef: ',r_spring)"
   ]
  },
  {
   "cell_type": "code",
   "execution_count": 47,
   "metadata": {
    "collapsed": true,
    "jupyter": {
     "outputs_hidden": true,
     "source_hidden": true
    }
   },
   "outputs": [
    {
     "name": "stdout",
     "output_type": "stream",
     "text": [
      "Run for 43 seconds\n",
      "SPRING - igraph\n",
      "Execution Time: 00:00:47\n",
      "14908530\n",
      "1k done\n",
      "10k done\n",
      "50k done\n",
      "100k done\n",
      "500k done\n",
      "1mio done\n",
      "5mio done\n",
      "10mio done\n",
      "complete\n",
      "done layout distances prep\n",
      "calculate pearson correlation coefficient\n",
      "SPRING corr coef:  0.9624744525912869\n"
     ]
    }
   ],
   "source": [
    "print('Run for', d_netsize_time[5461],'seconds')\n",
    "\n",
    "#########\n",
    "# 5 0 0 0 \n",
    "#########\n",
    "\n",
    "branch=4\n",
    "i=5461\n",
    "nxG = nx.full_rary_tree(branch,i)\n",
    "iG = ig.Graph.from_networkx(nxG)\n",
    "\n",
    "print('SPRING - igraph')\n",
    "start = time.time()\n",
    "posG  = iG.layout_fruchterman_reingold(niter=50000)\n",
    "posG_spring = dict(zip(nxG.nodes(),posG))\n",
    "end = time.time()\n",
    "m,s = exec_time(start,end)\n",
    "\n",
    "pairs = list(dist_network5k.keys())\n",
    "dist_spring = pairwise_layout_distance_linalg(pairs,posG_spring)\n",
    "\n",
    "r_spring = pearson_corrcoef(dist_network5k, dist_spring)\n",
    "print('SPRING corr coef: ',r_spring)"
   ]
  },
  {
   "cell_type": "code",
   "execution_count": 36,
   "metadata": {
    "collapsed": true,
    "jupyter": {
     "outputs_hidden": true,
     "source_hidden": true
    }
   },
   "outputs": [
    {
     "name": "stdout",
     "output_type": "stream",
     "text": [
      "Run for 76 seconds\n",
      "SPRING - igraph\n",
      "Execution Time: 00:01:18\n",
      "done layout distances prep\n",
      "calculate pearson correlation coefficient\n",
      "SPRING corr coef:  0.9504824380645777\n"
     ]
    }
   ],
   "source": [
    "print('Run for', d_netsize_time[9841],'seconds')\n",
    "\n",
    "#########\n",
    "# 1 0 0 0 0\n",
    "#########\n",
    "branch=3\n",
    "i=9841\n",
    "nxG = nx.full_rary_tree(branch,i)\n",
    "iG = ig.Graph.from_networkx(nxG)\n",
    "\n",
    "print('SPRING - igraph')\n",
    "start = time.time()\n",
    "posG  = iG.layout_fruchterman_reingold(niter= 30000)\n",
    "posG_spring = dict(zip(nxG.nodes(),posG))\n",
    "end = time.time()\n",
    "m,s = exec_time(start,end)\n",
    "\n",
    "pairs = list(dist_network10k.keys())\n",
    "dist_spring = pairwise_layout_distance_linalg(pairs,posG_spring)\n",
    "\n",
    "r_spring = pearson_corrcoef(dist_network10k, dist_spring)\n",
    "print('SPRING corr coef: ',r_spring)"
   ]
  },
  {
   "cell_type": "code",
   "execution_count": null,
   "metadata": {
    "jupyter": {
     "source_hidden": true
    }
   },
   "outputs": [],
   "source": [
    "print('Run for', d_netsize_time[19531],'seconds')\n",
    "\n",
    "#########\n",
    "# 2 0 0 0 0\n",
    "#########\n",
    "\n",
    "branch=5\n",
    "i=19531\n",
    "nxG = nx.full_rary_tree(branch,i)\n",
    "iG = ig.Graph.from_networkx(nxG)\n",
    "\n",
    "print('SPRING - igraph')\n",
    "start = time.time()\n",
    "print('distance calculation')\n",
    "posG  = iG.layout_fruchterman_reingold(niter= 30000)\n",
    "posG_spring = dict(zip(nxG.nodes(),posG))\n",
    "end = time.time()\n",
    "m,s = exec_time(start,end)\n",
    "\n",
    "pairs = list(dist_network20k.keys())\n",
    "dist_spring = pairwise_layout_distance_linalg(pairs,posG_spring)\n",
    "\n",
    "r_spring = pearson_corrcoef(dist_network20k, dist_spring)\n",
    "print('SPRING corr coef: ',r_spring)"
   ]
  },
  {
   "cell_type": "code",
   "execution_count": 15,
   "metadata": {},
   "outputs": [],
   "source": [
    "# pearson correlation coefficient at run time of: d_netsize_time\n",
    "\n",
    "d_netsize_corr_ig = {\n",
    "                            121:0.970, \n",
    "                            511:0.968, \n",
    "                            1093:0.987,\n",
    "                            5461:0.962,\n",
    "                            9841:0.950,\n",
    "                            19531:0.879 \n",
    "                           }"
   ]
  },
  {
   "cell_type": "code",
   "execution_count": null,
   "metadata": {},
   "outputs": [],
   "source": [
    "# run time at pearson corr. coef. of: d_netsize_corr_global\n",
    "\n",
    "d_netsize_time_ig = {\n",
    "                        121: ,\n",
    "                        511: , \n",
    "                        1093: ,\n",
    "                        5461: ,\n",
    "                        9841: ,\n",
    "                        19531:43200 #cutoff\n",
    "                           }"
   ]
  },
  {
   "cell_type": "markdown",
   "metadata": {},
   "source": [
    "# DIAGRAMS \n",
    "+ comparing runtime and pearson corr. coeff. of global layout to three force-directed layout methods "
   ]
  },
  {
   "cell_type": "code",
   "execution_count": 18,
   "metadata": {},
   "outputs": [
    {
     "data": {
      "image/png": "[encoded data removed]",
      "text/plain": [
       "<Figure size 2400x2400 with 1 Axes>"
      ]
     },
     "metadata": {
      "needs_background": "light"
     },
     "output_type": "display_data"
    }
   ],
   "source": [
    "########################################\n",
    "#\n",
    "# Network size vs. Correlation Factor \n",
    "# with same running time\n",
    "#\n",
    "########################################\n",
    "\n",
    "labelsize = 16 \n",
    "\n",
    "xaxis_times = list(d_netsize_time.keys())\n",
    "\n",
    "x_fa = xaxis_times \n",
    "y_fa = list(d_netsize_corr_fa.values())\n",
    "\n",
    "x_nx = xaxis_times \n",
    "y_nx = list(d_netsize_corr_nx.values())\n",
    "\n",
    "x_ig = xaxis_times \n",
    "y_ig = list(d_netsize_corr_ig.values())\n",
    "\n",
    "x_layout = xaxis_times\n",
    "y_layout = list(d_netsize_corr_global.values())\n",
    "\n",
    "\n",
    "fig = plt.figure(figsize=(8,8), dpi=300)\n",
    "\n",
    "plt.xlabel(\"Network Size [# Nodes]\", fontsize=labelsize)\n",
    "plt.ylabel(\"Pearson Corr.Coeff.\", fontsize=labelsize)\n",
    "\n",
    "\n",
    "plt.plot(x_nx,y_nx, '--', c = 'skyblue', alpha = 0.8, linewidth=1,label='networkx')\n",
    "plt.scatter(x_nx,y_nx, c = 'skyblue', s = 30, alpha = 1.0)\n",
    "\n",
    "plt.plot(x_fa,y_fa, '--', c = 'cornflowerblue', alpha = 0.8, linewidth=1,label='forceatlas2')\n",
    "plt.scatter(x_fa,y_fa, c = 'cornflowerblue', s = 30, alpha = 1.0)\n",
    "\n",
    "plt.plot(x_ig,y_ig, '--', c = 'royalblue', alpha = 0.8, linewidth=1,label='python-igraph')\n",
    "plt.scatter(x_ig,y_ig, c = 'royalblue', s = 30, alpha = 1.0)\n",
    "\n",
    "plt.plot(x_layout,y_layout, '--', c = 'orange', alpha = 0.8, linewidth=1,label='cartographs')\n",
    "plt.scatter(x_layout,y_layout, c = 'orange', s = 30, alpha = 1.0)\n",
    "\n",
    "plt.grid(True, c='lightgrey', alpha=0.5)\n",
    "plt.suptitle('2D | Network Size vs. Corr. Factor | '+organism, fontsize=10)\n",
    "plt.ylim(ymin=0, ymax=1.05)\n",
    "plt.legend()\n",
    "\n",
    "\n",
    "fig.savefig('../output_plots/benchmark/upscaledNEW_2D_CorrNetsize_'+organism+'_ig_nx_fa.png')"
   ]
  },
  {
   "cell_type": "code",
   "execution_count": 20,
   "metadata": {},
   "outputs": [
    {
     "ename": "NameError",
     "evalue": "name 'd_netsize_time_fa' is not defined",
     "output_type": "error",
     "traceback": [
      "\u001b[0;31m---------------------------------------------------------------------------\u001b[0m",
      "\u001b[0;31mNameError\u001b[0m                                 Traceback (most recent call last)",
      "\u001b[0;32m<ipython-input-20-497b7294d687>\u001b[0m in \u001b[0;36m<module>\u001b[0;34m\u001b[0m\n\u001b[1;32m     11\u001b[0m \u001b[0;34m\u001b[0m\u001b[0m\n\u001b[1;32m     12\u001b[0m \u001b[0mx_fa\u001b[0m \u001b[0;34m=\u001b[0m \u001b[0mxaxis_corr_coef\u001b[0m\u001b[0;34m\u001b[0m\u001b[0;34m\u001b[0m\u001b[0m\n\u001b[0;32m---> 13\u001b[0;31m \u001b[0my_fa\u001b[0m \u001b[0;34m=\u001b[0m \u001b[0;34m[\u001b[0m\u001b[0;34m(\u001b[0m\u001b[0mi\u001b[0m\u001b[0;34m/\u001b[0m\u001b[0;36m60\u001b[0m\u001b[0;34m)\u001b[0m \u001b[0;32mfor\u001b[0m \u001b[0mi\u001b[0m \u001b[0;32min\u001b[0m \u001b[0md_netsize_time_fa\u001b[0m\u001b[0;34m.\u001b[0m\u001b[0mvalues\u001b[0m\u001b[0;34m(\u001b[0m\u001b[0;34m)\u001b[0m\u001b[0;34m]\u001b[0m\u001b[0;31m# list(d_netsize_time_spring.values())\u001b[0m\u001b[0;34m\u001b[0m\u001b[0;34m\u001b[0m\u001b[0m\n\u001b[0m\u001b[1;32m     14\u001b[0m \u001b[0;34m\u001b[0m\u001b[0m\n\u001b[1;32m     15\u001b[0m \u001b[0mx_nx\u001b[0m \u001b[0;34m=\u001b[0m \u001b[0mxaxis_corr_coef\u001b[0m\u001b[0;34m\u001b[0m\u001b[0;34m\u001b[0m\u001b[0m\n",
      "\u001b[0;31mNameError\u001b[0m: name 'd_netsize_time_fa' is not defined"
     ]
    }
   ],
   "source": [
    "########################################\n",
    "#\n",
    "# Network size vs. time\n",
    "# with same correlation factor\n",
    "#\n",
    "########################################\n",
    "\n",
    "labelsize = 16 \n",
    "\n",
    "xaxis_corr_coef = list(d_netsize_corr_global.keys())\n",
    "\n",
    "x_fa = xaxis_corr_coef\n",
    "y_fa = [(i/60) for i in d_netsize_time_fa.values()]# list(d_netsize_time_spring.values())\n",
    "\n",
    "x_nx = xaxis_corr_coef\n",
    "y_nx = [(i/60) for i in d_netsize_time_nx.values()]# list(d_netsize_time_spring.values())\n",
    "\n",
    "x_gt = xaxis_corr_coef\n",
    "y_gt = [(i/60) for i in d_netsize_time_gt.values()]# list(d_netsize_time_spring.values())\n",
    "\n",
    "x_layout = list(d_netsize_time.keys())\n",
    "y_layout = [(i/60) for i in d_netsize_time_global.values()]# list(d_netsize_time_spring.values())\n",
    "\n",
    "fig = plt.figure(figsize=(8,8), dpi=300)\n",
    "\n",
    "plt.xlabel(\"Network Size [# Nodes]\", fontsize=labelsize)\n",
    "plt.yticks([0,60,120,180,240,300,360,420,480,540,600,660,720])\n",
    "plt.ylabel(\"Wall Time [min]\", fontsize=labelsize)\n",
    "\n",
    "plt.plot(x_fa,y_fa, '--', c = 'cornflowerblue', alpha = 0.8, linewidth=1)\n",
    "plt.scatter(x_fa,y_fa, c = 'cornflowerblue', s = 30, alpha = 1.0)\n",
    "\n",
    "plt.plot(x_nx,y_nx, '--', c = 'mediumblue', alpha = 0.8, linewidth=1)\n",
    "plt.scatter(x_nx,y_nx, c = 'mediumblue', s = 30, alpha = 1.0)\n",
    "\n",
    "plt.plot(x_gt,y_gt, '--', c = 'mediumblue', alpha = 0.8, linewidth=1)\n",
    "plt.scatter(x_gt,y_gt, c = 'mediumblue', s = 30, alpha = 1.0)\n",
    "\n",
    "plt.plot(x_layout,y_layout, '--', c = 'orange', alpha = 0.8, linewidth=1)\n",
    "plt.scatter(x_layout,y_layout, c = 'orange', s = 30, alpha = 1.0)\n",
    "\n",
    "plt.grid(True, c='lightgrey', alpha=0.5)\n",
    "plt.suptitle('2D | Network Size vs. Wall Time | '+organism, fontsize=10)\n",
    "\n",
    "fig.savefig('../../output_plots/benchmark/upscaledNEW_2D_TimeNetsize_'+organism+'_ig_nx_fa.png')"
   ]
  },
  {
   "cell_type": "code",
   "execution_count": null,
   "metadata": {},
   "outputs": [],
   "source": []
  },
  {
   "cell_type": "code",
   "execution_count": null,
   "metadata": {},
   "outputs": [],
   "source": []
  }
 ],
 "metadata": {
  "kernelspec": {
   "display_name": "Python [conda env:miniconda3-myenv_clip2]",
   "language": "python",
   "name": "conda-env-miniconda3-myenv_clip2-py"
  },
  "language_info": {
   "codemirror_mode": {
    "name": "ipython",
    "version": 3
   },
   "file_extension": ".py",
   "mimetype": "text/x-python",
   "name": "python",
   "nbconvert_exporter": "python",
   "pygments_lexer": "ipython3",
   "version": "3.6.13"
  }
 },
 "nbformat": 4,
 "nbformat_minor": 4
}
