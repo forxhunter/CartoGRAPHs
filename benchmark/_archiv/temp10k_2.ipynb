{
 "cells": [
  {
   "cell_type": "code",
   "execution_count": 1,
   "id": "civilian-rebel",
   "metadata": {},
   "outputs": [],
   "source": [
    "from benchmark_main import *"
   ]
  },
  {
   "cell_type": "code",
   "execution_count": 2,
   "id": "honest-lending",
   "metadata": {},
   "outputs": [],
   "source": [
    "# cube 10k \n",
    "G = nx.grid_graph([22,22,22],periodic=False)"
   ]
  },
  {
   "cell_type": "code",
   "execution_count": 3,
   "id": "prospective-transcript",
   "metadata": {},
   "outputs": [
    {
     "data": {
      "text/plain": [
       "56684628"
      ]
     },
     "execution_count": 3,
     "metadata": {},
     "output_type": "execute_result"
    }
   ],
   "source": [
    "pairs = list(it.combinations(G.nodes(),2))\n",
    "len(pairs)"
   ]
  },
  {
   "cell_type": "code",
   "execution_count": 6,
   "id": "historical-memory",
   "metadata": {},
   "outputs": [],
   "source": [
    "first=pairs[:1000000]\n",
    "second=pairs[1000000:5000000]\n",
    "third=pairs[5000000:10000000]\n",
    "fourth=pairs[10000000:20000000]\n",
    "fifth=pairs[20000000:30000000]\n",
    "fifth=pairs[30000000:40000000]\n",
    "sixth=pairs[40000000:50000000]\n",
    "seventh=pairs[50000000:]"
   ]
  },
  {
   "cell_type": "code",
   "execution_count": 12,
   "id": "hourly-cedar",
   "metadata": {
    "collapsed": true,
    "jupyter": {
     "outputs_hidden": true,
     "source_hidden": true
    }
   },
   "outputs": [
    {
     "name": "stdout",
     "output_type": "stream",
     "text": [
      "total to calculate: 1000000\n",
      "100 done\n",
      "1k done\n",
      "10k done\n",
      "50k done\n",
      "100k done\n",
      "500k done\n",
      "1mio done\n",
      "save done\n"
     ]
    }
   ],
   "source": [
    "dist_network_first=pairwise_network_distance_parts(G,first)\n",
    "\n",
    "a_file = open('netdist_precalc/dist_network_'+str(len(G.nodes()))+'_cube_first.pkl', \"wb\")\n",
    "pickle.dump(dist_network_first, a_file)\n",
    "a_file.close()\n",
    "print('save done')"
   ]
  },
  {
   "cell_type": "code",
   "execution_count": 13,
   "id": "upper-imagination",
   "metadata": {
    "collapsed": true,
    "jupyter": {
     "outputs_hidden": true,
     "source_hidden": true
    }
   },
   "outputs": [
    {
     "name": "stdout",
     "output_type": "stream",
     "text": [
      "total to calculate: 4000000\n",
      "100 done\n",
      "1k done\n",
      "10k done\n",
      "50k done\n",
      "100k done\n",
      "500k done\n",
      "1mio done\n",
      "complete\n",
      "save done\n"
     ]
    }
   ],
   "source": [
    "dist_network_second = pairwise_network_distance_parts(G,second)\n",
    "\n",
    "b_file = open('netdist_precalc/dist_network_'+str(len(G.nodes()))+'_cube_second.pkl', \"wb\")\n",
    "pickle.dump(dist_network_second, b_file)\n",
    "b_file.close()\n",
    "print('save done')"
   ]
  },
  {
   "cell_type": "code",
   "execution_count": 14,
   "id": "integral-scenario",
   "metadata": {
    "collapsed": true,
    "jupyter": {
     "outputs_hidden": true,
     "source_hidden": true
    }
   },
   "outputs": [
    {
     "name": "stdout",
     "output_type": "stream",
     "text": [
      "total to calculate: 5000000\n",
      "100 done\n",
      "1k done\n",
      "10k done\n",
      "50k done\n",
      "100k done\n",
      "500k done\n",
      "1mio done\n",
      "5mio done\n",
      "save done\n"
     ]
    }
   ],
   "source": [
    "dist_network_third = pairwise_network_distance_parts(G,third)\n",
    "\n",
    "c_file = open('netdist_precalc/dist_network_'+str(len(G.nodes()))+'_cube_third.pkl', \"wb\")\n",
    "pickle.dump(dist_network_third, c_file)\n",
    "c_file.close()\n",
    "print('save done')"
   ]
  },
  {
   "cell_type": "code",
   "execution_count": 5,
   "id": "defined-cabin",
   "metadata": {
    "collapsed": true,
    "jupyter": {
     "outputs_hidden": true,
     "source_hidden": true
    }
   },
   "outputs": [
    {
     "name": "stdout",
     "output_type": "stream",
     "text": [
      "total to calculate: 10000000\n",
      "100 done\n",
      "1k done\n",
      "10k done\n",
      "50k done\n",
      "100k done\n",
      "500k done\n",
      "1mio done\n",
      "5mio done\n",
      "10mio done\n",
      "save done\n"
     ]
    }
   ],
   "source": [
    "dist_network_fourth = pairwise_network_distance_parts(G,fourth)\n",
    "\n",
    "d_file = open('netdist_precalc/dist_network_'+str(len(G.nodes()))+'_cube_fourth.pkl', \"wb\")\n",
    "pickle.dump(dist_network_fourth, d_file)\n",
    "d_file.close()\n",
    "print('save done')"
   ]
  },
  {
   "cell_type": "code",
   "execution_count": 5,
   "id": "forward-influence",
   "metadata": {
    "collapsed": true,
    "jupyter": {
     "outputs_hidden": true,
     "source_hidden": true
    }
   },
   "outputs": [
    {
     "name": "stdout",
     "output_type": "stream",
     "text": [
      "total to calculate: 10000000\n",
      "100 done\n",
      "1k done\n",
      "10k done\n",
      "50k done\n",
      "100k done\n",
      "500k done\n",
      "1mio done\n",
      "5mio done\n",
      "10mio done\n",
      "save done\n"
     ]
    }
   ],
   "source": [
    "dist_network_fifth = pairwise_network_distance_parts(G,fifth)\n",
    "\n",
    "e_file = open('netdist_precalc/dist_network_'+str(len(G.nodes()))+'_cube_fifth.pkl', \"wb\")\n",
    "pickle.dump(dist_network_fifth, e_file)\n",
    "e_file.close()\n",
    "print('save done')"
   ]
  },
  {
   "cell_type": "code",
   "execution_count": 7,
   "id": "promising-anaheim",
   "metadata": {
    "collapsed": true,
    "jupyter": {
     "outputs_hidden": true,
     "source_hidden": true
    }
   },
   "outputs": [
    {
     "name": "stdout",
     "output_type": "stream",
     "text": [
      "total to calculate: 10000000\n",
      "100 done\n",
      "1k done\n",
      "10k done\n",
      "50k done\n",
      "100k done\n",
      "500k done\n",
      "1mio done\n",
      "5mio done\n",
      "10mio done\n",
      "save done\n"
     ]
    }
   ],
   "source": [
    "dist_network_sixth = pairwise_network_distance_parts(G,sixth)\n",
    "\n",
    "f_file = open('netdist_precalc/dist_network_'+str(len(G.nodes()))+'_cube_sixth.pkl', \"wb\")\n",
    "pickle.dump(dist_network_sixth, f_file)\n",
    "f_file.close()\n",
    "print('save done')"
   ]
  },
  {
   "cell_type": "code",
   "execution_count": 8,
   "id": "comic-first",
   "metadata": {
    "collapsed": true,
    "jupyter": {
     "outputs_hidden": true,
     "source_hidden": true
    }
   },
   "outputs": [
    {
     "name": "stdout",
     "output_type": "stream",
     "text": [
      "total to calculate: 6684628\n",
      "100 done\n",
      "1k done\n",
      "10k done\n",
      "50k done\n",
      "100k done\n",
      "500k done\n",
      "1mio done\n",
      "5mio done\n",
      "complete\n",
      "save done\n"
     ]
    }
   ],
   "source": [
    "dist_network_seventh = pairwise_network_distance_parts(G,seventh)\n",
    "\n",
    "g_file = open('netdist_precalc/dist_network_'+str(len(G.nodes()))+'_cube_seventh.pkl', \"wb\")\n",
    "pickle.dump(dist_network_seventh, g_file)\n",
    "g_file.close()\n",
    "print('save done')"
   ]
  },
  {
   "cell_type": "code",
   "execution_count": null,
   "id": "objective-regression",
   "metadata": {},
   "outputs": [],
   "source": []
  },
  {
   "cell_type": "code",
   "execution_count": null,
   "id": "unable-gregory",
   "metadata": {},
   "outputs": [],
   "source": []
  },
  {
   "cell_type": "code",
   "execution_count": null,
   "id": "opposite-subdivision",
   "metadata": {},
   "outputs": [],
   "source": []
  }
 ],
 "metadata": {
  "kernelspec": {
   "display_name": "Python [conda env:miniconda3-myenv_clip2]",
   "language": "python",
   "name": "conda-env-miniconda3-myenv_clip2-py"
  },
  "language_info": {
   "codemirror_mode": {
    "name": "ipython",
    "version": 3
   },
   "file_extension": ".py",
   "mimetype": "text/x-python",
   "name": "python",
   "nbconvert_exporter": "python",
   "pygments_lexer": "ipython3",
   "version": "3.6.13"
  }
 },
 "nbformat": 4,
 "nbformat_minor": 5
}
