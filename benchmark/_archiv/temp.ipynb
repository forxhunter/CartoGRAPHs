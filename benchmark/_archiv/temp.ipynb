{
 "cells": [
  {
   "cell_type": "code",
   "execution_count": 1,
   "id": "median-sample",
   "metadata": {},
   "outputs": [],
   "source": [
    "from benchmark_main import *"
   ]
  },
  {
   "cell_type": "code",
   "execution_count": 2,
   "id": "diverse-scale",
   "metadata": {},
   "outputs": [],
   "source": [
    "# torus 5k \n",
    "G = nx.grid_2d_graph(90,55,periodic=True)\n",
    "\n",
    "# torus 10k\n",
    "#G = nx.grid_2d_graph(125,80,periodic=True)\n",
    "\n",
    "# cube 10k \n",
    "#G = nx.grid_graph([22,22,22],periodic=False)"
   ]
  },
  {
   "cell_type": "code",
   "execution_count": 3,
   "id": "electric-while",
   "metadata": {},
   "outputs": [
    {
     "data": {
      "text/plain": [
       "12248775"
      ]
     },
     "execution_count": 3,
     "metadata": {},
     "output_type": "execute_result"
    }
   ],
   "source": [
    "pairs = list(it.combinations(G.nodes(),2))\n",
    "len(pairs)"
   ]
  },
  {
   "cell_type": "code",
   "execution_count": 4,
   "id": "internal-representative",
   "metadata": {},
   "outputs": [],
   "source": [
    "first=pairs[:1000000]\n",
    "second=pairs[1000000:5000000]\n",
    "third=pairs[5000000:10000000]\n",
    "fourth=pairs[10000000:]"
   ]
  },
  {
   "cell_type": "code",
   "execution_count": 71,
   "id": "polyphonic-thunder",
   "metadata": {
    "collapsed": true,
    "jupyter": {
     "outputs_hidden": true,
     "source_hidden": true
    }
   },
   "outputs": [
    {
     "name": "stdout",
     "output_type": "stream",
     "text": [
      "total to calculate: 1000000\n",
      "100 done\n",
      "1k done\n",
      "10k done\n",
      "50k done\n",
      "100k done\n",
      "500k done\n",
      "1mio done\n",
      "save done\n"
     ]
    }
   ],
   "source": [
    "dist_network_first=pairwise_network_distance_parts(G,first)\n",
    "\n",
    "a_file = open('netdist_precalc/dist_network_'+str(len(G.nodes()))+'_torus_first.pkl', \"wb\")\n",
    "pickle.dump(dist_network_first, a_file)\n",
    "a_file.close()\n",
    "print('save done')"
   ]
  },
  {
   "cell_type": "code",
   "execution_count": 5,
   "id": "gorgeous-yellow",
   "metadata": {
    "collapsed": true,
    "jupyter": {
     "outputs_hidden": true,
     "source_hidden": true
    }
   },
   "outputs": [
    {
     "name": "stdout",
     "output_type": "stream",
     "text": [
      "total to calculate: 4000000\n",
      "100 done\n",
      "1k done\n",
      "10k done\n",
      "50k done\n",
      "100k done\n",
      "500k done\n",
      "1mio done\n",
      "complete\n",
      "save done\n"
     ]
    }
   ],
   "source": [
    "dist_network_second = pairwise_network_distance_parts(G,second)\n",
    "\n",
    "b_file = open('netdist_precalc/dist_network_'+str(len(G.nodes()))+'_torus_second.pkl', \"wb\")\n",
    "pickle.dump(dist_network_second, b_file)\n",
    "b_file.close()\n",
    "print('save done')"
   ]
  },
  {
   "cell_type": "code",
   "execution_count": 6,
   "id": "awful-saturday",
   "metadata": {
    "collapsed": true,
    "jupyter": {
     "outputs_hidden": true,
     "source_hidden": true
    }
   },
   "outputs": [
    {
     "name": "stdout",
     "output_type": "stream",
     "text": [
      "total to calculate: 5000000\n",
      "100 done\n",
      "1k done\n",
      "10k done\n",
      "50k done\n",
      "100k done\n",
      "500k done\n",
      "1mio done\n",
      "5mio done\n",
      "save done\n"
     ]
    }
   ],
   "source": [
    "dist_network_third = pairwise_network_distance_parts(G,third)\n",
    "\n",
    "c_file = open('netdist_precalc/dist_network_'+str(len(G.nodes()))+'_torus_third.pkl', \"wb\")\n",
    "pickle.dump(dist_network_third, c_file)\n",
    "c_file.close()\n",
    "print('save done')"
   ]
  },
  {
   "cell_type": "code",
   "execution_count": 5,
   "id": "classical-fields",
   "metadata": {
    "collapsed": true,
    "jupyter": {
     "outputs_hidden": true,
     "source_hidden": true
    }
   },
   "outputs": [
    {
     "name": "stdout",
     "output_type": "stream",
     "text": [
      "total to calculate: 2248775\n",
      "100 done\n",
      "1k done\n",
      "10k done\n",
      "50k done\n",
      "100k done\n",
      "500k done\n",
      "1mio done\n",
      "complete\n",
      "save done\n"
     ]
    }
   ],
   "source": [
    "dist_network_fourth = pairwise_network_distance_parts(G,fourth)\n",
    "\n",
    "d_file = open('netdist_precalc/dist_network_'+str(len(G.nodes()))+'_torus_fourth.pkl', \"wb\")\n",
    "pickle.dump(dist_network_fourth, d_file)\n",
    "d_file.close()\n",
    "print('save done')"
   ]
  },
  {
   "cell_type": "code",
   "execution_count": null,
   "id": "comprehensive-determination",
   "metadata": {},
   "outputs": [],
   "source": []
  },
  {
   "cell_type": "code",
   "execution_count": null,
   "id": "passive-tracy",
   "metadata": {},
   "outputs": [],
   "source": []
  },
  {
   "cell_type": "code",
   "execution_count": null,
   "id": "entertaining-ready",
   "metadata": {},
   "outputs": [],
   "source": []
  },
  {
   "cell_type": "code",
   "execution_count": null,
   "id": "baking-momentum",
   "metadata": {},
   "outputs": [],
   "source": []
  }
 ],
 "metadata": {
  "kernelspec": {
   "display_name": "Python [conda env:miniconda3-myenv_clip2]",
   "language": "python",
   "name": "conda-env-miniconda3-myenv_clip2-py"
  },
  "language_info": {
   "codemirror_mode": {
    "name": "ipython",
    "version": 3
   },
   "file_extension": ".py",
   "mimetype": "text/x-python",
   "name": "python",
   "nbconvert_exporter": "python",
   "pygments_lexer": "ipython3",
   "version": "3.6.13"
  }
 },
 "nbformat": 4,
 "nbformat_minor": 5
}
