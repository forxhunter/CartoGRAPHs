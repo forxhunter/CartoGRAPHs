{
 "cells": [
  {
   "cell_type": "markdown",
   "metadata": {},
   "source": [
    "# ===========================\n",
    "# Benchmarking - U P S C A L I N G - 3D TORUS\n",
    "# ==========================="
   ]
  },
  {
   "cell_type": "code",
   "execution_count": 2,
   "metadata": {},
   "outputs": [],
   "source": [
    "from benchmark_main import *"
   ]
  },
  {
   "cell_type": "markdown",
   "metadata": {},
   "source": [
    "_________\n",
    "# 3D - Torus\n",
    "_________"
   ]
  },
  {
   "cell_type": "markdown",
   "metadata": {},
   "source": [
    "# FILE INPUT\n",
    "+ precalculated network distances "
   ]
  },
  {
   "cell_type": "code",
   "execution_count": 4,
   "metadata": {},
   "outputs": [
    {
     "name": "stdout",
     "output_type": "stream",
     "text": [
      "100 done\n",
      "500 done\n",
      "1000 done\n",
      "20k done\n"
     ]
    }
   ],
   "source": [
    "organism = 'torus' \n",
    "feature = 'nx_fa_ig'\n",
    "\n",
    "b_file100 = open('netdist_precalc/dist_network_96_torus.pkl', \"rb\")\n",
    "dist_network100 = pickle.load(b_file100)\n",
    "print('100 done')\n",
    "\n",
    "b_file500 = open('netdist_precalc/dist_network_504_torus.pkl', \"rb\")\n",
    "dist_network500 = pickle.load(b_file500)\n",
    "print('500 done')\n",
    "\n",
    "b_file1k = open('netdist_precalc/dist_network_968_torus.pkl', \"rb\")\n",
    "dist_network1k = pickle.load(b_file1k)\n",
    "print('1000 done')\n",
    "\n",
    "# 5k\n",
    "b_file1_5k = open('netdist_precalc/dist_network_ _torus_first.pkl', \"rb\")\n",
    "part1_5k = pickle.load(b_file1_5k)\n",
    "\n",
    "b_file2_5k = open('netdist_precalc/dist_network_ _torus_second.pkl', \"rb\")\n",
    "part2_5k = pickle.load(b_file2_5k)\n",
    "\n",
    "b_file3_5k = open('netdist_precalc/dist_network_ _torus_third.pkl', \"rb\")\n",
    "part3_5k = pickle.load(b_file3_5k)\n",
    "\n",
    "b_file4_5k = open('netdist_precalc/dist_network_ _torus_fourth.pkl', \"rb\")\n",
    "part4_5k = pickle.load(b_file4_5k)\n",
    "\n",
    "b_file5_5k = open('netdist_precalc/dist_network_ _torus_fifth.pkl', \"rb\")\n",
    "part5_5k = pickle.load(b_file5_5k)\n",
    "\n",
    "b_file6_5k = open('netdist_precalc/dist_network_ _torus_sixth.pkl', \"rb\")\n",
    "part6_5k = pickle.load(b_file6_5k)\n",
    "\n",
    "b_file7_5k = open('netdist_precalc/dist_network_ _torus_seven.pkl', \"rb\")\n",
    "part7_5k = pickle.load(b_file7_5k)\n",
    "\n",
    "b_file8_5k = open('netdist_precalc/dist_network_ _torus_eight.pkl', \"rb\")\n",
    "part8_5k = pickle.load(b_file8_5k)\n",
    "\n",
    "b_file9_5k = open('netdist_precalc/dist_network_ _torus_nine.pkl', \"rb\")\n",
    "part9_5k = pickle.load(b_file9_5k)\n",
    "\n",
    "dist_network5k = {\n",
    "    **part1_5k,\n",
    "    **part2_5k,\n",
    "    **part3_5k,\n",
    "    **part4_5k,\n",
    "    **part5_5k,\n",
    "    **part6_5k,\n",
    "    **part7_5k,\n",
    "    **part8_5k,\n",
    "    **part9_5k\n",
    "}\n",
    "print('5k done')\n",
    "\n",
    "\n",
    "# 10k\n",
    "b_file1_10k = open('netdist_precalc/dist_network_10000_torus_first.pkl', \"rb\")\n",
    "part1_10k = pickle.load(b_file1_10k)\n",
    "\n",
    "b_file2_10k = open('netdist_precalc/dist_network_10000_torus_second.pkl', \"rb\")\n",
    "part2_10k = pickle.load(b_file2_10k)\n",
    "\n",
    "b_file3_10k = open('netdist_precalc/dist_network_10000_torus_third.pkl', \"rb\")\n",
    "part3_10k = pickle.load(b_file3_10k)\n",
    "\n",
    "b_file4_10k = open('netdist_precalc/dist_network_10000_torus_fourth.pkl', \"rb\")\n",
    "part4_10k = pickle.load(b_file4_10k)\n",
    "\n",
    "b_file5_10k = open('netdist_precalc/dist_network_10000_torus_fifth.pkl', \"rb\")\n",
    "part5_10k = pickle.load(b_file5_10k)\n",
    "\n",
    "b_file6_10k = open('netdist_precalc/dist_network_10000_torus_sixth.pkl', \"rb\")\n",
    "part6_10k = pickle.load(b_file6_10k)\n",
    "\n",
    "b_file7_10k = open('netdist_precalc/dist_network_10000_torus_seven.pkl', \"rb\")\n",
    "part7_10k = pickle.load(b_file7_10k)\n",
    "\n",
    "b_file8_10k = open('netdist_precalc/dist_network_10000_torus_eight.pkl', \"rb\")\n",
    "part8_10k = pickle.load(b_file8_10k)\n",
    "\n",
    "b_file9_10k = open('netdist_precalc/dist_network_10000_torus_nine.pkl', \"rb\")\n",
    "part9_10k = pickle.load(b_file9_10k)\n",
    "\n",
    "b_file10_10k = open('netdist_precalc/dist_network_10000_torus_ten.pkl', \"rb\")\n",
    "part10_10k = pickle.load(b_file10_10k)\n",
    "\n",
    "b_file11_10k = open('netdist_precalc/dist_network_10000_torus_ele.pkl', \"rb\")\n",
    "part11_10k = pickle.load(b_file11_10k)\n",
    "\n",
    "b_file12_10k = open('netdist_precalc/dist_network_10000_torus_twel.pkl', \"rb\")\n",
    "part12_10k = pickle.load(b_file12_10k)\n",
    "\n",
    "b_file13_10k = open('netdist_precalc/dist_network_10000_torus_thir.pkl', \"rb\")\n",
    "part13_10k = pickle.load(b_file13_10k)\n",
    "\n",
    "b_file14_10k = open('netdist_precalc/dist_network_10000_torus_fourt.pkl', \"rb\")\n",
    "part14_10k = pickle.load(b_file14_10k)\n",
    "\n",
    "b_file15_10k = open('netdist_precalc/dist_network_10000_torus_fift.pkl', \"rb\")\n",
    "part15_10k = pickle.load(b_file15_10k)\n",
    "\n",
    "b_file16_10k = open('netdist_precalc/dist_network_10000_torus_sixt.pkl', \"rb\")\n",
    "part16_10k = pickle.load(b_file16_10k)\n",
    "\n",
    "b_file17_10k = open('netdist_precalc/dist_network_10000_torus_sevent.pkl', \"rb\")\n",
    "part17_10k = pickle.load(b_file17_10k)\n",
    "\n",
    "b_file18_10k = open('netdist_precalc/dist_network_10000_torus_eig.pkl', \"rb\")\n",
    "part18_10k = pickle.load(b_file18_10k)\n",
    "\n",
    "dist_network10k = {\n",
    "    **part1_10k,\n",
    "    **part2_10k,\n",
    "    **part3_10k,\n",
    "    **part4_10k,\n",
    "    **part5_10k,\n",
    "    **part6_10k,\n",
    "    **part7_10k,\n",
    "    **part8_10k,\n",
    "    **part9_10k,\n",
    "    **part10_10k,\n",
    "    **part11_10k,\n",
    "    **part12_10k,\n",
    "    **part13_10k,\n",
    "    **part14_10k,\n",
    "    **part15_10k,\n",
    "    **part16_10k,\n",
    "    **part17_10k,\n",
    "    **part18_10k,\n",
    "}\n",
    "print('10k done')\n",
    "\n",
    "    \n",
    "b_file1_20k = open('netdist_precalc/dist_network_20020_torus_first.pkl', \"rb\")\n",
    "part1_20k = pickle.load(b_file1_20k)\n",
    "\n",
    "b_file2_20k = open('netdist_precalc/dist_network_20020_torus_second.pkl', \"rb\")\n",
    "part2_20k = pickle.load(b_file2_20k)\n",
    "\n",
    "b_file3_20k = open('netdist_precalc/dist_network_20020_torus_third.pkl', \"rb\")\n",
    "part3_20k = pickle.load(b_file3_20k)\n",
    "\n",
    "dist_network20k = {\n",
    "    **part1_20k,\n",
    "    **part2_20k,\n",
    "    **part3_20k\n",
    "}\n",
    "print('20k done')"
   ]
  },
  {
   "cell_type": "markdown",
   "metadata": {},
   "source": [
    "# GLOBAL LAYOUT "
   ]
  },
  {
   "cell_type": "code",
   "execution_count": 5,
   "metadata": {
    "jupyter": {
     "source_hidden": true
    }
   },
   "outputs": [],
   "source": [
    "# 3D TORUS \n",
    "organism = 'tor'\n",
    "\n",
    "feature = 'RWRvis'\n",
    "r = .9\n",
    "alpha = 1.0\n",
    "\n",
    "# parameters (post - testing)\n",
    "n_neighbors = 10\n",
    "spread = 1\n",
    "min_dist = 0.0\n",
    "metric = 'cosine'\n",
    "lnr = 1\n",
    "nep = None"
   ]
  },
  {
   "cell_type": "code",
   "execution_count": null,
   "metadata": {
    "jupyter": {
     "source_hidden": true
    }
   },
   "outputs": [],
   "source": [
    "#########\n",
    "# 1 0 0 \n",
    "#########\n",
    "\n",
    "G = nx.grid_2d_graph(12,8,periodic=True)\n",
    "\n",
    "print('RWR')\n",
    "start = time.time()\n",
    "posG_global = globallayout_3D(G,n_neighbors, spread, min_dist, metric)\n",
    "end = time.time()\n",
    "m,s = exec_time(start,end)\n",
    "\n",
    "dist_global = pairwise_layout_distance_3D(G,posG_global)\n",
    "\n",
    "r_global = pearson_corrcoef(dist_network100, dist_global)\n",
    "print('RWR corr coef: ',r_global)"
   ]
  },
  {
   "cell_type": "code",
   "execution_count": null,
   "metadata": {
    "jupyter": {
     "source_hidden": true
    }
   },
   "outputs": [],
   "source": [
    "#########\n",
    "# 5 0 0 \n",
    "#########\n",
    "\n",
    "G = nx.grid_2d_graph(42,12,periodic=True)\n",
    "\n",
    "print('RWR')\n",
    "start = time.time()\n",
    "posG_global = globallayout_3D(G,n_neighbors, spread, min_dist, metric)\n",
    "end = time.time()\n",
    "m,s = exec_time(start,end)\n",
    "\n",
    "dist_global = pairwise_layout_distance_3D(G,posG_global,'nx')\n",
    "\n",
    "r_global = pearson_corrcoef(dist_network500, dist_global)\n",
    "print('RWR corr coef: ',r_global)"
   ]
  },
  {
   "cell_type": "code",
   "execution_count": null,
   "metadata": {
    "jupyter": {
     "source_hidden": true
    }
   },
   "outputs": [],
   "source": [
    "#########\n",
    "# 1 0 0 0 \n",
    "#########\n",
    "\n",
    "G = nx.grid_2d_graph(44,22,periodic=True)\n",
    "\n",
    "print('RWR')\n",
    "start = time.time()\n",
    "posG_global = globallayout_3D(G,n_neighbors, spread, min_dist, metric)\n",
    "end = time.time()\n",
    "m,s = exec_time(start,end)\n",
    "\n",
    "dist_global = pairwise_layout_distance_3D(G,posG_global)\n",
    "\n",
    "r_global = pearson_corrcoef(dist_network1k, dist_global)\n",
    "print('RWR corr coef: ',r_global)"
   ]
  },
  {
   "cell_type": "code",
   "execution_count": null,
   "metadata": {
    "jupyter": {
     "source_hidden": true
    }
   },
   "outputs": [],
   "source": [
    "#########\n",
    "# 5 0 0 0 \n",
    "#########\n",
    "\n",
    "G = nx.grid_2d_graph(90,55,periodic=True)\n",
    "\n",
    "print('RWR')\n",
    "start = time.time()\n",
    "posG_global = globallayout_3D(G,n_neighbors, spread, min_dist, metric)\n",
    "end = time.time()\n",
    "m,s = exec_time(start,end)\n",
    "\n",
    "dist_global = pairwise_layout_distance_3D(G,posG_global)\n",
    "print('global layout distances done')\n",
    "\n",
    "r_global = pearson_corrcoef(dist_network5k, dist_global)\n",
    "print('RWR corr coef: ',r_global)"
   ]
  },
  {
   "cell_type": "code",
   "execution_count": null,
   "metadata": {
    "jupyter": {
     "source_hidden": true
    }
   },
   "outputs": [],
   "source": [
    "#########\n",
    "# 1 0 0 0 0 \n",
    "#########\n",
    "\n",
    "G = nx.grid_2d_graph(125,80,periodic=True)\n",
    "\n",
    "print('RWR')\n",
    "start = time.time()\n",
    "posG_global = globallayout_3D(G,n_neighbors, spread, min_dist, metric)\n",
    "end = time.time()\n",
    "m,s = exec_time(start,end)\n",
    "\n",
    "dist_global = pairwise_layout_distance_3D(G,posG_global)\n",
    "print('global layout distances done')\n",
    "\n",
    "r_global = pearson_corrcoef(dist_network10k, dist_global)\n",
    "print('RWR corr coef: ',r_global)"
   ]
  },
  {
   "cell_type": "code",
   "execution_count": null,
   "metadata": {
    "jupyter": {
     "source_hidden": true
    }
   },
   "outputs": [],
   "source": [
    "#########\n",
    "# 2 0 0 0 0 \n",
    "#########\n",
    "\n",
    "G = nx.grid_2d_graph(182,110,periodic=True)\n",
    "\n",
    "print('RWR')\n",
    "start = time.time()\n",
    "posG_global = globallayout_3D(G,n_neighbors, spread, min_dist, metric)\n",
    "end = time.time()\n",
    "m,s = exec_time(start,end)\n",
    "\n",
    "dist_global = pairwise_layout_distance_3D(G,posG_global)\n",
    "print('global layout distances done')\n",
    "\n",
    "r_global = pearson_corrcoef(dist_network20k, dist_global)\n",
    "print('RWR corr coef: ',r_global)"
   ]
  },
  {
   "cell_type": "code",
   "execution_count": 6,
   "metadata": {},
   "outputs": [],
   "source": [
    "# pearson correlation coefficient \n",
    "\n",
    "d_netsize_corr_global = {(12,8):0.995,\n",
    "                                (42,12):0.975,\n",
    "                                (44,22):0.976,\n",
    "                                (90,55):0.988,\n",
    "                                (125,80):0.957,\n",
    "                                (182,110):0.95 # run again\n",
    "                                }\n",
    "# time in seconds \n",
    "\n",
    "d_netsize_time =  {(12,8):2,\n",
    "                        (42,12):5,\n",
    "                        (44,22):18,\n",
    "                        (90,55):58,\n",
    "                        (125,80):105, #1min 45s\n",
    "                        (182,110):680 #11min 20s\n",
    "                       }"
   ]
  },
  {
   "cell_type": "markdown",
   "metadata": {},
   "source": [
    "# FORCE-DIRECTED | NETWORKX\n",
    "+ using the spring-layout"
   ]
  },
  {
   "cell_type": "code",
   "execution_count": null,
   "metadata": {
    "jupyter": {
     "source_hidden": true
    }
   },
   "outputs": [],
   "source": [
    "#########\n",
    "# 1 0 0 \n",
    "#########\n",
    "\n",
    "G = nx.grid_2d_graph(12,8,periodic=True)\n",
    "\n",
    "print('SPRING')\n",
    "start = time.time()\n",
    "posG_spring = springlayout_3D(G,itr=2500)\n",
    "end = time.time()\n",
    "m,s = exec_time(start,end)\n",
    "\n",
    "dist_spring = pairwise_layout_distance_3D(G,posG_spring)\n",
    "\n",
    "r_spring = pearson_corrcoef(dist_network100, dist_spring)\n",
    "print('SPRING corr coef: ',r_spring)"
   ]
  },
  {
   "cell_type": "code",
   "execution_count": null,
   "metadata": {
    "jupyter": {
     "source_hidden": true
    }
   },
   "outputs": [],
   "source": [
    "#########\n",
    "# 5 0 0 \n",
    "#########\n",
    "\n",
    "G = nx.grid_2d_graph(42,12,periodic=True)\n",
    "\n",
    "print('SPRING')\n",
    "start = time.time()\n",
    "posG_spring = springlayout_3D(G,itr=60)\n",
    "end = time.time()\n",
    "m,s = exec_time(start,end)\n",
    "\n",
    "dist_spring = pairwise_layout_distance_3D(G,posG_spring)\n",
    "\n",
    "r_spring = pearson_corrcoef(dist_network500, dist_spring)\n",
    "print('SPRING corr coef: ',r_spring)"
   ]
  },
  {
   "cell_type": "code",
   "execution_count": null,
   "metadata": {
    "jupyter": {
     "source_hidden": true
    }
   },
   "outputs": [],
   "source": [
    "#########\n",
    "# 1 0 0 0 \n",
    "#########\n",
    "\n",
    "G = nx.grid_2d_graph(44,22,periodic=True)\n",
    "\n",
    "print('SPRING')\n",
    "start = time.time()\n",
    "posG_spring = springlayout_3D(G,itr=125)\n",
    "end = time.time()\n",
    "m,s = exec_time(start,end)\n",
    "\n",
    "dist_global = pairwise_layout_distance_3D(G,posG_global)\n",
    "\n",
    "r_spring = pearson_corrcoef(dist_network1k, dist_spring)\n",
    "print('SPRING corr coef: ',r_spring)"
   ]
  },
  {
   "cell_type": "code",
   "execution_count": null,
   "metadata": {
    "jupyter": {
     "source_hidden": true
    }
   },
   "outputs": [],
   "source": [
    "# # 5 0 0 0 \n",
    "#########\n",
    "\n",
    "G = nx.grid_2d_graph(90,55,periodic=True)\n",
    "\n",
    "print('SPRING')\n",
    "start = time.time()\n",
    "posG_spring = springlayout_3D(G,itr=30)\n",
    "end = time.time()\n",
    "m,s = exec_time(start,end)\n",
    "\n",
    "dist_spring = pairwise_layout_distance_3D(G,posG_spring)\n",
    "\n",
    "r_spring = pearson_corrcoef(dist_network5k, dist_spring)\n",
    "print('SPRING corr coef: ',r_spring)"
   ]
  },
  {
   "cell_type": "code",
   "execution_count": null,
   "metadata": {
    "jupyter": {
     "source_hidden": true
    }
   },
   "outputs": [],
   "source": [
    "#########\n",
    "# 1 0 0 0 0 \n",
    "#########\n",
    "\n",
    "G = nx.grid_2d_graph(125,80,periodic=True)\n",
    "\n",
    "print('SPRING')\n",
    "start = time.time()\n",
    "posG_spring = springlayout_3D(G,itr=20)\n",
    "end = time.time()\n",
    "m,s = exec_time(start,end)\n",
    "\n",
    "dist_spring = pairwise_layout_distance_3D(G,posG_spring)\n",
    "\n",
    "r_spring = pearson_corrcoef(dist_network10k, dist_spring)\n",
    "print('RWR corr coef: ',r_spring)"
   ]
  },
  {
   "cell_type": "code",
   "execution_count": null,
   "metadata": {
    "jupyter": {
     "source_hidden": true
    }
   },
   "outputs": [],
   "source": [
    "#########\n",
    "# 2 0 0 0 0 \n",
    "#########\n",
    "\n",
    "G = nx.grid_2d_graph(182,110,periodic=True)\n",
    "\n",
    "print('spring')\n",
    "start = time.time()\n",
    "posG_spring = springlayout_3D(G,itr=45)\n",
    "end = time.time()\n",
    "m,s = exec_time(start,end)\n",
    "print('spring done')\n",
    "\n",
    "dist_spring = pairwise_layout_distance_3D(G,posG_spring)\n",
    "\n",
    "r_spring = pearson_corrcoef(dist_network20k, dist_spring)\n",
    "print('SPRING corr coef: ',r_spring)"
   ]
  },
  {
   "cell_type": "markdown",
   "metadata": {},
   "source": [
    "#### CORR COEF / NETSIZE - saved values for diagram\n",
    "+ for equal running time"
   ]
  },
  {
   "cell_type": "code",
   "execution_count": 31,
   "metadata": {},
   "outputs": [],
   "source": [
    "# pearson correlation coefficient at run time of: d_netsize_time\n",
    "\n",
    "d_netsize_corr_nx = {\n",
    "                                (12,8):0.979,\n",
    "                                (42,12):0.937,\n",
    "                                (44,22):0.930,\n",
    "                                (90,55):0.552, \n",
    "                                (125,80):0.455,\n",
    "                                (182,110):0.35 \n",
    "                                   }\n",
    "\n",
    "\n",
    "# run time at pearson corr. coef. of: d_netsize_corr_global\n",
    "\n",
    "d_netsize_time_nx = {\n",
    "                                (12,8):5,\n",
    "                                (42,12):42,\n",
    "                                (44,22):71,\n",
    "                                (90,55):1933, #00:22:13\n",
    "                                (125,80):8000, \n",
    "                                (182,110):43200, # cut off \n",
    "                                   }"
   ]
  },
  {
   "cell_type": "markdown",
   "metadata": {},
   "source": [
    "# FORCE-DIRECTED | iGRAPH\n",
    "+ https://igraph.org/python/doc/tutorial/visualisation.html\n",
    "+ https://towardsdatascience.com/newbies-guide-to-python-igraph-4e51689c35b4\n",
    "+ https://igraph.org/c/doc/igraph-Layout.html#igraph_layout_fruchterman_reingold_3d\n",
    "+ using the fruchterman-reingold layout"
   ]
  },
  {
   "cell_type": "code",
   "execution_count": 8,
   "metadata": {},
   "outputs": [],
   "source": [
    "import igraph as ig "
   ]
  },
  {
   "cell_type": "code",
   "execution_count": 22,
   "metadata": {
    "collapsed": true,
    "jupyter": {
     "outputs_hidden": true,
     "source_hidden": true
    }
   },
   "outputs": [
    {
     "name": "stdout",
     "output_type": "stream",
     "text": [
      "Run for 2 seconds\n",
      "SPRING - igraph\n",
      "Execution Time: 00:00:02\n",
      "done layout distances prep\n",
      "calculate pearson correlation coefficient\n",
      "SPRING corr coef:  0.9805166998936219\n"
     ]
    }
   ],
   "source": [
    "print('Run for', d_netsize_time[(12,8)],'seconds')\n",
    "\n",
    "#########\n",
    "# 1 0 0 \n",
    "#########\n",
    "\n",
    "nxG = nx.grid_2d_graph(12,8,periodic=True)\n",
    "iG = ig.Graph.from_networkx(nxG)\n",
    "\n",
    "print('SPRING - igraph')\n",
    "start = time.time()\n",
    "posG  = iG.layout_fruchterman_reingold_3d(niter= 70000)\n",
    "posG_spring = dict(zip(nxG.nodes(),posG))\n",
    "end = time.time()\n",
    "m,s = exec_time(start,end)\n",
    "\n",
    "dist_spring = pairwise_layout_distance_3D(nxG,posG_spring,'nx')\n",
    "\n",
    "r_spring = pearson_corrcoef(dist_network100, dist_spring)\n",
    "print('SPRING corr coef: ',r_spring)"
   ]
  },
  {
   "cell_type": "code",
   "execution_count": 29,
   "metadata": {
    "collapsed": true,
    "jupyter": {
     "outputs_hidden": true,
     "source_hidden": true
    }
   },
   "outputs": [
    {
     "name": "stdout",
     "output_type": "stream",
     "text": [
      "Run for 5 seconds\n",
      "SPRING - igraph\n",
      "Execution Time: 00:00:05\n",
      "done layout distances prep\n",
      "calculate pearson correlation coefficient\n",
      "SPRING corr coef:  0.972162686428255\n"
     ]
    }
   ],
   "source": [
    "print('Run for', d_netsize_time[(42,12)],'seconds')\n",
    "\n",
    "#########\n",
    "# 5 0 0 \n",
    "#########\n",
    "\n",
    "nxG = nx.grid_2d_graph(42,12,periodic=True)\n",
    "iG = ig.Graph.from_networkx(nxG)\n",
    "\n",
    "print('SPRING - igraph')\n",
    "start = time.time()\n",
    "posG  = iG.layout_fruchterman_reingold_3d(niter= 7000)\n",
    "posG_spring = dict(zip(nxG.nodes(),posG))\n",
    "end = time.time()\n",
    "m,s = exec_time(start,end)\n",
    "\n",
    "dist_spring = pairwise_layout_distance_3D(nxG,posG_spring,'nx')\n",
    "\n",
    "r_spring = pearson_corrcoef(dist_network500, dist_spring)\n",
    "print('SPRING corr coef: ',r_spring)"
   ]
  },
  {
   "cell_type": "code",
   "execution_count": 33,
   "metadata": {
    "collapsed": true,
    "jupyter": {
     "outputs_hidden": true,
     "source_hidden": true
    }
   },
   "outputs": [
    {
     "name": "stdout",
     "output_type": "stream",
     "text": [
      "Run for 18 seconds\n",
      "SPRING - igraph\n",
      "Execution Time: 00:00:18\n",
      "done layout distances prep\n",
      "calculate pearson correlation coefficient\n",
      "SPRING corr coef:  0.9776525592801721\n"
     ]
    }
   ],
   "source": [
    "print('Run for', d_netsize_time[(44,22)],'seconds')\n",
    "\n",
    "#########\n",
    "# 1 0 0 0 \n",
    "#########\n",
    "\n",
    "nxG = nx.grid_2d_graph(44,22,periodic=True)\n",
    "iG = ig.Graph.from_networkx(nxG)\n",
    "\n",
    "print('SPRING - igraph')\n",
    "start = time.time()\n",
    "posG  = iG.layout_fruchterman_reingold_3d(niter= 6500)\n",
    "posG_spring = dict(zip(nxG.nodes(),posG))\n",
    "end = time.time()\n",
    "m,s = exec_time(start,end)\n",
    "\n",
    "dist_spring = pairwise_layout_distance_3D(nxG,posG_spring,'nx')\n",
    "\n",
    "r_spring = pearson_corrcoef(dist_network1k, dist_spring)\n",
    "print('SPRING corr coef: ',r_spring)"
   ]
  },
  {
   "cell_type": "code",
   "execution_count": null,
   "metadata": {},
   "outputs": [],
   "source": [
    "print('Run for', d_netsize_time[(90,55)],'seconds')\n",
    "\n",
    "#########\n",
    "# 5 0 0 0 \n",
    "#########\n",
    "\n",
    "nxG = nx.grid_2d_graph(90,55,periodic=True)\n",
    "iG = ig.Graph.from_networkx(nxG)\n",
    "\n",
    "print('SPRING - igraph')\n",
    "start = time.time()\n",
    "posG  = iG.layout_fruchterman_reingold_3d(niter= 700)\n",
    "posG_spring = dict(zip(nxG.nodes(),posG))\n",
    "end = time.time()\n",
    "m,s = exec_time(start,end)\n",
    "\n",
    "dist_spring = pairwise_layout_distance_3D(nxG,posG_spring,'nx')\n",
    "\n",
    "r_spring = pearson_corrcoef(dist_network5k, dist_spring)\n",
    "print('SPRING corr coef: ',r_spring)"
   ]
  },
  {
   "cell_type": "code",
   "execution_count": null,
   "metadata": {},
   "outputs": [],
   "source": [
    "print('Run for', d_netsize_time[(125,80)],'seconds')\n",
    "\n",
    "#########\n",
    "# 1 0 0 0 0 \n",
    "#########\n",
    "\n",
    "nxG = nx.grid_2d_graph(125,80,periodic=True)\n",
    "iG = ig.Graph.from_networkx(nxG)\n",
    "\n",
    "print('SPRING - igraph')\n",
    "start = time.time()\n",
    "posG  = iG.layout_fruchterman_reingold_3d(niter= 600)\n",
    "posG_spring = dict(zip(nxG.nodes(),posG))\n",
    "end = time.time()\n",
    "m,s = exec_time(start,end)\n",
    "\n",
    "dist_spring = pairwise_layout_distance_3D(nxG,posG_spring,'nx')\n",
    "\n",
    "r_spring = pearson_corrcoef(dist_network10k, dist_spring)\n",
    "print('SPRING corr coef: ',r_spring)"
   ]
  },
  {
   "cell_type": "code",
   "execution_count": null,
   "metadata": {},
   "outputs": [],
   "source": [
    "############################\n",
    "\n",
    "# CORRELATION FACTOR MATCH \n",
    "\n",
    "############################\n",
    "\n",
    "print('Run for pearson corr.:', d_netsize_corr_global[(125,80)])\n",
    "\n",
    "nxG = nx.grid_2d_graph(125,80,periodic=True)\n",
    "iG = ig.Graph.from_networkx(nxG)\n",
    "\n",
    "print('SPRING - igraph')\n",
    "start = time.time()\n",
    "posG  = iG.layout_fruchterman_reingold_3d(niter= 600)\n",
    "posG_spring = dict(zip(nxG.nodes(),posG))\n",
    "end = time.time()\n",
    "m,s = exec_time(start,end)\n",
    "\n",
    "dist_spring = pairwise_layout_distance_3D(nxG,posG_spring,'nx')\n",
    "\n",
    "r_spring = pearson_corrcoef(dist_network10k, dist_spring)\n",
    "print('SPRING corr coef: ',r_spring)"
   ]
  },
  {
   "cell_type": "code",
   "execution_count": 35,
   "metadata": {},
   "outputs": [
    {
     "name": "stdout",
     "output_type": "stream",
     "text": [
      "Run for 680 seconds\n"
     ]
    }
   ],
   "source": [
    "print('Run for', d_netsize_time[(182,110)],'seconds')\n",
    "\n",
    "#########\n",
    "# 2 0 0 0 0 \n",
    "#########\n",
    "\n",
    "nxG = nx.grid_2d_graph(182,110,periodic=True)\n",
    "iG = ig.Graph.from_networkx(nxG)"
   ]
  },
  {
   "cell_type": "code",
   "execution_count": null,
   "metadata": {},
   "outputs": [],
   "source": [
    "print('SPRING - igraph')\n",
    "start = time.time()\n",
    "posG  = iG.layout_fruchterman_reingold_3d(niter= 9000)\n",
    "posG_spring = dict(zip(nxG.nodes(),posG))\n",
    "end = time.time()\n",
    "m,s = exec_time(start,end)"
   ]
  },
  {
   "cell_type": "code",
   "execution_count": null,
   "metadata": {},
   "outputs": [],
   "source": [
    "dist_spring = pairwise_layout_distance_3D(nxG,posG_spring,'nx')"
   ]
  },
  {
   "cell_type": "code",
   "execution_count": null,
   "metadata": {},
   "outputs": [],
   "source": [
    "r_spring = pearson_corrcoef(dist_network20k, dist_spring)\n",
    "print('SPRING corr coef: ',r_spring)"
   ]
  },
  {
   "cell_type": "code",
   "execution_count": null,
   "metadata": {},
   "outputs": [],
   "source": [
    "############################\n",
    "\n",
    "# CORRELATION FACTOR MATCH \n",
    "\n",
    "############################\n",
    "\n",
    "print('Run for pearson corr.:', d_netsize_corr_global[(182,110)])\n",
    "\n",
    "nxG = nx.grid_2d_graph(182,110,periodic=True)\n",
    "iG = ig.Graph.from_networkx(nxG)\n",
    "\n",
    "print('SPRING - igraph')\n",
    "start = time.time()\n",
    "posG  = iG.layout_fruchterman_reingold_3d(niter= 600)\n",
    "posG_spring = dict(zip(nxG.nodes(),posG))\n",
    "end = time.time()\n",
    "m,s = exec_time(start,end)\n",
    "\n",
    "dist_spring = pairwise_layout_distance_3D(nxG,posG_spring,'nx')\n",
    "\n",
    "r_spring = pearson_corrcoef(dist_network10k, dist_spring)\n",
    "print('SPRING corr coef: ',r_spring)"
   ]
  },
  {
   "cell_type": "code",
   "execution_count": null,
   "metadata": {},
   "outputs": [],
   "source": [
    "# pearson correlation coefficient at run time of: d_netsize_time\n",
    "\n",
    "d_netsize_corr_ig = {       (12,8): 0.980,  \n",
    "                            (42,12): 0.972,\n",
    "                            (44,22): 0.977,\n",
    "                            (90,55): \n",
    "                            (125,80): ,\n",
    "                            (182,110): ,\n",
    "                           }\n",
    "\n",
    "# run time at pearson corr. coef. of: d_netsize_corr_global\n",
    "\n",
    "d_netsize_time_ig = {       (12,8):   \n",
    "                            (42,12): ,\n",
    "                            (44,22): \n",
    "                            (90,55): \n",
    "                            (125,80): ,\n",
    "                            (182,110): ,\n",
    "                               }"
   ]
  },
  {
   "cell_type": "markdown",
   "metadata": {},
   "source": [
    "# DIAGRAMS\n",
    "+ comparing runtime and pearson corr. coeff. of global layout to three force-directed layout methods "
   ]
  },
  {
   "cell_type": "code",
   "execution_count": null,
   "metadata": {},
   "outputs": [],
   "source": [
    "########################################\n",
    "#\n",
    "# Network size vs. Correlation Factor \n",
    "# with same running time\n",
    "#\n",
    "########################################\n",
    "\n",
    "labelsize = 16 \n",
    "\n",
    "x_ig = list(d_netsize_time.keys())\n",
    "y_ig = list(d_netsize_corr_ig.values())\n",
    "\n",
    "x_nx = list(d_netsize_time.keys())\n",
    "y_nx = list(d_netsize_corr_nx.values())\n",
    "\n",
    "x_layout = list(d_netsize_time.keys())\n",
    "y_layout = list(d_netsize_corr_global.values())\n",
    "\n",
    "\n",
    "fig = plt.figure(figsize=(8,8), dpi=300)\n",
    "\n",
    "plt.xlabel(\"Network Size [# Nodes]\", fontsize=labelsize)\n",
    "plt.ylabel(\"Pearson Corr.Coeff.\", fontsize=labelsize)\n",
    "\n",
    "plt.plot(x_nx,y_nx, '--', c = 'skyblue', alpha = 0.8, linewidth=1)\n",
    "plt.scatter(x_nx,y_nx, c = 'skyblue', s = 30, alpha = 1.0)\n",
    "\n",
    "plt.plot(x_gt,y_ig, '--', c = 'royalblue', alpha = 0.8, linewidth=1)\n",
    "plt.scatter(x_gt,y_ig, c = 'royalblue', s = 30, alpha = 1.0)\n",
    "\n",
    "plt.plot(x_layout,y_layout, '--', c = 'orange', alpha = 0.8, linewidth=1)\n",
    "plt.scatter(x_layout,y_layout, c = 'orange', s = 30, alpha = 1.0)\n",
    "\n",
    "plt.grid(True, c='lightgrey', alpha=0.5)\n",
    "plt.suptitle('2D | Network Size vs. Corr. Factor | '+organism, fontsize=10)\n",
    "plt.ylim(ymin=0, ymax=1.05)\n",
    "\n",
    "fig.savefig('../output_plots/benchmark/upscaledNEW_2D_CorrNetsize_'+feature+'_'+organism+'.png')"
   ]
  },
  {
   "cell_type": "code",
   "execution_count": null,
   "metadata": {},
   "outputs": [],
   "source": []
  },
  {
   "cell_type": "code",
   "execution_count": null,
   "metadata": {},
   "outputs": [],
   "source": []
  }
 ],
 "metadata": {
  "kernelspec": {
   "display_name": "Python [conda env:miniconda3-myenv_clip2]",
   "language": "python",
   "name": "conda-env-miniconda3-myenv_clip2-py"
  },
  "language_info": {
   "codemirror_mode": {
    "name": "ipython",
    "version": 3
   },
   "file_extension": ".py",
   "mimetype": "text/x-python",
   "name": "python",
   "nbconvert_exporter": "python",
   "pygments_lexer": "ipython3",
   "version": "3.6.13"
  }
 },
 "nbformat": 4,
 "nbformat_minor": 4
}
