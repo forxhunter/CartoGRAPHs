{
 "cells": [
  {
   "cell_type": "markdown",
   "id": "positive-supervision",
   "metadata": {},
   "source": [
    "-----\n",
    "# cartoGRAPHs | Main \n",
    "\n",
    "A Notebook to produce 2D and 3D network layouts from any Graph,\n",
    "including interactive visualization (html files) and export functions \n",
    "to import into the VRNetzer analytics platform by Pirch et al.\n",
    "\n",
    "#### This notebook is divided into sections, which should be run sequentially.\n",
    "+ Section 1 - where the network shall be defined (a networkx graph)\n",
    "+ Section 2 - specify a layout algorithm and choose the dimensionality reduction\n",
    "+ Section 3 - the visual parameters > setting node colors (dict: key=node ID from G.nodes() and value=any color value)\n",
    "+ Section 4 - the layout visualization step \n",
    "\n",
    "-----\n",
    "\n",
    "Please note: \n",
    "Layouts of Graphs with more than 5000 nodes can take a few minutes to run. \n",
    "\n",
    "-----"
   ]
  },
  {
   "cell_type": "code",
   "execution_count": null,
   "id": "fc201309-484c-475d-9c9e-85f35a74b6fc",
   "metadata": {},
   "outputs": [],
   "source": [
    "from cartoGRAPHs import *"
   ]
  },
  {
   "cell_type": "markdown",
   "id": "living-russell",
   "metadata": {},
   "source": [
    "_____\n",
    "# 1 | DEFINE NETWORK\n",
    "_____"
   ]
  },
  {
   "cell_type": "code",
   "execution_count": 2,
   "id": "blocked-journalism",
   "metadata": {
    "tags": []
   },
   "outputs": [],
   "source": [
    "G = nx.scale_free_graph(n=1000)\n",
    "\n",
    "l_nodefeatures = ['nodeID:'+str(i) for i in list(G.nodes())]\n",
    "d_nodefeatures = dict(zip(G.nodes(),l_nodefeatures))\n",
    "\n",
    "closeness = nx.closeness_centrality(G)\n",
    "d_closeness = {}\n",
    "for node, cl in sorted(closeness.items(), key = lambda x: x[1], reverse = 1):\n",
    "    d_closeness[node] = round(cl,4)"
   ]
  },
  {
   "cell_type": "markdown",
   "id": "b1f07e30-41b7-4ad2-875a-c22a4f320720",
   "metadata": {},
   "source": [
    "_____\n",
    "# 2 | LAYOUT METHOD \n",
    "_____\n",
    "+ most important parameter to choose : layoutmethod e.g. 'local', 'global', 'importance', 'functional'\n",
    "+ to see results, please run ONE of the following examples \n",
    "* STRUCTURAL LAYOUT\n",
    "* FUNCTIONAL LAYOUT\n",
    "* EXEMPLARY REAL NETWORK"
   ]
  },
  {
   "cell_type": "markdown",
   "id": "d59ad55f-a1bd-4c8f-a487-59aed7a5fdb9",
   "metadata": {
    "tags": []
   },
   "source": [
    "### Example of Structural Layout"
   ]
  },
  {
   "cell_type": "code",
   "execution_count": 3,
   "id": "f7dac009-f8cc-4705-8608-22eee785e233",
   "metadata": {},
   "outputs": [],
   "source": [
    "layout_method = 'global'\n",
    "\n",
    "posG2D = generate_layout(G, \n",
    "                        dim = 2, \n",
    "                        layoutmethod = layout_method,\n",
    "                        dimred_method='umap',\n",
    "                        )\n",
    "\n",
    "posG3D = generate_layout(G, \n",
    "                        dim = 3, \n",
    "                        layoutmethod = layout_method,\n",
    "                        dimred_method='umap'\n",
    "                        )"
   ]
  },
  {
   "cell_type": "markdown",
   "id": "moved-formation",
   "metadata": {
    "tags": []
   },
   "source": [
    "### Example of Functional Layout\n",
    "This is an example of an artifically produced functional matrix.\n",
    "The structure of the matrix shall be :\n",
    "+ rows = number of nodes in the Graph\n",
    "+ columns = number of features "
   ]
  },
  {
   "cell_type": "code",
   "execution_count": 7,
   "id": "confidential-berkeley",
   "metadata": {},
   "outputs": [],
   "source": [
    "layout_method = 'functional'\n",
    "\n",
    "scale = 1\n",
    "val = 0\n",
    "rows = len(list(G.nodes()))\n",
    "\n",
    "feat_one = [(val) if i%3 else (scale) for i in range(rows)]\n",
    "feat_two = [(val) if i%2 or feat_one[i]==scale in feat_one else (scale) for i in range(rows)]\n",
    "feat_three = [(scale) if feat_one[i]==val and feat_two[i]==val and i not in feat_one and i not in feat_two else val for i in range(rows)]\n",
    "\n",
    "feat_matrix = np.vstack((feat_one,feat_two,feat_three))\n",
    "FM = pd.DataFrame(feat_matrix)\n",
    "FM.index = ['100','101','102']\n",
    "FM=FM.T\n",
    "FM.index = list(G.nodes())"
   ]
  },
  {
   "cell_type": "code",
   "execution_count": null,
   "id": "560d27d0-698f-4509-802a-64a56f084f73",
   "metadata": {},
   "outputs": [],
   "source": [
    "posG2D = generate_layout(G, \n",
    "                        dim = 2, \n",
    "                        layoutmethod = layout_method,\n",
    "                        dimred_method='umap',\n",
    "                        Matrix = FM\n",
    "                        )\n",
    "\n",
    "posG3D = generate_layout(G, \n",
    "                        dim = 3, \n",
    "                        layoutmethod = layout_method,\n",
    "                        dimred_method='umap',\n",
    "                        Matrix = FM\n",
    "                        )"
   ]
  },
  {
   "cell_type": "markdown",
   "id": "9208f09c-7a1a-4e77-94d0-c127df215a09",
   "metadata": {
    "tags": []
   },
   "source": [
    "### Example of Precalculated Matrix Input \n",
    "This is highly recommended for example with large networks with more than 5000 nodes and 50k links. Here we use the human protein-protein interaction network for demonstration.\n",
    "+ generating layouts with precalculated settings can take up to 2min. "
   ]
  },
  {
   "cell_type": "code",
   "execution_count": 14,
   "id": "0ae5605c-bf2c-409a-b207-e479e2979de3",
   "metadata": {},
   "outputs": [],
   "source": [
    "organism = 'human'\n",
    "G = load_graph(organism)\n",
    "\n",
    "d_centralities = load_centralities(G, organism)\n",
    "df_centralities = pd.DataFrame.from_dict(d_centralities,orient='index')\n",
    "df_centralities.columns = ['degree','closeness', 'betweeness', 'eigenvector']\n",
    "d_closeness = dict(df_centralities['closeness'])\n",
    "d_nodefeatures = load_genesymbols(G, organism)\n",
    "\n",
    "netlayout = 'global' # examples: 'local' #'global' #'funct-bio' #'funct-mol' #'funct-cel' #'funct-dis'\n",
    "DM_precalculated = load_datamatrix(G,organism, netlayout)"
   ]
  },
  {
   "cell_type": "code",
   "execution_count": 15,
   "id": "fbf90b22-ed6b-4b7d-9b33-4364ffd1f1ee",
   "metadata": {},
   "outputs": [
    {
     "name": "stdout",
     "output_type": "stream",
     "text": [
      "CPU times: user 1min 30s, sys: 8.45 s, total: 1min 38s\n",
      "Wall time: 1min 4s\n"
     ]
    }
   ],
   "source": [
    "%%time \n",
    "\n",
    "layout_method = 'precalculated'\n",
    "posG2D = generate_layout(G, \n",
    "                        dim = 2, \n",
    "                        layoutmethod = layout_method,\n",
    "                        dimred_method='umap',\n",
    "                        Matrix = DM_precalculated,\n",
    "                        )"
   ]
  },
  {
   "cell_type": "code",
   "execution_count": 16,
   "id": "de619bd2-17b9-4a86-940c-f32ed8d0f85a",
   "metadata": {},
   "outputs": [
    {
     "name": "stdout",
     "output_type": "stream",
     "text": [
      "CPU times: user 1min 52s, sys: 7.22 s, total: 1min 59s\n",
      "Wall time: 47.1 s\n"
     ]
    }
   ],
   "source": [
    "%%time \n",
    "\n",
    "layout_method = 'precalculated'\n",
    "posG3D = generate_layout(G, \n",
    "                        dim = 3, \n",
    "                        layoutmethod = layout_method,\n",
    "                        dimred_method='umap',\n",
    "                        Matrix = DM_precalculated\n",
    "                        )"
   ]
  },
  {
   "cell_type": "markdown",
   "id": "split-center",
   "metadata": {
    "tags": []
   },
   "source": [
    "____________\n",
    "# 3 | SPECIFIC VISUAL NODE / EDGE SETTINGS\n",
    "____________"
   ]
  },
  {
   "cell_type": "markdown",
   "id": "demonstrated-optics",
   "metadata": {
    "tags": []
   },
   "source": [
    "#### SET NODES SIZES"
   ]
  },
  {
   "cell_type": "code",
   "execution_count": 4,
   "id": "liked-newfoundland",
   "metadata": {},
   "outputs": [],
   "source": [
    "scale_factor = 2\n",
    "nodesize = list(draw_node_degree(G, scale_factor).values())\n",
    "d_nodesize = dict(draw_node_degree(G, scale_factor))"
   ]
  },
  {
   "cell_type": "markdown",
   "id": "464052df-8df4-49d1-9aea-9d2698349195",
   "metadata": {
    "tags": []
   },
   "source": [
    "#### SET NODE COLORS "
   ]
  },
  {
   "cell_type": "markdown",
   "id": "7ea5fb2d-c5fb-42c2-b5af-5f849739e186",
   "metadata": {
    "tags": []
   },
   "source": [
    "##### OPTION 1 : A DICTIONARY WITH node ID as keys and different values based on groups. \n",
    "Here an example with a color gradient is shown."
   ]
  },
  {
   "cell_type": "code",
   "execution_count": 32,
   "id": "df9d820e-9fb6-44f5-8441-6e836d0fa8e7",
   "metadata": {},
   "outputs": [],
   "source": [
    "col_pal = 'YlOrRd'\n",
    "d_nodecolors = color_nodes_from_dict(G, d_nodesize, palette = col_pal)\n",
    "\n",
    "d_nodelegend = {}\n",
    "c = 0\n",
    "for i in range(len(set(d_nodecolors.values()))):\n",
    "    d_nodelegend[i]='color'+str(c)\n",
    "    c+=1"
   ]
  },
  {
   "cell_type": "markdown",
   "id": "35495db1-a116-461a-b129-2ac635afd414",
   "metadata": {
    "tags": []
   },
   "source": [
    "##### OPTION 2 : specific list of nodes to have a specific color; all others will be gray"
   ]
  },
  {
   "cell_type": "code",
   "execution_count": 11,
   "id": "bbd40802-fc60-41bb-ad85-e69c935b6087",
   "metadata": {},
   "outputs": [],
   "source": [
    "# the list_of_nodes shall be chosen\n",
    "sublist_of_nodes = list(G.nodes())[::2]\n",
    "sublist_color = '#00FFFB'\n",
    "\n",
    "d_nodecolors = color_nodes_from_list(G, l_nodes = sublist_of_nodes, col = sublist_color)\n",
    "nodecolors = list(d_nodecolors.values())\n",
    "\n",
    "first_groupname = 'A1'\n",
    "second_groupname = 'A2'\n",
    "d_nodelegend = dict(zip(set(d_nodecolors.values()),[first_groupname,second_groupname]))"
   ]
  },
  {
   "cell_type": "markdown",
   "id": "scientific-template",
   "metadata": {
    "tags": []
   },
   "source": [
    "_____ \n",
    "# 4 | INTERACTIVE VISUALIZATION + EXPORT TO VR\n",
    "_____\n",
    "Layout Maps to choose from: \n",
    "+ Portrait 2D \n",
    "+ Portrait 3D \n",
    "+ Topographic Map\n",
    "+ Geodesic Map "
   ]
  },
  {
   "cell_type": "markdown",
   "id": "marine-clause",
   "metadata": {
    "tags": []
   },
   "source": [
    "### 2D PORTRAIT"
   ]
  },
  {
   "cell_type": "code",
   "execution_count": 34,
   "id": "4df461bd-874e-403b-9b79-d227439804d6",
   "metadata": {},
   "outputs": [
    {
     "data": {
      "text/plain": [
       "'output_plots/2Dlayouts/2Dportrait_global.html'"
      ]
     },
     "execution_count": 34,
     "metadata": {},
     "output_type": "execute_result"
    }
   ],
   "source": [
    "plot_2Dfigure(G, posG2D, \n",
    "              d_features = d_nodefeatures, \n",
    "              d_colors = d_nodecolors, \n",
    "              d_size = d_nodesize, \n",
    "              d_legend = d_nodelegend,\n",
    "              path = 'output_plots/2Dlayouts/', \n",
    "              fname = '2Dportrait'+'_'+layout_method, \n",
    "              scheme = 'light',\n",
    "              #with_edges = False\n",
    "             )"
   ]
  },
  {
   "cell_type": "markdown",
   "id": "radical-lafayette",
   "metadata": {
    "tags": []
   },
   "source": [
    "#### EXPORT FOR VRNetzer "
   ]
  },
  {
   "cell_type": "code",
   "execution_count": null,
   "id": "3afa553d-f59c-48b4-8b85-ca6b88c0fa01",
   "metadata": {},
   "outputs": [],
   "source": [
    "export_to_csv2D(path = 'output_plots/VRlayouts/', \n",
    "                layout_namespace = '2Dportrait'+'_'+layout_method, \n",
    "                posG2D, \n",
    "                nodecolors)"
   ]
  },
  {
   "cell_type": "markdown",
   "id": "opening-courtesy",
   "metadata": {
    "tags": []
   },
   "source": [
    "### 3D PORTRAIT "
   ]
  },
  {
   "cell_type": "code",
   "execution_count": 33,
   "id": "81114f28-9d9d-4157-9ead-6d252d42f956",
   "metadata": {},
   "outputs": [
    {
     "data": {
      "text/plain": [
       "'output_plots/3Dlayouts/3Dportrait_global.html'"
      ]
     },
     "execution_count": 33,
     "metadata": {},
     "output_type": "execute_result"
    }
   ],
   "source": [
    "plot_3Dfigure(G, posG3D, \n",
    "              d_features = d_nodefeatures, \n",
    "              d_colors = d_nodecolors, \n",
    "              d_size = d_nodesize, \n",
    "              d_legend = d_nodelegend,\n",
    "              path = 'output_plots/3Dlayouts/', \n",
    "              fname = '3Dportrait'+'_'+layout_method, \n",
    "              scheme = 'dark',\n",
    "              #with_edges = False\n",
    "             )"
   ]
  },
  {
   "cell_type": "markdown",
   "id": "angry-billy",
   "metadata": {},
   "source": [
    "#### EXPORT FOR VRNetzer "
   ]
  },
  {
   "cell_type": "code",
   "execution_count": 21,
   "id": "thirty-mozambique",
   "metadata": {},
   "outputs": [],
   "source": [
    "export_to_csv3D(path = 'output_plots/VRlayouts/', \n",
    "                layout_namespace = '3Dportrait'+layout_method, \n",
    "                posG3D, \n",
    "                nodecolors)"
   ]
  },
  {
   "cell_type": "markdown",
   "id": "indie-vienna",
   "metadata": {
    "tags": []
   },
   "source": [
    "### TOPOGRAPHIC MAP"
   ]
  },
  {
   "cell_type": "code",
   "execution_count": 23,
   "id": "respective-plumbing",
   "metadata": {
    "tags": []
   },
   "outputs": [
    {
     "data": {
      "text/plain": [
       "'output_plots/3Dlayouts/Topographicfunctional.html'"
      ]
     },
     "execution_count": 23,
     "metadata": {},
     "output_type": "execute_result"
    }
   ],
   "source": [
    "# d_z = a dictionary with keys=G.nodes and values=any int/float assigned to a node\n",
    " \n",
    "z_list = [np.random.random() for i in range(0, len(list(G.nodes())))]\n",
    "d_z = dict(zip(list(G.nodes()),z_list))\n",
    "posG_topographic = layout_topographic(posG2D, d_z)\n",
    "\n",
    "plot_3Dfigure(G, posG_topographic, \n",
    "              d_features = d_nodefeatures, \n",
    "              d_colors = d_nodecolors, \n",
    "              d_size = d_nodesize, \n",
    "              d_legend = d_nodelegend,\n",
    "              path = 'output_plots/3Dlayouts/', \n",
    "              fname = 'Topographic'+layout_method, \n",
    "              scheme = 'light')"
   ]
  },
  {
   "cell_type": "markdown",
   "id": "stock-arrest",
   "metadata": {},
   "source": [
    "#### EXPORT FOR VRNetzer "
   ]
  },
  {
   "cell_type": "code",
   "execution_count": 20,
   "id": "tough-dimension",
   "metadata": {},
   "outputs": [],
   "source": [
    "export_to_csv3D(path = 'output_plots/VRlayouts/',\n",
    "                layout_namespace = 'Topographic'+layout_method, \n",
    "                posG = posG_topographic, \n",
    "                colors = nodecolors)"
   ]
  },
  {
   "cell_type": "markdown",
   "id": "advanced-subcommittee",
   "metadata": {},
   "source": [
    "### GEODESIC MAP"
   ]
  },
  {
   "cell_type": "code",
   "execution_count": null,
   "id": "c9ff61c3-46bd-4aca-8b7e-28cce037de38",
   "metadata": {},
   "outputs": [],
   "source": [
    "# d_rad = a dictionary with keys=G.nodes and values=any radius assigned to each node\n",
    "\n",
    "rad_list = [np.random.randint(1,4) for i in range(0, len(list(G.nodes())))]\n",
    "d_rad = dict(zip(list(G.nodes()), rad_list))\n",
    "posG_geodesic = layout_geodesic(G, d_rad)\n",
    "\n",
    "plot_3Dfigure(G, posG_geodesic, \n",
    "              d_features = d_nodefeatures, \n",
    "              d_colors = d_nodecolors, \n",
    "              d_size = d_nodesize, \n",
    "              d_legend = d_nodelegend, \n",
    "              path = 'output_plots/3Dlayouts/', \n",
    "              fname = 'Geodesic'+layout_method, \n",
    "              scheme = 'light')"
   ]
  },
  {
   "cell_type": "markdown",
   "id": "decent-tracy",
   "metadata": {},
   "source": [
    "#### EXPORT FOR VRNetzer "
   ]
  },
  {
   "cell_type": "code",
   "execution_count": 31,
   "id": "diverse-lindsay",
   "metadata": {},
   "outputs": [],
   "source": [
    "export_to_csv3D(path = 'output_plots/VRlayouts/', \n",
    "                layout_namespace = 'Geodesic'+layout_method, \n",
    "                posG = posG_geodesic, \n",
    "                colors = nodecolors)"
   ]
  }
 ],
 "metadata": {
  "kernelspec": {
   "display_name": "myenv",
   "language": "python",
   "name": "myenv"
  },
  "language_info": {
   "codemirror_mode": {
    "name": "ipython",
    "version": 3
   },
   "file_extension": ".py",
   "mimetype": "text/x-python",
   "name": "python",
   "nbconvert_exporter": "python",
   "pygments_lexer": "ipython3",
   "version": "3.8.2"
  }
 },
 "nbformat": 4,
 "nbformat_minor": 5
}
