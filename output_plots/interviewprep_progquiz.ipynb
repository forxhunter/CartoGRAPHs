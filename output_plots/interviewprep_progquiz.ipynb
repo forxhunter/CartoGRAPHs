{
 "cells": [
  {
   "cell_type": "markdown",
   "metadata": {},
   "source": [
    "### Interview preparation "
   ]
  },
  {
   "cell_type": "code",
   "execution_count": null,
   "metadata": {},
   "outputs": [],
   "source": [
    "# print every even times \"tik\", every uneven times \"tok\" \n",
    "# every  5th element should be a \"bäm\" \n",
    "\n",
    "i = 0\n",
    "while True: \n",
    "    if i%2 == 0:\n",
    "        print('tik')\n",
    "        i+=1\n",
    "    elif i%5 == 0:\n",
    "        print('bäm')\n",
    "        i+=1\n",
    "    else:\n",
    "        print('tok')\n",
    "        i+=1"
   ]
  },
  {
   "cell_type": "code",
   "execution_count": null,
   "metadata": {},
   "outputs": [],
   "source": [
    "# print the fibonacci series \n",
    "\n",
    "i = 0\n",
    "j = 1\n",
    "while True:\n",
    "    print(i)\n",
    "    k = i+j\n",
    "    i = j\n",
    "    j = k"
   ]
  },
  {
   "cell_type": "code",
   "execution_count": null,
   "metadata": {},
   "outputs": [],
   "source": []
  },
  {
   "cell_type": "code",
   "execution_count": null,
   "metadata": {},
   "outputs": [],
   "source": []
  },
  {
   "cell_type": "code",
   "execution_count": null,
   "metadata": {},
   "outputs": [],
   "source": []
  }
 ],
 "metadata": {
  "kernelspec": {
   "display_name": "Python 3",
   "language": "python",
   "name": "python3"
  },
  "language_info": {
   "codemirror_mode": {
    "name": "ipython",
    "version": 3
   },
   "file_extension": ".py",
   "mimetype": "text/x-python",
   "name": "python",
   "nbconvert_exporter": "python",
   "pygments_lexer": "ipython3",
   "version": "3.8.3"
  }
 },
 "nbformat": 4,
 "nbformat_minor": 4
}
