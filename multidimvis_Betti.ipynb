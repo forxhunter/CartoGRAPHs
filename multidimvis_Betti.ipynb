{
 "cells": [
  {
   "cell_type": "markdown",
   "metadata": {},
   "source": [
    "# Betti Number "
   ]
  },
  {
   "cell_type": "code",
   "execution_count": 1,
   "metadata": {},
   "outputs": [
    {
     "ename": "ModuleNotFoundError",
     "evalue": "No module named 'ripser'",
     "output_type": "error",
     "traceback": [
      "\u001b[0;31m---------------------------------------------------------------------------\u001b[0m",
      "\u001b[0;31mModuleNotFoundError\u001b[0m                       Traceback (most recent call last)",
      "\u001b[0;32m<ipython-input-1-6e2aa3c1cc6b>\u001b[0m in \u001b[0;36m<module>\u001b[0;34m\u001b[0m\n\u001b[1;32m      1\u001b[0m \u001b[0;32mfrom\u001b[0m \u001b[0mmultidimvis_main\u001b[0m \u001b[0;32mimport\u001b[0m \u001b[0;34m*\u001b[0m\u001b[0;34m\u001b[0m\u001b[0;34m\u001b[0m\u001b[0m\n\u001b[0;32m----> 2\u001b[0;31m \u001b[0;32mfrom\u001b[0m \u001b[0mripser\u001b[0m \u001b[0;32mimport\u001b[0m \u001b[0mRips\u001b[0m\u001b[0;34m\u001b[0m\u001b[0;34m\u001b[0m\u001b[0m\n\u001b[0m",
      "\u001b[0;31mModuleNotFoundError\u001b[0m: No module named 'ripser'"
     ]
    }
   ],
   "source": [
    "from multidimvis_main import *\n",
    "from ripser import Rips"
   ]
  },
  {
   "cell_type": "markdown",
   "metadata": {},
   "source": [
    "### GRAPH"
   ]
  },
  {
   "cell_type": "code",
   "execution_count": 2,
   "metadata": {},
   "outputs": [],
   "source": [
    "organism = 'yeast'\n",
    "data = pickle.load( open( \"input/BIOGRID-ORGANISM-Saccharomyces_cerevisiae_S288c-3.5.185.mitab.pickle\", \"rb\" ) )\n",
    "\n",
    "Counter(data['Interaction Detection Method'])\n",
    "Counter(data['Interaction Types'])\n",
    "\n",
    "filter_score = data[\n",
    "                    #(data['Interaction Types'] == 'psi-mi:\"MI:0915\"(physical association)') +\n",
    "                    (data['Interaction Types'] == 'psi-mi:\"MI:0407\"(direct interaction)') \n",
    "                    #&\n",
    "                    #(data['Taxid Interactor A'] == \"taxid:559292\") & \n",
    "                    #(data['Taxid Interactor B'] == \"taxid:559292\") \n",
    "]\n",
    "\n",
    "g = nx.from_pandas_edgelist(filter_score, '#ID Interactor A', 'ID Interactor B')\n",
    "g.remove_edges_from(nx.selfloop_edges(g)) #remove self loop\n",
    "\n",
    "G_cere = g.subgraph(max(nx.connected_components(g), key=len)) # largest connected component (lcc)\n",
    "G = G_cere"
   ]
  },
  {
   "cell_type": "markdown",
   "metadata": {},
   "source": [
    "### Distance Matrices as Input for Ripser"
   ]
  },
  {
   "cell_type": "code",
   "execution_count": 3,
   "metadata": {},
   "outputs": [],
   "source": [
    "DM_adj = pd.read_csv('output_csv/Adjacency_Dataframe_Yeast.csv', index_col=0)\n",
    "DM_spl = pd.read_csv('output_csv/SPL_Dataframe_Yeast.csv', index_col=0)\n",
    "DM_mlog = pd.read_csv('output_csv/RWRlog_Dataframe_Yeast.csv', index_col=0)\n",
    "DM_eucl = pd.read_csv('output_csv/PW_eucl_Dataframe_Yeast.csv', index_col=0)"
   ]
  },
  {
   "cell_type": "markdown",
   "metadata": {},
   "source": [
    "### USING RISPER\n",
    "+https://ripser.scikit-tda.org/\n",
    "\n",
    "+https://github.com/scikit-tda/ripser.pyy\n",
    "\n",
    "+https://www.theoj.org/joss-papers/joss.00925/10.21105.joss.00925.pdf\n",
    " \n",
    "+pip install Cython \n",
    "\n",
    "+pip install ripser"
   ]
  },
  {
   "cell_type": "code",
   "execution_count": 4,
   "metadata": {},
   "outputs": [
    {
     "name": "stdout",
     "output_type": "stream",
     "text": [
      "Rips(maxdim=3, thresh=inf, coeff=2, do_cocycles=False, n_perm = None, verbose=True)\n"
     ]
    }
   ],
   "source": [
    "DM = DM_eucl.to_numpy()\n",
    "rips = Rips(maxdim=3)"
   ]
  },
  {
   "cell_type": "code",
   "execution_count": null,
   "metadata": {},
   "outputs": [],
   "source": [
    "%%time \n",
    "\n",
    "diagrams = rips.fit_transform(DM, distance_matrix=True)"
   ]
  },
  {
   "cell_type": "code",
   "execution_count": null,
   "metadata": {},
   "outputs": [],
   "source": [
    "rips.plot(diagrams)"
   ]
  },
  {
   "cell_type": "code",
   "execution_count": null,
   "metadata": {},
   "outputs": [],
   "source": []
  },
  {
   "cell_type": "code",
   "execution_count": null,
   "metadata": {},
   "outputs": [],
   "source": []
  }
 ],
 "metadata": {
  "kernelspec": {
   "display_name": "Python 3",
   "language": "python",
   "name": "python3"
  },
  "language_info": {
   "codemirror_mode": {
    "name": "ipython",
    "version": 3
   },
   "file_extension": ".py",
   "mimetype": "text/x-python",
   "name": "python",
   "nbconvert_exporter": "python",
   "pygments_lexer": "ipython3",
   "version": "3.8.3"
  }
 },
 "nbformat": 4,
 "nbformat_minor": 4
}
