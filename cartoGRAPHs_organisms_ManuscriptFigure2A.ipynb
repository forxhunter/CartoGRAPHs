{
 "cells": [
  {
   "cell_type": "markdown",
   "id": "stainless-castle",
   "metadata": {},
   "source": [
    "-----\n",
    "# cartoGRAPHs - FIGURE 2A\n",
    "precalculated large networks , e.g. the Interactome\n",
    "\n",
    "A Notebook to produce 2D and 3D network layouts from any Graph,\n",
    "including interactive visualization (html files) and export functions \n",
    "to import into the VRNetzer analytics platform by Pirch et al.\n",
    "\n",
    "-----"
   ]
  },
  {
   "cell_type": "code",
   "execution_count": 1,
   "id": "stainless-hydrogen",
   "metadata": {},
   "outputs": [],
   "source": [
    "from cartoGRAPHs import * \n",
    "\n",
    "from func_load_data import *\n",
    "from func_visual_properties import * \n",
    "from func_calculations import * \n",
    "from func_embed_plot import * \n",
    "from func_exportVR import * "
   ]
  },
  {
   "cell_type": "markdown",
   "id": "amino-zealand",
   "metadata": {},
   "source": [
    "_____\n",
    "# HUMAN NETWORK\n",
    "_____"
   ]
  },
  {
   "cell_type": "code",
   "execution_count": 2,
   "id": "weighted-person",
   "metadata": {},
   "outputs": [],
   "source": [
    "organism = 'human'\n",
    "\n",
    "G = load_graph(organism) \n",
    "\n",
    "d_gene_sym = load_genesymbols(G, organism)\n",
    "l_features = list(d_gene_sym.values())\n",
    "\n",
    "d_gene_do = pickle.load( open( \"input/d_gene_do.pkl\", \"rb\" ) )\n",
    "d_do_genes = pickle.load( open( \"input/d_do_genes.pkl\", \"rb\" ) )\n",
    "d_do_names = pickle.load( open( \"input/DO_names.pkl\", \"rb\" ) )\n",
    "d_names_do = {y:x for x,y in d_do_names.items()}"
   ]
  },
  {
   "cell_type": "code",
   "execution_count": 3,
   "id": "protected-border",
   "metadata": {},
   "outputs": [],
   "source": [
    "d_centralities = load_centralities(G, organism)\n",
    "df_centralities = pd.DataFrame(d_centralities).T\n",
    "df_centralities.columns = ['degree','closeness', 'betweeness', 'eigenvector']\n",
    "essential_genes,non_ess_genes,notdefined_genes = load_essentiality(G, organism)"
   ]
  },
  {
   "cell_type": "markdown",
   "id": "stretch-pasta",
   "metadata": {
    "tags": []
   },
   "source": [
    "_____ \n",
    "# 2 | FIGURE 2A + supplementary | Importance layout (with diverse node lists highlighted)\n",
    "_____"
   ]
  },
  {
   "cell_type": "code",
   "execution_count": 4,
   "id": "adolescent-worth",
   "metadata": {},
   "outputs": [],
   "source": [
    "DM_cent = load_datamatrix(G,organism, 'importance')\n",
    "DM_cent_mod = DM_cent.round(5)"
   ]
  },
  {
   "cell_type": "markdown",
   "id": "proof-reason",
   "metadata": {},
   "source": [
    "### 2D PORTRAIT"
   ]
  },
  {
   "cell_type": "code",
   "execution_count": 199,
   "id": "faced-generation",
   "metadata": {},
   "outputs": [],
   "source": [
    "n_n = 20\n",
    "spr = 1.0\n",
    "md = 0.0\n",
    "metr = 'cosine'"
   ]
  },
  {
   "cell_type": "code",
   "execution_count": null,
   "id": "auburn-buffer",
   "metadata": {},
   "outputs": [],
   "source": [
    "%%time \n",
    "\n",
    "posG_umap2D = layout_portrait_umap(G,DM_cent_mod, 2,\n",
    "                                   n_neighbors = n_n,\n",
    "                                   spread = spr,\n",
    "                                   min_dist = md,\n",
    "                                   metric = metr) \n",
    "posG = posG_umap2D"
   ]
  },
  {
   "cell_type": "markdown",
   "id": "dedicated-northern",
   "metadata": {
    "tags": []
   },
   "source": [
    "## VISUAL SETTINGS + PLOT PREPARATION"
   ]
  },
  {
   "cell_type": "markdown",
   "id": "bright-cleanup",
   "metadata": {},
   "source": [
    "#### NODES - GENERAL"
   ]
  },
  {
   "cell_type": "code",
   "execution_count": 201,
   "id": "binding-martin",
   "metadata": {},
   "outputs": [],
   "source": [
    "opacity_nodes = 0.8\n",
    "node_edge_col = '#696969' \n",
    "node_linewidth = 1\n",
    "\n",
    "scale_factor = 0.5\n",
    "#size_nx = list(draw_node_degree(G, scale_factor).values())\n",
    "size_plotly = list(draw_node_degree(G, scale_factor/100).values())\n",
    "\n",
    "scale_factor3D = 0.025\n",
    "size3d = list(draw_node_degree_3D(G, scale_factor3D).values())\n",
    "\n",
    "nodesglow_diameter = 8.0\n",
    "nodesglow_transparency = 0.01 # 0.01"
   ]
  },
  {
   "cell_type": "markdown",
   "id": "coupled-citizenship",
   "metadata": {},
   "source": [
    "#### ESSENTIALITY color settings "
   ]
  },
  {
   "cell_type": "code",
   "execution_count": null,
   "id": "middle-westminster",
   "metadata": {
    "tags": []
   },
   "outputs": [],
   "source": [
    "color_method = 'essentiality'\n",
    "\n",
    "l_genes = essential_genes\n",
    "    \n",
    "node_col = '#00abff' \n",
    "undefined_col = '#DEDEDE '\n",
    "rest_col_nodes = '#DEDEDE '\n",
    "\n",
    "d_col_all = color_nodes_from_list(G, essential_genes, node_col)\n",
    "colors = list(d_col_all.values())\n",
    "    \n",
    "edge_color = node_col \n",
    "d_edge_col = color_edges_from_nodelist_specific(G, l_genes, node_col)\n",
    "width_edges = 0.25\n",
    "opacity_edges = 0.25"
   ]
  },
  {
   "cell_type": "markdown",
   "id": "confirmed-format",
   "metadata": {},
   "source": [
    "#### DEVELOPMENTAL color settings "
   ]
  },
  {
   "cell_type": "code",
   "execution_count": null,
   "id": "selective-declaration",
   "metadata": {},
   "outputs": [],
   "source": [
    "color_method = 'oocyte'\n",
    "\n",
    "if color_method == 'oocyte' or color_method == '2cell' or color_method == '4cell' or color_method == '8cell':\n",
    "\n",
    "    node_col = '#0181A3' \n",
    "    devgenes_selection = color_method\n",
    "    df_devgenes = pd.read_csv('input/EmExplorer/'+devgenes_selection+'_Homo-sapiens.txt', delimiter = \"\\t\")\n",
    "    \n",
    "    devgenes = list(df_devgenes['stage'])\n",
    "\n",
    "    d_devgenes_entrezid = {}\n",
    "    for i,k in d_gene_sym.items():\n",
    "        if k in devgenes:\n",
    "             d_devgenes_entrezid[k] = i \n",
    "    devgenes_entrezid = list(d_devgenes_entrezid.values())\n",
    "    \n",
    "    l_genes = devgenes_entrezid\n",
    "    \n",
    "    d_col_all = color_nodes_from_list(G, l_genes, node_col)\n",
    "    colors = list(d_col_all.values())\n",
    "\n",
    "    edge_color = node_col\n",
    "    d_edge_col = color_edges_from_nodelist_specific(G, l_genes, node_col)\n",
    "    width_edges = 0.25\n",
    "    opacity_edges = 0.5\n",
    "        \n",
    "else:\n",
    "    pass"
   ]
  },
  {
   "cell_type": "markdown",
   "id": "loving-blood",
   "metadata": {},
   "source": [
    "#### CANCER color settings "
   ]
  },
  {
   "cell_type": "code",
   "execution_count": 181,
   "id": "coordinate-rhythm",
   "metadata": {},
   "outputs": [],
   "source": [
    "disease_category = 'cancer'\n",
    "\n",
    "color_method = disease_category\n",
    "disease_genes = get_disease_genes(G, d_names_do, d_do_genes, disease_category)\n",
    "l_genes = disease_genes\n",
    "\n",
    "node_col = '#00C9FF' \n",
    "d_col_all = color_nodes_from_list(G, disease_genes, node_col)\n",
    "colors = list(d_col_all.values())\n",
    "\n",
    "edge_color = node_col \n",
    "d_edge_col = color_edges_from_nodelist_specific(G, l_genes, node_col)\n",
    "\n",
    "width_edges = 0.25\n",
    "opacity_edges = 0.25"
   ]
  },
  {
   "cell_type": "markdown",
   "id": "sharp-female",
   "metadata": {},
   "source": [
    "#### RARE DISEASE genes color settings "
   ]
  },
  {
   "cell_type": "code",
   "execution_count": 76,
   "id": "duplicate-leave",
   "metadata": {},
   "outputs": [],
   "source": [
    "import xml.etree.ElementTree as ET\n",
    "tree = ET.parse('input/orphadata.xml')\n",
    "root = tree.getroot()\n",
    "\n",
    "# retrieve genes from all rare diseases from database/file  \n",
    "disorder_to_genes = {}\n",
    "for disorder in root.iter('Disorder'):\n",
    "    dis = list(disorder.attrib.values())[0]\n",
    "    for elem in disorder.findall('DisorderGeneAssociationList'):\n",
    "        genes = []\n",
    "        for disorderassoc in elem.findall('DisorderGeneAssociation'):\n",
    "            for gene in disorderassoc.findall('Gene'):\n",
    "                for reference in gene.findall('ExternalReferenceList'):\n",
    "                     for refs in reference.findall('ExternalReference'):\n",
    "                        for ensg in refs.findall('Source'):\n",
    "                            if ensg.text == 'Ensembl':\n",
    "                                for e in refs.findall('Reference'):\n",
    "                                    ensgID = (e.text)\n",
    "                            else:\n",
    "                                pass\n",
    "                            \n",
    "            genes.append(ensgID)\n",
    "    disorder_to_genes[dis] = genes\n",
    "\n",
    "    \n",
    "# get a list of all rare disease genes obtained \n",
    "all_raredisease_genes = []\n",
    "for dis,genes in disorder_to_genes.items():\n",
    "    for i in genes:\n",
    "        all_raredisease_genes.append(i)\n",
    "      \n",
    "    \n",
    "# make sure there are no duplicates\n",
    "set_all_raredisease_genes = set(all_raredisease_genes)\n",
    "\n",
    "\n",
    "# convert ensgID to entrezID and get gene symbols\n",
    "ensg_to_entrez = pd.read_csv('input/ensg_to_entrezid.txt',sep=\"\t\")\n",
    "\n",
    "ensg = list(ensg_to_entrez['From'])\n",
    "entrez = [str(int(i)) for i in ensg_to_entrez['To'][:-1]] #list(ensg_to_entrez['To'])\n",
    "d_ensg_entrez = dict(zip(ensg,entrez))\n",
    "\n",
    "\n",
    "# match ensgID with entrezID\n",
    "set_all_raredisease_genes_id = {}\n",
    "for ix,entrez in d_ensg_entrez.items():\n",
    "    if ix in set_all_raredisease_genes:\n",
    "        set_all_raredisease_genes_id[ix]=entrez\n",
    "\n",
    "        \n",
    "# color all rare disease genes  \n",
    "l_rarediseasegenes = list(set_all_raredisease_genes_id.values())\n",
    "color_method = 'rarediseasegenes'\n",
    "\n",
    "l_genes = l_rarediseasegenes\n",
    "\n",
    "node_col =  '#004EAB'#'#0A81A1' \n",
    "undefined_col = '#DEDEDE '\n",
    "rest_col_nodes = '#DEDEDE '\n",
    "\n",
    "d_col_all = color_nodes_from_list(G, l_genes, node_col)\n",
    "colors = list(d_col_all.values())\n",
    "    \n",
    "edge_color = node_col \n",
    "d_edge_col = color_edges_from_nodelist_specific(G, l_genes, node_col)\n",
    "width_edges = 0.25\n",
    "opacity_edges = 0.25"
   ]
  },
  {
   "cell_type": "markdown",
   "id": "coral-twenty",
   "metadata": {
    "tags": []
   },
   "source": [
    "## PLOT NETWORK PORTRAIT - plotly "
   ]
  },
  {
   "cell_type": "code",
   "execution_count": 77,
   "id": "turkish-allah",
   "metadata": {
    "tags": []
   },
   "outputs": [],
   "source": [
    "# plot nodes based on focus > separate to background/foreground \n",
    "\n",
    "posG_foreground = {}\n",
    "posG_background = {}\n",
    "for k,v in posG.items():\n",
    "    if k in l_genes:\n",
    "        posG_foreground[k]=v\n",
    "    else: \n",
    "        posG_background[k]=v\n",
    "    \n",
    "d_colors_foreground = {}\n",
    "d_colors_background = {}\n",
    "for i,c in d_col_all.items():\n",
    "    if i in posG_foreground.keys():\n",
    "        d_colors_foreground[i]=c\n",
    "    else: \n",
    "        d_colors_background[i]=c\n",
    "\n",
    "colors_foreground = list(d_colors_foreground.values())\n",
    "colors_background = list(d_colors_background.values())\n",
    "\n",
    "d_feat_foreground = {}\n",
    "d_feat_background = {}\n",
    "for k,v in d_gene_sym.items():\n",
    "    if k in posG_foreground: \n",
    "        d_feat_foreground[k]=v\n",
    "    else:\n",
    "        d_feat_background[k]=v\n",
    "        \n",
    "feat_foreground = list(d_feat_foreground.values())\n",
    "feat_background = list(d_feat_background.values())\n",
    "\n",
    "d_size_plotly = draw_node_degree(G, scale_factor/100)\n",
    "d_size_plotly_foreground = {}\n",
    "d_size_plotly_background = {}\n",
    "for k,v in d_size_plotly.items():\n",
    "    if k in posG_foreground.keys():\n",
    "        d_size_plotly_foreground[k]=v\n",
    "    else:\n",
    "        d_size_plotly_background[k]=v\n",
    "        \n",
    "size_plotly_foreground = list(d_size_plotly_foreground.values())\n",
    "size_plotly_background = list(d_size_plotly_background.values())"
   ]
  },
  {
   "cell_type": "code",
   "execution_count": 81,
   "id": "loved-reggae",
   "metadata": {},
   "outputs": [
    {
     "data": {
      "text/plain": [
       "'output_plots/2Dlayouts/2Dportrait_NetlayoutImportance_rarediseasegenes_human_onlynodes.html'"
      ]
     },
     "execution_count": 81,
     "metadata": {},
     "output_type": "execute_result"
    }
   ],
   "source": [
    "umap_nodes_foreground = get_trace_nodes_2D(posG_foreground, feat_foreground, colors_foreground, size_plotly_foreground, \n",
    "                                           node_linewidth)\n",
    "umap_nodes_background = get_trace_nodes_2D(posG_background, feat_background, colors_background, size_plotly_background, \n",
    "                                           node_linewidth*0.25)\n",
    "umap_nodes_background_ = get_trace_nodes_2D(posG_background, feat_background, colors_background, 0.5, node_linewidth*0.5)\n",
    "\n",
    "umap_edges = get_trace_edges_specific2D(d_edge_col, posG, linew=width_edges, opac=opacity_edges)\n",
    "data = [umap_edges, \n",
    "    umap_nodes_background_, umap_nodes_background, umap_nodes_foreground]\n",
    "\n",
    "path = 'output_plots/2Dlayouts/'\n",
    "schema = 'light' #'dark' \n",
    "fname = '2Dportrait_NetlayoutImportance_'+color_method+'_'+organism\n",
    "\n",
    "plot_2D(data,path,fname)"
   ]
  },
  {
   "cell_type": "markdown",
   "id": "informational-sculpture",
   "metadata": {},
   "source": [
    "## PLOT NETWORK PORTRAIT - networkx"
   ]
  },
  {
   "cell_type": "code",
   "execution_count": null,
   "id": "received-treasury",
   "metadata": {},
   "outputs": [],
   "source": [
    "# Choose edges to highlight that link inbetween 2 essential genes only \n",
    "d_edge_col = color_edges_from_nodelist_specific(G, essential_genes, node_col)\n",
    "\n",
    "# Rest edges \n",
    "d_rest_edges={}\n",
    "for e in G.edges():\n",
    "    if e not in d_edge_col.keys():\n",
    "        d_rest_edges[e] = '#f0f0f0'\n",
    "\n",
    "d_all_edges = {**d_edge_col, **d_rest_edges}\n",
    "d_all_edges_sort = {key:d_all_edges[key] for key in G.edges()}\n",
    "edge_color = list(d_all_edges_sort.values())\n",
    "\n",
    "\n",
    "\n",
    "plt.figure(figsize=(25,25))\n",
    "plt.title('2D Portrait', size=16)\n",
    "\n",
    "nx.draw_networkx_nodes(G, \n",
    "                       posG,\n",
    "                       edgecolors = 'dimgrey', \n",
    "                       linewidths = 1.2, \n",
    "                       node_color = colors, \n",
    "                       node_size = size_nx, \n",
    "                       alpha = 0.8)\n",
    "\n",
    "nx.draw_networkx_edges(G, posG, width = 0.1, \n",
    "                       edge_color = edge_color, \n",
    "                      alpha = 0.25)\n",
    "\n",
    "plt.box(False)\n",
    "\n",
    "fname = 'output_plots/2Dlayouts/2Dportrait_Fig2a_'+organism\n",
    "\n",
    "# PNG\n",
    "#plt.savefig(fname+'.png',dpi=300)\n",
    "\n",
    "# PDF \n",
    "plt.savefig(fname+'.pdf',format='pdf')\n",
    "\n",
    "plt.show()"
   ]
  },
  {
   "cell_type": "code",
   "execution_count": null,
   "id": "demonstrated-amsterdam",
   "metadata": {},
   "outputs": [],
   "source": []
  },
  {
   "cell_type": "code",
   "execution_count": null,
   "id": "hazardous-arthritis",
   "metadata": {},
   "outputs": [],
   "source": []
  },
  {
   "cell_type": "code",
   "execution_count": null,
   "id": "expensive-judge",
   "metadata": {},
   "outputs": [],
   "source": []
  }
 ],
 "metadata": {
  "kernelspec": {
   "display_name": "Python [conda env:miniconda3-myenv_clip2]",
   "language": "python",
   "name": "conda-env-miniconda3-myenv_clip2-py"
  },
  "language_info": {
   "codemirror_mode": {
    "name": "ipython",
    "version": 3
   },
   "file_extension": ".py",
   "mimetype": "text/x-python",
   "name": "python",
   "nbconvert_exporter": "python",
   "pygments_lexer": "ipython3",
   "version": "3.6.13"
  }
 },
 "nbformat": 4,
 "nbformat_minor": 5
}
