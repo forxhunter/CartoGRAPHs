{
 "cells": [
  {
   "cell_type": "markdown",
   "metadata": {},
   "source": [
    "# ===========================\n",
    "# Benchmarking - U P S C A L I N G - 3D TORUS \n",
    "# ==========================="
   ]
  },
  {
   "cell_type": "code",
   "execution_count": 1,
   "metadata": {},
   "outputs": [],
   "source": [
    "from multidimvis_main import *"
   ]
  },
  {
   "cell_type": "code",
   "execution_count": 2,
   "metadata": {},
   "outputs": [],
   "source": [
    "# 3D TORUS \n",
    "organism = 'tor'\n",
    "\n",
    "feature = 'RWRvis'\n",
    "r = .9\n",
    "alpha = 1.0\n",
    "\n",
    "# parameters (post - testing)\n",
    "n_neighbors = 10\n",
    "spread = 1\n",
    "min_dist = 0.0\n",
    "metric = 'cosine'\n",
    "lnr = 1\n",
    "nep = None"
   ]
  },
  {
   "cell_type": "markdown",
   "metadata": {},
   "source": [
    "_________\n",
    "# 3D - Torus\n",
    "_________"
   ]
  },
  {
   "cell_type": "code",
   "execution_count": 5,
   "metadata": {},
   "outputs": [
    {
     "name": "stdout",
     "output_type": "stream",
     "text": [
      "RWR\n",
      "Execution Time: 00:00:02\n",
      "SPRING\n",
      "Execution Time: 00:00:01\n",
      "\n",
      "\n",
      "RWR corr coef:  0.9953409109329807\n",
      "SPRING corr coef:  0.9716487448912767\n"
     ]
    }
   ],
   "source": [
    "#########\n",
    "# 1 0 0 \n",
    "#########\n",
    "\n",
    "G = nx.grid_2d_graph(12,8,periodic=True)\n",
    "\n",
    "print('RWR')\n",
    "start = time.time()\n",
    "posG_global = globallayout_3D(G,n_neighbors, spread, min_dist, metric)\n",
    "end = time.time()\n",
    "m,s = exec_time(start,end)\n",
    "\n",
    "print('SPRING')\n",
    "start = time.time()\n",
    "posG_spring = springlayout_3D(G,itr=2500)\n",
    "end = time.time()\n",
    "m,s = exec_time(start,end)\n",
    "\n",
    "print('\\n')\n",
    "\n",
    "dist_global = pairwise_layout_distance_3D(G,posG_global)\n",
    "dist_spring = pairwise_layout_distance_3D(G,posG_spring)\n",
    "dist_network = pairwise_network_distance(G)\n",
    "\n",
    "r_global = pearson_corrcoef(dist_network, dist_global)\n",
    "print('RWR corr coef: ',r_global)\n",
    "\n",
    "r_spring = pearson_corrcoef(dist_network, dist_spring)\n",
    "print('SPRING corr coef: ',r_spring)"
   ]
  },
  {
   "cell_type": "code",
   "execution_count": 11,
   "metadata": {},
   "outputs": [
    {
     "name": "stdout",
     "output_type": "stream",
     "text": [
      "Runtime spring for Corr. Coeff. 0.99\n",
      "Execution Time: 00:00:05\n",
      "SPRING corr coef:  0.9920175629619657\n"
     ]
    }
   ],
   "source": [
    "G = nx.grid_2d_graph(12,8,periodic=True)\n",
    "\n",
    "print('Runtime spring for Corr. Coeff. 0.99')\n",
    "\n",
    "start = time.time()\n",
    "posG_spring = springlayout_3D(G,itr=10000)\n",
    "end = time.time()\n",
    "m,s = exec_time(start,end)\n",
    "\n",
    "dist_spring = pairwise_layout_distance_3D(G,posG_spring)\n",
    "dist_network = pairwise_network_distance(G)\n",
    "\n",
    "r_spring = pearson_corrcoef(dist_network, dist_spring)\n",
    "print('SPRING corr coef: ',r_spring)"
   ]
  },
  {
   "cell_type": "code",
   "execution_count": null,
   "metadata": {},
   "outputs": [],
   "source": [
    "#########\n",
    "# 5 0 0 \n",
    "#########\n",
    "\n",
    "G = nx.grid_2d_graph(42,12,periodic=True)\n",
    "\n",
    "print('RWR')\n",
    "start = time.time()\n",
    "posG_global = globallayout_3D(G,n_neighbors, spread, min_dist, metric)\n",
    "end = time.time()\n",
    "m,s = exec_time(start,end)\n",
    "\n",
    "r_global = pearson_corrcoef_3D(G, posG_global)\n",
    "print('RWR corr coef: ',r_global)\n",
    "\n",
    "print('\\n')\n",
    "print('SPRING')\n",
    "start = time.time()\n",
    "posG_spring = springlayout_3D(G,itr=90)\n",
    "end = time.time()\n",
    "m,s = exec_time(start,end)\n",
    "\n",
    "r_spring = pearson_corrcoef_3D(G,posG_spring)\n",
    "print('SPRING corr coef: ',r_spring)"
   ]
  },
  {
   "cell_type": "code",
   "execution_count": 3,
   "metadata": {},
   "outputs": [
    {
     "name": "stdout",
     "output_type": "stream",
     "text": [
      "Runtime spring for Corr. Coeff. 0.97\n",
      "Execution Time: 00:00:42\n",
      "SPRING corr coef:  0.9790665356944861\n"
     ]
    }
   ],
   "source": [
    "G = nx.grid_2d_graph(42,12,periodic=True)\n",
    "\n",
    "print('Runtime spring for Corr. Coeff. 0.97')\n",
    "\n",
    "start = time.time()\n",
    "posG_spring = springlayout_3D(G,itr=800)\n",
    "end = time.time()\n",
    "m,s = exec_time(start,end)\n",
    "\n",
    "dist_spring = pairwise_layout_distance_3D(G,posG_spring)\n",
    "dist_network = pairwise_network_distance(G)\n",
    "\n",
    "r_spring = pearson_corrcoef(dist_network, dist_spring)\n",
    "print('SPRING corr coef: ',r_spring)"
   ]
  },
  {
   "cell_type": "code",
   "execution_count": 29,
   "metadata": {},
   "outputs": [
    {
     "name": "stdout",
     "output_type": "stream",
     "text": [
      "RWR\n",
      "Execution Time: 00:00:18\n",
      "prep layout distance\n",
      "prep network distance\n",
      "prep corr. coeff. data\n",
      "calculate corr. coeff.\n",
      "RWR corr coef:  0.9760808329038996\n",
      "\n",
      "\n",
      "SPRING\n",
      "Execution Time: 00:00:20\n",
      "prep layout distance\n",
      "prep network distance\n",
      "prep corr. coeff. data\n",
      "calculate corr. coeff.\n",
      "SPRING corr coef:  0.9296547805540264\n"
     ]
    }
   ],
   "source": [
    "#########\n",
    "# 1 0 0 0 \n",
    "#########\n",
    "\n",
    "G = nx.grid_2d_graph(44,22,periodic=True)\n",
    "\n",
    "print('RWR')\n",
    "start = time.time()\n",
    "posG_global = globallayout_3D(G,n_neighbors, spread, min_dist, metric)\n",
    "end = time.time()\n",
    "m,s = exec_time(start,end)\n",
    "\n",
    "print('SPRING')\n",
    "start = time.time()\n",
    "posG_spring = springlayout_3D(G,itr=140)\n",
    "end = time.time()\n",
    "m,s = exec_time(start,end)\n",
    "\n",
    "print('\\n')\n",
    "\n",
    "dist_global = pairwise_layout_distance_3D(G,posG_global)\n",
    "dist_spring = pairwise_layout_distance_3D(G,posG_spring)\n",
    "dist_network = pairwise_network_distance(G)\n",
    "\n",
    "r_global = pearson_corrcoef(dist_network, dist_global)\n",
    "print('RWR corr coef: ',r_global)\n",
    "\n",
    "r_spring = pearson_corrcoef(dist_network, dist_spring)\n",
    "print('SPRING corr coef: ',r_spring)"
   ]
  },
  {
   "cell_type": "code",
   "execution_count": 14,
   "metadata": {},
   "outputs": [
    {
     "name": "stdout",
     "output_type": "stream",
     "text": [
      "Runtime spring for Corr. Coeff. 0.97\n",
      "Execution Time: 00:01:21\n",
      "SPRING corr coef:  0.9825047797235715\n"
     ]
    }
   ],
   "source": [
    "G = nx.grid_2d_graph(44,22,periodic=True)\n",
    "\n",
    "print('Runtime spring for Corr. Coeff. 0.97')\n",
    "\n",
    "start = time.time()\n",
    "posG_spring = springlayout_3D(G,itr=650)\n",
    "end = time.time()\n",
    "m,s = exec_time(start,end)\n",
    "\n",
    "dist_spring = pairwise_layout_distance_3D(G,posG_spring)\n",
    "dist_network = pairwise_network_distance(G)\n",
    "\n",
    "r_spring = pearson_corrcoef(dist_network, dist_spring)\n",
    "print('SPRING corr coef: ',r_spring)"
   ]
  },
  {
   "cell_type": "code",
   "execution_count": 30,
   "metadata": {},
   "outputs": [
    {
     "name": "stdout",
     "output_type": "stream",
     "text": [
      "RWR\n",
      "Execution Time: 00:00:58\n",
      "prep layout distance\n",
      "prep network distance\n",
      "prep corr. coeff. data\n",
      "calculate corr. coeff.\n",
      "RWR corr coef:  0.9884442957666724\n"
     ]
    }
   ],
   "source": [
    "#########\n",
    "# 5 0 0 0 \n",
    "#########\n",
    "\n",
    "G = nx.grid_2d_graph(90,55,periodic=True)\n",
    "\n",
    "print('RWR')\n",
    "start = time.time()\n",
    "posG_global = globallayout_3D(G,n_neighbors, spread, min_dist, metric)\n",
    "end = time.time()\n",
    "m,s = exec_time(start,end)\n",
    "\n",
    "dist_global = pairwise_layout_distance_3D(G,posG_global)\n",
    "dist_network = pairwise_network_distance(G)\n",
    "\n",
    "r_global = pearson_corrcoef(dist_network, dist_global)\n",
    "print('RWR corr coef: ',r_global)"
   ]
  },
  {
   "cell_type": "code",
   "execution_count": 33,
   "metadata": {},
   "outputs": [
    {
     "name": "stdout",
     "output_type": "stream",
     "text": [
      "SPRING\n",
      "Execution Time: 00:00:59\n",
      "prep layout distance\n",
      "prep network distance\n",
      "prep corr. coeff. data\n",
      "calculate corr. coeff.\n",
      "SPRING corr coef:  0.351588527909056\n"
     ]
    }
   ],
   "source": [
    "G = nx.grid_2d_graph(90,55,periodic=True)\n",
    "\n",
    "print('SPRING')\n",
    "start = time.time()\n",
    "posG_spring = springlayout_3D(G,itr=30)\n",
    "end = time.time()\n",
    "m,s = exec_time(start,end)\n",
    "\n",
    "dist_spring = pairwise_layout_distance_3D(G,posG_spring)\n",
    "dist_network = pairwise_network_distance(G)\n",
    "\n",
    "r_spring = pearson_corrcoef(dist_network, dist_spring)\n",
    "print('SPRING corr coef: ',r_spring)"
   ]
  },
  {
   "cell_type": "code",
   "execution_count": 4,
   "metadata": {},
   "outputs": [
    {
     "name": "stdout",
     "output_type": "stream",
     "text": [
      "Runtime spring for Corr. Coeff. 0.98\n",
      "Execution Time: 00:22:13\n",
      "SPRING corr coef:  0.9759009728480506\n"
     ]
    }
   ],
   "source": [
    "G = nx.grid_2d_graph(90,55,periodic=True)\n",
    "\n",
    "print('Runtime spring for Corr. Coeff. 0.98')\n",
    "\n",
    "start = time.time()\n",
    "posG_spring = springlayout_3D(G,itr=1000)\n",
    "end = time.time()\n",
    "m,s = exec_time(start,end)\n",
    "\n",
    "dist_spring = pairwise_layout_distance_3D(G,posG_spring)\n",
    "dist_network = pairwise_network_distance(G)\n",
    "\n",
    "r_spring = pearson_corrcoef(dist_network, dist_spring)\n",
    "print('SPRING corr coef: ',r_spring)"
   ]
  },
  {
   "cell_type": "code",
   "execution_count": 3,
   "metadata": {},
   "outputs": [
    {
     "name": "stdout",
     "output_type": "stream",
     "text": [
      "RWR\n",
      "Execution Time: 00:02:43\n",
      "SPRING\n",
      "Execution Time: 00:02:36\n",
      "\n",
      "\n"
     ]
    }
   ],
   "source": [
    "#########\n",
    "# 1 0 0 0 0 \n",
    "#########\n",
    "\n",
    "G = nx.grid_2d_graph(125,80,periodic=True)\n",
    "\n",
    "print('RWR')\n",
    "start = time.time()\n",
    "posG_global = globallayout_3D(G,n_neighbors, spread, min_dist, metric)\n",
    "end = time.time()\n",
    "m,s = exec_time(start,end)\n",
    "\n",
    "print('SPRING')\n",
    "start = time.time()\n",
    "posG_spring = springlayout_3D(G,itr=20)\n",
    "end = time.time()\n",
    "m,s = exec_time(start,end)\n",
    "\n",
    "print('\\n')"
   ]
  },
  {
   "cell_type": "code",
   "execution_count": 4,
   "metadata": {},
   "outputs": [
    {
     "name": "stdout",
     "output_type": "stream",
     "text": [
      "CPU times: user 3min 35s, sys: 6.17 s, total: 3min 41s\n",
      "Wall time: 3min 41s\n"
     ]
    }
   ],
   "source": [
    "%%time\n",
    "dist_global = pairwise_layout_distance_3D(G,posG_global)"
   ]
  },
  {
   "cell_type": "code",
   "execution_count": 5,
   "metadata": {},
   "outputs": [
    {
     "name": "stdout",
     "output_type": "stream",
     "text": [
      "CPU times: user 3min 27s, sys: 5.17 s, total: 3min 32s\n",
      "Wall time: 3min 32s\n"
     ]
    }
   ],
   "source": [
    "%%time\n",
    "dist_spring = pairwise_layout_distance_3D(G,posG_spring)"
   ]
  },
  {
   "cell_type": "code",
   "execution_count": null,
   "metadata": {},
   "outputs": [],
   "source": [
    "%%time\n",
    "dist_network = pairwise_network_distance(G)"
   ]
  },
  {
   "cell_type": "code",
   "execution_count": null,
   "metadata": {},
   "outputs": [],
   "source": []
  },
  {
   "cell_type": "code",
   "execution_count": null,
   "metadata": {},
   "outputs": [],
   "source": []
  },
  {
   "cell_type": "code",
   "execution_count": null,
   "metadata": {},
   "outputs": [],
   "source": []
  },
  {
   "cell_type": "code",
   "execution_count": null,
   "metadata": {},
   "outputs": [],
   "source": []
  },
  {
   "cell_type": "code",
   "execution_count": null,
   "metadata": {},
   "outputs": [],
   "source": [
    "%%time \n",
    "r_global = pearson_corrcoef(dist_network, dist_global)\n",
    "print('RWR corr coef: ',r_global)\n",
    "\n",
    "r_spring = pearson_corrcoef(dist_network, dist_spring)\n",
    "print('SPRING corr coef: ',r_spring)"
   ]
  },
  {
   "cell_type": "code",
   "execution_count": null,
   "metadata": {},
   "outputs": [],
   "source": [
    "G = nx.grid_2d_graph(125,80,periodic=True)\n",
    "\n",
    "print('Runtime spring for Corr. Coeff. 0.98')\n",
    "\n",
    "start = time.time()\n",
    "posG_spring = springlayout_3D(G,itr=2000)\n",
    "end = time.time()\n",
    "m,s = exec_time(start,end)\n",
    "\n",
    "dist_spring = pairwise_layout_distance_3D(G,posG_spring)\n",
    "dist_network = pairwise_network_distance(G)\n",
    "\n",
    "r_spring = pearson_corrcoef(dist_network, dist_spring)\n",
    "print('SPRING corr coef: ',r_spring)"
   ]
  },
  {
   "cell_type": "code",
   "execution_count": null,
   "metadata": {},
   "outputs": [],
   "source": [
    "#########\n",
    "# 2 0 0 0 0 \n",
    "#########\n",
    "\n",
    "G = nx.grid_2d_graph(182,110,periodic=True)\n",
    "\n",
    "print('RWR')\n",
    "start = time.time()\n",
    "posG_global = globallayout_3D(G,n_neighbors, spread, min_dist, metric)\n",
    "end = time.time()\n",
    "m,s = exec_time(start,end)\n",
    "\n",
    "print('SPRING')\n",
    "start = time.time()\n",
    "posG_spring = springlayout_3D(G,itr=30)\n",
    "end = time.time()\n",
    "m,s = exec_time(start,end)\n",
    "\n",
    "print('\\n')\n",
    "\n",
    "dist_global = pairwise_layout_distance_3D(G,posG_global)\n",
    "dist_spring = pairwise_layout_distance_3D(G,posG_spring)\n",
    "dist_network = pairwise_network_distance(G)\n",
    "\n",
    "r_global = pearson_corrcoef(dist_network, dist_global)\n",
    "print('RWR corr coef: ',r_global)\n",
    "\n",
    "r_spring = pearson_corrcoef(dist_network, dist_spring)\n",
    "print('SPRING corr coef: ',r_spring)"
   ]
  },
  {
   "cell_type": "code",
   "execution_count": null,
   "metadata": {},
   "outputs": [],
   "source": [
    "G = nx.grid_2d_graph(182,110,periodic=True)\n",
    "\n",
    "print('Runtime spring for Corr. Coeff. 0.98')\n",
    "\n",
    "start = time.time()\n",
    "posG_spring = springlayout_3D(G,itr=1000)\n",
    "end = time.time()\n",
    "m,s = exec_time(start,end)\n",
    "\n",
    "dist_spring = pairwise_layout_distance_3D(G,posG_spring)\n",
    "dist_network = pairwise_network_distance(G)\n",
    "\n",
    "r_spring = pearson_corrcoef(dist_network, dist_spring)\n",
    "print('SPRING corr coef: ',r_spring)"
   ]
  },
  {
   "cell_type": "markdown",
   "metadata": {},
   "source": [
    "## CORR COEF / NETSIZE - saved values for diagram\n",
    "+ for equal running time"
   ]
  },
  {
   "cell_type": "code",
   "execution_count": null,
   "metadata": {},
   "outputs": [],
   "source": [
    "d_3Dtor_netsize_time = {(12,8):2,\n",
    "                        (42,12):5,\n",
    "                        (44,22):18,\n",
    "                        (90,55):58,\n",
    "                        (125,80):105,\n",
    "                        (182,110):540\n",
    "                       }\n",
    "\n",
    "# G L O B A L \n",
    "d_3Dtor_netsize_corr_global = {(12,8):0.9953409109329807,\n",
    "                                (42,12):0.9747764909975275,\n",
    "                                (44,22):0.9760808329038996,\n",
    "                                (90,55):0.9884442957666724,\n",
    "                                (125,80):0.9846049068909122,\n",
    "                               \n",
    "                                (182,110):\n",
    "                                }\n",
    "\n",
    "# S P R I N G\n",
    "d_3Dtor_netsize_corr_spring = {(12,8):0.9786594141157169,\n",
    "                                (42,12):0.896610104173987,,\n",
    "                                (44,22):0.9296547805540264,\n",
    "                                (90,55):0.351588527909056,\n",
    "                               \n",
    "                                (125,80):\n",
    "                                (182,110):\n",
    "                                   }"
   ]
  },
  {
   "cell_type": "code",
   "execution_count": 91,
   "metadata": {},
   "outputs": [],
   "source": [
    "# Network size vs. Correlation Factor \n",
    "# with same running time\n",
    "\n",
    "labelsize = 16 \n",
    "\n",
    "x_tor = []\n",
    "for k in d_3Dtor_netsize_time.keys():\n",
    "    x_tor.append(k[0]**3)\n",
    "    \n",
    "x_spring = x_tor\n",
    "y_spring = list(d_3Dtor_netsize_corr_spring.values())\n",
    "x_layout = x_tor\n",
    "y_layout = list(d_3Dtor_netsize_corr_global.values())\n",
    "\n",
    "fig = plt.figure(figsize=(8,8), dpi=300)\n",
    "\n",
    "plt.xlabel(\"Network Size [# Nodes]\", fontsize=labelsize)\n",
    "plt.ylabel(\"Pearson Corr.Coeff.\", fontsize=labelsize)\n",
    "\n",
    "plt.plot(x_spring,y_spring, '--', c = 'cornflowerblue', alpha = 0.8, linewidth=1.0)\n",
    "plt.scatter(x_spring,y_spring, c = 'cornflowerblue', s = 30, alpha = 1.0)\n",
    "plt.plot(x_layout,y_layout, '--', c = 'orange', alpha = 0.8, linewidth=1.0)\n",
    "plt.scatter(x_layout,y_layout, c = 'orange', s = 30, alpha = 1.0)\n",
    "\n",
    "plt.grid(True, c='lightgrey', alpha=0.5)\n",
    "plt.suptitle('3D | Network Size vs. Corr. Factor | '+organism, fontsize=10)\n",
    "plt.ylim(ymin=0, ymax=1.0)\n",
    "\n",
    "fig.savefig('output_plots/benchmark/upscaled_3D_CorrNetsize_'+feature+'_'+organism+'.png')"
   ]
  },
  {
   "cell_type": "markdown",
   "metadata": {},
   "source": [
    "## TIME / NETSIZE - saved values for diagram\n",
    "+ for equal correlation coefficient"
   ]
  },
  {
   "cell_type": "code",
   "execution_count": null,
   "metadata": {},
   "outputs": [],
   "source": [
    "d_3Dtor_netsize_corr = {(12,8):0.99,\n",
    "                        (42,12):0.97,\n",
    "                        (44,22):0.97,\n",
    "                        (90,55):0.98,\n",
    "                        (125,80):0.98\n",
    "                        (182,110):\n",
    "                       }\n",
    "\n",
    "# G L O B A L \n",
    "d_3Dtor_netsize_time_global = d_3Dtor_netsize_time\n",
    "\n",
    "# S P R I N G\n",
    "d_3Dtor_netsize_time_spring = {(12,8):5,\n",
    "                                (42,12):42,\n",
    "                                (44,22):71,\n",
    "                               \n",
    "                                (90,55): ,#00:22:13\n",
    "                                (125,80): ,\n",
    "                                (182,110): ,\n",
    "                                   }"
   ]
  },
  {
   "cell_type": "code",
   "execution_count": null,
   "metadata": {},
   "outputs": [],
   "source": [
    "# Network size vs. Time \n",
    "# with same Correlation Factor \n",
    "\n",
    "labelsize = 16 \n",
    "\n",
    "x_tor = []\n",
    "for k in d_3Dtor_netsize_corr.keys():\n",
    "    x_tor.append(k[0]*k[1])\n",
    "    \n",
    "x_spring = x_tor\n",
    "y_spring = list(d_3Dtor_netsize_time_spring.values())\n",
    "x_layout = x_tor\n",
    "y_layout = list(d_3Dtor_netsize_time_global.values())\n",
    "\n",
    "fig = plt.figure(figsize=(8,8), dpi=300)\n",
    "\n",
    "plt.xlabel(\"Network Size [# Nodes]\", fontsize=labelsize)\n",
    "plt.ylabel(\"Wall Time [s]\", fontsize=labelsize)\n",
    "\n",
    "plt.plot(x_spring,y_spring, '--', c = 'cornflowerblue', alpha = 0.8, linewidth=1.0)\n",
    "plt.scatter(x_spring,y_spring, c = 'cornflowerblue', s = 30, alpha = 1.0)\n",
    "plt.plot(x_layout,y_layout, '--', c = 'orange', alpha = 0.8, linewidth=1.0)\n",
    "plt.scatter(x_layout,y_layout, c = 'orange', s = 30, alpha = 1.0)\n",
    "\n",
    "plt.grid(True, c='lightgrey', alpha=0.5)\n",
    "plt.suptitle('3D | Network Size vs. Wall Time | '+organism, fontsize=10)\n",
    "plt.ylim(ymin=0, ymax=1.0)\n",
    "\n",
    "fig.savefig('output_plots/benchmark/upscaled_3D_TimeNetsize_'+feature+'_'+organism+'.png')"
   ]
  },
  {
   "cell_type": "code",
   "execution_count": null,
   "metadata": {},
   "outputs": [],
   "source": []
  },
  {
   "cell_type": "code",
   "execution_count": null,
   "metadata": {},
   "outputs": [],
   "source": []
  }
 ],
 "metadata": {
  "kernelspec": {
   "display_name": "Python [conda env:miniconda3-myenv_clip2]",
   "language": "python",
   "name": "conda-env-miniconda3-myenv_clip2-py"
  },
  "language_info": {
   "codemirror_mode": {
    "name": "ipython",
    "version": 3
   },
   "file_extension": ".py",
   "mimetype": "text/x-python",
   "name": "python",
   "nbconvert_exporter": "python",
   "pygments_lexer": "ipython3",
   "version": "3.6.13"
  }
 },
 "nbformat": 4,
 "nbformat_minor": 4
}
