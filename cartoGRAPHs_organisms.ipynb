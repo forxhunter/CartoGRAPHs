{
 "cells": [
  {
   "cell_type": "markdown",
   "id": "863bbf91-d0fb-4830-8890-1fec9a1c5276",
   "metadata": {},
   "source": [
    "-----\n",
    "# cartoGRAPHs\n",
    "precalculated large networks , e.g. the Interactome\n",
    "\n",
    "A Notebook to produce 2D and 3D network layouts from any Graph,\n",
    "including interactive visualization (html files) and export functions \n",
    "to import into the VRNetzer analytics platform by Pirch et al.\n",
    "\n",
    "-----"
   ]
  },
  {
   "cell_type": "code",
   "execution_count": 1,
   "id": "8957cddf-feaf-4d09-a2bf-584106fd51a0",
   "metadata": {},
   "outputs": [],
   "source": [
    "from cartoGRAPHs import * \n",
    "\n",
    "from func_load_data import *\n",
    "from func_visual_properties import * \n",
    "from func_calculations import * \n",
    "from func_embed_plot import * \n",
    "from func_exportVR import * "
   ]
  },
  {
   "cell_type": "markdown",
   "id": "9562d69c-fe2c-4702-bfd8-a35a752c0038",
   "metadata": {},
   "source": [
    "_____\n",
    "# 1 | DEFINE NETWORK\n",
    "_____"
   ]
  },
  {
   "cell_type": "code",
   "execution_count": 2,
   "id": "d7cffb6e-e286-47f7-afbe-a3b479ac83c0",
   "metadata": {},
   "outputs": [],
   "source": [
    "# ---------------------------------------------------------------------------\n",
    "#\n",
    "# PREPROCESSED INFORMATION of organisms e.g. homo sapiens, saccharomyces cerevisiae \n",
    "#\n",
    "# ---------------------------------------------------------------------------\n",
    "#\n",
    "# CHOOSE ONE ORGANISM\n",
    "#\n",
    "#organism = 'yeast'\n",
    "organism = 'human'\n",
    "#\n",
    "# ---------------------------------------------------------------------------\n",
    "\n",
    "G = load_graph(organism)\n",
    "\n",
    "d_centralities = load_centralities(G, organism)\n",
    "df_centralities = pd.DataFrame(d_centralities).T\n",
    "df_centralities.columns = ['degree','closeness', 'betweeness', 'eigenvector']\n",
    "essential_genes,non_ess_genes,notdefined_genes = load_essentiality(G, organism)\n",
    "\n",
    "d_gene_sym = load_genesymbols(G, organism)\n",
    "l_features = list(d_gene_sym.values())\n",
    "\n",
    "# Human specific > to include Disease Ontology\n",
    "if organism == 'human':\n",
    "    d_gene_do = pickle.load( open( \"input/d_gene_do.pkl\", \"rb\" ) )\n",
    "    d_do_genes = pickle.load( open( \"input/d_do_genes.pkl\", \"rb\" ) )\n",
    "    d_do_names = pickle.load( open( \"input/DO_names.pkl\", \"rb\" ) )\n",
    "    d_names_do = {y:x for x,y in d_do_names.items()}\n",
    "else: \n",
    "    pass"
   ]
  },
  {
   "cell_type": "code",
   "execution_count": 3,
   "id": "a123c3ee-4da4-4665-b6bb-f7c26e5524f7",
   "metadata": {},
   "outputs": [],
   "source": [
    "# ---------------------------------------------------------------------------\n",
    "#\n",
    "# PRECALCULATED MATRICES \n",
    "# choose one of the following netlayouts (e.g. local,global,importance,..)\n",
    "#\n",
    "# ---------------------------------------------------------------------------\n",
    "\n",
    "netlayout = 'local' #'importance' #'global' #'funct-bio' #'funct-mol' #'funct-cel' #'funct-dis'\n",
    "DM = load_datamatrix(G,organism, netlayout)\n",
    "\n",
    "genes = []\n",
    "for i in DM.index:\n",
    "    if i in G.nodes():\n",
    "        genes.append(i)\n",
    "    \n",
    "genes_rest = [] \n",
    "for i in G.nodes():\n",
    "    if i not in genes:\n",
    "        genes_rest.append(i)"
   ]
  },
  {
   "cell_type": "markdown",
   "id": "00e8ed3e-27cc-457e-861b-f8c5e59e9e98",
   "metadata": {
    "tags": []
   },
   "source": [
    "_____ \n",
    "# 2 | SPATIAL EMBEDDING\n",
    "_____\n",
    "Note: Based on Matrix (i.e. variable DM) the network layout type is determined, e.g. local,global,importance, etc. \n",
    "\n",
    "Layout Maps to choose from: \n",
    "+ Portrait 2D \n",
    "+ Portrait 3D \n",
    "+ Topographic Map\n",
    "+ Geodesic Map "
   ]
  },
  {
   "cell_type": "markdown",
   "id": "311ae9e1-4a0f-4cab-ba6f-73c46f7d0547",
   "metadata": {},
   "source": [
    "### 2D PORTRAIT"
   ]
  },
  {
   "cell_type": "code",
   "execution_count": 5,
   "id": "2b9186c3-9e0d-4524-bdd3-b981be2af226",
   "metadata": {},
   "outputs": [
    {
     "name": "stdout",
     "output_type": "stream",
     "text": [
      "CPU times: user 8min 50s, sys: 15.7 s, total: 9min 6s\n",
      "Wall time: 2min 37s\n"
     ]
    }
   ],
   "source": [
    "%%time \n",
    "\n",
    "posG_tsne2D = layout_portrait_tsne(G,DM,2,prplxty=10, density=1, l_rate=200, steps=250, metric='cosine') "
   ]
  },
  {
   "cell_type": "code",
   "execution_count": null,
   "id": "8d651733-1a8a-425b-aafe-ee203c07aab3",
   "metadata": {},
   "outputs": [
    {
     "name": "stderr",
     "output_type": "stream",
     "text": [
      "/Users/chris/opt/anaconda3/lib/python3.8/site-packages/umap/umap_.py:125: UserWarning:\n",
      "\n",
      "A few of your vertices were disconnected from the manifold.  This shouldn't cause problems.\n",
      "Disconnection_distance = 1 has removed 6823 edges.\n",
      "It has only fully disconnected 120 vertices.\n",
      "Use umap.utils.disconnected_vertices() to identify them.\n",
      "\n"
     ]
    },
    {
     "name": "stdout",
     "output_type": "stream",
     "text": [
      "CPU times: user 4min 25s, sys: 12.6 s, total: 4min 37s\n",
      "Wall time: 1min 22s\n"
     ]
    }
   ],
   "source": [
    "%%time \n",
    "\n",
    "posG_umap2D = layout_portrait_umap(G,DM,2,n_neighbors=20, spread=1, min_dist=0.0, metric='cosine') "
   ]
  },
  {
   "cell_type": "markdown",
   "id": "e9c94039-9180-46a3-9a23-d687f1605f07",
   "metadata": {},
   "source": [
    "### 3D PORTRAIT "
   ]
  },
  {
   "cell_type": "code",
   "execution_count": null,
   "id": "7b96cee7-dd66-42b6-8b76-60078a52befe",
   "metadata": {},
   "outputs": [],
   "source": [
    "%%time \n",
    "\n",
    "posG_tsne3D_ = layout_portrait_tsne(G,DM,3,prplxty=10, density=1, l_rate=200, steps=250, metric='cosine') "
   ]
  },
  {
   "cell_type": "code",
   "execution_count": 15,
   "id": "880cac82-b137-472e-9779-8337db7ca1cc",
   "metadata": {},
   "outputs": [
    {
     "name": "stderr",
     "output_type": "stream",
     "text": [
      "/Users/chris/opt/anaconda3/lib/python3.8/site-packages/umap/umap_.py:125: UserWarning:\n",
      "\n",
      "A few of your vertices were disconnected from the manifold.  This shouldn't cause problems.\n",
      "Disconnection_distance = 1 has removed 6823 edges.\n",
      "It has only fully disconnected 120 vertices.\n",
      "Use umap.utils.disconnected_vertices() to identify them.\n",
      "\n"
     ]
    },
    {
     "name": "stdout",
     "output_type": "stream",
     "text": [
      "CPU times: user 4min 29s, sys: 5.36 s, total: 4min 34s\n",
      "Wall time: 1min 8s\n"
     ]
    }
   ],
   "source": [
    "%%time \n",
    "\n",
    "posG_umap3D = layout_portrait_umap(G,DM,3,n_neighbors=20, spread=1, min_dist=0.0, metric='cosine') "
   ]
  },
  {
   "cell_type": "code",
   "execution_count": 18,
   "id": "d2810397-1f19-431a-8312-b3e7a6ab8c7e",
   "metadata": {},
   "outputs": [],
   "source": [
    "# ---------------------------------------------------------------------------\n",
    "#\n",
    "# SELECT positions of layout basis for further settings \n",
    "#\n",
    "posG = posG_umap3D\n",
    "# ---------------------------------------------------------------------------"
   ]
  },
  {
   "cell_type": "markdown",
   "id": "33a454fc-43ff-4311-aa80-ddd53ee0843a",
   "metadata": {
    "tags": []
   },
   "source": [
    "____________\n",
    "# 3 | VISUAL SETTINGS + PLOT PREPARATION\n",
    "____________\n",
    "+ colors in hex: https://htmlcolorcodes.com/"
   ]
  },
  {
   "cell_type": "markdown",
   "id": "57212d0e-3b53-40b5-95fb-c6d0a0d78f75",
   "metadata": {},
   "source": [
    "#### NODES - GENERAL"
   ]
  },
  {
   "cell_type": "code",
   "execution_count": 19,
   "id": "24dfcf08-33dc-4fbd-8da7-ffeccc25316e",
   "metadata": {},
   "outputs": [],
   "source": [
    "opacity_nodes = 0.8\n",
    "node_edge_col = '#696969' \n",
    "\n",
    "scale_factor = 0.005\n",
    "size = list(draw_node_degree(G, scale_factor).values())\n",
    "\n",
    "scale_factor3D = 0.025\n",
    "size3d = list(draw_node_degree_3D(G, scale_factor3D).values())\n",
    "\n",
    "nodesglow_diameter = 8.0\n",
    "nodesglow_transparency = 0.01 # 0.01"
   ]
  },
  {
   "cell_type": "markdown",
   "id": "d2d292d0-7aae-41a8-944e-aab1bffc994b",
   "metadata": {},
   "source": [
    "#### NODE COLORS - specific"
   ]
  },
  {
   "cell_type": "markdown",
   "id": "c173f344-a464-486b-9bd7-ee6dfb331497",
   "metadata": {},
   "source": [
    "OPTION 1 - diverse color methods"
   ]
  },
  {
   "cell_type": "code",
   "execution_count": 35,
   "id": "9f087e0a-4cc2-459f-86a8-6d85b84702aa",
   "metadata": {
    "tags": []
   },
   "outputs": [],
   "source": [
    "# ---------------------------------------------------------------------------\n",
    "#\n",
    "# Choose a color_method e.g. closeness, essentiality, oocyte, 2cell,4cell,8cell\n",
    "#\n",
    "# ---------------------------------------------------------------------------\n",
    "color_method = '8cell'\n",
    "# ---------------------------------------------------------------------------\n",
    "\n",
    "if color_method == 'closeness':\n",
    "    \n",
    "    l_genes = list(G.nodes())\n",
    "    \n",
    "    d_clos = {}\n",
    "    for k,v in d_centralities.items():\n",
    "        d_clos[k] = v[1]\n",
    "\n",
    "    d_nodecolors = d_clos \n",
    "    col_pal = 'YlOrRd'\n",
    "\n",
    "    d_colors = color_nodes_from_dict(G, d_nodecolors, palette = col_pal)\n",
    "    colors = list(d_colors.values())\n",
    "    \n",
    "    edge_color = '#ACACAC'\n",
    "    width_edges = 0.25\n",
    "    opacity_edges = 0.1\n",
    "    \n",
    "    if len(list(posG.values())[0]) == 2:\n",
    "        umap_nodes = get_trace_nodes_2D(posG, l_features, colors, size, opacity_nodes)\n",
    "        umap_edges = get_trace_edges_2D(G, posG, edge_color, opac = opacity_edges)\n",
    "        data = [umap_edges, umap_nodes]\n",
    "\n",
    "    elif len(list(posG.values())[0]) == 3:\n",
    "        umap_nodes = get_trace_nodes_3D(posG, l_features, colors, size, opacity_nodes)\n",
    "        umap_edges = get_trace_edges_3D(G, posG, edge_color, opac = opacity_edges)\n",
    "        data = [umap_edges, umap_nodes]\n",
    "        \n",
    "    else: \n",
    "        print('Please pass node positions for 2- or 3D (e.g. dict with nodeID:(x,y) or nodeID:(x,y,z)') \n",
    "    \n",
    "elif color_method == 'essentiality':\n",
    "    \n",
    "    l_genes = essential_genes\n",
    "    \n",
    "    node_col = '#00abff' \n",
    "    undefined_col = '#d3d3d3'\n",
    "    rest_col_nodes = '#d3d3d3'\n",
    "\n",
    "    d_col_all = color_nodes_from_list(G, essential_genes, node_col)\n",
    "    colors = list(d_col_all.values())\n",
    "    \n",
    "    edge_color = node_col \n",
    "    d_edge_col = color_edges_from_nodelist_specific(G, l_genes, node_col)\n",
    "    width_edges = 0.25\n",
    "    opacity_edges = 0.25\n",
    "    \n",
    "    if len(list(posG.values())[0]) == 2:\n",
    "        umap_nodes = get_trace_nodes_2D(posG, l_features, colors, size, opacity_nodes)\n",
    "        umap_edges = get_trace_edges_specific2D(d_edge_col, posG, linew=width_edges, opac=opacity_edges)\n",
    "        data = [umap_edges, umap_nodes]\n",
    "\n",
    "    elif len(list(posG.values())[0]) == 3:\n",
    "        umap_nodes = get_trace_nodes_3D(posG, l_features, colors, size, opacity_nodes)\n",
    "        umap_edges = get_trace_edges_specific3D(d_edge_col, posG, linew=width_edges, opac=opacity_edges)\n",
    "        data = [umap_edges, umap_nodes]\n",
    "\n",
    "    else: \n",
    "        print('Please pass node positions for 2- or 3D (e.g. dict with nodeID:(x,y) or nodeID:(x,y,z)') \n",
    "        \n",
    "        \n",
    "elif color_method == 'oocyte' or color_method == '2cell' or color_method == '4cell' or color_method == '8cell':\n",
    "\n",
    "    node_col = '#0000ff' \n",
    "    devgenes_selection = color_method\n",
    "    df_devgenes = pd.read_csv('input/EmExplorer/'+devgenes_selection+'_Homo-sapiens.txt', delimiter = \"\\t\")\n",
    "    \n",
    "    devgenes = list(df_devgenes['stage'])\n",
    "\n",
    "    d_devgenes_entrezid = {}\n",
    "    for i,k in d_gene_sym.items():\n",
    "        if k in devgenes:\n",
    "             d_devgenes_entrezid[k] = i \n",
    "    devgenes_entrezid = list(d_devgenes_entrezid.values())\n",
    "    \n",
    "    l_genes = devgenes_entrezid\n",
    "    \n",
    "    d_col_all = color_nodes_from_list(G, l_genes, node_col)\n",
    "    colors = list(d_col_all.values())\n",
    "\n",
    "    edge_color = node_col\n",
    "    d_edge_col = color_edges_from_nodelist_specific(G, l_genes, node_col)\n",
    "    width_edges = 0.45\n",
    "    opacity_edges = 0.5\n",
    "    \n",
    "    if len(list(posG.values())[0]) == 2:\n",
    "        umap_nodes = get_trace_nodes_2D(posG, l_features, colors, size, opacity_nodes)\n",
    "        umap_edges = get_trace_edges_specific2D(d_edge_col, posG, linew=width_edges, opac=opacity_edges)\n",
    "        data = [umap_edges, umap_nodes]\n",
    "\n",
    "    elif len(list(posG.values())[0]) == 3:\n",
    "        umap_nodes = get_trace_nodes_3D(posG, l_features, colors, size, opacity_nodes)\n",
    "        umap_edges = get_trace_edges_specific3D(d_edge_col, posG, linew=width_edges, opac=opacity_edges)\n",
    "        data = [umap_edges, umap_nodes]\n",
    "        \n",
    "    else: \n",
    "        print('Please pass node positions for 2- or 3D (e.g. dict with nodeID:(x,y) or nodeID:(x,y,z)')    \n",
    "        \n",
    "        \n",
    "else:\n",
    "    pass"
   ]
  },
  {
   "cell_type": "markdown",
   "id": "2677cf48-36b5-4139-b965-43e703574d8e",
   "metadata": {},
   "source": [
    "OPTION 2 - specific gene(s)"
   ]
  },
  {
   "cell_type": "code",
   "execution_count": 136,
   "id": "ebf65cb8-81cd-41a5-b75e-17eb28c18a69",
   "metadata": {
    "jupyter": {
     "source_hidden": true
    },
    "tags": []
   },
   "outputs": [],
   "source": [
    "# ---------------------------------------------------------------------------\n",
    "#\n",
    "# Choose genes to highlight with a specific color incl. specific gene links only\n",
    "#\n",
    "color_method = 'genes'\n",
    "#\n",
    "# ---------------------------------------------------------------------------\n",
    "# exemplary gene list \n",
    "genesym_list = ['NF1', 'MAPK3', 'MAP2K1', 'NRAS', 'BRAF']\n",
    "# ---------------------------------------------------------------------------\n",
    "\n",
    "d_idsym = {}\n",
    "for k,v in d_gene_sym.items():\n",
    "    for i in genesym_list:\n",
    "        if v == i:\n",
    "            d_idsym[k]=i\n",
    "\n",
    "l_genes = list(d_idsym.keys())\n",
    "\n",
    "node_col = '#0000ff' \n",
    "\n",
    "d_col_all = color_nodes_from_list(G, l_genes, node_col)\n",
    "colors = list(d_col_all.values())\n",
    "\n",
    "edge_color = node_col\n",
    "\n",
    "width_edges = 0.25\n",
    "opacity_edges = 0.5\n",
    "\n",
    "umap_nodes = get_trace_nodes_2D(posG, l_features, colors, size, opacity_nodes)\n",
    "umap_edges = get_trace_edges_from_nodelist2D(G, l_genes, posG, edge_color, linew = width_edges, opac = opacity_edges)\n",
    "data = [umap_edges, umap_nodes]"
   ]
  },
  {
   "cell_type": "markdown",
   "id": "b071b880-6323-41df-9978-66988075e1b9",
   "metadata": {},
   "source": [
    "OPTION 3 - 1 specific Disease"
   ]
  },
  {
   "cell_type": "code",
   "execution_count": 141,
   "id": "0d352346-6bb4-4ccd-bd2e-eb73167363df",
   "metadata": {
    "collapsed": true,
    "jupyter": {
     "outputs_hidden": true,
     "source_hidden": true
    },
    "tags": []
   },
   "outputs": [
    {
     "name": "stdout",
     "output_type": "stream",
     "text": [
      "('organ system cancer', 'DOID:0050686') 2386\n",
      "('cancer', 'DOID:162') 2497\n",
      "('gastrointestinal system cancer', 'DOID:3119') 1008\n"
     ]
    }
   ],
   "source": [
    "# ---------------------------------------------------------------------------\n",
    "#\n",
    "# Choose a disease to be highlighted in a layout \n",
    "#\n",
    "# ---------------------------------------------------------------------------\n",
    "     \n",
    "# fetch disease categories \n",
    "disease_categories = {}\n",
    "for d_name in d_names_do.keys():\n",
    "    #if d_name.find(disease_category) != -1:\n",
    "        try:\n",
    "            disease_categories[d_name,d_names_do[d_name]]=len(d_do_genes[d_names_do[d_name]])\n",
    "            #print('specific disease: %s (%s) ; # associated genes: %s' %(d_name,d_names_do[d_name],len(d_do_genes[d_names_do[d_name]])))\n",
    "        except:\n",
    "            pass\n",
    "        \n",
    "# ----------------------------------------------------        \n",
    "# 1 - search for a specific disease \n",
    "# ----------------------------------------------------   \n",
    "search_term = \"cancer\"\n",
    "min_diseasegenes = 1000\n",
    "max_diseasegenes = 50000\n",
    "# ----------------------------------------------------   \n",
    "\n",
    "for k,v in disease_categories.items():\n",
    "    if v >= min_diseasegenes and v<= max_diseasegenes and search_term in k[0]:\n",
    "        print(k,v)"
   ]
  },
  {
   "cell_type": "code",
   "execution_count": 153,
   "id": "163d9fa1-bcf0-44db-a7cb-1c0448c786ea",
   "metadata": {
    "jupyter": {
     "source_hidden": true
    },
    "tags": []
   },
   "outputs": [],
   "source": [
    "# ----------------------------------------------------   \n",
    "# 2 - Choose Disease \n",
    "# ----------------------------------------------------   \n",
    "disease_category = 'cancer'\n",
    "# ----------------------------------------------------   \n",
    "\n",
    "color_method = disease_category\n",
    "disease_genes = get_disease_genes(G, d_names_do, d_do_genes, disease_category)\n",
    "l_genes = disease_genes\n",
    "\n",
    "node_col = 'royalblue' # '#d21404' # 'red'\n",
    "d_col_all = color_nodes_from_list(G, disease_genes, node_col)\n",
    "colors = list(d_col_all.values())\n",
    "\n",
    "edge_color = node_col \n",
    "\n",
    "width_edges = 0.25\n",
    "opacity_edges = 0.15\n",
    "\n",
    "umap_nodes = get_trace_nodes_2D(posG, l_features, colors, size, opacity_nodes)\n",
    "umap_edges = get_trace_edges_from_nodelist2D(G, l_genes, posG, edge_color, linew = width_edges, opac = opacity_edges)\n",
    "data = [umap_edges, umap_nodes]"
   ]
  },
  {
   "cell_type": "markdown",
   "id": "ace02dba-b5b3-4b0a-941f-32a03c83ecbe",
   "metadata": {},
   "source": [
    "OPTION 4 - more than 1 specific Diseases"
   ]
  },
  {
   "cell_type": "code",
   "execution_count": 181,
   "id": "dda29af7-b237-41d6-9490-c079508bcf73",
   "metadata": {
    "jupyter": {
     "source_hidden": true
    },
    "tags": []
   },
   "outputs": [],
   "source": [
    "# Text identifier for file output name\n",
    "color_method = 'fourdiseases'\n",
    "\n",
    "# Choose diseases to be highlighted \n",
    "disease_one = 'carcinoma' #'leukemia' ###  \n",
    "disease_two = 'schizophrenia' ###\n",
    "disease_three = 'myopathy' # 'epilepsy' ###\n",
    "disease_four = 'breast cancer'#'cardiomyopathy' ###\n",
    "\n",
    "disease_genes_one = get_disease_genes(G, d_names_do, d_do_genes, disease_one)\n",
    "disease_genes_two = get_disease_genes(G, d_names_do, d_do_genes, disease_two)\n",
    "disease_genes_three = get_disease_genes(G, d_names_do, d_do_genes, disease_three)\n",
    "disease_genes_four = get_disease_genes(G, d_names_do, d_do_genes, disease_four)\n",
    "\n",
    "node_col_one = '#ff9a00' #orange\n",
    "node_col_two = '#ffe700' #yellow\n",
    "node_col_three = '#e50000' #red\n",
    "node_col_four = '#a10000' #dark red\n",
    "\n",
    "rest_col_edges = '#d3d3d3'\n",
    "rest_col_nodes = '#d3d3d3'# '#696969' \n",
    "\n",
    "d_col_one = color_nodes(disease_genes_one, node_col_one)\n",
    "d_col_two = color_nodes(disease_genes_two, node_col_two)\n",
    "d_col_three = color_nodes(disease_genes_three, node_col_three)\n",
    "d_col_four = color_nodes(disease_genes_four, node_col_four)\n",
    "\n",
    "# Node colors \n",
    "d_col_all = {**d_col_one, **d_col_two, **d_col_three, **d_col_four}\n",
    "\n",
    "d_rest = {}\n",
    "for g in G.nodes():\n",
    "    if g not in d_col_all.keys():\n",
    "        d_rest[g] = rest_col_nodes #'d3d3d3' #'696969', #'dimgrey' # 'rgba(50,50,50,0.5)'\n",
    "\n",
    "d_col_all_unsort = {**d_col_all, **d_rest}\n",
    "d_col_all_sorted = {key:d_col_all_unsort[key] for key in G.nodes()}\n",
    "colors = list(d_col_all_sorted.values())\n",
    "\n",
    "# Edge colors\n",
    "d_edge_col_one = color_edges_from_nodelist_specific(G, disease_genes_one, node_col_one)\n",
    "d_edge_col_two = color_edges_from_nodelist_specific(G, disease_genes_two, node_col_two)\n",
    "d_edge_col_three = color_edges_from_nodelist_specific(G, disease_genes_three, node_col_three)\n",
    "d_edge_col_four = color_edges_from_nodelist_specific(G, disease_genes_four, node_col_four)\n",
    "\n",
    "#d_edge_col_ = {**d_edge_col_one,**d_edge_col_two,**d_edge_col_three,**d_edge_col_four}\n",
    "\n",
    "edge_color_diseaseone = get_trace_edges_specific2D(d_edge_col_one, posG_umap2D, linew=0.5, opac=0.12)\n",
    "edge_color_diseasetwo = get_trace_edges_specific2D(d_edge_col_two, posG_umap2D, linew=0.5, opac=0.12)\n",
    "edge_color_diseasethree = get_trace_edges_specific2D(d_edge_col_three, posG_umap2D, linew=0.5, opac=0.12)\n",
    "edge_color_diseasefour = get_trace_edges_specific2D(d_edge_col_four, posG_umap2D, linew=0.5, opac=0.12)\n",
    "\n",
    "\n",
    "umap_nodes = get_trace_nodes_2D(posG, l_features, colors, size, opacity_nodes)\n",
    "data = [edge_color_diseaseone,\n",
    "        edge_color_diseasetwo,\n",
    "        edge_color_diseasethree,\n",
    "        edge_color_diseasefour,\n",
    "        umap_nodes]"
   ]
  },
  {
   "cell_type": "markdown",
   "id": "2d61bd2a-d31e-4d35-80b3-b6a241b96429",
   "metadata": {
    "tags": []
   },
   "source": [
    "#### PLOT NETWORK PORTRAIT"
   ]
  },
  {
   "cell_type": "code",
   "execution_count": 36,
   "id": "4229a03c-e49a-4ccb-a1d7-9b68b3b190e6",
   "metadata": {},
   "outputs": [],
   "source": [
    "if len(list(posG.values())[0]) == 2:\n",
    "    path = 'output_plots/2Dlayouts/'\n",
    "    schema = 'light' #'dark' \n",
    "    fname = '2Dportrait_'+netlayout+'_'+organism+'_'+schema\n",
    "\n",
    "    plot_2D(data,path,fname)\n",
    "\n",
    "elif len(list(posG.values())[0]) == 3:\n",
    "    path = 'output_plots/3Dlayouts/'\n",
    "    schema = 'light' #'dark' \n",
    "    fname = '3Dportrait_'+netlayout+'_'+organism+'_'+schema\n",
    "\n",
    "    plot_3D(data,path,fname, schema)"
   ]
  },
  {
   "cell_type": "markdown",
   "id": "bf808df9-2da4-432e-89c4-c8266cc44dcb",
   "metadata": {
    "tags": []
   },
   "source": [
    "### TOPOGRAPHIC MAP "
   ]
  },
  {
   "cell_type": "code",
   "execution_count": 58,
   "id": "1c9d8b45-a301-4b48-825c-a1af8da384c4",
   "metadata": {},
   "outputs": [],
   "source": [
    "# ---------------------------------------------------------------------------\n",
    "#\n",
    "# Choose a z-parameter e.g. essentiality, centravg, disease \n",
    "# or choose any dictionary with nodeID: z-value\n",
    "# by setting d_z = {nodeID: val, ...}\n",
    "#\n",
    "# ---------------------------------------------------------------------------\n",
    "z_feat = 'disease'\n",
    "# ---------------------------------------------------------------------------\n",
    "\n",
    "if z_feat == 'essentiality':\n",
    "\n",
    "    ''' Essentiality state of each node displayed on layers of \"essential\", \"non-essential\", \"non-categorized\" ''' \n",
    "\n",
    "    value_ess = 5\n",
    "    value_noness = 3 \n",
    "    value_notdef = 1\n",
    "\n",
    "    d_ess = {}\n",
    "    for i in essential_genes:\n",
    "        d_ess[i] = value_ess\n",
    "    d_noness = {}\n",
    "    for i in non_ess_genes:\n",
    "        d_noness[i] = value_noness\n",
    "    d_notdef = {}\n",
    "    for i in notdefined_genes:\n",
    "        d_notdef[i] = value_notdef\n",
    "\n",
    "    d_alless_unsort = {**d_ess,**d_noness,**d_notdef}\n",
    "    d_z = {key:d_alless_unsort[key] for key in G.nodes()}\n",
    "    \n",
    "    l_genes = essential_genes\n",
    "    \n",
    "    node_col = '#00abff' \n",
    "    undefined_col = '#d3d3d3'\n",
    "    rest_col_nodes = '#d3d3d3'\n",
    "\n",
    "    d_col_all = color_nodes_from_list(G, essential_genes, node_col)\n",
    "    colors = list(d_col_all.values())\n",
    "    \n",
    "    edge_color = '#ACACAC' \n",
    "    d_edge_col = color_edges_from_nodelist_specific(G, l_genes, node_col)\n",
    "    width_edges = 0.15\n",
    "    opacity_edges = 0.1\n",
    "    \n",
    "    umap_nodes = get_trace_nodes_3D(posG, l_features, colors, size, opacity_nodes)\n",
    "    umap_edges = get_trace_edges_specific3D(d_edge_col, posG, linew=width_edges, opac=opacity_edges)  \n",
    "    data = [umap_edges, umap_nodes]\n",
    "    \n",
    "    \n",
    "elif z_feat == 'centravg':\n",
    "    \n",
    "    ''' Average of Centrality Metrics displayed in z-height ''' \n",
    "    \n",
    "    d_clos = {}\n",
    "    for k,v in d_centralities.items():\n",
    "        d_clos[k] = v[1]\n",
    "\n",
    "    d_nodecolors = d_clos \n",
    "    col_pal = 'YlOrRd'\n",
    "\n",
    "    d_colors = color_nodes_from_dict(G, d_nodecolors, palette = col_pal)\n",
    "    colors = list(d_colors.values())\n",
    "    \n",
    "    edge_color = '#ACACAC' \n",
    "    width_edges = 0.15\n",
    "    opacity_edges = 0.1\n",
    "    \n",
    "    umap_nodes = get_trace_nodes_3D(posG, l_features, colors, size, opacity_nodes)\n",
    "    umap_edges = get_trace_edges_3D(G, posG, edge_color, opac = 0.05, linewidth = 0.5)\n",
    "    data = [umap_edges, umap_nodes]\n",
    "    \n",
    "    \n",
    "elif z_feat == 'disease':\n",
    "    \n",
    "    ''' Disease count associated to a node displayed in z-height ''' \n",
    "\n",
    "    DM_feature  = pd.read_csv('input/Features_Disease_Dataframe_Human.csv', index_col=0)\n",
    "\n",
    "    # set gene list (= G.nodes())\n",
    "    genes_assoc = []\n",
    "    for i in DM_feature.index:\n",
    "        genes_assoc.append(str(i))\n",
    "\n",
    "    genes_notassoc = [] \n",
    "    for g in G.nodes():\n",
    "        if g not in genes_assoc:\n",
    "            genes_notassoc.append(g)\n",
    "\n",
    "    features_counted = (DM_feature == 1).astype(int).sum(axis=1)\n",
    "    d_features_counted = dict(zip(genes_assoc, list(features_counted)))\n",
    "    \n",
    "    d_rest = {}\n",
    "    for i in genes_notassoc: \n",
    "        d_rest[i] = -20\n",
    "\n",
    "    d_param_unsorted = {**d_features_counted, **d_rest}\n",
    "    d_z = {key:d_param_unsorted[key] for key in G.nodes()}\n",
    "    \n",
    "    d_clos = {}\n",
    "    for k,v in d_centralities.items():\n",
    "        d_clos[k] = v[1]\n",
    "\n",
    "    d_nodecolors = d_clos \n",
    "    col_pal = 'YlOrRd'\n",
    "\n",
    "    d_colors = color_nodes_from_dict(G, d_nodecolors, palette = col_pal)\n",
    "    colors = list(d_colors.values())\n",
    "    edge_color = '#ACACAC'\n",
    "    width_edges = 0.15\n",
    "    opacity_edges = 0.1\n",
    "\n",
    "    umap_nodes = get_trace_nodes_3D(posG, l_features, colors, size, opacity_nodes)\n",
    "    umap_edges = get_trace_edges_3D(G, posG, edge_color, opac = 0.05, linewidth = 0.5)\n",
    "    data = [umap_edges, umap_nodes]\n",
    "    \n",
    "else:\n",
    "    pass"
   ]
  },
  {
   "cell_type": "markdown",
   "id": "cd1af33d-98bb-42a0-be47-ad369facbf17",
   "metadata": {},
   "source": [
    "#### PLOT "
   ]
  },
  {
   "cell_type": "code",
   "execution_count": 59,
   "id": "fea90220-b817-402e-b2e2-ced7369cf1c6",
   "metadata": {},
   "outputs": [
    {
     "data": {
      "text/plain": [
       "'output_plots/Topographic/topographic_z_disease_local_human_light.html'"
      ]
     },
     "execution_count": 59,
     "metadata": {},
     "output_type": "execute_result"
    }
   ],
   "source": [
    "# ---------------------------------------------------------------------------\n",
    "#\n",
    "# Choose a 2D layout as basis\n",
    "#\n",
    "# 1. either calculate one e.g.: \n",
    "# posG_2Dportrait = layout_portrait_umap(G,DM,2,n_neighbors=20, spread=1, min_dist=0.0, metric='cosine') \n",
    "# ---------------------------------------------------------------------------\n",
    "#\n",
    "# 2. or use a precalculated 2D layout \n",
    "posG_2D = posG_umap2D\n",
    "# ---------------------------------------------------------------------------\n",
    "\n",
    "posG = layout_topographic(posG_2D, d_z)\n",
    "\n",
    "path = 'output_plots/Topographic/'\n",
    "schema = 'light' #'dark'\n",
    "fname = 'topographic_z_'+z_feat+'_'+netlayout+'_'+organism+'_'+schema\n",
    "\n",
    "plot_3D(data,path,fname, schema)"
   ]
  },
  {
   "cell_type": "markdown",
   "id": "53b891da-915d-430d-a19e-cc2610e83b88",
   "metadata": {},
   "source": [
    "### GEODESIC MAP"
   ]
  },
  {
   "cell_type": "code",
   "execution_count": 60,
   "id": "b88c8e34-acc5-4f47-82c2-b9ba26211435",
   "metadata": {},
   "outputs": [
    {
     "name": "stdout",
     "output_type": "stream",
     "text": [
      "Number of Spherical Shells: 4\n"
     ]
    }
   ],
   "source": [
    "# ---------------------------------------------------------------------------\n",
    "#\n",
    "# Choose a radius-parameter e.g. autocore, essentiality\n",
    "# or choose any dictionary with nodeID: z-value\n",
    "# by setting d_radius = {nodeID: val, ...}\n",
    "#\n",
    "# ---------------------------------------------------------------------------\n",
    "r_feat = 'autocore'\n",
    "# ---------------------------------------------------------------------------\n",
    "\n",
    "\n",
    "if r_feat == 'autocore':\n",
    "\n",
    "    # Load Gene Information for Gene lists \n",
    "    variants = pd.read_csv('input/julias_variants_mod.txt')\n",
    "    variant_list = [str(i) for i in list(variants['variants'])]\n",
    "    variant_sym = pd.read_csv('input/julias_variants_sym.txt')\n",
    "    genes_sym_list = [str(i) for i in list(variant_sym['variant_sym'])]\n",
    "    d_gene_sym_variants = dict(zip(variant_list,genes_sym_list))\n",
    "\n",
    "    df_seeds = pd.read_csv('input/seeds_from_genelists.txt')\n",
    "    df_seeds.columns = ['seeds']\n",
    "    df_seeds_z = pd.read_csv('input/seeds_from_zNumbers.txt', sep='\\n')\n",
    "    seeds_list = [str(i) for i in list(df_seeds['seeds'])]\n",
    "\n",
    "    d_seeds_idsym = {}\n",
    "    for k,v in d_gene_sym.items():\n",
    "        for i in seeds_list:\n",
    "            if v == i:\n",
    "                d_seeds_idsym[k]=i\n",
    "    seed_list = list(d_seeds_idsym.keys())\n",
    "\n",
    "    FM_BP = pd.read_csv('input/Features_GO_BiolProc_Dataframe_human.csv', index_col=0)\n",
    "    bioproc_list = list(FM_BP.index)\n",
    "\n",
    "    # From obtained Gene lists select those to be mapped onto different shells \n",
    "    # select genes for shells \n",
    "    shell_one = variant_list\n",
    "    shell_two = seed_list\n",
    "    shell_three = [str(i) for i in bioproc_list]\n",
    "\n",
    "    small_rad = 1\n",
    "    mid_rad = 5\n",
    "    large_rad = 30\n",
    "    outershell_rad = 50\n",
    "\n",
    "    d_param = {}\n",
    "    for i in G.nodes():\n",
    "        if str(i) in variant_list:\n",
    "            d_param[str(i)] = small_rad\n",
    "        elif i in seed_list:\n",
    "            d_param[str(i)] = mid_rad \n",
    "        elif int(i) in bioproc_list:\n",
    "            d_param[str(i)] = large_rad \n",
    "        else:\n",
    "            d_param[str(i)] = outershell_rad\n",
    "\n",
    "    d_radius = d_param\n",
    "    genes_rad = variant_list + seed_list + bioproc_list\n",
    "\n",
    "    # check how many shells of spheres there will be :\n",
    "    print('Number of Spherical Shells:', len(set(d_param.values())))\n",
    "\n",
    "\n",
    "    # Specifying coloring based on genes on different shells \n",
    "    d_nodecol = d_clos \n",
    "    d_colors = color_nodes_from_dict(G, d_nodecol, palette = col_pal)\n",
    "\n",
    "    d_colors_spec_genes = {}\n",
    "    for k,v in d_colors.items():\n",
    "        if k in shell_one:\n",
    "            d_colors_spec_genes[k]='#8b0000' \n",
    "        elif k in shell_two:\n",
    "            d_colors_spec_genes[k]='#FF4500' \n",
    "        elif k in shell_three:\n",
    "            d_colors_spec_genes[k]=v\n",
    "        else: \n",
    "            d_colors_spec_genes[k]='#d3d3d3'\n",
    "\n",
    "    d_colors_spec_genes_sort = {key:d_colors_spec_genes[key] for key in G.nodes()}\n",
    "    colors = list(d_colors_spec_genes_sort.values())\n",
    "\n",
    "    \n",
    "elif r_feat == 'essentiality':\n",
    "\n",
    "    small_rad = 1\n",
    "    mid_rad = 10\n",
    "    outershell_rad = 20\n",
    "\n",
    "    d_ess_scores = {}\n",
    "    for i in G.nodes():\n",
    "        if i in essential_genes:\n",
    "            d_ess_scores[i] = small_rad\n",
    "        elif i in non_ess_genes:\n",
    "            d_ess_scores[i] = mid_rad\n",
    "        elif str(i) in notdefined_genes:\n",
    "            d_ess_scores[i] = outershell_rad\n",
    "\n",
    "    d_radius = d_ess_scores\n",
    "    genes_rad = list(G.nodes())\n",
    "\n",
    "    # check how many shells of spheres there will be :\n",
    "    print('Number of Spherical Shells:', len(set(d_param.values())))\n",
    "\n",
    "    # Specifying coloring based on genes on different shells \n",
    "    d_colors_spec_genes = {}\n",
    "    for k in G.nodes():\n",
    "        if k in essential_genes:\n",
    "            d_colors_spec_genes[k]='#0080bf' \n",
    "        elif k in non_ess_genes:\n",
    "            d_colors_spec_genes[k]='#95dcff' \n",
    "        else: \n",
    "            d_colors_spec_genes[k]='#d3d3d3'\n",
    "\n",
    "    d_colors_spec_genes_sort = {key:d_colors_spec_genes[key] for key in G.nodes()}\n",
    "    colors = list(d_colors_spec_genes_sort.values())\n",
    "    \n",
    "    \n",
    "else: \n",
    "    pass"
   ]
  },
  {
   "cell_type": "markdown",
   "id": "13578b18-98a9-48e3-9fde-dc0ef9bb7372",
   "metadata": {
    "tags": []
   },
   "source": [
    "#### PLOT "
   ]
  },
  {
   "cell_type": "code",
   "execution_count": 65,
   "id": "06df0180-3420-42ba-b3e4-2c9085a1729e",
   "metadata": {},
   "outputs": [
    {
     "name": "stdout",
     "output_type": "stream",
     "text": [
      "DM precalc used\n"
     ]
    },
    {
     "data": {
      "text/plain": [
       "'output_plots/Geodesic/geodesic_r_r-autocore_local_human_light.html'"
      ]
     },
     "execution_count": 65,
     "metadata": {},
     "output_type": "execute_result"
    }
   ],
   "source": [
    "# ---------------------------------------------------------------------------\n",
    "#\n",
    "# SELECT a r - Parameter:\n",
    "#\n",
    "# d_radius > a dictionary with keys=G.nodes and values=any radius assigned to each node\n",
    "# ---------------------------------------------------------------------------\n",
    "\n",
    "posG_sphere = layout_geodesic(G, d_radius, n_neighbors=20, spread=1, min_dist=0.0)#, DM=DM)\n",
    "posG = posG_sphere\n",
    "\n",
    "umap_nodes = get_trace_nodes_3D(posG, l_features, colors, size3d, opacity_nodes)\n",
    "umap_edges = get_trace_edges_3D(G, posG, edge_color, opac = 0.05, linewidth = 0.5)\n",
    "data = [umap_nodes]#,umap_edges]\n",
    "\n",
    "path = 'output_plots/Geodesic/'\n",
    "schema = 'light' #'dark'\n",
    "fname = 'geodesic_r_'+r_feat+'_'+netlayout+'_'+organism+'_'+schema\n",
    "\n",
    "plot_3D(data,path,fname, 'dark')"
   ]
  }
 ],
 "metadata": {
  "kernelspec": {
   "display_name": "myenv",
   "language": "python",
   "name": "myenv"
  },
  "language_info": {
   "codemirror_mode": {
    "name": "ipython",
    "version": 3
   },
   "file_extension": ".py",
   "mimetype": "text/x-python",
   "name": "python",
   "nbconvert_exporter": "python",
   "pygments_lexer": "ipython3",
   "version": "3.8.2"
  }
 },
 "nbformat": 4,
 "nbformat_minor": 5
}
