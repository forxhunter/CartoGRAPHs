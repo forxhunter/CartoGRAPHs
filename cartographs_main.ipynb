{
 "cells": [
  {
   "cell_type": "markdown",
   "id": "positive-supervision",
   "metadata": {},
   "source": [
    "-----\n",
    "# cartoGRAPHs \n",
    "\n",
    "A Notebook to produce 2D and 3D network layouts from any Graph,\n",
    "including interactive visualization (html files) and export functions \n",
    "to import into the VRNetzer analytics platform by Pirch et al.\n",
    "\n",
    "#### This notebook is divided into sections, which should be run sequentially.\n",
    "+ Section 1 - where the network shall be defined (a networkx graph)\n",
    "+ Section 2 - specify a layout algorithm and choose the dimensionality reduction\n",
    "+ Section 3 - the visual parameters > setting node colors (dict: key=node ID from G.nodes() and value=any color value)\n",
    "+ Section 4 - the layout visualization step \n",
    "\n",
    "-----\n",
    "\n",
    "Please note: \n",
    "Layouts of Graphs with more than 5000 nodes can take a few minutes to run. \n",
    "\n",
    "-----"
   ]
  },
  {
   "cell_type": "code",
   "execution_count": 32,
   "id": "b8138ad1-376f-47a4-b422-cd55943b30d4",
   "metadata": {},
   "outputs": [],
   "source": [
    "from cartoGRAPHs import *\n",
    "\n",
    "from func_load_data import *\n",
    "from func_visual_properties import * \n",
    "from func_calculations import * \n",
    "from func_embed_plot import * \n",
    "from func_exportVR import * "
   ]
  },
  {
   "cell_type": "markdown",
   "id": "living-russell",
   "metadata": {},
   "source": [
    "_____\n",
    "# 1 | DEFINE NETWORK\n",
    "_____"
   ]
  },
  {
   "cell_type": "code",
   "execution_count": 2,
   "id": "blocked-journalism",
   "metadata": {},
   "outputs": [],
   "source": [
    "# ---------------------------------------------------------------------------\n",
    "# this Graph is an exemplary graph and can be replaced by any networkx Graph\n",
    "# ---------------------------------------------------------------------------\n",
    "G = nx.scale_free_graph(n=1000)\n",
    "\n",
    "# ---------------------------------------------------------------------------\n",
    "# this will be hover-info of nodes in an interactive layouts \n",
    "# and can be replaced by any list with length of G.nodes\n",
    "# ---------------------------------------------------------------------------\n",
    "l_features = ['nodeID:'+str(i) for i in list(G.nodes())]\n",
    "d_features = dict(zip(G.nodes(),l_features))"
   ]
  },
  {
   "cell_type": "markdown",
   "id": "b1f07e30-41b7-4ad2-875a-c22a4f320720",
   "metadata": {},
   "source": [
    "_____\n",
    "# 2 | LAYOUT METHOD CHOICE\n",
    "_____\n",
    "+ most important parameter to choose : layoutmethod e.g. 'local', 'global', 'importance', 'functional'"
   ]
  },
  {
   "cell_type": "markdown",
   "id": "d59ad55f-a1bd-4c8f-a487-59aed7a5fdb9",
   "metadata": {
    "tags": []
   },
   "source": [
    "### Example of Structural Layout"
   ]
  },
  {
   "cell_type": "code",
   "execution_count": 11,
   "id": "95d43a87-64d7-4136-b370-c9733c99ed98",
   "metadata": {},
   "outputs": [],
   "source": [
    "layout_method = 'global'"
   ]
  },
  {
   "cell_type": "code",
   "execution_count": 12,
   "id": "f7dac009-f8cc-4705-8608-22eee785e233",
   "metadata": {},
   "outputs": [],
   "source": [
    "posG2D = generate_layout(G, \n",
    "                        dim = 2, \n",
    "                        layoutmethod = layout_method,\n",
    "                        dimred_method='umap'\n",
    "                        )"
   ]
  },
  {
   "cell_type": "code",
   "execution_count": 13,
   "id": "b810d60a-d9d7-4ea0-9994-845a6b7c8853",
   "metadata": {},
   "outputs": [],
   "source": [
    "posG3D = generate_layout(G, \n",
    "                        dim = 3, \n",
    "                        layoutmethod = layout_method,\n",
    "                        dimred_method='umap'\n",
    "                        )"
   ]
  },
  {
   "cell_type": "markdown",
   "id": "moved-formation",
   "metadata": {
    "tags": []
   },
   "source": [
    "### Example of Functional Layout\n",
    "This is an example of an artifically produced functional matrix.\n",
    "The structure of the matrix shall be :\n",
    "+ rows = number of nodes in the Graph\n",
    "+ columns = number of features "
   ]
  },
  {
   "cell_type": "code",
   "execution_count": 14,
   "id": "0a4e61b6-4299-4e42-a9e4-b03814de7f1b",
   "metadata": {},
   "outputs": [],
   "source": [
    "layout_method = 'functional'"
   ]
  },
  {
   "cell_type": "code",
   "execution_count": 25,
   "id": "confidential-berkeley",
   "metadata": {},
   "outputs": [
    {
     "data": {
      "text/html": [
       "<div>\n",
       "<style scoped>\n",
       "    .dataframe tbody tr th:only-of-type {\n",
       "        vertical-align: middle;\n",
       "    }\n",
       "\n",
       "    .dataframe tbody tr th {\n",
       "        vertical-align: top;\n",
       "    }\n",
       "\n",
       "    .dataframe thead th {\n",
       "        text-align: right;\n",
       "    }\n",
       "</style>\n",
       "<table border=\"1\" class=\"dataframe\">\n",
       "  <thead>\n",
       "    <tr style=\"text-align: right;\">\n",
       "      <th></th>\n",
       "      <th>100</th>\n",
       "      <th>101</th>\n",
       "      <th>102</th>\n",
       "    </tr>\n",
       "  </thead>\n",
       "  <tbody>\n",
       "    <tr>\n",
       "      <th>0</th>\n",
       "      <td>1</td>\n",
       "      <td>0</td>\n",
       "      <td>0</td>\n",
       "    </tr>\n",
       "    <tr>\n",
       "      <th>1</th>\n",
       "      <td>0</td>\n",
       "      <td>0</td>\n",
       "      <td>0</td>\n",
       "    </tr>\n",
       "    <tr>\n",
       "      <th>2</th>\n",
       "      <td>0</td>\n",
       "      <td>1</td>\n",
       "      <td>0</td>\n",
       "    </tr>\n",
       "    <tr>\n",
       "      <th>3</th>\n",
       "      <td>1</td>\n",
       "      <td>0</td>\n",
       "      <td>0</td>\n",
       "    </tr>\n",
       "    <tr>\n",
       "      <th>4</th>\n",
       "      <td>0</td>\n",
       "      <td>1</td>\n",
       "      <td>0</td>\n",
       "    </tr>\n",
       "    <tr>\n",
       "      <th>...</th>\n",
       "      <td>...</td>\n",
       "      <td>...</td>\n",
       "      <td>...</td>\n",
       "    </tr>\n",
       "    <tr>\n",
       "      <th>995</th>\n",
       "      <td>0</td>\n",
       "      <td>0</td>\n",
       "      <td>1</td>\n",
       "    </tr>\n",
       "    <tr>\n",
       "      <th>996</th>\n",
       "      <td>1</td>\n",
       "      <td>0</td>\n",
       "      <td>0</td>\n",
       "    </tr>\n",
       "    <tr>\n",
       "      <th>997</th>\n",
       "      <td>0</td>\n",
       "      <td>0</td>\n",
       "      <td>1</td>\n",
       "    </tr>\n",
       "    <tr>\n",
       "      <th>998</th>\n",
       "      <td>0</td>\n",
       "      <td>1</td>\n",
       "      <td>0</td>\n",
       "    </tr>\n",
       "    <tr>\n",
       "      <th>999</th>\n",
       "      <td>1</td>\n",
       "      <td>0</td>\n",
       "      <td>0</td>\n",
       "    </tr>\n",
       "  </tbody>\n",
       "</table>\n",
       "<p>1000 rows × 3 columns</p>\n",
       "</div>"
      ],
      "text/plain": [
       "     100  101  102\n",
       "0      1    0    0\n",
       "1      0    0    0\n",
       "2      0    1    0\n",
       "3      1    0    0\n",
       "4      0    1    0\n",
       "..   ...  ...  ...\n",
       "995    0    0    1\n",
       "996    1    0    0\n",
       "997    0    0    1\n",
       "998    0    1    0\n",
       "999    1    0    0\n",
       "\n",
       "[1000 rows x 3 columns]"
      ]
     },
     "execution_count": 25,
     "metadata": {},
     "output_type": "execute_result"
    }
   ],
   "source": [
    "scale = 1\n",
    "val = 0\n",
    "rows = len(list(G.nodes()))\n",
    "\n",
    "feat_one = [(val) if i%3 else (scale) for i in range(rows)]\n",
    "feat_two = [(val) if i%2 or feat_one[i]==scale in feat_one else (scale) for i in range(rows)]\n",
    "feat_three = [(scale) if feat_one[i]==val and feat_two[i]==val and i not in feat_one and i not in feat_two else val for i in range(rows)]\n",
    "\n",
    "feat_matrix = np.vstack((feat_one,feat_two,feat_three))\n",
    "FM = pd.DataFrame(feat_matrix)\n",
    "FM.index = ['100','101','102']\n",
    "FM=FM.T\n",
    "FM.index = list(G.nodes())\n",
    "FM"
   ]
  },
  {
   "cell_type": "code",
   "execution_count": 26,
   "id": "6f82979b-8d4f-4087-a4d6-d43eb4fb5812",
   "metadata": {},
   "outputs": [
    {
     "name": "stderr",
     "output_type": "stream",
     "text": [
      "/Users/chris/opt/anaconda3/lib/python3.8/site-packages/umap/umap_.py:125: UserWarning:\n",
      "\n",
      "A few of your vertices were disconnected from the manifold.  This shouldn't cause problems.\n",
      "Disconnection_distance = 1 has removed 667330 edges.\n",
      "It has only fully disconnected 1 vertices.\n",
      "Use umap.utils.disconnected_vertices() to identify them.\n",
      "\n"
     ]
    }
   ],
   "source": [
    "posG2D = generate_layout(G, \n",
    "                        dim = 2, \n",
    "                        layoutmethod = layout_method,\n",
    "                        dimred_method='umap',\n",
    "                        Matrix = FM\n",
    "                        )"
   ]
  },
  {
   "cell_type": "code",
   "execution_count": 27,
   "id": "768110ed-519d-465e-a9c4-639bd9e2a575",
   "metadata": {},
   "outputs": [
    {
     "name": "stderr",
     "output_type": "stream",
     "text": [
      "/Users/chris/opt/anaconda3/lib/python3.8/site-packages/umap/umap_.py:125: UserWarning:\n",
      "\n",
      "A few of your vertices were disconnected from the manifold.  This shouldn't cause problems.\n",
      "Disconnection_distance = 1 has removed 667330 edges.\n",
      "It has only fully disconnected 1 vertices.\n",
      "Use umap.utils.disconnected_vertices() to identify them.\n",
      "\n"
     ]
    }
   ],
   "source": [
    "posG3D = generate_layout(G, \n",
    "                        dim = 3, \n",
    "                        layoutmethod = layout_method,\n",
    "                        dimred_method='umap',\n",
    "                        Matrix = FM\n",
    "                        )"
   ]
  },
  {
   "cell_type": "markdown",
   "id": "split-center",
   "metadata": {
    "tags": []
   },
   "source": [
    "____________\n",
    "# 3 | SET VISUAL NODE / EDGE SETTINGS\n",
    "____________"
   ]
  },
  {
   "cell_type": "markdown",
   "id": "demonstrated-optics",
   "metadata": {
    "tags": []
   },
   "source": [
    "#### SET NODES SIZES"
   ]
  },
  {
   "cell_type": "code",
   "execution_count": 28,
   "id": "liked-newfoundland",
   "metadata": {},
   "outputs": [],
   "source": [
    "scale_factor = 1.5\n",
    "size = list(draw_node_degree(G, scale_factor).values())\n",
    "d_size = dict(draw_node_degree(G, scale_factor))"
   ]
  },
  {
   "cell_type": "markdown",
   "id": "464052df-8df4-49d1-9aea-9d2698349195",
   "metadata": {},
   "source": [
    "#### SET NODE COLORS \n",
    "OPTION 1 : A DICTIONARY WITH node ID as keys and different values based on groups. \n",
    "Here an example with a color gradient is shown."
   ]
  },
  {
   "cell_type": "code",
   "execution_count": 29,
   "id": "90199e9c-38eb-4a3a-b874-9f79ca4abfc0",
   "metadata": {},
   "outputs": [],
   "source": [
    "# a dictionary example : dict = {key = nodeID , value = any number}\n",
    "\n",
    "closeness = nx.closeness_centrality(G)\n",
    "d_node_colors = {}\n",
    "for node, cl in sorted(closeness.items(), key = lambda x: x[1], reverse = 1):\n",
    "    d_node_colors[node] = round(cl,4)\n",
    "\n",
    "col_pal = 'viridis_r'\n",
    "d_colors = color_nodes_from_dict(G, d_node_colors, palette = col_pal)\n",
    "colors = list(d_colors.values())\n",
    "d_legend = None"
   ]
  },
  {
   "cell_type": "markdown",
   "id": "35495db1-a116-461a-b129-2ac635afd414",
   "metadata": {},
   "source": [
    "OPTION 2 : specific list of nodes to have a specific color; all others will be gray"
   ]
  },
  {
   "cell_type": "code",
   "execution_count": 30,
   "id": "bbd40802-fc60-41bb-ad85-e69c935b6087",
   "metadata": {},
   "outputs": [],
   "source": [
    "# the list_of_nodes shall be chosen\n",
    "sublist_of_nodes = list(G.nodes())[::10]\n",
    "sublist_color = '#ff0000'\n",
    "\n",
    "d_colors = color_nodes_from_list(G, l_nodes = sublist_of_nodes, col = sublist_color)\n",
    "colors = list(d_colors.values())\n",
    "\n",
    "first_groupname = 'example1'\n",
    "second_groupname = 'example2'\n",
    "d_legend = dict(zip(set(d_colors.values()),[first_groupname,second_groupname]))"
   ]
  },
  {
   "cell_type": "markdown",
   "id": "scientific-template",
   "metadata": {
    "tags": []
   },
   "source": [
    "_____ \n",
    "# 4 | VISUALIZING\n",
    "_____\n",
    "Layout Maps to choose from: \n",
    "+ Portrait 2D \n",
    "+ Portrait 3D \n",
    "+ Topographic Map\n",
    "+ Geodesic Map "
   ]
  },
  {
   "cell_type": "markdown",
   "id": "marine-clause",
   "metadata": {
    "tags": []
   },
   "source": [
    "### 2D PORTRAIT"
   ]
  },
  {
   "cell_type": "code",
   "execution_count": 31,
   "id": "48fb0ab8-e75e-4bf9-ac1d-271e79f30cd0",
   "metadata": {},
   "outputs": [
    {
     "data": {
      "text/plain": [
       "'output_plots/2Dlayouts/2Dportrait_functional.html'"
      ]
     },
     "execution_count": 31,
     "metadata": {},
     "output_type": "execute_result"
    }
   ],
   "source": [
    "plot_2Dfigure(G, posG2D, \n",
    "              d_features, \n",
    "              d_colors, \n",
    "              d_size, \n",
    "              d_legend, \n",
    "              path = 'output_plots/2Dlayouts/', \n",
    "              fname = '2Dportrait'+'_'+layout_method, \n",
    "              scheme = 'light')"
   ]
  },
  {
   "cell_type": "markdown",
   "id": "radical-lafayette",
   "metadata": {
    "tags": []
   },
   "source": [
    "#### EXPORT FOR VRNetzer "
   ]
  },
  {
   "cell_type": "code",
   "execution_count": null,
   "id": "3afa553d-f59c-48b4-8b85-ca6b88c0fa01",
   "metadata": {},
   "outputs": [],
   "source": [
    "export_to_csv2D(VRpath = 'output_plots/VRlayouts/', \n",
    "                layout_namespace = '2Dportrait'+'_'+layout_method, \n",
    "                posG2D, \n",
    "                colors)"
   ]
  },
  {
   "cell_type": "markdown",
   "id": "opening-courtesy",
   "metadata": {
    "tags": []
   },
   "source": [
    "### 3D PORTRAIT "
   ]
  },
  {
   "cell_type": "code",
   "execution_count": 22,
   "id": "81114f28-9d9d-4157-9ead-6d252d42f956",
   "metadata": {},
   "outputs": [
    {
     "data": {
      "text/plain": [
       "'output_plots/3Dlayouts/3Dportrait_functional.html'"
      ]
     },
     "execution_count": 22,
     "metadata": {},
     "output_type": "execute_result"
    }
   ],
   "source": [
    "plot_3Dfigure(G, posG3D, \n",
    "              d_features, \n",
    "              d_colors, \n",
    "              d_size, \n",
    "              d_legend, \n",
    "              path = 'output_plots/3Dlayouts/', \n",
    "              fname = '3Dportrait'+'_'+layout_method, \n",
    "              scheme = 'light')"
   ]
  },
  {
   "cell_type": "markdown",
   "id": "angry-billy",
   "metadata": {},
   "source": [
    "#### EXPORT FOR VRNetzer "
   ]
  },
  {
   "cell_type": "code",
   "execution_count": 21,
   "id": "thirty-mozambique",
   "metadata": {},
   "outputs": [],
   "source": [
    "export_to_csv3D(VRpath = 'output_plots/VRlayouts/', \n",
    "                layout_namespace = '3Dportrait'+layout_method, \n",
    "                posG3D, \n",
    "                colors)"
   ]
  },
  {
   "cell_type": "markdown",
   "id": "indie-vienna",
   "metadata": {
    "tags": []
   },
   "source": [
    "### TOPOGRAPHIC MAP"
   ]
  },
  {
   "cell_type": "code",
   "execution_count": 23,
   "id": "respective-plumbing",
   "metadata": {
    "tags": []
   },
   "outputs": [
    {
     "data": {
      "text/plain": [
       "'output_plots/3Dlayouts/Topographicfunctional.html'"
      ]
     },
     "execution_count": 23,
     "metadata": {},
     "output_type": "execute_result"
    }
   ],
   "source": [
    "# ---------------------------------------------------------------------------\n",
    "# SELECT a z-Parameter: \n",
    "#\n",
    "# d_z > dictionary with keys=G.nodes and values=any int/float assigned to a node\n",
    "# \n",
    "# ---------------------------------------------------------------------------\n",
    "# an example: \n",
    "z_list = [np.random.random() for i in range(0, len(list(G.nodes())))]\n",
    "d_z = dict(zip(list(G.nodes()),z_list))\n",
    "posG_topographic = layout_topographic(posG2D, d_z)\n",
    "# ---------------------------------------------------------------------------\n",
    "\n",
    "plot_3Dfigure(G, \n",
    "              posG_topographic, \n",
    "              d_features, \n",
    "              d_colors, \n",
    "              d_size, \n",
    "              d_legend, \n",
    "              path = 'output_plots/3Dlayouts/', \n",
    "              fname = 'Topographic'+layout_method, \n",
    "              scheme = 'light')"
   ]
  },
  {
   "cell_type": "markdown",
   "id": "stock-arrest",
   "metadata": {},
   "source": [
    "#### EXPORT FOR VRNetzer "
   ]
  },
  {
   "cell_type": "code",
   "execution_count": 20,
   "id": "tough-dimension",
   "metadata": {},
   "outputs": [],
   "source": [
    "export_to_csv3D(VRpath = 'output_plots/VRlayouts/',\n",
    "                layout_namespace = 'Topographic'+layout_method, \n",
    "                posG_topographic, \n",
    "                colors)"
   ]
  },
  {
   "cell_type": "markdown",
   "id": "advanced-subcommittee",
   "metadata": {},
   "source": [
    "### GEODESIC MAP"
   ]
  },
  {
   "cell_type": "code",
   "execution_count": 24,
   "id": "noted-thompson",
   "metadata": {},
   "outputs": [
    {
     "data": {
      "text/plain": [
       "'output_plots/3Dlayouts/Geodesicfunctional.html'"
      ]
     },
     "execution_count": 24,
     "metadata": {},
     "output_type": "execute_result"
    }
   ],
   "source": [
    "# ---------------------------------------------------------------------------\n",
    "#\n",
    "# SELECT a r-Parameter:\n",
    "#\n",
    "# d_rad > a dictionary with keys=G.nodes and values=any radius assigned to each node\n",
    "# ---------------------------------------------------------------------------\n",
    "# example: \n",
    "rad_list = [np.random.randint(1,4) for i in range(0, len(list(G.nodes())))]\n",
    "d_rad = dict(zip(list(G.nodes()), rad_list))\n",
    "posG_geodesic = layout_geodesic(G, d_rad)\n",
    "\n",
    "plot_3Dfigure(G, \n",
    "              posG_geodesic, \n",
    "              d_features, \n",
    "              d_colors, \n",
    "              d_size, \n",
    "              d_legend, \n",
    "              path = 'output_plots/3Dlayouts/', \n",
    "              fname = 'Geodesic'+layout_method, \n",
    "              scheme = 'light')"
   ]
  },
  {
   "cell_type": "markdown",
   "id": "decent-tracy",
   "metadata": {},
   "source": [
    "#### EXPORT FOR VRNetzer "
   ]
  },
  {
   "cell_type": "code",
   "execution_count": 12,
   "id": "diverse-lindsay",
   "metadata": {},
   "outputs": [],
   "source": [
    "export_to_csv3D(VRPath = 'output_plots/VRlayouts/', \n",
    "                layout_namespace = 'Geodesic'+layout_method, \n",
    "                posG_geodesic, \n",
    "                colors)"
   ]
  }
 ],
 "metadata": {
  "kernelspec": {
   "display_name": "myenv",
   "language": "python",
   "name": "myenv"
  },
  "language_info": {
   "codemirror_mode": {
    "name": "ipython",
    "version": 3
   },
   "file_extension": ".py",
   "mimetype": "text/x-python",
   "name": "python",
   "nbconvert_exporter": "python",
   "pygments_lexer": "ipython3",
   "version": "3.8.2"
  }
 },
 "nbformat": 4,
 "nbformat_minor": 5
}
