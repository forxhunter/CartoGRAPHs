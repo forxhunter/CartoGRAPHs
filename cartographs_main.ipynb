{
 "cells": [
  {
   "cell_type": "markdown",
   "id": "static-title",
   "metadata": {},
   "source": [
    "-----\n",
    "# cartoGRAPHs \n",
    "\n",
    "A Notebook to produce 2D and 3D network layouts from any Graph,\n",
    "including interactive visualization (html files) and export functions \n",
    "to import into the VRNetzer analytics platform by Pirch et al.\n",
    "\n",
    "Please note: \n",
    "Large graphs (e.g. 20k nodes / 300k links) can take ~15min using TSNE-based layouts and ~5min using UMAP-based layouts\n",
    "\n",
    "-----"
   ]
  },
  {
   "cell_type": "code",
   "execution_count": 1,
   "id": "color-hollow",
   "metadata": {},
   "outputs": [],
   "source": [
    "from cartoGRAPHs import * \n",
    "\n",
    "from func_load_data import *\n",
    "from func_visual_properties import * \n",
    "from func_calculations import * \n",
    "from func_embed_plot import * \n",
    "from func_exportVR import * "
   ]
  },
  {
   "cell_type": "markdown",
   "id": "innocent-brief",
   "metadata": {},
   "source": [
    "_____\n",
    "# 1 | DEFINE NETWORK\n",
    "_____"
   ]
  },
  {
   "cell_type": "code",
   "execution_count": 2,
   "id": "imported-albania",
   "metadata": {},
   "outputs": [],
   "source": [
    "# ---------------------------------------------------------------------------\n",
    "# \n",
    "# this Graph is an exemplary graph and can be replaced by any networkx Graph\n",
    "#\n",
    "# ---------------------------------------------------------------------------\n",
    "\n",
    "n = 1093\n",
    "r = 3\n",
    "G = nx.full_rary_tree(r,n)\n",
    "\n",
    "# ---------------------------------------------------------------------------\n",
    "#\n",
    "# this will be hover-info of interactive layouts and can be replaced by any list with length G.nodes\n",
    "#\n",
    "# ---------------------------------------------------------------------------\n",
    "\n",
    "l_features = ['nodeID:'+str(i) for i in list(G.nodes())]"
   ]
  },
  {
   "cell_type": "markdown",
   "id": "hungarian-massage",
   "metadata": {
    "tags": []
   },
   "source": [
    "_____ \n",
    "# 2 | SPATIAL EMBEDDING\n",
    "_____\n",
    "\n",
    "Layouts to choose from: \n",
    "+ local\n",
    "+ global / node2vec\n",
    "+ importance / struc2vec\n",
    "+ functional\n"
   ]
  },
  {
   "cell_type": "markdown",
   "id": "level-vertex",
   "metadata": {
    "jp-MarkdownHeadingCollapsed": true,
    "tags": []
   },
   "source": [
    "#### LOCAL "
   ]
  },
  {
   "cell_type": "markdown",
   "id": "italian-latvia",
   "metadata": {},
   "source": [
    "2D"
   ]
  },
  {
   "cell_type": "code",
   "execution_count": 3,
   "id": "disciplinary-concentration",
   "metadata": {
    "tags": []
   },
   "outputs": [],
   "source": [
    "posG_local_tsne2D = layout_local_tsne(G,2,prplxty=10, density=1, l_rate=200, steps=250, metric='cosine') \n",
    "posG_local_umap2D = layout_local_umap(G,2,n_neighbors=20, spread=1, min_dist=0.0, metric='cosine') "
   ]
  },
  {
   "cell_type": "markdown",
   "id": "sunset-semester",
   "metadata": {},
   "source": [
    "3D"
   ]
  },
  {
   "cell_type": "code",
   "execution_count": 5,
   "id": "under-liability",
   "metadata": {},
   "outputs": [],
   "source": [
    "posG_local_tsne3D = layout_local_tsne(G,3,prplxty=10, density=1, l_rate=200, steps=250, metric='cosine') \n",
    "posG_local_umap3D = layout_local_umap(G,3,n_neighbors=20, spread=1, min_dist=0.0, metric='cosine') "
   ]
  },
  {
   "cell_type": "markdown",
   "id": "negative-discipline",
   "metadata": {
    "jp-MarkdownHeadingCollapsed": true,
    "tags": []
   },
   "source": [
    "#### GLOBAL "
   ]
  },
  {
   "cell_type": "markdown",
   "id": "infrared-shape",
   "metadata": {},
   "source": [
    "2D"
   ]
  },
  {
   "cell_type": "code",
   "execution_count": 6,
   "id": "sensitive-segment",
   "metadata": {},
   "outputs": [],
   "source": [
    "posG_global_tsne2D = layout_global_tsne(G,2,prplxty=10, density=1, l_rate=200, steps=250, metric='cosine') \n",
    "posG_global_umap2D = layout_global_umap(G,2,n_neighbors=20, spread=1, min_dist=0.0, metric='cosine') "
   ]
  },
  {
   "cell_type": "markdown",
   "id": "stylish-bathroom",
   "metadata": {},
   "source": [
    "3D"
   ]
  },
  {
   "cell_type": "code",
   "execution_count": 7,
   "id": "radio-logan",
   "metadata": {},
   "outputs": [],
   "source": [
    "posG_global_tsne3D = layout_global_tsne(G,3,prplxty=10, density=1, l_rate=200, steps=250, metric='cosine') \n",
    "posG_global_umap3D = layout_global_umap(G,3,n_neighbors=20, spread=1, min_dist=0.0, metric='cosine') "
   ]
  },
  {
   "cell_type": "markdown",
   "id": "improving-tribune",
   "metadata": {
    "jp-MarkdownHeadingCollapsed": true,
    "tags": []
   },
   "source": [
    "#### NODE2VEC "
   ]
  },
  {
   "cell_type": "markdown",
   "id": "changing-lobby",
   "metadata": {},
   "source": [
    "2D"
   ]
  },
  {
   "cell_type": "code",
   "execution_count": 8,
   "id": "fallen-browser",
   "metadata": {},
   "outputs": [],
   "source": [
    "posG_nodevec_tsne2D = layout_nodevec_tsne(G,2,prplxty=10, density=1, l_rate=200, steps=250, metric='cosine') \n",
    "posG_nodevec_umap2D = layout_nodevec_umap(G,2,n_neighbors=20, spread=1, min_dist=0.0, metric='cosine') "
   ]
  },
  {
   "cell_type": "markdown",
   "id": "competent-enterprise",
   "metadata": {},
   "source": [
    "3D"
   ]
  },
  {
   "cell_type": "code",
   "execution_count": 9,
   "id": "central-mixer",
   "metadata": {},
   "outputs": [],
   "source": [
    "posG_nodevec_tsne3D = layout_nodevec_tsne(G,3,prplxty=10, density=1, l_rate=200, steps=250, metric='cosine') \n",
    "posG_nodevec_umap3D = layout_nodevec_umap(G,3,n_neighbors=20, spread=1, min_dist=0.0, metric='cosine') "
   ]
  },
  {
   "cell_type": "markdown",
   "id": "particular-preparation",
   "metadata": {
    "jp-MarkdownHeadingCollapsed": true,
    "tags": []
   },
   "source": [
    "#### IMPORTANCE "
   ]
  },
  {
   "cell_type": "markdown",
   "id": "medium-whale",
   "metadata": {},
   "source": [
    "2D"
   ]
  },
  {
   "cell_type": "code",
   "execution_count": 10,
   "id": "composed-liberia",
   "metadata": {},
   "outputs": [],
   "source": [
    "posG_importance_tsne2D = layout_importance_tsne(G,2,prplxty=10, density=1, l_rate=200, steps=250, metric='cosine') \n",
    "posG_importance_umap2D = layout_importance_umap(G,2,n_neighbors=20, spread=1, min_dist=0.0, metric='cosine') "
   ]
  },
  {
   "cell_type": "markdown",
   "id": "single-copper",
   "metadata": {},
   "source": [
    "3D"
   ]
  },
  {
   "cell_type": "code",
   "execution_count": 11,
   "id": "chinese-organic",
   "metadata": {},
   "outputs": [],
   "source": [
    "posG_importance_tsne3D = layout_importance_tsne(G,3,prplxty=10, density=1, l_rate=200, steps=250, metric='cosine') \n",
    "posG_importance_umap3D = layout_importance_umap(G,3,n_neighbors=20, spread=1, min_dist=0.0, metric='cosine') "
   ]
  },
  {
   "cell_type": "markdown",
   "id": "functioning-favorite",
   "metadata": {
    "jp-MarkdownHeadingCollapsed": true,
    "tags": []
   },
   "source": [
    "#### STRUC2VEC"
   ]
  },
  {
   "cell_type": "markdown",
   "id": "hindu-train",
   "metadata": {},
   "source": [
    "2D"
   ]
  },
  {
   "cell_type": "code",
   "execution_count": 3,
   "id": "pleased-aspect",
   "metadata": {},
   "outputs": [],
   "source": [
    "posG_strucvec_tsne2D = layout_strucvec_tsne(G,2,prplxty=10, density=1, l_rate=200, steps=250, metric='cosine') \n",
    "posG_strucvec_umap2D = layout_strucvec_umap(G,2,n_neighbors=20, spread=1, min_dist=0.0, metric='cosine') "
   ]
  },
  {
   "cell_type": "markdown",
   "id": "musical-lotus",
   "metadata": {},
   "source": [
    "3D"
   ]
  },
  {
   "cell_type": "code",
   "execution_count": 4,
   "id": "hispanic-arabic",
   "metadata": {},
   "outputs": [],
   "source": [
    "posG_strucvec_tsne3D = layout_strucvec_tsne(G,3,prplxty=10, density=1, l_rate=200, steps=250, metric='cosine') \n",
    "posG_strucvec_umap3D = layout_strucvec_umap(G,3,n_neighbors=20, spread=1, min_dist=0.0, metric='cosine') "
   ]
  },
  {
   "cell_type": "markdown",
   "id": "invalid-school",
   "metadata": {
    "tags": []
   },
   "source": [
    "#### FUNCTIONAL"
   ]
  },
  {
   "cell_type": "code",
   "execution_count": 3,
   "id": "worldwide-invasion",
   "metadata": {},
   "outputs": [],
   "source": [
    "# N x M  feature matrix \n",
    "# functional node annotations (no structural features)\n",
    "\n",
    "rows = len(list(G.nodes()))\n",
    "cols = 100 # number of features \n",
    " \n",
    "arr = np.random.randint(2, size=(rows, cols))\n",
    "FM = pd.DataFrame(arr, index = list(G.nodes()))"
   ]
  },
  {
   "cell_type": "markdown",
   "id": "stuffed-source",
   "metadata": {},
   "source": [
    "2D"
   ]
  },
  {
   "cell_type": "code",
   "execution_count": 4,
   "id": "ongoing-killer",
   "metadata": {},
   "outputs": [],
   "source": [
    "posG_functional_tsne2D = layout_functional_tsne(G, FM,2,prplxty=10, density=1, l_rate=200, steps=250, metric='cosine') \n",
    "posG_functional_umap2D = layout_functional_umap(G, FM,2,n_neighbors=20, spread=1, min_dist=0.0, metric='cosine') "
   ]
  },
  {
   "cell_type": "markdown",
   "id": "substantial-impression",
   "metadata": {},
   "source": [
    "3D"
   ]
  },
  {
   "cell_type": "code",
   "execution_count": 5,
   "id": "conscious-lemon",
   "metadata": {},
   "outputs": [],
   "source": [
    "posG_functional_tsne3D = layout_functional_tsne(G, FM,3,prplxty=10, density=1, l_rate=200, steps=250, metric='cosine') \n",
    "posG_functional_umap3D = layout_functional_umap(G, FM,3,n_neighbors=20, spread=1, min_dist=0.0, metric='cosine') "
   ]
  },
  {
   "cell_type": "markdown",
   "id": "favorite-egyptian",
   "metadata": {
    "tags": []
   },
   "source": [
    "____________\n",
    "# 3 | SET VISUAL PRE-SETTINGS\n",
    "____________\n",
    "+ colors in hex: https://htmlcolorcodes.com/"
   ]
  },
  {
   "cell_type": "markdown",
   "id": "damaged-drink",
   "metadata": {},
   "source": [
    "#### NODES - GENERAL"
   ]
  },
  {
   "cell_type": "code",
   "execution_count": 6,
   "id": "afraid-property",
   "metadata": {},
   "outputs": [],
   "source": [
    "opacity_nodes = 0.8\n",
    "node_edge_col = '#696969' \n",
    "\n",
    "scale_factor = 0.75\n",
    "size = list(draw_node_degree(G, scale_factor).values())\n",
    "\n",
    "scale_factor3D = 1.5\n",
    "size3d = list(draw_node_degree_3D(G, scale_factor3D).values())\n",
    "\n",
    "nodesglow_diameter = 8.0\n",
    "nodesglow_transparency = 0.01 # 0.01"
   ]
  },
  {
   "cell_type": "code",
   "execution_count": 7,
   "id": "ideal-category",
   "metadata": {},
   "outputs": [],
   "source": [
    "# ---------------------------------------------------------------------------\n",
    "#\n",
    "# Examplary Node color Parameter: \n",
    "# (can be replaced with any dict with keys = G.nodes and values (int or float) > each value will be represented by one color (function: color_nodes_from_dict()) \n",
    "#\n",
    "# ---------------------------------------------------------------------------\n",
    "\n",
    "closeness = nx.closeness_centrality(G)\n",
    "d_node_colors = {}\n",
    "for node, cl in sorted(closeness.items(), key = lambda x: x[1], reverse = 1):\n",
    "    d_node_colors[node] = round(cl,4)\n",
    "        \n",
    "col_pal = 'YlOrRd'\n",
    "d_colors = color_nodes_from_dict(G, d_node_colors, palette = col_pal)\n",
    "colors = list(d_colors.values())\n",
    "edge_color = '#d3d3d3'"
   ]
  },
  {
   "cell_type": "markdown",
   "id": "given-preliminary",
   "metadata": {},
   "source": [
    "#### EDGES - GENERAL"
   ]
  },
  {
   "cell_type": "code",
   "execution_count": 8,
   "id": "hollow-wiring",
   "metadata": {},
   "outputs": [],
   "source": [
    "edge_width = 0.1\n",
    "\n",
    "edge_colorlight = '#d3d3d3' # 'lightgrey'\n",
    "edge_colordark = '#696969' \n",
    "edge_color = '#ACACAC'\n",
    "\n",
    "opacity_edges = 0.1 "
   ]
  },
  {
   "cell_type": "markdown",
   "id": "superior-forty",
   "metadata": {
    "tags": []
   },
   "source": [
    "_____ \n",
    "# 4 | VISUALIZING\n",
    "_____\n",
    "Layout Maps to choose from: \n",
    "+ Portrait 2D \n",
    "+ Portrait 3D \n",
    "+ Topographic Map\n",
    "+ Geodesic Map "
   ]
  },
  {
   "cell_type": "markdown",
   "id": "cutting-sample",
   "metadata": {
    "tags": []
   },
   "source": [
    "### 2D PORTRAIT"
   ]
  },
  {
   "cell_type": "code",
   "execution_count": 9,
   "id": "powered-merchant",
   "metadata": {},
   "outputs": [
    {
     "data": {
      "text/plain": [
       "'output_plots/2Dlayouts/2Dportrait.html'"
      ]
     },
     "execution_count": 9,
     "metadata": {},
     "output_type": "execute_result"
    }
   ],
   "source": [
    "# ---------------------------------------------------------------------------\n",
    "#\n",
    "# SELECT PARAMETER \n",
    "#\n",
    "posG = posG_functional_tsne2D\n",
    "# ---------------------------------------------------------------------------\n",
    "\n",
    "umap_nodes = get_trace_nodes_2D(posG, l_features, colors, size, opacity_nodes)\n",
    "umap_edges = get_trace_edges_2D(G, posG, edge_color, opac = 0.5)\n",
    "data = [umap_nodes,umap_edges]\n",
    "\n",
    "path = 'output_plots/2Dlayouts/'\n",
    "fname = '2Dportrait'\n",
    "\n",
    "plot_2D(data,path,fname)"
   ]
  },
  {
   "cell_type": "markdown",
   "id": "brazilian-image",
   "metadata": {},
   "source": [
    "#### EXPORT FOR VRNetzer "
   ]
  },
  {
   "cell_type": "code",
   "execution_count": 10,
   "id": "latest-organic",
   "metadata": {},
   "outputs": [],
   "source": [
    "VRpath = 'output_plots/VRlayouts/'\n",
    "layout_namespace = fname\n",
    "\n",
    "export_to_csv2D(VRpath, layout_namespace, posG, colors)"
   ]
  },
  {
   "cell_type": "markdown",
   "id": "medium-wallet",
   "metadata": {
    "tags": []
   },
   "source": [
    "### 3D PORTRAIT "
   ]
  },
  {
   "cell_type": "code",
   "execution_count": 18,
   "id": "announced-variable",
   "metadata": {},
   "outputs": [
    {
     "data": {
      "text/plain": [
       "'output_plots/3Dlayouts/3Dportrait.html'"
      ]
     },
     "execution_count": 18,
     "metadata": {},
     "output_type": "execute_result"
    }
   ],
   "source": [
    "# ---------------------------------------------------------------------------\n",
    "#\n",
    "# SELECT PARAMETER\n",
    "#\n",
    "posG = posG_functional_umap3D\n",
    "# ---------------------------------------------------------------------------\n",
    "\n",
    "umap_nodes = get_trace_nodes_3D(posG, l_features, colors, size3d, opacity_nodes)\n",
    "umap_edges = get_trace_edges_3D(G, posG, edge_color, opac = 0.5, linewidth = 0.5)\n",
    "data = [umap_nodes,umap_edges]\n",
    "\n",
    "path = 'output_plots/3Dlayouts/'\n",
    "fname = '3Dportrait'\n",
    "\n",
    "plot_3D(data,path,fname, 'light')"
   ]
  },
  {
   "cell_type": "markdown",
   "id": "short-literature",
   "metadata": {},
   "source": [
    "#### EXPORT FOR VRNetzer "
   ]
  },
  {
   "cell_type": "code",
   "execution_count": 13,
   "id": "dangerous-issue",
   "metadata": {},
   "outputs": [],
   "source": [
    "VRpath = 'output_plots/VRlayouts/'\n",
    "layout_namespace = fname\n",
    "\n",
    "export_to_csv3D(VRpath, layout_namespace, posG, colors)"
   ]
  },
  {
   "cell_type": "markdown",
   "id": "communist-allen",
   "metadata": {
    "tags": []
   },
   "source": [
    "### TOPOGRAPHIC MAP"
   ]
  },
  {
   "cell_type": "code",
   "execution_count": 14,
   "id": "frequent-approach",
   "metadata": {
    "tags": []
   },
   "outputs": [
    {
     "data": {
      "text/plain": [
       "'output_plots/Topographic/topographic_map.html'"
      ]
     },
     "execution_count": 14,
     "metadata": {},
     "output_type": "execute_result"
    }
   ],
   "source": [
    "# ---------------------------------------------------------------------------\n",
    "# SELECT a z-Parameter: \n",
    "#\n",
    "# d_z > dictionary with keys=G.nodes and values=any int/float assigned to a node\n",
    "# \n",
    "# ---------------------------------------------------------------------------\n",
    "#a random example: \n",
    "z_list = [np.random.random() for i in range(0, len(list(G.nodes())))]\n",
    "d_z = dict(zip(list(G.nodes()),z_list))\n",
    "#\n",
    "# ---------------------------------------------------------------------------\n",
    "#\n",
    "# requirement: 2D Portrait \n",
    "# example: \n",
    "posG_local_tsne2D = layout_local_tsne(G,2,prplxty=10, density=1, l_rate=200, steps=250, metric='cosine') \n",
    "posG_topographic = layout_topographic(posG_local_tsne2D, d_z)\n",
    "posG = posG_topographic\n",
    "# ---------------------------------------------------------------------------\n",
    "\n",
    "umap_nodes = get_trace_nodes_3D(posG, l_features, colors, size3d, opacity_nodes)\n",
    "umap_edges = get_trace_edges_3D(G, posG, edge_color, opac = 0.5, linewidth = 0.5)\n",
    "data = [umap_nodes,umap_edges]\n",
    "\n",
    "path = 'output_plots/Topographic/'\n",
    "fname = 'topographic_map'\n",
    "\n",
    "plot_3D(data,path,fname, 'light')"
   ]
  },
  {
   "cell_type": "markdown",
   "id": "appointed-mediterranean",
   "metadata": {},
   "source": [
    "#### EXPORT FOR VRNetzer "
   ]
  },
  {
   "cell_type": "code",
   "execution_count": 15,
   "id": "french-promotion",
   "metadata": {},
   "outputs": [],
   "source": [
    "VRpath = 'output_plots/VRlayouts/'\n",
    "layout_namespace = fname\n",
    "\n",
    "export_to_csv3D(VRpath, layout_namespace, posG, colors)"
   ]
  },
  {
   "cell_type": "markdown",
   "id": "popular-debut",
   "metadata": {},
   "source": [
    "### GEODESIC MAP"
   ]
  },
  {
   "cell_type": "code",
   "execution_count": 11,
   "id": "stone-onion",
   "metadata": {},
   "outputs": [
    {
     "data": {
      "text/plain": [
       "'output_plots/Geodesic/geodesic_map.html'"
      ]
     },
     "execution_count": 11,
     "metadata": {},
     "output_type": "execute_result"
    }
   ],
   "source": [
    "# ---------------------------------------------------------------------------\n",
    "#\n",
    "# SELECT a r-Parameter:\n",
    "#\n",
    "# d_rad > a dictionary with keys=G.nodes and values=any radius assigned to each node\n",
    "# ---------------------------------------------------------------------------\n",
    "# example: \n",
    "rad_list = [np.random.randint(1,4) for i in range(0, len(list(G.nodes())))]\n",
    "d_rad = dict(zip(list(G.nodes()), rad_list))\n",
    "# ---------------------------------------------------------------------------\n",
    "\n",
    "posG_sphere = layout_geodesic(G, d_rad, n_neighbors=20, spread=1, min_dist=0.0)\n",
    "posG = posG_sphere\n",
    "\n",
    "umap_nodes = get_trace_nodes_3D(posG, l_features, colors, size3d, opacity_nodes)\n",
    "umap_edges = get_trace_edges_3D(G, posG, edge_color, opac = 0.5, linewidth = 0.5)\n",
    "data = [umap_nodes,umap_edges]\n",
    "\n",
    "path = 'output_plots/Geodesic/'\n",
    "fname = 'geodesic_map'\n",
    "plot_3D(data,path,fname, 'light')"
   ]
  },
  {
   "cell_type": "markdown",
   "id": "stone-singles",
   "metadata": {},
   "source": [
    "#### EXPORT FOR VRNetzer "
   ]
  },
  {
   "cell_type": "code",
   "execution_count": 12,
   "id": "scientific-brake",
   "metadata": {},
   "outputs": [],
   "source": [
    "VRpath = 'output_plots/VRlayouts/'\n",
    "layout_namespace = fname\n",
    "\n",
    "export_to_csv3D(VRpath, layout_namespace, posG, colors)"
   ]
  },
  {
   "cell_type": "code",
   "execution_count": null,
   "id": "union-shark",
   "metadata": {},
   "outputs": [],
   "source": []
  },
  {
   "cell_type": "code",
   "execution_count": null,
   "id": "veterinary-upset",
   "metadata": {},
   "outputs": [],
   "source": []
  }
 ],
 "metadata": {
  "kernelspec": {
   "display_name": "carto_env",
   "language": "python",
   "name": "carto_env"
  },
  "language_info": {
   "codemirror_mode": {
    "name": "ipython",
    "version": 3
   },
   "file_extension": ".py",
   "mimetype": "text/x-python",
   "name": "python",
   "nbconvert_exporter": "python",
   "pygments_lexer": "ipython3",
   "version": "3.8.2"
  }
 },
 "nbformat": 4,
 "nbformat_minor": 5
}
