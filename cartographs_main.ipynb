{
 "cells": [
  {
   "cell_type": "markdown",
   "id": "863bbf91-d0fb-4830-8890-1fec9a1c5276",
   "metadata": {},
   "source": [
    "-----\n",
    "# cartoGRAPHs \n",
    "\n",
    "A Notebook to produce 2D and 3D network layouts from any Graph,\n",
    "including interactive visualization (html files) and export functions \n",
    "to import into the VRNetzer analytics platform by Pirch et al.\n",
    "\n",
    "Please note: \n",
    "Large graphs (e.g. 20k nodes / 300k links) can take ~15min using TSNE-based layouts and ~5min using UMAP-based layouts\n",
    "\n",
    "-----"
   ]
  },
  {
   "cell_type": "code",
   "execution_count": null,
   "id": "8957cddf-feaf-4d09-a2bf-584106fd51a0",
   "metadata": {},
   "outputs": [],
   "source": [
    "from cartoGRAPHs import * \n",
    "\n",
    "from func_load_data import *\n",
    "from func_visual_properties import * \n",
    "from func_calculations import * \n",
    "from func_embed_plot import * \n",
    "from func_exportVR import * "
   ]
  },
  {
   "cell_type": "markdown",
   "id": "9562d69c-fe2c-4702-bfd8-a35a752c0038",
   "metadata": {},
   "source": [
    "_____\n",
    "# 1 | DEFINE NETWORK\n",
    "_____"
   ]
  },
  {
   "cell_type": "code",
   "execution_count": 2,
   "id": "d7cffb6e-e286-47f7-afbe-a3b479ac83c0",
   "metadata": {},
   "outputs": [],
   "source": [
    "# ---------------------------------------------------------------------------\n",
    "# \n",
    "# this Graph is an exemplary graph and can be replaced by any networkx Graph\n",
    "#\n",
    "# ---------------------------------------------------------------------------\n",
    "\n",
    "n = 1093\n",
    "r = 3\n",
    "G = nx.full_rary_tree(r,n)\n",
    "\n",
    "# ---------------------------------------------------------------------------\n",
    "#\n",
    "# this will be hover-info of interactive layouts and can be replaced by any list with length G.nodes\n",
    "#\n",
    "# ---------------------------------------------------------------------------\n",
    "\n",
    "l_features = ['nodeID:'+str(i) for i in list(G.nodes())]"
   ]
  },
  {
   "cell_type": "markdown",
   "id": "c4c32446-1eea-4620-8a48-5c9dbca6bb59",
   "metadata": {
    "tags": []
   },
   "source": [
    "_____ \n",
    "# 2 | SPATIAL EMBEDDING\n",
    "_____\n",
    "\n",
    "Layouts to choose from: \n",
    "+ local\n",
    "+ global / node2vec\n",
    "+ importance / struc2vec\n",
    "+ functional\n"
   ]
  },
  {
   "cell_type": "markdown",
   "id": "0c513cae-b0a9-4f0a-b139-a0b8c8a81a78",
   "metadata": {
    "jp-MarkdownHeadingCollapsed": true,
    "tags": []
   },
   "source": [
    "#### LOCAL "
   ]
  },
  {
   "cell_type": "markdown",
   "id": "904b88de-63b8-449f-bec8-8f83b1f52637",
   "metadata": {},
   "source": [
    "2D"
   ]
  },
  {
   "cell_type": "code",
   "execution_count": 3,
   "id": "f4c3029e-3018-41ff-8b72-35e8716a6956",
   "metadata": {
    "tags": []
   },
   "outputs": [],
   "source": [
    "posG_local_tsne2D = layout_local_tsne(G,2,prplxty=10, density=1, l_rate=200, steps=250, metric='cosine') \n",
    "posG_local_umap2D = layout_local_umap(G,2,n_neighbors=20, spread=1, min_dist=0.0, metric='cosine') "
   ]
  },
  {
   "cell_type": "markdown",
   "id": "9a9a1d82-f1af-4d74-b9de-fd69a800152d",
   "metadata": {},
   "source": [
    "3D"
   ]
  },
  {
   "cell_type": "code",
   "execution_count": 5,
   "id": "962c4505-a892-4442-8880-0e046b167954",
   "metadata": {},
   "outputs": [],
   "source": [
    "posG_local_tsne3D = layout_local_tsne(G,3,prplxty=10, density=1, l_rate=200, steps=250, metric='cosine') \n",
    "posG_local_umap3D = layout_local_umap(G,3,n_neighbors=20, spread=1, min_dist=0.0, metric='cosine') "
   ]
  },
  {
   "cell_type": "markdown",
   "id": "761feb90-2130-4001-b2c8-fccee896c0ed",
   "metadata": {
    "jp-MarkdownHeadingCollapsed": true,
    "tags": []
   },
   "source": [
    "#### GLOBAL "
   ]
  },
  {
   "cell_type": "markdown",
   "id": "43c4da62-d0f4-405f-b4de-4468f02367a4",
   "metadata": {},
   "source": [
    "2D"
   ]
  },
  {
   "cell_type": "code",
   "execution_count": 6,
   "id": "b344d713-9a37-4973-babd-8883e0b3f293",
   "metadata": {},
   "outputs": [],
   "source": [
    "posG_global_tsne2D = layout_global_tsne(G,2,prplxty=10, density=1, l_rate=200, steps=250, metric='cosine') \n",
    "posG_global_umap2D = layout_global_umap(G,2,n_neighbors=20, spread=1, min_dist=0.0, metric='cosine') "
   ]
  },
  {
   "cell_type": "markdown",
   "id": "49a54c5a-0845-4813-a29d-51f1ce133b0b",
   "metadata": {},
   "source": [
    "3D"
   ]
  },
  {
   "cell_type": "code",
   "execution_count": 7,
   "id": "6962f314-333e-42cc-a333-b0843c4ad739",
   "metadata": {},
   "outputs": [],
   "source": [
    "posG_global_tsne3D = layout_global_tsne(G,3,prplxty=10, density=1, l_rate=200, steps=250, metric='cosine') \n",
    "posG_global_umap3D = layout_global_umap(G,3,n_neighbors=20, spread=1, min_dist=0.0, metric='cosine') "
   ]
  },
  {
   "cell_type": "markdown",
   "id": "c14cbbe6-3925-460c-8a85-56fd193973f0",
   "metadata": {
    "jp-MarkdownHeadingCollapsed": true,
    "tags": []
   },
   "source": [
    "#### NODE2VEC "
   ]
  },
  {
   "cell_type": "markdown",
   "id": "c951fb84-7ff3-44cf-9341-a34133db2e06",
   "metadata": {},
   "source": [
    "2D"
   ]
  },
  {
   "cell_type": "code",
   "execution_count": 8,
   "id": "eb946bce-7f9c-481d-8087-e0254b6a8eaa",
   "metadata": {},
   "outputs": [],
   "source": [
    "posG_nodevec_tsne2D = layout_nodevec_tsne(G,2,prplxty=10, density=1, l_rate=200, steps=250, metric='cosine') \n",
    "posG_nodevec_umap2D = layout_nodevec_umap(G,2,n_neighbors=20, spread=1, min_dist=0.0, metric='cosine') "
   ]
  },
  {
   "cell_type": "markdown",
   "id": "9a1a7b23-f3ee-4039-b1c0-3ac607ccefdd",
   "metadata": {},
   "source": [
    "3D"
   ]
  },
  {
   "cell_type": "code",
   "execution_count": 9,
   "id": "86d6f408-8a1b-470c-84b0-e4fe72d6d23f",
   "metadata": {},
   "outputs": [],
   "source": [
    "posG_nodevec_tsne3D = layout_nodevec_tsne(G,3,prplxty=10, density=1, l_rate=200, steps=250, metric='cosine') \n",
    "posG_nodevec_umap3D = layout_nodevec_umap(G,3,n_neighbors=20, spread=1, min_dist=0.0, metric='cosine') "
   ]
  },
  {
   "cell_type": "markdown",
   "id": "419e3cef-9a50-4550-9790-3cd3afeef00d",
   "metadata": {
    "jp-MarkdownHeadingCollapsed": true,
    "tags": []
   },
   "source": [
    "#### IMPORTANCE "
   ]
  },
  {
   "cell_type": "markdown",
   "id": "77c109ba-6b2e-450c-a5e8-84c4ec88dd94",
   "metadata": {},
   "source": [
    "2D"
   ]
  },
  {
   "cell_type": "code",
   "execution_count": 10,
   "id": "a6bd22ae-46d7-4bd4-81be-31b59946fc6f",
   "metadata": {},
   "outputs": [],
   "source": [
    "posG_importance_tsne2D = layout_importance_tsne(G,2,prplxty=10, density=1, l_rate=200, steps=250, metric='cosine') \n",
    "posG_importance_umap2D = layout_importance_umap(G,2,n_neighbors=20, spread=1, min_dist=0.0, metric='cosine') "
   ]
  },
  {
   "cell_type": "markdown",
   "id": "99e90231-5a82-4238-aea7-058b45b3ba48",
   "metadata": {},
   "source": [
    "3D"
   ]
  },
  {
   "cell_type": "code",
   "execution_count": 11,
   "id": "3597538b-1d0a-4509-b205-fb798d0ca570",
   "metadata": {},
   "outputs": [],
   "source": [
    "posG_importance_tsne3D = layout_importance_tsne(G,3,prplxty=10, density=1, l_rate=200, steps=250, metric='cosine') \n",
    "posG_importance_umap3D = layout_importance_umap(G,3,n_neighbors=20, spread=1, min_dist=0.0, metric='cosine') "
   ]
  },
  {
   "cell_type": "markdown",
   "id": "ec48b027-b070-4b7b-ba0e-297962a46a14",
   "metadata": {
    "jp-MarkdownHeadingCollapsed": true,
    "tags": []
   },
   "source": [
    "#### STRUC2VEC"
   ]
  },
  {
   "cell_type": "markdown",
   "id": "2716d016-c8cc-44b4-a75c-af80e124b6a1",
   "metadata": {},
   "source": [
    "2D"
   ]
  },
  {
   "cell_type": "code",
   "execution_count": 3,
   "id": "91f88e82-a019-4c0b-890e-7beb84e311ed",
   "metadata": {},
   "outputs": [],
   "source": [
    "posG_strucvec_tsne2D = layout_strucvec_tsne(G,2,prplxty=10, density=1, l_rate=200, steps=250, metric='cosine') \n",
    "posG_strucvec_umap2D = layout_strucvec_umap(G,2,n_neighbors=20, spread=1, min_dist=0.0, metric='cosine') "
   ]
  },
  {
   "cell_type": "markdown",
   "id": "5c7318a3-4455-4235-adcf-942eb3713000",
   "metadata": {},
   "source": [
    "3D"
   ]
  },
  {
   "cell_type": "code",
   "execution_count": 4,
   "id": "526b2182-beb1-485b-9ba0-42c9bccfcc54",
   "metadata": {},
   "outputs": [],
   "source": [
    "posG_strucvec_tsne3D = layout_strucvec_tsne(G,3,prplxty=10, density=1, l_rate=200, steps=250, metric='cosine') \n",
    "posG_strucvec_umap3D = layout_strucvec_umap(G,3,n_neighbors=20, spread=1, min_dist=0.0, metric='cosine') "
   ]
  },
  {
   "cell_type": "markdown",
   "id": "a9d0244c-5440-4226-9aa3-c1756da69bd5",
   "metadata": {
    "tags": []
   },
   "source": [
    "#### FUNCTIONAL"
   ]
  },
  {
   "cell_type": "code",
   "execution_count": 3,
   "id": "9eaade7e-508a-420f-9e74-5f50f5cf3a48",
   "metadata": {},
   "outputs": [],
   "source": [
    "# N x M  feature matrix \n",
    "# functional node annotations (no structural features)\n",
    "\n",
    "rows = len(list(G.nodes()))\n",
    "cols = 100 # number of features \n",
    " \n",
    "arr = np.random.randint(2, size=(rows, cols))\n",
    "FM = pd.DataFrame(arr, index = list(G.nodes()))"
   ]
  },
  {
   "cell_type": "markdown",
   "id": "d40d3caf-647b-418e-aba3-42cdb7209be5",
   "metadata": {},
   "source": [
    "2D"
   ]
  },
  {
   "cell_type": "code",
   "execution_count": 4,
   "id": "b4cd1f33-073f-4b6a-8d26-75aeaa5dffb1",
   "metadata": {},
   "outputs": [],
   "source": [
    "posG_functional_tsne2D = layout_functional_tsne(G, FM,2,prplxty=10, density=1, l_rate=200, steps=250, metric='cosine') \n",
    "posG_functional_umap2D = layout_functional_umap(G, FM,2,n_neighbors=20, spread=1, min_dist=0.0, metric='cosine') "
   ]
  },
  {
   "cell_type": "markdown",
   "id": "724abb2d-1450-472c-87f6-78c28ce1a450",
   "metadata": {},
   "source": [
    "3D"
   ]
  },
  {
   "cell_type": "code",
   "execution_count": 5,
   "id": "cb8c634d-a801-45d7-9806-80f149e96376",
   "metadata": {},
   "outputs": [],
   "source": [
    "posG_functional_tsne3D = layout_functional_tsne(G, FM,3,prplxty=10, density=1, l_rate=200, steps=250, metric='cosine') \n",
    "posG_functional_umap3D = layout_functional_umap(G, FM,3,n_neighbors=20, spread=1, min_dist=0.0, metric='cosine') "
   ]
  },
  {
   "cell_type": "markdown",
   "id": "33a454fc-43ff-4311-aa80-ddd53ee0843a",
   "metadata": {
    "tags": []
   },
   "source": [
    "____________\n",
    "# 3 | SET VISUAL PRE-SETTINGS\n",
    "____________\n",
    "+ colors in hex: https://htmlcolorcodes.com/"
   ]
  },
  {
   "cell_type": "markdown",
   "id": "57212d0e-3b53-40b5-95fb-c6d0a0d78f75",
   "metadata": {},
   "source": [
    "#### NODES - GENERAL"
   ]
  },
  {
   "cell_type": "code",
   "execution_count": 3,
   "id": "24dfcf08-33dc-4fbd-8da7-ffeccc25316e",
   "metadata": {},
   "outputs": [],
   "source": [
    "opacity_nodes = 0.8\n",
    "node_edge_col = '#696969' \n",
    "\n",
    "scale_factor = 0.75\n",
    "size = list(draw_node_degree(G, scale_factor).values())\n",
    "\n",
    "scale_factor3D = 1.5\n",
    "size3d = list(draw_node_degree_3D(G, scale_factor3D).values())\n",
    "\n",
    "nodesglow_diameter = 8.0\n",
    "nodesglow_transparency = 0.01 # 0.01"
   ]
  },
  {
   "cell_type": "code",
   "execution_count": 4,
   "id": "b896418d-1a78-4138-b5e3-b3ef9c341be1",
   "metadata": {},
   "outputs": [],
   "source": [
    "# ---------------------------------------------------------------------------\n",
    "#\n",
    "# Examplary Node Colour Parameter: \n",
    "# (can be replaced with any dict with keys = G.nodes and values (int or float) > each value will be represented by one colour (function: color_nodes_from_dict()) \n",
    "#\n",
    "# ---------------------------------------------------------------------------\n",
    "\n",
    "closeness = nx.closeness_centrality(G)\n",
    "d_node_colours = {}\n",
    "for node, cl in sorted(closeness.items(), key = lambda x: x[1], reverse = 1):\n",
    "    d_node_colours[node] = round(cl,4)\n",
    "        \n",
    "col_pal = 'YlOrRd'\n",
    "d_colours = color_nodes_from_dict(G, d_node_colours, palette = col_pal)\n",
    "colours = list(d_colours.values())\n",
    "edge_color = '#d3d3d3'"
   ]
  },
  {
   "cell_type": "markdown",
   "id": "8793fc1b-5a43-48cf-bd53-ef5df50d0594",
   "metadata": {},
   "source": [
    "#### EDGES - GENERAL"
   ]
  },
  {
   "cell_type": "code",
   "execution_count": 5,
   "id": "4cfe7216-ac63-4328-9ae2-2d5722bfbcd1",
   "metadata": {},
   "outputs": [],
   "source": [
    "edge_width = 0.1\n",
    "\n",
    "edge_colorlight = '#d3d3d3' # 'lightgrey'\n",
    "edge_colordark = '#696969' \n",
    "edge_color = '#ACACAC'\n",
    "\n",
    "opacity_edges = 0.1 "
   ]
  },
  {
   "cell_type": "markdown",
   "id": "00e8ed3e-27cc-457e-861b-f8c5e59e9e98",
   "metadata": {
    "tags": []
   },
   "source": [
    "_____ \n",
    "# 4 | VISUALIZING\n",
    "_____\n",
    "Layout Maps to choose from: \n",
    "+ Portrait 2D \n",
    "+ Portrait 3D \n",
    "+ Topographic Map\n",
    "+ Geodesic Map "
   ]
  },
  {
   "cell_type": "markdown",
   "id": "311ae9e1-4a0f-4cab-ba6f-73c46f7d0547",
   "metadata": {
    "tags": []
   },
   "source": [
    "### 2D PORTRAIT"
   ]
  },
  {
   "cell_type": "code",
   "execution_count": 9,
   "id": "545a8032-351d-4de1-a965-f40cf65ac3e5",
   "metadata": {},
   "outputs": [
    {
     "data": {
      "text/plain": [
       "'output_plots/2Dlayouts/2Dportrait.html'"
      ]
     },
     "execution_count": 9,
     "metadata": {},
     "output_type": "execute_result"
    }
   ],
   "source": [
    "# ---------------------------------------------------------------------------\n",
    "#\n",
    "# SELECT PARAMETER \n",
    "#\n",
    "posG = posG_functional_tsne2D\n",
    "# ---------------------------------------------------------------------------\n",
    "\n",
    "umap_nodes = get_trace_nodes_2D(posG, l_features, colours, size, opacity_nodes)\n",
    "umap_edges = get_trace_edges_2D(G, posG, edge_color, opac = 0.5)\n",
    "data = [umap_nodes,umap_edges]\n",
    "\n",
    "path = 'output_plots/2Dlayouts/'\n",
    "fname = '2Dportrait'\n",
    "\n",
    "plot_2D(data,path,fname)"
   ]
  },
  {
   "cell_type": "markdown",
   "id": "5ac709bd-60c7-44ca-8df7-3b7286bd90f8",
   "metadata": {},
   "source": [
    "#### EXPORT FOR VRNetzer "
   ]
  },
  {
   "cell_type": "code",
   "execution_count": 10,
   "id": "a23b16d3-5fe4-419d-91ea-b8bc5d45e210",
   "metadata": {},
   "outputs": [],
   "source": [
    "VRpath = 'output_plots/VRlayouts/'\n",
    "layout_namespace = fname\n",
    "\n",
    "export_to_csv2D(VRpath, layout_namespace, posG, colours)"
   ]
  },
  {
   "cell_type": "markdown",
   "id": "e9c94039-9180-46a3-9a23-d687f1605f07",
   "metadata": {
    "tags": []
   },
   "source": [
    "### 3D PORTRAIT "
   ]
  },
  {
   "cell_type": "code",
   "execution_count": 12,
   "id": "b66c55e7-d155-412a-9330-d799a8a14d7b",
   "metadata": {},
   "outputs": [
    {
     "data": {
      "text/plain": [
       "'output_plots/3Dlayouts/3Dportrait.html'"
      ]
     },
     "execution_count": 12,
     "metadata": {},
     "output_type": "execute_result"
    }
   ],
   "source": [
    "# ---------------------------------------------------------------------------\n",
    "#\n",
    "# SELECT PARAMETER\n",
    "#\n",
    "posG = posG_functional_umap3D\n",
    "# ---------------------------------------------------------------------------\n",
    "\n",
    "umap_nodes = get_trace_nodes_3D(posG, l_features, colours, size3d, opacity_nodes)\n",
    "umap_edges = get_trace_edges_3D(G, posG, edge_color, opac = 0.5, linewidth = 0.5)\n",
    "data = [umap_nodes,umap_edges]\n",
    "\n",
    "path = 'output_plots/3Dlayouts/'\n",
    "fname = '3Dportrait'\n",
    "\n",
    "plot_3D(data,path,fname, 'light')"
   ]
  },
  {
   "cell_type": "markdown",
   "id": "6c586c42-5973-47cb-af15-7d0ab6e063e4",
   "metadata": {},
   "source": [
    "#### EXPORT FOR VRNetzer "
   ]
  },
  {
   "cell_type": "code",
   "execution_count": 13,
   "id": "0e245628-79fd-4563-b9e9-fa2305648a7a",
   "metadata": {},
   "outputs": [],
   "source": [
    "VRpath = 'output_plots/VRlayouts/'\n",
    "layout_namespace = fname\n",
    "\n",
    "export_to_csv3D(VRpath, layout_namespace, posG, colours)"
   ]
  },
  {
   "cell_type": "markdown",
   "id": "49944e7d-7bb1-4bc1-8795-1c00a472c458",
   "metadata": {
    "tags": []
   },
   "source": [
    "### TOPOGRAPHIC MAP"
   ]
  },
  {
   "cell_type": "code",
   "execution_count": 14,
   "id": "e4cb0673-5d27-4328-bd4c-775a5b300657",
   "metadata": {
    "tags": []
   },
   "outputs": [
    {
     "data": {
      "text/plain": [
       "'output_plots/Topographic/topographic_map.html'"
      ]
     },
     "execution_count": 14,
     "metadata": {},
     "output_type": "execute_result"
    }
   ],
   "source": [
    "# ---------------------------------------------------------------------------\n",
    "# SELECT a z-Parameter: \n",
    "#\n",
    "# d_z > dictionary with keys=G.nodes and values=any int/float assigned to a node\n",
    "# \n",
    "# ---------------------------------------------------------------------------\n",
    "#a random example: \n",
    "z_list = [np.random.random() for i in range(0, len(list(G.nodes())))]\n",
    "d_z = dict(zip(list(G.nodes()),z_list))\n",
    "#\n",
    "# ---------------------------------------------------------------------------\n",
    "#\n",
    "# requirement: 2D Portrait \n",
    "# example: \n",
    "posG_local_tsne2D = layout_local_tsne(G,2,prplxty=10, density=1, l_rate=200, steps=250, metric='cosine') \n",
    "posG_topographic = layout_topographic(posG_local_tsne2D, d_z)\n",
    "posG = posG_topographic\n",
    "# ---------------------------------------------------------------------------\n",
    "\n",
    "umap_nodes = get_trace_nodes_3D(posG, l_features, colours, size3d, opacity_nodes)\n",
    "umap_edges = get_trace_edges_3D(G, posG, edge_color, opac = 0.5, linewidth = 0.5)\n",
    "data = [umap_nodes,umap_edges]\n",
    "\n",
    "path = 'output_plots/Topographic/'\n",
    "fname = 'topographic_map'\n",
    "\n",
    "plot_3D(data,path,fname, 'light')"
   ]
  },
  {
   "cell_type": "markdown",
   "id": "7adc1448-3d66-495d-9400-2597314c96bb",
   "metadata": {},
   "source": [
    "#### EXPORT FOR VRNetzer "
   ]
  },
  {
   "cell_type": "code",
   "execution_count": 15,
   "id": "06bc4d4a-f9ac-408f-b6af-033daa5c4bfa",
   "metadata": {},
   "outputs": [],
   "source": [
    "VRpath = 'output_plots/VRlayouts/'\n",
    "layout_namespace = fname\n",
    "\n",
    "export_to_csv3D(VRpath, layout_namespace, posG, colours)"
   ]
  },
  {
   "cell_type": "markdown",
   "id": "53b891da-915d-430d-a19e-cc2610e83b88",
   "metadata": {},
   "source": [
    "### GEODESIC MAP"
   ]
  },
  {
   "cell_type": "code",
   "execution_count": 11,
   "id": "7bc12147-72ca-4030-bc51-3965ac5e72d6",
   "metadata": {},
   "outputs": [
    {
     "data": {
      "text/plain": [
       "'output_plots/Geodesic/geodesic_map.html'"
      ]
     },
     "execution_count": 11,
     "metadata": {},
     "output_type": "execute_result"
    }
   ],
   "source": [
    "# ---------------------------------------------------------------------------\n",
    "#\n",
    "# SELECT a r-Parameter:\n",
    "#\n",
    "# d_rad > a dictionary with keys=G.nodes and values=any radius assigned to each node\n",
    "# ---------------------------------------------------------------------------\n",
    "# example: \n",
    "rad_list = [np.random.randint(1,4) for i in range(0, len(list(G.nodes())))]\n",
    "d_rad = dict(zip(list(G.nodes()), rad_list))\n",
    "# ---------------------------------------------------------------------------\n",
    "\n",
    "posG_sphere = layout_geodesic(G, d_rad, n_neighbors=20, spread=1, min_dist=0.0)\n",
    "posG = posG_sphere\n",
    "\n",
    "umap_nodes = get_trace_nodes_3D(posG, l_features, colours, size3d, opacity_nodes)\n",
    "umap_edges = get_trace_edges_3D(G, posG, edge_color, opac = 0.5, linewidth = 0.5)\n",
    "data = [umap_nodes,umap_edges]\n",
    "\n",
    "path = 'output_plots/Geodesic/'\n",
    "fname = 'geodesic_map'\n",
    "plot_3D(data,path,fname, 'light')"
   ]
  },
  {
   "cell_type": "markdown",
   "id": "e09c06a6-0cfd-42cf-b1d0-f94038792668",
   "metadata": {},
   "source": [
    "#### EXPORT FOR VRNetzer "
   ]
  },
  {
   "cell_type": "code",
   "execution_count": 12,
   "id": "87c89e21-8d26-4b8f-822b-f7e961d906aa",
   "metadata": {},
   "outputs": [],
   "source": [
    "VRpath = 'output_plots/VRlayouts/'\n",
    "layout_namespace = fname\n",
    "\n",
    "export_to_csv3D(VRpath, layout_namespace, posG, colours)"
   ]
  },
  {
   "cell_type": "code",
   "execution_count": null,
   "id": "80ee3335-f2cb-4929-8054-b5fb9c0e6564",
   "metadata": {},
   "outputs": [],
   "source": []
  },
  {
   "cell_type": "code",
   "execution_count": null,
   "id": "de629e60-f5c6-4036-92f9-302834a92659",
   "metadata": {},
   "outputs": [],
   "source": []
  }
 ],
 "metadata": {
  "kernelspec": {
   "display_name": "myenv",
   "language": "python",
   "name": "myenv"
  },
  "language_info": {
   "codemirror_mode": {
    "name": "ipython",
    "version": 3
   },
   "file_extension": ".py",
   "mimetype": "text/x-python",
   "name": "python",
   "nbconvert_exporter": "python",
   "pygments_lexer": "ipython3",
   "version": "3.8.2"
  }
 },
 "nbformat": 4,
 "nbformat_minor": 5
}
