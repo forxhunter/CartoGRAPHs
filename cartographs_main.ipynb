{
 "cells": [
  {
   "cell_type": "markdown",
   "id": "positive-supervision",
   "metadata": {},
   "source": [
    "-----\n",
    "# cartoGRAPHs \n",
    "\n",
    "A Notebook to produce 2D and 3D network layouts from any Graph,\n",
    "including interactive visualization (html files) and export functions \n",
    "to import into the VRNetzer analytics platform by Pirch et al.\n",
    "\n",
    "#### This notebook is divided into sections, which should be run sequentially.\n",
    "+ Section 1 - where the network shall be defined (a networkx graph)\n",
    "+ Section 2 - specify a layout algorithm and choose the dimensionality reduction\n",
    "+ Section 3 - the visual parameters > setting node colors (dict: key=node ID from G.nodes() and value=any color value)\n",
    "+ Section 4 - the layout visualization step \n",
    "\n",
    "-----\n",
    "\n",
    "Please note: \n",
    "Large graphs (e.g. 20k nodes / 300k links) can take ~15min using TSNE-based layouts and ~5min using UMAP-based layouts\n",
    "\n",
    "-----"
   ]
  },
  {
   "cell_type": "code",
   "execution_count": 1,
   "id": "b8138ad1-376f-47a4-b422-cd55943b30d4",
   "metadata": {},
   "outputs": [
    {
     "name": "stderr",
     "output_type": "stream",
     "text": [
      "2021-11-23 10:58:52.363092: I tensorflow/compiler/jit/xla_cpu_device.cc:41] Not creating XLA devices, tf_xla_enable_xla_devices not set\n",
      "2021-11-23 10:58:52.363405: I tensorflow/core/platform/cpu_feature_guard.cc:142] This TensorFlow binary is optimized with oneAPI Deep Neural Network Library (oneDNN) to use the following CPU instructions in performance-critical operations:  AVX2 AVX512F FMA\n",
      "To enable them in other operations, rebuild TensorFlow with the appropriate compiler flags.\n"
     ]
    }
   ],
   "source": [
    "from cartoGRAPHs import *\n",
    "\n",
    "from func_load_data import *\n",
    "from func_visual_properties import * \n",
    "from func_calculations import * \n",
    "from func_embed_plot import * \n",
    "from func_exportVR import * "
   ]
  },
  {
   "cell_type": "markdown",
   "id": "living-russell",
   "metadata": {},
   "source": [
    "_____\n",
    "# 1 | DEFINE NETWORK\n",
    "_____"
   ]
  },
  {
   "cell_type": "code",
   "execution_count": 2,
   "id": "blocked-journalism",
   "metadata": {},
   "outputs": [],
   "source": [
    "# ---------------------------------------------------------------------------\n",
    "# this Graph is an exemplary graph and can be replaced by any networkx Graph\n",
    "# ---------------------------------------------------------------------------\n",
    "G = nx.scale_free_graph(n=1000)\n",
    "\n",
    "# ---------------------------------------------------------------------------\n",
    "# this will be hover-info of nodes in an interactive layouts \n",
    "# and can be replaced by any list with length of G.nodes\n",
    "# ---------------------------------------------------------------------------\n",
    "l_features = ['nodeID:'+str(i) for i in list(G.nodes())]\n",
    "d_features = dict(zip(G.nodes(),l_features))"
   ]
  },
  {
   "cell_type": "markdown",
   "id": "moved-formation",
   "metadata": {
    "tags": []
   },
   "source": [
    "_____ \n",
    "# 2 | DEFINE LAYOUTS / SPATIAL EMBEDDING METHOD\n",
    "_____\n",
    "\n",
    "Layouts to choose from: \n",
    "+ local\n",
    "+ global / node2vec\n",
    "+ importance / struc2vec\n",
    "+ functional\n"
   ]
  },
  {
   "cell_type": "markdown",
   "id": "incoming-selection",
   "metadata": {
    "jp-MarkdownHeadingCollapsed": true,
    "tags": []
   },
   "source": [
    "#### LOCAL "
   ]
  },
  {
   "cell_type": "markdown",
   "id": "aerial-bachelor",
   "metadata": {},
   "source": [
    "2D"
   ]
  },
  {
   "cell_type": "code",
   "execution_count": null,
   "id": "surprised-sussex",
   "metadata": {
    "tags": []
   },
   "outputs": [],
   "source": [
    "layoutmethod = 'local'\n",
    "\n",
    "#posG2D = layout_local_tsne(G,2,prplxty=10, density=1, l_rate=200, steps=250, metric='cosine') \n",
    "posG2D = layout_local_umap(G,2,n_neighbors=20, spread=1, min_dist=0.0, metric='cosine') "
   ]
  },
  {
   "cell_type": "markdown",
   "id": "sought-samuel",
   "metadata": {},
   "source": [
    "3D"
   ]
  },
  {
   "cell_type": "code",
   "execution_count": null,
   "id": "trying-buyer",
   "metadata": {
    "tags": []
   },
   "outputs": [],
   "source": [
    "layoutmethod = 'local'\n",
    "\n",
    "#posG3D = layout_local_tsne(G,3,prplxty=10, density=1, l_rate=200, steps=250, metric='cosine') \n",
    "posG3D = layout_local_umap(G,3,n_neighbors=20, spread=1, min_dist=0.0, metric='cosine') "
   ]
  },
  {
   "cell_type": "markdown",
   "id": "extreme-telling",
   "metadata": {
    "tags": []
   },
   "source": [
    "#### GLOBAL "
   ]
  },
  {
   "cell_type": "markdown",
   "id": "baking-spider",
   "metadata": {},
   "source": [
    "2D"
   ]
  },
  {
   "cell_type": "code",
   "execution_count": 3,
   "id": "00d9be26-0274-4445-a619-9019597c690f",
   "metadata": {},
   "outputs": [],
   "source": [
    "layoutmethod = 'global'\n",
    "\n",
    "#posG2D = layout_global_tsne(G,dim=2) # optional: ,prplxty=10, density=1, l_rate=200, steps=250, metric='cosine') \n",
    "posG2D = layout_global_umap(G,dim=2) # optional: ,n_neighbors=20, spread=1, min_dist=0.0, metric='cosine') "
   ]
  },
  {
   "cell_type": "markdown",
   "id": "spectacular-purchase",
   "metadata": {},
   "source": [
    "3D"
   ]
  },
  {
   "cell_type": "code",
   "execution_count": 4,
   "id": "operating-click",
   "metadata": {
    "tags": []
   },
   "outputs": [],
   "source": [
    "layoutmethod = 'global'\n",
    "\n",
    "#posG3D = layout_global_tsne(G,dim=3) # optional: ,prplxty=10, density=1, l_rate=200, steps=250, metric='cosine') \n",
    "posG3D = layout_global_umap(G,dim=3) # optional: ,n_neighbors=20, spread=1, min_dist=0.0, metric='cosine') "
   ]
  },
  {
   "cell_type": "markdown",
   "id": "seven-savage",
   "metadata": {
    "jp-MarkdownHeadingCollapsed": true,
    "tags": []
   },
   "source": [
    "#### IMPORTANCE "
   ]
  },
  {
   "cell_type": "markdown",
   "id": "encouraging-rwanda",
   "metadata": {},
   "source": [
    "2D"
   ]
  },
  {
   "cell_type": "code",
   "execution_count": 10,
   "id": "incorporate-bench",
   "metadata": {
    "tags": []
   },
   "outputs": [],
   "source": [
    "layoutmethod = 'importance'\n",
    "\n",
    "#posG2D = layout_importance_tsne(G,2,prplxty=10, density=1, l_rate=200, steps=250, metric='cosine') \n",
    "posG2D = layout_importance_umap(G,2,n_neighbors=20, spread=1, min_dist=0.0, metric='cosine') "
   ]
  },
  {
   "cell_type": "markdown",
   "id": "after-brooks",
   "metadata": {},
   "source": [
    "3D"
   ]
  },
  {
   "cell_type": "code",
   "execution_count": 11,
   "id": "falling-samba",
   "metadata": {
    "tags": []
   },
   "outputs": [],
   "source": [
    "layoutmethod = 'importance'\n",
    "\n",
    "#posG3D = layout_importance_tsne(G,3,prplxty=10, density=1, l_rate=200, steps=250, metric='cosine') \n",
    "posG3D = layout_importance_umap(G,3,n_neighbors=20, spread=1, min_dist=0.0, metric='cosine') "
   ]
  },
  {
   "cell_type": "markdown",
   "id": "advance-briefs",
   "metadata": {
    "jp-MarkdownHeadingCollapsed": true,
    "tags": []
   },
   "source": [
    "#### FUNCTIONAL"
   ]
  },
  {
   "cell_type": "code",
   "execution_count": 42,
   "id": "confidential-berkeley",
   "metadata": {
    "tags": []
   },
   "outputs": [],
   "source": [
    "scale = 1\n",
    "val = 0\n",
    "rows = len(list(G.nodes()))\n",
    "\n",
    "feat_one = [(val) if i%3 else (scale) for i in range(rows)]\n",
    "feat_two = [(val) if i%2 or feat_one[i]==scale in feat_one else (scale) for i in range(rows)]\n",
    "feat_three = [(scale) if feat_one[i]==val and feat_two[i]==val and i not in feat_one and i not in feat_two else val for i in range(rows)]\n",
    "\n",
    "feat_matrix = np.vstack((feat_one,feat_two,feat_three))\n",
    "FM = pd.DataFrame(feat_matrix)\n",
    "FM.index = ['100','101','102']\n",
    "FM=FM.T\n",
    "FM.index = list(G.nodes())"
   ]
  },
  {
   "cell_type": "markdown",
   "id": "protecting-endorsement",
   "metadata": {},
   "source": [
    "2D"
   ]
  },
  {
   "cell_type": "code",
   "execution_count": 14,
   "id": "sexual-accreditation",
   "metadata": {
    "tags": []
   },
   "outputs": [],
   "source": [
    "layoutmethod = 'functional'\n",
    "\n",
    "#posG2D = layout_functional_tsne(G, FM,2,prplxty=10, density=1, l_rate=200, steps=250, metric='cosine') \n",
    "posG2D = layout_functional_umap(G, FM,2,n_neighbors=20, spread=1, min_dist=0.0, metric='cosine') "
   ]
  },
  {
   "cell_type": "markdown",
   "id": "cordless-capture",
   "metadata": {},
   "source": [
    "3D"
   ]
  },
  {
   "cell_type": "code",
   "execution_count": 15,
   "id": "norman-bunch",
   "metadata": {
    "tags": []
   },
   "outputs": [],
   "source": [
    "layoutmethod = 'functional'\n",
    "\n",
    "#posG3D = layout_functional_tsne(G, FM,3,prplxty=10, density=1, l_rate=200, steps=250, metric='cosine') \n",
    "posG3D = layout_functional_umap(G, FM,3,n_neighbors=20, spread=1, min_dist=0.0, metric='cosine') "
   ]
  },
  {
   "cell_type": "markdown",
   "id": "defensive-assist",
   "metadata": {
    "jp-MarkdownHeadingCollapsed": true,
    "tags": []
   },
   "source": [
    "#### NODE2VEC (stellargraph)\n",
    "+ resource: https://colab.research.google.com/github/stellargraph/stellargraph/blob/master/demos/node-classification/node2vec-weighted-node-classification.ipynb#scrollTo=2RX_cXaLBiQZ"
   ]
  },
  {
   "cell_type": "markdown",
   "id": "paperback-settlement",
   "metadata": {},
   "source": [
    "2D"
   ]
  },
  {
   "cell_type": "code",
   "execution_count": 29,
   "id": "thorough-lithuania",
   "metadata": {
    "tags": []
   },
   "outputs": [],
   "source": [
    "layoutmethod = 'nodevec'\n",
    "\n",
    "#posG2D = layout_nodevec_tsne(G,2,prplxty=10, density=1, l_rate=200, steps=250, metric='cosine') \n",
    "posG2D = layout_nodevec_umap(G,2,n_neighbors=20, spread=1, min_dist=0.0, metric='cosine') "
   ]
  },
  {
   "cell_type": "markdown",
   "id": "annoying-auction",
   "metadata": {},
   "source": [
    "3D"
   ]
  },
  {
   "cell_type": "code",
   "execution_count": 9,
   "id": "planned-barcelona",
   "metadata": {
    "tags": []
   },
   "outputs": [],
   "source": [
    "layoutmethod = 'nodevec'\n",
    "\n",
    "#posG3D = layout_nodevec_tsne(G,3,prplxty=10, density=1, l_rate=200, steps=250, metric='cosine') \n",
    "posG3D = layout_nodevec_umap(G,3,n_neighbors=20, spread=1, min_dist=0.0, metric='cosine') "
   ]
  },
  {
   "cell_type": "markdown",
   "id": "characteristic-perspective",
   "metadata": {
    "jp-MarkdownHeadingCollapsed": true,
    "tags": []
   },
   "source": [
    "#### ATTRI2VEC (stellargraph)\n",
    "+ resource: https://stellargraph.readthedocs.io/en/v1.0.0/demos/embeddings/attri2vec-embeddings.html"
   ]
  },
  {
   "cell_type": "code",
   "execution_count": 56,
   "id": "sophisticated-executive",
   "metadata": {
    "tags": []
   },
   "outputs": [],
   "source": [
    "scale = 1\n",
    "val = 0\n",
    "rows = len(list(G.nodes()))\n",
    "\n",
    "feat_one = [(val) if i%3 else (scale) for i in range(rows)]\n",
    "feat_two = [(val) if i%2 or feat_one[i]==scale in feat_one else (scale) for i in range(rows)]\n",
    "feat_three = [(scale) if feat_one[i]==val and feat_two[i]==val and i not in feat_one and i not in feat_two else val for i in range(rows)]\n",
    "\n",
    "feat_matrix = np.vstack((feat_one,feat_two,feat_three))\n",
    "FM = pd.DataFrame(feat_matrix)\n",
    "FM.index = ['100','101','102']\n",
    "FM=FM.T\n",
    "FM.index = list(G.nodes())"
   ]
  },
  {
   "cell_type": "markdown",
   "id": "designing-mechanics",
   "metadata": {},
   "source": [
    "2D"
   ]
  },
  {
   "cell_type": "code",
   "execution_count": 55,
   "id": "animated-contrary",
   "metadata": {
    "tags": []
   },
   "outputs": [],
   "source": [
    "layoutmethod = 'attrivec'\n",
    "\n",
    "#posG2D = layout_attrivec_tsne(G,FM,2,prplxty=10, density=1, l_rate=200, steps=250, metric='cosine') \n",
    "posG2D = layout_attrivec_umap(G,FM,2,n_neighbors=20, spread=1, min_dist=0.0, metric='cosine')"
   ]
  },
  {
   "cell_type": "markdown",
   "id": "sensitive-french",
   "metadata": {},
   "source": [
    "3D"
   ]
  },
  {
   "cell_type": "code",
   "execution_count": null,
   "id": "instant-jumping",
   "metadata": {
    "tags": []
   },
   "outputs": [],
   "source": [
    "layoutmethod = 'attrivec'\n",
    "\n",
    "#posG3D = layout_attrivec_tsne(G,FM,3,prplxty=10, density=1, l_rate=200, steps=250, metric='cosine') \n",
    "posG3D = layout_attrivec_umap(G,FM,3,n_neighbors=20, spread=1, min_dist=0.0, metric='cosine')"
   ]
  },
  {
   "cell_type": "markdown",
   "id": "current-baker",
   "metadata": {
    "jp-MarkdownHeadingCollapsed": true,
    "tags": []
   },
   "source": [
    "#### GRAPHWAVE (stellargraph)\n",
    "+ resource: https://stellargraph.readthedocs.io/en/v1.0.0/demos/embeddings/graphwave-embeddings.html"
   ]
  },
  {
   "cell_type": "markdown",
   "id": "excessive-killing",
   "metadata": {},
   "source": [
    "2D"
   ]
  },
  {
   "cell_type": "code",
   "execution_count": 81,
   "id": "portuguese-destruction",
   "metadata": {
    "tags": []
   },
   "outputs": [],
   "source": [
    "layoutmethod = 'graphwave'\n",
    "\n",
    "#posG2D = layout_graphwave_tsne(G,2,prplxty=10, density=1, l_rate=200, steps=250, metric='cosine') \n",
    "posG2D = layout_graphwave_umap(G,2,n_neighbors=20, spread=1, min_dist=0.0, metric='cosine')"
   ]
  },
  {
   "cell_type": "markdown",
   "id": "pretty-welcome",
   "metadata": {},
   "source": [
    "3D"
   ]
  },
  {
   "cell_type": "code",
   "execution_count": null,
   "id": "chinese-europe",
   "metadata": {
    "tags": []
   },
   "outputs": [],
   "source": [
    "layoutmethod = 'graphwave'\n",
    "\n",
    "#posG3D = layout_graphwave_tsne(G,3,prplxty=10, density=1, l_rate=200, steps=250, metric='cosine') \n",
    "posG3D = layout_graphwave_umap(G,3,n_neighbors=20, spread=1, min_dist=0.0, metric='cosine')"
   ]
  },
  {
   "cell_type": "markdown",
   "id": "tribal-satellite",
   "metadata": {
    "jp-MarkdownHeadingCollapsed": true,
    "tags": []
   },
   "source": [
    "#### METAPATH2VEC (stellargraph)"
   ]
  },
  {
   "cell_type": "markdown",
   "id": "literary-batman",
   "metadata": {},
   "source": [
    "2D"
   ]
  },
  {
   "cell_type": "code",
   "execution_count": 52,
   "id": "premium-vulnerability",
   "metadata": {
    "tags": []
   },
   "outputs": [],
   "source": [
    "layoutmethod = 'metapathvec'\n",
    "\n",
    "#posG2D = layout_metapathvec_tsne(G,2,prplxty=10, density=1, l_rate=200, steps=250, metric='cosine') \n",
    "posG2D = layout_metapathvec_umap(G,2,n_neighbors=20, spread=1, min_dist=0.0, metric='cosine')"
   ]
  },
  {
   "cell_type": "markdown",
   "id": "electoral-ground",
   "metadata": {},
   "source": [
    "3D"
   ]
  },
  {
   "cell_type": "code",
   "execution_count": 11,
   "id": "addressed-garbage",
   "metadata": {
    "tags": []
   },
   "outputs": [],
   "source": [
    "layoutmethod = 'metapathvec'\n",
    "\n",
    "#posG3D = layout_metapathvec_tsne(G,3,prplxty=10, density=1, l_rate=200, steps=250, metric='cosine') \n",
    "posG3D = layout_metapathvec_umap(G,3,n_neighbors=20, spread=1, min_dist=0.0, metric='cosine')"
   ]
  },
  {
   "cell_type": "markdown",
   "id": "split-center",
   "metadata": {
    "tags": []
   },
   "source": [
    "____________\n",
    "# 3 | SET VISUAL NODE / EDGE SETTINGS\n",
    "____________"
   ]
  },
  {
   "cell_type": "markdown",
   "id": "demonstrated-optics",
   "metadata": {
    "tags": []
   },
   "source": [
    "#### SET NODES SIZES"
   ]
  },
  {
   "cell_type": "code",
   "execution_count": 5,
   "id": "liked-newfoundland",
   "metadata": {},
   "outputs": [],
   "source": [
    "scale_factor = 1.5\n",
    "size = list(draw_node_degree(G, scale_factor).values())\n",
    "d_size = dict(draw_node_degree(G, scale_factor))"
   ]
  },
  {
   "cell_type": "markdown",
   "id": "464052df-8df4-49d1-9aea-9d2698349195",
   "metadata": {},
   "source": [
    "#### SET NODE COLORS \n",
    "OPTION 1 : a color gradient - where all nodes will be colored due to a value"
   ]
  },
  {
   "cell_type": "code",
   "execution_count": 6,
   "id": "90199e9c-38eb-4a3a-b874-9f79ca4abfc0",
   "metadata": {},
   "outputs": [],
   "source": [
    "# a dictionary example : dict = {key = nodeID , value = any number}\n",
    "\n",
    "closeness = nx.closeness_centrality(G)\n",
    "d_node_colors = {}\n",
    "for node, cl in sorted(closeness.items(), key = lambda x: x[1], reverse = 1):\n",
    "    d_node_colors[node] = round(cl,4)\n",
    "\n",
    "col_pal = 'YlOrRd'\n",
    "d_colors = color_nodes_from_dict(G, d_node_colors, palette = col_pal)\n",
    "colors = list(d_colors.values())\n",
    "d_legend = None"
   ]
  },
  {
   "cell_type": "markdown",
   "id": "35495db1-a116-461a-b129-2ac635afd414",
   "metadata": {},
   "source": [
    "OPTION 2 : specific list of nodes to have a specific color; all others will be gray"
   ]
  },
  {
   "cell_type": "code",
   "execution_count": 11,
   "id": "bbd40802-fc60-41bb-ad85-e69c935b6087",
   "metadata": {},
   "outputs": [],
   "source": [
    "# the list_of_nodes shall be chosen\n",
    "list_of_nodes = list(G.nodes())[::10]\n",
    "color_for_list = '#ff0000'\n",
    "\n",
    "d_colors = color_nodes_from_list(G, l_nodes = list_of_nodes, col = color_for_list)\n",
    "colors = list(d_colors.values())\n",
    "\n",
    "first_groupname = 'example1'\n",
    "second_groupname = 'example2'\n",
    "d_legend = dict(zip(set(d_colors.values()),[first_groupname,second_groupname]))"
   ]
  },
  {
   "cell_type": "markdown",
   "id": "scientific-template",
   "metadata": {
    "tags": []
   },
   "source": [
    "_____ \n",
    "# 4 | VISUALIZING\n",
    "_____\n",
    "Layout Maps to choose from: \n",
    "+ Portrait 2D \n",
    "+ Portrait 3D \n",
    "+ Topographic Map\n",
    "+ Geodesic Map "
   ]
  },
  {
   "cell_type": "markdown",
   "id": "marine-clause",
   "metadata": {
    "tags": []
   },
   "source": [
    "### 2D PORTRAIT"
   ]
  },
  {
   "cell_type": "code",
   "execution_count": 12,
   "id": "48fb0ab8-e75e-4bf9-ac1d-271e79f30cd0",
   "metadata": {},
   "outputs": [
    {
     "data": {
      "text/plain": [
       "'output_plots/2Dlayouts/2Dportrait_global.html'"
      ]
     },
     "execution_count": 12,
     "metadata": {},
     "output_type": "execute_result"
    }
   ],
   "source": [
    "plot_2Dfigure(G, posG2D, \n",
    "              d_features, \n",
    "              d_colors, \n",
    "              d_size, \n",
    "              d_legend, \n",
    "              path = 'output_plots/2Dlayouts/', \n",
    "              fname = '2Dportrait'+'_'+layoutmethod, \n",
    "              scheme = 'light')"
   ]
  },
  {
   "cell_type": "markdown",
   "id": "radical-lafayette",
   "metadata": {
    "tags": []
   },
   "source": [
    "#### EXPORT FOR VRNetzer "
   ]
  },
  {
   "cell_type": "code",
   "execution_count": null,
   "id": "3afa553d-f59c-48b4-8b85-ca6b88c0fa01",
   "metadata": {},
   "outputs": [],
   "source": [
    "export_to_csv2D(VRpath = 'output_plots/VRlayouts/', \n",
    "                layout_namespace = '2Dportrait'+'_'+layoutmethod, \n",
    "                posG2D, \n",
    "                colors)"
   ]
  },
  {
   "cell_type": "markdown",
   "id": "opening-courtesy",
   "metadata": {
    "tags": []
   },
   "source": [
    "### 3D PORTRAIT "
   ]
  },
  {
   "cell_type": "code",
   "execution_count": 10,
   "id": "simplified-cream",
   "metadata": {},
   "outputs": [
    {
     "data": {
      "text/plain": [
       "'output_plots/3Dlayouts/3Dportraitglobal.html'"
      ]
     },
     "execution_count": 10,
     "metadata": {},
     "output_type": "execute_result"
    }
   ],
   "source": [
    "plot_3Dfigure(G, \n",
    "              posG3D, \n",
    "              d_features, \n",
    "              d_colors, \n",
    "              d_size, \n",
    "              d_legend, \n",
    "              path = 'output_plots/3Dlayouts/', \n",
    "              fname = '3Dportrait'+layoutmethod, \n",
    "              scheme = 'light')"
   ]
  },
  {
   "cell_type": "markdown",
   "id": "angry-billy",
   "metadata": {},
   "source": [
    "#### EXPORT FOR VRNetzer "
   ]
  },
  {
   "cell_type": "code",
   "execution_count": 21,
   "id": "thirty-mozambique",
   "metadata": {},
   "outputs": [],
   "source": [
    "export_to_csv3D(VRpath = 'output_plots/VRlayouts/', \n",
    "                layout_namespace = '3Dportrait'+layoutmethod, \n",
    "                posG3D, \n",
    "                colors)"
   ]
  },
  {
   "cell_type": "markdown",
   "id": "indie-vienna",
   "metadata": {
    "tags": []
   },
   "source": [
    "### TOPOGRAPHIC MAP"
   ]
  },
  {
   "cell_type": "code",
   "execution_count": 36,
   "id": "respective-plumbing",
   "metadata": {
    "tags": []
   },
   "outputs": [
    {
     "data": {
      "text/plain": [
       "'output_plots/3Dlayouts/Topographicglobal.html'"
      ]
     },
     "execution_count": 36,
     "metadata": {},
     "output_type": "execute_result"
    }
   ],
   "source": [
    "# ---------------------------------------------------------------------------\n",
    "# SELECT a z-Parameter: \n",
    "#\n",
    "# d_z > dictionary with keys=G.nodes and values=any int/float assigned to a node\n",
    "# \n",
    "# ---------------------------------------------------------------------------\n",
    "# an example: \n",
    "z_list = [np.random.random() for i in range(0, len(list(G.nodes())))]\n",
    "d_z = dict(zip(list(G.nodes()),z_list))\n",
    "posG_topographic = layout_topographic(posG2D, d_z)\n",
    "# ---------------------------------------------------------------------------\n",
    "\n",
    "plot_3Dfigure(G, \n",
    "              posG_topographic, \n",
    "              d_features, \n",
    "              d_colors, \n",
    "              d_size, \n",
    "              d_legend, \n",
    "              path = 'output_plots/3Dlayouts/', \n",
    "              fname = 'Topographic'+layoutmethod, \n",
    "              scheme = 'light')"
   ]
  },
  {
   "cell_type": "markdown",
   "id": "stock-arrest",
   "metadata": {},
   "source": [
    "#### EXPORT FOR VRNetzer "
   ]
  },
  {
   "cell_type": "code",
   "execution_count": 20,
   "id": "tough-dimension",
   "metadata": {},
   "outputs": [],
   "source": [
    "export_to_csv3D(VRpath = 'output_plots/VRlayouts/',\n",
    "                layout_namespace = 'Topographic'+layoutmethod, \n",
    "                posG_topographic, \n",
    "                colors)"
   ]
  },
  {
   "cell_type": "markdown",
   "id": "advanced-subcommittee",
   "metadata": {},
   "source": [
    "### GEODESIC MAP"
   ]
  },
  {
   "cell_type": "code",
   "execution_count": 37,
   "id": "noted-thompson",
   "metadata": {},
   "outputs": [
    {
     "data": {
      "text/plain": [
       "'output_plots/3Dlayouts/Geodesicglobal.html'"
      ]
     },
     "execution_count": 37,
     "metadata": {},
     "output_type": "execute_result"
    }
   ],
   "source": [
    "# ---------------------------------------------------------------------------\n",
    "#\n",
    "# SELECT a r-Parameter:\n",
    "#\n",
    "# d_rad > a dictionary with keys=G.nodes and values=any radius assigned to each node\n",
    "# ---------------------------------------------------------------------------\n",
    "# example: \n",
    "rad_list = [np.random.randint(1,4) for i in range(0, len(list(G.nodes())))]\n",
    "d_rad = dict(zip(list(G.nodes()), rad_list))\n",
    "posG_geodesic = layout_geodesic(G, d_rad)\n",
    "\n",
    "plot_3Dfigure(G, \n",
    "              posG_geodesic, \n",
    "              d_features, \n",
    "              d_colors, \n",
    "              d_size, \n",
    "              d_legend, \n",
    "              path = 'output_plots/3Dlayouts/', \n",
    "              fname = 'Geodesic'+layoutmethod, \n",
    "              scheme = 'light')"
   ]
  },
  {
   "cell_type": "markdown",
   "id": "decent-tracy",
   "metadata": {},
   "source": [
    "#### EXPORT FOR VRNetzer "
   ]
  },
  {
   "cell_type": "code",
   "execution_count": 12,
   "id": "diverse-lindsay",
   "metadata": {},
   "outputs": [],
   "source": [
    "export_to_csv3D(VRPath = 'output_plots/VRlayouts/', \n",
    "                layout_namespace = 'Geodesic'+layoutmethod, \n",
    "                posG_geodesic, \n",
    "                colors)"
   ]
  }
 ],
 "metadata": {
  "kernelspec": {
   "display_name": "myenv",
   "language": "python",
   "name": "myenv"
  },
  "language_info": {
   "codemirror_mode": {
    "name": "ipython",
    "version": 3
   },
   "file_extension": ".py",
   "mimetype": "text/x-python",
   "name": "python",
   "nbconvert_exporter": "python",
   "pygments_lexer": "ipython3",
   "version": "3.8.2"
  }
 },
 "nbformat": 4,
 "nbformat_minor": 5
}
