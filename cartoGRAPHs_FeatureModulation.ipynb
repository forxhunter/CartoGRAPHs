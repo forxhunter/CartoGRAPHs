{
 "cells": [
  {
   "cell_type": "markdown",
   "id": "precious-trailer",
   "metadata": {},
   "source": [
    "-----\n",
    "# cartoGRAPHs - FEATURE MODULATION\n",
    "-----"
   ]
  },
  {
   "cell_type": "code",
   "execution_count": 1,
   "id": "purple-james",
   "metadata": {},
   "outputs": [
    {
     "name": "stderr",
     "output_type": "stream",
     "text": [
      "/Users/chris/Desktop/Github/cartoGRAPHs/.venv/lib/python3.9/site-packages/tqdm/auto.py:21: TqdmWarning: IProgress not found. Please update jupyter and ipywidgets. See https://ipywidgets.readthedocs.io/en/stable/user_install.html\n",
      "  from .autonotebook import tqdm as notebook_tqdm\n",
      "2023-10-20 19:21:47.874718: I tensorflow/core/platform/cpu_feature_guard.cc:182] This TensorFlow binary is optimized to use available CPU instructions in performance-critical operations.\n",
      "To enable the following instructions: AVX2 AVX512F AVX512_VNNI FMA, in other operations, rebuild TensorFlow with the appropriate compiler flags.\n"
     ]
    },
    {
     "name": "stdout",
     "output_type": "stream",
     "text": [
      "DEBUG: in init: import done\n"
     ]
    }
   ],
   "source": [
    "from cartoGRAPHs import * "
   ]
  },
  {
   "cell_type": "markdown",
   "id": "southern-hacker",
   "metadata": {},
   "source": [
    "_____\n",
    "# DEFINE NETWORK + MATRICES\n",
    "_____"
   ]
  },
  {
   "cell_type": "code",
   "execution_count": 2,
   "id": "hispanic-transformation",
   "metadata": {},
   "outputs": [],
   "source": [
    "G = nx.cycle_graph(21) #9 # 21 \n",
    "\n",
    "l_features = ['nodeID:'+str(i) for i in list(G.nodes())]\n",
    "d_features = dict(zip(G.nodes(),l_features))"
   ]
  },
  {
   "cell_type": "markdown",
   "id": "aerial-knight",
   "metadata": {
    "tags": []
   },
   "source": [
    "### FUNCTIONAL"
   ]
  },
  {
   "cell_type": "code",
   "execution_count": 3,
   "id": "prime-metabolism",
   "metadata": {},
   "outputs": [],
   "source": [
    "scale = 1\n",
    "val = 0\n",
    "\n",
    "rows = len(list(G.nodes()))\n",
    "feat_one = [(val) if i%3 else (scale) for i in range(rows)]\n",
    "feat_two = [(val) if i%2 or feat_one[i]==scale in feat_one else (scale) for i in range(rows)]\n",
    "feat_three = [(scale) if feat_one[i]==val and feat_two[i]==val else val for i in range(rows)]\n",
    "feat_matrix = np.vstack((feat_one,feat_two,feat_three))\n",
    "\n",
    "DF_functional = pd.DataFrame(feat_matrix)\n",
    "DF_functional.index = [100,101,102]\n",
    "\n",
    "\n",
    "# ----------------------------------\n",
    "# Visual settings based on features \n",
    "# ----------------------------------\n",
    "col_one = 'orange' \n",
    "col_two = 'cornflowerblue'\n",
    "col_three = 'skyblue'\n",
    "\n",
    "colors_assigned_unsorted = {}\n",
    "for i,feat in enumerate(feat_matrix):\n",
    "    if i == 0:\n",
    "        col = col_one\n",
    "    elif i == 1:\n",
    "        col = col_two\n",
    "    elif i == 2: \n",
    "        col = col_three\n",
    "    for i,v in enumerate(feat):\n",
    "        if v == 1:\n",
    "            colors_assigned_unsorted[i]=col\n",
    "        else:\n",
    "            pass\n",
    "        \n",
    "colors_assigned = {key:colors_assigned_unsorted[key] for key in G.nodes()}\n",
    "d_colors = colors_assigned \n",
    "color_list = list(colors_assigned.values())\n",
    "\n",
    "first_groupname = 'feature1'\n",
    "second_groupname = 'feature2'\n",
    "third_groupname = 'feature3'\n",
    "d_legend = dict(zip(set(d_colors.values()),[first_groupname,second_groupname,third_groupname]))\n",
    "\n",
    "# ----------------------------------\n",
    "# Node sizes \n",
    "# ----------------------------------\n",
    "scale_factor = 10\n",
    "size = list(draw_node_degree(G, scale_factor).values())\n",
    "d_size = dict(draw_node_degree(G, scale_factor))"
   ]
  },
  {
   "cell_type": "markdown",
   "id": "revised-appointment",
   "metadata": {
    "tags": []
   },
   "source": [
    "### STRUCTURAL "
   ]
  },
  {
   "cell_type": "code",
   "execution_count": 5,
   "id": "short-appearance",
   "metadata": {},
   "outputs": [],
   "source": [
    "r=0.9\n",
    "alpha=1.0\n",
    "\n",
    "A = nx.adjacency_matrix(G)\n",
    "FM_m_array = rnd_walk_matrix2(A, r, alpha, len(G.nodes()))\n",
    "DF_structural = pd.DataFrame(FM_m_array).T\n",
    "DF_structural.index = list(G.nodes())\n",
    "DF_structural.columns = list(G.nodes()) "
   ]
  },
  {
   "cell_type": "markdown",
   "id": "1b8155dc-ec68-42bf-82bd-7f8c714ea85d",
   "metadata": {},
   "source": [
    "_____\n",
    "# FEATURE MODULATED LAYOUT\n",
    "_____"
   ]
  },
  {
   "cell_type": "code",
   "execution_count": 6,
   "id": "09ea9b2b-112a-41f9-81c7-f615895d615f",
   "metadata": {},
   "outputs": [
    {
     "name": "stderr",
     "output_type": "stream",
     "text": [
      "/Users/chris/Desktop/Github/cartoGRAPHs/.venv/lib/python3.9/site-packages/umap/umap_.py:1943: UserWarning: n_jobs value -1 overridden to 1 by setting random_state. Use no seed for parallelism.\n",
      "  warn(f\"n_jobs value {self.n_jobs} overridden to 1 by setting random_state. Use no seed for parallelism.\")\n",
      "/Users/chris/Desktop/Github/cartoGRAPHs/.venv/lib/python3.9/site-packages/numba/np/ufunc/parallel.py:371: NumbaWarning: The TBB threading layer requires TBB version 2021 update 6 or later i.e., TBB_INTERFACE_VERSION >= 12060. Found TBB_INTERFACE_VERSION = 12050. The TBB threading layer is disabled.\n",
      "  warnings.warn(problem)\n",
      "OMP: Info #271: omp_set_nested routine deprecated, please use omp_set_max_active_levels instead.\n",
      "/Users/chris/Desktop/Github/cartoGRAPHs/.venv/lib/python3.9/site-packages/umap/umap_.py:1943: UserWarning: n_jobs value -1 overridden to 1 by setting random_state. Use no seed for parallelism.\n",
      "  warn(f\"n_jobs value {self.n_jobs} overridden to 1 by setting random_state. Use no seed for parallelism.\")\n"
     ]
    }
   ],
   "source": [
    "scalar_val = 0.5\n",
    "DF_merge = feature_modulation(DF_structural,DF_functional, scalar_val)\n",
    "\n",
    "layout_method = 'functional'\n",
    "posG2D = generate_layout(G, \n",
    "                        dim = 2, \n",
    "                        layoutmethod = layout_method,\n",
    "                        dimred_method='umap',\n",
    "                        Matrix = DF_merge\n",
    "                        )\n",
    "\n",
    "posG3D = generate_layout(G, \n",
    "                        dim = 3, \n",
    "                        layoutmethod = layout_method,\n",
    "                        dimred_method='umap',\n",
    "                        Matrix = DF_merge\n",
    "                        )"
   ]
  },
  {
   "cell_type": "markdown",
   "id": "842ffde0-c900-4f69-b954-a9c2a36df84c",
   "metadata": {},
   "source": [
    "_____\n",
    "# VISUALIZATION\n",
    "_____"
   ]
  },
  {
   "cell_type": "code",
   "execution_count": 7,
   "id": "d6c9714f-e825-4f68-be22-bbd9b709710f",
   "metadata": {},
   "outputs": [
    {
     "data": {
      "text/plain": [
       "'3Dportrait_functional.html'"
      ]
     },
     "execution_count": 7,
     "metadata": {},
     "output_type": "execute_result"
    }
   ],
   "source": [
    "plot_2Dfigure(G, posG2D, \n",
    "              d_features, \n",
    "              d_colors, \n",
    "              d_size, \n",
    "              d_legend, \n",
    "              path = '', \n",
    "              fname = '2Dportrait'+'_'+layout_method, \n",
    "              scheme = 'light')\n",
    "\n",
    "plot_3Dfigure(G, posG3D, \n",
    "              d_features, \n",
    "              d_colors, \n",
    "              d_size, \n",
    "              d_legend, \n",
    "              path = '', \n",
    "              fname = '3Dportrait'+'_'+layout_method, \n",
    "              scheme = 'light')"
   ]
  },
  {
   "cell_type": "code",
   "execution_count": null,
   "id": "5dedba35-208b-4984-8dcc-72a78f7d5d24",
   "metadata": {},
   "outputs": [],
   "source": []
  }
 ],
 "metadata": {
  "kernelspec": {
   "display_name": ".venv",
   "language": "python",
   "name": "python3"
  },
  "language_info": {
   "codemirror_mode": {
    "name": "ipython",
    "version": 3
   },
   "file_extension": ".py",
   "mimetype": "text/x-python",
   "name": "python",
   "nbconvert_exporter": "python",
   "pygments_lexer": "ipython3",
   "version": "3.9.10"
  }
 },
 "nbformat": 4,
 "nbformat_minor": 5
}
