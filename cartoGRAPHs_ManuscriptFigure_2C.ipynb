{
 "cells": [
  {
   "cell_type": "markdown",
   "id": "surgical-wrist",
   "metadata": {},
   "source": [
    "-----\n",
    "# cartoGRAPHs - Figure 2C\n",
    "-----"
   ]
  },
  {
   "cell_type": "code",
   "execution_count": 1,
   "id": "877c61ef-ce4d-4f27-9347-deb1ca95c89d",
   "metadata": {},
   "outputs": [
    {
     "name": "stdout",
     "output_type": "stream",
     "text": [
      "/Users/chris/Desktop/Github/cartoGRAPHs/pyfiles\n"
     ]
    }
   ],
   "source": [
    "#from cartoGRAPHs import * \n",
    "\n",
    "%cd pyfiles \n",
    "from cartoGRAPHs import *"
   ]
  },
  {
   "cell_type": "code",
   "execution_count": 2,
   "id": "6a8ed2a1",
   "metadata": {},
   "outputs": [
    {
     "name": "stdout",
     "output_type": "stream",
     "text": [
      "/Users/chris/Desktop/Github/cartoGRAPHs\n"
     ]
    }
   ],
   "source": [
    "%cd .."
   ]
  },
  {
   "cell_type": "markdown",
   "id": "synthetic-leadership",
   "metadata": {},
   "source": [
    "_____\n",
    "# HUMAN PPI NETWORK\n",
    "_____"
   ]
  },
  {
   "cell_type": "code",
   "execution_count": 3,
   "id": "b4ed3f3e-9445-4400-882e-245ac70b1b20",
   "metadata": {},
   "outputs": [],
   "source": [
    "organism = 'human'\n",
    "G = load_graph(organism)\n",
    "\n",
    "d_centralities = load_centralities(G, organism)\n",
    "df_centralities = pd.DataFrame(d_centralities).T\n",
    "df_centralities.columns = ['degree','closeness', 'betweeness', 'eigenvector']\n",
    "essential_genes,non_ess_genes,notdefined_genes = load_essentiality(G, organism)\n",
    "\n",
    "d_gene_sym = load_genesymbols(G, organism)\n",
    "l_features = list(d_gene_sym.values())\n",
    "\n",
    "# Human specific > to include Disease Ontology\n",
    "if organism == 'human':\n",
    "    d_gene_do = pickle.load( open( \"input/d_gene_do.pkl\", \"rb\" ) )\n",
    "    d_do_genes = pickle.load( open( \"input/d_do_genes.pkl\", \"rb\" ) )\n",
    "    d_do_names = pickle.load( open( \"input/DO_names.pkl\", \"rb\" ) )\n",
    "    d_names_do = {y:x for x,y in d_do_names.items()}\n",
    "else: \n",
    "    pass\n",
    "\n",
    "netlayout = 'global'\n",
    "DM = load_datamatrix(G,organism, netlayout)"
   ]
  },
  {
   "cell_type": "code",
   "execution_count": 4,
   "id": "f9e81f28",
   "metadata": {},
   "outputs": [],
   "source": [
    "G.name = \"Human Interactome\"\n",
    "G.graph[\"desc\"] = \"The human interactome is a complex, dynamic network of protein-protein interactions that are essential for many biological processes. It is estimated that the human interactome consists of hundreds of thousands of interactions between thousands of proteins. These interactions can take many forms, including direct physical binding, allosteric regulation, and post-translational modifications. Many proteins participate in multiple interactions, forming highly interconnected clusters or modules within the network. The human interactome is not static and can change in response to cellular and environmental cues. \""
   ]
  },
  {
   "cell_type": "markdown",
   "id": "lasting-mainstream",
   "metadata": {
    "tags": []
   },
   "source": [
    "_____ \n",
    "## SPATIAL EMBEDDING\n",
    "_____"
   ]
  },
  {
   "cell_type": "markdown",
   "id": "facial-valuable",
   "metadata": {},
   "source": [
    "### 2D PORTRAIT"
   ]
  },
  {
   "cell_type": "code",
   "execution_count": 5,
   "id": "9959cf51-a25a-43fa-94aa-b819b9139886",
   "metadata": {},
   "outputs": [
    {
     "name": "stdout",
     "output_type": "stream",
     "text": [
      "CPU times: user 3min, sys: 17 s, total: 3min 17s\n",
      "Wall time: 2min 25s\n"
     ]
    }
   ],
   "source": [
    "%%time \n",
    "\n",
    "posG_umap2D = layout_portrait_umap(G,DM,2,n_neighbors=12, spread=1, min_dist=0.2, metric='cosine')  #layout_portrait_umap(G,DM,2,n_neighbors=8, spread=6, min_dist=0.9, metric='cosine') \n",
    "posG = posG_umap2D"
   ]
  },
  {
   "cell_type": "markdown",
   "id": "insured-entity",
   "metadata": {
    "tags": []
   },
   "source": [
    "____________\n",
    "## VISUAL SETTINGS + PLOT PREPARATION\n",
    "____________"
   ]
  },
  {
   "cell_type": "markdown",
   "id": "6e11a2c2-c7cd-471b-8b35-a79b4ab711f9",
   "metadata": {},
   "source": [
    "### NODES GENERAL "
   ]
  },
  {
   "cell_type": "code",
   "execution_count": 6,
   "id": "centered-outreach",
   "metadata": {
    "tags": []
   },
   "outputs": [],
   "source": [
    "opacity_nodes = 0.8\n",
    "node_edge_col = '#696969' \n",
    "node_linewidth = 0.01\n",
    "\n",
    "scale_factor3D = 0.025\n",
    "size = list(draw_node_degree_3D(G, scale_factor3D).values())\n",
    "\n",
    "edge_color = '#ACACAC'\n",
    "width_edges = 0.15\n",
    "opacity_edges = 0.1"
   ]
  },
  {
   "cell_type": "markdown",
   "id": "conventional-youth",
   "metadata": {
    "tags": []
   },
   "source": [
    "---\n",
    "## TOPOGRAPHIC MAP \n",
    "---"
   ]
  },
  {
   "cell_type": "code",
   "execution_count": 7,
   "id": "promotional-cream",
   "metadata": {},
   "outputs": [],
   "source": [
    "z_feat = 'disease'\n",
    "DM_feature  = pd.read_pickle('input/Features_Disease_Dataframe_Human.pickle')\n",
    "\n",
    "# set gene list (= G.nodes())\n",
    "genes_assoc = []\n",
    "for i in DM_feature.index:\n",
    "    genes_assoc.append(str(i))\n",
    "\n",
    "genes_notassoc = [] \n",
    "for g in G.nodes():\n",
    "    if g not in genes_assoc:\n",
    "        genes_notassoc.append(g)\n",
    "\n",
    "features_counted = (DM_feature == 1).astype(int).sum(axis=1)\n",
    "d_features_counted = dict(zip(genes_assoc, list(features_counted)))\n",
    "    \n",
    "d_rest = {}\n",
    "for i in genes_notassoc: \n",
    "    d_rest[i] = -20\n",
    "    \n",
    "d_param_unsorted = {**d_features_counted, **d_rest}\n",
    "d_z = {key:d_param_unsorted[key] for key in G.nodes()}\n",
    "    \n",
    "d_clos = {}\n",
    "for k,v in d_centralities.items():\n",
    "    d_clos[k] = v[1]\n",
    "\n",
    "d_nodecolors = d_clos \n",
    "col_pal = 'YlOrRd'\n",
    "\n",
    "d_colors = color_nodes_from_dict(G, d_nodecolors, palette = col_pal)\n",
    "colors = list(d_colors.values())\n",
    "\n",
    "posG3D = layout_topographic(posG, d_z)"
   ]
  },
  {
   "cell_type": "markdown",
   "id": "laden-dining",
   "metadata": {
    "tags": []
   },
   "source": [
    "---\n",
    "## PLOT \n",
    "---"
   ]
  },
  {
   "cell_type": "code",
   "execution_count": 8,
   "id": "regulation-arnold",
   "metadata": {},
   "outputs": [
    {
     "data": {
      "text/plain": [
       "'output/FIG2C-topographic_z_disease_global_human_light.html'"
      ]
     },
     "execution_count": 8,
     "metadata": {},
     "output_type": "execute_result"
    }
   ],
   "source": [
    "umap_nodes = get_trace_nodes_3D(posG3D, l_features, colors, size, opacity_nodes)\n",
    "umap_edges = get_trace_edges_3D(G, posG3D, edge_color, opac = 0.05, linewidth = 0.5)\n",
    "data = [umap_edges, umap_nodes]\n",
    "\n",
    "path = 'output/'\n",
    "schema = 'light' #'dark'\n",
    "fname = 'FIG2C-topographic_z_'+z_feat+'_'+netlayout+'_'+organism+'_'+schema\n",
    "\n",
    "plot_3D(data,path,fname, schema)"
   ]
  },
  {
   "cell_type": "markdown",
   "id": "9e325f7e",
   "metadata": {},
   "source": [
    "### "
   ]
  },
  {
   "cell_type": "markdown",
   "id": "c039ba31",
   "metadata": {},
   "source": [
    "---\n",
    "## VRNETZER2 (multiplayer version) EXPORT\n",
    "---"
   ]
  },
  {
   "cell_type": "code",
   "execution_count": 9,
   "id": "534c14e6",
   "metadata": {},
   "outputs": [],
   "source": [
    "# annotations \n",
    "\n",
    "d_gene_donames = {}\n",
    "for node, doid in d_gene_do.items():\n",
    "    sub=[]\n",
    "    for do,name in d_do_names.items():\n",
    "        if str(do) in doid:\n",
    "            sub.append(name)\n",
    "        d_gene_donames[node] = sub\n",
    "\n",
    "d_allgene_donames = {}\n",
    "for g in G.nodes(): \n",
    "    if g in d_gene_donames.keys():\n",
    "        d_allgene_donames[g] = d_gene_donames[g]\n",
    "    else:\n",
    "        d_allgene_donames[g] = 'No Disease associated.'\n",
    "\n",
    "# node annotations\n",
    "l_annotations_csv = ['Gene: '+str(i)+'; ID:  '+str(j)+'; Diseases: '+str(k) for i,j,k in zip(d_gene_sym.values(), d_gene_sym.keys(),d_allgene_donames.values())]\n",
    "l_annotations_json = [list((\"Gene: \"+str(i),\"ID: \"+str(j),\"Diseases: \"+str(k))) for i,j,k in zip(d_gene_sym.values(), d_gene_sym.keys(), d_allgene_donames.values())]\n",
    "d_annotations_csv = dict(zip(list(G.nodes()),l_annotations_csv))\n",
    "d_annotations_json = dict(zip(list(G.nodes()),l_annotations_json))"
   ]
  },
  {
   "cell_type": "code",
   "execution_count": 10,
   "id": "818c93f4",
   "metadata": {},
   "outputs": [],
   "source": [
    "# link colors \n",
    "\n",
    "# only show links between disease assoc. proteins (i.e. z != 0) \n",
    "d_links_colors = {}\n",
    "for link in G.edges():\n",
    "    if link[0] in genes_assoc and link[1] in genes_assoc:\n",
    "        d_links_colors[link] = '#696969'\n",
    "    else:\n",
    "        d_links_colors[link] = (0,0,0,0)\n"
   ]
  },
  {
   "cell_type": "code",
   "execution_count": 11,
   "id": "c3e916ed",
   "metadata": {},
   "outputs": [],
   "source": [
    "# no clusters\n",
    "clusterlist = [\"\", 0]\n",
    "dict_for_cluster = {}"
   ]
  },
  {
   "cell_type": "code",
   "execution_count": 12,
   "id": "f394b1ce",
   "metadata": {},
   "outputs": [
    {
     "name": "stdout",
     "output_type": "stream",
     "text": [
      "Exported Files: \n",
      " ['VR/temp/2C-HumanInteractome-topographic2D_nodepositions.csv', 'VR/temp/2C-HumanInteractome-topographic2D_nodecolors.csv', 'VR/temp/2C-HumanInteractome-topographic2D_nodeproperties.csv', 'VR/temp/2C-HumanInteractome-topographic2D_links.csv', 'VR/temp/2C-HumanInteractome-topographic2D_linkcolors.csv', 'VR/temp/2C-HumanInteractome-topographic2D_clusterlabels.csv']\n",
      "Exported File: \n",
      " ['VR/temp/2C-HumanInteractome-topographic2D.json']\n",
      "Exported Files: \n",
      " ['VR/temp/2C-HumanInteractome-topographic3D_nodepositions.csv', 'VR/temp/2C-HumanInteractome-topographic3D_nodecolors.csv', 'VR/temp/2C-HumanInteractome-topographic3D_nodeproperties.csv', 'VR/temp/2C-HumanInteractome-topographic3D_links.csv', 'VR/temp/2C-HumanInteractome-topographic3D_linkcolors.csv', 'VR/temp/2C-HumanInteractome-topographic3D_clusterlabels.csv']\n",
      "Exported File: \n",
      " ['VR/temp/2C-HumanInteractome-topographic3D.json']\n"
     ]
    }
   ],
   "source": [
    "# ---------------\n",
    "# 2D\n",
    "#----------------\n",
    "filename = 'VR/temp/'+'2C-'+G.name+'-topographic2D'\n",
    "exportVRNetzer_CSV(filename, G, posG, d_colors, d_annotations_csv, d_links_colors, clusterlist)\n",
    "exportVRNetzer_JSON(filename, G, posG, dict_for_cluster, d_colors, d_annotations_json, d_links_colors)\n",
    "\n",
    "# ---------------\n",
    "# 3D\n",
    "#----------------  \n",
    "filename = 'VR/temp/'+'2C-'+G.name+'-topographic3D'\n",
    "exportVRNetzer_CSV(filename, G, posG3D, d_colors, d_annotations_csv, d_links_colors, clusterlist)\n",
    "exportVRNetzer_JSON(filename, G, posG3D, dict_for_cluster, d_colors, d_annotations_json, d_links_colors)\n"
   ]
  },
  {
   "cell_type": "code",
   "execution_count": null,
   "id": "1737b6c2",
   "metadata": {},
   "outputs": [],
   "source": []
  },
  {
   "cell_type": "code",
   "execution_count": null,
   "id": "7bc5f0aa",
   "metadata": {},
   "outputs": [],
   "source": []
  }
 ],
 "metadata": {
  "kernelspec": {
   "display_name": "Python 3.8.2 ('myenv')",
   "language": "python",
   "name": "python3"
  },
  "language_info": {
   "codemirror_mode": {
    "name": "ipython",
    "version": 3
   },
   "file_extension": ".py",
   "mimetype": "text/x-python",
   "name": "python",
   "nbconvert_exporter": "python",
   "pygments_lexer": "ipython3",
   "version": "3.8.2"
  },
  "vscode": {
   "interpreter": {
    "hash": "9c9cd4a3268113887b81735fa6cc766fbebe5dfeb6de69634fade1da873e164c"
   }
  }
 },
 "nbformat": 4,
 "nbformat_minor": 5
}
