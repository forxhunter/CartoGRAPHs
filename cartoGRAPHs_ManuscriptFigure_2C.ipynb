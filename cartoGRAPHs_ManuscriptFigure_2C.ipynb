{
 "cells": [
  {
   "cell_type": "markdown",
   "id": "surgical-wrist",
   "metadata": {},
   "source": [
    "-----\n",
    "# cartoGRAPHs - Figure 2C\n",
    "-----"
   ]
  },
  {
   "cell_type": "code",
   "execution_count": 2,
   "id": "under-weight",
   "metadata": {},
   "outputs": [
    {
     "name": "stderr",
     "output_type": "stream",
     "text": [
      "2021-11-23 11:11:54.361647: I tensorflow/compiler/jit/xla_cpu_device.cc:41] Not creating XLA devices, tf_xla_enable_xla_devices not set\n",
      "2021-11-23 11:11:54.362021: I tensorflow/core/platform/cpu_feature_guard.cc:142] This TensorFlow binary is optimized with oneAPI Deep Neural Network Library (oneDNN) to use the following CPU instructions in performance-critical operations:  AVX2 AVX512F FMA\n",
      "To enable them in other operations, rebuild TensorFlow with the appropriate compiler flags.\n"
     ]
    }
   ],
   "source": [
    "from cartoGRAPHs import *"
   ]
  },
  {
   "cell_type": "markdown",
   "id": "synthetic-leadership",
   "metadata": {},
   "source": [
    "_____\n",
    "# HUMAN PPI NETWORK\n",
    "_____"
   ]
  },
  {
   "cell_type": "code",
   "execution_count": 3,
   "id": "b4ed3f3e-9445-4400-882e-245ac70b1b20",
   "metadata": {},
   "outputs": [],
   "source": [
    "organism = 'human'\n",
    "G = load_graph(organism)\n",
    "\n",
    "d_centralities = load_centralities(G, organism)\n",
    "df_centralities = pd.DataFrame(d_centralities).T\n",
    "df_centralities.columns = ['degree','closeness', 'betweeness', 'eigenvector']\n",
    "essential_genes,non_ess_genes,notdefined_genes = load_essentiality(G, organism)\n",
    "\n",
    "d_gene_sym = load_genesymbols(G, organism)\n",
    "l_features = list(d_gene_sym.values())\n",
    "\n",
    "# Human specific > to include Disease Ontology\n",
    "if organism == 'human':\n",
    "    d_gene_do = pickle.load( open( \"input/d_gene_do.pkl\", \"rb\" ) )\n",
    "    d_do_genes = pickle.load( open( \"input/d_do_genes.pkl\", \"rb\" ) )\n",
    "    d_do_names = pickle.load( open( \"input/DO_names.pkl\", \"rb\" ) )\n",
    "    d_names_do = {y:x for x,y in d_do_names.items()}\n",
    "else: \n",
    "    pass\n",
    "\n",
    "netlayout = 'global'\n",
    "DM = load_datamatrix(G,organism, netlayout)"
   ]
  },
  {
   "cell_type": "markdown",
   "id": "lasting-mainstream",
   "metadata": {
    "tags": []
   },
   "source": [
    "_____ \n",
    "## SPATIAL EMBEDDING\n",
    "_____"
   ]
  },
  {
   "cell_type": "markdown",
   "id": "facial-valuable",
   "metadata": {},
   "source": [
    "### 2D PORTRAIT"
   ]
  },
  {
   "cell_type": "code",
   "execution_count": 290,
   "id": "9959cf51-a25a-43fa-94aa-b819b9139886",
   "metadata": {},
   "outputs": [
    {
     "name": "stdout",
     "output_type": "stream",
     "text": [
      "CPU times: user 16.9 s, sys: 652 ms, total: 17.6 s\n",
      "Wall time: 14.4 s\n"
     ]
    }
   ],
   "source": [
    "%%time \n",
    "\n",
    "posG_umap2D = layout_portrait_umap(G,DM,2,n_neighbors=8, spread=1, min_dist=0.0, metric='cosine')  #layout_portrait_umap(G,DM,2,n_neighbors=8, spread=6, min_dist=0.9, metric='cosine') \n",
    "posG = posG_umap2D"
   ]
  },
  {
   "cell_type": "markdown",
   "id": "insured-entity",
   "metadata": {
    "tags": []
   },
   "source": [
    "____________\n",
    "## VISUAL SETTINGS + PLOT PREPARATION\n",
    "____________"
   ]
  },
  {
   "cell_type": "markdown",
   "id": "6e11a2c2-c7cd-471b-8b35-a79b4ab711f9",
   "metadata": {},
   "source": [
    "### NODES GENERAL "
   ]
  },
  {
   "cell_type": "code",
   "execution_count": 280,
   "id": "centered-outreach",
   "metadata": {
    "tags": []
   },
   "outputs": [],
   "source": [
    "opacity_nodes = 0.8\n",
    "node_edge_col = '#696969' \n",
    "node_linewidth = 0.1\n",
    "\n",
    "scale_factor = 0.55\n",
    "size = list(draw_node_degree(G, scale_factor).values())\n",
    "\n",
    "scale_factor3D = 0.025\n",
    "size3d = list(draw_node_degree_3D(G, scale_factor3D).values())\n",
    "\n",
    "nodesglow_diameter = 8.0\n",
    "nodesglow_transparency = 0.01 # 0.01\n",
    "\n",
    "opacity_edges = 0.05\n",
    "width = 0.1"
   ]
  },
  {
   "cell_type": "markdown",
   "id": "conventional-youth",
   "metadata": {
    "tags": []
   },
   "source": [
    "---\n",
    "## TOPOGRAPHIC MAP \n",
    "---"
   ]
  },
  {
   "cell_type": "code",
   "execution_count": 58,
   "id": "promotional-cream",
   "metadata": {},
   "outputs": [],
   "source": [
    "z_feat = 'disease'\n",
    "DM_feature  = pd.read_pickle('input/Features_Disease_Dataframe_Human.pickle')\n",
    "\n",
    "# set gene list (= G.nodes())\n",
    "genes_assoc = []\n",
    "for i in DM_feature.index:\n",
    "    genes_assoc.append(str(i))\n",
    "\n",
    "genes_notassoc = [] \n",
    "for g in G.nodes():\n",
    "    if g not in genes_assoc:\n",
    "        genes_notassoc.append(g)\n",
    "\n",
    "features_counted = (DM_feature == 1).astype(int).sum(axis=1)\n",
    "d_features_counted = dict(zip(genes_assoc, list(features_counted)))\n",
    "    \n",
    "d_rest = {}\n",
    "for i in genes_notassoc: \n",
    "    d_rest[i] = -20\n",
    "    \n",
    "d_param_unsorted = {**d_features_counted, **d_rest}\n",
    "d_z = {key:d_param_unsorted[key] for key in G.nodes()}\n",
    "    \n",
    "d_clos = {}\n",
    "for k,v in d_centralities.items():\n",
    "    d_clos[k] = v[1]\n",
    "\n",
    "d_nodecolors = d_clos \n",
    "col_pal = 'YlOrRd'\n",
    "\n",
    "d_colors = color_nodes_from_dict(G, d_nodecolors, palette = col_pal)\n",
    "colors = list(d_colors.values())\n",
    "edge_color = '#ACACAC'\n",
    "width_edges = 0.15\n",
    "opacity_edges = 0.1\n",
    "\n",
    "umap_nodes = get_trace_nodes_3D(posG, l_features, colors, size, opacity_nodes)\n",
    "umap_edges = get_trace_edges_3D(G, posG, edge_color, opac = 0.05, linewidth = 0.5)\n",
    "data = [umap_edges, umap_nodes]"
   ]
  },
  {
   "cell_type": "markdown",
   "id": "laden-dining",
   "metadata": {
    "tags": []
   },
   "source": [
    "---\n",
    "## PLOT \n",
    "---"
   ]
  },
  {
   "cell_type": "code",
   "execution_count": 59,
   "id": "regulation-arnold",
   "metadata": {},
   "outputs": [
    {
     "data": {
      "text/plain": [
       "'output_plots/Topographic/topographic_z_disease_local_human_light.html'"
      ]
     },
     "execution_count": 59,
     "metadata": {},
     "output_type": "execute_result"
    }
   ],
   "source": [
    "# ---------------------------------------------------------------------------\n",
    "#\n",
    "# Choose a 2D layout as basis\n",
    "#\n",
    "# 1. either calculate one e.g.: \n",
    "# posG_2Dportrait = layout_portrait_umap(G,DM,2,n_neighbors=20, spread=1, min_dist=0.0, metric='cosine') \n",
    "# ---------------------------------------------------------------------------\n",
    "#\n",
    "# 2. or use a precalculated 2D layout \n",
    "posG_2D = posG_umap2D\n",
    "# ---------------------------------------------------------------------------\n",
    "\n",
    "posG = layout_topographic(posG_2D, d_z)\n",
    "\n",
    "path = 'output_plots/Topographic/'\n",
    "schema = 'light' #'dark'\n",
    "fname = 'topographic_z_'+z_feat+'_'+netlayout+'_'+organism+'_'+schema\n",
    "\n",
    "plot_3D(data,path,fname, schema)"
   ]
  }
 ],
 "metadata": {
  "kernelspec": {
   "display_name": "myenv",
   "language": "python",
   "name": "myenv"
  },
  "language_info": {
   "codemirror_mode": {
    "name": "ipython",
    "version": 3
   },
   "file_extension": ".py",
   "mimetype": "text/x-python",
   "name": "python",
   "nbconvert_exporter": "python",
   "pygments_lexer": "ipython3",
   "version": "3.8.2"
  }
 },
 "nbformat": 4,
 "nbformat_minor": 5
}
