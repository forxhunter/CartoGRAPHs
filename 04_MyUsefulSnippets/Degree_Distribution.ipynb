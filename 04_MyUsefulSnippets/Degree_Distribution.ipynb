{
 "cells": [
  {
   "cell_type": "markdown",
   "metadata": {},
   "source": [
    "### DEGREE DISTRIBUTION of GRAPH "
   ]
  },
  {
   "cell_type": "code",
   "execution_count": null,
   "metadata": {},
   "outputs": [],
   "source": [
    "l_k = list(degs.values())\n",
    "set_k = set(l_k)\n",
    "print('Degree min:', min(l_k))\n",
    "print('Degree max:', max(l_k))\n",
    "\n",
    "d_k_f = {}\n",
    "for k in set_k:\n",
    "    d_k_f[k] = l_k.count(k)\n",
    "#print('Degree counts:',d_k_f)\n",
    "\n",
    "mean_deg = np.mean(l_k)\n",
    "var_deg = np.var(l_k)\n",
    "print('Degree Mean:', mean_deg)\n",
    "print('Degree Variant:', var_deg)\n",
    "\n",
    "plt.figure(figsize=(10,10))\n",
    "plt.title('Degree Distribution', fontsize = 20)\n",
    "plt.xlabel('Degree', fontsize = 14)\n",
    "plt.ylabel('P(k)', fontsize = 14)\n",
    "plt.loglog(list(d_k_f.keys()),list(d_k_f.values()),'o',c='#008CA0')\n",
    "plt.show()\n",
    "\n",
    "#plt.savefig('PPIdegreedist.png')"
   ]
  }
 ],
 "metadata": {
  "kernelspec": {
   "display_name": "Python 3",
   "language": "python",
   "name": "python3"
  },
  "language_info": {
   "codemirror_mode": {
    "name": "ipython",
    "version": 3
   },
   "file_extension": ".py",
   "mimetype": "text/x-python",
   "name": "python",
   "nbconvert_exporter": "python",
   "pygments_lexer": "ipython3",
   "version": "3.7.4"
  }
 },
 "nbformat": 4,
 "nbformat_minor": 4
}
