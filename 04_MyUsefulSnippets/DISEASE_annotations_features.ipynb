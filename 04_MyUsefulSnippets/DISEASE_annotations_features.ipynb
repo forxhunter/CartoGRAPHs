{
 "cells": [
  {
   "cell_type": "markdown",
   "metadata": {},
   "source": [
    "### DISEASE Annotation"
   ]
  },
  {
   "cell_type": "code",
   "execution_count": null,
   "metadata": {},
   "outputs": [],
   "source": [
    "all_doids = list(d_do_genes.keys())\n",
    "\n",
    "genes_do = list(d_gene_do.keys())\n",
    "genes_doids = d_gene_do.values()\n",
    "\n",
    "# Get a list of all matches = search for matches of Disease ID list and gene list \n",
    "matches_DO = []\n",
    "for i in genes_doids:\n",
    "    gene_i = []\n",
    "    for j in i:\n",
    "        for idx,value in enumerate(all_doids):\n",
    "            if j == value:\n",
    "                gene_i.append(idx)\n",
    "    matches_DO.append(gene_i)\n",
    "    \n",
    "all_match_DO = []\n",
    "for sub in matches_DO:\n",
    "    gene_match = [0] * len(all_doids)\n",
    "    for elem in sub:\n",
    "        for idx,value in enumerate(gene_match):\n",
    "            if elem == idx:\n",
    "                gene_match[idx] = 1\n",
    "    all_match_DO.append(gene_match)   \n",
    "\n",
    "matrix_DIS = np.row_stack(all_match_DO)\n",
    "\n",
    "df_DIS = pd.DataFrame(matrix_DIS, columns = all_doids, index = genes_do, dtype = int)"
   ]
  },
  {
   "cell_type": "code",
   "execution_count": null,
   "metadata": {},
   "outputs": [],
   "source": [
    "#df_DIS = pd.read_csv('output_csv/Features_Disease_Dataframe_'+organism+'.csv', index_col=0)\n",
    "#DIS_array = df_DIS.to_numpy()\n",
    "#DM_disease = pd.DataFrame(distance.squareform(distance.pdist(DIS_array, 'euclidean')))\n",
    "#DM_disease.to_csv(r'output_csv/DistanceMatrix_Disease_Dataframe_'+organism+'.csv', index = True)"
   ]
  },
  {
   "cell_type": "code",
   "execution_count": null,
   "metadata": {},
   "outputs": [],
   "source": []
  }
 ],
 "metadata": {
  "kernelspec": {
   "display_name": "Python 3",
   "language": "python",
   "name": "python3"
  },
  "language_info": {
   "codemirror_mode": {
    "name": "ipython",
    "version": 3
   },
   "file_extension": ".py",
   "mimetype": "text/x-python",
   "name": "python",
   "nbconvert_exporter": "python",
   "pygments_lexer": "ipython3",
   "version": "3.7.4"
  }
 },
 "nbformat": 4,
 "nbformat_minor": 4
}
