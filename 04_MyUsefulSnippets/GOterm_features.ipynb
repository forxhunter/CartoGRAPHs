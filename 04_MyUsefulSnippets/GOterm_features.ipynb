{
 "cells": [
  {
   "cell_type": "markdown",
   "metadata": {},
   "source": [
    "### GO TERMS \n",
    "+ Molecular Functions\n",
    "+ Cellular Components \n",
    "+ Biological Processes "
   ]
  },
  {
   "cell_type": "code",
   "execution_count": 1,
   "metadata": {},
   "outputs": [
    {
     "ename": "ModuleNotFoundError",
     "evalue": "No module named 'multidimvis_main'",
     "output_type": "error",
     "traceback": [
      "\u001b[0;31m---------------------------------------------------------------------------\u001b[0m",
      "\u001b[0;31mModuleNotFoundError\u001b[0m                       Traceback (most recent call last)",
      "\u001b[0;32m<ipython-input-1-b78a5a1a84e4>\u001b[0m in \u001b[0;36m<module>\u001b[0;34m\u001b[0m\n\u001b[0;32m----> 1\u001b[0;31m \u001b[0;32mfrom\u001b[0m \u001b[0mmultidimvis_main\u001b[0m \u001b[0;32mimport\u001b[0m \u001b[0;34m*\u001b[0m\u001b[0;34m\u001b[0m\u001b[0;34m\u001b[0m\u001b[0m\n\u001b[0m",
      "\u001b[0;31mModuleNotFoundError\u001b[0m: No module named 'multidimvis_main'"
     ]
    }
   ],
   "source": [
    "from multidimvis_main import *"
   ]
  },
  {
   "cell_type": "markdown",
   "metadata": {},
   "source": [
    "#### MOLECULAR FUNCTIONS "
   ]
  },
  {
   "cell_type": "code",
   "execution_count": 1,
   "metadata": {},
   "outputs": [
    {
     "ename": "NameError",
     "evalue": "name 'pd' is not defined",
     "output_type": "error",
     "traceback": [
      "\u001b[0;31m---------------------------------------------------------------------------\u001b[0m",
      "\u001b[0;31mNameError\u001b[0m                                 Traceback (most recent call last)",
      "\u001b[0;32m<ipython-input-1-7f592571dec5>\u001b[0m in \u001b[0;36m<module>\u001b[0;34m\u001b[0m\n\u001b[0;32m----> 1\u001b[0;31m \u001b[0mdf_MF_raw\u001b[0m \u001b[0;34m=\u001b[0m \u001b[0mpd\u001b[0m\u001b[0;34m.\u001b[0m\u001b[0mread_csv\u001b[0m\u001b[0;34m(\u001b[0m\u001b[0;34m'input/GO_MF.csv'\u001b[0m\u001b[0;34m)\u001b[0m\u001b[0;34m\u001b[0m\u001b[0;34m\u001b[0m\u001b[0m\n\u001b[0m\u001b[1;32m      2\u001b[0m \u001b[0mdf_MF_mod\u001b[0m \u001b[0;34m=\u001b[0m \u001b[0mdf_MF_raw\u001b[0m\u001b[0;34m.\u001b[0m\u001b[0mdrop\u001b[0m\u001b[0;34m(\u001b[0m\u001b[0;34m[\u001b[0m\u001b[0;34m'evidence'\u001b[0m\u001b[0;34m]\u001b[0m\u001b[0;34m,\u001b[0m\u001b[0maxis\u001b[0m\u001b[0;34m=\u001b[0m\u001b[0;36m1\u001b[0m\u001b[0;34m)\u001b[0m\u001b[0;34m\u001b[0m\u001b[0;34m\u001b[0m\u001b[0m\n\u001b[1;32m      3\u001b[0m \u001b[0md_MF_gene_goids\u001b[0m \u001b[0;34m=\u001b[0m \u001b[0mdf_MF_mod\u001b[0m\u001b[0;34m.\u001b[0m\u001b[0mgroupby\u001b[0m\u001b[0;34m(\u001b[0m\u001b[0;34m'entrezid'\u001b[0m\u001b[0;34m)\u001b[0m\u001b[0;34m[\u001b[0m\u001b[0;34m'go_id'\u001b[0m\u001b[0;34m]\u001b[0m\u001b[0;34m.\u001b[0m\u001b[0mapply\u001b[0m\u001b[0;34m(\u001b[0m\u001b[0mlist\u001b[0m\u001b[0;34m)\u001b[0m\u001b[0;34m.\u001b[0m\u001b[0mto_dict\u001b[0m\u001b[0;34m(\u001b[0m\u001b[0;34m)\u001b[0m\u001b[0;34m\u001b[0m\u001b[0;34m\u001b[0m\u001b[0m\n\u001b[1;32m      4\u001b[0m \u001b[0md_MF_goid_genes\u001b[0m \u001b[0;34m=\u001b[0m \u001b[0mdf_MF_mod\u001b[0m\u001b[0;34m.\u001b[0m\u001b[0mgroupby\u001b[0m\u001b[0;34m(\u001b[0m\u001b[0;34m'go_id'\u001b[0m\u001b[0;34m)\u001b[0m\u001b[0;34m[\u001b[0m\u001b[0;34m'entrezid'\u001b[0m\u001b[0;34m]\u001b[0m\u001b[0;34m.\u001b[0m\u001b[0mapply\u001b[0m\u001b[0;34m(\u001b[0m\u001b[0mlist\u001b[0m\u001b[0;34m)\u001b[0m\u001b[0;34m.\u001b[0m\u001b[0mto_dict\u001b[0m\u001b[0;34m(\u001b[0m\u001b[0;34m)\u001b[0m\u001b[0;34m\u001b[0m\u001b[0;34m\u001b[0m\u001b[0m\n\u001b[1;32m      5\u001b[0m \u001b[0;34m\u001b[0m\u001b[0m\n",
      "\u001b[0;31mNameError\u001b[0m: name 'pd' is not defined"
     ]
    }
   ],
   "source": [
    "df_MF_raw = pd.read_csv('input/GO_MF.csv')\n",
    "df_MF_mod = df_MF_raw.drop(['evidence'],axis=1)\n",
    "d_MF_gene_goids = df_MF_mod.groupby('entrezid')['go_id'].apply(list).to_dict()\n",
    "d_MF_goid_genes = df_MF_mod.groupby('go_id')['entrezid'].apply(list).to_dict()\n",
    "\n",
    "genes_MF = list(d_MF_gene_goids.keys())\n",
    "genes_goids_MF = list(d_MF_gene_goids.values())\n",
    "\n",
    "# Get a list with all available Gene Ontology IDs\n",
    "all_goids_MF = list(d_MF_goid_genes.keys())\n",
    "\n",
    "# Get a list of all matches = search for matches of GO ID list and gene list \n",
    "matches_MF = []\n",
    "for i in genes_goids_MF:\n",
    "    gene_i = []\n",
    "    for j in i:\n",
    "        for idx,value in enumerate(all_goids_MF):\n",
    "            if j == value:\n",
    "                gene_i.append(idx)\n",
    "    matches_MF.append(gene_i)\n",
    "    \n",
    "all_match_MF = []\n",
    "for sub in matches_MF:\n",
    "    gene_match = [0] * len(all_goids_MF)\n",
    "    for elem in sub:\n",
    "        for idx,value in enumerate(gene_match):\n",
    "            if elem == idx:\n",
    "                gene_match[idx] = 1\n",
    "    all_match_MF.append(gene_match)   \n",
    "    \n",
    "matrix_MF = np.row_stack(all_match_MF)\n",
    "df_MF = pd.DataFrame(matrix_MF, columns = all_goids_MF, index = genes_MF, dtype = int)\n",
    "df_MF.to_csv(r'../output_csv/Features_GO_MolFunc_Dataframe_'+organism+'.csv', index = True)"
   ]
  },
  {
   "cell_type": "code",
   "execution_count": null,
   "metadata": {},
   "outputs": [],
   "source": [
    "#df_MF = pd.read_csv('output_csv/Features_GO_MolFunc_Dataframe_Human.csv', index_col=0)\n",
    "#MF_array = df_MF.to_numpy()\n",
    "#DM_MF = pd.DataFrame(distance.squareform(distance.pdist(MF_array, 'euclidean')))\n",
    "#DM_MF.to_csv(r'output_csv/DistanceMatrix_goMF_Dataframe_'+organism+'.csv', index = True)"
   ]
  },
  {
   "cell_type": "markdown",
   "metadata": {},
   "source": [
    "#### CELLULAR COMPONENTS"
   ]
  },
  {
   "cell_type": "code",
   "execution_count": null,
   "metadata": {},
   "outputs": [],
   "source": [
    "df_CC_raw = pd.read_csv('input/GO_CC.csv')\n",
    "\n",
    "df_CC_mod = df_CC_raw.drop(['evidence'],axis=1)\n",
    "d_CC_gene_goids = df_CC_mod.groupby('entrezid')['go_id'].apply(list).to_dict()\n",
    "d_CC_goid_genes = df_CC_mod.groupby('go_id')['entrezid'].apply(list).to_dict()\n",
    "\n",
    "genes_CC = list(d_CC_gene_goids.keys())\n",
    "genes_goids_CC = list(d_CC_gene_goids.values())\n",
    "\n",
    "# Get a list with all available Gene Ontology IDs\n",
    "all_goids_CC = list(d_CC_goid_genes.keys())\n",
    "\n",
    "# Get a list of all matches = search for matches of GO ID list and gene list \n",
    "matches_CC = []\n",
    "for i in genes_goids_CC:\n",
    "    gene_i = []\n",
    "    for j in i:\n",
    "        for idx,value in enumerate(all_goids_CC):\n",
    "            if j == value:\n",
    "                gene_i.append(idx)\n",
    "    matches_CC.append(gene_i)\n",
    "    \n",
    "all_match_CC = []\n",
    "for sub in matches_CC:\n",
    "    gene_match = [0] * len(all_goids_CC)\n",
    "    for elem in sub:\n",
    "        for idx,value in enumerate(gene_match):\n",
    "            if elem == idx:\n",
    "                gene_match[idx] = 1\n",
    "    all_match_CC.append(gene_match)   \n",
    "    \n",
    "matrix_CC = np.row_stack(all_match_CC)\n",
    "\n",
    "df_CC = pd.DataFrame(matrix_CC, columns = all_goids_CC, index = genes_CC, dtype = int)\n",
    "df_CC.to_csv(r'../output_csv/Features_GO_CellComp_Dataframe_'+organism+'.csv', index = True)"
   ]
  },
  {
   "cell_type": "code",
   "execution_count": null,
   "metadata": {},
   "outputs": [],
   "source": [
    "#df_CC = pd.read_csv('output_csv/Features_GO_CellComp_Dataframe_Human.csv', index_col=0)\n",
    "#CC_array = df_CC.to_numpy()\n",
    "#DM_CC = pd.DataFrame(distance.squareform(distance.pdist(CC_array, 'euclidean')))\n",
    "#DM_CC.to_csv(r'output_csv/DistanceMatrix_goCC_Dataframe_'+organism+'.csv', index = True)"
   ]
  },
  {
   "cell_type": "markdown",
   "metadata": {},
   "source": [
    "#### BIOLOGICAL PROCESSES"
   ]
  },
  {
   "cell_type": "code",
   "execution_count": null,
   "metadata": {},
   "outputs": [],
   "source": [
    "df_BP_raw = pd.read_csv('input/GO_BP.csv')\n",
    "\n",
    "df_BP_mod = df_BP_raw.drop(['evidence'],axis=1)\n",
    "d_BP_gene_goids = df_BP_mod.groupby('entrezid')['go_id'].apply(list).to_dict()\n",
    "d_BP_goid_genes = df_BP_mod.groupby('go_id')['entrezid'].apply(list).to_dict()\n",
    "\n",
    "genes_BP = list(d_BP_gene_goids.keys())\n",
    "genes_goids_BP = list(d_BP_gene_goids.values())\n",
    "\n",
    "# Get a list with all available Gene Ontology IDs\n",
    "all_goids_BP = list(d_BP_goid_genes.keys())\n",
    "\n",
    "# Get a list of all matches = search for matches of GO ID list and gene list \n",
    "matches_BP = []\n",
    "for i in genes_goids_BP:\n",
    "    gene_i = []\n",
    "    for j in i:\n",
    "        for idx,value in enumerate(all_goids_BP):\n",
    "            if j == value:\n",
    "                gene_i.append(idx)\n",
    "    matches_BP.append(gene_i)\n",
    "    \n",
    "all_match_BP = []\n",
    "for sub in matches_BP:\n",
    "    gene_match = [0] * len(all_goids_BP)\n",
    "    for elem in sub:\n",
    "        for idx,value in enumerate(gene_match):\n",
    "            if elem == idx:\n",
    "                gene_match[idx] = 1\n",
    "    all_match_BP.append(gene_match)   \n",
    "    \n",
    "matrix_BP = np.row_stack(all_match_BP)\n",
    "\n",
    "df_BP = pd.DataFrame(matrix_BP, columns = all_goids_BP, index = genes_BP, dtype = int)\n",
    "df_BP.to_csv(r'../output_csv/Features_GO_BiolProc_Dataframe_'+organism+'.csv', index = True)"
   ]
  },
  {
   "cell_type": "code",
   "execution_count": null,
   "metadata": {},
   "outputs": [],
   "source": [
    "#df_BP = pd.read_csv('output_csv/Features_GO_BiolProc_Dataframe_Human.csv', index_col=0)\n",
    "#BP_array = df_BP.to_numpy()\n",
    "#DM_BP = pd.DataFrame(distance.squareform(distance.pdist(BP_array, 'euclidean')))\n",
    "#DM_BP.to_csv(r'output_csv/DistanceMatrix_goBP_Dataframe_'+organism+'.csv', index = True)"
   ]
  }
 ],
 "metadata": {
  "kernelspec": {
   "display_name": "Python 3",
   "language": "python",
   "name": "python3"
  },
  "language_info": {
   "codemirror_mode": {
    "name": "ipython",
    "version": 3
   },
   "file_extension": ".py",
   "mimetype": "text/x-python",
   "name": "python",
   "nbconvert_exporter": "python",
   "pygments_lexer": "ipython3",
   "version": "3.7.4"
  }
 },
 "nbformat": 4,
 "nbformat_minor": 4
}
