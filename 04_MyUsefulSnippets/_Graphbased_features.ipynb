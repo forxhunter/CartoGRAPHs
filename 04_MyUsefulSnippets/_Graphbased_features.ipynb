{
 "cells": [
  {
   "cell_type": "code",
   "execution_count": 1,
   "metadata": {},
   "outputs": [],
   "source": [
    "from multidimvis_main import *"
   ]
  },
  {
   "cell_type": "code",
   "execution_count": 2,
   "metadata": {},
   "outputs": [],
   "source": [
    "G = nx.read_edgelist('input/ppi_elist.txt',data=False)"
   ]
  },
  {
   "cell_type": "markdown",
   "metadata": {},
   "source": [
    "### GRAPH BASED MATRICES"
   ]
  },
  {
   "cell_type": "markdown",
   "metadata": {},
   "source": [
    "#### Adjacency"
   ]
  },
  {
   "cell_type": "code",
   "execution_count": 3,
   "metadata": {},
   "outputs": [
    {
     "name": "stdout",
     "output_type": "stream",
     "text": [
      "CPU times: user 1.27 s, sys: 231 ms, total: 1.5 s\n",
      "Wall time: 1.5 s\n"
     ]
    }
   ],
   "source": [
    "%%time\n",
    "\n",
    "A = nx.adjacency_matrix(G)\n",
    "DM_adj = A.toarray()"
   ]
  },
  {
   "cell_type": "code",
   "execution_count": 4,
   "metadata": {},
   "outputs": [],
   "source": [
    "df_adj = pd.DataFrame(DM_adj, columns = list(G.nodes()), index=list(G.nodes()))"
   ]
  },
  {
   "cell_type": "code",
   "execution_count": 5,
   "metadata": {},
   "outputs": [],
   "source": [
    "df_adj.to_csv(r'output_csv/Adjacency_Dataframe_Human.csv', index = True)"
   ]
  },
  {
   "cell_type": "markdown",
   "metadata": {},
   "source": [
    "#### Shortest Path Length"
   ]
  },
  {
   "cell_type": "code",
   "execution_count": null,
   "metadata": {},
   "outputs": [],
   "source": [
    "%%time\n",
    "\n",
    "d_idx_entz = {}\n",
    "cc = 0\n",
    "for entz in sorted(G.nodes()):\n",
    "    d_idx_entz[cc] = entz\n",
    "    cc += 1\n",
    "\n",
    "Mspl = np.zeros(len(list(G.nodes())))\n",
    "\n",
    "for n1 in range(len(list(G.nodes()))):\n",
    "    vec = []\n",
    "    for n2 in range(len(list(G.nodes()))):\n",
    "        geneA = d_idx_entz[n1]\n",
    "        geneB = d_idx_entz[n2]\n",
    "        try:\n",
    "            spl = nx.shortest_path_length(G,geneA,geneB)\n",
    "            vec.append(spl)\n",
    "        except nx.NetworkXNoPath:\n",
    "            print('no path')\n",
    "        \n",
    "    Mspl = np.vstack((Mspl,vec))\n",
    "Mspl = np.delete(Mspl, (0), axis=0)\n",
    "\n",
    "DM_spl = Mspl "
   ]
  },
  {
   "cell_type": "code",
   "execution_count": null,
   "metadata": {},
   "outputs": [],
   "source": [
    "df_spl = pd.DataFrame(DM_spl, columns = list(G.nodes()), index=list(G.nodes()))"
   ]
  },
  {
   "cell_type": "code",
   "execution_count": null,
   "metadata": {},
   "outputs": [],
   "source": [
    "df_spl.to_csv(r'output_csv/SPL_Dataframe_Human.csv', index = True)"
   ]
  },
  {
   "cell_type": "markdown",
   "metadata": {},
   "source": [
    "#### Markov: Random Walk with restart probability"
   ]
  },
  {
   "cell_type": "code",
   "execution_count": 6,
   "metadata": {},
   "outputs": [
    {
     "name": "stdout",
     "output_type": "stream",
     "text": [
      "CPU times: user 7min 47s, sys: 11.6 s, total: 7min 59s\n",
      "Wall time: 2min 24s\n"
     ]
    }
   ],
   "source": [
    "%%time\n",
    "\n",
    "# Restart probability\n",
    "r = .8 # originally 0.8\n",
    "alpha = 1.0 # indicating \"randomness\" \n",
    "\n",
    "DM_m = rnd_walk_matrix2(A, r, alpha, len(G.nodes()))\n",
    "\n",
    "DM_m_df = pd.DataFrame(DM_m)\n",
    "# DM_m_df.sum(axis=0)\n",
    "\n",
    "DM_m_transposed = DM_m_df.T\n",
    "DM_m_transposed.index = list(G.nodes())"
   ]
  },
  {
   "cell_type": "code",
   "execution_count": 8,
   "metadata": {},
   "outputs": [
    {
     "name": "stdout",
     "output_type": "stream",
     "text": [
      "CPU times: user 37min 47s, sys: 9.95 s, total: 37min 57s\n",
      "Wall time: 38min 4s\n"
     ]
    }
   ],
   "source": [
    "%%time \n",
    "\n",
    "metric = \"cosine\" \n",
    "DM_m_new = pd.DataFrame(distance.squareform(distance.pdist(DM_m_transposed, metric)))"
   ]
  },
  {
   "cell_type": "code",
   "execution_count": null,
   "metadata": {},
   "outputs": [],
   "source": [
    "df_m = pd.DataFrame(DM_m_new, columns = list(G.nodes()), index=list(G.nodes()))"
   ]
  },
  {
   "cell_type": "code",
   "execution_count": null,
   "metadata": {},
   "outputs": [],
   "source": [
    "df_m.to_csv(r'output_csv/RWR_'+metric+'_Dataframe_Human.csv', index = True)"
   ]
  },
  {
   "cell_type": "markdown",
   "metadata": {},
   "source": [
    "#### -log Markov"
   ]
  },
  {
   "cell_type": "code",
   "execution_count": null,
   "metadata": {},
   "outputs": [],
   "source": [
    "# MARKOV / RWR - LOG\n",
    "\n",
    "#min_log = lambda t: -np.log(t)\n",
    "#DM_mlog = np.array([min_log(x/max(x)) for x in DM_m])"
   ]
  },
  {
   "cell_type": "code",
   "execution_count": null,
   "metadata": {},
   "outputs": [],
   "source": [
    "df_mlog = pd.DataFrame(DM_mlog, columns = list(G.nodes()), index=list(G.nodes()))"
   ]
  },
  {
   "cell_type": "code",
   "execution_count": null,
   "metadata": {},
   "outputs": [],
   "source": [
    "df_mlog.to_csv(r'output_csv/RWR_log_'+metric+'_Dataframe_Human.csv', index = True)"
   ]
  },
  {
   "cell_type": "code",
   "execution_count": null,
   "metadata": {},
   "outputs": [],
   "source": []
  }
 ],
 "metadata": {
  "kernelspec": {
   "display_name": "Python 3",
   "language": "python",
   "name": "python3"
  },
  "language_info": {
   "codemirror_mode": {
    "name": "ipython",
    "version": 3
   },
   "file_extension": ".py",
   "mimetype": "text/x-python",
   "name": "python",
   "nbconvert_exporter": "python",
   "pygments_lexer": "ipython3",
   "version": "3.7.4"
  }
 },
 "nbformat": 4,
 "nbformat_minor": 4
}
