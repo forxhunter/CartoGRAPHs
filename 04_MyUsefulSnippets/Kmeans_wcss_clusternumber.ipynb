{
 "cells": [
  {
   "cell_type": "markdown",
   "metadata": {},
   "source": [
    "### ESTIMATION OF NUMBER OF CLUSTERS "
   ]
  },
  {
   "cell_type": "code",
   "execution_count": null,
   "metadata": {},
   "outputs": [],
   "source": [
    "# define df_posG "
   ]
  },
  {
   "cell_type": "code",
   "execution_count": null,
   "metadata": {},
   "outputs": [],
   "source": [
    "# Estimation of cluster numbers \n",
    "\n",
    "wcss=[] # within cluster sum of squares \n",
    "for i in range(1,100): \n",
    "    kmeans = KMeans(n_clusters=i, max_iter=10,  n_init=100, random_state=0)\n",
    "    kmeans.fit(df_posG)\n",
    "    wcss.append(kmeans.inertia_) #kmeans inertia_ attribute is:  Sum of squared distances of samples #to their closest cluster center.\n",
    "\n",
    "x = list(range(1,100))\n",
    "y = wcss\n",
    "\n",
    "fig = pgo.Figure()\n",
    "\n",
    "trace = pgo.Scattergl(x = x,\n",
    "                y = y,\n",
    "                mode = 'markers+lines',\n",
    "                marker=dict(\n",
    "                    size=2,\n",
    "                    color='blue')\n",
    "                )\n",
    "fig.add_trace(trace)\n",
    "fig.update_layout(title=\"Estimating Number of Clusters\", template='none', width=500, height=500, showlegend=False)\n",
    "fig.update_xaxes(title=\"Number of Clusters\")\n",
    "fig.update_yaxes(title=\"Cluster Sum of Squares\")\n",
    "\n",
    "fig.write_image('output_plots/WCSS_Kmeans_Human.png')\n",
    "\n",
    "fig.show()"
   ]
  }
 ],
 "metadata": {
  "kernelspec": {
   "display_name": "Python 3",
   "language": "python",
   "name": "python3"
  },
  "language_info": {
   "codemirror_mode": {
    "name": "ipython",
    "version": 3
   },
   "file_extension": ".py",
   "mimetype": "text/x-python",
   "name": "python",
   "nbconvert_exporter": "python",
   "pygments_lexer": "ipython3",
   "version": "3.7.4"
  }
 },
 "nbformat": 4,
 "nbformat_minor": 4
}
