{
 "cells": [
  {
   "cell_type": "markdown",
   "id": "surgical-wrist",
   "metadata": {},
   "source": [
    "-----\n",
    "# cartoGRAPHs - FIGURE 2C\n",
    "precalculated large networks , e.g. the Interactome\n",
    "\n",
    "A Notebook to produce 2D and 3D network layouts from any Graph,\n",
    "including interactive visualization (html files) and export functions \n",
    "to import into the VRNetzer analytics platform by Pirch et al.\n",
    "\n",
    "-----"
   ]
  },
  {
   "cell_type": "code",
   "execution_count": 3,
   "id": "under-weight",
   "metadata": {},
   "outputs": [
    {
     "name": "stderr",
     "output_type": "stream",
     "text": [
      "2021-11-22 18:16:07.766361: I tensorflow/compiler/jit/xla_cpu_device.cc:41] Not creating XLA devices, tf_xla_enable_xla_devices not set\n",
      "2021-11-22 18:16:07.766686: I tensorflow/core/platform/cpu_feature_guard.cc:142] This TensorFlow binary is optimized with oneAPI Deep Neural Network Library (oneDNN) to use the following CPU instructions in performance-critical operations:  AVX2 AVX512F FMA\n",
      "To enable them in other operations, rebuild TensorFlow with the appropriate compiler flags.\n"
     ]
    }
   ],
   "source": [
    "from cartoGRAPHs import * "
   ]
  },
  {
   "cell_type": "markdown",
   "id": "synthetic-leadership",
   "metadata": {},
   "source": [
    "_____\n",
    "# 1 | DEFINE NETWORK\n",
    "_____"
   ]
  },
  {
   "cell_type": "code",
   "execution_count": 4,
   "id": "optical-timeline",
   "metadata": {},
   "outputs": [],
   "source": [
    "# ---------------------------------------------------------------------------\n",
    "#\n",
    "# PREPROCESSED INFORMATION of organisms e.g. homo sapiens, saccharomyces cerevisiae \n",
    "#\n",
    "# ---------------------------------------------------------------------------\n",
    "#\n",
    "# CHOOSE ONE ORGANISM\n",
    "#\n",
    "#organism = 'yeast'\n",
    "organism = 'human'\n",
    "#\n",
    "# ---------------------------------------------------------------------------\n",
    "\n",
    "G = load_graph(organism)\n",
    "\n",
    "d_centralities = load_centralities(G, organism)\n",
    "df_centralities = pd.DataFrame(d_centralities).T\n",
    "df_centralities.columns = ['degree','closeness', 'betweeness', 'eigenvector']\n",
    "essential_genes,non_ess_genes,notdefined_genes = load_essentiality(G, organism)\n",
    "\n",
    "d_gene_sym = load_genesymbols(G, organism)\n",
    "l_features = list(d_gene_sym.values())\n",
    "\n",
    "# Human specific > to include Disease Ontology\n",
    "if organism == 'human':\n",
    "    d_gene_do = pickle.load( open( \"input/d_gene_do.pkl\", \"rb\" ) )\n",
    "    d_do_genes = pickle.load( open( \"input/d_do_genes.pkl\", \"rb\" ) )\n",
    "    d_do_names = pickle.load( open( \"input/DO_names.pkl\", \"rb\" ) )\n",
    "    d_names_do = {y:x for x,y in d_do_names.items()}\n",
    "else: \n",
    "    pass"
   ]
  },
  {
   "cell_type": "markdown",
   "id": "92ccd02d-3a9e-482f-a53f-3326238082b8",
   "metadata": {},
   "source": [
    "-----\n",
    "# FIGURE 2C \n",
    "-----"
   ]
  },
  {
   "cell_type": "markdown",
   "id": "40748bd6-1e3f-47e1-89cf-b0aca9610f0c",
   "metadata": {},
   "source": [
    "### DATA: PATIENT VARIANTS + SEEDS \n"
   ]
  },
  {
   "cell_type": "code",
   "execution_count": null,
   "id": "ac2ae386-c6bf-4b41-ac92-e51ce8ad1ab7",
   "metadata": {},
   "outputs": [],
   "source": [
    "# Text identifier for file output name\n",
    "rad_param = 'r-varseeds'\n",
    "\n",
    "# Load Gene Information for Gene lists \n",
    "variants = pd.read_csv('input/julias_variants_mod.txt')\n",
    "variant_list = [str(i) for i in list(variants['variants'])]\n",
    "variant_sym = pd.read_csv('input/julias_variants_sym.txt')\n",
    "genes_sym_list = [str(i) for i in list(variant_sym['variant_sym'])]\n",
    "d_gene_sym_variants = dict(zip(variant_list,genes_sym_list))\n",
    "\n",
    "df_seeds = pd.read_csv('input/seeds_from_genelists.txt')\n",
    "df_seeds.columns = ['seeds']\n",
    "df_seeds_z = pd.read_csv('input/seeds_from_zNumbers.txt', sep='\\n')\n",
    "seeds_list = [str(i) for i in list(df_seeds['seeds'])]\n",
    "\n",
    "d_seeds_idsym = {}\n",
    "for k,v in d_gene_sym.items():\n",
    "    for i in seeds_list:\n",
    "        if v == i:\n",
    "            d_seeds_idsym[k]=i\n",
    "seed_list = list(d_seeds_idsym.keys())\n",
    "\n",
    "FM_BP = pd.read_csv('_output_csv/Features_GO_BiolProc_Dataframe_human.csv', index_col=0)\n",
    "bioproc_list = list(FM_BP.index)\n",
    "\n",
    "# From obtained Gene lists select those to be mapped onto different shells \n",
    "# select genes for shells \n",
    "shell_one = variant_list\n",
    "shell_two = seed_list\n",
    "shell_three = [str(i) for i in bioproc_list]\n",
    "\n",
    "small_rad = 1\n",
    "mid_rad = 5\n",
    "large_rad = 30\n",
    "outershell_rad = 50\n",
    "\n",
    "d_param = {}\n",
    "for i in G.nodes():\n",
    "    if str(i) in variant_list:\n",
    "        d_param[str(i)] = small_rad\n",
    "    elif i in seed_list:\n",
    "        d_param[str(i)] = mid_rad \n",
    "    elif int(i) in bioproc_list:\n",
    "        d_param[str(i)] = large_rad \n",
    "    else:\n",
    "        d_param[str(i)] = outershell_rad\n",
    "\n",
    "genes_rad = variant_list + seed_list + bioproc_list\n",
    "\n",
    "# check how many shells of spheres there will be :\n",
    "print('Number of Spherical Shells:', len(set(d_param.values())))\n",
    "\n",
    "\n",
    "# Specifying coloring based on genes on different shells \n",
    "d_nodecol = d_clos \n",
    "d_colours = color_nodes_from_dict(G, d_nodecol, palette = col_pal)\n",
    "\n",
    "d_colours_spec_genes = {}\n",
    "for k,v in d_colours.items():\n",
    "    if k in shell_one:\n",
    "        d_colours_spec_genes[k]='#8b0000' \n",
    "    elif k in shell_two:\n",
    "        d_colours_spec_genes[k]='#FF4500' \n",
    "    elif k in shell_three:\n",
    "        d_colours_spec_genes[k]=v\n",
    "    else: \n",
    "        d_colours_spec_genes[k]='#d3d3d3'\n",
    "\n",
    "d_colours_spec_genes_sort = {key:d_colours_spec_genes[key] for key in G.nodes()}\n",
    "colours = list(d_colours_spec_genes_sort.values())"
   ]
  },
  {
   "cell_type": "markdown",
   "id": "lasting-mainstream",
   "metadata": {},
   "source": [
    "## SPATIAL EMBEDDING"
   ]
  },
  {
   "cell_type": "code",
   "execution_count": null,
   "id": "61b2f81f-8e23-4e66-b339-6ae6a920bca7",
   "metadata": {},
   "outputs": [],
   "source": [
    "%%time \n",
    "\n",
    "n_neighbors = 50 # balance between local and global structure in the data\n",
    "spread = 1.0\n",
    "min_dist = 0.1 # defines how dense points are stacked together \n",
    "metric='cosine'\n",
    "\n",
    "umap_sphere = embed_umap_sphere(DM, n_neighbors, spread, min_dist, metric)"
   ]
  },
  {
   "cell_type": "code",
   "execution_count": null,
   "id": "8f92c1f5-7169-4cf1-ba1f-0ef65a6127ac",
   "metadata": {},
   "outputs": [],
   "source": [
    "%%time \n",
    "\n",
    "radius = 40 \n",
    "\n",
    "posG_sphere = get_posG_sphere(genes, umap_sphere)\n",
    "posG_complete_sphere_norm = get_posG_sphere_norm(G, genes_rad, umap_sphere, d_param, radius)"
   ]
  },
  {
   "cell_type": "markdown",
   "id": "bf3832e1-6e08-44d5-ad4a-b1532c1bd781",
   "metadata": {},
   "source": [
    "## PLOT "
   ]
  },
  {
   "cell_type": "code",
   "execution_count": null,
   "id": "61b5b871-7017-4a7c-be4e-c23caba45e0c",
   "metadata": {},
   "outputs": [],
   "source": [
    "# Choose a color scheme (e.g. 'light' or 'dark')\n",
    "scheme = 'light'\n",
    "#scheme = 'dark'\n",
    "\n",
    "umap_nodes = get_trace_nodes_3D(posG_complete_sphere_norm, l_features, colours, \n",
    "                                size3d, #1.0,\n",
    "                                opacity_nodes)\n",
    "\n",
    "##################################\n",
    "# Un/comment to add Node Glow \n",
    "##################################\n",
    "umap_nodes_glow = get_trace_nodes_3D(posG_complete_sphere_norm, l_features, colours, nodesglow_diameter, nodesglow_transparency) \n",
    "\n",
    "if scheme == 'light':\n",
    "    umap_edges = get_trace_edges_3D(G, posG_complete_sphere_norm, edge_colorlight, opac = 0.05, linewidth=0.5)\n",
    "elif scheme == 'dark':\n",
    "    umap_edges = get_trace_edges_3D(G, posG_complete_sphere_norm, edge_colordark, opac = 0.05, linewidth=0.5)\n",
    "\n",
    "    \n",
    "#specific edges:\n",
    "#umap_edges_spec = get_trace_edges_from_genelist3D(list(d_edge_col_.keys()),posG_complete_sphere_norm, node_col, 0.1)\n",
    "#umap_data_edges_spec = [umap_edges_spec,umap_nodes_transparent, umap_nodes]\n",
    "\n",
    "\n",
    "umap_data = [umap_edges,\n",
    "             #umap_nodes_glow,\n",
    "             umap_nodes]\n",
    "\n",
    "data = umap_data\n",
    "fname = 'output_plots/3Dlayouts/GeodesicMap_umap_'+feature+'_col-'+color_method+'_neigh-'+str(n_neighbors)+'_spr-'+str(spread)+'_mindist-'+str(min_dist)+'_'+organism\n",
    "    \n",
    "plot_3D(data, fname, scheme)#, annot_light)"
   ]
  },
  {
   "cell_type": "markdown",
   "id": "3a159b70-248a-477f-a93b-cb64c841e78f",
   "metadata": {},
   "source": [
    "## VRNETZER TABLE"
   ]
  },
  {
   "cell_type": "code",
   "execution_count": null,
   "id": "87a9d4a0-6593-4ffa-b3b4-7b7a0c2804be",
   "metadata": {},
   "outputs": [],
   "source": [
    "posG_complete_sphere_norm_num = {}\n",
    "for node_id,coords in posG_complete_sphere_norm.items():\n",
    "    posG_complete_sphere_norm_num[only_numerics(node_id)]=coords\n",
    "    \n",
    "export_to_csv3D(path='_VR_layouts/',\n",
    "                layout_namespace = layoutcategory+'_'+netlayout, \n",
    "                posG = posG_complete_sphere_norm, \n",
    "                colours = colours)"
   ]
  },
  {
   "cell_type": "code",
   "execution_count": null,
   "id": "5730a2d4-9519-4224-987d-b352a36dc71b",
   "metadata": {},
   "outputs": [],
   "source": []
  }
 ],
 "metadata": {
  "kernelspec": {
   "display_name": "myenv",
   "language": "python",
   "name": "myenv"
  },
  "language_info": {
   "codemirror_mode": {
    "name": "ipython",
    "version": 3
   },
   "file_extension": ".py",
   "mimetype": "text/x-python",
   "name": "python",
   "nbconvert_exporter": "python",
   "pygments_lexer": "ipython3",
   "version": "3.8.2"
  }
 },
 "nbformat": 4,
 "nbformat_minor": 5
}
