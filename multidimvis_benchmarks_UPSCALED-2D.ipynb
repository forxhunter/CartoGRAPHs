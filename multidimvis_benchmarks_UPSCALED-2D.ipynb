{
 "cells": [
  {
   "cell_type": "markdown",
   "metadata": {},
   "source": [
    "# ===========================\n",
    "# Benchmarking - U P S C A L I N G - 2D CAYLEY TREE\n",
    "# ==========================="
   ]
  },
  {
   "cell_type": "code",
   "execution_count": 1,
   "metadata": {},
   "outputs": [],
   "source": [
    "# to do TREE \n",
    "\n",
    "# + calculate correlation 10k SPRING\n",
    "# + calculate correlation 20k SPRING"
   ]
  },
  {
   "cell_type": "code",
   "execution_count": 2,
   "metadata": {},
   "outputs": [],
   "source": [
    "from multidimvis_main import *"
   ]
  },
  {
   "cell_type": "code",
   "execution_count": 3,
   "metadata": {},
   "outputs": [],
   "source": [
    "# CAYLEY TREE \n",
    "organism = 'tree'\n",
    "\n",
    "feature = 'RWRvis'\n",
    "r = .9\n",
    "alpha = 1.0\n",
    "\n",
    "# parameter settings (post-testing)\n",
    "n_neighbors = 5\n",
    "spread = 1\n",
    "min_dist = 0.0\n",
    "metric = 'cosine'\n",
    "lnr = 1\n",
    "nep = None"
   ]
  },
  {
   "cell_type": "markdown",
   "metadata": {},
   "source": [
    "_________\n",
    "# 2D - Cayley tree\n",
    "_________"
   ]
  },
  {
   "cell_type": "code",
   "execution_count": 42,
   "metadata": {
    "jupyter": {
     "source_hidden": true
    }
   },
   "outputs": [
    {
     "name": "stdout",
     "output_type": "stream",
     "text": [
      "RWR\n",
      "Execution Time: 00:00:01\n",
      "SPRING\n",
      "Execution Time: 00:00:01\n",
      "\n",
      "\n",
      "RWR corr coef:  0.9666644984034035\n",
      "SPRING corr coef:  0.9710685931788668\n"
     ]
    }
   ],
   "source": [
    "#########\n",
    "# 1 0 0 \n",
    "#########\n",
    "\n",
    "branch=3\n",
    "i=121\n",
    "G = nx.full_rary_tree(branch,i)\n",
    "\n",
    "print('RWR')\n",
    "start = time.time()\n",
    "posG_global = globallayout_2D(G,n_neighbors, spread, min_dist, metric)\n",
    "end = time.time()\n",
    "m,s = exec_time(start,end)\n",
    "\n",
    "print('SPRING')\n",
    "start = time.time()\n",
    "posG_spring = springlayout_2D(G,itr=4000)\n",
    "end = time.time()\n",
    "m,s = exec_time(start,end)\n",
    "\n",
    "print('\\n')\n",
    "\n",
    "dist_global = pairwise_layout_distance_2D(G,posG_global)\n",
    "dist_spring = pairwise_layout_distance_2D(G,posG_spring)\n",
    "dist_network = pairwise_network_distance(G)\n",
    "\n",
    "r_global = pearson_corrcoef(dist_network, dist_global)\n",
    "print('RWR corr coef: ',r_global)\n",
    "\n",
    "r_spring = pearson_corrcoef(dist_network, dist_spring)\n",
    "print('SPRING corr coef: ',r_spring)"
   ]
  },
  {
   "cell_type": "code",
   "execution_count": 38,
   "metadata": {
    "jupyter": {
     "source_hidden": true
    }
   },
   "outputs": [
    {
     "name": "stdout",
     "output_type": "stream",
     "text": [
      "RWR\n",
      "Execution Time: 00:00:05\n",
      "SPRING\n",
      "Execution Time: 00:00:05\n",
      "\n",
      "\n",
      "RWR corr coef:  0.9858690044983249\n",
      "SPRING corr coef:  0.9954839789397758\n"
     ]
    }
   ],
   "source": [
    "#########\n",
    "# 5 0 0 \n",
    "#########\n",
    "\n",
    "branch=2\n",
    "i=511\n",
    "G = nx.full_rary_tree(branch,i)\n",
    "\n",
    "print('RWR')\n",
    "start = time.time()\n",
    "posG_global = globallayout_2D(G,n_neighbors, spread, min_dist, metric)\n",
    "end = time.time()\n",
    "m,s = exec_time(start,end)\n",
    "\n",
    "print('SPRING')\n",
    "start = time.time()\n",
    "posG_spring = springlayout_2D(G,itr=150)\n",
    "end = time.time()\n",
    "m,s = exec_time(start,end)\n",
    "\n",
    "print('\\n')\n",
    "\n",
    "dist_global = pairwise_layout_distance_2D(G,posG_global)\n",
    "dist_spring = pairwise_layout_distance_2D(G,posG_spring)\n",
    "dist_network = pairwise_network_distance(G)\n",
    "\n",
    "r_global = pearson_corrcoef(dist_network, dist_global)\n",
    "print('RWR corr coef: ',r_global)\n",
    "\n",
    "r_spring = pearson_corrcoef(dist_network, dist_spring)\n",
    "print('SPRING corr coef: ',r_spring)"
   ]
  },
  {
   "cell_type": "code",
   "execution_count": 40,
   "metadata": {
    "jupyter": {
     "source_hidden": true
    }
   },
   "outputs": [
    {
     "name": "stdout",
     "output_type": "stream",
     "text": [
      "RWR\n",
      "Execution Time: 00:00:04\n",
      "SPRING\n",
      "Execution Time: 00:00:05\n",
      "\n",
      "\n",
      "RWR corr coef:  0.9715794505342944\n",
      "SPRING corr coef:  0.9251005465535221\n"
     ]
    }
   ],
   "source": [
    "#########\n",
    "# 1 0 0 0 \n",
    "#########\n",
    "\n",
    "branch=3\n",
    "i=1093\n",
    "G = nx.full_rary_tree(branch,i)\n",
    "\n",
    "print('RWR')\n",
    "start = time.time()\n",
    "posG_global = globallayout_2D(G,n_neighbors, spread, min_dist, metric)\n",
    "end = time.time()\n",
    "m,s = exec_time(start,end)\n",
    "\n",
    "print('SPRING')\n",
    "start = time.time()\n",
    "posG_spring = springlayout_2D(G,itr=50)\n",
    "end = time.time()\n",
    "m,s = exec_time(start,end)\n",
    "\n",
    "print('\\n')\n",
    "\n",
    "dist_global = pairwise_layout_distance_2D(G,posG_global)\n",
    "dist_spring = pairwise_layout_distance_2D(G,posG_spring)\n",
    "dist_network = pairwise_network_distance(G)\n",
    "\n",
    "r_global = pearson_corrcoef(dist_network, dist_global)\n",
    "print('RWR corr coef: ',r_global)\n",
    "\n",
    "r_spring = pearson_corrcoef(dist_network, dist_spring)\n",
    "print('SPRING corr coef: ',r_spring)"
   ]
  },
  {
   "cell_type": "code",
   "execution_count": 30,
   "metadata": {
    "jupyter": {
     "source_hidden": true
    }
   },
   "outputs": [
    {
     "name": "stdout",
     "output_type": "stream",
     "text": [
      "Runtime spring for Corr. Coeff. 0.97\n",
      "Execution Time: 00:00:16\n",
      "prep layout distance\n",
      "prep network distance\n",
      "prep corr. coeff. data\n",
      "calculate corr. coeff.\n",
      "SPRING corr coef:  0.9762090209941461\n"
     ]
    }
   ],
   "source": [
    "branch=3\n",
    "i=1093\n",
    "G = nx.full_rary_tree(branch,i)\n",
    "\n",
    "print('Runtime spring for Corr. Coeff. 0.97')\n",
    "\n",
    "start = time.time()\n",
    "posG_spring = springlayout_2D(G,itr=110)\n",
    "end = time.time()\n",
    "m,s = exec_time(start,end)\n",
    "\n",
    "dist_spring = pairwise_layout_distance_2D(G,posG_spring)\n",
    "dist_network = pairwise_network_distance(G)\n",
    "\n",
    "r_spring = pearson_corrcoef(dist_network, dist_spring)\n",
    "print('SPRING corr coef: ',r_spring)"
   ]
  },
  {
   "cell_type": "code",
   "execution_count": null,
   "metadata": {
    "jupyter": {
     "source_hidden": true
    }
   },
   "outputs": [],
   "source": [
    "#########\n",
    "# 5 0 0 0 \n",
    "#########\n",
    "\n",
    "branch=4\n",
    "i=5461\n",
    "G = nx.full_rary_tree(branch,i)\n",
    "\n",
    "print('RWR')\n",
    "start = time.time()\n",
    "posG_global = globallayout_2D(G,n_neighbors, spread, min_dist, metric)\n",
    "end = time.time()\n",
    "m,s = exec_time(start,end)\n",
    "\n",
    "print('SPRING')\n",
    "start = time.time()\n",
    "posG_spring = springlayout_2D(G,itr=10)\n",
    "end = time.time()\n",
    "m,s = exec_time(start,end)\n",
    "\n",
    "print('\\n')\n",
    "\n",
    "dist_global = pairwise_layout_distance_2D(G,posG_global)\n",
    "dist_spring = pairwise_layout_distance_2D(G,posG_spring)\n",
    "dist_network = pairwise_network_distance(G)\n",
    "\n",
    "print('Correlation Factors')\n",
    "r_global = pearson_corrcoef(dist_network, dist_global)\n",
    "print('RWR corr coef: ',r_global)\n",
    "\n",
    "r_spring = pearson_corrcoef(dist_network, dist_spring)\n",
    "print('SPRING corr coef: ',r_spring)"
   ]
  },
  {
   "cell_type": "code",
   "execution_count": 3,
   "metadata": {
    "jupyter": {
     "source_hidden": true
    }
   },
   "outputs": [
    {
     "name": "stdout",
     "output_type": "stream",
     "text": [
      "Runtime spring for Corr. Coeff. 0.97\n",
      "Execution Time: 00:34:02\n",
      "SPRING corr coef:  0.9203227402838982\n"
     ]
    }
   ],
   "source": [
    "branch=4\n",
    "i=5461\n",
    "G = nx.full_rary_tree(branch,i)\n",
    "\n",
    "print('Runtime spring for Corr. Coeff. 0.97')\n",
    "\n",
    "start = time.time()\n",
    "posG_spring = springlayout_2D(G,itr=1000)\n",
    "end = time.time()\n",
    "m,s = exec_time(start,end)\n",
    "\n",
    "dist_spring = pairwise_layout_distance_2D(G,posG_spring)\n",
    "dist_network = pairwise_network_distance(G)\n",
    "\n",
    "r_spring = pearson_corrcoef(dist_network, dist_spring)\n",
    "print('SPRING corr coef: ',r_spring)"
   ]
  },
  {
   "cell_type": "code",
   "execution_count": 4,
   "metadata": {
    "jupyter": {
     "source_hidden": true
    }
   },
   "outputs": [
    {
     "name": "stdout",
     "output_type": "stream",
     "text": [
      "Runtime spring for Corr. Coeff. 0.97\n",
      "Execution Time: 01:40:51\n",
      "SPRING corr coef:  0.9049281799144109\n"
     ]
    }
   ],
   "source": [
    "branch=4\n",
    "i=5461\n",
    "G = nx.full_rary_tree(branch,i)\n",
    "\n",
    "print('Runtime spring for Corr. Coeff. 0.97')\n",
    "\n",
    "start = time.time()\n",
    "posG_spring = springlayout_2D(G,itr=3000)\n",
    "end = time.time()\n",
    "m,s = exec_time(start,end)\n",
    "\n",
    "dist_spring = pairwise_layout_distance_2D(G,posG_spring)\n",
    "dist_network = pairwise_network_distance(G)\n",
    "\n",
    "r_spring = pearson_corrcoef(dist_network, dist_spring)\n",
    "print('SPRING corr coef: ',r_spring)"
   ]
  },
  {
   "cell_type": "code",
   "execution_count": 3,
   "metadata": {
    "jupyter": {
     "source_hidden": true
    }
   },
   "outputs": [
    {
     "name": "stdout",
     "output_type": "stream",
     "text": [
      "Runtime spring for Corr. Coeff. 0.97\n",
      "Execution Time: 02:51:08\n",
      "SPRING corr coef:  0.8874796683167975\n",
      "CPU times: user 3h 24min 54s, sys: 1min 1s, total: 3h 25min 55s\n",
      "Wall time: 3h 11min 20s\n"
     ]
    }
   ],
   "source": [
    "%%time \n",
    "\n",
    "branch=4\n",
    "i=5461\n",
    "G = nx.full_rary_tree(branch,i)\n",
    "\n",
    "print('Runtime spring for Corr. Coeff. 0.97')\n",
    "\n",
    "start = time.time()\n",
    "posG_spring = springlayout_2D(G,itr=5000)\n",
    "end = time.time()\n",
    "m,s = exec_time(start,end)\n",
    "\n",
    "dist_spring = pairwise_layout_distance_2D(G,posG_spring)\n",
    "dist_network = pairwise_network_distance(G)\n",
    "\n",
    "r_spring = pearson_corrcoef(dist_network, dist_spring)\n",
    "print('SPRING corr coef: ',r_spring)"
   ]
  },
  {
   "cell_type": "code",
   "execution_count": 3,
   "metadata": {
    "jupyter": {
     "source_hidden": true
    }
   },
   "outputs": [
    {
     "name": "stdout",
     "output_type": "stream",
     "text": [
      "Runtime spring for Corr. Coeff. 0.97\n",
      "Execution Time: 04:36:18\n",
      "SPRING corr coef:  0.8840751640532729\n",
      "CPU times: user 5h 15min 17s, sys: 1min 17s, total: 5h 16min 35s\n",
      "Wall time: 4h 58min 11s\n"
     ]
    }
   ],
   "source": [
    "%%time \n",
    "\n",
    "branch=4\n",
    "i=5461\n",
    "G = nx.full_rary_tree(branch,i)\n",
    "\n",
    "print('Runtime spring for Corr. Coeff. 0.97')\n",
    "\n",
    "start = time.time()\n",
    "posG_spring = springlayout_2D(G,itr=8000)\n",
    "end = time.time()\n",
    "m,s = exec_time(start,end)\n",
    "\n",
    "dist_spring = pairwise_layout_distance_2D(G,posG_spring)\n",
    "dist_network = pairwise_network_distance(G)\n",
    "\n",
    "r_spring = pearson_corrcoef(dist_network, dist_spring)\n",
    "print('SPRING corr coef: ',r_spring)"
   ]
  },
  {
   "cell_type": "code",
   "execution_count": null,
   "metadata": {
    "jupyter": {
     "source_hidden": true
    }
   },
   "outputs": [],
   "source": [
    "#########\n",
    "# 1 0 0 0 0 \n",
    "#########\n",
    "\n",
    "branch=3\n",
    "i=9841\n",
    "G = nx.full_rary_tree(branch,i)\n",
    "\n",
    "print('RWR')\n",
    "start = time.time()\n",
    "posG_global = globallayout_2D(G,n_neighbors, spread, min_dist, metric)\n",
    "end = time.time()\n",
    "m,s = exec_time(start,end)\n",
    "\n",
    "print('SPRING')\n",
    "start = time.time()\n",
    "posG_spring = springlayout_2D(G,itr=50)\n",
    "end = time.time()\n",
    "m,s = exec_time(start,end)\n",
    "\n",
    "dist_global = pairwise_layout_distance_2D(G,posG_global)\n",
    "dist_spring = pairwise_layout_distance_2D(G,posG_spring)\n",
    "dist_network = pairwise_network_distance(G)\n",
    "\n",
    "r_global = pearson_corrcoef(dist_network, dist_global)\n",
    "print('RWR corr coef: ',r_global)\n",
    "\n",
    "r_spring = pearson_corrcoef(dist_network, dist_spring)\n",
    "print('SPRING corr coef: ',r_spring)"
   ]
  },
  {
   "cell_type": "code",
   "execution_count": null,
   "metadata": {},
   "outputs": [],
   "source": [
    "################\n",
    "#\n",
    "# R U N \n",
    "#\n",
    "################\n",
    "\n",
    "branch=3\n",
    "i=9841\n",
    "G = nx.full_rary_tree(branch,i)\n",
    "\n",
    "print('Runtime spring for Corr. Coeff. 0.98')\n",
    "\n",
    "start = time.time()\n",
    "posG_spring10k = springlayout_2D(G,itr=5000)\n",
    "end = time.time()\n",
    "m,s = exec_time(start,end)\n",
    "\n",
    "dist_spring10k = pairwise_layout_distance_2D(G,posG_spring10k)\n",
    "\n",
    "b_file10k = open('bench_precalc/dist_network_'+str(len(G.nodes()))+'_tree.pkl', \"rb\")\n",
    "dist_network10k = pickle.load(b_file10k)\n",
    "\n",
    "print('calculate corr. coeff.')\n",
    "r_spring10k = pearson_corrcoef(dist_network10k, dist_spring10k)\n",
    "print('SPRING corr coef: ',r_spring10k)"
   ]
  },
  {
   "cell_type": "code",
   "execution_count": null,
   "metadata": {
    "jupyter": {
     "source_hidden": true
    }
   },
   "outputs": [],
   "source": [
    "#########\n",
    "# 2 0 0 0 0 \n",
    "#########\n",
    "\n",
    "branch=5\n",
    "i=19531\n",
    "G = nx.full_rary_tree(branch,i)\n",
    "\n",
    "print('RWR')\n",
    "start = time.time()\n",
    "posG_global = globallayout_2D(G,n_neighbors, spread, min_dist, metric)\n",
    "end = time.time()\n",
    "m,s = exec_time(start,end)\n",
    "\n",
    "print('SPRING')\n",
    "start = time.time()\n",
    "posG_spring = springlayout_2D(G,itr=15)\n",
    "end = time.time()\n",
    "m,s = exec_time(start,end)\n",
    "\n",
    "print('\\n')\n",
    "\n",
    "dist_global = pairwise_layout_distance_2D(G,posG_global)\n",
    "dist_spring = pairwise_layout_distance_2D(G,posG_spring)\n",
    "dist_network = pairwise_network_distance(G)\n",
    "\n",
    "r_global = pearson_corrcoef(dist_network, dist_global)\n",
    "print('RWR corr coef: ',r_global)\n",
    "\n",
    "r_spring = pearson_corrcoef(dist_network, dist_spring)\n",
    "print('SPRING corr coef: ',r_spring)"
   ]
  },
  {
   "cell_type": "code",
   "execution_count": 4,
   "metadata": {},
   "outputs": [
    {
     "name": "stdout",
     "output_type": "stream",
     "text": [
      "Runtime spring for Corr. Coeff. 0.95\n",
      "Execution Time: 00:40:00\n"
     ]
    }
   ],
   "source": [
    "################\n",
    "#\n",
    "# R U N \n",
    "#\n",
    "################\n",
    "\n",
    "branch=5\n",
    "i=19531\n",
    "G = nx.full_rary_tree(branch,i)\n",
    "\n",
    "print('Runtime spring for Corr. Coeff. 0.95')\n",
    "\n",
    "start = time.time()\n",
    "posG_spring20k = springlayout_2D(G,itr=1000)\n",
    "end = time.time()\n",
    "m,s = exec_time(start,end)\n",
    "\n",
    "dist_spring20k = pairwise_layout_distance_2D(G,posG_spring20k)\n",
    "\n",
    "# load precalculated \n",
    "b_file20k = open('bench_precalc/dist_network_'+str(len(G.nodes()))+'_tree.pkl', \"rb\")\n",
    "dist_network20k = pickle.load(b_file20k)\n",
    "\n",
    "print('calculate corr. coeff.')\n",
    "r_spring = pearson_corrcoef(dist_network20k, dist_spring20k)\n",
    "print('SPRING corr coef: ',r_spring)"
   ]
  },
  {
   "cell_type": "markdown",
   "metadata": {},
   "source": [
    "## CORR COEF / NETSIZE - saved values for diagram\n",
    "+ for equal running time"
   ]
  },
  {
   "cell_type": "code",
   "execution_count": 3,
   "metadata": {},
   "outputs": [],
   "source": [
    "d_netsize_time = {121:2, \n",
    "                    511:5, \n",
    "                    1093:6, \n",
    "                    5461:43,\n",
    "                    9841:76,\n",
    "                    19531:269,\n",
    "                    }\n",
    "\n",
    "# G L O B A L \n",
    "d_netsize_corr_global = {121:0.9755362173517685,\n",
    "                            511:0.9918798080749828, \n",
    "                            1093:0.9842907710958583,\n",
    "                            5461:0.9789829752442807, \n",
    "                            9841:0.9767604153103943,\n",
    "                            19531:0.9515897302847316\n",
    "                        }\n",
    "\n",
    "\n",
    "# S P R I N G \n",
    "d_netsize_corr_spring = {121:0.9705719479886649, \n",
    "                            511:0.9561326573940754, \n",
    "                            1093:0.9249878756711222, \n",
    "                            5461:0.8843762908715197,         \n",
    "                            9841:0.8679791789903016,\n",
    "                            19531:0.8091037356706077,\n",
    "                           }"
   ]
  },
  {
   "cell_type": "code",
   "execution_count": 5,
   "metadata": {},
   "outputs": [
    {
     "data": {
      "image/png": "[encoded data removed]",
      "text/plain": [
       "<Figure size 2400x2400 with 1 Axes>"
      ]
     },
     "metadata": {
      "needs_background": "light"
     },
     "output_type": "display_data"
    }
   ],
   "source": [
    "# Network size vs. Correlation Factor \n",
    "# with same running time\n",
    "\n",
    "labelsize = 16 \n",
    "\n",
    "x_spring = list(d_netsize_time.keys())\n",
    "y_spring = list(d_netsize_corr_spring.values())\n",
    "x_layout = list(d_netsize_time.keys())\n",
    "y_layout = list(d_netsize_corr_global.values())\n",
    "\n",
    "fig = plt.figure(figsize=(8,8), dpi=300)\n",
    "\n",
    "plt.xlabel(\"Network Size [# Nodes]\", fontsize=labelsize)\n",
    "plt.ylabel(\"Pearson Corr.Coeff.\", fontsize=labelsize)\n",
    "\n",
    "plt.plot(x_spring,y_spring, '--', c = 'cornflowerblue', alpha = 0.8, linewidth=1)\n",
    "plt.scatter(x_spring,y_spring, c = 'cornflowerblue', s = 30, alpha = 1.0)\n",
    "plt.plot(x_layout,y_layout, '--', c = 'orange', alpha = 0.8, linewidth=1)\n",
    "plt.scatter(x_layout,y_layout, c = 'orange', s = 30, alpha = 1.0)\n",
    "\n",
    "plt.grid(True, c='lightgrey', alpha=0.5)\n",
    "plt.suptitle('2D | Network Size vs. Corr. Factor | '+organism, fontsize=10)\n",
    "plt.ylim(ymin=0, ymax=1.0)\n",
    "\n",
    "fig.savefig('output_plots/benchmark/upscaled_2D_CorrNetsize_'+feature+'_'+organism+'.png')"
   ]
  },
  {
   "cell_type": "markdown",
   "metadata": {},
   "source": [
    "## TIME / NETSIZE - saved values for diagram\n",
    "+ for equal correlation coefficient"
   ]
  },
  {
   "cell_type": "code",
   "execution_count": null,
   "metadata": {},
   "outputs": [],
   "source": [
    "d_netsize_corr = {121:0.97, \n",
    "                    511:0.99, \n",
    "                    1093:0.98, \n",
    "                    5461:0.97,\n",
    "                    9841:0.98,\n",
    "                    19531:0.95\n",
    "                    }\n",
    "\n",
    "# G L O B A L \n",
    "d_netsize_time_global = d_netsize_time\n",
    "\n",
    "\n",
    "# S P R I N G \n",
    "d_netsize_time_spring = {121:2,\n",
    "                            511:14,\n",
    "                            1093:16,\n",
    "                            5461:12120, #3h 22min\n",
    "                            9841: ,\n",
    "                            19531: ,\n",
    "                           }"
   ]
  },
  {
   "cell_type": "code",
   "execution_count": null,
   "metadata": {},
   "outputs": [],
   "source": [
    "# Network size vs. Correlation Factor \n",
    "# with same running time\n",
    "\n",
    "labelsize = 16 \n",
    "\n",
    "x_spring = list(d_netsize_corr.keys())\n",
    "y_spring = list(d_netsize_corr_spring.values())\n",
    "x_layout = list(d_netsize_corr.keys())\n",
    "y_layout = list(d_netsize_time.values())\n",
    "\n",
    "fig = plt.figure(figsize=(8,8), dpi=300)\n",
    "\n",
    "plt.xlabel(\"Network Size [# Nodes]\", fontsize=labelsize)\n",
    "plt.ylabel(\"Wall Time [s]\", fontsize=labelsize)\n",
    "\n",
    "plt.plot(x_spring,y_spring, '--', c = 'cornflowerblue', alpha = 0.8, linewidth=1.0)\n",
    "plt.scatter(x_spring,y_spring, c = 'cornflowerblue', s = 30, alpha = 1.0)\n",
    "plt.plot(x_layout,y_layout, '--', c = 'orange', alpha = 0.8, linewidth=1.0)\n",
    "plt.scatter(x_layout,y_layout, c = 'orange', s = 30, alpha = 1.0)\n",
    "\n",
    "plt.grid(True, c='lightgrey', alpha=0.5)\n",
    "plt.suptitle('2D | Network Size vs. Wall Time | '+organism, fontsize=10)\n",
    "plt.ylim(ymin=0, ymax=1.0)\n",
    "\n",
    "fig.savefig('output_plots/benchmark/upscaled_2D_TimeNetsize_'+feature+'_'+organism+'.png')"
   ]
  },
  {
   "cell_type": "code",
   "execution_count": null,
   "metadata": {},
   "outputs": [],
   "source": []
  },
  {
   "cell_type": "code",
   "execution_count": null,
   "metadata": {},
   "outputs": [],
   "source": []
  },
  {
   "cell_type": "code",
   "execution_count": null,
   "metadata": {},
   "outputs": [],
   "source": []
  },
  {
   "cell_type": "code",
   "execution_count": null,
   "metadata": {},
   "outputs": [],
   "source": []
  },
  {
   "cell_type": "code",
   "execution_count": null,
   "metadata": {},
   "outputs": [],
   "source": []
  },
  {
   "cell_type": "code",
   "execution_count": null,
   "metadata": {},
   "outputs": [],
   "source": []
  }
 ],
 "metadata": {
  "kernelspec": {
   "display_name": "myenv",
   "language": "python",
   "name": "myenv"
  },
  "language_info": {
   "codemirror_mode": {
    "name": "ipython",
    "version": 3
   },
   "file_extension": ".py",
   "mimetype": "text/x-python",
   "name": "python",
   "nbconvert_exporter": "python",
   "pygments_lexer": "ipython3",
   "version": "3.8.2"
  }
 },
 "nbformat": 4,
 "nbformat_minor": 4
}
