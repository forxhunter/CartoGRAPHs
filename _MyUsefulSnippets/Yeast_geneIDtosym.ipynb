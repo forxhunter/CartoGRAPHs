{
 "cells": [
  {
   "cell_type": "code",
   "execution_count": null,
   "id": "polished-brand",
   "metadata": {},
   "outputs": [],
   "source": [
    "# converting Yeast ID to gene symbol"
   ]
  },
  {
   "cell_type": "code",
   "execution_count": null,
   "id": "interracial-content",
   "metadata": {},
   "outputs": [],
   "source": [
    "################################################\n",
    "#\n",
    "# Y E A S T \n",
    "#\n",
    "################################################\n",
    "\n",
    "organism = 'Yeast'\n",
    "\n",
    "data = pickle.load( open( \"input/BIOGRID-ORGANISM-Saccharomyces_cerevisiae_S288c-3.5.185.mitab.pickle\", \"rb\" ) )\n",
    "\n",
    "filter_score = data[\n",
    "                    #(data['Interaction Types'] == 'psi-mi:\"MI:0915\"(physical association)') +\n",
    "                    (data['Interaction Types'] == 'psi-mi:\"MI:0407\"(direct interaction)') \n",
    "                    #&\n",
    "                    #(data['Taxid Interactor A'] == \"taxid:559292\") & \n",
    "                    #(data['Taxid Interactor B'] == \"taxid:559292\") \n",
    "]\n",
    "\n",
    "g = nx.from_pandas_edgelist(filter_score, '#ID Interactor A', 'ID Interactor B')\n",
    "g.remove_edges_from(nx.selfloop_edges(g)) #remove self loop\n",
    "\n",
    "G_cere = g.subgraph(max(nx.connected_components(g), key=len)) # largest connected component (lcc)\n",
    "G = G_cere\n",
    "\n",
    "posG_entrez = []\n",
    "for k in G.nodes():\n",
    "    posG_entrez.append(k[22:])"
   ]
  },
  {
   "cell_type": "code",
   "execution_count": null,
   "id": "demographic-rotation",
   "metadata": {},
   "outputs": [],
   "source": [
    "\n",
    "Entrez.email = 'chris@menchelab.com'\n",
    "\n",
    "gene_list = cere_gene['symbols'].tolist()\n",
    "name_species = 'Saccharomyces cerevisiae'"
   ]
  },
  {
   "cell_type": "code",
   "execution_count": null,
   "id": "ahead-beast",
   "metadata": {},
   "outputs": [],
   "source": [
    "# the following splitted parts take about 8 min each "
   ]
  },
  {
   "cell_type": "code",
   "execution_count": null,
   "id": "forward-surgery",
   "metadata": {},
   "outputs": [],
   "source": [
    "%%time \n",
    "\n",
    "gene_list_part = gene_list[:1000]\n",
    "gene_id_sym = convert_symbol_to_entrez(gene_list_part,name_species)"
   ]
  },
  {
   "cell_type": "code",
   "execution_count": null,
   "id": "opposite-albert",
   "metadata": {},
   "outputs": [],
   "source": [
    "%%time \n",
    "\n",
    "gene_list_part2 = gene_list[1001:2000]\n",
    "gene_id_sym2 = convert_symbol_to_entrez(gene_list_part2,name_species)"
   ]
  },
  {
   "cell_type": "code",
   "execution_count": null,
   "id": "cloudy-italy",
   "metadata": {},
   "outputs": [],
   "source": [
    "%%time \n",
    "\n",
    "gene_list_part3 = gene_list[2001:3000]\n",
    "gene_id_sym3 = convert_symbol_to_entrez(gene_list_part3,name_species)"
   ]
  },
  {
   "cell_type": "code",
   "execution_count": null,
   "id": "dental-concert",
   "metadata": {},
   "outputs": [],
   "source": [
    "%%time \n",
    "\n",
    "gene_list_part4 = gene_list[3001:4000]\n",
    "gene_id_sym4 = convert_symbol_to_entrez(gene_list_part4,name_species)"
   ]
  },
  {
   "cell_type": "code",
   "execution_count": null,
   "id": "immediate-condition",
   "metadata": {},
   "outputs": [],
   "source": [
    "%%time \n",
    "\n",
    "gene_list_part5 = gene_list[4001:]\n",
    "gene_id_sym5 = convert_symbol_to_entrez(gene_list_part5,name_species)"
   ]
  },
  {
   "cell_type": "code",
   "execution_count": null,
   "id": "dense-basis",
   "metadata": {},
   "outputs": [],
   "source": [
    "# combine all \n",
    "\n",
    "gene_id_sym_all = {**gene_id_sym, **gene_id_sym2, **gene_id_sym3, **gene_id_sym4, **gene_id_sym5}"
   ]
  },
  {
   "cell_type": "code",
   "execution_count": null,
   "id": "patient-instruction",
   "metadata": {},
   "outputs": [],
   "source": [
    "g_id_sym={}\n",
    "for k,v in gene_id_sym_all.items():\n",
    "    g_id_sym['entrez gene/locuslink:'+v]=k\n",
    "    \n",
    "    \n",
    "g_id_sym_n = {}\n",
    "for g in G.nodes(): \n",
    "    if g in g_id_sym.keys():\n",
    "        g_id_sym_n[g] = g_id_sym[g]\n",
    "    else:\n",
    "        g_id_sym_n[g] = '-'"
   ]
  },
  {
   "cell_type": "code",
   "execution_count": null,
   "id": "vocational-printer",
   "metadata": {},
   "outputs": [],
   "source": [
    "df_g_id_sym = pd.DataFrame(g_id_sym_n.items(),columns=['ID', 'Sym'])"
   ]
  },
  {
   "cell_type": "code",
   "execution_count": null,
   "id": "fossil-rehabilitation",
   "metadata": {},
   "outputs": [],
   "source": [
    "df_g_id_sym"
   ]
  },
  {
   "cell_type": "code",
   "execution_count": null,
   "id": "prepared-allowance",
   "metadata": {},
   "outputs": [],
   "source": [
    "df_g_id_sym.to_csv(r'Yeast_geneID_sym.csv', index=False)"
   ]
  },
  {
   "cell_type": "code",
   "execution_count": null,
   "id": "spoken-ballet",
   "metadata": {},
   "outputs": [],
   "source": []
  },
  {
   "cell_type": "code",
   "execution_count": null,
   "id": "analyzed-dominican",
   "metadata": {},
   "outputs": [],
   "source": []
  }
 ],
 "metadata": {
  "kernelspec": {
   "display_name": "Python 3",
   "language": "python",
   "name": "python3"
  },
  "language_info": {
   "codemirror_mode": {
    "name": "ipython",
    "version": 3
   },
   "file_extension": ".py",
   "mimetype": "text/x-python",
   "name": "python",
   "nbconvert_exporter": "python",
   "pygments_lexer": "ipython3",
   "version": "3.8.2"
  }
 },
 "nbformat": 4,
 "nbformat_minor": 5
}
