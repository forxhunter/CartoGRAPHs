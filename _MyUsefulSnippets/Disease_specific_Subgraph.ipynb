{
 "cells": [
  {
   "cell_type": "markdown",
   "metadata": {},
   "source": [
    "### Disease Subgraph"
   ]
  },
  {
   "cell_type": "code",
   "execution_count": null,
   "metadata": {},
   "outputs": [],
   "source": [
    "# SPECIFY SUB CATEGORY OF DISEASE\n",
    "\n",
    "spec = 'DOID:5093'\n",
    "# DOID:707 B-Cell Lymphoma (71 genes)\n",
    "# DOID:9252 amino acids metabolic disorder (130 genes)\n",
    "# DOID:14320 generalized anxiety disorder (112 genes)\n",
    "\n",
    "\n",
    "spec_nodes = []\n",
    "for k,v in d_do_genes.items():\n",
    "    if spec == k:\n",
    "        spec_nodes = v\n",
    "\n",
    "set_spec_nodes = set(spec_nodes)\n",
    "\n",
    "\n",
    "# SPECIFIED GRAPH \n",
    "G_sub = G_ppi.subgraph(set_spec_nodes)\n",
    "G_sub_lcc = G_sub.subgraph(max(nx.connected_components(G_sub), key=len)) # largest connected component (lcc)\n",
    "print('The lcc of the %s-sub PPI network contains %s genes.' %(disease_category,G_sub_lcc.number_of_nodes()))\n",
    "\n",
    "G = G_sub_lcc\n",
    "\n",
    "# Check which subcategory was chosen:\n",
    "for k,v in sub_categories.items():\n",
    "    if spec == k[1]:\n",
    "        print(k,v)\n",
    "\n",
    "\n",
    "G_sub = G_ppi.subgraph(set_disease_genes)\n",
    "G = G_sub.subgraph(max(nx.connected_components(G_sub), key=len)) # largest connected component (lcc)"
   ]
  },
  {
   "cell_type": "code",
   "execution_count": null,
   "metadata": {},
   "outputs": [],
   "source": []
  }
 ],
 "metadata": {
  "kernelspec": {
   "display_name": "Python 3",
   "language": "python",
   "name": "python3"
  },
  "language_info": {
   "codemirror_mode": {
    "name": "ipython",
    "version": 3
   },
   "file_extension": ".py",
   "mimetype": "text/x-python",
   "name": "python",
   "nbconvert_exporter": "python",
   "pygments_lexer": "ipython3",
   "version": "3.7.4"
  }
 },
 "nbformat": 4,
 "nbformat_minor": 4
}
