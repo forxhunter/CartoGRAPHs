{
 "cells": [
  {
   "cell_type": "code",
   "execution_count": 2,
   "metadata": {},
   "outputs": [],
   "source": [
    "# genes to symbol snippet"
   ]
  },
  {
   "cell_type": "markdown",
   "metadata": {},
   "source": [
    "### GENE ID to SYN (e.g. HOVERINFO for nodes)"
   ]
  },
  {
   "cell_type": "code",
   "execution_count": 3,
   "metadata": {},
   "outputs": [
    {
     "ename": "NameError",
     "evalue": "name 'genent2sym' is not defined",
     "output_type": "error",
     "traceback": [
      "\u001b[0;31m---------------------------------------------------------------------------\u001b[0m",
      "\u001b[0;31mNameError\u001b[0m                                 Traceback (most recent call last)",
      "\u001b[0;32m<ipython-input-3-dfc8f75ea648>\u001b[0m in \u001b[0;36m<module>\u001b[0;34m\u001b[0m\n\u001b[1;32m      2\u001b[0m \u001b[0;31m#d_entrez_syn = dict(zip(entrez_syn.index,entrez_syn['db_synonym']))\u001b[0m\u001b[0;34m\u001b[0m\u001b[0;34m\u001b[0m\u001b[0;34m\u001b[0m\u001b[0m\n\u001b[1;32m      3\u001b[0m \u001b[0;34m\u001b[0m\u001b[0m\n\u001b[0;32m----> 4\u001b[0;31m \u001b[0md_entrez_syn\u001b[0m\u001b[0;34m,\u001b[0m\u001b[0md_syn_entrez\u001b[0m \u001b[0;34m=\u001b[0m \u001b[0mgenent2sym\u001b[0m\u001b[0;34m(\u001b[0m\u001b[0;34m)\u001b[0m\u001b[0;34m\u001b[0m\u001b[0;34m\u001b[0m\u001b[0m\n\u001b[0m\u001b[1;32m      5\u001b[0m \u001b[0;34m\u001b[0m\u001b[0m\n\u001b[1;32m      6\u001b[0m \u001b[0md_gene2syn\u001b[0m \u001b[0;34m=\u001b[0m \u001b[0;34m{\u001b[0m\u001b[0;34m}\u001b[0m\u001b[0;34m\u001b[0m\u001b[0;34m\u001b[0m\u001b[0m\n",
      "\u001b[0;31mNameError\u001b[0m: name 'genent2sym' is not defined"
     ]
    }
   ],
   "source": [
    "#entrez_syn = pd.read_csv('input/entrezid_syn.csv', index_col=0)\n",
    "#d_entrez_syn = dict(zip(entrez_syn.index,entrez_syn['db_synonym']))\n",
    "\n",
    "d_entrez_syn,d_syn_entrez = genent2sym()\n",
    "\n",
    "d_gene2syn = {}\n",
    "for k,v in d_entrez_syn.items():\n",
    "    try:\n",
    "        if k in G.nodes():\n",
    "            d_gene2syn[k] = v\n",
    "    except: \n",
    "           d_gene2syn['None'] = 'no entry'\n",
    "            \n",
    "d_genes_withsyn = {}\n",
    "for g in G.nodes():\n",
    "    for k,v in d_gene2syn.items():\n",
    "        if g == k:\n",
    "            d_genes_withsyn[g] = v\n",
    "            \n",
    "d_genes_nosyn = {}\n",
    "for gene in G.nodes():\n",
    "    if gene not in d_genes_withsyn.keys():\n",
    "        d_genes_nosyn[gene] = 'no entry'\n",
    "        \n",
    "d_genes_all = {**d_genes_withsyn, **d_genes_nosyn}\n",
    "d_genes_syn_sorted = {key:d_genes_all[key] for key in G.nodes()}\n",
    "\n",
    "l_genes_syn=[]\n",
    "for k,v in d_genes_syn_sorted.items():\n",
    "    try:\n",
    "        l_genes_syn.append(set(v.split('|')))\n",
    "    except:\n",
    "        l_genes_syn.append(v)\n",
    "        \n",
    "d_genes_syn_complete = {}\n",
    "for i,v in enumerate(d_genes_syn_sorted.keys()):\n",
    "    for idx,l in enumerate(l_genes_syn):\n",
    "        if i==idx:\n",
    "            d_genes_syn_complete[v] = l\n",
    "            \n",
    "l_features = list(d_genes_syn_complete.values())"
   ]
  },
  {
   "cell_type": "code",
   "execution_count": null,
   "metadata": {},
   "outputs": [],
   "source": [
    "df_gene_sym = pd.DataFrame(d_genes_syn_complete).T"
   ]
  },
  {
   "cell_type": "code",
   "execution_count": null,
   "metadata": {},
   "outputs": [],
   "source": [
    "df_gene_sym.to_csv(r'output_csv/DF_gene_symbol_Human.csv', index = True)"
   ]
  },
  {
   "cell_type": "code",
   "execution_count": null,
   "metadata": {},
   "outputs": [],
   "source": [
    "df_gene_sym = pd.read_csv('output_csv/DF_gene_symbol_Human.csv', index_col=0)"
   ]
  },
  {
   "cell_type": "code",
   "execution_count": null,
   "metadata": {},
   "outputs": [],
   "source": []
  },
  {
   "cell_type": "code",
   "execution_count": null,
   "metadata": {},
   "outputs": [],
   "source": []
  }
 ],
 "metadata": {
  "kernelspec": {
   "display_name": "Python 3",
   "language": "python",
   "name": "python3"
  },
  "language_info": {
   "codemirror_mode": {
    "name": "ipython",
    "version": 3
   },
   "file_extension": ".py",
   "mimetype": "text/x-python",
   "name": "python",
   "nbconvert_exporter": "python",
   "pygments_lexer": "ipython3",
   "version": "3.8.3"
  }
 },
 "nbformat": 4,
 "nbformat_minor": 4
}
