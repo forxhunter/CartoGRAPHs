{
 "cells": [
  {
   "cell_type": "markdown",
   "metadata": {},
   "source": [
    "# CLUSTERMETHODS"
   ]
  },
  {
   "cell_type": "code",
   "execution_count": null,
   "metadata": {},
   "outputs": [],
   "source": [
    "# not run/tested + work in progress"
   ]
  },
  {
   "cell_type": "code",
   "execution_count": null,
   "metadata": {},
   "outputs": [],
   "source": []
  },
  {
   "cell_type": "code",
   "execution_count": null,
   "metadata": {},
   "outputs": [],
   "source": []
  },
  {
   "cell_type": "code",
   "execution_count": null,
   "metadata": {},
   "outputs": [],
   "source": [
    "# choose 2D positions of nodes to apply clustering\n",
    "\n",
    "df_posG = pd.DataFrame(posG).T\n",
    "# df_posG = pd.DataFrame(posG_umap).T"
   ]
  },
  {
   "cell_type": "code",
   "execution_count": null,
   "metadata": {},
   "outputs": [],
   "source": [
    "def get_node_clusterid(df, X_clusterid, n_clus, n_iterations = 10):\n",
    "    n = n_clus\n",
    "    cols = generate_colorlist_nodes(n)\n",
    "    \n",
    "    X_clusterid = clusterid[0]\n",
    "    X_id = df.index\n",
    "    \n",
    "    cols_to_clusters = {}\n",
    "    for ix,col in enumerate(cols):\n",
    "        for j in X_clusterid:\n",
    "            if j == ix:\n",
    "                cols_to_clusters[j]=col\n",
    "\n",
    "    d_node_clusterid = {k:v for k,v in zip(X_id, X_clusterid)}\n",
    "\n",
    "    return d_node_clusterid\n",
    "\n",
    "\n",
    "def get_clustercenter_xy(centers, n_clus, n_iterations = 10): \n",
    "    lx = []\n",
    "    ly = []\n",
    "    for clu in range(n_clus):\n",
    "        for i in centers:\n",
    "            lx.append(i[clu][0])\n",
    "            ly.append(i[clu][1])\n",
    "\n",
    "    return lx, ly"
   ]
  },
  {
   "cell_type": "markdown",
   "metadata": {},
   "source": [
    "###  KMEANS CLUSTERING 2D"
   ]
  },
  {
   "cell_type": "code",
   "execution_count": null,
   "metadata": {},
   "outputs": [],
   "source": [
    "color_method = 'kmeans'\n",
    "\n",
    "n_clus = 3\n",
    "n_iterations = 1000\n",
    "\n",
    "iterations = range(1,n_iterations)\n",
    "centers = []\n",
    "clusterid = []\n",
    "kmeans = KMeans(init='random', n_clusters=n_clus, random_state=0, max_iter=n_iterations, n_init=1, verbose=0)\n",
    "ids = kmeans.fit_predict(df_posG) \n",
    "centers.append(kmeans.cluster_centers_)\n",
    "clusterid.append(ids)"
   ]
  },
  {
   "cell_type": "code",
   "execution_count": null,
   "metadata": {},
   "outputs": [],
   "source": [
    "d_node_clusterid = get_node_clusterid(df_posG, centers, n_clus, n_iterations)\n",
    "cluster_center_x, cluster_center_y = get_clustercenter_xy(centers, n_clus, n_iterations)\n",
    "\n",
    "# colour parameter from cluster \n",
    "colours_unsort = color_nodes_from_dict(G, d_node_clusterid)\n",
    "\n",
    "genes_val = [1]*len(genes_rest)\n",
    "d_genes_rest = dict(zip(genes_rest, genes_val))\n",
    "colours_rest = color_nodes_from_dict_same(G, d_genes_rest, 'dimgrey')\n",
    "\n",
    "colours_all = {**colours_rest, **colours_unsort}\n",
    "\n",
    "colours_sorted = {key:colours_all[key] for key in G.nodes}\n",
    "colours = list(colours_sorted.values())\n",
    "\n",
    "trace_centers = pgo.Scatter(x = cluster_center_x,\n",
    "                             y = cluster_center_y,\n",
    "                                 mode = 'markers',\n",
    "                                 marker=dict(\n",
    "                                    size=10,\n",
    "                                    color='black',\n",
    "                                    opacity=1)\n",
    "                                 )\n",
    "\n",
    "annotations = [dict(\n",
    "                x=xi,\n",
    "                y=yi,\n",
    "                showarrow=True,\n",
    "                text=\"Cluster: \"+str(i),\n",
    "                xanchor=\"right\",\n",
    "                ay=-100,\n",
    "                ax=-0,\n",
    "                opacity=0.8,\n",
    "                arrowhead=0,\n",
    "                arrowwidth=0.5,\n",
    "                arrowcolor=\"dimgrey\"\n",
    "                ) for i, xi, yi in zip(range(1,n_clus+1), cluster_center_x,cluster_center_y)]"
   ]
  },
  {
   "cell_type": "code",
   "execution_count": null,
   "metadata": {},
   "outputs": [],
   "source": []
  },
  {
   "cell_type": "code",
   "execution_count": null,
   "metadata": {},
   "outputs": [],
   "source": []
  },
  {
   "cell_type": "code",
   "execution_count": null,
   "metadata": {},
   "outputs": [],
   "source": []
  },
  {
   "cell_type": "markdown",
   "metadata": {},
   "source": [
    "### AFFINITY PROPAGATION 2D"
   ]
  },
  {
   "cell_type": "code",
   "execution_count": null,
   "metadata": {},
   "outputs": [],
   "source": [
    "from sklearn.cluster import AffinityPropagation\n",
    "from sklearn.datasets import make_classification\n",
    "from numpy import unique\n",
    "from numpy import where\n",
    "from matplotlib import pyplot"
   ]
  },
  {
   "cell_type": "code",
   "execution_count": null,
   "metadata": {},
   "outputs": [],
   "source": [
    "color_method = 'affinitypropagation'\n",
    "\n",
    "# fit the model\n",
    "model = AffinityPropagation(damping=0.8) # define model\n",
    "\n",
    "X = np.array(list(posG.values()))\n",
    "model.fit(X)\n",
    "\n",
    "# assign a cluster to each example\n",
    "yhat = model.predict(X)\n",
    "\n",
    "# retrieve unique clusters\n",
    "#clusters = unique(yhat)"
   ]
  },
  {
   "cell_type": "code",
   "execution_count": null,
   "metadata": {},
   "outputs": [],
   "source": []
  },
  {
   "cell_type": "code",
   "execution_count": null,
   "metadata": {},
   "outputs": [],
   "source": []
  },
  {
   "cell_type": "code",
   "execution_count": null,
   "metadata": {},
   "outputs": [],
   "source": []
  },
  {
   "cell_type": "markdown",
   "metadata": {},
   "source": [
    "### AGGLOMERATIVE CLUSTERING "
   ]
  },
  {
   "cell_type": "code",
   "execution_count": null,
   "metadata": {},
   "outputs": [],
   "source": [
    "from numpy import unique\n",
    "from numpy import where\n",
    "from sklearn.datasets import make_classification\n",
    "from sklearn.cluster import AgglomerativeClustering\n",
    "from matplotlib import pyplot\n",
    "\n",
    "color_method = 'agglomerativeclust'\n",
    "\n",
    "# define the model\n",
    "model = AgglomerativeClustering(n_clusters=2)\n",
    "\n",
    "# fit model and predict clusters\n",
    "yhat = model.fit_predict(X)\n",
    "\n",
    "# retrieve unique clusters\n",
    "clusters = unique(yhat)\n",
    "\n",
    "# create scatter plot for samples from each cluster\n",
    "for cluster in clusters:\n",
    "    # get row indexes for samples with this cluster\n",
    "    row_ix = where(yhat == cluster)\n",
    "    # create scatter of these samples\n",
    "    pyplot.scatter(X[row_ix, 0], X[row_ix, 1])\n",
    "\n",
    "    # show the plot\n",
    "pyplot.show()"
   ]
  },
  {
   "cell_type": "code",
   "execution_count": null,
   "metadata": {},
   "outputs": [],
   "source": []
  },
  {
   "cell_type": "code",
   "execution_count": null,
   "metadata": {},
   "outputs": [],
   "source": []
  },
  {
   "cell_type": "markdown",
   "metadata": {},
   "source": [
    "### BIRCH CLUSTERING 2D - Balanced Iterative Reducing and Clustering using Hierarchies"
   ]
  },
  {
   "cell_type": "code",
   "execution_count": null,
   "metadata": {},
   "outputs": [],
   "source": [
    "from numpy import unique\n",
    "from numpy import where\n",
    "from sklearn.datasets import make_classification\n",
    "from sklearn.cluster import Birch\n",
    "from matplotlib import pyplot"
   ]
  },
  {
   "cell_type": "code",
   "execution_count": null,
   "metadata": {},
   "outputs": [],
   "source": [
    "color_method = 'birch'\n",
    "\n",
    "# define the model\n",
    "model = Birch(threshold=0.01, n_clusters=2)\n",
    "\n",
    "# fit the model\n",
    "model.fit(X)\n",
    "\n",
    "# assign a cluster to each example\n",
    "yhat = model.predict(X)\n",
    "\n",
    "# retrieve unique clusters\n",
    "clusters = unique(yhat)\n",
    "\n",
    "# create scatter plot for samples from each cluster\n",
    "for cluster in clusters:\n",
    "    # get row indexes for samples with this cluster\n",
    "    row_ix = where(yhat == cluster)\n",
    "    # create scatter of these samples\n",
    "    pyplot.scatter(X[row_ix, 0], X[row_ix, 1])\n",
    "\n",
    "\n",
    "# show the plot\n",
    "print('Network: ',organism)\n",
    "print('Distance Matrix: ',feature)\n",
    "\n",
    "print('Color feature: ',clus_method)\n",
    "\n",
    "pyplot.show()"
   ]
  },
  {
   "cell_type": "code",
   "execution_count": null,
   "metadata": {},
   "outputs": [],
   "source": []
  },
  {
   "cell_type": "code",
   "execution_count": null,
   "metadata": {},
   "outputs": [],
   "source": []
  },
  {
   "cell_type": "markdown",
   "metadata": {},
   "source": []
  },
  {
   "cell_type": "code",
   "execution_count": null,
   "metadata": {},
   "outputs": [],
   "source": []
  }
 ],
 "metadata": {
  "kernelspec": {
   "display_name": "Python 3",
   "language": "python",
   "name": "python3"
  },
  "language_info": {
   "codemirror_mode": {
    "name": "ipython",
    "version": 3
   },
   "file_extension": ".py",
   "mimetype": "text/x-python",
   "name": "python",
   "nbconvert_exporter": "python",
   "pygments_lexer": "ipython3",
   "version": "3.8.3"
  }
 },
 "nbformat": 4,
 "nbformat_minor": 4
}
