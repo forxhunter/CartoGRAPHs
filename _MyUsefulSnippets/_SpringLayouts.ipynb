{
 "cells": [
  {
   "cell_type": "code",
   "execution_count": 12,
   "id": "announced-white",
   "metadata": {},
   "outputs": [],
   "source": [
    "import networkx as nx\n",
    "import matplotlib.pyplot as plt\n",
    "import pickle \n",
    "import pandas as pd\n",
    "import plotly.graph_objs as pgo\n"
   ]
  },
  {
   "cell_type": "code",
   "execution_count": 9,
   "id": "aggregate-bernard",
   "metadata": {},
   "outputs": [],
   "source": [
    "################################################\n",
    "#\n",
    "# H U M A N \n",
    "#\n",
    "################################################\n",
    "\n",
    "organism = 'Human'\n",
    "\n",
    "G = nx.read_edgelist('input/ppi_elist.txt',data=False)\n",
    "# d_ent_sym, d_sym_ent = genent2sym()\n",
    "\n",
    "d_gene_do = pickle.load( open( \"input/d_gene_do.pkl\", \"rb\" ) )\n",
    "d_do_genes = pickle.load( open( \"input/d_do_genes.pkl\", \"rb\" ) )\n",
    "d_do_names = pickle.load( open( \"input/DO_names.pkl\", \"rb\" ) )\n",
    "d_names_do = {y:x for x,y in d_do_names.items()}\n",
    "\n",
    "#df_gene_sym = pd.read_csv('_output_csv/DF_gene_symbol_Human.csv', index_col=0)\n",
    "#l_features = list((df_gene_sym.to_dict()).values())\n",
    "\n",
    "posG_entrez = []\n",
    "for k in G.nodes():\n",
    "    posG_entrez.append(k)\n",
    "    \n",
    "# Gene Symbols \n",
    "df_gene_sym = pd.read_csv('_output_csv/DF_gene_symbol_Human.csv', index_col=0)\n",
    "l_features = list(df_gene_sym['0'])"
   ]
  },
  {
   "cell_type": "code",
   "execution_count": 10,
   "id": "comfortable-tattoo",
   "metadata": {},
   "outputs": [
    {
     "name": "stdout",
     "output_type": "stream",
     "text": [
      "Number of nodes i.e. genes: 16376\n",
      "Number of edges: 309355\n",
      "Network density: 0.2%\n"
     ]
    }
   ],
   "source": [
    "print('Number of nodes i.e. genes: %s' %len(list(G.nodes())))\n",
    "print('Number of edges: %s'%len(list(G.edges())))\n",
    "print('Network density: %.1f%%' %(200.*len(list(G.edges()))/(len(list(G.nodes()))*len(list(G.nodes()))-1)))"
   ]
  },
  {
   "cell_type": "markdown",
   "id": "injured-performer",
   "metadata": {},
   "source": [
    "### Spring Layout 2D"
   ]
  },
  {
   "cell_type": "code",
   "execution_count": null,
   "id": "million-longer",
   "metadata": {},
   "outputs": [],
   "source": [
    "%%time \n",
    "\n",
    "# ---------------------------------------\n",
    "# Spring\n",
    "# ---------------------------------------\n",
    "#forceatlas2 = ForceAtlas2()\n",
    "#posG_spring = forceatlas2.forceatlas2_networkx_layout(G, pos=None, iterations=200)\n",
    "posG_spring2D = nx.spring_layout(G, dim = 2)\n",
    "\n",
    "plt.figure(figsize=(25,25),dpi=300)\n",
    "\n",
    "nx.draw_networkx_nodes(G, posG_spring2D, edgecolors = 'k', linewidths = 0.1, node_color='dimgrey', \n",
    "                       node_size = 30.0, \n",
    "                       alpha = 0.4)\n",
    "nx.draw_networkx_edges(G, posG_spring2D, width = 0.5, edge_color = 'grey', alpha = 0.3)\n",
    "plt.box(False)\n",
    "\n",
    "plt.savefig('output_plots/spring.png')\n",
    "\n",
    "plt.show()"
   ]
  },
  {
   "cell_type": "markdown",
   "id": "stainless-lounge",
   "metadata": {},
   "source": [
    "### Spring Layout 3D"
   ]
  },
  {
   "cell_type": "code",
   "execution_count": null,
   "id": "dangerous-alcohol",
   "metadata": {},
   "outputs": [],
   "source": [
    "%%time \n",
    "\n",
    "num_iterate = 10 \n",
    "\n",
    "posG_spring3D  = nx.spring_layout(G, iterations = num_iterate, dim = 3)"
   ]
  },
  {
   "cell_type": "code",
   "execution_count": null,
   "id": "casual-dollar",
   "metadata": {},
   "outputs": [],
   "source": [
    "# normalize coordinates \n",
    "x_list = []\n",
    "y_list = []\n",
    "z_list = []\n",
    "for k,v in posG_spring3D.items():\n",
    "    x_list.append(v[0])\n",
    "    y_list.append(v[1])\n",
    "    z_list.append(v[2])\n",
    "    \n",
    "xx_norm = sklearn.preprocessing.minmax_scale(x_list, feature_range=(0, 1), axis=0, copy=True)\n",
    "yy_norm = sklearn.preprocessing.minmax_scale(y_list, feature_range=(0, 1), axis=0, copy=True)\n",
    "zz_norm = sklearn.preprocessing.minmax_scale(z_list, feature_range=(0, 1), axis=0, copy=True)\n",
    "\n",
    "posG_spring3D_norm = dict(zip(list(G.nodes()), zip(xx_norm,yy_norm, zz_norm)))\n",
    "\n",
    "\n",
    "spring_nodes = get_trace_nodes_3D(posG_spring3D_norm, None, colours, size3d)\n",
    "#spring_edges = get_trace_edges_3D(G, posG_spring3D_norm, edge_colordark, opac=1)\n",
    "spring_edges = get_trace_spec_edges_only(list(d_edge_col.keys()), posG_spring3D_norm, disease_col) #go_col)\n",
    "\n",
    "\n",
    "spring_data = [spring_nodes, spring_edges]\n",
    "\n",
    "print('Spring Layout:', organism)\n",
    "\n",
    "fig = pgo.Figure()\n",
    "for i in spring_data:\n",
    "    fig.add_trace(i)\n",
    "'''fig.update_layout(template='plotly_dark', showlegend=False, width=1200, height=1200,\n",
    "                  scene=dict(\n",
    "                      xaxis_title='',\n",
    "                      yaxis_title='',\n",
    "                      zaxis_title='',\n",
    "                      xaxis=dict(nticks=0,tickfont=dict(\n",
    "                            color='black')),\n",
    "                      yaxis=dict(nticks=0,tickfont=dict(\n",
    "                            color='black')),\n",
    "                      zaxis=dict(nticks=0,tickfont=dict(\n",
    "                            color='black')),\n",
    "                    dragmode=\"turntable\",\n",
    "                    #annotations=annotations,\n",
    "                ))'''\n",
    "\n",
    "fig.update_layout(template='plotly_white', showlegend=False, width=1200, height=1200,\n",
    "                  scene=dict(\n",
    "                      xaxis_title='',\n",
    "                      yaxis_title='',\n",
    "                      zaxis_title='',\n",
    "                      xaxis=dict(nticks=0,tickfont=dict(\n",
    "                            color='white')),\n",
    "                      yaxis=dict(nticks=0,tickfont=dict(\n",
    "                            color='white')),\n",
    "                      zaxis=dict(nticks=0,tickfont=dict(\n",
    "                            color='white')),    \n",
    "                    dragmode=\"turntable\",\n",
    "                    #annotations=annotations,\n",
    "                ))    \n",
    "#py.iplot(fig)\n",
    "\n",
    "plotly.offline.plot(fig, filename = 'output_plots/SPRING3D_'+'iter'+str(num_iterate)+'_'+organism+'.html', auto_open=True)"
   ]
  },
  {
   "cell_type": "code",
   "execution_count": null,
   "id": "nuclear-aspect",
   "metadata": {},
   "outputs": [],
   "source": []
  }
 ],
 "metadata": {
  "kernelspec": {
   "display_name": "Python 3",
   "language": "python",
   "name": "python3"
  },
  "language_info": {
   "codemirror_mode": {
    "name": "ipython",
    "version": 3
   },
   "file_extension": ".py",
   "mimetype": "text/x-python",
   "name": "python",
   "nbconvert_exporter": "python",
   "pygments_lexer": "ipython3",
   "version": "3.8.2"
  }
 },
 "nbformat": 4,
 "nbformat_minor": 5
}
