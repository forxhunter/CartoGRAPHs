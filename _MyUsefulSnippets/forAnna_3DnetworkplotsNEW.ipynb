{
 "cells": [
  {
   "cell_type": "code",
   "execution_count": 16,
   "id": "posted-muscle",
   "metadata": {},
   "outputs": [],
   "source": [
    "import plotly.graph_objs as pgo\n",
    "import matplotlib.pyplot as plt\n",
    "import plotly.offline as py\n",
    "import plotly\n",
    "\n",
    "import networkx as nx"
   ]
  },
  {
   "cell_type": "code",
   "execution_count": 139,
   "id": "stock-receptor",
   "metadata": {},
   "outputs": [],
   "source": [
    "# FUNCTIONS\n",
    "\n",
    "'''\n",
    "Generates 3D node coordinates.\n",
    "Returns a trace of nodes. \n",
    "'''\n",
    "def get_trace_nodes_3D(posG, info_list, color_list, size, opac):\n",
    "\n",
    "    key_list=list(posG.keys())\n",
    "    trace = pgo.Scatter3d(x=[posG[key_list[i]][0] for i in range(len(key_list))],\n",
    "                           y=[posG[key_list[i]][1] for i in range(len(key_list))],\n",
    "                           z=[posG[key_list[i]][2] for i in range(len(key_list))],\n",
    "                           mode = 'markers+text', \n",
    "                           text = info_list,\n",
    "                           hoverinfo = 'text',\n",
    "                           #textposition='middle center',\n",
    "                           marker = dict(\n",
    "                color = color_list,\n",
    "                size = size,\n",
    "                symbol = 'circle',\n",
    "                line = dict(width = 1.0,\n",
    "                        color = color_list)\n",
    "            ),opacity = opac\n",
    "        )\n",
    "    \n",
    "    return trace\n",
    "\n",
    "'''\n",
    "Generates edges from 3D coordinates.\n",
    "Returns a trace of edges.\n",
    "'''\n",
    "def get_trace_edges_3D(G, posG, color_list, opac = 0.2):\n",
    "    edge_x = []\n",
    "    edge_y = []\n",
    "    edge_z = []\n",
    "    for edge in G.edges():\n",
    "        x0, y0, z0 = posG[edge[0]]\n",
    "        x1, y1, z1 = posG[edge[1]]\n",
    "        edge_x.append(x0)\n",
    "        edge_x.append(x1)\n",
    "        edge_x.append(None)\n",
    "        edge_y.append(y0)\n",
    "        edge_y.append(y1)\n",
    "        edge_y.append(None)\n",
    "        edge_z.append(z0)\n",
    "        edge_z.append(z1)\n",
    "        edge_z.append(None)\n",
    "\n",
    "    trace_edges = pgo.Scatter3d(\n",
    "                        x = edge_x, \n",
    "                        y = edge_y, \n",
    "                        z = edge_z,\n",
    "                        mode = 'lines', hoverinfo='none',\n",
    "                        line = dict(width = 0.5, color = color_list),\n",
    "                        opacity = opac\n",
    "                )\n",
    "    \n",
    "    return trace_edges\n",
    "\n",
    "\n",
    "'''\n",
    "Generates 2D node coordinates.\n",
    "Returns a trace of nodes.\n",
    "'''\n",
    "def get_trace_nodes_2D(posG, info_list, color_list, size, opac):\n",
    "\n",
    "    key_list=list(posG.keys())\n",
    "    trace = pgo.Scatter(x=[posG[key_list[i]][0] for i in range(len(key_list))],\n",
    "                           y=[posG[key_list[i]][1] for i in range(len(key_list))],\n",
    "                           mode = 'markers+text',\n",
    "                           text = info_list,\n",
    "                           hoverinfo = 'text',\n",
    "                           textposition='top left',\n",
    "                           marker = dict(\n",
    "                color = color_list,\n",
    "                size = size,\n",
    "                symbol = 'circle',\n",
    "                line = dict(width = 1.0,\n",
    "                        color = color_list)\n",
    "            ),opacity = opac\n",
    "        )\n",
    "    \n",
    "    return trace\n",
    "\n",
    "\n",
    "'''\n",
    "Generates edges from 2D coordinates.\n",
    "Returns a trace of edges.\n",
    "'''\n",
    "def get_trace_edges_2D(G, posG, color_list, opac = 0.2):\n",
    "    edge_x = []\n",
    "    edge_y = []\n",
    "    for edge in G.edges():\n",
    "        x0, y0 = posG[edge[0]]\n",
    "        x1, y1 = posG[edge[1]]\n",
    "        edge_x.append(x0)\n",
    "        edge_x.append(x1)\n",
    "        edge_x.append(None)\n",
    "        edge_y.append(y0)\n",
    "        edge_y.append(y1)\n",
    "        edge_y.append(None)\n",
    " \n",
    "    trace_edges = pgo.Scatter(\n",
    "                        x = edge_x, \n",
    "                        y = edge_y, \n",
    "                        mode = 'lines', hoverinfo='none',\n",
    "                        line = dict(width = 0.2, color = color_list),\n",
    "                        opacity = opac\n",
    "                )\n",
    "    \n",
    "    return trace_edges\n"
   ]
  },
  {
   "cell_type": "code",
   "execution_count": 73,
   "id": "frozen-barcelona",
   "metadata": {},
   "outputs": [
    {
     "data": {
      "image/png": "[encoded data removed]",
      "text/plain": [
       "<Figure size 432x288 with 1 Axes>"
      ]
     },
     "metadata": {},
     "output_type": "display_data"
    }
   ],
   "source": [
    "# toy network as example \n",
    "\n",
    "organism = 'tree'\n",
    "n = 21 # number of nodes\n",
    "r = 4 # branching factor\n",
    "G = nx.full_rary_tree(r, n)\n",
    "nx.draw(G, node_color ='lightgrey', node_size=600.0, with_labels=True)"
   ]
  },
  {
   "cell_type": "code",
   "execution_count": 74,
   "id": "current-carrier",
   "metadata": {},
   "outputs": [
    {
     "name": "stdout",
     "output_type": "stream",
     "text": [
      "Network: tree\n",
      "Number of nodes: 21\n",
      "Number of edges: 20\n",
      "Network density: 9.1%\n"
     ]
    }
   ],
   "source": [
    "print('Network:', organism)\n",
    "print('Number of nodes: %s' %len(list(G.nodes())))\n",
    "print('Number of edges: %s' %len(list(G.edges())))\n",
    "print('Network density: %.1f%%' %(200.*len(list(G.edges()))/(len(list(G.nodes()))*len(list(G.nodes()))-1)))"
   ]
  },
  {
   "cell_type": "markdown",
   "id": "fitted-humor",
   "metadata": {},
   "source": [
    "### Visual presettings"
   ]
  },
  {
   "cell_type": "code",
   "execution_count": 130,
   "id": "august-justice",
   "metadata": {},
   "outputs": [],
   "source": [
    "# General Parameters:\n",
    "\n",
    "\n",
    "# Edges\n",
    "edge_width = 2\n",
    "edge_col = 'lightgrey'\n",
    "edge_colordark = 'dimgrey'\n",
    "opacity_edges = 0.5\n",
    "\n",
    "# Nodes\n",
    "opacity_nodes = 0.3\n",
    "node_edge_col = None\n",
    "\n",
    "size = 1.0\n",
    "size3d = 3.0\n",
    "\n",
    "colours = 'blue'\n",
    "\n",
    "# hover info\n",
    "info_list = list(range(0,len(G.nodes()))) # here could be a list with node information (to be seen when hovering over a node)\n",
    "\n",
    "labels = dict(zip(G.nodes(),info_list))"
   ]
  },
  {
   "cell_type": "markdown",
   "id": "comfortable-tiffany",
   "metadata": {},
   "source": [
    "### Spring 2D - with networkx"
   ]
  },
  {
   "cell_type": "code",
   "execution_count": 131,
   "id": "spare-homeless",
   "metadata": {},
   "outputs": [
    {
     "name": "stdout",
     "output_type": "stream",
     "text": [
      "CPU times: user 24.1 ms, sys: 3 ms, total: 27.1 ms\n",
      "Wall time: 24.6 ms\n"
     ]
    }
   ],
   "source": [
    "%%time\n",
    "\n",
    "posG_spring2D = nx.spring_layout(G, iterations = 150, dim = 2)"
   ]
  },
  {
   "cell_type": "code",
   "execution_count": 134,
   "id": "smaller-angle",
   "metadata": {},
   "outputs": [
    {
     "data": {
      "image/png": "[encoded data removed]",
      "text/plain": [
       "<Figure size 720x720 with 1 Axes>"
      ]
     },
     "metadata": {},
     "output_type": "display_data"
    }
   ],
   "source": [
    "plt.figure(figsize=(10,10))\n",
    "plt.title('Spring Layout', size= 16)\n",
    "\n",
    "nx.draw_networkx_nodes(G, posG_spring2D, edgecolors = node_edge_col, linewidths = 0.25, node_color = colours, \n",
    "                       node_size= 100, #size, \n",
    "                       alpha = opacity_nodes\n",
    "                      )\n",
    "nx.draw_networkx_edges(G, posG_spring2D, width = edge_width, edge_color = edge_col, alpha = opacity_edges)\n",
    "nx.draw_networkx_labels(G,posG_spring2D,labels,font_size=22)\n",
    "\n",
    "\n",
    "plt.box(False)\n",
    "\n",
    "#plt.savefig('2Dspring_'+organism+'.png')\n",
    "\n",
    "plt.show()"
   ]
  },
  {
   "cell_type": "code",
   "execution_count": 133,
   "id": "derived-glenn",
   "metadata": {},
   "outputs": [
    {
     "name": "stdout",
     "output_type": "stream",
     "text": [
      "Spring Layout: tree\n"
     ]
    },
    {
     "data": {
      "text/plain": [
       "'2DSpring_tree.html'"
      ]
     },
     "execution_count": 133,
     "metadata": {},
     "output_type": "execute_result"
    }
   ],
   "source": [
    "spring2D_nodes = get_trace_nodes_2D(posG_spring2D, info_list, colours, size = 10.0, opac= 0.2)\n",
    "spring2D_edges = get_trace_edges_2D(G, posG_spring2D, colours, opac = 0.2)\n",
    "\n",
    "spring2D_data = [spring2D_nodes, spring2D_edges]\n",
    "\n",
    "print('Spring Layout:', organism)\n",
    "\n",
    "fig = pgo.Figure()\n",
    "for i in spring2D_data:\n",
    "    fig.add_trace(i)\n",
    "    \n",
    "# text in 2D field: \n",
    "annotations2D = [dict(\n",
    "                x=[1], # x position for text \n",
    "                y=[1], # y position for text \n",
    "                showarrow=False,\n",
    "                text= 'some text here',\n",
    "                xanchor=\"right\",\n",
    "                ay=-100,\n",
    "                ax=-100,\n",
    "                opacity=0.8,\n",
    "                arrowhead=0,\n",
    "                arrowwidth=0.5,\n",
    "                )]\n",
    "\n",
    "# PLOT \n",
    "# uncomment for dark plot \n",
    "'''fig.update_layout(template='plotly_dark', showlegend=False, width=1200, height=1200,\n",
    "                  scene=dict(\n",
    "                      xaxis_title='',\n",
    "                      yaxis_title='',\n",
    "                      zaxis_title='',\n",
    "                      xaxis=dict(nticks=0,tickfont=dict(\n",
    "                            color='black')),\n",
    "                      yaxis=dict(nticks=0,tickfont=dict(\n",
    "                            color='black')),\n",
    "                      zaxis=dict(nticks=0,tickfont=dict(\n",
    "                            color='black')),\n",
    "                    dragmode=\"turntable\",\n",
    "                    #annotations=annotations,\n",
    "                ))'''\n",
    "\n",
    "fig.update_layout(template='plotly_white', showlegend=False, width=1200, height=1200,\n",
    "                  scene=dict(\n",
    "                      xaxis_title='',\n",
    "                      yaxis_title='',\n",
    "                      zaxis_title='',\n",
    "                      xaxis=dict(nticks=0,tickfont=dict(\n",
    "                            color='white')),\n",
    "                      yaxis=dict(nticks=0,tickfont=dict(\n",
    "                            color='white')),\n",
    "                      zaxis=dict(nticks=0,tickfont=dict(\n",
    "                            color='white')),    \n",
    "                    annotations=annotations2D,\n",
    "                ))    \n",
    "\n",
    "plotly.offline.plot(fig, filename = '2DSpring_'+organism+'.html', auto_open=True)"
   ]
  },
  {
   "cell_type": "markdown",
   "id": "funded-threshold",
   "metadata": {},
   "source": [
    "### Spring 3D - with plolty graph objects "
   ]
  },
  {
   "cell_type": "code",
   "execution_count": 135,
   "id": "eight-spare",
   "metadata": {},
   "outputs": [
    {
     "name": "stdout",
     "output_type": "stream",
     "text": [
      "CPU times: user 15.5 ms, sys: 1.64 ms, total: 17.2 ms\n",
      "Wall time: 16 ms\n"
     ]
    }
   ],
   "source": [
    "%%time \n",
    "\n",
    "posG_spring3D = nx.spring_layout(G, iterations = 150, dim = 3)"
   ]
  },
  {
   "cell_type": "code",
   "execution_count": 140,
   "id": "signed-grocery",
   "metadata": {},
   "outputs": [
    {
     "name": "stdout",
     "output_type": "stream",
     "text": [
      "Spring Layout: tree\n"
     ]
    },
    {
     "data": {
      "text/plain": [
       "'3DSpring_tree.html'"
      ]
     },
     "execution_count": 140,
     "metadata": {},
     "output_type": "execute_result"
    }
   ],
   "source": [
    "spring_nodes = get_trace_nodes_3D(posG_spring3D, info_list, colours, size3d, opac=0.7)\n",
    "spring_edges = get_trace_edges_3D(G, posG_spring3D, edge_colordark, opac=1)\n",
    "\n",
    "spring_data = [spring_nodes, spring_edges]\n",
    "\n",
    "print('Spring Layout:', organism)\n",
    "\n",
    "fig = pgo.Figure()\n",
    "for i in spring_data:\n",
    "    fig.add_trace(i)\n",
    "\n",
    "fig.update_layout(template='plotly_dark', showlegend=False, width=1200, height=1200,\n",
    "                  scene=dict(\n",
    "                      xaxis_title='',\n",
    "                      yaxis_title='',\n",
    "                      zaxis_title='',\n",
    "                      xaxis=dict(nticks=0,tickfont=dict(\n",
    "                            color='black')),\n",
    "                      yaxis=dict(nticks=0,tickfont=dict(\n",
    "                            color='black')),\n",
    "                      zaxis=dict(nticks=0,tickfont=dict(\n",
    "                            color='black')),\n",
    "                    dragmode=\"turntable\",\n",
    "                    \n",
    "))\n",
    "\n",
    "# uncomment for light plot \n",
    "'''fig.update_layout(template='plotly_white', showlegend=False, width=1200, height=1200,\n",
    "                  scene=dict(\n",
    "                      xaxis_title='',\n",
    "                      yaxis_title='',\n",
    "                      zaxis_title='',\n",
    "                      xaxis=dict(nticks=0,tickfont=dict(\n",
    "                            color='white')),\n",
    "                      yaxis=dict(nticks=0,tickfont=dict(\n",
    "                            color='white')),\n",
    "                      zaxis=dict(nticks=0,tickfont=dict(\n",
    "                            color='white')),    \n",
    "                    dragmode=\"turntable\",\n",
    "                    \n",
    "                ))    \n",
    "'''\n",
    "plotly.offline.plot(fig, filename = '3DSpring_'+organism+'.html', auto_open=True)"
   ]
  },
  {
   "cell_type": "code",
   "execution_count": null,
   "id": "monetary-kitchen",
   "metadata": {},
   "outputs": [],
   "source": []
  },
  {
   "cell_type": "code",
   "execution_count": null,
   "id": "educational-scratch",
   "metadata": {},
   "outputs": [],
   "source": []
  },
  {
   "cell_type": "code",
   "execution_count": null,
   "id": "corporate-azerbaijan",
   "metadata": {},
   "outputs": [],
   "source": []
  }
 ],
 "metadata": {
  "kernelspec": {
   "display_name": "Python 3",
   "language": "python",
   "name": "python3"
  },
  "language_info": {
   "codemirror_mode": {
    "name": "ipython",
    "version": 3
   },
   "file_extension": ".py",
   "mimetype": "text/x-python",
   "name": "python",
   "nbconvert_exporter": "python",
   "pygments_lexer": "ipython3",
   "version": "3.8.2"
  }
 },
 "nbformat": 4,
 "nbformat_minor": 5
}
