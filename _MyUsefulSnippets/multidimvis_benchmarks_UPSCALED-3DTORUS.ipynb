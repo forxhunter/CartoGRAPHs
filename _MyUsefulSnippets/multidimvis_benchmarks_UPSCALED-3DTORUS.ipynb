{
 "cells": [
  {
   "cell_type": "markdown",
   "metadata": {},
   "source": [
    "# ===========================\n",
    "# Benchmarking - U P S C A L I N G - 3D CUBE \n",
    "# ==========================="
   ]
  },
  {
   "cell_type": "code",
   "execution_count": 1,
   "metadata": {},
   "outputs": [],
   "source": [
    "from multidimvis_main import *"
   ]
  },
  {
   "cell_type": "code",
   "execution_count": 3,
   "metadata": {},
   "outputs": [],
   "source": [
    "# 3D TORUS \n",
    "organism = 'tor'\n",
    "\n",
    "feature = 'RWRvis'\n",
    "r = .9\n",
    "alpha = 1.0\n",
    "\n",
    "# parameters (post - testing)\n",
    "n_neighbors = 10\n",
    "spread = 1\n",
    "min_dist = 0.0\n",
    "metric = 'cosine'\n",
    "lnr = 1\n",
    "nep = None"
   ]
  },
  {
   "cell_type": "markdown",
   "metadata": {},
   "source": [
    "_________\n",
    "# 3D - Torus\n",
    "_________"
   ]
  },
  {
   "cell_type": "code",
   "execution_count": 21,
   "metadata": {},
   "outputs": [
    {
     "name": "stdout",
     "output_type": "stream",
     "text": [
      "RWR\n",
      "Execution Time: 00:00:02\n",
      "prep layout distance\n",
      "prep network distance\n",
      "prep corr. coeff. data\n",
      "calculate corr. coeff.\n",
      "RWR corr coef:  0.9953409109329807\n",
      "\n",
      "\n",
      "SPRING\n",
      "Execution Time: 00:00:02\n",
      "prep layout distance\n",
      "prep network distance\n",
      "prep corr. coeff. data\n",
      "calculate corr. coeff.\n",
      "SPRING corr coef:  0.9786594141157169\n"
     ]
    }
   ],
   "source": [
    "#########\n",
    "# 1 0 0 \n",
    "#########\n",
    "\n",
    "G = nx.grid_2d_graph(12,8,periodic=True)\n",
    "\n",
    "print('RWR')\n",
    "start = time.time()\n",
    "posG_global = globallayout_3D(G,n_neighbors, spread, min_dist, metric)\n",
    "end = time.time()\n",
    "m,s = exec_time(start,end)\n",
    "\n",
    "r_global = pearson_corrcoef_3D(G, posG_global)\n",
    "print('RWR corr coef: ',r_global)\n",
    "\n",
    "print('\\n')\n",
    "print('SPRING')\n",
    "start = time.time()\n",
    "posG_spring = springlayout_3D(G,itr=4000)\n",
    "end = time.time()\n",
    "m,s = exec_time(start,end)\n",
    "\n",
    "r_spring = pearson_corrcoef_3D(G,posG_spring)\n",
    "print('SPRING corr coef: ',r_spring)"
   ]
  },
  {
   "cell_type": "code",
   "execution_count": null,
   "metadata": {},
   "outputs": [],
   "source": [
    "G = nx.grid_2d_graph(12,8,periodic=True)\n",
    "\n",
    "print('Runtime spring for Corr. Coeff. 0.99')\n",
    "\n",
    "start = time.time()\n",
    "posG_spring = springlayout_2D(G,itr=8000)\n",
    "end = time.time()\n",
    "m,s = exec_time(start,end)\n",
    "\n",
    "r_spring = pearson_corrcoef_2D(G,posG_spring)\n",
    "print('SPRING corr coef: ',r_spring)"
   ]
  },
  {
   "cell_type": "code",
   "execution_count": 26,
   "metadata": {},
   "outputs": [
    {
     "name": "stdout",
     "output_type": "stream",
     "text": [
      "RWR\n",
      "Execution Time: 00:00:05\n",
      "prep layout distance\n",
      "prep network distance\n",
      "prep corr. coeff. data\n",
      "calculate corr. coeff.\n",
      "RWR corr coef:  0.9747764909975275\n",
      "\n",
      "\n",
      "SPRING\n",
      "Execution Time: 00:00:05\n",
      "prep layout distance\n",
      "prep network distance\n",
      "prep corr. coeff. data\n",
      "calculate corr. coeff.\n",
      "SPRING corr coef:  0.896610104173987\n"
     ]
    }
   ],
   "source": [
    "#########\n",
    "# 5 0 0 \n",
    "#########\n",
    "\n",
    "G = nx.grid_2d_graph(42,12,periodic=True)\n",
    "\n",
    "print('RWR')\n",
    "start = time.time()\n",
    "posG_global = globallayout_3D(G,n_neighbors, spread, min_dist, metric)\n",
    "end = time.time()\n",
    "m,s = exec_time(start,end)\n",
    "\n",
    "r_global = pearson_corrcoef_3D(G, posG_global)\n",
    "print('RWR corr coef: ',r_global)\n",
    "\n",
    "print('\\n')\n",
    "print('SPRING')\n",
    "start = time.time()\n",
    "posG_spring = springlayout_3D(G,itr=90)\n",
    "end = time.time()\n",
    "m,s = exec_time(start,end)\n",
    "\n",
    "r_spring = pearson_corrcoef_3D(G,posG_spring)\n",
    "print('SPRING corr coef: ',r_spring)"
   ]
  },
  {
   "cell_type": "code",
   "execution_count": null,
   "metadata": {},
   "outputs": [],
   "source": [
    "G = nx.grid_2d_graph(42,12,periodic=True)\n",
    "\n",
    "print('Runtime spring for Corr. Coeff. 0.97')\n",
    "\n",
    "start = time.time()\n",
    "posG_spring = springlayout_2D(G,itr=800)\n",
    "end = time.time()\n",
    "m,s = exec_time(start,end)\n",
    "\n",
    "r_spring = pearson_corrcoef_2D(G,posG_spring)\n",
    "print('SPRING corr coef: ',r_spring)"
   ]
  },
  {
   "cell_type": "code",
   "execution_count": 29,
   "metadata": {},
   "outputs": [
    {
     "name": "stdout",
     "output_type": "stream",
     "text": [
      "RWR\n",
      "Execution Time: 00:00:18\n",
      "prep layout distance\n",
      "prep network distance\n",
      "prep corr. coeff. data\n",
      "calculate corr. coeff.\n",
      "RWR corr coef:  0.9760808329038996\n",
      "\n",
      "\n",
      "SPRING\n",
      "Execution Time: 00:00:20\n",
      "prep layout distance\n",
      "prep network distance\n",
      "prep corr. coeff. data\n",
      "calculate corr. coeff.\n",
      "SPRING corr coef:  0.9296547805540264\n"
     ]
    }
   ],
   "source": [
    "#########\n",
    "# 1 0 0 0 \n",
    "#########\n",
    "\n",
    "G = nx.grid_2d_graph(44,22,periodic=True)\n",
    "\n",
    "print('RWR')\n",
    "start = time.time()\n",
    "posG_global = globallayout_3D(G,n_neighbors, spread, min_dist, metric)\n",
    "end = time.time()\n",
    "m,s = exec_time(start,end)\n",
    "\n",
    "r_global = pearson_corrcoef_3D(G, posG_global)\n",
    "print('RWR corr coef: ',r_global)\n",
    "\n",
    "print('\\n')\n",
    "print('SPRING')\n",
    "start = time.time()\n",
    "posG_spring = springlayout_3D(G,itr=140)\n",
    "end = time.time()\n",
    "m,s = exec_time(start,end)\n",
    "\n",
    "r_spring = pearson_corrcoef_3D(G,posG_spring)\n",
    "print('SPRING corr coef: ',r_spring)"
   ]
  },
  {
   "cell_type": "code",
   "execution_count": null,
   "metadata": {},
   "outputs": [],
   "source": [
    "G = nx.grid_2d_graph(44,22,periodic=True)\n",
    "\n",
    "print('Runtime spring for Corr. Coeff. 0.97')\n",
    "\n",
    "start = time.time()\n",
    "posG_spring = springlayout_2D(G,itr=800)\n",
    "end = time.time()\n",
    "m,s = exec_time(start,end)\n",
    "\n",
    "r_spring = pearson_corrcoef_2D(G,posG_spring)\n",
    "print('SPRING corr coef: ',r_spring)"
   ]
  },
  {
   "cell_type": "code",
   "execution_count": 30,
   "metadata": {},
   "outputs": [
    {
     "name": "stdout",
     "output_type": "stream",
     "text": [
      "RWR\n",
      "Execution Time: 00:00:58\n",
      "prep layout distance\n",
      "prep network distance\n",
      "prep corr. coeff. data\n",
      "calculate corr. coeff.\n",
      "RWR corr coef:  0.9884442957666724\n"
     ]
    }
   ],
   "source": [
    "#########\n",
    "# 5 0 0 0 \n",
    "#########\n",
    "\n",
    "G = nx.grid_2d_graph(90,55,periodic=True)\n",
    "\n",
    "print('RWR')\n",
    "start = time.time()\n",
    "posG_global = globallayout_3D(G,n_neighbors, spread, min_dist, metric)\n",
    "end = time.time()\n",
    "m,s = exec_time(start,end)\n",
    "\n",
    "r_global = pearson_corrcoef_3D(G, posG_global)\n",
    "print('RWR corr coef: ',r_global)"
   ]
  },
  {
   "cell_type": "code",
   "execution_count": 33,
   "metadata": {},
   "outputs": [
    {
     "name": "stdout",
     "output_type": "stream",
     "text": [
      "SPRING\n",
      "Execution Time: 00:00:59\n",
      "prep layout distance\n",
      "prep network distance\n",
      "prep corr. coeff. data\n",
      "calculate corr. coeff.\n",
      "SPRING corr coef:  0.351588527909056\n"
     ]
    }
   ],
   "source": [
    "G = nx.grid_2d_graph(90,55,periodic=True)\n",
    "\n",
    "print('SPRING')\n",
    "start = time.time()\n",
    "posG_spring = springlayout_3D(G,itr=30)\n",
    "end = time.time()\n",
    "m,s = exec_time(start,end)\n",
    "\n",
    "r_spring = pearson_corrcoef_3D(G,posG_spring)\n",
    "print('SPRING corr coef: ',r_spring)"
   ]
  },
  {
   "cell_type": "code",
   "execution_count": null,
   "metadata": {},
   "outputs": [],
   "source": [
    "G = nx.grid_2d_graph(90,55,periodic=True)\n",
    "\n",
    "print('Runtime spring for Corr. Coeff. 0.98')\n",
    "\n",
    "start = time.time()\n",
    "posG_spring = springlayout_2D(G,itr=800)\n",
    "end = time.time()\n",
    "m,s = exec_time(start,end)\n",
    "\n",
    "r_spring = pearson_corrcoef_2D(G,posG_spring)\n",
    "print('SPRING corr coef: ',r_spring)"
   ]
  },
  {
   "cell_type": "code",
   "execution_count": 34,
   "metadata": {},
   "outputs": [
    {
     "name": "stdout",
     "output_type": "stream",
     "text": [
      "RWR\n",
      "Execution Time: 00:02:22\n",
      "prep layout distance\n",
      "prep network distance\n",
      "prep corr. coeff. data\n",
      "calculate corr. coeff.\n",
      "RWR corr coef:  0.9846049068909122\n"
     ]
    }
   ],
   "source": [
    "#########\n",
    "# 1 0 0 0 0 \n",
    "#########\n",
    "\n",
    "G = nx.grid_2d_graph(125,80,periodic=True)\n",
    "\n",
    "print('RWR')\n",
    "start = time.time()\n",
    "posG_global = globallayout_3D(G,n_neighbors, spread, min_dist, metric)\n",
    "end = time.time()\n",
    "m,s = exec_time(start,end)\n",
    "\n",
    "r_global = pearson_corrcoef_3D(G, posG_global)\n",
    "print('RWR corr coef: ',r_global)"
   ]
  },
  {
   "cell_type": "code",
   "execution_count": null,
   "metadata": {},
   "outputs": [],
   "source": [
    "G = nx.grid_2d_graph(125,80,periodic=True)\n",
    "\n",
    "print('\\n')\n",
    "print('SPRING')\n",
    "start = time.time()\n",
    "posG_spring = springlayout_3D(G,itr=30)\n",
    "end = time.time()\n",
    "m,s = exec_time(start,end)\n",
    "\n",
    "r_spring = pearson_corrcoef_3D(G,posG_spring)\n",
    "print('SPRING corr coef: ',r_spring)"
   ]
  },
  {
   "cell_type": "code",
   "execution_count": null,
   "metadata": {},
   "outputs": [],
   "source": [
    "G = nx.grid_2d_graph(125,80,periodic=True)\n",
    "\n",
    "print('Runtime spring for Corr. Coeff. 0.98')\n",
    "\n",
    "start = time.time()\n",
    "posG_spring = springlayout_2D(G,itr=800)\n",
    "end = time.time()\n",
    "m,s = exec_time(start,end)\n",
    "\n",
    "r_spring = pearson_corrcoef_2D(G,posG_spring)\n",
    "print('SPRING corr coef: ',r_spring)"
   ]
  },
  {
   "cell_type": "code",
   "execution_count": 3,
   "metadata": {},
   "outputs": [
    {
     "name": "stdout",
     "output_type": "stream",
     "text": [
      "RWR\n"
     ]
    },
    {
     "name": "stderr",
     "output_type": "stream",
     "text": [
      "/users/christiane.huetter/miniconda3/envs/myenv_clip2/lib/python3.6/site-packages/umap/umap_.py:126: UserWarning:\n",
      "\n",
      "A few of your vertices were disconnected from the manifold.  This shouldn't cause problems.\n",
      "Disconnection_distance = 1 has removed 9 edges.\n",
      "It has only fully disconnected 1 vertices.\n",
      "Use umap.utils.disconnected_vertices() to identify them.\n",
      "\n"
     ]
    },
    {
     "name": "stdout",
     "output_type": "stream",
     "text": [
      "Execution Time: 00:09:00\n",
      "prep layout distance\n",
      "prep network distance\n"
     ]
    },
    {
     "name": "stderr",
     "output_type": "stream",
     "text": [
      "ERROR:root:Internal Python error in the inspect module.\n",
      "Below is the traceback from this internal error.\n",
      "\n",
      "ERROR:root:Internal Python error in the inspect module.\n",
      "Below is the traceback from this internal error.\n",
      "\n"
     ]
    },
    {
     "name": "stdout",
     "output_type": "stream",
     "text": [
      "Traceback (most recent call last):\n",
      "  File \"/users/christiane.huetter/miniconda3/envs/myenv_clip2/lib/python3.6/site-packages/IPython/core/interactiveshell.py\", line 3343, in run_code\n",
      "    exec(code_obj, self.user_global_ns, self.user_ns)\n",
      "  File \"<ipython-input-4-32bbf2a5fb87>\", line 13, in <module>\n",
      "    r_global = pearson_corrcoef_3D(G, posG_global)\n",
      "  File \"/users/christiane.huetter/Multidim_vis/multidimvis_main.py\", line 412, in pearson_corrcoef_3D\n",
      "    ########################################################################################\n",
      "  File \"/users/christiane.huetter/miniconda3/envs/myenv_clip2/lib/python3.6/site-packages/networkx/algorithms/shortest_paths/generic.py\", line 312, in shortest_path_length\n",
      "    p = nx.bidirectional_shortest_path(G, source, target)\n",
      "  File \"/users/christiane.huetter/miniconda3/envs/myenv_clip2/lib/python3.6/site-packages/networkx/algorithms/shortest_paths/unweighted.py\", line 226, in bidirectional_shortest_path\n",
      "    results = _bidirectional_pred_succ(G, source, target)\n",
      "  File \"/users/christiane.huetter/miniconda3/envs/myenv_clip2/lib/python3.6/site-packages/networkx/algorithms/shortest_paths/unweighted.py\", line 288, in _bidirectional_pred_succ\n",
      "    if w not in succ:\n",
      "KeyboardInterrupt\n",
      "\n",
      "During handling of the above exception, another exception occurred:\n",
      "\n",
      "Traceback (most recent call last):\n",
      "  File \"/users/christiane.huetter/miniconda3/envs/myenv_clip2/lib/python3.6/site-packages/IPython/core/interactiveshell.py\", line 2044, in showtraceback\n",
      "    stb = value._render_traceback_()\n",
      "AttributeError: 'KeyboardInterrupt' object has no attribute '_render_traceback_'\n",
      "\n",
      "During handling of the above exception, another exception occurred:\n",
      "\n",
      "Traceback (most recent call last):\n",
      "  File \"/users/christiane.huetter/miniconda3/envs/myenv_clip2/lib/python3.6/site-packages/IPython/core/ultratb.py\", line 1169, in get_records\n",
      "    return _fixed_getinnerframes(etb, number_of_lines_of_context, tb_offset)\n",
      "  File \"/users/christiane.huetter/miniconda3/envs/myenv_clip2/lib/python3.6/site-packages/IPython/core/ultratb.py\", line 316, in wrapped\n",
      "    return f(*args, **kwargs)\n",
      "  File \"/users/christiane.huetter/miniconda3/envs/myenv_clip2/lib/python3.6/site-packages/IPython/core/ultratb.py\", line 350, in _fixed_getinnerframes\n",
      "    records = fix_frame_records_filenames(inspect.getinnerframes(etb, context))\n",
      "  File \"/users/christiane.huetter/miniconda3/envs/myenv_clip2/lib/python3.6/inspect.py\", line 1490, in getinnerframes\n",
      "    frameinfo = (tb.tb_frame,) + getframeinfo(tb, context)\n",
      "  File \"/users/christiane.huetter/miniconda3/envs/myenv_clip2/lib/python3.6/inspect.py\", line 1448, in getframeinfo\n",
      "    filename = getsourcefile(frame) or getfile(frame)\n",
      "  File \"/users/christiane.huetter/miniconda3/envs/myenv_clip2/lib/python3.6/inspect.py\", line 696, in getsourcefile\n",
      "    if getattr(getmodule(object, filename), '__loader__', None) is not None:\n",
      "  File \"/users/christiane.huetter/miniconda3/envs/myenv_clip2/lib/python3.6/inspect.py\", line 739, in getmodule\n",
      "    f = getabsfile(module)\n",
      "  File \"/users/christiane.huetter/miniconda3/envs/myenv_clip2/lib/python3.6/inspect.py\", line 708, in getabsfile\n",
      "    _filename = getsourcefile(object) or getfile(object)\n",
      "  File \"/users/christiane.huetter/miniconda3/envs/myenv_clip2/lib/python3.6/inspect.py\", line 693, in getsourcefile\n",
      "    if os.path.exists(filename):\n",
      "  File \"/users/christiane.huetter/miniconda3/envs/myenv_clip2/lib/python3.6/genericpath.py\", line 19, in exists\n",
      "    os.stat(path)\n",
      "KeyboardInterrupt\n",
      "Traceback (most recent call last):\n",
      "  File \"/users/christiane.huetter/miniconda3/envs/myenv_clip2/lib/python3.6/site-packages/IPython/core/interactiveshell.py\", line 3343, in run_code\n",
      "    exec(code_obj, self.user_global_ns, self.user_ns)\n",
      "  File \"<ipython-input-4-32bbf2a5fb87>\", line 13, in <module>\n",
      "    r_global = pearson_corrcoef_3D(G, posG_global)\n",
      "  File \"/users/christiane.huetter/Multidim_vis/multidimvis_main.py\", line 412, in pearson_corrcoef_3D\n",
      "    ########################################################################################\n",
      "  File \"/users/christiane.huetter/miniconda3/envs/myenv_clip2/lib/python3.6/site-packages/networkx/algorithms/shortest_paths/generic.py\", line 312, in shortest_path_length\n",
      "    p = nx.bidirectional_shortest_path(G, source, target)\n",
      "  File \"/users/christiane.huetter/miniconda3/envs/myenv_clip2/lib/python3.6/site-packages/networkx/algorithms/shortest_paths/unweighted.py\", line 226, in bidirectional_shortest_path\n",
      "    results = _bidirectional_pred_succ(G, source, target)\n",
      "  File \"/users/christiane.huetter/miniconda3/envs/myenv_clip2/lib/python3.6/site-packages/networkx/algorithms/shortest_paths/unweighted.py\", line 288, in _bidirectional_pred_succ\n",
      "    if w not in succ:\n",
      "KeyboardInterrupt\n",
      "\n",
      "During handling of the above exception, another exception occurred:\n",
      "\n",
      "Traceback (most recent call last):\n",
      "  File \"/users/christiane.huetter/miniconda3/envs/myenv_clip2/lib/python3.6/site-packages/IPython/core/interactiveshell.py\", line 2044, in showtraceback\n",
      "    stb = value._render_traceback_()\n",
      "AttributeError: 'KeyboardInterrupt' object has no attribute '_render_traceback_'\n",
      "\n",
      "During handling of the above exception, another exception occurred:\n",
      "\n",
      "Traceback (most recent call last):\n",
      "  File \"/users/christiane.huetter/miniconda3/envs/myenv_clip2/lib/python3.6/site-packages/IPython/core/interactiveshell.py\", line 3263, in run_ast_nodes\n",
      "    if (await self.run_code(code, result,  async_=asy)):\n",
      "  File \"/users/christiane.huetter/miniconda3/envs/myenv_clip2/lib/python3.6/site-packages/IPython/core/interactiveshell.py\", line 3360, in run_code\n",
      "    self.showtraceback(running_compiled_code=True)\n",
      "  File \"/users/christiane.huetter/miniconda3/envs/myenv_clip2/lib/python3.6/site-packages/IPython/core/interactiveshell.py\", line 2047, in showtraceback\n",
      "    value, tb, tb_offset=tb_offset)\n",
      "  File \"/users/christiane.huetter/miniconda3/envs/myenv_clip2/lib/python3.6/site-packages/IPython/core/ultratb.py\", line 1436, in structured_traceback\n",
      "    self, etype, value, tb, tb_offset, number_of_lines_of_context)\n",
      "  File \"/users/christiane.huetter/miniconda3/envs/myenv_clip2/lib/python3.6/site-packages/IPython/core/ultratb.py\", line 1336, in structured_traceback\n",
      "    self, etype, value, tb, tb_offset, number_of_lines_of_context\n",
      "  File \"/users/christiane.huetter/miniconda3/envs/myenv_clip2/lib/python3.6/site-packages/IPython/core/ultratb.py\", line 1193, in structured_traceback\n",
      "    tb_offset)\n",
      "  File \"/users/christiane.huetter/miniconda3/envs/myenv_clip2/lib/python3.6/site-packages/IPython/core/ultratb.py\", line 1150, in format_exception_as_a_whole\n",
      "    last_unique, recursion_repeat = find_recursion(orig_etype, evalue, records)\n",
      "  File \"/users/christiane.huetter/miniconda3/envs/myenv_clip2/lib/python3.6/site-packages/IPython/core/ultratb.py\", line 451, in find_recursion\n",
      "    return len(records), 0\n",
      "TypeError: object of type 'NoneType' has no len()\n",
      "\n",
      "During handling of the above exception, another exception occurred:\n",
      "\n",
      "Traceback (most recent call last):\n",
      "  File \"/users/christiane.huetter/miniconda3/envs/myenv_clip2/lib/python3.6/site-packages/IPython/core/interactiveshell.py\", line 2044, in showtraceback\n",
      "    stb = value._render_traceback_()\n",
      "AttributeError: 'TypeError' object has no attribute '_render_traceback_'\n",
      "\n",
      "During handling of the above exception, another exception occurred:\n",
      "\n",
      "Traceback (most recent call last):\n",
      "  File \"/users/christiane.huetter/miniconda3/envs/myenv_clip2/lib/python3.6/site-packages/IPython/core/ultratb.py\", line 1169, in get_records\n",
      "    return _fixed_getinnerframes(etb, number_of_lines_of_context, tb_offset)\n",
      "  File \"/users/christiane.huetter/miniconda3/envs/myenv_clip2/lib/python3.6/site-packages/IPython/core/ultratb.py\", line 316, in wrapped\n",
      "    return f(*args, **kwargs)\n",
      "  File \"/users/christiane.huetter/miniconda3/envs/myenv_clip2/lib/python3.6/site-packages/IPython/core/ultratb.py\", line 350, in _fixed_getinnerframes\n",
      "    records = fix_frame_records_filenames(inspect.getinnerframes(etb, context))\n",
      "  File \"/users/christiane.huetter/miniconda3/envs/myenv_clip2/lib/python3.6/inspect.py\", line 1490, in getinnerframes\n",
      "    frameinfo = (tb.tb_frame,) + getframeinfo(tb, context)\n",
      "  File \"/users/christiane.huetter/miniconda3/envs/myenv_clip2/lib/python3.6/inspect.py\", line 1448, in getframeinfo\n",
      "    filename = getsourcefile(frame) or getfile(frame)\n",
      "  File \"/users/christiane.huetter/miniconda3/envs/myenv_clip2/lib/python3.6/inspect.py\", line 696, in getsourcefile\n",
      "    if getattr(getmodule(object, filename), '__loader__', None) is not None:\n",
      "  File \"/users/christiane.huetter/miniconda3/envs/myenv_clip2/lib/python3.6/inspect.py\", line 739, in getmodule\n",
      "    f = getabsfile(module)\n",
      "  File \"/users/christiane.huetter/miniconda3/envs/myenv_clip2/lib/python3.6/inspect.py\", line 708, in getabsfile\n",
      "    _filename = getsourcefile(object) or getfile(object)\n",
      "  File \"/users/christiane.huetter/miniconda3/envs/myenv_clip2/lib/python3.6/inspect.py\", line 693, in getsourcefile\n",
      "    if os.path.exists(filename):\n",
      "KeyboardInterrupt\n"
     ]
    },
    {
     "ename": "TypeError",
     "evalue": "object of type 'NoneType' has no len()",
     "output_type": "error",
     "traceback": [
      "\u001b[0;31m---------------------------------------------------------------------------\u001b[0m",
      "\u001b[0;31mKeyboardInterrupt\u001b[0m                         Traceback (most recent call last)",
      "    \u001b[0;31m[... skipping hidden 1 frame]\u001b[0m\n",
      "\u001b[0;32m<ipython-input-4-32bbf2a5fb87>\u001b[0m in \u001b[0;36m<module>\u001b[0;34m\u001b[0m\n\u001b[1;32m     12\u001b[0m \u001b[0;34m\u001b[0m\u001b[0m\n\u001b[0;32m---> 13\u001b[0;31m \u001b[0mr_global\u001b[0m \u001b[0;34m=\u001b[0m \u001b[0mpearson_corrcoef_3D\u001b[0m\u001b[0;34m(\u001b[0m\u001b[0mG\u001b[0m\u001b[0;34m,\u001b[0m \u001b[0mposG_global\u001b[0m\u001b[0;34m)\u001b[0m\u001b[0;34m\u001b[0m\u001b[0;34m\u001b[0m\u001b[0m\n\u001b[0m\u001b[1;32m     14\u001b[0m \u001b[0mprint\u001b[0m\u001b[0;34m(\u001b[0m\u001b[0;34m'RWR corr coef: '\u001b[0m\u001b[0;34m,\u001b[0m\u001b[0mr_global\u001b[0m\u001b[0;34m)\u001b[0m\u001b[0;34m\u001b[0m\u001b[0;34m\u001b[0m\u001b[0m\n",
      "\u001b[0;32m~/Multidim_vis/multidimvis_main.py\u001b[0m in \u001b[0;36mpearson_corrcoef_3D\u001b[0;34m(G, posG)\u001b[0m\n\u001b[1;32m    411\u001b[0m \u001b[0;34m\u001b[0m\u001b[0m\n\u001b[0;32m--> 412\u001b[0;31m \u001b[0;31m########################################################################################\u001b[0m\u001b[0;34m\u001b[0m\u001b[0;34m\u001b[0m\u001b[0;34m\u001b[0m\u001b[0m\n\u001b[0m\u001b[1;32m    413\u001b[0m \u001b[0;31m#\u001b[0m\u001b[0;34m\u001b[0m\u001b[0;34m\u001b[0m\u001b[0;34m\u001b[0m\u001b[0m\n",
      "\u001b[0;32m~/miniconda3/envs/myenv_clip2/lib/python3.6/site-packages/networkx/algorithms/shortest_paths/generic.py\u001b[0m in \u001b[0;36mshortest_path_length\u001b[0;34m(G, source, target, weight, method)\u001b[0m\n\u001b[1;32m    311\u001b[0m             \u001b[0;32mif\u001b[0m \u001b[0mmethod\u001b[0m \u001b[0;34m==\u001b[0m \u001b[0;34m'unweighted'\u001b[0m\u001b[0;34m:\u001b[0m\u001b[0;34m\u001b[0m\u001b[0;34m\u001b[0m\u001b[0m\n\u001b[0;32m--> 312\u001b[0;31m                 \u001b[0mp\u001b[0m \u001b[0;34m=\u001b[0m \u001b[0mnx\u001b[0m\u001b[0;34m.\u001b[0m\u001b[0mbidirectional_shortest_path\u001b[0m\u001b[0;34m(\u001b[0m\u001b[0mG\u001b[0m\u001b[0;34m,\u001b[0m \u001b[0msource\u001b[0m\u001b[0;34m,\u001b[0m \u001b[0mtarget\u001b[0m\u001b[0;34m)\u001b[0m\u001b[0;34m\u001b[0m\u001b[0;34m\u001b[0m\u001b[0m\n\u001b[0m\u001b[1;32m    313\u001b[0m                 \u001b[0mpaths\u001b[0m \u001b[0;34m=\u001b[0m \u001b[0mlen\u001b[0m\u001b[0;34m(\u001b[0m\u001b[0mp\u001b[0m\u001b[0;34m)\u001b[0m \u001b[0;34m-\u001b[0m \u001b[0;36m1\u001b[0m\u001b[0;34m\u001b[0m\u001b[0;34m\u001b[0m\u001b[0m\n",
      "\u001b[0;32m~/miniconda3/envs/myenv_clip2/lib/python3.6/site-packages/networkx/algorithms/shortest_paths/unweighted.py\u001b[0m in \u001b[0;36mbidirectional_shortest_path\u001b[0;34m(G, source, target)\u001b[0m\n\u001b[1;32m    225\u001b[0m     \u001b[0;31m# call helper to do the real work\u001b[0m\u001b[0;34m\u001b[0m\u001b[0;34m\u001b[0m\u001b[0;34m\u001b[0m\u001b[0m\n\u001b[0;32m--> 226\u001b[0;31m     \u001b[0mresults\u001b[0m \u001b[0;34m=\u001b[0m \u001b[0m_bidirectional_pred_succ\u001b[0m\u001b[0;34m(\u001b[0m\u001b[0mG\u001b[0m\u001b[0;34m,\u001b[0m \u001b[0msource\u001b[0m\u001b[0;34m,\u001b[0m \u001b[0mtarget\u001b[0m\u001b[0;34m)\u001b[0m\u001b[0;34m\u001b[0m\u001b[0;34m\u001b[0m\u001b[0m\n\u001b[0m\u001b[1;32m    227\u001b[0m     \u001b[0mpred\u001b[0m\u001b[0;34m,\u001b[0m \u001b[0msucc\u001b[0m\u001b[0;34m,\u001b[0m \u001b[0mw\u001b[0m \u001b[0;34m=\u001b[0m \u001b[0mresults\u001b[0m\u001b[0;34m\u001b[0m\u001b[0;34m\u001b[0m\u001b[0m\n",
      "\u001b[0;32m~/miniconda3/envs/myenv_clip2/lib/python3.6/site-packages/networkx/algorithms/shortest_paths/unweighted.py\u001b[0m in \u001b[0;36m_bidirectional_pred_succ\u001b[0;34m(G, source, target)\u001b[0m\n\u001b[1;32m    287\u001b[0m                 \u001b[0;32mfor\u001b[0m \u001b[0mw\u001b[0m \u001b[0;32min\u001b[0m \u001b[0mGpred\u001b[0m\u001b[0;34m[\u001b[0m\u001b[0mv\u001b[0m\u001b[0;34m]\u001b[0m\u001b[0;34m:\u001b[0m\u001b[0;34m\u001b[0m\u001b[0;34m\u001b[0m\u001b[0m\n\u001b[0;32m--> 288\u001b[0;31m                     \u001b[0;32mif\u001b[0m \u001b[0mw\u001b[0m \u001b[0;32mnot\u001b[0m \u001b[0;32min\u001b[0m \u001b[0msucc\u001b[0m\u001b[0;34m:\u001b[0m\u001b[0;34m\u001b[0m\u001b[0;34m\u001b[0m\u001b[0m\n\u001b[0m\u001b[1;32m    289\u001b[0m                         \u001b[0msucc\u001b[0m\u001b[0;34m[\u001b[0m\u001b[0mw\u001b[0m\u001b[0;34m]\u001b[0m \u001b[0;34m=\u001b[0m \u001b[0mv\u001b[0m\u001b[0;34m\u001b[0m\u001b[0;34m\u001b[0m\u001b[0m\n",
      "\u001b[0;31mKeyboardInterrupt\u001b[0m: ",
      "\nDuring handling of the above exception, another exception occurred:\n",
      "\u001b[0;31mAttributeError\u001b[0m                            Traceback (most recent call last)",
      "\u001b[0;32m~/miniconda3/envs/myenv_clip2/lib/python3.6/site-packages/IPython/core/interactiveshell.py\u001b[0m in \u001b[0;36mshowtraceback\u001b[0;34m(self, exc_tuple, filename, tb_offset, exception_only, running_compiled_code)\u001b[0m\n\u001b[1;32m   2043\u001b[0m                         \u001b[0;31m# in the engines. This should return a list of strings.\u001b[0m\u001b[0;34m\u001b[0m\u001b[0;34m\u001b[0m\u001b[0;34m\u001b[0m\u001b[0m\n\u001b[0;32m-> 2044\u001b[0;31m                         \u001b[0mstb\u001b[0m \u001b[0;34m=\u001b[0m \u001b[0mvalue\u001b[0m\u001b[0;34m.\u001b[0m\u001b[0m_render_traceback_\u001b[0m\u001b[0;34m(\u001b[0m\u001b[0;34m)\u001b[0m\u001b[0;34m\u001b[0m\u001b[0;34m\u001b[0m\u001b[0m\n\u001b[0m\u001b[1;32m   2045\u001b[0m                     \u001b[0;32mexcept\u001b[0m \u001b[0mException\u001b[0m\u001b[0;34m:\u001b[0m\u001b[0;34m\u001b[0m\u001b[0;34m\u001b[0m\u001b[0m\n",
      "\u001b[0;31mAttributeError\u001b[0m: 'KeyboardInterrupt' object has no attribute '_render_traceback_'",
      "\nDuring handling of the above exception, another exception occurred:\n",
      "\u001b[0;31mTypeError\u001b[0m                                 Traceback (most recent call last)",
      "\u001b[0;32m~/miniconda3/envs/myenv_clip2/lib/python3.6/site-packages/IPython/core/interactiveshell.py\u001b[0m in \u001b[0;36mrun_ast_nodes\u001b[0;34m(self, nodelist, cell_name, interactivity, compiler, result)\u001b[0m\n\u001b[1;32m   3262\u001b[0m                         \u001b[0masy\u001b[0m \u001b[0;34m=\u001b[0m \u001b[0mcompare\u001b[0m\u001b[0;34m(\u001b[0m\u001b[0mcode\u001b[0m\u001b[0;34m)\u001b[0m\u001b[0;34m\u001b[0m\u001b[0;34m\u001b[0m\u001b[0m\n\u001b[0;32m-> 3263\u001b[0;31m                     \u001b[0;32mif\u001b[0m \u001b[0;34m(\u001b[0m\u001b[0mawait\u001b[0m \u001b[0mself\u001b[0m\u001b[0;34m.\u001b[0m\u001b[0mrun_code\u001b[0m\u001b[0;34m(\u001b[0m\u001b[0mcode\u001b[0m\u001b[0;34m,\u001b[0m \u001b[0mresult\u001b[0m\u001b[0;34m,\u001b[0m  \u001b[0masync_\u001b[0m\u001b[0;34m=\u001b[0m\u001b[0masy\u001b[0m\u001b[0;34m)\u001b[0m\u001b[0;34m)\u001b[0m\u001b[0;34m:\u001b[0m\u001b[0;34m\u001b[0m\u001b[0;34m\u001b[0m\u001b[0m\n\u001b[0m\u001b[1;32m   3264\u001b[0m                         \u001b[0;32mreturn\u001b[0m \u001b[0;32mTrue\u001b[0m\u001b[0;34m\u001b[0m\u001b[0;34m\u001b[0m\u001b[0m\n",
      "    \u001b[0;31m[... skipping hidden 1 frame]\u001b[0m\n",
      "\u001b[0;32m~/miniconda3/envs/myenv_clip2/lib/python3.6/site-packages/IPython/core/interactiveshell.py\u001b[0m in \u001b[0;36mshowtraceback\u001b[0;34m(self, exc_tuple, filename, tb_offset, exception_only, running_compiled_code)\u001b[0m\n\u001b[1;32m   2046\u001b[0m                         stb = self.InteractiveTB.structured_traceback(etype,\n\u001b[0;32m-> 2047\u001b[0;31m                                             value, tb, tb_offset=tb_offset)\n\u001b[0m\u001b[1;32m   2048\u001b[0m \u001b[0;34m\u001b[0m\u001b[0m\n",
      "\u001b[0;32m~/miniconda3/envs/myenv_clip2/lib/python3.6/site-packages/IPython/core/ultratb.py\u001b[0m in \u001b[0;36mstructured_traceback\u001b[0;34m(self, etype, value, tb, tb_offset, number_of_lines_of_context)\u001b[0m\n\u001b[1;32m   1435\u001b[0m         return FormattedTB.structured_traceback(\n\u001b[0;32m-> 1436\u001b[0;31m             self, etype, value, tb, tb_offset, number_of_lines_of_context)\n\u001b[0m\u001b[1;32m   1437\u001b[0m \u001b[0;34m\u001b[0m\u001b[0m\n",
      "\u001b[0;32m~/miniconda3/envs/myenv_clip2/lib/python3.6/site-packages/IPython/core/ultratb.py\u001b[0m in \u001b[0;36mstructured_traceback\u001b[0;34m(self, etype, value, tb, tb_offset, number_of_lines_of_context)\u001b[0m\n\u001b[1;32m   1335\u001b[0m             return VerboseTB.structured_traceback(\n\u001b[0;32m-> 1336\u001b[0;31m                 \u001b[0mself\u001b[0m\u001b[0;34m,\u001b[0m \u001b[0metype\u001b[0m\u001b[0;34m,\u001b[0m \u001b[0mvalue\u001b[0m\u001b[0;34m,\u001b[0m \u001b[0mtb\u001b[0m\u001b[0;34m,\u001b[0m \u001b[0mtb_offset\u001b[0m\u001b[0;34m,\u001b[0m \u001b[0mnumber_of_lines_of_context\u001b[0m\u001b[0;34m\u001b[0m\u001b[0;34m\u001b[0m\u001b[0m\n\u001b[0m\u001b[1;32m   1337\u001b[0m             )\n",
      "\u001b[0;32m~/miniconda3/envs/myenv_clip2/lib/python3.6/site-packages/IPython/core/ultratb.py\u001b[0m in \u001b[0;36mstructured_traceback\u001b[0;34m(self, etype, evalue, etb, tb_offset, number_of_lines_of_context)\u001b[0m\n\u001b[1;32m   1192\u001b[0m         formatted_exception = self.format_exception_as_a_whole(etype, evalue, etb, number_of_lines_of_context,\n\u001b[0;32m-> 1193\u001b[0;31m                                                                tb_offset)\n\u001b[0m\u001b[1;32m   1194\u001b[0m \u001b[0;34m\u001b[0m\u001b[0m\n",
      "\u001b[0;32m~/miniconda3/envs/myenv_clip2/lib/python3.6/site-packages/IPython/core/ultratb.py\u001b[0m in \u001b[0;36mformat_exception_as_a_whole\u001b[0;34m(self, etype, evalue, etb, number_of_lines_of_context, tb_offset)\u001b[0m\n\u001b[1;32m   1149\u001b[0m \u001b[0;34m\u001b[0m\u001b[0m\n\u001b[0;32m-> 1150\u001b[0;31m         \u001b[0mlast_unique\u001b[0m\u001b[0;34m,\u001b[0m \u001b[0mrecursion_repeat\u001b[0m \u001b[0;34m=\u001b[0m \u001b[0mfind_recursion\u001b[0m\u001b[0;34m(\u001b[0m\u001b[0morig_etype\u001b[0m\u001b[0;34m,\u001b[0m \u001b[0mevalue\u001b[0m\u001b[0;34m,\u001b[0m \u001b[0mrecords\u001b[0m\u001b[0;34m)\u001b[0m\u001b[0;34m\u001b[0m\u001b[0;34m\u001b[0m\u001b[0m\n\u001b[0m\u001b[1;32m   1151\u001b[0m \u001b[0;34m\u001b[0m\u001b[0m\n",
      "\u001b[0;32m~/miniconda3/envs/myenv_clip2/lib/python3.6/site-packages/IPython/core/ultratb.py\u001b[0m in \u001b[0;36mfind_recursion\u001b[0;34m(etype, value, records)\u001b[0m\n\u001b[1;32m    450\u001b[0m     \u001b[0;32mif\u001b[0m \u001b[0;32mnot\u001b[0m \u001b[0mis_recursion_error\u001b[0m\u001b[0;34m(\u001b[0m\u001b[0metype\u001b[0m\u001b[0;34m,\u001b[0m \u001b[0mvalue\u001b[0m\u001b[0;34m,\u001b[0m \u001b[0mrecords\u001b[0m\u001b[0;34m)\u001b[0m\u001b[0;34m:\u001b[0m\u001b[0;34m\u001b[0m\u001b[0;34m\u001b[0m\u001b[0m\n\u001b[0;32m--> 451\u001b[0;31m         \u001b[0;32mreturn\u001b[0m \u001b[0mlen\u001b[0m\u001b[0;34m(\u001b[0m\u001b[0mrecords\u001b[0m\u001b[0;34m)\u001b[0m\u001b[0;34m,\u001b[0m \u001b[0;36m0\u001b[0m\u001b[0;34m\u001b[0m\u001b[0;34m\u001b[0m\u001b[0m\n\u001b[0m\u001b[1;32m    452\u001b[0m \u001b[0;34m\u001b[0m\u001b[0m\n",
      "\u001b[0;31mTypeError\u001b[0m: object of type 'NoneType' has no len()",
      "\nDuring handling of the above exception, another exception occurred:\n",
      "\u001b[0;31mAttributeError\u001b[0m                            Traceback (most recent call last)",
      "\u001b[0;32m~/miniconda3/envs/myenv_clip2/lib/python3.6/site-packages/IPython/core/interactiveshell.py\u001b[0m in \u001b[0;36mshowtraceback\u001b[0;34m(self, exc_tuple, filename, tb_offset, exception_only, running_compiled_code)\u001b[0m\n\u001b[1;32m   2043\u001b[0m                         \u001b[0;31m# in the engines. This should return a list of strings.\u001b[0m\u001b[0;34m\u001b[0m\u001b[0;34m\u001b[0m\u001b[0;34m\u001b[0m\u001b[0m\n\u001b[0;32m-> 2044\u001b[0;31m                         \u001b[0mstb\u001b[0m \u001b[0;34m=\u001b[0m \u001b[0mvalue\u001b[0m\u001b[0;34m.\u001b[0m\u001b[0m_render_traceback_\u001b[0m\u001b[0;34m(\u001b[0m\u001b[0;34m)\u001b[0m\u001b[0;34m\u001b[0m\u001b[0;34m\u001b[0m\u001b[0m\n\u001b[0m\u001b[1;32m   2045\u001b[0m                     \u001b[0;32mexcept\u001b[0m \u001b[0mException\u001b[0m\u001b[0;34m:\u001b[0m\u001b[0;34m\u001b[0m\u001b[0;34m\u001b[0m\u001b[0m\n",
      "\u001b[0;31mAttributeError\u001b[0m: 'TypeError' object has no attribute '_render_traceback_'",
      "\nDuring handling of the above exception, another exception occurred:\n",
      "\u001b[0;31mTypeError\u001b[0m                                 Traceback (most recent call last)",
      "\u001b[0;32m~/miniconda3/envs/myenv_clip2/lib/python3.6/site-packages/IPython/core/async_helpers.py\u001b[0m in \u001b[0;36m_pseudo_sync_runner\u001b[0;34m(coro)\u001b[0m\n\u001b[1;32m     66\u001b[0m     \"\"\"\n\u001b[1;32m     67\u001b[0m     \u001b[0;32mtry\u001b[0m\u001b[0;34m:\u001b[0m\u001b[0;34m\u001b[0m\u001b[0;34m\u001b[0m\u001b[0m\n\u001b[0;32m---> 68\u001b[0;31m         \u001b[0mcoro\u001b[0m\u001b[0;34m.\u001b[0m\u001b[0msend\u001b[0m\u001b[0;34m(\u001b[0m\u001b[0;32mNone\u001b[0m\u001b[0;34m)\u001b[0m\u001b[0;34m\u001b[0m\u001b[0;34m\u001b[0m\u001b[0m\n\u001b[0m\u001b[1;32m     69\u001b[0m     \u001b[0;32mexcept\u001b[0m \u001b[0mStopIteration\u001b[0m \u001b[0;32mas\u001b[0m \u001b[0mexc\u001b[0m\u001b[0;34m:\u001b[0m\u001b[0;34m\u001b[0m\u001b[0;34m\u001b[0m\u001b[0m\n\u001b[1;32m     70\u001b[0m         \u001b[0;32mreturn\u001b[0m \u001b[0mexc\u001b[0m\u001b[0;34m.\u001b[0m\u001b[0mvalue\u001b[0m\u001b[0;34m\u001b[0m\u001b[0;34m\u001b[0m\u001b[0m\n",
      "\u001b[0;32m~/miniconda3/envs/myenv_clip2/lib/python3.6/site-packages/IPython/core/interactiveshell.py\u001b[0m in \u001b[0;36mrun_cell_async\u001b[0;34m(self, raw_cell, store_history, silent, shell_futures)\u001b[0m\n\u001b[1;32m   3070\u001b[0m \u001b[0;34m\u001b[0m\u001b[0m\n\u001b[1;32m   3071\u001b[0m                 has_raised = await self.run_ast_nodes(code_ast.body, cell_name,\n\u001b[0;32m-> 3072\u001b[0;31m                        interactivity=interactivity, compiler=compiler, result=result)\n\u001b[0m\u001b[1;32m   3073\u001b[0m \u001b[0;34m\u001b[0m\u001b[0m\n\u001b[1;32m   3074\u001b[0m                 \u001b[0mself\u001b[0m\u001b[0;34m.\u001b[0m\u001b[0mlast_execution_succeeded\u001b[0m \u001b[0;34m=\u001b[0m \u001b[0;32mnot\u001b[0m \u001b[0mhas_raised\u001b[0m\u001b[0;34m\u001b[0m\u001b[0;34m\u001b[0m\u001b[0m\n",
      "\u001b[0;32m~/miniconda3/envs/myenv_clip2/lib/python3.6/site-packages/IPython/core/interactiveshell.py\u001b[0m in \u001b[0;36mrun_ast_nodes\u001b[0;34m(self, nodelist, cell_name, interactivity, compiler, result)\u001b[0m\n\u001b[1;32m   3280\u001b[0m             \u001b[0;32mif\u001b[0m \u001b[0mresult\u001b[0m\u001b[0;34m:\u001b[0m\u001b[0;34m\u001b[0m\u001b[0;34m\u001b[0m\u001b[0m\n\u001b[1;32m   3281\u001b[0m                 \u001b[0mresult\u001b[0m\u001b[0;34m.\u001b[0m\u001b[0merror_before_exec\u001b[0m \u001b[0;34m=\u001b[0m \u001b[0msys\u001b[0m\u001b[0;34m.\u001b[0m\u001b[0mexc_info\u001b[0m\u001b[0;34m(\u001b[0m\u001b[0;34m)\u001b[0m\u001b[0;34m[\u001b[0m\u001b[0;36m1\u001b[0m\u001b[0;34m]\u001b[0m\u001b[0;34m\u001b[0m\u001b[0;34m\u001b[0m\u001b[0m\n\u001b[0;32m-> 3282\u001b[0;31m             \u001b[0mself\u001b[0m\u001b[0;34m.\u001b[0m\u001b[0mshowtraceback\u001b[0m\u001b[0;34m(\u001b[0m\u001b[0;34m)\u001b[0m\u001b[0;34m\u001b[0m\u001b[0;34m\u001b[0m\u001b[0m\n\u001b[0m\u001b[1;32m   3283\u001b[0m             \u001b[0;32mreturn\u001b[0m \u001b[0;32mTrue\u001b[0m\u001b[0;34m\u001b[0m\u001b[0;34m\u001b[0m\u001b[0m\n\u001b[1;32m   3284\u001b[0m \u001b[0;34m\u001b[0m\u001b[0m\n",
      "\u001b[0;32m~/miniconda3/envs/myenv_clip2/lib/python3.6/site-packages/IPython/core/interactiveshell.py\u001b[0m in \u001b[0;36mshowtraceback\u001b[0;34m(self, exc_tuple, filename, tb_offset, exception_only, running_compiled_code)\u001b[0m\n\u001b[1;32m   2045\u001b[0m                     \u001b[0;32mexcept\u001b[0m \u001b[0mException\u001b[0m\u001b[0;34m:\u001b[0m\u001b[0;34m\u001b[0m\u001b[0;34m\u001b[0m\u001b[0m\n\u001b[1;32m   2046\u001b[0m                         stb = self.InteractiveTB.structured_traceback(etype,\n\u001b[0;32m-> 2047\u001b[0;31m                                             value, tb, tb_offset=tb_offset)\n\u001b[0m\u001b[1;32m   2048\u001b[0m \u001b[0;34m\u001b[0m\u001b[0m\n\u001b[1;32m   2049\u001b[0m                     \u001b[0mself\u001b[0m\u001b[0;34m.\u001b[0m\u001b[0m_showtraceback\u001b[0m\u001b[0;34m(\u001b[0m\u001b[0metype\u001b[0m\u001b[0;34m,\u001b[0m \u001b[0mvalue\u001b[0m\u001b[0;34m,\u001b[0m \u001b[0mstb\u001b[0m\u001b[0;34m)\u001b[0m\u001b[0;34m\u001b[0m\u001b[0;34m\u001b[0m\u001b[0m\n",
      "\u001b[0;32m~/miniconda3/envs/myenv_clip2/lib/python3.6/site-packages/IPython/core/ultratb.py\u001b[0m in \u001b[0;36mstructured_traceback\u001b[0;34m(self, etype, value, tb, tb_offset, number_of_lines_of_context)\u001b[0m\n\u001b[1;32m   1434\u001b[0m             \u001b[0mself\u001b[0m\u001b[0;34m.\u001b[0m\u001b[0mtb\u001b[0m \u001b[0;34m=\u001b[0m \u001b[0mtb\u001b[0m\u001b[0;34m\u001b[0m\u001b[0;34m\u001b[0m\u001b[0m\n\u001b[1;32m   1435\u001b[0m         return FormattedTB.structured_traceback(\n\u001b[0;32m-> 1436\u001b[0;31m             self, etype, value, tb, tb_offset, number_of_lines_of_context)\n\u001b[0m\u001b[1;32m   1437\u001b[0m \u001b[0;34m\u001b[0m\u001b[0m\n\u001b[1;32m   1438\u001b[0m \u001b[0;34m\u001b[0m\u001b[0m\n",
      "\u001b[0;32m~/miniconda3/envs/myenv_clip2/lib/python3.6/site-packages/IPython/core/ultratb.py\u001b[0m in \u001b[0;36mstructured_traceback\u001b[0;34m(self, etype, value, tb, tb_offset, number_of_lines_of_context)\u001b[0m\n\u001b[1;32m   1334\u001b[0m             \u001b[0;31m# Verbose modes need a full traceback\u001b[0m\u001b[0;34m\u001b[0m\u001b[0;34m\u001b[0m\u001b[0;34m\u001b[0m\u001b[0m\n\u001b[1;32m   1335\u001b[0m             return VerboseTB.structured_traceback(\n\u001b[0;32m-> 1336\u001b[0;31m                 \u001b[0mself\u001b[0m\u001b[0;34m,\u001b[0m \u001b[0metype\u001b[0m\u001b[0;34m,\u001b[0m \u001b[0mvalue\u001b[0m\u001b[0;34m,\u001b[0m \u001b[0mtb\u001b[0m\u001b[0;34m,\u001b[0m \u001b[0mtb_offset\u001b[0m\u001b[0;34m,\u001b[0m \u001b[0mnumber_of_lines_of_context\u001b[0m\u001b[0;34m\u001b[0m\u001b[0;34m\u001b[0m\u001b[0m\n\u001b[0m\u001b[1;32m   1337\u001b[0m             )\n\u001b[1;32m   1338\u001b[0m         \u001b[0;32melif\u001b[0m \u001b[0mmode\u001b[0m \u001b[0;34m==\u001b[0m \u001b[0;34m'Minimal'\u001b[0m\u001b[0;34m:\u001b[0m\u001b[0;34m\u001b[0m\u001b[0;34m\u001b[0m\u001b[0m\n",
      "\u001b[0;32m~/miniconda3/envs/myenv_clip2/lib/python3.6/site-packages/IPython/core/ultratb.py\u001b[0m in \u001b[0;36mstructured_traceback\u001b[0;34m(self, etype, evalue, etb, tb_offset, number_of_lines_of_context)\u001b[0m\n\u001b[1;32m   1209\u001b[0m         \u001b[0;32mwhile\u001b[0m \u001b[0mevalue\u001b[0m\u001b[0;34m:\u001b[0m\u001b[0;34m\u001b[0m\u001b[0;34m\u001b[0m\u001b[0m\n\u001b[1;32m   1210\u001b[0m             formatted_exceptions += self.format_exception_as_a_whole(etype, evalue, etb, lines_of_context,\n\u001b[0;32m-> 1211\u001b[0;31m                                                                      chained_exceptions_tb_offset)\n\u001b[0m\u001b[1;32m   1212\u001b[0m             \u001b[0mexception\u001b[0m \u001b[0;34m=\u001b[0m \u001b[0mself\u001b[0m\u001b[0;34m.\u001b[0m\u001b[0mget_parts_of_chained_exception\u001b[0m\u001b[0;34m(\u001b[0m\u001b[0mevalue\u001b[0m\u001b[0;34m)\u001b[0m\u001b[0;34m\u001b[0m\u001b[0;34m\u001b[0m\u001b[0m\n\u001b[1;32m   1213\u001b[0m \u001b[0;34m\u001b[0m\u001b[0m\n",
      "\u001b[0;32m~/miniconda3/envs/myenv_clip2/lib/python3.6/site-packages/IPython/core/ultratb.py\u001b[0m in \u001b[0;36mformat_exception_as_a_whole\u001b[0;34m(self, etype, evalue, etb, number_of_lines_of_context, tb_offset)\u001b[0m\n\u001b[1;32m   1148\u001b[0m \u001b[0;34m\u001b[0m\u001b[0m\n\u001b[1;32m   1149\u001b[0m \u001b[0;34m\u001b[0m\u001b[0m\n\u001b[0;32m-> 1150\u001b[0;31m         \u001b[0mlast_unique\u001b[0m\u001b[0;34m,\u001b[0m \u001b[0mrecursion_repeat\u001b[0m \u001b[0;34m=\u001b[0m \u001b[0mfind_recursion\u001b[0m\u001b[0;34m(\u001b[0m\u001b[0morig_etype\u001b[0m\u001b[0;34m,\u001b[0m \u001b[0mevalue\u001b[0m\u001b[0;34m,\u001b[0m \u001b[0mrecords\u001b[0m\u001b[0;34m)\u001b[0m\u001b[0;34m\u001b[0m\u001b[0;34m\u001b[0m\u001b[0m\n\u001b[0m\u001b[1;32m   1151\u001b[0m \u001b[0;34m\u001b[0m\u001b[0m\n\u001b[1;32m   1152\u001b[0m         \u001b[0mframes\u001b[0m \u001b[0;34m=\u001b[0m \u001b[0mself\u001b[0m\u001b[0;34m.\u001b[0m\u001b[0mformat_records\u001b[0m\u001b[0;34m(\u001b[0m\u001b[0mrecords\u001b[0m\u001b[0;34m,\u001b[0m \u001b[0mlast_unique\u001b[0m\u001b[0;34m,\u001b[0m \u001b[0mrecursion_repeat\u001b[0m\u001b[0;34m)\u001b[0m\u001b[0;34m\u001b[0m\u001b[0;34m\u001b[0m\u001b[0m\n",
      "\u001b[0;32m~/miniconda3/envs/myenv_clip2/lib/python3.6/site-packages/IPython/core/ultratb.py\u001b[0m in \u001b[0;36mfind_recursion\u001b[0;34m(etype, value, records)\u001b[0m\n\u001b[1;32m    449\u001b[0m     \u001b[0;31m# first frame (from in to out) that looks different.\u001b[0m\u001b[0;34m\u001b[0m\u001b[0;34m\u001b[0m\u001b[0;34m\u001b[0m\u001b[0m\n\u001b[1;32m    450\u001b[0m     \u001b[0;32mif\u001b[0m \u001b[0;32mnot\u001b[0m \u001b[0mis_recursion_error\u001b[0m\u001b[0;34m(\u001b[0m\u001b[0metype\u001b[0m\u001b[0;34m,\u001b[0m \u001b[0mvalue\u001b[0m\u001b[0;34m,\u001b[0m \u001b[0mrecords\u001b[0m\u001b[0;34m)\u001b[0m\u001b[0;34m:\u001b[0m\u001b[0;34m\u001b[0m\u001b[0;34m\u001b[0m\u001b[0m\n\u001b[0;32m--> 451\u001b[0;31m         \u001b[0;32mreturn\u001b[0m \u001b[0mlen\u001b[0m\u001b[0;34m(\u001b[0m\u001b[0mrecords\u001b[0m\u001b[0;34m)\u001b[0m\u001b[0;34m,\u001b[0m \u001b[0;36m0\u001b[0m\u001b[0;34m\u001b[0m\u001b[0;34m\u001b[0m\u001b[0m\n\u001b[0m\u001b[1;32m    452\u001b[0m \u001b[0;34m\u001b[0m\u001b[0m\n\u001b[1;32m    453\u001b[0m     \u001b[0;31m# Select filename, lineno, func_name to track frames with\u001b[0m\u001b[0;34m\u001b[0m\u001b[0;34m\u001b[0m\u001b[0;34m\u001b[0m\u001b[0m\n",
      "\u001b[0;31mTypeError\u001b[0m: object of type 'NoneType' has no len()"
     ]
    }
   ],
   "source": [
    "#########\n",
    "# 2 0 0 0 0 \n",
    "#########\n",
    "\n",
    "G = nx.grid_2d_graph(182,110,periodic=True)\n",
    "\n",
    "print('RWR')\n",
    "start = time.time()\n",
    "posG_global = globallayout_3D(G,n_neighbors, spread, min_dist, metric)\n",
    "end = time.time()\n",
    "m,s = exec_time(start,end)\n",
    "\n",
    "r_global = pearson_corrcoef_3D(G, posG_global)\n",
    "print('RWR corr coef: ',r_global)"
   ]
  },
  {
   "cell_type": "code",
   "execution_count": null,
   "metadata": {},
   "outputs": [],
   "source": [
    "G = nx.grid_2d_graph(182,110,periodic=True)\n",
    "\n",
    "print('\\n')\n",
    "print('SPRING')\n",
    "start = time.time()\n",
    "posG_spring = springlayout_3D(G,itr=50)\n",
    "end = time.time()\n",
    "m,s = exec_time(start,end)\n",
    "\n",
    "r_spring = pearson_corrcoef_3D(G,posG_spring)\n",
    "print('SPRING corr coef: ',r_spring)"
   ]
  },
  {
   "cell_type": "code",
   "execution_count": null,
   "metadata": {},
   "outputs": [],
   "source": [
    "G = nx.grid_2d_graph(182,110,periodic=True)\n",
    "\n",
    "print('Runtime spring for Corr. Coeff. 0.98')\n",
    "\n",
    "start = time.time()\n",
    "posG_spring = springlayout_2D(G,itr=800)\n",
    "end = time.time()\n",
    "m,s = exec_time(start,end)\n",
    "\n",
    "r_spring = pearson_corrcoef_2D(G,posG_spring)\n",
    "print('SPRING corr coef: ',r_spring)"
   ]
  },
  {
   "cell_type": "markdown",
   "metadata": {},
   "source": [
    "## CORR COEF / NETSIZE - saved values for diagram\n",
    "+ for equal running time"
   ]
  },
  {
   "cell_type": "code",
   "execution_count": null,
   "metadata": {},
   "outputs": [],
   "source": [
    "d_3Dtor_netsize_time = {(12,8):2,\n",
    "                        (42,12):5,\n",
    "                        (44,22):18,\n",
    "                        (90,55):58,\n",
    "                        (125,80):142,\n",
    "                        (182,110):540\n",
    "                       }\n",
    "\n",
    "# G L O B A L \n",
    "d_3Dtor_netsize_corr_global = {(12,8):0.9953409109329807,\n",
    "                                (42,12):0.9747764909975275,\n",
    "                                (44,22):0.9760808329038996,\n",
    "                                (90,55):0.9884442957666724,\n",
    "                                (125,80):0.9846049068909122,\n",
    "                                (182,110):\n",
    "                                }\n",
    "\n",
    "# S P R I N G\n",
    "d_3Dtor_netsize_corr_spring = {(12,8):0.9786594141157169,\n",
    "                                (42,12):0.896610104173987,,\n",
    "                                (44,22):0.9296547805540264,\n",
    "                                (90,55):0.351588527909056,\n",
    "                                (125,80):\n",
    "                                (182,110):\n",
    "                                   }"
   ]
  },
  {
   "cell_type": "code",
   "execution_count": 91,
   "metadata": {},
   "outputs": [],
   "source": [
    "# Network size vs. Correlation Factor \n",
    "# with same running time\n",
    "\n",
    "labelsize = 16 \n",
    "\n",
    "x_tor = []\n",
    "for k in d_3Dtor_netsize_time.keys():\n",
    "    x_tor.append(k[0]**3)\n",
    "    \n",
    "x_spring = x_tor\n",
    "y_spring = list(d_3Dtor_netsize_corr_spring.values())\n",
    "x_layout = x_tor\n",
    "y_layout = list(d_3Dtor_netsize_corr_global.values())\n",
    "\n",
    "fig = plt.figure(figsize=(8,8), dpi=300)\n",
    "\n",
    "plt.xlabel(\"Network Size [# Nodes]\", fontsize=labelsize)\n",
    "plt.ylabel(\"Pearson Corr.Coeff.\", fontsize=labelsize)\n",
    "\n",
    "plt.plot(x_spring,y_spring, '-', c = 'cornflowerblue', alpha = 0.5, linewidth=0.5)\n",
    "plt.scatter(x_spring,y_spring, c = 'cornflowerblue', s = 20, alpha = 1.0)\n",
    "plt.plot(x_layout,y_layout, '-', c = 'orange', alpha = 0.5, linewidth=0.5)\n",
    "plt.scatter(x_layout,y_layout, c = 'orange', s = 20, alpha = 1.0)\n",
    "\n",
    "plt.grid(True, c='lightgrey', alpha=0.5)\n",
    "plt.suptitle('3D | Network Size vs. Corr. Factor | '+organism, fontsize=10)\n",
    "plt.ylim(ymin=0, ymax=1.0)\n",
    "\n",
    "fig.savefig('output_plots/benchmark/upscaled_3D_CorrNetsize_'+feature+'_'+organism+'.png')"
   ]
  },
  {
   "cell_type": "markdown",
   "metadata": {},
   "source": [
    "## TIME / NETSIZE - saved values for diagram\n",
    "+ for equal correlation coefficient"
   ]
  },
  {
   "cell_type": "code",
   "execution_count": null,
   "metadata": {},
   "outputs": [],
   "source": [
    "d_3Dtor_netsize_corr = {(12,8):0.99,\n",
    "                        (42,12):0.97,\n",
    "                        (44,22):0.97,\n",
    "                        (90,55):0.98,\n",
    "                        (125,80):0.98\n",
    "                        (182,110):\n",
    "                       }\n",
    "\n",
    "# G L O B A L \n",
    "d_3Dtor_netsize_time_global = d_3Dtor_netsize_time\n",
    "\n",
    "# S P R I N G\n",
    "d_3Dtor_netsize_time_spring = {(12,8):\n",
    "                                (42,12):\n",
    "                                (44,22):\n",
    "                                (90,55):\n",
    "                                (125,80):\n",
    "                                (182,110):\n",
    "                                   }"
   ]
  },
  {
   "cell_type": "code",
   "execution_count": null,
   "metadata": {},
   "outputs": [],
   "source": [
    "# Network size vs. Time \n",
    "# with same Correlation Factor \n",
    "\n",
    "labelsize = 16 \n",
    "\n",
    "x_tor = []\n",
    "for k in d_3Dtor_netsize_corr.keys():\n",
    "    x_tor.append(k[0]*k[1])\n",
    "    \n",
    "x_spring = x_tor\n",
    "y_spring = list(d_3Dtor_netsize_time_spring.values())\n",
    "x_layout = x_tor\n",
    "y_layout = list(d_3Dtor_netsize_time_global.values())\n",
    "\n",
    "fig = plt.figure(figsize=(8,8), dpi=300)\n",
    "\n",
    "plt.xlabel(\"Network Size [# Nodes]\", fontsize=labelsize)\n",
    "plt.ylabel(\"Wall Time [s]\", fontsize=labelsize)\n",
    "\n",
    "plt.plot(x_spring,y_spring, '-', c = 'cornflowerblue', alpha = 0.5, linewidth=0.5)\n",
    "plt.scatter(x_spring,y_spring, c = 'cornflowerblue', s = 20, alpha = 1.0)\n",
    "plt.plot(x_layout,y_layout, '-', c = 'orange', alpha = 0.5, linewidth=0.5)\n",
    "plt.scatter(x_layout,y_layout, c = 'orange', s = 20, alpha = 1.0)\n",
    "\n",
    "plt.grid(True, c='lightgrey', alpha=0.5)\n",
    "plt.suptitle('3D | Network Size vs. Wall Time | '+organism, fontsize=10)\n",
    "plt.ylim(ymin=0, ymax=1.0)\n",
    "\n",
    "fig.savefig('output_plots/benchmark/upscaled_3D_TimeNetsize_'+feature+'_'+organism+'.png')"
   ]
  },
  {
   "cell_type": "code",
   "execution_count": null,
   "metadata": {},
   "outputs": [],
   "source": []
  },
  {
   "cell_type": "code",
   "execution_count": null,
   "metadata": {},
   "outputs": [],
   "source": []
  }
 ],
 "metadata": {
  "kernelspec": {
   "display_name": "Python [conda env:miniconda3-myenv_clip2]",
   "language": "python",
   "name": "conda-env-miniconda3-myenv_clip2-py"
  },
  "language_info": {
   "codemirror_mode": {
    "name": "ipython",
    "version": 3
   },
   "file_extension": ".py",
   "mimetype": "text/x-python",
   "name": "python",
   "nbconvert_exporter": "python",
   "pygments_lexer": "ipython3",
   "version": "3.6.13"
  }
 },
 "nbformat": 4,
 "nbformat_minor": 4
}
