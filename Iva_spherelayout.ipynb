{
 "cells": [
  {
   "cell_type": "markdown",
   "metadata": {},
   "source": [
    "### Visualization for Iva's Sub PPI "
   ]
  },
  {
   "cell_type": "code",
   "execution_count": 1,
   "metadata": {},
   "outputs": [],
   "source": [
    "####################\n",
    "# L I B R A R I E S \n",
    "####################\n",
    "\n",
    "import ast \n",
    "\n",
    "from Bio import Entrez\n",
    "\n",
    "import collections\n",
    "from collections import defaultdict as dd\n",
    "from collections import Counter as ct\n",
    "from collections import OrderedDict\n",
    "import colorsys\n",
    "from colormath.color_objects import sRGBColor, LabColor\n",
    "\n",
    "import itertools as it\n",
    "\n",
    "import math\n",
    "import matplotlib.pyplot as plt\n",
    "\n",
    "import numpy.linalg as la\n",
    "import networkx as nx\n",
    "from networkx.algorithms.flow import shortest_augmenting_path\n",
    "from networkx.generators.degree_seq import expected_degree_graph\n",
    "from networkx.algorithms.community import greedy_modularity_communities\n",
    "import numpy as np\n",
    "from numpy import pi, cos, sin, arccos, arange\n",
    "import numpy.linalg as la\n",
    "\n",
    "import os\n",
    "import os.path\n",
    "\n",
    "import pandas as pd\n",
    "import pickle\n",
    "import plotly\n",
    "import plotly.graph_objs as pgo\n",
    "import plotly.offline as py\n",
    "from plotly.subplots import make_subplots\n",
    "from plotly.offline import init_notebook_mode, iplot\n",
    "import plotly.io as pio\n",
    "import pylab\n",
    "import pymysql as mysql\n",
    "\n",
    "import random as rd\n",
    "\n",
    "from scipy.spatial import distance\n",
    "from scipy.cluster.hierarchy import fcluster\n",
    "import scipy.stats as st\n",
    "from scipy import stats\n",
    "import scipy.cluster.hierarchy as sch\n",
    "import scipy.spatial.distance as dist\n",
    "from scipy.interpolate import interpn\n",
    "from scipy.stats import gaussian_kde\n",
    "import seaborn as sns\n",
    "import sklearn\n",
    "from sklearn import preprocessing\n",
    "from sklearn.manifold import TSNE\n",
    "from sklearn import datasets\n",
    "from sklearn.preprocessing import normalize\n",
    "from sklearn import (manifold, datasets, decomposition, ensemble,discriminant_analysis, random_projection,cluster)\n",
    "from sklearn.cluster import KMeans\n",
    "from sklearn.cluster import DBSCAN\n",
    "from sklearn.cluster import SpectralClustering\n",
    "from sklearn.metrics import pairwise_distances\n",
    "from sklearn.linear_model import LinearRegression\n",
    "import sys \n",
    "\n",
    "import time\n",
    "\n",
    "import umap \n",
    "\n",
    "import warnings"
   ]
  },
  {
   "cell_type": "code",
   "execution_count": 143,
   "metadata": {},
   "outputs": [],
   "source": [
    "####################\n",
    "# F U N C T I O N S \n",
    "####################\n",
    "\n",
    "# the RWR function by Felix: \n",
    "def rnd_walk_matrix2(A, r, a, num_nodes):\n",
    "    '''\n",
    "    Random Walk Operator with restart probability.\n",
    "    Return Matrix.\n",
    "    ''' \n",
    "    num = 1*num_nodes\n",
    "    n = num_nodes\n",
    "    factor = float((1-a)/n) # = 0 if alpha = 1.0 \n",
    "\n",
    "    E = np.multiply(factor,np.ones([n,n]))              # prepare 2nd scaling term\n",
    "    A_tele = np.multiply(a,A) + E  \n",
    "    M = normalize(A_tele, norm='l1', axis=0)                                 # column wise normalized Markov matrix\n",
    "\n",
    "    # mixture of Markov chains\n",
    "    del A_tele\n",
    "    del E\n",
    "\n",
    "    U = np.identity(n,dtype=int) \n",
    "    H = (1-r)*M\n",
    "    H1 = np.subtract(U,H)\n",
    "    del U\n",
    "    del M\n",
    "    del H    \n",
    "\n",
    "    W = r*np.linalg.inv(H1)   \n",
    "\n",
    "    return W\n",
    "\n",
    "\n",
    "def color_nodes(l_genes, color):\n",
    "    ''' \n",
    "    Set color for specific nodes.\n",
    "\n",
    "    Input: \n",
    "    - l_genes: list of genes to be colored\n",
    "    - color: string or hex of color e.g. 'red' or '#ff0000'\n",
    "    \n",
    "    Return: \n",
    "    A dict with nodeID as keys and colors as values.\n",
    "    '''\n",
    "    d_col = {}\n",
    "    for node in l_genes:\n",
    "        d_col[str(node)] = color\n",
    "    \n",
    "    return d_col\n",
    "\n",
    "\n",
    "def embed_umap_sphere(Matrix, n_neighbors, spread, min_dist, metric='cosine'):\n",
    "    ''' \n",
    "    Generate spherical embedding of nodes in matrix input using UMAP.\n",
    "    Input: \n",
    "    - Matrix = Feature Matrix with either all or specific  nodes (rows) and features (columns) or symmetric (nodes = rows and columns)\n",
    "    - n_neighbors/spread/min_dist = floats; UMAP parameters.\n",
    "    - metric = string; e.g. havervine, euclidean, cosine ,.. \n",
    "    \n",
    "    Return sphere embedding. \n",
    "    '''\n",
    "    \n",
    "    model = umap.UMAP(\n",
    "        n_neighbors = n_neighbors, \n",
    "        spread = spread,\n",
    "        min_dist = min_dist,\n",
    "        metric = metric)\n",
    "\n",
    "    sphere_mapper = model.fit(Matrix)\n",
    "\n",
    "    return sphere_mapper\n",
    "\n",
    "\n",
    "\n",
    "def get_posG_sphere(l_genes, sphere_mapper):\n",
    "    '''\n",
    "    Generate coordinates from embedding. \n",
    "    Input:\n",
    "    - l_genes = list of genes\n",
    "    - sphere_mapper = embedding from UMAP spherical embedding \n",
    "    \n",
    "    Return dictionary with nodes as keys and coordinates as values in 3D. \n",
    "    '''\n",
    "    \n",
    "    x = np.sin(sphere_mapper.embedding_[:, 0]) * np.cos(sphere_mapper.embedding_[:, 1])\n",
    "    y = np.sin(sphere_mapper.embedding_[:, 0]) * np.sin(sphere_mapper.embedding_[:, 1])\n",
    "    z = np.cos(sphere_mapper.embedding_[:, 0])\n",
    "    \n",
    "    posG = {}\n",
    "    cc = 0\n",
    "    for entz in l_genes:\n",
    "        posG[entz] = (x[cc],y[cc], z[cc])\n",
    "        cc += 1\n",
    "    \n",
    "    return posG\n",
    "\n",
    "\n",
    "def get_posG_sphere_norm(G, l_genes, sphere_mapper, d_param, radius_rest_genes = 20):\n",
    "    '''\n",
    "    Generate coordinates from embedding. \n",
    "    Input:\n",
    "    - G = Graph \n",
    "    - DM = matrix \n",
    "    - sphere_mapper = embedding from UMAP spherical embedding \n",
    "    - d_param = dictionary with nodes as keys and assigned radius as values \n",
    "    - radius_rest_genes = int; radius in case of genes e.g. not function associated if genes not all G.nodes()\n",
    "    \n",
    "    Return dictionary with nodes as keys and coordinates as values in 3D. \n",
    "    '''\n",
    "    \n",
    "    x = np.sin(sphere_mapper.embedding_[:, 0]) * np.cos(sphere_mapper.embedding_[:, 1])\n",
    "    y = np.sin(sphere_mapper.embedding_[:, 0]) * np.sin(sphere_mapper.embedding_[:, 1])\n",
    "    z = np.cos(sphere_mapper.embedding_[:, 0])\n",
    "    \n",
    "    genes = []\n",
    "    for i in l_genes:\n",
    "        if str(i) in G.nodes():\n",
    "            genes.append(str(i))\n",
    "\n",
    "    genes_rest = [] \n",
    "    for g in G.nodes():\n",
    "        if str(g) not in genes:\n",
    "            genes_rest.append(g)\n",
    "            \n",
    "    posG_3Dsphere = {}\n",
    "    cc = 0\n",
    "    for entz in genes:\n",
    "        posG_3Dsphere[entz] = (x[cc],y[cc], z[cc])\n",
    "        cc += 1\n",
    "\n",
    "    posG_3Dsphere_radius = {}\n",
    "    for node,rad in d_param.items():\n",
    "        for k,v in posG_3Dsphere.items():\n",
    "            if k == node:\n",
    "                posG_3Dsphere_radius[k] = (v[0]*rad, v[1]*rad, v[2]*rad)\n",
    " \n",
    "    # generate spherical coordinates for rest genes (without e.g. GO term or Disease Annotation)\n",
    "    indices = arange(0, len(genes_rest))\n",
    "    phi = arccos(1 - 2*indices/len(genes_rest))\n",
    "    theta = pi * (1 + 5**0.5) * indices\n",
    "\n",
    "    r_rest = radius_rest_genes # radius for rest genes (e.g. if functional layout)\n",
    "    x, y, z = r_rest*cos(theta) * sin(phi), r_rest*sin(theta) * sin(phi), r_rest*cos(phi)\n",
    "\n",
    "    rest_points = []\n",
    "    for i,j,k in zip(x,y,z):\n",
    "        rest_points.append((i,j,k))\n",
    "\n",
    "    posG_rest = dict(zip(genes_rest, rest_points))\n",
    "\n",
    "    posG_all = {**posG_3Dsphere_radius, **posG_rest}\n",
    "    posG_complete_sphere = {key:posG_all[key] for key in G.nodes()}\n",
    "\n",
    "    # normalize coordinates \n",
    "    x_list = []\n",
    "    y_list = []\n",
    "    z_list = []\n",
    "    for k,v in posG_complete_sphere.items():\n",
    "        x_list.append(v[0])\n",
    "        y_list.append(v[1])\n",
    "        z_list.append(v[2])\n",
    "\n",
    "    xx_norm = sklearn.preprocessing.minmax_scale(x_list, feature_range=(0, 1), axis=0, copy=True)\n",
    "    yy_norm = sklearn.preprocessing.minmax_scale(y_list, feature_range=(0, 1), axis=0, copy=True)\n",
    "    zz_norm = sklearn.preprocessing.minmax_scale(z_list, feature_range=(0, 1), axis=0, copy=True)\n",
    "\n",
    "    posG_complete_sphere_norm = dict(zip(list(G.nodes()), zip(xx_norm,yy_norm,zz_norm)))\n",
    "    \n",
    "    return posG_complete_sphere_norm\n",
    "\n",
    "\n",
    "\n",
    "\n",
    "def get_trace_nodes_3D(posG, info_list, color_list, size, opac=0.9):\n",
    "    '''\n",
    "    Get trace of nodes for plotting in 3D. \n",
    "    Input: \n",
    "    - posG = dictionary with nodes as keys and coordinates as values.\n",
    "    - info_list = hover information for each node, e.g. a list sorted according to the initial graph/posG keys\n",
    "    - color_list = list of colours obtained from any color function (see above sections).\n",
    "    - opac = transparency of edges e.g. 0.2\n",
    "    \n",
    "    Return a trace for plotly graph objects plot. \n",
    "    '''\n",
    "    \n",
    "    key_list=list(posG.keys())\n",
    "    trace = pgo.Scatter3d(x=[posG[key_list[i]][0] for i in range(len(key_list))],\n",
    "                           y=[posG[key_list[i]][1] for i in range(len(key_list))],\n",
    "                           z=[posG[key_list[i]][2] for i in range(len(key_list))],\n",
    "                           mode = 'markers',\n",
    "                           text = info_list,\n",
    "                           hoverinfo = 'text',\n",
    "                           #textposition='middle center',\n",
    "                           marker = dict(\n",
    "                color = color_list,\n",
    "                size = size,\n",
    "                symbol = 'circle',\n",
    "                line = dict(width = 1.0,\n",
    "                        color = color_list),\n",
    "                opacity = opac,\n",
    "            ),\n",
    "        )\n",
    "    \n",
    "    return trace\n",
    "\n",
    "\n",
    "def get_trace_edges_3D(G, posG, color_list, opac = 0.2, linewidth=0.2):\n",
    "    '''\n",
    "    Get trace of edges for plotting in 3D. \n",
    "    Input: \n",
    "    - G = Graph\n",
    "    - posG = dictionary with nodes as keys and coordinates as values.\n",
    "    - color_list = list of colours obtained from any color function (see above sections).\n",
    "    - opac = transparency of edges e.g. 0.2\n",
    "    \n",
    "    Return a trace for plotly graph objects plot. \n",
    "    '''\n",
    "    \n",
    "    edge_x = []\n",
    "    edge_y = []\n",
    "    edge_z = []\n",
    "    for edge in G.edges():\n",
    "            x0, y0, z0 = posG[edge[0]]\n",
    "            x1, y1, z1 = posG[edge[1]]\n",
    "            edge_x.append(x0)\n",
    "            edge_x.append(x1)\n",
    "            edge_x.append(None)\n",
    "            edge_y.append(y0)\n",
    "            edge_y.append(y1)\n",
    "            edge_y.append(None)\n",
    "            edge_z.append(z0)\n",
    "            edge_z.append(z1)\n",
    "            edge_z.append(None)\n",
    "\n",
    "\n",
    "    trace_edges = pgo.Scatter3d(\n",
    "                            x = edge_x, \n",
    "                            y = edge_y, \n",
    "                            z = edge_z,\n",
    "                            mode = 'lines', hoverinfo='none',\n",
    "                            line = dict(width = linewidth, color = color_list),\n",
    "                            opacity = opac\n",
    "                    )\n",
    "    return trace_edges\n",
    "\n",
    "\n",
    "\n",
    "def plot_3D(data, fname, scheme, annotat=None):\n",
    "    '''\n",
    "    Create a 3D plot from traces using plotly.\n",
    "    Input: \n",
    "    - data = list of traces\n",
    "    - filename = string\n",
    "    - scheme = 'light' or 'dark'\n",
    "    - annotations = None or plotly annotations\n",
    "    \n",
    "    Return plot in 3D and file, saved as html.\n",
    "    '''\n",
    "\n",
    "    fig = pgo.Figure()\n",
    "    \n",
    "    for i in data:\n",
    "        fig.add_trace(i)\n",
    "\n",
    "    if scheme == 'dark' and annotat==None:\n",
    "        fig.update_layout(template='plotly_dark', showlegend=False, autosize = True,\n",
    "                          scene=dict(\n",
    "                              xaxis_title='',\n",
    "                              yaxis_title='',\n",
    "                              zaxis_title='',\n",
    "                              xaxis=dict(nticks=0,tickfont=dict(\n",
    "                                    color='black')),\n",
    "                              yaxis=dict(nticks=0,tickfont=dict(\n",
    "                                    color='black')),\n",
    "                              zaxis=dict(nticks=0,tickfont=dict(\n",
    "                                    color='black')),\n",
    "                            dragmode=\"turntable\"\n",
    "                        ))\n",
    "        \n",
    "    elif scheme == 'dark':    \n",
    "        fig.update_layout(template='plotly_dark', showlegend=False, autosize = True,\n",
    "                                  scene=dict(\n",
    "                                      xaxis_title='',\n",
    "                                      yaxis_title='',\n",
    "                                      zaxis_title='',\n",
    "                                      xaxis=dict(nticks=0,tickfont=dict(\n",
    "                                            color='black')),\n",
    "                                      yaxis=dict(nticks=0,tickfont=dict(\n",
    "                                            color='black')),\n",
    "                                      zaxis=dict(nticks=0,tickfont=dict(\n",
    "                                            color='black')),\n",
    "                                    dragmode=\"turntable\",\n",
    "                                    annotations=annotat,\n",
    "                                ))\n",
    "\n",
    "    elif scheme == 'light' and annotat==None:\n",
    "        fig.update_layout(template='plotly_white', showlegend=False, width=1200, height=1200,\n",
    "                          scene=dict(\n",
    "                              xaxis_title='',\n",
    "                              yaxis_title='',\n",
    "                              zaxis_title='',\n",
    "                              xaxis=dict(nticks=0,tickfont=dict(\n",
    "                                    color='white')),\n",
    "                              yaxis=dict(nticks=0,tickfont=dict(\n",
    "                                    color='white')),\n",
    "                              zaxis=dict(nticks=0,tickfont=dict(\n",
    "                                    color='white')),    \n",
    "                            dragmode=\"turntable\",\n",
    "                        ))    \n",
    "        \n",
    "    elif scheme == 'light':\n",
    "         fig.update_layout(template='plotly_white', showlegend=False, width=1200, height=1200,\n",
    "                          scene=dict(\n",
    "                              xaxis_title='',\n",
    "                              yaxis_title='',\n",
    "                              zaxis_title='',\n",
    "                              xaxis=dict(nticks=0,tickfont=dict(\n",
    "                                    color='white')),\n",
    "                              yaxis=dict(nticks=0,tickfont=dict(\n",
    "                                    color='white')),\n",
    "                              zaxis=dict(nticks=0,tickfont=dict(\n",
    "                                    color='white')),    \n",
    "                            dragmode=\"turntable\",\n",
    "                            annotations = annotat\n",
    "                        ))    \n",
    "\n",
    "\n",
    "    return plotly.offline.plot(fig, filename = fname+'.html', auto_open=True)\n",
    "\n",
    "\n",
    "\n",
    "def color_edges_from_genelist(G, l_genes, color):\n",
    "    '''\n",
    "    Color (highlight) edges from specific node list.\n",
    "    Input: \n",
    "    - G = Graph \n",
    "    - l_nodes = list of nodes \n",
    "    - color = string; color to hightlight\n",
    "    \n",
    "    Return edge list for selected edges. \n",
    "    '''\n",
    "    \n",
    "    edge_lst = [(u,v) for u,v in G.edges(l_genes) if u in l_genes or v in l_genes]\n",
    "\n",
    "    d_col_edges = {}\n",
    "    for e in edge_lst:\n",
    "        d_col_edges[e]=color\n",
    "\n",
    "    return d_col_edges\n",
    "\n",
    "\n",
    "def get_trace_edges_from_genelist3D(l_spec_edges, posG, col, opac=0.2):\n",
    "    '''\n",
    "    Get trace of edges for plotting in 3D only for specific edges. \n",
    "    Input: \n",
    "    - G = Graph\n",
    "    - posG = dictionary with nodes as keys and coordinates as values.\n",
    "    - color = string; specific color to highlight specific edges \n",
    "    \n",
    "    Return a trace of specific edges. \n",
    "    '''\n",
    "    \n",
    "    edge_x = []\n",
    "    edge_y = []\n",
    "    edge_z = []\n",
    "    for edge in l_spec_edges:\n",
    "            x0, y0,z0 = posG[edge[0]]\n",
    "            x1, y1,z1 = posG[edge[1]]\n",
    "            edge_x.append(x0)\n",
    "            edge_x.append(x1)\n",
    "            edge_x.append(None)\n",
    "            edge_y.append(y0)\n",
    "            edge_y.append(y1)\n",
    "            edge_y.append(None)\n",
    "            edge_z.append(z0)\n",
    "            edge_z.append(z1)\n",
    "            edge_z.append(None)\n",
    "            \n",
    "    trace_edges = pgo.Scatter3d(\n",
    "                        x = edge_x, \n",
    "                        y = edge_y, \n",
    "                        z = edge_z,\n",
    "                        mode = 'lines', hoverinfo='none',\n",
    "                        line = dict(width = 1.0, color = [col]*len(edge_x)),\n",
    "                        opacity = opac\n",
    "                )\n",
    "    return trace_edges\n",
    "\n",
    "\n",
    "\n",
    "\n",
    "def export_to_csv3D(layout_namespace, posG, colours):\n",
    "    '''\n",
    "    Generate csv for upload to VRnetzer plaform for 3D layouts. \n",
    "    Return dataframe with ID,X,Y,Z,R,G,B,A,layout_namespace.\n",
    "    '''\n",
    "    \n",
    "    colours_hex2rgb = []\n",
    "    for j in colours: \n",
    "        k = hex_to_rgb(j)\n",
    "        colours_hex2rgb.append(k)\n",
    "        \n",
    "    colours_r = []\n",
    "    colours_g = []\n",
    "    colours_b = []\n",
    "    colours_a = []\n",
    "    for i in colours_hex2rgb:\n",
    "        colours_r.append(int(i[0]))#*255)) # colour values should be integers within 0-255\n",
    "        colours_g.append(int(i[1]))#*255))\n",
    "        colours_b.append(int(i[2]))#*255))\n",
    "        colours_a.append(100) # 0-100 shows normal colours in VR, 128-200 is glowing mode\n",
    "        \n",
    "    df_3D = pd.DataFrame(posG).T\n",
    "    df_3D.columns=['X','Y','Z']\n",
    "    df_3D['R'] = colours_r\n",
    "    df_3D['G'] = colours_g\n",
    "    df_3D['B'] = colours_b\n",
    "    df_3D['A'] = colours_a\n",
    "\n",
    "    df_3D[layout_namespace] = layout_namespace\n",
    "    df_3D['ID'] = list(posG.keys())\n",
    "\n",
    "    cols = df_3D.columns.tolist()\n",
    "    cols = cols[-1:] + cols[:-1]\n",
    "    df_3D_final = df_3D[cols]\n",
    "    \n",
    "    return df_3D_final.to_csv(r''+layout_namespace+'.csv',index=False, header=False)\n",
    "\n",
    "\n",
    "def hex_to_rgb(hx):\n",
    "    hx = hx.lstrip('#')\n",
    "    hlen = len(hx)\n",
    "    return tuple(int(hx[i:i+hlen//3], 16) for i in range(0, hlen, hlen//3))\n",
    "\n",
    "\n"
   ]
  },
  {
   "cell_type": "markdown",
   "metadata": {},
   "source": [
    "### Define Graph "
   ]
  },
  {
   "cell_type": "code",
   "execution_count": 3,
   "metadata": {},
   "outputs": [
    {
     "name": "stdout",
     "output_type": "stream",
     "text": [
      "Number of nodes i.e. genes: 565\n",
      "Number of edges: 10666\n",
      "Network density: 6.7%\n"
     ]
    }
   ],
   "source": [
    "G = nx.read_edgelist(\"Iva_input/nf_edges.txt\", delimiter=',')\n",
    "\n",
    "print('Number of nodes i.e. genes: %s' %len(list(G.nodes())))\n",
    "print('Number of edges: %s'%len(list(G.edges())))\n",
    "print('Network density: %.1f%%' %(200.*len(list(G.edges()))/(len(list(G.nodes()))*len(list(G.nodes()))-1)))"
   ]
  },
  {
   "cell_type": "markdown",
   "metadata": {},
   "source": [
    "### Random Walk based Layout"
   ]
  },
  {
   "cell_type": "code",
   "execution_count": 4,
   "metadata": {},
   "outputs": [],
   "source": [
    "A = nx.adjacency_matrix(G)\n",
    "DM_adj = A.toarray()\n",
    "\n",
    "r = 0.8 # restart probability\n",
    "alpha = 1.0 # indicating \"randomness\" \n",
    "\n",
    "DM_m = rnd_walk_matrix2(A, r, alpha, len(G.nodes()))\n",
    "\n",
    "DM = pd.DataFrame(DM_m).T\n",
    "\n",
    "# set gene list (= G.nodes())\n",
    "genes = []\n",
    "for i in DM.index:\n",
    "    if str(i) in G.nodes():\n",
    "        genes.append(str(i))\n",
    "    \n",
    "genes_rest = [] \n",
    "for g in G.nodes():\n",
    "    if g not in genes:\n",
    "        genes_rest.append(g)"
   ]
  },
  {
   "cell_type": "markdown",
   "metadata": {},
   "source": [
    "### GENERAL NODE + EDGE PARAMETERS"
   ]
  },
  {
   "cell_type": "code",
   "execution_count": 165,
   "metadata": {},
   "outputs": [],
   "source": [
    "# Node, Edge colors\n",
    "edge_width = 0.1\n",
    "\n",
    "edge_colorlight = '#d3d3d3' # 'lightgrey'\n",
    "edge_colordark = '#696969' \n",
    "\n",
    "opacity_edges = 0.1 \n",
    "opacity_nodes = 0.7\n",
    "\n",
    "size3d = 5.0\n",
    "\n",
    "l_features = list(G.nodes())"
   ]
  },
  {
   "cell_type": "markdown",
   "metadata": {},
   "source": [
    "### NODE COLOR SETTINGS according to specific gene lists"
   ]
  },
  {
   "cell_type": "code",
   "execution_count": 148,
   "metadata": {},
   "outputs": [
    {
     "data": {
      "text/plain": [
       "'4763'"
      ]
     },
     "execution_count": 148,
     "metadata": {},
     "output_type": "execute_result"
    }
   ],
   "source": [
    "nf_goi = str(int(np.loadtxt('Iva_input/nf_gene_of_interest.txt', unpack=False)))\n",
    "nf_goi"
   ]
  },
  {
   "cell_type": "code",
   "execution_count": 149,
   "metadata": {},
   "outputs": [
    {
     "data": {
      "text/plain": [
       "['3845', '22882', '4893', '3265', '5609', '5594']"
      ]
     },
     "execution_count": 149,
     "metadata": {},
     "output_type": "execute_result"
    }
   ],
   "source": [
    "nf_path_ = np.loadtxt('Iva_input/nf_pathway_genes.txt', unpack=False)\n",
    "nf_pathw = []\n",
    "for i in nf_path_:\n",
    "    nf_pathw.append(str(int(i)))\n",
    "    \n",
    "nf_pathw"
   ]
  },
  {
   "cell_type": "code",
   "execution_count": 152,
   "metadata": {},
   "outputs": [
    {
     "data": {
      "text/plain": [
       "6"
      ]
     },
     "execution_count": 152,
     "metadata": {},
     "output_type": "execute_result"
    }
   ],
   "source": [
    "len(nf_pathw)"
   ]
  },
  {
   "cell_type": "code",
   "execution_count": 150,
   "metadata": {},
   "outputs": [
    {
     "data": {
      "text/plain": [
       "['55800', '9462', '283208', '2100', '10482']"
      ]
     },
     "execution_count": 150,
     "metadata": {},
     "output_type": "execute_result"
    }
   ],
   "source": [
    "df_nf_neigh = pd.read_csv('Iva_input/nf_neighbors.txt', header = None,index_col=False)\n",
    "nf_neigh = [str(i) for i in list(df_nf_neigh[0])]\n",
    "nf_neigh[:5]"
   ]
  },
  {
   "cell_type": "code",
   "execution_count": 153,
   "metadata": {},
   "outputs": [
    {
     "data": {
      "text/plain": [
       "125"
      ]
     },
     "execution_count": 153,
     "metadata": {},
     "output_type": "execute_result"
    }
   ],
   "source": [
    "len(nf_neigh)"
   ]
  },
  {
   "cell_type": "code",
   "execution_count": 175,
   "metadata": {},
   "outputs": [],
   "source": [
    "# set node-color-choice based on gene lists \n",
    "\n",
    "color_method = 'nf'\n",
    "\n",
    "col_goi = '#ffa500' # orange\n",
    "col_pathw = '#ff0000' # red\n",
    "col_neigh = '#8b0000' # darkred\n",
    "col_rest = '#696969' # dark grey\n",
    "\n",
    "nf_colors = color_nodes([nf_goi], col_goi)\n",
    "path_colors = color_nodes(nf_pathw, col_pathw)\n",
    "neigh_colors = color_nodes(nf_neigh, col_neigh)\n",
    "all_colors = {**neigh_colors,**nf_colors, **path_colors}\n",
    "\n",
    "rest_colors = {}\n",
    "for i in G.nodes():\n",
    "    if i not in all_colors.keys():\n",
    "        rest_colors[i] = col_rest\n",
    "\n",
    "all_nodes_colors_unsort = {** all_colors, **rest_colors}\n",
    "all_nodes_colors = {key:all_nodes_colors_unsort[key] for key in G.nodes()}\n",
    "\n",
    "colorlist = list(all_nodes_colors.values())\n",
    "\n",
    "d_edge_col = color_edges_from_genelist(G, [nf_goi], col_goi)"
   ]
  },
  {
   "cell_type": "code",
   "execution_count": 176,
   "metadata": {},
   "outputs": [
    {
     "name": "stdout",
     "output_type": "stream",
     "text": [
      "3845\n",
      "4893\n",
      "3265\n"
     ]
    }
   ],
   "source": [
    "# three nodes are both in nf_pathw and nf_neigh\n",
    "# (this is not of an issue in the visualization, due some quick fix in the order of color assignment, but might be of interest to you ?)\n",
    "\n",
    "for i in nf_pathw:\n",
    "    for k in nf_neigh:\n",
    "        if i==k:\n",
    "            print(i)"
   ]
  },
  {
   "cell_type": "markdown",
   "metadata": {},
   "source": [
    "____________\n",
    "# 4 | LAYOUTS\n",
    "____________"
   ]
  },
  {
   "cell_type": "markdown",
   "metadata": {},
   "source": [
    "----\n",
    "### Define r-parameter\n",
    "----"
   ]
  },
  {
   "cell_type": "code",
   "execution_count": 167,
   "metadata": {},
   "outputs": [
    {
     "data": {
      "text/plain": [
       "4"
      ]
     },
     "execution_count": 167,
     "metadata": {},
     "output_type": "execute_result"
    }
   ],
   "source": [
    "# set radius size \n",
    "xs_rad = 1\n",
    "s_rad = 5\n",
    "m_rad = 20\n",
    "l_rad = 50\n",
    "\n",
    "d_param = {}\n",
    "for i in G.nodes():\n",
    "    if str(i) in nf_goi:\n",
    "        d_param[str(i)] = xs_rad\n",
    "    elif i in nf_pathw:\n",
    "        d_param[str(i)] = s_rad\n",
    "    elif i in nf_neigh:\n",
    "        d_param[str(i)] = m_rad\n",
    "    else:\n",
    "        d_param[str(i)] = l_rad \n",
    "    \n",
    "# check how many shells of spheres there will be :\n",
    "len(set(d_param.values()))"
   ]
  },
  {
   "cell_type": "markdown",
   "metadata": {},
   "source": [
    "______"
   ]
  },
  {
   "cell_type": "markdown",
   "metadata": {},
   "source": [
    "## UMAP"
   ]
  },
  {
   "cell_type": "code",
   "execution_count": 168,
   "metadata": {},
   "outputs": [
    {
     "name": "stdout",
     "output_type": "stream",
     "text": [
      "CPU times: user 4.73 s, sys: 130 ms, total: 4.86 s\n",
      "Wall time: 2.26 s\n"
     ]
    }
   ],
   "source": [
    "%%time \n",
    "\n",
    "n_neighbors = 20 # balance between local and global structure in the data\n",
    "spread = 2.0\n",
    "min_dist = 0.1 # defines how dense points are stacked together \n",
    "metric='cosine'\n",
    "\n",
    "umap_sphere = embed_umap_sphere(DM, n_neighbors, spread, min_dist, metric)"
   ]
  },
  {
   "cell_type": "code",
   "execution_count": 169,
   "metadata": {},
   "outputs": [],
   "source": [
    "genes_rad = list(G.nodes())\n",
    "\n",
    "posG_sphere = get_posG_sphere(genes, umap_sphere)\n",
    "posG_complete_sphere_norm = get_posG_sphere_norm(G, genes_rad, umap_sphere, d_param, 40)"
   ]
  },
  {
   "cell_type": "markdown",
   "metadata": {},
   "source": [
    "# PRINT Sphere"
   ]
  },
  {
   "cell_type": "code",
   "execution_count": 177,
   "metadata": {},
   "outputs": [
    {
     "name": "stdout",
     "output_type": "stream",
     "text": [
      "Color method:  nf\n",
      "# Neighbours: 20\n",
      "Spread: 2.0\n",
      "Min. Distance: 0.1\n"
     ]
    },
    {
     "data": {
      "text/plain": [
       "'Iva_test.html'"
      ]
     },
     "execution_count": 177,
     "metadata": {},
     "output_type": "execute_result"
    }
   ],
   "source": [
    "print('Color method: ', color_method)\n",
    "\n",
    "print('# Neighbours:', n_neighbors)\n",
    "print('Spread:',spread)\n",
    "print('Min. Distance:', min_dist)\n",
    "\n",
    "umap_nodes = get_trace_nodes_3D(posG_complete_sphere_norm, l_features, colorlist, \n",
    "                                size3d,\n",
    "                                opacity_nodes)\n",
    "\n",
    "umap_edges = get_trace_edges_3D(G, posG_complete_sphere_norm, edge_colorlight, 0.15)\n",
    "umap_edges_spec = get_trace_edges_from_genelist3D(list(d_edge_col.keys()),posG_complete_sphere_norm, col_goi, 0.4)\n",
    "\n",
    "umap_data_edges = [umap_edges_spec, umap_nodes]\n",
    "\n",
    "scheme = 'dark'\n",
    "\n",
    "data_edges = umap_data_edges\n",
    "fname = 'Iva_test'\n",
    "plot_3D(data_edges, fname, scheme)"
   ]
  },
  {
   "cell_type": "markdown",
   "metadata": {},
   "source": [
    "#### UMAP SPHERE EXPORT TO CSV"
   ]
  },
  {
   "cell_type": "code",
   "execution_count": 144,
   "metadata": {},
   "outputs": [],
   "source": [
    "namespace='iva_nf'\n",
    "export_to_csv3D(namespace, posG_complete_sphere_norm, colorlist)"
   ]
  },
  {
   "cell_type": "code",
   "execution_count": null,
   "metadata": {},
   "outputs": [],
   "source": []
  },
  {
   "cell_type": "code",
   "execution_count": null,
   "metadata": {},
   "outputs": [],
   "source": []
  },
  {
   "cell_type": "code",
   "execution_count": null,
   "metadata": {},
   "outputs": [],
   "source": []
  },
  {
   "cell_type": "code",
   "execution_count": null,
   "metadata": {},
   "outputs": [],
   "source": []
  }
 ],
 "metadata": {
  "kernelspec": {
   "display_name": "myenv",
   "language": "python",
   "name": "myenv"
  },
  "language_info": {
   "codemirror_mode": {
    "name": "ipython",
    "version": 3
   },
   "file_extension": ".py",
   "mimetype": "text/x-python",
   "name": "python",
   "nbconvert_exporter": "python",
   "pygments_lexer": "ipython3",
   "version": "3.8.2"
  }
 },
 "nbformat": 4,
 "nbformat_minor": 4
}
