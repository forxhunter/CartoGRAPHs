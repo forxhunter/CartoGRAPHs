{
 "cells": [
  {
   "attachments": {},
   "cell_type": "markdown",
   "id": "positive-supervision",
   "metadata": {},
   "source": [
    "-----\n",
    "# Prepare your data for the VRNetzer \n",
    "-----"
   ]
  },
  {
   "cell_type": "code",
   "execution_count": 1,
   "id": "3056d408",
   "metadata": {},
   "outputs": [],
   "source": [
    "# TO DO : Test in Google Colab \n",
    "import networkx as nx\n",
    "from sklearn import preprocessing \n",
    "import pandas as pd\n",
    "import json\n",
    "import random\n",
    "import seaborn as sns\n",
    "\n",
    "def normalize_xyz(d_coordinates):      \n",
    "    x = [i[0] for i in d_coordinates.values()]\n",
    "    y = [i[1] for i in d_coordinates.values()]\n",
    "    z = [i[2] for i in d_coordinates.values()]\n",
    "    xnorm = preprocessing.minmax_scale(list(x), feature_range=(0,1), axis=0, copy=True)\n",
    "    ynorm = preprocessing.minmax_scale(list(y), feature_range=(0,1), axis=0, copy=True)\n",
    "    znorm = preprocessing.minmax_scale(list(z), feature_range=(0,1), axis=0, copy=True)\n",
    "    return xnorm,ynorm,znorm\n",
    "\n",
    "def hex_to_rgb(hx):\n",
    "    hx = hx.lstrip('#')\n",
    "    hlen = len(hx)\n",
    "    rgb = tuple(int(hx[i:i+hlen//3], 16) for i in range(0, hlen, hlen//3))\n",
    "    return rgb"
   ]
  },
  {
   "attachments": {},
   "cell_type": "markdown",
   "id": "b64e384a",
   "metadata": {},
   "source": [
    "# Generate or use preprocessed Network Graph\n",
    "\n",
    "#### RESULTS IN :\n",
    "A Graph with following data structure : A nx.Graph() including node positions, node colors and node annotations stored in the nx.Graph object with the following keys : \"name\", \"pos\", \"color\", \"annotation\", \"cluster\", where:\n",
    "- \"name\" stores a string i.e. title of the graph\n",
    "- \"pos\" stores coordinates as (x,y,z)\n",
    "- \"nodecolor\" stores hex-colors for each node, where each node has an assigned color based on your choice \n",
    "- \"annotation\" stores node attributes as strings, separated with a \";\" For example, if nodes are persons the annotations can look like the following: name; age; height; ...- they can be as many as you like/find useful\n",
    "- \"cluster\" stores a dictionary node: name-of-cluster \n",
    "- \"linkcolor\" stores a dicttionary with link ID and color assigned in hex format"
   ]
  },
  {
   "cell_type": "code",
   "execution_count": 88,
   "id": "8f90b2d3",
   "metadata": {},
   "outputs": [],
   "source": [
    "# here an example if you have a Graph without any of the following attributes yet: \n",
    "\n",
    "# --------------------------\n",
    "# GRAPH \n",
    "# --------------------------\n",
    "G = nx.random_geometric_graph(n=20,radius=5) #nx.karate_club_graph()\n",
    "if G.name == '':\n",
    "    G.graph['name'] = \"Testgraph\""
   ]
  },
  {
   "cell_type": "code",
   "execution_count": 89,
   "id": "33a2962a",
   "metadata": {},
   "outputs": [],
   "source": [
    "# --------------------------\n",
    "# POS \n",
    "# --------------------------\n",
    "pos = nx.spring_layout(G, dim = 3)\n",
    "xnorm,ynorm,znorm = normalize_xyz(pos)\n",
    "posG = dict(zip(list(G.nodes()),zip(xnorm,ynorm,znorm)))\n",
    "nx.set_node_attributes(G, posG, name=\"pos\")"
   ]
  },
  {
   "cell_type": "code",
   "execution_count": 90,
   "id": "c60ce70a",
   "metadata": {},
   "outputs": [],
   "source": [
    "# --------------------------\n",
    "# CLUSTER \n",
    "# --------------------------\n",
    "\n",
    "# initial data structure : dict with key=node Index and value=assigned cluster\n",
    "# replace your dictionary here and run: \n",
    "if G.name == \"Zachary's Karate Club\":\n",
    "    dict_for_cluster = nx.get_node_attributes(G, \"club\")\n",
    "    nx.set_node_attributes(G, dict_for_cluster, name=\"cluster\")\n",
    "\n",
    "#or random assigned if no assigned groups: \n",
    "else:\n",
    "    assigned_groups = []\n",
    "    for g in G.nodes():\n",
    "        n = random.randint(0,3)\n",
    "        assigned_groups.append(n)\n",
    "    dict_for_cluster = dict(zip(G.nodes(), assigned_groups))\n",
    "    nx.set_node_attributes(G, dict_for_cluster, name=\"cluster\")"
   ]
  },
  {
   "cell_type": "code",
   "execution_count": 91,
   "id": "2679ff1a",
   "metadata": {},
   "outputs": [],
   "source": [
    "# --------------------------\n",
    "# NODE COLOR  \n",
    "# --------------------------\n",
    "# choose and assign colors for each cluster: \n",
    "clustercolors = sns.color_palette(\"Set1\").as_hex()[:len(set(assigned_groups))]\n",
    "d_clustercolors = dict(zip(set(dict_for_cluster.values()),clustercolors)) \n",
    "\n",
    "# assign a clustercolor to each node based on assigned group\n",
    "d_node_colors={}\n",
    "for nodeid,group in dict_for_cluster.items():\n",
    "    for clu, col in d_clustercolors.items():\n",
    "        if group==clu:\n",
    "            d_node_colors[nodeid] = col\n",
    "\n",
    "nx.set_node_attributes(G, d_node_colors, name=\"nodecolor\")"
   ]
  },
  {
   "cell_type": "code",
   "execution_count": 92,
   "id": "90884bbe",
   "metadata": {},
   "outputs": [],
   "source": [
    "# --------------------------\n",
    "# NODE ANNOTATION\n",
    "# --------------------------\n",
    "\n",
    "l_annotations = [str(i)+'; NodeID '+str(j) for i,j in zip(dict_for_cluster.values(), dict_for_cluster.keys())]\n",
    "d_annotations = dict(zip(G.nodes(), l_annotations))\n",
    "nx.set_node_attributes(G, d_annotations, name=\"annotation\")"
   ]
  },
  {
   "cell_type": "code",
   "execution_count": 93,
   "id": "9600d79c",
   "metadata": {},
   "outputs": [],
   "source": [
    "# --------------------------\n",
    "# LINK COLOR\n",
    "# --------------------------\n",
    "\n",
    "linkcolor = '#909090'\n",
    "nx.set_edge_attributes(G, linkcolor, name=\"linkcolor\")"
   ]
  },
  {
   "attachments": {},
   "cell_type": "markdown",
   "id": "3231c6f6",
   "metadata": {},
   "source": [
    "# TEST ATTRIBUTES of GRAPH"
   ]
  },
  {
   "cell_type": "code",
   "execution_count": 94,
   "id": "a112b1e0",
   "metadata": {},
   "outputs": [
    {
     "data": {
      "text/plain": [
       "'Testgraph'"
      ]
     },
     "execution_count": 94,
     "metadata": {},
     "output_type": "execute_result"
    }
   ],
   "source": [
    "name = G.name\n",
    "name"
   ]
  },
  {
   "cell_type": "code",
   "execution_count": 95,
   "id": "1060cd88",
   "metadata": {},
   "outputs": [
    {
     "data": {
      "text/plain": [
       "{0: (0.7291069754985925, 1.0, 0.506349742097395),\n",
       " 1: (0.5655084946097764, 0.0, 0.30038264557162103),\n",
       " 2: (0.1254511759396662, 0.7387133622859131, 0.25376432762738826),\n",
       " 3: (0.2406347340692171, 0.25669283917025226, 0.14339972370050613),\n",
       " 4: (0.825248178411915, 0.7358085531611424, 0.13600866325728717),\n",
       " 5: (0.8205317190023307, 0.3439179137831394, 0.8942150099005464),\n",
       " 6: (0.7422588497161596, 0.27826488446300635, 0.0503618062147298),\n",
       " 7: (0.0, 0.44126232008135025, 0.466484095564859),\n",
       " 8: (0.18910426925011442, 0.258442192436325, 0.8895001392779496),\n",
       " 9: (0.49461890283057514, 0.49545751237451796, 1.0),\n",
       " 10: (0.933284965180674, 0.7066260529052308, 0.7279446048627678),\n",
       " 11: (0.4326187262733394, 0.5486371238527439, 0.0),\n",
       " 12: (0.2981372061183615, 0.9604870955357931, 0.5780624631090735),\n",
       " 13: (1.0, 0.4811981029117915, 0.3868889201783611),\n",
       " 14: (0.4717849891615238, 0.9154817257091732, 0.20270515544906997),\n",
       " 15: (0.11825582143678975, 0.6858476462122404, 0.8021047045736527),\n",
       " 16: (0.2030985145606502, 0.04911755153903641, 0.5048069100901917),\n",
       " 17: (0.8741394814139425, 0.13766822849125654, 0.5293811115479722),\n",
       " 18: (0.5599287715602943, 0.8711158069504938, 0.8915982362413335),\n",
       " 19: (0.5484188831872063, 0.050444025410591675, 0.7660431376687857)}"
      ]
     },
     "execution_count": 95,
     "metadata": {},
     "output_type": "execute_result"
    }
   ],
   "source": [
    "pos = nx.get_node_attributes(G, \"pos\")\n",
    "pos"
   ]
  },
  {
   "cell_type": "code",
   "execution_count": 96,
   "id": "4fd78bcc",
   "metadata": {},
   "outputs": [
    {
     "data": {
      "text/plain": [
       "{0: '#4daf4a',\n",
       " 1: '#4daf4a',\n",
       " 2: '#e41a1c',\n",
       " 3: '#984ea3',\n",
       " 4: '#e41a1c',\n",
       " 5: '#984ea3',\n",
       " 6: '#e41a1c',\n",
       " 7: '#e41a1c',\n",
       " 8: '#984ea3',\n",
       " 9: '#377eb8',\n",
       " 10: '#e41a1c',\n",
       " 11: '#4daf4a',\n",
       " 12: '#377eb8',\n",
       " 13: '#984ea3',\n",
       " 14: '#377eb8',\n",
       " 15: '#377eb8',\n",
       " 16: '#984ea3',\n",
       " 17: '#4daf4a',\n",
       " 18: '#984ea3',\n",
       " 19: '#984ea3'}"
      ]
     },
     "execution_count": 96,
     "metadata": {},
     "output_type": "execute_result"
    }
   ],
   "source": [
    "nodecolor = nx.get_node_attributes(G, \"nodecolor\")\n",
    "nodecolor"
   ]
  },
  {
   "cell_type": "code",
   "execution_count": 97,
   "id": "88a1039e",
   "metadata": {},
   "outputs": [
    {
     "data": {
      "text/plain": [
       "{0: 2,\n",
       " 1: 2,\n",
       " 2: 0,\n",
       " 3: 3,\n",
       " 4: 0,\n",
       " 5: 3,\n",
       " 6: 0,\n",
       " 7: 0,\n",
       " 8: 3,\n",
       " 9: 1,\n",
       " 10: 0,\n",
       " 11: 2,\n",
       " 12: 1,\n",
       " 13: 3,\n",
       " 14: 1,\n",
       " 15: 1,\n",
       " 16: 3,\n",
       " 17: 2,\n",
       " 18: 3,\n",
       " 19: 3}"
      ]
     },
     "execution_count": 97,
     "metadata": {},
     "output_type": "execute_result"
    }
   ],
   "source": [
    "cluster = nx.get_node_attributes(G, \"cluster\")\n",
    "cluster"
   ]
  },
  {
   "cell_type": "code",
   "execution_count": 98,
   "id": "1b38f6b1",
   "metadata": {},
   "outputs": [
    {
     "data": {
      "text/plain": [
       "{0: '2; NodeID 0',\n",
       " 1: '2; NodeID 1',\n",
       " 2: '0; NodeID 2',\n",
       " 3: '3; NodeID 3',\n",
       " 4: '0; NodeID 4',\n",
       " 5: '3; NodeID 5',\n",
       " 6: '0; NodeID 6',\n",
       " 7: '0; NodeID 7',\n",
       " 8: '3; NodeID 8',\n",
       " 9: '1; NodeID 9',\n",
       " 10: '0; NodeID 10',\n",
       " 11: '2; NodeID 11',\n",
       " 12: '1; NodeID 12',\n",
       " 13: '3; NodeID 13',\n",
       " 14: '1; NodeID 14',\n",
       " 15: '1; NodeID 15',\n",
       " 16: '3; NodeID 16',\n",
       " 17: '2; NodeID 17',\n",
       " 18: '3; NodeID 18',\n",
       " 19: '3; NodeID 19'}"
      ]
     },
     "execution_count": 98,
     "metadata": {},
     "output_type": "execute_result"
    }
   ],
   "source": [
    "annotation = nx.get_node_attributes(G, \"annotation\")\n",
    "annotation"
   ]
  },
  {
   "cell_type": "code",
   "execution_count": 99,
   "id": "b38f173d",
   "metadata": {},
   "outputs": [
    {
     "data": {
      "text/plain": [
       "{(0, 1): '#909090',\n",
       " (0, 2): '#909090',\n",
       " (0, 3): '#909090',\n",
       " (0, 4): '#909090',\n",
       " (0, 5): '#909090',\n",
       " (0, 6): '#909090',\n",
       " (0, 7): '#909090',\n",
       " (0, 8): '#909090',\n",
       " (0, 9): '#909090',\n",
       " (0, 10): '#909090',\n",
       " (0, 11): '#909090',\n",
       " (0, 12): '#909090',\n",
       " (0, 13): '#909090',\n",
       " (0, 14): '#909090',\n",
       " (0, 15): '#909090',\n",
       " (0, 16): '#909090',\n",
       " (0, 17): '#909090',\n",
       " (0, 18): '#909090',\n",
       " (0, 19): '#909090',\n",
       " (1, 2): '#909090',\n",
       " (1, 3): '#909090',\n",
       " (1, 4): '#909090',\n",
       " (1, 5): '#909090',\n",
       " (1, 6): '#909090',\n",
       " (1, 7): '#909090',\n",
       " (1, 8): '#909090',\n",
       " (1, 9): '#909090',\n",
       " (1, 10): '#909090',\n",
       " (1, 11): '#909090',\n",
       " (1, 12): '#909090',\n",
       " (1, 13): '#909090',\n",
       " (1, 14): '#909090',\n",
       " (1, 15): '#909090',\n",
       " (1, 16): '#909090',\n",
       " (1, 17): '#909090',\n",
       " (1, 18): '#909090',\n",
       " (1, 19): '#909090',\n",
       " (2, 3): '#909090',\n",
       " (2, 4): '#909090',\n",
       " (2, 5): '#909090',\n",
       " (2, 6): '#909090',\n",
       " (2, 7): '#909090',\n",
       " (2, 8): '#909090',\n",
       " (2, 9): '#909090',\n",
       " (2, 10): '#909090',\n",
       " (2, 11): '#909090',\n",
       " (2, 12): '#909090',\n",
       " (2, 13): '#909090',\n",
       " (2, 14): '#909090',\n",
       " (2, 15): '#909090',\n",
       " (2, 16): '#909090',\n",
       " (2, 17): '#909090',\n",
       " (2, 18): '#909090',\n",
       " (2, 19): '#909090',\n",
       " (3, 4): '#909090',\n",
       " (3, 5): '#909090',\n",
       " (3, 6): '#909090',\n",
       " (3, 7): '#909090',\n",
       " (3, 8): '#909090',\n",
       " (3, 9): '#909090',\n",
       " (3, 10): '#909090',\n",
       " (3, 11): '#909090',\n",
       " (3, 12): '#909090',\n",
       " (3, 13): '#909090',\n",
       " (3, 14): '#909090',\n",
       " (3, 15): '#909090',\n",
       " (3, 16): '#909090',\n",
       " (3, 17): '#909090',\n",
       " (3, 18): '#909090',\n",
       " (3, 19): '#909090',\n",
       " (4, 5): '#909090',\n",
       " (4, 6): '#909090',\n",
       " (4, 7): '#909090',\n",
       " (4, 8): '#909090',\n",
       " (4, 9): '#909090',\n",
       " (4, 10): '#909090',\n",
       " (4, 11): '#909090',\n",
       " (4, 12): '#909090',\n",
       " (4, 13): '#909090',\n",
       " (4, 14): '#909090',\n",
       " (4, 15): '#909090',\n",
       " (4, 16): '#909090',\n",
       " (4, 17): '#909090',\n",
       " (4, 18): '#909090',\n",
       " (4, 19): '#909090',\n",
       " (5, 6): '#909090',\n",
       " (5, 7): '#909090',\n",
       " (5, 8): '#909090',\n",
       " (5, 9): '#909090',\n",
       " (5, 10): '#909090',\n",
       " (5, 11): '#909090',\n",
       " (5, 12): '#909090',\n",
       " (5, 13): '#909090',\n",
       " (5, 14): '#909090',\n",
       " (5, 15): '#909090',\n",
       " (5, 16): '#909090',\n",
       " (5, 17): '#909090',\n",
       " (5, 18): '#909090',\n",
       " (5, 19): '#909090',\n",
       " (6, 7): '#909090',\n",
       " (6, 8): '#909090',\n",
       " (6, 9): '#909090',\n",
       " (6, 10): '#909090',\n",
       " (6, 11): '#909090',\n",
       " (6, 12): '#909090',\n",
       " (6, 13): '#909090',\n",
       " (6, 14): '#909090',\n",
       " (6, 15): '#909090',\n",
       " (6, 16): '#909090',\n",
       " (6, 17): '#909090',\n",
       " (6, 18): '#909090',\n",
       " (6, 19): '#909090',\n",
       " (7, 8): '#909090',\n",
       " (7, 9): '#909090',\n",
       " (7, 10): '#909090',\n",
       " (7, 11): '#909090',\n",
       " (7, 12): '#909090',\n",
       " (7, 13): '#909090',\n",
       " (7, 14): '#909090',\n",
       " (7, 15): '#909090',\n",
       " (7, 16): '#909090',\n",
       " (7, 17): '#909090',\n",
       " (7, 18): '#909090',\n",
       " (7, 19): '#909090',\n",
       " (8, 9): '#909090',\n",
       " (8, 10): '#909090',\n",
       " (8, 11): '#909090',\n",
       " (8, 12): '#909090',\n",
       " (8, 13): '#909090',\n",
       " (8, 14): '#909090',\n",
       " (8, 15): '#909090',\n",
       " (8, 16): '#909090',\n",
       " (8, 17): '#909090',\n",
       " (8, 18): '#909090',\n",
       " (8, 19): '#909090',\n",
       " (9, 10): '#909090',\n",
       " (9, 11): '#909090',\n",
       " (9, 12): '#909090',\n",
       " (9, 13): '#909090',\n",
       " (9, 14): '#909090',\n",
       " (9, 15): '#909090',\n",
       " (9, 16): '#909090',\n",
       " (9, 17): '#909090',\n",
       " (9, 18): '#909090',\n",
       " (9, 19): '#909090',\n",
       " (10, 11): '#909090',\n",
       " (10, 12): '#909090',\n",
       " (10, 13): '#909090',\n",
       " (10, 14): '#909090',\n",
       " (10, 15): '#909090',\n",
       " (10, 16): '#909090',\n",
       " (10, 17): '#909090',\n",
       " (10, 18): '#909090',\n",
       " (10, 19): '#909090',\n",
       " (11, 12): '#909090',\n",
       " (11, 13): '#909090',\n",
       " (11, 14): '#909090',\n",
       " (11, 15): '#909090',\n",
       " (11, 16): '#909090',\n",
       " (11, 17): '#909090',\n",
       " (11, 18): '#909090',\n",
       " (11, 19): '#909090',\n",
       " (12, 13): '#909090',\n",
       " (12, 14): '#909090',\n",
       " (12, 15): '#909090',\n",
       " (12, 16): '#909090',\n",
       " (12, 17): '#909090',\n",
       " (12, 18): '#909090',\n",
       " (12, 19): '#909090',\n",
       " (13, 14): '#909090',\n",
       " (13, 15): '#909090',\n",
       " (13, 16): '#909090',\n",
       " (13, 17): '#909090',\n",
       " (13, 18): '#909090',\n",
       " (13, 19): '#909090',\n",
       " (14, 15): '#909090',\n",
       " (14, 16): '#909090',\n",
       " (14, 17): '#909090',\n",
       " (14, 18): '#909090',\n",
       " (14, 19): '#909090',\n",
       " (15, 16): '#909090',\n",
       " (15, 17): '#909090',\n",
       " (15, 18): '#909090',\n",
       " (15, 19): '#909090',\n",
       " (16, 17): '#909090',\n",
       " (16, 18): '#909090',\n",
       " (16, 19): '#909090',\n",
       " (17, 18): '#909090',\n",
       " (17, 19): '#909090',\n",
       " (18, 19): '#909090'}"
      ]
     },
     "execution_count": 99,
     "metadata": {},
     "output_type": "execute_result"
    }
   ],
   "source": [
    "linkcolor = nx.get_edge_attributes(G, \"linkcolor\")\n",
    "linkcolor"
   ]
  },
  {
   "attachments": {},
   "cell_type": "markdown",
   "id": "af404633",
   "metadata": {},
   "source": [
    "# UPLOADING DATA PREPARATION:\n",
    "There are the following options to prepare your data for the VRnetzer\n",
    "* 1 - using JSON files\n",
    "* 2 - using CSV files\n"
   ]
  },
  {
   "attachments": {},
   "cell_type": "markdown",
   "id": "7869a5b9",
   "metadata": {},
   "source": [
    "### OPTION 1: GENERATE GRAPH upload / JSON file "
   ]
  },
  {
   "cell_type": "code",
   "execution_count": 100,
   "id": "129970ba",
   "metadata": {},
   "outputs": [],
   "source": [
    "G_json = json.dumps(nx.node_link_data(G))\n",
    "\n",
    "with open(G.name+\".json\", \"w\") as outfile:\n",
    "    outfile.write(G_json)"
   ]
  },
  {
   "attachments": {},
   "cell_type": "markdown",
   "id": "e842ac72",
   "metadata": {},
   "source": [
    "### OPTION 2: GENERATE CSV files "
   ]
  },
  {
   "cell_type": "code",
   "execution_count": 101,
   "id": "e9729b1e",
   "metadata": {},
   "outputs": [],
   "source": [
    "# NODE POSITIONS \n",
    "\n",
    "df_nodepos = pd.DataFrame()\n",
    "df_nodepos['x']=[i[0] for i in posG.values()]\n",
    "df_nodepos['y']=[i[1] for i in posG.values()]\n",
    "df_nodepos['z']=[i[2] for i in posG.values()]\n",
    "\n",
    "df_nodepos.to_csv('output/VRNetzer2_ExamplesFiles/'+G.name+'_nodepositions.csv', header=None, index=0)"
   ]
  },
  {
   "cell_type": "code",
   "execution_count": 102,
   "id": "b104563c",
   "metadata": {},
   "outputs": [],
   "source": [
    "# NODE COLORS \n",
    "\n",
    "df_nodecol = pd.DataFrame()\n",
    "df_nodecol['r']=[hex_to_rgb(i)[0] for i in d_node_colors.values()]\n",
    "df_nodecol['g']=[hex_to_rgb(i)[1] for i in d_node_colors.values()]\n",
    "df_nodecol['b']=[hex_to_rgb(i)[2] for i in d_node_colors.values()]\n",
    "df_nodecol['a']=[100 for i in d_node_colors.values()]\n",
    "\n",
    "df_nodecol.to_csv('output/VRNetzer2_ExamplesFiles/'+G.name+'_nodecolors.csv', header=None, index=0)"
   ]
  },
  {
   "cell_type": "code",
   "execution_count": 103,
   "id": "b986f1ed",
   "metadata": {},
   "outputs": [],
   "source": [
    "# NODE PROPERTIES\n",
    "\n",
    "df_nodeprop = pd.DataFrame()\n",
    "df_nodeprop['prop'] = l_annotations\n",
    "\n",
    "df_nodeprop.to_csv('output/VRNetzer2_ExamplesFiles/'+G.name+'_nodeproperties.csv', header=None, index=0)"
   ]
  },
  {
   "cell_type": "code",
   "execution_count": 104,
   "id": "4cd1e0e6",
   "metadata": {},
   "outputs": [],
   "source": [
    "# LINKS\n",
    "\n",
    "df_links = pd.DataFrame()\n",
    "df_links['start'] = [i[0] for i in list(G.edges())]\n",
    "df_links['end'] = [i[1] for i in list(G.edges())]\n",
    "\n",
    "df_links.to_csv('output/VRNetzer2_ExamplesFiles/'+G.name+'_links.csv', header=None, index=0)"
   ]
  },
  {
   "cell_type": "code",
   "execution_count": 105,
   "id": "09e8a918",
   "metadata": {},
   "outputs": [],
   "source": [
    "# LINK COLORS\n",
    "\n",
    "df_linkcol = pd.DataFrame()\n",
    "df_linkcol['r'] = [hex_to_rgb(i)[0] for i in linkcolor.values()] #hex_to_rgb(linkcolor)[0] \n",
    "df_linkcol['g'] = [hex_to_rgb(i)[1] for i in linkcolor.values()] #hex_to_rgb(linkcolor)[1] \n",
    "df_linkcol['b'] = [hex_to_rgb(i)[2] for i in linkcolor.values()] #hex_to_rgb(linkcolor)[2] \n",
    "df_linkcol['a'] = 80\n",
    "\n",
    "df_linkcol.to_csv('output/VRNetzer2_ExamplesFiles/'+G.name+'_linkcolors.csv', header=None, index=0)"
   ]
  },
  {
   "cell_type": "code",
   "execution_count": 106,
   "id": "70249dd2",
   "metadata": {},
   "outputs": [],
   "source": [
    "# CLUSTER LABELS\n",
    "\n",
    "clusterlabels = []\n",
    "for cluster in d_clustercolors.keys():\n",
    "    sublist = []\n",
    "    for k,v in dict_for_cluster.items():\n",
    "        if cluster == v:\n",
    "            sublist.append(str(k))\n",
    "    sublist.insert(0,str(cluster))\n",
    "    clusterlabels.append(sublist)\n",
    "\n",
    "df_labels = pd.DataFrame(clusterlabels)\n",
    "\n",
    "df_labels.to_csv('output/VRNetzer2_ExamplesFiles/'+G.name+'_clusterlabels.csv', header=None, index=0)"
   ]
  },
  {
   "cell_type": "code",
   "execution_count": null,
   "id": "6cc5a2bf",
   "metadata": {},
   "outputs": [],
   "source": []
  },
  {
   "cell_type": "code",
   "execution_count": null,
   "id": "b384f06a",
   "metadata": {},
   "outputs": [],
   "source": []
  },
  {
   "cell_type": "code",
   "execution_count": null,
   "id": "741b481a",
   "metadata": {},
   "outputs": [],
   "source": []
  },
  {
   "cell_type": "code",
   "execution_count": null,
   "id": "d77f932f",
   "metadata": {},
   "outputs": [],
   "source": []
  }
 ],
 "metadata": {
  "kernelspec": {
   "display_name": "c_env",
   "language": "python",
   "name": "c_env"
  },
  "language_info": {
   "codemirror_mode": {
    "name": "ipython",
    "version": 3
   },
   "file_extension": ".py",
   "mimetype": "text/x-python",
   "name": "python",
   "nbconvert_exporter": "python",
   "pygments_lexer": "ipython3",
   "version": "3.8.2"
  }
 },
 "nbformat": 4,
 "nbformat_minor": 5
}
