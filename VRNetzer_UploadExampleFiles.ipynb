{
 "cells": [
  {
   "attachments": {},
   "cell_type": "markdown",
   "id": "positive-supervision",
   "metadata": {},
   "source": [
    "-----\n",
    "# Example File for VRNetzer + VRNetzer 2.0 \n",
    "## with Zachary's karate Network \n",
    "-----"
   ]
  },
  {
   "cell_type": "code",
   "execution_count": 2,
   "id": "fc201309-484c-475d-9c9e-85f35a74b6fc",
   "metadata": {},
   "outputs": [],
   "source": [
    "from cartoGRAPHs import * "
   ]
  },
  {
   "cell_type": "markdown",
   "id": "living-russell",
   "metadata": {},
   "source": [
    "_____\n",
    "# 1 | DEFINE NETWORK\n",
    "_____"
   ]
  },
  {
   "cell_type": "code",
   "execution_count": 3,
   "id": "blocked-journalism",
   "metadata": {
    "tags": []
   },
   "outputs": [],
   "source": [
    "G = nx.karate_club_graph() #nx.scale_free_graph(n=100)\n",
    "\n",
    "l_nodefeatures = ['nodeID:'+str(i) for i in list(G.nodes())]\n",
    "d_nodefeatures = dict(zip(G.nodes(),l_nodefeatures))\n",
    "\n",
    "closeness = nx.closeness_centrality(G)\n",
    "d_closeness = {}\n",
    "for node, cl in sorted(closeness.items(), key = lambda x: x[1], reverse = 1):\n",
    "    d_closeness[node] = round(cl,4)"
   ]
  },
  {
   "cell_type": "code",
   "execution_count": 4,
   "id": "5137d1b7",
   "metadata": {},
   "outputs": [],
   "source": [
    "d_clubs = nx.get_node_attributes(G, \"club\")\n",
    "l_clubs_unique = list(set(val for val in d_clubs.values()))"
   ]
  },
  {
   "cell_type": "code",
   "execution_count": 5,
   "id": "ff158dfe",
   "metadata": {},
   "outputs": [],
   "source": [
    "d_clusterlabels = {}\n",
    "for club in l_clubs_unique:\n",
    "    subnodelist = []\n",
    "    for k,v in d_clubs.items():\n",
    "        if club==v: \n",
    "            subnodelist.append(k)\n",
    "    d_clusterlabels[club] = subnodelist"
   ]
  },
  {
   "cell_type": "code",
   "execution_count": 6,
   "id": "eda80e11",
   "metadata": {},
   "outputs": [],
   "source": [
    "# node properties\n",
    "node_properties = [\"club \"+i+'; '+\"nodeID \"+str(ix) for ix,i in enumerate(d_clubs.values())]"
   ]
  },
  {
   "attachments": {},
   "cell_type": "markdown",
   "id": "b1f07e30-41b7-4ad2-875a-c22a4f320720",
   "metadata": {},
   "source": [
    "_____\n",
    "# 2 | GET NODE POSITIONS e.g. using cartographs structural layout\n",
    "_____\n"
   ]
  },
  {
   "cell_type": "markdown",
   "id": "d59ad55f-a1bd-4c8f-a487-59aed7a5fdb9",
   "metadata": {
    "tags": []
   },
   "source": [
    "### Example of Structural Layout"
   ]
  },
  {
   "cell_type": "code",
   "execution_count": 7,
   "id": "f7dac009-f8cc-4705-8608-22eee785e233",
   "metadata": {},
   "outputs": [
    {
     "name": "stderr",
     "output_type": "stream",
     "text": [
      "/Users/chris/opt/anaconda3/envs/myenv/lib/python3.8/site-packages/sklearn/utils/validation.py:585: FutureWarning: np.matrix usage is deprecated in 1.0 and will raise a TypeError in 1.2. Please convert to a numpy array with np.asarray. For more information see: https://numpy.org/doc/stable/reference/generated/numpy.matrix.html\n",
      "  warnings.warn(\n"
     ]
    }
   ],
   "source": [
    "layout_method = 'global'\n",
    "\n",
    "posG3D = layout_global_umap(G,\n",
    "                            3,\n",
    "                            n_neighbors=10, \n",
    "                            spread=1, \n",
    "                            min_dist=0.1, \n",
    "                            metric='cosine'\n",
    "                            )"
   ]
  },
  {
   "cell_type": "markdown",
   "id": "split-center",
   "metadata": {
    "tags": []
   },
   "source": [
    "____________\n",
    "# 3 | SPECIFIC VISUAL NODE / EDGE SETTINGS\n",
    "____________"
   ]
  },
  {
   "cell_type": "markdown",
   "id": "464052df-8df4-49d1-9aea-9d2698349195",
   "metadata": {
    "tags": []
   },
   "source": [
    "#### SET NODE COLORS "
   ]
  },
  {
   "cell_type": "code",
   "execution_count": 8,
   "id": "df9d820e-9fb6-44f5-8441-6e836d0fa8e7",
   "metadata": {},
   "outputs": [],
   "source": [
    "d_nodesize = dict(zip(G.nodes(),[6]*len(G.nodes())))\n",
    "\n",
    "dict_colorparameter = d_clubs #d_closeness \n",
    "col_pal = 'YlOrRd'\n",
    "\n",
    "d_nodecolors = color_nodes_from_dict(G, dict_colorparameter, palette = col_pal)\n",
    "d_nodecolors_rgba = {}\n",
    "for k,v in d_nodecolors.items():\n",
    "    newcol=hex_to_rgb(v)\n",
    "    rgba=(*newcol,120)\n",
    "    d_nodecolors_rgba[k]=rgba\n",
    "\n",
    "d_nodelegend = {}\n",
    "c = 0\n",
    "for i in range(len(set(d_nodecolors.values()))):\n",
    "    d_nodelegend[i]='color'+str(c)\n",
    "    c+=1"
   ]
  },
  {
   "attachments": {},
   "cell_type": "markdown",
   "id": "scientific-template",
   "metadata": {
    "tags": []
   },
   "source": [
    "_____ \n",
    "# 4 | INTERACTIVE VISUALIZATION + EXPORT TO VR\n",
    "_____"
   ]
  },
  {
   "attachments": {},
   "cell_type": "markdown",
   "id": "opening-courtesy",
   "metadata": {
    "tags": []
   },
   "source": [
    "### 3D PORTRAIT VIZ"
   ]
  },
  {
   "cell_type": "code",
   "execution_count": 9,
   "id": "81114f28-9d9d-4157-9ead-6d252d42f956",
   "metadata": {},
   "outputs": [
    {
     "data": {
      "text/plain": [
       "'3Dportrait_global.html'"
      ]
     },
     "execution_count": 9,
     "metadata": {},
     "output_type": "execute_result"
    }
   ],
   "source": [
    "plot_3Dfigure(G, posG3D, \n",
    "              d_features = d_nodefeatures, \n",
    "              d_colors = d_nodecolors, \n",
    "              d_size = d_nodesize, \n",
    "              d_legend = d_nodelegend,\n",
    "              path = '', \n",
    "              fname = '3Dportrait'+'_'+layout_method, \n",
    "              scheme = 'dark',\n",
    "              with_edges = True\n",
    "             )"
   ]
  },
  {
   "attachments": {},
   "cell_type": "markdown",
   "id": "ae7915dd",
   "metadata": {},
   "source": [
    "#### EXPORT FOR VRNETZER "
   ]
  },
  {
   "cell_type": "code",
   "execution_count": 11,
   "id": "4a07603d",
   "metadata": {},
   "outputs": [],
   "source": [
    "# NODE TABLE\n",
    "\n",
    "\n",
    "df_nodepos = pd.DataFrame()\n",
    "df_nodepos['x']=[i[0] for i in posG3D.values()]\n",
    "df_nodepos['y']=[i[1] for i in posG3D.values()]\n",
    "df_nodepos['z']=[i[2] for i in posG3D.values()]\n",
    "df_nodepos['r']=[i[0] for i in d_nodecolors_rgba.values()]\n",
    "df_nodepos['g']=[i[1] for i in d_nodecolors_rgba.values()]\n",
    "df_nodepos['b']=[i[2] for i in d_nodecolors_rgba.values()]\n",
    "df_nodepos['a']=[120 for i in d_nodecolors_rgba.values()]\n",
    "df_nodepos['prop'] = node_properties\n",
    "\n",
    "df_nodepos.to_csv('output/VRNetzer_ExamplesFiles/zachary_nodepositions.csv', header=None, index=0)"
   ]
  },
  {
   "cell_type": "code",
   "execution_count": 13,
   "id": "e7c1fff1",
   "metadata": {},
   "outputs": [],
   "source": [
    "# LINK TABLE\n",
    "\n",
    "df_links = pd.DataFrame()\n",
    "df_links['start'] = [i[0] for i in list(G.edges())]\n",
    "df_links['end'] = [i[1] for i in list(G.edges())]\n",
    "\n",
    "df_links['r'] = [80 for i in list(G.edges())]\n",
    "df_links['g'] = [80 for i in list(G.edges())]\n",
    "df_links['b'] = [80 for i in list(G.edges())]\n",
    "df_links['a'] = [80 for i in list(G.edges())]\n",
    "\n",
    "df_links.to_csv('output/VRNetzer_ExamplesFiles/zachary_links.csv', header=None, index=0)"
   ]
  },
  {
   "cell_type": "code",
   "execution_count": 16,
   "id": "5e7076dc",
   "metadata": {},
   "outputs": [],
   "source": [
    "# LABELS \n",
    "\n",
    "df_labels = pd.DataFrame(d_clusterlabels).T\n",
    "\n",
    "df_labels.to_csv('output/VRNetzer_ExamplesFiles/zachary_labels.csv', header=None)"
   ]
  },
  {
   "attachments": {},
   "cell_type": "markdown",
   "id": "ed84f8c1",
   "metadata": {},
   "source": [
    "#### EXPORT FOR VRNETZER 2.0"
   ]
  },
  {
   "cell_type": "code",
   "execution_count": 89,
   "id": "e9729b1e",
   "metadata": {},
   "outputs": [],
   "source": [
    "# NODE POSITIONS \n",
    "\n",
    "df_nodepos = pd.DataFrame()\n",
    "df_nodepos['x']=[i[0] for i in posG3D.values()]\n",
    "df_nodepos['y']=[i[1] for i in posG3D.values()]\n",
    "df_nodepos['z']=[i[2] for i in posG3D.values()]\n",
    "\n",
    "df_nodepos.to_csv('output/VRNetzer2_ExampleFiles/zachary_nodepositions.csv', header=None, index=0)"
   ]
  },
  {
   "cell_type": "code",
   "execution_count": 90,
   "id": "b104563c",
   "metadata": {},
   "outputs": [],
   "source": [
    "# NODE COLORS \n",
    "\n",
    "df_nodecol = pd.DataFrame()\n",
    "df_nodecol['r']=[i[0] for i in d_nodecolors_rgba.values()]\n",
    "df_nodecol['g']=[i[1] for i in d_nodecolors_rgba.values()]\n",
    "df_nodecol['b']=[i[2] for i in d_nodecolors_rgba.values()]\n",
    "df_nodecol['a']=[120 for i in d_nodecolors_rgba.values()]\n",
    "\n",
    "df_nodecol.to_csv('output/VRNetzer2_ExamplesFiles/zachary_nodecolors.csv', header=None, index=0)"
   ]
  },
  {
   "cell_type": "code",
   "execution_count": 91,
   "id": "b986f1ed",
   "metadata": {},
   "outputs": [],
   "source": [
    "# NODE PROPERTIES\n",
    "\n",
    "df_nodeprop = pd.DataFrame()\n",
    "df_nodeprop['prop'] = node_properties\n",
    "\n",
    "df_nodeprop.to_csv('output/VRNetzer2_ExamplesFiles/zachary_nodeproperties.csv', header=None, index=0)"
   ]
  },
  {
   "cell_type": "code",
   "execution_count": 92,
   "id": "4cd1e0e6",
   "metadata": {},
   "outputs": [],
   "source": [
    "# LINKS\n",
    "\n",
    "df_links = pd.DataFrame()\n",
    "df_links['start'] = [i[0] for i in list(G.edges())]\n",
    "df_links['end'] = [i[1] for i in list(G.edges())]\n",
    "\n",
    "df_links.to_csv('output/VRNetzer2_ExamplesFiles/zachary_links.csv', header=None, index=0)"
   ]
  },
  {
   "cell_type": "code",
   "execution_count": 93,
   "id": "09e8a918",
   "metadata": {},
   "outputs": [],
   "source": [
    "# LINK COLORS\n",
    "\n",
    "df_linkcol = pd.DataFrame()\n",
    "df_linkcol['r'] = [80 for i in list(G.edges())]\n",
    "df_linkcol['g'] = [80 for i in list(G.edges())]\n",
    "df_linkcol['b'] = [80 for i in list(G.edges())]\n",
    "df_linkcol['a'] = [80 for i in list(G.edges())]\n",
    "\n",
    "df_linkcol.to_csv('output/VRNetzer2_ExamplesFiles/zachary_linkcolors.csv', header=None, index=0)"
   ]
  },
  {
   "cell_type": "code",
   "execution_count": 94,
   "id": "70249dd2",
   "metadata": {},
   "outputs": [],
   "source": [
    "# CLUSTER LABELS\n",
    "\n",
    "df_labels = pd.DataFrame(d_clusterlabels).T\n",
    "\n",
    "df_labels.to_csv('output/VRNetzer2_ExamplesFiles/zachary_clusterlabels.csv', header=None)"
   ]
  },
  {
   "cell_type": "code",
   "execution_count": null,
   "id": "625ac757",
   "metadata": {},
   "outputs": [],
   "source": []
  }
 ],
 "metadata": {
  "kernelspec": {
   "display_name": "myenv",
   "language": "python",
   "name": "python3"
  },
  "language_info": {
   "codemirror_mode": {
    "name": "ipython",
    "version": 3
   },
   "file_extension": ".py",
   "mimetype": "text/x-python",
   "name": "python",
   "nbconvert_exporter": "python",
   "pygments_lexer": "ipython3",
   "version": "3.8.2"
  }
 },
 "nbformat": 4,
 "nbformat_minor": 5
}
