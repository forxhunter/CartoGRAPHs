{
 "cells": [
  {
   "attachments": {},
   "cell_type": "markdown",
   "id": "surgical-wrist",
   "metadata": {},
   "source": [
    "-----\n",
    "# cartoGRAPHs - FIGURE 2D\n",
    "-----"
   ]
  },
  {
   "cell_type": "code",
   "execution_count": 1,
   "id": "79f83e62",
   "metadata": {},
   "outputs": [
    {
     "name": "stderr",
     "output_type": "stream",
     "text": [
      "/Users/chris/Desktop/Github/cartoGRAPHs/.venv/lib/python3.9/site-packages/tqdm/auto.py:21: TqdmWarning: IProgress not found. Please update jupyter and ipywidgets. See https://ipywidgets.readthedocs.io/en/stable/user_install.html\n",
      "  from .autonotebook import tqdm as notebook_tqdm\n",
      "2023-10-20 19:40:38.627029: I tensorflow/core/platform/cpu_feature_guard.cc:182] This TensorFlow binary is optimized to use available CPU instructions in performance-critical operations.\n",
      "To enable the following instructions: AVX2 AVX512F AVX512_VNNI FMA, in other operations, rebuild TensorFlow with the appropriate compiler flags.\n"
     ]
    },
    {
     "name": "stdout",
     "output_type": "stream",
     "text": [
      "DEBUG: in init: import done\n"
     ]
    }
   ],
   "source": [
    "from cartoGRAPHs import *"
   ]
  },
  {
   "attachments": {},
   "cell_type": "markdown",
   "id": "synthetic-leadership",
   "metadata": {},
   "source": [
    "_____\n",
    "# HUMAN PPI NETWORK\n",
    "_____"
   ]
  },
  {
   "cell_type": "code",
   "execution_count": 2,
   "id": "optical-timeline",
   "metadata": {},
   "outputs": [],
   "source": [
    "organism = 'human'\n",
    "G = load_graph(organism)\n",
    "\n",
    "d_centralities = load_centralities(G, organism)\n",
    "df_centralities = pd.DataFrame(d_centralities).T\n",
    "df_centralities.columns = ['degree','closeness', 'betweeness', 'eigenvector']\n",
    "essential_genes,non_ess_genes,notdefined_genes = load_essentiality(G, organism)\n",
    "\n",
    "d_gene_sym = load_genesymbols(G, organism)\n",
    "l_features = list(d_gene_sym.values())\n",
    "\n",
    "# Human specific > to include Disease Ontology\n",
    "if organism == 'human':\n",
    "    d_gene_do = pickle.load( open( \"input/d_gene_do.pkl\", \"rb\" ) )\n",
    "    d_do_genes = pickle.load( open( \"input/d_do_genes.pkl\", \"rb\" ) )\n",
    "    d_do_names = pickle.load( open( \"input/DO_names.pkl\", \"rb\" ) )\n",
    "    d_names_do = {y:x for x,y in d_do_names.items()}\n",
    "else: \n",
    "    pass\n",
    "\n",
    "d_clos = {}\n",
    "for k,v in d_centralities.items():\n",
    "    d_clos[k] = v[1]"
   ]
  },
  {
   "cell_type": "code",
   "execution_count": 3,
   "id": "0c66847a",
   "metadata": {},
   "outputs": [],
   "source": [
    "G.name = \"Human Interactome\"\n",
    "G.graph[\"desc\"] = \"The human interactome is a complex, dynamic network of protein-protein interactions that are essential for many biological processes. It is estimated that the human interactome consists of hundreds of thousands of interactions between thousands of proteins. These interactions can take many forms, including direct physical binding, allosteric regulation, and post-translational modifications. Many proteins participate in multiple interactions, forming highly interconnected clusters or modules within the network. The human interactome is not static and can change in response to cellular and environmental cues. \""
   ]
  },
  {
   "attachments": {},
   "cell_type": "markdown",
   "id": "948e3014-cacc-46a3-8004-d6e201b0fe24",
   "metadata": {
    "tags": []
   },
   "source": [
    "____________\n",
    "## VISUAL SETTINGS + PLOT PREPARATION\n",
    "____________"
   ]
  },
  {
   "attachments": {},
   "cell_type": "markdown",
   "id": "3da64c17-cb46-4aa8-ae3c-66f69b52782f",
   "metadata": {},
   "source": [
    "### NODES GENERAL "
   ]
  },
  {
   "cell_type": "code",
   "execution_count": 4,
   "id": "113db87e-49e6-40f3-8b5e-df7fedd0050d",
   "metadata": {
    "tags": []
   },
   "outputs": [],
   "source": [
    "opacity_nodes = 0.8\n",
    "node_edge_col = '#696969' \n",
    "node_linewidth = 0.1\n",
    "\n",
    "scale_factor3D = 0.025\n",
    "size = list(draw_node_degree_3D(G, scale_factor3D).values())\n",
    "\n",
    "nodesglow_diameter = 8.0\n",
    "nodesglow_transparency = 0.01 # 0.01\n",
    "\n",
    "opacity_edges = 0.5\n",
    "width = 0.5\n",
    "edge_color = '#696969' "
   ]
  },
  {
   "attachments": {},
   "cell_type": "markdown",
   "id": "40748bd6-1e3f-47e1-89cf-b0aca9610f0c",
   "metadata": {},
   "source": [
    "### DATA SPECIFIC : PATIENT VARIANTS + SEEDS \n"
   ]
  },
  {
   "cell_type": "code",
   "execution_count": 6,
   "id": "947337ad",
   "metadata": {},
   "outputs": [
    {
     "name": "stdout",
     "output_type": "stream",
     "text": [
      "number of seeds:  246\n",
      "number of variants:  13\n"
     ]
    }
   ],
   "source": [
    "# Text identifier for file output name\n",
    "rad_param = 'r-varseeds'\n",
    "\n",
    "# Load Gene Information for Gene lists \n",
    "variants = pd.read_csv('input/IBD_variants_mod.txt')\n",
    "\n",
    "variant_list = [str(i) for i in list(variants['variants'])]\n",
    "variant_sym = pd.read_csv('input/IBD_variants_sym.txt')\n",
    "genes_sym_list = [str(i) for i in list(variant_sym['variant_sym'])]\n",
    "d_gene_sym_variants = dict(zip(variant_list,genes_sym_list))\n",
    "\n",
    "df_seeds = pd.read_csv('input/seeds_from_genelists.txt')\n",
    "df_seeds.columns = ['seeds']\n",
    "df_seeds_z = pd.read_csv('input/seeds_from_zNumbers.txt')#, sep='\\n')\n",
    "seeds_list_sym = [str(i) for i in list(df_seeds['seeds'])]\n",
    "seeds_list = []\n",
    "for s in seeds_list_sym:\n",
    "    for k,v in d_gene_sym.items():  \n",
    "        if s == v:\n",
    "            seeds_list.append(k)\n",
    "        else:\n",
    "            pass\n",
    "        \n",
    "print(\"number of seeds: \", len(seeds_list))\n",
    "print(\"number of variants: \", len(variant_list))"
   ]
  },
  {
   "cell_type": "code",
   "execution_count": 7,
   "id": "ac2ae386-c6bf-4b41-ac92-e51ce8ad1ab7",
   "metadata": {},
   "outputs": [
    {
     "name": "stdout",
     "output_type": "stream",
     "text": [
      "Number of genes on shell 1: 13\n",
      "Number of genes on shell 2: 246\n",
      "Number of genes on shell 3: 14380\n",
      "Number of Spherical Shells: 4\n"
     ]
    }
   ],
   "source": [
    "feature = 'bioproc'\n",
    "FM_BP = pd.read_pickle('input/Features_GO_BiolProc_Dataframe_human.pickle')\n",
    "FM_BP.index = [str(i) for i in FM_BP.index]\n",
    "bioproc_list = list(FM_BP.index)\n",
    "\n",
    "# From obtained Gene lists select those to be mapped onto different shells \n",
    "# select genes for shells \n",
    "shell_one = variant_list\n",
    "shell_two = seeds_list\n",
    "shell_three = [str(i) for i in bioproc_list]\n",
    "print('Number of genes on shell 1:', len(shell_one))\n",
    "print('Number of genes on shell 2:', len(shell_two))\n",
    "print('Number of genes on shell 3:', len(shell_three))\n",
    "\n",
    "small_rad = 1\n",
    "mid_rad = 5\n",
    "large_rad = 20\n",
    "outershell_rad = 25\n",
    "\n",
    "d_param = {}\n",
    "l_features_new = []\n",
    "for i in G.nodes():\n",
    "    if i in variant_list:\n",
    "        d_param[str(i)] = small_rad\n",
    "        l_features_new.append((\"variant: \" + str(i)))\n",
    "        \n",
    "    elif i in seeds_list:\n",
    "        d_param[str(i)] = mid_rad \n",
    "        l_features_new.append((\"seed gene: \" + str(i)))\n",
    "\n",
    "    elif i in bioproc_list:\n",
    "        d_param[str(i)] = large_rad \n",
    "        l_features_new.append((\"GO term: \" + str(i)))\n",
    "\n",
    "    else:\n",
    "        d_param[str(i)] = outershell_rad\n",
    "        l_features_new.append(i)\n",
    "\n",
    "#genes_rad = variant_list + seeds_list + bioproc_list\n",
    "\n",
    "# check how many shells of spheres there are :\n",
    "print('Number of Spherical Shells:', len(set(d_param.values())))\n",
    "\n",
    "# Specifying coloring based on genes on different shells \n",
    "d_nodecol = d_clos \n",
    "col_pal = 'Blues'\n",
    "d_colours = color_nodes_from_dict(G, d_nodecol, palette = col_pal)\n",
    "\n",
    "node_col_shell1 = '#8b0000' # red\n",
    "node_col_shell2 = '#FFF000' # yellow\n",
    "node_col_shellrest = '#d3d3d3' # grey\n",
    "\n",
    "d_colours_spec_genes = {}\n",
    "\n",
    "for k,v in d_colours.items():\n",
    "    if k in shell_one:\n",
    "        d_colours_spec_genes[k]=node_col_shell1\n",
    "    elif k in shell_two:\n",
    "        d_colours_spec_genes[k]=node_col_shell2\n",
    "    elif k in shell_three:\n",
    "        d_colours_spec_genes[k]=v\n",
    "    else: \n",
    "        d_colours_spec_genes[k]=node_col_shellrest\n",
    "\n",
    "d_colours_spec_genes_sort = {key:d_colours_spec_genes[key] for key in G.nodes()}\n",
    "colours = list(d_colours_spec_genes_sort.values())"
   ]
  },
  {
   "cell_type": "code",
   "execution_count": 8,
   "id": "06e0371a",
   "metadata": {},
   "outputs": [],
   "source": [
    "d_edge_col = color_edges_from_nodelist_specific(G, variant_list+seeds_list, node_col_shell1)"
   ]
  },
  {
   "attachments": {},
   "cell_type": "markdown",
   "id": "lasting-mainstream",
   "metadata": {},
   "source": [
    "---\n",
    "## GEODESIC MAP\n",
    "---"
   ]
  },
  {
   "cell_type": "code",
   "execution_count": 9,
   "id": "61b2f81f-8e23-4e66-b339-6ae6a920bca7",
   "metadata": {},
   "outputs": [
    {
     "name": "stderr",
     "output_type": "stream",
     "text": [
      "/Users/chris/Desktop/Github/cartoGRAPHs/.venv/lib/python3.9/site-packages/umap/umap_.py:1943: UserWarning: n_jobs value -1 overridden to 1 by setting random_state. Use no seed for parallelism.\n",
      "  warn(f\"n_jobs value {self.n_jobs} overridden to 1 by setting random_state. Use no seed for parallelism.\")\n",
      "/Users/chris/Desktop/Github/cartoGRAPHs/.venv/lib/python3.9/site-packages/numba/np/ufunc/parallel.py:371: NumbaWarning: The TBB threading layer requires TBB version 2021 update 6 or later i.e., TBB_INTERFACE_VERSION >= 12060. Found TBB_INTERFACE_VERSION = 12050. The TBB threading layer is disabled.\n",
      "  warnings.warn(problem)\n",
      "OMP: Info #271: omp_set_nested routine deprecated, please use omp_set_max_active_levels instead.\n"
     ]
    }
   ],
   "source": [
    "%%time \n",
    "\n",
    "n_neighbors = 20\n",
    "spread = 1.0\n",
    "min_dist = 0.0\n",
    "\n",
    "umap_sphere = embed_umap_sphere(FM_BP, n_neighbors, spread, min_dist)"
   ]
  },
  {
   "cell_type": "code",
   "execution_count": null,
   "id": "8f92c1f5-7169-4cf1-ba1f-0ef65a6127ac",
   "metadata": {},
   "outputs": [
    {
     "name": "stdout",
     "output_type": "stream",
     "text": [
      "CPU times: user 15.8 s, sys: 88.3 ms, total: 15.8 s\n",
      "Wall time: 15.9 s\n"
     ]
    }
   ],
   "source": [
    "%%time \n",
    "\n",
    "radius = 1 \n",
    "posG_complete_sphere_norm = get_posG_sphere_norm(G, FM_BP, \n",
    "                                                 umap_sphere, d_param, radius)"
   ]
  },
  {
   "attachments": {},
   "cell_type": "markdown",
   "id": "bf3832e1-6e08-44d5-ad4a-b1532c1bd781",
   "metadata": {},
   "source": [
    "---\n",
    "## PLOT \n",
    "---"
   ]
  },
  {
   "cell_type": "code",
   "execution_count": null,
   "id": "61b5b871-7017-4a7c-be4e-c23caba45e0c",
   "metadata": {},
   "outputs": [
    {
     "data": {
      "text/plain": [
       "'output/GeodesicMap_umap_bioproc_neigh-20_spr-1.0_mindist-0.0dark.html'"
      ]
     },
     "execution_count": 86,
     "metadata": {},
     "output_type": "execute_result"
    }
   ],
   "source": [
    "#scheme = 'light'\n",
    "scheme = 'dark'\n",
    "\n",
    "umap_nodes = get_trace_nodes_3D(posG_complete_sphere_norm, l_features_new, colours, \n",
    "                                2,\n",
    "                                opacity_nodes)\n",
    "umap_edges = get_trace_edges_3D(G, posG_complete_sphere_norm, edge_color, opac = 0.05, linewidth=0.5)\n",
    "\n",
    "#specific edges:\n",
    "#umap_edges_spec = get_trace_edges_specific3D(d_edge_col, posG_complete_sphere_norm, linew=width, opac=opacity_edges)\n",
    "\n",
    "umap_data = [#umap_edges,\n",
    "            #umap_edges_spec,\n",
    "            umap_nodes]\n",
    "\n",
    "data = umap_data\n",
    "fname = 'output/GeodesicMap_umap_'+feature+'_neigh-'+str(n_neighbors)+'_spr-'+str(spread)+'_mindist-'+str(min_dist)\n",
    "    \n",
    "plot_3D(data, fname, scheme)"
   ]
  },
  {
   "attachments": {},
   "cell_type": "markdown",
   "id": "ad8a5274",
   "metadata": {},
   "source": [
    "---\n",
    "## VRNETZER2 (multiplayer version) EXPORT\n",
    "---"
   ]
  },
  {
   "cell_type": "code",
   "execution_count": 11,
   "id": "93944214",
   "metadata": {},
   "outputs": [],
   "source": [
    "# annotations \n",
    "\n",
    "d_gene_donames = {}\n",
    "for node, doid in d_gene_do.items():\n",
    "    sub=[]\n",
    "    for do,name in d_do_names.items():\n",
    "        if str(do) in doid:\n",
    "            sub.append(name)\n",
    "        d_gene_donames[node] = sub\n",
    "\n",
    "d_allgene_donames = {}\n",
    "for g in G.nodes(): \n",
    "    if g in d_gene_donames.keys():\n",
    "        d_allgene_donames[g] = d_gene_donames[g]\n",
    "    else:\n",
    "        d_allgene_donames[g] = 'No Disease associated.'\n",
    "\n",
    "# node annotations\n",
    "l_annotations_csv = ['Gene: '+str(i)+'; ID:  '+str(j)+'; Diseases: '+str(k) for i,j,k in zip(d_gene_sym.values(), d_gene_sym.keys(),d_allgene_donames.values())]\n",
    "l_annotations_json = [list((\"Gene: \"+str(i),\"ID: \"+str(j),\"Diseases: \"+str(k))) for i,j,k in zip(d_gene_sym.values(), d_gene_sym.keys(), d_allgene_donames.values())]\n",
    "d_annotations_csv = dict(zip(list(G.nodes()),l_annotations_csv))\n",
    "d_annotations_json = dict(zip(list(G.nodes()),l_annotations_json))"
   ]
  },
  {
   "cell_type": "code",
   "execution_count": 12,
   "id": "d1934d68",
   "metadata": {},
   "outputs": [],
   "source": [
    "# link colors \n",
    "\n",
    "# only show links between disease assoc. proteins (i.e. z != 0) \n",
    "d_links_colors = {}\n",
    "for link in G.edges():\n",
    "    if link in d_edge_col.keys():\n",
    "        d_links_colors[link] = d_edge_col[link]\n",
    "    else:\n",
    "        d_links_colors[link] = (0,0,0,0)\n"
   ]
  },
  {
   "cell_type": "code",
   "execution_count": 13,
   "id": "478806e2",
   "metadata": {},
   "outputs": [],
   "source": [
    "# no clusters\n",
    "clusterlist = [\"\", 0]\n",
    "dict_for_cluster = {}"
   ]
  },
  {
   "cell_type": "code",
   "execution_count": 14,
   "id": "7ba37d50",
   "metadata": {},
   "outputs": [
    {
     "name": "stdout",
     "output_type": "stream",
     "text": [
      "Exported Files: \n",
      " ['VR/temp/2D-HumanInteractome-geodesic3D_nodepositions.csv', 'VR/temp/2D-HumanInteractome-geodesic3D_nodecolors.csv', 'VR/temp/2D-HumanInteractome-geodesic3D_nodeproperties.csv', 'VR/temp/2D-HumanInteractome-geodesic3D_links.csv', 'VR/temp/2D-HumanInteractome-geodesic3D_linkcolors.csv', 'VR/temp/2D-HumanInteractome-geodesic3D_clusterlabels.csv']\n",
      "Exported File: \n",
      " ['VR/temp/2D-HumanInteractome-geodesic3D.json']\n"
     ]
    }
   ],
   "source": [
    "# ---------------\n",
    "# 3D\n",
    "#----------------  \n",
    "filename = 'VR/temp/'+'2D-'+G.name+'-geodesic3D'\n",
    "exportVR_CSV(filename, G, posG_complete_sphere_norm, d_colours_spec_genes_sort, d_annotations_csv, d_links_colors, clusterlist)\n",
    "exportVR_JSON(filename, G, posG_complete_sphere_norm, dict_for_cluster, d_colours_spec_genes_sort, d_annotations_json, d_links_colors)\n"
   ]
  },
  {
   "cell_type": "code",
   "execution_count": null,
   "id": "5cde7e3e",
   "metadata": {},
   "outputs": [],
   "source": []
  },
  {
   "cell_type": "code",
   "execution_count": null,
   "id": "f180521a",
   "metadata": {},
   "outputs": [],
   "source": []
  },
  {
   "cell_type": "code",
   "execution_count": null,
   "id": "7fa52c98",
   "metadata": {},
   "outputs": [],
   "source": []
  },
  {
   "cell_type": "code",
   "execution_count": null,
   "id": "11d109f7",
   "metadata": {},
   "outputs": [],
   "source": []
  },
  {
   "cell_type": "code",
   "execution_count": null,
   "id": "99606a57",
   "metadata": {},
   "outputs": [],
   "source": []
  }
 ],
 "metadata": {
  "kernelspec": {
   "display_name": "myenv",
   "language": "python",
   "name": "python3"
  },
  "language_info": {
   "codemirror_mode": {
    "name": "ipython",
    "version": 3
   },
   "file_extension": ".py",
   "mimetype": "text/x-python",
   "name": "python",
   "nbconvert_exporter": "python",
   "pygments_lexer": "ipython3",
   "version": "3.9.10"
  }
 },
 "nbformat": 4,
 "nbformat_minor": 5
}
