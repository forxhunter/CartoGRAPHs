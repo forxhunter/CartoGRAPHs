{
 "cells": [
  {
   "cell_type": "code",
   "execution_count": null,
   "metadata": {},
   "outputs": [],
   "source": [
    "################################################\n",
    "#\n",
    "# H U M A N \n",
    "#\n",
    "################################################\n",
    "\n",
    "organism = 'Human'\n",
    "\n",
    "G = nx.read_edgelist('input/ppi_elist.txt',data=False)\n",
    "# d_ent_sym, d_sym_ent = genent2sym()\n",
    "\n",
    "d_gene_do = pickle.load( open( \"input/d_gene_do.pkl\", \"rb\" ) )\n",
    "d_do_genes = pickle.load( open( \"input/d_do_genes.pkl\", \"rb\" ) )\n",
    "d_do_names = pickle.load( open( \"input/DO_names.pkl\", \"rb\" ) )\n",
    "d_names_do = {y:x for x,y in d_do_names.items()}"
   ]
  },
  {
   "cell_type": "code",
   "execution_count": null,
   "metadata": {},
   "outputs": [],
   "source": [
    "entrez_syn = pd.read_csv('input/entrezid_syn.csv', index_col=0)\n",
    "d_entrez_syn = dict(zip(entrez_syn.index,entrez_syn['db_synonym']))\n",
    "\n",
    "d_gene2syn = {}\n",
    "for k,v in d_entrez_syn.items():\n",
    "    try:\n",
    "        if k in G.nodes():\n",
    "            d_gene2syn[k] = v\n",
    "    except: \n",
    "           d_gene2syn['None'] = 'no entry'\n",
    "            \n",
    "d_genes_withsyn = {}\n",
    "for g in G.nodes():\n",
    "    for k,v in d_gene2syn.items():\n",
    "        if g == k:\n",
    "            d_genes_withsyn[g] = v\n",
    "            \n",
    "d_genes_nosyn = {}\n",
    "for gene in G.nodes():\n",
    "    if gene not in d_genes_withsyn.keys():\n",
    "        d_genes_nosyn[gene] = 'no entry'\n",
    "        \n",
    "d_genes_all = {**d_genes_withsyn, **d_genes_nosyn}\n",
    "d_genes_syn_sorted = {key:d_genes_all[key] for key in G.nodes()}\n",
    "\n",
    "l_genes_syn=[]\n",
    "for k,v in d_genes_syn_sorted.items():\n",
    "    try:\n",
    "        l_genes_syn.append(set(v.split('|')))\n",
    "    except:\n",
    "        l_genes_syn.append(v)\n",
    "        \n",
    "d_genes_syn_complete = {}\n",
    "for i,v in enumerate(d_genes_syn_sorted.keys()):\n",
    "    for idx,l in enumerate(l_genes_syn):\n",
    "        if i==idx:\n",
    "            d_genes_syn_complete[v] = l\n",
    "            \n",
    "l_features = list(d_genes_syn_complete.values())"
   ]
  },
  {
   "cell_type": "markdown",
   "metadata": {},
   "source": [
    "### IBD Variants from Julia "
   ]
  },
  {
   "cell_type": "code",
   "execution_count": null,
   "metadata": {},
   "outputs": [],
   "source": [
    "IBD_genes = np.loadtxt(\"input/iei_hubness.txt\", usecols=(0, 1), skiprows=1, dtype=str)\n",
    "\n",
    "d_IBD_genes = {}\n",
    "for i in IBD_genes:\n",
    "    d_IBD_genes[i[0]] = i[1]\n",
    "    \n",
    "    \n",
    "d_degs = dict(G.degree())\n",
    "d_degs_sortbydegree = {k: v for k, v in sorted(d_degs.items(), key=lambda item: item[1], reverse=True)}\n",
    "\n",
    "# dict with gene to syn\n",
    "d_geneid_IBDsyn = {}\n",
    "for g in d_IBD_genes.keys():\n",
    "    for k,v in d_genes_syn_complete.items():\n",
    "        try:\n",
    "            for gene in v:\n",
    "                if g == gene:\n",
    "                    d_geneid_IBDsyn[k] = g\n",
    "        except:\n",
    "            pass\n",
    "    \n",
    "# dict with gene to syn\n",
    "d_IBDsyn_geneid = {}\n",
    "for g in d_IBD_genes.keys():\n",
    "    for k,v in d_genes_syn_complete.items():\n",
    "        try:\n",
    "            for gene in v:\n",
    "                if g == gene:\n",
    "                    d_IBDsyn_geneid[g] = k\n",
    "        except:\n",
    "            pass\n",
    "\n",
    "# DISEASE Association with IBD genes \n",
    "\n",
    "d_IBD_doids = {}\n",
    "for g,doids in d_gene_do.items():\n",
    "    for idx,syn in d_geneid_IBDsyn.items():\n",
    "        if g == idx: \n",
    "            d_IBD_doids[syn] = doids"
   ]
  },
  {
   "cell_type": "code",
   "execution_count": null,
   "metadata": {},
   "outputs": [],
   "source": []
  }
 ],
 "metadata": {
  "kernelspec": {
   "display_name": "Python 3",
   "language": "python",
   "name": "python3"
  },
  "language_info": {
   "codemirror_mode": {
    "name": "ipython",
    "version": 3
   },
   "file_extension": ".py",
   "mimetype": "text/x-python",
   "name": "python",
   "nbconvert_exporter": "python",
   "pygments_lexer": "ipython3",
   "version": "3.7.4"
  }
 },
 "nbformat": 4,
 "nbformat_minor": 4
}
