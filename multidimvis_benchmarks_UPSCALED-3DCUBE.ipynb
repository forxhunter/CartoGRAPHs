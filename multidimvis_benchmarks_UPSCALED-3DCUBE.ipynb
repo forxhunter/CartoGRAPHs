{
 "cells": [
  {
   "cell_type": "markdown",
   "metadata": {},
   "source": [
    "# ===========================\n",
    "# Benchmarking - U P S C A L I N G - 3D CUBE \n",
    "# ==========================="
   ]
  },
  {
   "cell_type": "code",
   "execution_count": 1,
   "metadata": {},
   "outputs": [],
   "source": [
    "from multidimvis_main import *"
   ]
  },
  {
   "cell_type": "code",
   "execution_count": 2,
   "metadata": {},
   "outputs": [],
   "source": [
    "# 3D CUBE \n",
    "organism = 'grid'\n",
    "\n",
    "feature = 'RWRvis'\n",
    "r = .9\n",
    "alpha = 1.0\n",
    "\n",
    "# parameters (post - testing)\n",
    "n_neighbors = 8\n",
    "spread = 1\n",
    "min_dist = 0.0\n",
    "metric = 'cosine'\n",
    "lnr = 1\n",
    "nep = None"
   ]
  },
  {
   "cell_type": "markdown",
   "metadata": {},
   "source": [
    "_________\n",
    "# 3D - Cube Grid\n",
    "_________"
   ]
  },
  {
   "cell_type": "code",
   "execution_count": 29,
   "metadata": {},
   "outputs": [
    {
     "name": "stdout",
     "output_type": "stream",
     "text": [
      "RWR\n",
      "Execution Time: 00:00:02\n",
      "prep layout distance\n",
      "prep network distance\n",
      "prep corr. coeff. data\n",
      "calculate corr. coeff.\n",
      "RWR corr coef:  0.991062872252361\n",
      "\n",
      "\n",
      "SPRING\n",
      "Execution Time: 00:00:02\n",
      "prep layout distance\n",
      "prep network distance\n",
      "prep corr. coeff. data\n",
      "calculate corr. coeff.\n",
      "SPRING corr coef:  0.9991576595977324\n"
     ]
    }
   ],
   "source": [
    "#########\n",
    "# 1 0 0 \n",
    "#########\n",
    "\n",
    "G = nx.grid_graph([5,5,5],periodic=False)\n",
    "\n",
    "print('RWR')\n",
    "start = time.time()\n",
    "posG_global = globallayout_3D(G,n_neighbors, spread, min_dist, metric)\n",
    "end = time.time()\n",
    "m,s = exec_time(start,end)\n",
    "\n",
    "r_global = pearson_corrcoef_3D(G, posG_global)\n",
    "print('RWR corr coef: ',r_global)\n",
    "\n",
    "print('\\n')\n",
    "print('SPRING')\n",
    "start = time.time()\n",
    "posG_spring = springlayout_3D(G,itr=2500)\n",
    "end = time.time()\n",
    "m,s = exec_time(start,end)\n",
    "\n",
    "r_spring = pearson_corrcoef_3D(G,posG_spring)\n",
    "print('SPRING corr coef: ',r_spring)"
   ]
  },
  {
   "cell_type": "code",
   "execution_count": 11,
   "metadata": {},
   "outputs": [
    {
     "name": "stdout",
     "output_type": "stream",
     "text": [
      "RWR\n",
      "Execution Time: 00:00:03\n",
      "prep layout distance\n",
      "prep network distance\n",
      "prep corr. coeff. data\n",
      "calculate corr. coeff.\n",
      "RWR corr coef:  0.9987073419798134\n",
      "\n",
      "\n",
      "SPRING\n",
      "Execution Time: 00:00:03\n",
      "prep layout distance\n",
      "prep network distance\n",
      "prep corr. coeff. data\n",
      "calculate corr. coeff.\n",
      "SPRING corr coef:  0.9946175389177597\n"
     ]
    }
   ],
   "source": [
    "#########\n",
    "# 5 0 0 \n",
    "#########\n",
    "\n",
    "G = nx.grid_graph([8,8,8],periodic=False)\n",
    "\n",
    "print('RWR')\n",
    "start = time.time()\n",
    "posG_global = globallayout_3D(G,n_neighbors, spread, min_dist, metric)\n",
    "end = time.time()\n",
    "m,s = exec_time(start,end)\n",
    "\n",
    "r_global = pearson_corrcoef_3D(G, posG_global)\n",
    "print('RWR corr coef: ',r_global)\n",
    "\n",
    "print('\\n')\n",
    "print('SPRING')\n",
    "start = time.time()\n",
    "posG_spring = springlayout_3D(G,itr=60)\n",
    "end = time.time()\n",
    "m,s = exec_time(start,end)\n",
    "\n",
    "r_spring = pearson_corrcoef_3D(G,posG_spring)\n",
    "print('SPRING corr coef: ',r_spring)"
   ]
  },
  {
   "cell_type": "code",
   "execution_count": 15,
   "metadata": {},
   "outputs": [
    {
     "name": "stdout",
     "output_type": "stream",
     "text": [
      "RWR\n",
      "Execution Time: 00:00:13\n",
      "prep layout distance\n",
      "prep network distance\n",
      "prep corr. coeff. data\n",
      "calculate corr. coeff.\n",
      "RWR corr coef:  0.9938767421225443\n",
      "\n",
      "\n",
      "SPRING\n",
      "Execution Time: 00:00:13\n",
      "prep layout distance\n",
      "prep network distance\n",
      "prep corr. coeff. data\n",
      "calculate corr. coeff.\n",
      "SPRING corr coef:  0.9864659797520252\n"
     ]
    }
   ],
   "source": [
    "#########\n",
    "# 1 0 0 0 \n",
    "#########\n",
    "\n",
    "G = nx.grid_graph([10,10,10],periodic=False)\n",
    "\n",
    "print('RWR')\n",
    "start = time.time()\n",
    "posG_global = globallayout_3D(G,n_neighbors, spread, min_dist, metric)\n",
    "end = time.time()\n",
    "m,s = exec_time(start,end)\n",
    "\n",
    "r_global = pearson_corrcoef_3D(G, posG_global)\n",
    "print('RWR corr coef: ',r_global)\n",
    "\n",
    "print('\\n')\n",
    "print('SPRING')\n",
    "start = time.time()\n",
    "posG_spring = springlayout_3D(G,itr=125)\n",
    "end = time.time()\n",
    "m,s = exec_time(start,end)\n",
    "\n",
    "r_spring = pearson_corrcoef_3D(G,posG_spring)\n",
    "print('SPRING corr coef: ',r_spring)"
   ]
  },
  {
   "cell_type": "code",
   "execution_count": 6,
   "metadata": {},
   "outputs": [
    {
     "name": "stdout",
     "output_type": "stream",
     "text": [
      "SPRING\n",
      "Execution Time: 00:00:13\n",
      "prep layout distance\n",
      "prep network distance\n",
      "prep corr. coeff. data\n",
      "calculate corr. coeff.\n",
      "SPRING corr coef:  0.9746359723599757\n"
     ]
    }
   ],
   "source": [
    "print('SPRING')\n",
    "start = time.time()\n",
    "posG_spring = springlayout_3D(G,itr=135)\n",
    "end = time.time()\n",
    "m,s = exec_time(start,end)\n",
    "\n",
    "r_spring = pearson_corrcoef_3D(G,posG_spring)\n",
    "print('SPRING corr coef: ',r_spring)"
   ]
  },
  {
   "cell_type": "code",
   "execution_count": 5,
   "metadata": {},
   "outputs": [
    {
     "name": "stdout",
     "output_type": "stream",
     "text": [
      "Runtime spring for Corr. Coeff. 0.99\n",
      "Execution Time: 00:00:44\n",
      "prep layout distance\n",
      "prep network distance\n",
      "prep corr. coeff. data\n",
      "calculate corr. coeff.\n",
      "SPRING corr coef:  0.9939791128279677\n"
     ]
    }
   ],
   "source": [
    "G = nx.grid_graph([10,10,10],periodic=False)\n",
    "\n",
    "print('Runtime spring for Corr. Coeff. 0.99')\n",
    "\n",
    "start = time.time()\n",
    "posG_spring = springlayout_2D(G,itr=400)\n",
    "end = time.time()\n",
    "m,s = exec_time(start,end)\n",
    "\n",
    "r_spring = pearson_corrcoef_2D(G,posG_spring)\n",
    "print('SPRING corr coef: ',r_spring)"
   ]
  },
  {
   "cell_type": "code",
   "execution_count": 16,
   "metadata": {},
   "outputs": [
    {
     "name": "stdout",
     "output_type": "stream",
     "text": [
      "RWR\n",
      "Execution Time: 00:00:57\n",
      "prep layout distance\n",
      "prep network distance\n",
      "prep corr. coeff. data\n",
      "calculate corr. coeff.\n",
      "RWR corr coef:  0.994673861934273\n",
      "\n",
      "\n",
      "SPRING\n",
      "Execution Time: 00:00:49\n",
      "prep layout distance\n",
      "prep network distance\n",
      "prep corr. coeff. data\n",
      "calculate corr. coeff.\n",
      "SPRING corr coef:  0.5204283449194765\n"
     ]
    }
   ],
   "source": [
    "#########\n",
    "# 5 0 0 0 \n",
    "#########\n",
    "\n",
    "G = nx.grid_graph([18,18,18],periodic=False)\n",
    "\n",
    "print('RWR')\n",
    "start = time.time()\n",
    "posG_global = globallayout_3D(G,n_neighbors, spread, min_dist, metric)\n",
    "end = time.time()\n",
    "m,s = exec_time(start,end)\n",
    "\n",
    "r_global = pearson_corrcoef_3D(G, posG_global)\n",
    "print('RWR corr coef: ',r_global)\n",
    "\n",
    "print('\\n')\n",
    "print('SPRING')\n",
    "start = time.time()\n",
    "posG_spring = springlayout_3D(G,itr=30)\n",
    "end = time.time()\n",
    "m,s = exec_time(start,end)\n",
    "\n",
    "r_spring = pearson_corrcoef_3D(G,posG_spring)\n",
    "print('SPRING corr coef: ',r_spring)"
   ]
  },
  {
   "cell_type": "code",
   "execution_count": null,
   "metadata": {},
   "outputs": [],
   "source": [
    "G = nx.grid_graph([18,18,18],periodic=False)\n",
    "\n",
    "print('Runtime spring for Corr. Coeff. 0.99')\n",
    "\n",
    "start = time.time()\n",
    "posG_spring = springlayout_2D(G,itr=500)\n",
    "end = time.time()\n",
    "m,s = exec_time(start,end)\n",
    "\n",
    "r_spring = pearson_corrcoef_2D(G,posG_spring)\n",
    "print('SPRING corr coef: ',r_spring)"
   ]
  },
  {
   "cell_type": "code",
   "execution_count": 24,
   "metadata": {},
   "outputs": [
    {
     "name": "stdout",
     "output_type": "stream",
     "text": [
      "RWR\n",
      "Execution Time: 00:04:30\n",
      "RWR corr coef:  0.9548654230455782\n"
     ]
    }
   ],
   "source": [
    "#########\n",
    "# 1 0 0 0 0 \n",
    "#########\n",
    "\n",
    "G = nx.grid_graph([22,22,22],periodic=False)\n",
    "\n",
    "print('RWR')\n",
    "start = time.time()\n",
    "posG_global = globallayout_3D(G,n_neighbors, spread, min_dist, metric)\n",
    "end = time.time()\n",
    "m,s = exec_time(start,end)\n",
    "\n",
    "r_global = pearson_corrcoef_3D(G, posG_global)\n",
    "print('RWR corr coef: ',r_global)"
   ]
  },
  {
   "cell_type": "code",
   "execution_count": 25,
   "metadata": {},
   "outputs": [
    {
     "name": "stdout",
     "output_type": "stream",
     "text": [
      "\n",
      "\n",
      "SPRING\n",
      "Execution Time: 00:04:19\n",
      "SPRING corr coef:  0.7510243876153517\n"
     ]
    }
   ],
   "source": [
    "print('\\n')\n",
    "print('SPRING')\n",
    "start = time.time()\n",
    "posG_spring = springlayout_3D(G,itr=20)\n",
    "end = time.time()\n",
    "m,s = exec_time(start,end)\n",
    "\n",
    "r_spring = pearson_corrcoef_3D(G,posG_spring)\n",
    "print('SPRING corr coef: ',r_spring)"
   ]
  },
  {
   "cell_type": "code",
   "execution_count": null,
   "metadata": {},
   "outputs": [],
   "source": [
    "G = nx.grid_graph([22,22,22],periodic=False)\n",
    "\n",
    "print('Runtime spring for Corr. Coeff. 0.95')\n",
    "\n",
    "start = time.time()\n",
    "posG_spring = springlayout_2D(G,itr=300)\n",
    "end = time.time()\n",
    "m,s = exec_time(start,end)\n",
    "\n",
    "r_spring = pearson_corrcoef_2D(G,posG_spring)\n",
    "print('SPRING corr coef: ',r_spring)"
   ]
  },
  {
   "cell_type": "code",
   "execution_count": 4,
   "metadata": {},
   "outputs": [
    {
     "name": "stdout",
     "output_type": "stream",
     "text": [
      "RWR\n",
      "Execution Time: 00:18:21\n",
      "prep layout distance\n",
      "prep network distance\n"
     ]
    },
    {
     "ename": "KeyboardInterrupt",
     "evalue": "",
     "output_type": "error",
     "traceback": [
      "\u001b[0;31m---------------------------------------------------------------------------\u001b[0m",
      "\u001b[0;31mKeyboardInterrupt\u001b[0m                         Traceback (most recent call last)",
      "\u001b[0;32m<ipython-input-4-0ec7e2d03867>\u001b[0m in \u001b[0;36m<module>\u001b[0;34m\u001b[0m\n\u001b[1;32m     11\u001b[0m \u001b[0mm\u001b[0m\u001b[0;34m,\u001b[0m\u001b[0ms\u001b[0m \u001b[0;34m=\u001b[0m \u001b[0mexec_time\u001b[0m\u001b[0;34m(\u001b[0m\u001b[0mstart\u001b[0m\u001b[0;34m,\u001b[0m\u001b[0mend\u001b[0m\u001b[0;34m)\u001b[0m\u001b[0;34m\u001b[0m\u001b[0;34m\u001b[0m\u001b[0m\n\u001b[1;32m     12\u001b[0m \u001b[0;34m\u001b[0m\u001b[0m\n\u001b[0;32m---> 13\u001b[0;31m \u001b[0mr_global\u001b[0m \u001b[0;34m=\u001b[0m \u001b[0mpearson_corrcoef_3D\u001b[0m\u001b[0;34m(\u001b[0m\u001b[0mG\u001b[0m\u001b[0;34m,\u001b[0m \u001b[0mposG_global\u001b[0m\u001b[0;34m)\u001b[0m\u001b[0;34m\u001b[0m\u001b[0;34m\u001b[0m\u001b[0m\n\u001b[0m\u001b[1;32m     14\u001b[0m \u001b[0mprint\u001b[0m\u001b[0;34m(\u001b[0m\u001b[0;34m'RWR corr coef: '\u001b[0m\u001b[0;34m,\u001b[0m\u001b[0mr_global\u001b[0m\u001b[0;34m)\u001b[0m\u001b[0;34m\u001b[0m\u001b[0;34m\u001b[0m\u001b[0m\n",
      "\u001b[0;32m~/Multidim_vis/multidimvis_main.py\u001b[0m in \u001b[0;36mpearson_corrcoef_3D\u001b[0;34m(G, posG)\u001b[0m\n\u001b[1;32m    410\u001b[0m \u001b[0;34m\u001b[0m\u001b[0m\n\u001b[1;32m    411\u001b[0m \u001b[0;34m\u001b[0m\u001b[0m\n\u001b[0;32m--> 412\u001b[0;31m \u001b[0;31m########################################################################################\u001b[0m\u001b[0;34m\u001b[0m\u001b[0;34m\u001b[0m\u001b[0;34m\u001b[0m\u001b[0m\n\u001b[0m\u001b[1;32m    413\u001b[0m \u001b[0;31m#\u001b[0m\u001b[0;34m\u001b[0m\u001b[0;34m\u001b[0m\u001b[0;34m\u001b[0m\u001b[0m\n\u001b[1;32m    414\u001b[0m \u001b[0;31m# C O L O R F U N C T I O N S\u001b[0m\u001b[0;34m\u001b[0m\u001b[0;34m\u001b[0m\u001b[0;34m\u001b[0m\u001b[0m\n",
      "\u001b[0;32m~/miniconda3/envs/myenv_clip2/lib/python3.6/site-packages/networkx/algorithms/shortest_paths/generic.py\u001b[0m in \u001b[0;36mshortest_path_length\u001b[0;34m(G, source, target, weight, method)\u001b[0m\n\u001b[1;32m    310\u001b[0m             \u001b[0;31m# Find shortest source-target path.\u001b[0m\u001b[0;34m\u001b[0m\u001b[0;34m\u001b[0m\u001b[0;34m\u001b[0m\u001b[0m\n\u001b[1;32m    311\u001b[0m             \u001b[0;32mif\u001b[0m \u001b[0mmethod\u001b[0m \u001b[0;34m==\u001b[0m \u001b[0;34m'unweighted'\u001b[0m\u001b[0;34m:\u001b[0m\u001b[0;34m\u001b[0m\u001b[0;34m\u001b[0m\u001b[0m\n\u001b[0;32m--> 312\u001b[0;31m                 \u001b[0mp\u001b[0m \u001b[0;34m=\u001b[0m \u001b[0mnx\u001b[0m\u001b[0;34m.\u001b[0m\u001b[0mbidirectional_shortest_path\u001b[0m\u001b[0;34m(\u001b[0m\u001b[0mG\u001b[0m\u001b[0;34m,\u001b[0m \u001b[0msource\u001b[0m\u001b[0;34m,\u001b[0m \u001b[0mtarget\u001b[0m\u001b[0;34m)\u001b[0m\u001b[0;34m\u001b[0m\u001b[0;34m\u001b[0m\u001b[0m\n\u001b[0m\u001b[1;32m    313\u001b[0m                 \u001b[0mpaths\u001b[0m \u001b[0;34m=\u001b[0m \u001b[0mlen\u001b[0m\u001b[0;34m(\u001b[0m\u001b[0mp\u001b[0m\u001b[0;34m)\u001b[0m \u001b[0;34m-\u001b[0m \u001b[0;36m1\u001b[0m\u001b[0;34m\u001b[0m\u001b[0;34m\u001b[0m\u001b[0m\n\u001b[1;32m    314\u001b[0m             \u001b[0;32melif\u001b[0m \u001b[0mmethod\u001b[0m \u001b[0;34m==\u001b[0m \u001b[0;34m'dijkstra'\u001b[0m\u001b[0;34m:\u001b[0m\u001b[0;34m\u001b[0m\u001b[0;34m\u001b[0m\u001b[0m\n",
      "\u001b[0;32m~/miniconda3/envs/myenv_clip2/lib/python3.6/site-packages/networkx/algorithms/shortest_paths/unweighted.py\u001b[0m in \u001b[0;36mbidirectional_shortest_path\u001b[0;34m(G, source, target)\u001b[0m\n\u001b[1;32m    224\u001b[0m \u001b[0;34m\u001b[0m\u001b[0m\n\u001b[1;32m    225\u001b[0m     \u001b[0;31m# call helper to do the real work\u001b[0m\u001b[0;34m\u001b[0m\u001b[0;34m\u001b[0m\u001b[0;34m\u001b[0m\u001b[0m\n\u001b[0;32m--> 226\u001b[0;31m     \u001b[0mresults\u001b[0m \u001b[0;34m=\u001b[0m \u001b[0m_bidirectional_pred_succ\u001b[0m\u001b[0;34m(\u001b[0m\u001b[0mG\u001b[0m\u001b[0;34m,\u001b[0m \u001b[0msource\u001b[0m\u001b[0;34m,\u001b[0m \u001b[0mtarget\u001b[0m\u001b[0;34m)\u001b[0m\u001b[0;34m\u001b[0m\u001b[0;34m\u001b[0m\u001b[0m\n\u001b[0m\u001b[1;32m    227\u001b[0m     \u001b[0mpred\u001b[0m\u001b[0;34m,\u001b[0m \u001b[0msucc\u001b[0m\u001b[0;34m,\u001b[0m \u001b[0mw\u001b[0m \u001b[0;34m=\u001b[0m \u001b[0mresults\u001b[0m\u001b[0;34m\u001b[0m\u001b[0;34m\u001b[0m\u001b[0m\n\u001b[1;32m    228\u001b[0m \u001b[0;34m\u001b[0m\u001b[0m\n",
      "\u001b[0;32m~/miniconda3/envs/myenv_clip2/lib/python3.6/site-packages/networkx/algorithms/shortest_paths/unweighted.py\u001b[0m in \u001b[0;36m_bidirectional_pred_succ\u001b[0;34m(G, source, target)\u001b[0m\n\u001b[1;32m    285\u001b[0m             \u001b[0mreverse_fringe\u001b[0m \u001b[0;34m=\u001b[0m \u001b[0;34m[\u001b[0m\u001b[0;34m]\u001b[0m\u001b[0;34m\u001b[0m\u001b[0;34m\u001b[0m\u001b[0m\n\u001b[1;32m    286\u001b[0m             \u001b[0;32mfor\u001b[0m \u001b[0mv\u001b[0m \u001b[0;32min\u001b[0m \u001b[0mthis_level\u001b[0m\u001b[0;34m:\u001b[0m\u001b[0;34m\u001b[0m\u001b[0;34m\u001b[0m\u001b[0m\n\u001b[0;32m--> 287\u001b[0;31m                 \u001b[0;32mfor\u001b[0m \u001b[0mw\u001b[0m \u001b[0;32min\u001b[0m \u001b[0mGpred\u001b[0m\u001b[0;34m[\u001b[0m\u001b[0mv\u001b[0m\u001b[0;34m]\u001b[0m\u001b[0;34m:\u001b[0m\u001b[0;34m\u001b[0m\u001b[0;34m\u001b[0m\u001b[0m\n\u001b[0m\u001b[1;32m    288\u001b[0m                     \u001b[0;32mif\u001b[0m \u001b[0mw\u001b[0m \u001b[0;32mnot\u001b[0m \u001b[0;32min\u001b[0m \u001b[0msucc\u001b[0m\u001b[0;34m:\u001b[0m\u001b[0;34m\u001b[0m\u001b[0;34m\u001b[0m\u001b[0m\n\u001b[1;32m    289\u001b[0m                         \u001b[0msucc\u001b[0m\u001b[0;34m[\u001b[0m\u001b[0mw\u001b[0m\u001b[0;34m]\u001b[0m \u001b[0;34m=\u001b[0m \u001b[0mv\u001b[0m\u001b[0;34m\u001b[0m\u001b[0;34m\u001b[0m\u001b[0m\n",
      "\u001b[0;32m~/miniconda3/envs/myenv_clip2/lib/python3.6/site-packages/networkx/classes/coreviews.py\u001b[0m in \u001b[0;36m__iter__\u001b[0;34m(self)\u001b[0m\n\u001b[1;32m     49\u001b[0m \u001b[0;34m\u001b[0m\u001b[0m\n\u001b[1;32m     50\u001b[0m     \u001b[0;32mdef\u001b[0m \u001b[0m__iter__\u001b[0m\u001b[0;34m(\u001b[0m\u001b[0mself\u001b[0m\u001b[0;34m)\u001b[0m\u001b[0;34m:\u001b[0m\u001b[0;34m\u001b[0m\u001b[0;34m\u001b[0m\u001b[0m\n\u001b[0;32m---> 51\u001b[0;31m         \u001b[0;32mreturn\u001b[0m \u001b[0miter\u001b[0m\u001b[0;34m(\u001b[0m\u001b[0mself\u001b[0m\u001b[0;34m.\u001b[0m\u001b[0m_atlas\u001b[0m\u001b[0;34m)\u001b[0m\u001b[0;34m\u001b[0m\u001b[0;34m\u001b[0m\u001b[0m\n\u001b[0m\u001b[1;32m     52\u001b[0m \u001b[0;34m\u001b[0m\u001b[0m\n\u001b[1;32m     53\u001b[0m     \u001b[0;32mdef\u001b[0m \u001b[0m__getitem__\u001b[0m\u001b[0;34m(\u001b[0m\u001b[0mself\u001b[0m\u001b[0;34m,\u001b[0m \u001b[0mkey\u001b[0m\u001b[0;34m)\u001b[0m\u001b[0;34m:\u001b[0m\u001b[0;34m\u001b[0m\u001b[0;34m\u001b[0m\u001b[0m\n",
      "\u001b[0;31mKeyboardInterrupt\u001b[0m: "
     ]
    }
   ],
   "source": [
    "#########\n",
    "# 2 0 0 0 0 \n",
    "#########\n",
    "\n",
    "G = nx.grid_graph([28,28,28],periodic=False)\n",
    "\n",
    "print('RWR')\n",
    "start = time.time()\n",
    "posG_global = globallayout_3D(G,n_neighbors, spread, min_dist, metric)\n",
    "end = time.time()\n",
    "m,s = exec_time(start,end)\n",
    "\n",
    "r_global = pearson_corrcoef_3D(G, posG_global)\n",
    "print('RWR corr coef: ',r_global)"
   ]
  },
  {
   "cell_type": "code",
   "execution_count": null,
   "metadata": {},
   "outputs": [],
   "source": [
    "G = nx.grid_graph([28,28,28],periodic=False)\n",
    "\n",
    "print('\\n')\n",
    "print('SPRING')\n",
    "start = time.time()\n",
    "posG_spring = springlayout_3D(G,itr=200)\n",
    "end = time.time()\n",
    "m,s = exec_time(start,end)\n",
    "\n",
    "r_spring = pearson_corrcoef_3D(G,posG_spring)\n",
    "print('SPRING corr coef: ',r_spring)"
   ]
  },
  {
   "cell_type": "markdown",
   "metadata": {},
   "source": [
    "## CORR COEF / NETSIZE - saved values for diagram\n",
    "+ for equal running time"
   ]
  },
  {
   "cell_type": "code",
   "execution_count": 67,
   "metadata": {},
   "outputs": [],
   "source": [
    "d_3Dcube_netsize_time = {(5,5,5):1,\n",
    "                           (8,8,8):3,\n",
    "                           (10,10,10):13,\n",
    "                           (18,18,18):57,\n",
    "                           (22,22,22):260,\n",
    "                           (28,28,28):1101 #947\n",
    "                          }\n",
    "\n",
    "# G L O B A L \n",
    "d_3Dcube_netsize_corr_global = {(5,5,5):0.991136860189808,\n",
    "                           (8,8,8):0.9987073419798134,\n",
    "                           (10,10,10):0.9938767421225443,\n",
    "                           (18,18,18):0.9956651448326571,\n",
    "                           (22,22,22):0.9585264524289082,\n",
    "                           (28,28,28):0.9864846154726756\n",
    "                           }\n",
    "\n",
    "# S P R I N G\n",
    "d_3Dcube_netsize_corr_spring = {(5 ,5,5):0.9956010674921448,\n",
    "                           (8,8,8):0.989225957521676,\n",
    "                           (10,10,10):0.9746359723599757,\n",
    "                           (18,18,18):0.8703989094585081,\n",
    "                           (22,22,22):0.7510243876153517,\n",
    "                           (28,28,28):\n",
    "                           }"
   ]
  },
  {
   "cell_type": "code",
   "execution_count": 91,
   "metadata": {},
   "outputs": [],
   "source": [
    "# Network size vs. Correlation Factor \n",
    "# with same running time\n",
    "\n",
    "labelsize = 16 \n",
    "\n",
    "x_cube = []\n",
    "for k in d_3Dcube_netsize_time.keys():\n",
    "    x_cube.append(k[0]**3)\n",
    "    \n",
    "x_spring = x_cube\n",
    "y_spring = list(d_3Dcube_netsize_corr_spring.values())\n",
    "x_layout = x_cube\n",
    "y_layout = list(d_3Dcube_netsize_corr_global.values())\n",
    "\n",
    "fig = plt.figure(figsize=(8,8), dpi=300)\n",
    "\n",
    "plt.xlabel(\"Network Size [# Nodes]\", fontsize=labelsize)\n",
    "plt.ylabel(\"Pearson Corr.Coeff.\", fontsize=labelsize)\n",
    "\n",
    "plt.plot(x_spring,y_spring, '-', c = 'cornflowerblue', alpha = 0.5, linewidth=0.5)\n",
    "plt.scatter(x_spring,y_spring, c = 'cornflowerblue', s = 20, alpha = 1.0)\n",
    "plt.plot(x_layout,y_layout, '-', c = 'orange', alpha = 0.5, linewidth=0.5)\n",
    "plt.scatter(x_layout,y_layout, c = 'orange', s = 20, alpha = 1.0)\n",
    "\n",
    "plt.grid(True, c='lightgrey', alpha=0.5)\n",
    "plt.suptitle('3D | Network Size vs. Corr. Factor | '+organism, fontsize=10)\n",
    "plt.ylim(ymin=0, ymax=1.0)\n",
    "\n",
    "fig.savefig('output_plots/benchmark/upscaled_3D_CorrNetsize_'+feature+'_'+organism+'.png')"
   ]
  },
  {
   "cell_type": "markdown",
   "metadata": {},
   "source": [
    "## TIME / NETSIZE - saved values for diagram\n",
    "+ for equal correlation coefficient"
   ]
  },
  {
   "cell_type": "code",
   "execution_count": null,
   "metadata": {},
   "outputs": [],
   "source": [
    "d_3Dcube_netsize_corr = {(5,5,5):0.99,\n",
    "                           (8,8,8):0.99,\n",
    "                           (10,10,10):0.99,\n",
    "                           (18,18,18):0.98,\n",
    "                           (22,22,22):0.95,\n",
    "                           (28,28,28):0.98\n",
    "                           }\n",
    "\n",
    "# G L O B A L \n",
    "d_3Dcube_netsize_time_global = d_3Dcube_netsize_time\n",
    "\n",
    "# S P R I N G \n",
    "d_3Dcube_netsize_time_spring = {(5,5,5):2,\n",
    "                           (8,8,8):3,\n",
    "                           (10,10,10):44,\n",
    "                           (18,18,18): ,\n",
    "                           (22,22,22): ,\n",
    "                           (28,28,28):\n",
    "                           }\n"
   ]
  },
  {
   "cell_type": "code",
   "execution_count": null,
   "metadata": {},
   "outputs": [],
   "source": [
    "# Network size vs. Time \n",
    "# with same Correlation Factor \n",
    "\n",
    "labelsize = 16 \n",
    "\n",
    "x_cube = []\n",
    "for k in d_3Dcube_netsize_corr.keys():\n",
    "    x_cube.append(k[0]**3)\n",
    "    \n",
    "x_spring = x_cube\n",
    "y_spring = list(d_3Dcube_netsize_time_spring.values())\n",
    "x_layout = x_cube\n",
    "y_layout = list(d_3Dcube_netsize_time_global.values())\n",
    "\n",
    "fig = plt.figure(figsize=(8,8), dpi=300)\n",
    "\n",
    "plt.xlabel(\"Network Size [# Nodes]\", fontsize=labelsize)\n",
    "plt.ylabel(\"Wall Time [s]\", fontsize=labelsize)\n",
    "\n",
    "plt.plot(x_spring,y_spring, '-', c = 'cornflowerblue', alpha = 0.5, linewidth=0.5)\n",
    "plt.scatter(x_spring,y_spring, c = 'cornflowerblue', s = 20, alpha = 1.0)\n",
    "plt.plot(x_layout,y_layout, '-', c = 'orange', alpha = 0.5, linewidth=0.5)\n",
    "plt.scatter(x_layout,y_layout, c = 'orange', s = 20, alpha = 1.0)\n",
    "\n",
    "plt.grid(True, c='lightgrey', alpha=0.5)\n",
    "plt.suptitle('3D | Network Size vs. Wall Time | '+organism, fontsize=10)\n",
    "plt.ylim(ymin=0, ymax=1.0)\n",
    "\n",
    "fig.savefig('output_plots/benchmark/upscaled_3D_TimeNetsize_'+feature+'_'+organism+'.png')"
   ]
  },
  {
   "cell_type": "code",
   "execution_count": null,
   "metadata": {},
   "outputs": [],
   "source": []
  },
  {
   "cell_type": "code",
   "execution_count": null,
   "metadata": {},
   "outputs": [],
   "source": []
  },
  {
   "cell_type": "code",
   "execution_count": null,
   "metadata": {},
   "outputs": [],
   "source": []
  }
 ],
 "metadata": {
  "kernelspec": {
   "display_name": "Python [conda env:miniconda3-myenv_clip2]",
   "language": "python",
   "name": "conda-env-miniconda3-myenv_clip2-py"
  },
  "language_info": {
   "codemirror_mode": {
    "name": "ipython",
    "version": 3
   },
   "file_extension": ".py",
   "mimetype": "text/x-python",
   "name": "python",
   "nbconvert_exporter": "python",
   "pygments_lexer": "ipython3",
   "version": "3.6.13"
  }
 },
 "nbformat": 4,
 "nbformat_minor": 4
}
