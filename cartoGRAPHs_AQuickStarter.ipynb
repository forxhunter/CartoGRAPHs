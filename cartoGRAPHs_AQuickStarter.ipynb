{
 "cells": [
  {
   "cell_type": "markdown",
   "id": "positive-supervision",
   "metadata": {},
   "source": [
    "-----\n",
    "# cartoGRAPHs | Quickstarter notebook\n",
    "\n",
    "A Notebook to produce 2D and 3D network layouts from any Graph,\n",
    "including interactive visualization (html files) and export functions \n",
    "to import into the VRNetzer analytics platform by Pirch et al.\n",
    "\n",
    "Please note: \n",
    "Layouts of Graphs with more than 5000 nodes can take a few minutes to run. \n",
    "-----"
   ]
  },
  {
   "cell_type": "code",
   "execution_count": 1,
   "id": "b8138ad1-376f-47a4-b422-cd55943b30d4",
   "metadata": {},
   "outputs": [],
   "source": [
    "from cartoGRAPHs import *"
   ]
  },
  {
   "cell_type": "markdown",
   "id": "living-russell",
   "metadata": {},
   "source": [
    "### DEFINE NETWORK"
   ]
  },
  {
   "cell_type": "code",
   "execution_count": 2,
   "id": "blocked-journalism",
   "metadata": {
    "tags": []
   },
   "outputs": [],
   "source": [
    "G = nx.scale_free_graph(n=1000)"
   ]
  },
  {
   "cell_type": "markdown",
   "id": "b1f07e30-41b7-4ad2-875a-c22a4f320720",
   "metadata": {},
   "source": [
    "### LAYOUT METHOD Example for 2D and 3D "
   ]
  },
  {
   "cell_type": "code",
   "execution_count": 3,
   "id": "f7dac009-f8cc-4705-8608-22eee785e233",
   "metadata": {},
   "outputs": [],
   "source": [
    "layout_method = 'global'\n",
    "\n",
    "posG2D = generate_layout(G, \n",
    "                        dim = 2, \n",
    "                        layoutmethod = layout_method,\n",
    "                        dimred_method='umap',\n",
    "                        )\n",
    "\n",
    "posG3D = generate_layout(G, \n",
    "                        dim = 3, \n",
    "                        layoutmethod = layout_method,\n",
    "                        dimred_method='umap'\n",
    "                        )"
   ]
  },
  {
   "cell_type": "markdown",
   "id": "scientific-template",
   "metadata": {
    "tags": []
   },
   "source": [
    "### INTERACTIVE VISUALIZATION + EXPORT TO VR"
   ]
  },
  {
   "cell_type": "markdown",
   "id": "4b1b5884-34f4-498d-8852-a13a7a1348a6",
   "metadata": {},
   "source": [
    "#### NETWORK PORTRAIT"
   ]
  },
  {
   "cell_type": "code",
   "execution_count": 4,
   "id": "4df461bd-874e-403b-9b79-d227439804d6",
   "metadata": {},
   "outputs": [],
   "source": [
    "plot_2Dfigure(G, posG2D, \n",
    "              d_features = None, \n",
    "              d_colors = None, \n",
    "              d_size = None, \n",
    "              d_legend = None, \n",
    "              path = '', \n",
    "              fname = 'Portrait_2D', \n",
    "              scheme = 'light',\n",
    "              #with_edges = False\n",
    "             )\n",
    "\n",
    "export_to_csv2D(path = '', \n",
    "                layout_namespace = 'Portrait_2D',\n",
    "                posG = posG2D,\n",
    "                colors = None\n",
    "                )"
   ]
  },
  {
   "cell_type": "code",
   "execution_count": 5,
   "id": "81114f28-9d9d-4157-9ead-6d252d42f956",
   "metadata": {},
   "outputs": [],
   "source": [
    "plot_3Dfigure(G, posG3D, \n",
    "              d_features = None, \n",
    "              d_colors = None, \n",
    "              d_size = None, \n",
    "              d_legend = None, \n",
    "              path = '', \n",
    "              fname = 'Portrait_3D', \n",
    "              scheme = 'light',\n",
    "              #with_edges = False\n",
    "             )\n",
    "\n",
    "export_to_csv3D(path = '', \n",
    "                layout_namespace = 'Portrait_3D', \n",
    "                posG = posG3D, \n",
    "                colors = None\n",
    "               )"
   ]
  },
  {
   "cell_type": "markdown",
   "id": "indie-vienna",
   "metadata": {
    "tags": []
   },
   "source": [
    "#### NETWORK TOPOGRAPHIC MAP"
   ]
  },
  {
   "cell_type": "code",
   "execution_count": 6,
   "id": "respective-plumbing",
   "metadata": {
    "tags": []
   },
   "outputs": [],
   "source": [
    "# d_z = a dictionary with keys=G.nodes and values=any int/float assigned to a node\n",
    "\n",
    "z_list = [np.random.random() for i in range(0, len(list(G.nodes())))]\n",
    "d_z = dict(zip(list(G.nodes()),z_list))\n",
    "posG_topographic = layout_topographic(posG2D, d_z)\n",
    "\n",
    "plot_3Dfigure(G, posG_topographic, \n",
    "              d_features = None, \n",
    "              d_colors = None, \n",
    "              d_size = None, \n",
    "              d_legend = None, \n",
    "              path = '', \n",
    "              fname = 'Topographic',\n",
    "              scheme = 'dark'\n",
    "             )\n",
    "\n",
    "export_to_csv3D(path = '', \n",
    "                layout_namespace = 'Topographic', \n",
    "                posG = posG3D, \n",
    "                colors = None\n",
    "               )"
   ]
  },
  {
   "cell_type": "markdown",
   "id": "advanced-subcommittee",
   "metadata": {},
   "source": [
    "#### NETWORK GEODESIC MAP"
   ]
  },
  {
   "cell_type": "code",
   "execution_count": 7,
   "id": "noted-thompson",
   "metadata": {},
   "outputs": [],
   "source": [
    "# d_rad = a dictionary with keys=G.nodes and values=any radius assigned to each node\n",
    "\n",
    "rad_list = [np.random.randint(1,4) for i in range(0, len(list(G.nodes())))]\n",
    "d_rad = dict(zip(list(G.nodes()), rad_list))\n",
    "posG_geodesic = layout_geodesic(G, d_rad)\n",
    "\n",
    "plot_3Dfigure(G, posG_geodesic, \n",
    "              d_features = None, \n",
    "              d_colors = None, \n",
    "              d_size = None, \n",
    "              d_legend = None,  \n",
    "              path = '', \n",
    "              fname = 'Geodesic', \n",
    "              scheme = 'dark'\n",
    "             )\n",
    "\n",
    "export_to_csv3D(path = '', \n",
    "                layout_namespace = 'Geodesic', \n",
    "                posG = posG3D, \n",
    "                colors = None\n",
    "               )"
   ]
  }
 ],
 "metadata": {
  "kernelspec": {
   "display_name": "myenv",
   "language": "python",
   "name": "myenv"
  },
  "language_info": {
   "codemirror_mode": {
    "name": "ipython",
    "version": 3
   },
   "file_extension": ".py",
   "mimetype": "text/x-python",
   "name": "python",
   "nbconvert_exporter": "python",
   "pygments_lexer": "ipython3",
   "version": "3.8.2"
  }
 },
 "nbformat": 4,
 "nbformat_minor": 5
}
