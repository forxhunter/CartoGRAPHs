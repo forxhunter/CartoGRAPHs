{
 "cells": [
  {
   "cell_type": "code",
   "execution_count": 2,
   "metadata": {},
   "outputs": [],
   "source": [
    "from multidimvis_main import *"
   ]
  },
  {
   "cell_type": "markdown",
   "metadata": {},
   "source": [
    "# MF"
   ]
  },
  {
   "cell_type": "code",
   "execution_count": 3,
   "metadata": {},
   "outputs": [],
   "source": [
    "df_MF = pd.read_csv('output_csv/Features_GO_MolFunc_Dataframe_Human.csv', index_col=0)\n",
    "\n",
    "MF_array = df_MF.to_numpy()"
   ]
  },
  {
   "cell_type": "code",
   "execution_count": null,
   "metadata": {},
   "outputs": [],
   "source": [
    "DM_MF = pd.DataFrame(distance.squareform(distance.pdist(MF_array, 'euclidean')))\n",
    "\n",
    "DM_MF.to_csv(r'output_csv/DistanceMatrix_goMF_Dataframe_Human.csv', index = True)"
   ]
  },
  {
   "cell_type": "markdown",
   "metadata": {},
   "source": [
    "# CC"
   ]
  },
  {
   "cell_type": "code",
   "execution_count": 6,
   "metadata": {},
   "outputs": [],
   "source": [
    "df_CC = pd.read_csv('output_csv/Features_GO_CellComp_Dataframe_Human.csv', index_col=0)\n",
    "\n",
    "CC_array = df_CC.to_numpy()"
   ]
  },
  {
   "cell_type": "code",
   "execution_count": null,
   "metadata": {},
   "outputs": [],
   "source": [
    "DM_CC = pd.DataFrame(distance.squareform(distance.pdist(CC_array, 'euclidean')))\n",
    "\n",
    "DM_CC.to_csv(r'output_csv/DistanceMatrix_goCC_Dataframe_Human.csv', index = True)"
   ]
  },
  {
   "cell_type": "code",
   "execution_count": 8,
   "metadata": {},
   "outputs": [],
   "source": [
    "DM_CC.to_csv(r'output_csv/DistanceMatrix_goCC_Dataframe_Human.csv', index = True)"
   ]
  },
  {
   "cell_type": "markdown",
   "metadata": {},
   "source": [
    "# BP"
   ]
  },
  {
   "cell_type": "code",
   "execution_count": 9,
   "metadata": {},
   "outputs": [],
   "source": [
    "df_BP = pd.read_csv('output_csv/Features_GO_BiolProc_Dataframe_Human.csv', index_col=0)\n",
    "\n",
    "BP_array = df_BP.to_numpy()"
   ]
  },
  {
   "cell_type": "code",
   "execution_count": null,
   "metadata": {},
   "outputs": [],
   "source": [
    "DM_BP = pd.DataFrame(distance.squareform(distance.pdist(BP_array, 'euclidean')))\n",
    "\n",
    "DM_BP.to_csv(r'output_csv/DistanceMatrix_goBP_Dataframe_Human.csv', index = True)"
   ]
  },
  {
   "cell_type": "markdown",
   "metadata": {},
   "source": [
    "# DISEASE"
   ]
  },
  {
   "cell_type": "code",
   "execution_count": null,
   "metadata": {},
   "outputs": [],
   "source": [
    "df_DIS = pd.read_csv('output_csv/Features_Disease_Dataframe_'+organism+'.csv', index_col=0)\n",
    "\n",
    "DIS_array = df_DIS.to_numpy()"
   ]
  },
  {
   "cell_type": "code",
   "execution_count": null,
   "metadata": {},
   "outputs": [],
   "source": [
    "DM_disease = pd.DataFrame(distance.squareform(distance.pdist(DIS_array, 'euclidean')))\n",
    "\n",
    "DM_disease.to_csv(r'output_csv/DistanceMatrix_Disease_Dataframe_Human.csv', index = True)"
   ]
  }
 ],
 "metadata": {
  "kernelspec": {
   "display_name": "Python 3",
   "language": "python",
   "name": "python3"
  },
  "language_info": {
   "codemirror_mode": {
    "name": "ipython",
    "version": 3
   },
   "file_extension": ".py",
   "mimetype": "text/x-python",
   "name": "python",
   "nbconvert_exporter": "python",
   "pygments_lexer": "ipython3",
   "version": "3.7.4"
  }
 },
 "nbformat": 4,
 "nbformat_minor": 4
}
