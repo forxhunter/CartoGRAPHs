{
 "cells": [
  {
   "cell_type": "code",
   "execution_count": 1,
   "metadata": {},
   "outputs": [],
   "source": [
    "import MySQLdb\n",
    "import pandas as pd\n",
    "import pickle\n",
    "\n",
    "import time"
   ]
  },
  {
   "cell_type": "code",
   "execution_count": 2,
   "metadata": {},
   "outputs": [
    {
     "data": {
      "text/html": [
       "<div>\n",
       "<style scoped>\n",
       "    .dataframe tbody tr th:only-of-type {\n",
       "        vertical-align: middle;\n",
       "    }\n",
       "\n",
       "    .dataframe tbody tr th {\n",
       "        vertical-align: top;\n",
       "    }\n",
       "\n",
       "    .dataframe thead th {\n",
       "        text-align: right;\n",
       "    }\n",
       "</style>\n",
       "<table border=\"1\" class=\"dataframe\">\n",
       "  <thead>\n",
       "    <tr style=\"text-align: right;\">\n",
       "      <th></th>\n",
       "      <th>entrezID</th>\n",
       "      <th>go_branch</th>\n",
       "      <th>go_term</th>\n",
       "    </tr>\n",
       "  </thead>\n",
       "  <tbody>\n",
       "    <tr>\n",
       "      <th>0</th>\n",
       "      <td>114787</td>\n",
       "      <td>Component</td>\n",
       "      <td>GO:0016020</td>\n",
       "    </tr>\n",
       "    <tr>\n",
       "      <th>1</th>\n",
       "      <td>114787</td>\n",
       "      <td>Component</td>\n",
       "      <td>GO:0044464</td>\n",
       "    </tr>\n",
       "    <tr>\n",
       "      <th>2</th>\n",
       "      <td>114787</td>\n",
       "      <td>Component</td>\n",
       "      <td>GO:0005623</td>\n",
       "    </tr>\n",
       "    <tr>\n",
       "      <th>3</th>\n",
       "      <td>114787</td>\n",
       "      <td>Component</td>\n",
       "      <td>GO:0005575</td>\n",
       "    </tr>\n",
       "    <tr>\n",
       "      <th>4</th>\n",
       "      <td>114787</td>\n",
       "      <td>Component</td>\n",
       "      <td>GO:0071944</td>\n",
       "    </tr>\n",
       "  </tbody>\n",
       "</table>\n",
       "</div>"
      ],
      "text/plain": [
       "  entrezID  go_branch     go_term\n",
       "0   114787  Component  GO:0016020\n",
       "1   114787  Component  GO:0044464\n",
       "2   114787  Component  GO:0005623\n",
       "3   114787  Component  GO:0005575\n",
       "4   114787  Component  GO:0071944"
      ]
     },
     "execution_count": 2,
     "metadata": {},
     "output_type": "execute_result"
    }
   ],
   "source": [
    "#db = MySQLdb.connect(\"menchelabdb.int.cemm.at\",\"readonly\",\"ra4Roh7ohdee\",\"GenesGO\")\n",
    "db = MySQLdb.connect(\"asimov.westeurope.cloudapp.azure.com\",\"readonly\",\"ra4Roh7ohdee\",\"GenesGO\")\n",
    "\n",
    "# prepare a cursor object using cursor() method\n",
    "cursor = db.cursor()\n",
    "\n",
    "sql = \"\"\"\n",
    "    SELECT\n",
    "    entrezID, go_branch, go_term\n",
    "    FROM\n",
    "    GeneUpstreamGO\n",
    "    \"\"\"\n",
    "try:\n",
    "    # execute SQL query\n",
    "    cursor.execute(sql)\n",
    "    data = cursor.fetchall()\n",
    "\n",
    "except:\n",
    "    print('SQL error')\n",
    "\n",
    "db.close()\n",
    "\n",
    "df = pd.DataFrame(list(data), columns=['entrezID', 'go_branch', 'go_term'])\n",
    "df.head()"
   ]
  },
  {
   "cell_type": "code",
   "execution_count": 3,
   "metadata": {},
   "outputs": [
    {
     "data": {
      "text/plain": [
       "754.8313217163086"
      ]
     },
     "execution_count": 3,
     "metadata": {},
     "output_type": "execute_result"
    }
   ],
   "source": [
    "t0 = time.time()\n",
    "\n",
    "fn_entID2go = \"d_go2ent_incUpstream_bioprocesses_s20200707.pkl\"\n",
    "\n",
    "currBranch = df[df['go_branch'] == 'Process']\n",
    "\n",
    "go2ent2050_dict = {}\n",
    "for eaGo in set(currBranch['go_term']):\n",
    "    numGenes = len(currBranch[currBranch['go_term'] == eaGo])\n",
    "    if (numGenes < 50) & (numGenes > 20):\n",
    "        go2ent2050_dict[eaGo] = set(currBranch[currBranch['go_term']==eaGo]['entrezID'])\n",
    "\n",
    "with open(fn_entID2go, 'wb') as handle:\n",
    "    pickle.dump(go2ent2050_dict, handle, protocol=pickle.HIGHEST_PROTOCOL)\n",
    "    \n",
    "time.time() - t0"
   ]
  },
  {
   "cell_type": "code",
   "execution_count": 4,
   "metadata": {},
   "outputs": [
    {
     "data": {
      "text/plain": [
       "35.69272184371948"
      ]
     },
     "execution_count": 4,
     "metadata": {},
     "output_type": "execute_result"
    }
   ],
   "source": [
    "t0 = time.time()\n",
    "\n",
    "fn_entID2go = \"d_go2ent_incUpstream_molfunc_s20200707.pkl\"\n",
    "\n",
    "currBranch = df[df['go_branch'] == 'Function']\n",
    "\n",
    "go2ent2050_dict = {}\n",
    "for eaGo in set(currBranch['go_term']):\n",
    "    numGenes = len(currBranch[currBranch['go_term'] == eaGo])\n",
    "    if (numGenes < 50) & (numGenes > 20):\n",
    "        go2ent2050_dict[eaGo] = set(currBranch[currBranch['go_term']==eaGo]['entrezID'])\n",
    "\n",
    "with open(fn_entID2go, 'wb') as handle:\n",
    "    pickle.dump(go2ent2050_dict, handle, protocol=pickle.HIGHEST_PROTOCOL)\n",
    "    \n",
    "time.time() - t0"
   ]
  },
  {
   "cell_type": "code",
   "execution_count": 5,
   "metadata": {},
   "outputs": [
    {
     "data": {
      "text/plain": [
       "66.33374667167664"
      ]
     },
     "execution_count": 5,
     "metadata": {},
     "output_type": "execute_result"
    }
   ],
   "source": [
    "fn_entID2go = \"d_go2ent_incUpstream_cellcomp_s20200707.pkl\"\n",
    "\n",
    "currBranch = df[df['go_branch'] == 'Component']\n",
    "\n",
    "go2ent2050_dict = {}\n",
    "for eaGo in set(currBranch['go_term']):\n",
    "    numGenes = len(currBranch[currBranch['go_term'] == eaGo])\n",
    "    if (numGenes < 50) & (numGenes > 20):\n",
    "        go2ent2050_dict[eaGo] = set(currBranch[currBranch['go_term']==eaGo]['entrezID'])\n",
    "\n",
    "with open(fn_entID2go, 'wb') as handle:\n",
    "    pickle.dump(go2ent2050_dict, handle, protocol=pickle.HIGHEST_PROTOCOL)\n",
    "    \n",
    "time.time() - t0"
   ]
  }
 ],
 "metadata": {
  "kernelspec": {
   "display_name": "Python 3",
   "language": "python",
   "name": "python3"
  },
  "language_info": {
   "codemirror_mode": {
    "name": "ipython",
    "version": 3
   },
   "file_extension": ".py",
   "mimetype": "text/x-python",
   "name": "python",
   "nbconvert_exporter": "python",
   "pygments_lexer": "ipython3",
   "version": "3.7.3"
  }
 },
 "nbformat": 4,
 "nbformat_minor": 2
}
