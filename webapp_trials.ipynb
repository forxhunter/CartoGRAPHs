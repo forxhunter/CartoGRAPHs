{
 "cells": [
  {
   "cell_type": "code",
   "execution_count": null,
   "id": "executive-liberty",
   "metadata": {},
   "outputs": [],
   "source": [
    "# Some trials for the Webapp"
   ]
  },
  {
   "cell_type": "code",
   "execution_count": null,
   "id": "heavy-mechanics",
   "metadata": {},
   "outputs": [],
   "source": [
    "\n",
    "def parse_contents(contents, filename):\n",
    "    content_type, content_string = contents.split(',')\n",
    "    decoded = base64.b64decode(content_string)\n",
    "    try:\n",
    "        if 'csv' in filename:\n",
    "            # Assume that the user uploaded a CSV file\n",
    "            #df = pd.read_csv(io.StringIO(decoded.decode('utf-8')))\n",
    "            G = nx.read_edgelist(io.StringIO(decoded.decode('utf-8')))\n",
    "        #elif 'xls' in filename:\n",
    "            # Assume that the user uploaded an excel file\n",
    "            #df = pd.read_excel(io.BytesIO(decoded))\n",
    "    except Exception as e:\n",
    "        print(e)\n",
    "        return html.Div([\n",
    "            'There was an error processing this file.'\n",
    "        ])\n",
    "    return G"
   ]
  },
  {
   "cell_type": "code",
   "execution_count": null,
   "id": "developed-boost",
   "metadata": {},
   "outputs": [],
   "source": []
  },
  {
   "cell_type": "code",
   "execution_count": null,
   "id": "covered-victim",
   "metadata": {},
   "outputs": [],
   "source": []
  },
  {
   "cell_type": "code",
   "execution_count": null,
   "id": "lesser-taiwan",
   "metadata": {},
   "outputs": [],
   "source": [
    "import csv\n",
    "import networkx as nx\n",
    "Data  = open('input/GPPI_sub_50.txt', \"r\", encoding='utf8')\n",
    "read = csv.reader(Data)\n",
    "Graphtype=nx.Graph()a"
   ]
  },
  {
   "cell_type": "code",
   "execution_count": null,
   "id": "naval-decimal",
   "metadata": {},
   "outputs": [],
   "source": [
    "with open('input/GPPI_sub_50.txt') as f:\n",
    "    contents = f.readlines()\n",
    "    G=nx.read_edgelist(contents)\n",
    "    f.close()"
   ]
  },
  {
   "cell_type": "code",
   "execution_count": null,
   "id": "motivated-capacity",
   "metadata": {},
   "outputs": [],
   "source": []
  },
  {
   "cell_type": "code",
   "execution_count": null,
   "id": "unlike-helicopter",
   "metadata": {},
   "outputs": [],
   "source": []
  }
 ],
 "metadata": {
  "kernelspec": {
   "display_name": "Python 3",
   "language": "python",
   "name": "python3"
  },
  "language_info": {
   "codemirror_mode": {
    "name": "ipython",
    "version": 3
   },
   "file_extension": ".py",
   "mimetype": "text/x-python",
   "name": "python",
   "nbconvert_exporter": "python",
   "pygments_lexer": "ipython3",
   "version": "3.8.2"
  }
 },
 "nbformat": 4,
 "nbformat_minor": 5
}
