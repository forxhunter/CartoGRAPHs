{
 "cells": [
  {
   "cell_type": "markdown",
   "id": "corresponding-alert",
   "metadata": {},
   "source": [
    "-----\n",
    "# cartoGRAPHs - Extended Data Figure 3B\n",
    "-----"
   ]
  },
  {
   "cell_type": "code",
   "execution_count": 2,
   "id": "hairy-provision",
   "metadata": {},
   "outputs": [],
   "source": [
    "from cartoGRAPHs import * "
   ]
  },
  {
   "cell_type": "markdown",
   "id": "surface-functionality",
   "metadata": {},
   "source": [
    "_____\n",
    "# HUMAN NETWORK\n",
    "_____"
   ]
  },
  {
   "cell_type": "code",
   "execution_count": 2,
   "id": "mineral-pharmacy",
   "metadata": {},
   "outputs": [],
   "source": [
    "organism = 'human'\n",
    "\n",
    "G = load_graph(organism) \n",
    "\n",
    "d_gene_sym = load_genesymbols(G, organism)\n",
    "l_features = list(d_gene_sym.values())\n",
    "\n",
    "d_gene_do = pickle.load( open( \"input/d_gene_do.pkl\", \"rb\" ) )\n",
    "d_do_genes = pickle.load( open( \"input/d_do_genes.pkl\", \"rb\" ) )\n",
    "d_do_names = pickle.load( open( \"input/DO_names.pkl\", \"rb\" ) )\n",
    "d_names_do = {y:x for x,y in d_do_names.items()}\n",
    "\n",
    "d_centralities = load_centralities(G, organism)\n",
    "df_centralities = pd.DataFrame(d_centralities).T\n",
    "df_centralities.columns = ['degree','closeness', 'betweeness', 'eigenvector']\n",
    "essential_genes,non_ess_genes,notdefined_genes = load_essentiality(G, organism)\n",
    "\n",
    "# get Disease Feature Matrix\n",
    "FM_disease = pd.read_csv('input/Features_Disease_Dataframe_'+organism+'.csv', index_col=0)"
   ]
  },
  {
   "cell_type": "markdown",
   "id": "715f9b4e-782e-4856-90eb-85c242355ede",
   "metadata": {
    "tags": []
   },
   "source": [
    "--- \n",
    "## VECTOR : NF1 GENE + DISEASE MODULE (8712 - neurofibromatosis)\n",
    "--- \n",
    "e.g.\n",
    "+ DOID:8712 / Neurofibromatosis\n",
    "+ DOID:962 / Neurofibroma\n",
    "+ DOID:0050736 / Autosomal Dominant Disease"
   ]
  },
  {
   "cell_type": "code",
   "execution_count": 10,
   "id": "a9dcc938-c988-4a76-aea6-b9265dd3f844",
   "metadata": {},
   "outputs": [
    {
     "name": "stdout",
     "output_type": "stream",
     "text": [
      "Number of Genes associated to DOID 8712 : 12\n",
      "Number of NF1 neighbor genes 8712 : 49\n"
     ]
    }
   ],
   "source": [
    "path_nf = 'input/neurofibromatosis/'\n",
    "\n",
    "# gene of interest\n",
    "nf_goi_ = str(int(np.loadtxt(path_nf+'nf_gene_of_interest.txt', unpack=False)))\n",
    "nf_goi = list(nf_goi_.split(\" \"))\n",
    "nf_goi_str = ' '.join([str(item) for item in nf_goi])\n",
    "\n",
    "nf_neighbors = []\n",
    "for edge in G.edges():\n",
    "    if edge[0] == nf_goi_str:\n",
    "        nf_neighbors.append(edge[1])\n",
    "    elif edge[1] == nf_goi_str: \n",
    "        nf_neighbors.append(edge[0])\n",
    "\n",
    "nf_all = nf_neighbors + nf_goi\n",
    "\n",
    "# get disease module genes \n",
    "num_doid = '8712' \n",
    "\n",
    "# define specific DOID \n",
    "dismod = FM_disease.loc[:,'DOID:'+num_doid]\n",
    "dismod.index = FM_disease.index\n",
    "dismod_id = 'DOID'+num_doid\n",
    "\n",
    "dismod_genes = [] \n",
    "for i,v in enumerate(dismod.values):\n",
    "    if v == 1:\n",
    "        dismod_genes.append(dismod.index[i])\n",
    "    else:\n",
    "        pass\n",
    "\n",
    "l_genes_nf = [str(i) for i in dismod_genes]\n",
    "print('Number of Genes associated to DOID', num_doid,':',len(l_genes_nf))\n",
    "l_genes_neighbors = [str(i) for i in nf_neighbors]\n",
    "print('Number of NF1 neighbor genes', num_doid,':',len(l_genes_neighbors))"
   ]
  },
  {
   "cell_type": "markdown",
   "id": "72acaa56-fdea-4bf5-ab71-300ea7ca23e9",
   "metadata": {},
   "source": [
    "---\n",
    "## VECTORS : Disease Context \n",
    "---\n",
    "+ DOID:3165 - Skin benign neoplasm\n",
    "+ DOID:10534 - Stomach Cancer\n",
    "+ DOID:3620 - Central Nervous System Cancer\n",
    "+ DOID:0060089 - Endocrine organ benign neoplasm\n",
    "+ resources: https://disease-ontology.org/ https://en.wikipedia.org/wiki/Neurofibromatosis"
   ]
  },
  {
   "cell_type": "markdown",
   "id": "7aadcddd-9351-4018-b8aa-595f69be9f4c",
   "metadata": {
    "tags": []
   },
   "source": [
    "### First Disease Vector | DOID:3165 - Skin benign neoplasm"
   ]
  },
  {
   "cell_type": "code",
   "execution_count": 11,
   "id": "2bfdde69-1e42-4e21-9605-8e9f64a3367a",
   "metadata": {},
   "outputs": [
    {
     "name": "stdout",
     "output_type": "stream",
     "text": [
      "Number of Genes associated to DOID 3165 : 163\n",
      "Number of Genes associated to DOID with overlap of NF neighbors 3165 : 165\n"
     ]
    }
   ],
   "source": [
    "# -----------------------------\n",
    "num_doid_1 = '3165'\n",
    "# -----------------------------\n",
    "\n",
    "# define specific DOID \n",
    "dismod_1 = FM_disease.loc[:,'DOID:'+num_doid_1]\n",
    "dismod_1.index = FM_disease.index\n",
    "\n",
    "# get all genes associated to disease\n",
    "dismod_genes_1 = [] \n",
    "for i,v in enumerate(dismod_1.values):\n",
    "    if v == 1:\n",
    "        dismod_genes_1.append(dismod_1.index[i])\n",
    "    else:\n",
    "        pass\n",
    "\n",
    "l_genes_dismod_1 = [str(i) for i in dismod_genes_1]\n",
    "l_genes_nfdismod_overlap_1 = []\n",
    "for i in nf_neighbors:\n",
    "    if i in l_genes_dismod_1:\n",
    "        l_genes_nfdismod_overlap_1.append(i)\n",
    "l_genes_dismod_1_all = l_genes_dismod_1 + l_genes_nfdismod_overlap_1\n",
    "print('Number of Genes associated to DOID', num_doid_1,':',len(l_genes_dismod_1))\n",
    "print('Number of Genes associated to DOID with overlap of NF neighbors', num_doid_1,':',len(l_genes_dismod_1_all))"
   ]
  },
  {
   "cell_type": "markdown",
   "id": "9609af06-01a1-4943-a46e-bc789d99ec9c",
   "metadata": {},
   "source": [
    "### Second Disease Vector | DOID:10534 - Stomach Cancer"
   ]
  },
  {
   "cell_type": "code",
   "execution_count": 12,
   "id": "fbb543c0-c237-42f5-bdcd-0c66d9190f8e",
   "metadata": {},
   "outputs": [
    {
     "name": "stdout",
     "output_type": "stream",
     "text": [
      "Number of Genes associated to DOID 10534 : 303\n",
      "Number of Genes associated to DOID with overlap of NF neighbors 10534 : 307\n"
     ]
    }
   ],
   "source": [
    "# -----------------------------\n",
    "num_doid_2 = '10534' #'3883' #'1612' #'3490'\n",
    "# -----------------------------\n",
    "\n",
    "# define specific DOID \n",
    "dismod_2 = FM_disease.loc[:,'DOID:'+num_doid_2]\n",
    "dismod_2.index = FM_disease.index\n",
    "\n",
    "# get all genes associated to disease\n",
    "dismod_genes_2 = [] \n",
    "for i,v in enumerate(dismod_2.values):\n",
    "    if v == 1:\n",
    "        dismod_genes_2.append(dismod_2.index[i])\n",
    "    else:\n",
    "        pass\n",
    "    \n",
    "l_genes_dismod_2 = [str(i) for i in dismod_genes_2]\n",
    "l_genes_nfdismod_overlap_2 = []\n",
    "for i in nf_neighbors:\n",
    "    if i in l_genes_dismod_2:\n",
    "        l_genes_nfdismod_overlap_2.append(i)\n",
    "l_genes_dismod_2_all = l_genes_dismod_2 + l_genes_nfdismod_overlap_2\n",
    "print('Number of Genes associated to DOID', num_doid_2,':',len(l_genes_dismod_2)) \n",
    "print('Number of Genes associated to DOID with overlap of NF neighbors', num_doid_2,':',len(l_genes_dismod_2_all))"
   ]
  },
  {
   "cell_type": "markdown",
   "id": "7e772e2f-15fb-43f7-b01c-cdda14549f65",
   "metadata": {},
   "source": [
    "### Third Disease Vector | DOID:3620 - Central Nervous System Cancer"
   ]
  },
  {
   "cell_type": "code",
   "execution_count": 13,
   "id": "1c0a75c9-4744-4991-b774-5d09bb858983",
   "metadata": {},
   "outputs": [
    {
     "name": "stdout",
     "output_type": "stream",
     "text": [
      "Number of Genes associated to DOID 3620 : 173\n",
      "Number of Genes associated to DOID with overlap of NF neighbors 3620 : 174\n"
     ]
    }
   ],
   "source": [
    "# -----------------------------\n",
    "num_doid_3 = '3620' #'0060115' \n",
    "# -----------------------------\n",
    "\n",
    "# define specific DOID \n",
    "dismod_3 = FM_disease.loc[:,'DOID:'+num_doid_3]\n",
    "dismod_3.index = FM_disease.index\n",
    "\n",
    "dismod_genes_3 = [] \n",
    "for i,v in enumerate(dismod_3.values):\n",
    "    if v == 1:\n",
    "        dismod_genes_3.append(dismod_3.index[i])\n",
    "    else:\n",
    "        pass\n",
    "\n",
    "l_genes_dismod_3 = [str(i) for i in dismod_genes_3]\n",
    "l_genes_nfdismod_overlap_3 = []\n",
    "for i in nf_neighbors:\n",
    "    if i in l_genes_dismod_3:\n",
    "        l_genes_nfdismod_overlap_3.append(i)\n",
    "l_genes_dismod_3_all = l_genes_dismod_3 + l_genes_nfdismod_overlap_3\n",
    "print('Number of Genes associated to DOID', num_doid_3,':',len(l_genes_dismod_3))\n",
    "print('Number of Genes associated to DOID with overlap of NF neighbors', num_doid_3,':',len(l_genes_dismod_3_all))"
   ]
  },
  {
   "cell_type": "markdown",
   "id": "1a0c766b-38e3-4a58-b528-2c7e6ba2a246",
   "metadata": {
    "tags": []
   },
   "source": [
    "### Fourth Disease Vector | DOID:0060089 - Endocrine Organ benign neoplasm"
   ]
  },
  {
   "cell_type": "code",
   "execution_count": 14,
   "id": "a4502ed9-17be-4c61-885d-5c0d60b47ffc",
   "metadata": {},
   "outputs": [
    {
     "name": "stdout",
     "output_type": "stream",
     "text": [
      "Number of Genes associated to DOID 0060089 : 122\n",
      "Number of Genes associated to DOID with overlap of NF neighbors 0060089 : 123\n"
     ]
    }
   ],
   "source": [
    "# -----------------------------\n",
    "num_doid_4 = '0060089'\n",
    "# -----------------------------\n",
    "\n",
    "# define specific DOID \n",
    "dismod_4 = FM_disease.loc[:,'DOID:'+num_doid_4]\n",
    "dismod_4.index = FM_disease.index\n",
    "dismod_id_4 = 'DOID'+num_doid_4\n",
    "\n",
    "dismod_genes_4 = [] \n",
    "for i,v in enumerate(dismod_4.values):\n",
    "    if v == 1:\n",
    "        dismod_genes_4.append(dismod_4.index[i])\n",
    "    else:\n",
    "        pass\n",
    "    \n",
    "l_genes_dismod_4 = [str(i) for i in dismod_genes_4]\n",
    "l_genes_nfdismod_overlap_4 = []\n",
    "for i in nf_neighbors:\n",
    "    if i in l_genes_dismod_4:\n",
    "        l_genes_nfdismod_overlap_4.append(i)\n",
    "l_genes_dismod_4_all = l_genes_dismod_4 + l_genes_nfdismod_overlap_4\n",
    "print('Number of Genes associated to DOID', num_doid_4,':',len(l_genes_dismod_4))\n",
    "print('Number of Genes associated to DOID with overlap of NF neighbors', num_doid_4,':',len(l_genes_dismod_4_all))"
   ]
  },
  {
   "cell_type": "markdown",
   "id": "6bf8242f-bd23-4731-acec-553198292094",
   "metadata": {
    "tags": []
   },
   "source": [
    "_____ \n",
    "## SPATIAL EMBEDDING\n",
    "_____"
   ]
  },
  {
   "cell_type": "markdown",
   "id": "8d2bd94c-8edb-46ec-8d49-5f46ca8681b0",
   "metadata": {},
   "source": [
    "### 2D PORTRAIT POSITIONING "
   ]
  },
  {
   "cell_type": "code",
   "execution_count": 34,
   "id": "74e5d829-3a56-4ff3-ad60-9486d387dce0",
   "metadata": {},
   "outputs": [
    {
     "name": "stdout",
     "output_type": "stream",
     "text": [
      "CPU times: user 43min 46s, sys: 48.4 s, total: 44min 34s\n",
      "Wall time: 43min 58s\n"
     ]
    }
   ],
   "source": [
    "%%time \n",
    "\n",
    "iteration = 200 \n",
    "posG_spring2D = springlayout_2D(G,itr = iteration)\n",
    "posG = posG_spring2D"
   ]
  },
  {
   "cell_type": "markdown",
   "id": "dda9221b-8465-42a3-b582-cde40a6e198e",
   "metadata": {
    "tags": []
   },
   "source": [
    "____________\n",
    "## VISUAL SETTINGS + PLOT PREPARATION\n",
    "____________"
   ]
  },
  {
   "cell_type": "markdown",
   "id": "8221485a-a86d-42e4-bf35-9b287c45b08b",
   "metadata": {
    "tags": []
   },
   "source": [
    "### DISEASE SPECIFIC"
   ]
  },
  {
   "cell_type": "code",
   "execution_count": 35,
   "id": "48b89df2-0b8d-459b-9f44-ba3911efb244",
   "metadata": {},
   "outputs": [
    {
     "name": "stdout",
     "output_type": "stream",
     "text": [
      "Number of genes within radius around Center - Disease 1: 163\n",
      "Number of links in circle buffer - Disease 1: 446\n"
     ]
    }
   ],
   "source": [
    "#\n",
    "# DISEASE 1 | ORANGE\n",
    "#\n",
    "\n",
    "# color nodes\n",
    "node_col_1 = '#FF7001' # (orange) #'#B00160' \n",
    "\n",
    "center_dis_1_sym = 'TYR' #'GLI2' #'AIRE' # 'KRAS' #'PTEN' \n",
    "\n",
    "# get nodeID of gene symbol \n",
    "for ix, sym in d_gene_sym.items():\n",
    "    if sym == center_dis_1_sym:\n",
    "        center_dis_1_id = ix\n",
    "\n",
    "# get coordinates from nodeID\n",
    "for node, coords in posG.items():\n",
    "    if node == center_dis_1_id:\n",
    "        center_dis_1_coords = coords\n",
    "\n",
    "# make shapely point from defined center of cluster \n",
    "point_1 = geometry.Point(center_dis_1_coords[0], center_dis_1_coords[1])\n",
    "\n",
    "# create your circle buffer from one of the points\n",
    "distance = 1.0 #0.05\n",
    "\n",
    "circle_buffer = point_1.buffer(distance)\n",
    "\n",
    "# get list of genes that are within radius around the center \n",
    "l_genes_circlebuffer_1 = []\n",
    "for node,coords in posG.items():\n",
    "    point = geometry.Point(coords[0], coords[1])\n",
    "    if point.within(circle_buffer) and node in l_genes_dismod_1: \n",
    "        l_genes_circlebuffer_1.append(node)\n",
    "        \n",
    "print('Number of genes within radius around Center - Disease 1:' ,len(l_genes_circlebuffer_1))\n",
    "\n",
    "# color edges within circle buffer     \n",
    "d_edge_col_circlebuffer_1 = color_edges_from_nodelist_specific(G, l_genes_circlebuffer_1, node_col_1)\n",
    "print('Number of links in circle buffer - Disease 1:', len(d_edge_col_circlebuffer_1))\n",
    "\n",
    "# color all dismod edges    \n",
    "d_edge_col_1 = color_edges_from_nodelist_specific(G, l_genes_dismod_1, node_col_1)"
   ]
  },
  {
   "cell_type": "code",
   "execution_count": 36,
   "id": "f6da003b-7667-4870-9c8f-15c88116a34a",
   "metadata": {},
   "outputs": [
    {
     "name": "stdout",
     "output_type": "stream",
     "text": [
      "Number of genes within radius around Center - Disease 2: 303\n",
      "Number of links in circle buffer - Disease 2: 910\n"
     ]
    }
   ],
   "source": [
    "#\n",
    "# DISEASE 2 | YELLOW\n",
    "#\n",
    "\n",
    "# color nodes\n",
    "node_col_2 = '#FFC433' #(yellow)\n",
    "\n",
    "center_dis_2_sym = 'ACTC1' #'HIKESHI' # 'ZNF160' #'TBX3' \n",
    "# get nodeID of gene symbol \n",
    "for ix, sym in d_gene_sym.items():\n",
    "    if sym == center_dis_2_sym:\n",
    "        center_dis_2_id = ix\n",
    "\n",
    "# get coordinates from nodeID\n",
    "for node, coords in posG.items():\n",
    "    if node == center_dis_2_id:\n",
    "        center_dis_2_coords = coords\n",
    "\n",
    "# make shapely point from defined center of cluster \n",
    "point_2 = geometry.Point(center_dis_2_coords[0], center_dis_2_coords[1])\n",
    "\n",
    "# create your circle buffer from one of the points\n",
    "distance = 1.0 #0.06\n",
    "circle_buffer = point_2.buffer(distance)\n",
    "\n",
    "# get list of genes that are within radius around the center \n",
    "l_genes_circlebuffer_2 = []\n",
    "for node,coords in posG.items():\n",
    "    point = geometry.Point(coords[0], coords[1])\n",
    "    if point.within(circle_buffer) and node in l_genes_dismod_2: \n",
    "        l_genes_circlebuffer_2.append(node)\n",
    "        \n",
    "print('Number of genes within radius around Center - Disease 2:' ,len(l_genes_circlebuffer_2))\n",
    "\n",
    "# color edges within circle buffer     \n",
    "d_edge_col_circlebuffer_2 = color_edges_from_nodelist_specific(G, l_genes_circlebuffer_2, node_col_2)\n",
    "print('Number of links in circle buffer - Disease 2:', len(d_edge_col_circlebuffer_2))\n",
    "\n",
    "# color all dismod edges    \n",
    "d_edge_col_2 = color_edges_from_nodelist_specific(G, l_genes_dismod_2, node_col_2)"
   ]
  },
  {
   "cell_type": "code",
   "execution_count": 37,
   "id": "deb7c698-98a1-4024-a3e3-ef6d0c1a613b",
   "metadata": {},
   "outputs": [
    {
     "name": "stdout",
     "output_type": "stream",
     "text": [
      "Number of genes within radius around Center - Disease 3: 173\n",
      "Number of links in circle buffer - Disease 3: 496\n"
     ]
    }
   ],
   "source": [
    "#\n",
    "# DISEASE 3 | GREEN\n",
    "#\n",
    "\n",
    "# color nodes\n",
    "node_col_3 = '#BEDC00' # (yellowgreen)\n",
    "\n",
    "center_dis_3_sym = 'FLI1' #'MTR' \n",
    "# get nodeID of gene symbol \n",
    "for ix, sym in d_gene_sym.items():\n",
    "    if sym == center_dis_3_sym:\n",
    "        center_dis_3_id = ix\n",
    "\n",
    "# get coordinates from nodeID\n",
    "for node, coords in posG.items():\n",
    "    if node == center_dis_3_id:\n",
    "        center_dis_3_coords = coords\n",
    "\n",
    "# make shapely point from defined center of cluster \n",
    "point_3 = geometry.Point(center_dis_3_coords[0], center_dis_3_coords[1])\n",
    "\n",
    "# create your circle buffer from one of the points\n",
    "distance = 1.0 #0.06\n",
    "circle_buffer = point_3.buffer(distance)\n",
    "\n",
    "# get list of genes that are within radius around the center \n",
    "l_genes_circlebuffer_3 = []\n",
    "for node,coords in posG.items():\n",
    "    point = geometry.Point(coords[0], coords[1])\n",
    "    if point.within(circle_buffer) and node in l_genes_dismod_3: \n",
    "        l_genes_circlebuffer_3.append(node)\n",
    "        \n",
    "print('Number of genes within radius around Center - Disease 3:' ,len(l_genes_circlebuffer_3))\n",
    "\n",
    "# color edges within circle buffer     \n",
    "d_edge_col_circlebuffer_3 = color_edges_from_nodelist_specific(G, l_genes_circlebuffer_3, node_col_3)\n",
    "print('Number of links in circle buffer - Disease 3:', len(d_edge_col_circlebuffer_3))\n",
    "\n",
    "# color all dismod edges    \n",
    "d_edge_col_3 = color_edges_from_nodelist_specific(G, l_genes_dismod_3, node_col_3)"
   ]
  },
  {
   "cell_type": "code",
   "execution_count": 38,
   "id": "472cc0a1-fe9c-4ac9-9fec-863c482ed298",
   "metadata": {},
   "outputs": [
    {
     "name": "stdout",
     "output_type": "stream",
     "text": [
      "Number of genes within radius around Center - Disease 4: 122\n",
      "Number of links in circle buffer - Disease 4: 118\n"
     ]
    }
   ],
   "source": [
    "#\n",
    "# DISEASE 4 | DARK RED\n",
    "#\n",
    "\n",
    "# color nodes\n",
    "node_col_4 = '#992121' # '#A60C0C' # (darkred)\n",
    "\n",
    "center_dis_4_sym = 'SLC26A3' #'SCNN1G'\n",
    "# get nodeID of gene symbol \n",
    "for ix, sym in d_gene_sym.items():\n",
    "    if sym == center_dis_4_sym:\n",
    "        center_dis_4_id = ix\n",
    "\n",
    "# get coordinates from nodeID\n",
    "for node, coords in posG.items():\n",
    "    if node == center_dis_4_id:\n",
    "        center_dis_4_coords = coords\n",
    "\n",
    "# make shapely point from defined center of cluster \n",
    "point_4 = geometry.Point(center_dis_4_coords[0], center_dis_4_coords[1])\n",
    "\n",
    "# create your circle buffer from one of the points\n",
    "distance = 1.0 #0.15\n",
    "circle_buffer = point_4.buffer(distance)\n",
    "\n",
    "# get list of genes that are within radius around the center \n",
    "l_genes_circlebuffer_4 = []\n",
    "for node,coords in posG.items():\n",
    "    point = geometry.Point(coords[0], coords[1])\n",
    "    if point.within(circle_buffer) and node in l_genes_dismod_4: \n",
    "        l_genes_circlebuffer_4.append(node)\n",
    "        \n",
    "print('Number of genes within radius around Center - Disease 4:' ,len(l_genes_circlebuffer_4))\n",
    "\n",
    "# color edges within circle buffer     \n",
    "d_edge_col_circlebuffer_4 = color_edges_from_nodelist_specific(G, l_genes_circlebuffer_4, node_col_4)\n",
    "print('Number of links in circle buffer - Disease 4:', len(d_edge_col_circlebuffer_4))\n",
    "\n",
    "# color all dismod edges    \n",
    "d_edge_col_4 = color_edges_from_nodelist_specific(G, l_genes_dismod_4, node_col_4)"
   ]
  },
  {
   "cell_type": "markdown",
   "id": "36eb7ecf-6df0-499c-972b-fd00c292ee2a",
   "metadata": {
    "tags": []
   },
   "source": [
    "### NF SPECIFIC"
   ]
  },
  {
   "cell_type": "code",
   "execution_count": 39,
   "id": "2c6288b9-fa59-41a9-8416-7048bcddc1bf",
   "metadata": {},
   "outputs": [
    {
     "name": "stdout",
     "output_type": "stream",
     "text": [
      "Number of links of NF1 neighbors: 49\n",
      "Number of links of NF1 overlap with disease modules genes (total): 577\n",
      "Number of links of NF1 neighbors to filtered disease module genes: 577\n"
     ]
    }
   ],
   "source": [
    "# -------------------------\n",
    "#\n",
    "# Links of NF1 to all its neighbors\n",
    "#\n",
    "# -------------------------\n",
    "node_col_nf = '#00AAFF'\n",
    "\n",
    "d_edge_col_nf1_to_neighbors = color_edges_from_node(G, nf_goi_str, node_col_nf)\n",
    "print('Number of links of NF1 neighbors:', len(d_edge_col_nf1_to_neighbors))\n",
    "\n",
    "\n",
    "# -------------------------\n",
    "#\n",
    "# Links of Neurofibromatosis genes to disease module genes \n",
    "#\n",
    "# -------------------------\n",
    "\n",
    "node_col_nf_diseasemodule_overlap = '#89BBD4'\n",
    "dismod_all = l_genes_dismod_1 + l_genes_dismod_2 + l_genes_dismod_3 + l_genes_dismod_4\n",
    "\n",
    "l_genes_nf_diseasemodule_overlap = []\n",
    "for edge in G.edges():\n",
    "    if edge[0] in dismod_all and edge[1] in l_genes_nf:\n",
    "        l_genes_nf_diseasemodule_overlap.append(edge[0])\n",
    "    elif edge[1] in dismod_all and edge[0] in l_genes_nf:\n",
    "        l_genes_nf_diseasemodule_overlap.append(edge[1])\n",
    "        \n",
    "d_edge_col_nf_diseasemodule_overlap = color_edges_from_nodelist_specific(G,l_genes_nf_diseasemodule_overlap, node_col_nf_diseasemodule_overlap)\n",
    "print('Number of links of NF1 overlap with disease modules genes (total):', len(d_edge_col_nf_diseasemodule_overlap))\n",
    "\n",
    "# W I T H  C I R C L E B U F F E R \n",
    "center_nf_sym = 'NF1' \n",
    "\n",
    "# get nodeID of gene symbol \n",
    "for ix, sym in d_gene_sym.items():\n",
    "    if sym == center_nf_sym:\n",
    "        center_nf_id = ix\n",
    "        \n",
    "# get coordinates from nodeID\n",
    "for node, coords in posG.items():\n",
    "    if node == center_nf_id:\n",
    "        center_nf_coords = coords\n",
    "        \n",
    "# make shapely point from defined center of cluster \n",
    "point_nf = geometry.Point(center_nf_coords[0], center_nf_coords[1])\n",
    "\n",
    "# create your circle buffer from one of the points\n",
    "distance = 1.0 #0.05\n",
    "circle_buffer= point_nf.buffer(distance)\n",
    "\n",
    "# get list of genes that are within radius around the centerpoint\n",
    "l_genes_circlebuffer_nf_diseasemodule_overlap = []\n",
    "for node,coords in posG.items():\n",
    "    point = geometry.Point(coords[0], coords[1])\n",
    "    if point.within(circle_buffer) and node in l_genes_nf_diseasemodule_overlap: \n",
    "        l_genes_circlebuffer_nf_diseasemodule_overlap.append(node)\n",
    "\n",
    "d_edge_col_nf_diseasemodule_overlap_buffer = color_edges_from_nodelist_specific(G, l_genes_circlebuffer_nf_diseasemodule_overlap, node_col_nf_diseasemodule_overlap)\n",
    "print('Number of links of NF1 neighbors to filtered disease module genes:', len(d_edge_col_nf_diseasemodule_overlap_buffer))"
   ]
  },
  {
   "cell_type": "markdown",
   "id": "52d3bbfc-0d7f-4fbf-aef7-67be854d90e7",
   "metadata": {},
   "source": [
    "---\n",
    "## PLOT \n",
    "---"
   ]
  },
  {
   "cell_type": "markdown",
   "id": "e35fe24d-f00b-46a0-95dc-5877b8ab9dbe",
   "metadata": {},
   "source": [
    "#### MERGE NODE COLORS > 4 diseases = 4 different colors "
   ]
  },
  {
   "cell_type": "code",
   "execution_count": 40,
   "id": "bab654af-a8b5-41c2-a19c-328813b54451",
   "metadata": {},
   "outputs": [],
   "source": [
    "# merge all node colors (and sort like G.nodes)\n",
    "\n",
    "col_param = list(df_centralities['closeness'].values)\n",
    "d_node_colors = dict(zip(list(G.nodes()), col_param))\n",
    "\n",
    "node_col_shared = '#AFC8E8' \n",
    "\n",
    "c1='#E6E6E6' \n",
    "c2='#9B9B9B' \n",
    "n=len(set(col_param))\n",
    "\n",
    "colors_for_palette = []\n",
    "for x in range(n+1):\n",
    "    colors_for_palette.append(colorFader(c1,c2,x/n))    \n",
    "\n",
    "customPalette = sns.set_palette(sns.color_palette(colors_for_palette))\n",
    "d_colors = color_nodes_from_dict(G, d_node_colors, palette = customPalette)\n",
    "\n",
    "d_col_all = {}\n",
    "for k,v in d_colors.items():\n",
    "    \n",
    "    # color for all NF1 associated genes (i.e. neighbors, NF1 disease module) \n",
    "    if k in l_genes_nf:# or k in nf_neighbors:\n",
    "        d_col_all[k] = node_col_nf\n",
    "   \n",
    "    #shared genes 1+2\n",
    "    elif k in l_genes_dismod_1 and k in l_genes_dismod_2:# and k in l_genes_dismod_3 and k in l_genes_dismod_4:\n",
    "        d_col_all[k] = node_col_shared\n",
    "        \n",
    "    #shared genes 1+3\n",
    "    elif k in l_genes_dismod_1 and k in l_genes_dismod_3:\n",
    "        d_col_all[k] = node_col_shared\n",
    "        \n",
    "    #shared genes 1+4\n",
    "    elif k in l_genes_dismod_1 and k in l_genes_dismod_4:\n",
    "        d_col_all[k] = node_col_shared \n",
    "        \n",
    "    #shared genes 2+3\n",
    "    elif k in l_genes_dismod_2 and k in l_genes_dismod_3:\n",
    "        d_col_all[k] = node_col_shared\n",
    "        \n",
    "    #shared genes 2+4\n",
    "    elif k in l_genes_dismod_2 and k in l_genes_dismod_4:\n",
    "        d_col_all[k] = node_col_shared \n",
    "        \n",
    "    #shared genes 3+4\n",
    "    elif k in l_genes_dismod_3 and k in l_genes_dismod_4:\n",
    "        d_col_all[k] = node_col_shared \n",
    "    \n",
    "    \n",
    "    # disease module colors \n",
    "    elif k in l_genes_dismod_1:\n",
    "        d_col_all[k] = node_col_1\n",
    "        \n",
    "    elif k in l_genes_dismod_2:\n",
    "        d_col_all[k] = node_col_2\n",
    "        \n",
    "    elif k in l_genes_dismod_3:\n",
    "        d_col_all[k] = node_col_3\n",
    "    \n",
    "    elif k in l_genes_dismod_4:\n",
    "        d_col_all[k] = node_col_4\n",
    "    \n",
    "    else:\n",
    "        d_col_all[k]=v\n",
    "        \n",
    "colors = list(d_col_all.values())"
   ]
  },
  {
   "cell_type": "code",
   "execution_count": 41,
   "id": "066a0cb7-06df-47b0-8549-8f8c3766a61c",
   "metadata": {},
   "outputs": [
    {
     "data": {
      "text/plain": [
       "'output_plots/2Dlayouts/2Dspring_DOIDs3165_10534_3620_0060089_itr200_human.html'"
      ]
     },
     "execution_count": 41,
     "metadata": {},
     "output_type": "execute_result"
    }
   ],
   "source": [
    "# --------------------------------------------\n",
    "# G E N E R A L S E T T I N G S\n",
    "# --------------------------------------------\n",
    "\n",
    "opacity_nodes = 0.8\n",
    "node_edge_col = '#696969' \n",
    "node_linewidth = 0.5\n",
    "scale_factor = 0.55\n",
    "\n",
    "\n",
    "# --------------------------------------------\n",
    "# plot nodes based on focus \n",
    "# > separate to background/foreground \n",
    "# --------------------------------------------\n",
    "l_genes_all = l_genes_nf + dismod_all + l_genes_neighbors\n",
    "\n",
    "posG_foreground = {}\n",
    "posG_background = {}\n",
    "for k,v in posG.items():\n",
    "    if k in l_genes_all:\n",
    "        posG_foreground[k]=v\n",
    "    else: \n",
    "        posG_background[k]=v\n",
    "    \n",
    "d_colors_foreground = {}\n",
    "d_colors_background = {}\n",
    "for i,c in d_col_all.items():\n",
    "    if i in posG_foreground.keys():\n",
    "        d_colors_foreground[i]=c\n",
    "    else: \n",
    "        d_colors_background[i]=c\n",
    "\n",
    "colors_foreground = list(d_colors_foreground.values())\n",
    "colors_background = list(d_colors_background.values())\n",
    "\n",
    "d_feat_foreground = {}\n",
    "d_feat_background = {}\n",
    "for k,v in d_gene_sym.items():\n",
    "    if k in posG_foreground: \n",
    "        d_feat_foreground[k]=v\n",
    "    else:\n",
    "        d_feat_background[k]=v\n",
    "        \n",
    "feat_foreground = list(d_feat_foreground.values())\n",
    "feat_background = list(d_feat_background.values())\n",
    "\n",
    "d_size_plotly = draw_node_degree(G, scale_factor/200 ) # 50) #100\n",
    "d_size_plotly_foreground = {}\n",
    "d_size_plotly_background = {}\n",
    "for k,v in d_size_plotly.items():\n",
    "    if k in posG_foreground.keys():\n",
    "        d_size_plotly_foreground[k]=v\n",
    "    else:\n",
    "        d_size_plotly_background[k]=v\n",
    "        \n",
    "size_plotly_foreground = list(d_size_plotly_foreground.values())\n",
    "size_plotly_background = list(d_size_plotly_background.values())\n",
    "\n",
    "# --------------------------------------------\n",
    "# N O D E S \n",
    "# --------------------------------------------\n",
    "umap_nodes_foreground = get_trace_nodes_2D(posG_foreground, feat_foreground, colors_foreground, size_plotly_foreground, \n",
    "                                           node_linewidth, 0.8)\n",
    "umap_nodes_foreground_ = get_trace_nodes_2D(posG_foreground, feat_foreground, colors_foreground, 4, #3,\n",
    "                                           None, 0.15)\n",
    "umap_nodes_background = get_trace_nodes_2D(posG_background, feat_background, colors_background, size_plotly_background, \n",
    "                                           None,0.5) \n",
    "umap_nodes_background_ = get_trace_nodes_2D(posG_background, feat_background, colors_background, 2, #2\n",
    "                                           None,0.5)\n",
    "\n",
    "# --------------------------------------------\n",
    "# E D G E S \n",
    "# --------------------------------------------\n",
    "opac_shine = 0.08\n",
    "lw_shine = 3.0\n",
    "lw_buffer = 0.25\n",
    "opac_buffer = 0.5 \n",
    "umap_edges_circlebuffer_1 = get_trace_edges_specific2D(d_edge_col_circlebuffer_1,posG, linew=lw_buffer, opac=opac_buffer)\n",
    "umap_edges_circlebuffer_1_shine = get_trace_edges_specific2D(d_edge_col_circlebuffer_1, posG, linew=lw_shine, opac=opac_shine)\n",
    "\n",
    "umap_edges_circlebuffer_2 = get_trace_edges_specific2D(d_edge_col_circlebuffer_2,posG, linew=lw_buffer, opac=opac_buffer)\n",
    "umap_edges_circlebuffer_2_shine = get_trace_edges_specific2D(d_edge_col_circlebuffer_2,posG, linew=lw_shine, opac=opac_shine)\n",
    "\n",
    "umap_edges_circlebuffer_3 = get_trace_edges_specific2D(d_edge_col_circlebuffer_3,posG, linew=lw_buffer, opac=opac_buffer)\n",
    "umap_edges_circlebuffer_3_shine = get_trace_edges_specific2D(d_edge_col_circlebuffer_3,posG, linew=lw_shine, opac=opac_shine)\n",
    "\n",
    "umap_edges_circlebuffer_4 = get_trace_edges_specific2D(d_edge_col_circlebuffer_4,posG, linew=lw_buffer, opac=opac_buffer)\n",
    "umap_edges_circlebuffer_4_shine = get_trace_edges_specific2D(d_edge_col_circlebuffer_4,posG, linew=lw_shine, opac=opac_shine)\n",
    "\n",
    "umap_edges_nf_diseasemodule_overlap = get_trace_edges_specific2D(d_edge_col_nf_diseasemodule_overlap_buffer,posG, linew=lw_buffer, opac=opac_buffer)\n",
    "umap_edges_nf_diseasemodule_overlap_shine = get_trace_edges_specific2D(d_edge_col_nf_diseasemodule_overlap_buffer,posG, linew=lw_shine, opac=opac_shine)\n",
    "\n",
    "\n",
    "opacity_edges = 0.3\n",
    "width_edges = 0.25\n",
    "umap_edges_1 = get_trace_edges_specific2D(d_edge_col_1, posG, linew=width_edges, opac=opacity_edges)\n",
    "umap_edges_2 = get_trace_edges_specific2D(d_edge_col_2, posG, linew=width_edges, opac=opacity_edges)\n",
    "umap_edges_3 = get_trace_edges_specific2D(d_edge_col_3, posG, linew=width_edges, opac=opacity_edges)\n",
    "umap_edges_4 = get_trace_edges_specific2D(d_edge_col_4, posG, linew=width_edges, opac=opacity_edges)\n",
    "                  \n",
    "    \n",
    "data = [\n",
    "    \n",
    "        ######################\n",
    "        # nodes background \n",
    "        ######################\n",
    "    \n",
    "        umap_nodes_background_, \n",
    "        umap_nodes_background, \n",
    "    \n",
    "        ######################\n",
    "        # all edges \n",
    "        ######################\n",
    "        \n",
    "        #umap_edges_1, \n",
    "        #umap_edges_2,\n",
    "        #umap_edges_3,\n",
    "        #umap_edges_4,\n",
    "        \n",
    "        ######################\n",
    "        # edges within radius\n",
    "        ######################\n",
    "        \n",
    "        umap_edges_circlebuffer_1_shine,\n",
    "        umap_edges_circlebuffer_2_shine,\n",
    "        umap_edges_circlebuffer_3_shine,\n",
    "        umap_edges_circlebuffer_4_shine,\n",
    "    \n",
    "        umap_edges_circlebuffer_1, \n",
    "        umap_edges_circlebuffer_2, \n",
    "        umap_edges_circlebuffer_3, \n",
    "        umap_edges_circlebuffer_4, \n",
    "        \n",
    "        umap_edges_nf_diseasemodule_overlap,\n",
    "        umap_edges_nf_diseasemodule_overlap_shine,\n",
    "        \n",
    "        ######################\n",
    "        # nodes foreground \n",
    "        ######################\n",
    "        umap_nodes_foreground_,\n",
    "        umap_nodes_foreground]\n",
    "\n",
    "\n",
    "\n",
    "path = 'output_plots/2Dlayouts/'\n",
    "schema = 'light' #'dark' \n",
    "fname = '2Dspring_'+'DOIDs'+num_doid_1+'_'+num_doid_2+'_'+num_doid_3+'_'+num_doid_4+'_itr'+str(iteration)+'_'+organism\n",
    "#fname = ' test'\n",
    "\n",
    "plot_2D(data,path,fname)"
   ]
  },
  {
   "cell_type": "code",
   "execution_count": null,
   "id": "c121ae98-580a-46f0-b282-71619206b4a8",
   "metadata": {},
   "outputs": [],
   "source": []
  },
  {
   "cell_type": "code",
   "execution_count": null,
   "id": "fe1ca464-0592-475b-b1e1-d4ed557d8659",
   "metadata": {},
   "outputs": [],
   "source": []
  },
  {
   "cell_type": "code",
   "execution_count": null,
   "id": "9641fd52-50ba-4165-89fc-40d6380b1ee6",
   "metadata": {},
   "outputs": [],
   "source": []
  },
  {
   "cell_type": "code",
   "execution_count": null,
   "id": "5daa59a6-a976-4b91-9685-fae2c6663bf6",
   "metadata": {},
   "outputs": [],
   "source": []
  },
  {
   "cell_type": "code",
   "execution_count": null,
   "id": "50a753c3-1378-415d-b71f-180fd90ed8c3",
   "metadata": {},
   "outputs": [],
   "source": []
  },
  {
   "cell_type": "code",
   "execution_count": null,
   "id": "e2ecd5c2-ae83-4ac5-a87c-34c3173b8bc7",
   "metadata": {},
   "outputs": [],
   "source": []
  },
  {
   "cell_type": "code",
   "execution_count": null,
   "id": "2f1b642f-82be-497f-b88e-6d5c3db7ab5b",
   "metadata": {},
   "outputs": [],
   "source": []
  },
  {
   "cell_type": "code",
   "execution_count": null,
   "id": "ad800cee-0d87-4dc9-ad54-f290fb07512f",
   "metadata": {},
   "outputs": [],
   "source": []
  },
  {
   "cell_type": "code",
   "execution_count": null,
   "id": "8fdc96e7-f4f8-41fc-822a-2e1c8913edb1",
   "metadata": {},
   "outputs": [],
   "source": []
  },
  {
   "cell_type": "code",
   "execution_count": null,
   "id": "respiratory-galaxy",
   "metadata": {},
   "outputs": [],
   "source": []
  }
 ],
 "metadata": {
  "kernelspec": {
   "display_name": "myenv",
   "language": "python",
   "name": "myenv"
  },
  "language_info": {
   "codemirror_mode": {
    "name": "ipython",
    "version": 3
   },
   "file_extension": ".py",
   "mimetype": "text/x-python",
   "name": "python",
   "nbconvert_exporter": "python",
   "pygments_lexer": "ipython3",
   "version": "3.8.2"
  }
 },
 "nbformat": 4,
 "nbformat_minor": 5
}
