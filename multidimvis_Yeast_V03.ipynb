{
 "cells": [
  {
   "cell_type": "markdown",
   "metadata": {},
   "source": [
    "# YEAST PPI \n",
    "\n",
    "\n",
    "### PIPELINE OVERVIEW\n",
    "+ graph with genes as nodes and edges\n",
    "+ generate a matrix from nodes based on specific parameters (features, random walk, shortest path..)\n",
    "+ multidimensional matrices > embedding with tsne into 2D or 3D \n",
    "----------\n",
    "+ Visualization typologies:\n",
    "+ 2D PORTRAIT\n",
    "+ 3D PORTRAIT\n",
    "+ 3D LANDSCAPE\n",
    "+ 3D SPHERE \n",
    "______________"
   ]
  },
  {
   "cell_type": "code",
   "execution_count": 9,
   "metadata": {},
   "outputs": [],
   "source": [
    "from multidimvis_main import *"
   ]
  },
  {
   "cell_type": "code",
   "execution_count": 10,
   "metadata": {},
   "outputs": [],
   "source": [
    "organism = 'yeast'"
   ]
  },
  {
   "cell_type": "code",
   "execution_count": 11,
   "metadata": {},
   "outputs": [
    {
     "name": "stdout",
     "output_type": "stream",
     "text": [
      "querying 1-1000...done.\n",
      "querying 1001-1037...done.\n",
      "Finished.\n",
      "15 input query terms found no hit:\n",
      "\t['nan', 'YGR251W', 'YHR122W', 'TID3', 'YJR141W', 'YLR099W-A', 'MDN1', 'YLR132C', 'YLR243W', 'YMR134W\n",
      "Pass \"returnall=True\" to return complete lists of duplicate or missing query terms.\n",
      "querying 1-1000...done.\n",
      "querying 1001-2000...done.\n",
      "querying 2001-3000...done.\n",
      "querying 3001-4000...done.\n",
      "querying 4001-4543...done.\n",
      "Finished.\n",
      "1 input query terms found dup hits:\n",
      "\t[('IMP2', 2)]\n",
      "311 input query terms found no hit:\n",
      "\t['FLP1', 'REP1', 'RAF1', 'REP2', 'YAL018C', 'YAL044W-A', 'AIM1', 'YAL064C-A', 'YBL010C', 'YBL059W', \n",
      "Pass \"returnall=True\" to return complete lists of duplicate or missing query terms.\n"
     ]
    }
   ],
   "source": [
    "data = pickle.load( open( \"input/BIOGRID-ORGANISM-Saccharomyces_cerevisiae_S288c-3.5.185.mitab.pickle\", \"rb\" ) )\n",
    "\n",
    "Counter(data['Interaction Detection Method'])\n",
    "Counter(data['Interaction Types'])\n",
    "\n",
    "filter_score = data[\n",
    "                    #(data['Interaction Types'] == 'psi-mi:\"MI:0915\"(physical association)') +\n",
    "                    (data['Interaction Types'] == 'psi-mi:\"MI:0407\"(direct interaction)') \n",
    "                    #&\n",
    "                    #(data['Taxid Interactor A'] == \"taxid:559292\") & \n",
    "                    #(data['Taxid Interactor B'] == \"taxid:559292\") \n",
    "]\n",
    "\n",
    "g = nx.from_pandas_edgelist(filter_score, '#ID Interactor A', 'ID Interactor B')\n",
    "g.remove_edges_from(nx.selfloop_edges(g)) #remove self loop\n",
    "\n",
    "G_cere = g.subgraph(max(nx.connected_components(g), key=len)) # largest connected component (lcc)\n",
    "\n",
    "# ESSENTIAL GENES \n",
    "cere_gene =pd.read_csv(\"input/Saccharomyces cerevisiae.csv\",\n",
    "           delimiter= ',',\n",
    "           skipinitialspace=True)\n",
    "essential_cere = cere_gene[(cere_gene['essentiality status'] == 'E')]\n",
    "essential_genes_cere_list =  essential_cere['symbols'].tolist()\n",
    "\n",
    "degree= dict(G_cere.degree())\n",
    "\n",
    "mg = mygene.MyGeneInfo()\n",
    "a = mg.querymany(essential_genes_cere_list, scopes='symbol', species=559292)\n",
    "essential_genes_cere_names = pd.DataFrame.from_dict(a)\n",
    "essential_genes_cere_entrez =  essential_genes_cere_names['entrezgene'].tolist()\n",
    "\n",
    "cleaned_entrez_list = [x for x in essential_genes_cere_entrez if str(x) != 'nan']\n",
    "\n",
    "degree_formatted={}\n",
    "for k, v in degree.items():\n",
    "    degree_formatted[k.replace(\"entrez gene/locuslink:\",\"\")] = v\n",
    "    \n",
    "index= []\n",
    "essential = []\n",
    "for i in cleaned_entrez_list:\n",
    "    for (key, val) in degree_formatted.items():\n",
    "        if i==key:\n",
    "            index.append(key)\n",
    "            essential.append(val)  \n",
    "\n",
    "no_essential_cere = cere_gene[(cere_gene['essentiality status'] == 'NE')]\n",
    "no_essential_genes_cere_list =  no_essential_cere['symbols'].tolist()\n",
    "b = mg.querymany(no_essential_genes_cere_list, scopes='symbol', species=559292)\n",
    "no_essential_genes_cere_names = pd.DataFrame.from_dict(b)\n",
    "no_essential_genes_cere_entrez =  no_essential_genes_cere_names['entrezgene'].tolist()\n",
    "cleaned_entrez_list_no = [x for x in no_essential_genes_cere_entrez if str(x) != 'nan']\n",
    "\n",
    "index= []\n",
    "no_essential = []\n",
    "for i in cleaned_entrez_list_no:\n",
    "    for (key, val) in degree_formatted.items():\n",
    "        if i==key:\n",
    "            index.append(key)\n",
    "            no_essential.append(val)\n",
    "            \n",
    "#df_cere = pd.DataFrame({'essential': pd.Series(essential), 'no_essential': pd.Series(no_essential)})\n",
    "\n",
    "\n",
    "no_ess_id = no_essential_genes_cere_names['entrezgene']\n",
    "ess_id = essential_genes_cere_names['entrezgene']\n",
    "G = G_cere\n",
    "\n",
    "#edge_list = nx.write_edgelist(G, \"Yeast_edgelist_directinteractiononly.txt\")"
   ]
  },
  {
   "cell_type": "markdown",
   "metadata": {},
   "source": [
    "# GRAPH PROPERTIES"
   ]
  },
  {
   "cell_type": "code",
   "execution_count": 12,
   "metadata": {},
   "outputs": [
    {
     "name": "stdout",
     "output_type": "stream",
     "text": [
      "Number of nodes i.e. genes: 5785\n",
      "Number of edges: 31237\n",
      "Network density: 0.2%\n"
     ]
    }
   ],
   "source": [
    "print('Number of nodes i.e. genes: %s' %len(list(G.nodes())))\n",
    "print('Number of edges: %s' %len(list(G.edges())))\n",
    "print('Network density: %.1f%%' %(200.*len(list(G.edges()))/(len(list(G.nodes()))*len(list(G.nodes()))-1)))"
   ]
  },
  {
   "cell_type": "markdown",
   "metadata": {},
   "source": [
    "#### Degree Distribution "
   ]
  },
  {
   "cell_type": "code",
   "execution_count": null,
   "metadata": {},
   "outputs": [],
   "source": [
    "l_k = list(degs.values())\n",
    "set_k = set(l_k)\n",
    "print('Degree min:', min(l_k))\n",
    "print('Degree max:', max(l_k))\n",
    "\n",
    "d_k_f = {}\n",
    "for k in set_k:\n",
    "    d_k_f[k] = l_k.count(k)\n",
    "#print('Degree counts:',d_k_f)\n",
    "\n",
    "mean_deg = np.mean(l_k)\n",
    "var_deg = np.var(l_k)\n",
    "print('Degree Mean:', mean_deg)\n",
    "print('Degree Variant:', var_deg)\n",
    "\n",
    "plt.figure(figsize=(10,10))\n",
    "plt.title('Degree Distribution', fontsize = 20)\n",
    "plt.xlabel('Degree', fontsize = 14)\n",
    "plt.ylabel('P(k)', fontsize = 14)\n",
    "plt.loglog(list(d_k_f.keys()),list(d_k_f.values()),'o',c='#008CA0')\n",
    "plt.show()\n",
    "\n",
    "#plt.savefig('PPIdegreedist.png')"
   ]
  },
  {
   "cell_type": "markdown",
   "metadata": {},
   "source": [
    "# FEATURE COLLECTION"
   ]
  },
  {
   "cell_type": "markdown",
   "metadata": {},
   "source": [
    "#### + TOPOLOGICAL FEATURES\n",
    "##### based on: https://networkx.github.io/documentation/stable/reference/algorithms/centrality.html\n",
    "+ degree centrality\n",
    "+ closeness centrality\n",
    "+ betweeness centrality\n",
    "+ eigenvector centrality"
   ]
  },
  {
   "cell_type": "code",
   "execution_count": null,
   "metadata": {},
   "outputs": [],
   "source": [
    "%%time \n",
    "\n",
    "# DEGREE CENTRALITY - Node degree: important nodes being involved within high number of interactions\n",
    "degs = dict(G.degree())\n",
    "d_deghubs = {}\n",
    "for node, de in sorted(degs.items(),key = lambda x: x[1], reverse = 1):\n",
    "    d_deghubs[node] = round(float(de/max(degs.values())),4)"
   ]
  },
  {
   "cell_type": "code",
   "execution_count": null,
   "metadata": {},
   "outputs": [],
   "source": [
    "%%time \n",
    "\n",
    "# CLOSENESS CENTRALITY - Measures how closely a node is connected to all other nodes to highlight f.ex. core-periphery structure, or identify central nodes\n",
    "closeness = nx.closeness_centrality(G)\n",
    "d_clos = {}\n",
    "for node, cl in sorted(closeness.items(), key = lambda x: x[1], reverse = 1):\n",
    "    d_clos[node] = round(cl,4)"
   ]
  },
  {
   "cell_type": "code",
   "execution_count": null,
   "metadata": {},
   "outputs": [],
   "source": [
    "%%time\n",
    "\n",
    "# BETWEENESS CENTRALITY - How many shortest paths between pairs of other nodes in the network go through one node. High BC indicates \"bottleneck nodes\" in the network\n",
    "betweens = nx.betweenness_centrality(G)\n",
    "d_betw = {}\n",
    "for node, be in sorted(betweens.items(), key = lambda x: x[1], reverse = 1):\n",
    "     d_betw[node] = round(be,4)"
   ]
  },
  {
   "cell_type": "code",
   "execution_count": null,
   "metadata": {},
   "outputs": [],
   "source": [
    "%%time \n",
    "\n",
    "# EIGENVECTOR CENTRALITY - Compute the eigenvector centrality for the graph\n",
    "eigen = nx.eigenvector_centrality(G)\n",
    "d_eigen = {}\n",
    "for node, eig in sorted(eigen.items(), key = lambda x: x[1], reverse = 1):\n",
    "     d_eigen[node] = round(eig,4)"
   ]
  },
  {
   "cell_type": "markdown",
   "metadata": {},
   "source": [
    "### Feature Collection without Score"
   ]
  },
  {
   "cell_type": "code",
   "execution_count": 5,
   "metadata": {},
   "outputs": [],
   "source": [
    "feature_df = pd.read_csv('output_csv/Features_centralities_Dataframe_'+organism+'.csv', index_col=0)\n",
    "\n",
    "d_deghubs = dict(zip(G.nodes(),feature_df['degs']))\n",
    "d_clos = dict(zip(G.nodes(),feature_df['clos']))\n",
    "d_betw = dict(zip(G.nodes(),feature_df['betw']))\n",
    "d_eigen = dict(zip(G.nodes(),feature_df['eigen']))\n",
    "\n",
    "feature_dict = feature_df.to_dict(orient='index')\n",
    "feature_dict_sorted = {key:feature_dict[key] for key in G.nodes()}\n",
    "\n",
    "l_features = [] \n",
    "for i in feature_dict_sorted.items():\n",
    "    k = list(i)\n",
    "    l_features.append(k)"
   ]
  },
  {
   "cell_type": "code",
   "execution_count": 6,
   "metadata": {},
   "outputs": [
    {
     "data": {
      "text/html": [
       "<div>\n",
       "<style scoped>\n",
       "    .dataframe tbody tr th:only-of-type {\n",
       "        vertical-align: middle;\n",
       "    }\n",
       "\n",
       "    .dataframe tbody tr th {\n",
       "        vertical-align: top;\n",
       "    }\n",
       "\n",
       "    .dataframe thead th {\n",
       "        text-align: right;\n",
       "    }\n",
       "</style>\n",
       "<table border=\"1\" class=\"dataframe\">\n",
       "  <thead>\n",
       "    <tr style=\"text-align: right;\">\n",
       "      <th></th>\n",
       "      <th>degs</th>\n",
       "      <th>clos</th>\n",
       "      <th>betw</th>\n",
       "      <th>eigen</th>\n",
       "    </tr>\n",
       "  </thead>\n",
       "  <tbody>\n",
       "    <tr>\n",
       "      <td>entrez gene/locuslink:853056</td>\n",
       "      <td>0.0243</td>\n",
       "      <td>0.2729</td>\n",
       "      <td>0.0004</td>\n",
       "      <td>0.0032</td>\n",
       "    </tr>\n",
       "    <tr>\n",
       "      <td>entrez gene/locuslink:850930</td>\n",
       "      <td>0.0686</td>\n",
       "      <td>0.3022</td>\n",
       "      <td>0.0007</td>\n",
       "      <td>0.0101</td>\n",
       "    </tr>\n",
       "    <tr>\n",
       "      <td>entrez gene/locuslink:854123</td>\n",
       "      <td>0.0708</td>\n",
       "      <td>0.3165</td>\n",
       "      <td>0.0020</td>\n",
       "      <td>0.0212</td>\n",
       "    </tr>\n",
       "    <tr>\n",
       "      <td>entrez gene/locuslink:856771</td>\n",
       "      <td>0.0354</td>\n",
       "      <td>0.3064</td>\n",
       "      <td>0.0003</td>\n",
       "      <td>0.0087</td>\n",
       "    </tr>\n",
       "    <tr>\n",
       "      <td>entrez gene/locuslink:851205</td>\n",
       "      <td>0.0996</td>\n",
       "      <td>0.3517</td>\n",
       "      <td>0.0023</td>\n",
       "      <td>0.0614</td>\n",
       "    </tr>\n",
       "  </tbody>\n",
       "</table>\n",
       "</div>"
      ],
      "text/plain": [
       "                                degs    clos    betw   eigen\n",
       "entrez gene/locuslink:853056  0.0243  0.2729  0.0004  0.0032\n",
       "entrez gene/locuslink:850930  0.0686  0.3022  0.0007  0.0101\n",
       "entrez gene/locuslink:854123  0.0708  0.3165  0.0020  0.0212\n",
       "entrez gene/locuslink:856771  0.0354  0.3064  0.0003  0.0087\n",
       "entrez gene/locuslink:851205  0.0996  0.3517  0.0023  0.0614"
      ]
     },
     "execution_count": 6,
     "metadata": {},
     "output_type": "execute_result"
    }
   ],
   "source": [
    "feature_df.head()"
   ]
  },
  {
   "cell_type": "markdown",
   "metadata": {},
   "source": [
    "# Score System "
   ]
  },
  {
   "cell_type": "markdown",
   "metadata": {},
   "source": [
    "+ HUBS SCORE"
   ]
  },
  {
   "cell_type": "code",
   "execution_count": 7,
   "metadata": {},
   "outputs": [],
   "source": [
    "# Hub Score \n",
    "\n",
    "cutoff = 1 # number of considered hub nodes \n",
    "d_hub_nodes = identify_hubs(d_deghubs, d_clos, d_betw, cutoff)"
   ]
  },
  {
   "cell_type": "markdown",
   "metadata": {},
   "source": [
    "+ ESSENTIALITY SCORE"
   ]
  },
  {
   "cell_type": "code",
   "execution_count": 8,
   "metadata": {},
   "outputs": [],
   "source": [
    "# Essentiality Score\n",
    "\n",
    "essentials = []\n",
    "for i in ess_id:\n",
    "    essentials.append('entrez gene/locuslink:'+str(i))\n",
    "    \n",
    "nonessentials = []\n",
    "for i in no_ess_id:\n",
    "    nonessentials.append('entrez gene/locuslink:'+str(i))\n",
    "    \n",
    "major_score = 1\n",
    "minor_score = 0.5 \n",
    "\n",
    "d_essentiality_scores = node_essentiality_scores(G, essentials, nonessentials, major_score, minor_score)\n",
    "d_essentiality_scores_sorted = {key:d_essentiality_scores[key] for key in G.nodes()}"
   ]
  },
  {
   "cell_type": "markdown",
   "metadata": {},
   "source": [
    "### Feature Collection with Score"
   ]
  },
  {
   "cell_type": "code",
   "execution_count": null,
   "metadata": {},
   "outputs": [],
   "source": [
    "feature_df['essentiality'] = list(d_essentiality_scores_sorted.values())\n",
    "\n",
    "feature_dict = feature_df.to_dict(orient='index')\n",
    "feature_dict_sorted = {key:feature_dict[key] for key in G.nodes()}\n",
    "\n",
    "l_features = [] \n",
    "for i in feature_dict_sorted.items():\n",
    "    k = list(i)\n",
    "    l_features.append(k)"
   ]
  },
  {
   "cell_type": "code",
   "execution_count": null,
   "metadata": {},
   "outputs": [],
   "source": [
    "feature_df.head()"
   ]
  },
  {
   "cell_type": "markdown",
   "metadata": {},
   "source": [
    "### Matrix Calculations (timed)"
   ]
  },
  {
   "cell_type": "code",
   "execution_count": null,
   "metadata": {},
   "outputs": [],
   "source": [
    "%%time \n",
    "\n",
    "# Aij\n",
    "A = nx.adjacency_matrix(G)\n",
    "DM_adj = A.toarray()"
   ]
  },
  {
   "cell_type": "code",
   "execution_count": null,
   "metadata": {},
   "outputs": [],
   "source": [
    "%%time\n",
    "\n",
    "# SPL\n",
    "d_idx_entz = {}\n",
    "cc = 0\n",
    "for entz in sorted(G.nodes()):\n",
    "    d_idx_entz[cc] = entz\n",
    "    cc += 1\n",
    "\n",
    "Mspl = np.zeros(len(list(G.nodes())))\n",
    "\n",
    "for n1 in range(len(list(G.nodes()))):\n",
    "    vec = []\n",
    "    for n2 in range(len(list(G.nodes()))):\n",
    "        geneA = d_idx_entz[n1]\n",
    "        geneB = d_idx_entz[n2]\n",
    "        try:\n",
    "            spl = nx.shortest_path_length(G,geneA,geneB)\n",
    "            vec.append(spl)\n",
    "        except nx.NetworkXNoPath:\n",
    "            print('no path')\n",
    "        \n",
    "    Mspl = np.vstack((Mspl,vec))\n",
    "Mspl = np.delete(Mspl, (0), axis=0)\n",
    "\n",
    "DM_spl = Mspl "
   ]
  },
  {
   "cell_type": "code",
   "execution_count": null,
   "metadata": {},
   "outputs": [],
   "source": [
    "%%time\n",
    "\n",
    "# Restart probability\n",
    "r = .8 # originally 0.8\n",
    "\n",
    "alpha = 1.0 # indicating \"randomness\" \n",
    "\n",
    "DM_m = rnd_walk_matrix2(A, r, alpha, len(G.nodes()))\n",
    "#DM_m_mod = np.array([(1-(x/max(x))) for x in DM_m])\n",
    "\n",
    "#min_log = lambda t: -np.log(t)\n",
    "#DM_mlog = np.array([min_log(x/max(x)) for x in DM_m])"
   ]
  },
  {
   "cell_type": "code",
   "execution_count": null,
   "metadata": {},
   "outputs": [],
   "source": [
    "%%time\n",
    "\n",
    "# PW euclidean metric \n",
    "DM_eucl = distance.squareform(distance.pdist(feature_df, 'euclidean'))"
   ]
  },
  {
   "cell_type": "markdown",
   "metadata": {},
   "source": [
    "#### EXPORT MATRICES TO CSV"
   ]
  },
  {
   "cell_type": "code",
   "execution_count": null,
   "metadata": {},
   "outputs": [],
   "source": [
    "'''\n",
    "organism = 'Yeast'\n",
    "\n",
    "df_adj = pd.DataFrame(DM_adj, columns = list(G.nodes()), index=list(G.nodes()))\n",
    "df_spl = pd.DataFrame(DM_spl, columns = list(G.nodes()), index=list(G.nodes()))\n",
    "df_m = pd.DataFrame(DM_m, columns = list(G.nodes()), index=list(G.nodes()))\n",
    "df_eucl = pd.DataFrame(DM_eucl, columns = list(G.nodes()), index=list(G.nodes()))\n",
    "\n",
    "# -----------------------------------------------\n",
    "\n",
    "\n",
    "# Without Score\n",
    "df_adj.to_csv(r'output_csv/Adjacency_Dataframe_'+organism+'.csv', index = True)\n",
    "df_spl.to_csv(r'output_csv/SPL_Dataframe_'+organism+'.csv', index = True)\n",
    "df_m.to_csv(r'output_csv/RWR_Dataframe_'+organism+'.csv', index = True)\n",
    "df_eucl.to_csv(r'output_csv/PW_eucl_Dataframe_'+organism+'.csv', index = True)\n",
    "\n",
    "# With Score\n",
    "df_adj.to_csv(r'output_csv/Adjacency_Dataframe_'+organism+'_score.csv', index = True)\n",
    "df_spl.to_csv(r'output_csv/SPL_Dataframe_'+organism+'_score.csv', index = True)\n",
    "df_m.to_csv(r'output_csv/RWR_Dataframe_'+organism+'_score.csv', index = True)\n",
    "df_eucl.to_csv(r'output_csv/PW_eucl_Dataframe_'+organism+'_score.csv', index = True)\n",
    "'''"
   ]
  },
  {
   "cell_type": "markdown",
   "metadata": {},
   "source": [
    "#### IMPORT MATRICES (dataframe) FROM CSV"
   ]
  },
  {
   "cell_type": "code",
   "execution_count": 61,
   "metadata": {},
   "outputs": [],
   "source": [
    "# without Score\n",
    "\n",
    "DM_adj = pd.read_csv('output_csv/Adjacency_Dataframe_Yeast.csv', index_col=0)\n",
    "DM_spl = pd.read_csv('output_csv/SPL_Dataframe_Yeast.csv', index_col=0)\n",
    "DM_m = pd.read_csv('output_csv/RWR_Dataframe_Yeast.csv', index_col=0)\n",
    "DM_eucl = pd.read_csv('output_csv/PW_eucl_Dataframe_Yeast.csv', index_col=0)\n",
    "\n",
    "# with Score\n",
    "# DM_adj = pd.read_csv('output_csv/Adjacency_Dataframe_Yeast_score.csv', index_col=0)\n",
    "# DM_spl = pd.read_csv('output_csv/SPL_Dataframe_Yeast_score.csv', index_col=0)\n",
    "# DM_m_ = pd.read_csv('output_csv/RWR_Dataframe_Yeast_score.csv', index_col=0)\n",
    "# DM_eucl = pd.read_csv('output_csv/PW_eucl_Dataframe_Yeast_score.csv', index_col=0)"
   ]
  },
  {
   "cell_type": "code",
   "execution_count": null,
   "metadata": {},
   "outputs": [],
   "source": [
    "max_value = list(DM_spl.max())[0]\n",
    "DM_spl_mod = DM_spl.fillna(max_value)\n",
    "\n",
    "DM_spl = DM_spl_mod"
   ]
  },
  {
   "cell_type": "markdown",
   "metadata": {},
   "source": [
    "____________\n",
    "# VISUALIZATION SETTINGS"
   ]
  },
  {
   "cell_type": "markdown",
   "metadata": {},
   "source": [
    "### Size parameter"
   ]
  },
  {
   "cell_type": "code",
   "execution_count": 14,
   "metadata": {},
   "outputs": [],
   "source": [
    "node_factor = 1\n",
    "size = draw_node_degree(G, node_factor) # node size based on degree\n",
    "#size = 15\n",
    "\n",
    "edge_color = 'grey'\n",
    "edge_width = 0.1\n",
    "\n",
    "opacity_nodes = 0.6\n",
    "opacity_edges = 0.3\n",
    "node_edge_col = 'dimgrey'"
   ]
  },
  {
   "cell_type": "markdown",
   "metadata": {},
   "source": [
    "### Colour parameters"
   ]
  },
  {
   "cell_type": "markdown",
   "metadata": {},
   "source": [
    "+ HUBS COLOR"
   ]
  },
  {
   "cell_type": "code",
   "execution_count": null,
   "metadata": {},
   "outputs": [],
   "source": [
    "# NODE COLORS based on HUBS \n",
    "\n",
    "colours = colorfactor_majornodes(G, d_hub_nodes)\n",
    "edge_color = colorfactor_majornodes_outgoingedges(G, d_hub_nodes)"
   ]
  },
  {
   "cell_type": "markdown",
   "metadata": {},
   "source": [
    "+ ESSENTIALITY COLOR "
   ]
  },
  {
   "cell_type": "code",
   "execution_count": null,
   "metadata": {},
   "outputs": [],
   "source": [
    "# NODE COLORS based on Essentiality \n",
    "\n",
    "ess_col = 'steelblue' # 'rgba(66, 117, 154, 0.6)'\n",
    "no_ess_col = 'lightsteelblue' # 'rgba(162, 193, 216, 0.6)'\n",
    "\n",
    "essentials = list(ess_id)\n",
    "nonessentials = list(no_ess_id)\n",
    "\n",
    "colours = color_essentiality_nodes(G, essentials, nonessentials, ess_col, no_ess_col)\n",
    "edge_color = color_essentiality_edges(G, essentials, nonessentials, ess_col, no_ess_col)"
   ]
  },
  {
   "cell_type": "markdown",
   "metadata": {},
   "source": [
    "+ CLOSENESS CENTRALITY COLOR "
   ]
  },
  {
   "cell_type": "code",
   "execution_count": 15,
   "metadata": {},
   "outputs": [],
   "source": [
    "# Define colour parameter\n",
    "d_to_be_coloured = d_clos # dict sorted by dict.values (that way the biggest value matches darkest colour of palette)\n",
    "\n",
    "\n",
    "# Colouring\n",
    "colour_groups = set(d_to_be_coloured.values())\n",
    "colour_count = len(colour_groups)\n",
    "palette = sns.color_palette('Reds', colour_count)\n",
    "\n",
    "d_colourgroups = {}\n",
    "for n in colour_groups:\n",
    "    d_colourgroups[n] = [k for k in d_to_be_coloured.keys() if d_to_be_coloured[k] == n]\n",
    "    \n",
    "d_colourgroups_sorted = {key:d_colourgroups[key] for key in sorted(d_colourgroups.keys())}\n",
    "\n",
    "d_val_col = {}\n",
    "for idx,val in enumerate(d_colourgroups_sorted):\n",
    "    for ix,v in enumerate(palette):\n",
    "        if idx == ix:\n",
    "            d_val_col[val] = v\n",
    "d_node_colour = {}\n",
    "for y in d_to_be_coloured.items(): # y[0] = node id, y[1] = val\n",
    "    for x in d_val_col.items(): # x[0] = val, x[1] = (col,col,col)\n",
    "        if x[0] == y[1]:\n",
    "            d_node_colour[y[0]]=x[1]\n",
    "            \n",
    "# SORT dict based on G.nodes\n",
    "d_node_colour_sorted = dict([(key, d_node_colour[key]) for key in G.nodes()])\n",
    "\n",
    "l_col_clos = list(d_node_colour_sorted.values())\n",
    "\n",
    "colours = l_col_clos "
   ]
  },
  {
   "cell_type": "markdown",
   "metadata": {},
   "source": [
    "# 2D PORTRAITS"
   ]
  },
  {
   "cell_type": "markdown",
   "metadata": {},
   "source": [
    "#### 2D SPRING"
   ]
  },
  {
   "cell_type": "code",
   "execution_count": null,
   "metadata": {},
   "outputs": [],
   "source": [
    "%%time\n",
    "\n",
    "posG_spring = nx.spring_layout(G)\n",
    "\n",
    "plt.figure(figsize=(18,18))\n",
    "plt.title('Organic spring', size=16)\n",
    "plt.box(False)\n",
    "nx.draw_networkx_nodes(G, posG_spring,\n",
    "                       edgecolors = node_edge_col, \n",
    "                       linewidths = 0.5, \n",
    "                       node_color='lightgrey', node_size=1)\n",
    "nx.draw_networkx_edges(G, pos = posG_spring, width = edge_width, edge_color = 'lightgrey', alpha = opacity_edges)\n",
    "print('Network: ', organism)\n",
    "print('Number of Nodes:', len(G.nodes()))\n",
    "\n",
    "plt.savefig('output_plots/Organic_spring_layout2D_'+organism+'.png')\n",
    "plt.show()"
   ]
  },
  {
   "cell_type": "markdown",
   "metadata": {},
   "source": [
    "### tSNE EMBEDDING 2D"
   ]
  },
  {
   "cell_type": "code",
   "execution_count": 20,
   "metadata": {},
   "outputs": [],
   "source": [
    "prplxty = 50 # range: 5-50 / default = 30\n",
    "density = 1.2 # default 12.\n",
    "l_rate = 5000 # default 200.\n",
    "steps = 1000 # min 250\n",
    "metric = 'euclidean'"
   ]
  },
  {
   "cell_type": "code",
   "execution_count": null,
   "metadata": {},
   "outputs": [],
   "source": [
    "%%time\n",
    "tsne_adj = embed_tsne_2D(DM_adj, prplxty, density, l_rate, steps, metric)\n",
    "posG_tsne_adj = get_posG(G,tsne_adj)"
   ]
  },
  {
   "cell_type": "code",
   "execution_count": null,
   "metadata": {},
   "outputs": [],
   "source": [
    "%%time\n",
    "tsne_spl = embed_tsne_2D(DM_spl, prplxty, density, l_rate, steps, metric)\n",
    "posG_tsne_spl = get_posG(G,tsne_spl)"
   ]
  },
  {
   "cell_type": "code",
   "execution_count": null,
   "metadata": {},
   "outputs": [],
   "source": [
    "%%time\n",
    "tsne_m = embed_tsne_2D(DM_m.T, prplxty, density, l_rate, steps, metric)\n",
    "posG_tsne_m = get_posG(G,tsne_m)"
   ]
  },
  {
   "cell_type": "code",
   "execution_count": 21,
   "metadata": {},
   "outputs": [
    {
     "name": "stdout",
     "output_type": "stream",
     "text": [
      "CPU times: user 4min 42s, sys: 22.2 s, total: 5min 4s\n",
      "Wall time: 1min 31s\n"
     ]
    }
   ],
   "source": [
    "%%time\n",
    "tsne_eucl = embed_tsne_2D(DM_eucl, prplxty, density, l_rate, steps, metric)\n",
    "posG_tsne_eucl = get_posG(G,tsne_eucl)"
   ]
  },
  {
   "cell_type": "markdown",
   "metadata": {},
   "source": [
    "### 2D tSNE PORTRAITS"
   ]
  },
  {
   "cell_type": "code",
   "execution_count": null,
   "metadata": {},
   "outputs": [],
   "source": [
    "plt.figure(figsize=(25,25))\n",
    "plt.title('Adj | t-SNE | Metric: '+ metric, size= 16)\n",
    "\n",
    "nx.draw_networkx_nodes(G, posG_tsne_adj, edgecolors = node_edge_col, linewidths = 0.5, node_color=colours, node_size=size, alpha = opacity_nodes)\n",
    "nx.draw_networkx_edges(G, pos = posG_tsne_adj, width = edge_width, edge_color = edge_color, alpha = opacity_edges)\n",
    "#nx.draw_networkx_labels(G, pos = posG_adj, font_size = fontsize_labels, font_color = 'black')\n",
    "plt.box(False)\n",
    "\n",
    "plt.savefig('output_plots/2Dtsne_adj_'+metric+'_'+organism+'.png')\n",
    "\n",
    "plt.show()"
   ]
  },
  {
   "cell_type": "code",
   "execution_count": null,
   "metadata": {},
   "outputs": [],
   "source": [
    "plt.figure(figsize=(25,25))\n",
    "plt.title('SPL | t-SNE | Metric: '+ metric, size=16)\n",
    "\n",
    "nx.draw_networkx_nodes(G, posG_tsne_spl, edgecolors = node_edge_col, linewidths = 0.5, node_color=colours, node_size=size, alpha = opacity_nodes)\n",
    "nx.draw_networkx_edges(G, pos = posG_tsne_spl, width = edge_width, edge_color = edge_color, alpha = opacity_edges)\n",
    "#nx.draw_networkx_labels(G, pos = posG_spl, font_size = fontsize_labels, font_color = 'black')\n",
    "plt.box(False)\n",
    "\n",
    "plt.savefig('output_plots/2Dtsne_spl_'+metric+'_'+organism+'.png')\n",
    "\n",
    "plt.show()"
   ]
  },
  {
   "cell_type": "code",
   "execution_count": null,
   "metadata": {},
   "outputs": [],
   "source": [
    "plt.figure(figsize=(25,25))\n",
    "plt.title('Markov | t-SNE | Metric: '+metric, size=16)\n",
    "\n",
    "nx.draw_networkx_nodes(G, posG_tsne_m, edgecolors = node_edge_col, linewidths = 0.5, node_color=colours, node_size=size, alpha = opacity_nodes)\n",
    "nx.draw_networkx_edges(G, pos = posG_tsne_m, width = edge_width, edge_color = edge_color, alpha = opacity_edges)\n",
    "plt.box(False)\n",
    "\n",
    "plt.savefig('output_plots/2Dtsne_m_'+metric+'_'+ organism +'.png')\n",
    "\n",
    "plt.show()"
   ]
  },
  {
   "cell_type": "code",
   "execution_count": null,
   "metadata": {},
   "outputs": [],
   "source": [
    "plt.figure(figsize=(25,25))\n",
    "plt.title('PDist euclidean | t-SNE | Metric: '+metric, size=16)\n",
    "\n",
    "nx.draw_networkx_nodes(G, posG_tsne_eucl, edgecolors = node_edge_col, linewidths = 0.5, node_color=colours, node_size=size, alpha = opacity_nodes)\n",
    "nx.draw_networkx_edges(G, pos = posG_tsne_eucl, width = edge_width, edge_color = edge_color, alpha = opacity_edges)\n",
    "plt.box(False)\n",
    "\n",
    "plt.savefig('output_plots/2Dtsne_eucl_'+metric+'_'+organism+'.png')\n",
    "\n",
    "plt.show()"
   ]
  },
  {
   "cell_type": "markdown",
   "metadata": {},
   "source": [
    "### UMAP EMBEDDING 2D \n",
    "+https://umap-learn.readthedocs.io/en/latest/embedding_space.html"
   ]
  },
  {
   "cell_type": "code",
   "execution_count": 26,
   "metadata": {},
   "outputs": [],
   "source": [
    "n_neighbors = 10 # balance between local and global structure in the data\n",
    "spread = 2.\n",
    "min_dist = 0.5 # defines how dense points are stacked together \n",
    "n_components = 2 # for 2D\n",
    "\n",
    "U = umap.UMAP(\n",
    "        n_neighbors = n_neighbors,\n",
    "        spread = spread,\n",
    "        min_dist = min_dist,\n",
    "        n_components = n_components,\n",
    "        metric = metric)"
   ]
  },
  {
   "cell_type": "code",
   "execution_count": null,
   "metadata": {},
   "outputs": [],
   "source": [
    "%%time \n",
    "umap_adj = U.fit_transform(DM_adj)\n",
    "posG_umap_adj = get_posG(G,umap_adj)"
   ]
  },
  {
   "cell_type": "code",
   "execution_count": null,
   "metadata": {},
   "outputs": [],
   "source": [
    "%%time \n",
    "umap_spl = U.fit_transform(DM_spl)\n",
    "posG_umap_spl = get_posG(G,umap_spl)"
   ]
  },
  {
   "cell_type": "code",
   "execution_count": null,
   "metadata": {},
   "outputs": [],
   "source": [
    "%%time \n",
    "umap_m = U.fit_transform(DM_m)\n",
    "posG_umap_m = get_posG(G, umap_m)"
   ]
  },
  {
   "cell_type": "code",
   "execution_count": 27,
   "metadata": {},
   "outputs": [
    {
     "name": "stderr",
     "output_type": "stream",
     "text": [
      "/opt/anaconda3/lib/python3.7/site-packages/numba/np/ufunc/parallel.py:355: NumbaWarning:\n",
      "\n",
      "The TBB threading layer requires TBB version 2019.5 or later i.e., TBB_INTERFACE_VERSION >= 11005. Found TBB_INTERFACE_VERSION = 11000. The TBB threading layer is disabled.\n",
      "\n"
     ]
    },
    {
     "name": "stdout",
     "output_type": "stream",
     "text": [
      "CPU times: user 35.1 s, sys: 1.28 s, total: 36.4 s\n",
      "Wall time: 19.3 s\n"
     ]
    }
   ],
   "source": [
    "%%time \n",
    "umap_eucl = U.fit_transform(DM_eucl)\n",
    "posG_umap_eucl = get_posG(G, umap_eucl)"
   ]
  },
  {
   "cell_type": "markdown",
   "metadata": {},
   "source": [
    "### 2D UMAP PORTRAITS"
   ]
  },
  {
   "cell_type": "code",
   "execution_count": null,
   "metadata": {},
   "outputs": [],
   "source": [
    "plt.figure(figsize=(25,25))\n",
    "plt.title('Adj | UMAP | Metric: '+metric, size=16)\n",
    "\n",
    "nx.draw_networkx_nodes(G, posG_umap_adj, edgecolors = node_edge_col, linewidths = 0.5, node_color=colours, node_size=size, alpha = opacity_nodes)\n",
    "nx.draw_networkx_edges(G, pos = posG_umap_adj, width = edge_width, edge_color = edge_color, alpha = opacity_edges)\n",
    "#nx.draw_networkx_labels(G, pos = posG_umap_adj, font_size = fontsize_labels, font_color = 'black')\n",
    "plt.box(False)\n",
    "\n",
    "plt.savefig('output_plots/2Dumap_adj_'+metric+'_'+organism+'.png')\n",
    "\n",
    "plt.show()"
   ]
  },
  {
   "cell_type": "code",
   "execution_count": null,
   "metadata": {},
   "outputs": [],
   "source": [
    "plt.figure(figsize=(25,25))\n",
    "plt.title('SPL | UMAP | Metric: '+metric, size=16)\n",
    "\n",
    "nx.draw_networkx_nodes(G, posG_umap_spl, edgecolors = node_edge_col, linewidths = 0.5, node_color=colours, node_size=size, alpha = opacity_nodes)\n",
    "nx.draw_networkx_edges(G, pos = posG_umap_spl, width = edge_width, edge_color = edge_color, alpha = opacity_edges)\n",
    "#nx.draw_networkx_labels(G, pos = posG_umap_spl, font_size = fontsize_labels, font_color = 'black')\n",
    "plt.box(False)\n",
    "\n",
    "plt.savefig('output_plots/2Dumap_spl_'+metric+'_'+organism+'.png')\n",
    "\n",
    "plt.show()"
   ]
  },
  {
   "cell_type": "code",
   "execution_count": null,
   "metadata": {},
   "outputs": [],
   "source": [
    "plt.figure(figsize=(25,25))\n",
    "plt.title('Markov | UMAP | Metric: '+metric, size=16)\n",
    "\n",
    "nx.draw_networkx_nodes(G, posG_umap_m, edgecolors = node_edge_col, linewidths = 0.5, node_color=colours, node_size=size, alpha = opacity_nodes)\n",
    "nx.draw_networkx_edges(G, pos = posG_umap_m, width = edge_width, edge_color = edge_color, alpha = opacity_edges)\n",
    "#nx.draw_networkx_labels(G, pos = posG_umap_spl, font_size = fontsize_labels, font_color = 'black')\n",
    "plt.box(False)\n",
    "\n",
    "plt.savefig('output_plots/2Dumap_m_'+metric+'_'+organism+'.png')\n",
    "\n",
    "plt.show()"
   ]
  },
  {
   "cell_type": "code",
   "execution_count": null,
   "metadata": {},
   "outputs": [],
   "source": [
    "plt.figure(figsize=(25,25))\n",
    "plt.title('PW dist EUCLIDEAN | UMAP | Metric: '+metric, size=16)\n",
    "\n",
    "nx.draw_networkx_nodes(G, posG_umap_eucl, edgecolors = node_edge_col, linewidths = 0.5, node_color=colours, node_size=size, alpha = 1)\n",
    "nx.draw_networkx_edges(G, pos = posG_umap_eucl, width = edge_width, edge_color = edge_color, alpha = opacity_edges)\n",
    "#nx.draw_networkx_labels(G, pos = posG_umap_spl, font_size = fontsize_labels, font_color = 'black')\n",
    "plt.box(False)\n",
    "\n",
    "plt.savefig('output_plots/2Dumap_eucl_'+metric+'_'+organism+'.png')\n",
    "\n",
    "plt.show()"
   ]
  },
  {
   "cell_type": "markdown",
   "metadata": {},
   "source": [
    "# LANDSCAPES"
   ]
  },
  {
   "cell_type": "code",
   "execution_count": 63,
   "metadata": {},
   "outputs": [],
   "source": [
    "#dict_z = {key:d_essentiality_scores[key] for key in G.nodes()}\n",
    "dict_z = {key:d_clos[key] for key in G.nodes()}\n",
    "\n",
    "z_list = list(dict_z.values())"
   ]
  },
  {
   "cell_type": "code",
   "execution_count": 17,
   "metadata": {},
   "outputs": [],
   "source": [
    "node_factor = 20 # node size factor\n",
    "size3d = draw_node_degree_3D(G, node_factor) # node size based on degree\n",
    "#size3d = 5"
   ]
  },
  {
   "cell_type": "markdown",
   "metadata": {},
   "source": [
    "### tSNE"
   ]
  },
  {
   "cell_type": "code",
   "execution_count": null,
   "metadata": {},
   "outputs": [],
   "source": [
    "%%time\n",
    "\n",
    "tsne_adj_x, tsne_adj_y, tsne_adj_z = get_coords_landscape(G, posG_tsne_adj)\n",
    "tsne_adj_trace_z = get_trace_nodes_landscape(tsne_adj_x, tsne_adj_y, z_list, colours, size3d)\n",
    "tsne_data_adj = [tsne_adj_trace_z] #,adj_edges]"
   ]
  },
  {
   "cell_type": "code",
   "execution_count": null,
   "metadata": {},
   "outputs": [],
   "source": [
    "%%time\n",
    "\n",
    "tsne_spl_x, tsne_spl_y, tsne_spl_z = get_coords_landscape(G, posG_tsne_spl)\n",
    "tsne_spl_trace_z = get_trace_nodes_landscape(tsne_spl_x, tsne_spl_y, z_list, colours, size3d)\n",
    "tsne_data_spl = [tsne_spl_trace_z] #, spl_edges]%%time"
   ]
  },
  {
   "cell_type": "code",
   "execution_count": null,
   "metadata": {},
   "outputs": [],
   "source": [
    "%%time\n",
    "\n",
    "tsne_m_x, tsne_m_y, tsne_m_z = get_coords_landscape(G, posG_tsne_m)\n",
    "tsne_m_trace_z = get_trace_nodes_landscape(tsne_m_x, tsne_m_y, z_list, colours, size3d)\n",
    "tsne_data_m = [tsne_m_trace_z] #,mlog_edges]"
   ]
  },
  {
   "cell_type": "code",
   "execution_count": 22,
   "metadata": {},
   "outputs": [
    {
     "name": "stdout",
     "output_type": "stream",
     "text": [
      "CPU times: user 1.41 s, sys: 347 ms, total: 1.76 s\n",
      "Wall time: 1.13 s\n"
     ]
    }
   ],
   "source": [
    "%%time \n",
    "\n",
    "tsne_eucl_x, tsne_eucl_y, tsne_eucl_z = get_coords_landscape(G, posG_tsne_eucl)\n",
    "tsne_eucl_trace_z = get_trace_nodes_landscape(tsne_eucl_x, tsne_eucl_y, z_list, colours, size3d)\n",
    "tsne_data_eucl = [tsne_eucl_trace_z] #,eucl_edges]"
   ]
  },
  {
   "cell_type": "code",
   "execution_count": null,
   "metadata": {},
   "outputs": [],
   "source": [
    "print('Perplexity:', prplxty)\n",
    "print('Early Exaggeration:', density)\n",
    "print('Learning rate:', l_rate)\n",
    "print('Iterations:', steps)\n",
    "\n",
    "\n",
    "fig_1 = make_subplots(rows = 1, cols = 4,\n",
    "                    specs=[4 * [{'type': 'scatter3d'}]],\n",
    "                    print_grid=False, subplot_titles=('Adjacency | t-SNE | Metric: '+ metric, \n",
    "                                                     'SPL | t-SNE | Metric: '+ metric,\n",
    "                                                     'Markov | t-SNE | Metric: '+ metric,\n",
    "                                                      'PW Euclidean | tSNE | Metric: '+ metric)\n",
    "                    )\n",
    "\n",
    "    \n",
    "for i in tsne_data_adj:\n",
    "    fig_1.add_trace(i, row = 1, col = 1)\n",
    "\n",
    "\n",
    "for i in tsne_data_spl:\n",
    "    fig_1.add_trace(i, row = 1, col = 2)\n",
    "    \n",
    "for i in tsne_data_m:\n",
    "    fig_1.add_trace(i, row = 1, col = 3)\n",
    "\n",
    "for i in tsne_data_eucl:\n",
    "    fig_1.add_trace(i, row = 1, col = 4)\n",
    "\n",
    "fig_1.update_layout(template='plotly_dark', height = 1000, width = 2200)\n",
    "#fig_1.update_layout(template=None, height = 1000, width = 2200)\n",
    "py.iplot(fig_1)\n",
    "\n",
    "plotly.offline.plot(fig_1, filename = 'output_plots/Landscapes_tsne_'+metric+'_'+organism+'.html', auto_open=False)"
   ]
  },
  {
   "cell_type": "markdown",
   "metadata": {},
   "source": [
    "### UMAP"
   ]
  },
  {
   "cell_type": "code",
   "execution_count": null,
   "metadata": {},
   "outputs": [],
   "source": [
    "%%time\n",
    "\n",
    "umap_adj_x, umap_adj_y, umap_adj_z = get_coords_landscape(G, posG_umap_adj)\n",
    "umap_adj_trace_z = get_trace_nodes_landscape(umap_adj_x, umap_adj_y, z_list, colours, size3d)\n",
    "umap_data_adj = [umap_adj_trace_z]"
   ]
  },
  {
   "cell_type": "code",
   "execution_count": null,
   "metadata": {},
   "outputs": [],
   "source": [
    "%%time\n",
    "\n",
    "umap_spl_x, umap_spl_y, umap_spl_z = get_coords_landscape(G, posG_umap_spl)\n",
    "umap_spl_trace_z = get_trace_nodes_landscape(umap_spl_x, umap_spl_y, z_list, colours, size3d)\n",
    "umap_data_spl = [umap_spl_trace_z]"
   ]
  },
  {
   "cell_type": "code",
   "execution_count": null,
   "metadata": {},
   "outputs": [],
   "source": [
    "%%time\n",
    "\n",
    "umap_m_x, umap_m_y, umap_m_z = get_coords_landscape(G, posG_umap_m)\n",
    "umap_m_trace_z = get_trace_nodes_landscape(umap_m_x, umap_m_y, z_list, colours, size3d)\n",
    "umap_data_m = [umap_m_trace_z]"
   ]
  },
  {
   "cell_type": "code",
   "execution_count": 28,
   "metadata": {},
   "outputs": [
    {
     "name": "stdout",
     "output_type": "stream",
     "text": [
      "CPU times: user 924 ms, sys: 17 ms, total: 941 ms\n",
      "Wall time: 945 ms\n"
     ]
    }
   ],
   "source": [
    "%%time\n",
    "\n",
    "umap_eucl_x, umap_eucl_y, umap_eucl_z = get_coords_landscape(G, posG_umap_eucl)\n",
    "umap_eucl_trace_z = get_trace_nodes_landscape(umap_eucl_x, umap_eucl_y, z_list, colours, size3d)\n",
    "umap_data_eucl = [umap_eucl_trace_z]"
   ]
  },
  {
   "cell_type": "code",
   "execution_count": null,
   "metadata": {},
   "outputs": [],
   "source": [
    "print('# Neighbors: ', n_neighbors)\n",
    "print('Spread: ', spread)\n",
    "print('Min. Distance: ', min_dist)\n",
    "print('Metric: ', metric)\n",
    "\n",
    "\n",
    "fig_1 = make_subplots(rows = 1, cols = 4,\n",
    "                    specs=[4 * [{'type': 'scatter3d'}]],\n",
    "                    print_grid=False, subplot_titles=('Adjacency | UMAP | Metric: '+ metric, \n",
    "                                                     'SPL | UMAP | Metric: '+ metric,\n",
    "                                                     'Markov | UMAP | Metric: '+ metric,\n",
    "                                                      'PW Euclidean | UMAP | Metric: '+ metric)\n",
    "                    )\n",
    "\n",
    "    \n",
    "for i in umap_data_adj:\n",
    "    fig_1.add_trace(i, row = 1, col = 1)\n",
    "\n",
    "\n",
    "for i in umap_data_spl:\n",
    "    fig_1.add_trace(i, row = 1, col = 2)\n",
    "    \n",
    "for i in umap_data_m:\n",
    "    fig_1.add_trace(i, row = 1, col = 3)\n",
    "\n",
    "for i in umap_data_eucl:\n",
    "    fig_1.add_trace(i, row = 1, col = 4)\n",
    "\n",
    "fig_1.update_layout(template='plotly_dark', height = 1000, width = 2200)\n",
    "#fig_1.update_layout(template=None, height = 1000, width = 2200,)\n",
    "py.iplot(fig_1)\n",
    "\n",
    "plotly.offline.plot(fig_1, filename = 'output_plots/Landscapes_umap_'+metric+'_'+organism+'.html', auto_open=False)"
   ]
  },
  {
   "cell_type": "markdown",
   "metadata": {},
   "source": [
    "### LANDSCAPE | EXPORT Coordinates x,y,z,rgba"
   ]
  },
  {
   "cell_type": "code",
   "execution_count": 34,
   "metadata": {},
   "outputs": [],
   "source": [
    "organism = 'Yeast'"
   ]
  },
  {
   "cell_type": "code",
   "execution_count": 64,
   "metadata": {},
   "outputs": [],
   "source": [
    "colours_r = []\n",
    "colours_g = []\n",
    "colours_b = []\n",
    "colours_a = []\n",
    "for i in colours:\n",
    "    colours_r.append(i[0])\n",
    "    colours_g.append(i[1])\n",
    "    colours_b.append(i[2])\n",
    "    colours_a.append(0.9)"
   ]
  },
  {
   "cell_type": "code",
   "execution_count": 41,
   "metadata": {},
   "outputs": [],
   "source": [
    "df_xyz_landscape_tsne_eucl = pd.DataFrame(posG_tsne_eucl, index=[\"x\",\"y\"]).T\n",
    "df_xyz_landscape_tsne_eucl[\"z\"] = z_list"
   ]
  },
  {
   "cell_type": "code",
   "execution_count": 67,
   "metadata": {},
   "outputs": [],
   "source": [
    "df_xyz_landscape_tsne_eucl['r'] = colours_r\n",
    "df_xyz_landscape_tsne_eucl['g'] = colours_g\n",
    "df_xyz_landscape_tsne_eucl['b'] = colours_b\n",
    "df_xyz_landscape_tsne_eucl['a'] = colours_a"
   ]
  },
  {
   "cell_type": "code",
   "execution_count": 43,
   "metadata": {},
   "outputs": [],
   "source": [
    "df_xyz_landscape_umap_eucl = pd.DataFrame(posG_umap_eucl, index=[\"x\",\"y\"]).T\n",
    "df_xyz_landscape_umap_eucl[\"z\"] = z_list"
   ]
  },
  {
   "cell_type": "code",
   "execution_count": 65,
   "metadata": {},
   "outputs": [],
   "source": [
    "df_xyz_landscape_umap_eucl['r'] = colours_r\n",
    "df_xyz_landscape_umap_eucl['g'] = colours_g\n",
    "df_xyz_landscape_umap_eucl['b'] = colours_b\n",
    "df_xyz_landscape_umap_eucl['a'] = colours_a"
   ]
  },
  {
   "cell_type": "code",
   "execution_count": 69,
   "metadata": {},
   "outputs": [],
   "source": [
    "df_xyz_landscape_tsne_eucl.to_csv(r'output_csv/Landscape_tsne_XYZ_PW_eucl_Dataframe_'+organism+'.csv', index = True)\n",
    "df_xyz_landscape_umap_eucl.to_csv(r'output_csv/Landscape_umap_XYZ_PW_eucl_Dataframe_'+organism+'.csv', index = True)"
   ]
  },
  {
   "cell_type": "markdown",
   "metadata": {},
   "source": [
    "____________\n",
    "# 3D"
   ]
  },
  {
   "cell_type": "markdown",
   "metadata": {},
   "source": [
    "### 3D Visualization Settings"
   ]
  },
  {
   "cell_type": "code",
   "execution_count": null,
   "metadata": {},
   "outputs": [],
   "source": [
    "node_factor = 20\n",
    "size3d = draw_node_degree_3D(G, node_factor) # node size based on degree \n",
    "\n",
    "edge_color = 'grey'\n",
    "#edge_color = 'dimgrey'"
   ]
  },
  {
   "cell_type": "markdown",
   "metadata": {},
   "source": [
    "## SPRING"
   ]
  },
  {
   "cell_type": "code",
   "execution_count": null,
   "metadata": {},
   "outputs": [],
   "source": [
    "%%time \n",
    "\n",
    "#Fruchterman-Reingold force-directed algorithm\n",
    "posG3d_spring = nx.spring_layout(G, dim=3)\n",
    "\n",
    "spring_edges = get_trace_edges(G, posG3d_spring, edge_color) \n",
    "spring_nodes = get_trace_nodes(G, posG3d_spring,  l_features, colours, size3d)\n",
    "data_spring = [spring_edges, spring_nodes]\n",
    "\n",
    "fig_ = pgo.Figure()\n",
    "for i in data_spring:\n",
    "    fig_.add_trace(i)\n",
    "fig_.update_layout(template = None, height = 800, width = 800)\n",
    "py.iplot(fig_)\n",
    "plotly.offline.plot(fig_, filename = 'output_plots/3DSpring_'+organism+'.html', auto_open=False)"
   ]
  },
  {
   "cell_type": "markdown",
   "metadata": {},
   "source": [
    "## PORTRAITS"
   ]
  },
  {
   "cell_type": "code",
   "execution_count": null,
   "metadata": {},
   "outputs": [],
   "source": [
    "prplxty3d = 50 # range: 5-50 / default = 30.#\n",
    "density3d = 1.2 # default 12.\n",
    "l_rate3d = 5000 # default 200.\n",
    "steps3d = 1000 #min 250\n",
    "\n",
    "metric = 'euclidean'"
   ]
  },
  {
   "cell_type": "markdown",
   "metadata": {},
   "source": [
    "#### tSNE"
   ]
  },
  {
   "cell_type": "code",
   "execution_count": null,
   "metadata": {},
   "outputs": [],
   "source": [
    "%%time\n",
    "tsne_posG3d_adj = embed_tsne_3D(G, DM_adj, prplxty3d, density3d, l_rate3d, steps3d, metric)"
   ]
  },
  {
   "cell_type": "code",
   "execution_count": null,
   "metadata": {},
   "outputs": [],
   "source": [
    "%%time\n",
    "tsne_posG3d_spl = embed_tsne_3D(G, DM_spl, prplxty3d, density3d, l_rate3d, steps3d, metric)"
   ]
  },
  {
   "cell_type": "code",
   "execution_count": null,
   "metadata": {},
   "outputs": [],
   "source": [
    "%%time\n",
    "tsne_posG3d_m = embed_tsne_3D(G, DM_m, prplxty3d, density3d, l_rate3d, steps3d, metric)"
   ]
  },
  {
   "cell_type": "code",
   "execution_count": null,
   "metadata": {},
   "outputs": [],
   "source": [
    "%%time\n",
    "tsne_posG3d_eucl = embed_tsne_3D(G, DM_eucl, prplxty3d, density3d, l_rate3d, steps3d)"
   ]
  },
  {
   "cell_type": "code",
   "execution_count": null,
   "metadata": {},
   "outputs": [],
   "source": [
    "%%time \n",
    "\n",
    "tsne_adj_edges = get_trace_edges(G, tsne_posG3d_adj, edge_color) \n",
    "tsne_adj_nodes = get_trace_nodes(G, tsne_posG3d_adj,  l_features, colours, size3d)\n",
    "tsne_data_adj = [tsne_adj_edges, tsne_adj_nodes]"
   ]
  },
  {
   "cell_type": "code",
   "execution_count": null,
   "metadata": {},
   "outputs": [],
   "source": [
    "%%time \n",
    "\n",
    "tsne_spl_edges = get_trace_edges(G, tsne_posG3d_spl, edge_color) \n",
    "tsne_spl_nodes = get_trace_nodes(G, tsne_posG3d_spl,  l_features, colours, size3d)\n",
    "tsne_data_spl = [tsne_spl_edges, tsne_spl_nodes]"
   ]
  },
  {
   "cell_type": "code",
   "execution_count": null,
   "metadata": {},
   "outputs": [],
   "source": [
    "%%time\n",
    "\n",
    "tsne_m_edges = get_trace_edges(G, tsne_posG3d_m, edge_color) \n",
    "tsne_m_nodes = get_trace_nodes(G, tsne_posG3d_m, l_features, colours, size3d)\n",
    "tsne_data_m = [tsne_m_edges, tsne_m_nodes]"
   ]
  },
  {
   "cell_type": "code",
   "execution_count": null,
   "metadata": {},
   "outputs": [],
   "source": [
    "%%time\n",
    "\n",
    "tsne_eucl_edges = get_trace_edges(G, tsne_posG3d_eucl, edge_color) \n",
    "tsne_eucl_nodes = get_trace_nodes(G, tsne_posG3d_eucl,l_features, colours, size3d)\n",
    "tsne_data_eucl = [tsne_eucl_edges, tsne_eucl_nodes]"
   ]
  },
  {
   "cell_type": "code",
   "execution_count": null,
   "metadata": {},
   "outputs": [],
   "source": [
    "print('Perplexity:', prplxty3d)\n",
    "print('Early Exaggeration:', density3d)\n",
    "print('Learning rate:', l_rate3d)\n",
    "print('Iterations:', steps3d)\n",
    "\n",
    "\n",
    "fig1 = make_subplots(rows = 1, cols = 4,\n",
    "                    specs=[4 * [{'type': 'scatter3d'}]],\n",
    "                    print_grid=False, subplot_titles=('Adjacency | tSNE | Metric: '+metric, \n",
    "                                                     'SPL | tSNE | Metric: '+metric,\n",
    "                                                     'RWR | tSNE | Metric: '+metric,\n",
    "                                                     'PW Euclidean | tSNE | Metric: '+metric)\n",
    "                    )\n",
    "\n",
    "    \n",
    "for i in tsne_data_adj:\n",
    "    fig1.add_trace(i, row = 1, col = 1)\n",
    "    \n",
    "#for i in tsne_data_spl:\n",
    "#    fig1.add_trace(i, row = 1, col = 2)\n",
    "    \n",
    "for i in tsne_data_m:\n",
    "    fig1.add_trace(i, row = 1, col = 3)\n",
    "\n",
    "for i in tsne_data_eucl:\n",
    "    fig1.add_trace(i, row = 1, col = 4)\n",
    "\n",
    "#fig1.update_layout(template=None, showlegend = False, width = 2000, height = 800)\n",
    "fig1.update_layout(template='plotly_dark', showlegend = False, width = 2000, height = 800)\n",
    "py.iplot(fig1)\n",
    "\n",
    "plotly.offline.plot(fig1, filename = 'output_plots/3Dportrait_tsne_'+metric+'_'+organism+'.html', auto_open=False)"
   ]
  },
  {
   "cell_type": "markdown",
   "metadata": {},
   "source": [
    "#### tSNE PORTRAIT EXPORT Coordinates"
   ]
  },
  {
   "cell_type": "code",
   "execution_count": null,
   "metadata": {},
   "outputs": [],
   "source": [
    "'''\n",
    "organism = 'Yeast'\n",
    "\n",
    "\n",
    "colours_rgba = []\n",
    "for i in colours: \n",
    "    if i == ess_col:\n",
    "        colours_rgba.append('rgba(66, 117, 154, 0.6)')\n",
    "    elif i == no_ess_col:\n",
    "        colours_rgba.append('rgba(162, 193, 216, 0.6)')\n",
    "    else:\n",
    "        colours_rgba.append('rgba(0,0,0,0.4)')\n",
    "        \n",
    "        \n",
    "#df_xyz_rgba_3Dspring = pd.DataFrame(posG3d_spring, index=[\"x\",\"y\",\"z\"]).T\n",
    "#df_xyz_rgba_3Dspring['color'] = colours_rgba\n",
    "\n",
    "df_xyz_rgba_3Dadj = pd.DataFrame(tsne_posG3d_adj, index=[\"x\",\"y\",\"z\"]).T\n",
    "df_xyz_rgba_3Dadj['color'] = colours_rgba\n",
    "\n",
    "df_xyz_rgba_3Dspl = pd.DataFrame(tsne_posG3d_spl, index=[\"x\",\"y\",\"z\"]).T\n",
    "df_xyz_rgba_3Dspl['color'] = colours_rgba\n",
    "\n",
    "df_xyz_rgba_3Dm = pd.DataFrame(tsne_posG3d_m, index=[\"x\",\"y\",\"z\"]).T\n",
    "df_xyz_rgba_3Dm['color'] = colours_rgba\n",
    "\n",
    "df_xyz_rgba_3Deucl = pd.DataFrame(tsne_posG3d_eucl, index=[\"x\",\"y\",\"z\"]).T\n",
    "df_xyz_rgba_3Deucl['color'] = colours_rgba\n",
    "\n",
    "\n",
    "# -----------------------------------------------\n",
    "\n",
    "df_xyz_rgba_spring.to_csv(r'output_csv/3Dspring_XYZ_RGBA_'+organism+'.csv', index = True)\n",
    "\n",
    "df_xyz_rgba_3Dadj.to_csv(r'output_csv/3Dportrait_tsne_XYZ_RGBA_Adjacency_'+organism+'.csv', index = True)\n",
    "df_xyz_rgba_3Dspl.to_csv(r'output_csv/3Dportrait_tsne_XYZ_RGBA_SPL_'+organism+'.csv', index = True)\n",
    "df_xyz_rgba_3Dm.to_csv(r'output_csv/3Dportrait_tsne_XYZ_RGBA_RWR_'+organism+'.csv', index = True)\n",
    "df_xyz_rgba_3Deucl.to_csv(r'output_csv/3Dportrait_tsne_XYZ_RGBA_PW_eucl_'+organism+'.csv', index = True)\n",
    "'''"
   ]
  },
  {
   "cell_type": "markdown",
   "metadata": {},
   "source": [
    "#### UMAP"
   ]
  },
  {
   "cell_type": "code",
   "execution_count": null,
   "metadata": {},
   "outputs": [],
   "source": [
    "n_neighbors = 10 # balance between local and global structure in the data\n",
    "spread = 1.\n",
    "min_dist = 0.1 # defines how dense points are stacked together \n",
    "metric='euclidean'"
   ]
  },
  {
   "cell_type": "code",
   "execution_count": null,
   "metadata": {},
   "outputs": [],
   "source": [
    "%%time \n",
    "umap_posG3d_adj = embed_umap_3D(G, DM_adj, n_neighbors, spread, min_dist, metric)"
   ]
  },
  {
   "cell_type": "code",
   "execution_count": null,
   "metadata": {},
   "outputs": [],
   "source": [
    "%%time \n",
    "umap_posG3d_spl = embed_umap_3D(G, DM_spl, n_neighbors, spread, min_dist, metric)"
   ]
  },
  {
   "cell_type": "code",
   "execution_count": null,
   "metadata": {},
   "outputs": [],
   "source": [
    "%%time \n",
    "umap_posG3d_m = embed_umap_3D(G, DM_m, n_neighbors, spread, min_dist, metric)"
   ]
  },
  {
   "cell_type": "code",
   "execution_count": null,
   "metadata": {},
   "outputs": [],
   "source": [
    "%%time \n",
    "umap_posG3d_eucl = embed_umap_3D(G, DM_eucl, n_neighbors, spread, min_dist, metric)"
   ]
  },
  {
   "cell_type": "code",
   "execution_count": null,
   "metadata": {},
   "outputs": [],
   "source": [
    "%%time \n",
    "umap_adj_edges = get_trace_edges(G, umap_posG3d_adj, edge_color) \n",
    "umap_adj_nodes = get_trace_nodes(G, umap_posG3d_adj,  l_features, colours, size3d)\n",
    "umap_data_adj = [umap_adj_edges, umap_adj_nodes]"
   ]
  },
  {
   "cell_type": "code",
   "execution_count": null,
   "metadata": {},
   "outputs": [],
   "source": [
    "%%time \n",
    "umap_spl_edges = get_trace_edges(G, umap_posG3d_spl, edge_color) \n",
    "umap_spl_nodes = get_trace_nodes(G, umap_posG3d_spl,  l_features, colours, size3d)\n",
    "umap_data_spl = [umap_spl_edges, umap_spl_nodes]"
   ]
  },
  {
   "cell_type": "code",
   "execution_count": null,
   "metadata": {},
   "outputs": [],
   "source": [
    "%%time \n",
    "umap_m_edges = get_trace_edges(G, umap_posG3d_m, edge_color) \n",
    "umap_m_nodes = get_trace_nodes(G, umap_posG3d_m,  l_features, colours, size3d)\n",
    "umap_data_m = [umap_m_edges, umap_m_nodes]"
   ]
  },
  {
   "cell_type": "code",
   "execution_count": null,
   "metadata": {},
   "outputs": [],
   "source": [
    "%%time \n",
    "umap_eucl_edges = get_trace_edges(G, umap_posG3d_eucl, edge_color) \n",
    "umap_eucl_nodes = get_trace_nodes(G, umap_posG3d_eucl,  l_features, colours, size3d)\n",
    "umap_data_eucl = [umap_eucl_edges, umap_eucl_nodes]"
   ]
  },
  {
   "cell_type": "code",
   "execution_count": null,
   "metadata": {},
   "outputs": [],
   "source": [
    "print('# Neighbors: ', n_neighbors)\n",
    "print('Spread: ', spread)\n",
    "print('Min. Distance: ', min_dist)\n",
    "print('Metric: ', metric)\n",
    "\n",
    "fig1 = make_subplots(rows = 1, cols = 4,\n",
    "                    specs=[4 * [{'type': 'scatter3d'}]],\n",
    "                    print_grid=False, subplot_titles=('Adjacency | UMAP | Metric: '+metric, \n",
    "                                                     'SPL | UMAP | Metric: '+metric,\n",
    "                                                     'RWR | UMAP | Metric: '+metric,\n",
    "                                                     'PW Euclidean | UMAP | Metric: '+metric)\n",
    "                    )\n",
    "\n",
    "    \n",
    "for i in umap_data_adj:\n",
    "    fig1.add_trace(i, row = 1, col = 1)\n",
    "    \n",
    "for i in umap_data_spl:\n",
    "    fig1.add_trace(i, row = 1, col = 2)\n",
    "    \n",
    "for i in umap_data_m:\n",
    "    fig1.add_trace(i, row = 1, col = 3)\n",
    "\n",
    "for i in umap_data_eucl:\n",
    "    fig1.add_trace(i, row = 1, col = 4)\n",
    "\n",
    "fig1.update_layout(template='plotly_dark', showlegend = False, width = 2000, height = 800)\n",
    "#fig1.update_layout(template=None, showlegend = False, width = 2000, height = 800)\n",
    "py.iplot(fig1)\n",
    "\n",
    "plotly.offline.plot(fig1, filename = 'output_plots/3Dportrait_umap_'+metric+'_'+organism+'.html', auto_open=False)"
   ]
  },
  {
   "cell_type": "markdown",
   "metadata": {},
   "source": [
    "#### UMAP PORTRAIT Coordinates EXPORT"
   ]
  },
  {
   "cell_type": "code",
   "execution_count": null,
   "metadata": {},
   "outputs": [],
   "source": [
    "'''\n",
    "organism = 'Yeast'\n",
    "\n",
    "\n",
    "colours_rgba = []\n",
    "for i in colours: \n",
    "    if i == ess_col:\n",
    "        colours_rgba.append('rgba(66, 117, 154, 0.6)')\n",
    "    elif i == no_ess_col:\n",
    "        colours_rgba.append('rgba(162, 193, 216, 0.6)')\n",
    "    else:\n",
    "        colours_rgba.append('rgba(0,0,0,0.4)')\n",
    "        \n",
    "\n",
    "df_xyz_rgba_3Dadj = pd.DataFrame(umap_posG3d_adj, index=[\"x\",\"y\",\"z\"]).T\n",
    "df_xyz_rgba_3Dadj['color'] = colours_rgba\n",
    "\n",
    "df_xyz_rgba_3Dspl = pd.DataFrame(umap_posG3d_spl, index=[\"x\",\"y\",\"z\"]).T\n",
    "df_xyz_rgba_3Dspl['color'] = colours_rgba\n",
    "\n",
    "df_xyz_rgba_3Dmlog = pd.DataFrame(umap_posG3d_mlog, index=[\"x\",\"y\",\"z\"]).T\n",
    "df_xyz_rgba_3Dmlog['color'] = colours_rgba\n",
    "\n",
    "df_xyz_rgba_3Deucl = pd.DataFrame(umap_posG3d_eucl, index=[\"x\",\"y\",\"z\"]).T\n",
    "df_xyz_rgba_3Deucl['color'] = colours_rgba\n",
    "\n",
    "\n",
    "# -----------------------------------------------\n",
    "\n",
    "df_xyz_rgba_spring.to_csv(r'output_csv/3Dspring_XYZ_RGBA_'+organism+'.csv', index = True)\n",
    "\n",
    "df_xyz_rgba_3Dadj.to_csv(r'output_csv/3Dportrait_umap_XYZ_RGBA_Adjacency_'+organism+'.csv', index = True)\n",
    "df_xyz_rgba_3Dspl.to_csv(r'output_csv/3Dportraitumap_XYZ_RGBA_SPL_'+organism+'.csv', index = True)\n",
    "df_xyz_rgba_3Dmlog.to_csv(r'output_csv/3Dportraitumap_XYZ_RGBA_RWRlog_'+organism+'.csv', index = True)\n",
    "df_xyz_rgba_3Deucl.to_csv(r'output_csv/3Dportraitumap_XYZ_RGBA_PW_eucl_'+organism+'.csv', index = True)\n",
    "'''"
   ]
  },
  {
   "cell_type": "markdown",
   "metadata": {},
   "source": [
    "## SPHERE"
   ]
  },
  {
   "cell_type": "markdown",
   "metadata": {},
   "source": [
    "#### UMAP "
   ]
  },
  {
   "cell_type": "code",
   "execution_count": 50,
   "metadata": {},
   "outputs": [],
   "source": [
    "metric = 'euclidean'\n",
    "\n",
    "# Radius parameter\n",
    "d_param = d_essentiality_scores_sorted"
   ]
  },
  {
   "cell_type": "code",
   "execution_count": null,
   "metadata": {},
   "outputs": [],
   "source": [
    "%%time \n",
    "umap_sphere_adj = embed_umap_sphere(G, DM_adj, metric)\n",
    "umap_sphere_adj_withrad = get_posG_with_sphere_radius(G, umap_sphere_adj, d_param)"
   ]
  },
  {
   "cell_type": "code",
   "execution_count": null,
   "metadata": {},
   "outputs": [],
   "source": [
    "%%time \n",
    "umap_sphere_spl = embed_umap_sphere(G, DM_spl, metric)\n",
    "umap_sphere_spl_withrad = get_posG_with_sphere_radius(G, umap_sphere_spl, d_param)"
   ]
  },
  {
   "cell_type": "code",
   "execution_count": null,
   "metadata": {},
   "outputs": [],
   "source": [
    "%%time \n",
    "umap_sphere_m = embed_umap_sphere(G, DM_m, metric)\n",
    "umap_sphere_m_withrad = get_posG_with_sphere_radius(G, umap_sphere_m, d_param)"
   ]
  },
  {
   "cell_type": "code",
   "execution_count": 51,
   "metadata": {},
   "outputs": [
    {
     "name": "stdout",
     "output_type": "stream",
     "text": [
      "CPU times: user 35.7 s, sys: 1.1 s, total: 36.8 s\n",
      "Wall time: 20.2 s\n"
     ]
    }
   ],
   "source": [
    "%%time \n",
    "umap_sphere_eucl = embed_umap_sphere(G, DM_eucl, metric)\n",
    "umap_sphere_eucl_withrad = get_posG_with_sphere_radius(G, umap_sphere_eucl, d_param)"
   ]
  },
  {
   "cell_type": "code",
   "execution_count": null,
   "metadata": {},
   "outputs": [],
   "source": [
    "%%time \n",
    "umap_sphere_trace_adj_edges = get_trace_edges(G, umap_sphere_adj_withrad, edge_color)\n",
    "umap_sphere_trace_adj_nodes = get_trace_umap_sphere(umap_sphere_adj_withrad, l_features, colours, size3d)\n",
    "umap_sphere_data_adj = [umap_sphere_trace_adj_edges, umap_sphere_trace_adj_nodes]"
   ]
  },
  {
   "cell_type": "code",
   "execution_count": null,
   "metadata": {},
   "outputs": [],
   "source": [
    "%%time\n",
    "umap_sphere_trace_spl_edges = get_trace_edges(G, umap_sphere_spl_withrad, edge_color)\n",
    "umap_sphere_trace_spl_nodes = get_trace_umap_sphere(umap_sphere_spl_withrad, l_features, colours, size3d)\n",
    "umap_sphere_data_spl = [umap_sphere_trace_spl_edges, umap_sphere_trace_spl_nodes]"
   ]
  },
  {
   "cell_type": "code",
   "execution_count": null,
   "metadata": {},
   "outputs": [],
   "source": [
    "%%time\n",
    "umap_sphere_trace_m_edges = get_trace_edges(G, umap_sphere_m_withrad, edge_color)\n",
    "umap_sphere_trace_m_nodes = get_trace_umap_sphere(umap_sphere_m_withrad, l_features, colours, size3d)\n",
    "umap_sphere_data_m = [umap_sphere_trace_m_edges, umap_sphere_trace_m_nodes]"
   ]
  },
  {
   "cell_type": "code",
   "execution_count": 52,
   "metadata": {},
   "outputs": [
    {
     "name": "stdout",
     "output_type": "stream",
     "text": [
      "CPU times: user 1.33 s, sys: 9.12 ms, total: 1.34 s\n",
      "Wall time: 1.35 s\n"
     ]
    }
   ],
   "source": [
    "%%time\n",
    "umap_sphere_trace_eucl_edges = get_trace_edges(G, umap_sphere_eucl_withrad, edge_color)\n",
    "umap_sphere_trace_eucl_nodes = get_trace_umap_sphere(umap_sphere_eucl_withrad, l_features, colours, size3d)\n",
    "umap_sphere_data_eucl = [umap_sphere_trace_eucl_edges, umap_sphere_trace_eucl_nodes]"
   ]
  },
  {
   "cell_type": "code",
   "execution_count": null,
   "metadata": {},
   "outputs": [],
   "source": [
    "print('Metric: ', metric)\n",
    "\n",
    "fig = make_subplots(rows = 1, cols = 4,\n",
    "                    specs=[4 * [{'type': 'scatter3d'}]],\n",
    "                    print_grid=False, subplot_titles=('Adjacency | UMAP Sphere | Metric: '+metric, \n",
    "                                                     'SPL | UMAP Sphere | Metric: '+metric,\n",
    "                                                     'RWR -log | UMAP Sphere | Metric: '+metric,\n",
    "                                                     'PW Euclidean | UMAP Sphere | Metric: '+metric)\n",
    "                    )\n",
    "\n",
    "    \n",
    "for i in umap_sphere_data_adj:\n",
    "    fig.add_trace(i, row = 1, col = 1)\n",
    "    \n",
    "for i in umap_sphere_data_spl:\n",
    "    fig.add_trace(i, row = 1, col = 2)\n",
    "    \n",
    "for i in umap_sphere_data_m:\n",
    "    fig.add_trace(i, row = 1, col = 3)\n",
    "\n",
    "for i in umap_sphere_data_eucl:\n",
    "    fig.add_trace(i, row = 1, col = 4)\n",
    "\n",
    "#fig.update_layout(template=None, showlegend = False, width = 2000, height = 800)\n",
    "fig.update_layout(template='plotly_dark', showlegend = False, width = 2000, height = 800,\n",
    "                 scene=dict(xaxis = dict(\n",
    "                        nticks = 0, color= 'black'),\n",
    "                           yaxis = dict(\n",
    "                        nticks = 0, color= 'black'), \n",
    "                           zaxis = dict(\n",
    "                        nticks = 0, color= 'black')))\n",
    "py.iplot(fig)\n",
    "\n",
    "plotly.offline.plot(fig, filename = 'output_plots/3Dsphere_umap_'+metric+'_'+organism+'.html', auto_open=False)"
   ]
  },
  {
   "cell_type": "markdown",
   "metadata": {},
   "source": [
    "### EXPORT COORDINATES"
   ]
  },
  {
   "cell_type": "code",
   "execution_count": 59,
   "metadata": {},
   "outputs": [],
   "source": [
    "colours_r = []\n",
    "colours_g = []\n",
    "colours_b = []\n",
    "colours_a = []\n",
    "for i in colours:\n",
    "    colours_r.append(i[0])\n",
    "    colours_g.append(i[1])\n",
    "    colours_b.append(i[2])\n",
    "    colours_a.append(0.9)"
   ]
  },
  {
   "cell_type": "code",
   "execution_count": 60,
   "metadata": {},
   "outputs": [],
   "source": [
    "df_xyz_umap_3Dsphere_eucl = pd.DataFrame(umap_sphere_eucl_withrad, index=[\"x\",\"y\",\"z\"]).T\n",
    "df_xyz_umap_3Dsphere_eucl['r'] = colours_r\n",
    "df_xyz_umap_3Dsphere_eucl['g'] = colours_g\n",
    "df_xyz_umap_3Dsphere_eucl['b'] = colours_b\n",
    "df_xyz_umap_3Dsphere_eucl['a'] = colours_a\n",
    "\n",
    "df_xyz_umap_3Dsphere_eucl.to_csv(r'output_csv/3Dsphere_umap_XYZRGBA_PW_eucl_'+organism+'.csv', index = True)"
   ]
  },
  {
   "cell_type": "code",
   "execution_count": null,
   "metadata": {},
   "outputs": [],
   "source": []
  },
  {
   "cell_type": "code",
   "execution_count": null,
   "metadata": {},
   "outputs": [],
   "source": []
  },
  {
   "cell_type": "code",
   "execution_count": null,
   "metadata": {},
   "outputs": [],
   "source": []
  },
  {
   "cell_type": "code",
   "execution_count": null,
   "metadata": {},
   "outputs": [],
   "source": []
  },
  {
   "cell_type": "code",
   "execution_count": null,
   "metadata": {},
   "outputs": [],
   "source": []
  },
  {
   "cell_type": "code",
   "execution_count": null,
   "metadata": {},
   "outputs": [],
   "source": []
  },
  {
   "cell_type": "code",
   "execution_count": null,
   "metadata": {},
   "outputs": [],
   "source": []
  },
  {
   "cell_type": "code",
   "execution_count": null,
   "metadata": {},
   "outputs": [],
   "source": []
  },
  {
   "cell_type": "code",
   "execution_count": null,
   "metadata": {},
   "outputs": [],
   "source": []
  },
  {
   "cell_type": "code",
   "execution_count": null,
   "metadata": {},
   "outputs": [],
   "source": []
  },
  {
   "cell_type": "markdown",
   "metadata": {},
   "source": [
    "# POTENTIALLY ADD"
   ]
  },
  {
   "cell_type": "markdown",
   "metadata": {},
   "source": [
    "### STELLAR GRAPH \n",
    "+https://github.com/stellargraph/stellargraph\n",
    "\n",
    "+https://stellargraph.readthedocs.io/en/stable/demos/node-classification/gcn-node-classification.html"
   ]
  },
  {
   "cell_type": "code",
   "execution_count": null,
   "metadata": {},
   "outputs": [],
   "source": [
    "import stellargraph as sg\n",
    "import tensorflow as tf"
   ]
  },
  {
   "cell_type": "code",
   "execution_count": null,
   "metadata": {},
   "outputs": [],
   "source": [
    "nodes = G.nodes()\n",
    "edges = G.edges()"
   ]
  },
  {
   "cell_type": "code",
   "execution_count": null,
   "metadata": {},
   "outputs": [],
   "source": [
    "# Graph machine learning model \n",
    "\n",
    "graph = sg.StellarGraph.from_networkx(G)\n",
    "\n",
    "generator = sg.mapper.FullBatchNodeGenerator(graph, method=\"gcn\")\n",
    "\n",
    "# two layers of GCN, each with hidden dimension 16\n",
    "gcn = sg.layer.GCN(layer_sizes=[16, 16], generator=generator)\n",
    "x_inp, x_out = gcn.in_out_tensors() # create the input and output TensorFlow tensors\n",
    "\n",
    "# use TensorFlow Keras to add a layer to compute the (one-hot) predictions\n",
    "predictions = tf.keras.layers.Dense(units=len(ground_truth_targets.columns), activation=\"softmax\")(x_out)"
   ]
  },
  {
   "cell_type": "code",
   "execution_count": null,
   "metadata": {},
   "outputs": [],
   "source": [
    "# Training and evaluation \n",
    "\n",
    "\n",
    "# prepare the model for training with the Adam optimiser and an appropriate loss function\n",
    "model.compile(\"adam\", loss=\"categorical_crossentropy\", metrics=[\"accuracy\"])\n",
    "\n",
    "# train the model on the train set\n",
    "model.fit(generator.flow(train_targets.index, train_targets), epochs=5)\n",
    "\n",
    "# check model generalisation on the test set\n",
    "(loss, accuracy) = model.evaluate(generator.flow(test_targets.index, test_targets))\n",
    "print(f\"Test set: loss = {loss}, accuracy = {accuracy}\")"
   ]
  },
  {
   "cell_type": "code",
   "execution_count": null,
   "metadata": {},
   "outputs": [],
   "source": [
    "# algorithms to use: GraphSAGE, node2vec, Metapath2Vec"
   ]
  },
  {
   "cell_type": "code",
   "execution_count": null,
   "metadata": {},
   "outputs": [],
   "source": []
  },
  {
   "cell_type": "code",
   "execution_count": null,
   "metadata": {},
   "outputs": [],
   "source": []
  },
  {
   "cell_type": "markdown",
   "metadata": {},
   "source": [
    "#### DOSNES"
   ]
  },
  {
   "cell_type": "code",
   "execution_count": null,
   "metadata": {},
   "outputs": [],
   "source": [
    "# tSNE optimization \n",
    "\n",
    "momentum = 0.1 # default 0.1\n",
    "final_momentum = 0.9 # default 0.7\n",
    "max_iter = 10\n",
    "learning_rate = 1000\n",
    "min_gain = 1. #default 0.01"
   ]
  },
  {
   "cell_type": "code",
   "execution_count": null,
   "metadata": {},
   "outputs": [],
   "source": [
    "%%time \n",
    "\n",
    "embedded_adj = embed_tsne_sphere(G, DM_adj, momentum, final_momentum, learning_rate, min_gain, max_iter)\n",
    "embedded_spl = embed_tsne_sphere(G, DM_spl, momentum, final_momentum, learning_rate, min_gain, max_iter)\n",
    "embedded_mlog = embed_tsne_sphere(G, DM_m, momentum, final_momentum, learning_rate, min_gain, max_iter)\n",
    "embedded_eucl = embed_tsne_sphere(G, DM_eucl, momentum, final_momentum, learning_rate, min_gain, max_iter)"
   ]
  },
  {
   "cell_type": "code",
   "execution_count": null,
   "metadata": {},
   "outputs": [],
   "source": [
    "# choose radius parameter for layout\n",
    "\n",
    "# dict param should be : {NODE ID: VALUE}\n",
    "dict_param = d_essentiality_scores_sorted\n",
    "\n",
    "d_node_rad = assign_radius_to_nodes(G, dict_param)  \n",
    "\n",
    "l_rad = list(set(d_node_rad.values()))\n",
    "spheres_back = get_sphere_background(l_rad)"
   ]
  },
  {
   "cell_type": "code",
   "execution_count": null,
   "metadata": {},
   "outputs": [],
   "source": [
    "%%time \n",
    "\n",
    "\n",
    "trace_nodes_adj = get_tsne_sphere_trace_nodes(embedded_adj, d_node_rad, colours, size3d)\n",
    "#trace_edges_adj = get_trace_edges(G, embedded_adj, edge_color)\n",
    "data_adj = [trace_nodes_adj] #, trace_edges_adj]\n",
    "\n",
    "trace_nodes_spl = get_tsne_sphere_trace_nodes(embedded_spl, d_node_rad, colours, size3d)\n",
    "data_spl = [trace_nodes_spl]\n",
    "\n",
    "trace_nodes_mlog = get_tsne_sphere_trace_nodes(embedded_mlog, d_node_rad, colours, size3d)\n",
    "data_mlog = [trace_nodes_mlog]\n",
    "\n",
    "trace_nodes_eucl = get_tsne_sphere_trace_nodes(embedded_eucl, d_node_rad, colours, size3d)\n",
    "data_eucl = [trace_nodes_eucl]"
   ]
  },
  {
   "cell_type": "code",
   "execution_count": null,
   "metadata": {},
   "outputs": [],
   "source": [
    "print('Momentum:', momentum)\n",
    "print('Final Momentum:', final_momentum)\n",
    "print('Max.Iterations:', max_iter)\n",
    "print('Learning rate:', learning_rate)\n",
    "print('Min.Gain:', min_gain)\n",
    "\n",
    "\n",
    "fig_s1 = make_subplots(rows = 1, cols = 4,\n",
    "                    specs=[4 * [{'type': 'scatter3d'}]],\n",
    "                    print_grid=False, subplot_titles=('Adjacency | DOSNES', \n",
    "                                                     'SPL | DOSNES',\n",
    "                                                     'Markov -log | DOSNES', \n",
    "                                                     'PW Euclidean | DOSNES')\n",
    "                    )\n",
    "\n",
    "    \n",
    "for i in data_adj:\n",
    "    fig_s1.add_trace(i, row = 1, col = 1)\n",
    "#for i in spheres_back: \n",
    "#    fig_s1.add_trace(i, row = 1, col = 1)\n",
    "    \n",
    "for i in data_spl:\n",
    "    fig_s1.add_trace(i, row = 1, col = 2)\n",
    "#for i in spheres_back: \n",
    "#    fig_s1.add_trace(i, row = 1, col = 2)\n",
    "    \n",
    "for i in data_m:\n",
    "    fig_s1.add_trace(i, row = 1, col = 3)\n",
    "#for i in spheres_back: \n",
    "#    fig_s1.add_trace(i, row = 1, col = 3)\n",
    "\n",
    "for i in data_mlog:\n",
    "    fig_s1.add_trace(i, row = 1, col = 4)\n",
    "#for i in spheres_back: \n",
    "#    fig_s1.add_trace(i, row = 1, col = 4)\n",
    "    \n",
    "fig_s1.update_layout(template = \"plotly_dark\", height = 800, width = 2000)\n",
    "py.iplot(fig_s1)\n",
    "\n",
    "plotly.offline.plot(fig_s1, filename = 'output_plots/3D_dosnes_spheres_'+organism+'.html', auto_open=False)"
   ]
  },
  {
   "cell_type": "markdown",
   "metadata": {},
   "source": [
    "### EXPORT Coordinates x,y,z,rgba"
   ]
  },
  {
   "cell_type": "code",
   "execution_count": null,
   "metadata": {},
   "outputs": [],
   "source": [
    "'''\n",
    "organism = 'Yeast'\n",
    "\n",
    "\n",
    "colours_rgba = []\n",
    "for i in colours: \n",
    "    if i == ess_col:\n",
    "        colours_rgba.append('rgba(66, 117, 154, 0.6)')\n",
    "    elif i == no_ess_col:\n",
    "        colours_rgba.append('rgba(162, 193, 216, 0.6)')\n",
    "    else:\n",
    "        colours_rgba.append('rgba(0,0,0,0.4)')\n",
    "        \n",
    "\n",
    "df_xyz_rgba_sphere_adj = pd.DataFrame(embedded_adj, index=[\"x\",\"y\",\"z\"]).T\n",
    "df_xyz_rgba_sphere_adj['color'] = colours_rgba\n",
    "\n",
    "df_xyz_rgba_sphere_spl = pd.DataFrame(embedded_spl, index=[\"x\",\"y\",\"z\"]).T\n",
    "df_xyz_rgba_sphere_spl['color'] = colours_rgba\n",
    "\n",
    "df_xyz_rgba_sphere_m = pd.DataFrame(embedded_m, index=[\"x\",\"y\",\"z\"]).T\n",
    "df_xyz_rgba_sphere_m['color'] = colours_rgba\n",
    "\n",
    "df_xyz_rgba_sphere_mlog = pd.DataFrame(embedded_mlog, index=[\"x\",\"y\",\"z\"]).T\n",
    "df_xyz_rgba_sphere_mlog['color'] = colours_rgba\n",
    "\n",
    "\n",
    "\n",
    "df_xyz_rgba_sphere_cos = pd.DataFrame(embedded_cos, index=[\"x\",\"y\",\"z\"]).T\n",
    "df_xyz_rgba_sphere_cos['color'] = colours_rgba\n",
    "\n",
    "df_xyz_rgba_sphere_eucl = pd.DataFrame(embedded_eucl, index=[\"x\",\"y\",\"z\"]).T\n",
    "df_xyz_rgba_sphere_eucl['color'] = colours_rgba\n",
    "\n",
    "df_xyz_rgba_sphere_sqeucl = pd.DataFrame(embedded_sqeucl, index=[\"x\",\"y\",\"z\"]).T\n",
    "df_xyz_rgba_sphere_sqeucl['color'] = colours_rgba\n",
    "\n",
    "df_xyz_rgba_sphere_corr = pd.DataFrame(embedded_corr, index=[\"x\",\"y\",\"z\"]).T\n",
    "df_xyz_rgba_sphere_corr['color'] = colours_rgba\n",
    "\n",
    "\n",
    "# -----------------------------------------------\n",
    "\n",
    "df_xyz_rgba_sphere_adj.to_csv(r'output_csv/3DSphere_XYZ_RGBA_Adjacency_'+organism+'.csv', index = True)\n",
    "df_xyz_rgba_sphere_spl.to_csv(r'output_csv/3DSphere_XYZ_RGBA_SPL'+organism+'.csv', index = True)\n",
    "df_xyz_rgba_sphere_m.to_csv(r'output_csv/3DSphere_XYZ_RGBA_RWR_'+organism+'.csv', index = True)\n",
    "df_xyz_rgba_sphere_mlog.to_csv(r'output_csv/3DSphere_XYZ_RGBA_RWRlog_'+organism+'.csv', index = True)\n",
    "\n",
    "df_xyz_rgba_sphere_cos.to_csv(r'output_csv/3DSphere_XYZ_RGBA_PW_cos_'+organism+'.csv', index = True)\n",
    "df_xyz_rgba_sphere_eucl.to_csv(r'output_csv/3DSphere_XYZ_RGBA_PW_eucl_'+organism+'.csv', index = True)\n",
    "df_xyz_rgba_sphere_sqeucl.to_csv(r'output_csv/3DSphere_XYZ_RGBA_PW_sqeucl_'+organism+'.csv', index = True)\n",
    "df_xyz_rgba_sphere_corr.to_csv(r'output_csv/3DSphere_XYZ_RGBA_PW_corr_'+organism+'.csv', index = True)\n",
    "'''"
   ]
  },
  {
   "cell_type": "code",
   "execution_count": null,
   "metadata": {},
   "outputs": [],
   "source": []
  },
  {
   "cell_type": "code",
   "execution_count": null,
   "metadata": {},
   "outputs": [],
   "source": []
  },
  {
   "cell_type": "markdown",
   "metadata": {},
   "source": [
    "## TORUS"
   ]
  },
  {
   "cell_type": "markdown",
   "metadata": {},
   "source": [
    "#### UMAP"
   ]
  },
  {
   "cell_type": "code",
   "execution_count": null,
   "metadata": {},
   "outputs": [],
   "source": [
    "%%time \n",
    "umap_torus_adj = umap.UMAP(output_metric=torus_euclidean_grad, random_state=42).fit(DM_adj)"
   ]
  },
  {
   "cell_type": "code",
   "execution_count": null,
   "metadata": {},
   "outputs": [],
   "source": [
    "%%time \n",
    "umap_torus_spl = umap.UMAP(output_metric=torus_euclidean_grad, random_state=42).fit(DM_spl)"
   ]
  },
  {
   "cell_type": "code",
   "execution_count": null,
   "metadata": {},
   "outputs": [],
   "source": [
    "%%time \n",
    "umap_torus_mlog = umap.UMAP(output_metric=torus_euclidean_grad, random_state=42).fit(DM_mlog)"
   ]
  },
  {
   "cell_type": "code",
   "execution_count": null,
   "metadata": {},
   "outputs": [],
   "source": [
    "%%time \n",
    "umap_torus_eucl = umap.UMAP(output_metric=torus_euclidean_grad, random_state=42).fit(DM_eucl)"
   ]
  },
  {
   "cell_type": "code",
   "execution_count": null,
   "metadata": {},
   "outputs": [],
   "source": [
    "r_crosssection = 1\n",
    "R_torussize = 3\n",
    "\n",
    "torus_trace_adj = get_trace_umap_torus(umap_torus_adj, r_crosssection, R_torussize, colours)\n",
    "umap_torus_data_adj = [torus_trace_adj] \n",
    "\n",
    "torus_trace_spl = get_trace_umap_torus(umap_torus_spl, r_crosssection, R_torussize, colours)\n",
    "umap_torus_data_spl = [torus_trace_spl] \n",
    "\n",
    "torus_trace_mlog = get_trace_umap_torus(umap_torus_mlog, r_crosssection, R_torussize, colours)\n",
    "umap_torus_data_mlog = [torus_trace_mlog] \n",
    "\n",
    "torus_trace_eucl = get_trace_umap_torus(umap_torus_eucl, r_crosssection, R_torussize, colours)\n",
    "umap_torus_data_eucl = [torus_trace_eucl] "
   ]
  },
  {
   "cell_type": "code",
   "execution_count": null,
   "metadata": {},
   "outputs": [],
   "source": [
    "fig1 = make_subplots(rows = 1, cols = 4,\n",
    "                    specs=[4 * [{'type': 'scatter3d'}]],\n",
    "                    print_grid=False, subplot_titles=('Adjacency | UMAP', \n",
    "                                                     'SPL | UMAP',\n",
    "                                                     'RWR -log | UMAP',\n",
    "                                                     'PW Euclidean | UMAP')\n",
    "                    )\n",
    "\n",
    "    \n",
    "for i in umap_torus_data_adj:\n",
    "    fig1.add_trace(i, row = 1, col = 1)\n",
    "    \n",
    "for i in umap_torus_data_spl:\n",
    "    fig1.add_trace(i, row = 1, col = 2)\n",
    "    \n",
    "for i in umap_torus_data_mlog:\n",
    "    fig1.add_trace(i, row = 1, col = 3)\n",
    "\n",
    "for i in umap_torus_data_eucl:\n",
    "    fig1.add_trace(i, row = 1, col = 4)\n",
    "\n",
    "#fig1.update_layout(template=None, showlegend = False, width = 2000, height = 800)\n",
    "fig1.update_layout(template='plotly_dark', showlegend = False, width = 2000, height = 800)\n",
    "py.iplot(fig1)\n",
    "\n",
    "plotly.offline.plot(fig1, filename = 'output_plots/3D_umap_torus_'+organism+'.html', auto_open=False)"
   ]
  },
  {
   "cell_type": "code",
   "execution_count": null,
   "metadata": {},
   "outputs": [],
   "source": []
  }
 ],
 "metadata": {
  "kernelspec": {
   "display_name": "Python 3",
   "language": "python",
   "name": "python3"
  },
  "language_info": {
   "codemirror_mode": {
    "name": "ipython",
    "version": 3
   },
   "file_extension": ".py",
   "mimetype": "text/x-python",
   "name": "python",
   "nbconvert_exporter": "python",
   "pygments_lexer": "ipython3",
   "version": "3.7.4"
  }
 },
 "nbformat": 4,
 "nbformat_minor": 4
}
