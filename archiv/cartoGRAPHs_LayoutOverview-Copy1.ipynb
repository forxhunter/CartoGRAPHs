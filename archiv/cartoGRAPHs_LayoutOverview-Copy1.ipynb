{
 "cells": [
  {
   "cell_type": "markdown",
   "id": "exclusive-bunch",
   "metadata": {},
   "source": [
    "# Visualize Toy Networks \n",
    "This script produces visualizations for three toy models (cayley tree, cube lattice and torus lattice) \n",
    "to provide an overview of all included layouts in the cartoGRAPHs project. "
   ]
  },
  {
   "cell_type": "code",
   "execution_count": 1,
   "id": "found-rabbit",
   "metadata": {},
   "outputs": [],
   "source": [
    "from cartoGRAPHs import * \n",
    "\n",
    "from func_load_data import *\n",
    "from func_visual_properties import * \n",
    "from func_calculations import * \n",
    "from func_embed_plot import * \n",
    "from func_exportVR import * "
   ]
  },
  {
   "cell_type": "markdown",
   "id": "innovative-granny",
   "metadata": {},
   "source": [
    "----\n",
    "# CHOOSE A NETWORK\n",
    "----"
   ]
  },
  {
   "cell_type": "code",
   "execution_count": 2,
   "id": "deluxe-weekend",
   "metadata": {},
   "outputs": [],
   "source": [
    "# CAYLEY TREE\n",
    "\n",
    "organism = 'tree'\n",
    "n = 1093\n",
    "r = 3\n",
    "G = nx.full_rary_tree(r,n)"
   ]
  },
  {
   "cell_type": "code",
   "execution_count": 3,
   "id": "union-floating",
   "metadata": {},
   "outputs": [],
   "source": [
    "# CUBE LATTICE \n",
    "\n",
    "organism = 'grid'\n",
    "G = nx.grid_graph([10,10,10],periodic=False)\n",
    "# converting node labels to integers \n",
    "start = 1\n",
    "G = nx.convert_node_labels_to_integers(G,first_label=start)"
   ]
  },
  {
   "cell_type": "code",
   "execution_count": null,
   "id": "legitimate-photography",
   "metadata": {},
   "outputs": [],
   "source": [
    "# TORUS LATTICE \n",
    "\n",
    "organism = 'torus'\n",
    "G = nx.grid_2d_graph(44,22,periodic=True)\n",
    "# converting node labels to integers \n",
    "start = 1\n",
    "G = nx.convert_node_labels_to_integers(G,first_label=start)"
   ]
  },
  {
   "cell_type": "markdown",
   "id": "configured-threshold",
   "metadata": {},
   "source": [
    "-----\n",
    "# COLOR SETTINGS\n",
    "-----"
   ]
  },
  {
   "cell_type": "code",
   "execution_count": 4,
   "id": "complex-israel",
   "metadata": {},
   "outputs": [],
   "source": [
    "opacity_nodes = 0.9\n",
    "node_edge_col = '#696969' \n",
    "\n",
    "gray_colors = '#696969'\n",
    "\n",
    "closeness = nx.closeness_centrality(G)\n",
    "d_node_colors = {}\n",
    "for node, cl in sorted(closeness.items(), key = lambda x: x[1], reverse = 1):\n",
    "    d_node_colors[node] = round(cl,4)\n",
    "        \n",
    "col_pal = 'viridis'\n",
    "d_colors = color_nodes_from_dict(G, d_node_colors, palette = col_pal)\n",
    "colors = list(d_colors.values())\n",
    "edge_color = '#d3d3d3'\n",
    "\n",
    "size = 70\n",
    "size3d = 2 #3.5\n",
    "\n",
    "#################\n",
    "# E D G E S\n",
    "#################\n",
    "edge_width = 2.0\n",
    "edge_color = '#999999' #'#696969' \n",
    "opacity_edges = 0.3"
   ]
  },
  {
   "cell_type": "code",
   "execution_count": 6,
   "id": "criminal-pride",
   "metadata": {},
   "outputs": [],
   "source": [
    "layoutmethod = 'metapathvec'\n",
    "dim = 3\n",
    "n_n = 8\n",
    "spr = 0.9\n",
    "md = 0.0\n",
    "metr = 'cosine'\n",
    "\n",
    "if layoutmethod == 'local':\n",
    "    posG = layout_local_umap(G,dim,n_neighbors=n_n, spread=spr, min_dist=md, metric=metr) \n",
    "\n",
    "elif layoutmethod == 'global':\n",
    "    posG = layout_global_umap(G,dim,n_neighbors=n_n, spread=spr, min_dist=md, metric=metr) \n",
    "\n",
    "elif layoutmethod == 'nodevec':\n",
    "    posG = layout_nodevec_umap(G,dim,n_neighbors=n_n, spread=spr, min_dist=md, metric=metr) \n",
    "    \n",
    "elif layoutmethod == 'importance':\n",
    "    posG = layout_importance_umap(G,dim,n_neighbors=n_n, spread=spr, min_dist=md, metric=metr) \n",
    "    \n",
    "elif layoutmethod == 'graphwave':\n",
    "    posG = layout_graphwave_umap(G,dim,n_neighbors=n_n, spread=spr, min_dist=md, metric=metr) \n",
    "    \n",
    "elif layoutmethod == 'metapathvec':\n",
    "    posG = layout_metapathvec_umap(G,dim,n_neighbors=n_n, spread=spr, min_dist=md, metric=metr) \n",
    "    \n",
    "elif layoutmethod == 'functional':\n",
    "    scale = 1\n",
    "    val = 0\n",
    "    rows = len(list(G.nodes()))\n",
    "    feat_one = [(val) if i%3 else (scale) for i in range(rows)]\n",
    "    feat_two = [(val) if i%2 or feat_one[i]==scale in feat_one else (scale) for i in range(rows)]\n",
    "    feat_three = [(scale) if feat_one[i]==val and feat_two[i]==val and i not in feat_one and i not in feat_two else val for i in range(rows)]\n",
    "    feat_matrix = np.vstack((feat_one,feat_two,feat_three))\n",
    "    \n",
    "    DF_functional = pd.DataFrame(feat_matrix)\n",
    "    DF_functional.index = ['100','101','102']\n",
    "    DF_functional = DF_functional.T\n",
    "    DF_functional.index = list(G.nodes())\n",
    "\n",
    "    posG = layout_functional_umap(G,DF_functional,dim,n_neighbors=n_n, spread=spr, min_dist=md, metric=metr) \n",
    "    \n",
    "elif layoutmethod == 'attrivec':\n",
    "    scale = 1\n",
    "    val = 0\n",
    "    rows = len(list(G.nodes()))\n",
    "    feat_one = [(val) if i%3 else (scale) for i in range(rows)]\n",
    "    feat_two = [(val) if i%2 or feat_one[i]==scale in feat_one else (scale) for i in range(rows)]\n",
    "    feat_three = [(scale) if feat_one[i]==val and feat_two[i]==val and i not in feat_one and i not in feat_two else val for i in range(rows)]\n",
    "\n",
    "    DF_functional = pd.DataFrame(feat_matrix)\n",
    "    DF_functional.index = ['100','101','102']\n",
    "    DF_functional = DF_functional.T\n",
    "    DF_functional.index = list(G.nodes())\n",
    "    \n",
    "    posG = layout_attrivec_umap(G,DF_functional,dim,n_neighbors=n_n, spread=spr, min_dist=md, metric=metr) "
   ]
  },
  {
   "cell_type": "code",
   "execution_count": 7,
   "id": "greek-assurance",
   "metadata": {},
   "outputs": [],
   "source": [
    "if dim == 2:\n",
    "    plt.figure(figsize=(25,25))\n",
    "\n",
    "    nx.draw_networkx_nodes(G, posG, node_color = colors, node_size= size, alpha = opacity_nodes)\n",
    "    nx.draw_networkx_edges(G, posG, width = edge_width, edge_color = edge_color, alpha = opacity_edges*0.15)\n",
    "\n",
    "    plt.box(False)\n",
    "\n",
    "    plt.savefig('output_plots/benchmark/2DPortrait_'+organism+'_'+layoutmethod+'_nn'+str(n_n)+'_spr'+str(spr)+'_md'+str(md)+'_metr'+metr+'.pdf')\n",
    "    plt.show()\n",
    "    \n",
    "elif dim == 3: \n",
    "    \n",
    "    umap_nodes = get_trace_nodes_3D(posG, None, colors, size3d, \n",
    "                                    opacity_nodes)\n",
    "    umap_edges = get_trace_edges_3D(G, posG, edge_color, opac = 0.15, linewidth = 0.75)\n",
    "    data = [umap_nodes,umap_edges]\n",
    "\n",
    "    path = 'output_plots/benchmark/'\n",
    "    fname = '3Dportrait_'+organism+'_'+layoutmethod+'_nn'+str(n_n)+'_spr'+str(spr)+'_md'+str(md)+'_metr'+metr\n",
    "\n",
    "    plot_3D(data,path,fname, 'light')"
   ]
  },
  {
   "cell_type": "code",
   "execution_count": null,
   "id": "adopted-senator",
   "metadata": {},
   "outputs": [],
   "source": []
  },
  {
   "cell_type": "code",
   "execution_count": null,
   "id": "false-shell",
   "metadata": {},
   "outputs": [],
   "source": []
  },
  {
   "cell_type": "code",
   "execution_count": null,
   "id": "ecological-dakota",
   "metadata": {},
   "outputs": [],
   "source": []
  },
  {
   "cell_type": "code",
   "execution_count": null,
   "id": "tropical-jerusalem",
   "metadata": {},
   "outputs": [],
   "source": []
  }
 ],
 "metadata": {
  "kernelspec": {
   "display_name": "Python [conda env:miniconda3-myenv_clip2]",
   "language": "python",
   "name": "conda-env-miniconda3-myenv_clip2-py"
  },
  "language_info": {
   "codemirror_mode": {
    "name": "ipython",
    "version": 3
   },
   "file_extension": ".py",
   "mimetype": "text/x-python",
   "name": "python",
   "nbconvert_exporter": "python",
   "pygments_lexer": "ipython3",
   "version": "3.6.13"
  }
 },
 "nbformat": 4,
 "nbformat_minor": 5
}
