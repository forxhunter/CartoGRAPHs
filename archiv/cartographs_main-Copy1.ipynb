{
 "cells": [
  {
   "cell_type": "markdown",
   "id": "positive-supervision",
   "metadata": {},
   "source": [
    "-----\n",
    "# cartoGRAPHs \n",
    "\n",
    "A Notebook to produce 2D and 3D network layouts from any Graph,\n",
    "including interactive visualization (html files) and export functions \n",
    "to import into the VRNetzer analytics platform by Pirch et al.\n",
    "\n",
    "Please note: \n",
    "Large graphs (e.g. 20k nodes / 300k links) can take ~15min using TSNE-based layouts and ~5min using UMAP-based layouts\n",
    "\n",
    "-----"
   ]
  },
  {
   "cell_type": "code",
   "execution_count": 2,
   "id": "activated-shoot",
   "metadata": {},
   "outputs": [],
   "source": [
    "from cartoGRAPHs import *\n",
    "\n",
    "from func_load_data import *\n",
    "from func_visual_properties import * \n",
    "from func_calculations import * \n",
    "from func_embed_plot import * \n",
    "from func_exportVR import * "
   ]
  },
  {
   "cell_type": "markdown",
   "id": "living-russell",
   "metadata": {},
   "source": [
    "_____\n",
    "# 1 | DEFINE NETWORK\n",
    "_____"
   ]
  },
  {
   "cell_type": "code",
   "execution_count": 3,
   "id": "blocked-journalism",
   "metadata": {},
   "outputs": [],
   "source": [
    "# ---------------------------------------------------------------------------\n",
    "# \n",
    "# this Graph is an exemplary graph and can be replaced by any networkx Graph\n",
    "#\n",
    "# ---------------------------------------------------------------------------\n",
    "\n",
    "n = 1093\n",
    "r = 3\n",
    "G = nx.full_rary_tree(r,n)\n",
    "\n",
    "# ---------------------------------------------------------------------------\n",
    "#\n",
    "# this will be hover-info of interactive layouts and can be replaced by any list with length G.nodes\n",
    "#\n",
    "# ---------------------------------------------------------------------------\n",
    "\n",
    "l_features = ['nodeID:'+str(i) for i in list(G.nodes())]"
   ]
  },
  {
   "cell_type": "markdown",
   "id": "moved-formation",
   "metadata": {
    "tags": []
   },
   "source": [
    "_____ \n",
    "# 2 | SPATIAL EMBEDDING\n",
    "_____\n",
    "\n",
    "Layouts to choose from: \n",
    "+ local\n",
    "+ global / node2vec\n",
    "+ importance / struc2vec\n",
    "+ functional\n"
   ]
  },
  {
   "cell_type": "markdown",
   "id": "incoming-selection",
   "metadata": {
    "jp-MarkdownHeadingCollapsed": true,
    "tags": []
   },
   "source": [
    "#### LOCAL "
   ]
  },
  {
   "cell_type": "markdown",
   "id": "aerial-bachelor",
   "metadata": {},
   "source": [
    "2D"
   ]
  },
  {
   "cell_type": "code",
   "execution_count": 3,
   "id": "surprised-sussex",
   "metadata": {
    "tags": []
   },
   "outputs": [],
   "source": [
    "layoutmethod = 'local'\n",
    "\n",
    "posG_local_tsne2D = layout_local_tsne(G,2,prplxty=10, density=1, l_rate=200, steps=250, metric='cosine') \n",
    "posG_local_umap2D = layout_local_umap(G,2,n_neighbors=20, spread=1, min_dist=0.0, metric='cosine') "
   ]
  },
  {
   "cell_type": "markdown",
   "id": "sought-samuel",
   "metadata": {},
   "source": [
    "3D"
   ]
  },
  {
   "cell_type": "code",
   "execution_count": 5,
   "id": "trying-buyer",
   "metadata": {},
   "outputs": [],
   "source": [
    "layoutmethod = 'local'\n",
    "\n",
    "posG_local_tsne3D = layout_local_tsne(G,3,prplxty=10, density=1, l_rate=200, steps=250, metric='cosine') \n",
    "posG_local_umap3D = layout_local_umap(G,3,n_neighbors=20, spread=1, min_dist=0.0, metric='cosine') "
   ]
  },
  {
   "cell_type": "markdown",
   "id": "extreme-telling",
   "metadata": {
    "jp-MarkdownHeadingCollapsed": true,
    "tags": []
   },
   "source": [
    "#### GLOBAL "
   ]
  },
  {
   "cell_type": "markdown",
   "id": "baking-spider",
   "metadata": {},
   "source": [
    "2D"
   ]
  },
  {
   "cell_type": "code",
   "execution_count": 6,
   "id": "smoking-tourist",
   "metadata": {},
   "outputs": [],
   "source": [
    "layoutmethod = 'global'\n",
    "\n",
    "posG_global_tsne2D = layout_global_tsne(G,2,prplxty=10, density=1, l_rate=200, steps=250, metric='cosine') \n",
    "posG_global_umap2D = layout_global_umap(G,2,n_neighbors=20, spread=1, min_dist=0.0, metric='cosine') "
   ]
  },
  {
   "cell_type": "markdown",
   "id": "spectacular-purchase",
   "metadata": {},
   "source": [
    "3D"
   ]
  },
  {
   "cell_type": "code",
   "execution_count": 7,
   "id": "operating-click",
   "metadata": {},
   "outputs": [],
   "source": [
    "layoutmethod = 'global'\n",
    "\n",
    "posG_global_tsne3D = layout_global_tsne(G,3,prplxty=10, density=1, l_rate=200, steps=250, metric='cosine') \n",
    "posG_global_umap3D = layout_global_umap(G,3,n_neighbors=20, spread=1, min_dist=0.0, metric='cosine') "
   ]
  },
  {
   "cell_type": "markdown",
   "id": "seven-savage",
   "metadata": {
    "jp-MarkdownHeadingCollapsed": true,
    "tags": []
   },
   "source": [
    "#### IMPORTANCE "
   ]
  },
  {
   "cell_type": "markdown",
   "id": "encouraging-rwanda",
   "metadata": {},
   "source": [
    "2D"
   ]
  },
  {
   "cell_type": "code",
   "execution_count": 10,
   "id": "incorporate-bench",
   "metadata": {},
   "outputs": [],
   "source": [
    "layoutmethod = 'importance'\n",
    "\n",
    "posG_importance_tsne2D = layout_importance_tsne(G,2,prplxty=10, density=1, l_rate=200, steps=250, metric='cosine') \n",
    "posG_importance_umap2D = layout_importance_umap(G,2,n_neighbors=20, spread=1, min_dist=0.0, metric='cosine') "
   ]
  },
  {
   "cell_type": "markdown",
   "id": "after-brooks",
   "metadata": {},
   "source": [
    "3D"
   ]
  },
  {
   "cell_type": "code",
   "execution_count": 11,
   "id": "falling-samba",
   "metadata": {},
   "outputs": [],
   "source": [
    "layoutmethod = 'importance'\n",
    "\n",
    "posG_importance_tsne3D = layout_importance_tsne(G,3,prplxty=10, density=1, l_rate=200, steps=250, metric='cosine') \n",
    "posG_importance_umap3D = layout_importance_umap(G,3,n_neighbors=20, spread=1, min_dist=0.0, metric='cosine') "
   ]
  },
  {
   "cell_type": "markdown",
   "id": "advance-briefs",
   "metadata": {
    "tags": []
   },
   "source": [
    "#### FUNCTIONAL"
   ]
  },
  {
   "cell_type": "code",
   "execution_count": 42,
   "id": "confidential-berkeley",
   "metadata": {},
   "outputs": [],
   "source": [
    "scale = 1\n",
    "val = 0\n",
    "rows = len(list(G.nodes()))\n",
    "\n",
    "feat_one = [(val) if i%3 else (scale) for i in range(rows)]\n",
    "feat_two = [(val) if i%2 or feat_one[i]==scale in feat_one else (scale) for i in range(rows)]\n",
    "feat_three = [(scale) if feat_one[i]==val and feat_two[i]==val and i not in feat_one and i not in feat_two else val for i in range(rows)]\n",
    "\n",
    "feat_matrix = np.vstack((feat_one,feat_two,feat_three))\n",
    "FM = pd.DataFrame(feat_matrix)\n",
    "FM.index = ['100','101','102']\n",
    "FM=FM.T\n",
    "FM.index = list(G.nodes())"
   ]
  },
  {
   "cell_type": "markdown",
   "id": "protecting-endorsement",
   "metadata": {},
   "source": [
    "2D"
   ]
  },
  {
   "cell_type": "code",
   "execution_count": 14,
   "id": "sexual-accreditation",
   "metadata": {},
   "outputs": [],
   "source": [
    "layoutmethod = 'functional'\n",
    "\n",
    "posG_functional_tsne2D = layout_functional_tsne(G, FM,2,prplxty=10, density=1, l_rate=200, steps=250, metric='cosine') \n",
    "posG_functional_umap2D = layout_functional_umap(G, FM,2,n_neighbors=20, spread=1, min_dist=0.0, metric='cosine') "
   ]
  },
  {
   "cell_type": "markdown",
   "id": "cordless-capture",
   "metadata": {},
   "source": [
    "3D"
   ]
  },
  {
   "cell_type": "code",
   "execution_count": 15,
   "id": "norman-bunch",
   "metadata": {},
   "outputs": [],
   "source": [
    "layoutmethod = 'functional'\n",
    "\n",
    "posG_functional_tsne3D = layout_functional_tsne(G, FM,3,prplxty=10, density=1, l_rate=200, steps=250, metric='cosine') \n",
    "posG_functional_umap3D = layout_functional_umap(G, FM,3,n_neighbors=20, spread=1, min_dist=0.0, metric='cosine') "
   ]
  },
  {
   "cell_type": "markdown",
   "id": "defensive-assist",
   "metadata": {
    "tags": []
   },
   "source": [
    "#### NODE2VEC (stellargraph)\n",
    "+ resource: https://colab.research.google.com/github/stellargraph/stellargraph/blob/master/demos/node-classification/node2vec-weighted-node-classification.ipynb#scrollTo=2RX_cXaLBiQZ"
   ]
  },
  {
   "cell_type": "markdown",
   "id": "paperback-settlement",
   "metadata": {},
   "source": [
    "2D"
   ]
  },
  {
   "cell_type": "code",
   "execution_count": 29,
   "id": "thorough-lithuania",
   "metadata": {},
   "outputs": [],
   "source": [
    "layoutmethod = 'nodevec'\n",
    "\n",
    "posG_nodevec_tsne2D = layout_nodevec_tsne(G,2,prplxty=10, density=1, l_rate=200, steps=250, metric='cosine') \n",
    "posG_nodevec_umap2D = layout_nodevec_umap(G,2,n_neighbors=20, spread=1, min_dist=0.0, metric='cosine') "
   ]
  },
  {
   "cell_type": "markdown",
   "id": "annoying-auction",
   "metadata": {},
   "source": [
    "3D"
   ]
  },
  {
   "cell_type": "code",
   "execution_count": 9,
   "id": "planned-barcelona",
   "metadata": {},
   "outputs": [],
   "source": [
    "layoutmethod = 'nodevec'\n",
    "\n",
    "posG_nodevec_tsne3D = layout_nodevec_tsne(G,3,prplxty=10, density=1, l_rate=200, steps=250, metric='cosine') \n",
    "posG_nodevec_umap3D = layout_nodevec_umap(G,3,n_neighbors=20, spread=1, min_dist=0.0, metric='cosine') "
   ]
  },
  {
   "cell_type": "markdown",
   "id": "characteristic-perspective",
   "metadata": {},
   "source": [
    "#### ATTRI2VEC (stellargraph)\n",
    "+ resource: https://stellargraph.readthedocs.io/en/v1.0.0/demos/embeddings/attri2vec-embeddings.html"
   ]
  },
  {
   "cell_type": "code",
   "execution_count": 56,
   "id": "sophisticated-executive",
   "metadata": {},
   "outputs": [],
   "source": [
    "scale = 1\n",
    "val = 0\n",
    "rows = len(list(G.nodes()))\n",
    "\n",
    "feat_one = [(val) if i%3 else (scale) for i in range(rows)]\n",
    "feat_two = [(val) if i%2 or feat_one[i]==scale in feat_one else (scale) for i in range(rows)]\n",
    "feat_three = [(scale) if feat_one[i]==val and feat_two[i]==val and i not in feat_one and i not in feat_two else val for i in range(rows)]\n",
    "\n",
    "feat_matrix = np.vstack((feat_one,feat_two,feat_three))\n",
    "FM = pd.DataFrame(feat_matrix)\n",
    "FM.index = ['100','101','102']\n",
    "FM=FM.T\n",
    "FM.index = list(G.nodes())"
   ]
  },
  {
   "cell_type": "markdown",
   "id": "designing-mechanics",
   "metadata": {},
   "source": [
    "2D"
   ]
  },
  {
   "cell_type": "code",
   "execution_count": 55,
   "id": "animated-contrary",
   "metadata": {},
   "outputs": [],
   "source": [
    "layoutmethod = 'attrivec'\n",
    "\n",
    "posG_attrivec_tsne2D = layout_attrivec_tsne(G,FM,2,prplxty=10, density=1, l_rate=200, steps=250, metric='cosine') \n",
    "posG_attrivec_umap2D = layout_attrivec_umap(G,FM,2,n_neighbors=20, spread=1, min_dist=0.0, metric='cosine')"
   ]
  },
  {
   "cell_type": "markdown",
   "id": "sensitive-french",
   "metadata": {},
   "source": [
    "3D"
   ]
  },
  {
   "cell_type": "code",
   "execution_count": null,
   "id": "instant-jumping",
   "metadata": {},
   "outputs": [],
   "source": [
    "layoutmethod = 'attrivec'\n",
    "\n",
    "posG_attrivec_tsne3D = layout_attrivec_tsne(G,FM,3,prplxty=10, density=1, l_rate=200, steps=250, metric='cosine') \n",
    "posG_attrivec_umap3D = layout_attrivec_umap(G,FM,3,n_neighbors=20, spread=1, min_dist=0.0, metric='cosine')"
   ]
  },
  {
   "cell_type": "markdown",
   "id": "current-baker",
   "metadata": {},
   "source": [
    "#### GRAPHWAVE (stellargraph)\n",
    "+ resource: https://stellargraph.readthedocs.io/en/v1.0.0/demos/embeddings/graphwave-embeddings.html"
   ]
  },
  {
   "cell_type": "markdown",
   "id": "excessive-killing",
   "metadata": {},
   "source": [
    "2D"
   ]
  },
  {
   "cell_type": "code",
   "execution_count": 81,
   "id": "portuguese-destruction",
   "metadata": {},
   "outputs": [],
   "source": [
    "layoutmethod = 'graphwave'\n",
    "\n",
    "posG_graphwave_tsne2D = layout_graphwave_tsne(G,2,prplxty=10, density=1, l_rate=200, steps=250, metric='cosine') \n",
    "posG_graphwave_umap2D = layout_graphwave_umap(G,2,n_neighbors=20, spread=1, min_dist=0.0, metric='cosine')"
   ]
  },
  {
   "cell_type": "markdown",
   "id": "pretty-welcome",
   "metadata": {},
   "source": [
    "3D"
   ]
  },
  {
   "cell_type": "code",
   "execution_count": null,
   "id": "chinese-europe",
   "metadata": {},
   "outputs": [],
   "source": [
    "layoutmethod = 'graphwave'\n",
    "\n",
    "posG_graphwave_tsne3D = layout_graphwave_tsne(G,3,prplxty=10, density=1, l_rate=200, steps=250, metric='cosine') \n",
    "posG_graphwave_umap3D = layout_graphwave_umap(G,3,n_neighbors=20, spread=1, min_dist=0.0, metric='cosine')"
   ]
  },
  {
   "cell_type": "markdown",
   "id": "tribal-satellite",
   "metadata": {},
   "source": [
    "#### METAPATH2VEC (stellargraph)"
   ]
  },
  {
   "cell_type": "markdown",
   "id": "literary-batman",
   "metadata": {},
   "source": [
    "2D"
   ]
  },
  {
   "cell_type": "code",
   "execution_count": 52,
   "id": "premium-vulnerability",
   "metadata": {},
   "outputs": [],
   "source": [
    "layoutmethod = 'metapathvec'\n",
    "\n",
    "posG_metapathvec_tsne2D = layout_metapathvec_tsne(G,2,prplxty=10, density=1, l_rate=200, steps=250, metric='cosine') \n",
    "posG_metapathvec_umap2D = layout_metapathvec_umap(G,2,n_neighbors=20, spread=1, min_dist=0.0, metric='cosine')"
   ]
  },
  {
   "cell_type": "markdown",
   "id": "electoral-ground",
   "metadata": {},
   "source": [
    "3D"
   ]
  },
  {
   "cell_type": "code",
   "execution_count": 11,
   "id": "addressed-garbage",
   "metadata": {},
   "outputs": [],
   "source": [
    "layoutmethod = 'metapathvec'\n",
    "\n",
    "posG_metapathvec_tsne3D = layout_metapathvec_tsne(G,3,prplxty=10, density=1, l_rate=200, steps=250, metric='cosine') \n",
    "posG_metapathvec_umap3D = layout_metapathvec_umap(G,3,n_neighbors=20, spread=1, min_dist=0.0, metric='cosine')"
   ]
  },
  {
   "cell_type": "markdown",
   "id": "split-center",
   "metadata": {
    "tags": []
   },
   "source": [
    "____________\n",
    "# 3 | SET VISUAL PRE-SETTINGS\n",
    "____________\n",
    "+ colors in hex: https://htmlcolorcodes.com/"
   ]
  },
  {
   "cell_type": "markdown",
   "id": "demonstrated-optics",
   "metadata": {},
   "source": [
    "#### NODES - GENERAL"
   ]
  },
  {
   "cell_type": "code",
   "execution_count": 46,
   "id": "liked-newfoundland",
   "metadata": {},
   "outputs": [],
   "source": [
    "opacity_nodes = 0.8\n",
    "node_edge_col = '#696969' \n",
    "\n",
    "scale_factor = 0.75\n",
    "size = list(draw_node_degree(G, scale_factor).values())\n",
    "\n",
    "scale_factor3D = 1.5\n",
    "size3d = list(draw_node_degree_3D(G, scale_factor3D).values())\n",
    "\n",
    "nodesglow_diameter = 8.0\n",
    "nodesglow_transparency = 0.01 # 0.01"
   ]
  },
  {
   "cell_type": "code",
   "execution_count": 47,
   "id": "funky-reader",
   "metadata": {},
   "outputs": [],
   "source": [
    "# ---------------------------------------------------------------------------\n",
    "#\n",
    "# Examplary Node color Parameter: \n",
    "# (can be replaced with any dict with keys = G.nodes and values (int or float) > each value will be represented by one color (function: color_nodes_from_dict()) \n",
    "#\n",
    "# ---------------------------------------------------------------------------\n",
    "\n",
    "closeness = nx.closeness_centrality(G)\n",
    "d_node_colors = {}\n",
    "for node, cl in sorted(closeness.items(), key = lambda x: x[1], reverse = 1):\n",
    "    d_node_colors[node] = round(cl,4)\n",
    "        \n",
    "col_pal = 'YlOrRd'\n",
    "d_colors = color_nodes_from_dict(G, d_node_colors, palette = col_pal)\n",
    "colors = list(d_colors.values())\n",
    "edge_color = '#d3d3d3'"
   ]
  },
  {
   "cell_type": "markdown",
   "id": "alpine-congo",
   "metadata": {},
   "source": [
    "#### EDGES - GENERAL"
   ]
  },
  {
   "cell_type": "code",
   "execution_count": 48,
   "id": "timely-pakistan",
   "metadata": {},
   "outputs": [],
   "source": [
    "edge_width = 0.1\n",
    "\n",
    "edge_colorlight = '#d3d3d3' # 'lightgrey'\n",
    "edge_colordark = '#696969' \n",
    "edge_color = '#ACACAC'\n",
    "\n",
    "opacity_edges = 0.1 "
   ]
  },
  {
   "cell_type": "markdown",
   "id": "scientific-template",
   "metadata": {
    "tags": []
   },
   "source": [
    "_____ \n",
    "# 4 | VISUALIZING\n",
    "_____\n",
    "Layout Maps to choose from: \n",
    "+ Portrait 2D \n",
    "+ Portrait 3D \n",
    "+ Topographic Map\n",
    "+ Geodesic Map "
   ]
  },
  {
   "cell_type": "markdown",
   "id": "marine-clause",
   "metadata": {
    "tags": []
   },
   "source": [
    "### 2D PORTRAIT"
   ]
  },
  {
   "cell_type": "code",
   "execution_count": 53,
   "id": "ignored-puzzle",
   "metadata": {},
   "outputs": [
    {
     "data": {
      "text/plain": [
       "'output_plots/2Dlayouts/2Dportrait_metapathvec.html'"
      ]
     },
     "execution_count": 53,
     "metadata": {},
     "output_type": "execute_result"
    }
   ],
   "source": [
    "# ---------------------------------------------------------------------------\n",
    "#\n",
    "# SELECT PARAMETER \n",
    "#\n",
    "posG = posG_metapathvec_umap2D\n",
    "# ---------------------------------------------------------------------------\n",
    "\n",
    "umap_nodes = get_trace_nodes_2D(posG, l_features, colors, size, opacity_nodes)\n",
    "umap_edges = get_trace_edges_2D(G, posG, edge_color, opac = 0.5)\n",
    "data = [umap_nodes,umap_edges]\n",
    "\n",
    "path = 'output_plots/2Dlayouts/'\n",
    "fname = '2Dportrait'+'_'+layoutmethod\n",
    "\n",
    "plot_2D(data,path,fname)"
   ]
  },
  {
   "cell_type": "markdown",
   "id": "radical-lafayette",
   "metadata": {},
   "source": [
    "#### EXPORT FOR VRNetzer "
   ]
  },
  {
   "cell_type": "code",
   "execution_count": 38,
   "id": "related-carter",
   "metadata": {},
   "outputs": [],
   "source": [
    "VRpath = 'output_plots/VRlayouts/'\n",
    "layout_namespace = fname\n",
    "\n",
    "export_to_csv2D(VRpath, layout_namespace, posG, colors)"
   ]
  },
  {
   "cell_type": "markdown",
   "id": "opening-courtesy",
   "metadata": {
    "tags": []
   },
   "source": [
    "### 3D PORTRAIT "
   ]
  },
  {
   "cell_type": "code",
   "execution_count": 18,
   "id": "simplified-cream",
   "metadata": {},
   "outputs": [
    {
     "data": {
      "text/plain": [
       "'output_plots/3Dlayouts/3Dportrait.html'"
      ]
     },
     "execution_count": 18,
     "metadata": {},
     "output_type": "execute_result"
    }
   ],
   "source": [
    "# ---------------------------------------------------------------------------\n",
    "#\n",
    "# SELECT PARAMETER\n",
    "#\n",
    "posG = posG_functional_umap3D\n",
    "# ---------------------------------------------------------------------------\n",
    "\n",
    "umap_nodes = get_trace_nodes_3D(posG, l_features, colors, size3d, opacity_nodes)\n",
    "umap_edges = get_trace_edges_3D(G, posG, edge_color, opac = 0.5, linewidth = 0.5)\n",
    "data = [umap_nodes,umap_edges]\n",
    "\n",
    "path = 'output_plots/3Dlayouts/'\n",
    "fname = '3Dportrait'\n",
    "\n",
    "plot_3D(data,path,fname, 'light')"
   ]
  },
  {
   "cell_type": "markdown",
   "id": "angry-billy",
   "metadata": {},
   "source": [
    "#### EXPORT FOR VRNetzer "
   ]
  },
  {
   "cell_type": "code",
   "execution_count": 13,
   "id": "thirty-mozambique",
   "metadata": {},
   "outputs": [],
   "source": [
    "VRpath = 'output_plots/VRlayouts/'\n",
    "layout_namespace = fname\n",
    "\n",
    "export_to_csv3D(VRpath, layout_namespace, posG, colors)"
   ]
  },
  {
   "cell_type": "markdown",
   "id": "indie-vienna",
   "metadata": {
    "tags": []
   },
   "source": [
    "### TOPOGRAPHIC MAP"
   ]
  },
  {
   "cell_type": "code",
   "execution_count": 14,
   "id": "respective-plumbing",
   "metadata": {
    "tags": []
   },
   "outputs": [
    {
     "data": {
      "text/plain": [
       "'output_plots/Topographic/topographic_map.html'"
      ]
     },
     "execution_count": 14,
     "metadata": {},
     "output_type": "execute_result"
    }
   ],
   "source": [
    "# ---------------------------------------------------------------------------\n",
    "# SELECT a z-Parameter: \n",
    "#\n",
    "# d_z > dictionary with keys=G.nodes and values=any int/float assigned to a node\n",
    "# \n",
    "# ---------------------------------------------------------------------------\n",
    "#a random example: \n",
    "z_list = [np.random.random() for i in range(0, len(list(G.nodes())))]\n",
    "d_z = dict(zip(list(G.nodes()),z_list))\n",
    "#\n",
    "# ---------------------------------------------------------------------------\n",
    "#\n",
    "# requirement: 2D Portrait \n",
    "# example: \n",
    "posG_local_tsne2D = layout_local_tsne(G,2,prplxty=10, density=1, l_rate=200, steps=250, metric='cosine') \n",
    "posG_topographic = layout_topographic(posG_local_tsne2D, d_z)\n",
    "posG = posG_topographic\n",
    "# ---------------------------------------------------------------------------\n",
    "\n",
    "umap_nodes = get_trace_nodes_3D(posG, l_features, colors, size3d, opacity_nodes)\n",
    "umap_edges = get_trace_edges_3D(G, posG, edge_color, opac = 0.5, linewidth = 0.5)\n",
    "data = [umap_nodes,umap_edges]\n",
    "\n",
    "path = 'output_plots/Topographic/'\n",
    "fname = 'topographic_map'\n",
    "\n",
    "plot_3D(data,path,fname, 'light')"
   ]
  },
  {
   "cell_type": "markdown",
   "id": "stock-arrest",
   "metadata": {},
   "source": [
    "#### EXPORT FOR VRNetzer "
   ]
  },
  {
   "cell_type": "code",
   "execution_count": 15,
   "id": "tough-dimension",
   "metadata": {},
   "outputs": [],
   "source": [
    "VRpath = 'output_plots/VRlayouts/'\n",
    "layout_namespace = fname\n",
    "\n",
    "export_to_csv3D(VRpath, layout_namespace, posG, colors)"
   ]
  },
  {
   "cell_type": "markdown",
   "id": "advanced-subcommittee",
   "metadata": {},
   "source": [
    "### GEODESIC MAP"
   ]
  },
  {
   "cell_type": "code",
   "execution_count": 11,
   "id": "noted-thompson",
   "metadata": {},
   "outputs": [
    {
     "data": {
      "text/plain": [
       "'output_plots/Geodesic/geodesic_map.html'"
      ]
     },
     "execution_count": 11,
     "metadata": {},
     "output_type": "execute_result"
    }
   ],
   "source": [
    "# ---------------------------------------------------------------------------\n",
    "#\n",
    "# SELECT a r-Parameter:\n",
    "#\n",
    "# d_rad > a dictionary with keys=G.nodes and values=any radius assigned to each node\n",
    "# ---------------------------------------------------------------------------\n",
    "# example: \n",
    "rad_list = [np.random.randint(1,4) for i in range(0, len(list(G.nodes())))]\n",
    "d_rad = dict(zip(list(G.nodes()), rad_list))\n",
    "# ---------------------------------------------------------------------------\n",
    "\n",
    "posG_sphere = layout_geodesic(G, d_rad, n_neighbors=20, spread=1, min_dist=0.0)\n",
    "posG = posG_sphere\n",
    "\n",
    "umap_nodes = get_trace_nodes_3D(posG, l_features, colors, size3d, opacity_nodes)\n",
    "umap_edges = get_trace_edges_3D(G, posG, edge_color, opac = 0.5, linewidth = 0.5)\n",
    "data = [umap_nodes,umap_edges]\n",
    "\n",
    "path = 'output_plots/Geodesic/'\n",
    "fname = 'geodesic_map'\n",
    "plot_3D(data,path,fname, 'light')"
   ]
  },
  {
   "cell_type": "markdown",
   "id": "decent-tracy",
   "metadata": {},
   "source": [
    "#### EXPORT FOR VRNetzer "
   ]
  },
  {
   "cell_type": "code",
   "execution_count": 12,
   "id": "diverse-lindsay",
   "metadata": {},
   "outputs": [],
   "source": [
    "VRpath = 'output_plots/VRlayouts/'\n",
    "layout_namespace = fname\n",
    "\n",
    "export_to_csv3D(VRpath, layout_namespace, posG, colors)"
   ]
  },
  {
   "cell_type": "code",
   "execution_count": null,
   "id": "unique-chicken",
   "metadata": {},
   "outputs": [],
   "source": []
  },
  {
   "cell_type": "code",
   "execution_count": null,
   "id": "pediatric-oxygen",
   "metadata": {},
   "outputs": [],
   "source": []
  }
 ],
 "metadata": {
  "kernelspec": {
   "display_name": "Python [conda env:miniconda3-myenv_clip2]",
   "language": "python",
   "name": "conda-env-miniconda3-myenv_clip2-py"
  },
  "language_info": {
   "codemirror_mode": {
    "name": "ipython",
    "version": 3
   },
   "file_extension": ".py",
   "mimetype": "text/x-python",
   "name": "python",
   "nbconvert_exporter": "python",
   "pygments_lexer": "ipython3",
   "version": "3.6.13"
  }
 },
 "nbformat": 4,
 "nbformat_minor": 5
}
