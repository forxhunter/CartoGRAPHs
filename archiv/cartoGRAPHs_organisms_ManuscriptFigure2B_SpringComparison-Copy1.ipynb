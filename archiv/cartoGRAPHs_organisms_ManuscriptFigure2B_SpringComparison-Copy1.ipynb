{
 "cells": [
  {
   "cell_type": "markdown",
   "id": "corresponding-alert",
   "metadata": {},
   "source": [
    "-----\n",
    "# cartoGRAPHs - FIGURE 2B Suppl.\n",
    "precalculated large networks , e.g. the Interactome\n",
    "\n",
    "A Notebook to produce 2D and 3D network layouts from any Graph,\n",
    "including interactive visualization (html files) and export functions \n",
    "to import into the VRNetzer analytics platform by Pirch et al.\n",
    "\n",
    "-----"
   ]
  },
  {
   "cell_type": "code",
   "execution_count": 1,
   "id": "hairy-provision",
   "metadata": {},
   "outputs": [
    {
     "name": "stderr",
     "output_type": "stream",
     "text": [
      "2021-10-12 23:25:51.714114: I tensorflow/compiler/jit/xla_cpu_device.cc:41] Not creating XLA devices, tf_xla_enable_xla_devices not set\n",
      "2021-10-12 23:25:51.714540: I tensorflow/core/platform/cpu_feature_guard.cc:142] This TensorFlow binary is optimized with oneAPI Deep Neural Network Library (oneDNN) to use the following CPU instructions in performance-critical operations:  AVX2 AVX512F FMA\n",
      "To enable them in other operations, rebuild TensorFlow with the appropriate compiler flags.\n"
     ]
    }
   ],
   "source": [
    "from cartoGRAPHs import * \n",
    "\n",
    "from func_load_data import *\n",
    "from func_visual_properties import * \n",
    "from func_calculations import * \n",
    "from func_embed_plot import *\n",
    "from func_exportVR import * "
   ]
  },
  {
   "cell_type": "markdown",
   "id": "surface-functionality",
   "metadata": {},
   "source": [
    "_____\n",
    "# HUMAN NETWORK\n",
    "_____"
   ]
  },
  {
   "cell_type": "code",
   "execution_count": 2,
   "id": "mineral-pharmacy",
   "metadata": {},
   "outputs": [],
   "source": [
    "organism = 'human'\n",
    "\n",
    "G = load_graph(organism) \n",
    "\n",
    "d_gene_sym = load_genesymbols(G, organism)\n",
    "l_features = list(d_gene_sym.values())\n",
    "\n",
    "d_gene_do = pickle.load( open( \"input/d_gene_do.pkl\", \"rb\" ) )\n",
    "d_do_genes = pickle.load( open( \"input/d_do_genes.pkl\", \"rb\" ) )\n",
    "d_do_names = pickle.load( open( \"input/DO_names.pkl\", \"rb\" ) )\n",
    "d_names_do = {y:x for x,y in d_do_names.items()}"
   ]
  },
  {
   "cell_type": "code",
   "execution_count": 3,
   "id": "handy-winning",
   "metadata": {},
   "outputs": [],
   "source": [
    "d_centralities = load_centralities(G, organism)\n",
    "df_centralities = pd.DataFrame(d_centralities).T\n",
    "df_centralities.columns = ['degree','closeness', 'betweeness', 'eigenvector']\n",
    "essential_genes,non_ess_genes,notdefined_genes = load_essentiality(G, organism)"
   ]
  },
  {
   "cell_type": "markdown",
   "id": "necessary-malawi",
   "metadata": {
    "tags": []
   },
   "source": [
    "_____ \n",
    "# LOAD DATA\n",
    "_____"
   ]
  },
  {
   "cell_type": "code",
   "execution_count": 4,
   "id": "other-humidity",
   "metadata": {},
   "outputs": [],
   "source": [
    "# get Layout basis --> global layout matrix \n",
    "#DF_structural = load_datamatrix(G,organism, 'global')\n",
    "#df_max = DF_structural.max()\n",
    "#l_max_visprob = max(list(df_max.values))\n",
    "\n",
    "\n",
    "# get Disease Feature Matrix\n",
    "FM_disease = pd.read_csv('input/Features_Disease_Dataframe_'+organism+'.csv', index_col=0)"
   ]
  },
  {
   "cell_type": "markdown",
   "id": "comparative-cisco",
   "metadata": {
    "tags": []
   },
   "source": [
    "# VECTOR : NF1 GENE + DISEASE MODULE (8712 - neurofibromatosis)\n",
    "e.g.\n",
    "+ DOID:8712 / Neurofibromatosis\n",
    "+ DOID:962 / Neurofibroma\n",
    "+ DOID:0050736 / Autosomal Dominant Disease"
   ]
  },
  {
   "cell_type": "code",
   "execution_count": 6,
   "id": "collective-ballot",
   "metadata": {},
   "outputs": [
    {
     "name": "stdout",
     "output_type": "stream",
     "text": [
      "Number of Genes associated to DOID 8712 : 12\n",
      "Genes to be enhanced: 12\n"
     ]
    }
   ],
   "source": [
    "path_nf = 'input/neurofibromatosis/'\n",
    "\n",
    "# gene of interest\n",
    "nf_goi_ = str(int(np.loadtxt(path_nf+'nf_gene_of_interest.txt', unpack=False)))\n",
    "nf_goi = list(nf_goi_.split(\" \"))\n",
    "nf_goi_str = ' '.join([str(item) for item in nf_goi])\n",
    "\n",
    "nf_neighbors = []\n",
    "for edge in G.edges():\n",
    "    if edge[0] == nf_goi_str:\n",
    "        nf_neighbors.append(edge[1])\n",
    "    elif edge[1] == nf_goi_str: \n",
    "        nf_neighbors.append(edge[0])\n",
    "    \n",
    "# get disease module genes \n",
    "num_doid = '8712' \n",
    "dismod = FM_disease.loc[:,'DOID:'+num_doid]\n",
    "dismod.index = FM_disease.index\n",
    "dismod_genes = [] \n",
    "for i,v in enumerate(dismod.values):\n",
    "    if v == 1:\n",
    "        dismod_genes.append(dismod.index[i])\n",
    "    else:\n",
    "        pass\n",
    "\n",
    "print('Number of Genes associated to DOID', num_doid,':',len(dismod_genes))\n",
    "\n",
    "l_genes_dismod = [str(i) for i in dismod_genes]\n",
    "l_genes_dismod_with = [str(i) for i in dismod_genes] + nf_neighbors\n",
    "\n",
    "print('Genes to be enhanced:', len(l_genes_dismod))"
   ]
  },
  {
   "cell_type": "markdown",
   "id": "original-irish",
   "metadata": {},
   "source": [
    "#### SPECIFIC NODE + EDGE COLORS"
   ]
  },
  {
   "cell_type": "code",
   "execution_count": 7,
   "id": "united-realtor",
   "metadata": {
    "tags": []
   },
   "outputs": [
    {
     "name": "stdout",
     "output_type": "stream",
     "text": [
      "Links of DOID 8712 genes: 3\n",
      "Links of DOID 8712 genes: 140\n"
     ]
    }
   ],
   "source": [
    "##########################\n",
    "\n",
    "# colors for DOID 8712 \n",
    "\n",
    "##########################\n",
    "\n",
    "node_col_dismod = '#00D9FC' #'#008792' #'#00E3DF' #'#FF8E00' \n",
    "\n",
    "d_edge_col_dismod= color_edges_from_nodelist_specific(G, l_genes_dismod, node_col_dismod)\n",
    "print('Links of DOID 8712 genes:',len(d_edge_col_dismod))\n",
    "\n",
    "d_edge_col_dismod_with = color_edges_from_nodelist_specific(G, l_genes_dismod_with, node_col_dismod)\n",
    "print('Links of DOID 8712 genes:',len(d_edge_col_dismod_with))"
   ]
  },
  {
   "cell_type": "markdown",
   "id": "compound-congress",
   "metadata": {},
   "source": [
    "# VECTORS : Disease Context \n",
    "+ DOID:3165 - Skin benign neoplasm\n",
    "+ DOID:10534 - Stomach Cancer\n",
    "+ DOID:3620 - Central Nervous System Cancer\n",
    "+ DOID:0060089 - Endocrine organ benign neoplasm\n",
    "+ resources: https://disease-ontology.org/ https://en.wikipedia.org/wiki/Neurofibromatosis"
   ]
  },
  {
   "cell_type": "markdown",
   "id": "cubic-hypothetical",
   "metadata": {
    "tags": []
   },
   "source": [
    "### First Disease Vector | DOID:3165 - Skin benign neoplasm"
   ]
  },
  {
   "cell_type": "code",
   "execution_count": 8,
   "id": "light-corpus",
   "metadata": {},
   "outputs": [
    {
     "name": "stdout",
     "output_type": "stream",
     "text": [
      "Number of Genes overlap of NF1 neighbors and Disease Module: 2\n",
      "['3265', '4089']\n",
      "Number of Genes associated to DOID 3165 : 165\n"
     ]
    }
   ],
   "source": [
    "# -----------------------------\n",
    "num_doid_1 = '3165'\n",
    "# -----------------------------\n",
    "\n",
    "\n",
    "# define specific DOID \n",
    "dismod_1 = FM_disease.loc[:,'DOID:'+num_doid_1]\n",
    "dismod_1.index = FM_disease.index\n",
    "\n",
    "# get all genes associated to disease\n",
    "dismod_genes_1 = [] \n",
    "for i,v in enumerate(dismod_1.values):\n",
    "    if v == 1:\n",
    "        dismod_genes_1.append(dismod_1.index[i])\n",
    "    else:\n",
    "        pass\n",
    "\n",
    "l_genes_dismod_1 = [str(i) for i in dismod_genes_1]\n",
    "\n",
    "overlap_1 = []\n",
    "for i in dismod_genes_1:\n",
    "    if str(i) in nf_neighbors or int(i) in nf_neighbors:\n",
    "    #if str(i) in dismod_genes or int(i) in dismod_genes:\n",
    "        overlap_1.append(str(i))\n",
    "print('Number of Genes overlap of NF1 neighbors and Disease Module:', (len(overlap_1)))\n",
    "print(overlap_1) \n",
    "\n",
    "l_genes_dismod_1_with = l_genes_dismod_1 + overlap_1 # + nf_neighbors[:10]\n",
    "print('Number of Genes associated to DOID', num_doid_1,':',len(l_genes_dismod_1_with))"
   ]
  },
  {
   "cell_type": "markdown",
   "id": "finnish-programming",
   "metadata": {},
   "source": [
    "#### SPECIFIC NODE + EDGE COLORS"
   ]
  },
  {
   "cell_type": "code",
   "execution_count": 9,
   "id": "structured-seeking",
   "metadata": {},
   "outputs": [
    {
     "data": {
      "text/plain": [
       "446"
      ]
     },
     "execution_count": 9,
     "metadata": {},
     "output_type": "execute_result"
    }
   ],
   "source": [
    "# color nodes\n",
    "node_col_1 = '#FF7001' # (orange) #'#B00160' \n",
    "\n",
    "# color edges    \n",
    "d_edge_col_1 = color_edges_from_nodelist_specific(G, l_genes_dismod_1_with, node_col_1)\n",
    "len(d_edge_col_1)"
   ]
  },
  {
   "cell_type": "markdown",
   "id": "connected-clearing",
   "metadata": {},
   "source": [
    "### Second Disease Vector | DOID:10534 - Stomach Cancer"
   ]
  },
  {
   "cell_type": "code",
   "execution_count": 10,
   "id": "further-concept",
   "metadata": {},
   "outputs": [
    {
     "name": "stdout",
     "output_type": "stream",
     "text": [
      "Number of Genes overlap of NF1 neighbors and Disease Module: 4\n",
      "['3265', '1956', '857', '4089']\n",
      "Number of Genes associated to DOID 10534 : 307\n"
     ]
    }
   ],
   "source": [
    "# -----------------------------\n",
    "num_doid_2 = '10534' #'3883' #'1612' #'3490'\n",
    "# -----------------------------\n",
    "\n",
    "# define specific DOID \n",
    "dismod_2 = FM_disease.loc[:,'DOID:'+num_doid_2]\n",
    "dismod_2.index = FM_disease.index\n",
    "\n",
    "# get all genes associated to disease\n",
    "dismod_genes_2 = [] \n",
    "for i,v in enumerate(dismod_2.values):\n",
    "    if v == 1:\n",
    "        dismod_genes_2.append(dismod_2.index[i])\n",
    "    else:\n",
    "        pass\n",
    "    \n",
    "l_genes_dismod_2 = [str(i) for i in dismod_genes_2]\n",
    "\n",
    "overlap_2 = []\n",
    "for i in dismod_genes_2:\n",
    "    if str(i) in nf_neighbors or int(i) in nf_neighbors:\n",
    "    #if str(i) in dismod_genes or int(i) in dismod_genes:\n",
    "        overlap_2.append(str(i))\n",
    "print('Number of Genes overlap of NF1 neighbors and Disease Module:', (len(overlap_2)))\n",
    "print(overlap_2) \n",
    "\n",
    "l_genes_dismod_2_with = l_genes_dismod_2 + overlap_2 # + nf_neighbors[15:25]\n",
    "print('Number of Genes associated to DOID', num_doid_2,':',len(l_genes_dismod_2_with))"
   ]
  },
  {
   "cell_type": "markdown",
   "id": "enormous-baghdad",
   "metadata": {},
   "source": [
    "#### SPECIFIC NODE + EDGE COLORS"
   ]
  },
  {
   "cell_type": "code",
   "execution_count": 11,
   "id": "universal-short",
   "metadata": {},
   "outputs": [
    {
     "data": {
      "text/plain": [
       "910"
      ]
     },
     "execution_count": 11,
     "metadata": {},
     "output_type": "execute_result"
    }
   ],
   "source": [
    "# color nodes\n",
    "node_col_2 = '#FFC433' #(yellow)\n",
    "\n",
    "# color edges \n",
    "d_edge_col_2 = color_edges_from_nodelist_specific(G, l_genes_dismod_2_with, node_col_2)\n",
    "len(d_edge_col_2)"
   ]
  },
  {
   "cell_type": "markdown",
   "id": "terminal-garage",
   "metadata": {},
   "source": [
    "### Third Disease Vector | DOID:3620 - Central Nervous System Cancer"
   ]
  },
  {
   "cell_type": "code",
   "execution_count": 12,
   "id": "sophisticated-sector",
   "metadata": {},
   "outputs": [
    {
     "name": "stdout",
     "output_type": "stream",
     "text": [
      "Number of Genes overlap of NF1 neighbors and Disease Module: 1\n",
      "['3265']\n",
      "Number of Genes associated to DOID 3620 : 174\n"
     ]
    }
   ],
   "source": [
    "# -----------------------------\n",
    "num_doid_3 = '3620' #'0060115' \n",
    "# -----------------------------\n",
    "\n",
    "# define specific DOID \n",
    "dismod_3 = FM_disease.loc[:,'DOID:'+num_doid_3]\n",
    "dismod_3.index = FM_disease.index\n",
    "\n",
    "dismod_genes_3 = [] \n",
    "for i,v in enumerate(dismod_3.values):\n",
    "    if v == 1:\n",
    "        dismod_genes_3.append(dismod_3.index[i])\n",
    "    else:\n",
    "        pass\n",
    "\n",
    "l_genes_dismod_3 = [str(i) for i in dismod_genes_3]\n",
    "\n",
    "overlap_3 = []\n",
    "for i in dismod_genes_3:\n",
    "    if str(i) in nf_neighbors or int(i) in nf_neighbors:\n",
    "    #if str(i) in dismod_genes or int(i) in dismod_genes:\n",
    "        overlap_3.append(str(i))\n",
    "print('Number of Genes overlap of NF1 neighbors and Disease Module:', (len(overlap_3)))\n",
    "print(overlap_3)\n",
    "    \n",
    "l_genes_dismod_3_with = l_genes_dismod_3 + overlap_3 # + nf_neighbors[30:40]\n",
    "print('Number of Genes associated to DOID', num_doid_3,':',len(l_genes_dismod_3_with))"
   ]
  },
  {
   "cell_type": "markdown",
   "id": "earned-penguin",
   "metadata": {},
   "source": [
    "#### SPECIFIC NODE + EDGE COLORS"
   ]
  },
  {
   "cell_type": "code",
   "execution_count": 13,
   "id": "better-winner",
   "metadata": {},
   "outputs": [
    {
     "data": {
      "text/plain": [
       "496"
      ]
     },
     "execution_count": 13,
     "metadata": {},
     "output_type": "execute_result"
    }
   ],
   "source": [
    "# color nodes\n",
    "node_col_3 = '#BEDC00' # (yellowgreen)\n",
    "\n",
    "# color edges    \n",
    "d_edge_col_3 = color_edges_from_nodelist_specific(G, l_genes_dismod_3_with, node_col_3)\n",
    "len(d_edge_col_3)"
   ]
  },
  {
   "cell_type": "markdown",
   "id": "original-romantic",
   "metadata": {},
   "source": [
    "### Fourth Disease Vector | DOID:0060089 - Endocrine Organ benign neoplasm"
   ]
  },
  {
   "cell_type": "code",
   "execution_count": 14,
   "id": "comic-bobby",
   "metadata": {},
   "outputs": [
    {
     "name": "stdout",
     "output_type": "stream",
     "text": [
      "Number of Genes overlap of NF1 neighbors and Disease Module: 1\n",
      "['3265']\n",
      "Number of Genes associated to DOID 0060089 : 123\n"
     ]
    }
   ],
   "source": [
    "# -----------------------------\n",
    "num_doid_4 = '0060089'\n",
    "# -----------------------------\n",
    "\n",
    "# define specific DOID \n",
    "dismod_4 = FM_disease.loc[:,'DOID:'+num_doid_4]\n",
    "dismod_4.index = FM_disease.index\n",
    "dismod_id_4 = 'DOID'+num_doid_4\n",
    "\n",
    "dismod_genes_4 = [] \n",
    "for i,v in enumerate(dismod_4.values):\n",
    "    if v == 1:\n",
    "        dismod_genes_4.append(dismod_4.index[i])\n",
    "    else:\n",
    "        pass\n",
    "    \n",
    "l_genes_dismod_4 = [str(i) for i in dismod_genes_4]\n",
    "\n",
    "overlap_4 = []\n",
    "for i in dismod_genes_4:\n",
    "    if str(i) in nf_neighbors or int(i) in nf_neighbors:\n",
    "    #if str(i) in dismod_genes or int(i) in dismod_genes:\n",
    "        overlap_4.append(str(i))\n",
    "print('Number of Genes overlap of NF1 neighbors and Disease Module:', (len(overlap_4)))\n",
    "print(overlap_4) \n",
    "      \n",
    "l_genes_dismod_4_with = l_genes_dismod_4 + overlap_4 # + nf_neighbors[40:]\n",
    "print('Number of Genes associated to DOID', num_doid_4,':',len(l_genes_dismod_4_with))"
   ]
  },
  {
   "cell_type": "markdown",
   "id": "abandoned-samba",
   "metadata": {},
   "source": [
    "#### SPECIFIC NODE + EDGE COLORS"
   ]
  },
  {
   "cell_type": "code",
   "execution_count": 15,
   "id": "hired-mexico",
   "metadata": {},
   "outputs": [
    {
     "data": {
      "text/plain": [
       "118"
      ]
     },
     "execution_count": 15,
     "metadata": {},
     "output_type": "execute_result"
    }
   ],
   "source": [
    "# color nodes\n",
    "node_col_4 = '#992121' # '#A60C0C' # (darkred)\n",
    "\n",
    "# color edges    \n",
    "d_edge_col_4 = color_edges_from_nodelist_specific(G, l_genes_dismod_4_with, node_col_4)\n",
    "len(d_edge_col_4)"
   ]
  },
  {
   "cell_type": "markdown",
   "id": "ac5600a3-5eb6-4e6d-aab0-d51d0e6cdaf8",
   "metadata": {
    "tags": []
   },
   "source": [
    "## VECTOR : NF1 neighbors"
   ]
  },
  {
   "cell_type": "code",
   "execution_count": 16,
   "id": "dc1e2f7d-2ac9-4a37-b331-f30dfc1cc964",
   "metadata": {},
   "outputs": [
    {
     "name": "stdout",
     "output_type": "stream",
     "text": [
      "Links of NF1 gene: 49\n"
     ]
    }
   ],
   "source": [
    "##########################\n",
    "\n",
    "# colors for NF1 neighbors\n",
    "\n",
    "##########################\n",
    "\n",
    "d_edge_col_neigh = color_edges_from_node(G, '4763', node_col_dismod)\n",
    "overlap_merged = overlap_1 + overlap_2 + overlap_3 + overlap_4 \n",
    "print('Links of NF1 gene:',len(d_edge_col_neigh))"
   ]
  },
  {
   "cell_type": "markdown",
   "id": "8d2bd94c-8edb-46ec-8d49-5f46ca8681b0",
   "metadata": {},
   "source": [
    "### 2D PORTRAIT POSITIONING "
   ]
  },
  {
   "cell_type": "code",
   "execution_count": 18,
   "id": "74e5d829-3a56-4ff3-ad60-9486d387dce0",
   "metadata": {},
   "outputs": [
    {
     "name": "stdout",
     "output_type": "stream",
     "text": [
      "CPU times: user 1h 33min 35s, sys: 51.8 s, total: 1h 34min 26s\n",
      "Wall time: 1h 31min 39s\n"
     ]
    }
   ],
   "source": [
    "%%time \n",
    "\n",
    "iteration = 500 \n",
    "posG_spring2D = springlayout_2D(G,itr = iteration)\n",
    "posG = posG_spring2D"
   ]
  },
  {
   "cell_type": "markdown",
   "id": "d9f1b4fa-3104-42b4-bd71-bfade8318954",
   "metadata": {
    "tags": []
   },
   "source": [
    "### VISUAL SETTINGS + PLOT PREPARATION"
   ]
  },
  {
   "cell_type": "markdown",
   "id": "c7778a2c-ac86-432d-b238-264e5e2f75fc",
   "metadata": {},
   "source": [
    "#### GENERAL NODE + EDGE COLORS "
   ]
  },
  {
   "cell_type": "code",
   "execution_count": 19,
   "id": "35bb6513-3f67-4acc-827c-5f6c6031847a",
   "metadata": {
    "tags": []
   },
   "outputs": [],
   "source": [
    "opacity_nodes = 0.8\n",
    "node_edge_col = '#696969' \n",
    "node_linewidth = 2\n",
    "\n",
    "scale_factor = 0.55\n",
    "size_plotly = list(draw_node_degree(G, scale_factor/100).values())\n",
    "\n",
    "width_edges = 0.45\n",
    "opacity_edges = 0.30"
   ]
  },
  {
   "cell_type": "markdown",
   "id": "3aae29bd-018a-4a41-b2c9-e1c5a8ac81fc",
   "metadata": {},
   "source": [
    "#### MERGE NODE COLORS > 4 diseases = 4 different colors "
   ]
  },
  {
   "cell_type": "code",
   "execution_count": 20,
   "id": "4d06da22-416b-466d-8d81-bb0606c74c94",
   "metadata": {},
   "outputs": [],
   "source": [
    "# merge all node colors (and sort like G.nodes)\n",
    "\n",
    "col_param = list(df_centralities['closeness'].values)\n",
    "d_node_colors = dict(zip(list(G.nodes()), col_param))\n",
    "\n",
    "c1='#E6E6E6' \n",
    "c2='#9B9B9B' \n",
    "n=len(set(col_param))\n",
    "\n",
    "colors_for_palette = []\n",
    "for x in range(n+1):\n",
    "    colors_for_palette.append(colorFader(c1,c2,x/n))    \n",
    "\n",
    "customPalette = sns.set_palette(sns.color_palette(colors_for_palette))\n",
    "d_colors = color_nodes_from_dict(G, d_node_colors, palette = customPalette)\n",
    "\n",
    "d_col_all = {}\n",
    "for k,v in d_colors.items():\n",
    "    \n",
    "    # color for all NF1 associated genes (i.e. neighbors, NF1 disease module) \n",
    "    if k in l_genes_dismod or k in nf_neighbors:\n",
    "        d_col_all[k] = node_col_dismod\n",
    "\n",
    "    # disease module colors \n",
    "    elif k in l_genes_dismod_1:\n",
    "        d_col_all[k] = node_col_1\n",
    "        \n",
    "    elif k in l_genes_dismod_2:\n",
    "        d_col_all[k] = node_col_2\n",
    "        \n",
    "    elif k in l_genes_dismod_3:\n",
    "        d_col_all[k] = node_col_3\n",
    "    \n",
    "    elif k in l_genes_dismod_4:\n",
    "        d_col_all[k] = node_col_4\n",
    "    \n",
    "    else:\n",
    "        d_col_all[k]=v\n",
    "        \n",
    "colors = list(d_col_all.values())\n",
    "l_genes_all = l_genes_dismod + l_genes_dismod_1 + l_genes_dismod_2 + l_genes_dismod_3 + l_genes_dismod_4 + nf_neighbors "
   ]
  },
  {
   "cell_type": "markdown",
   "id": "b06ed9d8-8351-4a8d-9a55-eca0966f3602",
   "metadata": {
    "tags": []
   },
   "source": [
    "### PLOT NETWORK PORTRAIT - plotly "
   ]
  },
  {
   "cell_type": "code",
   "execution_count": 23,
   "id": "ba657d67-9be3-40b6-b19e-7cbc46774300",
   "metadata": {},
   "outputs": [
    {
     "data": {
      "text/plain": [
       "'output_plots/2Dlayouts/2DSPRING_NFComparison_500_DOIDs3165_10534_3620_0060089_human_withLinks.html'"
      ]
     },
     "execution_count": 23,
     "metadata": {},
     "output_type": "execute_result"
    }
   ],
   "source": [
    "# plot nodes based on focus > separate to background/foreground \n",
    "\n",
    "posG_foreground = {}\n",
    "posG_background = {}\n",
    "for k,v in posG.items():\n",
    "    if k in l_genes_all:\n",
    "        posG_foreground[k]=v\n",
    "    else: \n",
    "        posG_background[k]=v\n",
    "    \n",
    "d_colors_foreground = {}\n",
    "d_colors_background = {}\n",
    "for i,c in d_col_all.items():\n",
    "    if i in posG_foreground.keys():\n",
    "        d_colors_foreground[i]=c\n",
    "    else: \n",
    "        d_colors_background[i]=c\n",
    "\n",
    "colors_foreground = list(d_colors_foreground.values())\n",
    "colors_background = list(d_colors_background.values())\n",
    "\n",
    "d_feat_foreground = {}\n",
    "d_feat_background = {}\n",
    "for k,v in d_gene_sym.items():\n",
    "    if k in posG_foreground: \n",
    "        d_feat_foreground[k]=v\n",
    "    else:\n",
    "        d_feat_background[k]=v\n",
    "        \n",
    "feat_foreground = list(d_feat_foreground.values())\n",
    "feat_background = list(d_feat_background.values())\n",
    "\n",
    "d_size_plotly = draw_node_degree(G, scale_factor/500)\n",
    "d_size_plotly_foreground = {}\n",
    "d_size_plotly_background = {}\n",
    "for k,v in d_size_plotly.items():\n",
    "    if k in posG_foreground.keys():\n",
    "        d_size_plotly_foreground[k]=v\n",
    "    else:\n",
    "        d_size_plotly_background[k]=v\n",
    "        \n",
    "size_plotly_foreground = list(d_size_plotly_foreground.values())\n",
    "size_plotly_background = list(d_size_plotly_background.values())\n",
    "\n",
    "\n",
    "umap_nodes_foreground = get_trace_nodes_2D(posG_foreground, feat_foreground, colors_foreground, size_plotly_foreground, \n",
    "                                           node_linewidth*0.25, 0.8)\n",
    "umap_nodes_foreground_ = get_trace_nodes_2D(posG_foreground, feat_foreground, colors_foreground, 5,\n",
    "                                           None, 0.15)\n",
    "umap_nodes_background = get_trace_nodes_2D(posG_background, feat_background, colors_background, size_plotly_background, \n",
    "                                           None,0.5) \n",
    "umap_nodes_background_ = get_trace_nodes_2D(posG_background, feat_background, colors_background, 2, \n",
    "                                           None,0.5)\n",
    "\n",
    "# DOID 8712 - NF1 edges\n",
    "umap_edges_dismod = get_trace_edges_specific2D(d_edge_col_dismod,\n",
    "                                               #posG, linew=0.25, opac=0.25)\n",
    "                                               posG, linew=0.65, opac=0.55)\n",
    "\n",
    "                                               \n",
    "# NF1 gene links to other genes (direct neighbors) \n",
    "umap_edges_dismod_neigh = get_trace_edges_specific2D(d_edge_col_neigh, \n",
    "                                                     #posG, linew=0.5, opac=0.25)\n",
    "                                                     posG, linew=0.45, opac=0.55)\n",
    "\n",
    "umap_edges_1 = get_trace_edges_specific2D(d_edge_col_1, \n",
    "                                          posG, linew=width_edges, opac=opacity_edges)\n",
    "                                          #posG, linew=0.45, opac=0.55)\n",
    "\n",
    "umap_edges_2 = get_trace_edges_specific2D(d_edge_col_2, \n",
    "                                          posG, linew=width_edges,opac=opacity_edges)\n",
    "                                          #posG, linew=0.45, opac=0.55)\n",
    "\n",
    "umap_edges_3 = get_trace_edges_specific2D(d_edge_col_3,\n",
    "                                          posG, linew=width_edges, opac=opacity_edges)\n",
    "                                          #posG, linew=0.45, opac=0.55)\n",
    "\n",
    "umap_edges_4 = get_trace_edges_specific2D(d_edge_col_4, \n",
    "                                          posG, linew=width_edges, opac=opacity_edges)\n",
    "                                          #posG, linew=0.45, opac=0.55)\n",
    "\n",
    "data = [\n",
    "        umap_nodes_background_, \n",
    "        umap_nodes_background, \n",
    "    \n",
    "        umap_edges_1, \n",
    "        umap_edges_2,\n",
    "        umap_edges_3,\n",
    "        umap_edges_4,\n",
    "        umap_edges_dismod,\n",
    "        umap_edges_dismod_neigh,\n",
    "\n",
    "        umap_nodes_foreground_,\n",
    "        umap_nodes_foreground]\n",
    "\n",
    "path = 'output_plots/2Dlayouts/'\n",
    "schema = 'light' #'dark' \n",
    "fname = '2DSPRING_NFComparison_'+str(iteration)+'_'+'DOIDs'+num_doid_1+'_'+num_doid_2+'_'+num_doid_3+'_'+num_doid_4+'_'+organism\n",
    "fname_withLinks = '2DSPRING_NFComparison_'+str(iteration)+'_'+'DOIDs'+num_doid_1+'_'+num_doid_2+'_'+num_doid_3+'_'+num_doid_4+'_'+organism+'_withLinks'\n",
    "\n",
    "plot_2D(data,path,fname_withLinks)"
   ]
  },
  {
   "cell_type": "code",
   "execution_count": null,
   "id": "bd2dc4b8-5ab5-4fed-87bd-129a6e7565c5",
   "metadata": {},
   "outputs": [],
   "source": []
  },
  {
   "cell_type": "code",
   "execution_count": null,
   "id": "bc611d9a-39cf-4980-bc85-82d313217b3c",
   "metadata": {},
   "outputs": [],
   "source": []
  },
  {
   "cell_type": "code",
   "execution_count": null,
   "id": "a92a4d6a-9714-43df-8e2d-463c993c5962",
   "metadata": {},
   "outputs": [],
   "source": []
  },
  {
   "cell_type": "code",
   "execution_count": null,
   "id": "791998af-50ba-44e6-8f77-149b2c15781f",
   "metadata": {},
   "outputs": [],
   "source": []
  },
  {
   "cell_type": "code",
   "execution_count": null,
   "id": "2c328adf-9ece-4a40-aca6-2588b0e4b76a",
   "metadata": {},
   "outputs": [],
   "source": []
  },
  {
   "cell_type": "code",
   "execution_count": null,
   "id": "21b1fdb2-d244-4997-8599-394f638a038a",
   "metadata": {},
   "outputs": [],
   "source": []
  },
  {
   "cell_type": "code",
   "execution_count": null,
   "id": "b7837e16-95a9-4146-a401-f6ee1ac680ac",
   "metadata": {},
   "outputs": [],
   "source": []
  },
  {
   "cell_type": "code",
   "execution_count": null,
   "id": "61ebf5bb-cda4-4ac7-b9a4-595c18de4b84",
   "metadata": {},
   "outputs": [],
   "source": []
  },
  {
   "cell_type": "code",
   "execution_count": null,
   "id": "427c7d95-d7c2-47dd-8fab-349d5046f702",
   "metadata": {},
   "outputs": [],
   "source": []
  },
  {
   "cell_type": "code",
   "execution_count": null,
   "id": "4b6973f4-ad28-4326-99f9-6caa9019a381",
   "metadata": {},
   "outputs": [],
   "source": []
  },
  {
   "cell_type": "code",
   "execution_count": null,
   "id": "235f0eb1-0bc0-412b-9da2-0678e2babdec",
   "metadata": {},
   "outputs": [],
   "source": [
    "overlap_merged = overlap_1 + overlap_2 + overlap_3 + overlap_4 \n",
    "\n",
    "nf_rest = []\n",
    "for i in nf_neighbors: \n",
    "    if i in overlap_merged:\n",
    "        pass\n",
    "    else:\n",
    "        nf_rest.append(i)\n",
    "        \n",
    "DF_dismod_neighbors = pd.DataFrame(dismod.reindex(DF_structural.index ,fill_value=0))\n",
    "for i in DF_dismod_neighbors.index:\n",
    "    if i in nf_rest:\n",
    "        DF_dismod.loc[i] = 1\n",
    "    \n",
    "DF_dismod_neighbors.columns = ['NF neighbours']\n",
    "print('Number of neighbor genes rest:', len(nf_rest))"
   ]
  },
  {
   "cell_type": "code",
   "execution_count": null,
   "id": "d6d837c4-eec4-4776-a81b-5ce8ce5fa4a3",
   "metadata": {},
   "outputs": [],
   "source": [
    "##########################\n",
    "\n",
    "# colors for NF1 neighbors\n",
    "\n",
    "##########################\n",
    "\n",
    "d_edge_col_neigh = color_edges_from_node(G, '4763', node_col_dismod)\n",
    "overlap_merged = overlap_1 + overlap_2 + overlap_3 + overlap_4 \n",
    "print('Links of NF1 gene:',len(d_edge_col_neigh))"
   ]
  },
  {
   "cell_type": "markdown",
   "id": "failing-spare",
   "metadata": {},
   "source": [
    "### 2D SPRING LAYOUT "
   ]
  },
  {
   "cell_type": "code",
   "execution_count": null,
   "id": "greater-bibliography",
   "metadata": {},
   "outputs": [],
   "source": [
    "%%time \n",
    "\n",
    "itr = 100\n",
    "posG_spring2D = springlayout_2D(G, itr)\n",
    "posG = posG_spring2D"
   ]
  },
  {
   "cell_type": "markdown",
   "id": "descending-billy",
   "metadata": {
    "tags": []
   },
   "source": [
    "### VISUAL SETTINGS + PLOT PREPARATION"
   ]
  },
  {
   "cell_type": "markdown",
   "id": "inner-plymouth",
   "metadata": {},
   "source": [
    "#### GENERAL NODE + EDGE COLORS "
   ]
  },
  {
   "cell_type": "code",
   "execution_count": null,
   "id": "modern-chest",
   "metadata": {},
   "outputs": [],
   "source": [
    "opacity_nodes = 0.8\n",
    "node_edge_col = '#696969' \n",
    "node_linewidth = 2\n",
    "\n",
    "scale_factor = 0.55\n",
    "size_plotly = list(draw_node_degree(G, scale_factor/100).values())\n",
    "\n",
    "width_edges = 0.45\n",
    "opacity_edges = 0.15"
   ]
  },
  {
   "cell_type": "markdown",
   "id": "substantial-angola",
   "metadata": {},
   "source": [
    "#### MERGE NODE COLORS > 4 diseases = 4 different colors "
   ]
  },
  {
   "cell_type": "code",
   "execution_count": null,
   "id": "wooden-circulation",
   "metadata": {},
   "outputs": [],
   "source": [
    "# merge all node colors (and sort like G.nodes)\n",
    "\n",
    "col_param = list(df_centralities['closeness'].values)\n",
    "d_node_colors = dict(zip(list(G.nodes()), col_param))\n",
    "\n",
    "c1='#E6E6E6' \n",
    "c2='#9B9B9B' \n",
    "n=len(set(col_param))\n",
    "\n",
    "colors_for_palette = []\n",
    "for x in range(n+1):\n",
    "    colors_for_palette.append(colorFader(c1,c2,x/n))    \n",
    "\n",
    "customPalette = sns.set_palette(sns.color_palette(colors_for_palette))\n",
    "d_colors = color_nodes_from_dict(G, d_node_colors, palette = customPalette)\n",
    "\n",
    "d_col_all = {}\n",
    "for k,v in d_colors.items():\n",
    "    \n",
    "    # color for all NF1 associated genes (i.e. neighbors, NF1 disease module) \n",
    "    if k in l_genes_dismod or k in nf_neighbors:\n",
    "        d_col_all[k] = node_col_dismod\n",
    "\n",
    "    # disease module colors \n",
    "    elif k in l_genes_dismod_1:\n",
    "        d_col_all[k] = node_col_1\n",
    "        \n",
    "    elif k in l_genes_dismod_2:\n",
    "        d_col_all[k] = node_col_2\n",
    "        \n",
    "    elif k in l_genes_dismod_3:\n",
    "        d_col_all[k] = node_col_3\n",
    "    \n",
    "    elif k in l_genes_dismod_4:\n",
    "        d_col_all[k] = node_col_4\n",
    "    \n",
    "    else:\n",
    "        d_col_all[k]=v\n",
    "        \n",
    "colors = list(d_col_all.values())\n",
    "l_genes_all = l_genes_dismod + l_genes_dismod_1 + l_genes_dismod_2 + l_genes_dismod_3 + l_genes_dismod_4 + nf_neighbors "
   ]
  },
  {
   "cell_type": "markdown",
   "id": "supposed-alberta",
   "metadata": {
    "tags": []
   },
   "source": [
    "### PLOT NETWORK PORTRAIT - plotly "
   ]
  },
  {
   "cell_type": "code",
   "execution_count": null,
   "id": "90ce2ec0-b8a8-4d79-8a6e-d714e049df16",
   "metadata": {},
   "outputs": [],
   "source": [
    "# plot nodes based on focus > separate to background/foreground \n",
    "\n",
    "posG_foreground = {}\n",
    "posG_background = {}\n",
    "for k,v in posG.items():\n",
    "    if k in l_genes_all:\n",
    "        posG_foreground[k]=v\n",
    "    else: \n",
    "        posG_background[k]=v\n",
    "    \n",
    "d_colors_foreground = {}\n",
    "d_colors_background = {}\n",
    "for i,c in d_col_all.items():\n",
    "    if i in posG_foreground.keys():\n",
    "        d_colors_foreground[i]=c\n",
    "    else: \n",
    "        d_colors_background[i]=c\n",
    "\n",
    "colors_foreground = list(d_colors_foreground.values())\n",
    "colors_background = list(d_colors_background.values())\n",
    "\n",
    "d_feat_foreground = {}\n",
    "d_feat_background = {}\n",
    "for k,v in d_gene_sym.items():\n",
    "    if k in posG_foreground: \n",
    "        d_feat_foreground[k]=v\n",
    "    else:\n",
    "        d_feat_background[k]=v\n",
    "        \n",
    "feat_foreground = list(d_feat_foreground.values())\n",
    "feat_background = list(d_feat_background.values())\n",
    "\n",
    "d_size_plotly = draw_node_degree(G, scale_factor/100)\n",
    "d_size_plotly_foreground = {}\n",
    "d_size_plotly_background = {}\n",
    "for k,v in d_size_plotly.items():\n",
    "    if k in posG_foreground.keys():\n",
    "        d_size_plotly_foreground[k]=v\n",
    "    else:\n",
    "        d_size_plotly_background[k]=v\n",
    "        \n",
    "size_plotly_foreground = list(d_size_plotly_foreground.values())\n",
    "size_plotly_background = list(d_size_plotly_background.values())\n",
    "\n",
    "\n",
    "umap_nodes_foreground = get_trace_nodes_2D(posG_foreground, feat_foreground, colors_foreground, size_plotly_foreground, \n",
    "                                           node_linewidth*0.25, 0.8)\n",
    "umap_nodes_foreground_ = get_trace_nodes_2D(posG_foreground, feat_foreground, colors_foreground, 5,\n",
    "                                           None, 0.15)\n",
    "umap_nodes_background = get_trace_nodes_2D(posG_background, feat_background, colors_background, size_plotly_background, \n",
    "                                           None,0.5) \n",
    "umap_nodes_background_ = get_trace_nodes_2D(posG_background, feat_background, colors_background, 2, \n",
    "                                           None,0.5)\n",
    "\n",
    "# DOID 8712 - NF1 edges\n",
    "umap_edges_dismod = get_trace_edges_specific2D(d_edge_col_dismod,\n",
    "                                               #posG, linew=0.25, opac=0.25)\n",
    "                                               posG, linew=0.65, opac=0.55)\n",
    "\n",
    "                                               \n",
    "# NF1 gene links to other genes (direct neighbors) \n",
    "umap_edges_dismod_neigh = get_trace_edges_specific2D(d_edge_col_neigh, \n",
    "                                                     #posG, linew=0.5, opac=0.25)\n",
    "                                                     posG, linew=0.45, opac=0.55)\n",
    "\n",
    "umap_edges_1 = get_trace_edges_specific2D(d_edge_col_1, \n",
    "                                          posG, linew=width_edges, opac=opacity_edges)\n",
    "                                          #posG, linew=0.45, opac=0.55)\n",
    "\n",
    "umap_edges_2 = get_trace_edges_specific2D(d_edge_col_2, \n",
    "                                          posG, linew=width_edges,opac=opacity_edges)\n",
    "                                          #posG, linew=0.45, opac=0.55)\n",
    "\n",
    "umap_edges_3 = get_trace_edges_specific2D(d_edge_col_3,\n",
    "                                          posG, linew=width_edges, opac=opacity_edges)\n",
    "                                          #posG, linew=0.45, opac=0.55)\n",
    "\n",
    "umap_edges_4 = get_trace_edges_specific2D(d_edge_col_4, \n",
    "                                          posG, linew=width_edges, opac=opacity_edges)\n",
    "                                          #posG, linew=0.45, opac=0.55)\n",
    "\n",
    "data = [\n",
    "        umap_nodes_background_, \n",
    "        umap_nodes_background, \n",
    "    \n",
    "        #umap_edges_1, \n",
    "        #umap_edges_2,\n",
    "        #umap_edges_3,\n",
    "        #umap_edges_4,\n",
    "        umap_edges_dismod,\n",
    "        umap_edges_dismod_neigh,\n",
    "\n",
    "        umap_nodes_foreground_,\n",
    "        umap_nodes_foreground]\n",
    "\n",
    "path = 'output_plots/2Dlayouts/'\n",
    "schema = 'light' #'dark' \n",
    "fname = '2Dportrait_NF8712_'+'DOIDs'+num_doid_1+'_'+num_doid_2+'_'+num_doid_3+'_'+num_doid_4+'_enhDismod'+str(scalar_val_dismod)+'_enhContext'+str(scalar_val_discontext)+'_nn'+str(n_n)+'_spr'+str(spr)+'_md'+str(md)+'_'+str(metr)+'_'+organism\n",
    "\n",
    "plot_2D(data,path,fname)"
   ]
  },
  {
   "cell_type": "markdown",
   "id": "2c8acad7-cae3-40e6-a728-6bc211808185",
   "metadata": {
    "tags": []
   },
   "source": [
    "# EXPORT POSITIONS >  VRNETZER Format "
   ]
  },
  {
   "cell_type": "code",
   "execution_count": null,
   "id": "265b7f84-dda2-4010-9410-343353e2b161",
   "metadata": {},
   "outputs": [],
   "source": [
    "path = 'output_plots/VRlayouts/' \n",
    "layout_nmspce = '2Dportrait_NF1'\n",
    "cols = colors\n",
    "export_to_csv2D(path, layout_nmspce, posG, cols)"
   ]
  },
  {
   "cell_type": "markdown",
   "id": "voluntary-freeware",
   "metadata": {},
   "source": [
    "# FIGURE - NF1 + 8712 + NEIGHBORS OF NF1\n",
    "highlighting Neurofibromatosis + neighbors of gene NF1"
   ]
  },
  {
   "cell_type": "code",
   "execution_count": null,
   "id": "dffe1537-3f66-4ca3-b422-072eefb7e676",
   "metadata": {},
   "outputs": [],
   "source": [
    "# merge all node colors (and sort like G.nodes)\n",
    "\n",
    "col_param = list(df_centralities['closeness'].values)\n",
    "d_node_colors = dict(zip(list(G.nodes()), col_param))\n",
    "\n",
    "c1='#E6E6E6' \n",
    "c2='#9B9B9B' \n",
    "n=len(set(col_param))\n",
    "\n",
    "colors_for_palette = []\n",
    "for x in range(n+1):\n",
    "    colors_for_palette.append(colorFader(c1,c2,x/n))    \n",
    "\n",
    "customPalette = sns.set_palette(sns.color_palette(colors_for_palette))\n",
    "d_colors = color_nodes_from_dict(G, d_node_colors, palette = customPalette)\n",
    "\n",
    "d_col_all = {}\n",
    "for k,v in d_colors.items():\n",
    "    \n",
    "    if k in l_genes_dismod:\n",
    "        d_col_all[k] = node_col_dismod\n",
    "\n",
    "    elif k in nf_neighbors: \n",
    "        d_col_all[k] = node_col_dismod\n",
    "    \n",
    "    else:\n",
    "        d_col_all[k]=v\n",
    "        \n",
    "colors = list(d_col_all.values())"
   ]
  },
  {
   "cell_type": "code",
   "execution_count": null,
   "id": "reduced-singapore",
   "metadata": {},
   "outputs": [],
   "source": [
    "# plot nodes based on focus > separate to background/foreground \n",
    "\n",
    "posG_foreground = {}\n",
    "posG_background = {}\n",
    "for k,v in posG.items():\n",
    "    if k in l_genes_dismod:\n",
    "        posG_foreground[k]=v\n",
    "    else: \n",
    "        posG_background[k]=v\n",
    "    \n",
    "d_colors_foreground = {}\n",
    "d_colors_background = {}\n",
    "for i,c in d_col_all.items():\n",
    "    if i in posG_foreground.keys():\n",
    "        d_colors_foreground[i]=c\n",
    "    else: \n",
    "        d_colors_background[i]=c\n",
    "\n",
    "colors_foreground = list(d_colors_foreground.values())\n",
    "colors_background = list(d_colors_background.values())\n",
    "\n",
    "d_feat_foreground = {}\n",
    "d_feat_background = {}\n",
    "for k,v in d_gene_sym.items():\n",
    "    if k in posG_foreground: \n",
    "        d_feat_foreground[k]=v\n",
    "    else:\n",
    "        d_feat_background[k]=v\n",
    "        \n",
    "feat_foreground = list(d_feat_foreground.values())\n",
    "feat_background = list(d_feat_background.values())\n",
    "\n",
    "d_size_plotly = draw_node_degree(G, scale_factor/100)\n",
    "d_size_plotly_foreground = {}\n",
    "d_size_plotly_background = {}\n",
    "for k,v in d_size_plotly.items():\n",
    "    if k in posG_foreground.keys():\n",
    "        d_size_plotly_foreground[k]=v\n",
    "    else:\n",
    "        d_size_plotly_background[k]=v\n",
    "        \n",
    "size_plotly_foreground = list(d_size_plotly_foreground.values())\n",
    "size_plotly_background = list(d_size_plotly_background.values())\n",
    "\n",
    "\n",
    "umap_nodes_foreground = get_trace_nodes_2D(posG_foreground, feat_foreground, colors_foreground, size_plotly_foreground, \n",
    "                                           node_linewidth*0.25, 0.8)\n",
    "umap_nodes_foreground_ = get_trace_nodes_2D(posG_foreground, feat_foreground, colors_foreground, 5,\n",
    "                                           None, 0.2)\n",
    "umap_nodes_background = get_trace_nodes_2D(posG_background, feat_background, colors_background, size_plotly_background, \n",
    "                                           None,0.5) #node_linewidth*0.05, 0.5)\n",
    "umap_nodes_background_ = get_trace_nodes_2D(posG_background, feat_background, colors_background, 2, \n",
    "                                            None,0.5)\n",
    "\n",
    "umap_edges_dismod = get_trace_edges_specific2D(d_edge_col_dismod, posG, linew=width_edges, \n",
    "                                               opac=0.5)# opacity_edges)\n",
    "umap_edges_dismod_neigh = get_trace_edges_specific2D(d_edge_col_neigh, posG, linew=width_edges, \n",
    "                                                     opac=0.5) #opacity_edges)\n",
    "\n",
    "data = [\n",
    "        umap_edges_dismod,\n",
    "        umap_edges_dismod_neigh,\n",
    "        umap_nodes_background_, \n",
    "        umap_nodes_background, \n",
    "        umap_nodes_foreground_,\n",
    "        umap_nodes_foreground]\n",
    "\n",
    "path = 'output_plots/2Dlayouts/'\n",
    "schema = 'light' #'dark' \n",
    "fname_NF1links = '2Dportrait_NF8712_'+'DOIDs'+num_doid_1+'_'+num_doid_2+'_'+num_doid_3+'_'+num_doid_4+'_enhDismod'+str(scalar_val_dismod)+'_enhContext'+str(scalar_val_discontext)+'_nn'+str(n_n)+'_spr'+str(spr)+'_md'+str(md)+'_'+str(metr)+'_'+organism+'_NF1links'\n",
    "\n",
    "plot_2D(data,path,fname_NF1links)"
   ]
  },
  {
   "cell_type": "markdown",
   "id": "essential-angel",
   "metadata": {},
   "source": [
    "# FIGURE - ONLY NF1 + 8712\n",
    "highlighting Neurofibromatosis"
   ]
  },
  {
   "cell_type": "code",
   "execution_count": null,
   "id": "textile-teaching",
   "metadata": {},
   "outputs": [],
   "source": [
    "col_param = list(df_centralities['closeness'].values)\n",
    "d_node_colors = dict(zip(list(G.nodes()), col_param))\n",
    "\n",
    "c1='#E6E6E6' \n",
    "c2='#9B9B9B' \n",
    "n=len(set(col_param))\n",
    "\n",
    "colors_for_palette = []\n",
    "for x in range(n+1):\n",
    "    colors_for_palette.append(colorFader(c1,c2,x/n))    \n",
    "\n",
    "customPalette = sns.set_palette(sns.color_palette(colors_for_palette))\n",
    "d_colors = color_nodes_from_dict(G, d_node_colors, palette = customPalette)\n",
    "\n",
    "d_col_all = {}\n",
    "for k,v in d_colors.items():\n",
    "    if k in l_genes_dismod:\n",
    "        d_col_all[k] = node_col_dismod\n",
    "    \n",
    "    else:\n",
    "        d_col_all[k]=v\n",
    "        \n",
    "colors = list(d_col_all.values())"
   ]
  },
  {
   "cell_type": "code",
   "execution_count": null,
   "id": "assumed-tongue",
   "metadata": {},
   "outputs": [],
   "source": [
    "# plot nodes based on focus > separate to background/foreground \n",
    "\n",
    "posG_foreground = {}\n",
    "posG_background = {}\n",
    "for k,v in posG.items():\n",
    "    if k in l_genes_dismod:\n",
    "        posG_foreground[k]=v\n",
    "    else: \n",
    "        posG_background[k]=v\n",
    "    \n",
    "d_colors_foreground = {}\n",
    "d_colors_background = {}\n",
    "for i,c in d_col_all.items():\n",
    "    if i in posG_foreground.keys():\n",
    "        d_colors_foreground[i]=c\n",
    "    else: \n",
    "        d_colors_background[i]=c\n",
    "\n",
    "colors_foreground = list(d_colors_foreground.values())\n",
    "colors_background = list(d_colors_background.values())\n",
    "\n",
    "d_feat_foreground = {}\n",
    "d_feat_background = {}\n",
    "for k,v in d_gene_sym.items():\n",
    "    if k in posG_foreground: \n",
    "        d_feat_foreground[k]=v\n",
    "    else:\n",
    "        d_feat_background[k]=v\n",
    "        \n",
    "feat_foreground = list(d_feat_foreground.values())\n",
    "feat_background = list(d_feat_background.values())\n",
    "\n",
    "d_size_plotly = draw_node_degree(G, scale_factor/100)\n",
    "d_size_plotly_foreground = {}\n",
    "d_size_plotly_background = {}\n",
    "for k,v in d_size_plotly.items():\n",
    "    if k in posG_foreground.keys():\n",
    "        d_size_plotly_foreground[k]=v\n",
    "    else:\n",
    "        d_size_plotly_background[k]=v\n",
    "        \n",
    "size_plotly_foreground = list(d_size_plotly_foreground.values())\n",
    "size_plotly_background = list(d_size_plotly_background.values())\n",
    "\n",
    "\n",
    "umap_nodes_foreground = get_trace_nodes_2D(posG_foreground, feat_foreground, colors_foreground, size_plotly_foreground, \n",
    "                                           node_linewidth*0.25, 0.8)\n",
    "umap_nodes_foreground_ = get_trace_nodes_2D(posG_foreground, feat_foreground, colors_foreground, 5,\n",
    "                                           None, 0.2)\n",
    "umap_nodes_background = get_trace_nodes_2D(posG_background, feat_background, colors_background, size_plotly_background, \n",
    "                                           None,0.5) #node_linewidth*0.05, 0.5)\n",
    "umap_nodes_background_ = get_trace_nodes_2D(posG_background, feat_background, colors_background, 2, \n",
    "                                            None,0.5)\n",
    "\n",
    "umap_edges_dismod = get_trace_edges_specific2D(d_edge_col_dismod, posG, linew=0.5,#width_edges, \n",
    "                                               opac=0.9) #opacity_edges)\n",
    "\n",
    "data = [\n",
    "        #umap_edges_dismod,\n",
    "        umap_nodes_background_, \n",
    "        umap_nodes_background, \n",
    "        umap_nodes_foreground_,\n",
    "        umap_nodes_foreground]\n",
    "\n",
    "path = 'output_plots/2Dlayouts/'\n",
    "schema = 'light' #'dark' \n",
    "fname_NF1module = '2Dportrait_NF8712_'+'DOIDs'+num_doid_1+'_'+num_doid_2+'_'+num_doid_3+'_'+num_doid_4+'_enhDismod'+str(scalar_val_dismod)+'_enhContext'+str(scalar_val_discontext)+'_nn'+str(n_n)+'_spr'+str(spr)+'_md'+str(md)+'_'+str(metr)+'_'+organism+'_NF1module_nolinks'\n",
    "\n",
    "plot_2D(data,path,fname_NF1module)"
   ]
  },
  {
   "cell_type": "code",
   "execution_count": null,
   "id": "graduate-release",
   "metadata": {},
   "outputs": [],
   "source": []
  },
  {
   "cell_type": "code",
   "execution_count": null,
   "id": "comfortable-grill",
   "metadata": {},
   "outputs": [],
   "source": []
  },
  {
   "cell_type": "code",
   "execution_count": null,
   "id": "loaded-adams",
   "metadata": {},
   "outputs": [],
   "source": []
  },
  {
   "cell_type": "code",
   "execution_count": null,
   "id": "rational-hospital",
   "metadata": {},
   "outputs": [],
   "source": []
  },
  {
   "cell_type": "code",
   "execution_count": null,
   "id": "proof-disease",
   "metadata": {},
   "outputs": [],
   "source": []
  },
  {
   "cell_type": "code",
   "execution_count": null,
   "id": "fitting-corpus",
   "metadata": {},
   "outputs": [],
   "source": []
  },
  {
   "cell_type": "code",
   "execution_count": null,
   "id": "stupid-windsor",
   "metadata": {},
   "outputs": [],
   "source": []
  },
  {
   "cell_type": "code",
   "execution_count": null,
   "id": "reserved-export",
   "metadata": {},
   "outputs": [],
   "source": []
  },
  {
   "cell_type": "code",
   "execution_count": null,
   "id": "qualified-thirty",
   "metadata": {},
   "outputs": [],
   "source": []
  },
  {
   "cell_type": "code",
   "execution_count": null,
   "id": "disabled-intent",
   "metadata": {},
   "outputs": [],
   "source": []
  },
  {
   "cell_type": "code",
   "execution_count": null,
   "id": "indonesian-limit",
   "metadata": {},
   "outputs": [],
   "source": []
  },
  {
   "cell_type": "code",
   "execution_count": null,
   "id": "differential-twins",
   "metadata": {},
   "outputs": [],
   "source": []
  },
  {
   "cell_type": "code",
   "execution_count": null,
   "id": "unique-salon",
   "metadata": {},
   "outputs": [],
   "source": []
  },
  {
   "cell_type": "code",
   "execution_count": null,
   "id": "younger-cursor",
   "metadata": {},
   "outputs": [],
   "source": []
  },
  {
   "cell_type": "markdown",
   "id": "intense-cradle",
   "metadata": {},
   "source": [
    "# VERY MUCH WORK IN PROGRESS "
   ]
  },
  {
   "cell_type": "markdown",
   "id": "desperate-antibody",
   "metadata": {},
   "source": [
    "# 4. | STRUC + FUNC (complete disease matrix)"
   ]
  },
  {
   "cell_type": "code",
   "execution_count": null,
   "id": "severe-crown",
   "metadata": {},
   "outputs": [],
   "source": [
    "FM_disease = pd.read_csv('input/Features_Disease_Dataframe_'+organism+'.csv', index_col=0)"
   ]
  },
  {
   "cell_type": "code",
   "execution_count": null,
   "id": "durable-fiber",
   "metadata": {},
   "outputs": [],
   "source": [
    "# --------------------------------------\n",
    "#\n",
    "scalar_val = 4\n",
    "#\n",
    "# --------------------------------------\n",
    "\n",
    "enhance_factor = round((1-l_max_visprob)*scalar_val,10) # for emphasizing functional features > should be >= max of structural matrix values  # if significantly higher than max values in structural matrix > causes isolation of nodes with functional features enhanced\n",
    "print('ENHANCING FACTOR functional features: ',enhance_factor)\n",
    "\n",
    "n_n = 14\n",
    "spr = 1\n",
    "md = 0.0\n",
    "metr = 'cosine'"
   ]
  },
  {
   "cell_type": "code",
   "execution_count": null,
   "id": "proved-bubble",
   "metadata": {},
   "outputs": [],
   "source": [
    "# create an empty matrix for zeros of rest genes (not associated to any disease)\n",
    "rest = []\n",
    "for i in G.nodes():\n",
    "    if str(i) in FM_disease.index or int(i) in FM_disease.index:\n",
    "        pass\n",
    "    else: \n",
    "        rest.append(str(i))\n",
    "        \n",
    "empty = np.zeros(shape=(len(rest),len(FM_disease.columns)))\n",
    "empty_stacked = np.vstack(empty)\n",
    "df_empty = pd.DataFrame(empty_stacked)\n",
    "df_empty.index = rest\n",
    "df_empty.columns = FM_disease.columns"
   ]
  },
  {
   "cell_type": "code",
   "execution_count": null,
   "id": "exposed-victoria",
   "metadata": {},
   "outputs": [],
   "source": [
    "# combine disease vector with rest of genes in graph\n",
    "df_diseases_complete = pd.concat([FM_disease, df_empty])\n",
    "df_diseases_complete"
   ]
  },
  {
   "cell_type": "code",
   "execution_count": null,
   "id": "complex-liver",
   "metadata": {},
   "outputs": [],
   "source": [
    "# reorder according to G.nodes\n",
    "DF_diseases_reorder = df_diseases_complete.reindex(DF_structural.index)\n",
    "\n",
    "# fill nan positions (due to reordering) with 1 \n",
    "DF_diseases_new = DF_diseases_reorder.replace(np.nan,1)\n",
    "\n",
    "# multiply with enhancing factor\n",
    "DF_diseases_scal = DF_diseases_new*enhance_factor \n",
    "\n",
    "DF_merge_diseases = pd.concat([DF_structural.T, \n",
    "                             DF_diseases_scal],axis=1)\n",
    "\n",
    "DF_merge_diseases"
   ]
  },
  {
   "cell_type": "markdown",
   "id": "mature-employment",
   "metadata": {},
   "source": [
    "### 2D PORTRAIT"
   ]
  },
  {
   "cell_type": "code",
   "execution_count": null,
   "id": "nuclear-czech",
   "metadata": {},
   "outputs": [],
   "source": [
    "n_n = 12\n",
    "spr = 1\n",
    "md = 0.0\n",
    "metr = 'cosine'"
   ]
  },
  {
   "cell_type": "code",
   "execution_count": null,
   "id": "amazing-chambers",
   "metadata": {},
   "outputs": [],
   "source": [
    "%%time \n",
    "\n",
    "posG_umap2D = layout_portrait_umap(G,DF_merge_diseases, 2,\n",
    "                                   n_neighbors = n_n,\n",
    "                                   spread = spr,\n",
    "                                   min_dist = md,\n",
    "                                   metric = metr) \n",
    "posG = posG_umap2D"
   ]
  },
  {
   "cell_type": "markdown",
   "id": "clean-officer",
   "metadata": {
    "tags": []
   },
   "source": [
    "## VISUAL SETTINGS + PLOT PREPARATION"
   ]
  },
  {
   "cell_type": "markdown",
   "id": "comparative-dominant",
   "metadata": {},
   "source": [
    "#### NODES - GENERAL"
   ]
  },
  {
   "cell_type": "code",
   "execution_count": null,
   "id": "clinical-affairs",
   "metadata": {},
   "outputs": [],
   "source": [
    "opacity_nodes = 0.8\n",
    "node_edge_col = '#696969' \n",
    "node_linewidth = 1\n",
    "\n",
    "scale_factor = 0.5\n",
    "size_plotly = list(draw_node_degree(G, scale_factor/100).values())"
   ]
  },
  {
   "cell_type": "code",
   "execution_count": null,
   "id": "australian-camel",
   "metadata": {
    "tags": []
   },
   "outputs": [],
   "source": [
    "color_method = 'NF1'\n",
    "l_genes = enhance_genes\n",
    "\n",
    "node_col = '#00E3DF' #'#FF8E00' \n",
    "undefined_col = '#DEDEDE'\n",
    "rest_col_nodes = '#DEDEDE'\n",
    "\n",
    "d_col_all = color_nodes_from_list(G, l_genes, node_col)\n",
    "colors = list(d_col_all.values())\n",
    "    \n",
    "edge_color = node_col \n",
    "d_edge_col = color_edges_from_nodelist_specific(G, l_genes, node_col)\n",
    "width_edges = 0.25\n",
    "opacity_edges = 0.5"
   ]
  },
  {
   "cell_type": "markdown",
   "id": "sporting-orange",
   "metadata": {
    "tags": []
   },
   "source": [
    "## PLOT NETWORK PORTRAIT - plotly "
   ]
  },
  {
   "cell_type": "code",
   "execution_count": null,
   "id": "subtle-texture",
   "metadata": {
    "tags": []
   },
   "outputs": [],
   "source": [
    "# plot nodes based on focus > separate to background/foreground \n",
    "\n",
    "posG_foreground = {}\n",
    "posG_background = {}\n",
    "for k,v in posG.items():\n",
    "    if k in l_genes:\n",
    "        posG_foreground[k]=v\n",
    "    else: \n",
    "        posG_background[k]=v\n",
    "    \n",
    "d_colors_foreground = {}\n",
    "d_colors_background = {}\n",
    "for i,c in d_col_all.items():\n",
    "    if i in posG_foreground.keys():\n",
    "        d_colors_foreground[i]=c\n",
    "    else: \n",
    "        d_colors_background[i]=c\n",
    "\n",
    "colors_foreground = list(d_colors_foreground.values())\n",
    "colors_background = list(d_colors_background.values())\n",
    "\n",
    "d_feat_foreground = {}\n",
    "d_feat_background = {}\n",
    "for k,v in d_gene_sym.items():\n",
    "    if k in posG_foreground: \n",
    "        d_feat_foreground[k]=v\n",
    "    else:\n",
    "        d_feat_background[k]=v\n",
    "        \n",
    "feat_foreground = list(d_feat_foreground.values())\n",
    "feat_background = list(d_feat_background.values())\n",
    "\n",
    "d_size_plotly = draw_node_degree(G, scale_factor/100)\n",
    "d_size_plotly_foreground = {}\n",
    "d_size_plotly_background = {}\n",
    "for k,v in d_size_plotly.items():\n",
    "    if k in posG_foreground.keys():\n",
    "        d_size_plotly_foreground[k]=v\n",
    "    else:\n",
    "        d_size_plotly_background[k]=v\n",
    "        \n",
    "size_plotly_foreground = list(d_size_plotly_foreground.values())\n",
    "size_plotly_background = list(d_size_plotly_background.values())"
   ]
  },
  {
   "cell_type": "code",
   "execution_count": null,
   "id": "gross-puzzle",
   "metadata": {},
   "outputs": [],
   "source": [
    "umap_nodes_foreground = get_trace_nodes_2D(posG_foreground, feat_foreground, colors_foreground, size_plotly_foreground, node_linewidth)\n",
    "umap_nodes_background = get_trace_nodes_2D(posG_background, feat_background, colors_background, size_plotly_background, node_linewidth*0.25)\n",
    "umap_nodes_background_ = get_trace_nodes_2D(posG_background, feat_background, colors_background, 0.5, node_linewidth*0.5)\n",
    "\n",
    "umap_edges = get_trace_edges_specific2D(d_edge_col, posG, linew=width_edges, opac=opacity_edges)\n",
    "data = [umap_edges, umap_nodes_background_, umap_nodes_background, umap_nodes_foreground]\n",
    "\n",
    "path = 'output_plots/2Dlayouts/'\n",
    "schema = 'light' #'dark' \n",
    "fname = '2Dportrait_NetlayoutDisease_DiseaseFeatureMatrix_enhance'+str(enhance_factor)+'_'+color_method+'_nn'+str(n_n)+'_spr'+str(spr)+'_md'+str(md)+'_'+str(metr)+'_'+organism\n",
    "\n",
    "plot_2D(data,path,fname)"
   ]
  },
  {
   "cell_type": "code",
   "execution_count": null,
   "id": "judicial-vermont",
   "metadata": {},
   "outputs": [],
   "source": []
  },
  {
   "cell_type": "code",
   "execution_count": null,
   "id": "contemporary-representation",
   "metadata": {},
   "outputs": [],
   "source": []
  },
  {
   "cell_type": "code",
   "execution_count": null,
   "id": "resident-passion",
   "metadata": {},
   "outputs": [],
   "source": []
  },
  {
   "cell_type": "code",
   "execution_count": null,
   "id": "respiratory-galaxy",
   "metadata": {},
   "outputs": [],
   "source": []
  }
 ],
 "metadata": {
  "kernelspec": {
   "display_name": "myenv",
   "language": "python",
   "name": "myenv"
  },
  "language_info": {
   "codemirror_mode": {
    "name": "ipython",
    "version": 3
   },
   "file_extension": ".py",
   "mimetype": "text/x-python",
   "name": "python",
   "nbconvert_exporter": "python",
   "pygments_lexer": "ipython3",
   "version": "3.8.2"
  }
 },
 "nbformat": 4,
 "nbformat_minor": 5
}
