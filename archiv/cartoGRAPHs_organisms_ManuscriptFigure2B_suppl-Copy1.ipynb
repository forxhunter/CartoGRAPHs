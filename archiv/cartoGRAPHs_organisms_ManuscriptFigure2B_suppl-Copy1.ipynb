{
 "cells": [
  {
   "cell_type": "markdown",
   "id": "corresponding-alert",
   "metadata": {},
   "source": [
    "-----\n",
    "# cartoGRAPHs - FIGURE 2B Suppl.\n",
    "precalculated large networks , e.g. the Interactome\n",
    "\n",
    "A Notebook to produce 2D and 3D network layouts from any Graph,\n",
    "including interactive visualization (html files) and export functions \n",
    "to import into the VRNetzer analytics platform by Pirch et al.\n",
    "\n",
    "-----"
   ]
  },
  {
   "cell_type": "code",
   "execution_count": 1,
   "id": "hairy-provision",
   "metadata": {},
   "outputs": [
    {
     "name": "stderr",
     "output_type": "stream",
     "text": [
      "2021-10-13 18:22:12.079049: I tensorflow/compiler/jit/xla_cpu_device.cc:41] Not creating XLA devices, tf_xla_enable_xla_devices not set\n",
      "2021-10-13 18:22:12.079440: I tensorflow/core/platform/cpu_feature_guard.cc:142] This TensorFlow binary is optimized with oneAPI Deep Neural Network Library (oneDNN) to use the following CPU instructions in performance-critical operations:  AVX2 AVX512F FMA\n",
      "To enable them in other operations, rebuild TensorFlow with the appropriate compiler flags.\n"
     ]
    }
   ],
   "source": [
    "from cartoGRAPHs import * \n",
    "\n",
    "from func_load_data import *\n",
    "from func_visual_properties import * \n",
    "from func_calculations import * \n",
    "from func_embed_plot import *\n",
    "from func_exportVR import * "
   ]
  },
  {
   "cell_type": "markdown",
   "id": "surface-functionality",
   "metadata": {},
   "source": [
    "_____\n",
    "# HUMAN NETWORK\n",
    "_____"
   ]
  },
  {
   "cell_type": "code",
   "execution_count": 2,
   "id": "mineral-pharmacy",
   "metadata": {},
   "outputs": [],
   "source": [
    "organism = 'human'\n",
    "\n",
    "G = load_graph(organism) \n",
    "\n",
    "d_gene_sym = load_genesymbols(G, organism)\n",
    "l_features = list(d_gene_sym.values())\n",
    "\n",
    "d_gene_do = pickle.load( open( \"input/d_gene_do.pkl\", \"rb\" ) )\n",
    "d_do_genes = pickle.load( open( \"input/d_do_genes.pkl\", \"rb\" ) )\n",
    "d_do_names = pickle.load( open( \"input/DO_names.pkl\", \"rb\" ) )\n",
    "d_names_do = {y:x for x,y in d_do_names.items()}"
   ]
  },
  {
   "cell_type": "code",
   "execution_count": 3,
   "id": "handy-winning",
   "metadata": {},
   "outputs": [],
   "source": [
    "d_centralities = load_centralities(G, organism)\n",
    "df_centralities = pd.DataFrame(d_centralities).T\n",
    "df_centralities.columns = ['degree','closeness', 'betweeness', 'eigenvector']\n",
    "essential_genes,non_ess_genes,notdefined_genes = load_essentiality(G, organism)"
   ]
  },
  {
   "cell_type": "markdown",
   "id": "necessary-malawi",
   "metadata": {
    "tags": []
   },
   "source": [
    "_____ \n",
    "# LOAD DATA\n",
    "_____"
   ]
  },
  {
   "cell_type": "code",
   "execution_count": 5,
   "id": "other-humidity",
   "metadata": {},
   "outputs": [],
   "source": [
    "# get Layout basis --> global layout matrix \n",
    "DF_structural = load_datamatrix(G,organism, 'global')\n",
    "df_max = DF_structural.max()\n",
    "l_max_visprob = max(list(df_max.values))\n",
    "\n",
    "\n",
    "# get Disease Feature Matrix\n",
    "FM_disease = pd.read_csv('input/Features_Disease_Dataframe_'+organism+'.csv', index_col=0)"
   ]
  },
  {
   "cell_type": "markdown",
   "id": "comparative-cisco",
   "metadata": {
    "tags": []
   },
   "source": [
    "# VECTOR : NF1 GENE + DISEASE MODULE (8712 - neurofibromatosis)\n",
    "e.g.\n",
    "+ DOID:8712 / Neurofibromatosis\n",
    "+ DOID:962 / Neurofibroma\n",
    "+ DOID:0050736 / Autosomal Dominant Disease"
   ]
  },
  {
   "cell_type": "code",
   "execution_count": 178,
   "id": "collective-ballot",
   "metadata": {},
   "outputs": [
    {
     "name": "stdout",
     "output_type": "stream",
     "text": [
      "Number of Genes associated to DOID 8712 : 12\n",
      "Genes to be enhanced: 12\n"
     ]
    }
   ],
   "source": [
    "path_nf = 'input/neurofibromatosis/'\n",
    "\n",
    "# gene of interest\n",
    "nf_goi_ = str(int(np.loadtxt(path_nf+'nf_gene_of_interest.txt', unpack=False)))\n",
    "nf_goi = list(nf_goi_.split(\" \"))\n",
    "nf_goi_str = ' '.join([str(item) for item in nf_goi])\n",
    "\n",
    "nf_neighbors = []\n",
    "for edge in G.edges():\n",
    "    if edge[0] == nf_goi_str:\n",
    "        nf_neighbors.append(edge[1])\n",
    "    elif edge[1] == nf_goi_str: \n",
    "        nf_neighbors.append(edge[0])\n",
    "\n",
    "nf_all = nf_neighbors + nf_goi\n",
    "\n",
    "# get disease module genes \n",
    "num_doid = '8712' \n",
    "\n",
    "# define specific DOID \n",
    "dismod = FM_disease.loc[:,'DOID:'+num_doid]\n",
    "dismod.index = FM_disease.index\n",
    "dismod_id = 'DOID'+num_doid\n",
    "\n",
    "dismod_genes = [] \n",
    "for i,v in enumerate(dismod.values):\n",
    "    if v == 1:\n",
    "        dismod_genes.append(dismod.index[i])\n",
    "    else:\n",
    "        pass\n",
    "\n",
    "print('Number of Genes associated to DOID', num_doid,':',len(dismod_genes))\n",
    "\n",
    "l_genes_dismod = [str(i) for i in dismod_genes]\n",
    "l_genes_dismod_with = [str(i) for i in dismod_genes] + nf_neighbors\n",
    "#l_genes_dismod = l_genes_dismod_with\n",
    "\n",
    "print('Genes to be enhanced:', len(l_genes_dismod))\n",
    "\n",
    "# create a dataframe (sorted by DF global) and fill 1 when disease-assoc. gene\n",
    "DF_dismod = pd.DataFrame(dismod.reindex(DF_structural.index ,fill_value=0))\n",
    "for i in DF_dismod.index:\n",
    "    if i in l_genes_dismod:\n",
    "        DF_dismod.loc[i] = 1\n",
    "    \n",
    "DF_dismod.columns = ['Neurofib 8712']"
   ]
  },
  {
   "cell_type": "markdown",
   "id": "original-irish",
   "metadata": {},
   "source": [
    "#### SPECIFIC NODE + EDGE COLORS"
   ]
  },
  {
   "cell_type": "code",
   "execution_count": 179,
   "id": "united-realtor",
   "metadata": {
    "tags": []
   },
   "outputs": [
    {
     "name": "stdout",
     "output_type": "stream",
     "text": [
      "Links of DOID 8712 genes: 3\n",
      "Links of DOID 8712 genes: 140\n"
     ]
    }
   ],
   "source": [
    "##########################\n",
    "\n",
    "# colors for DOID 8712 \n",
    "\n",
    "##########################\n",
    "\n",
    "node_col_dismod = '#00D9FC' #'#008792' #'#00E3DF' #'#FF8E00' \n",
    "\n",
    "d_edge_col_dismod= color_edges_from_nodelist_specific(G, l_genes_dismod, node_col_dismod)\n",
    "print('Links of DOID 8712 genes:',len(d_edge_col_dismod))\n",
    "\n",
    "d_edge_col_dismod_with = color_edges_from_nodelist_specific(G, l_genes_dismod_with, node_col_dismod)\n",
    "print('Links of DOID 8712 genes:',len(d_edge_col_dismod_with))"
   ]
  },
  {
   "cell_type": "markdown",
   "id": "compound-congress",
   "metadata": {},
   "source": [
    "# VECTORS : Disease Context \n",
    "+ DOID:3165 - Skin benign neoplasm\n",
    "+ DOID:10534 - Stomach Cancer\n",
    "+ DOID:3620 - Central Nervous System Cancer\n",
    "+ DOID:0060089 - Endocrine organ benign neoplasm\n",
    "+ resources: https://disease-ontology.org/ https://en.wikipedia.org/wiki/Neurofibromatosis"
   ]
  },
  {
   "cell_type": "markdown",
   "id": "cubic-hypothetical",
   "metadata": {
    "tags": []
   },
   "source": [
    "### First Disease Vector | DOID:3165 - Skin benign neoplasm"
   ]
  },
  {
   "cell_type": "code",
   "execution_count": 283,
   "id": "light-corpus",
   "metadata": {},
   "outputs": [],
   "source": [
    "# -----------------------------\n",
    "num_doid_1 = '3165'\n",
    "# -----------------------------\n",
    "\n",
    "\n",
    "# define specific DOID \n",
    "dismod_1 = FM_disease.loc[:,'DOID:'+num_doid_1]\n",
    "dismod_1.index = FM_disease.index\n",
    "\n",
    "# get all genes associated to disease\n",
    "dismod_genes_1 = [] \n",
    "for i,v in enumerate(dismod_1.values):\n",
    "    if v == 1:\n",
    "        dismod_genes_1.append(dismod_1.index[i])\n",
    "    else:\n",
    "        pass\n",
    "\n",
    "l_genes_dismod_1 = [str(i) for i in dismod_genes_1]\n",
    "#print('Number of Genes associated to DOID', num_doid_1,':',len(l_genes_dismod_1))\n",
    "\n",
    "overlap_1 = []\n",
    "for i in dismod_genes_1:\n",
    "    if str(i) in nf_all or int(i) in nf_all:\n",
    "    #if str(i) in dismod_genes or int(i) in dismod_genes:\n",
    "        overlap_1.append(str(i))\n",
    "#print('Number of Genes overlap of NF1 neighbors and Disease Module:', (len(overlap_1)))\n",
    "\n",
    "l_genes_dismod_1_with = l_genes_dismod_1 + overlap_1 # + nf_neighbors[:10]\n",
    "#print('Number of Genes associated to DOID', num_doid_1,':',len(l_genes_dismod_1_with))\n",
    "\n",
    "# create a dataframe (sorted by DF global) and fill 1 when disease-assoc. gene\n",
    "DF_dismod_1 = pd.DataFrame(dismod_1.reindex(DF_structural.index ,fill_value=0))\n",
    "for i in DF_dismod_1.index:\n",
    "    if i in l_genes_dismod_1: #_with:\n",
    "        DF_dismod_1.loc[i] = 1"
   ]
  },
  {
   "cell_type": "markdown",
   "id": "finnish-programming",
   "metadata": {},
   "source": [
    "#### SPECIFIC NODE + EDGE COLORS"
   ]
  },
  {
   "cell_type": "code",
   "execution_count": 282,
   "id": "structured-seeking",
   "metadata": {},
   "outputs": [
    {
     "data": {
      "text/plain": [
       "446"
      ]
     },
     "execution_count": 282,
     "metadata": {},
     "output_type": "execute_result"
    }
   ],
   "source": [
    "# color nodes\n",
    "node_col_1 = '#FF7001' # (orange) #'#B00160' \n",
    "\n",
    "# color edges    \n",
    "d_edge_col_1 = color_edges_from_nodelist_specific(G, l_genes_dismod_1_with, \n",
    "                                                  node_col_1)\n",
    "len(d_edge_col_1)"
   ]
  },
  {
   "cell_type": "markdown",
   "id": "connected-clearing",
   "metadata": {},
   "source": [
    "### Second Disease Vector | DOID:10534 - Stomach Cancer"
   ]
  },
  {
   "cell_type": "code",
   "execution_count": 279,
   "id": "further-concept",
   "metadata": {},
   "outputs": [],
   "source": [
    "# -----------------------------\n",
    "num_doid_2 = '10534' #'3883' #'1612' #'3490'\n",
    "# -----------------------------\n",
    "\n",
    "# define specific DOID \n",
    "dismod_2 = FM_disease.loc[:,'DOID:'+num_doid_2]\n",
    "dismod_2.index = FM_disease.index\n",
    "\n",
    "# get all genes associated to disease\n",
    "dismod_genes_2 = [] \n",
    "for i,v in enumerate(dismod_2.values):\n",
    "    if v == 1:\n",
    "        dismod_genes_2.append(dismod_2.index[i])\n",
    "    else:\n",
    "        pass\n",
    "    \n",
    "l_genes_dismod_2 = [str(i) for i in dismod_genes_2]\n",
    "#print('Number of Genes associated to DOID', num_doid_2,':',len(l_genes_dismod_2)) \n",
    "\n",
    "overlap_2 = []\n",
    "for i in dismod_genes_2:\n",
    "    if str(i) in nf_all or int(i) in nf_all:\n",
    "    #if str(i) in dismod_genes or int(i) in dismod_genes:\n",
    "        overlap_2.append(str(i))\n",
    "#print('Number of Genes overlap of NF1 neighbors and Disease Module:', (len(overlap_2)))\n",
    "#print(overlap_2) \n",
    "\n",
    "l_genes_dismod_2_with = l_genes_dismod_2 + overlap_2 # + nf_neighbors[15:25]\n",
    "#print('Number of Genes associated to DOID', num_doid_2,':',len(l_genes_dismod_2_with))\n",
    "\n",
    "# create a dataframe (sorted by DF global) and fill 1 when disease-assoc. gene\n",
    "DF_dismod_2 = pd.DataFrame(dismod_2.reindex(DF_structural.index ,fill_value=0))\n",
    "for i in DF_dismod_2.index:\n",
    "    if i in l_genes_dismod_2_with:\n",
    "        DF_dismod_2.loc[i] = 1"
   ]
  },
  {
   "cell_type": "markdown",
   "id": "enormous-baghdad",
   "metadata": {},
   "source": [
    "#### SPECIFIC NODE + EDGE COLORS"
   ]
  },
  {
   "cell_type": "code",
   "execution_count": 280,
   "id": "universal-short",
   "metadata": {},
   "outputs": [
    {
     "data": {
      "text/plain": [
       "910"
      ]
     },
     "execution_count": 280,
     "metadata": {},
     "output_type": "execute_result"
    }
   ],
   "source": [
    "# color nodes\n",
    "node_col_2 = '#FFC433' #(yellow)\n",
    "\n",
    "# color edges \n",
    "d_edge_col_2 = color_edges_from_nodelist_specific(G, l_genes_dismod_2_with, node_col_2)\n",
    "len(d_edge_col_2)"
   ]
  },
  {
   "cell_type": "markdown",
   "id": "terminal-garage",
   "metadata": {},
   "source": [
    "### Third Disease Vector | DOID:3620 - Central Nervous System Cancer"
   ]
  },
  {
   "cell_type": "code",
   "execution_count": 285,
   "id": "sophisticated-sector",
   "metadata": {},
   "outputs": [],
   "source": [
    "# -----------------------------\n",
    "num_doid_3 = '3620' #'0060115' \n",
    "# -----------------------------\n",
    "\n",
    "# define specific DOID \n",
    "dismod_3 = FM_disease.loc[:,'DOID:'+num_doid_3]\n",
    "dismod_3.index = FM_disease.index\n",
    "\n",
    "dismod_genes_3 = [] \n",
    "for i,v in enumerate(dismod_3.values):\n",
    "    if v == 1:\n",
    "        dismod_genes_3.append(dismod_3.index[i])\n",
    "    else:\n",
    "        pass\n",
    "\n",
    "l_genes_dismod_3 = [str(i) for i in dismod_genes_3]\n",
    "#print('Number of Genes associated to DOID', num_doid_3,':',len(l_genes_dismod_3))\n",
    "\n",
    "overlap_3 = []\n",
    "for i in dismod_genes_3:\n",
    "    if str(i) in nf_all or int(i) in nf_all:\n",
    "    #if str(i) in dismod_genes or int(i) in dismod_genes:\n",
    "        overlap_3.append(str(i))\n",
    "#print('Number of Genes overlap of NF1 neighbors and Disease Module:', (len(overlap_3)))\n",
    "\n",
    "l_genes_dismod_3_with = l_genes_dismod_3 + overlap_3 # + nf_neighbors[30:40]\n",
    "#print('Number of Genes associated to DOID', num_doid_3,':',len(l_genes_dismod_3_with))\n",
    "\n",
    "# create a dataframe (sorted by DF global) and fill 1 when disease-assoc. gene\n",
    "DF_dismod_3 = pd.DataFrame(dismod_3.reindex(DF_structural.index ,fill_value=0))\n",
    "for i in DF_dismod_3.index:\n",
    "    if i in l_genes_dismod_3: #_with:\n",
    "        DF_dismod_3.loc[i] = 1"
   ]
  },
  {
   "cell_type": "markdown",
   "id": "earned-penguin",
   "metadata": {},
   "source": [
    "#### SPECIFIC NODE + EDGE COLORS"
   ]
  },
  {
   "cell_type": "code",
   "execution_count": 286,
   "id": "better-winner",
   "metadata": {},
   "outputs": [
    {
     "data": {
      "text/plain": [
       "496"
      ]
     },
     "execution_count": 286,
     "metadata": {},
     "output_type": "execute_result"
    }
   ],
   "source": [
    "# color nodes\n",
    "node_col_3 = '#BEDC00' # (yellowgreen)\n",
    "\n",
    "# color edges    \n",
    "d_edge_col_3 = color_edges_from_nodelist_specific(G, l_genes_dismod_3_with, \n",
    "                                                  node_col_3)\n",
    "len(d_edge_col_3)"
   ]
  },
  {
   "cell_type": "markdown",
   "id": "original-romantic",
   "metadata": {
    "tags": []
   },
   "source": [
    "### Fourth Disease Vector | DOID:0060089 - Endocrine Organ benign neoplasm"
   ]
  },
  {
   "cell_type": "code",
   "execution_count": 287,
   "id": "comic-bobby",
   "metadata": {},
   "outputs": [
    {
     "name": "stdout",
     "output_type": "stream",
     "text": [
      "Number of Genes associated to DOID 0060089 : 122\n"
     ]
    }
   ],
   "source": [
    "# -----------------------------\n",
    "num_doid_4 = '0060089'\n",
    "# -----------------------------\n",
    "\n",
    "# define specific DOID \n",
    "dismod_4 = FM_disease.loc[:,'DOID:'+num_doid_4]\n",
    "dismod_4.index = FM_disease.index\n",
    "dismod_id_4 = 'DOID'+num_doid_4\n",
    "\n",
    "dismod_genes_4 = [] \n",
    "for i,v in enumerate(dismod_4.values):\n",
    "    if v == 1:\n",
    "        dismod_genes_4.append(dismod_4.index[i])\n",
    "    else:\n",
    "        pass\n",
    "    \n",
    "l_genes_dismod_4 = [str(i) for i in dismod_genes_4]\n",
    "print('Number of Genes associated to DOID', num_doid_4,':',len(l_genes_dismod_4))\n",
    "                                                               \n",
    "overlap_4 = []\n",
    "for i in dismod_genes_4:\n",
    "    if str(i) in nf_all or int(i) in nf_all:\n",
    "    #if str(i) in dismod_genes or int(i) in dismod_genes:\n",
    "        overlap_4.append(str(i))\n",
    "#print('Number of Genes overlap of NF1 neighbors and Disease Module:', (len(overlap_4)))\n",
    "      \n",
    "l_genes_dismod_4_with = l_genes_dismod_4 + overlap_4 # + nf_neighbors[40:]\n",
    "#print('Number of Genes associated to DOID', num_doid_4,':',len(l_genes_dismod_4_with))\n",
    "\n",
    "# create a dataframe (sorted by DF global) and fill 1 when disease-assoc. gene\n",
    "DF_dismod_4 = pd.DataFrame(dismod_4.reindex(DF_structural.index ,fill_value=0))\n",
    "for i in DF_dismod_4.index:\n",
    "    if i in l_genes_dismod_4: #_with:\n",
    "        DF_dismod_4.loc[i] = 1"
   ]
  },
  {
   "cell_type": "markdown",
   "id": "abandoned-samba",
   "metadata": {},
   "source": [
    "#### SPECIFIC NODE + EDGE COLORS"
   ]
  },
  {
   "cell_type": "code",
   "execution_count": 288,
   "id": "hired-mexico",
   "metadata": {},
   "outputs": [
    {
     "data": {
      "text/plain": [
       "118"
      ]
     },
     "execution_count": 288,
     "metadata": {},
     "output_type": "execute_result"
    }
   ],
   "source": [
    "# color nodes\n",
    "node_col_4 = '#992121' # '#A60C0C' # (darkred)\n",
    "\n",
    "# color edges    \n",
    "d_edge_col_4 = color_edges_from_nodelist_specific(G, l_genes_dismod_4_with, \n",
    "                                                  node_col_4)\n",
    "len(d_edge_col_4)"
   ]
  },
  {
   "cell_type": "markdown",
   "id": "2e7eb5be-64ef-4524-b45d-6e48cdc1c555",
   "metadata": {
    "tags": []
   },
   "source": [
    "## VECTOR : NF1 neighbors"
   ]
  },
  {
   "cell_type": "code",
   "execution_count": 291,
   "id": "235f0eb1-0bc0-412b-9da2-0678e2babdec",
   "metadata": {
    "tags": []
   },
   "outputs": [
    {
     "name": "stdout",
     "output_type": "stream",
     "text": [
      "Links of NF1 gene: 49\n"
     ]
    }
   ],
   "source": [
    "overlap_merged = overlap_1 + overlap_2 + overlap_3 + overlap_4 \n",
    "\n",
    "nf_rest = []\n",
    "for i in nf_neighbors: \n",
    "    if i in overlap_merged:\n",
    "        pass\n",
    "    else:\n",
    "        nf_rest.append(i)\n",
    "        \n",
    "DF_dismod_neighbors = pd.DataFrame(dismod.reindex(DF_structural.index ,fill_value=0))\n",
    "for i in DF_dismod_neighbors.index:\n",
    "    if i in nf_rest:\n",
    "        DF_dismod.loc[i] = 1\n",
    "    \n",
    "DF_dismod_neighbors.columns = ['NF neighbours']\n",
    "#print('Number of neighbor genes rest:', len(nf_rest))\n",
    "\n",
    "##########################\n",
    "\n",
    "# colors for NF1 neighbors\n",
    "\n",
    "##########################\n",
    "\n",
    "d_edge_col_neigh = color_edges_from_node(G, nf_goi, node_col_dismod)\n",
    "print('Links of NF1 gene:',len(d_edge_col_neigh))"
   ]
  },
  {
   "cell_type": "code",
   "execution_count": null,
   "id": "4c7f01c1-643b-4069-97b9-5577710f15ce",
   "metadata": {},
   "outputs": [],
   "source": []
  },
  {
   "cell_type": "code",
   "execution_count": null,
   "id": "2ecdac81-12b1-4db7-8277-ad62558e4074",
   "metadata": {},
   "outputs": [],
   "source": []
  },
  {
   "cell_type": "code",
   "execution_count": null,
   "id": "7a81dc7c-b61d-4475-a193-886fe41fee4d",
   "metadata": {},
   "outputs": [],
   "source": []
  },
  {
   "cell_type": "code",
   "execution_count": null,
   "id": "6189f8f0-ef00-45e8-ba90-7871a1f59ed0",
   "metadata": {},
   "outputs": [],
   "source": []
  },
  {
   "cell_type": "markdown",
   "id": "102229d2-f15a-4c95-8b86-7cd2678ba628",
   "metadata": {},
   "source": [
    "# TO FIX: edges in between nf1neighbor genes and disease module genes should be highlighted "
   ]
  },
  {
   "cell_type": "code",
   "execution_count": 303,
   "id": "56a66586-a8a2-4111-9281-4b92e62f738f",
   "metadata": {},
   "outputs": [],
   "source": [
    "import itertools as it\n",
    "all_combinations = list(it.product(dismod_all, nf_neighbors))"
   ]
  },
  {
   "cell_type": "code",
   "execution_count": 305,
   "id": "0ff22874-58f1-4c45-bd24-9187f26e3097",
   "metadata": {},
   "outputs": [],
   "source": [
    "matched = []\n",
    "for link in all_combinations:\n",
    "    if link in G.edges():\n",
    "        matched.append(link)"
   ]
  },
  {
   "cell_type": "code",
   "execution_count": 310,
   "id": "614d8d5b-f6e0-4450-ae30-181eeabfa196",
   "metadata": {},
   "outputs": [
    {
     "data": {
      "text/plain": [
       "1160"
      ]
     },
     "execution_count": 310,
     "metadata": {},
     "output_type": "execute_result"
    }
   ],
   "source": [
    "len(matched)"
   ]
  },
  {
   "cell_type": "code",
   "execution_count": null,
   "id": "1da1d98f-153e-4c99-ae09-8ef2b22542d7",
   "metadata": {},
   "outputs": [],
   "source": []
  },
  {
   "cell_type": "code",
   "execution_count": null,
   "id": "f2f6c320-1623-4341-a071-1d08f870be12",
   "metadata": {},
   "outputs": [],
   "source": []
  },
  {
   "cell_type": "code",
   "execution_count": null,
   "id": "55c742f6-0af8-4838-a0a9-27fb2a1d7df0",
   "metadata": {},
   "outputs": [],
   "source": []
  },
  {
   "cell_type": "code",
   "execution_count": 295,
   "id": "886c6745-f374-426a-a6f1-e2ec97729a2f",
   "metadata": {},
   "outputs": [
    {
     "name": "stdout",
     "output_type": "stream",
     "text": [
      "Number of all genes in disease modules: 612\n",
      "Number of links with nf neighbor genes: 7055\n"
     ]
    }
   ],
   "source": [
    "# Get Links between NF1 neighbor genes and Disease module genes\n",
    "\n",
    "dismod_all = set(l_genes_dismod_1 + l_genes_dismod_2 + l_genes_dismod_3 + l_genes_dismod_4)\n",
    "print('Number of all genes in disease modules:',len(dismod_all))\n",
    "\n",
    "# from G.edges get all links that have NF1 neighbors \n",
    "neigh_links = []\n",
    "for edge in G.edges():\n",
    "    if edge[0] in nf_neighbors:\n",
    "        neigh_links.append(edge[1])\n",
    "    elif edge[1] in nf_neighbors:\n",
    "        neigh_links.append(edge[0])\n",
    "print('Number of links with nf neighbor genes:',len(set(neigh_links)))"
   ]
  },
  {
   "cell_type": "code",
   "execution_count": 296,
   "id": "0644951c-6d92-487e-9c32-dd5e5f655ddb",
   "metadata": {},
   "outputs": [
    {
     "name": "stdout",
     "output_type": "stream",
     "text": [
      "Number of linkergenes (nf1neighbor - disease module): 380\n"
     ]
    }
   ],
   "source": [
    "set_neigh_links = set(neigh_links)\n",
    "\n",
    "l_linkergenes = []\n",
    "for node in set_neigh_links:\n",
    "    if node in dismod_all:\n",
    "        l_linkergenes.append(node)\n",
    "    else:\n",
    "        pass\n",
    "\n",
    "print('Number of linkergenes (nf1neighbor - disease module):', len(l_linkergenes))"
   ]
  },
  {
   "cell_type": "code",
   "execution_count": 297,
   "id": "b8ecb270-09f8-48c5-8111-ec151d5c91be",
   "metadata": {},
   "outputs": [
    {
     "data": {
      "text/plain": [
       "2431"
      ]
     },
     "execution_count": 297,
     "metadata": {},
     "output_type": "execute_result"
    }
   ],
   "source": [
    "# color nodes\n",
    "node_col_neighdismodlinks = '#E800FF'\n",
    "\n",
    "# color edges    \n",
    "d_edge_col_neighdismodlinks = color_edges_from_nodelist_specific(G, l_linkergenes, node_col_neighdismodlinks)\n",
    "len(d_edge_col_neighdismodlinks)"
   ]
  },
  {
   "cell_type": "markdown",
   "id": "located-detector",
   "metadata": {},
   "source": [
    "# ALL DISEASE VECTORS multiplied with factor"
   ]
  },
  {
   "cell_type": "code",
   "execution_count": 252,
   "id": "correct-theta",
   "metadata": {},
   "outputs": [
    {
     "name": "stdout",
     "output_type": "stream",
     "text": [
      "ENHANCING FACTOR Disease Module:  0.187514\n",
      "ENHANCING FACTOR Disease Context :  0.187514\n"
     ]
    }
   ],
   "source": [
    "# --------------------------------------\n",
    "#\n",
    "scalar_val_dismod = 2 #4 #2\n",
    "#\n",
    "# --------------------------------------\n",
    "enhance_factor_dismod = round((1-l_max_visprob)*scalar_val_dismod,10)\n",
    "print('ENHANCING FACTOR Disease Module: ',enhance_factor_dismod)\n",
    "\n",
    "\n",
    "# --------------------------------------\n",
    "#\n",
    "scalar_val_discontext = 2 #4 #2\n",
    "#\n",
    "# -------------------------------------- \n",
    "enhance_factor_discontext = round((1-l_max_visprob)*scalar_val_discontext,10)\n",
    "print('ENHANCING FACTOR Disease Context : ', enhance_factor_discontext)"
   ]
  },
  {
   "cell_type": "code",
   "execution_count": 253,
   "id": "bigger-browser",
   "metadata": {},
   "outputs": [
    {
     "data": {
      "text/html": [
       "<div>\n",
       "<style scoped>\n",
       "    .dataframe tbody tr th:only-of-type {\n",
       "        vertical-align: middle;\n",
       "    }\n",
       "\n",
       "    .dataframe tbody tr th {\n",
       "        vertical-align: top;\n",
       "    }\n",
       "\n",
       "    .dataframe thead th {\n",
       "        text-align: right;\n",
       "    }\n",
       "</style>\n",
       "<table border=\"1\" class=\"dataframe\">\n",
       "  <thead>\n",
       "    <tr style=\"text-align: right;\">\n",
       "      <th></th>\n",
       "      <th>66008</th>\n",
       "      <th>8473</th>\n",
       "      <th>2561</th>\n",
       "      <th>3759</th>\n",
       "      <th>22906</th>\n",
       "      <th>4928</th>\n",
       "      <th>1994</th>\n",
       "      <th>8481</th>\n",
       "      <th>81610</th>\n",
       "      <th>51361</th>\n",
       "      <th>...</th>\n",
       "      <th>10861</th>\n",
       "      <th>51471</th>\n",
       "      <th>221044</th>\n",
       "      <th>29965</th>\n",
       "      <th>Neurofib 8712</th>\n",
       "      <th>NF neighbours</th>\n",
       "      <th>DOID:3165</th>\n",
       "      <th>DOID:10534</th>\n",
       "      <th>DOID:3620</th>\n",
       "      <th>DOID:0060089</th>\n",
       "    </tr>\n",
       "  </thead>\n",
       "  <tbody>\n",
       "    <tr>\n",
       "      <th>66008</th>\n",
       "      <td>0.900242</td>\n",
       "      <td>0.000687</td>\n",
       "      <td>0.012865</td>\n",
       "      <td>0.006433</td>\n",
       "      <td>0.005347</td>\n",
       "      <td>0.000460</td>\n",
       "      <td>0.000051</td>\n",
       "      <td>0.000345</td>\n",
       "      <td>0.003464</td>\n",
       "      <td>0.002905</td>\n",
       "      <td>...</td>\n",
       "      <td>0.000000</td>\n",
       "      <td>0.000000</td>\n",
       "      <td>0.00000</td>\n",
       "      <td>0.000000</td>\n",
       "      <td>0.0</td>\n",
       "      <td>0.0</td>\n",
       "      <td>0.0</td>\n",
       "      <td>0.0</td>\n",
       "      <td>0.0</td>\n",
       "      <td>0.0</td>\n",
       "    </tr>\n",
       "    <tr>\n",
       "      <th>8473</th>\n",
       "      <td>0.002519</td>\n",
       "      <td>0.900245</td>\n",
       "      <td>0.000036</td>\n",
       "      <td>0.000018</td>\n",
       "      <td>0.005316</td>\n",
       "      <td>0.000005</td>\n",
       "      <td>0.000002</td>\n",
       "      <td>0.000003</td>\n",
       "      <td>0.000012</td>\n",
       "      <td>0.000008</td>\n",
       "      <td>...</td>\n",
       "      <td>0.000000</td>\n",
       "      <td>0.000000</td>\n",
       "      <td>0.00000</td>\n",
       "      <td>0.000000</td>\n",
       "      <td>0.0</td>\n",
       "      <td>0.0</td>\n",
       "      <td>0.0</td>\n",
       "      <td>0.0</td>\n",
       "      <td>0.0</td>\n",
       "      <td>0.0</td>\n",
       "    </tr>\n",
       "    <tr>\n",
       "      <th>2561</th>\n",
       "      <td>0.002502</td>\n",
       "      <td>0.000002</td>\n",
       "      <td>0.900367</td>\n",
       "      <td>0.000018</td>\n",
       "      <td>0.000015</td>\n",
       "      <td>0.000002</td>\n",
       "      <td>0.000000</td>\n",
       "      <td>0.000001</td>\n",
       "      <td>0.000010</td>\n",
       "      <td>0.000008</td>\n",
       "      <td>...</td>\n",
       "      <td>0.000001</td>\n",
       "      <td>0.000000</td>\n",
       "      <td>0.00000</td>\n",
       "      <td>0.000000</td>\n",
       "      <td>0.0</td>\n",
       "      <td>0.0</td>\n",
       "      <td>0.0</td>\n",
       "      <td>0.0</td>\n",
       "      <td>0.0</td>\n",
       "      <td>0.0</td>\n",
       "    </tr>\n",
       "    <tr>\n",
       "      <th>3759</th>\n",
       "      <td>0.002502</td>\n",
       "      <td>0.000002</td>\n",
       "      <td>0.000036</td>\n",
       "      <td>0.900389</td>\n",
       "      <td>0.000015</td>\n",
       "      <td>0.000002</td>\n",
       "      <td>0.000000</td>\n",
       "      <td>0.000001</td>\n",
       "      <td>0.000010</td>\n",
       "      <td>0.000008</td>\n",
       "      <td>...</td>\n",
       "      <td>0.000000</td>\n",
       "      <td>0.000000</td>\n",
       "      <td>0.00000</td>\n",
       "      <td>0.000000</td>\n",
       "      <td>0.0</td>\n",
       "      <td>0.0</td>\n",
       "      <td>0.0</td>\n",
       "      <td>0.0</td>\n",
       "      <td>0.0</td>\n",
       "      <td>0.0</td>\n",
       "    </tr>\n",
       "    <tr>\n",
       "      <th>22906</th>\n",
       "      <td>0.002525</td>\n",
       "      <td>0.000685</td>\n",
       "      <td>0.000036</td>\n",
       "      <td>0.000018</td>\n",
       "      <td>0.900120</td>\n",
       "      <td>0.000459</td>\n",
       "      <td>0.000000</td>\n",
       "      <td>0.000001</td>\n",
       "      <td>0.000010</td>\n",
       "      <td>0.000009</td>\n",
       "      <td>...</td>\n",
       "      <td>0.000000</td>\n",
       "      <td>0.000000</td>\n",
       "      <td>0.00000</td>\n",
       "      <td>0.000000</td>\n",
       "      <td>0.0</td>\n",
       "      <td>0.0</td>\n",
       "      <td>0.0</td>\n",
       "      <td>0.0</td>\n",
       "      <td>0.0</td>\n",
       "      <td>0.0</td>\n",
       "    </tr>\n",
       "    <tr>\n",
       "      <th>...</th>\n",
       "      <td>...</td>\n",
       "      <td>...</td>\n",
       "      <td>...</td>\n",
       "      <td>...</td>\n",
       "      <td>...</td>\n",
       "      <td>...</td>\n",
       "      <td>...</td>\n",
       "      <td>...</td>\n",
       "      <td>...</td>\n",
       "      <td>...</td>\n",
       "      <td>...</td>\n",
       "      <td>...</td>\n",
       "      <td>...</td>\n",
       "      <td>...</td>\n",
       "      <td>...</td>\n",
       "      <td>...</td>\n",
       "      <td>...</td>\n",
       "      <td>...</td>\n",
       "      <td>...</td>\n",
       "      <td>...</td>\n",
       "      <td>...</td>\n",
       "    </tr>\n",
       "    <tr>\n",
       "      <th>143903</th>\n",
       "      <td>0.000000</td>\n",
       "      <td>0.000000</td>\n",
       "      <td>0.000000</td>\n",
       "      <td>0.000000</td>\n",
       "      <td>0.000000</td>\n",
       "      <td>0.000000</td>\n",
       "      <td>0.000000</td>\n",
       "      <td>0.000000</td>\n",
       "      <td>0.000000</td>\n",
       "      <td>0.000000</td>\n",
       "      <td>...</td>\n",
       "      <td>0.000070</td>\n",
       "      <td>0.000000</td>\n",
       "      <td>0.00000</td>\n",
       "      <td>0.000000</td>\n",
       "      <td>0.0</td>\n",
       "      <td>0.0</td>\n",
       "      <td>0.0</td>\n",
       "      <td>0.0</td>\n",
       "      <td>0.0</td>\n",
       "      <td>0.0</td>\n",
       "    </tr>\n",
       "    <tr>\n",
       "      <th>10861</th>\n",
       "      <td>0.000000</td>\n",
       "      <td>0.000000</td>\n",
       "      <td>0.000000</td>\n",
       "      <td>0.000000</td>\n",
       "      <td>0.000000</td>\n",
       "      <td>0.000000</td>\n",
       "      <td>0.000000</td>\n",
       "      <td>0.000000</td>\n",
       "      <td>0.000000</td>\n",
       "      <td>0.000000</td>\n",
       "      <td>...</td>\n",
       "      <td>0.900070</td>\n",
       "      <td>0.000000</td>\n",
       "      <td>0.00000</td>\n",
       "      <td>0.000000</td>\n",
       "      <td>0.0</td>\n",
       "      <td>0.0</td>\n",
       "      <td>0.0</td>\n",
       "      <td>0.0</td>\n",
       "      <td>0.0</td>\n",
       "      <td>0.0</td>\n",
       "    </tr>\n",
       "    <tr>\n",
       "      <th>51471</th>\n",
       "      <td>0.000000</td>\n",
       "      <td>0.000000</td>\n",
       "      <td>0.000000</td>\n",
       "      <td>0.000000</td>\n",
       "      <td>0.000000</td>\n",
       "      <td>0.000000</td>\n",
       "      <td>0.000000</td>\n",
       "      <td>0.000000</td>\n",
       "      <td>0.000000</td>\n",
       "      <td>0.000000</td>\n",
       "      <td>...</td>\n",
       "      <td>0.000000</td>\n",
       "      <td>0.900052</td>\n",
       "      <td>0.00000</td>\n",
       "      <td>0.000000</td>\n",
       "      <td>0.0</td>\n",
       "      <td>0.0</td>\n",
       "      <td>0.0</td>\n",
       "      <td>0.0</td>\n",
       "      <td>0.0</td>\n",
       "      <td>0.0</td>\n",
       "    </tr>\n",
       "    <tr>\n",
       "      <th>221044</th>\n",
       "      <td>0.000000</td>\n",
       "      <td>0.000000</td>\n",
       "      <td>0.000000</td>\n",
       "      <td>0.000000</td>\n",
       "      <td>0.000000</td>\n",
       "      <td>0.000000</td>\n",
       "      <td>0.000000</td>\n",
       "      <td>0.000000</td>\n",
       "      <td>0.000000</td>\n",
       "      <td>0.000000</td>\n",
       "      <td>...</td>\n",
       "      <td>0.000000</td>\n",
       "      <td>0.000000</td>\n",
       "      <td>0.90003</td>\n",
       "      <td>0.000000</td>\n",
       "      <td>0.0</td>\n",
       "      <td>0.0</td>\n",
       "      <td>0.0</td>\n",
       "      <td>0.0</td>\n",
       "      <td>0.0</td>\n",
       "      <td>0.0</td>\n",
       "    </tr>\n",
       "    <tr>\n",
       "      <th>29965</th>\n",
       "      <td>0.000000</td>\n",
       "      <td>0.000000</td>\n",
       "      <td>0.000000</td>\n",
       "      <td>0.000000</td>\n",
       "      <td>0.000000</td>\n",
       "      <td>0.000000</td>\n",
       "      <td>0.000000</td>\n",
       "      <td>0.000000</td>\n",
       "      <td>0.000000</td>\n",
       "      <td>0.000000</td>\n",
       "      <td>...</td>\n",
       "      <td>0.000000</td>\n",
       "      <td>0.000000</td>\n",
       "      <td>0.00000</td>\n",
       "      <td>0.900063</td>\n",
       "      <td>0.0</td>\n",
       "      <td>0.0</td>\n",
       "      <td>0.0</td>\n",
       "      <td>0.0</td>\n",
       "      <td>0.0</td>\n",
       "      <td>0.0</td>\n",
       "    </tr>\n",
       "  </tbody>\n",
       "</table>\n",
       "<p>16376 rows × 16382 columns</p>\n",
       "</div>"
      ],
      "text/plain": [
       "           66008      8473      2561      3759     22906      4928      1994  \\\n",
       "66008   0.900242  0.000687  0.012865  0.006433  0.005347  0.000460  0.000051   \n",
       "8473    0.002519  0.900245  0.000036  0.000018  0.005316  0.000005  0.000002   \n",
       "2561    0.002502  0.000002  0.900367  0.000018  0.000015  0.000002  0.000000   \n",
       "3759    0.002502  0.000002  0.000036  0.900389  0.000015  0.000002  0.000000   \n",
       "22906   0.002525  0.000685  0.000036  0.000018  0.900120  0.000459  0.000000   \n",
       "...          ...       ...       ...       ...       ...       ...       ...   \n",
       "143903  0.000000  0.000000  0.000000  0.000000  0.000000  0.000000  0.000000   \n",
       "10861   0.000000  0.000000  0.000000  0.000000  0.000000  0.000000  0.000000   \n",
       "51471   0.000000  0.000000  0.000000  0.000000  0.000000  0.000000  0.000000   \n",
       "221044  0.000000  0.000000  0.000000  0.000000  0.000000  0.000000  0.000000   \n",
       "29965   0.000000  0.000000  0.000000  0.000000  0.000000  0.000000  0.000000   \n",
       "\n",
       "            8481     81610     51361  ...     10861     51471   221044  \\\n",
       "66008   0.000345  0.003464  0.002905  ...  0.000000  0.000000  0.00000   \n",
       "8473    0.000003  0.000012  0.000008  ...  0.000000  0.000000  0.00000   \n",
       "2561    0.000001  0.000010  0.000008  ...  0.000001  0.000000  0.00000   \n",
       "3759    0.000001  0.000010  0.000008  ...  0.000000  0.000000  0.00000   \n",
       "22906   0.000001  0.000010  0.000009  ...  0.000000  0.000000  0.00000   \n",
       "...          ...       ...       ...  ...       ...       ...      ...   \n",
       "143903  0.000000  0.000000  0.000000  ...  0.000070  0.000000  0.00000   \n",
       "10861   0.000000  0.000000  0.000000  ...  0.900070  0.000000  0.00000   \n",
       "51471   0.000000  0.000000  0.000000  ...  0.000000  0.900052  0.00000   \n",
       "221044  0.000000  0.000000  0.000000  ...  0.000000  0.000000  0.90003   \n",
       "29965   0.000000  0.000000  0.000000  ...  0.000000  0.000000  0.00000   \n",
       "\n",
       "           29965  Neurofib 8712  NF neighbours  DOID:3165  DOID:10534  \\\n",
       "66008   0.000000            0.0            0.0        0.0         0.0   \n",
       "8473    0.000000            0.0            0.0        0.0         0.0   \n",
       "2561    0.000000            0.0            0.0        0.0         0.0   \n",
       "3759    0.000000            0.0            0.0        0.0         0.0   \n",
       "22906   0.000000            0.0            0.0        0.0         0.0   \n",
       "...          ...            ...            ...        ...         ...   \n",
       "143903  0.000000            0.0            0.0        0.0         0.0   \n",
       "10861   0.000000            0.0            0.0        0.0         0.0   \n",
       "51471   0.000000            0.0            0.0        0.0         0.0   \n",
       "221044  0.000000            0.0            0.0        0.0         0.0   \n",
       "29965   0.900063            0.0            0.0        0.0         0.0   \n",
       "\n",
       "        DOID:3620  DOID:0060089  \n",
       "66008         0.0           0.0  \n",
       "8473          0.0           0.0  \n",
       "2561          0.0           0.0  \n",
       "3759          0.0           0.0  \n",
       "22906         0.0           0.0  \n",
       "...           ...           ...  \n",
       "143903        0.0           0.0  \n",
       "10861         0.0           0.0  \n",
       "51471         0.0           0.0  \n",
       "221044        0.0           0.0  \n",
       "29965         0.0           0.0  \n",
       "\n",
       "[16376 rows x 16382 columns]"
      ]
     },
     "execution_count": 253,
     "metadata": {},
     "output_type": "execute_result"
    }
   ],
   "source": [
    "# multiply with enhancing factor \n",
    "\n",
    "# Vector of NF1 Neurofibromatosis\n",
    "DF_dismod_scal = DF_dismod * enhance_factor_dismod\n",
    "\n",
    "# Vector of NF1 neighbor genes \n",
    "DF_dismod_neighbors_scal = DF_dismod_neighbors * enhance_factor_dismod #discontext \n",
    "\n",
    "DF_dismod_1_scal = DF_dismod_1 * enhance_factor_discontext\n",
    "DF_dismod_2_scal = DF_dismod_2 * enhance_factor_discontext\n",
    "DF_dismod_3_scal = DF_dismod_3 * enhance_factor_discontext\n",
    "DF_dismod_4_scal = DF_dismod_4 * enhance_factor_discontext\n",
    "\n",
    "# merge into one dataframe \n",
    "DF_merge_discontext = pd.concat([\n",
    "                                DF_structural, # original global matrix \n",
    "                                    \n",
    "                                DF_dismod_scal,  # Disease Module Vector \n",
    "                                DF_dismod_neighbors_scal, # NF1 Neighbor Genes Vector \n",
    "                        \n",
    "                                DF_dismod_1_scal, # Disease Context Vectors 1-4\n",
    "                                DF_dismod_2_scal,\n",
    "                                DF_dismod_3_scal,\n",
    "                                DF_dismod_4_scal,\n",
    "    \n",
    "                                ],\n",
    "                                axis=1\n",
    "                                )\n",
    "\n",
    "DF_merge_discontext"
   ]
  },
  {
   "cell_type": "markdown",
   "id": "failing-spare",
   "metadata": {},
   "source": [
    "### 2D PORTRAIT POSITIONING "
   ]
  },
  {
   "cell_type": "code",
   "execution_count": 254,
   "id": "dedicated-mission",
   "metadata": {},
   "outputs": [],
   "source": [
    "n_n = 8 #6 #20\n",
    "spr = 1.0\n",
    "md = 0.0 #.4\n",
    "metr = 'cosine'"
   ]
  },
  {
   "cell_type": "code",
   "execution_count": 255,
   "id": "greater-bibliography",
   "metadata": {},
   "outputs": [
    {
     "name": "stdout",
     "output_type": "stream",
     "text": [
      "CPU times: user 1min 17s, sys: 12.9 s, total: 1min 30s\n",
      "Wall time: 49.2 s\n"
     ]
    }
   ],
   "source": [
    "%%time \n",
    "posG_umap2D = layout_portrait_umap(G,DF_merge_discontext, 2, \n",
    "                                   n_neighbors = n_n, \n",
    "                                   spread = spr, \n",
    "                                   min_dist = md, \n",
    "                                   metric = metr) \n",
    "posG = posG_umap2D"
   ]
  },
  {
   "cell_type": "markdown",
   "id": "descending-billy",
   "metadata": {
    "tags": []
   },
   "source": [
    "### VISUAL SETTINGS + PLOT PREPARATION"
   ]
  },
  {
   "cell_type": "markdown",
   "id": "inner-plymouth",
   "metadata": {},
   "source": [
    "#### GENERAL NODE + EDGE COLORS "
   ]
  },
  {
   "cell_type": "code",
   "execution_count": 256,
   "id": "modern-chest",
   "metadata": {
    "tags": []
   },
   "outputs": [],
   "source": [
    "opacity_nodes = 0.8\n",
    "node_edge_col = '#696969' \n",
    "node_linewidth = 2\n",
    "\n",
    "scale_factor = 0.55\n",
    "size_plotly = list(draw_node_degree(G, scale_factor/100).values())\n",
    "\n",
    "width_edges = 0.45\n",
    "opacity_edges = 0.15"
   ]
  },
  {
   "cell_type": "markdown",
   "id": "substantial-angola",
   "metadata": {},
   "source": [
    "#### MERGE NODE COLORS > 4 diseases = 4 different colors "
   ]
  },
  {
   "cell_type": "code",
   "execution_count": 268,
   "id": "wooden-circulation",
   "metadata": {},
   "outputs": [],
   "source": [
    "# merge all node colors (and sort like G.nodes)\n",
    "\n",
    "col_param = list(df_centralities['closeness'].values)\n",
    "d_node_colors = dict(zip(list(G.nodes()), col_param))\n",
    "\n",
    "c1='#E6E6E6' \n",
    "c2='#9B9B9B' \n",
    "n=len(set(col_param))\n",
    "\n",
    "colors_for_palette = []\n",
    "for x in range(n+1):\n",
    "    colors_for_palette.append(colorFader(c1,c2,x/n))    \n",
    "\n",
    "customPalette = sns.set_palette(sns.color_palette(colors_for_palette))\n",
    "d_colors = color_nodes_from_dict(G, d_node_colors, palette = customPalette)\n",
    "\n",
    "d_col_all = {}\n",
    "for k,v in d_colors.items():\n",
    "    \n",
    "    # color for all NF1 associated genes (i.e. neighbors, NF1 disease module) \n",
    "    if k in l_genes_dismod or k in nf_neighbors:\n",
    "        d_col_all[k] = node_col_dismod\n",
    "        \n",
    "    # disease module colors \n",
    "    elif k in l_genes_dismod_1:\n",
    "        d_col_all[k] = node_col_1\n",
    "        \n",
    "    elif k in l_genes_dismod_2:\n",
    "        d_col_all[k] = node_col_2\n",
    "        \n",
    "    elif k in l_genes_dismod_3:\n",
    "        d_col_all[k] = node_col_3\n",
    "    \n",
    "    elif k in l_genes_dismod_4:\n",
    "        d_col_all[k] = node_col_4\n",
    "    \n",
    "    else:\n",
    "        d_col_all[k]=v\n",
    "        \n",
    "colors = list(d_col_all.values())\n",
    "l_genes_all = l_genes_dismod + l_genes_dismod_1 + l_genes_dismod_2 + l_genes_dismod_3 + l_genes_dismod_4 + nf_neighbors "
   ]
  },
  {
   "cell_type": "markdown",
   "id": "supposed-alberta",
   "metadata": {
    "tags": []
   },
   "source": [
    "### PLOT NETWORK PORTRAIT - plotly "
   ]
  },
  {
   "cell_type": "code",
   "execution_count": 269,
   "id": "90ce2ec0-b8a8-4d79-8a6e-d714e049df16",
   "metadata": {},
   "outputs": [
    {
     "data": {
      "text/plain": [
       "'output_plots/2Dlayouts/ test.html'"
      ]
     },
     "execution_count": 269,
     "metadata": {},
     "output_type": "execute_result"
    }
   ],
   "source": [
    "# plot nodes based on focus > separate to background/foreground \n",
    "\n",
    "posG_foreground = {}\n",
    "posG_background = {}\n",
    "for k,v in posG.items():\n",
    "    if k in l_genes_all:\n",
    "        posG_foreground[k]=v\n",
    "    else: \n",
    "        posG_background[k]=v\n",
    "    \n",
    "d_colors_foreground = {}\n",
    "d_colors_background = {}\n",
    "for i,c in d_col_all.items():\n",
    "    if i in posG_foreground.keys():\n",
    "        d_colors_foreground[i]=c\n",
    "    else: \n",
    "        d_colors_background[i]=c\n",
    "\n",
    "colors_foreground = list(d_colors_foreground.values())\n",
    "colors_background = list(d_colors_background.values())\n",
    "\n",
    "d_feat_foreground = {}\n",
    "d_feat_background = {}\n",
    "for k,v in d_gene_sym.items():\n",
    "    if k in posG_foreground: \n",
    "        d_feat_foreground[k]=v\n",
    "    else:\n",
    "        d_feat_background[k]=v\n",
    "        \n",
    "feat_foreground = list(d_feat_foreground.values())\n",
    "feat_background = list(d_feat_background.values())\n",
    "\n",
    "d_size_plotly = draw_node_degree(G, scale_factor/100)\n",
    "d_size_plotly_foreground = {}\n",
    "d_size_plotly_background = {}\n",
    "for k,v in d_size_plotly.items():\n",
    "    if k in posG_foreground.keys():\n",
    "        d_size_plotly_foreground[k]=v\n",
    "    else:\n",
    "        d_size_plotly_background[k]=v\n",
    "        \n",
    "size_plotly_foreground = list(d_size_plotly_foreground.values())\n",
    "size_plotly_background = list(d_size_plotly_background.values())\n",
    "\n",
    "\n",
    "umap_nodes_foreground = get_trace_nodes_2D(posG_foreground, feat_foreground, colors_foreground, size_plotly_foreground, \n",
    "                                           node_linewidth*0.25, 0.8)\n",
    "umap_nodes_foreground_ = get_trace_nodes_2D(posG_foreground, feat_foreground, colors_foreground, 5,\n",
    "                                           None, 0.15)\n",
    "umap_nodes_background = get_trace_nodes_2D(posG_background, feat_background, colors_background, size_plotly_background, \n",
    "                                           None,0.5) \n",
    "umap_nodes_background_ = get_trace_nodes_2D(posG_background, feat_background, colors_background, 2, \n",
    "                                           None,0.5)\n",
    "\n",
    "# DOID 8712 - NF1 edges\n",
    "umap_edges_dismod = get_trace_edges_specific2D(d_edge_col_dismod,\n",
    "                                               #posG, linew=0.25, opac=0.25)\n",
    "                                               posG, linew=0.65, opac=0.55)\n",
    "\n",
    "                                               \n",
    "# NF1 gene links to other genes (direct neighbors) \n",
    "umap_edges_dismod_neigh = get_trace_edges_specific2D(d_edge_col_neigh, \n",
    "                                                     #posG, linew=0.5, opac=0.25)\n",
    "                                                     posG, linew=0.45, opac=0.55)\n",
    "\n",
    "# NF1neighbor-genes to Disease-module-genes \n",
    "umap_edges_dismod_neighdismodlinks = get_trace_edges_specific2D(d_edge_col_neighdismodlinks, \n",
    "                                                     #posG, linew=0.5, opac=0.25)\n",
    "                                                     posG, linew=0.25, opac=0.25)\n",
    "\n",
    "umap_edges_1 = get_trace_edges_specific2D(d_edge_col_1, \n",
    "                                          posG, linew=width_edges, opac=opacity_edges)\n",
    "                                          #posG, linew=0.45, opac=0.55)\n",
    "\n",
    "umap_edges_2 = get_trace_edges_specific2D(d_edge_col_2, \n",
    "                                          posG, linew=width_edges,opac=opacity_edges)\n",
    "                                          #posG, linew=0.45, opac=0.55)\n",
    "\n",
    "umap_edges_3 = get_trace_edges_specific2D(d_edge_col_3,\n",
    "                                          posG, linew=width_edges, opac=opacity_edges)\n",
    "                                          #posG, linew=0.45, opac=0.55)\n",
    "\n",
    "umap_edges_4 = get_trace_edges_specific2D(d_edge_col_4, \n",
    "                                          posG, linew=width_edges, opac=opacity_edges)\n",
    "                                          #posG, linew=0.45, opac=0.55)\n",
    "\n",
    "data = [\n",
    "        umap_nodes_background_, \n",
    "        umap_nodes_background, \n",
    "    \n",
    "        #umap_edges_1, \n",
    "        #umap_edges_2,\n",
    "        #umap_edges_3,\n",
    "        #umap_edges_4,\n",
    "    \n",
    "        #umap_edges_dismod,\n",
    "        #umap_edges_dismod_neigh,\n",
    "    \n",
    "        umap_edges_dismod_neighdismodlinks,\n",
    "    \n",
    "        umap_nodes_foreground_,\n",
    "        umap_nodes_foreground]\n",
    "\n",
    "path = 'output_plots/2Dlayouts/'\n",
    "schema = 'light' #'dark' \n",
    "#fname = '2Dportrait_NF8712_'+'DOIDs'+num_doid_1+'_'+num_doid_2+'_'+num_doid_3+'_'+num_doid_4+'_enhDismod'+str(scalar_val_dismod)+'_enhContext'+str(scalar_val_discontext)+'_nn'+str(n_n)+'_spr'+str(spr)+'_md'+str(md)+'_'+str(metr)+'_'+organism\n",
    "fname = ' test'\n",
    "\n",
    "plot_2D(data,path,fname)"
   ]
  },
  {
   "cell_type": "markdown",
   "id": "2c8acad7-cae3-40e6-a728-6bc211808185",
   "metadata": {
    "tags": []
   },
   "source": [
    "# EXPORT POSITIONS >  VRNETZER Format "
   ]
  },
  {
   "cell_type": "code",
   "execution_count": 259,
   "id": "6d709e24-3bb1-4866-9334-513f7ac48ebd",
   "metadata": {},
   "outputs": [],
   "source": [
    "path = 'output_plots/VRlayouts/' \n",
    "layout_nmspce = '2Dportrait_NF1'\n",
    "cols = colors\n",
    "export_to_csv2D(path, layout_nmspce, posG, cols)"
   ]
  },
  {
   "cell_type": "markdown",
   "id": "voluntary-freeware",
   "metadata": {},
   "source": [
    "# FIGURE - NF1 + 8712 + NEIGHBORS OF NF1\n",
    "highlighting Neurofibromatosis + neighbors of gene NF1"
   ]
  },
  {
   "cell_type": "code",
   "execution_count": 175,
   "id": "dffe1537-3f66-4ca3-b422-072eefb7e676",
   "metadata": {},
   "outputs": [],
   "source": [
    "# merge all node colors (and sort like G.nodes)\n",
    "\n",
    "col_param = list(df_centralities['closeness'].values)\n",
    "d_node_colors = dict(zip(list(G.nodes()), col_param))\n",
    "\n",
    "c1='#E6E6E6' \n",
    "c2='#9B9B9B' \n",
    "n=len(set(col_param))\n",
    "\n",
    "colors_for_palette = []\n",
    "for x in range(n+1):\n",
    "    colors_for_palette.append(colorFader(c1,c2,x/n))    \n",
    "\n",
    "customPalette = sns.set_palette(sns.color_palette(colors_for_palette))\n",
    "d_colors = color_nodes_from_dict(G, d_node_colors, palette = customPalette)\n",
    "\n",
    "d_col_all = {}\n",
    "for k,v in d_colors.items():\n",
    "    \n",
    "    if k in l_genes_dismod:\n",
    "        d_col_all[k] = node_col_dismod\n",
    "\n",
    "    elif k in nf_neighbors: \n",
    "        d_col_all[k] = node_col_dismod\n",
    "    \n",
    "    else:\n",
    "        d_col_all[k]=v\n",
    "        \n",
    "colors = list(d_col_all.values())"
   ]
  },
  {
   "cell_type": "code",
   "execution_count": 107,
   "id": "reduced-singapore",
   "metadata": {},
   "outputs": [
    {
     "data": {
      "text/plain": [
       "'output_plots/2Dlayouts/2Dportrait_NF8712_DOIDs3165_10534_3620_0060089_enhDismod2_enhContext2_nn10_spr1.0_md0.0_cosine_human_NF1links.html'"
      ]
     },
     "execution_count": 107,
     "metadata": {},
     "output_type": "execute_result"
    }
   ],
   "source": [
    "# plot nodes based on focus > separate to background/foreground \n",
    "\n",
    "posG_foreground = {}\n",
    "posG_background = {}\n",
    "for k,v in posG.items():\n",
    "    if k in l_genes_dismod:\n",
    "        posG_foreground[k]=v\n",
    "    else: \n",
    "        posG_background[k]=v\n",
    "    \n",
    "d_colors_foreground = {}\n",
    "d_colors_background = {}\n",
    "for i,c in d_col_all.items():\n",
    "    if i in posG_foreground.keys():\n",
    "        d_colors_foreground[i]=c\n",
    "    else: \n",
    "        d_colors_background[i]=c\n",
    "\n",
    "colors_foreground = list(d_colors_foreground.values())\n",
    "colors_background = list(d_colors_background.values())\n",
    "\n",
    "d_feat_foreground = {}\n",
    "d_feat_background = {}\n",
    "for k,v in d_gene_sym.items():\n",
    "    if k in posG_foreground: \n",
    "        d_feat_foreground[k]=v\n",
    "    else:\n",
    "        d_feat_background[k]=v\n",
    "        \n",
    "feat_foreground = list(d_feat_foreground.values())\n",
    "feat_background = list(d_feat_background.values())\n",
    "\n",
    "d_size_plotly = draw_node_degree(G, scale_factor/100)\n",
    "d_size_plotly_foreground = {}\n",
    "d_size_plotly_background = {}\n",
    "for k,v in d_size_plotly.items():\n",
    "    if k in posG_foreground.keys():\n",
    "        d_size_plotly_foreground[k]=v\n",
    "    else:\n",
    "        d_size_plotly_background[k]=v\n",
    "        \n",
    "size_plotly_foreground = list(d_size_plotly_foreground.values())\n",
    "size_plotly_background = list(d_size_plotly_background.values())\n",
    "\n",
    "\n",
    "umap_nodes_foreground = get_trace_nodes_2D(posG_foreground, feat_foreground, colors_foreground, size_plotly_foreground, \n",
    "                                           node_linewidth*0.25, 0.8)\n",
    "umap_nodes_foreground_ = get_trace_nodes_2D(posG_foreground, feat_foreground, colors_foreground, 5,\n",
    "                                           None, 0.2)\n",
    "umap_nodes_background = get_trace_nodes_2D(posG_background, feat_background, colors_background, size_plotly_background, \n",
    "                                           None,0.5) #node_linewidth*0.05, 0.5)\n",
    "umap_nodes_background_ = get_trace_nodes_2D(posG_background, feat_background, colors_background, 2, \n",
    "                                            None,0.5)\n",
    "\n",
    "umap_edges_dismod = get_trace_edges_specific2D(d_edge_col_dismod, posG, linew=width_edges, \n",
    "                                               opac=0.5)# opacity_edges)\n",
    "umap_edges_dismod_neigh = get_trace_edges_specific2D(d_edge_col_neigh, posG, linew=width_edges, \n",
    "                                                     opac=0.5) #opacity_edges)\n",
    "\n",
    "data = [\n",
    "        umap_edges_dismod,\n",
    "        umap_edges_dismod_neigh,\n",
    "        umap_nodes_background_, \n",
    "        umap_nodes_background, \n",
    "        umap_nodes_foreground_,\n",
    "        umap_nodes_foreground]\n",
    "\n",
    "path = 'output_plots/2Dlayouts/'\n",
    "schema = 'light' #'dark' \n",
    "fname_NF1links = '2Dportrait_NF8712_'+'DOIDs'+num_doid_1+'_'+num_doid_2+'_'+num_doid_3+'_'+num_doid_4+'_enhDismod'+str(scalar_val_dismod)+'_enhContext'+str(scalar_val_discontext)+'_nn'+str(n_n)+'_spr'+str(spr)+'_md'+str(md)+'_'+str(metr)+'_'+organism+'_NF1links'\n",
    "\n",
    "plot_2D(data,path,fname_NF1links)"
   ]
  },
  {
   "cell_type": "markdown",
   "id": "essential-angel",
   "metadata": {},
   "source": [
    "# FIGURE - ONLY NF1 + 8712\n",
    "highlighting Neurofibromatosis"
   ]
  },
  {
   "cell_type": "code",
   "execution_count": 109,
   "id": "textile-teaching",
   "metadata": {},
   "outputs": [],
   "source": [
    "col_param = list(df_centralities['closeness'].values)\n",
    "d_node_colors = dict(zip(list(G.nodes()), col_param))\n",
    "\n",
    "c1='#E6E6E6' \n",
    "c2='#9B9B9B' \n",
    "n=len(set(col_param))\n",
    "\n",
    "colors_for_palette = []\n",
    "for x in range(n+1):\n",
    "    colors_for_palette.append(colorFader(c1,c2,x/n))    \n",
    "\n",
    "customPalette = sns.set_palette(sns.color_palette(colors_for_palette))\n",
    "d_colors = color_nodes_from_dict(G, d_node_colors, palette = customPalette)\n",
    "\n",
    "d_col_all = {}\n",
    "for k,v in d_colors.items():\n",
    "    if k in l_genes_dismod:\n",
    "        d_col_all[k] = node_col_dismod\n",
    "    \n",
    "    else:\n",
    "        d_col_all[k]=v\n",
    "        \n",
    "colors = list(d_col_all.values())"
   ]
  },
  {
   "cell_type": "code",
   "execution_count": 111,
   "id": "assumed-tongue",
   "metadata": {},
   "outputs": [
    {
     "data": {
      "text/plain": [
       "'output_plots/2Dlayouts/2Dportrait_NF8712_DOIDs3165_10534_3620_0060089_enhDismod2_enhContext2_nn10_spr1.0_md0.0_cosine_human_NF1module_nolinks.html'"
      ]
     },
     "execution_count": 111,
     "metadata": {},
     "output_type": "execute_result"
    }
   ],
   "source": [
    "# plot nodes based on focus > separate to background/foreground \n",
    "\n",
    "posG_foreground = {}\n",
    "posG_background = {}\n",
    "for k,v in posG.items():\n",
    "    if k in l_genes_dismod:\n",
    "        posG_foreground[k]=v\n",
    "    else: \n",
    "        posG_background[k]=v\n",
    "    \n",
    "d_colors_foreground = {}\n",
    "d_colors_background = {}\n",
    "for i,c in d_col_all.items():\n",
    "    if i in posG_foreground.keys():\n",
    "        d_colors_foreground[i]=c\n",
    "    else: \n",
    "        d_colors_background[i]=c\n",
    "\n",
    "colors_foreground = list(d_colors_foreground.values())\n",
    "colors_background = list(d_colors_background.values())\n",
    "\n",
    "d_feat_foreground = {}\n",
    "d_feat_background = {}\n",
    "for k,v in d_gene_sym.items():\n",
    "    if k in posG_foreground: \n",
    "        d_feat_foreground[k]=v\n",
    "    else:\n",
    "        d_feat_background[k]=v\n",
    "        \n",
    "feat_foreground = list(d_feat_foreground.values())\n",
    "feat_background = list(d_feat_background.values())\n",
    "\n",
    "d_size_plotly = draw_node_degree(G, scale_factor/100)\n",
    "d_size_plotly_foreground = {}\n",
    "d_size_plotly_background = {}\n",
    "for k,v in d_size_plotly.items():\n",
    "    if k in posG_foreground.keys():\n",
    "        d_size_plotly_foreground[k]=v\n",
    "    else:\n",
    "        d_size_plotly_background[k]=v\n",
    "        \n",
    "size_plotly_foreground = list(d_size_plotly_foreground.values())\n",
    "size_plotly_background = list(d_size_plotly_background.values())\n",
    "\n",
    "\n",
    "umap_nodes_foreground = get_trace_nodes_2D(posG_foreground, feat_foreground, colors_foreground, size_plotly_foreground, \n",
    "                                           node_linewidth*0.25, 0.8)\n",
    "umap_nodes_foreground_ = get_trace_nodes_2D(posG_foreground, feat_foreground, colors_foreground, 5,\n",
    "                                           None, 0.2)\n",
    "umap_nodes_background = get_trace_nodes_2D(posG_background, feat_background, colors_background, size_plotly_background, \n",
    "                                           None,0.5) #node_linewidth*0.05, 0.5)\n",
    "umap_nodes_background_ = get_trace_nodes_2D(posG_background, feat_background, colors_background, 2, \n",
    "                                            None,0.5)\n",
    "\n",
    "umap_edges_dismod = get_trace_edges_specific2D(d_edge_col_dismod, posG, linew=0.5,#width_edges, \n",
    "                                               opac=0.9) #opacity_edges)\n",
    "\n",
    "data = [\n",
    "        #umap_edges_dismod,\n",
    "        umap_nodes_background_, \n",
    "        umap_nodes_background, \n",
    "        umap_nodes_foreground_,\n",
    "        umap_nodes_foreground]\n",
    "\n",
    "path = 'output_plots/2Dlayouts/'\n",
    "schema = 'light' #'dark' \n",
    "fname_NF1module = '2Dportrait_NF8712_'+'DOIDs'+num_doid_1+'_'+num_doid_2+'_'+num_doid_3+'_'+num_doid_4+'_enhDismod'+str(scalar_val_dismod)+'_enhContext'+str(scalar_val_discontext)+'_nn'+str(n_n)+'_spr'+str(spr)+'_md'+str(md)+'_'+str(metr)+'_'+organism+'_NF1module_nolinks'\n",
    "\n",
    "plot_2D(data,path,fname_NF1module)"
   ]
  },
  {
   "cell_type": "code",
   "execution_count": null,
   "id": "graduate-release",
   "metadata": {},
   "outputs": [],
   "source": []
  },
  {
   "cell_type": "code",
   "execution_count": null,
   "id": "comfortable-grill",
   "metadata": {},
   "outputs": [],
   "source": []
  },
  {
   "cell_type": "code",
   "execution_count": null,
   "id": "loaded-adams",
   "metadata": {},
   "outputs": [],
   "source": []
  },
  {
   "cell_type": "code",
   "execution_count": null,
   "id": "rational-hospital",
   "metadata": {},
   "outputs": [],
   "source": []
  },
  {
   "cell_type": "code",
   "execution_count": null,
   "id": "proof-disease",
   "metadata": {},
   "outputs": [],
   "source": []
  },
  {
   "cell_type": "code",
   "execution_count": null,
   "id": "fitting-corpus",
   "metadata": {},
   "outputs": [],
   "source": []
  },
  {
   "cell_type": "code",
   "execution_count": null,
   "id": "stupid-windsor",
   "metadata": {},
   "outputs": [],
   "source": []
  },
  {
   "cell_type": "code",
   "execution_count": null,
   "id": "reserved-export",
   "metadata": {},
   "outputs": [],
   "source": []
  },
  {
   "cell_type": "code",
   "execution_count": null,
   "id": "qualified-thirty",
   "metadata": {},
   "outputs": [],
   "source": []
  },
  {
   "cell_type": "code",
   "execution_count": null,
   "id": "disabled-intent",
   "metadata": {},
   "outputs": [],
   "source": []
  },
  {
   "cell_type": "code",
   "execution_count": null,
   "id": "indonesian-limit",
   "metadata": {},
   "outputs": [],
   "source": []
  },
  {
   "cell_type": "code",
   "execution_count": null,
   "id": "differential-twins",
   "metadata": {},
   "outputs": [],
   "source": []
  },
  {
   "cell_type": "code",
   "execution_count": null,
   "id": "unique-salon",
   "metadata": {},
   "outputs": [],
   "source": []
  },
  {
   "cell_type": "code",
   "execution_count": null,
   "id": "younger-cursor",
   "metadata": {},
   "outputs": [],
   "source": []
  },
  {
   "cell_type": "markdown",
   "id": "intense-cradle",
   "metadata": {},
   "source": [
    "# VERY MUCH WORK IN PROGRESS "
   ]
  },
  {
   "cell_type": "markdown",
   "id": "desperate-antibody",
   "metadata": {},
   "source": [
    "# 4. | STRUC + FUNC (complete disease matrix)"
   ]
  },
  {
   "cell_type": "code",
   "execution_count": null,
   "id": "severe-crown",
   "metadata": {},
   "outputs": [],
   "source": [
    "FM_disease = pd.read_csv('input/Features_Disease_Dataframe_'+organism+'.csv', index_col=0)"
   ]
  },
  {
   "cell_type": "code",
   "execution_count": null,
   "id": "durable-fiber",
   "metadata": {},
   "outputs": [],
   "source": [
    "# --------------------------------------\n",
    "#\n",
    "scalar_val = 4\n",
    "#\n",
    "# --------------------------------------\n",
    "\n",
    "enhance_factor = round((1-l_max_visprob)*scalar_val,10) # for emphasizing functional features > should be >= max of structural matrix values  # if significantly higher than max values in structural matrix > causes isolation of nodes with functional features enhanced\n",
    "print('ENHANCING FACTOR functional features: ',enhance_factor)\n",
    "\n",
    "n_n = 14\n",
    "spr = 1\n",
    "md = 0.0\n",
    "metr = 'cosine'"
   ]
  },
  {
   "cell_type": "code",
   "execution_count": null,
   "id": "proved-bubble",
   "metadata": {},
   "outputs": [],
   "source": [
    "# create an empty matrix for zeros of rest genes (not associated to any disease)\n",
    "rest = []\n",
    "for i in G.nodes():\n",
    "    if str(i) in FM_disease.index or int(i) in FM_disease.index:\n",
    "        pass\n",
    "    else: \n",
    "        rest.append(str(i))\n",
    "        \n",
    "empty = np.zeros(shape=(len(rest),len(FM_disease.columns)))\n",
    "empty_stacked = np.vstack(empty)\n",
    "df_empty = pd.DataFrame(empty_stacked)\n",
    "df_empty.index = rest\n",
    "df_empty.columns = FM_disease.columns"
   ]
  },
  {
   "cell_type": "code",
   "execution_count": null,
   "id": "exposed-victoria",
   "metadata": {},
   "outputs": [],
   "source": [
    "# combine disease vector with rest of genes in graph\n",
    "df_diseases_complete = pd.concat([FM_disease, df_empty])\n",
    "df_diseases_complete"
   ]
  },
  {
   "cell_type": "code",
   "execution_count": null,
   "id": "complex-liver",
   "metadata": {},
   "outputs": [],
   "source": [
    "# reorder according to G.nodes\n",
    "DF_diseases_reorder = df_diseases_complete.reindex(DF_structural.index)\n",
    "\n",
    "# fill nan positions (due to reordering) with 1 \n",
    "DF_diseases_new = DF_diseases_reorder.replace(np.nan,1)\n",
    "\n",
    "# multiply with enhancing factor\n",
    "DF_diseases_scal = DF_diseases_new*enhance_factor \n",
    "\n",
    "DF_merge_diseases = pd.concat([DF_structural.T, \n",
    "                             DF_diseases_scal],axis=1)\n",
    "\n",
    "DF_merge_diseases"
   ]
  },
  {
   "cell_type": "markdown",
   "id": "mature-employment",
   "metadata": {},
   "source": [
    "### 2D PORTRAIT"
   ]
  },
  {
   "cell_type": "code",
   "execution_count": null,
   "id": "nuclear-czech",
   "metadata": {},
   "outputs": [],
   "source": [
    "n_n = 12\n",
    "spr = 1\n",
    "md = 0.0\n",
    "metr = 'cosine'"
   ]
  },
  {
   "cell_type": "code",
   "execution_count": null,
   "id": "amazing-chambers",
   "metadata": {},
   "outputs": [],
   "source": [
    "%%time \n",
    "\n",
    "posG_umap2D = layout_portrait_umap(G,DF_merge_diseases, 2,\n",
    "                                   n_neighbors = n_n,\n",
    "                                   spread = spr,\n",
    "                                   min_dist = md,\n",
    "                                   metric = metr) \n",
    "posG = posG_umap2D"
   ]
  },
  {
   "cell_type": "markdown",
   "id": "clean-officer",
   "metadata": {
    "tags": []
   },
   "source": [
    "## VISUAL SETTINGS + PLOT PREPARATION"
   ]
  },
  {
   "cell_type": "markdown",
   "id": "comparative-dominant",
   "metadata": {},
   "source": [
    "#### NODES - GENERAL"
   ]
  },
  {
   "cell_type": "code",
   "execution_count": null,
   "id": "clinical-affairs",
   "metadata": {},
   "outputs": [],
   "source": [
    "opacity_nodes = 0.8\n",
    "node_edge_col = '#696969' \n",
    "node_linewidth = 1\n",
    "\n",
    "scale_factor = 0.5\n",
    "size_plotly = list(draw_node_degree(G, scale_factor/100).values())"
   ]
  },
  {
   "cell_type": "code",
   "execution_count": null,
   "id": "australian-camel",
   "metadata": {
    "tags": []
   },
   "outputs": [],
   "source": [
    "color_method = 'NF1'\n",
    "l_genes = enhance_genes\n",
    "\n",
    "node_col = '#00E3DF' #'#FF8E00' \n",
    "undefined_col = '#DEDEDE'\n",
    "rest_col_nodes = '#DEDEDE'\n",
    "\n",
    "d_col_all = color_nodes_from_list(G, l_genes, node_col)\n",
    "colors = list(d_col_all.values())\n",
    "    \n",
    "edge_color = node_col \n",
    "d_edge_col = color_edges_from_nodelist_specific(G, l_genes, node_col)\n",
    "width_edges = 0.25\n",
    "opacity_edges = 0.5"
   ]
  },
  {
   "cell_type": "markdown",
   "id": "sporting-orange",
   "metadata": {
    "tags": []
   },
   "source": [
    "## PLOT NETWORK PORTRAIT - plotly "
   ]
  },
  {
   "cell_type": "code",
   "execution_count": null,
   "id": "subtle-texture",
   "metadata": {
    "tags": []
   },
   "outputs": [],
   "source": [
    "# plot nodes based on focus > separate to background/foreground \n",
    "\n",
    "posG_foreground = {}\n",
    "posG_background = {}\n",
    "for k,v in posG.items():\n",
    "    if k in l_genes:\n",
    "        posG_foreground[k]=v\n",
    "    else: \n",
    "        posG_background[k]=v\n",
    "    \n",
    "d_colors_foreground = {}\n",
    "d_colors_background = {}\n",
    "for i,c in d_col_all.items():\n",
    "    if i in posG_foreground.keys():\n",
    "        d_colors_foreground[i]=c\n",
    "    else: \n",
    "        d_colors_background[i]=c\n",
    "\n",
    "colors_foreground = list(d_colors_foreground.values())\n",
    "colors_background = list(d_colors_background.values())\n",
    "\n",
    "d_feat_foreground = {}\n",
    "d_feat_background = {}\n",
    "for k,v in d_gene_sym.items():\n",
    "    if k in posG_foreground: \n",
    "        d_feat_foreground[k]=v\n",
    "    else:\n",
    "        d_feat_background[k]=v\n",
    "        \n",
    "feat_foreground = list(d_feat_foreground.values())\n",
    "feat_background = list(d_feat_background.values())\n",
    "\n",
    "d_size_plotly = draw_node_degree(G, scale_factor/100)\n",
    "d_size_plotly_foreground = {}\n",
    "d_size_plotly_background = {}\n",
    "for k,v in d_size_plotly.items():\n",
    "    if k in posG_foreground.keys():\n",
    "        d_size_plotly_foreground[k]=v\n",
    "    else:\n",
    "        d_size_plotly_background[k]=v\n",
    "        \n",
    "size_plotly_foreground = list(d_size_plotly_foreground.values())\n",
    "size_plotly_background = list(d_size_plotly_background.values())"
   ]
  },
  {
   "cell_type": "code",
   "execution_count": null,
   "id": "gross-puzzle",
   "metadata": {},
   "outputs": [],
   "source": [
    "umap_nodes_foreground = get_trace_nodes_2D(posG_foreground, feat_foreground, colors_foreground, size_plotly_foreground, node_linewidth)\n",
    "umap_nodes_background = get_trace_nodes_2D(posG_background, feat_background, colors_background, size_plotly_background, node_linewidth*0.25)\n",
    "umap_nodes_background_ = get_trace_nodes_2D(posG_background, feat_background, colors_background, 0.5, node_linewidth*0.5)\n",
    "\n",
    "umap_edges = get_trace_edges_specific2D(d_edge_col, posG, linew=width_edges, opac=opacity_edges)\n",
    "data = [umap_edges, umap_nodes_background_, umap_nodes_background, umap_nodes_foreground]\n",
    "\n",
    "path = 'output_plots/2Dlayouts/'\n",
    "schema = 'light' #'dark' \n",
    "fname = '2Dportrait_NetlayoutDisease_DiseaseFeatureMatrix_enhance'+str(enhance_factor)+'_'+color_method+'_nn'+str(n_n)+'_spr'+str(spr)+'_md'+str(md)+'_'+str(metr)+'_'+organism\n",
    "\n",
    "plot_2D(data,path,fname)"
   ]
  },
  {
   "cell_type": "code",
   "execution_count": null,
   "id": "judicial-vermont",
   "metadata": {},
   "outputs": [],
   "source": []
  },
  {
   "cell_type": "code",
   "execution_count": null,
   "id": "contemporary-representation",
   "metadata": {},
   "outputs": [],
   "source": []
  },
  {
   "cell_type": "code",
   "execution_count": null,
   "id": "resident-passion",
   "metadata": {},
   "outputs": [],
   "source": []
  },
  {
   "cell_type": "code",
   "execution_count": null,
   "id": "respiratory-galaxy",
   "metadata": {},
   "outputs": [],
   "source": []
  }
 ],
 "metadata": {
  "kernelspec": {
   "display_name": "myenv",
   "language": "python",
   "name": "myenv"
  },
  "language_info": {
   "codemirror_mode": {
    "name": "ipython",
    "version": 3
   },
   "file_extension": ".py",
   "mimetype": "text/x-python",
   "name": "python",
   "nbconvert_exporter": "python",
   "pygments_lexer": "ipython3",
   "version": "3.8.2"
  }
 },
 "nbformat": 4,
 "nbformat_minor": 5
}
