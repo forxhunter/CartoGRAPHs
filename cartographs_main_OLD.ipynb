{
 "cells": [
  {
   "cell_type": "markdown",
   "metadata": {},
   "source": [
    "# CartoGRAPHs\n",
    "## A Framework for Interpretable Network Visualizations \n",
    "\n",
    "----------\n",
    "+ Network Layouts involve : \n",
    "    + local \n",
    "    + global \n",
    "    + importance\n",
    "    + functional \n",
    "\n",
    "\n",
    "+ Network Categories involve : \n",
    "    + 2D Portrait\n",
    "    + 3D Portrait\n",
    "    + Topographic Map\n",
    "    + Geodesic Map\n",
    "\n",
    "----------"
   ]
  },
  {
   "cell_type": "code",
   "execution_count": 1,
   "metadata": {},
   "outputs": [],
   "source": [
    "from cartographs_main import *"
   ]
  },
  {
   "cell_type": "markdown",
   "metadata": {
    "tags": []
   },
   "source": [
    "_____\n",
    "# 1 | DEFINE NETWORK\n",
    "_____"
   ]
  },
  {
   "cell_type": "code",
   "execution_count": 2,
   "metadata": {
    "tags": []
   },
   "outputs": [],
   "source": [
    "#####################\n",
    "# SELECT AN ORGANISM \n",
    "#####################\n",
    "\n",
    "#rganism = 'yeast'\n",
    "organism = 'human'\n",
    "\n",
    "G = load_graph(organism)\n",
    "\n",
    "d_centralities = load_centralities(G, organism)\n",
    "df_centralities = pd.DataFrame(d_centralities).T\n",
    "essential_genes,non_ess_genes,notdefined_genes = load_essentiality(G, organism)\n",
    "\n",
    "d_gene_sym = load_genesymbols(G, organism)\n",
    "l_features = list(d_gene_sym.values())"
   ]
  },
  {
   "cell_type": "code",
   "execution_count": 3,
   "metadata": {
    "tags": []
   },
   "outputs": [
    {
     "name": "stdout",
     "output_type": "stream",
     "text": [
      "Number of nodes i.e. genes: 16376\n",
      "Number of edges: 309355\n",
      "Network density: 0.2%\n"
     ]
    }
   ],
   "source": [
    "print('Number of nodes i.e. genes: %s' %len(list(G.nodes())))\n",
    "print('Number of edges: %s'%len(list(G.edges())))\n",
    "print('Network density: %.1f%%' %(200.*len(list(G.edges()))/(len(list(G.nodes()))*len(list(G.nodes()))-1)))\n",
    "\n",
    "#print('symbol list length:', len(l_features))\n",
    "#print('dict. of centr. length:', len(d_centralities))\n",
    "#print('Essentiality loaded (all genes):', len(essential_genes)+len(non_ess_genes)+len(notdefined_genes))"
   ]
  },
  {
   "cell_type": "code",
   "execution_count": 4,
   "metadata": {
    "tags": []
   },
   "outputs": [],
   "source": [
    "# Human / Disease specific \n",
    "\n",
    "d_gene_do = pickle.load( open( \"input/d_gene_do.pkl\", \"rb\" ) )\n",
    "d_do_genes = pickle.load( open( \"input/d_do_genes.pkl\", \"rb\" ) )\n",
    "d_do_names = pickle.load( open( \"input/DO_names.pkl\", \"rb\" ) )\n",
    "d_names_do = {y:x for x,y in d_do_names.items()}"
   ]
  },
  {
   "cell_type": "markdown",
   "metadata": {},
   "source": [
    "_____\n",
    "# 2 | LOAD AND SELECT ONF OF THE FOLLOWING FEATURES\n",
    "_____"
   ]
  },
  {
   "cell_type": "code",
   "execution_count": 49,
   "metadata": {},
   "outputs": [],
   "source": [
    "#######################################\n",
    "# Select precalculated layout matrix\n",
    "#######################################\n",
    "\n",
    "#netlayout = 'local'\n",
    "#netlayout = 'global'\n",
    "netlayout = 'importance'\n",
    "#netlayout = 'funct-bio'\n",
    "#netlayout = 'funct-mol'\n",
    "#netlayout = 'funct-cel'\n",
    "#netlayout = 'funct-dis'\n",
    "\n",
    "feature = netlayout\n",
    "DM = load_datamatrix(G,organism, netlayout)\n",
    "\n",
    "genes = []\n",
    "for i in DM.index:\n",
    "    if str(i) in G.nodes():\n",
    "        genes.append(str(i))\n",
    "    \n",
    "genes_rest = [] \n",
    "for g in G.nodes():\n",
    "    if g not in genes:\n",
    "        genes_rest.append(g)"
   ]
  },
  {
   "cell_type": "markdown",
   "metadata": {},
   "source": [
    "____________\n",
    "# 3 | SET VISUAL PRE-SETTINGS\n",
    "____________"
   ]
  },
  {
   "cell_type": "markdown",
   "metadata": {},
   "source": [
    "### CHOOSING GENERAL NODE- AND EDGE VISUAL PARAMETERS"
   ]
  },
  {
   "cell_type": "code",
   "execution_count": 69,
   "metadata": {},
   "outputs": [],
   "source": [
    "#################\n",
    "# E D G E S\n",
    "#################\n",
    "\n",
    "edge_width = 0.1\n",
    "edge_colorlight = '#d3d3d3' # 'lightgrey'\n",
    "edge_colordark = '#696969' \n",
    "opacity_edges = 0.1 \n",
    "\n",
    "\n",
    "#################\n",
    "# N O D E S\n",
    "#################\n",
    "\n",
    "opacity_nodes = 0.8\n",
    "node_edge_col = '#696969' \n",
    "\n",
    "scale_factor = 0.1\n",
    "size = list(draw_node_degree(G, scale_factor).values())\n",
    "\n",
    "scale_factor2D = 0.035\n",
    "size2d = list(draw_node_degree_3D(G, scale_factor2D).values())\n",
    "\n",
    "scale_factor3D = 0.1\n",
    "size3d = list(draw_node_degree_3D(G, scale_factor3D).values())\n",
    "\n",
    "nodesglow_diameter = 8.0\n",
    "nodesglow_transparency = 0.01 # 0.01"
   ]
  },
  {
   "cell_type": "markdown",
   "metadata": {},
   "source": [
    "### CHOOSING NODE COLOR SETTINGS"
   ]
  },
  {
   "cell_type": "markdown",
   "metadata": {},
   "source": [
    "#### OPT 1 | DICTIONARY INPUT"
   ]
  },
  {
   "cell_type": "code",
   "execution_count": null,
   "metadata": {
    "tags": []
   },
   "outputs": [],
   "source": [
    "# Text identifier for file output name\n",
    "color_method = 'clos'\n",
    "specific_genelist = list(G.nodes())\n",
    "\n",
    "# choose a dictionary \n",
    "# example: \n",
    "d_clos = {}\n",
    "for k,v in d_centralities.items():\n",
    "    d_clos[k] = v[1]\n",
    "\n",
    "# set dictionary for coloring \n",
    "d_nodecol = d_clos \n",
    "\n",
    "# choose a color palette \n",
    "col_pal = 'YlOrRd'\n",
    "\n",
    "# assigning colors to nodes based on previous settings\n",
    "d_colours = color_nodes_from_dict(G, d_nodecol, palette = col_pal)\n",
    "colours = list(d_colours.values())\n",
    "\n",
    "edge_color = '#d3d3d3'"
   ]
  },
  {
   "cell_type": "markdown",
   "metadata": {},
   "source": [
    "#### OPT 2 | HUBS"
   ]
  },
  {
   "cell_type": "code",
   "execution_count": 42,
   "metadata": {
    "tags": []
   },
   "outputs": [
    {
     "name": "stdout",
     "output_type": "stream",
     "text": [
      "Selected No. of Hubs:  12\n"
     ]
    }
   ],
   "source": [
    "# Text identifier for file output name\n",
    "color_method = 'hubs'\n",
    "\n",
    "# Choose color of hubs \n",
    "node_col = '#008a00' \n",
    "neigh_col_nodes = '#B9D770' \n",
    "\n",
    "# Identify hubs (using tresholds) \n",
    "min_treshold = 1000\n",
    "max_treshold = 5000\n",
    "hubs,neighs = get_hubs(G, max_treshold, min_treshold)\n",
    "colours = list(color_nodes_hubs(G, hubs, neighs, node_col, neigh_col_nodes).values())\n",
    "print('Selected No. of Hubs: ', len(hubs))\n",
    "\n",
    "# Get edges from hubs \n",
    "d_edge_col_ = color_edges_from_nodelist(G, list(hubs.keys()), node_col)\n",
    "\n",
    "# Get rest edges \n",
    "rest_col_edges = '#d3d3d3'\n",
    "d_rest_edges={}\n",
    "for e in G.edges():\n",
    "    if e not in d_edge_col_.keys():\n",
    "        d_rest_edges[e] = rest_col_edges\n",
    "\n",
    "d_all_edges = {**d_edge_col_, **d_rest_edges}\n",
    "d_all_edges_sort = {key:d_all_edges[key] for key in G.edges()}\n",
    "edge_color = list(d_all_edges_sort.values())"
   ]
  },
  {
   "cell_type": "markdown",
   "metadata": {},
   "source": [
    "#### OPT 3 | ESSENTIAL NODES"
   ]
  },
  {
   "cell_type": "code",
   "execution_count": 95,
   "metadata": {},
   "outputs": [],
   "source": [
    "# Text identifier for file output name\n",
    "color_method = 'essent'\n",
    "\n",
    "# Choose colors \n",
    "node_col = '#00abff' \n",
    "undefined_col = '#d3d3d3'\n",
    "rest_col_nodes = '#d3d3d3'\n",
    "rest_col_edges = '#f5f5f5'\n",
    "\n",
    "specific_genelist = essential_genes\n",
    "d_col_all = color_nodes_from_list(G, essential_genes, node_col)\n",
    "colours = list(d_col_all.values())\n",
    "\n",
    "# Choose edges to highlight that link inbetween 2 essential genes only \n",
    "# or if one essential node is enough to produce a highlighted link \n",
    "d_edge_col_ = color_edges_from_nodelist_and(G, essential_genes, node_col)\n",
    "\n",
    "# Rest edges \n",
    "d_rest_edges={}\n",
    "for e in G.edges():\n",
    "    if e not in d_edge_col_.keys():\n",
    "        d_rest_edges[e] = rest_col_edges\n",
    "\n",
    "d_all_edges = {**d_edge_col_, **d_rest_edges}\n",
    "d_all_edges_sort = {key:d_all_edges[key] for key in G.edges()}\n",
    "edge_color = list(d_all_edges_sort.values())"
   ]
  },
  {
   "cell_type": "markdown",
   "metadata": {},
   "source": [
    "#### OPT 4 | A SPECIFIC DISEASE (for homo sapiens only)"
   ]
  },
  {
   "cell_type": "code",
   "execution_count": 10,
   "metadata": {
    "tags": []
   },
   "outputs": [
    {
     "name": "stdout",
     "output_type": "stream",
     "text": [
      "('organ system cancer', 'DOID:0050686') 2386\n",
      "('cancer', 'DOID:162') 2497\n",
      "('gastrointestinal system cancer', 'DOID:3119') 1008\n"
     ]
    }
   ],
   "source": [
    "# ----------------------------------------------------        \n",
    "# get disease categories\n",
    "# ----------------------------------------------------        \n",
    "disease_categories = {}\n",
    "for d_name in d_names_do.keys():\n",
    "    #if d_name.find(disease_category) != -1:\n",
    "        try:\n",
    "            disease_categories[d_name,d_names_do[d_name]]=len(d_do_genes[d_names_do[d_name]])\n",
    "            #print('specific disease: %s (%s) ; # associated genes: %s' %(d_name,d_names_do[d_name],len(d_do_genes[d_names_do[d_name]])))\n",
    "        except:\n",
    "            pass\n",
    "\n",
    "# ----------------------------------------------------        \n",
    "# search specific term + count of genes associated with disease \n",
    "# ----------------------------------------------------   \n",
    "min_diseasegenes = 1000\n",
    "max_diseasegenes = 50000\n",
    "search_term = \"cancer\"\n",
    "\n",
    "for k,v in disease_categories.items():\n",
    "    if v >= min_diseasegenes and v<= max_diseasegenes and search_term in k[0]:\n",
    "        print(k,v)"
   ]
  },
  {
   "cell_type": "code",
   "execution_count": 90,
   "metadata": {
    "tags": []
   },
   "outputs": [],
   "source": [
    "# Choose Disease \n",
    "disease_category = 'cancer'\n",
    "# Text identifier for file output name\n",
    "color_method = disease_category\n",
    "\n",
    "# Get Disease genes \n",
    "disease_genes = get_disease_genes(G, d_names_do, d_do_genes, disease_category)\n",
    "specific_genelist = disease_genes\n",
    "\n",
    "# Node colors\n",
    "node_col = 'royalblue' #'#d21404' # 'red'\n",
    "rest_col_edges = '#f5f5f5' # 'whitesmoke'\n",
    "rest_col_nodes = '#d3d3d3' # 'lightgrey'\n",
    "\n",
    "d_col_all = color_nodes_from_list(G, disease_genes, node_col)\n",
    "colours = list(d_col_all.values())\n",
    "\n",
    "# Edge colors - based on gene list of selection \n",
    "d_edge_col_ = color_edges_from_nodelist_and(G, disease_genes, node_col)\n",
    "\n",
    "d_rest_edges={}\n",
    "for e in G.edges():\n",
    "    if e not in d_edge_col_.keys():\n",
    "        d_rest_edges[e] = rest_col_edges\n",
    "        \n",
    "d_all_edges = {**d_edge_col_, **d_rest_edges}\n",
    "d_all_edges_sort = {key:d_all_edges[key] for key in G.edges()}\n",
    "edge_color = list(d_all_edges_sort.values())"
   ]
  },
  {
   "cell_type": "markdown",
   "metadata": {},
   "source": [
    "#### OPT 5 | MORE THAN 1 SPECIFIC DISEASES (for homo sapiens only)"
   ]
  },
  {
   "cell_type": "code",
   "execution_count": null,
   "metadata": {
    "tags": []
   },
   "outputs": [],
   "source": [
    "# Text identifier for file output name\n",
    "color_method = 'fourdiseases'\n",
    "\n",
    "# Choose diseases to be highlighted \n",
    "disease_one = 'carcinoma' #'leukemia' ###  \n",
    "disease_two = 'schizophrenia' ###\n",
    "disease_three = 'myopathy' # 'epilepsy' ###\n",
    "disease_four = 'breast cancer'#'cardiomyopathy' ###\n",
    "\n",
    "disease_genes_one = get_disease_genes(G, d_names_do, d_do_genes, disease_one)\n",
    "disease_genes_two = get_disease_genes(G, d_names_do, d_do_genes, disease_two)\n",
    "disease_genes_three = get_disease_genes(G, d_names_do, d_do_genes, disease_three)\n",
    "disease_genes_four = get_disease_genes(G, d_names_do, d_do_genes, disease_four)\n",
    "\n",
    "node_col_one = '#ff9a00' #orange\n",
    "node_col_two = '#ffe700' #yellow\n",
    "node_col_three = '#e50000' #red\n",
    "node_col_four = '#a10000' #dark red\n",
    "\n",
    "rest_col_edges = '#d3d3d3'\n",
    "rest_col_nodes = '#d3d3d3'# '#696969' \n",
    "\n",
    "d_col_one = color_nodes(disease_genes_one, node_col_one)\n",
    "d_col_two = color_nodes(disease_genes_two, node_col_two)\n",
    "d_col_three = color_nodes(disease_genes_three, node_col_three)\n",
    "d_col_four = color_nodes(disease_genes_four, node_col_four)\n",
    "\n",
    "\n",
    "# Node colors \n",
    "d_col_all = {**d_col_one, **d_col_two, **d_col_three, **d_col_four}\n",
    "\n",
    "d_rest = {}\n",
    "for g in G.nodes():\n",
    "    if g not in d_col_all.keys():\n",
    "        d_rest[g] = rest_col_nodes #'d3d3d3' #'696969', #'dimgrey' # 'rgba(50,50,50,0.5)'\n",
    "\n",
    "d_col_all_unsort = {**d_col_all, **d_rest}\n",
    "d_col_all_sorted = {key:d_col_all_unsort[key] for key in G.nodes()}\n",
    "colours = list(d_col_all_sorted.values())\n",
    "\n",
    "\n",
    "# Edge colors \n",
    "\n",
    "d_edge_col_one = color_edges_from_nodelist_specific(G, disease_genes_one, node_col_one)\n",
    "d_edge_col_two = color_edges_from_nodelist_specific(G, disease_genes_two, node_col_two)\n",
    "d_edge_col_three = color_edges_from_nodelist_specific(G, disease_genes_three, node_col_three)\n",
    "d_edge_col_four = color_edges_from_nodelist_specific(G, disease_genes_four, node_col_four)\n",
    "\n",
    "\n",
    "d_edge_col_ = {**d_edge_col_one,**d_edge_col_two,**d_edge_col_three,**d_edge_col_four}\n",
    "\n",
    "d_rest_edges={}\n",
    "for e in G.edges():\n",
    "    if e not in d_edge_col_.keys():\n",
    "        d_rest_edges[e] = rest_col_edges\n",
    "        \n",
    "d_all_edges = {**d_edge_col_, **d_rest_edges}\n",
    "d_all_edges_sort = {key:d_all_edges[key] for key in G.edges()}\n",
    "edge_color = list(d_all_edges_sort.values())"
   ]
  },
  {
   "cell_type": "markdown",
   "metadata": {},
   "source": [
    "#### OPT 6 | SPECIFIC GENE LIST (for homo sapiens only)"
   ]
  },
  {
   "cell_type": "code",
   "execution_count": null,
   "metadata": {
    "tags": []
   },
   "outputs": [],
   "source": [
    "#################\n",
    "#\n",
    "# EXAMPLE 1: PATIENT VARIANTS + SEEDS \n",
    "#\n",
    "#################\n",
    "\n",
    "# Text identifier for file output name\n",
    "color_method = 'var_seeds'\n",
    "\n",
    "# Load Gene Information for Gene lists \n",
    "variants = pd.read_csv('input/julias_variants_mod.txt')\n",
    "variant_list = [str(i) for i in list(variants['variants'])]\n",
    "variant_sym = pd.read_csv('input/julias_variants_sym.txt')\n",
    "genes_sym_list = [str(i) for i in list(variant_sym['variant_sym'])]\n",
    "d_gene_sym_variants = dict(zip(variant_list,genes_sym_list))\n",
    "\n",
    "df_seeds = pd.read_csv('input/seeds_from_genelists.txt')\n",
    "df_seeds.columns = ['seeds']\n",
    "df_seeds_z = pd.read_csv('input/seeds_from_zNumbers.txt', sep='\\n')\n",
    "seeds_list = [str(i) for i in list(df_seeds['seeds'])]\n",
    "\n",
    "d_seeds_idsym = {}\n",
    "for k,v in d_gene_sym.items():\n",
    "    for i in seeds_list:\n",
    "        if v == i:\n",
    "            d_seeds_idsym[k]=i\n",
    "seed_list = list(d_seeds_idsym.keys())\n",
    "\n",
    "genes_list = variant_list+seed_list\n",
    "# or select any other gene list with gene EntrezIDs\n",
    "\n",
    "#################\n",
    "#\n",
    "# EXAMPLE 2:  AUTOCORE \n",
    "#\n",
    "#################\n",
    "\n",
    "# Text identifier for file output name\n",
    "#color_method = 'autocore' \n",
    "\n",
    "#G_AC = nx.read_edgelist(\"input/autocore_edgelist.txt\")\n",
    "#genes_list = list(G_AC.nodes()"
   ]
  },
  {
   "cell_type": "code",
   "execution_count": 88,
   "metadata": {
    "tags": []
   },
   "outputs": [],
   "source": [
    "#################\n",
    "#\n",
    "# Developmental Genes \n",
    "#\n",
    "#################\n",
    "\n",
    "devgenes_selection = '2cell' # 'oocyte' #'2cell' '4cell' '8cell'\n",
    "color_method = 'dev_'+devgenes_selection\n",
    "\n",
    "df_devgenes = pd.read_csv('input/EmExplorer/'+devgenes_selection+'_Homo-sapiens.txt', delimiter = \"\\t\")\n",
    "devgenes = list(df_devgenes['stage'])\n",
    "\n",
    "# match genesymbol with entrezid\n",
    "d_devgenes_entrezid = {}\n",
    "for i,k in d_gene_sym.items():\n",
    "    if k in devgenes:\n",
    "         d_devgenes_entrezid[k] = i \n",
    "            \n",
    "devgenes_entrezid = list(d_devgenes_entrezid.values())\n",
    "\n",
    "# Choose colors \n",
    "node_col = '#0000ff' \n",
    "undefined_col = '#d3d3d3'\n",
    "rest_col_nodes = '#d3d3d3'\n",
    "rest_col_edges = '#f5f5f5'\n",
    "\n",
    "specific_genelist = devgenes_entrezid\n",
    "d_col_all = color_nodes_from_list(G, specific_genelist, node_col)\n",
    "colours = list(d_col_all.values())\n",
    "\n",
    "d_edge_col_ = color_edges_from_nodelist_and(G, specific_genelist, node_col)\n",
    "\n",
    "# Rest edges \n",
    "d_rest_edges={}\n",
    "for e in G.edges():\n",
    "    if e not in d_edge_col_.keys():\n",
    "        d_rest_edges[e] = rest_col_edges\n",
    "\n",
    "d_all_edges = {**d_edge_col_, **d_rest_edges}\n",
    "d_all_edges_sort = {key:d_all_edges[key] for key in G.edges()}\n",
    "edge_color = list(d_all_edges_sort.values())"
   ]
  },
  {
   "cell_type": "code",
   "execution_count": 83,
   "metadata": {
    "tags": []
   },
   "outputs": [],
   "source": [
    "#################\n",
    "#\n",
    "# SPECIFIC GENES \n",
    "#\n",
    "#################\n",
    "\n",
    "# Text identifier for file output name\n",
    "color_method = 'genes'\n",
    "\n",
    "# Choose gene with \"Gene symbol\"\n",
    "genesym_list = ['APP', 'ELAVL1']\n",
    "\n",
    "d_idsym = {}\n",
    "for k,v in d_gene_sym.items():\n",
    "    for i in genesym_list:\n",
    "        if v == i:\n",
    "            d_idsym[k]=i\n",
    "l_genes = list(d_idsym.keys())\n",
    "\n",
    "node_col = '#0000ff' \n",
    "undefined_col = '#d3d3d3'\n",
    "rest_col_nodes = '#d3d3d3'\n",
    "rest_col_edges = '#f5f5f5'\n",
    "\n",
    "specific_genelist = devgenes_entrezid\n",
    "d_col_all = color_nodes_from_list(G, specific_genelist, node_col)\n",
    "colours = list(d_col_all.values())\n",
    "\n",
    "d_edge_col_ = color_edges_from_genelist(G, l_genes, 'dimgrey')"
   ]
  },
  {
   "cell_type": "markdown",
   "metadata": {},
   "source": [
    "#### OPT 7 | DISEASE MODULES / PAIRS (for homo sapiens only)"
   ]
  },
  {
   "cell_type": "code",
   "execution_count": 142,
   "metadata": {
    "tags": []
   },
   "outputs": [],
   "source": [
    "# disease relationships tests\n",
    "# 1 ('parapsoriasis', 'DOID:9088') 54 or ('psoriasis', 'DOID:8893') 55\n",
    "# 2 ('vasculitis', 'DOID:865') 39\n",
    "\n",
    "# 1 ('alcoholic liver cirrhosis', 'DOID:14018') 17\n",
    "# 2 ('ankylosing spondylitis', 'DOID:7147') 12"
   ]
  },
  {
   "cell_type": "code",
   "execution_count": 157,
   "metadata": {
    "tags": []
   },
   "outputs": [
    {
     "name": "stdout",
     "output_type": "stream",
     "text": [
      "Number of disease genes:  parapsoriasis : 54\n",
      "Number of disease genes:  vasculitis : 41\n"
     ]
    }
   ],
   "source": [
    "# Text identifier for file output name\n",
    "color_method = 'dismod'\n",
    "\n",
    "# Choose diseases to be highlighted \n",
    "disease_one = 'parapsoriasis' #\"Graves' disease\" # 'asthma' \n",
    "disease_two = 'vasculitis' #'celiac disease'\n",
    "\n",
    "disease_genes_one = get_disease_genes(G, d_names_do, d_do_genes, disease_one)\n",
    "disease_genes_two = get_disease_genes(G, d_names_do, d_do_genes, disease_two)\n",
    "print('Number of disease genes: ', disease_one,':', len(disease_genes_one))\n",
    "print('Number of disease genes: ', disease_two,':', len(disease_genes_two))\n",
    "\n",
    "\n",
    "# N O D E S\n",
    "node_col_one = '#FFCA06' #light-orange\n",
    "node_col_two = '#06D2FF' # light-blue  '#01F3FF' #turquoise\n",
    "node_col_overlap ='#093DFF' #darkblue\n",
    "rest_col_nodes = '#F4F4F4' # '#696969' \n",
    "\n",
    "d_col_one = color_nodes(disease_genes_one, node_col_one)\n",
    "d_col_two = color_nodes(disease_genes_two, node_col_two)\n",
    "\n",
    "d_col_both = d_col_one.keys() & d_col_two.keys()\n",
    "d_col_overlap = {}\n",
    "for node in d_col_both:\n",
    "    d_col_overlap[node] = node_col_overlap \n",
    "    \n",
    "d_col_all = {**d_col_one, **d_col_two,**d_col_overlap}\n",
    "\n",
    "d_rest = {}\n",
    "for g in G.nodes():\n",
    "    if g not in d_col_all.keys():\n",
    "        d_rest[g] = rest_col_nodes #'d3d3d3' #'696969', #'dimgrey' # 'rgba(50,50,50,0.5)'\n",
    "d_col_all_unsort = {**d_col_all, **d_rest}\n",
    "d_col_all_sorted = {key:d_col_all_unsort[key] for key in G.nodes()}\n",
    "colours = list(d_col_all_sorted.values())\n",
    "\n",
    "\n",
    "# E D G E S \n",
    "edge_col_mix = '#0E9412' #green\n",
    "#rest_col_edges = '#F4F4F4' \n",
    "\n",
    "# color edges in between disease only \n",
    "d_edge_col_one = color_edges_from_nodelist_and(G, disease_genes_one, node_col_one)\n",
    "d_edge_col_two = color_edges_from_nodelist_and(G, disease_genes_two, node_col_two)\n",
    "d_edge_col_both = {**d_edge_col_one, **d_edge_col_two}\n",
    "\n",
    "\n",
    "# color edges from one disease to another\n",
    "d_edge_col_mix = color_edges_from_nodelist_and(G, list(disease_genes_one)+list(disease_genes_two), edge_col_mix)\n",
    "d_edge_col_mix_drop = {}\n",
    "for k,v in d_edge_col_mix.items():\n",
    "    if k not in d_edge_col_both.keys():\n",
    "        d_edge_col_mix_drop[k]=v"
   ]
  },
  {
   "cell_type": "markdown",
   "metadata": {},
   "source": [
    "____________\n",
    "# 4 | LAYOUTS\n",
    "____________"
   ]
  },
  {
   "cell_type": "markdown",
   "metadata": {},
   "source": [
    "### SPRING "
   ]
  },
  {
   "cell_type": "code",
   "execution_count": 159,
   "metadata": {
    "collapsed": true,
    "jupyter": {
     "outputs_hidden": true
    }
   },
   "outputs": [
    {
     "name": "stdout",
     "output_type": "stream",
     "text": [
      "CPU times: user 5min 47s, sys: 17.6 s, total: 6min 5s\n",
      "Wall time: 6min 10s\n"
     ]
    }
   ],
   "source": [
    "%%time\n",
    "\n",
    "itr = 20\n",
    "posG_spring2D = nx.spring_layout(G,dim=2,iterations=itr)"
   ]
  },
  {
   "cell_type": "code",
   "execution_count": 165,
   "metadata": {},
   "outputs": [],
   "source": [
    "posG = posG_spring2D\n",
    "\n",
    "# to resolve background / foreground plotting challenge\n",
    "# all specific disease genes are in foreground \n",
    "\n",
    "posG_foreground = {}\n",
    "for k,v in posG.items():\n",
    "    if k in d_col_all.keys():\n",
    "        posG_foreground[k] = v\n",
    "        \n",
    "colours_foreground = []\n",
    "for k,v in d_col_all_sorted.items():\n",
    "    if k in posG_foreground.keys():\n",
    "        colours_foreground.append(v)\n",
    "        \n",
    "l_features_foreground = []\n",
    "for k,v in d_gene_sym.items():\n",
    "    if k in posG_foreground.keys():\n",
    "        l_features_foreground.append(v)"
   ]
  },
  {
   "cell_type": "code",
   "execution_count": 166,
   "metadata": {},
   "outputs": [
    {
     "data": {
      "text/plain": [
       "'output_plots/2Dlayouts/2Dspring_itr20_funct-dis_col-dismod_human.html'"
      ]
     },
     "execution_count": 166,
     "metadata": {},
     "output_type": "execute_result"
    }
   ],
   "source": [
    "spring_nodes = get_trace_nodes_2D(posG, l_features, colours, 2.5, opacity_nodes)\n",
    "spring_nodes_foreground = get_trace_nodes_2D(posG_foreground, l_features_foreground, colours_foreground, 5.0, opacity_nodes)\n",
    "\n",
    "spring_edges_one = get_trace_edges_from_nodes2D(d_edge_col_one, posG, linew=0.65, opac=0.35)\n",
    "spring_edges_one_glow = get_trace_edges_from_nodelist2D(d_edge_col_one, posG, linew=5.0, opac=0.07)\n",
    "\n",
    "spring_edges_two = get_trace_edges_from_nodes2D(d_edge_col_two, posG, linew=0.65, opac=0.35)\n",
    "spring_edges_two_glow = get_trace_edges_from_nodelist2D(d_edge_col_two, posG, linew=5.0, opac=0.07)\n",
    "\n",
    "spring_edges_mix = get_trace_edges_from_nodes2D(d_edge_col_mix_drop, posG, linew=0.65, opac=0.35)\n",
    "spring_edges_mix_glow = get_trace_edges_from_nodelist2D(d_edge_col_mix_drop, posG, linew=5.0, opac=0.07)\n",
    "\n",
    "\n",
    "spring_data = [\n",
    "             spring_edges_one,\n",
    "             spring_edges_one_glow,\n",
    "             \n",
    "             spring_edges_two,\n",
    "             spring_edges_two_glow,\n",
    "            \n",
    "             spring_edges_mix,\n",
    "             spring_edges_mix_glow,\n",
    "    \n",
    "             spring_nodes,\n",
    "             spring_nodes_foreground\n",
    "            ]\n",
    "\n",
    "data = spring_data\n",
    "\n",
    "fname = '2Dlayouts/2Dspring_itr'+str(itr)+'_'+feature+'_col-'+color_method+'_'+organism\n",
    "    \n",
    "path = 'output_plots/'\n",
    "plot_2D(data,path,fname)"
   ]
  },
  {
   "cell_type": "markdown",
   "metadata": {
    "tags": []
   },
   "source": [
    "___\n",
    "## 2D PORTRAIT\n",
    "___"
   ]
  },
  {
   "cell_type": "code",
   "execution_count": 47,
   "metadata": {},
   "outputs": [],
   "source": [
    "layoutcategory = '2D'"
   ]
  },
  {
   "cell_type": "markdown",
   "metadata": {},
   "source": [
    "### SPATIAL NODE EMBEDDING + Dim. Red. METHODS"
   ]
  },
  {
   "cell_type": "markdown",
   "metadata": {},
   "source": [
    "#### TSNE"
   ]
  },
  {
   "cell_type": "code",
   "execution_count": 52,
   "metadata": {},
   "outputs": [
    {
     "name": "stdout",
     "output_type": "stream",
     "text": [
      "CPU times: user 7min 50s, sys: 17.6 s, total: 8min 8s\n",
      "Wall time: 2min 5s\n"
     ]
    }
   ],
   "source": [
    "%%time \n",
    "\n",
    "# Specifying dim. red. method for file name\n",
    "dimred = 'tsne'\n",
    "\n",
    "prplxty = 10 # range: 5-50\n",
    "density = 1 # default 12.\n",
    "l_rate = 200 # default 200.\n",
    "steps = 250 # min 250\n",
    "metric = 'cosine'\n",
    "\n",
    "r_scale = 1.2\n",
    "tsne2D = embed_tsne_2D(DM, prplxty, density, l_rate, steps, metric)\n",
    "posG_complete_tsne_norm = get_posG_2D_norm(G, DM, tsne2D, r_scale)"
   ]
  },
  {
   "cell_type": "markdown",
   "metadata": {},
   "source": [
    "#### UMAP"
   ]
  },
  {
   "cell_type": "code",
   "execution_count": 3,
   "metadata": {},
   "outputs": [
    {
     "ename": "NameError",
     "evalue": "name 'DM' is not defined",
     "output_type": "error",
     "traceback": [
      "\u001b[0;31m---------------------------------------------------------------------------\u001b[0m",
      "\u001b[0;31mNameError\u001b[0m                                 Traceback (most recent call last)",
      "\u001b[0;32m<timed exec>\u001b[0m in \u001b[0;36m<module>\u001b[0;34m\u001b[0m\n",
      "\u001b[0;31mNameError\u001b[0m: name 'DM' is not defined"
     ]
    }
   ],
   "source": [
    "%%time \n",
    "\n",
    "# Specifying dim. red. method for file name\n",
    "dimred = 'umap'\n",
    "\n",
    "n_neighbors = 8 # balance between local and global structure in the data\n",
    "spread = 6\n",
    "min_dist = 0.4 # defines how dense points are stacked together \n",
    "metric ='cosine'\n",
    "\n",
    "r_scale = 1.2\n",
    "umap2D = embed_umap_2D(DM, n_neighbors, spread, min_dist, metric)\n",
    "posG_complete_umap_norm = get_posG_2D_norm(G, DM, umap2D, r_scale)"
   ]
  },
  {
   "cell_type": "code",
   "execution_count": null,
   "metadata": {},
   "outputs": [],
   "source": []
  },
  {
   "cell_type": "code",
   "execution_count": null,
   "metadata": {},
   "outputs": [],
   "source": []
  },
  {
   "cell_type": "code",
   "execution_count": null,
   "metadata": {},
   "outputs": [],
   "source": []
  },
  {
   "cell_type": "markdown",
   "metadata": {},
   "source": [
    "--------------------"
   ]
  },
  {
   "cell_type": "markdown",
   "metadata": {},
   "source": [
    "### PLOT"
   ]
  },
  {
   "cell_type": "code",
   "execution_count": null,
   "metadata": {},
   "outputs": [
    {
     "data": {
      "text/plain": [
       "'output_plots/2Dlayouts/2DPortrait_tsne_importance_col-essent_prplx-10_dens-1_learn-200_stp-250_human.html'"
      ]
     },
     "execution_count": 96,
     "metadata": {},
     "output_type": "execute_result"
    }
   ],
   "source": [
    "if dimred == 'tsne':\n",
    "    posG = posG_complete_tsne_norm\n",
    "    \n",
    "elif dimred == 'umap':\n",
    "    posG = posG_complete_umap_norm\n",
    "    \n",
    "# to resolve background / foreground plotting challenge\n",
    "# all specific genes are in foreground \n",
    "\n",
    "posG_foreground = {}\n",
    "for k,v in posG.items():\n",
    "    if k in specific_genelist:\n",
    "        posG_foreground[k] = v\n",
    "        \n",
    "colours_foreground = []\n",
    "for k,v in d_col_all.items():\n",
    "    if k in specific_genelist:\n",
    "        colours_foreground.append(v)\n",
    "        \n",
    "umap_nodes_withsize = get_trace_nodes_2D(posG, l_features, colours, size2d, 0.05)\n",
    "umap_nodes = get_trace_nodes_2D(posG, l_features, colours, 1.0, 0.05)\n",
    "\n",
    "umap_nodes_foreground = get_trace_nodes_2D(posG_foreground, l_features, colours_foreground, size2d, opacity_nodes)\n",
    "umap_edges_specific = get_trace_edges_from_nodes2D(d_edge_col_, posG, linew=0.5, opac=0.12)\n",
    "umap_edges_specific_glow = get_trace_edges_from_nodes2D(d_edge_col_, posG, linew=3.5, opac=0.01)\n",
    "\n",
    "data = [\n",
    "            umap_edges_specific,\n",
    "            umap_edges_specific_glow,\n",
    "            umap_nodes_withsize,\n",
    "            umap_nodes, \n",
    "            umap_nodes_foreground \n",
    "            ]\n",
    "\n",
    "if dimred == 'umap':\n",
    "    fname = '2Dlayouts/2DPortrait_umap_'+feature+'_col-'+color_method+'_neigh-'+str(n_neighbors)+'_spr-'+str(spread)+'_mindist-'+str(min_dist)+'_'+organism\n",
    "\n",
    "elif dimred == 'tsne':\n",
    "    fname = '2Dlayouts/2DPortrait_tsne_'+feature+'_col-'+color_method+'_prplx-'+str(prplxty)+'_dens-'+str(density)+'_learn-'+str(l_rate)+'_'+'stp-'+str(steps)+'_'+organism\n",
    "    \n",
    "path = 'output_plots/'\n",
    "plot_2D(data,path,fname)"
   ]
  },
  {
   "cell_type": "code",
   "execution_count": null,
   "metadata": {},
   "outputs": [
    {
     "data": {
      "text/plain": [
       "'output_plots/2Dlayouts/2DPortrait_tsne_importance_col-dev_oocyte_prplx-10_dens-1_learn-200_stp-250_human.html'"
      ]
     },
     "execution_count": 83,
     "metadata": {},
     "output_type": "execute_result"
    }
   ],
   "source": [
    "data = [\n",
    "            umap_edges_specific,\n",
    "            umap_edges_specific_glow,\n",
    "            umap_nodes_withsize,\n",
    "            umap_nodes, \n",
    "            umap_nodes_foreground \n",
    "            ]\n",
    "\n",
    "if dimred == 'umap':\n",
    "    fname = '2Dlayouts/2DPortrait_umap_'+feature+'_col-'+color_method+'_neigh-'+str(n_neighbors)+'_spr-'+str(spread)+'_mindist-'+str(min_dist)+'_'+organism\n",
    "\n",
    "elif dimred == 'tsne':\n",
    "    fname = '2Dlayouts/2DPortrait_tsne_'+feature+'_col-'+color_method+'_prplx-'+str(prplxty)+'_dens-'+str(density)+'_learn-'+str(l_rate)+'_'+'stp-'+str(steps)+'_'+organism\n",
    "    \n",
    "path = 'output_plots/'\n",
    "plot_2D(data,path,fname)"
   ]
  },
  {
   "cell_type": "code",
   "execution_count": null,
   "metadata": {},
   "outputs": [],
   "source": []
  },
  {
   "cell_type": "code",
   "execution_count": null,
   "metadata": {},
   "outputs": [],
   "source": []
  },
  {
   "cell_type": "code",
   "execution_count": null,
   "metadata": {},
   "outputs": [],
   "source": []
  },
  {
   "cell_type": "code",
   "execution_count": null,
   "metadata": {},
   "outputs": [],
   "source": []
  },
  {
   "cell_type": "code",
   "execution_count": 10,
   "metadata": {
    "tags": []
   },
   "outputs": [
    {
     "ename": "NameError",
     "evalue": "name 'd_col_all' is not defined",
     "output_type": "error",
     "traceback": [
      "\u001b[0;31m---------------------------------------------------------------------------\u001b[0m",
      "\u001b[0;31mNameError\u001b[0m                                 Traceback (most recent call last)",
      "\u001b[0;32m<ipython-input-10-5a89f130a209>\u001b[0m in \u001b[0;36m<module>\u001b[0;34m\u001b[0m\n\u001b[1;32m     11\u001b[0m \u001b[0mposG_foreground\u001b[0m \u001b[0;34m=\u001b[0m \u001b[0;34m{\u001b[0m\u001b[0;34m}\u001b[0m\u001b[0;34m\u001b[0m\u001b[0;34m\u001b[0m\u001b[0m\n\u001b[1;32m     12\u001b[0m \u001b[0;32mfor\u001b[0m \u001b[0mk\u001b[0m\u001b[0;34m,\u001b[0m\u001b[0mv\u001b[0m \u001b[0;32min\u001b[0m \u001b[0mposG\u001b[0m\u001b[0;34m.\u001b[0m\u001b[0mitems\u001b[0m\u001b[0;34m(\u001b[0m\u001b[0;34m)\u001b[0m\u001b[0;34m:\u001b[0m\u001b[0;34m\u001b[0m\u001b[0;34m\u001b[0m\u001b[0m\n\u001b[0;32m---> 13\u001b[0;31m     \u001b[0;32mif\u001b[0m \u001b[0mk\u001b[0m \u001b[0;32min\u001b[0m \u001b[0md_col_all\u001b[0m\u001b[0;34m.\u001b[0m\u001b[0mkeys\u001b[0m\u001b[0;34m(\u001b[0m\u001b[0;34m)\u001b[0m\u001b[0;34m:\u001b[0m\u001b[0;34m\u001b[0m\u001b[0;34m\u001b[0m\u001b[0m\n\u001b[0m\u001b[1;32m     14\u001b[0m         \u001b[0mposG_foreground\u001b[0m\u001b[0;34m[\u001b[0m\u001b[0mk\u001b[0m\u001b[0;34m]\u001b[0m \u001b[0;34m=\u001b[0m \u001b[0mv\u001b[0m\u001b[0;34m\u001b[0m\u001b[0;34m\u001b[0m\u001b[0m\n\u001b[1;32m     15\u001b[0m \u001b[0;34m\u001b[0m\u001b[0m\n",
      "\u001b[0;31mNameError\u001b[0m: name 'd_col_all' is not defined"
     ]
    }
   ],
   "source": [
    "# disease (4) specific: \n",
    "\n",
    "# to resolve background / foreground plotting challenge\n",
    "# all specific disease genes are in foreground \n",
    "\n",
    "posG_foreground = {}\n",
    "for k,v in posG.items():\n",
    "    if k in d_col_all.keys():\n",
    "        posG_foreground[k] = v\n",
    "        \n",
    "colours_foreground = []\n",
    "for k,v in d_col_all_sorted.items():\n",
    "    if k in posG_foreground.keys():\n",
    "        colours_foreground.append(v)\n",
    "        \n",
    "l_features_foreground = []\n",
    "for k,v in d_gene_sym.items():\n",
    "    if k in posG_foreground.keys():\n",
    "        l_features_foreground.append(v)"
   ]
  },
  {
   "cell_type": "code",
   "execution_count": 158,
   "metadata": {
    "tags": []
   },
   "outputs": [
    {
     "data": {
      "text/plain": [
       "'output_plots/2Dlayouts/2DPortrait_umap_funct-dis_col-dismod_neigh-8_spr-6_mindist-0.4_human.html'"
      ]
     },
     "execution_count": 158,
     "metadata": {},
     "output_type": "execute_result"
    }
   ],
   "source": [
    "umap_nodes = get_trace_nodes_2D(posG, l_features, colours, 2.5, opacity_nodes)\n",
    "umap_nodes_foreground = get_trace_nodes_2D(posG_foreground, l_features_foreground, colours_foreground, 5.0, opacity_nodes)\n",
    "\n",
    "umap_edges_one = get_trace_edges_from_nodes2D(d_edge_col_one, posG, linew=0.65, opac=0.35)\n",
    "umap_edges_one_glow = get_trace_edges_from_nodelist2D(d_edge_col_one, posG, linew=5.0, opac=0.07)\n",
    "\n",
    "umap_edges_two = get_trace_edges_from_nodes2D(d_edge_col_two, posG, linew=0.65, opac=0.35)\n",
    "umap_edges_two_glow = get_trace_edges_from_nodelist2D(d_edge_col_two, posG, linew=5.0, opac=0.07)\n",
    "\n",
    "umap_edges_mix = get_trace_edges_from_nodes2D(d_edge_col_mix_drop, posG, linew=0.65, opac=0.35)\n",
    "umap_edges_mix_glow = get_trace_edges_from_nodelist2D(d_edge_col_mix_drop, posG, linew=5.0, opac=0.07)\n",
    "\n",
    "\n",
    "umap_data = [\n",
    "             umap_edges_one,\n",
    "             umap_edges_one_glow,\n",
    "             \n",
    "             umap_edges_two,\n",
    "             umap_edges_two_glow,\n",
    "            \n",
    "             umap_edges_mix,\n",
    "             umap_edges_mix_glow,\n",
    "    \n",
    "             umap_nodes,\n",
    "             umap_nodes_foreground\n",
    "            ]\n",
    "\n",
    "data = umap_data\n",
    "\n",
    "if dimred == 'umap':\n",
    "    fname = '2Dlayouts/2DPortrait_umap_'+feature+'_col-'+color_method+'_neigh-'+str(n_neighbors)+'_spr-'+str(spread)+'_mindist-'+str(min_dist)+'_'+organism\n",
    "\n",
    "elif dimred == 'tsne':\n",
    "    fname = '2Dlayouts/2DPortrait_tsne_'+feature+'_col-'+color_method+'_prplx-'+str(prplxty)+'_dens-'+str(density)+'_learn-'+str(l_rate)+'_'+'stp-'+str(steps)+'_'+organism\n",
    "    \n",
    "path = 'output_plots/'\n",
    "plot_2D(data,path,fname)"
   ]
  },
  {
   "cell_type": "markdown",
   "metadata": {},
   "source": [
    "### Spring for comparison"
   ]
  },
  {
   "cell_type": "markdown",
   "metadata": {},
   "source": [
    "#### UMAP EXPORT TO CSV FOR VRNETZER INPUT "
   ]
  },
  {
   "cell_type": "code",
   "execution_count": 119,
   "metadata": {},
   "outputs": [],
   "source": [
    "export_to_csv2D(path='_VR_layouts/',\n",
    "                layout_namespace = layoutcategory+'_'+netlayout, \n",
    "                posG = posG_complete_umap_norm, \n",
    "                colours = colours)"
   ]
  },
  {
   "cell_type": "markdown",
   "metadata": {},
   "source": [
    "___\n",
    "## TOPOGRAPHIC NETWORK MAP \n",
    "___"
   ]
  },
  {
   "cell_type": "code",
   "execution_count": 20,
   "metadata": {},
   "outputs": [],
   "source": [
    "layoutcategory = 'topographic'"
   ]
  },
  {
   "cell_type": "markdown",
   "metadata": {},
   "source": [
    "### DEFINITION OF Z-PARAMETER"
   ]
  },
  {
   "cell_type": "markdown",
   "metadata": {},
   "source": [
    "#### OPT 1 | ESSENTIALITY STATE"
   ]
  },
  {
   "cell_type": "code",
   "execution_count": 31,
   "metadata": {},
   "outputs": [],
   "source": [
    "# Text identifier for file output name\n",
    "z_feat = 'z-ess'\n",
    "\n",
    "value_ess = 10\n",
    "value_noness = 5 \n",
    "value_notdef = 1\n",
    "\n",
    "d_ess = {}\n",
    "for i in essential_genes:\n",
    "    d_ess[i] = value_ess\n",
    "d_noness = {}\n",
    "for i in non_ess_genes:\n",
    "    d_noness[i] = value_noness\n",
    "d_notdef = {}\n",
    "for i in notdefined_genes:\n",
    "    d_notdef[i] = value_notdef\n",
    "    \n",
    "d_alless_unsort = {**d_ess,**d_noness,**d_notdef}\n",
    "dict_z = {key:d_alless_unsort[key] for key in G.nodes()}\n",
    "\n",
    "z_list = list(dict_z.values())\n",
    "z_list_norm = sklearn.preprocessing.minmax_scale(z_list, feature_range=(0, 1.0), axis=0, copy=True)"
   ]
  },
  {
   "cell_type": "markdown",
   "metadata": {},
   "source": [
    "#### OPT 2 | AVERAGE OF CENTRALITY METRICS"
   ]
  },
  {
   "cell_type": "code",
   "execution_count": 27,
   "metadata": {},
   "outputs": [],
   "source": [
    "# Text identifier for file output name\n",
    "z_feat = 'z-centravg'\n",
    "\n",
    "d_centr = {}\n",
    "for i,j in df_centralities.iterrows():\n",
    "    d_centr[str(i)] = (j[0]+j[1]+j[2])/3 # without eigenvalue\n",
    "    \n",
    "dict_z  = {key:d_centr[key] for key in G.nodes()}\n",
    "\n",
    "z_list = list(dict_z.values())\n",
    "z_list_norm = sklearn.preprocessing.minmax_scale(z_list, feature_range=(0, 1.0), axis=0, copy=True)"
   ]
  },
  {
   "cell_type": "markdown",
   "metadata": {},
   "source": [
    " #### OPT 3 | NUMBER OF ASSOCIATED DISEASES (only for human PPI)"
   ]
  },
  {
   "cell_type": "code",
   "execution_count": null,
   "metadata": {},
   "outputs": [],
   "source": [
    "# Text identifier for file output name\n",
    "z_feat = 'z-disease'\n",
    "\n",
    "# Get Feature Matrix with genes as rows and columns as diseases\n",
    "DM_feature  = pd.read_csv('_output_csv/Features_Disease_Dataframe_Human.csv', index_col=0)\n",
    "\n",
    "# set gene list (= G.nodes())\n",
    "genes_assoc = []\n",
    "for i in DM_feature.index:\n",
    "    genes_assoc.append(str(i))\n",
    "    \n",
    "genes_notassoc = [] \n",
    "for g in G.nodes():\n",
    "    if g not in genes_assoc:\n",
    "        genes_notassoc.append(g)\n",
    "\n",
    "features_counted = (DM_feature == 1).astype(int).sum(axis=1)\n",
    "d_features_counted = dict(zip(genes_assoc, list(features_counted)))\n",
    "        \n",
    "d_rest = {}\n",
    "for i in genes_notassoc: \n",
    "    d_rest[i] = -20\n",
    "\n",
    "d_param_unsorted = {**d_features_counted, **d_rest}\n",
    "dict_z = {key:d_param_unsorted[key] for key in G.nodes()}\n",
    "\n",
    "z_list = list(dict_z.values())\n",
    "z_list_norm = sklearn.preprocessing.minmax_scale(z_list, feature_range=(0, 1), axis=0, copy=True)"
   ]
  },
  {
   "cell_type": "markdown",
   "metadata": {},
   "source": [
    "________"
   ]
  },
  {
   "cell_type": "markdown",
   "metadata": {},
   "source": [
    "### DIMENSIONALITY REDUCTION"
   ]
  },
  {
   "cell_type": "code",
   "execution_count": null,
   "metadata": {},
   "outputs": [],
   "source": [
    "r_scale = 1.2\n",
    "umap2D = embed_umap_2D(DM, n_neighbors, spread, min_dist, metric)\n",
    "posG_complete_umap_norm = get_posG_2D_norm(G, DM, umap2D, r_scale)\n",
    "\n",
    "posG_land_umap = {}\n",
    "cc = 0\n",
    "for k,v in posG_complete_umap_norm.items():\n",
    "    posG_land_umap[k] = (v[0],v[1],z_list_norm[cc])\n",
    "    cc+=1\n",
    "    \n",
    "umapland_nodes = get_trace_nodes_3D(posG_land_umap, l_feat, colours, node_size, opacity_nodes)\n",
    "umapland_edges = get_trace_edges_3D(G, posG_land_umap, edge_colordark, opac=edge_opac, linewidth=edge_width)"
   ]
  },
  {
   "cell_type": "markdown",
   "metadata": {},
   "source": [
    "#### TSNE"
   ]
  },
  {
   "cell_type": "code",
   "execution_count": 51,
   "metadata": {},
   "outputs": [],
   "source": [
    "# Take 2D coordinates from 2D Portrait and add z-parameter\n",
    "# required: compute 2D portrait using TSNE \n",
    "\n",
    "posG_land_tsne = {}\n",
    "cc = 0\n",
    "for k,v in posG_complete_tsne_norm.items():\n",
    "    posG_land_tsne[k] = (v[0],v[1],z_list_norm[cc])\n",
    "    cc+=1"
   ]
  },
  {
   "cell_type": "markdown",
   "metadata": {},
   "source": [
    "#### UMAP"
   ]
  },
  {
   "cell_type": "code",
   "execution_count": null,
   "metadata": {},
   "outputs": [],
   "source": [
    "# Take 2D coordinates from 2D Portrait and add z-parameter\n",
    "# required: compute 2D portrait using UMAP\n",
    "\n",
    "posG_land_umap = {}\n",
    "cc = 0\n",
    "for k,v in posG_complete_umap_norm.items():\n",
    "    posG_land_umap[k] = (v[0],v[1],z_list_norm[cc])\n",
    "    cc+=1"
   ]
  },
  {
   "cell_type": "markdown",
   "metadata": {},
   "source": [
    "-------------------"
   ]
  },
  {
   "cell_type": "markdown",
   "metadata": {},
   "source": [
    "### PLOT "
   ]
  },
  {
   "cell_type": "code",
   "execution_count": null,
   "metadata": {},
   "outputs": [],
   "source": [
    "# Choose a color scheme (e.g. 'light' or 'dark')\n",
    "scheme = 'light' # or 'dark'\n",
    "\n",
    "if dimred == 'tsne':\n",
    "    posGland = posG_land_tsne\n",
    "\n",
    "elif dimred == 'umap':\n",
    "    posGland = posG_land_umap\n",
    "    \n",
    "umap_nodes = get_trace_nodes_3D(posGland, l_features, colours, \n",
    "                                size3d, \n",
    "                                #1.0,\n",
    "                                opacity_nodes)\n",
    "\n",
    "\n",
    "##################################\n",
    "# Un/comment to add Node Glow \n",
    "##################################\n",
    "umap_nodes_glow = get_trace_nodes_3D(posGland, l_features, colours, nodesglow_diameter, nodesglow_transparency) \n",
    "\n",
    "if scheme == 'light':\n",
    "    umap_edges = get_trace_edges_3D(G, posGland, edge_colorlight, opac = 0.05, linewidth=0.5)\n",
    "elif scheme == 'dark':\n",
    "    umap_edges = get_trace_edges_3D(G, posGland, edge_colordark, opac = 0.05, linewidth=0.5)\n",
    "    #umap_specificedges = get_trace_edges_from_nodelist3D(list(d_edge_col_.keys()), posG_land_umap, 'dimgrey', 0.1)\n",
    "\n",
    "umap_data = [umap_edges, #umap_specificedges,\n",
    "             umap_nodes_glow,\n",
    "             umap_nodes]\n",
    "\n",
    "data = umap_data\n",
    "\n",
    "if dimred == 'umap':\n",
    "    fname = 'output_plots/3Dlayouts/TopographicMap_umap_'+feature+'_col-'+color_method+'_'+z_feat+'_neigh-'+str(n_neighbors)+'_spr-'+str(spread)+'_mindist-'+str(min_dist)+'_'+organism\n",
    "\n",
    "elif dimred == 'tsne':\n",
    "    fname = 'output_plots/3Dlayouts/TopographicMap_tsne_'+feature+'_col-'+color_method+'_'+z_feat+'_prplx-'+str(prplxty)+'_dens-'+str(density)+'_learn-'+str(l_rate)+'_'+'stp-'+str(steps)+'_'+organism\n",
    "    \n",
    "    \n",
    "plot_3D(data, fname, scheme)#, annot_light)"
   ]
  },
  {
   "cell_type": "markdown",
   "metadata": {},
   "source": [
    "#### UMAP EXPORT TO CSV FOR VRNETZER INPUT "
   ]
  },
  {
   "cell_type": "code",
   "execution_count": null,
   "metadata": {},
   "outputs": [],
   "source": [
    "export_to_csv3D(path = '_VR_Layouts/',\n",
    "                layout_namespace = layoutcategory+'_'+feature, \n",
    "                posG = posG_land_umap, \n",
    "                colours = colours)"
   ]
  },
  {
   "cell_type": "markdown",
   "metadata": {},
   "source": [
    "____\n",
    "## 3D PORTRAITS\n",
    "____"
   ]
  },
  {
   "cell_type": "code",
   "execution_count": 372,
   "metadata": {},
   "outputs": [],
   "source": [
    "layoutcategory = '3D'"
   ]
  },
  {
   "cell_type": "markdown",
   "metadata": {},
   "source": [
    "### DIMENSIONALITY REDUCTION"
   ]
  },
  {
   "cell_type": "markdown",
   "metadata": {},
   "source": [
    "#### TSNE "
   ]
  },
  {
   "cell_type": "code",
   "execution_count": 371,
   "metadata": {},
   "outputs": [
    {
     "name": "stdout",
     "output_type": "stream",
     "text": [
      "CPU times: user 1min 39s, sys: 2.14 s, total: 1min 41s\n",
      "Wall time: 18.4 s\n"
     ]
    }
   ],
   "source": [
    "%%time \n",
    "\n",
    "# Specifying dim. red. method for file name\n",
    "dimred = 'tsne'\n",
    "\n",
    "prplxty = 8\n",
    "density = 12\n",
    "l_rate = 200\n",
    "steps = 250\n",
    "metric = 'cosine'\n",
    "\n",
    "#r_scale = 1.05\n",
    "tsne_3D = embed_tsne_3D(DM, prplxty, density, l_rate, steps, metric)\n",
    "posG_3D_tsne = get_posG_3D(genes, tsne_3D)\n",
    "posG_3D_complete_tsne_norm = get_posG_3D_norm(G, DM, tsne_3D)#, r_scale)"
   ]
  },
  {
   "cell_type": "markdown",
   "metadata": {},
   "source": [
    "#### UMAP"
   ]
  },
  {
   "cell_type": "code",
   "execution_count": 377,
   "metadata": {},
   "outputs": [
    {
     "name": "stderr",
     "output_type": "stream",
     "text": [
      "/Users/chris/opt/anaconda3/lib/python3.8/site-packages/umap/umap_.py:1331: RuntimeWarning:\n",
      "\n",
      "divide by zero encountered in power\n",
      "\n"
     ]
    },
    {
     "name": "stdout",
     "output_type": "stream",
     "text": [
      "CPU times: user 19.1 s, sys: 1.46 s, total: 20.5 s\n",
      "Wall time: 15.2 s\n"
     ]
    }
   ],
   "source": [
    "%%time \n",
    "\n",
    "# Specifying dim. red. method for file name\n",
    "dimred = 'umap'\n",
    "\n",
    "n_neighbors = 10\n",
    "spread = 10.0\n",
    "min_dist = 0.9\n",
    "metric='cosine'\n",
    "\n",
    "umap_3D = embed_umap_3D(DM, n_neighbors, spread, min_dist, metric)\n",
    "posG_3D_umap = get_posG_3D(genes, umap_3D)\n",
    "posG_3D_complete_umap_norm = get_posG_3D_norm(G, DM, umap_3D)# r_scale)"
   ]
  },
  {
   "cell_type": "markdown",
   "metadata": {},
   "source": [
    "-------------------"
   ]
  },
  {
   "cell_type": "markdown",
   "metadata": {},
   "source": [
    "### PLOT "
   ]
  },
  {
   "cell_type": "code",
   "execution_count": 413,
   "metadata": {},
   "outputs": [],
   "source": [
    "# adding disease annotations \n",
    "\n",
    "annot_light = annotation_disease(list(posG_disease_genes_one.values())[0:2],[disease_one, disease_two], [node_col_one,node_col_two], mode = 'light')"
   ]
  },
  {
   "cell_type": "code",
   "execution_count": null,
   "metadata": {},
   "outputs": [],
   "source": [
    "def get_trace_edges_from_nodelist3D(l_genes, posG, col, opac=0.2):\n",
    "    '''\n",
    "    Get trace of edges for plotting in 3D only for specific edges. \n",
    "    Input: \n",
    "    - G = Graph\n",
    "    - posG = dictionary with nodes as keys and coordinates as values.\n",
    "    - color = string; specific color to highlight specific edges \n",
    "    \n",
    "    Return a trace of specific edges. \n",
    "    '''\n",
    "    l_spec_edges = [(u,v)for u,v in G.edges(l_genes) if u in l_genes and v in l_genes]\n",
    "    #l_spec_edges = [(u,v)for u,v in G.edges(l_genes) if u in l_genes or v in l_genes]\n",
    "    \n",
    "    edge_x = []\n",
    "    edge_y = []\n",
    "    edge_z = []\n",
    "    for edge in l_spec_edges:\n",
    "            x0, y0,z0 = posG[edge[0]]\n",
    "            x1, y1,z1 = posG[edge[1]]\n",
    "            edge_x.append(x0)\n",
    "            edge_x.append(x1)\n",
    "            edge_x.append(None)\n",
    "            edge_y.append(y0)\n",
    "            edge_y.append(y1)\n",
    "            edge_y.append(None)\n",
    "            edge_z.append(z0)\n",
    "            edge_z.append(z1)\n",
    "            edge_z.append(None)\n",
    "            \n",
    "    trace_edges = pgo.Scatter3d(\n",
    "                        x = edge_x, \n",
    "                        y = edge_y, \n",
    "                        z = edge_z,\n",
    "                        mode = 'lines', hoverinfo='none',\n",
    "                        line = dict(width = 1.0, color = [col]*len(edge_x)),\n",
    "                        opacity = opac\n",
    "                )\n",
    "    return trace_edges"
   ]
  },
  {
   "cell_type": "code",
   "execution_count": null,
   "metadata": {},
   "outputs": [],
   "source": []
  },
  {
   "cell_type": "code",
   "execution_count": null,
   "metadata": {},
   "outputs": [],
   "source": []
  },
  {
   "cell_type": "code",
   "execution_count": 416,
   "metadata": {},
   "outputs": [
    {
     "data": {
      "text/plain": [
       "'output_plots/3Dlayouts/3DPortrait_umap_funct-dis_col-dismod_neigh-10_spr-10.0_mindist-0.9_human.html'"
      ]
     },
     "execution_count": 416,
     "metadata": {},
     "output_type": "execute_result"
    }
   ],
   "source": [
    "# Choose a color scheme (e.g. 'light' or 'dark')\n",
    "scheme = 'light'\n",
    "#scheme = 'dark'\n",
    "\n",
    "if dimred == 'tsne':\n",
    "    posG_3D = posG_3D_complete_tsne_norm\n",
    "    \n",
    "elif dimred == 'umap':\n",
    "    posG_3D = posG_3D_complete_umap_norm\n",
    "\n",
    "umap_nodes = get_trace_nodes_3D(posG_3D, l_features, colours, \n",
    "                                1.0, #size3d, #1.0\n",
    "                                opacity_nodes)\n",
    "\n",
    "##################################\n",
    "# Un/comment to add Node Glow \n",
    "##################################\n",
    "umap_nodes_glow = get_trace_nodes_3D(posG_3D, l_features, colours, nodesglow_diameter, nodesglow_transparency) \n",
    "\n",
    "#if scheme == 'light':\n",
    "#    umap_edges = get_trace_edges_3D(G, posG_3D_complete_umap_norm, edge_colorlight, opac = 0.05, linewidth=0.5)\n",
    "#elif scheme == 'dark':\n",
    "#    umap_edges = get_trace_edges_3D(G, posG_3D_complete_umap_norm, edge_color, opac = 0.05, linewidth=0.5)\n",
    "\n",
    "umap_edges_specific_one = get_trace_edges_from_nodelist3D(list(disease_genes_one), posG_3D, node_col_one, opac=0.5)\n",
    "umap_edges_specific_two = get_trace_edges_from_nodelist3D(list(disease_genes_two), posG_3D, node_col_two, opac=0.5)\n",
    "#umap_edges_specific_three = get_trace_edges_from_nodelist3D(list(disease_genes_three), posG_3D, node_col_three, opac=0.05)\n",
    "#umap_edges_specific_four = get_trace_edges_from_nodelist3D(list(disease_genes_four), posG_3D, node_col_four, opac=0.05)\n",
    "\n",
    "umap_data = [umap_edges_specific_one,\n",
    "             umap_edges_specific_two, \n",
    "             #umap_edges_specific_three,\n",
    "             #umap_edges_specific_four,\n",
    "             #umap_edges,\n",
    "             umap_nodes_glow,         \n",
    "             umap_nodes]\n",
    "\n",
    "data = umap_data\n",
    "\n",
    "if dimred == 'umap':\n",
    "    fname = 'output_plots/3Dlayouts/3DPortrait_umap_'+feature+'_col-'+color_method+'_neigh-'+str(n_neighbors)+'_spr-'+str(spread)+'_mindist-'+str(min_dist)+'_'+organism\n",
    "\n",
    "elif dimred == 'tsne':\n",
    "    fname = 'output_plots/3Dlayouts/3DPortrait_tsne_'+feature+'_col-'+color_method+'_prplx-'+str(prplxty)+'_dens-'+str(density)+'_learn-'+str(l_rate)+'_'+'stp-'+str(steps)+'_'+organism\n",
    "    \n",
    "    \n",
    "plot_3D(data, fname, scheme, annot_light)"
   ]
  },
  {
   "cell_type": "markdown",
   "metadata": {},
   "source": [
    "#### UMAP EXPORT TO CSV FOR VRNETZER INPUT "
   ]
  },
  {
   "cell_type": "code",
   "execution_count": 175,
   "metadata": {},
   "outputs": [],
   "source": [
    "posG_3D_complete_umap_norm_num = {}\n",
    "for node_id,coords in posG_3D_complete_umap_norm.items():\n",
    "    posG_3D_complete_umap_norm_num[only_numerics(node_id)]=coords\n",
    "    \n",
    "export_to_csv3D(path='_VR_layouts/',\n",
    "                layout_namespace = layoutcategory+'_'+netlayout, \n",
    "                posG = posG_3D_complete_umap_norm_num, \n",
    "                colours = colours)"
   ]
  },
  {
   "cell_type": "markdown",
   "metadata": {},
   "source": [
    "----\n",
    "## GEODESIC NETWORK MAP \n",
    "----"
   ]
  },
  {
   "cell_type": "code",
   "execution_count": 57,
   "metadata": {},
   "outputs": [],
   "source": [
    "layoutcategory = 'geodesic'"
   ]
  },
  {
   "cell_type": "markdown",
   "metadata": {},
   "source": [
    "### DEFINITION OF RADIUS PARAMETER"
   ]
  },
  {
   "cell_type": "markdown",
   "metadata": {},
   "source": [
    "#### OPT 1 | GENE LIST (for human PPI only)"
   ]
  },
  {
   "cell_type": "code",
   "execution_count": 235,
   "metadata": {},
   "outputs": [
    {
     "name": "stdout",
     "output_type": "stream",
     "text": [
      "Number of Spherical Shells: 4\n"
     ]
    }
   ],
   "source": [
    "#################\n",
    "# EXAMPLE : PATIENT VARIANTS + SEEDS \n",
    "#################\n",
    "\n",
    "# Text identifier for file output name\n",
    "rad_param = 'r-varseeds'\n",
    "\n",
    "# Load Gene Information for Gene lists \n",
    "variants = pd.read_csv('input/julias_variants_mod.txt')\n",
    "variant_list = [str(i) for i in list(variants['variants'])]\n",
    "variant_sym = pd.read_csv('input/julias_variants_sym.txt')\n",
    "genes_sym_list = [str(i) for i in list(variant_sym['variant_sym'])]\n",
    "d_gene_sym_variants = dict(zip(variant_list,genes_sym_list))\n",
    "\n",
    "df_seeds = pd.read_csv('input/seeds_from_genelists.txt')\n",
    "df_seeds.columns = ['seeds']\n",
    "df_seeds_z = pd.read_csv('input/seeds_from_zNumbers.txt', sep='\\n')\n",
    "seeds_list = [str(i) for i in list(df_seeds['seeds'])]\n",
    "\n",
    "d_seeds_idsym = {}\n",
    "for k,v in d_gene_sym.items():\n",
    "    for i in seeds_list:\n",
    "        if v == i:\n",
    "            d_seeds_idsym[k]=i\n",
    "seed_list = list(d_seeds_idsym.keys())\n",
    "\n",
    "FM_BP = pd.read_csv('_output_csv/Features_GO_BiolProc_Dataframe_human.csv', index_col=0)\n",
    "bioproc_list = list(FM_BP.index)\n",
    "\n",
    "# From obtained Gene lists select those to be mapped onto different shells \n",
    "# select genes for shells \n",
    "shell_one = variant_list\n",
    "shell_two = seed_list\n",
    "shell_three = [str(i) for i in bioproc_list]\n",
    "\n",
    "small_rad = 1\n",
    "mid_rad = 5\n",
    "large_rad = 30\n",
    "outershell_rad = 50\n",
    "\n",
    "d_param = {}\n",
    "for i in G.nodes():\n",
    "    if str(i) in variant_list:\n",
    "        d_param[str(i)] = small_rad\n",
    "    elif i in seed_list:\n",
    "        d_param[str(i)] = mid_rad \n",
    "    elif int(i) in bioproc_list:\n",
    "        d_param[str(i)] = large_rad \n",
    "    else:\n",
    "        d_param[str(i)] = outershell_rad\n",
    "\n",
    "genes_rad = variant_list + seed_list + bioproc_list\n",
    "\n",
    "# check how many shells of spheres there will be :\n",
    "print('Number of Spherical Shells:', len(set(d_param.values())))\n",
    "\n",
    "\n",
    "# Specifying coloring based on genes on different shells \n",
    "d_nodecol = d_clos \n",
    "d_colours = color_nodes_from_dict(G, d_nodecol, palette = col_pal)\n",
    "\n",
    "d_colours_spec_genes = {}\n",
    "for k,v in d_colours.items():\n",
    "    if k in shell_one:\n",
    "        d_colours_spec_genes[k]='#8b0000' \n",
    "    elif k in shell_two:\n",
    "        d_colours_spec_genes[k]='#FF4500' \n",
    "    elif k in shell_three:\n",
    "        d_colours_spec_genes[k]=v\n",
    "    else: \n",
    "        d_colours_spec_genes[k]='#d3d3d3'\n",
    "\n",
    "d_colours_spec_genes_sort = {key:d_colours_spec_genes[key] for key in G.nodes()}\n",
    "colours = list(d_colours_spec_genes_sort.values())"
   ]
  },
  {
   "cell_type": "markdown",
   "metadata": {},
   "source": [
    "#### OPT 2 | ESSENTIALITY"
   ]
  },
  {
   "cell_type": "code",
   "execution_count": 56,
   "metadata": {},
   "outputs": [
    {
     "name": "stdout",
     "output_type": "stream",
     "text": [
      "Number of Spherical Shells: 3\n"
     ]
    }
   ],
   "source": [
    "# Text identifier for file output name\n",
    "rad_param = 'r-essent'\n",
    "\n",
    "small_rad = 1\n",
    "mid_rad = 10\n",
    "outershell_rad = 20\n",
    "\n",
    "d_ess_scores = {}\n",
    "for i in G.nodes():\n",
    "    if i in essential_genes:\n",
    "        d_ess_scores[i] = small_rad\n",
    "    elif i in non_ess_genes:\n",
    "        d_ess_scores[i] = mid_rad\n",
    "    elif str(i) in notdefined_genes:\n",
    "        d_ess_scores[i] = outershell_rad\n",
    "        \n",
    "d_param = d_ess_scores\n",
    "genes_rad = list(G.nodes())\n",
    "\n",
    "# check how many shells of spheres there will be :\n",
    "print('Number of Spherical Shells:', len(set(d_param.values())))\n",
    "\n",
    "\n",
    "# Specifying coloring based on genes on different shells \n",
    "d_colours_spec_genes = {}\n",
    "for k in G.nodes():\n",
    "    if k in essential_genes:\n",
    "        d_colours_spec_genes[k]='#0080bf' \n",
    "    elif k in non_ess_genes:\n",
    "        d_colours_spec_genes[k]='#95dcff' \n",
    "    else: \n",
    "        d_colours_spec_genes[k]='#d3d3d3'\n",
    "\n",
    "d_colours_spec_genes_sort = {key:d_colours_spec_genes[key] for key in G.nodes()}\n",
    "colours = list(d_colours_spec_genes_sort.values())"
   ]
  },
  {
   "cell_type": "markdown",
   "metadata": {},
   "source": [
    "______"
   ]
  },
  {
   "cell_type": "markdown",
   "metadata": {},
   "source": [
    "### DIMENSIONALITY REDUCTION "
   ]
  },
  {
   "cell_type": "markdown",
   "metadata": {},
   "source": [
    "#### UMAP"
   ]
  },
  {
   "cell_type": "code",
   "execution_count": 58,
   "metadata": {},
   "outputs": [
    {
     "name": "stdout",
     "output_type": "stream",
     "text": [
      "CPU times: user 1min 24s, sys: 1.47 s, total: 1min 25s\n",
      "Wall time: 16.9 s\n"
     ]
    }
   ],
   "source": [
    "%%time \n",
    "\n",
    "n_neighbors = 50 # balance between local and global structure in the data\n",
    "spread = 1.0\n",
    "min_dist = 0.1 # defines how dense points are stacked together \n",
    "metric='cosine'\n",
    "\n",
    "umap_sphere = embed_umap_sphere(DM, n_neighbors, spread, min_dist, metric)"
   ]
  },
  {
   "cell_type": "code",
   "execution_count": 59,
   "metadata": {},
   "outputs": [
    {
     "name": "stdout",
     "output_type": "stream",
     "text": [
      "CPU times: user 2.31 s, sys: 6.65 ms, total: 2.32 s\n",
      "Wall time: 2.33 s\n"
     ]
    }
   ],
   "source": [
    "%%time \n",
    "\n",
    "radius = 40 \n",
    "\n",
    "posG_sphere = get_posG_sphere(genes, umap_sphere)\n",
    "posG_complete_sphere_norm = get_posG_sphere_norm(G, genes_rad, umap_sphere, d_param, radius)"
   ]
  },
  {
   "cell_type": "markdown",
   "metadata": {},
   "source": [
    "--------------------"
   ]
  },
  {
   "cell_type": "markdown",
   "metadata": {},
   "source": [
    "### PLOT"
   ]
  },
  {
   "cell_type": "code",
   "execution_count": 60,
   "metadata": {},
   "outputs": [
    {
     "data": {
      "text/plain": [
       "'output_plots/3Dlayouts/GeodesicMap_umap_importance_col-clos_neigh-50_spr-1.0_mindist-0.1_yeast.html'"
      ]
     },
     "execution_count": 60,
     "metadata": {},
     "output_type": "execute_result"
    }
   ],
   "source": [
    "# Choose a color scheme (e.g. 'light' or 'dark')\n",
    "scheme = 'light'\n",
    "#scheme = 'dark'\n",
    "\n",
    "umap_nodes = get_trace_nodes_3D(posG_complete_sphere_norm, l_features, colours, \n",
    "                                size3d, #1.0,\n",
    "                                opacity_nodes)\n",
    "\n",
    "##################################\n",
    "# Un/comment to add Node Glow \n",
    "##################################\n",
    "umap_nodes_glow = get_trace_nodes_3D(posG_complete_sphere_norm, l_features, colours, nodesglow_diameter, nodesglow_transparency) \n",
    "\n",
    "if scheme == 'light':\n",
    "    umap_edges = get_trace_edges_3D(G, posG_complete_sphere_norm, edge_colorlight, opac = 0.05, linewidth=0.5)\n",
    "elif scheme == 'dark':\n",
    "    umap_edges = get_trace_edges_3D(G, posG_complete_sphere_norm, edge_colordark, opac = 0.05, linewidth=0.5)\n",
    "\n",
    "    \n",
    "#specific edges:\n",
    "#umap_edges_spec = get_trace_edges_from_nodelist3D(list(d_edge_col_.keys()),posG_complete_sphere_norm, node_col, 0.1)\n",
    "#umap_data_edges_spec = [umap_edges_spec,umap_nodes_transparent, umap_nodes]\n",
    "\n",
    "\n",
    "umap_data = [umap_edges,\n",
    "             #umap_nodes_glow,\n",
    "             umap_nodes]\n",
    "\n",
    "data = umap_data\n",
    "fname = 'output_plots/3Dlayouts/GeodesicMap_umap_'+feature+'_col-'+color_method+'_neigh-'+str(n_neighbors)+'_spr-'+str(spread)+'_mindist-'+str(min_dist)+'_'+organism\n",
    "    \n",
    "plot_3D(data, fname, scheme)#, annot_light)"
   ]
  },
  {
   "cell_type": "markdown",
   "metadata": {},
   "source": [
    "#### UMAP EXPORT TO CSV FOR VRNETZER INPUT "
   ]
  },
  {
   "cell_type": "code",
   "execution_count": 243,
   "metadata": {},
   "outputs": [],
   "source": [
    "posG_complete_sphere_norm_num = {}\n",
    "for node_id,coords in posG_complete_sphere_norm.items():\n",
    "    posG_complete_sphere_norm_num[only_numerics(node_id)]=coords\n",
    "    \n",
    "export_to_csv3D(path='_VR_layouts/',\n",
    "                layout_namespace = layoutcategory+'_'+netlayout, \n",
    "                posG = posG_complete_sphere_norm, \n",
    "                colours = colours)"
   ]
  },
  {
   "cell_type": "code",
   "execution_count": null,
   "metadata": {},
   "outputs": [],
   "source": []
  },
  {
   "cell_type": "code",
   "execution_count": null,
   "metadata": {},
   "outputs": [],
   "source": []
  },
  {
   "cell_type": "code",
   "execution_count": null,
   "metadata": {},
   "outputs": [],
   "source": []
  },
  {
   "cell_type": "code",
   "execution_count": null,
   "metadata": {},
   "outputs": [],
   "source": []
  },
  {
   "cell_type": "code",
   "execution_count": null,
   "metadata": {},
   "outputs": [],
   "source": []
  },
  {
   "cell_type": "code",
   "execution_count": null,
   "metadata": {},
   "outputs": [],
   "source": []
  },
  {
   "cell_type": "markdown",
   "metadata": {},
   "source": [
    "# Work in progress"
   ]
  },
  {
   "cell_type": "code",
   "execution_count": null,
   "metadata": {},
   "outputs": [],
   "source": []
  },
  {
   "cell_type": "code",
   "execution_count": null,
   "metadata": {},
   "outputs": [],
   "source": [
    "def nodecolor_settings(color_method):\n",
    "\n",
    "    if color_method == 'closeness':\n",
    "\n",
    "        # Text identifier for file output name\n",
    "        color_method = 'clos'\n",
    "\n",
    "        # choose a dictionary \n",
    "        d_clos = {}\n",
    "        for k,v in d_centralities.items():\n",
    "        d_clos[k] = v[1]\n",
    "\n",
    "        d_nodecol = d_clos \n",
    "\n",
    "        # choose a color palette \n",
    "        col_pal = 'YlOrRd'\n",
    "\n",
    "        # assigning colors to nodes based on previous settings\n",
    "        d_colours = color_nodes_from_dict(G, d_nodecol, palette = col_pal)\n",
    "        colours = list(d_colours.values())\n",
    "        edge_color = '#d3d3d3'\n",
    "        \n",
    "        \n",
    "    elif color_method == 'hubs':\n",
    " \n",
    "        # Choose color of hubs \n",
    "        node_col = '#008a00' \n",
    "        neigh_col_nodes = '#B9D770' \n",
    "\n",
    "        # Identify hubs (using tresholds) \n",
    "        min_treshold = 1000\n",
    "        max_treshold = 5000\n",
    "        hubs,neighs = get_hubs(G, max_treshold, min_treshold)\n",
    "        colours = list(color_nodes_hubs(G, hubs, neighs, node_col, neigh_col_nodes).values())\n",
    "        print('Selected No. of Hubs: ', len(hubs))\n",
    "\n",
    "        # Get edges from hubs \n",
    "        d_edge_col_ = color_edges_from_nodelist(G, list(hubs.keys()), node_col)\n",
    "        # Get rest edges \n",
    "        rest_col_edges = '#d3d3d3'\n",
    "        d_rest_edges={}\n",
    "        for e in G.edges():\n",
    "            if e not in d_edge_col_.keys():\n",
    "                d_rest_edges[e] = rest_col_edges\n",
    "\n",
    "        d_all_edges = {**d_edge_col_, **d_rest_edges}\n",
    "        d_all_edges_sort = {key:d_all_edges[key] for key in G.edges()}\n",
    "        edge_color = list(d_all_edges_sort.values())\n",
    "    \n",
    "    elif color_method == 'essentiality':\n",
    "    \n",
    "        # Choose colors \n",
    "        node_col = '#00abff' \n",
    "        undefined_col = '#d3d3d3'\n",
    "        rest_col_nodes = '#d3d3d3'\n",
    "        rest_col_edges = '#f5f5f5'\n",
    "\n",
    "        d_col_all_sorted = color_nodes_from_list(G, essential_genes, node_col)\n",
    "        colours = list(d_col_all_sorted.values())\n",
    "\n",
    "        # Choose edges to highlight that link inbetween 2 essential genes only \n",
    "        # or if one essential node is enough to produce a highlighted link \n",
    "        d_edge_col_ = color_edges_from_nodelist_and(G, essential_genes, node_col)\n",
    "\n",
    "        # Rest edges \n",
    "        d_rest_edges={}\n",
    "        for e in G.edges():\n",
    "            if e not in d_edge_col_.keys():\n",
    "                d_rest_edges[e] = rest_col_edges\n",
    "\n",
    "        d_all_edges = {**d_edge_col_, **d_rest_edges}\n",
    "        d_all_edges_sort = {key:d_all_edges[key] for key in G.edges()}\n",
    "        edge_color = list(d_all_edges_sort.values())\n",
    "    \n",
    "    elif color_method == 'nodelist'\n",
    "    \n",
    "    \n",
    "    else: \n",
    "        print('Please choose a valid color method.')\n",
    "    \n",
    "    \n",
    "    \n",
    "    \n",
    "    return colours, edge_color\n",
    "    \n",
    "    \n",
    "    \n"
   ]
  },
  {
   "cell_type": "code",
   "execution_count": null,
   "metadata": {},
   "outputs": [],
   "source": []
  },
  {
   "cell_type": "code",
   "execution_count": null,
   "metadata": {},
   "outputs": [],
   "source": []
  },
  {
   "cell_type": "code",
   "execution_count": null,
   "metadata": {},
   "outputs": [],
   "source": []
  },
  {
   "cell_type": "code",
   "execution_count": null,
   "metadata": {},
   "outputs": [],
   "source": []
  },
  {
   "cell_type": "code",
   "execution_count": null,
   "metadata": {},
   "outputs": [],
   "source": []
  },
  {
   "cell_type": "code",
   "execution_count": null,
   "metadata": {},
   "outputs": [],
   "source": []
  },
  {
   "cell_type": "code",
   "execution_count": null,
   "metadata": {},
   "outputs": [],
   "source": []
  },
  {
   "cell_type": "code",
   "execution_count": null,
   "metadata": {},
   "outputs": [],
   "source": []
  },
  {
   "cell_type": "markdown",
   "metadata": {},
   "source": [
    "# WORK IN PROGRESS "
   ]
  },
  {
   "cell_type": "code",
   "execution_count": null,
   "metadata": {},
   "outputs": [],
   "source": [
    "class NetworkPortrait(self, dimension, embedding_method):\n",
    "    \n",
    "    def __init__(self, dimension, embedding_method):\n",
    "        self.dimension = dimension\n",
    "        self.embedding_method = embedding_method\n",
    "    \n",
    "    def node_positions(embedding_method):\n",
    "        \n",
    "        \n",
    "    \n",
    "        "
   ]
  },
  {
   "cell_type": "code",
   "execution_count": null,
   "metadata": {},
   "outputs": [],
   "source": []
  }
 ],
 "metadata": {
  "kernelspec": {
   "display_name": "myenv",
   "language": "python",
   "name": "myenv"
  },
  "language_info": {
   "codemirror_mode": {
    "name": "ipython",
    "version": 3
   },
   "file_extension": ".py",
   "mimetype": "text/x-python",
   "name": "python",
   "nbconvert_exporter": "python",
   "pygments_lexer": "ipython3",
   "version": "3.8.2"
  }
 },
 "nbformat": 4,
 "nbformat_minor": 4
}
