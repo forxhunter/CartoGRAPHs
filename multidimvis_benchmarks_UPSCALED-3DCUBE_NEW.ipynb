{
 "cells": [
  {
   "cell_type": "markdown",
   "metadata": {},
   "source": [
    "# ===========================\n",
    "# Benchmarking - U P S C A L I N G - 3D CUBE \n",
    "# ==========================="
   ]
  },
  {
   "cell_type": "code",
   "execution_count": 1,
   "metadata": {},
   "outputs": [],
   "source": [
    "from multidimvis_main import *"
   ]
  },
  {
   "cell_type": "code",
   "execution_count": 2,
   "metadata": {},
   "outputs": [],
   "source": [
    "# 3D CUBE \n",
    "organism = 'grid'\n",
    "\n",
    "feature = 'RWRvis'\n",
    "r = .9\n",
    "alpha = 1.0\n",
    "\n",
    "# parameters (post - testing)\n",
    "n_neighbors = 8\n",
    "spread = 1\n",
    "min_dist = 0.0\n",
    "metric = 'cosine'\n",
    "lnr = 1\n",
    "nep = None"
   ]
  },
  {
   "cell_type": "markdown",
   "metadata": {},
   "source": [
    "_________\n",
    "# 3D - Cube Grid\n",
    "_________"
   ]
  },
  {
   "cell_type": "code",
   "execution_count": 3,
   "metadata": {},
   "outputs": [
    {
     "name": "stdout",
     "output_type": "stream",
     "text": [
      "RWR\n",
      "Execution Time: 00:00:14\n",
      "SPRING\n",
      "Execution Time: 00:00:03\n",
      "\n",
      "\n",
      "RWR corr coef:  0.991062872252361\n",
      "SPRING corr coef:  0.9923290831675974\n"
     ]
    }
   ],
   "source": [
    "#########\n",
    "# 1 0 0 \n",
    "#########\n",
    "\n",
    "G = nx.grid_graph([5,5,5],periodic=False)\n",
    "\n",
    "print('RWR')\n",
    "start = time.time()\n",
    "posG_global = globallayout_3D(G,n_neighbors, spread, min_dist, metric)\n",
    "end = time.time()\n",
    "m,s = exec_time(start,end)\n",
    "\n",
    "print('SPRING')\n",
    "start = time.time()\n",
    "posG_spring = springlayout_3D(G,itr=2500)\n",
    "end = time.time()\n",
    "m,s = exec_time(start,end)\n",
    "\n",
    "print('\\n')\n",
    "\n",
    "dist_global = pairwise_layout_distance_3D(G,posG_global)\n",
    "dist_spring = pairwise_layout_distance_3D(G,posG_spring)\n",
    "dist_network = pairwise_network_distance(G)\n",
    "\n",
    "r_global = pearson_corrcoef(dist_network, dist_global)\n",
    "print('RWR corr coef: ',r_global)\n",
    "\n",
    "r_spring = pearson_corrcoef(dist_network, dist_spring)\n",
    "print('SPRING corr coef: ',r_spring)"
   ]
  },
  {
   "cell_type": "code",
   "execution_count": 11,
   "metadata": {},
   "outputs": [
    {
     "name": "stdout",
     "output_type": "stream",
     "text": [
      "RWR\n",
      "Execution Time: 00:00:03\n",
      "prep layout distance\n",
      "prep network distance\n",
      "prep corr. coeff. data\n",
      "calculate corr. coeff.\n",
      "RWR corr coef:  0.9987073419798134\n",
      "\n",
      "\n",
      "SPRING\n",
      "Execution Time: 00:00:03\n",
      "prep layout distance\n",
      "prep network distance\n",
      "prep corr. coeff. data\n",
      "calculate corr. coeff.\n",
      "SPRING corr coef:  0.9946175389177597\n"
     ]
    }
   ],
   "source": [
    "#########\n",
    "# 5 0 0 \n",
    "#########\n",
    "\n",
    "G = nx.grid_graph([8,8,8],periodic=False)\n",
    "\n",
    "print('RWR')\n",
    "start = time.time()\n",
    "posG_global = globallayout_3D(G,n_neighbors, spread, min_dist, metric)\n",
    "end = time.time()\n",
    "m,s = exec_time(start,end)\n",
    "\n",
    "print('SPRING')\n",
    "start = time.time()\n",
    "posG_spring = springlayout_3D(G,itr=60)\n",
    "end = time.time()\n",
    "m,s = exec_time(start,end)\n",
    "\n",
    "print('\\n')\n",
    "\n",
    "dist_global = pairwise_layout_distance_3D(G,posG_global)\n",
    "dist_spring = pairwise_layout_distance_3D(G,posG_spring)\n",
    "dist_network = pairwise_network_distance(G)\n",
    "\n",
    "r_global = pearson_corrcoef(dist_network, dist_global)\n",
    "print('RWR corr coef: ',r_global)\n",
    "\n",
    "r_spring = pearson_corrcoef(dist_network, dist_spring)\n",
    "print('SPRING corr coef: ',r_spring)"
   ]
  },
  {
   "cell_type": "code",
   "execution_count": 15,
   "metadata": {},
   "outputs": [
    {
     "name": "stdout",
     "output_type": "stream",
     "text": [
      "RWR\n",
      "Execution Time: 00:00:13\n",
      "prep layout distance\n",
      "prep network distance\n",
      "prep corr. coeff. data\n",
      "calculate corr. coeff.\n",
      "RWR corr coef:  0.9938767421225443\n",
      "\n",
      "\n",
      "SPRING\n",
      "Execution Time: 00:00:13\n",
      "prep layout distance\n",
      "prep network distance\n",
      "prep corr. coeff. data\n",
      "calculate corr. coeff.\n",
      "SPRING corr coef:  0.9864659797520252\n"
     ]
    }
   ],
   "source": [
    "#########\n",
    "# 1 0 0 0 \n",
    "#########\n",
    "\n",
    "G = nx.grid_graph([10,10,10],periodic=False)\n",
    "\n",
    "print('RWR')\n",
    "start = time.time()\n",
    "posG_global = globallayout_3D(G,n_neighbors, spread, min_dist, metric)\n",
    "end = time.time()\n",
    "m,s = exec_time(start,end)\n",
    "\n",
    "print('SPRING')\n",
    "start = time.time()\n",
    "posG_spring = springlayout_3D(G,itr=125)\n",
    "end = time.time()\n",
    "m,s = exec_time(start,end)\n",
    "\n",
    "print('\\n')\n",
    "\n",
    "dist_global = pairwise_layout_distance_3D(G,posG_global)\n",
    "dist_spring = pairwise_layout_distance_3D(G,posG_spring)\n",
    "dist_network = pairwise_network_distance(G)\n",
    "\n",
    "r_global = pearson_corrcoef(dist_network, dist_global)\n",
    "print('RWR corr coef: ',r_global)\n",
    "\n",
    "r_spring = pearson_corrcoef(dist_network, dist_spring)\n",
    "print('SPRING corr coef: ',r_spring)"
   ]
  },
  {
   "cell_type": "code",
   "execution_count": 5,
   "metadata": {},
   "outputs": [
    {
     "name": "stdout",
     "output_type": "stream",
     "text": [
      "Runtime spring for Corr. Coeff. 0.99\n",
      "Execution Time: 00:00:44\n",
      "prep layout distance\n",
      "prep network distance\n",
      "prep corr. coeff. data\n",
      "calculate corr. coeff.\n",
      "SPRING corr coef:  0.9939791128279677\n"
     ]
    }
   ],
   "source": [
    "G = nx.grid_graph([10,10,10],periodic=False)\n",
    "\n",
    "print('Runtime spring for Corr. Coeff. 0.99')\n",
    "\n",
    "start = time.time()\n",
    "posG_spring = springlayout_3D(G,itr=400)\n",
    "end = time.time()\n",
    "m,s = exec_time(start,end)\n",
    "\n",
    "dist_spring = pairwise_layout_distance_3D(G,posG_spring)\n",
    "dist_network = pairwise_network_distance(G)\n",
    "\n",
    "r_spring = pearson_corrcoef(dist_network, dist_spring)\n",
    "print('SPRING corr coef: ',r_spring)"
   ]
  },
  {
   "cell_type": "code",
   "execution_count": 16,
   "metadata": {},
   "outputs": [
    {
     "name": "stdout",
     "output_type": "stream",
     "text": [
      "RWR\n",
      "Execution Time: 00:00:57\n",
      "prep layout distance\n",
      "prep network distance\n",
      "prep corr. coeff. data\n",
      "calculate corr. coeff.\n",
      "RWR corr coef:  0.994673861934273\n",
      "\n",
      "\n",
      "SPRING\n",
      "Execution Time: 00:00:49\n",
      "prep layout distance\n",
      "prep network distance\n",
      "prep corr. coeff. data\n",
      "calculate corr. coeff.\n",
      "SPRING corr coef:  0.5204283449194765\n"
     ]
    }
   ],
   "source": [
    "#########\n",
    "# 5 0 0 0 \n",
    "#########\n",
    "\n",
    "G = nx.grid_graph([18,18,18],periodic=False)\n",
    "\n",
    "print('RWR')\n",
    "start = time.time()\n",
    "posG_global = globallayout_3D(G,n_neighbors, spread, min_dist, metric)\n",
    "end = time.time()\n",
    "m,s = exec_time(start,end)\n",
    "\n",
    "print('SPRING')\n",
    "start = time.time()\n",
    "posG_spring = springlayout_3D(G,itr=30)\n",
    "end = time.time()\n",
    "m,s = exec_time(start,end)\n",
    "\n",
    "print('\\n')\n",
    "\n",
    "dist_global = pairwise_layout_distance_3D(G,posG_global)\n",
    "dist_spring = pairwise_layout_distance_3D(G,posG_spring)\n",
    "dist_network = pairwise_network_distance(G)\n",
    "\n",
    "r_global = pearson_corrcoef(dist_network, dist_global)\n",
    "print('RWR corr coef: ',r_global)\n",
    "\n",
    "r_spring = pearson_corrcoef(dist_network, dist_spring)\n",
    "print('SPRING corr coef: ',r_spring)"
   ]
  },
  {
   "cell_type": "code",
   "execution_count": 3,
   "metadata": {},
   "outputs": [
    {
     "name": "stdout",
     "output_type": "stream",
     "text": [
      "Runtime spring for Corr. Coeff. 0.99\n",
      "Execution Time: 01:00:00\n",
      "SPRING corr coef:  0.9961185385037217\n"
     ]
    }
   ],
   "source": [
    "G = nx.grid_graph([18,18,18],periodic=False)\n",
    "\n",
    "print('Runtime spring for Corr. Coeff. 0.99')\n",
    "\n",
    "start = time.time()\n",
    "posG_spring = springlayout_3D(G,itr=2000)\n",
    "end = time.time()\n",
    "m,s = exec_time(start,end)\n",
    "\n",
    "dist_spring = pairwise_layout_distance_3D(G,posG_spring)\n",
    "dist_network = pairwise_network_distance(G)\n",
    "\n",
    "r_spring = pearson_corrcoef(dist_network, dist_spring)\n",
    "print('SPRING corr coef: ',r_spring)"
   ]
  },
  {
   "cell_type": "code",
   "execution_count": 24,
   "metadata": {},
   "outputs": [
    {
     "name": "stdout",
     "output_type": "stream",
     "text": [
      "RWR\n",
      "Execution Time: 00:04:30\n",
      "RWR corr coef:  0.9548654230455782\n"
     ]
    }
   ],
   "source": [
    "#########\n",
    "# 1 0 0 0 0 \n",
    "#########\n",
    "\n",
    "G = nx.grid_graph([22,22,22],periodic=False)\n",
    "\n",
    "print('RWR')\n",
    "start = time.time()\n",
    "posG_global = globallayout_3D(G,n_neighbors, spread, min_dist, metric)\n",
    "end = time.time()\n",
    "m,s = exec_time(start,end)\n",
    "\n",
    "print('SPRING')\n",
    "start = time.time()\n",
    "posG_spring = springlayout_3D(G,itr=20)\n",
    "end = time.time()\n",
    "m,s = exec_time(start,end)\n",
    "\n",
    "print('\\n')\n",
    "\n",
    "dist_global = pairwise_layout_distance_3D(G,posG_global)\n",
    "dist_spring = pairwise_layout_distance_3D(G,posG_spring)\n",
    "dist_network = pairwise_network_distance(G)\n",
    "\n",
    "r_global = pearson_corrcoef(dist_network, dist_global)\n",
    "print('RWR corr coef: ',r_global)\n",
    "\n",
    "r_spring = pearson_corrcoef(dist_network, dist_spring)\n",
    "print('SPRING corr coef: ',r_spring)"
   ]
  },
  {
   "cell_type": "code",
   "execution_count": null,
   "metadata": {},
   "outputs": [],
   "source": [
    "G = nx.grid_graph([22,22,22],periodic=False)\n",
    "\n",
    "print('Runtime spring for Corr. Coeff. 0.95')\n",
    "\n",
    "start = time.time()\n",
    "posG_spring = springlayout_3D(G,itr=1000)\n",
    "end = time.time()\n",
    "m,s = exec_time(start,end)\n",
    "\n",
    "dist_spring = pairwise_layout_distance_3D(G,posG_spring)\n",
    "dist_network = pairwise_network_distance(G)\n",
    "print('distances calculated')\n",
    "\n",
    "r_spring = pearson_corrcoef(dist_network, dist_spring)\n",
    "print('SPRING corr coef: ',r_spring)"
   ]
  },
  {
   "cell_type": "code",
   "execution_count": null,
   "metadata": {},
   "outputs": [
    {
     "name": "stdout",
     "output_type": "stream",
     "text": [
      "RWR\n",
      "Execution Time: 00:18:29\n"
     ]
    }
   ],
   "source": [
    "#########\n",
    "# 2 0 0 0 0 \n",
    "#########\n",
    "\n",
    "G = nx.grid_graph([28,28,28],periodic=False)\n",
    "\n",
    "print('RWR')\n",
    "start = time.time()\n",
    "posG_global = globallayout_3D(G,n_neighbors, spread, min_dist, metric)\n",
    "end = time.time()\n",
    "m,s = exec_time(start,end)\n",
    "\n",
    "dist_global = pairwise_layout_distance_3D(G,posG_global)\n",
    "dist_network = pairwise_network_distance(G)\n",
    "\n",
    "r_global = pearson_corrcoef(dist_network, dist_global)\n",
    "print('RWR corr coef: ',r_global)"
   ]
  },
  {
   "cell_type": "code",
   "execution_count": null,
   "metadata": {},
   "outputs": [],
   "source": [
    "G = nx.grid_graph([28,28,28],periodic=False)\n",
    "\n",
    "print('SPRING')\n",
    "start = time.time()\n",
    "posG_spring = springlayout_3D(G,itr=20)\n",
    "end = time.time()\n",
    "m,s = exec_time(start,end)\n",
    "\n",
    "dist_spring = pairwise_layout_distance_3D(G,posG_spring)\n",
    "dist_network = pairwise_network_distance(G)\n",
    "print('distances calculated')\n",
    "\n",
    "r_spring = pearson_corrcoef(dist_network, dist_spring)\n",
    "print('SPRING corr coef: ',r_spring)"
   ]
  },
  {
   "cell_type": "code",
   "execution_count": null,
   "metadata": {},
   "outputs": [],
   "source": [
    "G = nx.grid_graph([28,28,28],periodic=False)\n",
    "\n",
    "print('Runtime spring for Corr. Coeff. 0.95')\n",
    "\n",
    "start = time.time()\n",
    "posG_spring = springlayout_2D(G,itr=1000)\n",
    "end = time.time()\n",
    "m,s = exec_time(start,end)\n",
    "\n",
    "dist_spring = pairwise_layout_distance_3D(G,posG_spring)\n",
    "dist_network = pairwise_network_distance(G)\n",
    "\n",
    "r_spring = pearson_corrcoef(dist_network, dist_spring)\n",
    "print('SPRING corr coef: ',r_spring)"
   ]
  },
  {
   "cell_type": "markdown",
   "metadata": {},
   "source": [
    "## CORR COEF / NETSIZE - saved values for diagram\n",
    "+ for equal running time"
   ]
  },
  {
   "cell_type": "code",
   "execution_count": 67,
   "metadata": {},
   "outputs": [],
   "source": [
    "d_3Dcube_netsize_time = {(5,5,5):1,\n",
    "                           (8,8,8):3,\n",
    "                           (10,10,10):13,\n",
    "                           (18,18,18):57,\n",
    "                           (22,22,22):260,\n",
    "                           (28,28,28):1089 #947\n",
    "                          }\n",
    "\n",
    "# G L O B A L \n",
    "d_3Dcube_netsize_corr_global = {(5,5,5):0.991136860189808,\n",
    "                           (8,8,8):0.9987073419798134,\n",
    "                           (10,10,10):0.9938767421225443,\n",
    "                           (18,18,18):0.9956651448326571,\n",
    "                           (22,22,22):0.9585264524289082,\n",
    "                           (28,28,28):0.9864846154726756\n",
    "                           }\n",
    "\n",
    "# S P R I N G\n",
    "d_3Dcube_netsize_corr_spring = {(5 ,5,5):0.9956010674921448,\n",
    "                           (8,8,8):0.989225957521676,\n",
    "                           (10,10,10):0.9746359723599757,\n",
    "                           (18,18,18):0.8703989094585081,\n",
    "                           (22,22,22):0.7510243876153517,\n",
    "                                \n",
    "                           (28,28,28):\n",
    "                           }"
   ]
  },
  {
   "cell_type": "code",
   "execution_count": 91,
   "metadata": {},
   "outputs": [],
   "source": [
    "# Network size vs. Correlation Factor \n",
    "# with same running time\n",
    "\n",
    "labelsize = 16 \n",
    "\n",
    "x_cube = []\n",
    "for k in d_3Dcube_netsize_time.keys():\n",
    "    x_cube.append(k[0]**3)\n",
    "    \n",
    "x_spring = x_cube\n",
    "y_spring = list(d_3Dcube_netsize_corr_spring.values())\n",
    "x_layout = x_cube\n",
    "y_layout = list(d_3Dcube_netsize_corr_global.values())\n",
    "\n",
    "fig = plt.figure(figsize=(8,8), dpi=300)\n",
    "\n",
    "plt.xlabel(\"Network Size [# Nodes]\", fontsize=labelsize)\n",
    "plt.ylabel(\"Pearson Corr.Coeff.\", fontsize=labelsize)\n",
    "\n",
    "plt.plot(x_spring,y_spring, '--', c = 'cornflowerblue', alpha = 0.8, linewidth=1.0)\n",
    "plt.scatter(x_spring,y_spring, c = 'cornflowerblue', s = 30, alpha = 1.0)\n",
    "plt.plot(x_layout,y_layout, '--', c = 'orange', alpha = 0.8, linewidth=1.0)\n",
    "plt.scatter(x_layout,y_layout, c = 'orange', s = 30, alpha = 1.0)\n",
    "\n",
    "plt.grid(True, c='lightgrey', alpha=0.5)\n",
    "plt.suptitle('3D | Network Size vs. Corr. Factor | '+organism, fontsize=10)\n",
    "plt.ylim(ymin=0, ymax=1.0)\n",
    "\n",
    "fig.savefig('output_plots/benchmark/upscaled_3D_CorrNetsize_'+feature+'_'+organism+'.png')"
   ]
  },
  {
   "cell_type": "markdown",
   "metadata": {},
   "source": [
    "## TIME / NETSIZE - saved values for diagram\n",
    "+ for equal correlation coefficient"
   ]
  },
  {
   "cell_type": "code",
   "execution_count": null,
   "metadata": {},
   "outputs": [],
   "source": [
    "d_3Dcube_netsize_corr = {(5,5,5):0.99,\n",
    "                           (8,8,8):0.99,\n",
    "                           (10,10,10):0.99,\n",
    "                           (18,18,18):0.99,\n",
    "                           (22,22,22):0.95,\n",
    "                           (28,28,28):0.98\n",
    "                           }\n",
    "\n",
    "# G L O B A L \n",
    "d_3Dcube_netsize_time_global = d_3Dcube_netsize_time\n",
    "\n",
    "# S P R I N G \n",
    "d_3Dcube_netsize_time_spring = {(5,5,5):2,\n",
    "                               (8,8,8):3,\n",
    "                               (10,10,10):44,\n",
    "                               (18,18,18):3600,\n",
    "                                \n",
    "                               (22,22,22): ,\n",
    "                               (28,28,28):\n",
    "                               }\n"
   ]
  },
  {
   "cell_type": "code",
   "execution_count": null,
   "metadata": {},
   "outputs": [],
   "source": [
    "# Network size vs. Time \n",
    "# with same Correlation Factor \n",
    "\n",
    "labelsize = 16 \n",
    "\n",
    "x_cube = []\n",
    "for k in d_3Dcube_netsize_corr.keys():\n",
    "    x_cube.append(k[0]**3)\n",
    "    \n",
    "x_spring = x_cube\n",
    "y_spring = list(d_3Dcube_netsize_time_spring.values())\n",
    "x_layout = x_cube\n",
    "y_layout = list(d_3Dcube_netsize_time_global.values())\n",
    "\n",
    "fig = plt.figure(figsize=(8,8), dpi=300)\n",
    "\n",
    "plt.xlabel(\"Network Size [# Nodes]\", fontsize=labelsize)\n",
    "plt.ylabel(\"Wall Time [s]\", fontsize=labelsize)\n",
    "\n",
    "plt.plot(x_spring,y_spring, '--', c = 'cornflowerblue', alpha = 0.8, linewidth=1.0)\n",
    "plt.scatter(x_spring,y_spring, c = 'cornflowerblue', s = 30, alpha = 1.0)\n",
    "plt.plot(x_layout,y_layout, '--', c = 'orange', alpha = 0.8, linewidth=1.0)\n",
    "plt.scatter(x_layout,y_layout, c = 'orange', s = 30, alpha = 1.0)\n",
    "\n",
    "plt.grid(True, c='lightgrey', alpha=0.5)\n",
    "plt.suptitle('3D | Network Size vs. Wall Time | '+organism, fontsize=10)\n",
    "plt.ylim(ymin=0, ymax=1.0)\n",
    "\n",
    "fig.savefig('output_plots/benchmark/upscaled_3D_TimeNetsize_'+feature+'_'+organism+'.png')"
   ]
  },
  {
   "cell_type": "code",
   "execution_count": null,
   "metadata": {},
   "outputs": [],
   "source": []
  },
  {
   "cell_type": "code",
   "execution_count": null,
   "metadata": {},
   "outputs": [],
   "source": []
  },
  {
   "cell_type": "code",
   "execution_count": null,
   "metadata": {},
   "outputs": [],
   "source": []
  }
 ],
 "metadata": {
  "kernelspec": {
   "display_name": "Python [conda env:miniconda3-myenv_clip2]",
   "language": "python",
   "name": "conda-env-miniconda3-myenv_clip2-py"
  },
  "language_info": {
   "codemirror_mode": {
    "name": "ipython",
    "version": 3
   },
   "file_extension": ".py",
   "mimetype": "text/x-python",
   "name": "python",
   "nbconvert_exporter": "python",
   "pygments_lexer": "ipython3",
   "version": "3.6.13"
  }
 },
 "nbformat": 4,
 "nbformat_minor": 4
}
