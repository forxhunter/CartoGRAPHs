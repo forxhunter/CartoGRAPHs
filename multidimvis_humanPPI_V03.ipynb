{
 "cells": [
  {
   "cell_type": "markdown",
   "metadata": {},
   "source": [
    "# HUMAN PPI \n",
    "\n",
    "\n",
    "### PIPELINE OVERVIEW\n",
    "+ graph with genes as nodes and edges\n",
    "+ generate a matrix from nodes based on specific parameters (features, random walk, shortest path..)\n",
    "+ multidimensional matrices > embedding with tsne into 2D or 3D \n",
    "----------\n",
    "+ Visualization typologies:\n",
    "+ 2D PORTRAIT\n",
    "+ 3D PORTRAIT\n",
    "+ 3D LANDSCAPE\n",
    "+ 3D SPHERE\n",
    "----------"
   ]
  },
  {
   "cell_type": "code",
   "execution_count": 1,
   "metadata": {},
   "outputs": [],
   "source": [
    "from multidimvis_main import *"
   ]
  },
  {
   "cell_type": "code",
   "execution_count": 2,
   "metadata": {},
   "outputs": [],
   "source": [
    "organism = 'Human'"
   ]
  },
  {
   "cell_type": "code",
   "execution_count": 3,
   "metadata": {},
   "outputs": [],
   "source": [
    "G = nx.read_edgelist('input/ppi_elist.txt',data=False)\n",
    "# d_ent_sym, d_sym_ent = genent2sym()\n",
    "\n",
    "d_gene_do = pickle.load( open( \"input/d_gene_do.pkl\", \"rb\" ) )\n",
    "d_do_genes = pickle.load( open( \"input/d_do_genes.pkl\", \"rb\" ) )\n",
    "d_do_names = pickle.load( open( \"input/DO_names.pkl\", \"rb\" ) )\n",
    "d_names_do = {y:x for x,y in d_do_names.items()}"
   ]
  },
  {
   "cell_type": "markdown",
   "metadata": {},
   "source": [
    "### PPI - DISEASE SUBGRAPH "
   ]
  },
  {
   "cell_type": "code",
   "execution_count": null,
   "metadata": {},
   "outputs": [],
   "source": [
    "'''# SPECIFY SUB CATEGORY OF DISEASE\n",
    "\n",
    "spec = 'DOID:5093'\n",
    "# DOID:707 B-Cell Lymphoma (71 genes)\n",
    "# DOID:9252 amino acids metabolic disorder (130 genes)\n",
    "# DOID:14320 generalized anxiety disorder (112 genes)\n",
    "\n",
    "\n",
    "spec_nodes = []\n",
    "for k,v in d_do_genes.items():\n",
    "    if spec == k:\n",
    "        spec_nodes = v\n",
    "\n",
    "set_spec_nodes = set(spec_nodes)\n",
    "\n",
    "\n",
    "# SPECIFIED GRAPH \n",
    "G_sub = G_ppi.subgraph(set_spec_nodes)\n",
    "G_sub_lcc = G_sub.subgraph(max(nx.connected_components(G_sub), key=len)) # largest connected component (lcc)\n",
    "print('The lcc of the %s-sub PPI network contains %s genes.' %(disease_category,G_sub_lcc.number_of_nodes()))\n",
    "\n",
    "G = G_sub_lcc\n",
    "\n",
    "# Check which subcategory was chosen:\n",
    "for k,v in sub_categories.items():\n",
    "    if spec == k[1]:\n",
    "        print(k,v)\n",
    "\n",
    "\n",
    "G_sub = G_ppi.subgraph(set_disease_genes)\n",
    "G = G_sub.subgraph(max(nx.connected_components(G_sub), key=len)) # largest connected component (lcc)\n",
    "'''"
   ]
  },
  {
   "cell_type": "markdown",
   "metadata": {},
   "source": [
    "### PPI RANDOM SUBGRAPH"
   ]
  },
  {
   "cell_type": "code",
   "execution_count": null,
   "metadata": {},
   "outputs": [],
   "source": [
    "'''PPI = nx.read_edgelist('input/ppi_elist.txt',data=False)\n",
    "# d_ent_sym, d_sym_ent = genent2sym()\n",
    "\n",
    "# RANDOM SAMPLE \n",
    "\n",
    "N = 1000\n",
    "rand_set = rd.sample(PPI.nodes(), N)\n",
    "\n",
    "PPI_sub = nx.subgraph(PPI, rand_set)\n",
    "G = PPI_sub.subgraph(max(nx.connected_components(PPI_sub), key=len))  # extract lcc graph'''"
   ]
  },
  {
   "cell_type": "markdown",
   "metadata": {},
   "source": [
    "# GRAPH PROPERTIES"
   ]
  },
  {
   "cell_type": "code",
   "execution_count": 4,
   "metadata": {},
   "outputs": [
    {
     "name": "stdout",
     "output_type": "stream",
     "text": [
      "Number of nodes i.e. genes: 16376\n",
      "Number of edges: 309355\n",
      "Network density: 0.2%\n"
     ]
    }
   ],
   "source": [
    "print('Number of nodes i.e. genes: %s' %len(list(G.nodes())))\n",
    "print('Number of edges: %s' %len(list(G.edges())))\n",
    "print('Network density: %.1f%%' %(200.*len(list(G.edges()))/(len(list(G.nodes()))*len(list(G.nodes()))-1)))"
   ]
  },
  {
   "cell_type": "markdown",
   "metadata": {},
   "source": [
    "#### Degree Distribution "
   ]
  },
  {
   "cell_type": "code",
   "execution_count": null,
   "metadata": {},
   "outputs": [],
   "source": [
    "l_k = list(degs.values())\n",
    "set_k = set(l_k)\n",
    "print('Degree min:', min(l_k))\n",
    "print('Degree max:', max(l_k))\n",
    "\n",
    "d_k_f = {}\n",
    "for k in set_k:\n",
    "    d_k_f[k] = l_k.count(k)\n",
    "#print('Degree counts:',d_k_f)\n",
    "\n",
    "mean_deg = np.mean(l_k)\n",
    "var_deg = np.var(l_k)\n",
    "print('Degree Mean:', mean_deg)\n",
    "print('Degree Variant:', var_deg)\n",
    "\n",
    "plt.figure(figsize=(10,10))\n",
    "plt.title('Degree Distribution', fontsize = 20)\n",
    "plt.xlabel('Degree', fontsize = 14)\n",
    "plt.ylabel('P(k)', fontsize = 14)\n",
    "plt.loglog(list(d_k_f.keys()),list(d_k_f.values()),'o',c='#008CA0')\n",
    "plt.show()\n",
    "\n",
    "#plt.savefig('PPIdegreedist.png')"
   ]
  },
  {
   "cell_type": "markdown",
   "metadata": {},
   "source": [
    "# FEATURE COLLECTIONS"
   ]
  },
  {
   "cell_type": "markdown",
   "metadata": {},
   "source": [
    "### + STRUCTURAL : Centrality measures\n",
    "\n",
    "##### based on: https://networkx.github.io/documentation/stable/reference/algorithms/centrality.html\n",
    "+ degree centrality\n",
    "+ closeness centrality\n",
    "+ betweeness centrality\n",
    "+ eigenvector centrality"
   ]
  },
  {
   "cell_type": "code",
   "execution_count": null,
   "metadata": {},
   "outputs": [],
   "source": [
    "'''%%time \n",
    "\n",
    "# DEGREE CENTRALITY - Node degree: important nodes being involved within high number of interactions\n",
    "degs = dict(G.degree())\n",
    "d_deghubs = {}\n",
    "for node, de in sorted(degs.items(),key = lambda x: x[1], reverse = 1):\n",
    "    d_deghubs[node] = round(float(de/max(degs.values())),4)\n",
    "\n",
    "# CLOSENESS CENTRALITY - Measures how closely a node is connected to all other nodes to highlight f.ex. core-periphery structure, or identify central nodes\n",
    "closeness = nx.closeness_centrality(G)\n",
    "d_clos = {}\n",
    "for node, cl in sorted(closeness.items(), key = lambda x: x[1], reverse = 1):\n",
    "    d_clos[node] = round(cl,4)\n",
    "    \n",
    "# BETWEENESS CENTRALITY - How many shortest paths between pairs of other nodes in the network go through one node. High BC indicates \"bottleneck nodes\" in the network\n",
    "betweens = nx.betweenness_centrality(G)\n",
    "d_betw = {}\n",
    "for node, be in sorted(betweens.items(), key = lambda x: x[1], reverse = 1):\n",
    "     d_betw[node] = round(be,4)\n",
    "\n",
    "# EIGENVECTOR CENTRALITY - Compute the eigenvector centrality for the graph\n",
    "eigen = nx.eigenvector_centrality(G)\n",
    "d_eigen = {}\n",
    "for node, eig in sorted(eigen.items(), key = lambda x: x[1], reverse = 1):\n",
    "     d_eigen[node] = round(eig,4)\n",
    "    \n",
    "    \n",
    "d_deghubs_sorted = {key:d_deghubs[key] for key in sorted(d_deghubs.keys())}\n",
    "d_clos_sorted = {key:d_clos[key] for key in sorted(d_clos.keys())}\n",
    "d_betw_sorted = {key:d_betw[key] for key in sorted(d_betw.keys())}\n",
    "d_eigen_sorted = {key:d_eigen[key] for key in sorted(d_eigen.keys())}\n",
    "\n",
    "# feature collection\n",
    "feature_dict = dict(zip(d_deghubs_sorted.keys(), zip(\n",
    "                                                     d_deghubs_sorted.values(), \n",
    "                                                     d_clos_sorted.values(), \n",
    "                                                     d_betw_sorted.values(), \n",
    "                                                     d_eigen_sorted.values(),\n",
    "                                                    )))\n",
    "\n",
    "# IMPORTANT :\n",
    "# sort all feature according to Graph node IDs\n",
    "feature_dict_sorted = {key:feature_dict[key] for key in G.nodes()}\n",
    "feature_df = pd.DataFrame.from_dict(feature_dict_sorted, orient = 'index', columns = ['degs', \n",
    "                                                                                      'clos', \n",
    "                                                                                      'betw', \n",
    "                                                                                      'eigen',\n",
    "                                                                                      ]) \n",
    "\n",
    "\n",
    "l_features = [] \n",
    "for i in feature_dict_sorted.items():\n",
    "    k = list(i)\n",
    "    l_features.append(k)\n",
    "    \n",
    "feature_df.to_csv(r'output_csv/Features_centralities_Dataframe_'+organism+'.csv', index = True)\n",
    "'''"
   ]
  },
  {
   "cell_type": "code",
   "execution_count": 5,
   "metadata": {},
   "outputs": [],
   "source": [
    "# precalculated import\n",
    "\n",
    "df_centralities = pd.read_csv('output_csv/Features_centralities_Dataframe_'+organism+'.csv', index_col=0)\n",
    "\n",
    "\n",
    "# dicts \n",
    "d_deghubs = dict(zip(G.nodes(),df_centralities['degs']))\n",
    "d_clos = dict(zip(G.nodes(), df_centralities['clos']))\n",
    "d_betw = dict(zip(G.nodes(), df_centralities['betw']))\n",
    "d_eigen = dict(zip(G.nodes(), df_centralities['eigen']))\n",
    "\n",
    "# feature list \n",
    "degs = list(df_centralities['degs'])\n",
    "clos = list(df_centralities['clos'])\n",
    "betw = list(df_centralities['betw'])\n",
    "eigen = list(df_centralities['eigen'])\n",
    "\n",
    "d_centralities = dict(zip(list(G.nodes),zip(degs,clos,betw,eigen)))\n",
    "l_features = []\n",
    "for i in d_centralities.items():\n",
    "    k=list(i)\n",
    "    l_features.append(k)"
   ]
  },
  {
   "cell_type": "code",
   "execution_count": 6,
   "metadata": {},
   "outputs": [],
   "source": [
    "DM_centralities = pd.DataFrame(distance.squareform(distance.pdist(df_centralities, 'euclidean')))\n",
    "# DM_centralities.to_csv(r'output_csv/DistanceMatrix_centralities_Dataframe_'+organism+'.csv', index = True)\n",
    "# DM_centralities = pd.read_csv('output_csv/DistanceMatrix_centralities_Dataframe_'+organism+'.csv', index_col=0)"
   ]
  },
  {
   "cell_type": "markdown",
   "metadata": {},
   "source": [
    "### + FUNCTIONAL : Molecular Function"
   ]
  },
  {
   "cell_type": "markdown",
   "metadata": {},
   "source": [
    "+ Molecular Function - Feature Matrix "
   ]
  },
  {
   "cell_type": "code",
   "execution_count": null,
   "metadata": {},
   "outputs": [],
   "source": [
    "'''df_MF_raw = pd.read_csv('input/GO_MF.csv')\n",
    "df_MF_mod = df_MF_raw.drop(['evidence'],axis=1)\n",
    "d_MF_gene_goids = df_MF_mod.groupby('entrezid')['go_id'].apply(list).to_dict()\n",
    "d_MF_goid_genes = df_MF_mod.groupby('go_id')['entrezid'].apply(list).to_dict()\n",
    "\n",
    "genes_MF = list(d_MF_gene_goids.keys())\n",
    "genes_goids_MF = list(d_MF_gene_goids.values())\n",
    "\n",
    "# Get a list with all available Disease Ontology IDs\n",
    "all_goids_MF = list(d_MF_goid_genes.keys())\n",
    "\n",
    "# Get a list of all matches = search for matches of GO ID list and gene list \n",
    "matches_MF = []\n",
    "for i in genes_goids_MF:\n",
    "    gene_i = []\n",
    "    for j in i:\n",
    "        for idx,value in enumerate(all_goids_MF):\n",
    "            if j == value:\n",
    "                gene_i.append(idx)\n",
    "    matches_MF.append(gene_i)\n",
    "    \n",
    "all_match_MF = []\n",
    "for sub in matches_MF:\n",
    "    gene_match = [0] * len(all_goids_MF)\n",
    "    for elem in sub:\n",
    "        for idx,value in enumerate(gene_match):\n",
    "            if elem == idx:\n",
    "                gene_match[idx] = 1\n",
    "    all_match_MF.append(gene_match)   \n",
    "    \n",
    "matrix_MF = np.row_stack(all_match_MF)\n",
    "df_MF = pd.DataFrame(matrix_MF, columns = all_goids_MF, index = genes_MF, dtype = int)\n",
    "df_MF.to_csv(r'output_csv/Features_GO_MolFunc_Dataframe_'+organism+'.csv', index = True)'''"
   ]
  },
  {
   "cell_type": "code",
   "execution_count": null,
   "metadata": {},
   "outputs": [],
   "source": [
    "MF_array = df_MF.to_numpy()\n",
    "DM_MF = pd.DataFrame(distance.squareform(distance.pdist(MF_array, 'euclidean')))\n",
    "DM_MF.to_csv(r'output_csv/DistanceMatrix_goMF_Dataframe_'+organism+'.csv', index = True)"
   ]
  },
  {
   "cell_type": "code",
   "execution_count": null,
   "metadata": {},
   "outputs": [],
   "source": [
    "# import Distance Matrix of Go term : Molecular Functions  \n",
    "\n",
    "DM_MF = pd.read_csv('output_csv/DistanceMatrix_goMF_Dataframe_'+organism+'.csv', index_col=0)"
   ]
  },
  {
   "cell_type": "markdown",
   "metadata": {},
   "source": [
    "### + FUNCTIONAL : Cellular Components"
   ]
  },
  {
   "cell_type": "code",
   "execution_count": null,
   "metadata": {},
   "outputs": [],
   "source": [
    "'''df_CC_raw = pd.read_csv('input/GO_CC.csv')\n",
    "\n",
    "df_CC_mod = df_CC_raw.drop(['evidence'],axis=1)\n",
    "d_CC_gene_goids = df_CC_mod.groupby('entrezid')['go_id'].apply(list).to_dict()\n",
    "d_CC_goid_genes = df_CC_mod.groupby('go_id')['entrezid'].apply(list).to_dict()\n",
    "\n",
    "genes_CC = list(d_CC_gene_goids.keys())\n",
    "genes_goids_CC = list(d_CC_gene_goids.values())\n",
    "\n",
    "# Get a list with all available Disease Ontology IDs\n",
    "all_goids_CC = list(d_CC_goid_genes.keys())\n",
    "\n",
    "# Get a list of all matches = search for matches of GO ID list and gene list \n",
    "matches_CC = []\n",
    "for i in genes_goids_CC:\n",
    "    gene_i = []\n",
    "    for j in i:\n",
    "        for idx,value in enumerate(all_goids_CC):\n",
    "            if j == value:\n",
    "                gene_i.append(idx)\n",
    "    matches_CC.append(gene_i)\n",
    "    \n",
    "all_match_CC = []\n",
    "for sub in matches_CC:\n",
    "    gene_match = [0] * len(all_goids_CC)\n",
    "    for elem in sub:\n",
    "        for idx,value in enumerate(gene_match):\n",
    "            if elem == idx:\n",
    "                gene_match[idx] = 1\n",
    "    all_match_CC.append(gene_match)   \n",
    "    \n",
    "matrix_CC = np.row_stack(all_match_CC)\n",
    "\n",
    "df_CC = pd.DataFrame(matrix_CC, columns = all_goids_CC, index = genes_CC, dtype = int)\n",
    "df_CC.to_csv(r'output_csv/Features_GO_CellComp_Dataframe_'+organism+'.csv', index = True)'''"
   ]
  },
  {
   "cell_type": "code",
   "execution_count": null,
   "metadata": {},
   "outputs": [],
   "source": [
    "CC_array = df_CC.to_numpy()\n",
    "DM_CC = pd.DataFrame(distance.squareform(distance.pdist(CC_array, 'euclidean')))\n",
    "# DM_CC.to_csv(r'output_csv/DistanceMatrix_goCC_Dataframe_'+organism+'.csv', index = True)\n",
    "\n",
    "\n",
    "# import Distance Matrix of Go term : Cellular Components \n",
    "\n",
    "# DM_CC = pd.read_csv('output_csv/DistanceMatrix_goCC_Dataframe_'+organism+'.csv', index_col=0)"
   ]
  },
  {
   "cell_type": "markdown",
   "metadata": {},
   "source": [
    "### + FUNCTIONAL : Biological Processes"
   ]
  },
  {
   "cell_type": "code",
   "execution_count": null,
   "metadata": {},
   "outputs": [],
   "source": [
    "'''df_BP_raw = pd.read_csv('input/GO_BP.csv')\n",
    "\n",
    "df_BP_mod = df_BP_raw.drop(['evidence'],axis=1)\n",
    "d_BP_gene_goids = df_BP_mod.groupby('entrezid')['go_id'].apply(list).to_dict()\n",
    "d_BP_goid_genes = df_BP_mod.groupby('go_id')['entrezid'].apply(list).to_dict()\n",
    "\n",
    "genes_BP = list(d_BP_gene_goids.keys())\n",
    "genes_goids_BP = list(d_BP_gene_goids.values())\n",
    "\n",
    "# Get a list with all available Disease Ontology IDs\n",
    "all_goids_BP = list(d_BP_goid_genes.keys())\n",
    "\n",
    "# Get a list of all matches = search for matches of GO ID list and gene list \n",
    "matches_BP = []\n",
    "for i in genes_goids_BP:\n",
    "    gene_i = []\n",
    "    for j in i:\n",
    "        for idx,value in enumerate(all_goids_BP):\n",
    "            if j == value:\n",
    "                gene_i.append(idx)\n",
    "    matches_BP.append(gene_i)\n",
    "    \n",
    "all_match_BP = []\n",
    "for sub in matches_BP:\n",
    "    gene_match = [0] * len(all_goids_BP)\n",
    "    for elem in sub:\n",
    "        for idx,value in enumerate(gene_match):\n",
    "            if elem == idx:\n",
    "                gene_match[idx] = 1\n",
    "    all_match_BP.append(gene_match)   \n",
    "    \n",
    "matrix_BP = np.row_stack(all_match_BP)\n",
    "df_BP = pd.DataFrame(matrix_BP, columns = all_goids_BP, index = genes_BP, dtype = int)'''"
   ]
  },
  {
   "cell_type": "code",
   "execution_count": null,
   "metadata": {},
   "outputs": [],
   "source": [
    "BP_array = df_BP.to_numpy()\n",
    "DM_BP = pd.DataFrame(distance.squareform(distance.pdist(BP_array, 'euclidean')))\n",
    "DM_BP.to_csv(r'output_csv/DistanceMatrix_goBP_Dataframe_'+organism+'.csv', index = True)\n",
    "\n",
    "# import Distance Matrix of GO term: Biological Processes\n",
    "\n",
    "# DM_BP = pd.read_csv('output_csv/DistanceMatrix_goBP_Dataframe_'+organism+'.csv', index_col=0)"
   ]
  },
  {
   "cell_type": "markdown",
   "metadata": {},
   "source": [
    "### + FUNCTIONAL : Disease Annotation"
   ]
  },
  {
   "cell_type": "code",
   "execution_count": null,
   "metadata": {},
   "outputs": [],
   "source": [
    "'''all_doids = list(d_do_genes.keys())\n",
    "\n",
    "genes_do = list(d_gene_do.keys())\n",
    "genes_doids = d_gene_do.values()\n",
    "\n",
    "# Get a list of all matches = search for matches of Disease ID list and gene list \n",
    "matches_DO = []\n",
    "for i in genes_doids:\n",
    "    gene_i = []\n",
    "    for j in i:\n",
    "        for idx,value in enumerate(all_doids):\n",
    "            if j == value:\n",
    "                gene_i.append(idx)\n",
    "    matches_DO.append(gene_i)\n",
    "    \n",
    "all_match_DO = []\n",
    "for sub in matches_DO:\n",
    "    gene_match = [0] * len(all_doids)\n",
    "    for elem in sub:\n",
    "        for idx,value in enumerate(gene_match):\n",
    "            if elem == idx:\n",
    "                gene_match[idx] = 1\n",
    "    all_match_DO.append(gene_match)   \n",
    "\n",
    "matrix_DIS = np.row_stack(all_match_DO)\n",
    "\n",
    "df_DIS = pd.DataFrame(matrix_DIS, columns = all_doids, index = genes_do, dtype = int)'''"
   ]
  },
  {
   "cell_type": "code",
   "execution_count": 7,
   "metadata": {},
   "outputs": [],
   "source": [
    "df_DIS = pd.read_csv('output_csv/Features_Disease_Dataframe_'+organism+'.csv', index_col=0)\n",
    "DIS_array = df_DIS.to_numpy()\n",
    "DM_disease = pd.DataFrame(distance.squareform(distance.pdist(DIS_array, 'euclidean')))\n",
    "# DM_disease.to_csv(r'output_csv/DistanceMatrix_Disease_Dataframe_'+organism+'.csv', index = True)\n",
    "\n",
    "# import Distance Matrix of Disease Annotations\n",
    "\n",
    "# DM_disease = pd.read_csv('output_csv/DistanceMatrix_Disease_Dataframe_'+organism+'.csv', index_col=0)"
   ]
  },
  {
   "cell_type": "code",
   "execution_count": 8,
   "metadata": {},
   "outputs": [],
   "source": [
    "genes_dis = list(df_DIS.index)"
   ]
  },
  {
   "cell_type": "markdown",
   "metadata": {},
   "source": [
    "### GRAPH MATRICES"
   ]
  },
  {
   "cell_type": "code",
   "execution_count": 13,
   "metadata": {},
   "outputs": [
    {
     "name": "stdout",
     "output_type": "stream",
     "text": [
      "CPU times: user 1.3 s, sys: 393 ms, total: 1.69 s\n",
      "Wall time: 1.69 s\n"
     ]
    }
   ],
   "source": [
    "%%time\n",
    "\n",
    "A = nx.adjacency_matrix(G)\n",
    "DM_adj = A.toarray()"
   ]
  },
  {
   "cell_type": "code",
   "execution_count": null,
   "metadata": {},
   "outputs": [],
   "source": [
    "%%time\n",
    "\n",
    "d_idx_entz = {}\n",
    "cc = 0\n",
    "for entz in sorted(G.nodes()):\n",
    "    d_idx_entz[cc] = entz\n",
    "    cc += 1\n",
    "\n",
    "Mspl = np.zeros(len(list(G.nodes())))\n",
    "\n",
    "for n1 in range(len(list(G.nodes()))):\n",
    "    vec = []\n",
    "    for n2 in range(len(list(G.nodes()))):\n",
    "        geneA = d_idx_entz[n1]\n",
    "        geneB = d_idx_entz[n2]\n",
    "        try:\n",
    "            spl = nx.shortest_path_length(G,geneA,geneB)\n",
    "            vec.append(spl)\n",
    "        except nx.NetworkXNoPath:\n",
    "            print('no path')\n",
    "        \n",
    "    Mspl = np.vstack((Mspl,vec))\n",
    "Mspl = np.delete(Mspl, (0), axis=0)\n",
    "\n",
    "DM_spl = Mspl "
   ]
  },
  {
   "cell_type": "code",
   "execution_count": 14,
   "metadata": {},
   "outputs": [
    {
     "name": "stdout",
     "output_type": "stream",
     "text": [
      "CPU times: user 8min 53s, sys: 15.7 s, total: 9min 8s\n",
      "Wall time: 2min 49s\n"
     ]
    }
   ],
   "source": [
    "%%time\n",
    "\n",
    "# Restart probability\n",
    "r = .8 # originally 0.8\n",
    "\n",
    "alpha = 1.0 # indicating \"randomness\" \n",
    "DM_m = rnd_walk_matrix2(A, r, alpha, len(G.nodes()))\n",
    "\n",
    "DM_m_df = pd.DataFrame(DM_m)\n",
    "# DM_m_df.sum(axis=0)\n",
    "DM_m_transposed = DM_m_df.T\n",
    "DM_m_transposed.index = list(G.nodes())\n",
    " \n",
    "metric = \"correlation\" # \"cosine\" \n",
    "DM_m_new = pd.DataFrame(distance.squareform(distance.pdist(DM_m_transposed, metric)))\n",
    "DM_m = DM_m_new\n",
    "\n",
    "#min_log = lambda t: -np.log(t)\n",
    "#DM_mlog = np.array([min_log(x/max(x)) for x in DM_m])"
   ]
  },
  {
   "cell_type": "code",
   "execution_count": 31,
   "metadata": {},
   "outputs": [
    {
     "data": {
      "text/html": [
       "<div>\n",
       "<style scoped>\n",
       "    .dataframe tbody tr th:only-of-type {\n",
       "        vertical-align: middle;\n",
       "    }\n",
       "\n",
       "    .dataframe tbody tr th {\n",
       "        vertical-align: top;\n",
       "    }\n",
       "\n",
       "    .dataframe thead th {\n",
       "        text-align: right;\n",
       "    }\n",
       "</style>\n",
       "<table border=\"1\" class=\"dataframe\">\n",
       "  <thead>\n",
       "    <tr style=\"text-align: right;\">\n",
       "      <th></th>\n",
       "      <th>0</th>\n",
       "      <th>1</th>\n",
       "      <th>2</th>\n",
       "      <th>3</th>\n",
       "      <th>4</th>\n",
       "      <th>5</th>\n",
       "      <th>6</th>\n",
       "      <th>7</th>\n",
       "      <th>8</th>\n",
       "      <th>9</th>\n",
       "      <th>...</th>\n",
       "      <th>16366</th>\n",
       "      <th>16367</th>\n",
       "      <th>16368</th>\n",
       "      <th>16369</th>\n",
       "      <th>16370</th>\n",
       "      <th>16371</th>\n",
       "      <th>16372</th>\n",
       "      <th>16373</th>\n",
       "      <th>16374</th>\n",
       "      <th>16375</th>\n",
       "    </tr>\n",
       "  </thead>\n",
       "  <tbody>\n",
       "    <tr>\n",
       "      <td>66008</td>\n",
       "      <td>8.008658e-01</td>\n",
       "      <td>4.520070e-03</td>\n",
       "      <td>4.455932e-03</td>\n",
       "      <td>4.456926e-03</td>\n",
       "      <td>4.537024e-03</td>\n",
       "      <td>4.512701e-03</td>\n",
       "      <td>0.004506</td>\n",
       "      <td>4.491262e-03</td>\n",
       "      <td>4.454142e-03</td>\n",
       "      <td>4.454571e-03</td>\n",
       "      <td>...</td>\n",
       "      <td>1.504981e-09</td>\n",
       "      <td>5.508334e-09</td>\n",
       "      <td>6.287790e-09</td>\n",
       "      <td>5.471668e-10</td>\n",
       "      <td>2.775942e-09</td>\n",
       "      <td>6.287790e-09</td>\n",
       "      <td>6.287790e-09</td>\n",
       "      <td>1.908271e-09</td>\n",
       "      <td>1.024123e-08</td>\n",
       "      <td>1.346178e-08</td>\n",
       "    </tr>\n",
       "    <tr>\n",
       "      <td>8473</td>\n",
       "      <td>1.232746e-03</td>\n",
       "      <td>8.008761e-01</td>\n",
       "      <td>6.891988e-06</td>\n",
       "      <td>6.899931e-06</td>\n",
       "      <td>1.223150e-03</td>\n",
       "      <td>3.077520e-05</td>\n",
       "      <td>0.000122</td>\n",
       "      <td>2.179722e-05</td>\n",
       "      <td>8.638112e-06</td>\n",
       "      <td>7.172424e-06</td>\n",
       "      <td>...</td>\n",
       "      <td>2.302025e-09</td>\n",
       "      <td>6.326237e-09</td>\n",
       "      <td>1.736803e-09</td>\n",
       "      <td>8.766784e-10</td>\n",
       "      <td>2.348336e-09</td>\n",
       "      <td>1.736803e-09</td>\n",
       "      <td>1.736803e-09</td>\n",
       "      <td>9.241806e-09</td>\n",
       "      <td>2.198002e-09</td>\n",
       "      <td>3.031738e-08</td>\n",
       "    </tr>\n",
       "    <tr>\n",
       "      <td>2561</td>\n",
       "      <td>2.291622e-02</td>\n",
       "      <td>1.299632e-04</td>\n",
       "      <td>8.013103e-01</td>\n",
       "      <td>1.296763e-04</td>\n",
       "      <td>1.299687e-04</td>\n",
       "      <td>2.358130e-04</td>\n",
       "      <td>0.000142</td>\n",
       "      <td>1.303170e-04</td>\n",
       "      <td>1.275204e-04</td>\n",
       "      <td>1.275638e-04</td>\n",
       "      <td>...</td>\n",
       "      <td>5.986801e-10</td>\n",
       "      <td>4.734484e-10</td>\n",
       "      <td>8.979762e-07</td>\n",
       "      <td>1.762871e-10</td>\n",
       "      <td>6.156596e-10</td>\n",
       "      <td>8.979762e-07</td>\n",
       "      <td>8.979762e-07</td>\n",
       "      <td>2.461029e-09</td>\n",
       "      <td>1.429076e-09</td>\n",
       "      <td>3.435240e-09</td>\n",
       "    </tr>\n",
       "    <tr>\n",
       "      <td>3759</td>\n",
       "      <td>1.146067e-02</td>\n",
       "      <td>6.505649e-05</td>\n",
       "      <td>6.483813e-05</td>\n",
       "      <td>8.013944e-01</td>\n",
       "      <td>6.503713e-05</td>\n",
       "      <td>9.594821e-05</td>\n",
       "      <td>0.000158</td>\n",
       "      <td>6.647058e-05</td>\n",
       "      <td>6.389786e-05</td>\n",
       "      <td>6.393234e-05</td>\n",
       "      <td>...</td>\n",
       "      <td>9.006554e-10</td>\n",
       "      <td>2.954594e-07</td>\n",
       "      <td>1.111945e-09</td>\n",
       "      <td>1.274212e-10</td>\n",
       "      <td>8.306815e-09</td>\n",
       "      <td>1.111945e-09</td>\n",
       "      <td>1.111945e-09</td>\n",
       "      <td>7.633852e-10</td>\n",
       "      <td>1.651495e-09</td>\n",
       "      <td>2.865356e-09</td>\n",
       "    </tr>\n",
       "    <tr>\n",
       "      <td>22906</td>\n",
       "      <td>9.607815e-03</td>\n",
       "      <td>9.497399e-03</td>\n",
       "      <td>5.351651e-05</td>\n",
       "      <td>5.355999e-05</td>\n",
       "      <td>8.004302e-01</td>\n",
       "      <td>9.492829e-03</td>\n",
       "      <td>0.000104</td>\n",
       "      <td>5.708623e-05</td>\n",
       "      <td>5.369236e-05</td>\n",
       "      <td>5.644224e-05</td>\n",
       "      <td>...</td>\n",
       "      <td>1.185778e-09</td>\n",
       "      <td>2.266814e-08</td>\n",
       "      <td>1.491328e-09</td>\n",
       "      <td>2.082298e-10</td>\n",
       "      <td>2.944247e-09</td>\n",
       "      <td>1.491328e-09</td>\n",
       "      <td>1.491328e-09</td>\n",
       "      <td>7.595546e-09</td>\n",
       "      <td>7.574344e-09</td>\n",
       "      <td>1.993389e-08</td>\n",
       "    </tr>\n",
       "    <tr>\n",
       "      <td>...</td>\n",
       "      <td>...</td>\n",
       "      <td>...</td>\n",
       "      <td>...</td>\n",
       "      <td>...</td>\n",
       "      <td>...</td>\n",
       "      <td>...</td>\n",
       "      <td>...</td>\n",
       "      <td>...</td>\n",
       "      <td>...</td>\n",
       "      <td>...</td>\n",
       "      <td>...</td>\n",
       "      <td>...</td>\n",
       "      <td>...</td>\n",
       "      <td>...</td>\n",
       "      <td>...</td>\n",
       "      <td>...</td>\n",
       "      <td>...</td>\n",
       "      <td>...</td>\n",
       "      <td>...</td>\n",
       "      <td>...</td>\n",
       "      <td>...</td>\n",
       "    </tr>\n",
       "    <tr>\n",
       "      <td>143903</td>\n",
       "      <td>2.263604e-07</td>\n",
       "      <td>2.292580e-07</td>\n",
       "      <td>6.285833e-06</td>\n",
       "      <td>1.556723e-08</td>\n",
       "      <td>2.535257e-08</td>\n",
       "      <td>1.003349e-06</td>\n",
       "      <td>0.000032</td>\n",
       "      <td>7.171347e-07</td>\n",
       "      <td>6.942407e-08</td>\n",
       "      <td>7.203535e-08</td>\n",
       "      <td>...</td>\n",
       "      <td>1.947552e-10</td>\n",
       "      <td>4.032026e-10</td>\n",
       "      <td>2.498103e-04</td>\n",
       "      <td>8.580999e-11</td>\n",
       "      <td>1.726974e-09</td>\n",
       "      <td>8.002498e-01</td>\n",
       "      <td>2.498103e-04</td>\n",
       "      <td>1.472123e-08</td>\n",
       "      <td>1.416548e-08</td>\n",
       "      <td>5.030356e-09</td>\n",
       "    </tr>\n",
       "    <tr>\n",
       "      <td>10861</td>\n",
       "      <td>2.263604e-07</td>\n",
       "      <td>2.292580e-07</td>\n",
       "      <td>6.285833e-06</td>\n",
       "      <td>1.556723e-08</td>\n",
       "      <td>2.535257e-08</td>\n",
       "      <td>1.003349e-06</td>\n",
       "      <td>0.000032</td>\n",
       "      <td>7.171347e-07</td>\n",
       "      <td>6.942407e-08</td>\n",
       "      <td>7.203535e-08</td>\n",
       "      <td>...</td>\n",
       "      <td>1.947552e-10</td>\n",
       "      <td>4.032026e-10</td>\n",
       "      <td>2.498103e-04</td>\n",
       "      <td>8.580999e-11</td>\n",
       "      <td>1.726974e-09</td>\n",
       "      <td>2.498103e-04</td>\n",
       "      <td>8.002498e-01</td>\n",
       "      <td>1.472123e-08</td>\n",
       "      <td>1.416548e-08</td>\n",
       "      <td>5.030356e-09</td>\n",
       "    </tr>\n",
       "    <tr>\n",
       "      <td>51471</td>\n",
       "      <td>6.869777e-08</td>\n",
       "      <td>1.219918e-06</td>\n",
       "      <td>1.722720e-08</td>\n",
       "      <td>1.068739e-08</td>\n",
       "      <td>1.291243e-07</td>\n",
       "      <td>1.425650e-06</td>\n",
       "      <td>0.000199</td>\n",
       "      <td>1.306458e-06</td>\n",
       "      <td>5.204928e-08</td>\n",
       "      <td>1.754490e-07</td>\n",
       "      <td>...</td>\n",
       "      <td>3.980639e-09</td>\n",
       "      <td>1.633388e-09</td>\n",
       "      <td>1.472123e-08</td>\n",
       "      <td>1.513449e-10</td>\n",
       "      <td>4.037683e-09</td>\n",
       "      <td>1.472123e-08</td>\n",
       "      <td>1.472123e-08</td>\n",
       "      <td>8.001841e-01</td>\n",
       "      <td>4.076528e-10</td>\n",
       "      <td>2.713402e-09</td>\n",
       "    </tr>\n",
       "    <tr>\n",
       "      <td>221044</td>\n",
       "      <td>3.686844e-07</td>\n",
       "      <td>2.901363e-07</td>\n",
       "      <td>1.000353e-08</td>\n",
       "      <td>2.312094e-08</td>\n",
       "      <td>1.287638e-07</td>\n",
       "      <td>4.822233e-07</td>\n",
       "      <td>0.000021</td>\n",
       "      <td>2.428146e-06</td>\n",
       "      <td>4.180987e-08</td>\n",
       "      <td>9.072940e-07</td>\n",
       "      <td>...</td>\n",
       "      <td>3.545973e-10</td>\n",
       "      <td>2.821125e-10</td>\n",
       "      <td>1.416548e-08</td>\n",
       "      <td>2.620196e-10</td>\n",
       "      <td>3.761740e-09</td>\n",
       "      <td>1.416548e-08</td>\n",
       "      <td>1.416548e-08</td>\n",
       "      <td>4.076528e-10</td>\n",
       "      <td>8.001080e-01</td>\n",
       "      <td>2.159148e-08</td>\n",
       "    </tr>\n",
       "    <tr>\n",
       "      <td>29965</td>\n",
       "      <td>2.423120e-07</td>\n",
       "      <td>2.000947e-06</td>\n",
       "      <td>1.202334e-08</td>\n",
       "      <td>2.005749e-08</td>\n",
       "      <td>1.694380e-07</td>\n",
       "      <td>2.272224e-06</td>\n",
       "      <td>0.000017</td>\n",
       "      <td>1.675700e-04</td>\n",
       "      <td>1.263726e-07</td>\n",
       "      <td>1.212895e-07</td>\n",
       "      <td>...</td>\n",
       "      <td>5.102755e-10</td>\n",
       "      <td>4.086393e-10</td>\n",
       "      <td>2.515178e-09</td>\n",
       "      <td>1.461636e-10</td>\n",
       "      <td>3.229828e-10</td>\n",
       "      <td>2.515178e-09</td>\n",
       "      <td>2.515178e-09</td>\n",
       "      <td>1.356701e-09</td>\n",
       "      <td>1.079574e-08</td>\n",
       "      <td>8.002226e-01</td>\n",
       "    </tr>\n",
       "  </tbody>\n",
       "</table>\n",
       "<p>16376 rows × 16376 columns</p>\n",
       "</div>"
      ],
      "text/plain": [
       "               0             1             2             3             4      \\\n",
       "66008   8.008658e-01  4.520070e-03  4.455932e-03  4.456926e-03  4.537024e-03   \n",
       "8473    1.232746e-03  8.008761e-01  6.891988e-06  6.899931e-06  1.223150e-03   \n",
       "2561    2.291622e-02  1.299632e-04  8.013103e-01  1.296763e-04  1.299687e-04   \n",
       "3759    1.146067e-02  6.505649e-05  6.483813e-05  8.013944e-01  6.503713e-05   \n",
       "22906   9.607815e-03  9.497399e-03  5.351651e-05  5.355999e-05  8.004302e-01   \n",
       "...              ...           ...           ...           ...           ...   \n",
       "143903  2.263604e-07  2.292580e-07  6.285833e-06  1.556723e-08  2.535257e-08   \n",
       "10861   2.263604e-07  2.292580e-07  6.285833e-06  1.556723e-08  2.535257e-08   \n",
       "51471   6.869777e-08  1.219918e-06  1.722720e-08  1.068739e-08  1.291243e-07   \n",
       "221044  3.686844e-07  2.901363e-07  1.000353e-08  2.312094e-08  1.287638e-07   \n",
       "29965   2.423120e-07  2.000947e-06  1.202334e-08  2.005749e-08  1.694380e-07   \n",
       "\n",
       "               5         6             7             8             9      ...  \\\n",
       "66008   4.512701e-03  0.004506  4.491262e-03  4.454142e-03  4.454571e-03  ...   \n",
       "8473    3.077520e-05  0.000122  2.179722e-05  8.638112e-06  7.172424e-06  ...   \n",
       "2561    2.358130e-04  0.000142  1.303170e-04  1.275204e-04  1.275638e-04  ...   \n",
       "3759    9.594821e-05  0.000158  6.647058e-05  6.389786e-05  6.393234e-05  ...   \n",
       "22906   9.492829e-03  0.000104  5.708623e-05  5.369236e-05  5.644224e-05  ...   \n",
       "...              ...       ...           ...           ...           ...  ...   \n",
       "143903  1.003349e-06  0.000032  7.171347e-07  6.942407e-08  7.203535e-08  ...   \n",
       "10861   1.003349e-06  0.000032  7.171347e-07  6.942407e-08  7.203535e-08  ...   \n",
       "51471   1.425650e-06  0.000199  1.306458e-06  5.204928e-08  1.754490e-07  ...   \n",
       "221044  4.822233e-07  0.000021  2.428146e-06  4.180987e-08  9.072940e-07  ...   \n",
       "29965   2.272224e-06  0.000017  1.675700e-04  1.263726e-07  1.212895e-07  ...   \n",
       "\n",
       "               16366         16367         16368         16369         16370  \\\n",
       "66008   1.504981e-09  5.508334e-09  6.287790e-09  5.471668e-10  2.775942e-09   \n",
       "8473    2.302025e-09  6.326237e-09  1.736803e-09  8.766784e-10  2.348336e-09   \n",
       "2561    5.986801e-10  4.734484e-10  8.979762e-07  1.762871e-10  6.156596e-10   \n",
       "3759    9.006554e-10  2.954594e-07  1.111945e-09  1.274212e-10  8.306815e-09   \n",
       "22906   1.185778e-09  2.266814e-08  1.491328e-09  2.082298e-10  2.944247e-09   \n",
       "...              ...           ...           ...           ...           ...   \n",
       "143903  1.947552e-10  4.032026e-10  2.498103e-04  8.580999e-11  1.726974e-09   \n",
       "10861   1.947552e-10  4.032026e-10  2.498103e-04  8.580999e-11  1.726974e-09   \n",
       "51471   3.980639e-09  1.633388e-09  1.472123e-08  1.513449e-10  4.037683e-09   \n",
       "221044  3.545973e-10  2.821125e-10  1.416548e-08  2.620196e-10  3.761740e-09   \n",
       "29965   5.102755e-10  4.086393e-10  2.515178e-09  1.461636e-10  3.229828e-10   \n",
       "\n",
       "               16371         16372         16373         16374         16375  \n",
       "66008   6.287790e-09  6.287790e-09  1.908271e-09  1.024123e-08  1.346178e-08  \n",
       "8473    1.736803e-09  1.736803e-09  9.241806e-09  2.198002e-09  3.031738e-08  \n",
       "2561    8.979762e-07  8.979762e-07  2.461029e-09  1.429076e-09  3.435240e-09  \n",
       "3759    1.111945e-09  1.111945e-09  7.633852e-10  1.651495e-09  2.865356e-09  \n",
       "22906   1.491328e-09  1.491328e-09  7.595546e-09  7.574344e-09  1.993389e-08  \n",
       "...              ...           ...           ...           ...           ...  \n",
       "143903  8.002498e-01  2.498103e-04  1.472123e-08  1.416548e-08  5.030356e-09  \n",
       "10861   2.498103e-04  8.002498e-01  1.472123e-08  1.416548e-08  5.030356e-09  \n",
       "51471   1.472123e-08  1.472123e-08  8.001841e-01  4.076528e-10  2.713402e-09  \n",
       "221044  1.416548e-08  1.416548e-08  4.076528e-10  8.001080e-01  2.159148e-08  \n",
       "29965   2.515178e-09  2.515178e-09  1.356701e-09  1.079574e-08  8.002226e-01  \n",
       "\n",
       "[16376 rows x 16376 columns]"
      ]
     },
     "execution_count": 31,
     "metadata": {},
     "output_type": "execute_result"
    }
   ],
   "source": [
    "DM_m_transposed # treat as feature matrix"
   ]
  },
  {
   "cell_type": "code",
   "execution_count": 32,
   "metadata": {},
   "outputs": [],
   "source": [
    "metric = \"correlation\" # \"cosine\" \n",
    "DM_m_new = pd.DataFrame(distance.squareform(distance.pdist(DM_m_transposed, metric)))"
   ]
  },
  {
   "cell_type": "code",
   "execution_count": 33,
   "metadata": {},
   "outputs": [
    {
     "data": {
      "text/html": [
       "<div>\n",
       "<style scoped>\n",
       "    .dataframe tbody tr th:only-of-type {\n",
       "        vertical-align: middle;\n",
       "    }\n",
       "\n",
       "    .dataframe tbody tr th {\n",
       "        vertical-align: top;\n",
       "    }\n",
       "\n",
       "    .dataframe thead th {\n",
       "        text-align: right;\n",
       "    }\n",
       "</style>\n",
       "<table border=\"1\" class=\"dataframe\">\n",
       "  <thead>\n",
       "    <tr style=\"text-align: right;\">\n",
       "      <th></th>\n",
       "      <th>0</th>\n",
       "      <th>1</th>\n",
       "      <th>2</th>\n",
       "      <th>3</th>\n",
       "      <th>4</th>\n",
       "      <th>5</th>\n",
       "      <th>6</th>\n",
       "      <th>7</th>\n",
       "      <th>8</th>\n",
       "      <th>9</th>\n",
       "      <th>...</th>\n",
       "      <th>16366</th>\n",
       "      <th>16367</th>\n",
       "      <th>16368</th>\n",
       "      <th>16369</th>\n",
       "      <th>16370</th>\n",
       "      <th>16371</th>\n",
       "      <th>16372</th>\n",
       "      <th>16373</th>\n",
       "      <th>16374</th>\n",
       "      <th>16375</th>\n",
       "    </tr>\n",
       "  </thead>\n",
       "  <tbody>\n",
       "    <tr>\n",
       "      <td>0</td>\n",
       "      <td>0.000000</td>\n",
       "      <td>0.992881</td>\n",
       "      <td>0.965984</td>\n",
       "      <td>0.980232</td>\n",
       "      <td>0.982024</td>\n",
       "      <td>0.993420</td>\n",
       "      <td>0.994350</td>\n",
       "      <td>0.993694</td>\n",
       "      <td>0.986777</td>\n",
       "      <td>0.988068</td>\n",
       "      <td>...</td>\n",
       "      <td>1.000092</td>\n",
       "      <td>1.000091</td>\n",
       "      <td>1.000091</td>\n",
       "      <td>1.000092</td>\n",
       "      <td>1.000092</td>\n",
       "      <td>1.000091</td>\n",
       "      <td>1.000091</td>\n",
       "      <td>1.000091</td>\n",
       "      <td>1.000087</td>\n",
       "      <td>1.000090</td>\n",
       "    </tr>\n",
       "    <tr>\n",
       "      <td>1</td>\n",
       "      <td>0.992881</td>\n",
       "      <td>0.000000</td>\n",
       "      <td>0.999878</td>\n",
       "      <td>0.999981</td>\n",
       "      <td>0.986667</td>\n",
       "      <td>1.000007</td>\n",
       "      <td>0.999921</td>\n",
       "      <td>1.000041</td>\n",
       "      <td>0.999988</td>\n",
       "      <td>1.000033</td>\n",
       "      <td>...</td>\n",
       "      <td>1.000091</td>\n",
       "      <td>1.000088</td>\n",
       "      <td>1.000092</td>\n",
       "      <td>1.000092</td>\n",
       "      <td>1.000090</td>\n",
       "      <td>1.000092</td>\n",
       "      <td>1.000092</td>\n",
       "      <td>1.000085</td>\n",
       "      <td>1.000091</td>\n",
       "      <td>1.000085</td>\n",
       "    </tr>\n",
       "    <tr>\n",
       "      <td>2</td>\n",
       "      <td>0.965984</td>\n",
       "      <td>0.999878</td>\n",
       "      <td>0.000000</td>\n",
       "      <td>0.999429</td>\n",
       "      <td>0.999509</td>\n",
       "      <td>0.999728</td>\n",
       "      <td>0.999912</td>\n",
       "      <td>0.999904</td>\n",
       "      <td>0.999670</td>\n",
       "      <td>0.999713</td>\n",
       "      <td>...</td>\n",
       "      <td>1.000093</td>\n",
       "      <td>1.000093</td>\n",
       "      <td>0.999932</td>\n",
       "      <td>1.000093</td>\n",
       "      <td>1.000093</td>\n",
       "      <td>0.999932</td>\n",
       "      <td>0.999932</td>\n",
       "      <td>1.000092</td>\n",
       "      <td>1.000092</td>\n",
       "      <td>1.000093</td>\n",
       "    </tr>\n",
       "    <tr>\n",
       "      <td>3</td>\n",
       "      <td>0.980232</td>\n",
       "      <td>0.999981</td>\n",
       "      <td>0.999429</td>\n",
       "      <td>0.000000</td>\n",
       "      <td>0.999766</td>\n",
       "      <td>0.999934</td>\n",
       "      <td>0.999887</td>\n",
       "      <td>0.999994</td>\n",
       "      <td>0.999858</td>\n",
       "      <td>0.999885</td>\n",
       "      <td>...</td>\n",
       "      <td>1.000093</td>\n",
       "      <td>1.000051</td>\n",
       "      <td>1.000093</td>\n",
       "      <td>1.000093</td>\n",
       "      <td>1.000092</td>\n",
       "      <td>1.000093</td>\n",
       "      <td>1.000093</td>\n",
       "      <td>1.000093</td>\n",
       "      <td>1.000092</td>\n",
       "      <td>1.000093</td>\n",
       "    </tr>\n",
       "    <tr>\n",
       "      <td>4</td>\n",
       "      <td>0.982024</td>\n",
       "      <td>0.986667</td>\n",
       "      <td>0.999509</td>\n",
       "      <td>0.999766</td>\n",
       "      <td>0.000000</td>\n",
       "      <td>0.987178</td>\n",
       "      <td>0.999949</td>\n",
       "      <td>1.000002</td>\n",
       "      <td>0.999880</td>\n",
       "      <td>0.999826</td>\n",
       "      <td>...</td>\n",
       "      <td>1.000092</td>\n",
       "      <td>1.000068</td>\n",
       "      <td>1.000092</td>\n",
       "      <td>1.000093</td>\n",
       "      <td>1.000092</td>\n",
       "      <td>1.000092</td>\n",
       "      <td>1.000092</td>\n",
       "      <td>1.000085</td>\n",
       "      <td>1.000088</td>\n",
       "      <td>1.000087</td>\n",
       "    </tr>\n",
       "    <tr>\n",
       "      <td>...</td>\n",
       "      <td>...</td>\n",
       "      <td>...</td>\n",
       "      <td>...</td>\n",
       "      <td>...</td>\n",
       "      <td>...</td>\n",
       "      <td>...</td>\n",
       "      <td>...</td>\n",
       "      <td>...</td>\n",
       "      <td>...</td>\n",
       "      <td>...</td>\n",
       "      <td>...</td>\n",
       "      <td>...</td>\n",
       "      <td>...</td>\n",
       "      <td>...</td>\n",
       "      <td>...</td>\n",
       "      <td>...</td>\n",
       "      <td>...</td>\n",
       "      <td>...</td>\n",
       "      <td>...</td>\n",
       "      <td>...</td>\n",
       "      <td>...</td>\n",
       "    </tr>\n",
       "    <tr>\n",
       "      <td>16371</td>\n",
       "      <td>1.000091</td>\n",
       "      <td>1.000092</td>\n",
       "      <td>0.999932</td>\n",
       "      <td>1.000093</td>\n",
       "      <td>1.000092</td>\n",
       "      <td>1.000090</td>\n",
       "      <td>1.000050</td>\n",
       "      <td>1.000091</td>\n",
       "      <td>1.000092</td>\n",
       "      <td>1.000092</td>\n",
       "      <td>...</td>\n",
       "      <td>1.000092</td>\n",
       "      <td>1.000091</td>\n",
       "      <td>0.960515</td>\n",
       "      <td>1.000091</td>\n",
       "      <td>1.000091</td>\n",
       "      <td>0.000000</td>\n",
       "      <td>0.960515</td>\n",
       "      <td>1.000086</td>\n",
       "      <td>1.000084</td>\n",
       "      <td>1.000091</td>\n",
       "    </tr>\n",
       "    <tr>\n",
       "      <td>16372</td>\n",
       "      <td>1.000091</td>\n",
       "      <td>1.000092</td>\n",
       "      <td>0.999932</td>\n",
       "      <td>1.000093</td>\n",
       "      <td>1.000092</td>\n",
       "      <td>1.000090</td>\n",
       "      <td>1.000050</td>\n",
       "      <td>1.000091</td>\n",
       "      <td>1.000092</td>\n",
       "      <td>1.000092</td>\n",
       "      <td>...</td>\n",
       "      <td>1.000092</td>\n",
       "      <td>1.000091</td>\n",
       "      <td>0.960515</td>\n",
       "      <td>1.000091</td>\n",
       "      <td>1.000091</td>\n",
       "      <td>0.960515</td>\n",
       "      <td>0.000000</td>\n",
       "      <td>1.000086</td>\n",
       "      <td>1.000084</td>\n",
       "      <td>1.000091</td>\n",
       "    </tr>\n",
       "    <tr>\n",
       "      <td>16373</td>\n",
       "      <td>1.000091</td>\n",
       "      <td>1.000085</td>\n",
       "      <td>1.000092</td>\n",
       "      <td>1.000093</td>\n",
       "      <td>1.000085</td>\n",
       "      <td>1.000085</td>\n",
       "      <td>0.999822</td>\n",
       "      <td>1.000089</td>\n",
       "      <td>1.000092</td>\n",
       "      <td>1.000088</td>\n",
       "      <td>...</td>\n",
       "      <td>1.000089</td>\n",
       "      <td>1.000090</td>\n",
       "      <td>1.000086</td>\n",
       "      <td>1.000091</td>\n",
       "      <td>1.000089</td>\n",
       "      <td>1.000086</td>\n",
       "      <td>1.000086</td>\n",
       "      <td>0.000000</td>\n",
       "      <td>1.000091</td>\n",
       "      <td>1.000091</td>\n",
       "    </tr>\n",
       "    <tr>\n",
       "      <td>16374</td>\n",
       "      <td>1.000087</td>\n",
       "      <td>1.000091</td>\n",
       "      <td>1.000092</td>\n",
       "      <td>1.000092</td>\n",
       "      <td>1.000088</td>\n",
       "      <td>1.000091</td>\n",
       "      <td>1.000062</td>\n",
       "      <td>1.000086</td>\n",
       "      <td>1.000092</td>\n",
       "      <td>1.000078</td>\n",
       "      <td>...</td>\n",
       "      <td>1.000091</td>\n",
       "      <td>1.000091</td>\n",
       "      <td>1.000084</td>\n",
       "      <td>1.000091</td>\n",
       "      <td>1.000090</td>\n",
       "      <td>1.000084</td>\n",
       "      <td>1.000084</td>\n",
       "      <td>1.000091</td>\n",
       "      <td>0.000000</td>\n",
       "      <td>1.000086</td>\n",
       "    </tr>\n",
       "    <tr>\n",
       "      <td>16375</td>\n",
       "      <td>1.000090</td>\n",
       "      <td>1.000085</td>\n",
       "      <td>1.000093</td>\n",
       "      <td>1.000093</td>\n",
       "      <td>1.000087</td>\n",
       "      <td>1.000086</td>\n",
       "      <td>1.000068</td>\n",
       "      <td>0.999803</td>\n",
       "      <td>1.000091</td>\n",
       "      <td>1.000092</td>\n",
       "      <td>...</td>\n",
       "      <td>1.000092</td>\n",
       "      <td>1.000092</td>\n",
       "      <td>1.000091</td>\n",
       "      <td>1.000092</td>\n",
       "      <td>1.000092</td>\n",
       "      <td>1.000091</td>\n",
       "      <td>1.000091</td>\n",
       "      <td>1.000091</td>\n",
       "      <td>1.000086</td>\n",
       "      <td>0.000000</td>\n",
       "    </tr>\n",
       "  </tbody>\n",
       "</table>\n",
       "<p>16376 rows × 16376 columns</p>\n",
       "</div>"
      ],
      "text/plain": [
       "          0         1         2         3         4         5         6      \\\n",
       "0      0.000000  0.992881  0.965984  0.980232  0.982024  0.993420  0.994350   \n",
       "1      0.992881  0.000000  0.999878  0.999981  0.986667  1.000007  0.999921   \n",
       "2      0.965984  0.999878  0.000000  0.999429  0.999509  0.999728  0.999912   \n",
       "3      0.980232  0.999981  0.999429  0.000000  0.999766  0.999934  0.999887   \n",
       "4      0.982024  0.986667  0.999509  0.999766  0.000000  0.987178  0.999949   \n",
       "...         ...       ...       ...       ...       ...       ...       ...   \n",
       "16371  1.000091  1.000092  0.999932  1.000093  1.000092  1.000090  1.000050   \n",
       "16372  1.000091  1.000092  0.999932  1.000093  1.000092  1.000090  1.000050   \n",
       "16373  1.000091  1.000085  1.000092  1.000093  1.000085  1.000085  0.999822   \n",
       "16374  1.000087  1.000091  1.000092  1.000092  1.000088  1.000091  1.000062   \n",
       "16375  1.000090  1.000085  1.000093  1.000093  1.000087  1.000086  1.000068   \n",
       "\n",
       "          7         8         9      ...     16366     16367     16368  \\\n",
       "0      0.993694  0.986777  0.988068  ...  1.000092  1.000091  1.000091   \n",
       "1      1.000041  0.999988  1.000033  ...  1.000091  1.000088  1.000092   \n",
       "2      0.999904  0.999670  0.999713  ...  1.000093  1.000093  0.999932   \n",
       "3      0.999994  0.999858  0.999885  ...  1.000093  1.000051  1.000093   \n",
       "4      1.000002  0.999880  0.999826  ...  1.000092  1.000068  1.000092   \n",
       "...         ...       ...       ...  ...       ...       ...       ...   \n",
       "16371  1.000091  1.000092  1.000092  ...  1.000092  1.000091  0.960515   \n",
       "16372  1.000091  1.000092  1.000092  ...  1.000092  1.000091  0.960515   \n",
       "16373  1.000089  1.000092  1.000088  ...  1.000089  1.000090  1.000086   \n",
       "16374  1.000086  1.000092  1.000078  ...  1.000091  1.000091  1.000084   \n",
       "16375  0.999803  1.000091  1.000092  ...  1.000092  1.000092  1.000091   \n",
       "\n",
       "          16369     16370     16371     16372     16373     16374     16375  \n",
       "0      1.000092  1.000092  1.000091  1.000091  1.000091  1.000087  1.000090  \n",
       "1      1.000092  1.000090  1.000092  1.000092  1.000085  1.000091  1.000085  \n",
       "2      1.000093  1.000093  0.999932  0.999932  1.000092  1.000092  1.000093  \n",
       "3      1.000093  1.000092  1.000093  1.000093  1.000093  1.000092  1.000093  \n",
       "4      1.000093  1.000092  1.000092  1.000092  1.000085  1.000088  1.000087  \n",
       "...         ...       ...       ...       ...       ...       ...       ...  \n",
       "16371  1.000091  1.000091  0.000000  0.960515  1.000086  1.000084  1.000091  \n",
       "16372  1.000091  1.000091  0.960515  0.000000  1.000086  1.000084  1.000091  \n",
       "16373  1.000091  1.000089  1.000086  1.000086  0.000000  1.000091  1.000091  \n",
       "16374  1.000091  1.000090  1.000084  1.000084  1.000091  0.000000  1.000086  \n",
       "16375  1.000092  1.000092  1.000091  1.000091  1.000091  1.000086  0.000000  \n",
       "\n",
       "[16376 rows x 16376 columns]"
      ]
     },
     "execution_count": 33,
     "metadata": {},
     "output_type": "execute_result"
    }
   ],
   "source": [
    "DM_m_new"
   ]
  },
  {
   "cell_type": "code",
   "execution_count": 37,
   "metadata": {},
   "outputs": [],
   "source": [
    "DM_m_new.index = list(G.nodes())"
   ]
  },
  {
   "cell_type": "code",
   "execution_count": 40,
   "metadata": {},
   "outputs": [],
   "source": [
    "DM_m_new.columns = list(G.nodes())"
   ]
  },
  {
   "cell_type": "code",
   "execution_count": 42,
   "metadata": {},
   "outputs": [],
   "source": [
    "# save as csv\n",
    "DM_m_new.to_csv(r'output_csv/RWR_Dataframe_'+organism+'.csv', index = True)"
   ]
  },
  {
   "cell_type": "code",
   "execution_count": 43,
   "metadata": {},
   "outputs": [],
   "source": [
    "DM_m = DM_m_new"
   ]
  },
  {
   "cell_type": "code",
   "execution_count": 46,
   "metadata": {},
   "outputs": [],
   "source": [
    "df_m.to_csv(r'output_csv/RWR_Dataframe_'+organism+'.csv', index = True)"
   ]
  },
  {
   "cell_type": "code",
   "execution_count": null,
   "metadata": {},
   "outputs": [],
   "source": []
  },
  {
   "cell_type": "markdown",
   "metadata": {},
   "source": [
    "#### EXPORT GRAPH MATRICES TO CSV"
   ]
  },
  {
   "cell_type": "code",
   "execution_count": null,
   "metadata": {},
   "outputs": [],
   "source": [
    "organism = 'Human'\n",
    "\n",
    "df_adj = pd.DataFrame(DM_adj, columns = list(G.nodes()), index=list(G.nodes()))\n",
    "df_spl = pd.DataFrame(DM_spl, columns = list(G.nodes()), index=list(G.nodes()))\n",
    "df_m = pd.DataFrame(DM_m, columns = list(G.nodes()), index=list(G.nodes()))\n",
    "\n",
    "# -----------------------------------------------\n",
    "\n",
    "# Without Score\n",
    "df_adj.to_csv(r'output_csv/Adjacency_Dataframe_'+organism+'.csv', index = True)\n",
    "df_spl.to_csv(r'output_csv/SPL_Dataframe_'+organism+'.csv', index = True)\n",
    "df_m.to_csv(r'output_csv/RWR_Dataframe_'+organism+'.csv', index = True)"
   ]
  },
  {
   "cell_type": "markdown",
   "metadata": {},
   "source": [
    "#### IMPORT GRAPH MATRICES (dataframe) FROM CSV"
   ]
  },
  {
   "cell_type": "code",
   "execution_count": null,
   "metadata": {},
   "outputs": [],
   "source": []
  },
  {
   "cell_type": "code",
   "execution_count": null,
   "metadata": {},
   "outputs": [],
   "source": []
  },
  {
   "cell_type": "code",
   "execution_count": null,
   "metadata": {},
   "outputs": [],
   "source": []
  },
  {
   "cell_type": "code",
   "execution_count": null,
   "metadata": {},
   "outputs": [],
   "source": []
  },
  {
   "cell_type": "code",
   "execution_count": null,
   "metadata": {},
   "outputs": [],
   "source": [
    "# potentially necessary --> SPL contains NaN ??? \n",
    "\n",
    "max_value = list(DM_spl.max())[0]\n",
    "DM_spl_mod = DM_spl.fillna(max_value)\n",
    "\n",
    "DM_spl = DM_spl_mod"
   ]
  },
  {
   "cell_type": "markdown",
   "metadata": {},
   "source": [
    "### FEATURES BASED DISTANCE MATRICES "
   ]
  },
  {
   "cell_type": "code",
   "execution_count": null,
   "metadata": {},
   "outputs": [],
   "source": [
    "# -------------------------------------------------\n",
    "# CHOOSE FEATURE MATRIX (input = feature dataframe)\n",
    "# -------------------------------------------------\n",
    "\n",
    "# C E N T R A L I T I E S\n",
    "#feature = 'centralities'\n",
    "#DM_eucl = DM_centralities\n",
    "\n",
    "# D I S E A S E S \n",
    "feature = 'disease'\n",
    "DM_eucl = DM_disease \n",
    "\n",
    "# G O T E R M S (MF; BP; CC)\n",
    "#feature = 'MF'\n",
    "#DM_eucl = DM_MF\n",
    "\n",
    "#feature = 'BP'\n",
    "#DM_eucl = DM_BP\n",
    "\n",
    "#feature = 'CC'\n",
    "#DM_eucl = DM_CC"
   ]
  },
  {
   "cell_type": "code",
   "execution_count": null,
   "metadata": {},
   "outputs": [],
   "source": []
  },
  {
   "cell_type": "code",
   "execution_count": null,
   "metadata": {},
   "outputs": [],
   "source": []
  },
  {
   "cell_type": "code",
   "execution_count": null,
   "metadata": {},
   "outputs": [],
   "source": []
  },
  {
   "cell_type": "code",
   "execution_count": null,
   "metadata": {},
   "outputs": [],
   "source": []
  },
  {
   "cell_type": "code",
   "execution_count": null,
   "metadata": {},
   "outputs": [],
   "source": []
  },
  {
   "cell_type": "markdown",
   "metadata": {},
   "source": [
    "# WIP "
   ]
  },
  {
   "cell_type": "markdown",
   "metadata": {},
   "source": [
    "### CLUSTERING "
   ]
  },
  {
   "cell_type": "markdown",
   "metadata": {},
   "source": [
    "+ CLUSTER COLOURS"
   ]
  },
  {
   "cell_type": "code",
   "execution_count": 34,
   "metadata": {},
   "outputs": [
    {
     "ename": "NameError",
     "evalue": "name 'DM_eucl' is not defined",
     "output_type": "error",
     "traceback": [
      "\u001b[0;31m---------------------------------------------------------------------------\u001b[0m",
      "\u001b[0;31mNameError\u001b[0m                                 Traceback (most recent call last)",
      "\u001b[0;32m<ipython-input-34-ec7e8ed4a544>\u001b[0m in \u001b[0;36m<module>\u001b[0;34m\u001b[0m\n\u001b[0;32m----> 1\u001b[0;31m \u001b[0mdf\u001b[0m \u001b[0;34m=\u001b[0m \u001b[0mDM_eucl\u001b[0m\u001b[0;34m\u001b[0m\u001b[0;34m\u001b[0m\u001b[0m\n\u001b[0m\u001b[1;32m      2\u001b[0m \u001b[0;34m\u001b[0m\u001b[0m\n\u001b[1;32m      3\u001b[0m \u001b[0mnumber_of_clusters\u001b[0m \u001b[0;34m=\u001b[0m \u001b[0;36m100\u001b[0m\u001b[0;34m\u001b[0m\u001b[0;34m\u001b[0m\u001b[0m\n\u001b[1;32m      4\u001b[0m \u001b[0mkmeans\u001b[0m \u001b[0;34m=\u001b[0m \u001b[0mKMeans\u001b[0m\u001b[0;34m(\u001b[0m\u001b[0mn_clusters\u001b[0m \u001b[0;34m=\u001b[0m \u001b[0mnumber_of_clusters\u001b[0m\u001b[0;34m)\u001b[0m\u001b[0;34m\u001b[0m\u001b[0;34m\u001b[0m\u001b[0m\n",
      "\u001b[0;31mNameError\u001b[0m: name 'DM_eucl' is not defined"
     ]
    }
   ],
   "source": [
    "df = DM_eucl\n",
    "\n",
    "number_of_clusters = 100\n",
    "kmeans = KMeans(n_clusters = number_of_clusters)"
   ]
  },
  {
   "cell_type": "code",
   "execution_count": null,
   "metadata": {},
   "outputs": [],
   "source": [
    "kmeans.fit(df)\n",
    "labels = kmeans.predict(df)\n",
    "centroids = kmeans.cluster_centers_"
   ]
  },
  {
   "cell_type": "code",
   "execution_count": null,
   "metadata": {},
   "outputs": [],
   "source": [
    "fig = plt.figure(figsize=(5,5))\n",
    "\n",
    "colors = map(lambda x: colmap[x+1], labels)\n",
    "\n",
    "plt.scatter(df['x'], df['y'], color=colors, alpha=0.5, edgecolor='k')\n",
    "for idx, centroid in enumerate(centroids):\n",
    "    plt.scatter(*centroid, color=colmap[idx+1])\n",
    "plt.xlim(0, 80)\n",
    "plt.ylim(0, 80)\n",
    "plt.show()"
   ]
  },
  {
   "cell_type": "code",
   "execution_count": null,
   "metadata": {},
   "outputs": [],
   "source": []
  },
  {
   "cell_type": "code",
   "execution_count": null,
   "metadata": {},
   "outputs": [],
   "source": []
  },
  {
   "cell_type": "code",
   "execution_count": null,
   "metadata": {},
   "outputs": [],
   "source": []
  },
  {
   "cell_type": "markdown",
   "metadata": {},
   "source": [
    "### DISEASE SELECTION "
   ]
  },
  {
   "cell_type": "code",
   "execution_count": null,
   "metadata": {},
   "outputs": [],
   "source": [
    "def color_disease_outgoingedges_(G, l_majorcolor_nodes, color):\n",
    "\n",
    "    d_col_edges = {}\n",
    "    for e in G.edges():\n",
    "        for node in l_majorcolor_nodes:\n",
    "            if e[0] == node:\n",
    "                d_col_edges[e]=color\n",
    "            elif e[1] == node:\n",
    "                d_col_edges[e]=color\n",
    "           \n",
    "    d_ignored_edges = {}\n",
    "    for node in l_majorcolor_nodes:\n",
    "        for edge in G.edges():\n",
    "            if node not in edge: \n",
    "                d_ignored_edges[edge] = 'black'\n",
    "\n",
    "    d_edges_all = {**d_col_edges, **d_ignored_edges}\n",
    "    d_edges_all_sorted = {edge:d_edges_all[edge] for edge in G.edges()}\n",
    "    edge_color = list(d_edges_all.values())\n",
    "    \n",
    "    return d_edges_all_sorted"
   ]
  },
  {
   "cell_type": "code",
   "execution_count": null,
   "metadata": {},
   "outputs": [],
   "source": [
    "disease = 'asthma'\n",
    "disease_col = 'blue'\n",
    "disease_genes = get_disease_genes(G, d_names_do, d_do_genes, disease)\n",
    "\n",
    "# NODE COLOURS\n",
    "colours = color_diseasecategory(G, d_names_do, d_do_genes, disease, disease_col)\n",
    "\n",
    "# EDGE COLOURS\n",
    "#edge_color = list(color_disease_outgoingedges_(G, disease_genes, disease_col).values())"
   ]
  },
  {
   "cell_type": "code",
   "execution_count": null,
   "metadata": {},
   "outputs": [],
   "source": []
  },
  {
   "cell_type": "code",
   "execution_count": null,
   "metadata": {},
   "outputs": [],
   "source": []
  },
  {
   "cell_type": "code",
   "execution_count": null,
   "metadata": {},
   "outputs": [],
   "source": []
  },
  {
   "cell_type": "code",
   "execution_count": null,
   "metadata": {},
   "outputs": [],
   "source": []
  },
  {
   "cell_type": "markdown",
   "metadata": {},
   "source": [
    "____________\n",
    "# VISUALIZATION SETTINGS"
   ]
  },
  {
   "cell_type": "markdown",
   "metadata": {},
   "source": [
    "### NODE SIZE"
   ]
  },
  {
   "cell_type": "code",
   "execution_count": null,
   "metadata": {},
   "outputs": [],
   "source": [
    "# input d_node_size should be of same order as G.nodes()\n",
    "\n",
    "def draw_node_size(G, d_node_size, scalef):\n",
    "    \n",
    "    # sort according to Graph \n",
    "    d_node_size_sorted = {key:d_node_size[key] for key in G.nodes()}    \n",
    "    \n",
    "    l_size = []\n",
    "    for nd,val in d_node_size_sorted.items():\n",
    "        R = scalef * (1 + val**1.1)      \n",
    "        l_size.append(R)\n",
    "        \n",
    "    return l_size"
   ]
  },
  {
   "cell_type": "code",
   "execution_count": null,
   "metadata": {},
   "outputs": [],
   "source": [
    "def draw_node_size3D(G, d_node_size, scalef):\n",
    "    x = 20\n",
    "    ring_frac = (x-1.)/x\n",
    "\n",
    "    d_node_size_sorted = {key:d_node_size[key] for key in G.nodes()}\n",
    "    l_size = []\n",
    "    for node,val in d_node_size_sorted.items():\n",
    "        R = scalef * (1+val**1.5)\n",
    "        r = ring_frac * R\n",
    "        l_size.append(r)\n",
    "        \n",
    "    l_size_n = []\n",
    "    for i in l_size:\n",
    "        j = np.sqrt(np.sqrt(i/max(l_size)))\n",
    "        l_size_n.append(j*scalef)\n",
    "        \n",
    "    return l_size_n"
   ]
  },
  {
   "cell_type": "code",
   "execution_count": null,
   "metadata": {},
   "outputs": [],
   "source": [
    "# Node size e.g. DEGREE\n",
    "\n",
    "node_factor = 2\n",
    "size = draw_node_size(G, d_deghubs, node_factor) # node size based on degree\n",
    "\n",
    "edge_color = 'grey'\n",
    "edge_width = 0.1\n",
    "\n",
    "opacity_nodes = 1\n",
    "opacity_edges = 0.3\n",
    "node_edge_col = 'dimgrey'"
   ]
  },
  {
   "cell_type": "markdown",
   "metadata": {},
   "source": [
    "### NODE COLOURS"
   ]
  },
  {
   "cell_type": "markdown",
   "metadata": {},
   "source": [
    "+ DISEASE COLOURED"
   ]
  },
  {
   "cell_type": "code",
   "execution_count": 32,
   "metadata": {},
   "outputs": [],
   "source": [
    "def color_diseasecategory(G, disease_category, colour):\n",
    "    \n",
    "    # get all genes from disease category\n",
    "    l_disease_genes = []\n",
    "    for d_name in d_names_do.keys():\n",
    "        if d_name.find(disease_category) != -1:\n",
    "            try:\n",
    "                l_genes = d_do_genes[d_names_do[d_name]]\n",
    "                for gene in l_genes:\n",
    "                    l_disease_genes.append(gene)\n",
    "            except:\n",
    "                    pass\n",
    "                \n",
    "    set_disease_genes = set(l_disease_genes)\n",
    "    \n",
    "    # assign colours to disease cat.(colour1) and other nodes(grey)\n",
    "    d_col = {}\n",
    "    for node in set_disease_genes:\n",
    "        d_col[node] = colour\n",
    "    \n",
    "    d_rest = {}\n",
    "    for i in G.nodes():\n",
    "        if i not in d_col.keys():\n",
    "            d_rest[i] = 'dimgrey'\n",
    "        \n",
    "    d_allnodes_col = {**d_col, **d_rest}\n",
    "    d_allnodes_col_sorted = {key:d_allnodes_col[key] for key in G.nodes()}\n",
    "    \n",
    "    colours = list(d_allnodes_col_sorted.values())\n",
    "    return colours"
   ]
  },
  {
   "cell_type": "code",
   "execution_count": 33,
   "metadata": {},
   "outputs": [],
   "source": [
    "colours = color_diseasecategory(G, 'cancer', 'red')"
   ]
  },
  {
   "cell_type": "markdown",
   "metadata": {},
   "source": [
    "+ CLOSENESS CENTRALITY COLOR "
   ]
  },
  {
   "cell_type": "code",
   "execution_count": null,
   "metadata": {},
   "outputs": [],
   "source": [
    "# Define colour parameter\n",
    "d_to_be_coloured = d_clos # dict sorted by dict.values (that way the biggest value matches darkest colour of palette)\n",
    "\n",
    "\n",
    "# Colouring\n",
    "colour_groups = set(d_to_be_coloured.values())\n",
    "colour_count = len(colour_groups)\n",
    "palette = sns.color_palette('Reds', colour_count)\n",
    "\n",
    "d_colourgroups = {}\n",
    "for n in colour_groups:\n",
    "    d_colourgroups[n] = [k for k in d_to_be_coloured.keys() if d_to_be_coloured[k] == n]\n",
    "    \n",
    "d_colourgroups_sorted = {key:d_colourgroups[key] for key in sorted(d_colourgroups.keys())}\n",
    "\n",
    "d_val_col = {}\n",
    "for idx,val in enumerate(d_colourgroups_sorted):\n",
    "    for ix,v in enumerate(palette):\n",
    "        if idx == ix:\n",
    "            d_val_col[val] = v\n",
    "d_node_colour = {}\n",
    "for y in d_to_be_coloured.items(): # y[0] = node id, y[1] = val\n",
    "    for x in d_val_col.items(): # x[0] = val, x[1] = (col,col,col)\n",
    "        if x[0] == y[1]:\n",
    "            d_node_colour[y[0]]=x[1]\n",
    "            \n",
    "# SORT dict based on G.nodes\n",
    "d_node_colour_sorted = dict([(key, d_node_colour[key]) for key in G.nodes()])\n",
    "\n",
    "l_col_clos = list(d_node_colour_sorted.values())\n",
    "\n",
    "colours = l_col_clos "
   ]
  },
  {
   "cell_type": "markdown",
   "metadata": {},
   "source": [
    "# 2D PORTRAITS"
   ]
  },
  {
   "cell_type": "markdown",
   "metadata": {},
   "source": [
    "#### 2D SPRING"
   ]
  },
  {
   "cell_type": "code",
   "execution_count": null,
   "metadata": {},
   "outputs": [],
   "source": [
    "%%time\n",
    "\n",
    "posG_spring = nx.spring_layout(G)\n",
    "\n",
    "plt.figure(figsize=(18,18))\n",
    "plt.title('Organic spring', size=16)\n",
    "plt.box(False)\n",
    "nx.draw_networkx_nodes(G, posG_spring,\n",
    "                       edgecolors = node_edge_col, \n",
    "                       linewidths = 0.5, \n",
    "                       node_color='lightgrey', node_size=1)\n",
    "nx.draw_networkx_edges(G, pos = posG_spring, width = edge_width, edge_color = 'lightgrey', alpha = opacity_edges)\n",
    "print('Network: ', organism)\n",
    "print('Number of Nodes:', len(G.nodes()))\n",
    "\n",
    "plt.savefig('output_plots/Organic_spring_layout2D_'+organism+'.png')\n",
    "plt.show()"
   ]
  },
  {
   "cell_type": "markdown",
   "metadata": {},
   "source": [
    "### tSNE EMBEDDING 2D"
   ]
  },
  {
   "cell_type": "code",
   "execution_count": null,
   "metadata": {},
   "outputs": [],
   "source": [
    "prplxty = 50 # range: 5-50 / default = 30\n",
    "density = 1.2 # default 12.\n",
    "l_rate = 200 # default 200.\n",
    "steps = 250 # min 250\n",
    "metric = 'euclidean'"
   ]
  },
  {
   "cell_type": "code",
   "execution_count": null,
   "metadata": {},
   "outputs": [],
   "source": []
  },
  {
   "cell_type": "code",
   "execution_count": null,
   "metadata": {},
   "outputs": [],
   "source": []
  },
  {
   "cell_type": "code",
   "execution_count": null,
   "metadata": {},
   "outputs": [],
   "source": []
  },
  {
   "cell_type": "code",
   "execution_count": null,
   "metadata": {},
   "outputs": [],
   "source": [
    "# TO DO : check if get_posG function still works (G, replaced with list(G.nodes()))"
   ]
  },
  {
   "cell_type": "code",
   "execution_count": null,
   "metadata": {},
   "outputs": [],
   "source": [
    "%%time\n",
    "tsne_adj = embed_tsne_2D(DM_adj, prplxty, density, l_rate, steps, metric)\n",
    "posG_tsne_adj = get_posG(list(G.nodes()),tsne_adj)"
   ]
  },
  {
   "cell_type": "code",
   "execution_count": null,
   "metadata": {},
   "outputs": [],
   "source": [
    "%%time\n",
    "tsne_spl = embed_tsne_2D(DM_spl, prplxty, density, l_rate, steps, metric)\n",
    "posG_tsne_spl = get_posG(list(G.nodes()),tsne_spl)"
   ]
  },
  {
   "cell_type": "code",
   "execution_count": null,
   "metadata": {},
   "outputs": [],
   "source": [
    "%%time\n",
    "tsne_m = embed_tsne_2D(DM_m.T, prplxty, density, l_rate, steps, metric)\n",
    "posG_tsne_m = get_posG(list(G.nodes()),tsne_m)"
   ]
  },
  {
   "cell_type": "code",
   "execution_count": null,
   "metadata": {},
   "outputs": [],
   "source": [
    "%%time\n",
    "tsne_eucl = embed_tsne_2D(DM_eucl, prplxty, density, l_rate, steps, metric)"
   ]
  },
  {
   "cell_type": "code",
   "execution_count": null,
   "metadata": {},
   "outputs": [],
   "source": [
    "def get_posG_2D(l_nodes, embed):\n",
    "    posG = {}\n",
    "    cc = 0\n",
    "    for entz in l_nodes:\n",
    "        posG[str(entz)] = (embed[cc,0],embed[cc,1])\n",
    "        cc += 1\n",
    "\n",
    "    return posG"
   ]
  },
  {
   "cell_type": "code",
   "execution_count": null,
   "metadata": {},
   "outputs": [],
   "source": [
    "posG_disease = get_posG_2D(genes_dis, tsne_eucl)"
   ]
  },
  {
   "cell_type": "code",
   "execution_count": null,
   "metadata": {},
   "outputs": [],
   "source": []
  },
  {
   "cell_type": "code",
   "execution_count": null,
   "metadata": {},
   "outputs": [],
   "source": []
  },
  {
   "cell_type": "markdown",
   "metadata": {},
   "source": [
    "# WIP - how to plot rest nodes "
   ]
  },
  {
   "cell_type": "code",
   "execution_count": null,
   "metadata": {},
   "outputs": [],
   "source": [
    "# might be replaced by mapping rest nodes to some geometry \n",
    "\n",
    "coords_disease = list(posG_disease.values())\n",
    "\n",
    "x_max = max(coords_disease)[0]\n",
    "x_min = min(coords_disease)[0]\n",
    "y_max = max(coords_disease)[1]\n",
    "y_min = min(coords_disease)[1]\n",
    "\n",
    "rand_coords = [(np.random.uniform(x_min,x_max), np.random.uniform(y_min,y_max)) for i in range(len(genes_rest))]"
   ]
  },
  {
   "cell_type": "code",
   "execution_count": null,
   "metadata": {},
   "outputs": [],
   "source": [
    "import numpy.linalg as la\n",
    "\n",
    "t = np.linspace(0,2*np.pi,len(genes_rest))\n",
    "xc = 1*np.random.rand() #x-coordinate of center of circle \n",
    "yc = 1*np.random.rand() #y-coordinate of center of circle\n",
    "r = 6*np.random.rand() + 0.5 #radius of circle\n",
    "\n",
    "x = r*np.cos(t) + np.random.normal(scale = 1.0/7, size = len(t)) + xc  \n",
    "y = r*np.sin(t) + np.random.normal(scale = 1.0/7, size = len(t)) + yc"
   ]
  },
  {
   "cell_type": "code",
   "execution_count": null,
   "metadata": {},
   "outputs": [],
   "source": [
    "genes_rest = []\n",
    "for g in G.nodes():\n",
    "    if int(g) not in posG_disease.keys():\n",
    "        genes_rest.append(str(g))\n",
    "        \n",
    "posG_rest = {}\n",
    "for g in genes_rest:\n",
    "    for c in rand_coords:\n",
    "        posG_rest[str(g)] = c\n",
    "\n",
    "posG_all = {**posG_disease, **posG_rest}\n",
    "posG_tsne_eucl = {key:posG_all[key] for key in G.nodes()}"
   ]
  },
  {
   "cell_type": "code",
   "execution_count": null,
   "metadata": {},
   "outputs": [],
   "source": []
  },
  {
   "cell_type": "code",
   "execution_count": null,
   "metadata": {},
   "outputs": [],
   "source": []
  },
  {
   "cell_type": "code",
   "execution_count": null,
   "metadata": {},
   "outputs": [],
   "source": []
  },
  {
   "cell_type": "markdown",
   "metadata": {},
   "source": [
    "### 2D tSNE PORTRAITS"
   ]
  },
  {
   "cell_type": "code",
   "execution_count": null,
   "metadata": {},
   "outputs": [],
   "source": [
    "plt.figure(figsize=(25,25))\n",
    "plt.title('Adj | t-SNE | Metric: '+ metric, size= 16)\n",
    "\n",
    "nx.draw_networkx_nodes(G, posG_tsne_adj, edgecolors = node_edge_col, linewidths = 0.5, node_color=colours, node_size=size, alpha = opacity_nodes)\n",
    "nx.draw_networkx_edges(G, pos = posG_tsne_adj, width = edge_width, edge_color = edge_color, alpha = opacity_edges)\n",
    "#nx.draw_networkx_labels(G, pos = posG_adj, font_size = fontsize_labels, font_color = 'black')\n",
    "plt.box(False)\n",
    "\n",
    "plt.savefig('output_plots/2Dtsne_adj_'+metric+'_'+organism+'.png')\n",
    "\n",
    "plt.show()"
   ]
  },
  {
   "cell_type": "code",
   "execution_count": null,
   "metadata": {},
   "outputs": [],
   "source": [
    "plt.figure(figsize=(25,25))\n",
    "plt.title('SPL | t-SNE | Metric: '+ metric, size=16)\n",
    "\n",
    "nx.draw_networkx_nodes(G, posG_tsne_spl, edgecolors = node_edge_col, linewidths = 0.5, node_color=colours, node_size=size, alpha = opacity_nodes)\n",
    "nx.draw_networkx_edges(G, pos = posG_tsne_spl, width = edge_width, edge_color = edge_color, alpha = opacity_edges)\n",
    "#nx.draw_networkx_labels(G, pos = posG_spl, font_size = fontsize_labels, font_color = 'black')\n",
    "plt.box(False)\n",
    "\n",
    "plt.savefig('output_plots/2Dtsne_spl_'+metric+'_'+organism+'.png')\n",
    "\n",
    "plt.show()"
   ]
  },
  {
   "cell_type": "code",
   "execution_count": null,
   "metadata": {},
   "outputs": [],
   "source": [
    "plt.figure(figsize=(25,25))\n",
    "plt.title('Markov | t-SNE | Metric: '+metric, size=16)\n",
    "\n",
    "nx.draw_networkx_nodes(G, posG_tsne_m, edgecolors = node_edge_col, linewidths = 0.5, node_color=colours, node_size=size, alpha = opacity_nodes)\n",
    "nx.draw_networkx_edges(G, pos = posG_tsne_m, width = edge_width, edge_color = edge_color, alpha = opacity_edges)\n",
    "plt.box(False)\n",
    "\n",
    "plt.savefig('output_plots/2Dtsne_m_'+metric+'_'+ organism +'.png')\n",
    "\n",
    "plt.show()"
   ]
  },
  {
   "cell_type": "code",
   "execution_count": null,
   "metadata": {},
   "outputs": [],
   "source": [
    "plt.figure(figsize=(25,25))\n",
    "plt.title('PDist euclidean | t-SNE | Metric: '+metric, size=16)\n",
    "\n",
    "nx.draw_networkx_nodes(G, posG_tsne_eucl, edgecolors = node_edge_col, linewidths = 0.5, node_color=colours, node_size=size, alpha = opacity_nodes)\n",
    "nx.draw_networkx_edges(G, pos = posG_tsne_eucl, width = edge_width, edge_color = edge_color, alpha = opacity_edges)\n",
    "plt.box(False)\n",
    "\n",
    "plt.savefig('output_plots/2Dtsne_'+feature+'_'+metric+'_'+organism+'.png')\n",
    "\n",
    "plt.show()"
   ]
  },
  {
   "cell_type": "markdown",
   "metadata": {},
   "source": [
    "### UMAP EMBEDDING 2D \n",
    "+https://umap-learn.readthedocs.io/en/latest/embedding_space.html"
   ]
  },
  {
   "cell_type": "code",
   "execution_count": null,
   "metadata": {},
   "outputs": [],
   "source": [
    "n_neighbors = 10 # balance between local and global structure in the data\n",
    "spread = 2.\n",
    "min_dist = 0.5 # defines how dense points are stacked together \n",
    "n_components = 2 # for 2D\n",
    "\n",
    "U = umap.UMAP(\n",
    "        n_neighbors = n_neighbors,\n",
    "        spread = spread,\n",
    "        min_dist = min_dist,\n",
    "        n_components = n_components,\n",
    "        metric = metric)"
   ]
  },
  {
   "cell_type": "code",
   "execution_count": null,
   "metadata": {},
   "outputs": [],
   "source": [
    "%%time \n",
    "umap_adj = U.fit_transform(DM_adj)\n",
    "posG_umap_adj = get_posG(G,umap_adj)"
   ]
  },
  {
   "cell_type": "code",
   "execution_count": null,
   "metadata": {},
   "outputs": [],
   "source": [
    "%%time \n",
    "umap_spl = U.fit_transform(DM_spl)\n",
    "posG_umap_spl = get_posG(G,umap_spl)"
   ]
  },
  {
   "cell_type": "code",
   "execution_count": null,
   "metadata": {},
   "outputs": [],
   "source": [
    "%%time \n",
    "umap_m = U.fit_transform(DM_m)\n",
    "posG_umap_m = get_posG(G, umap_m)"
   ]
  },
  {
   "cell_type": "code",
   "execution_count": null,
   "metadata": {},
   "outputs": [],
   "source": [
    "%%time \n",
    "umap_eucl = U.fit_transform(DM_eucl)\n",
    "posG_umap_eucl = get_posG(G, umap_eucl)"
   ]
  },
  {
   "cell_type": "markdown",
   "metadata": {},
   "source": [
    "### 2D UMAP PORTRAITS"
   ]
  },
  {
   "cell_type": "code",
   "execution_count": null,
   "metadata": {},
   "outputs": [],
   "source": [
    "plt.figure(figsize=(25,25))\n",
    "plt.title('Adj | UMAP | Metric: '+metric, size=16)\n",
    "\n",
    "nx.draw_networkx_nodes(G, posG_umap_adj, edgecolors = node_edge_col, linewidths = 0.5, node_color=colours, node_size=size, alpha = opacity_nodes)\n",
    "nx.draw_networkx_edges(G, pos = posG_umap_adj, width = edge_width, edge_color = edge_color, alpha = opacity_edges)\n",
    "#nx.draw_networkx_labels(G, pos = posG_umap_adj, font_size = fontsize_labels, font_color = 'black')\n",
    "plt.box(False)\n",
    "\n",
    "plt.savefig('output_plots/2Dumap_adj_'+metric+'_'+organism+'.png')\n",
    "\n",
    "plt.show()"
   ]
  },
  {
   "cell_type": "code",
   "execution_count": null,
   "metadata": {},
   "outputs": [],
   "source": [
    "plt.figure(figsize=(25,25))\n",
    "plt.title('SPL | UMAP | Metric: '+metric, size=16)\n",
    "\n",
    "nx.draw_networkx_nodes(G, posG_umap_spl, edgecolors = node_edge_col, linewidths = 0.5, node_color=colours, node_size=size, alpha = opacity_nodes)\n",
    "nx.draw_networkx_edges(G, pos = posG_umap_spl, width = edge_width, edge_color = edge_color, alpha = opacity_edges)\n",
    "#nx.draw_networkx_labels(G, pos = posG_umap_spl, font_size = fontsize_labels, font_color = 'black')\n",
    "plt.box(False)\n",
    "\n",
    "plt.savefig('output_plots/2Dumap_spl_'+metric+'_'+organism+'.png')\n",
    "\n",
    "plt.show()"
   ]
  },
  {
   "cell_type": "code",
   "execution_count": null,
   "metadata": {},
   "outputs": [],
   "source": [
    "plt.figure(figsize=(25,25))\n",
    "plt.title('Markov | UMAP | Metric: '+metric, size=16)\n",
    "\n",
    "nx.draw_networkx_nodes(G, posG_umap_m, edgecolors = node_edge_col, linewidths = 0.5, node_color=colours, node_size=size, alpha = opacity_nodes)\n",
    "nx.draw_networkx_edges(G, pos = posG_umap_m, width = edge_width, edge_color = edge_color, alpha = opacity_edges)\n",
    "#nx.draw_networkx_labels(G, pos = posG_umap_spl, font_size = fontsize_labels, font_color = 'black')\n",
    "plt.box(False)\n",
    "\n",
    "plt.savefig('output_plots/2Dumap_m_'+metric+'_'+organism+'.png')\n",
    "\n",
    "plt.show()"
   ]
  },
  {
   "cell_type": "code",
   "execution_count": null,
   "metadata": {},
   "outputs": [],
   "source": [
    "plt.figure(figsize=(25,25))\n",
    "plt.title('PW dist EUCLIDEAN | UMAP | Metric: '+metric, size=16)\n",
    "\n",
    "nx.draw_networkx_nodes(G, posG_umap_eucl, edgecolors = node_edge_col, linewidths = 0.5, node_color=colours, node_size=size, alpha = 1)\n",
    "nx.draw_networkx_edges(G, pos = posG_umap_eucl, width = edge_width, edge_color = edge_color, alpha = opacity_edges)\n",
    "#nx.draw_networkx_labels(G, pos = posG_umap_spl, font_size = fontsize_labels, font_color = 'black')\n",
    "plt.box(False)\n",
    "\n",
    "plt.savefig('output_plots/2Dumap_eucl_'+metric+'_'+organism+'.png')\n",
    "\n",
    "plt.show()"
   ]
  },
  {
   "cell_type": "markdown",
   "metadata": {},
   "source": [
    "# LANDSCAPES"
   ]
  },
  {
   "cell_type": "code",
   "execution_count": null,
   "metadata": {},
   "outputs": [],
   "source": [
    "#dict_z = {key:d_essentiality_scores[key] for key in G.nodes()}\n",
    "dict_z = {key:d_clos[key] for key in G.nodes()}\n",
    "\n",
    "z_list = list(dict_z.values())"
   ]
  },
  {
   "cell_type": "code",
   "execution_count": null,
   "metadata": {},
   "outputs": [],
   "source": [
    "node_factor = 20 # node size factor\n",
    "size3d = draw_node_degree_3D(G, node_factor) # node size based on degree\n",
    "#size3d = 5"
   ]
  },
  {
   "cell_type": "markdown",
   "metadata": {},
   "source": [
    "### tSNE"
   ]
  },
  {
   "cell_type": "code",
   "execution_count": null,
   "metadata": {},
   "outputs": [],
   "source": [
    "%%time\n",
    "\n",
    "tsne_adj_x, tsne_adj_y, tsne_adj_z = get_coords_landscape(G, posG_tsne_adj)\n",
    "tsne_adj_trace_z = get_trace_nodes_landscape(tsne_adj_x, tsne_adj_y, z_list, colours, size3d)\n",
    "tsne_data_adj = [tsne_adj_trace_z] #,adj_edges]"
   ]
  },
  {
   "cell_type": "code",
   "execution_count": null,
   "metadata": {},
   "outputs": [],
   "source": [
    "%%time\n",
    "\n",
    "tsne_spl_x, tsne_spl_y, tsne_spl_z = get_coords_landscape(G, posG_tsne_spl)\n",
    "tsne_spl_trace_z = get_trace_nodes_landscape(tsne_spl_x, tsne_spl_y, z_list, colours, size3d)\n",
    "tsne_data_spl = [tsne_spl_trace_z] #, spl_edges]%%time"
   ]
  },
  {
   "cell_type": "code",
   "execution_count": null,
   "metadata": {},
   "outputs": [],
   "source": [
    "%%time\n",
    "\n",
    "tsne_m_x, tsne_m_y, tsne_m_z = get_coords_landscape(G, posG_tsne_m)\n",
    "tsne_m_trace_z = get_trace_nodes_landscape(tsne_m_x, tsne_m_y, z_list, colours, size3d)\n",
    "tsne_data_m = [tsne_m_trace_z] #,mlog_edges]"
   ]
  },
  {
   "cell_type": "code",
   "execution_count": null,
   "metadata": {},
   "outputs": [],
   "source": [
    "%%time \n",
    "\n",
    "tsne_eucl_x, tsne_eucl_y, tsne_eucl_z = get_coords_landscape(G, posG_tsne_eucl)\n",
    "tsne_eucl_trace_z = get_trace_nodes_landscape(tsne_eucl_x, tsne_eucl_y, z_list, colours, size3d)\n",
    "tsne_data_eucl = [tsne_eucl_trace_z] #,eucl_edges]"
   ]
  },
  {
   "cell_type": "code",
   "execution_count": null,
   "metadata": {},
   "outputs": [],
   "source": [
    "print('Perplexity:', prplxty)\n",
    "print('Early Exaggeration:', density)\n",
    "print('Learning rate:', l_rate)\n",
    "print('Iterations:', steps)\n",
    "\n",
    "\n",
    "fig_1 = make_subplots(rows = 1, cols = 4,\n",
    "                    specs=[4 * [{'type': 'scatter3d'}]],\n",
    "                    print_grid=False, subplot_titles=('Adjacency | t-SNE | Metric: '+ metric, \n",
    "                                                     'SPL | t-SNE | Metric: '+ metric,\n",
    "                                                     'Markov | t-SNE | Metric: '+ metric,\n",
    "                                                      'PW Euclidean | tSNE | Metric: '+ metric)\n",
    "                    )\n",
    "\n",
    "    \n",
    "for i in tsne_data_adj:\n",
    "    fig_1.add_trace(i, row = 1, col = 1)\n",
    "\n",
    "\n",
    "for i in tsne_data_spl:\n",
    "    fig_1.add_trace(i, row = 1, col = 2)\n",
    "    \n",
    "for i in tsne_data_m:\n",
    "    fig_1.add_trace(i, row = 1, col = 3)\n",
    "\n",
    "for i in tsne_data_eucl:\n",
    "    fig_1.add_trace(i, row = 1, col = 4)\n",
    "\n",
    "fig_1.update_layout(template='plotly_dark', height = 1000, width = 2200)\n",
    "#fig_1.update_layout(template=None, height = 1000, width = 2200)\n",
    "py.iplot(fig_1)\n",
    "\n",
    "plotly.offline.plot(fig_1, filename = 'output_plots/Landscapes_tsne_'+metric+'_'+organism+'.html', auto_open=False)"
   ]
  },
  {
   "cell_type": "markdown",
   "metadata": {},
   "source": [
    "### UMAP"
   ]
  },
  {
   "cell_type": "code",
   "execution_count": null,
   "metadata": {},
   "outputs": [],
   "source": [
    "%%time\n",
    "\n",
    "umap_adj_x, umap_adj_y, umap_adj_z = get_coords_landscape(G, posG_umap_adj)\n",
    "umap_adj_trace_z = get_trace_nodes_landscape(umap_adj_x, umap_adj_y, z_list, colours, size3d)\n",
    "umap_data_adj = [umap_adj_trace_z]"
   ]
  },
  {
   "cell_type": "code",
   "execution_count": null,
   "metadata": {},
   "outputs": [],
   "source": [
    "%%time\n",
    "\n",
    "umap_spl_x, umap_spl_y, umap_spl_z = get_coords_landscape(G, posG_umap_spl)\n",
    "umap_spl_trace_z = get_trace_nodes_landscape(umap_spl_x, umap_spl_y, z_list, colours, size3d)\n",
    "umap_data_spl = [umap_spl_trace_z]"
   ]
  },
  {
   "cell_type": "code",
   "execution_count": null,
   "metadata": {},
   "outputs": [],
   "source": [
    "%%time\n",
    "\n",
    "umap_m_x, umap_m_y, umap_m_z = get_coords_landscape(G, posG_umap_m)\n",
    "umap_m_trace_z = get_trace_nodes_landscape(umap_m_x, umap_m_y, z_list, colours, size3d)\n",
    "umap_data_m = [umap_m_trace_z]"
   ]
  },
  {
   "cell_type": "code",
   "execution_count": null,
   "metadata": {},
   "outputs": [],
   "source": [
    "%%time\n",
    "\n",
    "umap_eucl_x, umap_eucl_y, umap_eucl_z = get_coords_landscape(G, posG_umap_eucl)\n",
    "umap_eucl_trace_z = get_trace_nodes_landscape(umap_eucl_x, umap_eucl_y, z_list, colours, size3d)\n",
    "umap_data_eucl = [umap_eucl_trace_z]"
   ]
  },
  {
   "cell_type": "code",
   "execution_count": null,
   "metadata": {},
   "outputs": [],
   "source": [
    "print('# Neighbors: ', n_neighbors)\n",
    "print('Spread: ', spread)\n",
    "print('Min. Distance: ', min_dist)\n",
    "print('Metric: ', metric)\n",
    "\n",
    "\n",
    "fig_1 = make_subplots(rows = 1, cols = 4,\n",
    "                    specs=[4 * [{'type': 'scatter3d'}]],\n",
    "                    print_grid=False, subplot_titles=('Adjacency | UMAP | Metric: '+ metric, \n",
    "                                                     'SPL | UMAP | Metric: '+ metric,\n",
    "                                                     'Markov | UMAP | Metric: '+ metric,\n",
    "                                                      'PW Euclidean | UMAP | Metric: '+ metric)\n",
    "                    )\n",
    "\n",
    "    \n",
    "for i in umap_data_adj:\n",
    "    fig_1.add_trace(i, row = 1, col = 1)\n",
    "\n",
    "\n",
    "for i in umap_data_spl:\n",
    "    fig_1.add_trace(i, row = 1, col = 2)\n",
    "    \n",
    "for i in umap_data_m:\n",
    "    fig_1.add_trace(i, row = 1, col = 3)\n",
    "\n",
    "for i in umap_data_eucl:\n",
    "    fig_1.add_trace(i, row = 1, col = 4)\n",
    "\n",
    "fig_1.update_layout(template='plotly_dark', height = 1000, width = 2200)\n",
    "#fig_1.update_layout(template=None, height = 1000, width = 2200,)\n",
    "py.iplot(fig_1)\n",
    "\n",
    "plotly.offline.plot(fig_1, filename = 'output_plots/Landscapes_umap_'+metric+'_'+organism+'.html', auto_open=False)"
   ]
  },
  {
   "cell_type": "markdown",
   "metadata": {},
   "source": [
    "### LANDSCAPE | EXPORT Coordinates x,y,z,rgba"
   ]
  },
  {
   "cell_type": "code",
   "execution_count": null,
   "metadata": {},
   "outputs": [],
   "source": [
    "'''\n",
    "organism = 'Yeast'\n",
    "\n",
    "colours_rgba = []\n",
    "for i in colours: \n",
    "    if i == ess_col:\n",
    "        colours_rgba.append('rgba(66, 117, 154, 0.6)')\n",
    "    elif i == no_ess_col:\n",
    "        colours_rgba.append('rgba(162, 193, 216, 0.6)')\n",
    "    else:\n",
    "        colours_rgba.append('rgba(0,0,0,0.4)')\n",
    "\n",
    "\n",
    "df_xyz_rgba_landscape_adj = pd.DataFrame(posG3d_adj, index=[\"x\",\"y\",\"z\"]).T\n",
    "df_xyz_rgba_landscape_adj['color'] = colours_rgba\n",
    "\n",
    "df_xyz_rgba_landscape_spl = pd.DataFrame(posG3d_spl, index=[\"x\",\"y\",\"z\"]).T\n",
    "df_xyz_rgba_landscape_spl['color'] = colours_rgba\n",
    "\n",
    "df_xyz_rgba_landscape_mlog = pd.DataFrame(posG3d_mlog, index=[\"x\",\"y\",\"z\"]).T\n",
    "df_xyz_rgba_landscape_mlog['color'] = colours_rgba\n",
    "\n",
    "df_xyz_rgba_landscape_eucl = pd.DataFrame(posG3d_eucl, index=[\"x\",\"y\",\"z\"]).T\n",
    "df_xyz_rgba_landscape_eucl['color'] = colours_rgba\n",
    "\n",
    "\n",
    "# -----------------------------------------------\n",
    "\n",
    "df_xyz_rgba_3Dadj.to_csv(r'output_csv/landscape__XYZ_RGBA_Adjacency_'+organism+'.csv', index = True)\n",
    "df_xyz_rgba_3Dspl.to_csv(r'output_csv/landscape__XYZ_RGBA_SPL_'+organism+'.csv', index = True)\n",
    "df_xyz_rgba_3Dmlog.to_csv(r'output_csv/landscape__XYZ_RGBA_RWRlog_'+organism+'.csv', index = True)\n",
    "df_xyz_rgba_3Deucl.to_csv(r'output_csv/landscape__XYZ_RGBA_PW_eucl_'+organism+'.csv', index = True)"
   ]
  },
  {
   "cell_type": "markdown",
   "metadata": {},
   "source": [
    "____________\n",
    "# 3D"
   ]
  },
  {
   "cell_type": "markdown",
   "metadata": {},
   "source": [
    "### 3D Visualization Settings"
   ]
  },
  {
   "cell_type": "code",
   "execution_count": 8,
   "metadata": {},
   "outputs": [],
   "source": [
    "node_factor = 20\n",
    "size3d = draw_node_degree_3D(G, node_factor) # node size based on degree \n",
    "\n",
    "edge_color = 'grey'\n",
    "#edge_color = 'dimgrey'"
   ]
  },
  {
   "cell_type": "markdown",
   "metadata": {},
   "source": [
    "## SPRING"
   ]
  },
  {
   "cell_type": "code",
   "execution_count": null,
   "metadata": {},
   "outputs": [],
   "source": [
    "%%time \n",
    "\n",
    "#Fruchterman-Reingold force-directed algorithm\n",
    "posG3d_spring = nx.spring_layout(G, dim=3)\n",
    "\n",
    "spring_edges = get_trace_edges(G, posG3d_spring, edge_color) \n",
    "spring_nodes = get_trace_nodes(G, posG3d_spring,  l_features, colours, size3d)\n",
    "data_spring = [spring_edges, spring_nodes]\n",
    "\n",
    "fig_ = pgo.Figure()\n",
    "for i in data_spring:\n",
    "    fig_.add_trace(i)\n",
    "fig_.update_layout(template = None, height = 800, width = 800)\n",
    "py.iplot(fig_)\n",
    "plotly.offline.plot(fig_, filename = 'output_plots/3DSpring_'+organism+'.html', auto_open=False)"
   ]
  },
  {
   "cell_type": "markdown",
   "metadata": {},
   "source": [
    "## PORTRAITS"
   ]
  },
  {
   "cell_type": "code",
   "execution_count": 9,
   "metadata": {},
   "outputs": [],
   "source": [
    "prplxty3d = 50 # range: 5-50 / default = 30.#\n",
    "density3d = 1.2 # default 12.\n",
    "l_rate3d = 5000 # default 200.\n",
    "steps3d = 1000 #min 250\n",
    "\n",
    "metric = 'euclidean'"
   ]
  },
  {
   "cell_type": "markdown",
   "metadata": {},
   "source": [
    "#### tSNE"
   ]
  },
  {
   "cell_type": "code",
   "execution_count": null,
   "metadata": {},
   "outputs": [],
   "source": [
    "%%time\n",
    "tsne_posG3d_adj = embed_tsne_3D(G, DM_adj, prplxty3d, density3d, l_rate3d, steps3d, metric)"
   ]
  },
  {
   "cell_type": "code",
   "execution_count": null,
   "metadata": {},
   "outputs": [],
   "source": [
    "%%time\n",
    "tsne_posG3d_spl = embed_tsne_3D(G, DM_spl, prplxty3d, density3d, l_rate3d, steps3d, metric)"
   ]
  },
  {
   "cell_type": "code",
   "execution_count": 10,
   "metadata": {},
   "outputs": [
    {
     "name": "stdout",
     "output_type": "stream",
     "text": [
      "CPU times: user 2h 47min, sys: 23.4 s, total: 2h 47min 24s\n",
      "Wall time: 2h 23min 12s\n"
     ]
    }
   ],
   "source": [
    "%%time\n",
    "tsne_posG3d_m = embed_tsne_3D(G, DM_m, prplxty3d, density3d, l_rate3d, steps3d, metric)\n",
    "\n",
    "\n",
    "# EXPORT as dataframe \n",
    "df_3Dportrait_markov = pd.DataFrame(tsne_posG3d_m).T\n",
    "df_3Dportrait_markov.to_csv(r'output_csv/3DPortrait_XYZ_markov_'+organism+'.csv', index = True)\n",
    "\n",
    "\n",
    "# IMPORT + convert to dict with nodes: X,Y,Z\n",
    "df_tsne_posG3d_m = pd.read_csv('output_csv/3DPortrait_XYZ_markov_'+organism+'.csv', index_col=0)\n",
    "X = list(df_tsne_posG3d_m['0'])\n",
    "Y = list(df_tsne_posG3d_m['1'])\n",
    "Z = list(df_tsne_posG3d_m['2'])\n",
    "\n",
    "tsne_posG3d_m = dict(zip(list(G.nodes()),zip(X,Y,Z)))"
   ]
  },
  {
   "cell_type": "code",
   "execution_count": null,
   "metadata": {},
   "outputs": [],
   "source": [
    "%%time\n",
    "tsne_posG3d_eucl = embed_tsne_3D(G, DM_eucl, prplxty3d, density3d, l_rate3d, steps3d)"
   ]
  },
  {
   "cell_type": "code",
   "execution_count": null,
   "metadata": {},
   "outputs": [],
   "source": [
    "%%time \n",
    "\n",
    "tsne_adj_edges = get_trace_edges(G, tsne_posG3d_adj, edge_color) \n",
    "tsne_adj_nodes = get_trace_nodes(G, tsne_posG3d_adj,  l_features, colours, size3d)\n",
    "tsne_data_adj = [tsne_adj_edges, tsne_adj_nodes]"
   ]
  },
  {
   "cell_type": "code",
   "execution_count": null,
   "metadata": {},
   "outputs": [],
   "source": [
    "%%time \n",
    "\n",
    "tsne_spl_edges = get_trace_edges(G, tsne_posG3d_spl, edge_color) \n",
    "tsne_spl_nodes = get_trace_nodes(G, tsne_posG3d_spl,  l_features, colours, size3d)\n",
    "tsne_data_spl = [tsne_spl_edges, tsne_spl_nodes]"
   ]
  },
  {
   "cell_type": "code",
   "execution_count": 34,
   "metadata": {},
   "outputs": [
    {
     "name": "stdout",
     "output_type": "stream",
     "text": [
      "CPU times: user 7.38 s, sys: 388 ms, total: 7.77 s\n",
      "Wall time: 8.09 s\n"
     ]
    }
   ],
   "source": [
    "%%time\n",
    "\n",
    "tsne_m_edges = get_trace_edges(G, tsne_posG3d_m, edge_color) \n",
    "tsne_m_nodes = get_trace_nodes(G, tsne_posG3d_m, l_features, colours, size3d)\n",
    "tsne_data_m = [tsne_m_edges, tsne_m_nodes]"
   ]
  },
  {
   "cell_type": "code",
   "execution_count": null,
   "metadata": {},
   "outputs": [],
   "source": [
    "%%time\n",
    "\n",
    "tsne_eucl_edges = get_trace_edges(G, tsne_posG3d_eucl, edge_color) \n",
    "tsne_eucl_nodes = get_trace_nodes(G, tsne_posG3d_eucl,l_features, colours, size3d)\n",
    "tsne_data_eucl = [tsne_eucl_edges, tsne_eucl_nodes]"
   ]
  },
  {
   "cell_type": "code",
   "execution_count": null,
   "metadata": {},
   "outputs": [],
   "source": [
    "print('Perplexity:', prplxty3d)\n",
    "print('Early Exaggeration:', density3d)\n",
    "print('Learning rate:', l_rate3d)\n",
    "print('Iterations:', steps3d)\n",
    "\n",
    "\n",
    "fig = pgo.Figure()\n",
    "for i in tsne_data_m:\n",
    "    fig.add_trace(i)\n",
    "fig.update_layout(template='plotly_dark', showlegend=False, width=2000, height=2000)\n",
    "py.iplot(fig)\n",
    "\n",
    "plotly.offline.plot(fig, filename = 'output_plots/3Dportrait_tsne_RWR_'+metric+'_'+organism+'.html', auto_open=False)"
   ]
  },
  {
   "cell_type": "code",
   "execution_count": null,
   "metadata": {},
   "outputs": [],
   "source": [
    "print('Perplexity:', prplxty3d)\n",
    "print('Early Exaggeration:', density3d)\n",
    "print('Learning rate:', l_rate3d)\n",
    "print('Iterations:', steps3d)\n",
    "\n",
    "\n",
    "fig1 = make_subplots(rows = 1, cols = 4,\n",
    "                    specs=[4 * [{'type': 'scatter3d'}]],\n",
    "                    print_grid=False, subplot_titles=('Adjacency | tSNE | Metric: '+metric, \n",
    "                                                     'SPL | tSNE | Metric: '+metric,\n",
    "                                                     'RWR | tSNE | Metric: '+metric,\n",
    "                                                     'PW Euclidean | tSNE | Metric: '+metric)\n",
    "                    )\n",
    "\n",
    "    \n",
    "for i in tsne_data_adj:\n",
    "    fig1.add_trace(i, row = 1, col = 1)\n",
    "    \n",
    "for i in tsne_data_spl:\n",
    "    fig1.add_trace(i, row = 1, col = 2)\n",
    "    \n",
    "for i in tsne_data_m:\n",
    "    fig1.add_trace(i, row = 1, col = 3)\n",
    "\n",
    "for i in tsne_data_eucl:\n",
    "    fig1.add_trace(i, row = 1, col = 4)\n",
    "\n",
    "#fig1.update_layout(template=None, showlegend = False, width = 2000, height = 800)\n",
    "fig1.update_layout(template='plotly_dark', showlegend = False, width = 2000, height = 800)\n",
    "py.iplot(fig1)\n",
    "\n",
    "plotly.offline.plot(fig1, filename = 'output_plots/3Dportrait_tsne_'+metric+'_'+organism+'.html', auto_open=False)"
   ]
  },
  {
   "cell_type": "markdown",
   "metadata": {},
   "source": [
    "#### tSNE PORTRAIT EXPORT Coordinates"
   ]
  },
  {
   "cell_type": "code",
   "execution_count": null,
   "metadata": {},
   "outputs": [],
   "source": [
    "'''\n",
    "organism = 'Human'\n",
    "\n",
    "\n",
    "colours_rgba = []\n",
    "for i in colours: \n",
    "    if i == ess_col:\n",
    "        colours_rgba.append('rgba(66, 117, 154, 0.6)')\n",
    "    elif i == no_ess_col:\n",
    "        colours_rgba.append('rgba(162, 193, 216, 0.6)')\n",
    "    else:\n",
    "        colours_rgba.append('rgba(0,0,0,0.4)')\n",
    "        \n",
    "        \n",
    "#df_xyz_rgba_3Dspring = pd.DataFrame(posG3d_spring, index=[\"x\",\"y\",\"z\"]).T\n",
    "#df_xyz_rgba_3Dspring['color'] = colours_rgba\n",
    "\n",
    "df_xyz_rgba_3Dadj = pd.DataFrame(tsne_posG3d_adj, index=[\"x\",\"y\",\"z\"]).T\n",
    "df_xyz_rgba_3Dadj['color'] = colours_rgba\n",
    "\n",
    "df_xyz_rgba_3Dspl = pd.DataFrame(tsne_posG3d_spl, index=[\"x\",\"y\",\"z\"]).T\n",
    "df_xyz_rgba_3Dspl['color'] = colours_rgba\n",
    "\n",
    "df_xyz_rgba_3Dm = pd.DataFrame(tsne_posG3d_m, index=[\"x\",\"y\",\"z\"]).T\n",
    "df_xyz_rgba_3Dm['color'] = colours_rgba\n",
    "\n",
    "df_xyz_rgba_3Deucl = pd.DataFrame(tsne_posG3d_eucl, index=[\"x\",\"y\",\"z\"]).T\n",
    "df_xyz_rgba_3Deucl['color'] = colours_rgba\n",
    "\n",
    "\n",
    "# -----------------------------------------------\n",
    "\n",
    "df_xyz_rgba_spring.to_csv(r'output_csv/3Dspring_XYZ_RGBA_'+organism+'.csv', index = True)\n",
    "\n",
    "df_xyz_rgba_3Dadj.to_csv(r'output_csv/3Dportrait_tsne_XYZ_RGBA_Adjacency_'+organism+'.csv', index = True)\n",
    "df_xyz_rgba_3Dspl.to_csv(r'output_csv/3Dportrait_tsne_XYZ_RGBA_SPL_'+organism+'.csv', index = True)\n",
    "df_xyz_rgba_3Dm.to_csv(r'output_csv/3Dportrait_tsne_XYZ_RGBA_RWR_'+organism+'.csv', index = True)\n",
    "df_xyz_rgba_3Deucl.to_csv(r'output_csv/3Dportrait_tsne_XYZ_RGBA_PW_eucl_'+organism+'.csv', index = True)\n",
    "'''"
   ]
  },
  {
   "cell_type": "markdown",
   "metadata": {},
   "source": [
    "#### UMAP"
   ]
  },
  {
   "cell_type": "code",
   "execution_count": null,
   "metadata": {},
   "outputs": [],
   "source": [
    "n_neighbors = 10 # balance between local and global structure in the data\n",
    "spread = 1.\n",
    "min_dist = 0.1 # defines how dense points are stacked together \n",
    "metric='euclidean'"
   ]
  },
  {
   "cell_type": "code",
   "execution_count": null,
   "metadata": {},
   "outputs": [],
   "source": [
    "%%time \n",
    "umap_posG3d_adj = embed_umap_3D(G, DM_adj, n_neighbors, spread, min_dist, metric)"
   ]
  },
  {
   "cell_type": "code",
   "execution_count": null,
   "metadata": {},
   "outputs": [],
   "source": [
    "%%time \n",
    "umap_posG3d_spl = embed_umap_3D(G, DM_spl, n_neighbors, spread, min_dist, metric)"
   ]
  },
  {
   "cell_type": "code",
   "execution_count": null,
   "metadata": {},
   "outputs": [],
   "source": [
    "%%time \n",
    "umap_posG3d_m = embed_umap_3D(G, DM_m, n_neighbors, spread, min_dist, metric)"
   ]
  },
  {
   "cell_type": "code",
   "execution_count": null,
   "metadata": {},
   "outputs": [],
   "source": [
    "%%time \n",
    "umap_posG3d_eucl = embed_umap_3D(G, DM_eucl, n_neighbors, spread, min_dist, metric)"
   ]
  },
  {
   "cell_type": "code",
   "execution_count": null,
   "metadata": {},
   "outputs": [],
   "source": [
    "%%time \n",
    "umap_adj_edges = get_trace_edges(G, umap_posG3d_adj, edge_color) \n",
    "umap_adj_nodes = get_trace_nodes(G, umap_posG3d_adj,  l_features, colours, size3d)\n",
    "umap_data_adj = [umap_adj_edges, umap_adj_nodes]"
   ]
  },
  {
   "cell_type": "code",
   "execution_count": null,
   "metadata": {},
   "outputs": [],
   "source": [
    "%%time \n",
    "umap_spl_edges = get_trace_edges(G, umap_posG3d_spl, edge_color) \n",
    "umap_spl_nodes = get_trace_nodes(G, umap_posG3d_spl,  l_features, colours, size3d)\n",
    "umap_data_spl = [umap_spl_edges, umap_spl_nodes]"
   ]
  },
  {
   "cell_type": "code",
   "execution_count": null,
   "metadata": {},
   "outputs": [],
   "source": [
    "%%time \n",
    "umap_m_edges = get_trace_edges(G, umap_posG3d_m, edge_color) \n",
    "umap_m_nodes = get_trace_nodes(G, umap_posG3d_m,  l_features, colours, size3d)\n",
    "umap_data_m = [umap_m_edges, umap_m_nodes]"
   ]
  },
  {
   "cell_type": "code",
   "execution_count": null,
   "metadata": {},
   "outputs": [],
   "source": [
    "%%time \n",
    "umap_eucl_edges = get_trace_edges(G, umap_posG3d_eucl, edge_color) \n",
    "umap_eucl_nodes = get_trace_nodes(G, umap_posG3d_eucl,  l_features, colours, size3d)\n",
    "umap_data_eucl = [umap_eucl_edges, umap_eucl_nodes]"
   ]
  },
  {
   "cell_type": "code",
   "execution_count": null,
   "metadata": {},
   "outputs": [],
   "source": [
    "print('# Neighbors: ', n_neighbors)\n",
    "print('Spread: ', spread)\n",
    "print('Min. Distance: ', min_dist)\n",
    "print('Metric: ', metric)\n",
    "\n",
    "fig1 = make_subplots(rows = 1, cols = 4,\n",
    "                    specs=[4 * [{'type': 'scatter3d'}]],\n",
    "                    print_grid=False, subplot_titles=('Adjacency | UMAP | Metric: '+metric, \n",
    "                                                     'SPL | UMAP | Metric: '+metric,\n",
    "                                                     'RWR | UMAP | Metric: '+metric,\n",
    "                                                     'PW Euclidean | UMAP | Metric: '+metric)\n",
    "                    )\n",
    "\n",
    "    \n",
    "for i in umap_data_adj:\n",
    "    fig1.add_trace(i, row = 1, col = 1)\n",
    "    \n",
    "for i in umap_data_spl:\n",
    "    fig1.add_trace(i, row = 1, col = 2)\n",
    "    \n",
    "for i in umap_data_m:\n",
    "    fig1.add_trace(i, row = 1, col = 3)\n",
    "\n",
    "for i in umap_data_eucl:\n",
    "    fig1.add_trace(i, row = 1, col = 4)\n",
    "\n",
    "fig1.update_layout(template='plotly_dark', showlegend = False, width = 2000, height = 800)\n",
    "#fig1.update_layout(template=None, showlegend = False, width = 2000, height = 800)\n",
    "py.iplot(fig1)\n",
    "\n",
    "plotly.offline.plot(fig1, filename = 'output_plots/3Dportrait_umap_'+metric+'_'+organism+'.html', auto_open=False)"
   ]
  },
  {
   "cell_type": "markdown",
   "metadata": {},
   "source": [
    "#### UMAP PORTRAIT Coordinates EXPORT"
   ]
  },
  {
   "cell_type": "code",
   "execution_count": null,
   "metadata": {},
   "outputs": [],
   "source": [
    "'''\n",
    "organism = 'Yeast'\n",
    "\n",
    "\n",
    "colours_rgba = []\n",
    "for i in colours: \n",
    "    if i == ess_col:\n",
    "        colours_rgba.append('rgba(66, 117, 154, 0.6)')\n",
    "    elif i == no_ess_col:\n",
    "        colours_rgba.append('rgba(162, 193, 216, 0.6)')\n",
    "    else:\n",
    "        colours_rgba.append('rgba(0,0,0,0.4)')\n",
    "        \n",
    "\n",
    "df_xyz_rgba_3Dadj = pd.DataFrame(umap_posG3d_adj, index=[\"x\",\"y\",\"z\"]).T\n",
    "df_xyz_rgba_3Dadj['color'] = colours_rgba\n",
    "\n",
    "df_xyz_rgba_3Dspl = pd.DataFrame(umap_posG3d_spl, index=[\"x\",\"y\",\"z\"]).T\n",
    "df_xyz_rgba_3Dspl['color'] = colours_rgba\n",
    "\n",
    "df_xyz_rgba_3Dmlog = pd.DataFrame(umap_posG3d_mlog, index=[\"x\",\"y\",\"z\"]).T\n",
    "df_xyz_rgba_3Dmlog['color'] = colours_rgba\n",
    "\n",
    "df_xyz_rgba_3Deucl = pd.DataFrame(umap_posG3d_eucl, index=[\"x\",\"y\",\"z\"]).T\n",
    "df_xyz_rgba_3Deucl['color'] = colours_rgba\n",
    "\n",
    "\n",
    "# -----------------------------------------------\n",
    "\n",
    "df_xyz_rgba_spring.to_csv(r'output_csv/3Dspring_XYZ_RGBA_'+organism+'.csv', index = True)\n",
    "\n",
    "df_xyz_rgba_3Dadj.to_csv(r'output_csv/3Dportrait_umap_XYZ_RGBA_Adjacency_'+organism+'.csv', index = True)\n",
    "df_xyz_rgba_3Dspl.to_csv(r'output_csv/3Dportraitumap_XYZ_RGBA_SPL_'+organism+'.csv', index = True)\n",
    "df_xyz_rgba_3Dmlog.to_csv(r'output_csv/3Dportraitumap_XYZ_RGBA_RWRlog_'+organism+'.csv', index = True)\n",
    "df_xyz_rgba_3Deucl.to_csv(r'output_csv/3Dportraitumap_XYZ_RGBA_PW_eucl_'+organism+'.csv', index = True)\n",
    "'''"
   ]
  },
  {
   "cell_type": "markdown",
   "metadata": {},
   "source": [
    "## SPHERE"
   ]
  },
  {
   "cell_type": "markdown",
   "metadata": {},
   "source": [
    "#### UMAP"
   ]
  },
  {
   "cell_type": "code",
   "execution_count": null,
   "metadata": {},
   "outputs": [],
   "source": [
    "metric = 'cosine'\n",
    "\n",
    "# Radius parameter\n",
    "d_param = d_essentiality_scores_sorted"
   ]
  },
  {
   "cell_type": "code",
   "execution_count": null,
   "metadata": {},
   "outputs": [],
   "source": [
    "%%time \n",
    "umap_sphere_adj = embed_umap_sphere(G, DM_adj, metric)\n",
    "umap_sphere_adj_withrad = get_posG_with_sphere_radius(G, umap_sphere_adj, d_param)"
   ]
  },
  {
   "cell_type": "code",
   "execution_count": null,
   "metadata": {},
   "outputs": [],
   "source": [
    "%%time \n",
    "umap_sphere_spl = embed_umap_sphere(G, DM_spl, metric)\n",
    "umap_sphere_spl_withrad = get_posG_with_sphere_radius(G, umap_sphere_spl, d_param)"
   ]
  },
  {
   "cell_type": "code",
   "execution_count": null,
   "metadata": {},
   "outputs": [],
   "source": [
    "%%time \n",
    "umap_sphere_m = embed_umap_sphere(G, DM_m, metric)\n",
    "umap_sphere_m_withrad = get_posG_with_sphere_radius(G, umap_sphere_m, d_param)"
   ]
  },
  {
   "cell_type": "code",
   "execution_count": null,
   "metadata": {},
   "outputs": [],
   "source": [
    "%%time \n",
    "umap_sphere_eucl = embed_umap_sphere(G, DM_eucl, metric)\n",
    "umap_sphere_eucl_withrad = get_posG_with_sphere_radius(G, umap_sphere_eucl, d_param)"
   ]
  },
  {
   "cell_type": "code",
   "execution_count": null,
   "metadata": {},
   "outputs": [],
   "source": [
    "%%time \n",
    "umap_sphere_trace_adj_edges = get_trace_edges(G, umap_sphere_adj_withrad, edge_color)\n",
    "umap_sphere_trace_adj_nodes = get_trace_umap_sphere(umap_sphere_adj_withrad, l_features, colours, size3d)\n",
    "umap_sphere_data_adj = [umap_sphere_trace_adj_edges, umap_sphere_trace_adj_nodes]"
   ]
  },
  {
   "cell_type": "code",
   "execution_count": null,
   "metadata": {},
   "outputs": [],
   "source": [
    "%%time\n",
    "umap_sphere_trace_spl_edges = get_trace_edges(G, umap_sphere_spl_withrad, edge_color)\n",
    "umap_sphere_trace_spl_nodes = get_trace_umap_sphere(umap_sphere_spl_withrad, l_features, colours, size3d)\n",
    "umap_sphere_data_spl = [umap_sphere_trace_spl_edges, umap_sphere_trace_spl_nodes]"
   ]
  },
  {
   "cell_type": "code",
   "execution_count": null,
   "metadata": {},
   "outputs": [],
   "source": [
    "%%time\n",
    "umap_sphere_trace_m_edges = get_trace_edges(G, umap_sphere_m_withrad, edge_color)\n",
    "umap_sphere_trace_m_nodes = get_trace_umap_sphere(umap_sphere_m_withrad, l_features, colours, size3d)\n",
    "umap_sphere_data_m = [umap_sphere_trace_m_edges, umap_sphere_trace_m_nodes]"
   ]
  },
  {
   "cell_type": "code",
   "execution_count": null,
   "metadata": {},
   "outputs": [],
   "source": [
    "%%time\n",
    "umap_sphere_trace_eucl_edges = get_trace_edges(G, umap_sphere_eucl_withrad, edge_color)\n",
    "umap_sphere_trace_eucl_nodes = get_trace_umap_sphere(umap_sphere_eucl_withrad, l_features, colours, size3d)\n",
    "umap_sphere_data_eucl = [umap_sphere_trace_eucl_edges, umap_sphere_trace_eucl_nodes]"
   ]
  },
  {
   "cell_type": "code",
   "execution_count": null,
   "metadata": {},
   "outputs": [],
   "source": [
    "print('Metric: ', metric)\n",
    "\n",
    "fig = make_subplots(rows = 1, cols = 4,\n",
    "                    specs=[4 * [{'type': 'scatter3d'}]],\n",
    "                    print_grid=False, subplot_titles=('Adjacency | UMAP Sphere | Metric: '+metric, \n",
    "                                                     'SPL | UMAP Sphere | Metric: '+metric,\n",
    "                                                     'RWR -log | UMAP Sphere | Metric: '+metric,\n",
    "                                                     'PW Euclidean | UMAP Sphere | Metric: '+metric)\n",
    "                    )\n",
    "\n",
    "    \n",
    "for i in umap_sphere_data_adj:\n",
    "    fig.add_trace(i, row = 1, col = 1)\n",
    "    \n",
    "for i in umap_sphere_data_spl:\n",
    "    fig.add_trace(i, row = 1, col = 2)\n",
    "    \n",
    "for i in umap_sphere_data_m:\n",
    "    fig.add_trace(i, row = 1, col = 3)\n",
    "\n",
    "for i in umap_sphere_data_eucl:\n",
    "    fig.add_trace(i, row = 1, col = 4)\n",
    "\n",
    "#fig.update_layout(template=None, showlegend = False, width = 2000, height = 800)\n",
    "fig.update_layout(template='plotly_dark', showlegend = False, width = 2000, height = 800,\n",
    "                 scene=dict(xaxis = dict(\n",
    "                        nticks = 0, color= 'black'),\n",
    "                           yaxis = dict(\n",
    "                        nticks = 0, color= 'black'), \n",
    "                           zaxis = dict(\n",
    "                        nticks = 0, color= 'black')))\n",
    "py.iplot(fig)\n",
    "\n",
    "plotly.offline.plot(fig, filename = 'output_plots/3Dsphere_umap_'+metric+'_'+organism+'.html', auto_open=False)"
   ]
  },
  {
   "cell_type": "markdown",
   "metadata": {},
   "source": []
  },
  {
   "cell_type": "markdown",
   "metadata": {},
   "source": []
  },
  {
   "cell_type": "code",
   "execution_count": null,
   "metadata": {},
   "outputs": [],
   "source": []
  },
  {
   "cell_type": "code",
   "execution_count": null,
   "metadata": {},
   "outputs": [],
   "source": []
  },
  {
   "cell_type": "code",
   "execution_count": null,
   "metadata": {},
   "outputs": [],
   "source": []
  },
  {
   "cell_type": "code",
   "execution_count": null,
   "metadata": {},
   "outputs": [],
   "source": []
  },
  {
   "cell_type": "code",
   "execution_count": null,
   "metadata": {},
   "outputs": [],
   "source": []
  },
  {
   "cell_type": "code",
   "execution_count": null,
   "metadata": {},
   "outputs": [],
   "source": []
  },
  {
   "cell_type": "code",
   "execution_count": null,
   "metadata": {},
   "outputs": [],
   "source": []
  },
  {
   "cell_type": "code",
   "execution_count": null,
   "metadata": {},
   "outputs": [],
   "source": []
  },
  {
   "cell_type": "code",
   "execution_count": null,
   "metadata": {},
   "outputs": [],
   "source": []
  },
  {
   "cell_type": "code",
   "execution_count": null,
   "metadata": {},
   "outputs": [],
   "source": []
  },
  {
   "cell_type": "code",
   "execution_count": null,
   "metadata": {},
   "outputs": [],
   "source": []
  },
  {
   "cell_type": "markdown",
   "metadata": {},
   "source": [
    "# -----some additional wip stuff-----"
   ]
  },
  {
   "cell_type": "markdown",
   "metadata": {},
   "source": [
    "### COLOURING SUBCATEGORIES e.g. Disease subcategory (i.e. functional property)"
   ]
  },
  {
   "cell_type": "code",
   "execution_count": null,
   "metadata": {},
   "outputs": [],
   "source": [
    "# input = dict\n",
    "\n",
    "n = len(sub_categories)\n",
    "colors = generate_colorlist_nodes(n)\n",
    "\n",
    "doid_coloured = {}\n",
    "c=0\n",
    "for k,v in sub_categories.items():\n",
    "    doid_coloured[k[1]]=colors[c]\n",
    "    c+=1\n",
    "    \n",
    "d_gene_colours = {}\n",
    "for doid, gene in d_do_genes.items(): \n",
    "    for i in gene:\n",
    "        for do, col in doid_coloured.items():\n",
    "            if doid == do:\n",
    "                d_gene_colours[i]=col\n",
    "\n",
    "# SORT dict based on G.nodes\n",
    "d_gene_colours_sorted = {key:d_gene_colours[key] for key in G.nodes()}\n",
    "\n",
    "l_col_subcat = list(d_gene_colours_sorted.values())\n",
    "\n",
    "\n",
    "# NODE COLOURING based on Subcategory\n",
    "colours = l_col_subcat \n",
    "edge_color = 'lightgrey'\n",
    "\n",
    "#sns.palplot(colours)"
   ]
  },
  {
   "cell_type": "markdown",
   "metadata": {},
   "source": [
    "### COLOURING DISEASE SCORES"
   ]
  },
  {
   "cell_type": "code",
   "execution_count": null,
   "metadata": {},
   "outputs": [],
   "source": [
    "# TO DO : MAKE FUNCTION FOR COLORING \n",
    "\n",
    "gene_list = gene_list_retisarc\n",
    "\n",
    "\n",
    "\n",
    "# COLOURS GENERATED / disease score and neighboring nodes\n",
    "\n",
    "n = len(gene_list)\n",
    "color_major = generate_colorlist_nodes(n)\n",
    " \n",
    "factor = 1.7 # the higher the lighter\n",
    "color_minor = []\n",
    "for i in color_major:\n",
    "    r,g,b = hex_to_rgb(i)\n",
    "    color_light = adjust_color_lightness(r,g,b,factor)\n",
    "    color_minor.append(color_light)\n",
    "    \n",
    "    \n",
    "# ------------------------------------------------------\n",
    "# NODES coloured \n",
    "\n",
    "# Major nodes coloured\n",
    "d_col_major = {}\n",
    "for n in d_major_score.keys():\n",
    "    for i in color_major:\n",
    "        d_col_major[n] = i\n",
    "\n",
    "d_col_minor = {}\n",
    "for node,col in d_col_major.items():\n",
    "    for node in d_col_major.keys():\n",
    "        for nd,neigh in major_neigh.items():\n",
    "            for n in neigh:\n",
    "                for i in color_minor:\n",
    "                    if node==nd and n not in d_col_major.keys():\n",
    "                        d_col_minor[n] = i\n",
    "                    \n",
    "d_col = {**d_col_major,**d_col_minor}\n",
    "\n",
    "d_grey = {}\n",
    "for i in G.nodes():\n",
    "    if i not in d_col.keys():\n",
    "        d_grey[i] = 'lightgrey'\n",
    "        \n",
    "        \n",
    "d_col_all = {**d_col_major, **d_col_minor, **d_grey}\n",
    "d_col_all_sorted = {key:d_col_all[key] for key in G.nodes()}\n",
    "\n",
    "l_col_all = list(d_col_all_sorted.values())\n",
    "\n",
    "colours = l_col_all\n",
    "\n",
    "# ------------------------------------------------------\n",
    "# EDGES coloured \n",
    "\n",
    "edge_lst = []\n",
    "for edge in G.edges():\n",
    "    for e in edge:\n",
    "        for node in d_col_major.keys():\n",
    "            if e == node:\n",
    "                edge_lst.append(edge)\n",
    "                \n",
    "d_col_edges = {}\n",
    "for e in edge_lst:\n",
    "    for node,col in d_col_major.items():\n",
    "        if e[0] == node:\n",
    "            d_col_edges[e]=col\n",
    "        elif e[1] == node:\n",
    "            d_col_edges[e]=col\n",
    "\n",
    "d_grey_edges = {}\n",
    "for edge in G.edges():\n",
    "    if edge not in d_col_edges.keys(): \n",
    "        d_grey_edges[edge] = 'lightgrey'\n",
    "        \n",
    "d_edges_all = {**d_col_edges, **d_grey_edges}\n",
    "\n",
    "# Sort according to G.edges()\n",
    "d_edges_all_sorted = {key:d_edges_all[key] for key in G.edges()}\n",
    "\n",
    "edge_color = list(d_edges_all_sorted.values())"
   ]
  },
  {
   "cell_type": "code",
   "execution_count": null,
   "metadata": {},
   "outputs": [],
   "source": []
  },
  {
   "cell_type": "code",
   "execution_count": null,
   "metadata": {},
   "outputs": [],
   "source": []
  },
  {
   "cell_type": "code",
   "execution_count": null,
   "metadata": {},
   "outputs": [],
   "source": []
  },
  {
   "cell_type": "code",
   "execution_count": null,
   "metadata": {},
   "outputs": [],
   "source": []
  },
  {
   "cell_type": "code",
   "execution_count": null,
   "metadata": {},
   "outputs": [],
   "source": []
  },
  {
   "cell_type": "code",
   "execution_count": null,
   "metadata": {},
   "outputs": [],
   "source": []
  },
  {
   "cell_type": "code",
   "execution_count": null,
   "metadata": {},
   "outputs": [],
   "source": []
  },
  {
   "cell_type": "code",
   "execution_count": null,
   "metadata": {},
   "outputs": [],
   "source": []
  },
  {
   "cell_type": "code",
   "execution_count": null,
   "metadata": {},
   "outputs": [],
   "source": [
    "'''# CHOOSE DISEASE CATEGORY \n",
    "disease_category = 'cancer'\n",
    "\n",
    "l_disease_genes = []\n",
    "for d_name in d_names_do.keys():\n",
    "    if d_name.find(disease_category) != -1:\n",
    "        #print(d_name,d_names_do[d_name])\n",
    "        try:\n",
    "            l_genes = d_do_genes[d_names_do[d_name]]\n",
    "            for gene in l_genes:\n",
    "                l_disease_genes.append(gene)\n",
    "        except:\n",
    "            #print(d_names_do[d_name],d_name)\n",
    "                pass\n",
    "set_disease_genes = set(l_disease_genes)\n",
    "print('\\nThere are %s genes found to be associated with \"%s\".' %(len(set_disease_genes),disease_category))\n",
    "\n",
    "sub_categories = {}\n",
    "for d_name in d_names_do.keys():\n",
    "    if d_name.find(disease_category) != -1:\n",
    "        try:\n",
    "            sub_categories[d_name,d_names_do[d_name]]=len(d_do_genes[d_names_do[d_name]])\n",
    "            #print('specific disease: %s (%s) ; # associated genes: %s' %(d_name,d_names_do[d_name],len(d_do_genes[d_names_do[d_name]])))\n",
    "        except:\n",
    "            pass'''"
   ]
  },
  {
   "cell_type": "code",
   "execution_count": null,
   "metadata": {},
   "outputs": [],
   "source": []
  }
 ],
 "metadata": {
  "kernelspec": {
   "display_name": "Python 3",
   "language": "python",
   "name": "python3"
  },
  "language_info": {
   "codemirror_mode": {
    "name": "ipython",
    "version": 3
   },
   "file_extension": ".py",
   "mimetype": "text/x-python",
   "name": "python",
   "nbconvert_exporter": "python",
   "pygments_lexer": "ipython3",
   "version": "3.7.4"
  }
 },
 "nbformat": 4,
 "nbformat_minor": 4
}
