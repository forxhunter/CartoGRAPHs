{
 "cells": [
  {
   "cell_type": "markdown",
   "metadata": {},
   "source": [
    "# HUMAN PPI \n",
    "\n",
    "\n",
    "### PIPELINE OVERVIEW\n",
    "+ graph with genes as nodes and edges\n",
    "+ generate a matrix from nodes based on specific parameters (features, random walk, shortest path..)\n",
    "+ multidimensional matrices > embedding with tsne into 2D or 3D \n",
    "----------\n",
    "+ Visualization typologies:\n",
    "+ 2D PORTRAIT\n",
    "+ 3D PORTRAIT\n",
    "+ 3D LANDSCAPE\n",
    "+ 3D SPHERE\n",
    "----------"
   ]
  },
  {
   "cell_type": "code",
   "execution_count": null,
   "metadata": {},
   "outputs": [],
   "source": [
    "from multidimvis_main import *"
   ]
  },
  {
   "cell_type": "code",
   "execution_count": null,
   "metadata": {},
   "outputs": [],
   "source": [
    "organism = 'Human'"
   ]
  },
  {
   "cell_type": "code",
   "execution_count": null,
   "metadata": {},
   "outputs": [],
   "source": [
    "G = nx.read_edgelist('input/ppi_elist.txt',data=False)\n",
    "# d_ent_sym, d_sym_ent = genent2sym()\n",
    "\n",
    "d_gene_do = pickle.load( open( \"input/d_gene_do.pkl\", \"rb\" ) )\n",
    "d_do_genes = pickle.load( open( \"input/d_do_genes.pkl\", \"rb\" ) )\n",
    "d_do_names = pickle.load( open( \"input/DO_names.pkl\", \"rb\" ) )\n",
    "d_names_do = {y:x for x,y in d_do_names.items()}"
   ]
  },
  {
   "cell_type": "code",
   "execution_count": null,
   "metadata": {},
   "outputs": [],
   "source": [
    "print('Number of nodes i.e. genes: %s' %len(list(G.nodes())))\n",
    "print('Number of edges: %s' %len(list(G.edges())))\n",
    "print('Network density: %.1f%%' %(200.*len(list(G.edges()))/(len(list(G.nodes()))*len(list(G.nodes()))-1)))"
   ]
  },
  {
   "cell_type": "markdown",
   "metadata": {},
   "source": [
    "_____\n",
    "# FEATURES\n",
    "_____"
   ]
  },
  {
   "cell_type": "markdown",
   "metadata": {},
   "source": [
    "### + STRUCTURAL : Graph based"
   ]
  },
  {
   "cell_type": "code",
   "execution_count": null,
   "metadata": {},
   "outputs": [],
   "source": [
    "DM_adj = pd.read_csv('output_csv/Adjacency_Dataframe_Human.csv', index_col=0)"
   ]
  },
  {
   "cell_type": "code",
   "execution_count": null,
   "metadata": {},
   "outputs": [],
   "source": [
    "DM_spl = pd.read_csv('output_csv/SPL_Dataframe_Human.csv', index_col=0)"
   ]
  },
  {
   "cell_type": "code",
   "execution_count": null,
   "metadata": {},
   "outputs": [],
   "source": [
    "DM_m = pd.read_csv('output_csv/RWR_Dataframe_Human.csv', index_col=0)"
   ]
  },
  {
   "cell_type": "markdown",
   "metadata": {},
   "source": [
    "### + STRUCTURAL : Centrality measures"
   ]
  },
  {
   "cell_type": "code",
   "execution_count": null,
   "metadata": {},
   "outputs": [],
   "source": [
    "# precalculated import\n",
    "df_centralities = pd.read_csv('output_csv/Features_centralities_Dataframe_'+organism+'.csv', index_col=0)\n",
    "\n",
    "d_deghubs = dict(zip(G.nodes(),df_centralities['degs']))\n",
    "d_clos = dict(zip(G.nodes(), df_centralities['clos']))\n",
    "d_betw = dict(zip(G.nodes(), df_centralities['betw']))\n",
    "d_eigen = dict(zip(G.nodes(), df_centralities['eigen']))\n",
    "\n",
    "d_centralities = dict(zip(list(G.nodes),zip(d_deghubs.values(),d_clos.values(),d_betw.values(),d_eigen.values())))\n",
    "l_features = []\n",
    "for i in d_centralities.items():\n",
    "    k=list(i)\n",
    "    l_features.append(k)\n",
    "    \n",
    "DM_centralities = pd.DataFrame(distance.squareform(distance.pdist(df_centralities, 'euclidean')))\n",
    "\n",
    "# DM_centralities.to_csv(r'output_csv/DistanceMatrix_centralities_Dataframe_'+organism+'.csv', index = True)\n",
    "# DM_centralities = pd.read_csv('output_csv/DistanceMatrix_centralities_Dataframe_'+organism+'.csv', index_col=0)"
   ]
  },
  {
   "cell_type": "markdown",
   "metadata": {},
   "source": [
    "### + FUNCTIONAL : Molecular Function"
   ]
  },
  {
   "cell_type": "code",
   "execution_count": null,
   "metadata": {},
   "outputs": [],
   "source": [
    "#df_MF = pd.read_csv('output_csv/Features_GO_MolFunc_Dataframe_Human.csv', index_col=0)\n",
    "#MF_array = df_MF.to_numpy()\n",
    "#DM_MF = pd.DataFrame(distance.squareform(distance.pdist(MF_array, 'euclidean')))\n",
    "#DM_MF.to_csv(r'output_csv/DistanceMatrix_goMF_Dataframe_'+organism+'.csv', index = True)\n",
    "\n",
    "DM_MF = pd.read_csv('output_csv/DistanceMatrix_goMF_Dataframe_'+organism+'.csv', index_col=0)"
   ]
  },
  {
   "cell_type": "markdown",
   "metadata": {},
   "source": [
    "### + FUNCTIONAL : Cellular Components"
   ]
  },
  {
   "cell_type": "code",
   "execution_count": null,
   "metadata": {},
   "outputs": [],
   "source": [
    "#df_CC = pd.read_csv('output_csv/Features_GO_CellComp_Dataframe_Human.csv', index_col=0)\n",
    "#CC_array = df_CC.to_numpy()\n",
    "#DM_CC = pd.DataFrame(distance.squareform(distance.pdist(CC_array, 'euclidean')))\n",
    "#DM_CC.to_csv(r'output_csv/DistanceMatrix_goCC_Dataframe_'+organism+'.csv', index = True)\n",
    "\n",
    "DM_CC = pd.read_csv('output_csv/DistanceMatrix_goCC_Dataframe_'+organism+'.csv', index_col=0)"
   ]
  },
  {
   "cell_type": "markdown",
   "metadata": {},
   "source": [
    "### + FUNCTIONAL : Biological Processes"
   ]
  },
  {
   "cell_type": "code",
   "execution_count": null,
   "metadata": {},
   "outputs": [],
   "source": [
    "#df_BP = pd.read_csv('output_csv/Features_GO_BiolProc_Dataframe_Human.csv', index_col=0)\n",
    "#BP_array = df_BP.to_numpy()\n",
    "#DM_BP = pd.DataFrame(distance.squareform(distance.pdist(BP_array, 'euclidean')))\n",
    "#DM_BP.to_csv(r'output_csv/DistanceMatrix_goBP_Dataframe_'+organism+'.csv', index = True)\n",
    "\n",
    "DM_BP = pd.read_csv('output_csv/DistanceMatrix_goBP_Dataframe_'+organism+'.csv', index_col=0)"
   ]
  },
  {
   "cell_type": "markdown",
   "metadata": {},
   "source": [
    "### + FUNCTIONAL : Disease Annotation"
   ]
  },
  {
   "cell_type": "code",
   "execution_count": null,
   "metadata": {},
   "outputs": [],
   "source": [
    "#df_DIS = pd.read_csv('output_csv/Features_Disease_Dataframe_'+organism+'.csv', index_col=0)\n",
    "#DIS_array = df_DIS.to_numpy()\n",
    "#DM_disease = pd.DataFrame(distance.squareform(distance.pdist(DIS_array, 'euclidean')))\n",
    "#DM_disease.to_csv(r'output_csv/DistanceMatrix_Disease_Dataframe_'+organism+'.csv', index = True)\n",
    "\n",
    "DM_disease = pd.read_csv('output_csv/DistanceMatrix_Disease_Dataframe_'+organism+'.csv', index_col=0)\n",
    "genes_dis = list(DM_disease.index)"
   ]
  },
  {
   "cell_type": "markdown",
   "metadata": {},
   "source": [
    "_____"
   ]
  },
  {
   "cell_type": "markdown",
   "metadata": {},
   "source": [
    "### SELECT DISTANCE MATRIX"
   ]
  },
  {
   "cell_type": "code",
   "execution_count": null,
   "metadata": {},
   "outputs": [],
   "source": [
    "# G R A P H - B A S E D \n",
    "#feature = 'aij'\n",
    "#DM = DM_adj\n",
    "\n",
    "#feature = 'spl'\n",
    "#DM = DM_spl\n",
    "\n",
    "feature = 'rwr'\n",
    "DM = DM_m\n",
    "\n",
    "# C E N T R A L I T I E S\n",
    "#feature = 'centralities'\n",
    "#DM = DM_centralities\n",
    "\n",
    "\n",
    "# D I S E A S E S \n",
    "#feature = 'disease'\n",
    "#DM = DM_disease \n",
    "\n",
    "\n",
    "# G O T E R M S (MF; BP; CC)\n",
    "#feature = 'MF'\n",
    "#DM = DM_MF\n",
    "\n",
    "#feature = 'BP'\n",
    "#DM = DM_BP\n",
    "\n",
    "#feature = 'CC'\n",
    "#DM = DM_CC"
   ]
  },
  {
   "cell_type": "markdown",
   "metadata": {},
   "source": [
    "____________\n",
    "# VISUALIZATION SETTINGS\n",
    "____________"
   ]
  },
  {
   "cell_type": "markdown",
   "metadata": {},
   "source": [
    "### NODE SIZE"
   ]
  },
  {
   "cell_type": "code",
   "execution_count": null,
   "metadata": {},
   "outputs": [],
   "source": [
    "def draw_node_degree_3D(G, l_genes, scalef):\n",
    "    x = 20\n",
    "    ring_frac = (x-1.)/x\n",
    "\n",
    "    deg = dict(G.degree())\n",
    "    \n",
    "    l_size = {}\n",
    "    for i in l_genes:\n",
    "        for k,v in deg.items():\n",
    "            if i == k:\n",
    "                R = scalef * (1+v**1.5)\n",
    "                r = ring_frac * R\n",
    "                l_size[i] = r\n",
    "    \n",
    "    return l_size"
   ]
  },
  {
   "cell_type": "code",
   "execution_count": null,
   "metadata": {},
   "outputs": [],
   "source": [
    "node_factor = 2\n",
    "size = draw_node_size(G, d_deghubs, node_factor) # 2D\n",
    "\n",
    "node_factor3d = 2\n",
    "size3d = list(draw_node_degree_3D(G, list(G.nodes()), node_factor3d).values())"
   ]
  },
  {
   "cell_type": "code",
   "execution_count": null,
   "metadata": {},
   "outputs": [],
   "source": [
    "#edge_color = 'grey'\n",
    "edge_width = 0.1\n",
    "opacity_nodes = 1\n",
    "opacity_edges = 0.9"
   ]
  },
  {
   "cell_type": "markdown",
   "metadata": {},
   "source": [
    "### COLOUR PARAMETERS"
   ]
  },
  {
   "cell_type": "markdown",
   "metadata": {},
   "source": [
    "+ DISEASE COLOURED"
   ]
  },
  {
   "cell_type": "code",
   "execution_count": null,
   "metadata": {},
   "outputs": [],
   "source": [
    "disease = 'lymphoma'\n",
    "# DOID:707 B-Cell Lymphoma (71 genes)\n",
    "# DOID:9252 amino acids metabolic disorder (130 genes)\n",
    "# DOID:14320 generalized anxiety disorder (112 genes)\n",
    "\n",
    "disease_col = 'red'\n",
    "disease_genes = get_disease_genes(G, d_names_do, d_do_genes, disease)\n",
    "\n",
    "colours = color_diseasecategory(G, d_names_do, d_do_genes, disease, disease_col)\n",
    "node_edge_col = colours"
   ]
  },
  {
   "cell_type": "code",
   "execution_count": 64,
   "metadata": {},
   "outputs": [],
   "source": [
    "def color_disease_outgoingedges(G, l_majorcolor_nodes, color):\n",
    "    \n",
    "    d_col_major = {}\n",
    "    for idx,n in enumerate(l_majorcolor_nodes):\n",
    "            d_col_major[n] = color\n",
    "\n",
    "    # Node outgoing edges\n",
    "    edge_lst = []\n",
    "    for edge in G.edges():\n",
    "        for e in edge:\n",
    "            for node in d_col_major.keys():\n",
    "                if e == node:\n",
    "                    edge_lst.append(edge)\n",
    "\n",
    "    # Color edges based on major nodes\n",
    "    d_col_edges = {}\n",
    "    for e in edge_lst:\n",
    "        for node,col in d_col_major.items():\n",
    "            if e[0] == node:\n",
    "                d_col_edges[e]=col\n",
    "            elif e[1] == node:\n",
    "                d_col_edges[e]=col\n",
    "\n",
    "    d_grey_edges = {}\n",
    "    for edge in G.edges():\n",
    "        if edge not in d_col_edges.keys(): \n",
    "            d_grey_edges[edge] = None\n",
    "\n",
    "    d_edges_all = {**d_col_edges, **d_grey_edges}\n",
    "\n",
    "    # Sort according to G.edges()\n",
    "    d_edges_all_sorted = {key:d_edges_all[key] for key in G.edges()}\n",
    "\n",
    "    edge_color = list(d_edges_all_sorted.values())\n",
    "    \n",
    "    return edge_color"
   ]
  },
  {
   "cell_type": "code",
   "execution_count": 65,
   "metadata": {},
   "outputs": [],
   "source": [
    "edge_color = color_disease_outgoingedges(G, disease_genes, disease_col)"
   ]
  },
  {
   "cell_type": "markdown",
   "metadata": {},
   "source": [
    "+ HUBS COLOURED"
   ]
  },
  {
   "cell_type": "code",
   "execution_count": null,
   "metadata": {},
   "outputs": [],
   "source": [
    "cutoff = 3 # number of considered hub nodes \n",
    "d_hub_nodes = identify_hubs(d_deghubs, d_clos, d_betw, cutoff)\n",
    "\n",
    "colours = color_majornodes(G, d_hub_nodes)\n",
    "node_edge_col = colours\n",
    "\n",
    "edge_color = color_majornodes_outgoingedges(G, d_hub_nodes)"
   ]
  },
  {
   "cell_type": "markdown",
   "metadata": {},
   "source": [
    "+ CLUSTERS COLOURED"
   ]
  },
  {
   "cell_type": "code",
   "execution_count": null,
   "metadata": {},
   "outputs": [],
   "source": []
  },
  {
   "cell_type": "code",
   "execution_count": null,
   "metadata": {},
   "outputs": [],
   "source": []
  },
  {
   "cell_type": "code",
   "execution_count": null,
   "metadata": {},
   "outputs": [],
   "source": []
  },
  {
   "cell_type": "code",
   "execution_count": null,
   "metadata": {},
   "outputs": [],
   "source": []
  },
  {
   "cell_type": "code",
   "execution_count": null,
   "metadata": {},
   "outputs": [],
   "source": []
  },
  {
   "cell_type": "markdown",
   "metadata": {},
   "source": [
    "+ CLOSENESS CENTRALITY COLOR "
   ]
  },
  {
   "cell_type": "code",
   "execution_count": null,
   "metadata": {},
   "outputs": [],
   "source": [
    "# Define colour parameter\n",
    "d_to_be_coloured = d_clos # dict sorted by dict.values (that way the biggest value matches darkest colour of palette)\n",
    "\n",
    "\n",
    "# Colouring\n",
    "colour_groups = set(d_to_be_coloured.values())\n",
    "colour_count = len(colour_groups)\n",
    "palette = sns.color_palette('Reds', colour_count)\n",
    "\n",
    "d_colourgroups = {}\n",
    "for n in colour_groups:\n",
    "    d_colourgroups[n] = [k for k in d_to_be_coloured.keys() if d_to_be_coloured[k] == n]\n",
    "    \n",
    "d_colourgroups_sorted = {key:d_colourgroups[key] for key in sorted(d_colourgroups.keys())}\n",
    "\n",
    "d_val_col = {}\n",
    "for idx,val in enumerate(d_colourgroups_sorted):\n",
    "    for ix,v in enumerate(palette):\n",
    "        if idx == ix:\n",
    "            d_val_col[val] = v\n",
    "d_node_colour = {}\n",
    "for y in d_to_be_coloured.items(): # y[0] = node id, y[1] = val\n",
    "    for x in d_val_col.items(): # x[0] = val, x[1] = (col,col,col)\n",
    "        if x[0] == y[1]:\n",
    "            d_node_colour[y[0]]=x[1]\n",
    "            \n",
    "# SORT dict based on G.nodes\n",
    "d_node_colour_sorted = dict([(key, d_node_colour[key]) for key in G.nodes()])\n",
    "\n",
    "l_col_clos = list(d_node_colour_sorted.values())\n",
    "\n",
    "colours = l_col_clos "
   ]
  },
  {
   "cell_type": "markdown",
   "metadata": {},
   "source": [
    "____________\n",
    "# 2D LAYOUTS\n",
    "____________"
   ]
  },
  {
   "cell_type": "markdown",
   "metadata": {},
   "source": [
    "## PORTRAITS"
   ]
  },
  {
   "cell_type": "markdown",
   "metadata": {},
   "source": [
    "### tSNE EMBEDDING 2D"
   ]
  },
  {
   "cell_type": "code",
   "execution_count": null,
   "metadata": {},
   "outputs": [],
   "source": [
    "prplxty = 50 # range: 5-50 / default = 30\n",
    "density = 1.2 # default 12.\n",
    "l_rate = 200 # default 200.\n",
    "steps = 250 # min 250\n",
    "metric = 'euclidean'"
   ]
  },
  {
   "cell_type": "code",
   "execution_count": null,
   "metadata": {},
   "outputs": [],
   "source": [
    "%%time \n",
    "tsne = embed_tsne_2D(DM, prplxty, density, l_rate, steps, metric)"
   ]
  },
  {
   "cell_type": "code",
   "execution_count": null,
   "metadata": {},
   "outputs": [],
   "source": [
    "%%time \n",
    "posG_disease = get_posG_2D(genes_dis, tsne)"
   ]
  },
  {
   "cell_type": "markdown",
   "metadata": {},
   "source": [
    "### work in progress: Disease annotation layout - how to plot rest nodes "
   ]
  },
  {
   "cell_type": "code",
   "execution_count": null,
   "metadata": {},
   "outputs": [],
   "source": [
    "# might be replaced by mapping rest nodes to some geometry \n",
    "\n",
    "coords_disease = list(posG_disease.values())\n",
    "\n",
    "x_max = max(coords_disease)[0]\n",
    "x_min = min(coords_disease)[0]\n",
    "y_max = max(coords_disease)[1]\n",
    "y_min = min(coords_disease)[1]\n",
    "\n",
    "rand_coords = [(np.random.uniform(x_min,x_max), np.random.uniform(y_min,y_max)) for i in range(len(genes_rest))]"
   ]
  },
  {
   "cell_type": "code",
   "execution_count": null,
   "metadata": {},
   "outputs": [],
   "source": [
    "import numpy.linalg as la\n",
    "\n",
    "t = np.linspace(0,2*np.pi,len(genes_rest))\n",
    "xc = 1*np.random.rand() #x-coordinate of center of circle \n",
    "yc = 1*np.random.rand() #y-coordinate of center of circle\n",
    "r = 6*np.random.rand() + 0.5 #radius of circle\n",
    "\n",
    "x = r*np.cos(t) + np.random.normal(scale = 1.0/7, size = len(t)) + xc  \n",
    "y = r*np.sin(t) + np.random.normal(scale = 1.0/7, size = len(t)) + yc"
   ]
  },
  {
   "cell_type": "code",
   "execution_count": null,
   "metadata": {},
   "outputs": [],
   "source": [
    "genes_rest = []\n",
    "for g in G.nodes():\n",
    "    if int(g) not in posG_disease.keys():\n",
    "        genes_rest.append(str(g))\n",
    "        \n",
    "posG_rest = {}\n",
    "for g in genes_rest:\n",
    "    for c in rand_coords:\n",
    "        posG_rest[str(g)] = c\n",
    "\n",
    "posG_all = {**posG_disease, **posG_rest}\n",
    "posG_tsne = {key:posG_all[key] for key in G.nodes()}"
   ]
  },
  {
   "cell_type": "code",
   "execution_count": null,
   "metadata": {},
   "outputs": [],
   "source": []
  },
  {
   "cell_type": "code",
   "execution_count": null,
   "metadata": {},
   "outputs": [],
   "source": []
  },
  {
   "cell_type": "markdown",
   "metadata": {},
   "source": [
    "### 2D tSNE PORTRAITS"
   ]
  },
  {
   "cell_type": "code",
   "execution_count": null,
   "metadata": {},
   "outputs": [],
   "source": [
    "plt.figure(figsize=(25,25))\n",
    "plt.title(feature+' | t-SNE | Metric: '+metric, size= 16)\n",
    "\n",
    "nx.draw_networkx_nodes(G, posG_tsne, edgecolors = node_edge_col, linewidths = 0.5, node_color=colours, node_size=size, alpha = opacity_nodes)\n",
    "nx.draw_networkx_edges(G, pos = posG_tsne, width = edge_width, edge_color = edge_color, alpha = opacity_edges)\n",
    "#nx.draw_networkx_labels(G, pos = posG, font_size = fontsize_labels, font_color = 'black')\n",
    "plt.box(False)\n",
    "\n",
    "plt.savefig('output_plots/2Dtsne_'+feature+'_'+metric+'_'+organism+'.png')\n",
    "\n",
    "plt.show()"
   ]
  },
  {
   "cell_type": "markdown",
   "metadata": {},
   "source": [
    "### UMAP EMBEDDING 2D \n",
    "+https://umap-learn.readthedocs.io/en/latest/embedding_space.html"
   ]
  },
  {
   "cell_type": "code",
   "execution_count": null,
   "metadata": {},
   "outputs": [],
   "source": [
    "n_neighbors = 10 # balance between local and global structure in the data\n",
    "spread = 2.\n",
    "min_dist = 0.5 # defines how dense points are stacked together \n",
    "n_components = 2 # for 2D\n",
    "\n",
    "U = umap.UMAP(\n",
    "        n_neighbors = n_neighbors,\n",
    "        spread = spread,\n",
    "        min_dist = min_dist,\n",
    "        n_components = n_components,\n",
    "        metric = metric)"
   ]
  },
  {
   "cell_type": "code",
   "execution_count": null,
   "metadata": {},
   "outputs": [],
   "source": [
    "%%time \n",
    "umap = U.fit_transform(DM)\n",
    "posG_umap = get_posG_2D(list(G.nodes(),umap)"
   ]
  },
  {
   "cell_type": "markdown",
   "metadata": {},
   "source": [
    "### 2D UMAP PORTRAITS"
   ]
  },
  {
   "cell_type": "code",
   "execution_count": null,
   "metadata": {},
   "outputs": [],
   "source": [
    "plt.figure(figsize=(25,25))\n",
    "plt.title('PW dist EUCLIDEAN | UMAP | Metric: '+metric, size=16)\n",
    "\n",
    "nx.draw_networkx_nodes(G, posG_umap_eucl, edgecolors = node_edge_col, linewidths = 0.5, node_color=colours, node_size=size, alpha = 1)\n",
    "nx.draw_networkx_edges(G, pos = posG_umap_eucl, width = edge_width, edge_color = edge_color, alpha = opacity_edges)\n",
    "#nx.draw_networkx_labels(G, pos = posG_umap_spl, font_size = fontsize_labels, font_color = 'black')\n",
    "plt.box(False)\n",
    "\n",
    "plt.savefig('output_plots/2Dumap_eucl_'+metric+'_'+organism+'.png')\n",
    "\n",
    "plt.show()"
   ]
  },
  {
   "cell_type": "markdown",
   "metadata": {},
   "source": [
    "## LANDSCAPES"
   ]
  },
  {
   "cell_type": "code",
   "execution_count": null,
   "metadata": {},
   "outputs": [],
   "source": [
    "#dict_z = {key:d_essentiality_scores[key] for key in G.nodes()}\n",
    "dict_z = {key:d_clos[key] for key in G.nodes()}\n",
    "\n",
    "z_list = list(dict_z.values())"
   ]
  },
  {
   "cell_type": "markdown",
   "metadata": {},
   "source": [
    "### tSNE"
   ]
  },
  {
   "cell_type": "code",
   "execution_count": null,
   "metadata": {},
   "outputs": [],
   "source": [
    "%%time\n",
    "\n",
    "tsne_x, tsne_y, tsne_z = get_coords_landscape(G, posG_tsne)\n",
    "tsne_trace_z = get_trace_nodes_landscape(tsne_x, tsne_y, z_list, colours, size3d)\n",
    "tsne_data = [tsne_trace_z] #,adj_edges]"
   ]
  },
  {
   "cell_type": "code",
   "execution_count": null,
   "metadata": {},
   "outputs": [],
   "source": [
    "print('Perplexity:', prplxty)\n",
    "print('Early Exaggeration:', density)\n",
    "print('Learning rate:', l_rate)\n",
    "print('Iterations:', steps)\n",
    "\n",
    "fig = pgo.Figure()\n",
    "for i in tsne_data:\n",
    "    fig.add_trace(i)\n",
    "\n",
    "fig.update_layout(template='plotly_dark', height = 1000, width = 2200)\n",
    "#fig.update_layout(template=None, height = 1000, width = 2200)\n",
    "\n",
    "py.iplot(fig)\n",
    "\n",
    "plotly.offline.plot(fig_1, filename = 'output_plots/Landscapes_tsne_'+feature+'_'+metric+'_'+organism+'.html', auto_open=False)"
   ]
  },
  {
   "cell_type": "markdown",
   "metadata": {},
   "source": [
    "### UMAP"
   ]
  },
  {
   "cell_type": "code",
   "execution_count": null,
   "metadata": {},
   "outputs": [],
   "source": [
    "%%time\n",
    "\n",
    "umap_x, umap_y, umap_z = get_coords_landscape(G, posG_umap_adj)\n",
    "umap_trace_z = get_trace_nodes_landscape(umap_x, umap_y, z_list, colours, size3d)\n",
    "umap_data = [umap_trace_z]"
   ]
  },
  {
   "cell_type": "code",
   "execution_count": null,
   "metadata": {},
   "outputs": [],
   "source": [
    "print('# Neighbors: ', n_neighbors)\n",
    "print('Spread: ', spread)\n",
    "print('Min. Distance: ', min_dist)\n",
    "print('Metric: ', metric)\n",
    "\n",
    "\n",
    "fig = pgo.Figure()\n",
    "for i in umap_data:\n",
    "    fig.add_trace(i)\n",
    "\n",
    "fig.update_layout(template='plotly_dark', height = 1000, width = 2200)\n",
    "#fig.update_layout(template=None, height = 1000, width = 2200)\n",
    "\n",
    "py.iplot(fig)\n",
    "\n",
    "plotly.offline.plot(fig_1, filename = 'output_plots/Landscapes_umap_'+feature+'_'+metric+'_'+organism+'.html', auto_open=False)"
   ]
  },
  {
   "cell_type": "markdown",
   "metadata": {},
   "source": [
    "### LANDSCAPE | EXPORT Coordinates x,y,z,rgba"
   ]
  },
  {
   "cell_type": "code",
   "execution_count": null,
   "metadata": {},
   "outputs": [],
   "source": [
    "colours_r = []\n",
    "colours_g = []\n",
    "colours_b = []\n",
    "colours_a = []\n",
    "for i in colours:\n",
    "    colours_r.append(i[0])\n",
    "    colours_g.append(i[1])\n",
    "    colours_b.append(i[2])\n",
    "    colours_a.append(0.9)"
   ]
  },
  {
   "cell_type": "code",
   "execution_count": null,
   "metadata": {},
   "outputs": [],
   "source": [
    "df_xyz_landscape_tsne = pd.DataFrame(posG_tsne, index=[\"x\",\"y\"]).T\n",
    "df_xyz_landscape_tsne[\"z\"] = z_list\n",
    "\n",
    "df_xyz_landscape_tsne['r'] = colours_r\n",
    "df_xyz_landscape_tsne['g'] = colours_g\n",
    "df_xyz_landscape_tsne['b'] = colours_b\n",
    "df_xyz_landscape_tsne['a'] = colours_a\n",
    "\n",
    "df_xyz_landscape_tsne.to_csv(r'output_csv/landscape_tsne_XYZ_RGBA_'+feature+_'+organism+'.csv', index = True)"
   ]
  },
  {
   "cell_type": "code",
   "execution_count": null,
   "metadata": {},
   "outputs": [],
   "source": [
    "df_xyz_landscape_umap = pd.DataFrame(posG_umap, index=[\"x\",\"y\"]).T\n",
    "df_xyz_landscape_umap[\"z\"] = z_list\n",
    "\n",
    "df_xyz_landscape_umap['r'] = colours_r\n",
    "df_xyz_landscape_umap['g'] = colours_g\n",
    "df_xyz_landscape_umap['b'] = colours_b\n",
    "df_xyz_landscape_umap['a'] = colours_a\n",
    "\n",
    "df_xyz_landscape_umap.to_csv(r'output_csv/landscape_umap_XYZ_RGBA_'+feature+_'+organism+'.csv', index = True)"
   ]
  },
  {
   "cell_type": "markdown",
   "metadata": {},
   "source": [
    "____________\n",
    "# 3D LAYOUTS\n",
    "____________\n"
   ]
  },
  {
   "cell_type": "markdown",
   "metadata": {},
   "source": [
    "## PORTRAITS"
   ]
  },
  {
   "cell_type": "code",
   "execution_count": 67,
   "metadata": {},
   "outputs": [],
   "source": [
    "prplxty3d = 50 # range: 5-50 / default = 30.#\n",
    "density3d = 1.2 # default 12.\n",
    "l_rate3d = 200 # default 200.\n",
    "steps3d = 250 #min 250\n",
    "\n",
    "metric = 'euclidean'\n",
    "#metric = 'correlation'\n",
    "#metric = 'cosine'"
   ]
  },
  {
   "cell_type": "markdown",
   "metadata": {},
   "source": [
    "#### tSNE"
   ]
  },
  {
   "cell_type": "code",
   "execution_count": null,
   "metadata": {},
   "outputs": [],
   "source": [
    "'''%%time\n",
    "tsne = embed_tsne_3D(DM, prplxty3d, density3d, l_rate3d, steps3d, metric)\n",
    "posG3d = get_posG_3D(G, tsne)\n",
    "\n",
    "# EXPORT as dataframe \n",
    "df_3Dportrait_tsne = pd.DataFrame(posG3d).T\n",
    "df_3Dportrait_tsne.columns = ['X','Y','Z']\n",
    "df_3Dportrait_tsne.to_csv(r'output_csv/3DPortrait_tsne_'+feature+'_Human_lrate_'+str(l_rate3d)+'steps_'+str(steps3d)+'_'+metric+'.csv', index = True)'''"
   ]
  },
  {
   "cell_type": "code",
   "execution_count": 68,
   "metadata": {},
   "outputs": [],
   "source": [
    "# IMPORT embedded MARKOV Matrix \n",
    "\n",
    "df_tsne_posG3d = pd.read_csv('output_csv/3DPortrait_tsne_'+feature+'_Human_'+'lrate_'+str(l_rate3d)+'steps_'+str(steps3d)+'_'+metric+'.csv', index_col=0)\n",
    "X_tsne = list(df_tsne_posG3d['X'])\n",
    "Y_tsne = list(df_tsne_posG3d['Y'])\n",
    "Z_tsne = list(df_tsne_posG3d['Z'])\n",
    "\n",
    "tsne_posG3d = dict(zip(list(G.nodes()),zip(X_tsne ,Y_tsne ,Z_tsne)))"
   ]
  },
  {
   "cell_type": "code",
   "execution_count": 70,
   "metadata": {},
   "outputs": [],
   "source": [
    "def get_trace_edges_(G, posG, color_list):\n",
    "    edge_x = []\n",
    "    edge_y = []\n",
    "    edge_z = []\n",
    "    for edge in G.edges():\n",
    "        for i in color_list:\n",
    "            if i != None: \n",
    "                x0, y0, z0 = posG[edge[0]]\n",
    "                x1, y1, z1 = posG[edge[1]]\n",
    "                edge_x.append(x0)\n",
    "                edge_x.append(x1)\n",
    "                edge_x.append(None)\n",
    "                edge_y.append(y0)\n",
    "                edge_y.append(y1)\n",
    "                edge_y.append(None)\n",
    "                edge_z.append(z0)\n",
    "                edge_z.append(z1)\n",
    "                edge_z.append(None)\n",
    "    \n",
    "    trace_edges = pgo.Scatter3d(\n",
    "                        x = edge_x, \n",
    "                        y = edge_y, \n",
    "                        z = edge_z,\n",
    "                        mode = 'lines', hoverinfo='none',\n",
    "                        line = dict(width = 0.5, color = color_list),\n",
    "                        opacity = 0.3\n",
    "                )\n",
    "    \n",
    "    return trace_edges"
   ]
  },
  {
   "cell_type": "code",
   "execution_count": null,
   "metadata": {},
   "outputs": [],
   "source": [
    "%%time\n",
    "\n",
    "tsne_edges = get_trace_edges_(G, tsne_posG3d, edge_color) \n",
    "tsne_nodes = get_trace_nodes(G, tsne_posG3d, l_features, colours, size3d)\n",
    "\n",
    "#tsne_data = [tsne_edges, tsne_nodes]\n",
    "tsne_data = [tsne_nodes]"
   ]
  },
  {
   "cell_type": "code",
   "execution_count": null,
   "metadata": {},
   "outputs": [],
   "source": [
    "tsne_data = [tsne_edges, tsne_nodes]"
   ]
  },
  {
   "cell_type": "code",
   "execution_count": null,
   "metadata": {},
   "outputs": [],
   "source": [
    "annotation_text = 'diseases'"
   ]
  },
  {
   "cell_type": "code",
   "execution_count": null,
   "metadata": {},
   "outputs": [],
   "source": [
    "print('Perplexity:', prplxty3d)\n",
    "print('Early Exaggeration:', density3d)\n",
    "print('Learning rate:', l_rate3d)\n",
    "print('Iterations:', steps3d)\n",
    "\n",
    "fig = pgo.Figure()\n",
    "for i in tsne_data:\n",
    "    fig.add_trace(i)\n",
    "fig.update_layout(template='plotly_dark', showlegend=False, width=2000, height=2000,\n",
    "                  scene=dict(\n",
    "                    aspectratio=dict(\n",
    "                        x=1,\n",
    "                        y=1,\n",
    "                        z=1\n",
    "                    ),\n",
    "                    camera=dict(\n",
    "                        center=dict(\n",
    "                            x=0,\n",
    "                            y=0,\n",
    "                            z=0\n",
    "                        ),\n",
    "                        eye=dict(\n",
    "                            x=1.96903462608,\n",
    "                            y=-1.09022831971,\n",
    "                            z=0.405345349304\n",
    "                        ),\n",
    "                        up=dict(\n",
    "                            x=0,\n",
    "                            y=0,\n",
    "                            z=1\n",
    "                        )\n",
    "                    ),\n",
    "                    dragmode=\"turntable\",\n",
    "                    annotations=[dict(\n",
    "                        showarrow=True,\n",
    "                        x=0,\n",
    "                        y=-10,\n",
    "                        z=10,\n",
    "                        text=feature,\n",
    "                        xanchor=\"right\",\n",
    "                        ay=-100,\n",
    "                        ax=-100,\n",
    "                        opacity=0.8,\n",
    "                        arrowhead=0,\n",
    "                        arrowwidth=0.5,\n",
    "                        arrowcolor=\"white\",\n",
    "                    )]\n",
    "                ))\n",
    "py.iplot(fig)\n",
    "\n",
    "plotly.offline.plot(fig, filename = 'output_plots/3Dportrait_tsne_'+feature+'_'+metric+'_'+organism+'.html', auto_open=False)"
   ]
  },
  {
   "cell_type": "markdown",
   "metadata": {},
   "source": [
    "#### UMAP"
   ]
  },
  {
   "cell_type": "code",
   "execution_count": null,
   "metadata": {},
   "outputs": [],
   "source": [
    "n_neighbors = 10 # balance between local and global structure in the data\n",
    "spread = 1.\n",
    "min_dist = 0.1 # defines how dense points are stacked together \n",
    "metric='euclidean'"
   ]
  },
  {
   "cell_type": "code",
   "execution_count": null,
   "metadata": {},
   "outputs": [],
   "source": [
    "%%time \n",
    "umap_posG3d = embed_umap_3D(G, DM, n_neighbors, spread, min_dist, metric)"
   ]
  },
  {
   "cell_type": "code",
   "execution_count": null,
   "metadata": {},
   "outputs": [],
   "source": [
    "%%time \n",
    "#umap_edges = get_trace_edges(G, umap_posG3d_adj, edge_color) \n",
    "umap_nodes = get_trace_nodes(G, umap_posG3d_adj,  l_features, colours, size3d)\n",
    "\n",
    "#umap_data = [umap_adj_edges, umap_adj_nodes]\n",
    "umap_data = [umap_nodes]"
   ]
  },
  {
   "cell_type": "code",
   "execution_count": null,
   "metadata": {},
   "outputs": [],
   "source": [
    "print('Perplexity:', prplxty3d)\n",
    "print('Early Exaggeration:', density3d)\n",
    "print('Learning rate:', l_rate3d)\n",
    "print('Iterations:', steps3d)\n",
    "\n",
    "\n",
    "fig = pgo.Figure()\n",
    "for i in umap_data:\n",
    "    fig.add_trace(i)\n",
    "fig.update_layout(template='plotly_dark', showlegend=False, width=2000, height=2000)\n",
    "py.iplot(fig)\n",
    "\n",
    "plotly.offline.plot(fig, filename = 'output_plots/3Dportrait_umap_'+feature+'_'+metric+'_'+organism+'.html', auto_open=False)"
   ]
  },
  {
   "cell_type": "markdown",
   "metadata": {},
   "source": [
    "#### UMAP PORTRAIT EXPORT Coordinates"
   ]
  },
  {
   "cell_type": "code",
   "execution_count": null,
   "metadata": {},
   "outputs": [],
   "source": [
    "# EXPORT as dataframe\n",
    "\n",
    "df_3Dportrait_umap = pd.DataFrame(umap_posG3d).T\n",
    "df_3Dportrait_umap.to_csv(r'output_csv/3DPortrait_umap_'+feature+'_'+organism+'_'+'lrate_'+l_rate3d+'steps_'+steps3d+'_'+metric+'.csv', index = True)"
   ]
  },
  {
   "cell_type": "code",
   "execution_count": null,
   "metadata": {},
   "outputs": [],
   "source": [
    "# IMPORT and convert df to dict \n",
    "df_umap_posG3d = pd.read_csv('output_csv/3DPortrait_umap_'+feature+'_'+organism+'_'+'lrate_'+l_rate3d+'steps_'+steps3d+'_'+metric+'.csv', index_col=0)\n",
    "X_umap = list(df_umap_posG3d['0'])\n",
    "Y_umap = list(df_umap_posG3d['1'])\n",
    "Z_umap = list(df_umap_posG3d['2'])\n",
    "\n",
    "umap_posG3d = dict(zip(list(G.nodes()),zip(X_umap,Y_umap,Z_umap)))"
   ]
  },
  {
   "cell_type": "markdown",
   "metadata": {},
   "source": [
    "## SPHERE"
   ]
  },
  {
   "cell_type": "markdown",
   "metadata": {},
   "source": [
    "#### UMAP"
   ]
  },
  {
   "cell_type": "code",
   "execution_count": null,
   "metadata": {},
   "outputs": [],
   "source": [
    "metric = 'cosine'\n",
    "\n",
    "# Radius parameter\n",
    "d_param = d_essentiality_scores_sorted"
   ]
  },
  {
   "cell_type": "code",
   "execution_count": null,
   "metadata": {},
   "outputs": [],
   "source": [
    "%%time \n",
    "umap_sphere = embed_umap_sphere(G, DM, metric)\n",
    "umap_sphere_withrad = get_posG_with_sphere_radius(G, umap_sphere, d_param)"
   ]
  },
  {
   "cell_type": "code",
   "execution_count": null,
   "metadata": {},
   "outputs": [],
   "source": [
    "%%time\n",
    "umap_sphere_trace_edges = get_trace_edges(G, umap_sphere_withrad, edge_color)\n",
    "umap_sphere_trace_nodes = get_trace_umap_sphere(umap_sphere_withrad, l_features, colours, size3d)\n",
    "umap_sphere_data = [umap_sphere_trace_edges, umap_sphere_trace_nodes]"
   ]
  },
  {
   "cell_type": "code",
   "execution_count": null,
   "metadata": {},
   "outputs": [],
   "source": [
    "print('Metric:', metric)\n",
    "\n",
    "fig = pgo.Figure()\n",
    "for i in umap_sphere_data:\n",
    "    fig.add_trace(i)\n",
    "fig.update_layout(template='plotly_dark', showlegend=False, width=2000, height=2000)\n",
    "py.iplot(fig)\n",
    "\n",
    "plotly.offline.plot(fig, filename = 'output_plots/3Dsphere_umap_'+feature+'_'+metric+'_'+organism+'.html', auto_open=False)"
   ]
  },
  {
   "cell_type": "markdown",
   "metadata": {},
   "source": []
  },
  {
   "cell_type": "markdown",
   "metadata": {},
   "source": []
  },
  {
   "cell_type": "code",
   "execution_count": null,
   "metadata": {},
   "outputs": [],
   "source": []
  },
  {
   "cell_type": "code",
   "execution_count": null,
   "metadata": {},
   "outputs": [],
   "source": []
  },
  {
   "cell_type": "code",
   "execution_count": null,
   "metadata": {},
   "outputs": [],
   "source": []
  },
  {
   "cell_type": "code",
   "execution_count": null,
   "metadata": {},
   "outputs": [],
   "source": []
  },
  {
   "cell_type": "code",
   "execution_count": null,
   "metadata": {},
   "outputs": [],
   "source": []
  },
  {
   "cell_type": "code",
   "execution_count": null,
   "metadata": {},
   "outputs": [],
   "source": []
  },
  {
   "cell_type": "code",
   "execution_count": null,
   "metadata": {},
   "outputs": [],
   "source": []
  },
  {
   "cell_type": "code",
   "execution_count": null,
   "metadata": {},
   "outputs": [],
   "source": []
  },
  {
   "cell_type": "code",
   "execution_count": null,
   "metadata": {},
   "outputs": [],
   "source": []
  },
  {
   "cell_type": "code",
   "execution_count": null,
   "metadata": {},
   "outputs": [],
   "source": []
  },
  {
   "cell_type": "code",
   "execution_count": null,
   "metadata": {},
   "outputs": [],
   "source": []
  },
  {
   "cell_type": "markdown",
   "metadata": {},
   "source": [
    "# -----some additional wip stuff-----"
   ]
  },
  {
   "cell_type": "markdown",
   "metadata": {},
   "source": [
    "### COLOURING SUBCATEGORIES e.g. Disease subcategory (i.e. functional property)"
   ]
  },
  {
   "cell_type": "code",
   "execution_count": null,
   "metadata": {},
   "outputs": [],
   "source": [
    "# input = dict\n",
    "\n",
    "n = len(sub_categories)\n",
    "colors = generate_colorlist_nodes(n)\n",
    "\n",
    "doid_coloured = {}\n",
    "c=0\n",
    "for k,v in sub_categories.items():\n",
    "    doid_coloured[k[1]]=colors[c]\n",
    "    c+=1\n",
    "    \n",
    "d_gene_colours = {}\n",
    "for doid, gene in d_do_genes.items(): \n",
    "    for i in gene:\n",
    "        for do, col in doid_coloured.items():\n",
    "            if doid == do:\n",
    "                d_gene_colours[i]=col\n",
    "\n",
    "# SORT dict based on G.nodes\n",
    "d_gene_colours_sorted = {key:d_gene_colours[key] for key in G.nodes()}\n",
    "\n",
    "l_col_subcat = list(d_gene_colours_sorted.values())\n",
    "\n",
    "\n",
    "# NODE COLOURING based on Subcategory\n",
    "colours = l_col_subcat \n",
    "edge_color = 'lightgrey'\n",
    "\n",
    "#sns.palplot(colours)"
   ]
  },
  {
   "cell_type": "markdown",
   "metadata": {},
   "source": [
    "### COLOURING DISEASE SCORES"
   ]
  },
  {
   "cell_type": "code",
   "execution_count": null,
   "metadata": {},
   "outputs": [],
   "source": [
    "# TO DO : MAKE FUNCTION FOR COLORING \n",
    "\n",
    "gene_list = gene_list_retisarc\n",
    "\n",
    "\n",
    "\n",
    "# COLOURS GENERATED / disease score and neighboring nodes\n",
    "\n",
    "n = len(gene_list)\n",
    "color_major = generate_colorlist_nodes(n)\n",
    " \n",
    "factor = 1.7 # the higher the lighter\n",
    "color_minor = []\n",
    "for i in color_major:\n",
    "    r,g,b = hex_to_rgb(i)\n",
    "    color_light = adjust_color_lightness(r,g,b,factor)\n",
    "    color_minor.append(color_light)\n",
    "    \n",
    "    \n",
    "# ------------------------------------------------------\n",
    "# NODES coloured \n",
    "\n",
    "# Major nodes coloured\n",
    "d_col_major = {}\n",
    "for n in d_major_score.keys():\n",
    "    for i in color_major:\n",
    "        d_col_major[n] = i\n",
    "\n",
    "d_col_minor = {}\n",
    "for node,col in d_col_major.items():\n",
    "    for node in d_col_major.keys():\n",
    "        for nd,neigh in major_neigh.items():\n",
    "            for n in neigh:\n",
    "                for i in color_minor:\n",
    "                    if node==nd and n not in d_col_major.keys():\n",
    "                        d_col_minor[n] = i\n",
    "                    \n",
    "d_col = {**d_col_major,**d_col_minor}\n",
    "\n",
    "d_grey = {}\n",
    "for i in G.nodes():\n",
    "    if i not in d_col.keys():\n",
    "        d_grey[i] = 'lightgrey'\n",
    "        \n",
    "        \n",
    "d_col_all = {**d_col_major, **d_col_minor, **d_grey}\n",
    "d_col_all_sorted = {key:d_col_all[key] for key in G.nodes()}\n",
    "\n",
    "l_col_all = list(d_col_all_sorted.values())\n",
    "\n",
    "colours = l_col_all\n",
    "\n",
    "# ------------------------------------------------------\n",
    "# EDGES coloured \n",
    "\n",
    "edge_lst = []\n",
    "for edge in G.edges():\n",
    "    for e in edge:\n",
    "        for node in d_col_major.keys():\n",
    "            if e == node:\n",
    "                edge_lst.append(edge)\n",
    "                \n",
    "d_col_edges = {}\n",
    "for e in edge_lst:\n",
    "    for node,col in d_col_major.items():\n",
    "        if e[0] == node:\n",
    "            d_col_edges[e]=col\n",
    "        elif e[1] == node:\n",
    "            d_col_edges[e]=col\n",
    "\n",
    "d_grey_edges = {}\n",
    "for edge in G.edges():\n",
    "    if edge not in d_col_edges.keys(): \n",
    "        d_grey_edges[edge] = 'lightgrey'\n",
    "        \n",
    "d_edges_all = {**d_col_edges, **d_grey_edges}\n",
    "\n",
    "# Sort according to G.edges()\n",
    "d_edges_all_sorted = {key:d_edges_all[key] for key in G.edges()}\n",
    "\n",
    "edge_color = list(d_edges_all_sorted.values())"
   ]
  },
  {
   "cell_type": "code",
   "execution_count": null,
   "metadata": {},
   "outputs": [],
   "source": []
  },
  {
   "cell_type": "code",
   "execution_count": null,
   "metadata": {},
   "outputs": [],
   "source": []
  },
  {
   "cell_type": "code",
   "execution_count": null,
   "metadata": {},
   "outputs": [],
   "source": []
  },
  {
   "cell_type": "code",
   "execution_count": null,
   "metadata": {},
   "outputs": [],
   "source": []
  },
  {
   "cell_type": "code",
   "execution_count": null,
   "metadata": {},
   "outputs": [],
   "source": []
  },
  {
   "cell_type": "code",
   "execution_count": null,
   "metadata": {},
   "outputs": [],
   "source": []
  },
  {
   "cell_type": "code",
   "execution_count": null,
   "metadata": {},
   "outputs": [],
   "source": []
  },
  {
   "cell_type": "code",
   "execution_count": null,
   "metadata": {},
   "outputs": [],
   "source": []
  },
  {
   "cell_type": "code",
   "execution_count": null,
   "metadata": {},
   "outputs": [],
   "source": [
    "'''# CHOOSE DISEASE CATEGORY \n",
    "disease_category = 'cancer'\n",
    "\n",
    "l_disease_genes = []\n",
    "for d_name in d_names_do.keys():\n",
    "    if d_name.find(disease_category) != -1:\n",
    "        #print(d_name,d_names_do[d_name])\n",
    "        try:\n",
    "            l_genes = d_do_genes[d_names_do[d_name]]\n",
    "            for gene in l_genes:\n",
    "                l_disease_genes.append(gene)\n",
    "        except:\n",
    "            #print(d_names_do[d_name],d_name)\n",
    "                pass\n",
    "set_disease_genes = set(l_disease_genes)\n",
    "print('\\nThere are %s genes found to be associated with \"%s\".' %(len(set_disease_genes),disease_category))\n",
    "\n",
    "sub_categories = {}\n",
    "for d_name in d_names_do.keys():\n",
    "    if d_name.find(disease_category) != -1:\n",
    "        try:\n",
    "            sub_categories[d_name,d_names_do[d_name]]=len(d_do_genes[d_names_do[d_name]])\n",
    "            #print('specific disease: %s (%s) ; # associated genes: %s' %(d_name,d_names_do[d_name],len(d_do_genes[d_names_do[d_name]])))\n",
    "        except:\n",
    "            pass'''"
   ]
  },
  {
   "cell_type": "code",
   "execution_count": null,
   "metadata": {},
   "outputs": [],
   "source": []
  }
 ],
 "metadata": {
  "kernelspec": {
   "display_name": "Python 3",
   "language": "python",
   "name": "python3"
  },
  "language_info": {
   "codemirror_mode": {
    "name": "ipython",
    "version": 3
   },
   "file_extension": ".py",
   "mimetype": "text/x-python",
   "name": "python",
   "nbconvert_exporter": "python",
   "pygments_lexer": "ipython3",
   "version": "3.7.4"
  }
 },
 "nbformat": 4,
 "nbformat_minor": 4
}
