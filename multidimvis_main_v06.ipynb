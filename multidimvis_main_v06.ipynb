{
 "cells": [
  {
   "cell_type": "markdown",
   "metadata": {},
   "source": [
    "### PIPELINE OVERVIEW\n",
    "\n",
    "----------\n",
    "+ Visualization typologies:\n",
    "+ 2D PORTRAIT\n",
    "+ 3D PORTRAIT\n",
    "+ 3D LANDSCAPE\n",
    "+ 3D SPHERE\n",
    "----------"
   ]
  },
  {
   "cell_type": "code",
   "execution_count": 2,
   "metadata": {},
   "outputs": [],
   "source": [
    "from multidimvis_main import *"
   ]
  },
  {
   "cell_type": "markdown",
   "metadata": {},
   "source": [
    "_____\n",
    "# 1 | SELECT ONE NETWORK GRAPH\n",
    "_____"
   ]
  },
  {
   "cell_type": "code",
   "execution_count": 2,
   "metadata": {},
   "outputs": [],
   "source": [
    "################################################\n",
    "#\n",
    "# Y E A S T \n",
    "#\n",
    "################################################\n",
    "\n",
    "organism = 'Yeast'\n",
    "\n",
    "data = pickle.load( open( \"input/BIOGRID-ORGANISM-Saccharomyces_cerevisiae_S288c-3.5.185.mitab.pickle\", \"rb\" ) )\n",
    "\n",
    "filter_score = data[\n",
    "                    #(data['Interaction Types'] == 'psi-mi:\"MI:0915\"(physical association)') +\n",
    "                    (data['Interaction Types'] == 'psi-mi:\"MI:0407\"(direct interaction)') \n",
    "                    #&\n",
    "                    #(data['Taxid Interactor A'] == \"taxid:559292\") & \n",
    "                    #(data['Taxid Interactor B'] == \"taxid:559292\") \n",
    "]\n",
    "\n",
    "g = nx.from_pandas_edgelist(filter_score, '#ID Interactor A', 'ID Interactor B')\n",
    "g.remove_edges_from(nx.selfloop_edges(g)) #remove self loop\n",
    "\n",
    "G_cere = g.subgraph(max(nx.connected_components(g), key=len)) # largest connected component (lcc)\n",
    "G = G_cere\n",
    "\n",
    "posG_entrez = []\n",
    "for k in G.nodes():\n",
    "    posG_entrez.append(k[22:])\n",
    "    \n",
    "df_gID_sym = pd.read_csv('input/Yeast_geneID_sym.csv', index_col=0)\n",
    "gene_sym = list(df_gID_sym['Sym'])\n",
    "gene_id = list(df_gID_sym.index)\n",
    "g_ID_sym = dict(list(zip(gene_id, gene_sym)))\n",
    "#len(g_ID_sym)\n",
    "    \n",
    "l_features = []\n",
    "for i in g_ID_sym.values():\n",
    "    l_features.append(i)\n",
    "    \n",
    "# ESSENTIALITY \n",
    "\n",
    "cere_gene =pd.read_csv(\"input/Saccharomyces cerevisiae.csv\",\n",
    "           delimiter= ',',\n",
    "           skipinitialspace=True)\n",
    " \n",
    "cere_sym = list(cere_gene['symbols'])\n",
    "cere_ess = list(cere_gene['essentiality status'])\n",
    "cere_sym_essentiality = dict(zip(cere_sym, cere_ess))\n",
    "\n",
    "d_cere_ess = {}\n",
    "d_cere_noess = {}\n",
    "d_cere_unknown = {}\n",
    "\n",
    "for node,es in cere_sym_essentiality.items():\n",
    "    if es == 'E':\n",
    "        d_cere_ess[node]=es\n",
    "    elif es == 'NE':\n",
    "        d_cere_noess[node]=es\n",
    "        \n",
    "d_cere_alless = {}\n",
    "for nid, sym in g_ID_sym.items():\n",
    "    for sy,ess in cere_sym_essentiality.items():\n",
    "        if sym == sy:\n",
    "            d_cere_alless[nid] = ess\n",
    "            \n",
    "d_cere_unknown = {} \n",
    "for g in G.nodes():\n",
    "    if g not in d_cere_alless.keys():\n",
    "        d_cere_unknown[g]='status unkonwn'\n",
    "    \n",
    "d_geneID_ess = {**d_cere_unknown, **d_cere_alless}\n",
    "\n",
    "d_gID_ess = {}\n",
    "d_gID_noess = {}\n",
    "d_gID_notdef = {}\n",
    "\n",
    "for k,i in d_geneID_ess.items():\n",
    "    if i == 'E':\n",
    "        d_gID_ess[k] = i\n",
    "    elif i == 'NE':\n",
    "        d_gID_noess[k] = e\n",
    "    else: \n",
    "        d_gID_notdef[k] = 'not defined'\n",
    "\n",
    "d_gID_all_unsorted = {**d_gID_ess, **d_gID_noess, **d_gID_notdef}\n",
    "d_gID_all = {key:d_gID_all_unsorted[key] for key in G.nodes()}\n",
    "\n",
    "essential_genes = []\n",
    "non_ess_genes = []\n",
    "notdefined_genes = [] \n",
    "for k,v in d_gID_all.items():\n",
    "    if v == 'E':\n",
    "        essential_genes.append(k)\n",
    "    elif v == 'NE':\n",
    "        non_ess_genes.append(k)\n",
    "    else:\n",
    "        notdefined_genes.append(k)\n",
    "        \n",
    "# Centrality features \n",
    "df_centralities = pd.read_csv('_output_csv/Features_centralities_Dataframe_'+organism+'.csv', index_col=0)\n",
    "\n",
    "d_deghubs = dict(zip(G.nodes(), df_centralities['degs']))\n",
    "d_clos = dict(zip(G.nodes(), df_centralities['clos']))\n",
    "d_betw = dict(zip(G.nodes(), df_centralities['betw']))\n",
    "d_eigen = dict(zip(G.nodes(), df_centralities['eigen']))\n",
    "\n",
    "d_centralities = dict(zip(list(G.nodes),zip(d_deghubs.values(),d_clos.values(),d_betw.values(),d_eigen.values())))\n",
    "\n",
    "cent_features = []\n",
    "for i in d_centralities.items():\n",
    "    k=list(i)\n",
    "    cent_features.append(k)"
   ]
  },
  {
   "cell_type": "code",
   "execution_count": 334,
   "metadata": {},
   "outputs": [],
   "source": [
    "################################################\n",
    "#\n",
    "# H U M A N \n",
    "#\n",
    "################################################\n",
    "\n",
    "organism = 'Human'\n",
    "\n",
    "G = nx.read_edgelist('input/ppi_elist.txt',data=False)\n",
    "# d_ent_sym, d_sym_ent = genent2sym()\n",
    "\n",
    "d_gene_do = pickle.load( open( \"input/d_gene_do.pkl\", \"rb\" ) )\n",
    "d_do_genes = pickle.load( open( \"input/d_do_genes.pkl\", \"rb\" ) )\n",
    "d_do_names = pickle.load( open( \"input/DO_names.pkl\", \"rb\" ) )\n",
    "d_names_do = {y:x for x,y in d_do_names.items()}\n",
    "    \n",
    "# Gene Symbols \n",
    "df_gene_sym = pd.read_csv('_output_csv/DF_gene_symbol_Human.csv', index_col=0)\n",
    "sym = list(df_gene_sym['0'])\n",
    "l_features = []\n",
    "for i in sym:\n",
    "    l_features.append(i[2:-2])\n",
    "d_gene_sym = dict(zip(G.nodes(),l_features))\n",
    "\n",
    "\n",
    "# ESSENTIALITY \n",
    "# get dataframe with ENSG-ID and essentiality state \n",
    "df_human_ess = pd.read_table('input/human_essentiality.txt', delim_whitespace=True)\n",
    "\n",
    "# create dict with ENSG-ID:essentiality state \n",
    "ensg_id = list(set(df_human_ess['sciName']))\n",
    "gene_ess = list(df_human_ess['locus'])\n",
    "d_ensg_ess = dict(zip(ensg_id, gene_ess))\n",
    " \n",
    "# match ENSG-ID with entrezID\n",
    "# \"engs_to_entrezid\": entrezIDs were matched with \"ensg_id.txt\" via \"DAVID Database\" (https://david.ncifcrf.gov/conversion.jsp)\n",
    "df_human_ensg_entrez = pd.read_table('input/ensg_to_entrezid.txt')# delim_whitespace=False)\n",
    "df_human_ensg_entrez.dropna()\n",
    "\n",
    "df = df_human_ensg_entrez\n",
    "df['To'] = df['To'].fillna(0)\n",
    "df['To'] = df['To'].astype(int)\n",
    "df_human_ensg_entrez = df\n",
    "\n",
    "# create dict with ENGS-ID: entrezID\n",
    "ensgid = list(df_human_ensg_entrez['From']) #engs ID\n",
    "entrezid = list(df_human_ensg_entrez['To']) #entrez ID \n",
    "\n",
    "# dict with engsid : entrezid\n",
    "d_ensg_entrez = dict(zip(ensgid, entrezid))\n",
    "\n",
    "# create dict with entrezID:essentiality state \n",
    "d_id_ess_unsorted = {}\n",
    "for ens,ent in d_ensg_entrez.items():\n",
    "    for en, ess in d_ensg_ess.items():\n",
    "        if ens == en:\n",
    "            d_id_ess_unsorted[str(ent)] = ess\n",
    "            \n",
    "            \n",
    "# check if G.nodes match entrezID in dict and sort according to G.nodes \n",
    "d_gid_ess = {}\n",
    "for k,v in d_id_ess_unsorted.items():\n",
    "    if k in G.nodes():\n",
    "        d_gid_ess[k]=v\n",
    "        \n",
    "# create dict with rest of G.nodes not in dict (entrezID:essentiality)\n",
    "d_gid_rest = {}\n",
    "for g in G.nodes():\n",
    "    if g not in d_gid_ess.keys():\n",
    "        d_gid_rest[g]='not defined'\n",
    "        \n",
    "#print(len(d_gid_rest)+len(d_gid_ess)) # this should match G.nodes count \n",
    "\n",
    "# merge both dicts\n",
    "d_gid_ess_all_unsorted = {**d_gid_ess, **d_gid_rest}\n",
    "\n",
    "# sort -> G.nodes()\n",
    "d_gID_all = {key:d_gid_ess_all_unsorted[key] for key in G.nodes()}\n",
    "\n",
    "essential_genes = []\n",
    "non_ess_genes = []\n",
    "notdefined_genes = [] \n",
    "for k,v in d_gID_all.items():\n",
    "    if v == 'E':\n",
    "        essential_genes.append(k)\n",
    "    elif v == 'NE':\n",
    "        non_ess_genes.append(k)\n",
    "    else:\n",
    "        notdefined_genes.append(k)\n",
    "        \n",
    "        \n",
    "# Centrality features \n",
    "df_centralities = pd.read_csv('_output_csv/Features_centralities_Dataframe_'+organism+'.csv', index_col=0)\n",
    "\n",
    "d_deghubs = dict(zip(G.nodes(), df_centralities['degs']))\n",
    "d_clos = dict(zip(G.nodes(), df_centralities['clos']))\n",
    "d_betw = dict(zip(G.nodes(), df_centralities['betw']))\n",
    "d_eigen = dict(zip(G.nodes(), df_centralities['eigen']))\n",
    "\n",
    "d_centralities = dict(zip(list(G.nodes),zip(d_deghubs.values(),d_clos.values(),d_betw.values(),d_eigen.values())))\n",
    "\n",
    "cent_features = []\n",
    "for i in d_centralities.items():\n",
    "    k=list(i)\n",
    "    cent_features.append(k)"
   ]
  },
  {
   "cell_type": "code",
   "execution_count": null,
   "metadata": {},
   "outputs": [],
   "source": []
  },
  {
   "cell_type": "code",
   "execution_count": 4,
   "metadata": {},
   "outputs": [
    {
     "name": "stdout",
     "output_type": "stream",
     "text": [
      "Number of nodes i.e. genes: 16376\n",
      "Number of edges: 309355\n",
      "Network density: 0.2%\n"
     ]
    }
   ],
   "source": [
    "print('Number of nodes i.e. genes: %s' %len(list(G.nodes())))\n",
    "print('Number of edges: %s'%len(list(G.edges())))\n",
    "print('Network density: %.1f%%' %(200.*len(list(G.edges()))/(len(list(G.nodes()))*len(list(G.nodes()))-1)))"
   ]
  },
  {
   "cell_type": "markdown",
   "metadata": {},
   "source": [
    "_____\n",
    "# 2 | LOAD AND SELECT ONF OF THE FOLLOWING FEATURES\n",
    "_____"
   ]
  },
  {
   "cell_type": "markdown",
   "metadata": {},
   "source": [
    "+ select one of the following\n",
    "_____"
   ]
  },
  {
   "cell_type": "markdown",
   "metadata": {},
   "source": [
    "### + STRUCTURAL : Graph structure based\n"
   ]
  },
  {
   "cell_type": "code",
   "execution_count": 5,
   "metadata": {},
   "outputs": [],
   "source": [
    "feature = 'adj'\n",
    "\n",
    "DM_adj = pd.read_csv('_output_csv/Adjacency_Dataframe_'+organism+'.csv', index_col=0)\n",
    "DM_adj.index = list(G.nodes())\n",
    "DM_adj.columns = list(G.nodes())\n",
    "\n",
    "DM = DM_adj\n",
    "\n",
    "# set gene list (= G.nodes())\n",
    "genes = []\n",
    "for i in DM.index:\n",
    "    if i in G.nodes():\n",
    "        genes.append(str(i))\n",
    "    \n",
    "genes_rest = [] \n",
    "for g in G.nodes():\n",
    "    if g not in genes:\n",
    "        genes_rest.append(g)"
   ]
  },
  {
   "cell_type": "code",
   "execution_count": 6,
   "metadata": {},
   "outputs": [],
   "source": [
    "feature = 'RWRvis'\n",
    "\n",
    "DM_m_visprob = pd.read_csv('_output_csv/RWR_visitingprob_Dataframe_'+organism+'.csv', index_col=0)\n",
    "DM_m_visprob.index = list(G.nodes())\n",
    "DM_m_visprob.columns = list(G.nodes())\n",
    "\n",
    "DM = DM_m_visprob\n",
    "\n",
    "# set gene list (= G.nodes())\n",
    "genes = []\n",
    "for i in DM.index:\n",
    "    if i in G.nodes():\n",
    "        genes.append(str(i))\n",
    "    \n",
    "genes_rest = [] \n",
    "for g in G.nodes():\n",
    "    if g not in genes:\n",
    "        genes_rest.append(g)"
   ]
  },
  {
   "cell_type": "code",
   "execution_count": 7,
   "metadata": {},
   "outputs": [],
   "source": [
    "feature = 'RWRdist'\n",
    "\n",
    "DM_m = pd.read_csv('_output_csv/RWR_Dataframe_'+organism+'.csv', index_col=0)\n",
    "DM_m.index = list(G.nodes())\n",
    "DM_m.columns = list(G.nodes())\n",
    "\n",
    "DM = DM_m\n",
    "\n",
    "# set gene list (= G.nodes())\n",
    "genes = []\n",
    "for i in DM.index:\n",
    "    if i in G.nodes():\n",
    "        genes.append(str(i))\n",
    "    \n",
    "genes_rest = [] \n",
    "for g in G.nodes():\n",
    "    if g not in genes:\n",
    "        genes_rest.append(g)"
   ]
  },
  {
   "cell_type": "code",
   "execution_count": 8,
   "metadata": {},
   "outputs": [],
   "source": [
    "feature = 'cent'\n",
    "\n",
    "DM_centralities = pd.DataFrame(distance.squareform(distance.pdist(df_centralities, 'cosine')))\n",
    "\n",
    "DM_centralities = round(DM_centralities,4)\n",
    "DM_centralities.index = list(G.nodes())\n",
    "DM_centralities.columns = list(G.nodes())\n",
    "\n",
    "DM = DM_centralities\n",
    "\n",
    "# set gene list (= G.nodes())\n",
    "genes = []\n",
    "for i in DM.index:\n",
    "    if i in G.nodes():\n",
    "        genes.append(str(i))\n",
    "    \n",
    "genes_rest = [] \n",
    "for g in G.nodes():\n",
    "    if g not in genes:\n",
    "        genes_rest.append(g)"
   ]
  },
  {
   "cell_type": "markdown",
   "metadata": {},
   "source": [
    "### + FUNCTIONAL : Molecular Function"
   ]
  },
  {
   "cell_type": "markdown",
   "metadata": {},
   "source": [
    "#### GO : Molecular Function "
   ]
  },
  {
   "cell_type": "code",
   "execution_count": 9,
   "metadata": {},
   "outputs": [],
   "source": [
    "feature = 'molfunc'\n",
    "\n",
    "# Feature Matrix loaded \n",
    "Feature_MF = pd.read_csv('_output_csv/Features_GO_MolFunc_Dataframe_Human.csv', index_col=0)\n",
    "DM_MF = Feature_MF\n",
    "\n",
    "# Distance Matrix loaded\n",
    "DM_MF = pd.read_csv('_output_csv/DistanceMatrix_goMF_Dataframe_Human_cosine.csv', index_col=0)\n",
    "DM_MF_mod = DM_MF.round(decimals=4)\n",
    "DM_MF = DM_MF_mod\n",
    "\n",
    "DM = DM_MF\n",
    "\n",
    "# set gene list (= G.nodes())\n",
    "genes = []\n",
    "for i in DM.index:\n",
    "    if str(i) in G.nodes():\n",
    "        genes.append(str(i))\n",
    "    \n",
    "genes_rest = [] \n",
    "for g in G.nodes():\n",
    "    if str(g) not in genes:\n",
    "        genes_rest.append(g)"
   ]
  },
  {
   "cell_type": "markdown",
   "metadata": {},
   "source": [
    "#### GO : Cellular Component"
   ]
  },
  {
   "cell_type": "code",
   "execution_count": 10,
   "metadata": {},
   "outputs": [],
   "source": [
    "feature = 'cellcomp'\n",
    "\n",
    "Feature_CC = pd.read_csv('_output_csv/Features_GO_CellComp_Dataframe_Human.csv', index_col=0)\n",
    "#DM_CC = Feature_CC\n",
    "\n",
    "# Distance Matrix loaded\n",
    "DM_CC = pd.read_csv('_output_csv/DistanceMatrix_goCC_Dataframe_Human_cosine.csv', index_col=0)\n",
    "DM_CC_mod = DM_CC.round(decimals=4)\n",
    "DM_CC = DM_CC_mod\n",
    "\n",
    "DM = DM_CC\n",
    "\n",
    "# set gene list (= G.nodes())\n",
    "genes = []\n",
    "for i in DM.index:\n",
    "    if str(i) in G.nodes():\n",
    "        genes.append(str(i))\n",
    "    \n",
    "genes_rest = [] \n",
    "for g in G.nodes():\n",
    "    if str(g) not in genes:\n",
    "        genes_rest.append(g)"
   ]
  },
  {
   "cell_type": "markdown",
   "metadata": {},
   "source": [
    "#### GO : Biological Processes"
   ]
  },
  {
   "cell_type": "code",
   "execution_count": 11,
   "metadata": {},
   "outputs": [],
   "source": [
    "feature = 'bioproc'\n",
    "\n",
    "Feature_BP = pd.read_csv('_output_csv/Features_GO_BiolProc_Dataframe_Human.csv', index_col=0)\n",
    "DM_BP = Feature_BP \n",
    "\n",
    "# Distance Matrix loaded\n",
    "DM_BP = pd.read_csv('_output_csv/DistanceMatrix_goBP_Dataframe_Human_cosine.csv', index_col=0)\n",
    "DM_BP_mod = DM_BP.round(decimals=4)\n",
    "DM_BP = DM_BP_mod\n",
    "\n",
    "DM = DM_BP\n",
    "\n",
    "# set gene list (= G.nodes())\n",
    "genes = []\n",
    "for i in DM.index:\n",
    "    if str(i) in G.nodes():\n",
    "        genes.append(str(i))\n",
    "    \n",
    "genes_rest = [] \n",
    "for g in G.nodes():\n",
    "    if str(g) not in genes:\n",
    "        genes_rest.append(g)"
   ]
  },
  {
   "cell_type": "markdown",
   "metadata": {},
   "source": [
    "#### Disease Annotations"
   ]
  },
  {
   "cell_type": "code",
   "execution_count": 12,
   "metadata": {},
   "outputs": [],
   "source": [
    "feature = 'disease'\n",
    "\n",
    "Feature_Disease = pd.read_csv('_output_csv/Features_Disease_Dataframe_Human.csv', index_col=0)\n",
    "DM_Disease = Feature_Disease\n",
    "\n",
    "DM_Disease = pd.read_csv('_output_csv/DistanceMatrix_Disease_Dataframe_Human_cosine.csv', index_col=0)\n",
    "DM_Disease_mod = DM_Disease.round(decimals=4)\n",
    "DM = DM_Disease_mod\n",
    "\n",
    "DM = DM_Disease\n",
    "\n",
    "# set gene list (= G.nodes())\n",
    "genes = []\n",
    "for i in DM.index:\n",
    "    if str(i) in G.nodes():\n",
    "        genes.append(str(i))\n",
    "    \n",
    "genes_rest = [] \n",
    "for g in G.nodes():\n",
    "    if str(g) not in genes:\n",
    "        genes_rest.append(g)"
   ]
  },
  {
   "cell_type": "markdown",
   "metadata": {},
   "source": [
    "____________\n",
    "# 3 | SET VISUAL PRE-SETTINGS\n",
    "____________"
   ]
  },
  {
   "cell_type": "markdown",
   "metadata": {},
   "source": [
    "## GENERAL NODE + EDGE PARAMETERS"
   ]
  },
  {
   "cell_type": "code",
   "execution_count": 108,
   "metadata": {},
   "outputs": [],
   "source": [
    "# Node, Edge colors\n",
    "\n",
    "edge_width = 0.1\n",
    "edge_colorlight = '#d3d3d3' # 'lightgrey'\n",
    "edge_colordark = '#505050' #'#696969' # 'dimgrey'\n",
    "opacity_edges = 0.25\n",
    "opacity_nodes = 0.9\n",
    "node_edge_col = None\n",
    "restnodes_col = 'rgba(100,100,100,0.5)'\n",
    "\n",
    "# Node sizes \n",
    "\n",
    "scalef= 0.1\n",
    "size = list(draw_node_degree(G, scalef).values())\n",
    "\n",
    "scalef= 0.025\n",
    "size3d = list(draw_node_degree_3D(G, scalef).values())\n",
    "\n",
    "# Nodes glow\n",
    "nodesglow_diameter = 8.0\n",
    "nodesglow_transparency = 0.01"
   ]
  },
  {
   "cell_type": "markdown",
   "metadata": {},
   "source": [
    "## NODE COLOR SETTINGS \n",
    "+ choose one of the following"
   ]
  },
  {
   "cell_type": "markdown",
   "metadata": {},
   "source": [
    "#### ------ STRUCTURAL ------ "
   ]
  },
  {
   "cell_type": "code",
   "execution_count": 672,
   "metadata": {},
   "outputs": [],
   "source": [
    "# ------------------\n",
    "# FROM DICTIONARY (geneID:value)\n",
    "# ------------------\n",
    "color_method = 'clos'\n",
    "d_colours = color_nodes_from_dict(G, d_clos, palette = 'YlOrRd')\n",
    "colours = list(d_colours.values())"
   ]
  },
  {
   "cell_type": "markdown",
   "metadata": {},
   "source": [
    "#### ------ ESSENTIALITY ------ "
   ]
  },
  {
   "cell_type": "code",
   "execution_count": 923,
   "metadata": {},
   "outputs": [],
   "source": [
    "color_method = 'essent'\n",
    "\n",
    "essential_col = 'darkblue'\n",
    "noessential_col = 'lightskyblue'\n",
    "undefined_col = 'grey'\n",
    "\n",
    "d_colours = color_essentiality_nodes(G, essential_genes, non_ess_genes, essential_col,noessential_col)\n",
    "colours = list(d_colours.values())\n",
    "\n",
    "#ess_edges = color_essentiality_edges(G, essential_genes, non_ess_genes, 'darkblue', 'lightblue')\n",
    "\n",
    "#d_edge_col = color_edges_from_genelist(G, essential_genes, 'darkblue')\n",
    "#edge_color = list(d_edge_col_essential.values())"
   ]
  },
  {
   "cell_type": "markdown",
   "metadata": {},
   "source": [
    "#### ------ SPECIFIC DISEASES ------ "
   ]
  },
  {
   "cell_type": "code",
   "execution_count": 1081,
   "metadata": {},
   "outputs": [
    {
     "name": "stdout",
     "output_type": "stream",
     "text": [
      "('organ system cancer', 'DOID:0050686') 2386\n",
      "('cancer', 'DOID:162') 2497\n"
     ]
    }
   ],
   "source": [
    "# ----------------------------------------------------        \n",
    "# get disease categories\n",
    "# ----------------------------------------------------        \n",
    "disease_categories = {}\n",
    "for d_name in d_names_do.keys():\n",
    "    #if d_name.find(disease_category) != -1:\n",
    "        try:\n",
    "            disease_categories[d_name,d_names_do[d_name]]=len(d_do_genes[d_names_do[d_name]])\n",
    "            #print('specific disease: %s (%s) ; # associated genes: %s' %(d_name,d_names_do[d_name],len(d_do_genes[d_names_do[d_name]])))\n",
    "        except:\n",
    "            pass\n",
    "\n",
    "# ----------------------------------------------------        \n",
    "# search specific term + count of genes associated with disease \n",
    "# ----------------------------------------------------   \n",
    "min_diseasegenes = 2000\n",
    "max_diseasegenes = 3000\n",
    "search_term = 'cancer'\n",
    "\n",
    "for k,v in disease_categories.items():\n",
    "    if v >= min_diseasegenes and v<= max_diseasegenes and search_term in k[0]:\n",
    "        print(k,v)"
   ]
  },
  {
   "cell_type": "code",
   "execution_count": 1082,
   "metadata": {},
   "outputs": [],
   "source": [
    "disease_category = 'cancer'\n",
    "disease_col = 'mediumblue' #'#FF0000' #'red'\n",
    "\n",
    "color_method = disease_category\n",
    "\n",
    "l_genes = get_disease_genes(G, d_names_do, d_do_genes, disease_category)\n",
    "#colours = color_diseasecategory(G, d_names_do, d_do_genes, disease_category, disease_col)\n",
    "colours = color_nodes_from_genelist(G, l_genes, disease_col)\n",
    "\n",
    "# color edges based on gene list of selection \n",
    "d_edge_col = color_edges_from_genelist(G, l_genes, disease_col)\n",
    "edge_color = list(d_edge_col.values())"
   ]
  },
  {
   "cell_type": "markdown",
   "metadata": {},
   "source": [
    "#### ------ SPECIFIC GO TERM ------  "
   ]
  },
  {
   "cell_type": "code",
   "execution_count": null,
   "metadata": {},
   "outputs": [],
   "source": [
    "# ----------------------------------------------------        \n",
    "# search specific term + count of genes associated with GO term\n",
    "# ----------------------------------------------------   \n",
    "min_genes = 0 \n",
    "max_genes = 500\n",
    "min_dens = 0.5\n",
    "\n",
    "for g,n in d_goid_genes.items():\n",
    "    G_sub = G.subgraph(n)\n",
    "    dens = nx.density(G_sub)\n",
    "    if dens >= min_dens and len(n) >= min_genes and len(n) <= max_genes:\n",
    "            print('GO-term:',g, '| Number of genes:',len(n), '| Density: ', round(dens,2),'%')"
   ]
  },
  {
   "cell_type": "code",
   "execution_count": null,
   "metadata": {},
   "outputs": [],
   "source": [
    "# Choose a GO term here: \n",
    "goterm = 'GO:0050136'\n",
    "\n",
    "l_genes = d_goid_genes[goterm]\n",
    "go_col = 'blue'\n",
    "\n",
    "colours = color_nodes_from_genelist(G, l_genes, go_col)\n",
    "d_edge_col = color_edges_from_genelist(G, l_genes, go_col)\n",
    "edge_color = list(d_edge_col.values())\n",
    "\n",
    "\n",
    "# in progress \n",
    "'''# ----------------------------------------------------        \n",
    "# ANY GENE LIST\n",
    "# ----------------------------------------------------  \n",
    "     \n",
    "color_method = 'my gene list' \n",
    "color = '#0000FF' #'blue'\n",
    "\n",
    "# n o d e s \n",
    "l_genes = # HERE GOES my list of gene identifiers\n",
    "colours = color_nodes_from_genelist(G, l_genes, color)\n",
    "\n",
    "# e d g e s \n",
    "edge_color = list(color_edges_from_genelist(G, l_genes, color).values())'''"
   ]
  },
  {
   "cell_type": "markdown",
   "metadata": {},
   "source": [
    "____________\n",
    "# 4 | LAYOUTS\n",
    "____________"
   ]
  },
  {
   "cell_type": "markdown",
   "metadata": {},
   "source": [
    "___\n",
    "## 2D PORTRAITS\n",
    "___"
   ]
  },
  {
   "cell_type": "markdown",
   "metadata": {},
   "source": [
    "## UMAP\n",
    "+ https://umap-learn.readthedocs.io/en/latest/embedding_space.html\n",
    "\n",
    "+ https://pair-code.github.io/understanding-umap/"
   ]
  },
  {
   "cell_type": "code",
   "execution_count": 606,
   "metadata": {},
   "outputs": [
    {
     "name": "stderr",
     "output_type": "stream",
     "text": [
      "/Users/chris/opt/anaconda3/lib/python3.8/site-packages/umap/umap_.py:1330: RuntimeWarning:\n",
      "\n",
      "divide by zero encountered in power\n",
      "\n"
     ]
    },
    {
     "name": "stdout",
     "output_type": "stream",
     "text": [
      "CPU times: user 25.1 s, sys: 1.59 s, total: 26.7 s\n",
      "Wall time: 18.9 s\n"
     ]
    }
   ],
   "source": [
    "%%time \n",
    "\n",
    "n_neighbors = 20 # balance between local and global structure in the data\n",
    "spread = 10.0\n",
    "min_dist = 0.001 # defines how dense points are stacked together \n",
    "metric ='cosine'\n",
    "\n",
    "umap2D = embed_umap_2D(DM, n_neighbors, spread, min_dist, metric)"
   ]
  },
  {
   "cell_type": "code",
   "execution_count": 607,
   "metadata": {},
   "outputs": [],
   "source": [
    "# MAIN (if not all G.nodes)\n",
    "posG_umap = get_posG_2D(genes, umap2D)\n",
    "\n",
    "# REST (if main = G.nodes then rest will be ignored / empty)\n",
    "# generate circle coordinates for rest genes (without e.g. GO term or Disease Annotation)\n",
    "t = np.random.uniform(0,2*np.pi,len(genes_rest))\n",
    "\n",
    "# get center of points and define radius\n",
    "xx=[]\n",
    "yy=[]\n",
    "for i in posG_umap.values():\n",
    "    xx.append(i[0])\n",
    "    yy.append(i[1])\n",
    "\n",
    "cx = np.nansum(xx)/len(genes)\n",
    "cy = np.nansum(yy)/len(genes)\n",
    "\n",
    "xm, ym = max(posG_umap.values())\n",
    "r = (math.sqrt((xm-cx)**2 + (ym-cy)**2))+10 #*1.05 # multiplying with 1.05 makes cirle larger to avoid \"outsider nodes/genes\"\n",
    "\n",
    "x = r*np.cos(t)\n",
    "y = r*np.sin(t)\n",
    "rest = []\n",
    "for i,j in zip(x,y):\n",
    "        rest.append((i,j))\n",
    "        \n",
    "posG_rest = dict(zip(genes_rest, rest))\n",
    "\n",
    "posG_all = {**posG_umap, **posG_rest}\n",
    "posG_complete_umap = {key:posG_all[key] for key in G.nodes()}\n",
    "\n",
    "# normalize coordinates \n",
    "x_list = []\n",
    "y_list = []\n",
    "for k,v in posG_complete_umap.items():\n",
    "    x_list.append(v[0])\n",
    "    y_list.append(v[1])\n",
    "    \n",
    "xx_norm = sklearn.preprocessing.minmax_scale(x_list, feature_range=(0, 1), axis=0, copy=True)\n",
    "yy_norm = sklearn.preprocessing.minmax_scale(y_list, feature_range=(0, 1), axis=0, copy=True)\n",
    "\n",
    "xx_norm_final=[]\n",
    "for i in xx_norm:\n",
    "    xx_norm_final.append(round(i,10))\n",
    "\n",
    "yy_norm_final=[]\n",
    "for i in yy_norm:\n",
    "    yy_norm_final.append(round(i,10))\n",
    "    \n",
    "posG_complete_umap_norm = dict(zip(list(G.nodes()),zip(xx_norm_final,yy_norm_final)))"
   ]
  },
  {
   "cell_type": "markdown",
   "metadata": {},
   "source": [
    "### UMAP CLUSTER Colors (spectral) > supervised > cluster number assigned"
   ]
  },
  {
   "cell_type": "code",
   "execution_count": 614,
   "metadata": {},
   "outputs": [
    {
     "name": "stderr",
     "output_type": "stream",
     "text": [
      "/Users/chris/opt/anaconda3/lib/python3.8/site-packages/sklearn/manifold/_spectral_embedding.py:236: UserWarning:\n",
      "\n",
      "Graph is not fully connected, spectral embedding may not work as expected.\n",
      "\n"
     ]
    }
   ],
   "source": [
    "# SPECTRAL from sklearn\n",
    "from sklearn.cluster import SpectralClustering\n",
    "\n",
    "df_posG = pd.DataFrame(posG_umap).T #posG_umap\n",
    "\n",
    "n_clus = 30\n",
    "color_method = 'spectral'\n",
    "\n",
    "model = SpectralClustering(n_clusters=n_clus,n_components = 10, affinity='nearest_neighbors',random_state=0)\n",
    "clusterid = model.fit(df_posG)\n",
    "d_node_clusterid = dict(zip(genes, clusterid.labels_))\n",
    "\n",
    "# colour parameter from cluster \n",
    "colours_unsort = color_nodes_from_dict_unsort(d_node_clusterid, color_method, palette = 'gist_rainbow') #'ocean'\n",
    "\n",
    "genes_val = [1]*len(genes_rest)\n",
    "d_genes_rest = dict(zip(genes_rest, genes_val))\n",
    "colours_rest = color_nodes_from_dict_same(G, d_genes_rest, '#696969') #'dimgrey')\n",
    "\n",
    "colours_all = {**colours_rest, **colours_unsort}\n",
    "\n",
    "colours_sorted = {key:colours_all[key] for key in G.nodes}\n",
    "colours = list(colours_sorted.values())"
   ]
  },
  {
   "cell_type": "markdown",
   "metadata": {},
   "source": [
    "### UMAP CLUSTER Colors (DBSCAN) > unsupervised > density and radius assigned\n",
    "+ https://towardsdatascience.com/dbscan-algorithm-complete-guide-and-application-with-python-scikit-learn-d690cbae4c5d"
   ]
  },
  {
   "cell_type": "code",
   "execution_count": 626,
   "metadata": {},
   "outputs": [
    {
     "name": "stdout",
     "output_type": "stream",
     "text": [
      "Number of Clusters:  104\n"
     ]
    }
   ],
   "source": [
    "color_method = 'dbscan'\n",
    "df_posG = pd.DataFrame(posG_umap).T \n",
    "\n",
    "epsi = 2\n",
    "min_sam = 10\n",
    "# eps = Density at a point P: Number of points within a circle of Radius Eps (ϵ) from point P\n",
    "# MinPts = Dense Region: For each point in the cluster, the circle with radius ϵ contains at least minimum number of points (MinPts)\n",
    "dbscan = DBSCAN(eps=epsi, min_samples=min_sam) \n",
    "\n",
    "clusterid = dbscan.fit(df_posG)\n",
    "d_node_clusterid = dict(zip(genes, clusterid.labels_))\n",
    "\n",
    "# colour parameter from cluster \n",
    "colours_unsort = color_nodes_from_dict_unsort(d_node_clusterid, color_method, palette = 'Set1')\n",
    "\n",
    "genes_val = [1]*len(genes_rest)\n",
    "d_genes_rest = dict(zip(genes_rest, genes_val))\n",
    "colours_rest = color_nodes_from_dict_same(G, d_genes_rest, '#696969') #'dimgrey')\n",
    "\n",
    "colours_all = {**colours_rest, **colours_unsort}\n",
    "\n",
    "colours_sorted = {key:colours_all[key] for key in G.nodes}\n",
    "colours = list(colours_sorted.values())\n",
    "\n",
    "print('Number of Clusters: ', len(set(clusterid.labels_)))"
   ]
  },
  {
   "cell_type": "markdown",
   "metadata": {},
   "source": [
    "### UMAP CLUSTER Colors (KMEANS)"
   ]
  },
  {
   "cell_type": "code",
   "execution_count": 591,
   "metadata": {},
   "outputs": [],
   "source": [
    "df_posG = pd.DataFrame(posG_umap).T #posG_3Dumap\n",
    "\n",
    "n_clus = 50\n",
    "color_method = 'kmeans'+str(n_clus)\n",
    "\n",
    "kmeans = KMeans(n_clusters=n_clus, random_state=0).fit(df_posG)\n",
    "centrs = kmeans.cluster_centers_\n",
    "\n",
    "# Colours by Clusters \n",
    "d_node_clusterid = dict(zip(genes, kmeans.labels_))\n",
    "colours_unsort = color_nodes_from_dict_unsort(d_node_clusterid, color_method, palette = 'gist_rainbow' ) #'prism'\n",
    "genes_val = [1]*len(genes_rest)\n",
    "d_genes_rest = dict(zip(genes_rest, genes_val))\n",
    "colours_rest = color_nodes_from_dict_same(G, d_genes_rest,'#696969') #'dimgrey')\n",
    "colours_all = {**colours_rest, **colours_unsort}\n",
    "colours_sorted = {key:colours_all[key] for key in G.nodes}\n",
    "colours = list(colours_sorted.values())\n",
    "\n",
    "# number of genes in each cluster ( used for annotation )\n",
    "d_clus_genecount = dict(Counter(kmeans.labels_))\n",
    "d_clus_genecount_sort = dict(collections.OrderedDict(sorted(d_clus_genecount.items())))\n",
    "l_clus_genecount = list(d_clus_genecount_sort.values())"
   ]
  },
  {
   "cell_type": "markdown",
   "metadata": {},
   "source": [
    "# PRINT 2D Portrait"
   ]
  },
  {
   "cell_type": "code",
   "execution_count": 628,
   "metadata": {},
   "outputs": [
    {
     "name": "stdout",
     "output_type": "stream",
     "text": [
      "Color method:  dbscan\n"
     ]
    },
    {
     "data": {
      "image/png": "[encoded data removed]",
      "text/plain": [
       "<Figure size 1800x1800 with 1 Axes>"
      ]
     },
     "metadata": {},
     "output_type": "display_data"
    }
   ],
   "source": [
    "print('Color method: ', color_method)\n",
    "\n",
    "plt.figure(figsize=(25,25))\n",
    "plt.title(feature+' | UMAP | Metric: '+metric, size=16)\n",
    "\n",
    "nx.draw_networkx_nodes(G, posG_complete_umap_norm, \n",
    "                       edgecolors = node_edge_col, linewidths = 0.5, node_color=colours, node_size=size,\n",
    "                       alpha = opacity_nodes)\n",
    "#nx.draw_networkx_edges(G, posG_complete_umap_norm, width = edge_width, edge_color = edge_colorlight, alpha = opacity_edges)\n",
    "plt.box(False)\n",
    "\n",
    "plt.savefig('output_plots/2DPortraitumap_'+feature+'_'+color_method+'_'+str(n_neighbors)+'_'+str(spread)+'_'+str(min_dist)+'_'+organism+'.png',dpi=300)\n",
    "\n",
    "# with edges:\n",
    "#plt.savefig('output_plots/2DPortraitumap_'+feature+'_'+color_method+'_'+str(n_neighbors)+'_'+str(spread)+'_'+str(min_dist)+'_'+organism+'_edges.png',dpi=300)\n",
    "\n",
    "\n",
    "plt.show()"
   ]
  },
  {
   "cell_type": "markdown",
   "metadata": {},
   "source": [
    "\n",
    "#### UMAP EXPORT TO CSV"
   ]
  },
  {
   "cell_type": "code",
   "execution_count": 387,
   "metadata": {},
   "outputs": [],
   "source": [
    "export_to_csv2D('C_2DPortrait', posG_complete_umap_norm, colours)"
   ]
  },
  {
   "cell_type": "markdown",
   "metadata": {},
   "source": [
    "___\n",
    "## LANDSCAPES\n",
    "___"
   ]
  },
  {
   "cell_type": "markdown",
   "metadata": {},
   "source": [
    "### Define z-parameter\n",
    "+ Choose one of the following\n",
    "___________"
   ]
  },
  {
   "cell_type": "markdown",
   "metadata": {},
   "source": [
    "#### ------ STRUCTURAL ------"
   ]
  },
  {
   "cell_type": "code",
   "execution_count": 227,
   "metadata": {},
   "outputs": [],
   "source": [
    "# dict with geneID : value \n",
    "# e.g. Closeness centrality\n",
    "\n",
    "z_feat = 'clos'\n",
    "\n",
    "z_list = list(d_clos.values())\n",
    "z_list_norm = sklearn.preprocessing.minmax_scale(z_list, feature_range=(0, 1.0), axis=0, copy=True)"
   ]
  },
  {
   "cell_type": "markdown",
   "metadata": {},
   "source": [
    "#### ------ ESSENTIAL ------"
   ]
  },
  {
   "cell_type": "code",
   "execution_count": 1086,
   "metadata": {},
   "outputs": [],
   "source": [
    "z_feat = 'ess'\n",
    "\n",
    "value_ess = 10\n",
    "value_noness = 5\n",
    "value_undefined = 0\n",
    "\n",
    "d_ess = z_landscape_essentiality(G, essential_genes, non_ess_genes, value_ess, value_noness, value_undefined)\n",
    "z_list = list(d_ess.values())\n",
    "z_list_norm = sklearn.preprocessing.minmax_scale(z_list, feature_range=(0, 1.0), axis=0, copy=True)"
   ]
  },
  {
   "cell_type": "markdown",
   "metadata": {},
   "source": [
    "#### ------ Centrality Metrics average ------"
   ]
  },
  {
   "cell_type": "code",
   "execution_count": 668,
   "metadata": {},
   "outputs": [],
   "source": [
    "z_feat = 'centraverage'\n",
    "\n",
    "d_centr = {}\n",
    "for i,j in df_centralities.iterrows():\n",
    "    #d_centr[str(i)] = (j[0]+j[1]+j[2]+j[3])/4))\n",
    "    d_centr[str(i)] = (j[0]+j[1]+j[2])/3 # without eigenvalue\n",
    "    \n",
    "dict_z  = {key:d_centr[key] for key in G.nodes()}\n",
    "\n",
    "z_list = list(dict_z.values())\n",
    "z_list_norm = sklearn.preprocessing.minmax_scale(z_list, feature_range=(0, 1.0), axis=0, copy=True)"
   ]
  },
  {
   "cell_type": "markdown",
   "metadata": {},
   "source": [
    "#### ------ Disease count ------"
   ]
  },
  {
   "cell_type": "code",
   "execution_count": 951,
   "metadata": {},
   "outputs": [],
   "source": [
    "z_feat = 'disease'\n",
    "\n",
    "#DM_feature = DM_Disease\n",
    "feat_matrix = pd.read_csv('_output_csv/Features_Disease_Dataframe_Human.csv', index_col=0)\n",
    "DM_feature = feat_matrix\n",
    "\n",
    "# set gene list (= G.nodes())\n",
    "genes_assoc = []\n",
    "for i in DM_feature.index:\n",
    "    genes_assoc.append(str(i))\n",
    "    \n",
    "genes_notassoc = [] \n",
    "for g in G.nodes():\n",
    "    if g not in genes_assoc:\n",
    "        genes_notassoc.append(g)\n",
    "\n",
    "features_counted = (feat_matrix == 1).astype(int).sum(axis=1)\n",
    "d_features_counted = dict(zip(genes_assoc, list(features_counted)))\n",
    "        \n",
    "d_rest = {}\n",
    "for i in genes_notassoc: \n",
    "    d_rest[i] = -20\n",
    "\n",
    "d_param_unsorted = {**d_features_counted, **d_rest}\n",
    "dict_z = {key:d_param_unsorted[key] for key in G.nodes()}\n",
    "\n",
    "z_list = list(dict_z.values())\n",
    "z_list_norm = sklearn.preprocessing.minmax_scale(z_list, feature_range=(0, 1), axis=0, copy=True)"
   ]
  },
  {
   "cell_type": "markdown",
   "metadata": {},
   "source": [
    "________"
   ]
  },
  {
   "cell_type": "markdown",
   "metadata": {},
   "source": [
    "## UMAP"
   ]
  },
  {
   "cell_type": "code",
   "execution_count": 1105,
   "metadata": {},
   "outputs": [],
   "source": [
    "posG_land_umap = {}\n",
    "cc = 0\n",
    "for k,v in posG_complete_umap_norm.items():\n",
    "    posG_land_umap[k] = (v[0],v[1],z_list_norm[cc])\n",
    "    cc+=1"
   ]
  },
  {
   "cell_type": "markdown",
   "metadata": {},
   "source": [
    "### UMAP CLUSTER Colors (KMEANS)"
   ]
  },
  {
   "cell_type": "code",
   "execution_count": 972,
   "metadata": {},
   "outputs": [],
   "source": [
    "df_posG = pd.DataFrame(posG_land_umap).T \n",
    "\n",
    "n_clus = 30\n",
    "color_method = 'kmeans'+str(n_clus)\n",
    "\n",
    "kmeans = KMeans(n_clusters=n_clus, random_state=0).fit(df_posG)\n",
    "centrs = kmeans.cluster_centers_\n",
    "\n",
    "# number of genes in each cluster ( used for annotation )\n",
    "d_clus_genecount = dict(Counter(kmeans.labels_))\n",
    "d_clus_genecount_sort = dict(collections.OrderedDict(sorted(d_clus_genecount.items())))\n",
    "l_clus_genecount = list(d_clus_genecount_sort.values())\n",
    "\n",
    "# Centers for clusters ( used for annotation )\n",
    "x=[]\n",
    "y=[]\n",
    "#z=[]\n",
    "for i in centrs:\n",
    "    x.append(i[0])\n",
    "    y.append(i[1])\n",
    "#    z.append(i[2])\n",
    "\n",
    "annotations_darkmode = []\n",
    "for i in range(len(centrs)):\n",
    "    annot = dict(\n",
    "                    x=centrs[i][0],\n",
    "                    y=centrs[i][1],\n",
    "                    z=centrs[i][2],\n",
    "                    showarrow=True,\n",
    "                    text=f'Cluster: {str(i+1)} <br> total: {str(l_clus_genecount[i])}',\n",
    "                    font=dict(\n",
    "                        color=\"lightgrey\",\n",
    "                        size=8),\n",
    "                    xanchor=\"right\",\n",
    "                    ay=-20,\n",
    "                    ax=-20,\n",
    "                    opacity=0.5,\n",
    "                    arrowhead=0,\n",
    "                    arrowwidth=0.5,\n",
    "                    arrowcolor=\"lightgrey\")\n",
    "    i=+1\n",
    "    annotations_darkmode.append(annot)\n",
    "    \n",
    "\n",
    "annotations_lightmode = []\n",
    "for i in range(len(centrs)):\n",
    "    annot = dict(\n",
    "                    x=centrs[i][0],\n",
    "                    y=centrs[i][1],\n",
    "                    z=centrs[i][2],\n",
    "                    showarrow=True,\n",
    "                    text=f'Cluster: {str(i+1)} <br> total: {str(l_clus_genecount[i])}', # <br> disease: {top_disease} <br> goterm: {top_goterm}',\n",
    "                    font=dict(\n",
    "                        color=\"black\",\n",
    "                        size=8),\n",
    "                    xanchor=\"right\",\n",
    "                    ay=-20,\n",
    "                    ax=-20,\n",
    "                    opacity=0.5,\n",
    "                    arrowhead=0,\n",
    "                    arrowwidth=0.5,\n",
    "                    arrowcolor=\"dimgrey\"\n",
    "                    )\n",
    "    i=+1\n",
    "    annotations_lightmode.append(annot)\n",
    "    \n",
    "# Colours by Clusters \n",
    "d_node_clusterid = dict(zip(genes, kmeans.labels_))\n",
    "colours_unsort = color_nodes_from_dict_unsort(d_node_clusterid, color_method, palette = 'gist_rainbow')\n",
    "genes_val = [1]*len(genes_rest)\n",
    "d_genes_rest = dict(zip(genes_rest, genes_val))\n",
    "colours_rest = color_nodes_from_dict_same(G, d_genes_rest, restnodes_col) #'dimgrey')\n",
    "colours_all = {**colours_rest, **colours_unsort}\n",
    "colours_sorted = {key:colours_all[key] for key in G.nodes}\n",
    "colours = list(colours_sorted.values())"
   ]
  },
  {
   "cell_type": "code",
   "execution_count": 1106,
   "metadata": {},
   "outputs": [
    {
     "name": "stdout",
     "output_type": "stream",
     "text": [
      "Color method:  cancer\n",
      "# Neighbours: 20\n",
      "Spread: 10.0\n",
      "Min. Distance: 0.1\n"
     ]
    },
    {
     "data": {
      "text/plain": [
       "'output_plots/Landscapes_umap_disease_cancer_z-ess_cosine_cancer_20_10.0_0.1_Human.html'"
      ]
     },
     "execution_count": 1106,
     "metadata": {},
     "output_type": "execute_result"
    }
   ],
   "source": [
    "print('Color method: ', color_method)\n",
    "\n",
    "print('# Neighbours:', n_neighbors)\n",
    "print('Spread:',spread)\n",
    "print('Min. Distance:', min_dist)\n",
    "\n",
    "umap_nodes = get_trace_nodes_3D(posG_land_umap, l_features, colours, \n",
    "                                size3d, opacity_nodes)\n",
    "\n",
    "umap_nodes_transparent = get_trace_nodes_3D(posG_land_umap, l_features, colours, \n",
    "                                nodesglow_diameter, nodesglow_transparency)                               \n",
    "\n",
    "#umap_edges = get_trace_edges_3D(G, posG_land_umap, edge_colorlight)\n",
    "#umap_edges = get_trace_spec_edges_only(list(d_edge_col.keys()), posG_land_umap, disease_col)\n",
    "#umap_data = [umap_edges, umap_nodes]\n",
    "umap_data = [umap_nodes_transparent, umap_nodes]\n",
    "\n",
    "\n",
    "data = umap_data\n",
    "scheme = 'light'\n",
    "# with edges: fname = 'output_plots/Landscapes_umap_'+feature+'_'+color_method+'_z-'+z_feat+'_'+metric+'_'+color_method+'_'+str(n_neighbors)+'_'+str(spread)+'_'+str(min_dist)+'_'+organism+'_withedges'\n",
    "fname = 'output_plots/Landscapes_umap_'+feature+'_'+color_method+'_z-'+z_feat+'_'+metric+'_'+color_method+'_'+str(n_neighbors)+'_'+str(spread)+'_'+str(min_dist)+'_'+organism\n",
    "\n",
    "plot_3D(data, fname, scheme)#, annotations_lightmode)"
   ]
  },
  {
   "cell_type": "markdown",
   "metadata": {},
   "source": [
    "#### UMAP LANDSCAPE EXPORT TO CSV"
   ]
  },
  {
   "cell_type": "code",
   "execution_count": 28,
   "metadata": {},
   "outputs": [],
   "source": [
    "export_to_csv3D('C_Landscape', posG_land_umap, colours)"
   ]
  },
  {
   "cell_type": "markdown",
   "metadata": {},
   "source": [
    "____\n",
    "## 3D PORTRAITS\n",
    "____"
   ]
  },
  {
   "cell_type": "markdown",
   "metadata": {},
   "source": [
    "## UMAP"
   ]
  },
  {
   "cell_type": "code",
   "execution_count": 1180,
   "metadata": {},
   "outputs": [
    {
     "name": "stderr",
     "output_type": "stream",
     "text": [
      "/Users/chris/opt/anaconda3/lib/python3.8/site-packages/umap/umap_.py:1330: RuntimeWarning:\n",
      "\n",
      "divide by zero encountered in power\n",
      "\n"
     ]
    },
    {
     "name": "stdout",
     "output_type": "stream",
     "text": [
      "CPU times: user 3min 37s, sys: 32 s, total: 4min 9s\n",
      "Wall time: 1min 40s\n"
     ]
    }
   ],
   "source": [
    "%%time \n",
    "\n",
    "n_neighbors = 20 # balance between local and global structure in the data\n",
    "spread = 10.0\n",
    "min_dist = 0.001 # defines how dense points are stacked together \n",
    "metric='cosine'\n",
    "\n",
    "umap_3D = embed_umap_3D(DM, n_neighbors, spread, min_dist, metric)"
   ]
  },
  {
   "cell_type": "code",
   "execution_count": 1181,
   "metadata": {},
   "outputs": [],
   "source": [
    "# MAIN (if not all G.nodes)\n",
    "posG_3Dumap = get_posG_3D(genes, umap_3D)\n",
    "\n",
    "# REST (if genes = G.nodes then rest will be ignored / empty)\n",
    "\n",
    "# get center of data points\n",
    "xx=[]\n",
    "yy=[]\n",
    "zz=[]\n",
    "\n",
    "for i in posG_3Dumap.values():\n",
    "    xx.append(i[0])\n",
    "    yy.append(i[1])\n",
    "    zz.append(i[2]) \n",
    "\n",
    "cx = sum(xx)/len(genes)\n",
    "cy = sum(yy)/len(genes)\n",
    "cz = sum(zz)/len(genes)\n",
    "\n",
    "# generate spherical coordinates for rest genes (without e.g. GO term or Disease Annotation)\n",
    "indices = arange(0, len(genes_rest))\n",
    "phi = arccos(1 - 2*indices/len(genes_rest)) # 2* --> for both halfs of sphere (upper+lower)\n",
    "theta = pi * (1 + 5**0.5) * indices\n",
    "\n",
    "xm, ym, zm = max(posG_3Dumap.values())\n",
    "r = (math.sqrt((cx - xm)**2 + (cy - ym)**2 + (cz - zm)**2))+1 # +10 to ensure all colored nodes are within the sphere\n",
    "x, y, z = cx+r*cos(theta) * sin(phi),cy+r*sin(theta) * sin(phi), cz+r*cos(phi)\n",
    "\n",
    "rest_points = []\n",
    "for i,j,k in zip(x,y,z):\n",
    "    rest_points.append((i,j,k))\n",
    "\n",
    "posG_rest = dict(zip(genes_rest, rest_points))\n",
    "\n",
    "posG_all = {**posG_3Dumap, **posG_rest}\n",
    "posG_3D_complete_umap = {key:posG_all[key] for key in G.nodes()}\n",
    "\n",
    "# normalize coordinates \n",
    "x_list3D = []\n",
    "y_list3D = []\n",
    "z_list3D = []\n",
    "for k,v in posG_3D_complete_umap.items():\n",
    "    x_list3D.append(v[0])\n",
    "    y_list3D.append(v[1])\n",
    "    z_list3D.append(v[2])\n",
    "    \n",
    "xx_norm3D = sklearn.preprocessing.minmax_scale(x_list3D, feature_range=(0, 1), axis=0, copy=True)\n",
    "yy_norm3D = sklearn.preprocessing.minmax_scale(y_list3D, feature_range=(0, 1), axis=0, copy=True)\n",
    "zz_norm3D = sklearn.preprocessing.minmax_scale(z_list3D, feature_range=(0, 1), axis=0, copy=True)\n",
    "\n",
    "xx_norm3D_final=[]\n",
    "for i in xx_norm3D:\n",
    "    xx_norm3D_final.append(round(i,10))\n",
    "\n",
    "yy_norm3D_final=[]\n",
    "for i in yy_norm3D:\n",
    "    yy_norm3D_final.append(round(i,10))\n",
    "\n",
    "zz_norm3D_final=[]\n",
    "for i in zz_norm3D:\n",
    "    zz_norm3D_final.append(round(i,10)) \n",
    "\n",
    "posG_3D_complete_umap_norm = dict(zip(list(G.nodes()), zip(xx_norm3D_final,yy_norm3D_final,zz_norm3D_final)))"
   ]
  },
  {
   "cell_type": "markdown",
   "metadata": {},
   "source": [
    "### UMAP CLUSTER Colors (Spectral)"
   ]
  },
  {
   "cell_type": "code",
   "execution_count": null,
   "metadata": {},
   "outputs": [],
   "source": [
    "# SPECTRAL from sklearn\n",
    "from sklearn.cluster import SpectralClustering\n",
    "\n",
    "df_posG = pd.DataFrame(posG_3D_complete_umap_norm).T #posG_3Dumap\n",
    "\n",
    "n_clus = 50\n",
    "color_method = 'spectral'\n",
    "\n",
    "model = SpectralClustering(n_clusters=n_clus,n_components = 10, affinity='nearest_neighbors')\n",
    "clusterid = model.fit(df_posG)\n",
    "d_node_clusterid = dict(zip(genes, clusterid.labels_))\n",
    "\n",
    "#clusterid = model.fit_predict(df_posG)\n",
    "#d_node_clusterid = dict(zip(genes, clusterid))\n",
    "\n",
    "# colour parameter from cluster \n",
    "colours_unsort = color_nodes_from_dict_unsort(G, d_node_clusterid, color_method, palette = 'prism')\n",
    "\n",
    "genes_val = [1]*len(genes_rest)\n",
    "d_genes_rest = dict(zip(genes_rest, genes_val))\n",
    "colours_rest = color_nodes_from_dict_same(G, d_genes_rest,'#696969') #'dimgrey')\n",
    "\n",
    "colours_all = {**colours_rest, **colours_unsort}\n",
    "\n",
    "colours_sorted = {key:colours_all[key] for key in G.nodes}\n",
    "colours = list(colours_sorted.values())"
   ]
  },
  {
   "cell_type": "markdown",
   "metadata": {},
   "source": [
    "### UMAP CLUSTER Colors (DBSCAN)"
   ]
  },
  {
   "cell_type": "code",
   "execution_count": 42,
   "metadata": {},
   "outputs": [
    {
     "name": "stdout",
     "output_type": "stream",
     "text": [
      "Number of clusters:  4\n"
     ]
    }
   ],
   "source": [
    "from sklearn.cluster import DBSCAN\n",
    "\n",
    "color_method = 'dbscan'\n",
    "df_posG = pd.DataFrame(posG_3D_complete_umap_norm).T #posG_3Dumap\n",
    "\n",
    "# eps = Density at a point P: Number of points within a circle of Radius Eps (ϵ) from point P\n",
    "# MinPts = Dense Region: For each point in the cluster, the circle with radius ϵ contains at least minimum number of points (MinPts)\n",
    "clustering = DBSCAN(eps=0.1, min_samples=1) #0.025 #1 \n",
    "\n",
    "clusterid = clustering.fit(df_posG)\n",
    "d_node_clusterid = dict(zip(genes, clusterid.labels_))\n",
    "\n",
    "#clusterid = clustering.fit_predict(df_posG)\n",
    "#d_node_clusterid = dict(zip(genes, clusterid))\n",
    "\n",
    "# colour parameter from cluster \n",
    "colours_unsort = color_nodes_from_dict_unsort(G, d_node_clusterid, color_method, palette = 'Set1')\n",
    "\n",
    "genes_val = [1]*len(genes_rest)\n",
    "d_genes_rest = dict(zip(genes_rest, genes_val))\n",
    "colours_rest = color_nodes_from_dict_same(G, d_genes_rest, restnodes_col) #'dimgrey')\n",
    "\n",
    "colours_all = {**colours_rest, **colours_unsort}\n",
    "\n",
    "colours_sorted = {key:colours_all[key] for key in G.nodes}\n",
    "colours = list(colours_sorted.values())\n",
    "\n",
    "print('Number of clusters: ', len(set(clusterid.labels_)))"
   ]
  },
  {
   "cell_type": "markdown",
   "metadata": {},
   "source": [
    "### UMAP CLUSTER Colors (KMEANS)"
   ]
  },
  {
   "cell_type": "code",
   "execution_count": 691,
   "metadata": {},
   "outputs": [],
   "source": [
    "df_posG = pd.DataFrame(posG_3D_complete_umap_norm).T #posG_3Dumap\n",
    "\n",
    "n_clus = 50\n",
    "color_method = 'kmeans'+str(n_clus)\n",
    "\n",
    "kmeans = KMeans(n_clusters=n_clus, random_state=0).fit(df_posG)\n",
    "centrs = kmeans.cluster_centers_\n",
    "\n",
    "# number of genes in each cluster ( used for annotation )\n",
    "d_clus_genecount = dict(Counter(kmeans.labels_))\n",
    "d_clus_genecount_sort = dict(collections.OrderedDict(sorted(d_clus_genecount.items())))\n",
    "l_clus_genecount = list(d_clus_genecount_sort.values())\n",
    "\n",
    "# Centers for clusters ( used for annotation )\n",
    "x=[]\n",
    "y=[]\n",
    "z=[]\n",
    "for i in centrs:\n",
    "    x.append(i[0])\n",
    "    y.append(i[1])\n",
    "    z.append(i[2])\n",
    "\n",
    "annotations_darkmode = []\n",
    "for i in range(len(centrs)):\n",
    "    annot = dict(\n",
    "                    x=centrs[i][0],\n",
    "                    y=centrs[i][1],\n",
    "                    z=centrs[i][2],\n",
    "                    showarrow=True,\n",
    "                    text=f'Cluster: {str(i+1)} <br> total: {str(l_clus_genecount[i])}',\n",
    "                    font=dict(\n",
    "                        color=\"lightgrey\",\n",
    "                        size=8),\n",
    "                    xanchor=\"right\",\n",
    "                    ay=-20,\n",
    "                    ax=-20,\n",
    "                    opacity=0.5,\n",
    "                    arrowhead=0,\n",
    "                    arrowwidth=0.5,\n",
    "                    arrowcolor=\"lightgrey\")\n",
    "    i=+1\n",
    "    annotations_darkmode.append(annot)\n",
    "    \n",
    "\n",
    "annotations_lightmode = []\n",
    "for i in range(len(centrs)):\n",
    "    annot = dict(\n",
    "                    x=centrs[i][0],\n",
    "                    y=centrs[i][1],\n",
    "                    z=centrs[i][2],\n",
    "                    showarrow=True,\n",
    "                    text=f'Cluster: {str(i+1)} <br> total: {str(l_clus_genecount[i])} <br> test next line:  ', # <br> disease: {top_disease} <br> goterm: {top_goterm}',\n",
    "                    font=dict(\n",
    "                        color=\"dimgrey\",\n",
    "                        size=8),\n",
    "                    xanchor=\"right\",\n",
    "                    ay=-20,\n",
    "                    ax=-20,\n",
    "                    opacity=0.5,\n",
    "                    arrowhead=0,\n",
    "                    arrowwidth=0.5,\n",
    "                    arrowcolor=\"dimgrey\"\n",
    "                    )\n",
    "    i=+1\n",
    "    annotations_lightmode.append(annot)\n",
    "    \n",
    "# Colours by Clusters \n",
    "d_node_clusterid = dict(zip(genes, kmeans.labels_))\n",
    "colours_unsort = color_nodes_from_dict_unsort(G, d_node_clusterid, color_method, palette = 'gist_rainbow')\n",
    "\n",
    "genes_val = [1]*len(genes_rest)\n",
    "d_genes_rest = dict(zip(genes_rest, genes_val))\n",
    "colours_rest = color_nodes_from_dict_same(G, d_genes_rest, restnodes_col) #'dimgrey')\n",
    "colours_all = {**colours_rest, **colours_unsort}\n",
    "colours_sorted = {key:colours_all[key] for key in G.nodes}\n",
    "colours = list(colours_sorted.values())"
   ]
  },
  {
   "cell_type": "code",
   "execution_count": null,
   "metadata": {},
   "outputs": [],
   "source": []
  },
  {
   "cell_type": "code",
   "execution_count": null,
   "metadata": {},
   "outputs": [],
   "source": []
  },
  {
   "cell_type": "code",
   "execution_count": null,
   "metadata": {},
   "outputs": [],
   "source": []
  },
  {
   "cell_type": "code",
   "execution_count": 82,
   "metadata": {},
   "outputs": [],
   "source": [
    "top_disease = ('disease')\n",
    "top_goterm = ('go term')"
   ]
  },
  {
   "cell_type": "code",
   "execution_count": 182,
   "metadata": {},
   "outputs": [],
   "source": [
    "# get groups of genes based on clusters\n",
    "\n",
    "d_genegrouped = {} \n",
    "  \n",
    "for key, value in d_node_clusterid.items(): \n",
    "    if value not in d_genegrouped: \n",
    "        d_genegrouped[value] = [key] \n",
    "    else: \n",
    "        d_genegrouped[value].append(key)"
   ]
  },
  {
   "cell_type": "code",
   "execution_count": 273,
   "metadata": {},
   "outputs": [],
   "source": [
    "# get intersection of gene lists in disease and cluster groups\n",
    "\n",
    "d1 = d_genegrouped\n",
    "d2 = d_do_genes\n",
    "\n",
    "\n",
    "# WORK IN PROGRESS \n",
    "d_cluster_intersect = {} \n",
    "for i in range(n_clus):\n",
    "    intersect = [] \n",
    "    for clu,lst1 in d1.items():\n",
    "        for doid, lst2 in d2.items():\n",
    "            intersect.append((set(lst1) & set(lst2)))\n",
    "    d_cluster_intersect[i] = intersect"
   ]
  },
  {
   "cell_type": "code",
   "execution_count": null,
   "metadata": {},
   "outputs": [],
   "source": [
    "# check which DOID genelist shares most genes in one of the cluster genelists"
   ]
  },
  {
   "cell_type": "code",
   "execution_count": null,
   "metadata": {},
   "outputs": [],
   "source": []
  },
  {
   "cell_type": "code",
   "execution_count": null,
   "metadata": {},
   "outputs": [],
   "source": []
  },
  {
   "cell_type": "code",
   "execution_count": null,
   "metadata": {},
   "outputs": [],
   "source": []
  },
  {
   "cell_type": "markdown",
   "metadata": {},
   "source": [
    "# PRINT 3D Portrait"
   ]
  },
  {
   "cell_type": "code",
   "execution_count": 1182,
   "metadata": {},
   "outputs": [
    {
     "name": "stdout",
     "output_type": "stream",
     "text": [
      "Color method:  clos\n",
      "# Neighbours: 20\n",
      "Spread: 10.0\n",
      "Min. Distance: 0.001\n"
     ]
    },
    {
     "data": {
      "text/plain": [
       "'output_plots/3Dportrait_umap_molfunc_clos_20_10.0_0.001_Human_light_edges.html'"
      ]
     },
     "execution_count": 1182,
     "metadata": {},
     "output_type": "execute_result"
    }
   ],
   "source": [
    "print('Color method: ', color_method)\n",
    "\n",
    "print('# Neighbours:', n_neighbors)\n",
    "print('Spread:',spread)\n",
    "print('Min. Distance:', min_dist)\n",
    "\n",
    "umap_nodes = get_trace_nodes_3D(posG_3D_complete_umap_norm, l_features, colours, size3d, opacity_nodes)\n",
    "umap_nodes_transparent = get_trace_nodes_3D(posG_3D_complete_umap_norm, l_features, colours, nodesglow_diameter, nodesglow_transparency)                               \n",
    "\n",
    "umap_edges = get_trace_edges_3D(G, posG_3Dcomplete_umap_norm, edge_colorlight, opac=0.05)\n",
    "#umap_edges = get_trace_spec_edges_only(list(d_edge_col.keys()), posG_3D_complete_umap_norm, disease_col)#go_col)\n",
    "\n",
    "umap_data_edges = [umap_edges, umap_nodes_transparent, umap_nodes]\n",
    "umap_data = [umap_nodes_transparent, umap_nodes]\n",
    "\n",
    "\n",
    "data = umap_data\n",
    "scheme = 'light'\n",
    "fname = 'output_plots/3Dportrait_umap_'+feature+'_'+color_method+'_'+str(n_neighbors)+'_'+str(spread)+'_'+str(min_dist)+'_'+organism+'_'+scheme\n",
    "plot_3D(data, fname, scheme)#, annotations_lightmode)\n",
    "\n",
    "data_edges = umap_data_edges\n",
    "fname_edges = 'output_plots/3Dportrait_umap_'+feature+'_'+color_method+'_'+str(n_neighbors)+'_'+str(spread)+'_'+str(min_dist)+'_'+organism+'_'+scheme+'_edges'\n",
    "plot_3D(data_edges, fname_edges, scheme)#, annotations_lightmode)"
   ]
  },
  {
   "cell_type": "code",
   "execution_count": 1134,
   "metadata": {},
   "outputs": [
    {
     "name": "stdout",
     "output_type": "stream",
     "text": [
      "Color method:  clos\n",
      "# Neighbours: 20\n",
      "Spread: 1.0\n",
      "Min. Distance: 0.001\n"
     ]
    },
    {
     "data": {
      "text/plain": [
       "'output_plots/3Dportrait_umap_adj_clos_20_1.0_0.001_Human_dark_edges.html'"
      ]
     },
     "execution_count": 1134,
     "metadata": {},
     "output_type": "execute_result"
    }
   ],
   "source": [
    "print('Color method: ', color_method)\n",
    "\n",
    "print('# Neighbours:', n_neighbors)\n",
    "print('Spread:',spread)\n",
    "print('Min. Distance:', min_dist)\n",
    "\n",
    "umap_nodes = get_trace_nodes_3D(posG_3D_complete_umap_norm, l_features, colours, size3d, opacity_nodes)\n",
    "umap_nodes_transparent = get_trace_nodes_3D(posG_3D_complete_umap_norm, l_features, colours, nodesglow_diameter, nodesglow_transparency)                               \n",
    "\n",
    "umap_edges = get_trace_edges_3D(G, posG_3D_complete_umap_norm, edge_colordark, opac=0.05)\n",
    "#umap_edges = get_trace_spec_edges_only(list(d_edge_col.keys()), posG_3D_complete_umap_norm, disease_col)#go_col)\n",
    "\n",
    "umap_data_edges = [umap_edges, umap_nodes_transparent, umap_nodes]\n",
    "umap_data = [umap_nodes_transparent, umap_nodes]\n",
    "\n",
    "data = umap_data\n",
    "scheme = 'dark'\n",
    "fname = 'output_plots/3Dportrait_umap_'+feature+'_'+color_method+'_'+str(n_neighbors)+'_'+str(spread)+'_'+str(min_dist)+'_'+organism+'_'+scheme\n",
    "fname_edges = 'output_plots/3Dportrait_umap_'+feature+'_'+color_method+'_'+str(n_neighbors)+'_'+str(spread)+'_'+str(min_dist)+'_'+organism+'_'+scheme+'_edges'\n",
    "plot_3D(data, fname, scheme)#, annotations_lightmode)\n",
    "\n",
    "data_edges = umap_data_edges\n",
    "fname_edges = 'output_plots/3Dportrait_umap_'+feature+'_'+color_method+'_'+str(n_neighbors)+'_'+str(spread)+'_'+str(min_dist)+'_'+organism+'_'+scheme+'_edges'\n",
    "plot_3D(data_edges, fname_edges, scheme)#, annotations_lightmode)"
   ]
  },
  {
   "cell_type": "markdown",
   "metadata": {},
   "source": [
    "#### UMAP PORTRAIT EXPORT Coordinates"
   ]
  },
  {
   "cell_type": "code",
   "execution_count": 401,
   "metadata": {},
   "outputs": [],
   "source": [
    "export_to_csv3D('C_3DPortrait', posG_3D_complete_umap_norm, colours)"
   ]
  },
  {
   "cell_type": "markdown",
   "metadata": {},
   "source": [
    "----\n",
    "## SPHERE\n",
    "### Define r-parameter\n",
    "+ Choose one\n",
    "----"
   ]
  },
  {
   "cell_type": "markdown",
   "metadata": {},
   "source": [
    "#### ------ GO TERM / no-GO TERM ------"
   ]
  },
  {
   "cell_type": "code",
   "execution_count": 631,
   "metadata": {},
   "outputs": [
    {
     "data": {
      "text/plain": [
       "2"
      ]
     },
     "execution_count": 631,
     "metadata": {},
     "output_type": "execute_result"
    }
   ],
   "source": [
    "rad_param = 'goterm'\n",
    "\n",
    "small_rad = 3\n",
    "outershell_rad = 5\n",
    "\n",
    "d_param = {}\n",
    "for i in G.nodes():\n",
    "    if int(i) in DM.index:\n",
    "        d_param[str(i)]=outershell_rad\n",
    "    else:\n",
    "        d_param[str(i)]=small_rad\n",
    "\n",
    "# check how many shells of spheres there will be :\n",
    "len(set(d_param.values()))"
   ]
  },
  {
   "cell_type": "markdown",
   "metadata": {},
   "source": [
    "#### ------ Disease / no-Disease ------"
   ]
  },
  {
   "cell_type": "code",
   "execution_count": 15,
   "metadata": {},
   "outputs": [
    {
     "data": {
      "text/plain": [
       "2"
      ]
     },
     "execution_count": 15,
     "metadata": {},
     "output_type": "execute_result"
    }
   ],
   "source": [
    "rad_param = 'disease'\n",
    "\n",
    "small_rad = 3\n",
    "outershell_rad = 5\n",
    "\n",
    "d_param = {}\n",
    "for i in G.nodes():\n",
    "    if int(i) in DM.index:\n",
    "        d_param[str(i)]=outershell_rad\n",
    "    else:\n",
    "        d_param[str(i)]=small_rad\n",
    "\n",
    "# check how many shells of spheres there will be :\n",
    "len(set(d_param.values()))"
   ]
  },
  {
   "cell_type": "markdown",
   "metadata": {},
   "source": [
    "#### ------ Essentiality ------"
   ]
  },
  {
   "cell_type": "code",
   "execution_count": 675,
   "metadata": {},
   "outputs": [
    {
     "data": {
      "text/plain": [
       "3"
      ]
     },
     "execution_count": 675,
     "metadata": {},
     "output_type": "execute_result"
    }
   ],
   "source": [
    "rad_param = 'essent'\n",
    "\n",
    "small_rad = 1\n",
    "middle_rad = 3\n",
    "outershell_rad = 5\n",
    "\n",
    "\n",
    "d_ess_scores = {}\n",
    "for k,e in d_gID_all.items():\n",
    "    if e == 'E':\n",
    "        d_ess_scores[k] = middle_rad\n",
    "    elif e == 'NE':\n",
    "        d_ess_scores[k] = outershell_rad\n",
    "    else:\n",
    "        d_ess_scores[k] = small_rad\n",
    "\n",
    "d_param = d_ess_scores\n",
    "\n",
    "# check how many shells of spheres there will be :\n",
    "len(set(d_param.values()))"
   ]
  },
  {
   "cell_type": "markdown",
   "metadata": {},
   "source": [
    "#### ------Centrality metrics average ------"
   ]
  },
  {
   "cell_type": "code",
   "execution_count": 364,
   "metadata": {},
   "outputs": [
    {
     "data": {
      "text/plain": [
       "25"
      ]
     },
     "execution_count": 364,
     "metadata": {},
     "output_type": "execute_result"
    }
   ],
   "source": [
    "rad_param = 'centraverage'\n",
    "\n",
    "d_centr = {}\n",
    "for i,j in df_centralities.iterrows():\n",
    "    d_centr[str(i)] = round((j[0]+j[1]+j[2]+j[3])/4,2)\n",
    "\n",
    "d_param = {key:d_centr[key] for key in G.nodes()}\n",
    "\n",
    "# check how many shells of spheres there will be :\n",
    "len(set(d_param.values()))"
   ]
  },
  {
   "cell_type": "markdown",
   "metadata": {},
   "source": [
    "______"
   ]
  },
  {
   "cell_type": "code",
   "execution_count": 678,
   "metadata": {},
   "outputs": [
    {
     "name": "stdout",
     "output_type": "stream",
     "text": [
      "CPU times: user 1min 30s, sys: 4.93 s, total: 1min 35s\n",
      "Wall time: 27.5 s\n"
     ]
    }
   ],
   "source": [
    "%%time \n",
    "\n",
    "n_neighbors = 40 # balance between local and global structure in the data\n",
    "spread = 1.0\n",
    "min_dist = 0.01 # defines how dense points are stacked together \n",
    "metric='cosine'\n",
    "\n",
    "umap_sphere = embed_umap_sphere(DM, n_neighbors, spread, min_dist, metric)"
   ]
  },
  {
   "cell_type": "code",
   "execution_count": 679,
   "metadata": {},
   "outputs": [
    {
     "name": "stdout",
     "output_type": "stream",
     "text": [
      "CPU times: user 13 s, sys: 121 ms, total: 13.1 s\n",
      "Wall time: 13.2 s\n"
     ]
    }
   ],
   "source": [
    "%%time\n",
    "\n",
    "genes_new = []\n",
    "for i in genes:\n",
    "    if i in G.nodes():\n",
    "        genes_new.append(i)\n",
    "\n",
    "posG_3Dsphere = get_posG_sphere(genes_new, umap_sphere)\n",
    "\n",
    "# setting radius according to d_param selected \n",
    "posG_3Dsphere_radius = {}\n",
    "for node,rad in d_param.items():\n",
    "    for k,v in posG_3Dsphere.items():\n",
    "        if k == node:\n",
    "            posG_3Dsphere_radius[k] = (v[0]*rad, v[1]*rad, v[2]*rad)\n",
    "            \n",
    "# REST (if genes = G.nodes then rest will be ignored / empty)\n",
    "\n",
    "# generate spherical coordinates for rest genes (without e.g. GO term or Disease Annotation)\n",
    "indices = arange(0, len(genes_rest))\n",
    "phi = arccos(1 - 2*indices/len(genes_rest))\n",
    "theta = pi * (1 + 5**0.5) * indices\n",
    "\n",
    "r_rest = 3 #0.5 # radius for rest genes (e.g. if functional layout)\n",
    "x, y, z = r_rest*cos(theta) * sin(phi), r_rest*sin(theta) * sin(phi), r_rest*cos(phi)\n",
    "\n",
    "rest_points = []\n",
    "for i,j,k in zip(x,y,z):\n",
    "    rest_points.append((i,j,k))\n",
    "\n",
    "posG_rest = dict(zip(genes_rest, rest_points))\n",
    "\n",
    "posG_all = {**posG_3Dsphere_radius, **posG_rest}\n",
    "posG_complete_sphere = {key:posG_all[key] for key in G.nodes()}\n",
    "\n",
    "# normalize coordinates \n",
    "x_list = []\n",
    "y_list = []\n",
    "z_list = []\n",
    "for k,v in posG_complete_sphere.items():\n",
    "    x_list.append(v[0])\n",
    "    y_list.append(v[1])\n",
    "    z_list.append(v[2])\n",
    "    \n",
    "xx_norm = sklearn.preprocessing.minmax_scale(x_list, feature_range=(0, 1), axis=0, copy=True)\n",
    "yy_norm = sklearn.preprocessing.minmax_scale(y_list, feature_range=(0, 1), axis=0, copy=True)\n",
    "zz_norm = sklearn.preprocessing.minmax_scale(z_list, feature_range=(0, 1), axis=0, copy=True)\n",
    "\n",
    "#posG_complete_sphere_norm = dict(zip(list(G.nodes()), zip(xx_norm,yy_norm,zz_norm)))\n",
    "posG_complete_sphere_norm = dict(zip(list(G.nodes()), zip(x_list,y_list,z_list)))"
   ]
  },
  {
   "cell_type": "markdown",
   "metadata": {},
   "source": [
    "### ---- KMEANS CLUSTERING (in progress) ------"
   ]
  },
  {
   "cell_type": "code",
   "execution_count": 732,
   "metadata": {},
   "outputs": [],
   "source": [
    "#df_posG = pd.DataFrame(posG_complete_sphere_norm).T \n",
    "#df_posG = pd.DataFrame(posG_3Dsphere_radius).T \n",
    "\n",
    "df_posG = pd.DataFrame(posG_3Dsphere).T \n",
    "\n",
    "n_clus = 10\n",
    "color_method = 'kmeans'+str(n_clus)\n",
    "\n",
    "kmeans = KMeans(n_clusters=n_clus, random_state=0).fit(df_posG)\n",
    "centrs = kmeans.cluster_centers_\n",
    "\n",
    "\n",
    "# number of genes in each cluster ( used for annotation )\n",
    "d_clus_genecount = dict(Counter(kmeans.labels_))\n",
    "l_clus_genecount = list(d_clus_genecount.values())\n",
    "    \n",
    "# Colours by Clusters \n",
    "d_node_clusterid = dict(zip(genes, kmeans.labels_))\n",
    "colours_unsort = color_nodes_from_dict_unsort(d_node_clusterid, color_method, palette = sns.color_palette(\"hls\", len(set(kmeans.labels_))))\n",
    "\n",
    "genes_val = [1]*len(genes_rest)\n",
    "d_genes_rest = dict(zip(genes_rest, genes_val))\n",
    "colours_rest = color_nodes_from_dict_same(G, d_genes_rest, restnodes_col) #'dimgrey')\n",
    "colours_all = {**colours_rest, **colours_unsort}\n",
    "colours_sorted = {key:colours_all[key] for key in G.nodes}\n",
    "colours = list(colours_sorted.values())\n",
    "\n",
    "\n",
    "# add cluster centers and highlight them in visualization \n",
    "\n",
    "\n",
    "posG_clustercentrs = dict(zip(d_clus_genecount.keys(),centrs))\n",
    "\n",
    "d_clusterid_col = {}\n",
    "for node,col in colours_unsort.items():\n",
    "    for nod, clus in d_node_clusterid.items():\n",
    "        if node == nod:\n",
    "            d_clusterid_col[clus] = col\n",
    "            \n",
    "d_clusterid_col_sort = dict(collections.OrderedDict(sorted(d_clusterid_col.items())))\n",
    "\n",
    "prelim = {}\n",
    "for n,clu in d_node_clusterid.items():\n",
    "    for no, rad in d_param.items():\n",
    "        if n == no: \n",
    "            prelim[clu]=rad\n",
    "            \n",
    "posG_clustercentrs_radius = {}\n",
    "for clu, rad in prelim.items():\n",
    "    for c, coords in posG_clustercentrs.items():\n",
    "        if clu == c:\n",
    "            posG_clustercentrs_radius[c]=(coords[0]*rad, coords[1]*rad, coords[2]*rad)\n",
    "            \n",
    "clusterglow_diameter = 25.0\n",
    "clusterglow_transparency = 0.05\n",
    "colours_clusters = list(d_clusterid_col_sort.values())\n",
    "\n",
    "umap_clustercenters_transparent = get_trace_nodes_3D(posG_clustercentrs_radius, None, colours_clusters , clusterglow_diameter, clusterglow_transparency)\n",
    "\n",
    "\n",
    "# add Cluster Annotation\n",
    "\n",
    "d_clusterid_coords = posG_clustercentrs_radius\n",
    "mod = 'light'\n",
    "d_genes_per_cluster = d_clus_genecount\n",
    "\n",
    "annot_clusters = cluster_annotation(d_clusterid_coords, d_genes_per_cluster, mode = mod)"
   ]
  },
  {
   "cell_type": "code",
   "execution_count": 743,
   "metadata": {},
   "outputs": [],
   "source": [
    "# add Genes Annotation\n",
    "\n",
    "# choose a gene list by gene symbol \n",
    "genesym_selection = ['TP53','APP','DOCK2','EGFR']\n",
    "\n",
    "d_genes = {}\n",
    "for k,v in d_gene_sym.items():\n",
    "    if v in genesym_selection:\n",
    "        d_genes[k]=v\n",
    "        \n",
    "posG_genelist = {}\n",
    "for k,v in posG_complete_sphere_norm.items():\n",
    "    for g in d_genes.keys():\n",
    "        if k == g:\n",
    "            posG_genelist[g] = v\n",
    "            \n",
    "            \n",
    "posG_genes = posG_genelist\n",
    "mod_dark = 'dark'\n",
    "annotation_darkmode_genes = genes_annotation(posG_genes, d_genes, mode = mod_dark)\n",
    "\n",
    "mod_light = 'light'\n",
    "annotation_lightmode_genes = genes_annotation(posG_genes, d_genes, mode = mod_light)"
   ]
  },
  {
   "cell_type": "markdown",
   "metadata": {},
   "source": [
    "### ---- DBSCAN and HDBSCAN CLUSTERING (in progress) ------"
   ]
  },
  {
   "cell_type": "code",
   "execution_count": 748,
   "metadata": {},
   "outputs": [
    {
     "name": "stdout",
     "output_type": "stream",
     "text": [
      "Number of clusters:  104\n"
     ]
    }
   ],
   "source": [
    "df_posG = pd.DataFrame(posG_3Dsphere).T \n",
    "\n",
    "# eps = Density at a point P: Number of points within a circle of Radius Eps (ϵ) from point P\n",
    "# MinPts = Dense Region: For each point in the cluster, the circle with radius ϵ contains at least minimum number of points (MinPts)\n",
    "\n",
    "epsi = 0.1\n",
    "min_sam = 2\n",
    "dbscan = DBSCAN(eps=epsi, min_samples=min_sam).fit(df_posG)\n",
    "d_node_clusterid = dict(zip(genes, dbscan.labels_))\n",
    "\n",
    "\n",
    "# colour parameter from cluster \n",
    "colours_unsort = color_nodes_from_dict_unsort(d_node_clusterid, color_method, palette = 'gist_rainbow') #'Set1' #'gist_rainbow' #'ocean' #'prism' #'rainbow'\n",
    "\n",
    "genes_val = [1]*len(genes_rest)\n",
    "d_genes_rest = dict(zip(genes_rest, genes_val))\n",
    "colours_rest = color_nodes_from_dict_same(G, d_genes_rest, restnodes_col) #'#696969' #'dimgrey')\n",
    "\n",
    "colours_all = {**colours_rest, **colours_unsort}\n",
    "\n",
    "colours_sorted = {key:colours_all[key] for key in G.nodes}\n",
    "colours = list(colours_sorted.values())\n",
    "\n",
    "print('Number of clusters: ', len(set(clusterid.labels_)))\n",
    "color_method = 'dbscan'+str(len(set(clusterid.labels_)))+'eps'+str(epsi)+'minsam'+str(min_sam)\n"
   ]
  },
  {
   "cell_type": "markdown",
   "metadata": {},
   "source": [
    "# PRINT Sphere"
   ]
  },
  {
   "cell_type": "code",
   "execution_count": 749,
   "metadata": {},
   "outputs": [
    {
     "name": "stdout",
     "output_type": "stream",
     "text": [
      "Color method:  dbscan104eps0.1minsam2\n",
      "# Neighbours: 40\n",
      "Spread: 1.0\n",
      "Min. Distance: 0.01\n"
     ]
    },
    {
     "data": {
      "text/plain": [
       "'output_plots/3Dsphere_umap_disease_dbscan104eps0.1minsam2_40_1.0_0.01_Human_radiusessent.html'"
      ]
     },
     "execution_count": 749,
     "metadata": {},
     "output_type": "execute_result"
    }
   ],
   "source": [
    "print('Color method: ', color_method)\n",
    "\n",
    "print('# Neighbours:', n_neighbors)\n",
    "print('Spread:',spread)\n",
    "print('Min. Distance:', min_dist)\n",
    "\n",
    "umap_nodes = get_trace_nodes_3D(posG_complete_sphere_norm, l_features, colours, \n",
    "                                #1.0, \n",
    "                                size3d, \n",
    "                                opacity_nodes)\n",
    "umap_nodes_transparent = get_trace_nodes_3D(posG_complete_sphere_norm, l_features, colours, nodesglow_diameter, nodesglow_transparency)\n",
    "\n",
    "umap_edges = get_trace_edges_3D(G, posG_complete_sphere_norm, edge_colorlight, 0.05)\n",
    "\n",
    "umap_data_edges = [umap_edges, umap_nodes_transparent, umap_nodes]\n",
    "umap_data = [umap_nodes_transparent, umap_nodes]\n",
    "#umap_data = [umap_nodes_transparent, umap_clustercenters_transparent, umap_nodes]\n",
    "\n",
    "\n",
    "data = umap_data\n",
    "scheme = 'light'\n",
    "fname = 'output_plots/3Dsphere_umap_'+feature+'_'+color_method+'_'+str(n_neighbors)+'_'+str(spread)+'_'+str(min_dist)+'_'+organism+'_radius'+rad_param\n",
    "\n",
    "plot_3D(data, fname, scheme, annotation_lightmode_genes)\n",
    "#plot_3D(data, fname, scheme, annot_clusters)\n",
    "#plot_3D(data, fname, scheme, annotations_lightmode_genelist)\n",
    "\n",
    "#data_edges = umap_data_edges\n",
    "#fname_edges = 'output_plots/3Dsphere_umap_'+feature+'_'+color_method+'_'+str(n_neighbors)+'_'+str(spread)+'_'+str(min_dist)+'_'+organism+'_radius'+rad_param+'_edges'\n",
    "#plot_3D(data_edges, fname_edges, scheme)#, annotations_lightmode)"
   ]
  },
  {
   "cell_type": "code",
   "execution_count": 750,
   "metadata": {},
   "outputs": [
    {
     "name": "stdout",
     "output_type": "stream",
     "text": [
      "Color method:  dbscan104eps0.1minsam2\n",
      "# Neighbours: 40\n",
      "Spread: 1.0\n",
      "Min. Distance: 0.01\n"
     ]
    },
    {
     "data": {
      "text/plain": [
       "'output_plots/3Dsphere_umap_disease_dbscan104eps0.1minsam2_40_1.0_0.01_Human_radiusessent.html'"
      ]
     },
     "execution_count": 750,
     "metadata": {},
     "output_type": "execute_result"
    }
   ],
   "source": [
    "print('Color method: ', color_method)\n",
    "\n",
    "print('# Neighbours:', n_neighbors)\n",
    "print('Spread:',spread)\n",
    "print('Min. Distance:', min_dist)\n",
    "\n",
    "umap_nodes = get_trace_nodes_3D(posG_complete_sphere_norm, l_features, colours, \n",
    "                                #1.0,\n",
    "                                size3d, \n",
    "                                opacity_nodes)\n",
    "umap_nodes_transparent = get_trace_nodes_3D(posG_complete_sphere_norm, l_features, colours, nodesglow_diameter,nodesglow_transparency)                               \n",
    "\n",
    "umap_edges = get_trace_edges_3D(G, posG_complete_sphere_norm, edge_colordark, 0.05)\n",
    "\n",
    "umap_data_edges = [umap_edges, umap_nodes_transparent, umap_nodes]\n",
    "umap_data = [umap_nodes_transparent, umap_nodes]\n",
    "#umap_data = [umap_nodes_transparent, umap_clustercenters_transparent, umap_nodes]\n",
    "\n",
    "\n",
    "data = umap_data\n",
    "scheme = 'dark'\n",
    "fname = 'output_plots/3Dsphere_umap_'+feature+'_'+color_method+'_'+str(n_neighbors)+'_'+str(spread)+'_'+str(min_dist)+'_'+organism+'_radius'+rad_param\n",
    "\n",
    "plot_3D(data, fname, scheme, annotation_darkmode_genes)\n",
    "#plot_3D(data, fname, scheme)#, annotations_darkmode)\n",
    "#plot_3D(data, fname, scheme, annotations_darkmode_genelist)\n",
    "\n",
    "#data_edges = umap_data_edges\n",
    "#fname_edges = 'output_plots/3Dsphere_umap_'+feature+'_'+color_method+'_'+str(n_neighbors)+'_'+str(spread)+'_'+str(min_dist)+'_'+organism+'_radius'+rad_param+'_edges'\n",
    "#plot_3D(data_edges, fname_edges, scheme)#, annotations_lightmode)"
   ]
  },
  {
   "cell_type": "markdown",
   "metadata": {},
   "source": [
    "#### UMAP SPHERE EXPORT TO CSV"
   ]
  },
  {
   "cell_type": "code",
   "execution_count": 60,
   "metadata": {},
   "outputs": [],
   "source": [
    "export_to_csv3D('C_Sphere', posG_complete_sphere_norm, colours)"
   ]
  },
  {
   "cell_type": "code",
   "execution_count": null,
   "metadata": {},
   "outputs": [],
   "source": []
  },
  {
   "cell_type": "code",
   "execution_count": null,
   "metadata": {},
   "outputs": [],
   "source": []
  },
  {
   "cell_type": "code",
   "execution_count": null,
   "metadata": {},
   "outputs": [],
   "source": []
  },
  {
   "cell_type": "code",
   "execution_count": null,
   "metadata": {},
   "outputs": [],
   "source": []
  },
  {
   "cell_type": "markdown",
   "metadata": {},
   "source": [
    "### SOME OTHER THINGS"
   ]
  },
  {
   "cell_type": "code",
   "execution_count": 1088,
   "metadata": {},
   "outputs": [
    {
     "name": "stdout",
     "output_type": "stream",
     "text": [
      "Disease:  cancer\n"
     ]
    },
    {
     "data": {
      "image/png": "[encoded data removed]",
      "text/plain": [
       "<Figure size 576x720 with 1 Axes>"
      ]
     },
     "metadata": {
      "needs_background": "light"
     },
     "output_type": "display_data"
    }
   ],
   "source": [
    "# Diagrams for ESSENTIALITY \n",
    "# how many cances genes are essential, non-essential, undefined\n",
    "\n",
    "print('Disease: ', disease_category)\n",
    "disease_ess = []\n",
    "disease_noness = []\n",
    "disease_undef = []\n",
    "for g in genes:\n",
    "    if g in essential_genes:\n",
    "        disease_ess.append(g)\n",
    "    elif g in non_ess_genes:\n",
    "        disease_noness.append(g)\n",
    "    else:\n",
    "        disease_undef.append(g)\n",
    "        \n",
    "categories = ['Essential', 'Non Essential', 'Undefined']\n",
    "num_disease = [len(disease_ess), len(disease_noness), len(disease_undef)]\n",
    "  \n",
    "fig = plt.figure(figsize = (8,10))\n",
    " \n",
    "# creating the bar plot\n",
    "plt.bar(categories, num_disease, width=0.5, color=[essential_col,noessential_col, undefined_col])\n",
    "\n",
    "plt.ylabel(\"No. of Disease Genes\", fontsize=12)\n",
    "plt.savefig('output_plots/Essentialgenes_Cancergenes.pdf',dpi=300)\n",
    "\n",
    "plt.show()"
   ]
  },
  {
   "cell_type": "code",
   "execution_count": 929,
   "metadata": {},
   "outputs": [
    {
     "data": {
      "image/png": "[encoded data removed]",
      "text/plain": [
       "<Figure size 432x288 with 1 Axes>"
      ]
     },
     "metadata": {},
     "output_type": "display_data"
    }
   ],
   "source": [
    "labels = 'Essential Genes: '+str(len(essential_genes)), 'Non essential Genes: '+str(len(non_ess_genes)), 'Undefined state: '+str(len(notdefined_genes))\n",
    "sizes = [len(essential_genes), len(non_ess_genes), len(notdefined_genes)]\n",
    "colors = [essential_col,noessential_col, undefined_col]\n",
    "explode = (0.1, 0, 0, 0)  # explode 1st slice\n",
    "\n",
    "# Plot\n",
    "plt.pie(sizes, labels=labels, colors=colors)\n",
    "plt.axis('equal')\n",
    "plt.savefig('output_plots/Essentialgenes_pie.pdf',dpi=300)\n",
    "\n",
    "plt.show()"
   ]
  },
  {
   "cell_type": "code",
   "execution_count": null,
   "metadata": {},
   "outputs": [],
   "source": []
  },
  {
   "cell_type": "code",
   "execution_count": null,
   "metadata": {},
   "outputs": [],
   "source": []
  },
  {
   "cell_type": "code",
   "execution_count": null,
   "metadata": {},
   "outputs": [],
   "source": []
  },
  {
   "cell_type": "code",
   "execution_count": null,
   "metadata": {},
   "outputs": [],
   "source": []
  },
  {
   "cell_type": "markdown",
   "metadata": {},
   "source": [
    "# ===============\n",
    "# UNDER CONSTRUCTION "
   ]
  },
  {
   "cell_type": "markdown",
   "metadata": {},
   "source": [
    "### SPECIFIC COLORING FUNCTIONS"
   ]
  },
  {
   "cell_type": "code",
   "execution_count": 323,
   "metadata": {},
   "outputs": [],
   "source": [
    "# -------------------------------------------\n",
    "# DETECTING HUBS \n",
    "# and color them + their adjacent neighbours\n",
    "# -------------------------------------------\n",
    "\n",
    "# get list of hubs\n",
    "d_degree = dict(nx.degree(G))\n",
    "\n",
    "\n",
    "# -------------------------------------------\n",
    "# CHOOSE TRESHOLDS \n",
    "# -------------------------------------------\n",
    "min_treshold = 300\n",
    "max_treshold = max(d_degree.values())\n",
    "# -------------------------------------------\n",
    "\n",
    "# hubs identified by tresholds \n",
    "hubs = {}\n",
    "for k,v in d_degree.items():\n",
    "    if v >= min_treshold and v <= max_treshold:\n",
    "        hubs[k] = v\n",
    "\n",
    "# get their neighbours\n",
    "neighbours = {}\n",
    "hubs_neigh =[]\n",
    "for i in hubs.keys():\n",
    "    for edge in G.edges():\n",
    "        if edge[0] == i:\n",
    "            hubs_neigh.append(edge[1])\n",
    "        elif edge[1] == i:\n",
    "            hubs_neigh.append(edge[0])\n",
    "        neighbours[i] = hubs_neigh\n",
    "    \n",
    "# check for neighbours degree (like if they are only connected to the hub itself, meaning k=1)\n",
    "neighbours_degs = {}\n",
    "neigh_degs = []\n",
    "for key,val in neighbours.items():\n",
    "    for n in val:\n",
    "        for k,v in d_degree.items():\n",
    "            if k == n:\n",
    "                neigh_degs.append(v)\n",
    "    neighbours_degs[key] = neigh_degs\n",
    "    \n",
    "        \n",
    "# COLOURING hub nodes and their neighbours \n",
    "\n",
    "\n",
    "# -------------------------------------------\n",
    "# CHOOSE COLOURS\n",
    "# -------------------------------------------\n",
    "col_hubs = 'red'\n",
    "col_neigh = 'orange'\n",
    "# -------------------------------------------\n",
    "\n",
    "colours_hubs = {}\n",
    "for i in G.nodes():\n",
    "    if i in hubs_neigh:\n",
    "        colours_hubs[i] = col_neigh\n",
    "    elif i in hubs:\n",
    "        colours_hubs[i] = col_hubs\n",
    "    else: \n",
    "        colours_hubs[i] = '#696969' #'dimgrey'\n",
    "hubs_all_sorted = {key:colours_hubs[key] for key in G.nodes()}"
   ]
  },
  {
   "cell_type": "code",
   "execution_count": 283,
   "metadata": {},
   "outputs": [],
   "source": [
    "# TO DO  - color edges outgoing from those Hubs too!!!"
   ]
  },
  {
   "cell_type": "code",
   "execution_count": null,
   "metadata": {},
   "outputs": [],
   "source": []
  },
  {
   "cell_type": "code",
   "execution_count": 295,
   "metadata": {},
   "outputs": [],
   "source": [
    "# -------------------------------------------\n",
    "# DETECTING BRIDGING NODES \n",
    "# and color them + their adjacent neighbours\n",
    "# -------------------------------------------\n",
    "\n",
    "\n",
    "# COLOURING betweenness / bridging nodes + all others in grey \n",
    "\n",
    "col_betw = 'darkblue'\n",
    "col_betwneigh = 'mediumblue'\n",
    "\n",
    "min_tres = 0.06\n",
    "\n",
    "betw_nodes_col = {}\n",
    "for k,v in d_betw.items():\n",
    "    if v >= min_tres:\n",
    "        betw_nodes_col[k] = col_betw\n",
    "    else:\n",
    "        betw_nodes_col[k] = 'lightgrey'\n",
    "\n",
    "\n",
    "# COLOURING all neighbours of bridging nodes \n",
    "\n",
    "betw_neighbours = {}\n",
    "betw_neigh =[]\n",
    "for i in betw_nodes.keys():\n",
    "    for edge in G.edges():\n",
    "        if edge[0] == i:\n",
    "            betw_neigh.append(edge[1])\n",
    "        elif edge[1] == i:\n",
    "            betw_neigh.append(edge[0])\n",
    "        betw_neighbours[i] = betw_neigh\n",
    "        \n",
    "betw_neigh_col = {}\n",
    "for key, value in betw_neighbours.items():\n",
    "    for v in value:\n",
    "        betw_neigh_col[v] = col_betwneigh\n",
    "        \n",
    "betw_all = {**betw_nodes_col, **betw_neigh_col}\n",
    "betw_all_sorted = {key:betw_all[key] for key in G.nodes()}"
   ]
  },
  {
   "cell_type": "code",
   "execution_count": 296,
   "metadata": {},
   "outputs": [],
   "source": [
    "# TO DO  - color edges outgoing from those Hubs too!!!"
   ]
  },
  {
   "cell_type": "code",
   "execution_count": null,
   "metadata": {},
   "outputs": [],
   "source": []
  },
  {
   "cell_type": "code",
   "execution_count": null,
   "metadata": {},
   "outputs": [],
   "source": [
    "# T H E O R Y \n",
    "\n",
    "\n",
    "# TO DO \n",
    "\n",
    "\n",
    "# -------------------------------------------\n",
    "# DETECTING \"PERIPHERAL / ISOLATED\" HUBS \n",
    "# and color them + their adjacent neighbours\n",
    "# -------------------------------------------\n",
    "\n",
    "\n",
    "# check for low degree neighbours : \n",
    "neighbours_degs_filtered = {}\n",
    "for k,v in neighbours_degs.items():\n",
    "    if v <= 2:\n",
    "        neighbours_degs_filtered[k] = v"
   ]
  },
  {
   "cell_type": "code",
   "execution_count": null,
   "metadata": {},
   "outputs": [],
   "source": [
    "# V I S U A L \n",
    "\n",
    "\n",
    "# TO DO  \n",
    "# - edge opacity \n",
    "# - node opacity \n",
    "\n",
    "\n",
    "\n",
    "# TO DO FOR WEBAPP \n",
    "# make gene list as input for the color functions \n",
    "# to choose like: (WEBAPP) \n",
    "\n",
    "# input gene list\n",
    "# choose major color\n",
    "# choose if neighbours shall also be coloured > then choose their color too\n",
    "\n",
    "# opacity of nodes will be affected by that (most visible = major, least = none) \n",
    "# opcacity of edges !!!! \n",
    "\n",
    "\n",
    "\n",
    "# TO DO  : \n",
    "# - revive old hubs colouring function > where each hubs would come out as different color\n",
    "# edge colouring there too ??? "
   ]
  },
  {
   "cell_type": "code",
   "execution_count": null,
   "metadata": {},
   "outputs": [],
   "source": []
  },
  {
   "cell_type": "code",
   "execution_count": null,
   "metadata": {},
   "outputs": [],
   "source": [
    "# TOGGLE colour method: \n",
    "\n",
    "# ------------------\n",
    "# HUB NODES \n",
    "# ------------------\n",
    "color_method = 'hubs'\n",
    "colours = list(hubs_all_sorted.values())\n",
    "\n",
    "\n",
    "# ------------------\n",
    "# PERIPHERAL HUB\n",
    "# ------------------\n",
    "#color_method = 'isol_hubs'\n",
    "\n",
    "\n",
    "\n",
    "# ------------------\n",
    "# BETWEENNESS NODES (bridging nodes)\n",
    "# ------------------\n",
    "#color_method = 'betw'\n",
    "#colours = list(betw_all_sorted.values())"
   ]
  },
  {
   "cell_type": "code",
   "execution_count": null,
   "metadata": {},
   "outputs": [],
   "source": []
  },
  {
   "cell_type": "markdown",
   "metadata": {},
   "source": [
    "# =============="
   ]
  },
  {
   "cell_type": "code",
   "execution_count": null,
   "metadata": {},
   "outputs": [],
   "source": []
  },
  {
   "cell_type": "code",
   "execution_count": null,
   "metadata": {},
   "outputs": [],
   "source": []
  },
  {
   "cell_type": "markdown",
   "metadata": {},
   "source": [
    "# Sphere Colours based on Clusters"
   ]
  },
  {
   "cell_type": "markdown",
   "metadata": {},
   "source": [
    "### UMAP CLUSTER Colors (Spectral)"
   ]
  },
  {
   "cell_type": "code",
   "execution_count": 1332,
   "metadata": {},
   "outputs": [
    {
     "name": "stderr",
     "output_type": "stream",
     "text": [
      "/Users/chris/opt/anaconda3/lib/python3.8/site-packages/sklearn/manifold/_spectral_embedding.py:236: UserWarning:\n",
      "\n",
      "Graph is not fully connected, spectral embedding may not work as expected.\n",
      "\n"
     ]
    }
   ],
   "source": [
    "# SPECTRAL from sklearn\n",
    "from sklearn.cluster import SpectralClustering\n",
    "\n",
    "df_posG = pd.DataFrame(posG_3Dsphere_radius).T\n",
    "genes = genes_new \n",
    "\n",
    "n_clus = 30\n",
    "color_method = 'spectral'\n",
    "\n",
    "model = SpectralClustering(n_clusters=n_clus,n_components = 3, affinity='nearest_neighbors')\n",
    "clusterid = model.fit(df_posG)\n",
    "d_node_clusterid = dict(zip(genes, clusterid.labels_))\n",
    "\n",
    "#clusterid = model.fit_predict(df_posG)\n",
    "#d_node_clusterid = dict(zip(genes, clusterid))\n",
    "\n",
    "# colour parameter from cluster \n",
    "colours_unsort = color_nodes_from_dict_unsort(G, d_node_clusterid, color_method, palette = 'Set1')\n",
    "\n",
    "genes_val = [1]*len(genes_rest)\n",
    "d_genes_rest = dict(zip(genes_rest, genes_val))\n",
    "colours_rest = color_nodes_from_dict_same(G, d_genes_rest, restnodes_col) #'dimgrey')\n",
    "\n",
    "colours_all = {**colours_rest, **colours_unsort}\n",
    "\n",
    "colours_sorted = {key:colours_all[key] for key in G.nodes}\n",
    "colours = list(colours_sorted.values())"
   ]
  },
  {
   "cell_type": "markdown",
   "metadata": {},
   "source": [
    "### UMAP CLUSTER Colors (DBSCAN)"
   ]
  },
  {
   "cell_type": "code",
   "execution_count": 167,
   "metadata": {},
   "outputs": [],
   "source": [
    "from sklearn.cluster import DBSCAN\n",
    "\n",
    "color_method = 'dbscan'\n",
    "df_posG = pd.DataFrame(posG_complete_sphere_norm).T\n",
    "\n",
    "# eps = Density at a point P: Number of points within a circle of Radius Eps (ϵ) from point P\n",
    "# MinPts = Dense Region: For each point in the cluster, the circle with radius ϵ contains at least minimum number of points (MinPts)\n",
    "clustering = DBSCAN(eps=0.5, min_samples=10) \n",
    "\n",
    "clusterid = clustering.fit_predict(df_posG)\n",
    "\n",
    "d_node_clusterid = dict(zip(genes_new, clusterid))\n",
    "\n",
    "# colour parameter from cluster \n",
    "colours_unsort = color_nodes_from_dict_unsort(G, d_node_clusterid, color_method, palette = 'prism')\n",
    "\n",
    "genes_val = [1]*len(genes_rest)\n",
    "d_genes_rest = dict(zip(genes_rest, genes_val))\n",
    "colours_rest = color_nodes_from_dict_same(G, d_genes_rest, restnodes_col) #'dimgrey')\n",
    "\n",
    "colours_all = {**colours_rest, **colours_unsort}\n",
    "\n",
    "colours_sorted = {str(key):colours_all[key] for key in G.nodes}\n",
    "colours = list(colours_sorted.values())"
   ]
  },
  {
   "cell_type": "code",
   "execution_count": null,
   "metadata": {},
   "outputs": [],
   "source": []
  }
 ],
 "metadata": {
  "kernelspec": {
   "display_name": "myenv",
   "language": "python",
   "name": "myenv"
  },
  "language_info": {
   "codemirror_mode": {
    "name": "ipython",
    "version": 3
   },
   "file_extension": ".py",
   "mimetype": "text/x-python",
   "name": "python",
   "nbconvert_exporter": "python",
   "pygments_lexer": "ipython3",
   "version": "3.8.2"
  }
 },
 "nbformat": 4,
 "nbformat_minor": 4
}
