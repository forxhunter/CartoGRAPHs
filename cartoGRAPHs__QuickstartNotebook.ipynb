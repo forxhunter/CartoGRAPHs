{
 "cells": [
  {
   "cell_type": "markdown",
   "id": "positive-supervision",
   "metadata": {},
   "source": [
    "-----\n",
    "# cartoGRAPHs | Quickstarter notebook\n",
    "- A Notebook to produce 2D and 3D network layouts from any Graph,\n",
    "including interactive visualization (html files) and export functions \n",
    "to import into the VRNetzer analytics platform by Pirch et al.\n",
    "-----"
   ]
  },
  {
   "cell_type": "code",
   "execution_count": 2,
   "id": "ebe2dfc7",
   "metadata": {},
   "outputs": [
    {
     "name": "stdout",
     "output_type": "stream",
     "text": [
      "Collecting cartoGRAPHs==1.9.3\n",
      "  Downloading cartoGRAPHs-1.9.3-py3-none-any.whl.metadata (7.1 kB)\n",
      "Collecting numpy (from cartoGRAPHs==1.9.3)\n",
      "  Using cached numpy-1.26.1-cp39-cp39-macosx_10_9_x86_64.whl.metadata (61 kB)\n",
      "Collecting pandas (from cartoGRAPHs==1.9.3)\n",
      "  Using cached pandas-2.1.1-cp39-cp39-macosx_10_9_x86_64.whl.metadata (18 kB)\n",
      "Collecting matplotlib (from cartoGRAPHs==1.9.3)\n",
      "  Using cached matplotlib-3.8.0-cp39-cp39-macosx_10_12_x86_64.whl.metadata (5.8 kB)\n",
      "Collecting seaborn (from cartoGRAPHs==1.9.3)\n",
      "  Using cached seaborn-0.13.0-py3-none-any.whl.metadata (5.3 kB)\n",
      "Collecting scipy (from cartoGRAPHs==1.9.3)\n",
      "  Using cached scipy-1.11.3-cp39-cp39-macosx_10_9_x86_64.whl.metadata (60 kB)\n",
      "Collecting networkx (from cartoGRAPHs==1.9.3)\n",
      "  Using cached networkx-3.2-py3-none-any.whl.metadata (5.2 kB)\n",
      "Collecting plotly (from cartoGRAPHs==1.9.3)\n",
      "  Using cached plotly-5.17.0-py2.py3-none-any.whl.metadata (7.0 kB)\n",
      "Collecting colormath (from cartoGRAPHs==1.9.3)\n",
      "  Using cached colormath-3.0.0-py3-none-any.whl\n",
      "Collecting umap-learn (from cartoGRAPHs==1.9.3)\n",
      "  Using cached umap_learn-0.5.4-py3-none-any.whl\n",
      "Collecting scikit-learn (from cartoGRAPHs==1.9.3)\n",
      "  Using cached scikit_learn-1.3.1-cp39-cp39-macosx_10_9_x86_64.whl.metadata (11 kB)\n",
      "Collecting shapely (from cartoGRAPHs==1.9.3)\n",
      "  Using cached shapely-2.0.2-cp39-cp39-macosx_10_9_x86_64.whl.metadata (7.0 kB)\n",
      "Collecting numba (from cartoGRAPHs==1.9.3)\n",
      "  Using cached numba-0.58.1-cp39-cp39-macosx_10_9_x86_64.whl.metadata (2.7 kB)\n",
      "Collecting tensorflow (from cartoGRAPHs==1.9.3)\n",
      "  Using cached tensorflow-2.14.0-cp39-cp39-macosx_10_15_x86_64.whl.metadata (3.9 kB)\n",
      "Collecting contourpy>=1.0.1 (from matplotlib->cartoGRAPHs==1.9.3)\n",
      "  Using cached contourpy-1.1.1-cp39-cp39-macosx_10_9_x86_64.whl.metadata (5.9 kB)\n",
      "Collecting cycler>=0.10 (from matplotlib->cartoGRAPHs==1.9.3)\n",
      "  Using cached cycler-0.12.1-py3-none-any.whl.metadata (3.8 kB)\n",
      "Collecting fonttools>=4.22.0 (from matplotlib->cartoGRAPHs==1.9.3)\n",
      "  Using cached fonttools-4.43.1-cp39-cp39-macosx_10_9_x86_64.whl.metadata (152 kB)\n",
      "Collecting kiwisolver>=1.0.1 (from matplotlib->cartoGRAPHs==1.9.3)\n",
      "  Using cached kiwisolver-1.4.5-cp39-cp39-macosx_10_9_x86_64.whl.metadata (6.4 kB)\n",
      "Requirement already satisfied: packaging>=20.0 in ./.venv/lib/python3.9/site-packages (from matplotlib->cartoGRAPHs==1.9.3) (23.2)\n",
      "Collecting pillow>=6.2.0 (from matplotlib->cartoGRAPHs==1.9.3)\n",
      "  Using cached Pillow-10.1.0-cp39-cp39-macosx_10_10_x86_64.whl.metadata (9.5 kB)\n",
      "Collecting pyparsing>=2.3.1 (from matplotlib->cartoGRAPHs==1.9.3)\n",
      "  Using cached pyparsing-3.1.1-py3-none-any.whl.metadata (5.1 kB)\n",
      "Requirement already satisfied: python-dateutil>=2.7 in ./.venv/lib/python3.9/site-packages (from matplotlib->cartoGRAPHs==1.9.3) (2.8.2)\n",
      "Collecting importlib-resources>=3.2.0 (from matplotlib->cartoGRAPHs==1.9.3)\n",
      "  Using cached importlib_resources-6.1.0-py3-none-any.whl.metadata (4.1 kB)\n",
      "Collecting llvmlite<0.42,>=0.41.0dev0 (from numba->cartoGRAPHs==1.9.3)\n",
      "  Using cached llvmlite-0.41.1-cp39-cp39-macosx_10_9_x86_64.whl.metadata (4.8 kB)\n",
      "Collecting pytz>=2020.1 (from pandas->cartoGRAPHs==1.9.3)\n",
      "  Using cached pytz-2023.3.post1-py2.py3-none-any.whl.metadata (22 kB)\n",
      "Collecting tzdata>=2022.1 (from pandas->cartoGRAPHs==1.9.3)\n",
      "  Using cached tzdata-2023.3-py2.py3-none-any.whl (341 kB)\n",
      "Collecting tenacity>=6.2.0 (from plotly->cartoGRAPHs==1.9.3)\n",
      "  Using cached tenacity-8.2.3-py3-none-any.whl.metadata (1.0 kB)\n",
      "Collecting joblib>=1.1.1 (from scikit-learn->cartoGRAPHs==1.9.3)\n",
      "  Using cached joblib-1.3.2-py3-none-any.whl.metadata (5.4 kB)\n",
      "Collecting threadpoolctl>=2.0.0 (from scikit-learn->cartoGRAPHs==1.9.3)\n",
      "  Using cached threadpoolctl-3.2.0-py3-none-any.whl.metadata (10.0 kB)\n",
      "Collecting absl-py>=1.0.0 (from tensorflow->cartoGRAPHs==1.9.3)\n",
      "  Using cached absl_py-2.0.0-py3-none-any.whl.metadata (2.3 kB)\n",
      "Collecting astunparse>=1.6.0 (from tensorflow->cartoGRAPHs==1.9.3)\n",
      "  Using cached astunparse-1.6.3-py2.py3-none-any.whl (12 kB)\n",
      "Collecting flatbuffers>=23.5.26 (from tensorflow->cartoGRAPHs==1.9.3)\n",
      "  Using cached flatbuffers-23.5.26-py2.py3-none-any.whl.metadata (850 bytes)\n",
      "Collecting gast!=0.5.0,!=0.5.1,!=0.5.2,>=0.2.1 (from tensorflow->cartoGRAPHs==1.9.3)\n",
      "  Using cached gast-0.5.4-py3-none-any.whl (19 kB)\n",
      "Collecting google-pasta>=0.1.1 (from tensorflow->cartoGRAPHs==1.9.3)\n",
      "  Using cached google_pasta-0.2.0-py3-none-any.whl (57 kB)\n",
      "Collecting h5py>=2.9.0 (from tensorflow->cartoGRAPHs==1.9.3)\n",
      "  Using cached h5py-3.10.0-cp39-cp39-macosx_10_9_x86_64.whl.metadata (2.5 kB)\n",
      "Collecting libclang>=13.0.0 (from tensorflow->cartoGRAPHs==1.9.3)\n",
      "  Using cached libclang-16.0.6-py2.py3-none-macosx_10_9_x86_64.whl.metadata (5.2 kB)\n",
      "Collecting ml-dtypes==0.2.0 (from tensorflow->cartoGRAPHs==1.9.3)\n",
      "  Using cached ml_dtypes-0.2.0-cp39-cp39-macosx_10_9_universal2.whl.metadata (20 kB)\n",
      "Collecting opt-einsum>=2.3.2 (from tensorflow->cartoGRAPHs==1.9.3)\n",
      "  Using cached opt_einsum-3.3.0-py3-none-any.whl (65 kB)\n",
      "Collecting protobuf!=4.21.0,!=4.21.1,!=4.21.2,!=4.21.3,!=4.21.4,!=4.21.5,<5.0.0dev,>=3.20.3 (from tensorflow->cartoGRAPHs==1.9.3)\n",
      "  Using cached protobuf-4.24.4-cp37-abi3-macosx_10_9_universal2.whl.metadata (540 bytes)\n",
      "Requirement already satisfied: setuptools in ./.venv/lib/python3.9/site-packages (from tensorflow->cartoGRAPHs==1.9.3) (60.5.0)\n",
      "Requirement already satisfied: six>=1.12.0 in ./.venv/lib/python3.9/site-packages (from tensorflow->cartoGRAPHs==1.9.3) (1.16.0)\n",
      "Collecting termcolor>=1.1.0 (from tensorflow->cartoGRAPHs==1.9.3)\n",
      "  Using cached termcolor-2.3.0-py3-none-any.whl (6.9 kB)\n",
      "Requirement already satisfied: typing-extensions>=3.6.6 in ./.venv/lib/python3.9/site-packages (from tensorflow->cartoGRAPHs==1.9.3) (4.8.0)\n",
      "Collecting wrapt<1.15,>=1.11.0 (from tensorflow->cartoGRAPHs==1.9.3)\n",
      "  Using cached wrapt-1.14.1-cp39-cp39-macosx_10_9_x86_64.whl (35 kB)\n",
      "Collecting tensorflow-io-gcs-filesystem>=0.23.1 (from tensorflow->cartoGRAPHs==1.9.3)\n",
      "  Using cached tensorflow_io_gcs_filesystem-0.34.0-cp39-cp39-macosx_10_14_x86_64.whl.metadata (14 kB)\n",
      "Collecting grpcio<2.0,>=1.24.3 (from tensorflow->cartoGRAPHs==1.9.3)\n",
      "  Using cached grpcio-1.59.0-cp39-cp39-macosx_10_10_universal2.whl.metadata (4.0 kB)\n",
      "Collecting tensorboard<2.15,>=2.14 (from tensorflow->cartoGRAPHs==1.9.3)\n",
      "  Using cached tensorboard-2.14.1-py3-none-any.whl.metadata (1.7 kB)\n",
      "Collecting tensorflow-estimator<2.15,>=2.14.0 (from tensorflow->cartoGRAPHs==1.9.3)\n",
      "  Using cached tensorflow_estimator-2.14.0-py2.py3-none-any.whl.metadata (1.3 kB)\n",
      "Collecting keras<2.15,>=2.14.0 (from tensorflow->cartoGRAPHs==1.9.3)\n",
      "  Using cached keras-2.14.0-py3-none-any.whl.metadata (2.4 kB)\n",
      "Collecting pynndescent>=0.5 (from umap-learn->cartoGRAPHs==1.9.3)\n",
      "  Using cached pynndescent-0.5.10-py3-none-any.whl\n",
      "Collecting tqdm (from umap-learn->cartoGRAPHs==1.9.3)\n",
      "  Using cached tqdm-4.66.1-py3-none-any.whl.metadata (57 kB)\n",
      "Collecting tbb>=2019.0 (from umap-learn->cartoGRAPHs==1.9.3)\n",
      "  Using cached tbb-2021.10.0-py2.py3-none-macosx_10_15_x86_64.macosx_11_0_x86_64.whl.metadata (989 bytes)\n",
      "Collecting wheel<1.0,>=0.23.0 (from astunparse>=1.6.0->tensorflow->cartoGRAPHs==1.9.3)\n",
      "  Using cached wheel-0.41.2-py3-none-any.whl.metadata (2.2 kB)\n",
      "Requirement already satisfied: zipp>=3.1.0 in ./.venv/lib/python3.9/site-packages (from importlib-resources>=3.2.0->matplotlib->cartoGRAPHs==1.9.3) (3.17.0)\n",
      "Collecting google-auth<3,>=1.6.3 (from tensorboard<2.15,>=2.14->tensorflow->cartoGRAPHs==1.9.3)\n",
      "  Using cached google_auth-2.23.3-py2.py3-none-any.whl.metadata (4.2 kB)\n",
      "Collecting google-auth-oauthlib<1.1,>=0.5 (from tensorboard<2.15,>=2.14->tensorflow->cartoGRAPHs==1.9.3)\n",
      "  Using cached google_auth_oauthlib-1.0.0-py2.py3-none-any.whl (18 kB)\n",
      "Collecting markdown>=2.6.8 (from tensorboard<2.15,>=2.14->tensorflow->cartoGRAPHs==1.9.3)\n",
      "  Using cached Markdown-3.5-py3-none-any.whl.metadata (7.1 kB)\n",
      "Collecting requests<3,>=2.21.0 (from tensorboard<2.15,>=2.14->tensorflow->cartoGRAPHs==1.9.3)\n",
      "  Using cached requests-2.31.0-py3-none-any.whl.metadata (4.6 kB)\n",
      "Collecting tensorboard-data-server<0.8.0,>=0.7.0 (from tensorboard<2.15,>=2.14->tensorflow->cartoGRAPHs==1.9.3)\n",
      "  Using cached tensorboard_data_server-0.7.1-py3-none-macosx_10_9_x86_64.whl.metadata (1.1 kB)\n",
      "Collecting werkzeug>=1.0.1 (from tensorboard<2.15,>=2.14->tensorflow->cartoGRAPHs==1.9.3)\n",
      "  Using cached werkzeug-3.0.0-py3-none-any.whl.metadata (4.1 kB)\n",
      "Collecting cachetools<6.0,>=2.0.0 (from google-auth<3,>=1.6.3->tensorboard<2.15,>=2.14->tensorflow->cartoGRAPHs==1.9.3)\n",
      "  Using cached cachetools-5.3.1-py3-none-any.whl.metadata (5.2 kB)\n",
      "Collecting pyasn1-modules>=0.2.1 (from google-auth<3,>=1.6.3->tensorboard<2.15,>=2.14->tensorflow->cartoGRAPHs==1.9.3)\n",
      "  Using cached pyasn1_modules-0.3.0-py2.py3-none-any.whl (181 kB)\n",
      "Collecting rsa<5,>=3.1.4 (from google-auth<3,>=1.6.3->tensorboard<2.15,>=2.14->tensorflow->cartoGRAPHs==1.9.3)\n",
      "  Using cached rsa-4.9-py3-none-any.whl (34 kB)\n",
      "Collecting requests-oauthlib>=0.7.0 (from google-auth-oauthlib<1.1,>=0.5->tensorboard<2.15,>=2.14->tensorflow->cartoGRAPHs==1.9.3)\n",
      "  Using cached requests_oauthlib-1.3.1-py2.py3-none-any.whl (23 kB)\n",
      "Requirement already satisfied: importlib-metadata>=4.4 in ./.venv/lib/python3.9/site-packages (from markdown>=2.6.8->tensorboard<2.15,>=2.14->tensorflow->cartoGRAPHs==1.9.3) (6.8.0)\n",
      "Collecting charset-normalizer<4,>=2 (from requests<3,>=2.21.0->tensorboard<2.15,>=2.14->tensorflow->cartoGRAPHs==1.9.3)\n",
      "  Using cached charset_normalizer-3.3.0-cp39-cp39-macosx_10_9_x86_64.whl.metadata (32 kB)\n",
      "Collecting idna<4,>=2.5 (from requests<3,>=2.21.0->tensorboard<2.15,>=2.14->tensorflow->cartoGRAPHs==1.9.3)\n",
      "  Using cached idna-3.4-py3-none-any.whl (61 kB)\n",
      "Collecting urllib3<3,>=1.21.1 (from requests<3,>=2.21.0->tensorboard<2.15,>=2.14->tensorflow->cartoGRAPHs==1.9.3)\n",
      "  Using cached urllib3-2.0.7-py3-none-any.whl.metadata (6.6 kB)\n",
      "Collecting certifi>=2017.4.17 (from requests<3,>=2.21.0->tensorboard<2.15,>=2.14->tensorflow->cartoGRAPHs==1.9.3)\n",
      "  Using cached certifi-2023.7.22-py3-none-any.whl.metadata (2.2 kB)\n",
      "Collecting MarkupSafe>=2.1.1 (from werkzeug>=1.0.1->tensorboard<2.15,>=2.14->tensorflow->cartoGRAPHs==1.9.3)\n",
      "  Using cached MarkupSafe-2.1.3-cp39-cp39-macosx_10_9_x86_64.whl.metadata (3.0 kB)\n",
      "Collecting pyasn1<0.6.0,>=0.4.6 (from pyasn1-modules>=0.2.1->google-auth<3,>=1.6.3->tensorboard<2.15,>=2.14->tensorflow->cartoGRAPHs==1.9.3)\n",
      "  Using cached pyasn1-0.5.0-py2.py3-none-any.whl (83 kB)\n",
      "Collecting oauthlib>=3.0.0 (from requests-oauthlib>=0.7.0->google-auth-oauthlib<1.1,>=0.5->tensorboard<2.15,>=2.14->tensorflow->cartoGRAPHs==1.9.3)\n",
      "  Using cached oauthlib-3.2.2-py3-none-any.whl (151 kB)\n",
      "Downloading cartoGRAPHs-1.9.3-py3-none-any.whl (27 kB)\n",
      "Using cached networkx-3.2-py3-none-any.whl (1.6 MB)\n",
      "Using cached matplotlib-3.8.0-cp39-cp39-macosx_10_12_x86_64.whl (7.6 MB)\n",
      "Using cached numpy-1.26.1-cp39-cp39-macosx_10_9_x86_64.whl (20.6 MB)\n",
      "Using cached numba-0.58.1-cp39-cp39-macosx_10_9_x86_64.whl (2.6 MB)\n",
      "Using cached pandas-2.1.1-cp39-cp39-macosx_10_9_x86_64.whl (11.8 MB)\n",
      "Using cached plotly-5.17.0-py2.py3-none-any.whl (15.6 MB)\n",
      "Using cached scikit_learn-1.3.1-cp39-cp39-macosx_10_9_x86_64.whl (10.2 MB)\n",
      "Using cached scipy-1.11.3-cp39-cp39-macosx_10_9_x86_64.whl (37.3 MB)\n",
      "Using cached seaborn-0.13.0-py3-none-any.whl (294 kB)\n",
      "Using cached shapely-2.0.2-cp39-cp39-macosx_10_9_x86_64.whl (1.4 MB)\n",
      "Using cached tensorflow-2.14.0-cp39-cp39-macosx_10_15_x86_64.whl (229.6 MB)\n",
      "Using cached ml_dtypes-0.2.0-cp39-cp39-macosx_10_9_universal2.whl (1.2 MB)\n",
      "Using cached absl_py-2.0.0-py3-none-any.whl (130 kB)\n",
      "Using cached contourpy-1.1.1-cp39-cp39-macosx_10_9_x86_64.whl (247 kB)\n",
      "Using cached cycler-0.12.1-py3-none-any.whl (8.3 kB)\n",
      "Using cached flatbuffers-23.5.26-py2.py3-none-any.whl (26 kB)\n",
      "Using cached fonttools-4.43.1-cp39-cp39-macosx_10_9_x86_64.whl (2.2 MB)\n",
      "Using cached grpcio-1.59.0-cp39-cp39-macosx_10_10_universal2.whl (9.6 MB)\n",
      "Using cached h5py-3.10.0-cp39-cp39-macosx_10_9_x86_64.whl (3.2 MB)\n",
      "Using cached importlib_resources-6.1.0-py3-none-any.whl (33 kB)\n",
      "Using cached joblib-1.3.2-py3-none-any.whl (302 kB)\n",
      "Using cached keras-2.14.0-py3-none-any.whl (1.7 MB)\n",
      "Using cached kiwisolver-1.4.5-cp39-cp39-macosx_10_9_x86_64.whl (68 kB)\n",
      "Using cached libclang-16.0.6-py2.py3-none-macosx_10_9_x86_64.whl (24.5 MB)\n",
      "Using cached llvmlite-0.41.1-cp39-cp39-macosx_10_9_x86_64.whl (31.0 MB)\n",
      "Using cached Pillow-10.1.0-cp39-cp39-macosx_10_10_x86_64.whl (3.5 MB)\n",
      "Using cached protobuf-4.24.4-cp37-abi3-macosx_10_9_universal2.whl (409 kB)\n",
      "Using cached pyparsing-3.1.1-py3-none-any.whl (103 kB)\n",
      "Using cached pytz-2023.3.post1-py2.py3-none-any.whl (502 kB)\n",
      "Using cached tbb-2021.10.0-py2.py3-none-macosx_10_15_x86_64.macosx_11_0_x86_64.whl (640 kB)\n",
      "Using cached tenacity-8.2.3-py3-none-any.whl (24 kB)\n",
      "Using cached tensorboard-2.14.1-py3-none-any.whl (5.5 MB)\n",
      "Using cached tensorflow_estimator-2.14.0-py2.py3-none-any.whl (440 kB)\n",
      "Using cached tensorflow_io_gcs_filesystem-0.34.0-cp39-cp39-macosx_10_14_x86_64.whl (1.7 MB)\n",
      "Using cached threadpoolctl-3.2.0-py3-none-any.whl (15 kB)\n",
      "Using cached tqdm-4.66.1-py3-none-any.whl (78 kB)\n",
      "Using cached google_auth-2.23.3-py2.py3-none-any.whl (182 kB)\n",
      "Using cached Markdown-3.5-py3-none-any.whl (101 kB)\n",
      "Using cached requests-2.31.0-py3-none-any.whl (62 kB)\n",
      "Using cached tensorboard_data_server-0.7.1-py3-none-macosx_10_9_x86_64.whl (4.8 MB)\n",
      "Using cached werkzeug-3.0.0-py3-none-any.whl (226 kB)\n",
      "Using cached wheel-0.41.2-py3-none-any.whl (64 kB)\n",
      "Using cached cachetools-5.3.1-py3-none-any.whl (9.3 kB)\n",
      "Using cached certifi-2023.7.22-py3-none-any.whl (158 kB)\n",
      "Using cached charset_normalizer-3.3.0-cp39-cp39-macosx_10_9_x86_64.whl (119 kB)\n",
      "Using cached MarkupSafe-2.1.3-cp39-cp39-macosx_10_9_x86_64.whl (13 kB)\n",
      "Using cached urllib3-2.0.7-py3-none-any.whl (124 kB)\n",
      "Installing collected packages: tbb, pytz, libclang, flatbuffers, wrapt, wheel, urllib3, tzdata, tqdm, threadpoolctl, termcolor, tensorflow-io-gcs-filesystem, tensorflow-estimator, tensorboard-data-server, tenacity, pyparsing, pyasn1, protobuf, pillow, oauthlib, numpy, networkx, MarkupSafe, llvmlite, kiwisolver, keras, joblib, importlib-resources, idna, grpcio, google-pasta, gast, fonttools, cycler, charset-normalizer, certifi, cachetools, absl-py, werkzeug, shapely, scipy, rsa, requests, pyasn1-modules, plotly, pandas, opt-einsum, numba, ml-dtypes, markdown, h5py, contourpy, colormath, astunparse, scikit-learn, requests-oauthlib, matplotlib, google-auth, seaborn, pynndescent, google-auth-oauthlib, umap-learn, tensorboard, tensorflow, cartoGRAPHs\n",
      "Successfully installed MarkupSafe-2.1.3 absl-py-2.0.0 astunparse-1.6.3 cachetools-5.3.1 cartoGRAPHs-1.9.3 certifi-2023.7.22 charset-normalizer-3.3.0 colormath-3.0.0 contourpy-1.1.1 cycler-0.12.1 flatbuffers-23.5.26 fonttools-4.43.1 gast-0.5.4 google-auth-2.23.3 google-auth-oauthlib-1.0.0 google-pasta-0.2.0 grpcio-1.59.0 h5py-3.10.0 idna-3.4 importlib-resources-6.1.0 joblib-1.3.2 keras-2.14.0 kiwisolver-1.4.5 libclang-16.0.6 llvmlite-0.41.1 markdown-3.5 matplotlib-3.8.0 ml-dtypes-0.2.0 networkx-3.2 numba-0.58.1 numpy-1.26.1 oauthlib-3.2.2 opt-einsum-3.3.0 pandas-2.1.1 pillow-10.1.0 plotly-5.17.0 protobuf-4.24.4 pyasn1-0.5.0 pyasn1-modules-0.3.0 pynndescent-0.5.10 pyparsing-3.1.1 pytz-2023.3.post1 requests-2.31.0 requests-oauthlib-1.3.1 rsa-4.9 scikit-learn-1.3.1 scipy-1.11.3 seaborn-0.13.0 shapely-2.0.2 tbb-2021.10.0 tenacity-8.2.3 tensorboard-2.14.1 tensorboard-data-server-0.7.1 tensorflow-2.14.0 tensorflow-estimator-2.14.0 tensorflow-io-gcs-filesystem-0.34.0 termcolor-2.3.0 threadpoolctl-3.2.0 tqdm-4.66.1 tzdata-2023.3 umap-learn-0.5.4 urllib3-2.0.7 werkzeug-3.0.0 wheel-0.41.2 wrapt-1.14.1\n",
      "\u001b[33mWARNING: There was an error checking the latest version of pip.\u001b[0m\u001b[33m\n",
      "\u001b[0m"
     ]
    }
   ],
   "source": [
    "!pip install cartoGRAPHs==1.9.3"
   ]
  },
  {
   "cell_type": "code",
   "execution_count": 3,
   "id": "b8138ad1-376f-47a4-b422-cd55943b30d4",
   "metadata": {},
   "outputs": [
    {
     "name": "stderr",
     "output_type": "stream",
     "text": [
      "/Users/chris/Desktop/Github/cartoGRAPHs/.venv/lib/python3.9/site-packages/tqdm/auto.py:21: TqdmWarning: IProgress not found. Please update jupyter and ipywidgets. See https://ipywidgets.readthedocs.io/en/stable/user_install.html\n",
      "  from .autonotebook import tqdm as notebook_tqdm\n",
      "2023-10-20 19:18:58.732284: I tensorflow/core/platform/cpu_feature_guard.cc:182] This TensorFlow binary is optimized to use available CPU instructions in performance-critical operations.\n",
      "To enable the following instructions: AVX2 AVX512F AVX512_VNNI FMA, in other operations, rebuild TensorFlow with the appropriate compiler flags.\n"
     ]
    },
    {
     "name": "stdout",
     "output_type": "stream",
     "text": [
      "DEBUG: in init: import done\n"
     ]
    }
   ],
   "source": [
    "from cartoGRAPHs import *"
   ]
  },
  {
   "cell_type": "markdown",
   "id": "living-russell",
   "metadata": {},
   "source": [
    "### DEFINE A NETWORK"
   ]
  },
  {
   "cell_type": "code",
   "execution_count": 4,
   "id": "blocked-journalism",
   "metadata": {
    "tags": []
   },
   "outputs": [],
   "source": [
    "G = nx.scale_free_graph(n=100)"
   ]
  },
  {
   "cell_type": "markdown",
   "id": "2c432e56",
   "metadata": {},
   "source": [
    "### Layout: \"FORCE-DIRECTED method\"\n",
    "using the networkx package"
   ]
  },
  {
   "cell_type": "code",
   "execution_count": 5,
   "id": "1341a2a8",
   "metadata": {},
   "outputs": [],
   "source": [
    "pos = nx.spring_layout(G, dim = 3, iterations=50) # \"spring_layout\" can be replaced with almost any layout from networkx\n",
    "coords = [i.tolist() for i in list(pos.values())]\n",
    "posG3D_spring = dict(zip(pos.keys(),coords))"
   ]
  },
  {
   "cell_type": "code",
   "execution_count": 6,
   "id": "f546d10e",
   "metadata": {},
   "outputs": [],
   "source": [
    "d_nodecolors = dict(zip(list(G.nodes()),['#0000FF']*len(list(G.nodes()))))\n",
    "d_linkcolors = dict(zip(list(G.edges()),['#0000FF']*len(list(G.edges()))))\n",
    "\n",
    "d_deg=dict(G.degree())\n",
    "l_annotations_csv = ['Node: '+str(i)+'; Node: '+str(j) for i,j in zip(list(G.nodes()), d_deg.values())]\n",
    "l_annotations_json = [list((\"Node: \"+str(i),\"Node: \"+str(j))) for i,j in zip(list(G.nodes()), d_deg.values())]\n",
    "d_annotations_csv = dict(zip(list(G.nodes()),l_annotations_csv))\n",
    "d_annotations_json = dict(zip(list(G.nodes()),l_annotations_json))"
   ]
  },
  {
   "cell_type": "code",
   "execution_count": 7,
   "id": "750a42d3",
   "metadata": {},
   "outputs": [
    {
     "name": "stdout",
     "output_type": "stream",
     "text": [
      "Export done.\n"
     ]
    }
   ],
   "source": [
    "plot_3Dfigure(G, posG3D_spring, \n",
    "              d_features = None, \n",
    "              d_colors = None, \n",
    "              d_size = None, \n",
    "              d_legend = None, \n",
    "              path = '', \n",
    "              fname = 'Spring_3D', \n",
    "              scheme = 'dark',\n",
    "              #with_edges = False\n",
    "             )\n",
    "\n",
    "exportVR_CSV('Spring_3D', G, posG3D_spring, d_nodecolors, d_annotations_csv, d_linkcolors)\n"
   ]
  },
  {
   "cell_type": "markdown",
   "id": "b1f07e30-41b7-4ad2-875a-c22a4f320720",
   "metadata": {},
   "source": [
    "#### Layout: \"PORTRAIT\"\n",
    "this layout type is basically a 2D or 3D representation of a network. The layout is based on \n",
    "layout method (parameter) which determines the structural or functional characteristics emphasized in the layout."
   ]
  },
  {
   "cell_type": "code",
   "execution_count": 8,
   "id": "f7dac009-f8cc-4705-8608-22eee785e233",
   "metadata": {},
   "outputs": [
    {
     "name": "stderr",
     "output_type": "stream",
     "text": [
      "/Users/chris/Desktop/Github/cartoGRAPHs/.venv/lib/python3.9/site-packages/umap/umap_.py:1943: UserWarning:\n",
      "\n",
      "n_jobs value -1 overridden to 1 by setting random_state. Use no seed for parallelism.\n",
      "\n",
      "/Users/chris/Desktop/Github/cartoGRAPHs/.venv/lib/python3.9/site-packages/numba/np/ufunc/parallel.py:371: NumbaWarning:\n",
      "\n",
      "The TBB threading layer requires TBB version 2021 update 6 or later i.e., TBB_INTERFACE_VERSION >= 12060. Found TBB_INTERFACE_VERSION = 12050. The TBB threading layer is disabled.\n",
      "\n",
      "OMP: Info #271: omp_set_nested routine deprecated, please use omp_set_max_active_levels instead.\n",
      "/Users/chris/Desktop/Github/cartoGRAPHs/.venv/lib/python3.9/site-packages/umap/umap_.py:1943: UserWarning:\n",
      "\n",
      "n_jobs value -1 overridden to 1 by setting random_state. Use no seed for parallelism.\n",
      "\n"
     ]
    }
   ],
   "source": [
    "posG2D = generate_layout(G, \n",
    "                        dim = 2, \n",
    "                        layoutmethod = 'global',\n",
    "                        dimred_method='umap',\n",
    "                        )\n",
    "\n",
    "posG3D = generate_layout(G, \n",
    "                        dim = 3, \n",
    "                        layoutmethod = 'global',\n",
    "                        dimred_method='umap'\n",
    "                        )"
   ]
  },
  {
   "cell_type": "code",
   "execution_count": 11,
   "id": "4df461bd-874e-403b-9b79-d227439804d6",
   "metadata": {},
   "outputs": [
    {
     "name": "stdout",
     "output_type": "stream",
     "text": [
      "Export done.\n"
     ]
    }
   ],
   "source": [
    "plot_2Dfigure(G, posG2D, \n",
    "              d_features = None, \n",
    "              d_colors = d_nodecolors,\n",
    "              d_size = None, \n",
    "              d_legend = None, \n",
    "              path = '', \n",
    "              fname = 'Portrait_2D', \n",
    "              scheme = 'dark',\n",
    "              #with_edges = False\n",
    "             )\n",
    "\n",
    "exportVR_CSV('Portrait_2D', G, posG2D, d_nodecolors, d_annotations_csv, d_linkcolors)\n"
   ]
  },
  {
   "cell_type": "code",
   "execution_count": 12,
   "id": "81114f28-9d9d-4157-9ead-6d252d42f956",
   "metadata": {},
   "outputs": [
    {
     "name": "stdout",
     "output_type": "stream",
     "text": [
      "Export done.\n"
     ]
    }
   ],
   "source": [
    "plot_3Dfigure(G, posG3D, \n",
    "              d_features = None, \n",
    "              d_colors = d_nodecolors,\n",
    "              d_size = None, \n",
    "              d_legend = None, \n",
    "              path = '', \n",
    "              fname = 'Portrait_3D', \n",
    "              scheme = 'dark',\n",
    "              #with_edges = False\n",
    "             )\n",
    "\n",
    "exportVR_CSV('Portrait_3D', G, posG3D, d_nodecolors, d_annotations_csv, d_linkcolors)\n"
   ]
  },
  {
   "cell_type": "markdown",
   "id": "indie-vienna",
   "metadata": {
    "tags": []
   },
   "source": [
    "#### Layout: \"TOPOGRAPHIC MAP\"\n",
    "this layout generates a topographical map visualization. It starts with a 2D embedding and introduces a z-parameter to layer nodes in 3D space like geographical layers."
   ]
  },
  {
   "cell_type": "code",
   "execution_count": 13,
   "id": "respective-plumbing",
   "metadata": {
    "tags": []
   },
   "outputs": [
    {
     "name": "stdout",
     "output_type": "stream",
     "text": [
      "Export done.\n"
     ]
    }
   ],
   "source": [
    "# d_z = a dictionary with keys=G.nodes and values=any int/float assigned to a node\n",
    "d_deg = dict(nx.degree_centrality(G))\n",
    "\n",
    "z_list = list(d_deg.values())\n",
    "d_z = dict(zip(list(G.nodes()),z_list))\n",
    "posG_topographic = layout_topographic(posG2D, d_z)\n",
    "\n",
    "plot_3Dfigure(G, posG_topographic, \n",
    "              d_features = None, \n",
    "              d_colors = d_nodecolors,\n",
    "              d_size = None, \n",
    "              d_legend = None, \n",
    "              path = '', \n",
    "              fname = 'Topographic',\n",
    "              scheme = 'dark'\n",
    "             )\n",
    "\n",
    "exportVR_CSV('Topographic', G, posG_topographic, d_nodecolors, d_annotations_csv, d_linkcolors)\n"
   ]
  },
  {
   "cell_type": "markdown",
   "id": "advanced-subcommittee",
   "metadata": {},
   "source": [
    "#### Layout: \"GEODESIC MAP\"\n",
    "this layout embeds nodes on a sphere and splits the sphere embedding based on a radius parameter to generate shells of spheres, where each node has a specific position on a specific shell given the input. "
   ]
  },
  {
   "cell_type": "code",
   "execution_count": 14,
   "id": "noted-thompson",
   "metadata": {},
   "outputs": [
    {
     "name": "stderr",
     "output_type": "stream",
     "text": [
      "/Users/chris/Desktop/Github/cartoGRAPHs/.venv/lib/python3.9/site-packages/umap/umap_.py:1943: UserWarning:\n",
      "\n",
      "n_jobs value -1 overridden to 1 by setting random_state. Use no seed for parallelism.\n",
      "\n"
     ]
    },
    {
     "name": "stdout",
     "output_type": "stream",
     "text": [
      "Export done.\n"
     ]
    }
   ],
   "source": [
    "# d_rad = a dictionary with keys=G.nodes and values=any radius assigned to each node\n",
    "\n",
    "rad_list = list([(1-i) for i in d_deg.values()])\n",
    "d_rad = dict(zip(list(G.nodes()), rad_list))\n",
    "posG_geodesic = layout_geodesic(G, d_rad)\n",
    "\n",
    "plot_3Dfigure(G, posG_geodesic, \n",
    "              d_features = None, \n",
    "              d_colors = None, \n",
    "              d_size = None, \n",
    "              d_legend = None,  \n",
    "              path = '', \n",
    "              fname = 'Geodesic', \n",
    "              scheme = 'dark'\n",
    "             )\n",
    "\n",
    "exportVR_CSV('Geodesic', G, posG_geodesic, d_nodecolors, d_annotations_csv, d_linkcolors)\n"
   ]
  },
  {
   "cell_type": "code",
   "execution_count": null,
   "id": "f7068290-7cdf-4d2b-ad04-4c44651f9b85",
   "metadata": {},
   "outputs": [],
   "source": []
  },
  {
   "cell_type": "code",
   "execution_count": null,
   "id": "b2632e51",
   "metadata": {},
   "outputs": [],
   "source": []
  },
  {
   "cell_type": "code",
   "execution_count": null,
   "id": "ddd83787",
   "metadata": {},
   "outputs": [],
   "source": []
  }
 ],
 "metadata": {
  "kernelspec": {
   "display_name": ".venv",
   "language": "python",
   "name": "python3"
  },
  "language_info": {
   "codemirror_mode": {
    "name": "ipython",
    "version": 3
   },
   "file_extension": ".py",
   "mimetype": "text/x-python",
   "name": "python",
   "nbconvert_exporter": "python",
   "pygments_lexer": "ipython3",
   "version": "3.9.10"
  }
 },
 "nbformat": 4,
 "nbformat_minor": 5
}
