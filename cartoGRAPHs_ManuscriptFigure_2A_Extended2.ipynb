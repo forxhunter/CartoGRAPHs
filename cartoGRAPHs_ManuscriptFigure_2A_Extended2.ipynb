{
 "cells": [
  {
   "cell_type": "markdown",
   "id": "stainless-castle",
   "metadata": {},
   "source": [
    "-----\n",
    "# cartoGRAPHs - FIGURE 2A + Extended Data Figure 2\n",
    "-----"
   ]
  },
  {
   "cell_type": "code",
   "execution_count": 146,
   "id": "stainless-hydrogen",
   "metadata": {},
   "outputs": [],
   "source": [
    "from cartoGRAPHs import *"
   ]
  },
  {
   "cell_type": "markdown",
   "id": "amino-zealand",
   "metadata": {},
   "source": [
    "_____\n",
    "# HUMAN PPI NETWORK\n",
    "_____"
   ]
  },
  {
   "cell_type": "code",
   "execution_count": 2,
   "id": "aa71dfb6-d454-4c95-8c21-da7aeac6e5b2",
   "metadata": {},
   "outputs": [],
   "source": [
    "organism = 'human'\n",
    "G = load_graph(organism) \n",
    "\n",
    "d_gene_sym = load_genesymbols(G, organism)\n",
    "l_features = list(d_gene_sym.values())\n",
    "\n",
    "d_gene_do = pickle.load( open( \"input/d_gene_do.pkl\", \"rb\" ) )\n",
    "d_do_genes = pickle.load( open( \"input/d_do_genes.pkl\", \"rb\" ) )\n",
    "d_do_names = pickle.load( open( \"input/DO_names.pkl\", \"rb\" ) )\n",
    "d_names_do = {y:x for x,y in d_do_names.items()}\n",
    "\n",
    "d_centralities = load_centralities(G, organism)\n",
    "df_centralities = pd.DataFrame(d_centralities).T\n",
    "df_centralities.columns = ['degree','closeness', 'betweeness', 'eigenvector']\n",
    "essential_genes,non_ess_genes,notdefined_genes = load_essentiality(G, organism)"
   ]
  },
  {
   "cell_type": "markdown",
   "id": "stretch-pasta",
   "metadata": {
    "tags": []
   },
   "source": [
    "_____ \n",
    "# FIGURE 2A | Importance layout (with diverse node lists highlighted)\n",
    "_____"
   ]
  },
  {
   "cell_type": "code",
   "execution_count": 63,
   "id": "f307e019-7fe4-496f-9eb9-308c7b8d95a4",
   "metadata": {},
   "outputs": [],
   "source": [
    "DM_cent = load_datamatrix(G,organism, 'importance')\n",
    "DM_cent_round = round(DM_cent,4)"
   ]
  },
  {
   "cell_type": "markdown",
   "id": "8e016001-fe8c-45c9-9a3d-db8e4a6dfada",
   "metadata": {},
   "source": [
    "### PORTRAIT"
   ]
  },
  {
   "cell_type": "code",
   "execution_count": 123,
   "id": "4b974e9a-6cb0-4e97-9963-b899fe59e230",
   "metadata": {},
   "outputs": [
    {
     "name": "stdout",
     "output_type": "stream",
     "text": [
      "CPU times: user 1min 45s, sys: 8.01 s, total: 1min 53s\n",
      "Wall time: 46 s\n"
     ]
    }
   ],
   "source": [
    "%%time \n",
    "\n",
    "n_n = 12 #12 #20  \n",
    "spr = 1.0 #1.0 #0.9  \n",
    "md = 0.3 #0.1 #0.25 \n",
    "Matrix = DM_cent_round \n",
    "\n",
    "posG_umap2D = layout_portrait_umap(G,\n",
    "                                   Matrix,\n",
    "                                   2,\n",
    "                                   n_neighbors=n_n, \n",
    "                                   spread=spr, \n",
    "                                   min_dist=md, \n",
    "                                   metric='cosine'\n",
    "                                  )\n",
    "posG = posG_umap2D"
   ]
  },
  {
   "cell_type": "markdown",
   "id": "dedicated-northern",
   "metadata": {
    "tags": []
   },
   "source": [
    "---\n",
    "## VISUAL SETTINGS + PLOT PREPARATION\n",
    "---"
   ]
  },
  {
   "cell_type": "markdown",
   "id": "bright-cleanup",
   "metadata": {},
   "source": [
    "#### NODES - GENERAL"
   ]
  },
  {
   "cell_type": "code",
   "execution_count": 124,
   "id": "binding-martin",
   "metadata": {},
   "outputs": [],
   "source": [
    "opacity_nodes = 0.8\n",
    "node_edge_col = '#696969' \n",
    "node_linewidth = 1\n",
    "\n",
    "nodesglow_diameter = 8.0\n",
    "nodesglow_transparency = 0.01 # 0.01"
   ]
  },
  {
   "cell_type": "markdown",
   "id": "coupled-citizenship",
   "metadata": {},
   "source": [
    "#### ESSENTIALITY color settings "
   ]
  },
  {
   "cell_type": "code",
   "execution_count": 125,
   "id": "middle-westminster",
   "metadata": {
    "tags": []
   },
   "outputs": [
    {
     "name": "stdout",
     "output_type": "stream",
     "text": [
      "Amount of Essential Genes 2900\n",
      "Links inbetween Essential Genes 9662\n"
     ]
    }
   ],
   "source": [
    "color_method = 'essentiality'\n",
    "\n",
    "l_genes = essential_genes\n",
    "    \n",
    "node_col = '#00abff' \n",
    "undefined_col = '#DEDEDE '\n",
    "rest_col_nodes = '#DEDEDE '\n",
    "\n",
    "d_col_all = color_nodes_from_list(G, essential_genes, node_col)\n",
    "colors = list(d_col_all.values())\n",
    "    \n",
    "edge_color = node_col \n",
    "d_edge_col = color_edges_from_nodelist_specific(G, l_genes, node_col)\n",
    "width_edges = 0.25\n",
    "opacity_edges = 0.25\n",
    "\n",
    "print('Amount of Essential Genes', len(essential_genes))\n",
    "print('Links inbetween Essential Genes', len(d_edge_col))"
   ]
  },
  {
   "cell_type": "markdown",
   "id": "confirmed-format",
   "metadata": {},
   "source": [
    "#### DEVELOPMENTAL color settings "
   ]
  },
  {
   "cell_type": "code",
   "execution_count": 137,
   "id": "selective-declaration",
   "metadata": {
    "tags": []
   },
   "outputs": [],
   "source": [
    "color_method = '8cell'\n",
    "\n",
    "if color_method == 'oocyte' or color_method == '2cell' or color_method == '4cell' or color_method == '8cell':\n",
    "\n",
    "    node_col = '#0181A3' \n",
    "    devgenes_selection = color_method\n",
    "    df_devgenes = pd.read_csv('input/EmExplorer/'+devgenes_selection+'_Homo-sapiens.txt', delimiter = \"\\t\")\n",
    "    \n",
    "    devgenes = list(df_devgenes['stage'])\n",
    "\n",
    "    d_devgenes_entrezid = {}\n",
    "    for i,k in d_gene_sym.items():\n",
    "        if k in devgenes:\n",
    "             d_devgenes_entrezid[k] = i \n",
    "    devgenes_entrezid = list(d_devgenes_entrezid.values())\n",
    "    \n",
    "    l_genes = devgenes_entrezid\n",
    "    \n",
    "    d_col_all = color_nodes_from_list(G, l_genes, node_col)\n",
    "    colors = list(d_col_all.values())\n",
    "\n",
    "    edge_color = node_col\n",
    "    d_edge_col = color_edges_from_nodelist_specific(G, l_genes, node_col)\n",
    "    width_edges = 0.25\n",
    "    opacity_edges = 0.5\n",
    "        \n",
    "else:\n",
    "    pass"
   ]
  },
  {
   "cell_type": "code",
   "execution_count": 43,
   "id": "39b86182-0841-41fb-a0d4-8416d2248d6e",
   "metadata": {
    "tags": []
   },
   "outputs": [
    {
     "name": "stdout",
     "output_type": "stream",
     "text": [
      "Amount of Developmental Genes (oocyte) 18\n",
      "Links inbetween Developmental Genes (oocyte) 36\n"
     ]
    }
   ],
   "source": [
    "print('Amount of Developmental Genes ('+ color_method + ')', len(devgenes_entrezid))\n",
    "print('Links inbetween Developmental Genes ('+ color_method + ')', len(d_edge_col))"
   ]
  },
  {
   "cell_type": "code",
   "execution_count": 41,
   "id": "2887aad2-e998-416b-a682-044cda802d79",
   "metadata": {
    "tags": []
   },
   "outputs": [
    {
     "name": "stdout",
     "output_type": "stream",
     "text": [
      "Amount of Developmental Genes (2cell) 49\n",
      "Links inbetween Developmental Genes (2cell) 93\n"
     ]
    }
   ],
   "source": [
    "print('Amount of Developmental Genes ('+ color_method + ')', len(devgenes_entrezid))\n",
    "print('Links inbetween Developmental Genes ('+ color_method + ')', len(d_edge_col))"
   ]
  },
  {
   "cell_type": "code",
   "execution_count": 45,
   "id": "6a698400-74e9-4821-a933-c291cbfb798d",
   "metadata": {
    "tags": []
   },
   "outputs": [
    {
     "name": "stdout",
     "output_type": "stream",
     "text": [
      "Amount of Developmental Genes (4cell) 106\n",
      "Links inbetween Developmental Genes (4cell) 342\n"
     ]
    }
   ],
   "source": [
    "print('Amount of Developmental Genes ('+ color_method + ')', len(devgenes_entrezid))\n",
    "print('Links inbetween Developmental Genes ('+ color_method + ')', len(d_edge_col))"
   ]
  },
  {
   "cell_type": "code",
   "execution_count": 47,
   "id": "6fbceef0-0122-445e-842d-a10a94c4946f",
   "metadata": {
    "tags": []
   },
   "outputs": [
    {
     "name": "stdout",
     "output_type": "stream",
     "text": [
      "Amount of Developmental Genes (8cell) 38\n",
      "Links inbetween Developmental Genes (8cell) 84\n"
     ]
    }
   ],
   "source": [
    "print('Amount of Developmental Genes ('+ color_method + ')', len(devgenes_entrezid))\n",
    "print('Links inbetween Developmental Genes ('+ color_method + ')', len(d_edge_col))"
   ]
  },
  {
   "cell_type": "markdown",
   "id": "loving-blood",
   "metadata": {},
   "source": [
    "#### CANCER color settings "
   ]
  },
  {
   "cell_type": "code",
   "execution_count": 140,
   "id": "coordinate-rhythm",
   "metadata": {
    "tags": []
   },
   "outputs": [
    {
     "name": "stdout",
     "output_type": "stream",
     "text": [
      "Amount of Cancer genes: 2499\n",
      "Links inbetween Cancer genes 26135\n"
     ]
    }
   ],
   "source": [
    "disease_category = 'cancer'\n",
    "\n",
    "color_method = disease_category\n",
    "disease_genes = get_disease_genes(G, d_names_do, d_do_genes, disease_category)\n",
    "l_genes = disease_genes\n",
    "\n",
    "node_col = '#00C9FF' \n",
    "d_col_all = color_nodes_from_list(G, disease_genes, node_col)\n",
    "colors = list(d_col_all.values())\n",
    "\n",
    "edge_color = node_col \n",
    "d_edge_col = color_edges_from_nodelist_specific(G, l_genes, node_col)\n",
    "\n",
    "width_edges = 0.25\n",
    "opacity_edges = 0.25\n",
    "\n",
    "print('Amount of Cancer genes:' , len(disease_genes))\n",
    "print('Links inbetween Cancer genes', len(d_edge_col))"
   ]
  },
  {
   "cell_type": "markdown",
   "id": "sharp-female",
   "metadata": {},
   "source": [
    "#### RARE DISEASE genes color settings "
   ]
  },
  {
   "cell_type": "code",
   "execution_count": 143,
   "id": "duplicate-leave",
   "metadata": {
    "tags": []
   },
   "outputs": [
    {
     "name": "stdout",
     "output_type": "stream",
     "text": [
      "Amount of Rare disease genes: 4181\n",
      "Links inbetween Rare disease genes: 33744\n"
     ]
    }
   ],
   "source": [
    "import xml.etree.ElementTree as ET\n",
    "tree = ET.parse('input/orphadata.xml')\n",
    "root = tree.getroot()\n",
    "\n",
    "# retrieve genes from all rare diseases from database/file  \n",
    "disorder_to_genes = {}\n",
    "for disorder in root.iter('Disorder'):\n",
    "    dis = list(disorder.attrib.values())[0]\n",
    "    for elem in disorder.findall('DisorderGeneAssociationList'):\n",
    "        genes = []\n",
    "        for disorderassoc in elem.findall('DisorderGeneAssociation'):\n",
    "            for gene in disorderassoc.findall('Gene'):\n",
    "                for reference in gene.findall('ExternalReferenceList'):\n",
    "                     for refs in reference.findall('ExternalReference'):\n",
    "                        for ensg in refs.findall('Source'):\n",
    "                            if ensg.text == 'Ensembl':\n",
    "                                for e in refs.findall('Reference'):\n",
    "                                    ensgID = (e.text)\n",
    "                            else:\n",
    "                                pass\n",
    "                            \n",
    "            genes.append(ensgID)\n",
    "    disorder_to_genes[dis] = genes\n",
    "\n",
    "    \n",
    "# get a list of all rare disease genes obtained \n",
    "all_raredisease_genes = []\n",
    "for dis,genes in disorder_to_genes.items():\n",
    "    for i in genes:\n",
    "        all_raredisease_genes.append(i)\n",
    "      \n",
    "    \n",
    "# make sure there are no duplicates\n",
    "set_all_raredisease_genes = set(all_raredisease_genes)\n",
    "\n",
    "\n",
    "# convert ensgID to entrezID and get gene symbols\n",
    "ensg_to_entrez = pd.read_csv('input/ensg_to_entrezid.txt',sep=\"\t\")\n",
    "\n",
    "ensg = list(ensg_to_entrez['From'])\n",
    "entrez = [str(int(i)) for i in ensg_to_entrez['To'][:-1]] #list(ensg_to_entrez['To'])\n",
    "d_ensg_entrez = dict(zip(ensg,entrez))\n",
    "\n",
    "\n",
    "# match ensgID with entrezID\n",
    "set_all_raredisease_genes_id = {}\n",
    "for ix,entrez in d_ensg_entrez.items():\n",
    "    if ix in set_all_raredisease_genes:\n",
    "        set_all_raredisease_genes_id[ix]=entrez\n",
    "\n",
    "        \n",
    "# color all rare disease genes  \n",
    "l_rarediseasegenes = list(set_all_raredisease_genes_id.values())\n",
    "color_method = 'rarediseasegenes'\n",
    "\n",
    "l_genes = l_rarediseasegenes\n",
    "\n",
    "node_col =  '#004EAB'#'#0A81A1' \n",
    "undefined_col = '#DEDEDE '\n",
    "rest_col_nodes = '#DEDEDE '\n",
    "\n",
    "d_col_all = color_nodes_from_list(G, l_genes, node_col)\n",
    "colors = list(d_col_all.values())\n",
    "    \n",
    "edge_color = node_col \n",
    "d_edge_col = color_edges_from_nodelist_specific(G, l_genes, node_col)\n",
    "width_edges = 0.25\n",
    "opacity_edges = 0.25\n",
    "\n",
    "print('Amount of Rare disease genes:' , len(l_rarediseasegenes))\n",
    "print('Links inbetween Rare disease genes:' , len(d_edge_col))"
   ]
  },
  {
   "cell_type": "markdown",
   "id": "coral-twenty",
   "metadata": {
    "tags": []
   },
   "source": [
    "---\n",
    "## PLOT NETWORK PORTRAIT\n",
    "---"
   ]
  },
  {
   "cell_type": "code",
   "execution_count": 144,
   "id": "turkish-allah",
   "metadata": {
    "tags": []
   },
   "outputs": [
    {
     "data": {
      "text/plain": [
       "'output_plots/2Dlayouts/2Dportrait_NetlayoutImportance_nn12_spr1.0_md0.3_rarediseasegenes_human.html'"
      ]
     },
     "execution_count": 144,
     "metadata": {},
     "output_type": "execute_result"
    }
   ],
   "source": [
    "# plot nodes based on focus > separate to background/foreground \n",
    "\n",
    "posG_foreground = {}\n",
    "posG_background = {}\n",
    "for k,v in posG.items():\n",
    "    if k in l_genes:\n",
    "        posG_foreground[k]=v\n",
    "    else: \n",
    "        posG_background[k]=v\n",
    "    \n",
    "d_colors_foreground = {}\n",
    "d_colors_background = {}\n",
    "for i,c in d_col_all.items():\n",
    "    if i in posG_foreground.keys():\n",
    "        d_colors_foreground[i]=c\n",
    "    else: \n",
    "        d_colors_background[i]=c\n",
    "\n",
    "colors_foreground = list(d_colors_foreground.values())\n",
    "colors_background = list(d_colors_background.values())\n",
    "\n",
    "d_feat_foreground = {}\n",
    "d_feat_background = {}\n",
    "for k,v in d_gene_sym.items():\n",
    "    if k in posG_foreground: \n",
    "        d_feat_foreground[k]=v\n",
    "    else:\n",
    "        d_feat_background[k]=v\n",
    "        \n",
    "feat_foreground = list(d_feat_foreground.values())\n",
    "feat_background = list(d_feat_background.values())\n",
    "\n",
    "scale_factor = 0.025\n",
    "d_size_plotly = draw_node_degree_3D(G, scale_factor)#/100)\n",
    "d_size_plotly_foreground = {}\n",
    "d_size_plotly_background = {}\n",
    "for k,v in d_size_plotly.items():\n",
    "    if k in posG_foreground.keys():\n",
    "        d_size_plotly_foreground[k]=v\n",
    "    else:\n",
    "        d_size_plotly_background[k]=v\n",
    "        \n",
    "size_plotly_foreground = list(d_size_plotly_foreground.values())\n",
    "size_plotly_background = list(d_size_plotly_background.values())\n",
    "\n",
    "umap_nodes_foreground = get_trace_nodes_2D(posG_foreground, feat_foreground, colors_foreground, size_plotly_foreground, \n",
    "                                           node_linewidth)\n",
    "umap_nodes_background = get_trace_nodes_2D(posG_background, feat_background, colors_background, size_plotly_background, \n",
    "                                           node_linewidth*0.25)\n",
    "umap_nodes_background_ = get_trace_nodes_2D(posG_background, feat_background, colors_background, 0.5, node_linewidth*0.5)\n",
    "\n",
    "umap_edges = get_trace_edges_specific2D(d_edge_col, posG, linew=width_edges, opac=opacity_edges)\n",
    "data = [umap_edges, \n",
    "    umap_nodes_background_, umap_nodes_background, umap_nodes_foreground]\n",
    "\n",
    "path = 'output_plots/2Dlayouts/'\n",
    "fname = '2Dportrait_NetlayoutImportance_nn'+str(n_n)+'_spr'+str(spr)+'_md'+str(md)+'_'+color_method+'_'+organism\n",
    "\n",
    "plot_2D(data,path,fname)"
   ]
  },
  {
   "cell_type": "markdown",
   "id": "4f6ae008-19f6-4335-81fe-f62baae0df2b",
   "metadata": {},
   "source": [
    "---\n",
    "## VRNETZER TABLE\n",
    "---"
   ]
  },
  {
   "cell_type": "code",
   "execution_count": 145,
   "id": "de0bb894-15cf-4155-b7b5-efe20e258bfe",
   "metadata": {},
   "outputs": [],
   "source": [
    "export_to_csv2D(path='',\n",
    "                layout_namespace = '2DPortrait_'+color_method,\n",
    "                #layout_namespace = 'ManuscriptFigure_2A_EDFig2_'+color_method,\n",
    "                posG = posG, \n",
    "                colors = colors)"
   ]
  },
  {
   "cell_type": "markdown",
   "id": "83d5fd64-1059-45e0-b2b8-454c1d910efa",
   "metadata": {},
   "source": [
    "---\n",
    "### reimport FIGURE LAYOUT \n",
    "---"
   ]
  },
  {
   "cell_type": "code",
   "execution_count": 116,
   "id": "7342768e-c782-4875-902e-9734fad526a0",
   "metadata": {},
   "outputs": [],
   "source": [
    "file = '2DPortrait_2cell_layout.csv'\n",
    "posG = import_vrnetzer_csv2D(G,file)[0]\n",
    "\n",
    "umap_nodes = get_trace_nodes_2D(posG, l_features, colors, node_size, node_linewidth*0.5)\n",
    "umap_edges = get_trace_edges_specific2D(d_edge_col, posG, linew=width_edges, opac=opacity_edges)\n",
    "data = [umap_edges,umap_nodes]\n",
    "\n",
    "path = 'output_plots/2Dlayouts/'\n",
    "fname = '2Dportrait_imported'\n",
    "\n",
    "plot_2D(data,path,fname)"
   ]
  }
 ],
 "metadata": {
  "kernelspec": {
   "display_name": "myenv",
   "language": "python",
   "name": "myenv"
  },
  "language_info": {
   "codemirror_mode": {
    "name": "ipython",
    "version": 3
   },
   "file_extension": ".py",
   "mimetype": "text/x-python",
   "name": "python",
   "nbconvert_exporter": "python",
   "pygments_lexer": "ipython3",
   "version": "3.8.2"
  }
 },
 "nbformat": 4,
 "nbformat_minor": 5
}
