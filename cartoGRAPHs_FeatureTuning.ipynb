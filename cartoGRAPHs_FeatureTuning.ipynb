{
 "cells": [
  {
   "cell_type": "markdown",
   "id": "plain-bouquet",
   "metadata": {},
   "source": [
    "-----\n",
    "# cartoGRAPHs - FEATURE TUNING\n",
    "\n",
    "A Notebook to produce 2D and 3D network layouts from any Graph,\n",
    "including interactive visualization (html files) and export functions \n",
    "to import into the VRNetzer analytics platform by Pirch et al.\n",
    "\n",
    "Please note: \n",
    "Large graphs (e.g. 20k nodes / 300k links) can take ~15min using TSNE-based layouts and ~5min using UMAP-based layouts\n",
    "\n",
    "-----"
   ]
  },
  {
   "cell_type": "code",
   "execution_count": 1,
   "id": "blind-pattern",
   "metadata": {},
   "outputs": [],
   "source": [
    "from cartoGRAPHs import * \n",
    "\n",
    "from func_load_data import *\n",
    "from func_visual_properties import * \n",
    "from func_calculations import * \n",
    "from func_embed_plot import * \n",
    "from func_exportVR import * "
   ]
  },
  {
   "cell_type": "markdown",
   "id": "funded-diamond",
   "metadata": {},
   "source": [
    "_____\n",
    "# 1 | DEFINE NETWORK\n",
    "_____"
   ]
  },
  {
   "cell_type": "code",
   "execution_count": 2,
   "id": "received-mortgage",
   "metadata": {},
   "outputs": [],
   "source": [
    "G = nx.cycle_graph(9)\n",
    "\n",
    "l_features = ['nodeID:'+str(i) for i in list(G.nodes())]"
   ]
  },
  {
   "cell_type": "code",
   "execution_count": 3,
   "id": "normal-album",
   "metadata": {},
   "outputs": [],
   "source": [
    "path = 'output_plots/benchmark/'"
   ]
  },
  {
   "cell_type": "code",
   "execution_count": 4,
   "id": "stainless-maldives",
   "metadata": {},
   "outputs": [],
   "source": [
    "edge_opacity = 1\n",
    "edge_width = 5\n",
    "node_size = 45\n",
    "node_width = 3"
   ]
  },
  {
   "cell_type": "code",
   "execution_count": 5,
   "id": "available-modeling",
   "metadata": {},
   "outputs": [
    {
     "data": {
      "image/png": "[encoded data removed]",
      "text/plain": [
       "<Figure size 432x288 with 1 Axes>"
      ]
     },
     "metadata": {},
     "output_type": "display_data"
    }
   ],
   "source": [
    "nx.draw(G)"
   ]
  },
  {
   "cell_type": "markdown",
   "id": "exotic-pilot",
   "metadata": {
    "tags": []
   },
   "source": [
    "### FUNCTIONAL"
   ]
  },
  {
   "cell_type": "code",
   "execution_count": 6,
   "id": "diagnostic-mirror",
   "metadata": {},
   "outputs": [],
   "source": [
    "scale = 0"
   ]
  },
  {
   "cell_type": "code",
   "execution_count": 7,
   "id": "terminal-negative",
   "metadata": {},
   "outputs": [],
   "source": [
    "rows = len(list(G.nodes()))\n",
    "feat_one = [(1) if i%3 else (scale) for i in range(rows)]\n",
    "feat_two = [(1) if i%2 or feat_one[i]==scale in feat_one else (scale) for i in range(rows)]\n",
    "feat_three = [(scale) if feat_one[i]==1 and feat_two[i]==1 else 1 for i in range(rows)]\n",
    "feat_matrix = np.vstack((feat_one,feat_two,feat_three))"
   ]
  },
  {
   "cell_type": "code",
   "execution_count": 8,
   "id": "impressive-canada",
   "metadata": {},
   "outputs": [],
   "source": [
    "# colors based on features \n",
    "\n",
    "col_one = 'orange' #'darkblue'\n",
    "col_two = 'cornflowerblue'\n",
    "col_three = 'skyblue'\n",
    "\n",
    "colors_assigned = dict(zip(list(G.nodes()), [col_one,col_three,col_two,col_one,col_two,col_three,col_one,col_three,col_two]))\n",
    "color_list = list(colors_assigned.values())"
   ]
  },
  {
   "cell_type": "code",
   "execution_count": 9,
   "id": "miniature-queue",
   "metadata": {},
   "outputs": [],
   "source": [
    "DF_functional = pd.DataFrame(feat_matrix)\n",
    "DF_functional.index = [100,101,102]"
   ]
  },
  {
   "cell_type": "code",
   "execution_count": 10,
   "id": "arranged-formation",
   "metadata": {},
   "outputs": [
    {
     "data": {
      "text/html": [
       "<div>\n",
       "<style scoped>\n",
       "    .dataframe tbody tr th:only-of-type {\n",
       "        vertical-align: middle;\n",
       "    }\n",
       "\n",
       "    .dataframe tbody tr th {\n",
       "        vertical-align: top;\n",
       "    }\n",
       "\n",
       "    .dataframe thead th {\n",
       "        text-align: right;\n",
       "    }\n",
       "</style>\n",
       "<table border=\"1\" class=\"dataframe\">\n",
       "  <thead>\n",
       "    <tr style=\"text-align: right;\">\n",
       "      <th></th>\n",
       "      <th>0</th>\n",
       "      <th>1</th>\n",
       "      <th>2</th>\n",
       "      <th>3</th>\n",
       "      <th>4</th>\n",
       "      <th>5</th>\n",
       "      <th>6</th>\n",
       "      <th>7</th>\n",
       "      <th>8</th>\n",
       "    </tr>\n",
       "  </thead>\n",
       "  <tbody>\n",
       "    <tr>\n",
       "      <th>100</th>\n",
       "      <td>0</td>\n",
       "      <td>1</td>\n",
       "      <td>1</td>\n",
       "      <td>0</td>\n",
       "      <td>1</td>\n",
       "      <td>1</td>\n",
       "      <td>0</td>\n",
       "      <td>1</td>\n",
       "      <td>1</td>\n",
       "    </tr>\n",
       "    <tr>\n",
       "      <th>101</th>\n",
       "      <td>1</td>\n",
       "      <td>1</td>\n",
       "      <td>0</td>\n",
       "      <td>1</td>\n",
       "      <td>0</td>\n",
       "      <td>1</td>\n",
       "      <td>1</td>\n",
       "      <td>1</td>\n",
       "      <td>0</td>\n",
       "    </tr>\n",
       "    <tr>\n",
       "      <th>102</th>\n",
       "      <td>1</td>\n",
       "      <td>0</td>\n",
       "      <td>1</td>\n",
       "      <td>1</td>\n",
       "      <td>1</td>\n",
       "      <td>0</td>\n",
       "      <td>1</td>\n",
       "      <td>0</td>\n",
       "      <td>1</td>\n",
       "    </tr>\n",
       "  </tbody>\n",
       "</table>\n",
       "</div>"
      ],
      "text/plain": [
       "     0  1  2  3  4  5  6  7  8\n",
       "100  0  1  1  0  1  1  0  1  1\n",
       "101  1  1  0  1  0  1  1  1  0\n",
       "102  1  0  1  1  1  0  1  0  1"
      ]
     },
     "execution_count": 10,
     "metadata": {},
     "output_type": "execute_result"
    }
   ],
   "source": [
    "DF_functional"
   ]
  },
  {
   "cell_type": "markdown",
   "id": "prime-guitar",
   "metadata": {
    "tags": []
   },
   "source": [
    "### STRUCTURAL "
   ]
  },
  {
   "cell_type": "code",
   "execution_count": 584,
   "id": "medium-civilian",
   "metadata": {},
   "outputs": [],
   "source": [
    "r=0.9\n",
    "alpha=1.0\n",
    "\n",
    "A = nx.adjacency_matrix(G)\n",
    "FM_m_array = rnd_walk_matrix2(A, r, alpha, len(G.nodes()))\n",
    "DF_structural = pd.DataFrame(FM_m_array).T\n",
    "DF_structural.index = list(G.nodes())\n",
    "DF_structural.columns = list(G.nodes()) "
   ]
  },
  {
   "cell_type": "code",
   "execution_count": 585,
   "id": "stunning-hearts",
   "metadata": {},
   "outputs": [
    {
     "data": {
      "text/html": [
       "<div>\n",
       "<style scoped>\n",
       "    .dataframe tbody tr th:only-of-type {\n",
       "        vertical-align: middle;\n",
       "    }\n",
       "\n",
       "    .dataframe tbody tr th {\n",
       "        vertical-align: top;\n",
       "    }\n",
       "\n",
       "    .dataframe thead th {\n",
       "        text-align: right;\n",
       "    }\n",
       "</style>\n",
       "<table border=\"1\" class=\"dataframe\">\n",
       "  <thead>\n",
       "    <tr style=\"text-align: right;\">\n",
       "      <th></th>\n",
       "      <th>0</th>\n",
       "      <th>1</th>\n",
       "      <th>2</th>\n",
       "      <th>3</th>\n",
       "      <th>4</th>\n",
       "      <th>5</th>\n",
       "      <th>6</th>\n",
       "      <th>7</th>\n",
       "      <th>8</th>\n",
       "    </tr>\n",
       "  </thead>\n",
       "  <tbody>\n",
       "    <tr>\n",
       "      <th>0</th>\n",
       "      <td>0.904534</td>\n",
       "      <td>0.045340</td>\n",
       "      <td>0.002273</td>\n",
       "      <td>0.000114</td>\n",
       "      <td>0.000006</td>\n",
       "      <td>0.000006</td>\n",
       "      <td>0.000114</td>\n",
       "      <td>0.002273</td>\n",
       "      <td>0.045340</td>\n",
       "    </tr>\n",
       "    <tr>\n",
       "      <th>1</th>\n",
       "      <td>0.045340</td>\n",
       "      <td>0.904534</td>\n",
       "      <td>0.045340</td>\n",
       "      <td>0.002273</td>\n",
       "      <td>0.000114</td>\n",
       "      <td>0.000006</td>\n",
       "      <td>0.000006</td>\n",
       "      <td>0.000114</td>\n",
       "      <td>0.002273</td>\n",
       "    </tr>\n",
       "    <tr>\n",
       "      <th>2</th>\n",
       "      <td>0.002273</td>\n",
       "      <td>0.045340</td>\n",
       "      <td>0.904534</td>\n",
       "      <td>0.045340</td>\n",
       "      <td>0.002273</td>\n",
       "      <td>0.000114</td>\n",
       "      <td>0.000006</td>\n",
       "      <td>0.000006</td>\n",
       "      <td>0.000114</td>\n",
       "    </tr>\n",
       "    <tr>\n",
       "      <th>3</th>\n",
       "      <td>0.000114</td>\n",
       "      <td>0.002273</td>\n",
       "      <td>0.045340</td>\n",
       "      <td>0.904534</td>\n",
       "      <td>0.045340</td>\n",
       "      <td>0.002273</td>\n",
       "      <td>0.000114</td>\n",
       "      <td>0.000006</td>\n",
       "      <td>0.000006</td>\n",
       "    </tr>\n",
       "    <tr>\n",
       "      <th>4</th>\n",
       "      <td>0.000006</td>\n",
       "      <td>0.000114</td>\n",
       "      <td>0.002273</td>\n",
       "      <td>0.045340</td>\n",
       "      <td>0.904534</td>\n",
       "      <td>0.045340</td>\n",
       "      <td>0.002273</td>\n",
       "      <td>0.000114</td>\n",
       "      <td>0.000006</td>\n",
       "    </tr>\n",
       "    <tr>\n",
       "      <th>5</th>\n",
       "      <td>0.000006</td>\n",
       "      <td>0.000006</td>\n",
       "      <td>0.000114</td>\n",
       "      <td>0.002273</td>\n",
       "      <td>0.045340</td>\n",
       "      <td>0.904534</td>\n",
       "      <td>0.045340</td>\n",
       "      <td>0.002273</td>\n",
       "      <td>0.000114</td>\n",
       "    </tr>\n",
       "    <tr>\n",
       "      <th>6</th>\n",
       "      <td>0.000114</td>\n",
       "      <td>0.000006</td>\n",
       "      <td>0.000006</td>\n",
       "      <td>0.000114</td>\n",
       "      <td>0.002273</td>\n",
       "      <td>0.045340</td>\n",
       "      <td>0.904534</td>\n",
       "      <td>0.045340</td>\n",
       "      <td>0.002273</td>\n",
       "    </tr>\n",
       "    <tr>\n",
       "      <th>7</th>\n",
       "      <td>0.002273</td>\n",
       "      <td>0.000114</td>\n",
       "      <td>0.000006</td>\n",
       "      <td>0.000006</td>\n",
       "      <td>0.000114</td>\n",
       "      <td>0.002273</td>\n",
       "      <td>0.045340</td>\n",
       "      <td>0.904534</td>\n",
       "      <td>0.045340</td>\n",
       "    </tr>\n",
       "    <tr>\n",
       "      <th>8</th>\n",
       "      <td>0.045340</td>\n",
       "      <td>0.002273</td>\n",
       "      <td>0.000114</td>\n",
       "      <td>0.000006</td>\n",
       "      <td>0.000006</td>\n",
       "      <td>0.000114</td>\n",
       "      <td>0.002273</td>\n",
       "      <td>0.045340</td>\n",
       "      <td>0.904534</td>\n",
       "    </tr>\n",
       "  </tbody>\n",
       "</table>\n",
       "</div>"
      ],
      "text/plain": [
       "          0         1         2         3         4         5         6  \\\n",
       "0  0.904534  0.045340  0.002273  0.000114  0.000006  0.000006  0.000114   \n",
       "1  0.045340  0.904534  0.045340  0.002273  0.000114  0.000006  0.000006   \n",
       "2  0.002273  0.045340  0.904534  0.045340  0.002273  0.000114  0.000006   \n",
       "3  0.000114  0.002273  0.045340  0.904534  0.045340  0.002273  0.000114   \n",
       "4  0.000006  0.000114  0.002273  0.045340  0.904534  0.045340  0.002273   \n",
       "5  0.000006  0.000006  0.000114  0.002273  0.045340  0.904534  0.045340   \n",
       "6  0.000114  0.000006  0.000006  0.000114  0.002273  0.045340  0.904534   \n",
       "7  0.002273  0.000114  0.000006  0.000006  0.000114  0.002273  0.045340   \n",
       "8  0.045340  0.002273  0.000114  0.000006  0.000006  0.000114  0.002273   \n",
       "\n",
       "          7         8  \n",
       "0  0.002273  0.045340  \n",
       "1  0.000114  0.002273  \n",
       "2  0.000006  0.000114  \n",
       "3  0.000006  0.000006  \n",
       "4  0.000114  0.000006  \n",
       "5  0.002273  0.000114  \n",
       "6  0.045340  0.002273  \n",
       "7  0.904534  0.045340  \n",
       "8  0.045340  0.904534  "
      ]
     },
     "execution_count": 585,
     "metadata": {},
     "output_type": "execute_result"
    }
   ],
   "source": [
    "DF_structural"
   ]
  },
  {
   "cell_type": "code",
   "execution_count": 586,
   "id": "potential-newcastle",
   "metadata": {
    "tags": []
   },
   "outputs": [],
   "source": [
    "# normalize DF structural\n",
    "\n",
    "cols = DF_structural.columns\n",
    "min_max_scaler = preprocessing.MinMaxScaler()\n",
    "np_scaled = min_max_scaler.fit_transform(DF_structural)\n",
    "DF_structural_normalized = pd.DataFrame(np_scaled, columns = cols)\n",
    "DF_structural_norm = DF_structural_normalized.round(6)"
   ]
  },
  {
   "cell_type": "markdown",
   "id": "dressed-binary",
   "metadata": {
    "tags": []
   },
   "source": [
    "### BOTH INTO ONE MATRIX (structural + functional)\n",
    "+ KEEP RWR ORIGINAL ! > its depending on the \"turning point of enhancing factor\" estimate \n",
    "+ FEATURE MATRIX shall be positioned as addon - columns !! (not rows!!)"
   ]
  },
  {
   "cell_type": "code",
   "execution_count": 631,
   "id": "marine-hampton",
   "metadata": {},
   "outputs": [
    {
     "data": {
      "text/html": [
       "<div>\n",
       "<style scoped>\n",
       "    .dataframe tbody tr th:only-of-type {\n",
       "        vertical-align: middle;\n",
       "    }\n",
       "\n",
       "    .dataframe tbody tr th {\n",
       "        vertical-align: top;\n",
       "    }\n",
       "\n",
       "    .dataframe thead th {\n",
       "        text-align: right;\n",
       "    }\n",
       "</style>\n",
       "<table border=\"1\" class=\"dataframe\">\n",
       "  <thead>\n",
       "    <tr style=\"text-align: right;\">\n",
       "      <th></th>\n",
       "      <th>0</th>\n",
       "      <th>1</th>\n",
       "      <th>2</th>\n",
       "      <th>3</th>\n",
       "      <th>4</th>\n",
       "      <th>5</th>\n",
       "      <th>6</th>\n",
       "      <th>7</th>\n",
       "      <th>8</th>\n",
       "    </tr>\n",
       "  </thead>\n",
       "  <tbody>\n",
       "    <tr>\n",
       "      <th>100</th>\n",
       "      <td>0.000</td>\n",
       "      <td>0.286</td>\n",
       "      <td>0.286</td>\n",
       "      <td>0.000</td>\n",
       "      <td>0.286</td>\n",
       "      <td>0.286</td>\n",
       "      <td>0.000</td>\n",
       "      <td>0.286</td>\n",
       "      <td>0.286</td>\n",
       "    </tr>\n",
       "    <tr>\n",
       "      <th>101</th>\n",
       "      <td>0.286</td>\n",
       "      <td>0.286</td>\n",
       "      <td>0.000</td>\n",
       "      <td>0.286</td>\n",
       "      <td>0.000</td>\n",
       "      <td>0.286</td>\n",
       "      <td>0.286</td>\n",
       "      <td>0.286</td>\n",
       "      <td>0.000</td>\n",
       "    </tr>\n",
       "    <tr>\n",
       "      <th>102</th>\n",
       "      <td>0.286</td>\n",
       "      <td>0.000</td>\n",
       "      <td>0.286</td>\n",
       "      <td>0.286</td>\n",
       "      <td>0.286</td>\n",
       "      <td>0.000</td>\n",
       "      <td>0.286</td>\n",
       "      <td>0.000</td>\n",
       "      <td>0.286</td>\n",
       "    </tr>\n",
       "  </tbody>\n",
       "</table>\n",
       "</div>"
      ],
      "text/plain": [
       "         0      1      2      3      4      5      6      7      8\n",
       "100  0.000  0.286  0.286  0.000  0.286  0.286  0.000  0.286  0.286\n",
       "101  0.286  0.286  0.000  0.286  0.000  0.286  0.286  0.286  0.000\n",
       "102  0.286  0.000  0.286  0.286  0.286  0.000  0.286  0.000  0.286"
      ]
     },
     "execution_count": 631,
     "metadata": {},
     "output_type": "execute_result"
    }
   ],
   "source": [
    "scalar = 0.2860\n",
    "\n",
    "DF_functional_scal = DF_functional*scalar\n",
    "DF_functional_scal"
   ]
  },
  {
   "cell_type": "code",
   "execution_count": 632,
   "id": "typical-bailey",
   "metadata": {},
   "outputs": [],
   "source": [
    "DF_merge = pd.concat([DF_structural, \n",
    "                      DF_functional_scal]).T"
   ]
  },
  {
   "cell_type": "code",
   "execution_count": 633,
   "id": "rotary-confidence",
   "metadata": {},
   "outputs": [],
   "source": [
    "n_neighbors = 3 #int(len(G.nodes()))#*0.75)\n",
    "spread = 1\n",
    "min_dist = 0.0 #0\n",
    "#metric='euclidean'\n",
    "metric='cosine'\n",
    "\n",
    "umap2D_merge = embed_umap_2D(DF_merge , n_neighbors, spread, min_dist, metric)\n",
    "posG_merge = get_posG_2D_norm(G, DF_merge , umap2D_merge)"
   ]
  },
  {
   "cell_type": "code",
   "execution_count": 634,
   "id": "comparative-transaction",
   "metadata": {},
   "outputs": [],
   "source": [
    "trace_nodes = get_trace_nodes_2D(posG_merge, list(G.nodes()), color_list, size=node_size, linewidth=node_width)\n",
    "trace_edges = get_trace_edges_2D(G, posG_merge, color='dimgrey', opac=edge_opacity ,linewidth=edge_width)\n",
    "\n",
    "data = [trace_edges,trace_nodes]\n",
    "fname = 'FeatureTuning_merge_FuncScalar'+str(scalar)"
   ]
  },
  {
   "cell_type": "code",
   "execution_count": 635,
   "id": "wicked-sandwich",
   "metadata": {},
   "outputs": [
    {
     "data": {
      "application/vnd.plotly.v1+json": {
       "config": {
        "plotlyServerURL": "https://plot.ly"
       },
       "data": [
        {
         "hoverinfo": "none",
         "line": {
          "color": "dimgrey",
          "width": 5
         },
         "mode": "lines",
         "opacity": 1,
         "type": "scatter",
         "x": [
          0.5602480226,
          0.3824442221,
          null,
          0.5602480226,
          0.720961299,
          null,
          0.3824442221,
          0.0251901998,
          null,
          0.0251901998,
          0,
          null,
          0,
          0.1045871958,
          null,
          0.1045871958,
          0.8968830083,
          null,
          0.8968830083,
          1,
          null,
          1,
          0.904630926,
          null,
          0.904630926,
          0.720961299,
          null
         ],
         "y": [
          0,
          0.0963417262,
          null,
          0,
          0.0427521459,
          null,
          0.0963417262,
          0.6305174951,
          null,
          0.6305174951,
          1,
          null,
          1,
          0.9850405225,
          null,
          0.9850405225,
          0.7093592979,
          null,
          0.7093592979,
          0.5373792149,
          null,
          0.5373792149,
          0.2987623089,
          null,
          0.2987623089,
          0.0427521459,
          null
         ]
        },
        {
         "hoverinfo": "text",
         "marker": {
          "color": [
           "orange",
           "skyblue",
           "cornflowerblue",
           "orange",
           "cornflowerblue",
           "skyblue",
           "orange",
           "skyblue",
           "cornflowerblue"
          ],
          "line": {
           "color": "dimgrey",
           "width": 3
          },
          "size": 45,
          "symbol": "circle"
         },
         "mode": "markers",
         "text": [
          "0",
          "1",
          "2",
          "3",
          "4",
          "5",
          "6",
          "7",
          "8"
         ],
         "type": "scatter",
         "x": [
          0.5602480226,
          0.3824442221,
          0.0251901998,
          0,
          0.1045871958,
          0.8968830083,
          1,
          0.904630926,
          0.720961299
         ],
         "y": [
          0,
          0.0963417262,
          0.6305174951,
          1,
          0.9850405225,
          0.7093592979,
          0.5373792149,
          0.2987623089,
          0.0427521459
         ]
        }
       ],
       "layout": {
        "height": 1200,
        "scene": {
         "xaxis": {
          "nticks": 0,
          "tickfont": {
           "color": "white"
          },
          "title": {
           "text": ""
          }
         },
         "yaxis": {
          "nticks": 0,
          "tickfont": {
           "color": "white"
          },
          "title": {
           "text": ""
          }
         }
        },
        "showlegend": false,
        "template": {
         "data": {
          "bar": [
           {
            "error_x": {
             "color": "#2a3f5f"
            },
            "error_y": {
             "color": "#2a3f5f"
            },
            "marker": {
             "line": {
              "color": "white",
              "width": 0.5
             },
             "pattern": {
              "fillmode": "overlay",
              "size": 10,
              "solidity": 0.2
             }
            },
            "type": "bar"
           }
          ],
          "barpolar": [
           {
            "marker": {
             "line": {
              "color": "white",
              "width": 0.5
             },
             "pattern": {
              "fillmode": "overlay",
              "size": 10,
              "solidity": 0.2
             }
            },
            "type": "barpolar"
           }
          ],
          "carpet": [
           {
            "aaxis": {
             "endlinecolor": "#2a3f5f",
             "gridcolor": "#C8D4E3",
             "linecolor": "#C8D4E3",
             "minorgridcolor": "#C8D4E3",
             "startlinecolor": "#2a3f5f"
            },
            "baxis": {
             "endlinecolor": "#2a3f5f",
             "gridcolor": "#C8D4E3",
             "linecolor": "#C8D4E3",
             "minorgridcolor": "#C8D4E3",
             "startlinecolor": "#2a3f5f"
            },
            "type": "carpet"
           }
          ],
          "choropleth": [
           {
            "colorbar": {
             "outlinewidth": 0,
             "ticks": ""
            },
            "type": "choropleth"
           }
          ],
          "contour": [
           {
            "colorbar": {
             "outlinewidth": 0,
             "ticks": ""
            },
            "colorscale": [
             [
              0,
              "#0d0887"
             ],
             [
              0.1111111111111111,
              "#46039f"
             ],
             [
              0.2222222222222222,
              "#7201a8"
             ],
             [
              0.3333333333333333,
              "#9c179e"
             ],
             [
              0.4444444444444444,
              "#bd3786"
             ],
             [
              0.5555555555555556,
              "#d8576b"
             ],
             [
              0.6666666666666666,
              "#ed7953"
             ],
             [
              0.7777777777777778,
              "#fb9f3a"
             ],
             [
              0.8888888888888888,
              "#fdca26"
             ],
             [
              1,
              "#f0f921"
             ]
            ],
            "type": "contour"
           }
          ],
          "contourcarpet": [
           {
            "colorbar": {
             "outlinewidth": 0,
             "ticks": ""
            },
            "type": "contourcarpet"
           }
          ],
          "heatmap": [
           {
            "colorbar": {
             "outlinewidth": 0,
             "ticks": ""
            },
            "colorscale": [
             [
              0,
              "#0d0887"
             ],
             [
              0.1111111111111111,
              "#46039f"
             ],
             [
              0.2222222222222222,
              "#7201a8"
             ],
             [
              0.3333333333333333,
              "#9c179e"
             ],
             [
              0.4444444444444444,
              "#bd3786"
             ],
             [
              0.5555555555555556,
              "#d8576b"
             ],
             [
              0.6666666666666666,
              "#ed7953"
             ],
             [
              0.7777777777777778,
              "#fb9f3a"
             ],
             [
              0.8888888888888888,
              "#fdca26"
             ],
             [
              1,
              "#f0f921"
             ]
            ],
            "type": "heatmap"
           }
          ],
          "heatmapgl": [
           {
            "colorbar": {
             "outlinewidth": 0,
             "ticks": ""
            },
            "colorscale": [
             [
              0,
              "#0d0887"
             ],
             [
              0.1111111111111111,
              "#46039f"
             ],
             [
              0.2222222222222222,
              "#7201a8"
             ],
             [
              0.3333333333333333,
              "#9c179e"
             ],
             [
              0.4444444444444444,
              "#bd3786"
             ],
             [
              0.5555555555555556,
              "#d8576b"
             ],
             [
              0.6666666666666666,
              "#ed7953"
             ],
             [
              0.7777777777777778,
              "#fb9f3a"
             ],
             [
              0.8888888888888888,
              "#fdca26"
             ],
             [
              1,
              "#f0f921"
             ]
            ],
            "type": "heatmapgl"
           }
          ],
          "histogram": [
           {
            "marker": {
             "pattern": {
              "fillmode": "overlay",
              "size": 10,
              "solidity": 0.2
             }
            },
            "type": "histogram"
           }
          ],
          "histogram2d": [
           {
            "colorbar": {
             "outlinewidth": 0,
             "ticks": ""
            },
            "colorscale": [
             [
              0,
              "#0d0887"
             ],
             [
              0.1111111111111111,
              "#46039f"
             ],
             [
              0.2222222222222222,
              "#7201a8"
             ],
             [
              0.3333333333333333,
              "#9c179e"
             ],
             [
              0.4444444444444444,
              "#bd3786"
             ],
             [
              0.5555555555555556,
              "#d8576b"
             ],
             [
              0.6666666666666666,
              "#ed7953"
             ],
             [
              0.7777777777777778,
              "#fb9f3a"
             ],
             [
              0.8888888888888888,
              "#fdca26"
             ],
             [
              1,
              "#f0f921"
             ]
            ],
            "type": "histogram2d"
           }
          ],
          "histogram2dcontour": [
           {
            "colorbar": {
             "outlinewidth": 0,
             "ticks": ""
            },
            "colorscale": [
             [
              0,
              "#0d0887"
             ],
             [
              0.1111111111111111,
              "#46039f"
             ],
             [
              0.2222222222222222,
              "#7201a8"
             ],
             [
              0.3333333333333333,
              "#9c179e"
             ],
             [
              0.4444444444444444,
              "#bd3786"
             ],
             [
              0.5555555555555556,
              "#d8576b"
             ],
             [
              0.6666666666666666,
              "#ed7953"
             ],
             [
              0.7777777777777778,
              "#fb9f3a"
             ],
             [
              0.8888888888888888,
              "#fdca26"
             ],
             [
              1,
              "#f0f921"
             ]
            ],
            "type": "histogram2dcontour"
           }
          ],
          "mesh3d": [
           {
            "colorbar": {
             "outlinewidth": 0,
             "ticks": ""
            },
            "type": "mesh3d"
           }
          ],
          "parcoords": [
           {
            "line": {
             "colorbar": {
              "outlinewidth": 0,
              "ticks": ""
             }
            },
            "type": "parcoords"
           }
          ],
          "pie": [
           {
            "automargin": true,
            "type": "pie"
           }
          ],
          "scatter": [
           {
            "marker": {
             "colorbar": {
              "outlinewidth": 0,
              "ticks": ""
             }
            },
            "type": "scatter"
           }
          ],
          "scatter3d": [
           {
            "line": {
             "colorbar": {
              "outlinewidth": 0,
              "ticks": ""
             }
            },
            "marker": {
             "colorbar": {
              "outlinewidth": 0,
              "ticks": ""
             }
            },
            "type": "scatter3d"
           }
          ],
          "scattercarpet": [
           {
            "marker": {
             "colorbar": {
              "outlinewidth": 0,
              "ticks": ""
             }
            },
            "type": "scattercarpet"
           }
          ],
          "scattergeo": [
           {
            "marker": {
             "colorbar": {
              "outlinewidth": 0,
              "ticks": ""
             }
            },
            "type": "scattergeo"
           }
          ],
          "scattergl": [
           {
            "marker": {
             "colorbar": {
              "outlinewidth": 0,
              "ticks": ""
             }
            },
            "type": "scattergl"
           }
          ],
          "scattermapbox": [
           {
            "marker": {
             "colorbar": {
              "outlinewidth": 0,
              "ticks": ""
             }
            },
            "type": "scattermapbox"
           }
          ],
          "scatterpolar": [
           {
            "marker": {
             "colorbar": {
              "outlinewidth": 0,
              "ticks": ""
             }
            },
            "type": "scatterpolar"
           }
          ],
          "scatterpolargl": [
           {
            "marker": {
             "colorbar": {
              "outlinewidth": 0,
              "ticks": ""
             }
            },
            "type": "scatterpolargl"
           }
          ],
          "scatterternary": [
           {
            "marker": {
             "colorbar": {
              "outlinewidth": 0,
              "ticks": ""
             }
            },
            "type": "scatterternary"
           }
          ],
          "surface": [
           {
            "colorbar": {
             "outlinewidth": 0,
             "ticks": ""
            },
            "colorscale": [
             [
              0,
              "#0d0887"
             ],
             [
              0.1111111111111111,
              "#46039f"
             ],
             [
              0.2222222222222222,
              "#7201a8"
             ],
             [
              0.3333333333333333,
              "#9c179e"
             ],
             [
              0.4444444444444444,
              "#bd3786"
             ],
             [
              0.5555555555555556,
              "#d8576b"
             ],
             [
              0.6666666666666666,
              "#ed7953"
             ],
             [
              0.7777777777777778,
              "#fb9f3a"
             ],
             [
              0.8888888888888888,
              "#fdca26"
             ],
             [
              1,
              "#f0f921"
             ]
            ],
            "type": "surface"
           }
          ],
          "table": [
           {
            "cells": {
             "fill": {
              "color": "#EBF0F8"
             },
             "line": {
              "color": "white"
             }
            },
            "header": {
             "fill": {
              "color": "#C8D4E3"
             },
             "line": {
              "color": "white"
             }
            },
            "type": "table"
           }
          ]
         },
         "layout": {
          "annotationdefaults": {
           "arrowcolor": "#2a3f5f",
           "arrowhead": 0,
           "arrowwidth": 1
          },
          "autotypenumbers": "strict",
          "coloraxis": {
           "colorbar": {
            "outlinewidth": 0,
            "ticks": ""
           }
          },
          "colorscale": {
           "diverging": [
            [
             0,
             "#8e0152"
            ],
            [
             0.1,
             "#c51b7d"
            ],
            [
             0.2,
             "#de77ae"
            ],
            [
             0.3,
             "#f1b6da"
            ],
            [
             0.4,
             "#fde0ef"
            ],
            [
             0.5,
             "#f7f7f7"
            ],
            [
             0.6,
             "#e6f5d0"
            ],
            [
             0.7,
             "#b8e186"
            ],
            [
             0.8,
             "#7fbc41"
            ],
            [
             0.9,
             "#4d9221"
            ],
            [
             1,
             "#276419"
            ]
           ],
           "sequential": [
            [
             0,
             "#0d0887"
            ],
            [
             0.1111111111111111,
             "#46039f"
            ],
            [
             0.2222222222222222,
             "#7201a8"
            ],
            [
             0.3333333333333333,
             "#9c179e"
            ],
            [
             0.4444444444444444,
             "#bd3786"
            ],
            [
             0.5555555555555556,
             "#d8576b"
            ],
            [
             0.6666666666666666,
             "#ed7953"
            ],
            [
             0.7777777777777778,
             "#fb9f3a"
            ],
            [
             0.8888888888888888,
             "#fdca26"
            ],
            [
             1,
             "#f0f921"
            ]
           ],
           "sequentialminus": [
            [
             0,
             "#0d0887"
            ],
            [
             0.1111111111111111,
             "#46039f"
            ],
            [
             0.2222222222222222,
             "#7201a8"
            ],
            [
             0.3333333333333333,
             "#9c179e"
            ],
            [
             0.4444444444444444,
             "#bd3786"
            ],
            [
             0.5555555555555556,
             "#d8576b"
            ],
            [
             0.6666666666666666,
             "#ed7953"
            ],
            [
             0.7777777777777778,
             "#fb9f3a"
            ],
            [
             0.8888888888888888,
             "#fdca26"
            ],
            [
             1,
             "#f0f921"
            ]
           ]
          },
          "colorway": [
           "#636efa",
           "#EF553B",
           "#00cc96",
           "#ab63fa",
           "#FFA15A",
           "#19d3f3",
           "#FF6692",
           "#B6E880",
           "#FF97FF",
           "#FECB52"
          ],
          "font": {
           "color": "#2a3f5f"
          },
          "geo": {
           "bgcolor": "white",
           "lakecolor": "white",
           "landcolor": "white",
           "showlakes": true,
           "showland": true,
           "subunitcolor": "#C8D4E3"
          },
          "hoverlabel": {
           "align": "left"
          },
          "hovermode": "closest",
          "mapbox": {
           "style": "light"
          },
          "paper_bgcolor": "white",
          "plot_bgcolor": "white",
          "polar": {
           "angularaxis": {
            "gridcolor": "#EBF0F8",
            "linecolor": "#EBF0F8",
            "ticks": ""
           },
           "bgcolor": "white",
           "radialaxis": {
            "gridcolor": "#EBF0F8",
            "linecolor": "#EBF0F8",
            "ticks": ""
           }
          },
          "scene": {
           "xaxis": {
            "backgroundcolor": "white",
            "gridcolor": "#DFE8F3",
            "gridwidth": 2,
            "linecolor": "#EBF0F8",
            "showbackground": true,
            "ticks": "",
            "zerolinecolor": "#EBF0F8"
           },
           "yaxis": {
            "backgroundcolor": "white",
            "gridcolor": "#DFE8F3",
            "gridwidth": 2,
            "linecolor": "#EBF0F8",
            "showbackground": true,
            "ticks": "",
            "zerolinecolor": "#EBF0F8"
           },
           "zaxis": {
            "backgroundcolor": "white",
            "gridcolor": "#DFE8F3",
            "gridwidth": 2,
            "linecolor": "#EBF0F8",
            "showbackground": true,
            "ticks": "",
            "zerolinecolor": "#EBF0F8"
           }
          },
          "shapedefaults": {
           "line": {
            "color": "#2a3f5f"
           }
          },
          "ternary": {
           "aaxis": {
            "gridcolor": "#DFE8F3",
            "linecolor": "#A2B1C6",
            "ticks": ""
           },
           "baxis": {
            "gridcolor": "#DFE8F3",
            "linecolor": "#A2B1C6",
            "ticks": ""
           },
           "bgcolor": "white",
           "caxis": {
            "gridcolor": "#DFE8F3",
            "linecolor": "#A2B1C6",
            "ticks": ""
           }
          },
          "title": {
           "x": 0.05
          },
          "xaxis": {
           "automargin": true,
           "gridcolor": "#EBF0F8",
           "linecolor": "#EBF0F8",
           "ticks": "",
           "title": {
            "standoff": 15
           },
           "zerolinecolor": "#EBF0F8",
           "zerolinewidth": 2
          },
          "yaxis": {
           "automargin": true,
           "gridcolor": "#EBF0F8",
           "linecolor": "#EBF0F8",
           "ticks": "",
           "title": {
            "standoff": 15
           },
           "zerolinecolor": "#EBF0F8",
           "zerolinewidth": 2
          }
         }
        },
        "width": 1200,
        "xaxis": {
         "autorange": true,
         "range": [
          -0.09107701051435067,
          1.0910770105143506
         ],
         "type": "linear",
         "visible": false
        },
        "yaxis": {
         "autorange": true,
         "range": [
          -0.09181897302001742,
          1.0918189730200174
         ],
         "type": "linear",
         "visible": false
        }
       }
      },
      "text/html": [
       "<div>                            <div id=\"a3e4806b-d15f-4d33-a832-59da646ee3a4\" class=\"plotly-graph-div\" style=\"height:1200px; width:1200px;\"></div>            <script type=\"text/javascript\">                require([\"plotly\"], function(Plotly) {                    window.PLOTLYENV=window.PLOTLYENV || {};                                    if (document.getElementById(\"a3e4806b-d15f-4d33-a832-59da646ee3a4\")) {                    Plotly.newPlot(                        \"a3e4806b-d15f-4d33-a832-59da646ee3a4\",                        [{\"hoverinfo\":\"none\",\"line\":{\"color\":\"dimgrey\",\"width\":5},\"mode\":\"lines\",\"opacity\":1,\"type\":\"scatter\",\"x\":[0.5602480226,0.3824442221,null,0.5602480226,0.720961299,null,0.3824442221,0.0251901998,null,0.0251901998,0.0,null,0.0,0.1045871958,null,0.1045871958,0.8968830083,null,0.8968830083,1.0,null,1.0,0.904630926,null,0.904630926,0.720961299,null],\"y\":[0.0,0.0963417262,null,0.0,0.0427521459,null,0.0963417262,0.6305174951,null,0.6305174951,1.0,null,1.0,0.9850405225,null,0.9850405225,0.7093592979,null,0.7093592979,0.5373792149,null,0.5373792149,0.2987623089,null,0.2987623089,0.0427521459,null]},{\"hoverinfo\":\"text\",\"marker\":{\"color\":[\"orange\",\"skyblue\",\"cornflowerblue\",\"orange\",\"cornflowerblue\",\"skyblue\",\"orange\",\"skyblue\",\"cornflowerblue\"],\"line\":{\"color\":\"dimgrey\",\"width\":3},\"size\":45,\"symbol\":\"circle\"},\"mode\":\"markers\",\"text\":[\"0\",\"1\",\"2\",\"3\",\"4\",\"5\",\"6\",\"7\",\"8\"],\"type\":\"scatter\",\"x\":[0.5602480226,0.3824442221,0.0251901998,0.0,0.1045871958,0.8968830083,1.0,0.904630926,0.720961299],\"y\":[0.0,0.0963417262,0.6305174951,1.0,0.9850405225,0.7093592979,0.5373792149,0.2987623089,0.0427521459]}],                        {\"height\":1200,\"scene\":{\"xaxis\":{\"nticks\":0,\"tickfont\":{\"color\":\"white\"},\"title\":{\"text\":\"\"}},\"yaxis\":{\"nticks\":0,\"tickfont\":{\"color\":\"white\"},\"title\":{\"text\":\"\"}}},\"showlegend\":false,\"template\":{\"data\":{\"bar\":[{\"error_x\":{\"color\":\"#2a3f5f\"},\"error_y\":{\"color\":\"#2a3f5f\"},\"marker\":{\"line\":{\"color\":\"white\",\"width\":0.5},\"pattern\":{\"fillmode\":\"overlay\",\"size\":10,\"solidity\":0.2}},\"type\":\"bar\"}],\"barpolar\":[{\"marker\":{\"line\":{\"color\":\"white\",\"width\":0.5},\"pattern\":{\"fillmode\":\"overlay\",\"size\":10,\"solidity\":0.2}},\"type\":\"barpolar\"}],\"carpet\":[{\"aaxis\":{\"endlinecolor\":\"#2a3f5f\",\"gridcolor\":\"#C8D4E3\",\"linecolor\":\"#C8D4E3\",\"minorgridcolor\":\"#C8D4E3\",\"startlinecolor\":\"#2a3f5f\"},\"baxis\":{\"endlinecolor\":\"#2a3f5f\",\"gridcolor\":\"#C8D4E3\",\"linecolor\":\"#C8D4E3\",\"minorgridcolor\":\"#C8D4E3\",\"startlinecolor\":\"#2a3f5f\"},\"type\":\"carpet\"}],\"choropleth\":[{\"colorbar\":{\"outlinewidth\":0,\"ticks\":\"\"},\"type\":\"choropleth\"}],\"contour\":[{\"colorbar\":{\"outlinewidth\":0,\"ticks\":\"\"},\"colorscale\":[[0.0,\"#0d0887\"],[0.1111111111111111,\"#46039f\"],[0.2222222222222222,\"#7201a8\"],[0.3333333333333333,\"#9c179e\"],[0.4444444444444444,\"#bd3786\"],[0.5555555555555556,\"#d8576b\"],[0.6666666666666666,\"#ed7953\"],[0.7777777777777778,\"#fb9f3a\"],[0.8888888888888888,\"#fdca26\"],[1.0,\"#f0f921\"]],\"type\":\"contour\"}],\"contourcarpet\":[{\"colorbar\":{\"outlinewidth\":0,\"ticks\":\"\"},\"type\":\"contourcarpet\"}],\"heatmap\":[{\"colorbar\":{\"outlinewidth\":0,\"ticks\":\"\"},\"colorscale\":[[0.0,\"#0d0887\"],[0.1111111111111111,\"#46039f\"],[0.2222222222222222,\"#7201a8\"],[0.3333333333333333,\"#9c179e\"],[0.4444444444444444,\"#bd3786\"],[0.5555555555555556,\"#d8576b\"],[0.6666666666666666,\"#ed7953\"],[0.7777777777777778,\"#fb9f3a\"],[0.8888888888888888,\"#fdca26\"],[1.0,\"#f0f921\"]],\"type\":\"heatmap\"}],\"heatmapgl\":[{\"colorbar\":{\"outlinewidth\":0,\"ticks\":\"\"},\"colorscale\":[[0.0,\"#0d0887\"],[0.1111111111111111,\"#46039f\"],[0.2222222222222222,\"#7201a8\"],[0.3333333333333333,\"#9c179e\"],[0.4444444444444444,\"#bd3786\"],[0.5555555555555556,\"#d8576b\"],[0.6666666666666666,\"#ed7953\"],[0.7777777777777778,\"#fb9f3a\"],[0.8888888888888888,\"#fdca26\"],[1.0,\"#f0f921\"]],\"type\":\"heatmapgl\"}],\"histogram\":[{\"marker\":{\"pattern\":{\"fillmode\":\"overlay\",\"size\":10,\"solidity\":0.2}},\"type\":\"histogram\"}],\"histogram2d\":[{\"colorbar\":{\"outlinewidth\":0,\"ticks\":\"\"},\"colorscale\":[[0.0,\"#0d0887\"],[0.1111111111111111,\"#46039f\"],[0.2222222222222222,\"#7201a8\"],[0.3333333333333333,\"#9c179e\"],[0.4444444444444444,\"#bd3786\"],[0.5555555555555556,\"#d8576b\"],[0.6666666666666666,\"#ed7953\"],[0.7777777777777778,\"#fb9f3a\"],[0.8888888888888888,\"#fdca26\"],[1.0,\"#f0f921\"]],\"type\":\"histogram2d\"}],\"histogram2dcontour\":[{\"colorbar\":{\"outlinewidth\":0,\"ticks\":\"\"},\"colorscale\":[[0.0,\"#0d0887\"],[0.1111111111111111,\"#46039f\"],[0.2222222222222222,\"#7201a8\"],[0.3333333333333333,\"#9c179e\"],[0.4444444444444444,\"#bd3786\"],[0.5555555555555556,\"#d8576b\"],[0.6666666666666666,\"#ed7953\"],[0.7777777777777778,\"#fb9f3a\"],[0.8888888888888888,\"#fdca26\"],[1.0,\"#f0f921\"]],\"type\":\"histogram2dcontour\"}],\"mesh3d\":[{\"colorbar\":{\"outlinewidth\":0,\"ticks\":\"\"},\"type\":\"mesh3d\"}],\"parcoords\":[{\"line\":{\"colorbar\":{\"outlinewidth\":0,\"ticks\":\"\"}},\"type\":\"parcoords\"}],\"pie\":[{\"automargin\":true,\"type\":\"pie\"}],\"scatter\":[{\"marker\":{\"colorbar\":{\"outlinewidth\":0,\"ticks\":\"\"}},\"type\":\"scatter\"}],\"scatter3d\":[{\"line\":{\"colorbar\":{\"outlinewidth\":0,\"ticks\":\"\"}},\"marker\":{\"colorbar\":{\"outlinewidth\":0,\"ticks\":\"\"}},\"type\":\"scatter3d\"}],\"scattercarpet\":[{\"marker\":{\"colorbar\":{\"outlinewidth\":0,\"ticks\":\"\"}},\"type\":\"scattercarpet\"}],\"scattergeo\":[{\"marker\":{\"colorbar\":{\"outlinewidth\":0,\"ticks\":\"\"}},\"type\":\"scattergeo\"}],\"scattergl\":[{\"marker\":{\"colorbar\":{\"outlinewidth\":0,\"ticks\":\"\"}},\"type\":\"scattergl\"}],\"scattermapbox\":[{\"marker\":{\"colorbar\":{\"outlinewidth\":0,\"ticks\":\"\"}},\"type\":\"scattermapbox\"}],\"scatterpolar\":[{\"marker\":{\"colorbar\":{\"outlinewidth\":0,\"ticks\":\"\"}},\"type\":\"scatterpolar\"}],\"scatterpolargl\":[{\"marker\":{\"colorbar\":{\"outlinewidth\":0,\"ticks\":\"\"}},\"type\":\"scatterpolargl\"}],\"scatterternary\":[{\"marker\":{\"colorbar\":{\"outlinewidth\":0,\"ticks\":\"\"}},\"type\":\"scatterternary\"}],\"surface\":[{\"colorbar\":{\"outlinewidth\":0,\"ticks\":\"\"},\"colorscale\":[[0.0,\"#0d0887\"],[0.1111111111111111,\"#46039f\"],[0.2222222222222222,\"#7201a8\"],[0.3333333333333333,\"#9c179e\"],[0.4444444444444444,\"#bd3786\"],[0.5555555555555556,\"#d8576b\"],[0.6666666666666666,\"#ed7953\"],[0.7777777777777778,\"#fb9f3a\"],[0.8888888888888888,\"#fdca26\"],[1.0,\"#f0f921\"]],\"type\":\"surface\"}],\"table\":[{\"cells\":{\"fill\":{\"color\":\"#EBF0F8\"},\"line\":{\"color\":\"white\"}},\"header\":{\"fill\":{\"color\":\"#C8D4E3\"},\"line\":{\"color\":\"white\"}},\"type\":\"table\"}]},\"layout\":{\"annotationdefaults\":{\"arrowcolor\":\"#2a3f5f\",\"arrowhead\":0,\"arrowwidth\":1},\"autotypenumbers\":\"strict\",\"coloraxis\":{\"colorbar\":{\"outlinewidth\":0,\"ticks\":\"\"}},\"colorscale\":{\"diverging\":[[0,\"#8e0152\"],[0.1,\"#c51b7d\"],[0.2,\"#de77ae\"],[0.3,\"#f1b6da\"],[0.4,\"#fde0ef\"],[0.5,\"#f7f7f7\"],[0.6,\"#e6f5d0\"],[0.7,\"#b8e186\"],[0.8,\"#7fbc41\"],[0.9,\"#4d9221\"],[1,\"#276419\"]],\"sequential\":[[0.0,\"#0d0887\"],[0.1111111111111111,\"#46039f\"],[0.2222222222222222,\"#7201a8\"],[0.3333333333333333,\"#9c179e\"],[0.4444444444444444,\"#bd3786\"],[0.5555555555555556,\"#d8576b\"],[0.6666666666666666,\"#ed7953\"],[0.7777777777777778,\"#fb9f3a\"],[0.8888888888888888,\"#fdca26\"],[1.0,\"#f0f921\"]],\"sequentialminus\":[[0.0,\"#0d0887\"],[0.1111111111111111,\"#46039f\"],[0.2222222222222222,\"#7201a8\"],[0.3333333333333333,\"#9c179e\"],[0.4444444444444444,\"#bd3786\"],[0.5555555555555556,\"#d8576b\"],[0.6666666666666666,\"#ed7953\"],[0.7777777777777778,\"#fb9f3a\"],[0.8888888888888888,\"#fdca26\"],[1.0,\"#f0f921\"]]},\"colorway\":[\"#636efa\",\"#EF553B\",\"#00cc96\",\"#ab63fa\",\"#FFA15A\",\"#19d3f3\",\"#FF6692\",\"#B6E880\",\"#FF97FF\",\"#FECB52\"],\"font\":{\"color\":\"#2a3f5f\"},\"geo\":{\"bgcolor\":\"white\",\"lakecolor\":\"white\",\"landcolor\":\"white\",\"showlakes\":true,\"showland\":true,\"subunitcolor\":\"#C8D4E3\"},\"hoverlabel\":{\"align\":\"left\"},\"hovermode\":\"closest\",\"mapbox\":{\"style\":\"light\"},\"paper_bgcolor\":\"white\",\"plot_bgcolor\":\"white\",\"polar\":{\"angularaxis\":{\"gridcolor\":\"#EBF0F8\",\"linecolor\":\"#EBF0F8\",\"ticks\":\"\"},\"bgcolor\":\"white\",\"radialaxis\":{\"gridcolor\":\"#EBF0F8\",\"linecolor\":\"#EBF0F8\",\"ticks\":\"\"}},\"scene\":{\"xaxis\":{\"backgroundcolor\":\"white\",\"gridcolor\":\"#DFE8F3\",\"gridwidth\":2,\"linecolor\":\"#EBF0F8\",\"showbackground\":true,\"ticks\":\"\",\"zerolinecolor\":\"#EBF0F8\"},\"yaxis\":{\"backgroundcolor\":\"white\",\"gridcolor\":\"#DFE8F3\",\"gridwidth\":2,\"linecolor\":\"#EBF0F8\",\"showbackground\":true,\"ticks\":\"\",\"zerolinecolor\":\"#EBF0F8\"},\"zaxis\":{\"backgroundcolor\":\"white\",\"gridcolor\":\"#DFE8F3\",\"gridwidth\":2,\"linecolor\":\"#EBF0F8\",\"showbackground\":true,\"ticks\":\"\",\"zerolinecolor\":\"#EBF0F8\"}},\"shapedefaults\":{\"line\":{\"color\":\"#2a3f5f\"}},\"ternary\":{\"aaxis\":{\"gridcolor\":\"#DFE8F3\",\"linecolor\":\"#A2B1C6\",\"ticks\":\"\"},\"baxis\":{\"gridcolor\":\"#DFE8F3\",\"linecolor\":\"#A2B1C6\",\"ticks\":\"\"},\"bgcolor\":\"white\",\"caxis\":{\"gridcolor\":\"#DFE8F3\",\"linecolor\":\"#A2B1C6\",\"ticks\":\"\"}},\"title\":{\"x\":0.05},\"xaxis\":{\"automargin\":true,\"gridcolor\":\"#EBF0F8\",\"linecolor\":\"#EBF0F8\",\"ticks\":\"\",\"title\":{\"standoff\":15},\"zerolinecolor\":\"#EBF0F8\",\"zerolinewidth\":2},\"yaxis\":{\"automargin\":true,\"gridcolor\":\"#EBF0F8\",\"linecolor\":\"#EBF0F8\",\"ticks\":\"\",\"title\":{\"standoff\":15},\"zerolinecolor\":\"#EBF0F8\",\"zerolinewidth\":2}}},\"width\":1200,\"xaxis\":{\"visible\":false},\"yaxis\":{\"visible\":false}},                        {\"responsive\": true}                    ).then(function(){\n",
       "                            \n",
       "var gd = document.getElementById('a3e4806b-d15f-4d33-a832-59da646ee3a4');\n",
       "var x = new MutationObserver(function (mutations, observer) {{\n",
       "        var display = window.getComputedStyle(gd).display;\n",
       "        if (!display || display === 'none') {{\n",
       "            console.log([gd, 'removed!']);\n",
       "            Plotly.purge(gd);\n",
       "            observer.disconnect();\n",
       "        }}\n",
       "}});\n",
       "\n",
       "// Listen for the removal of the full notebook cells\n",
       "var notebookContainer = gd.closest('#notebook-container');\n",
       "if (notebookContainer) {{\n",
       "    x.observe(notebookContainer, {childList: true});\n",
       "}}\n",
       "\n",
       "// Listen for the clearing of the current output cell\n",
       "var outputEl = gd.closest('.output');\n",
       "if (outputEl) {{\n",
       "    x.observe(outputEl, {childList: true});\n",
       "}}\n",
       "\n",
       "                        })                };                });            </script>        </div>"
      ]
     },
     "metadata": {},
     "output_type": "display_data"
    }
   ],
   "source": [
    "fig = pgo.Figure()\n",
    "    \n",
    "for i in data:\n",
    "    fig.add_trace(i)\n",
    "        \n",
    "fig.update_layout(template= 'plotly_white', \n",
    "                      showlegend=False, width=1200, height=1200,\n",
    "                          scene=dict(\n",
    "                              xaxis_title='',\n",
    "                              yaxis_title='',\n",
    "                              xaxis=dict(nticks=0,tickfont=dict(\n",
    "                                    color='white')),\n",
    "                              yaxis=dict(nticks=0,tickfont=dict(\n",
    "                                    color='white')),\n",
    "                        ))    \n",
    "fig.update_xaxes(visible=False)\n",
    "fig.update_yaxes(visible=False)\n",
    "\n",
    "fig.write_image(path+fname+'_'+'nn'+str(n_neighbors)+'_spr'+str(spread)+'_min'+str(min_dist)+'_'+metric+'_FINAL.pdf')\n",
    "fig.show()"
   ]
  },
  {
   "cell_type": "markdown",
   "id": "intermediate-designer",
   "metadata": {},
   "source": [
    "# How to find the crucial value for the enhancing factor \n",
    "### i.e. multiplication factor where struc <> funct turning point "
   ]
  },
  {
   "cell_type": "code",
   "execution_count": 620,
   "id": "developmental-mathematics",
   "metadata": {},
   "outputs": [],
   "source": [
    "# 1 | get all values from merged (struc + funct) dataframe \n",
    "\n",
    "df_merge_list = DF_merge.values.tolist()\n",
    "l_merge_all = []\n",
    "for i in df_merge_list:\n",
    "    l_merge_all.extend(i)\n",
    "    \n",
    "# 2 | get a set of values for x-axis \n",
    "\n",
    "set_all_values = set(l_merge_all)\n",
    "\n",
    "# sort from low to high \n",
    "set_all_sorted = sorted(set_all_values)\n",
    "\n",
    "\n",
    "# 3 | get the count of each value for y-axis \n",
    "from collections import Counter\n",
    "\n",
    "occurrence_counted = Counter(l_merge_all)\n",
    "\n",
    "occurrence_counted_sorted = {}\n",
    "for i in set_all_sorted:\n",
    "    for k,v in occurrence_counted.items():\n",
    "         if i == k:\n",
    "            occurrence_counted_sorted[i]=v"
   ]
  },
  {
   "cell_type": "markdown",
   "id": "selective-times",
   "metadata": {},
   "source": [
    "### DRAW DIAGRAM "
   ]
  },
  {
   "cell_type": "code",
   "execution_count": 562,
   "id": "regulation-chain",
   "metadata": {},
   "outputs": [
    {
     "data": {
      "text/plain": [
       "{0.0: 9,\n",
       " 5.996605921048678e-06: 1,\n",
       " 5.996605921048679e-06: 4,\n",
       " 5.99660592104868e-06: 2,\n",
       " 5.996605921048681e-06: 3,\n",
       " 5.996605921048682e-06: 4,\n",
       " 5.9966059210486825e-06: 3,\n",
       " 5.996605921048684e-06: 1,\n",
       " 0.00011393551249992489: 1,\n",
       " 0.00011393551249992492: 1,\n",
       " 0.00011393551249992494: 7,\n",
       " 0.00011393551249992497: 2,\n",
       " 0.00011393551249992498: 4,\n",
       " 0.00011393551249992501: 3,\n",
       " 0.0022727136440774507: 7,\n",
       " 0.002272713644077451: 2,\n",
       " 0.0022727136440774515: 4,\n",
       " 0.002272713644077452: 4,\n",
       " 0.0022727136440774524: 1,\n",
       " 0.0453403373690491: 5,\n",
       " 0.045340337369049105: 4,\n",
       " 0.04534033736904911: 4,\n",
       " 0.04534033736904912: 3,\n",
       " 0.045340337369049126: 2,\n",
       " 0.2867105: 18,\n",
       " 0.9045340337369048: 4,\n",
       " 0.904534033736905: 5}"
      ]
     },
     "execution_count": 562,
     "metadata": {},
     "output_type": "execute_result"
    }
   ],
   "source": [
    "occurrence_counted_sorted "
   ]
  },
  {
   "cell_type": "code",
   "execution_count": 565,
   "id": "circular-optimum",
   "metadata": {},
   "outputs": [],
   "source": [
    "x_list = list(occurrence_counted_sorted.keys())\n",
    "y_list = list(occurrence_counted_sorted.values())"
   ]
  },
  {
   "cell_type": "code",
   "execution_count": 583,
   "id": "empirical-aspect",
   "metadata": {},
   "outputs": [
    {
     "data": {
      "image/png": "[encoded data removed]",
      "text/plain": [
       "<Figure size 4800x3600 with 1 Axes>"
      ]
     },
     "metadata": {
      "needs_background": "light"
     },
     "output_type": "display_data"
    }
   ],
   "source": [
    "fig, ax = plt.subplots(figsize =(16,12), dpi=300)\n",
    "plt.bar(x_list,y_list,\n",
    "        width=0.01,\n",
    "        edgecolor=\"orange\",\n",
    "        color='peachpuff',\n",
    "        alpha=0.45\n",
    "       )\n",
    "\n",
    "plt.xlabel('Value', fontsize=22)\n",
    "plt.ylabel('Frequency | Occurrence', fontsize=22)\n",
    "\n",
    "plt.xticks(x_list[18:],\n",
    "    fontsize=12,\n",
    "    rotation=45\n",
    ")\n",
    "plt.yticks(fontsize=12)\n",
    "\n",
    "#for i,(k,v) in enumerate(occurrence_counted_sorted.items()):\n",
    "#    if k == max(y_list):\n",
    "#        plt.text(x_list[i],0, str(x_list[i]), fontsize=10)\n",
    "\n",
    "fig.savefig('./output_plots/benchmark/Diagram_VisitingProb_ValueFrequency.png')\n",
    "plt.show()"
   ]
  },
  {
   "cell_type": "code",
   "execution_count": null,
   "id": "genuine-sierra",
   "metadata": {},
   "outputs": [],
   "source": []
  },
  {
   "cell_type": "code",
   "execution_count": null,
   "id": "verbal-jacksonville",
   "metadata": {},
   "outputs": [],
   "source": []
  }
 ],
 "metadata": {
  "kernelspec": {
   "display_name": "Python [conda env:miniconda3-myenv_clip2]",
   "language": "python",
   "name": "conda-env-miniconda3-myenv_clip2-py"
  },
  "language_info": {
   "codemirror_mode": {
    "name": "ipython",
    "version": 3
   },
   "file_extension": ".py",
   "mimetype": "text/x-python",
   "name": "python",
   "nbconvert_exporter": "python",
   "pygments_lexer": "ipython3",
   "version": "3.6.13"
  }
 },
 "nbformat": 4,
 "nbformat_minor": 5
}
