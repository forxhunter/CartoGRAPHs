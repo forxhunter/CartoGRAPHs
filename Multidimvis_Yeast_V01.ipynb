{
 "cells": [
  {
   "cell_type": "markdown",
   "metadata": {},
   "source": [
    "# YEAST PPI \n",
    "\n",
    "\n",
    "### PIPELINE OVERVIEW\n",
    "+ graph with genes as nodes and edges\n",
    "+ generate a matrix from nodes based on specific parameters (features, random walk, shortest path..)\n",
    "+ multidimensional matrices > embedding with tsne into 2D or 3D \n",
    "----------\n",
    "+ Visualization typologies:\n",
    "+ 2D PORTRAIT\n",
    "+ 3D PORTRAIT\n",
    "+ 3D LANDSCAPE\n",
    "+ 3D SPHERE \n",
    "______________"
   ]
  },
  {
   "cell_type": "code",
   "execution_count": 1,
   "metadata": {},
   "outputs": [],
   "source": [
    "from multidimvis_main import *"
   ]
  },
  {
   "cell_type": "code",
   "execution_count": 2,
   "metadata": {},
   "outputs": [
    {
     "name": "stdout",
     "output_type": "stream",
     "text": [
      "querying 1-1000...done.\n",
      "querying 1001-1037...done.\n",
      "Finished.\n",
      "15 input query terms found no hit:\n",
      "\t['nan', 'YGR251W', 'YHR122W', 'TID3', 'YJR141W', 'YLR099W-A', 'MDN1', 'YLR132C', 'YLR243W', 'YMR134W\n",
      "Pass \"returnall=True\" to return complete lists of duplicate or missing query terms.\n",
      "querying 1-1000...done.\n",
      "querying 1001-2000...done.\n",
      "querying 2001-3000...done.\n",
      "querying 3001-4000...done.\n",
      "querying 4001-4543...done.\n",
      "Finished.\n",
      "1 input query terms found dup hits:\n",
      "\t[('IMP2', 2)]\n",
      "311 input query terms found no hit:\n",
      "\t['FLP1', 'REP1', 'RAF1', 'REP2', 'YAL018C', 'YAL044W-A', 'AIM1', 'YAL064C-A', 'YBL010C', 'YBL059W', \n",
      "Pass \"returnall=True\" to return complete lists of duplicate or missing query terms.\n"
     ]
    }
   ],
   "source": [
    "data = pickle.load( open( \"input/BIOGRID-ORGANISM-Saccharomyces_cerevisiae_S288c-3.5.185.mitab.pickle\", \"rb\" ) )\n",
    "\n",
    "Counter(data['Interaction Detection Method'])\n",
    "Counter(data['Interaction Types'])\n",
    "\n",
    "filter_score = data[\n",
    "                    #(data['Interaction Types'] == 'psi-mi:\"MI:0915\"(physical association)') +\n",
    "                    (data['Interaction Types'] == 'psi-mi:\"MI:0407\"(direct interaction)') \n",
    "                    #&\n",
    "                    #(data['Taxid Interactor A'] == \"taxid:559292\") & \n",
    "                    #(data['Taxid Interactor B'] == \"taxid:559292\") \n",
    "]\n",
    "\n",
    "g = nx.from_pandas_edgelist(filter_score, '#ID Interactor A', 'ID Interactor B')\n",
    "g.remove_edges_from(nx.selfloop_edges(g)) #remove self loop\n",
    "\n",
    "G_cere = g.subgraph(max(nx.connected_components(g), key=len)) # largest connected component (lcc)\n",
    "\n",
    "# ESSENTIAL GENES \n",
    "cere_gene =pd.read_csv(\"input/Saccharomyces cerevisiae.csv\",\n",
    "           delimiter= ',',\n",
    "           skipinitialspace=True)\n",
    "essential_cere = cere_gene[(cere_gene['essentiality status'] == 'E')]\n",
    "essential_genes_cere_list =  essential_cere['symbols'].tolist()\n",
    "\n",
    "degree= dict(G_cere.degree())\n",
    "\n",
    "mg = mygene.MyGeneInfo()\n",
    "a = mg.querymany(essential_genes_cere_list, scopes='symbol', species=559292)\n",
    "essential_genes_cere_names = pd.DataFrame.from_dict(a)\n",
    "essential_genes_cere_entrez =  essential_genes_cere_names['entrezgene'].tolist()\n",
    "\n",
    "cleaned_entrez_list = [x for x in essential_genes_cere_entrez if str(x) != 'nan']\n",
    "\n",
    "degree_formatted={}\n",
    "for k, v in degree.items():\n",
    "    degree_formatted[k.replace(\"entrez gene/locuslink:\",\"\")] = v\n",
    "    \n",
    "index= []\n",
    "essential = []\n",
    "for i in cleaned_entrez_list:\n",
    "    for (key, val) in degree_formatted.items():\n",
    "        if i==key:\n",
    "            index.append(key)\n",
    "            essential.append(val)  \n",
    "\n",
    "no_essential_cere = cere_gene[(cere_gene['essentiality status'] == 'NE')]\n",
    "no_essential_genes_cere_list =  no_essential_cere['symbols'].tolist()\n",
    "b = mg.querymany(no_essential_genes_cere_list, scopes='symbol', species=559292)\n",
    "no_essential_genes_cere_names = pd.DataFrame.from_dict(b)\n",
    "no_essential_genes_cere_entrez =  no_essential_genes_cere_names['entrezgene'].tolist()\n",
    "cleaned_entrez_list_no = [x for x in no_essential_genes_cere_entrez if str(x) != 'nan']\n",
    "\n",
    "index= []\n",
    "no_essential = []\n",
    "for i in cleaned_entrez_list_no:\n",
    "    for (key, val) in degree_formatted.items():\n",
    "        if i==key:\n",
    "            index.append(key)\n",
    "            no_essential.append(val)\n",
    "            \n",
    "df_cere = pd.DataFrame({'essential': pd.Series(essential), 'no_essential': pd.Series(no_essential)})\n",
    "\n",
    "\n",
    "no_ess_id = no_essential_genes_cere_names['entrezgene']\n",
    "ess_id = essential_genes_cere_names['entrezgene']\n",
    "G = G_cere"
   ]
  },
  {
   "cell_type": "markdown",
   "metadata": {},
   "source": [
    "# GRAPH PROPERTIES"
   ]
  },
  {
   "cell_type": "code",
   "execution_count": 3,
   "metadata": {},
   "outputs": [
    {
     "name": "stdout",
     "output_type": "stream",
     "text": [
      "Number of nodes i.e. genes: 5785\n",
      "Number of edges: 31237\n",
      "Network density: 0.2%\n"
     ]
    }
   ],
   "source": [
    "degs = dict(G.degree())\n",
    "\n",
    "print('Number of nodes i.e. genes: %s' %len(list(G.nodes())))\n",
    "print('Number of edges: %s' %len(list(G.edges())))\n",
    "print('Network density: %.1f%%' %(200.*len(list(G.edges()))/(len(list(G.nodes()))*len(list(G.nodes()))-1)))"
   ]
  },
  {
   "cell_type": "markdown",
   "metadata": {},
   "source": [
    "#### Degree Distribution "
   ]
  },
  {
   "cell_type": "code",
   "execution_count": 4,
   "metadata": {},
   "outputs": [
    {
     "name": "stdout",
     "output_type": "stream",
     "text": [
      "Degree min: 1\n",
      "Degree max: 452\n",
      "Degree Mean: 10.799308556611928\n",
      "Degree Variant: 391.39982666105897\n"
     ]
    },
    {
     "data": {
      "image/png": "[encoded data removed]",
      "text/plain": [
       "<Figure size 720x720 with 1 Axes>"
      ]
     },
     "metadata": {
      "needs_background": "light"
     },
     "output_type": "display_data"
    }
   ],
   "source": [
    "l_k = list(degs.values())\n",
    "set_k = set(l_k)\n",
    "print('Degree min:', min(l_k))\n",
    "print('Degree max:', max(l_k))\n",
    "\n",
    "d_k_f = {}\n",
    "for k in set_k:\n",
    "    d_k_f[k] = l_k.count(k)\n",
    "#print('Degree counts:',d_k_f)\n",
    "\n",
    "mean_deg = np.mean(l_k)\n",
    "var_deg = np.var(l_k)\n",
    "print('Degree Mean:', mean_deg)\n",
    "print('Degree Variant:', var_deg)\n",
    "\n",
    "plt.figure(figsize=(10,10))\n",
    "plt.title('Degree Distribution', fontsize = 20)\n",
    "plt.xlabel('Degree', fontsize = 14)\n",
    "plt.ylabel('P(k)', fontsize = 14)\n",
    "plt.loglog(list(d_k_f.keys()),list(d_k_f.values()),'o',c='#008CA0')\n",
    "plt.show()\n",
    "\n",
    "#plt.savefig('PPIdegreedist.png')"
   ]
  },
  {
   "cell_type": "markdown",
   "metadata": {},
   "source": [
    "# FEATURE COLLECTION - Topological+Functional"
   ]
  },
  {
   "cell_type": "markdown",
   "metadata": {},
   "source": [
    "#### + TOPOLOGICAL FEATURES\n",
    "##### based on: https://networkx.github.io/documentation/stable/reference/algorithms/centrality.html\n",
    "+ degree centrality\n",
    "+ closeness centrality\n",
    "+ betweeness centrality\n",
    "+ eigenvector centrality"
   ]
  },
  {
   "cell_type": "code",
   "execution_count": null,
   "metadata": {},
   "outputs": [],
   "source": [
    "# DEGREE CENTRALITY - Node degree: important nodes being involved within high number of interactions\n",
    "degs = dict(G.degree())\n",
    "d_deghubs = {}\n",
    "for node, de in sorted(degs.items(),key = lambda x: x[1], reverse = 1):\n",
    "    d_deghubs[node] = round(float(de/max(degs.values())),4)"
   ]
  },
  {
   "cell_type": "code",
   "execution_count": null,
   "metadata": {},
   "outputs": [],
   "source": [
    "# CLOSENESS CENTRALITY - Measures how closely a node is connected to all other nodes to highlight f.ex. core-periphery structure, or identify central nodes\n",
    "closeness = nx.closeness_centrality(G)\n",
    "d_clos = {}\n",
    "for node, cl in sorted(closeness.items(), key = lambda x: x[1], reverse = 1):\n",
    "    d_clos[node] = round(cl,4)"
   ]
  },
  {
   "cell_type": "code",
   "execution_count": null,
   "metadata": {},
   "outputs": [],
   "source": [
    "# BETWEENESS CENTRALITY - How many shortest paths between pairs of other nodes in the network go through one node. High BC indicates \"bottleneck nodes\" in the network\n",
    "betweens = nx.betweenness_centrality(G)\n",
    "d_betw = {}\n",
    "for node, be in sorted(betweens.items(), key = lambda x: x[1], reverse = 1):\n",
    "     d_betw[node] = round(be,4)"
   ]
  },
  {
   "cell_type": "code",
   "execution_count": null,
   "metadata": {},
   "outputs": [],
   "source": [
    "# EIGENVECTOR CENTRALITY - Compute the eigenvector centrality for the graph\n",
    "eigen = nx.eigenvector_centrality(G)\n",
    "d_eigen = {}\n",
    "for node, eig in sorted(eigen.items(), key = lambda x: x[1], reverse = 1):\n",
    "     d_eigen[node] = round(eig,4)"
   ]
  },
  {
   "cell_type": "markdown",
   "metadata": {},
   "source": [
    "### Score System"
   ]
  },
  {
   "cell_type": "code",
   "execution_count": null,
   "metadata": {},
   "outputs": [],
   "source": [
    "# Hub Score - additional parameter to emphasize hub qualities of nodes\n",
    "\n",
    "#cutoff = 4 # number of considered hub nodes \n",
    "#d_hubscored = calc_hub_score(G, degs, closeness, betweens, cutoff)"
   ]
  },
  {
   "cell_type": "code",
   "execution_count": null,
   "metadata": {},
   "outputs": [],
   "source": [
    "# Essentiality Score - additional parameter to emphasize essentiality of nodes\n",
    "\n",
    "essentials = []\n",
    "for i in ess_id:\n",
    "    essentials.append('entrez gene/locuslink:'+str(i))\n",
    "    \n",
    "nonessentials = []\n",
    "for i in no_ess_id:\n",
    "    nonessentials.append('entrez gene/locuslink:'+str(i))\n",
    "    \n",
    "major_score = 1\n",
    "minor_score = 0.5 \n",
    "\n",
    "d_essentiality_scores = node_essentiality_scores(G, essentials, nonessentials, major_score, minor_score)\n",
    "d_essentiality_scores_sorted = {key:d_essentiality_scores[key] for key in G.nodes()}"
   ]
  },
  {
   "cell_type": "markdown",
   "metadata": {},
   "source": [
    "### Feature Collection"
   ]
  },
  {
   "cell_type": "code",
   "execution_count": null,
   "metadata": {},
   "outputs": [],
   "source": [
    "d_deghubs_sorted = {key:d_deghubs[key] for key in sorted(d_deghubs.keys())}\n",
    "d_clos_sorted = {key:d_clos[key] for key in sorted(d_clos.keys())}\n",
    "d_betw_sorted = {key:d_betw[key] for key in sorted(d_betw.keys())}\n",
    "d_eigen_sorted = {key:d_eigen[key] for key in sorted(d_eigen.keys())}\n",
    "d_essentiality_scores_sorted = {key:d_essentiality_scores[key] for key in sorted(d_essentiality_scores.keys())}\n",
    "\n",
    "\n",
    "# feature collection\n",
    "feature_dict = dict(zip(d_deghubs_sorted.keys(), zip(\n",
    "                                                     d_deghubs_sorted.values(), \n",
    "                                                     d_clos_sorted.values(), \n",
    "                                                     d_betw_sorted.values(), \n",
    "                                                     d_eigen_sorted.values(),\n",
    "                                                     d_essentiality_scores_sorted.values(),\n",
    "                                                    )))\n",
    "\n",
    "# IMPORTANT :\n",
    "# sort all feature according to Graph node IDs\n",
    "feature_dict_sorted = {key:feature_dict[key] for key in G.nodes()}\n",
    "feature_df = pd.DataFrame.from_dict(feature_dict_sorted, orient = 'index', columns = ['degs', \n",
    "                                                                                      'clos', \n",
    "                                                                                      'betw', \n",
    "                                                                                      'eigen',\n",
    "                                                                                       'essent',\n",
    "                                                                                      ]) \n",
    "\n",
    "\n",
    "l_features = [] \n",
    "for i in feature_dict_sorted.items():\n",
    "    k = list(i)\n",
    "    l_features.append(k)"
   ]
  },
  {
   "cell_type": "code",
   "execution_count": null,
   "metadata": {},
   "outputs": [],
   "source": [
    "feature_df.head()"
   ]
  },
  {
   "cell_type": "markdown",
   "metadata": {},
   "source": [
    "### Matrix Calculations (timed)"
   ]
  },
  {
   "cell_type": "code",
   "execution_count": null,
   "metadata": {},
   "outputs": [],
   "source": [
    "%%time\n",
    "\n",
    "A = nx.adjacency_matrix(G)\n",
    "DM_adj = A.toarray()"
   ]
  },
  {
   "cell_type": "code",
   "execution_count": null,
   "metadata": {},
   "outputs": [],
   "source": [
    "%%time\n",
    "\n",
    "d_idx_entz = {}\n",
    "cc = 0\n",
    "for entz in sorted(G.nodes()):\n",
    "    d_idx_entz[cc] = entz\n",
    "    cc += 1\n",
    "\n",
    "Mspl = np.zeros(len(list(G.nodes())))\n",
    "\n",
    "for n1 in range(len(list(G.nodes()))):\n",
    "    vec = []\n",
    "    for n2 in range(len(list(G.nodes()))):\n",
    "        geneA = d_idx_entz[n1]\n",
    "        geneB = d_idx_entz[n2]\n",
    "        try:\n",
    "            spl = nx.shortest_path_length(G,geneA,geneB)\n",
    "            vec.append(spl)\n",
    "        except nx.NetworkXNoPath:\n",
    "            print('no path')\n",
    "        \n",
    "    Mspl = np.vstack((Mspl,vec))\n",
    "Mspl = np.delete(Mspl, (0), axis=0)\n",
    "\n",
    "DM_spl = Mspl "
   ]
  },
  {
   "cell_type": "code",
   "execution_count": null,
   "metadata": {},
   "outputs": [],
   "source": [
    "%%time\n",
    "\n",
    "\n",
    "# Restart probability\n",
    "r = .8 # originally 0.8\n",
    "\n",
    "alpha = 1.0 # indicating \"randomness\" \n",
    "\n",
    "DM_m = rnd_walk_matrix2(A, r, alpha, len(G.nodes()))\n",
    "DM_m_mod = np.array([(1-(x/max(x))) for x in DM_m])"
   ]
  },
  {
   "cell_type": "code",
   "execution_count": null,
   "metadata": {},
   "outputs": [],
   "source": [
    "%%time\n",
    "min_log = lambda t: -np.log(t)\n",
    "DM_mlog = np.array([min_log(x/max(x)) for x in DM_m])"
   ]
  },
  {
   "cell_type": "code",
   "execution_count": null,
   "metadata": {},
   "outputs": [],
   "source": [
    "%%time\n",
    "DM_cos = distance.squareform(distance.pdist(feature_df, 'cosine'))"
   ]
  },
  {
   "cell_type": "code",
   "execution_count": null,
   "metadata": {},
   "outputs": [],
   "source": [
    "%%time\n",
    "DM_eucl = distance.squareform(distance.pdist(feature_df, 'euclidean'))"
   ]
  },
  {
   "cell_type": "code",
   "execution_count": null,
   "metadata": {},
   "outputs": [],
   "source": [
    "%%time\n",
    "DM_sqeucl = distance.squareform(distance.pdist(feature_df, 'sqeuclidean'))"
   ]
  },
  {
   "cell_type": "code",
   "execution_count": null,
   "metadata": {},
   "outputs": [],
   "source": [
    "%%time\n",
    "DM_corr = distance.squareform(distance.pdist(feature_df, 'correlation'))"
   ]
  },
  {
   "cell_type": "markdown",
   "metadata": {},
   "source": [
    "#### EXPORT MATRICES TO CSV"
   ]
  },
  {
   "cell_type": "code",
   "execution_count": null,
   "metadata": {},
   "outputs": [],
   "source": [
    "'''organism = 'Yeast'\n",
    "\n",
    "df_adj = pd.DataFrame(DM_adj, columns = list(G.nodes()), index=list(G.nodes()))\n",
    "df_spl = pd.DataFrame(DM_spl, columns = list(G.nodes()), index=list(G.nodes()))\n",
    "df_m = pd.DataFrame(DM_m_mod, columns = list(G.nodes()), index=list(G.nodes()))\n",
    "df_mlog = pd.DataFrame(DM_mlog, columns = list(G.nodes()), index=list(G.nodes()))\n",
    "\n",
    "df_cos = pd.DataFrame(DM_cos, columns = list(G.nodes()), index=list(G.nodes()))\n",
    "df_eucl = pd.DataFrame(DM_eucl, columns = list(G.nodes()), index=list(G.nodes()))\n",
    "df_sqeucl = pd.DataFrame(DM_sqeucl, columns = list(G.nodes()), index=list(G.nodes()))\n",
    "df_corr = pd.DataFrame(DM_corr, columns = list(G.nodes()), index=list(G.nodes()))\n",
    "\n",
    "# -----------------------------------------------\n",
    "\n",
    "\n",
    "# Without Score\n",
    "df_adj.to_csv(r'output_csv/Adjacency_Dataframe_'+organism+'.csv', index = True)\n",
    "df_spl.to_csv(r'output_csv/SPL_Dataframe_'+organism+'.csv', index = True)\n",
    "df_m.to_csv(r'output_csv/RWR_Dataframe_'+organism+'.csv', index = True)\n",
    "df_mlog.to_csv(r'output_csv/RWRlog_Dataframe_'+organism+'.csv', index = True)\n",
    "\n",
    "df_cos.to_csv(r'output_csv/PW_cos_Dataframe_'+organism+'.csv', index = True)\n",
    "df_eucl.to_csv(r'output_csv/PW_eucl_Dataframe_'+organism+'.csv', index = True)\n",
    "df_sqeucl.to_csv(r'output_csv/PW_sqeucl_Dataframe_'+organism+'.csv', index = True)\n",
    "df_corr.to_csv(r'output_csv/PW_corr_Dataframe_'+organism+'.csv', index = True)\n",
    "\n",
    "\n",
    "# With Score\n",
    "df_adj.to_csv(r'output_csv/Adjacency_Dataframe_'+organism+'_score.csv', index = True)\n",
    "df_spl.to_csv(r'output_csv/SPL_Dataframe_'+organism+'_score.csv', index = True)\n",
    "df_m.to_csv(r'output_csv/RWR_Dataframe_'+organism+'_score.csv', index = True)\n",
    "df_mlog.to_csv(r'output_csv/RWRlog_Dataframe_'+organism+'_score.csv', index = True)\n",
    "\n",
    "df_cos.to_csv(r'output_csv/PW_cos_Dataframe_'+organism+'_score.csv', index = True)\n",
    "df_eucl.to_csv(r'output_csv/PW_eucl_Dataframe_'+organism+'_score.csv', index = True)\n",
    "df_sqeucl.to_csv(r'output_csv/PW_sqeucl_Dataframe_'+organism+'_score.csv', index = True)\n",
    "df_corr.to_csv(r'output_csv/PW_corr_Dataframe_'+organism+'_score.csv', index = True)\n",
    "'''"
   ]
  },
  {
   "cell_type": "markdown",
   "metadata": {},
   "source": [
    "#### IMPORT MATRICES (dataframe) FROM CSV"
   ]
  },
  {
   "cell_type": "code",
   "execution_count": 5,
   "metadata": {},
   "outputs": [
    {
     "data": {
      "text/plain": [
       "\"\\n# with Score\\n\\nDM_adj = pd.read_csv('output_csv/Adjacency_Dataframe_Yeast_score.csv', index_col=0)\\nDM_spl = pd.read_csv('output_csv/SPL_Dataframe_Yeast_score.csv', index_col=0)\\nDM_m_mod = pd.read_csv('output_csv/RWR_Dataframe_Yeast_score.csv', index_col=0)\\n#DM_mlog = pd.read_csv('output_csv/RWRlog_Dataframe_Yeast_score.csv', index_col=0)\\nDM_cos = pd.read_csv('output_csv/PW_cos_Dataframe_Yeast_score.csv', index_col=0)\\nDM_eucl = pd.read_csv('output_csv/PW_eucl_Dataframe_Yeast_score.csv', index_col=0)\\nDM_sqeucl = pd.read_csv('output_csv/Adjacency_Dataframe_Yeast_score.csv', index_col=0)\\nDM_corr = pd.read_csv('output_csv/Adjacency_Dataframe_Yeast_score.csv', index_col=0)\\n\""
      ]
     },
     "execution_count": 5,
     "metadata": {},
     "output_type": "execute_result"
    }
   ],
   "source": [
    "# without Score\n",
    "\n",
    "DM_adj = pd.read_csv('output_csv/Adjacency_Dataframe_Yeast.csv', index_col=0)\n",
    "DM_spl = pd.read_csv('output_csv/SPL_Dataframe_Yeast.csv', index_col=0)\n",
    "DM_m_mod = pd.read_csv('output_csv/RWR_Dataframe_Yeast.csv', index_col=0)\n",
    "DM_mlog = pd.read_csv('output_csv/RWRlog_Dataframe_Yeast.csv', index_col=0)\n",
    "DM_cos = pd.read_csv('output_csv/PW_cos_Dataframe_Yeast.csv', index_col=0)\n",
    "DM_eucl = pd.read_csv('output_csv/PW_eucl_Dataframe_Yeast.csv', index_col=0)\n",
    "DM_sqeucl = pd.read_csv('output_csv/Adjacency_Dataframe_Yeast.csv', index_col=0)\n",
    "DM_corr = pd.read_csv('output_csv/Adjacency_Dataframe_Yeast.csv', index_col=0)\n",
    "\n",
    "'''\n",
    "# with Score\n",
    "\n",
    "DM_adj = pd.read_csv('output_csv/Adjacency_Dataframe_Yeast_score.csv', index_col=0)\n",
    "DM_spl = pd.read_csv('output_csv/SPL_Dataframe_Yeast_score.csv', index_col=0)\n",
    "DM_m_mod = pd.read_csv('output_csv/RWR_Dataframe_Yeast_score.csv', index_col=0)\n",
    "#DM_mlog = pd.read_csv('output_csv/RWRlog_Dataframe_Yeast_score.csv', index_col=0)\n",
    "DM_cos = pd.read_csv('output_csv/PW_cos_Dataframe_Yeast_score.csv', index_col=0)\n",
    "DM_eucl = pd.read_csv('output_csv/PW_eucl_Dataframe_Yeast_score.csv', index_col=0)\n",
    "DM_sqeucl = pd.read_csv('output_csv/Adjacency_Dataframe_Yeast_score.csv', index_col=0)\n",
    "DM_corr = pd.read_csv('output_csv/Adjacency_Dataframe_Yeast_score.csv', index_col=0)\n",
    "'''"
   ]
  },
  {
   "cell_type": "markdown",
   "metadata": {},
   "source": [
    "____________\n",
    "# 2D"
   ]
  },
  {
   "cell_type": "markdown",
   "metadata": {},
   "source": [
    "### GENERAL Visualization Settings\n",
    "+ NODE SIZE + NODES/EDGES COLOURS (essentiality)"
   ]
  },
  {
   "cell_type": "code",
   "execution_count": 6,
   "metadata": {},
   "outputs": [],
   "source": [
    "ess_col = 'mediumblue' # 'rgba(5, 42, 128, 0.6)'\n",
    "no_ess_col = 'lightblue' #'rgba(93, 140, 248, 0.6)'\n",
    "\n",
    "essentials = list(ess_id)\n",
    "nonessentials = list(no_ess_id)\n",
    "\n",
    "colours = color_essentiality_nodes(G, essentials, nonessentials, ess_col, no_ess_col)\n",
    "edge_color = color_essentiality_edges(G, essentials, nonessentials, ess_col, no_ess_col)\n",
    "\n",
    "opacity_nodes = 0.6\n",
    "opacity_edges = 0.05\n",
    "node_edge_col = 'k'"
   ]
  },
  {
   "cell_type": "code",
   "execution_count": 7,
   "metadata": {},
   "outputs": [],
   "source": [
    "organism = 'yeast'\n",
    "\n",
    "node_factor = 1\n",
    "size = draw_node_degree(G, node_factor) # node size based on degree\n",
    "#size = 15"
   ]
  },
  {
   "cell_type": "markdown",
   "metadata": {},
   "source": [
    "### EMBEDDING 2D"
   ]
  },
  {
   "cell_type": "code",
   "execution_count": 8,
   "metadata": {},
   "outputs": [],
   "source": [
    "prplxty = 50 # range: 5-50 / default = 30.\n",
    "density = 1.2  # default 12.\n",
    "l_rate = 1000 # default 200.\n",
    "steps = 250 # min 250"
   ]
  },
  {
   "cell_type": "markdown",
   "metadata": {},
   "source": [
    "+ embedding (timed)"
   ]
  },
  {
   "cell_type": "code",
   "execution_count": null,
   "metadata": {},
   "outputs": [],
   "source": [
    "%%time\n",
    "# Spring\n",
    "\n",
    "#forceatlas2 = ForceAtlas2()\n",
    "#posG_spring = forceatlas2.forceatlas2_networkx_layout(G, pos=None, iterations=200)\n",
    "\n",
    "posG_spring = nx.spring_layout(G)"
   ]
  },
  {
   "cell_type": "code",
   "execution_count": null,
   "metadata": {},
   "outputs": [],
   "source": [
    "%%time\n",
    "embed_adj = embed_tsne_2D(DM_adj, prplxty, density, l_rate, steps)\n",
    "posG_adj = get_posG(G,embed_adj)"
   ]
  },
  {
   "cell_type": "code",
   "execution_count": null,
   "metadata": {},
   "outputs": [],
   "source": [
    "%%time\n",
    "embed_spl = embed_tsne_2D(DM_spl, prplxty, density, l_rate, steps)\n",
    "posG_spl = get_posG(G,embed_spl)"
   ]
  },
  {
   "cell_type": "code",
   "execution_count": null,
   "metadata": {},
   "outputs": [],
   "source": [
    "%%time\n",
    "embed_m = embed_tsne_2D(DM_m_mod, prplxty, density, l_rate, steps)\n",
    "posG_m = get_posG(G,embed_m)"
   ]
  },
  {
   "cell_type": "code",
   "execution_count": null,
   "metadata": {},
   "outputs": [],
   "source": [
    "%%time\n",
    "embed_mlog = embed_tsne_2D(DM_mlog, prplxty, density, l_rate, steps)\n",
    "posG_mlog = get_posG(G,embed_mlog)"
   ]
  },
  {
   "cell_type": "code",
   "execution_count": null,
   "metadata": {},
   "outputs": [],
   "source": [
    "%%time\n",
    "embed_cos = embed_tsne_2D(DM_cos, prplxty, density, l_rate, steps)\n",
    "posG_cos = get_posG(G,embed_cos)"
   ]
  },
  {
   "cell_type": "code",
   "execution_count": 11,
   "metadata": {},
   "outputs": [
    {
     "name": "stdout",
     "output_type": "stream",
     "text": [
      "CPU times: user 14.9 s, sys: 540 ms, total: 15.5 s\n",
      "Wall time: 15.5 s\n"
     ]
    }
   ],
   "source": [
    "%%time\n",
    "embed_eucl = embed_tsne_2D(DM_eucl, prplxty, density, l_rate, steps)\n",
    "posG_eucl = get_posG(G,embed_eucl)"
   ]
  },
  {
   "cell_type": "code",
   "execution_count": null,
   "metadata": {},
   "outputs": [],
   "source": [
    "%%time\n",
    "embed_sqeucl = embed_tsne_2D(DM_sqeucl, prplxty, density, l_rate, steps)\n",
    "posG_sqeucl = get_posG(G,embed_sqeucl)"
   ]
  },
  {
   "cell_type": "code",
   "execution_count": null,
   "metadata": {},
   "outputs": [],
   "source": [
    "%%time\n",
    "embed_corr = embed_tsne_2D(DM_corr, prplxty, density, l_rate, steps)\n",
    "posG_corr = get_posG(G,embed_corr)"
   ]
  },
  {
   "cell_type": "markdown",
   "metadata": {},
   "source": [
    "#### 2D SPRING"
   ]
  },
  {
   "cell_type": "code",
   "execution_count": null,
   "metadata": {},
   "outputs": [],
   "source": [
    "plt.figure(figsize=(18,18))\n",
    "plt.title('Organic spring', size=16)\n",
    "plt.xlabel('x - axis', fontsize=16)\n",
    "plt.ylabel('y - axis', fontsize=16)\n",
    "\n",
    "nx.draw_networkx_nodes(G, posG_spring,\n",
    "                       edgecolors = node_edge_col, \n",
    "                       linewidths = 0.5, \n",
    "                       node_color=colours, node_size=size)\n",
    "nx.draw_networkx_edges(G, pos = posG_spring, width = 1., edge_color = edge_color, alpha = opacity_edges)\n",
    "#nx.draw_networkx_labels(G, pos = posG_spring, font_size = fontsize_labels, font_color = 'black')\n",
    "\n",
    "print('Network: ', organism)\n",
    "print('Number of Nodes:', len(G.nodes()))\n",
    "\n",
    "plt.savefig('output_plots/Organic_spring_layout2D_'+organism+'.png')\n",
    "plt.show()"
   ]
  },
  {
   "cell_type": "markdown",
   "metadata": {},
   "source": [
    "#### 2D PORTRAITS"
   ]
  },
  {
   "cell_type": "code",
   "execution_count": null,
   "metadata": {},
   "outputs": [],
   "source": [
    "print('Network: ', organism)\n",
    "print('Number of nodes:', len(G.nodes()))\n",
    "print('')\n",
    "print('Perplexity:', prplxty)\n",
    "print('Early Exaggeration:', density)\n",
    "print('Learning rate:', l_rate)\n",
    "print('Iterations:', steps)\n",
    "\n",
    "\n",
    "plt.figure(figsize=(35,35))\n",
    "\n",
    "plt.subplot(441)\n",
    "plt.title('Adjacency + t-SNE', size=16)\n",
    "plt.xlabel('tsne comp1')\n",
    "plt.ylabel('tsne comp2')\n",
    "\n",
    "nx.draw_networkx_nodes(G, posG_adj, edgecolors = node_edge_col, linewidths = 0.5, node_color=colours, node_size=size, alpha = opacity_nodes)\n",
    "nx.draw_networkx_edges(G, pos = posG_adj, width = 1., edge_color = edge_color, alpha = opacity_edges)\n",
    "#nx.draw_networkx_labels(G, pos = posG_adj, font_size = fontsize_labels, font_color = 'black')\n",
    "plt.tick_params(left=True, bottom=True, labelleft=True, labelbottom=True)\n",
    "\n",
    "\n",
    "plt.subplot(442)\n",
    "plt.title('Shortest Path length + t-SNE', size=16)\n",
    "plt.xlabel('tsne comp1')\n",
    "plt.ylabel('tsne comp2')\n",
    "\n",
    "nx.draw_networkx_nodes(G, posG_spl, edgecolors = node_edge_col, linewidths = 0.5, node_color=colours, node_size=size, alpha = opacity_nodes)\n",
    "nx.draw_networkx_edges(G, pos = posG_spl, width = 1., edge_color = edge_color, alpha = opacity_edges)\n",
    "#nx.draw_networkx_labels(G, pos = posG_spl, font_size = fontsize_labels, font_color = 'black')\n",
    "plt.tick_params(left=True, bottom=True, labelleft=True, labelbottom=True)\n",
    "\n",
    "\n",
    "plt.subplot(443)\n",
    "plt.title('Markov + t-SNE', size=16)\n",
    "plt.xlabel('tsne comp1')\n",
    "plt.ylabel('tsne comp2')\n",
    "plt.tick_params(left=True, bottom=True, labelleft=True, labelbottom=True)\n",
    "\n",
    "nx.draw_networkx_nodes(G, posG_m, edgecolors = node_edge_col, linewidths = 0.5, node_color=colours, node_size=size, alpha = opacity_nodes)\n",
    "nx.draw_networkx_edges(G, pos = posG_m, width = 1., edge_color = 'lightgrey', alpha = opacity_edges)\n",
    "#nx.draw_networkx_labels(G, pos = posG_m, font_size = fontsize_labels, font_color = 'black')\n",
    "plt.tick_params(left=True, bottom=True, labelleft=True, labelbottom=True)\n",
    "\n",
    "plt.subplot(444)\n",
    "plt.title('-log Markov + t-SNE', size=16)\n",
    "plt.xlabel('tsne comp1')\n",
    "plt.ylabel('tsne comp2')\n",
    "\n",
    "nx.draw_networkx_nodes(G, posG_mlog, edgecolors = node_edge_col, linewidths = 0.5, node_color=colours, node_size=size, alpha = opacity_nodes)\n",
    "nx.draw_networkx_edges(G, pos = posG_mlog, width = 1., edge_color = edge_color, alpha = opacity_edges)\n",
    "#nx.draw_networkx_labels(G, pos = posG_mlog, font_size = fontsize_labels, font_color = 'black')\n",
    "plt.tick_params(left=True, bottom=True, labelleft=True, labelbottom=True)\n",
    "\n",
    "plt.savefig('output_plots/matrices_4x4_01'+ organism +'.png')\n",
    "plt.show()\n",
    "\n",
    "\n",
    "# 4 Plots\n",
    "plt.figure(figsize=(35,35))\n",
    "\n",
    "plt.subplot(441)\n",
    "plt.xlabel('tsne comp1')\n",
    "plt.ylabel('tsne comp2')\n",
    "plt.title('PDist Cosine + t-SNE', size=16)\n",
    "\n",
    "nx.draw_networkx_nodes(G, posG_cos, edgecolors = node_edge_col, linewidths = 0.5, node_color=colours, node_size=size, alpha = opacity_nodes)\n",
    "nx.draw_networkx_edges(G, pos = posG_cos, width = 1., edge_color = edge_color, alpha = opacity_edges)\n",
    "#nx.draw_networkx_labels(G, pos = posG_cos, font_size = fontsize_labels, font_color = 'black')\n",
    "plt.tick_params(left=True, bottom=True, labelleft=True, labelbottom=True)\n",
    "\n",
    "\n",
    "plt.subplot(442)\n",
    "plt.xlabel('tsne comp1')\n",
    "plt.ylabel('tsne comp2')\n",
    "plt.title('PDist Euclidean + t-SNE', size=16)\n",
    "\n",
    "nx.draw_networkx_nodes(G, posG_eucl, edgecolors = node_edge_col, linewidths = 0.5, node_color=colours, node_size=size, alpha = opacity_nodes)\n",
    "nx.draw_networkx_edges(G, pos = posG_eucl, width = 1., edge_color = edge_color, alpha = opacity_edges)\n",
    "#nx.draw_networkx_labels(G, pos = posG_eucl, font_size = fontsize_labels, font_color = 'black')\n",
    "plt.tick_params(left=True, bottom=True, labelleft=True, labelbottom=True)\n",
    "\n",
    "\n",
    "plt.subplot(443)\n",
    "plt.xlabel('tsne comp1')\n",
    "plt.ylabel('tsne comp2')\n",
    "plt.title('PDist Squared euclidean + t-SNE', size=16)\n",
    "\n",
    "nx.draw_networkx_nodes(G, posG_sqeucl, edgecolors = node_edge_col, linewidths = 0.5, node_color=colours, node_size=size, alpha = opacity_nodes)\n",
    "nx.draw_networkx_edges(G, pos = posG_sqeucl, width = 1., edge_color = edge_color, alpha = opacity_edges)\n",
    "#nx.draw_networkx_labels(G, pos = posG_sqeucl, font_size = fontsize_labels, font_color = 'black')\n",
    "plt.tick_params(left=True, bottom=True, labelleft=True, labelbottom=True)\n",
    "\n",
    "\n",
    "plt.subplot(444)\n",
    "plt.xlabel('tsne comp1')\n",
    "plt.ylabel('tsne comp2')\n",
    "plt.title('Correlation matrix + t-SNE', size=16)\n",
    "\n",
    "nx.draw_networkx_nodes(G, posG_corr, edgecolors = node_edge_col, linewidths = 0.5, node_color=colours, node_size=size)#, alpha = opacity_nodes)\n",
    "nx.draw_networkx_edges(G, pos = posG_corr, width = 1., edge_color = edge_color, alpha = opacity_edges)\n",
    "#nx.draw_networkx_labels(G, pos = posG_corr, font_size = fontsize_labels, font_color = 'black')\n",
    "plt.tick_params(left=True, bottom=True, labelleft=True, labelbottom=True)\n",
    "\n",
    "plt.savefig('output_plots/matrices_4x4_2'+ organism +'.png')\n",
    "plt.show()"
   ]
  },
  {
   "cell_type": "code",
   "execution_count": null,
   "metadata": {},
   "outputs": [],
   "source": [
    "node_factor = 2.5\n",
    "size = draw_node_degree(G, node_factor) # node size based on degree\n",
    "\n",
    "plt.figure(figsize=(25,25))\n",
    "plt.xlabel('tsne comp1')\n",
    "plt.ylabel('tsne comp2')\n",
    "plt.title('Adj + t-SNE', size=16)\n",
    "\n",
    "nx.draw_networkx_nodes(G, posG_adj, edgecolors = 'k', linewidths = 0.5, node_color=colours, node_size=size, alpha = opacity_nodes)\n",
    "nx.draw_networkx_edges(G, pos = posG_adj, width = 1., edge_color = edge_color, alpha = opacity_edges)\n",
    "#nx.draw_networkx_labels(G, pos = posG_adj, font_size = fontsize_labels, font_color = 'black')\n",
    "\n",
    "plt.tick_params(left=True, bottom=True, labelleft=True, labelbottom=True)\n",
    "\n",
    "plt.savefig('output_plots/2D_adj_'+organism+'.png')\n",
    "\n",
    "plt.show()"
   ]
  },
  {
   "cell_type": "code",
   "execution_count": null,
   "metadata": {},
   "outputs": [],
   "source": [
    "#node_factor = 2.5\n",
    "#size = draw_node_degree(G, node_factor) # node size based on degree\n",
    "\n",
    "plt.figure(figsize=(25,25))\n",
    "plt.xlabel('tsne comp1')\n",
    "plt.ylabel('tsne comp2')\n",
    "plt.title('SPL + t-SNE', size=16)\n",
    "\n",
    "nx.draw_networkx_nodes(G, posG_spl, edgecolors = 'k', linewidths = 0.5, node_color=colours, node_size=size, alpha = opacity_nodes)\n",
    "nx.draw_networkx_edges(G, pos = posG_spl, width = 1., edge_color = edge_color, alpha = opacity_edges)\n",
    "#nx.draw_networkx_labels(G, pos = posG_spl, font_size = fontsize_labels, font_color = 'black')\n",
    "\n",
    "plt.tick_params(left=True, bottom=True, labelleft=True, labelbottom=True)\n",
    "\n",
    "plt.savefig('output_plots/2D_spl_'+organism+'.png')\n",
    "\n",
    "plt.show()"
   ]
  },
  {
   "cell_type": "code",
   "execution_count": null,
   "metadata": {},
   "outputs": [],
   "source": [
    "#node_factor = 1.0\n",
    "#size = draw_node_degree(G, node_factor) # node size based on degree\n",
    "\n",
    "plt.figure(figsize=(25,25))\n",
    "plt.xlabel('tsne comp1')\n",
    "plt.ylabel('tsne comp2')\n",
    "plt.title('Markov + t-SNE', size=16)\n",
    "\n",
    "nx.draw_networkx_nodes(G, posG_m, edgecolors = 'k', linewidths = 0.5, node_color=colours, node_size=size, alpha = opacity_nodes)\n",
    "nx.draw_networkx_edges(G, pos = posG_m, width = 1., edge_color = edge_color, alpha = opacity_edges)\n",
    "#nx.draw_networkx_labels(G, pos = posG_eucl, font_size = fontsize_labels, font_color = 'black')\n",
    "plt.tick_params(left=True, bottom=True, labelleft=True, labelbottom=True)\n",
    "\n",
    "plt.savefig('output_plots/2D_markov_'+organism+'.png')\n",
    "\n",
    "plt.show()"
   ]
  },
  {
   "cell_type": "code",
   "execution_count": null,
   "metadata": {},
   "outputs": [],
   "source": [
    "#node_factor = 1.0\n",
    "#size = draw_node_degree(G, node_factor) # node size based on degree\n",
    "\n",
    "plt.figure(figsize=(25,25))\n",
    "\n",
    "plt.title('Markov -log + t-SNE', size=16)\n",
    "plt.xlabel('tsne comp1')\n",
    "plt.ylabel('tsne comp2')\n",
    "\n",
    "nx.draw_networkx_nodes(G, posG_mlog, edgecolors = 'k', linewidths = 0.5, node_color=colours, node_size=size, alpha = opacity_nodes)\n",
    "nx.draw_networkx_edges(G, pos = posG_mlog, width = 1., edge_color = edge_color, alpha = opacity_edges)\n",
    "plt.tick_params(left=True, bottom=True, labelleft=True, labelbottom=True)\n",
    "\n",
    "plt.savefig('output_plots/2D_mlog_'+ organism +'.png')\n",
    "\n",
    "plt.show()"
   ]
  },
  {
   "cell_type": "code",
   "execution_count": null,
   "metadata": {},
   "outputs": [],
   "source": [
    "#node_factor = 1.0\n",
    "#size = draw_node_degree(G, node_factor) # node size based on degree\n",
    "\n",
    "plt.figure(figsize=(25,25))\n",
    "plt.xlabel('tsne comp1')\n",
    "plt.ylabel('tsne comp2')\n",
    "plt.title('PDist Cosine + t-SNE', size=16)\n",
    "\n",
    "nx.draw_networkx_nodes(G, posG_cos, edgecolors = 'k', linewidths = 0.5, node_color=colours, node_size=size, alpha = opacity_nodes)\n",
    "nx.draw_networkx_edges(G, pos = posG_cos, width = 1., edge_color = edge_color, alpha = opacity_edges)\n",
    "plt.tick_params(left=True, bottom=True, labelleft=True, labelbottom=True)\n",
    "\n",
    "plt.savefig('output_plots/2D_cos_'+organism+'.png')\n",
    "\n",
    "plt.show()"
   ]
  },
  {
   "cell_type": "code",
   "execution_count": null,
   "metadata": {},
   "outputs": [],
   "source": [
    "#node_factor = 1.0\n",
    "#size = draw_node_degree(G, node_factor) # node size based on degree\n",
    "\n",
    "plt.figure(figsize=(25,25))\n",
    "plt.xlabel('tsne comp1')\n",
    "plt.ylabel('tsne comp2')\n",
    "plt.title('PDist euclidean + t-SNE', size=16)\n",
    "\n",
    "nx.draw_networkx_nodes(G, posG_eucl, edgecolors = 'k', linewidths = 0.5, node_color=colours, node_size=size, alpha = opacity_nodes)\n",
    "nx.draw_networkx_edges(G, pos = posG_eucl, width = 1., edge_color = edge_color, alpha = opacity_edges)\n",
    "plt.tick_params(left=True, bottom=True, labelleft=True, labelbottom=True)\n",
    "\n",
    "plt.savefig('output_plots/2D_eucl_'+organism+'.png')\n",
    "\n",
    "plt.show()"
   ]
  },
  {
   "cell_type": "code",
   "execution_count": null,
   "metadata": {},
   "outputs": [],
   "source": [
    "#node_factor = 1.0\n",
    "#size = draw_node_degree(G, node_factor) # node size based on degree\n",
    "\n",
    "plt.figure(figsize=(25,25))\n",
    "plt.xlabel('tsne comp1')\n",
    "plt.ylabel('tsne comp2')\n",
    "plt.title('PDist Squared euclidean + t-SNE', size=16)\n",
    "\n",
    "nx.draw_networkx_nodes(G, posG_sqeucl, edgecolors = 'k', linewidths = 0.5, node_color=colours, node_size=size, alpha = opacity_nodes)\n",
    "nx.draw_networkx_edges(G, pos = posG_sqeucl, width = 1., edge_color = edge_color, alpha = opacity_edges)\n",
    "plt.tick_params(left=True, bottom=True, labelleft=True, labelbottom=True)\n",
    "\n",
    "plt.savefig('output_plots/2D_sqeucl_'+organism+'.png')\n",
    "\n",
    "plt.show()"
   ]
  },
  {
   "cell_type": "code",
   "execution_count": null,
   "metadata": {},
   "outputs": [],
   "source": [
    "#node_factor = 1.0\n",
    "#size = draw_node_degree(G, node_factor) # node size based on degree\n",
    "\n",
    "plt.figure(figsize=(25,25))\n",
    "plt.xlabel('tsne comp1')\n",
    "plt.ylabel('tsne comp2')\n",
    "plt.title('PDist Correlation + t-SNE', size=16)\n",
    "\n",
    "nx.draw_networkx_nodes(G, posG_corr, edgecolors = 'k', linewidths = 0.5, node_color=colours, node_size=size, alpha = opacity_nodes)\n",
    "nx.draw_networkx_edges(G, pos = posG_corr, width = 1., edge_color = edge_color, alpha = opacity_edges)\n",
    "plt.tick_params(left=True, bottom=True, labelleft=True, labelbottom=True)\n",
    "\n",
    "plt.savefig('output_plots/2D_corr_'+organism+'.png')\n",
    "\n",
    "plt.show()"
   ]
  },
  {
   "cell_type": "markdown",
   "metadata": {},
   "source": [
    "### LANDSCAPES"
   ]
  },
  {
   "cell_type": "code",
   "execution_count": 101,
   "metadata": {},
   "outputs": [],
   "source": [
    "z_list = draw_node_degree_3D(G, node_factor) # node size based on degree"
   ]
  },
  {
   "cell_type": "code",
   "execution_count": null,
   "metadata": {},
   "outputs": [],
   "source": [
    "d_essentiality_score"
   ]
  },
  {
   "cell_type": "code",
   "execution_count": 29,
   "metadata": {},
   "outputs": [],
   "source": [
    "def draw_node_degree_3D_temp(G, scalef):\n",
    "    x = 20\n",
    "    ring_frac = (x-1.)/x\n",
    "\n",
    "    l_size = []\n",
    "    for node in G.nodes():\n",
    "        k = nx.degree(G, node)\n",
    "        R = scalef * (1+k**1.5)\n",
    "        r = ring_frac * R\n",
    "        l_size.append(r)\n",
    "        \n",
    "    l_size_n = []\n",
    "    for i in l_size:\n",
    "        j = np.sqrt(np.sqrt(i/max(l_size)))\n",
    "        l_size_n.append(j*scalef)\n",
    "        \n",
    "    return l_size_n"
   ]
  },
  {
   "cell_type": "code",
   "execution_count": 75,
   "metadata": {},
   "outputs": [],
   "source": [
    "node_factor = 30 # node size factor\n",
    "size3d = draw_node_degree_3D_temp(G, node_factor) # node size based on degree\n",
    "#size3d = 5"
   ]
  },
  {
   "cell_type": "code",
   "execution_count": null,
   "metadata": {},
   "outputs": [],
   "source": [
    "%%time\n",
    "\n",
    "adj_x, adj_y, adj_z = get_coords_landscape(G, posG_adj)\n",
    "adj_trace, adj_trace_z = get_trace_nodes_landscape(adj_x, adj_y, adj_z, z_list, colours, size3d)\n",
    "#adj_edges = get_trace_edges_Z(adj_x, adj_y, adj_z, z_list)\n",
    "data_adj = [adj_trace, adj_trace_z,adj_edges]\n",
    "\n",
    "spl_x, _spl_y, spl_z = get_coords_landscape(G,posG_spl)\n",
    "spl_trace, spl_trace_z = get_trace_nodes_landscape(spl_x, _spl_y, spl_z, z_list, colours, size3d)\n",
    "#spl_edges = get_trace_edges_Z(spl_x, _spl_y, spl_z, z_list)\n",
    "data_spl = [spl_trace, spl_trace_z, spl_edges]\n",
    "\n",
    "m_x, m_y, m_z = get_coords_landscape(G,posG_m)\n",
    "m_trace, m_trace_z = get_trace_nodes_landscape(m_x, m_y, m_z, z_list, colours, size3d)\n",
    "#m_edges = get_trace_edges_Z(m_x, m_y, m_z, z_list)\n",
    "data_m = [m_trace, m_trace_z,m_edges]\n",
    "\n",
    "mlog_x, mlog_y, mlog_z = get_coords_landscape(G,posG_mlog)\n",
    "mlog_trace, mlog_trace_z = get_trace_nodes_landscape(mlog_x, mlog_y, mlog_z, z_list, colours, size3d)\n",
    "#mlog_edges = get_trace_edges_Z(mlog_x, mlog_y, mlog_z, z_list)\n",
    "data_mlog = [mlog_trace, mlog_trace_z,mlog_edges]"
   ]
  },
  {
   "cell_type": "code",
   "execution_count": null,
   "metadata": {},
   "outputs": [],
   "source": [
    "%%time \n",
    "\n",
    "\n",
    "cos_x, cos_y, cos_z = get_coords_landscape(G, posG_cos)\n",
    "cos_trace, cos_trace_z = get_trace_nodes_landscape(cos_x, cos_y, z_list, colours, size3d)\n",
    "#cos_edges = get_trace_edges_Z(cos_x, cos_y, cos_z, z_list)\n",
    "data_cos = [cos_trace_z] #,cos_edges]\n",
    "\n",
    "eucl_x, eucl_y, eucl_z = get_coords_landscape(G, posG_eucl)\n",
    "eucl_trace, eucl_trace_z = get_trace_nodes_landscape(eucl_x, eucl_y, z_list, colours, size3d)\n",
    "#eucl_edges = get_trace_edges_Z(eucl_x, eucl_y, eucl_z, z_list)\n",
    "data_eucl = [eucl_trace_z] #,eucl_edges]\n",
    "\n",
    "sqeucl_x, sqeucl_y, sqeucl_z = get_coords_landscape(G, posG_sqeucl)\n",
    "sqeucl_trace, sqeucl_trace_z = get_trace_nodes_landscape(sqeucl_x, sqeucl_y, z_list, colours, size3d)\n",
    "#sqeucl_edges = get_trace_edges_Z(sqeucl_x, sqeucl_y, eucl_z, z_list)\n",
    "data_sqeucl = [sqeucl_trace_z] #,sqeucl_edges]\n",
    "\n",
    "corr_x, corr_y, corr_z = get_coords_landscape(G, posG_corr)\n",
    "corr_trace, corr_trace_z = get_trace_nodes_landscape(corr_x, corr_y, z_list, colours, size3d)\n",
    "#corr_edges = get_trace_edges_Z(corr_x, corr_y, corr_z, z_list)\n",
    "data_corr = [corr_trace_z] #,corr_edges]"
   ]
  },
  {
   "cell_type": "code",
   "execution_count": null,
   "metadata": {},
   "outputs": [],
   "source": [
    "print('Perplexity:', prplxty)\n",
    "print('Early Exaggeration:', density)\n",
    "print('Learning rate:', l_rate)\n",
    "print('Iterations:', steps)\n",
    "\n",
    "\n",
    "fig_1 = make_subplots(rows = 1, cols = 4,\n",
    "                    specs=[4 * [{'type': 'scatter3d'}]],\n",
    "                    print_grid=False, subplot_titles=('Adjacency + t-SNE', \n",
    "                                                     'SPL + t-SNE',\n",
    "                                                     'Markov + t-SNE',\n",
    "                                                     'Markov -log + t-SNE',\n",
    "                                                      )\n",
    "                    )\n",
    "\n",
    "    \n",
    "for i in data_adj:\n",
    "    fig_1.add_trace(i, row = 1, col = 1)\n",
    "    \n",
    "for i in data_spl:\n",
    "    fig_1.add_trace(i, row = 1, col = 2)\n",
    "    \n",
    "for i in data_m:\n",
    "    fig_1.add_trace(i, row = 1, col = 3)\n",
    "\n",
    "for i in data_mlog:\n",
    "    fig_1.add_trace(i, row = 1, col = 4)\n",
    "py.iplot(fig_1)\n",
    "\n",
    "plotly.offline.plot(fig_1, filename = 'output_plots/Landscapes_01_' + organism + '.html', auto_open=False)"
   ]
  },
  {
   "cell_type": "code",
   "execution_count": null,
   "metadata": {},
   "outputs": [],
   "source": [
    "print('Perplexity:', prplxty)\n",
    "print('Early Exaggeration:', density)\n",
    "print('Learning rate:', l_rate)\n",
    "print('Iterations:', steps)\n",
    "\n",
    "\n",
    "fig_2 = make_subplots(rows = 1, cols = 4,\n",
    "                    specs=[4 * [{'type': 'scatter3d'}]],\n",
    "                    print_grid=False, subplot_titles=('Cosine + t-SNE', \n",
    "                                                     'Euclidean + t-SNE', \n",
    "                                                     'Squared Euclidean + t-SNE',\n",
    "                                                     'Correlation + t-SNE')\n",
    "                    )\n",
    "\n",
    "for i in data_cos:\n",
    "    fig_2.add_trace(i, row = 1, col = 1)\n",
    "    \n",
    "for i in data_eucl:\n",
    "    fig_2.add_trace(i, row = 1, col = 2)\n",
    "    \n",
    "for i in data_sqeucl:\n",
    "    fig_2.add_trace(i, row = 1, col = 3)\n",
    "\n",
    "for i in data_corr:\n",
    "    fig_2.add_trace(i, row = 1, col = 4)\n",
    "\n",
    "fig_2.update_layout(template='none', showlegend = False, width = 2000, height = 800)\n",
    "py.iplot(fig_2)\n",
    "\n",
    "plotly.offline.plot(fig_2, filename = 'output_plots/Landscapes_02_'+organism+'.html', auto_open=False)"
   ]
  },
  {
   "cell_type": "code",
   "execution_count": null,
   "metadata": {},
   "outputs": [],
   "source": [
    "# export coordinates for landscape "
   ]
  },
  {
   "cell_type": "markdown",
   "metadata": {},
   "source": [
    "____________\n",
    "# 3D"
   ]
  },
  {
   "cell_type": "markdown",
   "metadata": {},
   "source": [
    "### 3D Visualization Settings"
   ]
  },
  {
   "cell_type": "code",
   "execution_count": null,
   "metadata": {},
   "outputs": [],
   "source": [
    "%%time \n",
    "\n",
    "#node_factor = 15\n",
    "#size3d = draw_node_degree_3D(G, node_factor) # node size based on degree \n",
    "# for 3D best values are between 1-15\n",
    "\n",
    "size3d = 3"
   ]
  },
  {
   "cell_type": "code",
   "execution_count": null,
   "metadata": {},
   "outputs": [],
   "source": [
    "edge_color_3d = []\n",
    "for i in edge_color:\n",
    "    edge_color_3d.append(i)\n",
    "    edge_color_3d.append(i)\n",
    "    edge_color_3d.append(0)\n",
    "    \n",
    "edge_color = edge_color_3d"
   ]
  },
  {
   "cell_type": "markdown",
   "metadata": {},
   "source": [
    "### EMBEDDING 3D Portraits"
   ]
  },
  {
   "cell_type": "code",
   "execution_count": null,
   "metadata": {},
   "outputs": [],
   "source": [
    "prplxty3d = 50 # range: 5-50 / default = 30.#\n",
    "density3d = 1.2 # default 12.\n",
    "l_rate3d = 1000 # default 200.\n",
    "steps3d = 250 #min 250\n",
    "\n",
    "l_features = None "
   ]
  },
  {
   "cell_type": "code",
   "execution_count": null,
   "metadata": {},
   "outputs": [],
   "source": [
    "%%time \n",
    "\n",
    "#Fruchterman-Reingold force-directed algorithm\n",
    "posG3d_spring = nx.spring_layout(G, dim=3)"
   ]
  },
  {
   "cell_type": "code",
   "execution_count": null,
   "metadata": {},
   "outputs": [],
   "source": [
    "%%time\n",
    "posG3d_adj = embed_tsne_3D(G, DM_adj, prplxty3d, density3d, l_rate3d, steps3d)"
   ]
  },
  {
   "cell_type": "code",
   "execution_count": null,
   "metadata": {},
   "outputs": [],
   "source": [
    "%%time\n",
    "posG3d_spl = embed_tsne_3D(G, DM_spl, prplxty3d, density3d, l_rate3d, steps3d)"
   ]
  },
  {
   "cell_type": "code",
   "execution_count": null,
   "metadata": {},
   "outputs": [],
   "source": [
    "%%time \n",
    "posG3d_m = embed_tsne_3D(G, DM_m_mod, prplxty3d, density3d, l_rate3d, steps3d)"
   ]
  },
  {
   "cell_type": "code",
   "execution_count": null,
   "metadata": {},
   "outputs": [],
   "source": [
    "%%time\n",
    "posG3d_mlog = embed_tsne_3D(G, DM_mlog, prplxty3d, density3d, l_rate3d, steps3d)"
   ]
  },
  {
   "cell_type": "code",
   "execution_count": null,
   "metadata": {},
   "outputs": [],
   "source": [
    "%%time\n",
    "posG3d_cos = embed_tsne_3D(G, DM_cos, prplxty3d, density3d, l_rate3d, steps3d)"
   ]
  },
  {
   "cell_type": "code",
   "execution_count": null,
   "metadata": {},
   "outputs": [],
   "source": [
    "%%time\n",
    "posG3d_eucl = embed_tsne_3D(G, DM_eucl, prplxty3d, density3d, l_rate3d, steps3d)"
   ]
  },
  {
   "cell_type": "code",
   "execution_count": null,
   "metadata": {},
   "outputs": [],
   "source": [
    "%%time\n",
    "posG3d_sqeucl = embed_tsne_3D(G, DM_sqeucl, prplxty3d, density3d, l_rate3d, steps3d)"
   ]
  },
  {
   "cell_type": "code",
   "execution_count": null,
   "metadata": {},
   "outputs": [],
   "source": [
    "%%time\n",
    "posG3d_corr = embed_tsne_3D(G, DM_corr, prplxty3d, density3d, l_rate3d, steps3d)"
   ]
  },
  {
   "cell_type": "markdown",
   "metadata": {},
   "source": [
    "### 3D Portraits | EXPORT Coordinates x,y,z,rgba"
   ]
  },
  {
   "cell_type": "code",
   "execution_count": null,
   "metadata": {},
   "outputs": [],
   "source": [
    "'''\n",
    "organism = 'Yeast'\n",
    "\n",
    "\n",
    "colours_rgba = []\n",
    "for i in colours: \n",
    "    if i == ess_col:\n",
    "        colours_rgba.append('rgba(5, 42, 128, 0.6)')\n",
    "    elif i == no_ess_col:\n",
    "        colours_rgba.append('rgba(93, 140, 248, 0.6)')\n",
    "    else:\n",
    "        colours_rgba.append('rgba(0,0,0,0.4)')\n",
    "        \n",
    "        \n",
    "df_xyz_rgba_3Dspring = pd.DataFrame(posG3d_spring, index=[\"x\",\"y\",\"z\"]).T\n",
    "df_xyz_rgba_3Dspring['color'] = colours_rgba\n",
    "\n",
    "df_xyz_rgba_3Dadj = pd.DataFrame(posG3d_adj, index=[\"x\",\"y\",\"z\"]).T\n",
    "df_xyz_rgba_3Dadj['color'] = colours_rgba\n",
    "\n",
    "df_xyz_rgba_3Dspl = pd.DataFrame(posG3d_spl, index=[\"x\",\"y\",\"z\"]).T\n",
    "df_xyz_rgba_3Dspl['color'] = colours_rgba\n",
    "\n",
    "df_xyz_rgba_3Dm = pd.DataFrame(posG3d_m, index=[\"x\",\"y\",\"z\"]).T\n",
    "df_xyz_rgba_3Dm['color'] = colours_rgba\n",
    "\n",
    "df_xyz_rgba_3Dmlog = pd.DataFrame(posG3d_mlog, index=[\"x\",\"y\",\"z\"]).T\n",
    "df_xyz_rgba_3Dmlog['color'] = colours_rgba\n",
    "\n",
    "\n",
    "df_xyz_rgba_3Dcos = pd.DataFrame(posG3d_cos, index=[\"x\",\"y\",\"z\"]).T\n",
    "df_xyz_rgba_3Dcos['color'] = colours_rgba\n",
    "\n",
    "df_xyz_rgba_3Deucl = pd.DataFrame(posG3d_eucl, index=[\"x\",\"y\",\"z\"]).T\n",
    "df_xyz_rgba_3Deucl['color'] = colours_rgba\n",
    "\n",
    "df_xyz_rgba_3Dsqeucl = pd.DataFrame(posG3d_sqeucl, index=[\"x\",\"y\",\"z\"]).T\n",
    "df_xyz_rgba_3Dsqeucl['color'] = colours_rgba\n",
    "\n",
    "df_xyz_rgba_3Dcorr = pd.DataFrame(posG3d_corr, index=[\"x\",\"y\",\"z\"]).T\n",
    "df_xyz_rgba_3Dcorr['color'] = colours_rgba\n",
    "\n",
    "\n",
    "# -----------------------------------------------\n",
    "\n",
    "df_xyz_rgba_spring.to_csv(r'output_csv/3Dspring_XYZ_RGBA_'+organism+'.csv', index = True)\n",
    "\n",
    "df_xyz_rgba_3Dadj.to_csv(r'output_csv/3Dportrait_XYZ_RGBA_Adjacency_'+organism+'.csv', index = True)\n",
    "df_xyz_rgba_3Dspl.to_csv(r'output_csv/3Dportrait_XYZ_RGBA_SPL_'+organism+'.csv', index = True)\n",
    "df_xyz_rgba_3Dm.to_csv(r'output_csv/3Dportrait_XYZ_RGBA_RWR_'+organism+'.csv', index = True)\n",
    "df_xyz_rgba_3Dmlog.to_csv(r'output_csv/3Dportrait_XYZ_RGBA_RWRlog_'+organism+'.csv', index = True)\n",
    "\n",
    "\n",
    "df_xyz_rgba_3Dcos.to_csv(r'output_csv/3Dportrait_XYZ_RGBA_PW_cos_'+organism+'.csv', index = True)\n",
    "df_xyz_rgba_3Deucl.to_csv(r'output_csv/3Dportrait_XYZ_RGBA_PW_eucl_'+organism+'.csv', index = True)\n",
    "df_xyz_rgba_3Dsqeucl.to_csv(r'output_csv/3Dportrait_XYZ_RGBA_PW_sqeucl_'+organism+'.csv', index = True)\n",
    "df_xyz_rgba_3Dcorr.to_csv(r'output_csv/3Dportrait_XYZ_RGBA_PW_corr_'+organism+'.csv', index = True)\n",
    "'''"
   ]
  },
  {
   "cell_type": "markdown",
   "metadata": {},
   "source": [
    "### TRACES (timed) "
   ]
  },
  {
   "cell_type": "code",
   "execution_count": null,
   "metadata": {},
   "outputs": [],
   "source": [
    "%%time \n",
    "\n",
    "adj_edges = get_trace_edges(G, posG3d_adj, edge_color) \n",
    "adj_nodes = get_trace_nodes(G, posG3d_adj,  l_features, colours, size3d)\n",
    "data_adj = [adj_edges, adj_nodes]"
   ]
  },
  {
   "cell_type": "code",
   "execution_count": null,
   "metadata": {},
   "outputs": [],
   "source": [
    "%%time \n",
    "\n",
    "spl_edges = get_trace_edges(G, posG3d_spl, edge_color) \n",
    "spl_nodes = get_trace_nodes(G, posG3d_spl,  l_features, colours, size3d)\n",
    "data_spl = [spl_edges, spl_nodes]"
   ]
  },
  {
   "cell_type": "code",
   "execution_count": null,
   "metadata": {},
   "outputs": [],
   "source": [
    "%%time\n",
    "\n",
    "m_edges = get_trace_edges(G, posG3d_m, edge_color) \n",
    "m_nodes = get_trace_nodes(G, posG3d_m, l_features, colours, size3d)\n",
    "data_m = [m_edges, m_nodes]"
   ]
  },
  {
   "cell_type": "code",
   "execution_count": null,
   "metadata": {},
   "outputs": [],
   "source": [
    "%%time\n",
    "\n",
    "mlog_edges = get_trace_edges(G, posG3d_mlog, edge_color) \n",
    "mlog_nodes = get_trace_nodes(G, posG3d_mlog, l_features, colours, size3d)\n",
    "data_mlog = [mlog_edges, mlog_nodes]"
   ]
  },
  {
   "cell_type": "code",
   "execution_count": null,
   "metadata": {},
   "outputs": [],
   "source": [
    "%%time\n",
    "\n",
    "cos_edges = get_trace_edges(G, posG3d_cos, edge_color) \n",
    "cos_nodes = get_trace_nodes(G, posG3d_cos, l_features, colours, size3d)\n",
    "data_cos = [cos_edges, cos_nodes]"
   ]
  },
  {
   "cell_type": "code",
   "execution_count": null,
   "metadata": {},
   "outputs": [],
   "source": [
    "%%time\n",
    "\n",
    "eucl_edges = get_trace_edges(G, posG3d_eucl, edge_color) \n",
    "eucl_nodes = get_trace_nodes(G, posG3d_eucl,l_features, colours, size3d)\n",
    "data_eucl = [eucl_edges, eucl_nodes]"
   ]
  },
  {
   "cell_type": "code",
   "execution_count": null,
   "metadata": {},
   "outputs": [],
   "source": [
    "%%time\n",
    "\n",
    "sqeucl_edges = get_trace_edges(G, posG3d_sqeucl, edge_color) \n",
    "sqeucl_nodes = get_trace_nodes(G, posG3d_sqeucl, l_features, colours, size3d)\n",
    "data_sqeucl = [sqeucl_edges, sqeucl_nodes]"
   ]
  },
  {
   "cell_type": "code",
   "execution_count": null,
   "metadata": {},
   "outputs": [],
   "source": [
    "%%time\n",
    "\n",
    "corr_edges = get_trace_edges(G, posG3d_corr, edge_color) \n",
    "corr_nodes = get_trace_nodes(G, posG3d_corr, l_features, colours, size3d)\n",
    "data_corr = [corr_edges, corr_nodes]"
   ]
  },
  {
   "cell_type": "code",
   "execution_count": null,
   "metadata": {},
   "outputs": [],
   "source": [
    "print('Perplexity:', prplxty3d)\n",
    "print('Early Exaggeration:', density3d)\n",
    "print('Learning rate:', l_rate3d)\n",
    "print('Iterations:', steps3d)\n",
    "\n",
    "\n",
    "fig1 = make_subplots(rows = 1, cols = 4,\n",
    "                    specs=[4 * [{'type': 'scatter3d'}]],\n",
    "                    print_grid=False, subplot_titles=('Adjacency + t-SNE', \n",
    "                                                     'SPL + t-SNE',\n",
    "                                                     'Markov + t-SNE',\n",
    "                                                     'Markov -log + t-SNE')\n",
    "                    )\n",
    "\n",
    "    \n",
    "for i in data_adj:\n",
    "    fig1.add_trace(i, row = 1, col = 1)\n",
    "    \n",
    "for i in data_spl:\n",
    "    fig1.add_trace(i, row = 1, col = 2)\n",
    "    \n",
    "for i in data_m:\n",
    "    fig1.add_trace(i, row = 1, col = 3)\n",
    "\n",
    "for i in data_mlog:\n",
    "    fig1.add_trace(i, row = 1, col = 4)\n",
    "\n",
    "fig1.update_layout(template='none', showlegend = False, width = 2000, height = 800)\n",
    "py.iplot(fig1)\n",
    "\n",
    "plotly.offline.plot(fig1, filename = 'output_plots/3Dmatrices_1_'+organism+'.html', auto_open=False)"
   ]
  },
  {
   "cell_type": "code",
   "execution_count": null,
   "metadata": {},
   "outputs": [],
   "source": [
    "print('Perplexity:', prplxty3d)\n",
    "print('Early Exaggeration:', density3d)\n",
    "print('Learning rate:', l_rate3d)\n",
    "print('Iterations:', steps3d)\n",
    "\n",
    "\n",
    "fig2 = make_subplots(rows = 1, cols = 4,\n",
    "                    specs=[4 * [{'type': 'scatter3d'}]],\n",
    "                    print_grid=False, subplot_titles=('Cosine + t-SNE', \n",
    "                                                     'Euclidean + t-SNE', \n",
    "                                                     'Squared Euclidean + t-SNE',\n",
    "                                                     'Correlation + t-SNE')\n",
    "                    )\n",
    "\n",
    "for i in data_cos:\n",
    "    fig2.add_trace(i, row = 1, col = 1)\n",
    "    \n",
    "for i in data_eucl:\n",
    "    fig2.add_trace(i, row = 1, col = 2)\n",
    "    \n",
    "for i in data_sqeucl:\n",
    "    fig2.add_trace(i, row = 1, col = 3)\n",
    "\n",
    "for i in data_corr:\n",
    "    fig2.add_trace(i, row = 1, col = 4)\n",
    "\n",
    "fig2.update_layout(template='none', showlegend = False, width = 2000, height = 800)\n",
    "py.iplot(fig2)\n",
    "\n",
    "plotly.offline.plot(fig2, filename = 'output_plots/3Dmatrices_2_'+organism+'.html', auto_open=False)"
   ]
  },
  {
   "cell_type": "markdown",
   "metadata": {},
   "source": [
    "### 3D Spheres"
   ]
  },
  {
   "cell_type": "code",
   "execution_count": null,
   "metadata": {},
   "outputs": [],
   "source": [
    "# tSNE optimization \n",
    "\n",
    "momentum = 0.1 # default 0.1\n",
    "final_momentum = 0.9 # default 0.7\n",
    "max_iter = 10\n",
    "learning_rate = 1000\n",
    "min_gain = 0.01"
   ]
  },
  {
   "cell_type": "code",
   "execution_count": null,
   "metadata": {},
   "outputs": [],
   "source": [
    "%%time \n",
    "\n",
    "# EMBEDDING - matrix 1-4\n",
    "\n",
    "embedded_adj = embed_tsne_sphere(G, DM_adj, momentum, final_momentum, learning_rate, min_gain, max_iter)\n",
    "embedded_spl = embed_tsne_sphere(G, DM_spl, momentum, final_momentum, learning_rate, min_gain, max_iter)\n",
    "embedded_m = embed_tsne_sphere(G, DM_m_mod, momentum, final_momentum, learning_rate, min_gain, max_iter)\n",
    "embedded_mlog = embed_tsne_sphere(G, DM_mlog, momentum, final_momentum, learning_rate, min_gain, max_iter)"
   ]
  },
  {
   "cell_type": "code",
   "execution_count": null,
   "metadata": {},
   "outputs": [],
   "source": [
    "%%time \n",
    "\n",
    "# EMBEDDING - matrix 4-8\n",
    "\n",
    "embedded_cos = embed_tsne_sphere(G, DM_cos, momentum, final_momentum, learning_rate, min_gain, max_iter)\n",
    "embedded_eucl = embed_tsne_sphere(G, DM_eucl, momentum, final_momentum, learning_rate, min_gain, max_iter)\n",
    "embedded_sqeucl = embed_tsne_sphere(G, DM_sqeucl, momentum, final_momentum, learning_rate, min_gain, max_iter)\n",
    "embedded_corr = embed_tsne_sphere(G, DM_corr, momentum, final_momentum, learning_rate, min_gain, max_iter)"
   ]
  },
  {
   "cell_type": "markdown",
   "metadata": {},
   "source": [
    "### SPHERES | EXPORT Coordinates x,y,z,rgba"
   ]
  },
  {
   "cell_type": "code",
   "execution_count": null,
   "metadata": {},
   "outputs": [],
   "source": [
    "'''\n",
    "organism = 'Yeast'\n",
    "\n",
    "\n",
    "colours_rgba = []\n",
    "for i in colours: \n",
    "    if i == ess_col:\n",
    "        colours_rgba.append('rgba(5, 42, 128, 0.6)')\n",
    "    elif i == no_ess_col:\n",
    "        colours_rgba.append('rgba(93, 140, 248, 0.6)')\n",
    "    else:\n",
    "        colours_rgba.append('rgba(0,0,0,0.4)')\n",
    "        \n",
    "\n",
    "df_xyz_rgba_sphere_adj = pd.DataFrame(embedded_adj, index=[\"x\",\"y\",\"z\"]).T\n",
    "df_xyz_rgba_sphere_adj['color'] = colours_rgba\n",
    "\n",
    "df_xyz_rgba_sphere_spl = pd.DataFrame(embedded_spl, index=[\"x\",\"y\",\"z\"]).T\n",
    "df_xyz_rgba_sphere_spl['color'] = colours_rgba\n",
    "\n",
    "df_xyz_rgba_sphere_m = pd.DataFrame(embedded_m, index=[\"x\",\"y\",\"z\"]).T\n",
    "df_xyz_rgba_sphere_m['color'] = colours_rgba\n",
    "\n",
    "df_xyz_rgba_sphere_mlog = pd.DataFrame(embedded_mlog, index=[\"x\",\"y\",\"z\"]).T\n",
    "df_xyz_rgba_sphere_mlog['color'] = colours_rgba\n",
    "\n",
    "\n",
    "\n",
    "df_xyz_rgba_sphere_cos = pd.DataFrame(embedded_cos, index=[\"x\",\"y\",\"z\"]).T\n",
    "df_xyz_rgba_sphere_cos['color'] = colours_rgba\n",
    "\n",
    "df_xyz_rgba_sphere_eucl = pd.DataFrame(embedded_eucl, index=[\"x\",\"y\",\"z\"]).T\n",
    "df_xyz_rgba_sphere_eucl['color'] = colours_rgba\n",
    "\n",
    "df_xyz_rgba_sphere_sqeucl = pd.DataFrame(embedded_sqeucl, index=[\"x\",\"y\",\"z\"]).T\n",
    "df_xyz_rgba_sphere_sqeucl['color'] = colours_rgba\n",
    "\n",
    "df_xyz_rgba_sphere_corr = pd.DataFrame(embedded_corr, index=[\"x\",\"y\",\"z\"]).T\n",
    "df_xyz_rgba_sphere_corr['color'] = colours_rgba\n",
    "\n",
    "\n",
    "# -----------------------------------------------\n",
    "\n",
    "df_xyz_rgba_sphere_adj.to_csv(r'output_csv/3DSphere_XYZ_RGBA_Adjacency_'+organism+'.csv', index = True)\n",
    "df_xyz_rgba_sphere_spl.to_csv(r'output_csv/3DSphere_XYZ_RGBA_SPL'+organism+'.csv', index = True)\n",
    "df_xyz_rgba_sphere_m.to_csv(r'output_csv/3DSphere_XYZ_RGBA_RWR_'+organism+'.csv', index = True)\n",
    "df_xyz_rgba_sphere_mlog.to_csv(r'output_csv/3DSphere_XYZ_RGBA_RWRlog_'+organism+'.csv', index = True)\n",
    "\n",
    "df_xyz_rgba_sphere_cos.to_csv(r'output_csv/3DSphere_XYZ_RGBA_PW_cos_'+organism+'.csv', index = True)\n",
    "df_xyz_rgba_sphere_eucl.to_csv(r'output_csv/3DSphere_XYZ_RGBA_PW_eucl_'+organism+'.csv', index = True)\n",
    "df_xyz_rgba_sphere_sqeucl.to_csv(r'output_csv/3DSphere_XYZ_RGBA_PW_sqeucl_'+organism+'.csv', index = True)\n",
    "df_xyz_rgba_sphere_corr.to_csv(r'output_csv/3DSphere_XYZ_RGBA_PW_corr_'+organism+'.csv', index = True)\n",
    "'''"
   ]
  },
  {
   "cell_type": "code",
   "execution_count": null,
   "metadata": {},
   "outputs": [],
   "source": [
    "# choose radius parameter for layout\n",
    "\n",
    "# dict param should be : {NODE ID: VALUE}\n",
    "dict_param = d_essentiality_scores_sorted\n",
    "\n",
    "d_node_rad = assign_radius_to_nodes(G, dict_param)  \n",
    "\n",
    "l_rad = list(set(d_node_rad.values()))\n",
    "spheres_back = get_sphere_background(l_rad)"
   ]
  },
  {
   "cell_type": "code",
   "execution_count": null,
   "metadata": {},
   "outputs": [],
   "source": [
    "# TO DO : fix edges for spheres\n",
    "\n",
    "'''%%time\n",
    "\n",
    "posG = embedded_cos\n",
    "\n",
    "edge_x = []\n",
    "edge_y = []\n",
    "edge_z = []\n",
    "for edge in G.edges():\n",
    "    for node, rad in d_node_rad.items():\n",
    "        for i, coords in posG.items():\n",
    "            if node == i:\n",
    "                x0, y0, z0 = posG[edge[0]][0]*rad,posG[edge[0]][1]*rad,posG[edge[0]][2]*rad\n",
    "                x1, y1, z1 = posG[edge[1]][0]*rad,posG[edge[1]][1]*rad,posG[edge[1]][2]*rad\n",
    "                edge_x.append(x0)\n",
    "                edge_x.append(x1)\n",
    "                edge_x.append(None)\n",
    "                edge_y.append(y0)\n",
    "                edge_y.append(y1)\n",
    "                edge_y.append(None)\n",
    "                edge_z.append(z0)\n",
    "                edge_z.append(z1)\n",
    "                edge_z.append(None)\n",
    "                \n",
    "trace_edge = pgo.Scatter3d(\n",
    "            x = edge_x, \n",
    "            y = edge_y, \n",
    "            z = edge_z,\n",
    "            mode = 'lines', hoverinfo='none',\n",
    "            line = dict(width = 0.5, color = edge_color),\n",
    "            opacity = 0.3\n",
    "    )\n",
    "'''"
   ]
  },
  {
   "cell_type": "code",
   "execution_count": null,
   "metadata": {},
   "outputs": [],
   "source": [
    "%%time \n",
    "\n",
    "\n",
    "trace_nodes_adj = get_tsne_sphere_trace_nodes(embedded_adj, d_node_rad, colours, size3d)\n",
    "#trace_edges_adj = get_trace_edges(G, embedded_adj, edge_color)\n",
    "data_adj = [trace_nodes_adj] #, trace_edges_adj]\n",
    "\n",
    "\n",
    "trace_nodes_spl = get_tsne_sphere_trace_nodes(embedded_spl, d_node_rad, colours, size3d)\n",
    "data_spl = [trace_nodes_spl]\n",
    "\n",
    "trace_nodes_m = get_tsne_sphere_trace_nodes(embedded_m, d_node_rad, colours, size3d)\n",
    "data_m = [trace_nodes_m]\n",
    "\n",
    "trace_nodes_mlog = get_tsne_sphere_trace_nodes(embedded_mlog, d_node_rad, colours, size3d)\n",
    "data_mlog = [trace_nodes_mlog]"
   ]
  },
  {
   "cell_type": "code",
   "execution_count": null,
   "metadata": {},
   "outputs": [],
   "source": [
    "%%time \n",
    "\n",
    "trace_nodes_cos = get_tsne_sphere_trace_nodes(embedded_cos, d_node_rad, colours, size3d)\n",
    "#trace_edges_cos = get_trace_edges_withradius(G, embedded_cos, d_node_rad, edge_color)\n",
    "data_cos = [trace_nodes_cos] #, trace_edges_cos]\n",
    "\n",
    "trace_nodes_eucl = get_tsne_sphere_trace_nodes(embedded_eucl, d_node_rad, colours, size3d)\n",
    "data_eucl = [trace_nodes_eucl]\n",
    "\n",
    "trace_nodes_sqeucl = get_tsne_sphere_trace_nodes(embedded_sqeucl, d_node_rad, colours, size3d)\n",
    "data_sqeucl = [trace_nodes_sqeucl]\n",
    "\n",
    "trace_nodes_corr = get_tsne_sphere_trace_nodes(embedded_corr, d_node_rad, colours, size3d)\n",
    "data_corr = [trace_nodes_corr]"
   ]
  },
  {
   "cell_type": "code",
   "execution_count": null,
   "metadata": {},
   "outputs": [],
   "source": [
    "print('Momentum:', momentum)\n",
    "print('Final Momentum:', final_momentum)\n",
    "print('Max.Iterations:', max_iter)\n",
    "print('Learning rate:', learning_rate)\n",
    "print('Min.Gain:', min_gain)\n",
    "\n",
    "\n",
    "fig_s1 = make_subplots(rows = 1, cols = 4,\n",
    "                    specs=[4 * [{'type': 'scatter3d'}]],\n",
    "                    print_grid=False, subplot_titles=('Adjacency + t-SNE', \n",
    "                                                     'SPL + t-SNE',\n",
    "                                                     'Markov + t-SNE',\n",
    "                                                     'Markov -log + t-SNE')\n",
    "                    )\n",
    "\n",
    "    \n",
    "for i in data_adj:\n",
    "    fig_s1.add_trace(i, row = 1, col = 1)\n",
    "#for i in spheres_back: \n",
    "#    fig_s1.add_trace(i, row = 1, col = 1)\n",
    "    \n",
    "for i in data_spl:\n",
    "    fig_s1.add_trace(i, row = 1, col = 2)\n",
    "#for i in spheres_back: \n",
    "#    fig_s1.add_trace(i, row = 1, col = 2)\n",
    "    \n",
    "for i in data_m:\n",
    "    fig_s1.add_trace(i, row = 1, col = 3)\n",
    "#for i in spheres_back: \n",
    "#    fig_s1.add_trace(i, row = 1, col = 3)\n",
    "\n",
    "for i in data_mlog:\n",
    "    fig_s1.add_trace(i, row = 1, col = 4)\n",
    "#for i in spheres_back: \n",
    "#    fig_s1.add_trace(i, row = 1, col = 4)\n",
    "    \n",
    "fig_s1.update_layout(template = \"plotly_dark\", height = 800, width = 2000)\n",
    "fig_s1.update_xaxes(showgrid=False)\n",
    "fig_s1.update_yaxes(showgrid=False)\n",
    "py.iplot(fig_s1)\n",
    "\n",
    "plotly.offline.plot(fig_s1, filename = 'output_plots/3Dmatrices_spheres1_'+organism+'.html', auto_open=False)"
   ]
  },
  {
   "cell_type": "code",
   "execution_count": null,
   "metadata": {},
   "outputs": [],
   "source": [
    "print('Momentum:', momentum)\n",
    "print('Final Momentum:', final_momentum)\n",
    "print('Max.Iterations:', max_iter)\n",
    "print('Learning rate:', learning_rate)\n",
    "print('Min.Gain:', min_gain)\n",
    "\n",
    "\n",
    "fig_s2 = make_subplots(rows = 1, cols = 4,\n",
    "                    specs=[4 * [{'type': 'scatter3d'}]],\n",
    "                    print_grid=False, subplot_titles=('Cosine + t-SNE', \n",
    "                                                     'Euclidean + t-SNE', \n",
    "                                                     'Squared Euclidean + t-SNE',\n",
    "                                                     'Correlation + t-SNE')\n",
    "                    )\n",
    "\n",
    "for i in data_cos:\n",
    "    fig_s2.add_trace(i, row = 1, col = 1)\n",
    "#for i in spheres_back: \n",
    "#    fig_s2.add_trace(i, row = 1, col = 1)\n",
    "    \n",
    "for i in data_eucl:\n",
    "    fig_s2.add_trace(i, row = 1, col = 2)\n",
    "#for i in spheres_back: \n",
    "#    fig_s2.add_trace(i, row = 1, col = 2)\n",
    "    \n",
    "for i in data_sqeucl:\n",
    "    fig_s2.add_trace(i, row = 1, col = 3)\n",
    "#for i in spheres_back: \n",
    "#    fig_s2.add_trace(i, row = 1, col = 3)\n",
    "\n",
    "for i in data_corr:\n",
    "    fig_s2.add_trace(i, row = 1, col = 4)\n",
    "#for i in spheres_back: \n",
    "#fig_s2.add_trace(i, row = 1, col = 4)\n",
    "\n",
    "fig_s2.update_layout(template = \"plotly_dark\", height = 800, width = 2000)\n",
    "fig_s2.update_xaxes(showgrid=False)\n",
    "fig_s2.update_yaxes(showgrid=False)\n",
    "\n",
    "py.iplot(fig_s2)\n",
    "\n",
    "plotly.offline.plot(fig_s2, filename = 'output_plots/3Dmatrices_spheres2_'+organism+'.html', auto_open=False)"
   ]
  },
  {
   "cell_type": "code",
   "execution_count": null,
   "metadata": {},
   "outputs": [],
   "source": []
  },
  {
   "cell_type": "code",
   "execution_count": null,
   "metadata": {},
   "outputs": [],
   "source": []
  },
  {
   "cell_type": "code",
   "execution_count": null,
   "metadata": {},
   "outputs": [],
   "source": []
  },
  {
   "cell_type": "code",
   "execution_count": null,
   "metadata": {},
   "outputs": [],
   "source": []
  },
  {
   "cell_type": "code",
   "execution_count": null,
   "metadata": {},
   "outputs": [],
   "source": []
  },
  {
   "cell_type": "code",
   "execution_count": null,
   "metadata": {},
   "outputs": [],
   "source": []
  },
  {
   "cell_type": "code",
   "execution_count": null,
   "metadata": {},
   "outputs": [],
   "source": []
  }
 ],
 "metadata": {
  "kernelspec": {
   "display_name": "Python 3",
   "language": "python",
   "name": "python3"
  },
  "language_info": {
   "codemirror_mode": {
    "name": "ipython",
    "version": 3
   },
   "file_extension": ".py",
   "mimetype": "text/x-python",
   "name": "python",
   "nbconvert_exporter": "python",
   "pygments_lexer": "ipython3",
   "version": "3.7.4"
  }
 },
 "nbformat": 4,
 "nbformat_minor": 4
}
