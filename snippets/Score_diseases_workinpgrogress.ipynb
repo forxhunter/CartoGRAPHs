{
 "cells": [
  {
   "cell_type": "markdown",
   "metadata": {},
   "source": [
    "# Score System "
   ]
  },
  {
   "cell_type": "markdown",
   "metadata": {},
   "source": [
    "#### Disease Score ( Human PPI )  \n",
    "+ additional parameter to emphasize disease (sub)category of nodes"
   ]
  },
  {
   "cell_type": "code",
   "execution_count": 1,
   "metadata": {},
   "outputs": [],
   "source": [
    "def get_score_genes_disease(spec_doid):\n",
    "    \n",
    "    sub_cat_genes = {}\n",
    "    for doid,genes in d_do_genes.items():\n",
    "        if spec_doid == doid:\n",
    "            sub_cat_genes[doid] = genes\n",
    "            \n",
    "    return sub_cat_genes.values()"
   ]
  },
  {
   "cell_type": "code",
   "execution_count": null,
   "metadata": {},
   "outputs": [],
   "source": [
    "def disease_subcategory_score(G, gene_list_with_highscore):\n",
    "\n",
    "    # Assign score\n",
    "    d_major_score = {}\n",
    "    major_score = 1\n",
    "    for nd in gene_list_with_highscore:\n",
    "        for n in nd:\n",
    "           # for node in G.nodes():\n",
    "           #     if n == node:\n",
    "            d_major_score[n] = major_score\n",
    "\n",
    "    major_neigh = {}\n",
    "    for n in d_major_score.keys():\n",
    "        l = []\n",
    "        for pair in G.edges():\n",
    "            if n == pair[0]:\n",
    "                l.append(pair[1])\n",
    "                major_neigh[n] = l\n",
    "            elif n == pair[1]:\n",
    "                l.append(pair[0])\n",
    "                major_neigh[n] = l\n",
    "\n",
    "    minor_score = 0.9\n",
    "\n",
    "    d_neigh_score = {}\n",
    "    for node,score in d_major_score.items():\n",
    "        for nd,neigh in major_neigh.items():\n",
    "            for n in neigh:\n",
    "                    if node==nd and n not in d_major_score.keys():\n",
    "                        d_neigh_score[n] = minor_score\n",
    "\n",
    "    d_all_scored = {**d_major_score,**d_neigh_score}\n",
    "\n",
    "    d_no_score = {}\n",
    "    for i in G.nodes():\n",
    "        if i not in d_all_scored.keys():\n",
    "            d_no_score[i] = 0\n",
    "\n",
    "    d_score_nodes = {**d_no_score,**d_all_scored}\n",
    "    \n",
    "    return d_score_nodes"
   ]
  },
  {
   "cell_type": "code",
   "execution_count": null,
   "metadata": {},
   "outputs": [],
   "source": [
    "gene_list_retisarc = get_score_genes_disease('DOID:8538')  # 'reticulosarcoma', 'DOID:8538'): 24,\n",
    "#gene_list_angiosarc = get_score_genes_disease('DOID:0001816') # 'angiosarcoma', 'DOID:0001816'): 18,\n",
    "#gene_list_gliosarc = get_score_genes_disease('DOID:3071') #'gliosarcoma', 'DOID:3071'): 82\n",
    "\n",
    "d_score_retisarc = disease_subcategory_score(G, gene_list_retisarc)\n",
    "#d_score_angiosarc = disease_subcategory_score(G, gene_list_angiosarc)\n",
    "#d_score_gliosarc = disease_subcategory_score(G, gene_list_gliosarc)\n",
    "\n",
    "d_score_retisarc_sorted = {key:d_score_retisarc[key] for key in G.nodes()}"
   ]
  },
  {
   "cell_type": "code",
   "execution_count": null,
   "metadata": {},
   "outputs": [],
   "source": [
    "# d_param --> disease score dict (node id:disease score)\n",
    "\n",
    "feature_df['disease score'] = list(d_param.values())\n",
    "\n",
    "feature_dict = feature_df.to_dict(orient='index')\n",
    "feature_dict_sorted = {key:feature_dict[key] for key in G.nodes()}\n",
    "\n",
    "l_features = [] \n",
    "for i in feature_dict_sorted.items():\n",
    "    k = list(i)\n",
    "    l_features.append(k)"
   ]
  },
  {
   "cell_type": "code",
   "execution_count": null,
   "metadata": {},
   "outputs": [],
   "source": []
  },
  {
   "cell_type": "code",
   "execution_count": null,
   "metadata": {},
   "outputs": [],
   "source": []
  },
  {
   "cell_type": "code",
   "execution_count": null,
   "metadata": {},
   "outputs": [],
   "source": []
  },
  {
   "cell_type": "code",
   "execution_count": null,
   "metadata": {},
   "outputs": [],
   "source": []
  }
 ],
 "metadata": {
  "kernelspec": {
   "display_name": "Python 3",
   "language": "python",
   "name": "python3"
  },
  "language_info": {
   "codemirror_mode": {
    "name": "ipython",
    "version": 3
   },
   "file_extension": ".py",
   "mimetype": "text/x-python",
   "name": "python",
   "nbconvert_exporter": "python",
   "pygments_lexer": "ipython3",
   "version": "3.7.4"
  }
 },
 "nbformat": 4,
 "nbformat_minor": 4
}
