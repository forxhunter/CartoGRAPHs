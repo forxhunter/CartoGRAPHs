{
 "cells": [
  {
   "cell_type": "markdown",
   "metadata": {},
   "source": [
    "# Temporary Script "
   ]
  },
  {
   "cell_type": "markdown",
   "metadata": {},
   "source": [
    "+ to run different Settings for Embedding of 3D tSNE markov RWR (Markov) Distance Matrix"
   ]
  },
  {
   "cell_type": "markdown",
   "metadata": {},
   "source": [
    "### DIFFERENT METRICS"
   ]
  },
  {
   "cell_type": "code",
   "execution_count": null,
   "metadata": {},
   "outputs": [],
   "source": [
    "prplxty3d = 50 # range: 5-50 / default = 30.#\n",
    "density3d = 1.2 # default 12.\n",
    "l_rate3d = 200 # default 200.\n",
    "steps3d = 250 #min 250\n",
    "\n",
    "metric = 'euclidean'\n",
    "#metric = 'correlation'\n",
    "#metric = 'cosine'"
   ]
  },
  {
   "cell_type": "code",
   "execution_count": null,
   "metadata": {},
   "outputs": [],
   "source": [
    "%%time\n",
    "tsne_posG3d = embed_tsne_3D(G, DM, prplxty3d, density3d, l_rate3d, steps3d, metric)"
   ]
  },
  {
   "cell_type": "code",
   "execution_count": null,
   "metadata": {},
   "outputs": [],
   "source": [
    "df_3Dportrait_tsne.to_csv(r'output_csv/3DPortrait_tsne_'+feature+'_Human_prplxt_'+prplxty3d+'dens_'+density3d+'lrate_'+l_rate3d+'steps_'+steps3d+'_'+metric+'.csv', index = True)"
   ]
  },
  {
   "cell_type": "code",
   "execution_count": null,
   "metadata": {},
   "outputs": [],
   "source": [
    "prplxty3d = 50 # range: 5-50 / default = 30.#\n",
    "density3d = 1.2 # default 12.\n",
    "l_rate3d = 200 # default 200.\n",
    "steps3d = 250 #min 250\n",
    "\n",
    "#metric = 'euclidean'\n",
    "metric = 'correlation'\n",
    "#metric = 'cosine'"
   ]
  },
  {
   "cell_type": "code",
   "execution_count": null,
   "metadata": {},
   "outputs": [],
   "source": [
    "%%time\n",
    "tsne_posG3d = embed_tsne_3D(G, DM, prplxty3d, density3d, l_rate3d, steps3d, metric)"
   ]
  },
  {
   "cell_type": "code",
   "execution_count": null,
   "metadata": {},
   "outputs": [],
   "source": [
    "df_3Dportrait_tsne.to_csv(r'output_csv/3DPortrait_tsne_'+feature+'_Human_prplxt_'+prplxty3d+'dens_'+density3d+'lrate_'+l_rate3d+'steps_'+steps3d+'_'+metric+'.csv', index = True)"
   ]
  },
  {
   "cell_type": "code",
   "execution_count": null,
   "metadata": {},
   "outputs": [],
   "source": [
    "prplxty3d = 50 # range: 5-50 / default = 30.#\n",
    "density3d = 1.2 # default 12.\n",
    "l_rate3d = 200 # default 200.\n",
    "steps3d = 250 #min 250\n",
    "\n",
    "#metric = 'euclidean'\n",
    "#metric = 'correlation'\n",
    "metric = 'cosine'"
   ]
  },
  {
   "cell_type": "code",
   "execution_count": null,
   "metadata": {},
   "outputs": [],
   "source": [
    "%%time\n",
    "tsne_posG3d = embed_tsne_3D(G, DM, prplxty3d, density3d, l_rate3d, steps3d, metric)"
   ]
  },
  {
   "cell_type": "code",
   "execution_count": null,
   "metadata": {},
   "outputs": [],
   "source": [
    "df_3Dportrait_tsne.to_csv(r'output_csv/3DPortrait_tsne_'+feature+'_Human_prplxt_'+prplxty3d+'dens_'+density3d+'lrate_'+l_rate3d+'steps_'+steps3d+'_'+metric+'.csv', index = True)"
   ]
  },
  {
   "cell_type": "markdown",
   "metadata": {},
   "source": [
    "### DIFFERENT TSNE SETTINGS"
   ]
  },
  {
   "cell_type": "code",
   "execution_count": null,
   "metadata": {},
   "outputs": [],
   "source": [
    "prplxty3d = 50 # range: 5-50 / default = 30.#\n",
    "density3d = 1.2 # default 12.\n",
    "l_rate3d = 5000 # default 200.\n",
    "steps3d = 1000 #min 250\n",
    "\n",
    "metric = 'correlation'"
   ]
  },
  {
   "cell_type": "code",
   "execution_count": null,
   "metadata": {},
   "outputs": [],
   "source": [
    "%%time\n",
    "tsne_posG3d = embed_tsne_3D(G, DM, prplxty3d, density3d, l_rate3d, steps3d, metric)"
   ]
  },
  {
   "cell_type": "code",
   "execution_count": null,
   "metadata": {},
   "outputs": [],
   "source": [
    "df_3Dportrait_tsne.to_csv(r'output_csv/3DPortrait_tsne_'+feature+'_Human_prplxt_'+prplxty3d+'dens_'+density3d+'lrate_'+l_rate3d+'steps_'+steps3d+'_'+metric+'.csv', index = True)"
   ]
  },
  {
   "cell_type": "code",
   "execution_count": null,
   "metadata": {},
   "outputs": [],
   "source": [
    "prplxty3d = 40 # range: 5-50 / default = 30.#\n",
    "density3d = 1. # default 12.\n",
    "l_rate3d = 5000 # default 200.\n",
    "steps3d = 1000 #min 250\n",
    "\n",
    "metric = 'correlation'"
   ]
  },
  {
   "cell_type": "code",
   "execution_count": null,
   "metadata": {},
   "outputs": [],
   "source": [
    "%%time\n",
    "tsne_posG3d = embed_tsne_3D(G, DM, prplxty3d, density3d, l_rate3d, steps3d, metric)"
   ]
  },
  {
   "cell_type": "code",
   "execution_count": null,
   "metadata": {},
   "outputs": [],
   "source": [
    "df_3Dportrait_tsne.to_csv(r'output_csv/3DPortrait_tsne_'+feature+'_Human_prplxt_'+prplxty3d+'dens_'+density3d+'lrate_'+l_rate3d+'steps_'+steps3d+'_'+metric+'.csv', index = True)"
   ]
  },
  {
   "cell_type": "code",
   "execution_count": null,
   "metadata": {},
   "outputs": [],
   "source": [
    "prplxty3d = 30 # range: 5-50 / default = 30.#\n",
    "density3d = 1. # default 12.\n",
    "l_rate3d = 5000 # default 200.\n",
    "steps3d = 1000 #min 250\n",
    "\n",
    "metric = 'correlation'"
   ]
  },
  {
   "cell_type": "code",
   "execution_count": null,
   "metadata": {},
   "outputs": [],
   "source": [
    "%%time\n",
    "tsne_posG3d = embed_tsne_3D(G, DM, prplxty3d, density3d, l_rate3d, steps3d, metric)"
   ]
  },
  {
   "cell_type": "code",
   "execution_count": null,
   "metadata": {},
   "outputs": [],
   "source": [
    "df_3Dportrait_tsne.to_csv(r'output_csv/3DPortrait_tsne_'+feature+'_Human_prplxt_'+prplxty3d+'dens_'+density3d+'lrate_'+l_rate3d+'steps_'+steps3d+'_'+metric+'.csv', index = True)"
   ]
  },
  {
   "cell_type": "code",
   "execution_count": null,
   "metadata": {},
   "outputs": [],
   "source": []
  },
  {
   "cell_type": "code",
   "execution_count": null,
   "metadata": {},
   "outputs": [],
   "source": []
  },
  {
   "cell_type": "code",
   "execution_count": null,
   "metadata": {},
   "outputs": [],
   "source": []
  },
  {
   "cell_type": "code",
   "execution_count": null,
   "metadata": {},
   "outputs": [],
   "source": []
  }
 ],
 "metadata": {
  "kernelspec": {
   "display_name": "Python 3",
   "language": "python",
   "name": "python3"
  },
  "language_info": {
   "codemirror_mode": {
    "name": "ipython",
    "version": 3
   },
   "file_extension": ".py",
   "mimetype": "text/x-python",
   "name": "python",
   "nbconvert_exporter": "python",
   "pygments_lexer": "ipython3",
   "version": "3.7.4"
  }
 },
 "nbformat": 4,
 "nbformat_minor": 4
}
